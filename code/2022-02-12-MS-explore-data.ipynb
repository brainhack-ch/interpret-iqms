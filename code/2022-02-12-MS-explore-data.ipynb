{
 "cells": [
  {
   "cell_type": "markdown",
   "metadata": {},
   "source": [
    "# Explore MR-ART dataset"
   ]
  },
  {
   "cell_type": "code",
   "execution_count": 1,
   "metadata": {},
   "outputs": [],
   "source": [
    "import pandas as pd\n",
    "import seaborn as sns\n",
    "import numpy as np\n",
    "import plotly.express as px\n",
    "import sklearn.preprocessing\n",
    "import sklearn.decomposition"
   ]
  },
  {
   "cell_type": "code",
   "execution_count": 2,
   "metadata": {},
   "outputs": [],
   "source": [
    "iqms = pd.read_csv(\"../Data/group_T1w.tsv\", sep=\"\\t\")\n",
    "scores = pd.read_csv(\"../Data/scores.tsv\", sep=\"\\t\")"
   ]
  },
  {
   "cell_type": "code",
   "execution_count": 3,
   "metadata": {},
   "outputs": [],
   "source": [
    "scores[\"STAND\"] = scores[\"bids_name\"].str.contains(\"standard\")\n",
    "scores[\"HM1\"] = scores[\"bids_name\"].str.contains(\"motion1\")\n",
    "scores[\"HM2\"] = scores[\"bids_name\"].str.contains(\"motion2\")"
   ]
  },
  {
   "cell_type": "code",
   "execution_count": 4,
   "metadata": {},
   "outputs": [
    {
     "name": "stdout",
     "output_type": "stream",
     "text": [
      "                          bids_name  score  STAND    HM1    HM2  condition\n",
      "0       sub-000103_acq-standard_T1w      1   True  False  False          1\n",
      "1    sub-000103_acq-headmotion1_T1w      2  False   True  False          2\n",
      "2    sub-000103_acq-headmotion2_T1w      3  False  False   True          3\n",
      "3       sub-000148_acq-standard_T1w      1   True  False  False          1\n",
      "4    sub-000148_acq-headmotion1_T1w      3  False   True  False          2\n",
      "..                              ...    ...    ...    ...    ...        ...\n",
      "431  sub-992121_acq-headmotion1_T1w      2  False   True  False          2\n",
      "432  sub-992121_acq-headmotion2_T1w      2  False  False   True          3\n",
      "433     sub-992238_acq-standard_T1w      1   True  False  False          1\n",
      "434  sub-992238_acq-headmotion1_T1w      3  False   True  False          2\n",
      "435  sub-992238_acq-headmotion2_T1w      3  False  False   True          3\n",
      "\n",
      "[436 rows x 6 columns]\n"
     ]
    }
   ],
   "source": [
    "conditions = [\n",
    "    (scores['STAND'] == True),\n",
    "    (scores['HM1'] == True),\n",
    "    (scores['HM2'] == True)]\n",
    "choices = [1, 2, 3]\n",
    "scores['condition'] = np.select(conditions, choices)\n",
    "print(scores)"
   ]
  },
  {
   "cell_type": "code",
   "execution_count": 45,
   "metadata": {},
   "outputs": [
    {
     "data": {
      "text/html": [
       "<div>\n",
       "<style scoped>\n",
       "    .dataframe tbody tr th:only-of-type {\n",
       "        vertical-align: middle;\n",
       "    }\n",
       "\n",
       "    .dataframe tbody tr th {\n",
       "        vertical-align: top;\n",
       "    }\n",
       "\n",
       "    .dataframe thead th {\n",
       "        text-align: right;\n",
       "    }\n",
       "</style>\n",
       "<table border=\"1\" class=\"dataframe\">\n",
       "  <thead>\n",
       "    <tr style=\"text-align: right;\">\n",
       "      <th></th>\n",
       "      <th>bids_name</th>\n",
       "      <th>score</th>\n",
       "      <th>STAND</th>\n",
       "      <th>HM1</th>\n",
       "      <th>HM2</th>\n",
       "      <th>condition</th>\n",
       "    </tr>\n",
       "  </thead>\n",
       "  <tbody>\n",
       "    <tr>\n",
       "      <th>0</th>\n",
       "      <td>sub-000103_acq-standard_T1w</td>\n",
       "      <td>1</td>\n",
       "      <td>True</td>\n",
       "      <td>False</td>\n",
       "      <td>False</td>\n",
       "      <td>1</td>\n",
       "    </tr>\n",
       "    <tr>\n",
       "      <th>1</th>\n",
       "      <td>sub-000103_acq-headmotion1_T1w</td>\n",
       "      <td>2</td>\n",
       "      <td>False</td>\n",
       "      <td>True</td>\n",
       "      <td>False</td>\n",
       "      <td>2</td>\n",
       "    </tr>\n",
       "    <tr>\n",
       "      <th>2</th>\n",
       "      <td>sub-000103_acq-headmotion2_T1w</td>\n",
       "      <td>3</td>\n",
       "      <td>False</td>\n",
       "      <td>False</td>\n",
       "      <td>True</td>\n",
       "      <td>3</td>\n",
       "    </tr>\n",
       "    <tr>\n",
       "      <th>3</th>\n",
       "      <td>sub-000148_acq-standard_T1w</td>\n",
       "      <td>1</td>\n",
       "      <td>True</td>\n",
       "      <td>False</td>\n",
       "      <td>False</td>\n",
       "      <td>1</td>\n",
       "    </tr>\n",
       "    <tr>\n",
       "      <th>4</th>\n",
       "      <td>sub-000148_acq-headmotion1_T1w</td>\n",
       "      <td>3</td>\n",
       "      <td>False</td>\n",
       "      <td>True</td>\n",
       "      <td>False</td>\n",
       "      <td>2</td>\n",
       "    </tr>\n",
       "    <tr>\n",
       "      <th>...</th>\n",
       "      <td>...</td>\n",
       "      <td>...</td>\n",
       "      <td>...</td>\n",
       "      <td>...</td>\n",
       "      <td>...</td>\n",
       "      <td>...</td>\n",
       "    </tr>\n",
       "    <tr>\n",
       "      <th>431</th>\n",
       "      <td>sub-992121_acq-headmotion1_T1w</td>\n",
       "      <td>2</td>\n",
       "      <td>False</td>\n",
       "      <td>True</td>\n",
       "      <td>False</td>\n",
       "      <td>2</td>\n",
       "    </tr>\n",
       "    <tr>\n",
       "      <th>432</th>\n",
       "      <td>sub-992121_acq-headmotion2_T1w</td>\n",
       "      <td>2</td>\n",
       "      <td>False</td>\n",
       "      <td>False</td>\n",
       "      <td>True</td>\n",
       "      <td>3</td>\n",
       "    </tr>\n",
       "    <tr>\n",
       "      <th>433</th>\n",
       "      <td>sub-992238_acq-standard_T1w</td>\n",
       "      <td>1</td>\n",
       "      <td>True</td>\n",
       "      <td>False</td>\n",
       "      <td>False</td>\n",
       "      <td>1</td>\n",
       "    </tr>\n",
       "    <tr>\n",
       "      <th>434</th>\n",
       "      <td>sub-992238_acq-headmotion1_T1w</td>\n",
       "      <td>3</td>\n",
       "      <td>False</td>\n",
       "      <td>True</td>\n",
       "      <td>False</td>\n",
       "      <td>2</td>\n",
       "    </tr>\n",
       "    <tr>\n",
       "      <th>435</th>\n",
       "      <td>sub-992238_acq-headmotion2_T1w</td>\n",
       "      <td>3</td>\n",
       "      <td>False</td>\n",
       "      <td>False</td>\n",
       "      <td>True</td>\n",
       "      <td>3</td>\n",
       "    </tr>\n",
       "  </tbody>\n",
       "</table>\n",
       "<p>436 rows × 6 columns</p>\n",
       "</div>"
      ],
      "text/plain": [
       "                          bids_name  score  STAND    HM1    HM2  condition\n",
       "0       sub-000103_acq-standard_T1w      1   True  False  False          1\n",
       "1    sub-000103_acq-headmotion1_T1w      2  False   True  False          2\n",
       "2    sub-000103_acq-headmotion2_T1w      3  False  False   True          3\n",
       "3       sub-000148_acq-standard_T1w      1   True  False  False          1\n",
       "4    sub-000148_acq-headmotion1_T1w      3  False   True  False          2\n",
       "..                              ...    ...    ...    ...    ...        ...\n",
       "431  sub-992121_acq-headmotion1_T1w      2  False   True  False          2\n",
       "432  sub-992121_acq-headmotion2_T1w      2  False  False   True          3\n",
       "433     sub-992238_acq-standard_T1w      1   True  False  False          1\n",
       "434  sub-992238_acq-headmotion1_T1w      3  False   True  False          2\n",
       "435  sub-992238_acq-headmotion2_T1w      3  False  False   True          3\n",
       "\n",
       "[436 rows x 6 columns]"
      ]
     },
     "execution_count": 45,
     "metadata": {},
     "output_type": "execute_result"
    }
   ],
   "source": [
    "scores"
   ]
  },
  {
   "cell_type": "code",
   "execution_count": 46,
   "metadata": {},
   "outputs": [
    {
     "data": {
      "application/vnd.plotly.v1+json": {
       "config": {
        "plotlyServerURL": "https://plot.ly"
       },
       "data": [
        {
         "alignmentgroup": "True",
         "boxpoints": "all",
         "fillcolor": "rgba(255,255,255,0)",
         "hoveron": "points",
         "hovertemplate": "bids_name=sub-000103_acq-standard_T1w<br>score=%{x}<br>condition=%{y}<extra></extra>",
         "legendgroup": "sub-000103_acq-standard_T1w",
         "line": {
          "color": "rgba(255,255,255,0)"
         },
         "marker": {
          "color": "#636efa"
         },
         "name": "sub-000103_acq-standard_T1w",
         "offsetgroup": "sub-000103_acq-standard_T1w",
         "orientation": "v",
         "pointpos": 0,
         "showlegend": true,
         "type": "box",
         "x": [
          1
         ],
         "x0": " ",
         "xaxis": "x",
         "y": [
          1
         ],
         "y0": " ",
         "yaxis": "y"
        },
        {
         "alignmentgroup": "True",
         "boxpoints": "all",
         "fillcolor": "rgba(255,255,255,0)",
         "hoveron": "points",
         "hovertemplate": "bids_name=sub-000103_acq-headmotion1_T1w<br>score=%{x}<br>condition=%{y}<extra></extra>",
         "legendgroup": "sub-000103_acq-headmotion1_T1w",
         "line": {
          "color": "rgba(255,255,255,0)"
         },
         "marker": {
          "color": "#EF553B"
         },
         "name": "sub-000103_acq-headmotion1_T1w",
         "offsetgroup": "sub-000103_acq-headmotion1_T1w",
         "orientation": "v",
         "pointpos": 0,
         "showlegend": true,
         "type": "box",
         "x": [
          2
         ],
         "x0": " ",
         "xaxis": "x",
         "y": [
          2
         ],
         "y0": " ",
         "yaxis": "y"
        },
        {
         "alignmentgroup": "True",
         "boxpoints": "all",
         "fillcolor": "rgba(255,255,255,0)",
         "hoveron": "points",
         "hovertemplate": "bids_name=sub-000103_acq-headmotion2_T1w<br>score=%{x}<br>condition=%{y}<extra></extra>",
         "legendgroup": "sub-000103_acq-headmotion2_T1w",
         "line": {
          "color": "rgba(255,255,255,0)"
         },
         "marker": {
          "color": "#00cc96"
         },
         "name": "sub-000103_acq-headmotion2_T1w",
         "offsetgroup": "sub-000103_acq-headmotion2_T1w",
         "orientation": "v",
         "pointpos": 0,
         "showlegend": true,
         "type": "box",
         "x": [
          3
         ],
         "x0": " ",
         "xaxis": "x",
         "y": [
          3
         ],
         "y0": " ",
         "yaxis": "y"
        },
        {
         "alignmentgroup": "True",
         "boxpoints": "all",
         "fillcolor": "rgba(255,255,255,0)",
         "hoveron": "points",
         "hovertemplate": "bids_name=sub-000148_acq-standard_T1w<br>score=%{x}<br>condition=%{y}<extra></extra>",
         "legendgroup": "sub-000148_acq-standard_T1w",
         "line": {
          "color": "rgba(255,255,255,0)"
         },
         "marker": {
          "color": "#ab63fa"
         },
         "name": "sub-000148_acq-standard_T1w",
         "offsetgroup": "sub-000148_acq-standard_T1w",
         "orientation": "v",
         "pointpos": 0,
         "showlegend": true,
         "type": "box",
         "x": [
          1
         ],
         "x0": " ",
         "xaxis": "x",
         "y": [
          1
         ],
         "y0": " ",
         "yaxis": "y"
        },
        {
         "alignmentgroup": "True",
         "boxpoints": "all",
         "fillcolor": "rgba(255,255,255,0)",
         "hoveron": "points",
         "hovertemplate": "bids_name=sub-000148_acq-headmotion1_T1w<br>score=%{x}<br>condition=%{y}<extra></extra>",
         "legendgroup": "sub-000148_acq-headmotion1_T1w",
         "line": {
          "color": "rgba(255,255,255,0)"
         },
         "marker": {
          "color": "#FFA15A"
         },
         "name": "sub-000148_acq-headmotion1_T1w",
         "offsetgroup": "sub-000148_acq-headmotion1_T1w",
         "orientation": "v",
         "pointpos": 0,
         "showlegend": true,
         "type": "box",
         "x": [
          3
         ],
         "x0": " ",
         "xaxis": "x",
         "y": [
          2
         ],
         "y0": " ",
         "yaxis": "y"
        },
        {
         "alignmentgroup": "True",
         "boxpoints": "all",
         "fillcolor": "rgba(255,255,255,0)",
         "hoveron": "points",
         "hovertemplate": "bids_name=sub-000148_acq-headmotion2_T1w<br>score=%{x}<br>condition=%{y}<extra></extra>",
         "legendgroup": "sub-000148_acq-headmotion2_T1w",
         "line": {
          "color": "rgba(255,255,255,0)"
         },
         "marker": {
          "color": "#19d3f3"
         },
         "name": "sub-000148_acq-headmotion2_T1w",
         "offsetgroup": "sub-000148_acq-headmotion2_T1w",
         "orientation": "v",
         "pointpos": 0,
         "showlegend": true,
         "type": "box",
         "x": [
          3
         ],
         "x0": " ",
         "xaxis": "x",
         "y": [
          3
         ],
         "y0": " ",
         "yaxis": "y"
        },
        {
         "alignmentgroup": "True",
         "boxpoints": "all",
         "fillcolor": "rgba(255,255,255,0)",
         "hoveron": "points",
         "hovertemplate": "bids_name=sub-000149_acq-standard_T1w<br>score=%{x}<br>condition=%{y}<extra></extra>",
         "legendgroup": "sub-000149_acq-standard_T1w",
         "line": {
          "color": "rgba(255,255,255,0)"
         },
         "marker": {
          "color": "#FF6692"
         },
         "name": "sub-000149_acq-standard_T1w",
         "offsetgroup": "sub-000149_acq-standard_T1w",
         "orientation": "v",
         "pointpos": 0,
         "showlegend": true,
         "type": "box",
         "x": [
          1
         ],
         "x0": " ",
         "xaxis": "x",
         "y": [
          1
         ],
         "y0": " ",
         "yaxis": "y"
        },
        {
         "alignmentgroup": "True",
         "boxpoints": "all",
         "fillcolor": "rgba(255,255,255,0)",
         "hoveron": "points",
         "hovertemplate": "bids_name=sub-000149_acq-headmotion1_T1w<br>score=%{x}<br>condition=%{y}<extra></extra>",
         "legendgroup": "sub-000149_acq-headmotion1_T1w",
         "line": {
          "color": "rgba(255,255,255,0)"
         },
         "marker": {
          "color": "#B6E880"
         },
         "name": "sub-000149_acq-headmotion1_T1w",
         "offsetgroup": "sub-000149_acq-headmotion1_T1w",
         "orientation": "v",
         "pointpos": 0,
         "showlegend": true,
         "type": "box",
         "x": [
          3
         ],
         "x0": " ",
         "xaxis": "x",
         "y": [
          2
         ],
         "y0": " ",
         "yaxis": "y"
        },
        {
         "alignmentgroup": "True",
         "boxpoints": "all",
         "fillcolor": "rgba(255,255,255,0)",
         "hoveron": "points",
         "hovertemplate": "bids_name=sub-000149_acq-headmotion2_T1w<br>score=%{x}<br>condition=%{y}<extra></extra>",
         "legendgroup": "sub-000149_acq-headmotion2_T1w",
         "line": {
          "color": "rgba(255,255,255,0)"
         },
         "marker": {
          "color": "#FF97FF"
         },
         "name": "sub-000149_acq-headmotion2_T1w",
         "offsetgroup": "sub-000149_acq-headmotion2_T1w",
         "orientation": "v",
         "pointpos": 0,
         "showlegend": true,
         "type": "box",
         "x": [
          3
         ],
         "x0": " ",
         "xaxis": "x",
         "y": [
          3
         ],
         "y0": " ",
         "yaxis": "y"
        },
        {
         "alignmentgroup": "True",
         "boxpoints": "all",
         "fillcolor": "rgba(255,255,255,0)",
         "hoveron": "points",
         "hovertemplate": "bids_name=sub-000159_acq-standard_T1w<br>score=%{x}<br>condition=%{y}<extra></extra>",
         "legendgroup": "sub-000159_acq-standard_T1w",
         "line": {
          "color": "rgba(255,255,255,0)"
         },
         "marker": {
          "color": "#FECB52"
         },
         "name": "sub-000159_acq-standard_T1w",
         "offsetgroup": "sub-000159_acq-standard_T1w",
         "orientation": "v",
         "pointpos": 0,
         "showlegend": true,
         "type": "box",
         "x": [
          1
         ],
         "x0": " ",
         "xaxis": "x",
         "y": [
          1
         ],
         "y0": " ",
         "yaxis": "y"
        },
        {
         "alignmentgroup": "True",
         "boxpoints": "all",
         "fillcolor": "rgba(255,255,255,0)",
         "hoveron": "points",
         "hovertemplate": "bids_name=sub-000159_acq-headmotion1_T1w<br>score=%{x}<br>condition=%{y}<extra></extra>",
         "legendgroup": "sub-000159_acq-headmotion1_T1w",
         "line": {
          "color": "rgba(255,255,255,0)"
         },
         "marker": {
          "color": "#636efa"
         },
         "name": "sub-000159_acq-headmotion1_T1w",
         "offsetgroup": "sub-000159_acq-headmotion1_T1w",
         "orientation": "v",
         "pointpos": 0,
         "showlegend": true,
         "type": "box",
         "x": [
          3
         ],
         "x0": " ",
         "xaxis": "x",
         "y": [
          2
         ],
         "y0": " ",
         "yaxis": "y"
        },
        {
         "alignmentgroup": "True",
         "boxpoints": "all",
         "fillcolor": "rgba(255,255,255,0)",
         "hoveron": "points",
         "hovertemplate": "bids_name=sub-000159_acq-headmotion2_T1w<br>score=%{x}<br>condition=%{y}<extra></extra>",
         "legendgroup": "sub-000159_acq-headmotion2_T1w",
         "line": {
          "color": "rgba(255,255,255,0)"
         },
         "marker": {
          "color": "#EF553B"
         },
         "name": "sub-000159_acq-headmotion2_T1w",
         "offsetgroup": "sub-000159_acq-headmotion2_T1w",
         "orientation": "v",
         "pointpos": 0,
         "showlegend": true,
         "type": "box",
         "x": [
          3
         ],
         "x0": " ",
         "xaxis": "x",
         "y": [
          3
         ],
         "y0": " ",
         "yaxis": "y"
        },
        {
         "alignmentgroup": "True",
         "boxpoints": "all",
         "fillcolor": "rgba(255,255,255,0)",
         "hoveron": "points",
         "hovertemplate": "bids_name=sub-000175_acq-standard_T1w<br>score=%{x}<br>condition=%{y}<extra></extra>",
         "legendgroup": "sub-000175_acq-standard_T1w",
         "line": {
          "color": "rgba(255,255,255,0)"
         },
         "marker": {
          "color": "#00cc96"
         },
         "name": "sub-000175_acq-standard_T1w",
         "offsetgroup": "sub-000175_acq-standard_T1w",
         "orientation": "v",
         "pointpos": 0,
         "showlegend": true,
         "type": "box",
         "x": [
          1
         ],
         "x0": " ",
         "xaxis": "x",
         "y": [
          1
         ],
         "y0": " ",
         "yaxis": "y"
        },
        {
         "alignmentgroup": "True",
         "boxpoints": "all",
         "fillcolor": "rgba(255,255,255,0)",
         "hoveron": "points",
         "hovertemplate": "bids_name=sub-000175_acq-headmotion1_T1w<br>score=%{x}<br>condition=%{y}<extra></extra>",
         "legendgroup": "sub-000175_acq-headmotion1_T1w",
         "line": {
          "color": "rgba(255,255,255,0)"
         },
         "marker": {
          "color": "#ab63fa"
         },
         "name": "sub-000175_acq-headmotion1_T1w",
         "offsetgroup": "sub-000175_acq-headmotion1_T1w",
         "orientation": "v",
         "pointpos": 0,
         "showlegend": true,
         "type": "box",
         "x": [
          2
         ],
         "x0": " ",
         "xaxis": "x",
         "y": [
          2
         ],
         "y0": " ",
         "yaxis": "y"
        },
        {
         "alignmentgroup": "True",
         "boxpoints": "all",
         "fillcolor": "rgba(255,255,255,0)",
         "hoveron": "points",
         "hovertemplate": "bids_name=sub-000175_acq-headmotion2_T1w<br>score=%{x}<br>condition=%{y}<extra></extra>",
         "legendgroup": "sub-000175_acq-headmotion2_T1w",
         "line": {
          "color": "rgba(255,255,255,0)"
         },
         "marker": {
          "color": "#FFA15A"
         },
         "name": "sub-000175_acq-headmotion2_T1w",
         "offsetgroup": "sub-000175_acq-headmotion2_T1w",
         "orientation": "v",
         "pointpos": 0,
         "showlegend": true,
         "type": "box",
         "x": [
          3
         ],
         "x0": " ",
         "xaxis": "x",
         "y": [
          3
         ],
         "y0": " ",
         "yaxis": "y"
        },
        {
         "alignmentgroup": "True",
         "boxpoints": "all",
         "fillcolor": "rgba(255,255,255,0)",
         "hoveron": "points",
         "hovertemplate": "bids_name=sub-000179_acq-standard_T1w<br>score=%{x}<br>condition=%{y}<extra></extra>",
         "legendgroup": "sub-000179_acq-standard_T1w",
         "line": {
          "color": "rgba(255,255,255,0)"
         },
         "marker": {
          "color": "#19d3f3"
         },
         "name": "sub-000179_acq-standard_T1w",
         "offsetgroup": "sub-000179_acq-standard_T1w",
         "orientation": "v",
         "pointpos": 0,
         "showlegend": true,
         "type": "box",
         "x": [
          1
         ],
         "x0": " ",
         "xaxis": "x",
         "y": [
          1
         ],
         "y0": " ",
         "yaxis": "y"
        },
        {
         "alignmentgroup": "True",
         "boxpoints": "all",
         "fillcolor": "rgba(255,255,255,0)",
         "hoveron": "points",
         "hovertemplate": "bids_name=sub-000179_acq-headmotion1_T1w<br>score=%{x}<br>condition=%{y}<extra></extra>",
         "legendgroup": "sub-000179_acq-headmotion1_T1w",
         "line": {
          "color": "rgba(255,255,255,0)"
         },
         "marker": {
          "color": "#FF6692"
         },
         "name": "sub-000179_acq-headmotion1_T1w",
         "offsetgroup": "sub-000179_acq-headmotion1_T1w",
         "orientation": "v",
         "pointpos": 0,
         "showlegend": true,
         "type": "box",
         "x": [
          2
         ],
         "x0": " ",
         "xaxis": "x",
         "y": [
          2
         ],
         "y0": " ",
         "yaxis": "y"
        },
        {
         "alignmentgroup": "True",
         "boxpoints": "all",
         "fillcolor": "rgba(255,255,255,0)",
         "hoveron": "points",
         "hovertemplate": "bids_name=sub-000179_acq-headmotion2_T1w<br>score=%{x}<br>condition=%{y}<extra></extra>",
         "legendgroup": "sub-000179_acq-headmotion2_T1w",
         "line": {
          "color": "rgba(255,255,255,0)"
         },
         "marker": {
          "color": "#B6E880"
         },
         "name": "sub-000179_acq-headmotion2_T1w",
         "offsetgroup": "sub-000179_acq-headmotion2_T1w",
         "orientation": "v",
         "pointpos": 0,
         "showlegend": true,
         "type": "box",
         "x": [
          2
         ],
         "x0": " ",
         "xaxis": "x",
         "y": [
          3
         ],
         "y0": " ",
         "yaxis": "y"
        },
        {
         "alignmentgroup": "True",
         "boxpoints": "all",
         "fillcolor": "rgba(255,255,255,0)",
         "hoveron": "points",
         "hovertemplate": "bids_name=sub-000183_acq-standard_T1w<br>score=%{x}<br>condition=%{y}<extra></extra>",
         "legendgroup": "sub-000183_acq-standard_T1w",
         "line": {
          "color": "rgba(255,255,255,0)"
         },
         "marker": {
          "color": "#FF97FF"
         },
         "name": "sub-000183_acq-standard_T1w",
         "offsetgroup": "sub-000183_acq-standard_T1w",
         "orientation": "v",
         "pointpos": 0,
         "showlegend": true,
         "type": "box",
         "x": [
          2
         ],
         "x0": " ",
         "xaxis": "x",
         "y": [
          1
         ],
         "y0": " ",
         "yaxis": "y"
        },
        {
         "alignmentgroup": "True",
         "boxpoints": "all",
         "fillcolor": "rgba(255,255,255,0)",
         "hoveron": "points",
         "hovertemplate": "bids_name=sub-000183_acq-headmotion1_T1w<br>score=%{x}<br>condition=%{y}<extra></extra>",
         "legendgroup": "sub-000183_acq-headmotion1_T1w",
         "line": {
          "color": "rgba(255,255,255,0)"
         },
         "marker": {
          "color": "#FECB52"
         },
         "name": "sub-000183_acq-headmotion1_T1w",
         "offsetgroup": "sub-000183_acq-headmotion1_T1w",
         "orientation": "v",
         "pointpos": 0,
         "showlegend": true,
         "type": "box",
         "x": [
          2
         ],
         "x0": " ",
         "xaxis": "x",
         "y": [
          2
         ],
         "y0": " ",
         "yaxis": "y"
        },
        {
         "alignmentgroup": "True",
         "boxpoints": "all",
         "fillcolor": "rgba(255,255,255,0)",
         "hoveron": "points",
         "hovertemplate": "bids_name=sub-000183_acq-headmotion2_T1w<br>score=%{x}<br>condition=%{y}<extra></extra>",
         "legendgroup": "sub-000183_acq-headmotion2_T1w",
         "line": {
          "color": "rgba(255,255,255,0)"
         },
         "marker": {
          "color": "#636efa"
         },
         "name": "sub-000183_acq-headmotion2_T1w",
         "offsetgroup": "sub-000183_acq-headmotion2_T1w",
         "orientation": "v",
         "pointpos": 0,
         "showlegend": true,
         "type": "box",
         "x": [
          3
         ],
         "x0": " ",
         "xaxis": "x",
         "y": [
          3
         ],
         "y0": " ",
         "yaxis": "y"
        },
        {
         "alignmentgroup": "True",
         "boxpoints": "all",
         "fillcolor": "rgba(255,255,255,0)",
         "hoveron": "points",
         "hovertemplate": "bids_name=sub-003617_acq-standard_T1w<br>score=%{x}<br>condition=%{y}<extra></extra>",
         "legendgroup": "sub-003617_acq-standard_T1w",
         "line": {
          "color": "rgba(255,255,255,0)"
         },
         "marker": {
          "color": "#EF553B"
         },
         "name": "sub-003617_acq-standard_T1w",
         "offsetgroup": "sub-003617_acq-standard_T1w",
         "orientation": "v",
         "pointpos": 0,
         "showlegend": true,
         "type": "box",
         "x": [
          1
         ],
         "x0": " ",
         "xaxis": "x",
         "y": [
          1
         ],
         "y0": " ",
         "yaxis": "y"
        },
        {
         "alignmentgroup": "True",
         "boxpoints": "all",
         "fillcolor": "rgba(255,255,255,0)",
         "hoveron": "points",
         "hovertemplate": "bids_name=sub-003617_acq-headmotion1_T1w<br>score=%{x}<br>condition=%{y}<extra></extra>",
         "legendgroup": "sub-003617_acq-headmotion1_T1w",
         "line": {
          "color": "rgba(255,255,255,0)"
         },
         "marker": {
          "color": "#00cc96"
         },
         "name": "sub-003617_acq-headmotion1_T1w",
         "offsetgroup": "sub-003617_acq-headmotion1_T1w",
         "orientation": "v",
         "pointpos": 0,
         "showlegend": true,
         "type": "box",
         "x": [
          2
         ],
         "x0": " ",
         "xaxis": "x",
         "y": [
          2
         ],
         "y0": " ",
         "yaxis": "y"
        },
        {
         "alignmentgroup": "True",
         "boxpoints": "all",
         "fillcolor": "rgba(255,255,255,0)",
         "hoveron": "points",
         "hovertemplate": "bids_name=sub-003617_acq-headmotion2_T1w<br>score=%{x}<br>condition=%{y}<extra></extra>",
         "legendgroup": "sub-003617_acq-headmotion2_T1w",
         "line": {
          "color": "rgba(255,255,255,0)"
         },
         "marker": {
          "color": "#ab63fa"
         },
         "name": "sub-003617_acq-headmotion2_T1w",
         "offsetgroup": "sub-003617_acq-headmotion2_T1w",
         "orientation": "v",
         "pointpos": 0,
         "showlegend": true,
         "type": "box",
         "x": [
          3
         ],
         "x0": " ",
         "xaxis": "x",
         "y": [
          3
         ],
         "y0": " ",
         "yaxis": "y"
        },
        {
         "alignmentgroup": "True",
         "boxpoints": "all",
         "fillcolor": "rgba(255,255,255,0)",
         "hoveron": "points",
         "hovertemplate": "bids_name=sub-009673_acq-standard_T1w<br>score=%{x}<br>condition=%{y}<extra></extra>",
         "legendgroup": "sub-009673_acq-standard_T1w",
         "line": {
          "color": "rgba(255,255,255,0)"
         },
         "marker": {
          "color": "#FFA15A"
         },
         "name": "sub-009673_acq-standard_T1w",
         "offsetgroup": "sub-009673_acq-standard_T1w",
         "orientation": "v",
         "pointpos": 0,
         "showlegend": true,
         "type": "box",
         "x": [
          1
         ],
         "x0": " ",
         "xaxis": "x",
         "y": [
          1
         ],
         "y0": " ",
         "yaxis": "y"
        },
        {
         "alignmentgroup": "True",
         "boxpoints": "all",
         "fillcolor": "rgba(255,255,255,0)",
         "hoveron": "points",
         "hovertemplate": "bids_name=sub-009673_acq-headmotion1_T1w<br>score=%{x}<br>condition=%{y}<extra></extra>",
         "legendgroup": "sub-009673_acq-headmotion1_T1w",
         "line": {
          "color": "rgba(255,255,255,0)"
         },
         "marker": {
          "color": "#19d3f3"
         },
         "name": "sub-009673_acq-headmotion1_T1w",
         "offsetgroup": "sub-009673_acq-headmotion1_T1w",
         "orientation": "v",
         "pointpos": 0,
         "showlegend": true,
         "type": "box",
         "x": [
          2
         ],
         "x0": " ",
         "xaxis": "x",
         "y": [
          2
         ],
         "y0": " ",
         "yaxis": "y"
        },
        {
         "alignmentgroup": "True",
         "boxpoints": "all",
         "fillcolor": "rgba(255,255,255,0)",
         "hoveron": "points",
         "hovertemplate": "bids_name=sub-009673_acq-headmotion2_T1w<br>score=%{x}<br>condition=%{y}<extra></extra>",
         "legendgroup": "sub-009673_acq-headmotion2_T1w",
         "line": {
          "color": "rgba(255,255,255,0)"
         },
         "marker": {
          "color": "#FF6692"
         },
         "name": "sub-009673_acq-headmotion2_T1w",
         "offsetgroup": "sub-009673_acq-headmotion2_T1w",
         "orientation": "v",
         "pointpos": 0,
         "showlegend": true,
         "type": "box",
         "x": [
          3
         ],
         "x0": " ",
         "xaxis": "x",
         "y": [
          3
         ],
         "y0": " ",
         "yaxis": "y"
        },
        {
         "alignmentgroup": "True",
         "boxpoints": "all",
         "fillcolor": "rgba(255,255,255,0)",
         "hoveron": "points",
         "hovertemplate": "bids_name=sub-010769_acq-standard_T1w<br>score=%{x}<br>condition=%{y}<extra></extra>",
         "legendgroup": "sub-010769_acq-standard_T1w",
         "line": {
          "color": "rgba(255,255,255,0)"
         },
         "marker": {
          "color": "#B6E880"
         },
         "name": "sub-010769_acq-standard_T1w",
         "offsetgroup": "sub-010769_acq-standard_T1w",
         "orientation": "v",
         "pointpos": 0,
         "showlegend": true,
         "type": "box",
         "x": [
          1
         ],
         "x0": " ",
         "xaxis": "x",
         "y": [
          1
         ],
         "y0": " ",
         "yaxis": "y"
        },
        {
         "alignmentgroup": "True",
         "boxpoints": "all",
         "fillcolor": "rgba(255,255,255,0)",
         "hoveron": "points",
         "hovertemplate": "bids_name=sub-010769_acq-headmotion1_T1w<br>score=%{x}<br>condition=%{y}<extra></extra>",
         "legendgroup": "sub-010769_acq-headmotion1_T1w",
         "line": {
          "color": "rgba(255,255,255,0)"
         },
         "marker": {
          "color": "#FF97FF"
         },
         "name": "sub-010769_acq-headmotion1_T1w",
         "offsetgroup": "sub-010769_acq-headmotion1_T1w",
         "orientation": "v",
         "pointpos": 0,
         "showlegend": true,
         "type": "box",
         "x": [
          3
         ],
         "x0": " ",
         "xaxis": "x",
         "y": [
          2
         ],
         "y0": " ",
         "yaxis": "y"
        },
        {
         "alignmentgroup": "True",
         "boxpoints": "all",
         "fillcolor": "rgba(255,255,255,0)",
         "hoveron": "points",
         "hovertemplate": "bids_name=sub-010769_acq-headmotion2_T1w<br>score=%{x}<br>condition=%{y}<extra></extra>",
         "legendgroup": "sub-010769_acq-headmotion2_T1w",
         "line": {
          "color": "rgba(255,255,255,0)"
         },
         "marker": {
          "color": "#FECB52"
         },
         "name": "sub-010769_acq-headmotion2_T1w",
         "offsetgroup": "sub-010769_acq-headmotion2_T1w",
         "orientation": "v",
         "pointpos": 0,
         "showlegend": true,
         "type": "box",
         "x": [
          3
         ],
         "x0": " ",
         "xaxis": "x",
         "y": [
          3
         ],
         "y0": " ",
         "yaxis": "y"
        },
        {
         "alignmentgroup": "True",
         "boxpoints": "all",
         "fillcolor": "rgba(255,255,255,0)",
         "hoveron": "points",
         "hovertemplate": "bids_name=sub-012059_acq-standard_T1w<br>score=%{x}<br>condition=%{y}<extra></extra>",
         "legendgroup": "sub-012059_acq-standard_T1w",
         "line": {
          "color": "rgba(255,255,255,0)"
         },
         "marker": {
          "color": "#636efa"
         },
         "name": "sub-012059_acq-standard_T1w",
         "offsetgroup": "sub-012059_acq-standard_T1w",
         "orientation": "v",
         "pointpos": 0,
         "showlegend": true,
         "type": "box",
         "x": [
          1
         ],
         "x0": " ",
         "xaxis": "x",
         "y": [
          1
         ],
         "y0": " ",
         "yaxis": "y"
        },
        {
         "alignmentgroup": "True",
         "boxpoints": "all",
         "fillcolor": "rgba(255,255,255,0)",
         "hoveron": "points",
         "hovertemplate": "bids_name=sub-012059_acq-headmotion1_T1w<br>score=%{x}<br>condition=%{y}<extra></extra>",
         "legendgroup": "sub-012059_acq-headmotion1_T1w",
         "line": {
          "color": "rgba(255,255,255,0)"
         },
         "marker": {
          "color": "#EF553B"
         },
         "name": "sub-012059_acq-headmotion1_T1w",
         "offsetgroup": "sub-012059_acq-headmotion1_T1w",
         "orientation": "v",
         "pointpos": 0,
         "showlegend": true,
         "type": "box",
         "x": [
          3
         ],
         "x0": " ",
         "xaxis": "x",
         "y": [
          2
         ],
         "y0": " ",
         "yaxis": "y"
        },
        {
         "alignmentgroup": "True",
         "boxpoints": "all",
         "fillcolor": "rgba(255,255,255,0)",
         "hoveron": "points",
         "hovertemplate": "bids_name=sub-012059_acq-headmotion2_T1w<br>score=%{x}<br>condition=%{y}<extra></extra>",
         "legendgroup": "sub-012059_acq-headmotion2_T1w",
         "line": {
          "color": "rgba(255,255,255,0)"
         },
         "marker": {
          "color": "#00cc96"
         },
         "name": "sub-012059_acq-headmotion2_T1w",
         "offsetgroup": "sub-012059_acq-headmotion2_T1w",
         "orientation": "v",
         "pointpos": 0,
         "showlegend": true,
         "type": "box",
         "x": [
          2
         ],
         "x0": " ",
         "xaxis": "x",
         "y": [
          3
         ],
         "y0": " ",
         "yaxis": "y"
        },
        {
         "alignmentgroup": "True",
         "boxpoints": "all",
         "fillcolor": "rgba(255,255,255,0)",
         "hoveron": "points",
         "hovertemplate": "bids_name=sub-012322_acq-standard_T1w<br>score=%{x}<br>condition=%{y}<extra></extra>",
         "legendgroup": "sub-012322_acq-standard_T1w",
         "line": {
          "color": "rgba(255,255,255,0)"
         },
         "marker": {
          "color": "#ab63fa"
         },
         "name": "sub-012322_acq-standard_T1w",
         "offsetgroup": "sub-012322_acq-standard_T1w",
         "orientation": "v",
         "pointpos": 0,
         "showlegend": true,
         "type": "box",
         "x": [
          1
         ],
         "x0": " ",
         "xaxis": "x",
         "y": [
          1
         ],
         "y0": " ",
         "yaxis": "y"
        },
        {
         "alignmentgroup": "True",
         "boxpoints": "all",
         "fillcolor": "rgba(255,255,255,0)",
         "hoveron": "points",
         "hovertemplate": "bids_name=sub-012322_acq-headmotion1_T1w<br>score=%{x}<br>condition=%{y}<extra></extra>",
         "legendgroup": "sub-012322_acq-headmotion1_T1w",
         "line": {
          "color": "rgba(255,255,255,0)"
         },
         "marker": {
          "color": "#FFA15A"
         },
         "name": "sub-012322_acq-headmotion1_T1w",
         "offsetgroup": "sub-012322_acq-headmotion1_T1w",
         "orientation": "v",
         "pointpos": 0,
         "showlegend": true,
         "type": "box",
         "x": [
          3
         ],
         "x0": " ",
         "xaxis": "x",
         "y": [
          2
         ],
         "y0": " ",
         "yaxis": "y"
        },
        {
         "alignmentgroup": "True",
         "boxpoints": "all",
         "fillcolor": "rgba(255,255,255,0)",
         "hoveron": "points",
         "hovertemplate": "bids_name=sub-012322_acq-headmotion2_T1w<br>score=%{x}<br>condition=%{y}<extra></extra>",
         "legendgroup": "sub-012322_acq-headmotion2_T1w",
         "line": {
          "color": "rgba(255,255,255,0)"
         },
         "marker": {
          "color": "#19d3f3"
         },
         "name": "sub-012322_acq-headmotion2_T1w",
         "offsetgroup": "sub-012322_acq-headmotion2_T1w",
         "orientation": "v",
         "pointpos": 0,
         "showlegend": true,
         "type": "box",
         "x": [
          3
         ],
         "x0": " ",
         "xaxis": "x",
         "y": [
          3
         ],
         "y0": " ",
         "yaxis": "y"
        },
        {
         "alignmentgroup": "True",
         "boxpoints": "all",
         "fillcolor": "rgba(255,255,255,0)",
         "hoveron": "points",
         "hovertemplate": "bids_name=sub-016504_acq-standard_T1w<br>score=%{x}<br>condition=%{y}<extra></extra>",
         "legendgroup": "sub-016504_acq-standard_T1w",
         "line": {
          "color": "rgba(255,255,255,0)"
         },
         "marker": {
          "color": "#FF6692"
         },
         "name": "sub-016504_acq-standard_T1w",
         "offsetgroup": "sub-016504_acq-standard_T1w",
         "orientation": "v",
         "pointpos": 0,
         "showlegend": true,
         "type": "box",
         "x": [
          2
         ],
         "x0": " ",
         "xaxis": "x",
         "y": [
          1
         ],
         "y0": " ",
         "yaxis": "y"
        },
        {
         "alignmentgroup": "True",
         "boxpoints": "all",
         "fillcolor": "rgba(255,255,255,0)",
         "hoveron": "points",
         "hovertemplate": "bids_name=sub-016504_acq-headmotion1_T1w<br>score=%{x}<br>condition=%{y}<extra></extra>",
         "legendgroup": "sub-016504_acq-headmotion1_T1w",
         "line": {
          "color": "rgba(255,255,255,0)"
         },
         "marker": {
          "color": "#B6E880"
         },
         "name": "sub-016504_acq-headmotion1_T1w",
         "offsetgroup": "sub-016504_acq-headmotion1_T1w",
         "orientation": "v",
         "pointpos": 0,
         "showlegend": true,
         "type": "box",
         "x": [
          3
         ],
         "x0": " ",
         "xaxis": "x",
         "y": [
          2
         ],
         "y0": " ",
         "yaxis": "y"
        },
        {
         "alignmentgroup": "True",
         "boxpoints": "all",
         "fillcolor": "rgba(255,255,255,0)",
         "hoveron": "points",
         "hovertemplate": "bids_name=sub-016504_acq-headmotion2_T1w<br>score=%{x}<br>condition=%{y}<extra></extra>",
         "legendgroup": "sub-016504_acq-headmotion2_T1w",
         "line": {
          "color": "rgba(255,255,255,0)"
         },
         "marker": {
          "color": "#FF97FF"
         },
         "name": "sub-016504_acq-headmotion2_T1w",
         "offsetgroup": "sub-016504_acq-headmotion2_T1w",
         "orientation": "v",
         "pointpos": 0,
         "showlegend": true,
         "type": "box",
         "x": [
          3
         ],
         "x0": " ",
         "xaxis": "x",
         "y": [
          3
         ],
         "y0": " ",
         "yaxis": "y"
        },
        {
         "alignmentgroup": "True",
         "boxpoints": "all",
         "fillcolor": "rgba(255,255,255,0)",
         "hoveron": "points",
         "hovertemplate": "bids_name=sub-067018_acq-standard_T1w<br>score=%{x}<br>condition=%{y}<extra></extra>",
         "legendgroup": "sub-067018_acq-standard_T1w",
         "line": {
          "color": "rgba(255,255,255,0)"
         },
         "marker": {
          "color": "#FECB52"
         },
         "name": "sub-067018_acq-standard_T1w",
         "offsetgroup": "sub-067018_acq-standard_T1w",
         "orientation": "v",
         "pointpos": 0,
         "showlegend": true,
         "type": "box",
         "x": [
          1
         ],
         "x0": " ",
         "xaxis": "x",
         "y": [
          1
         ],
         "y0": " ",
         "yaxis": "y"
        },
        {
         "alignmentgroup": "True",
         "boxpoints": "all",
         "fillcolor": "rgba(255,255,255,0)",
         "hoveron": "points",
         "hovertemplate": "bids_name=sub-067018_acq-headmotion1_T1w<br>score=%{x}<br>condition=%{y}<extra></extra>",
         "legendgroup": "sub-067018_acq-headmotion1_T1w",
         "line": {
          "color": "rgba(255,255,255,0)"
         },
         "marker": {
          "color": "#636efa"
         },
         "name": "sub-067018_acq-headmotion1_T1w",
         "offsetgroup": "sub-067018_acq-headmotion1_T1w",
         "orientation": "v",
         "pointpos": 0,
         "showlegend": true,
         "type": "box",
         "x": [
          2
         ],
         "x0": " ",
         "xaxis": "x",
         "y": [
          2
         ],
         "y0": " ",
         "yaxis": "y"
        },
        {
         "alignmentgroup": "True",
         "boxpoints": "all",
         "fillcolor": "rgba(255,255,255,0)",
         "hoveron": "points",
         "hovertemplate": "bids_name=sub-067018_acq-headmotion2_T1w<br>score=%{x}<br>condition=%{y}<extra></extra>",
         "legendgroup": "sub-067018_acq-headmotion2_T1w",
         "line": {
          "color": "rgba(255,255,255,0)"
         },
         "marker": {
          "color": "#EF553B"
         },
         "name": "sub-067018_acq-headmotion2_T1w",
         "offsetgroup": "sub-067018_acq-headmotion2_T1w",
         "orientation": "v",
         "pointpos": 0,
         "showlegend": true,
         "type": "box",
         "x": [
          2
         ],
         "x0": " ",
         "xaxis": "x",
         "y": [
          3
         ],
         "y0": " ",
         "yaxis": "y"
        },
        {
         "alignmentgroup": "True",
         "boxpoints": "all",
         "fillcolor": "rgba(255,255,255,0)",
         "hoveron": "points",
         "hovertemplate": "bids_name=sub-089207_acq-standard_T1w<br>score=%{x}<br>condition=%{y}<extra></extra>",
         "legendgroup": "sub-089207_acq-standard_T1w",
         "line": {
          "color": "rgba(255,255,255,0)"
         },
         "marker": {
          "color": "#00cc96"
         },
         "name": "sub-089207_acq-standard_T1w",
         "offsetgroup": "sub-089207_acq-standard_T1w",
         "orientation": "v",
         "pointpos": 0,
         "showlegend": true,
         "type": "box",
         "x": [
          1
         ],
         "x0": " ",
         "xaxis": "x",
         "y": [
          1
         ],
         "y0": " ",
         "yaxis": "y"
        },
        {
         "alignmentgroup": "True",
         "boxpoints": "all",
         "fillcolor": "rgba(255,255,255,0)",
         "hoveron": "points",
         "hovertemplate": "bids_name=sub-089207_acq-headmotion1_T1w<br>score=%{x}<br>condition=%{y}<extra></extra>",
         "legendgroup": "sub-089207_acq-headmotion1_T1w",
         "line": {
          "color": "rgba(255,255,255,0)"
         },
         "marker": {
          "color": "#ab63fa"
         },
         "name": "sub-089207_acq-headmotion1_T1w",
         "offsetgroup": "sub-089207_acq-headmotion1_T1w",
         "orientation": "v",
         "pointpos": 0,
         "showlegend": true,
         "type": "box",
         "x": [
          2
         ],
         "x0": " ",
         "xaxis": "x",
         "y": [
          2
         ],
         "y0": " ",
         "yaxis": "y"
        },
        {
         "alignmentgroup": "True",
         "boxpoints": "all",
         "fillcolor": "rgba(255,255,255,0)",
         "hoveron": "points",
         "hovertemplate": "bids_name=sub-089207_acq-headmotion2_T1w<br>score=%{x}<br>condition=%{y}<extra></extra>",
         "legendgroup": "sub-089207_acq-headmotion2_T1w",
         "line": {
          "color": "rgba(255,255,255,0)"
         },
         "marker": {
          "color": "#FFA15A"
         },
         "name": "sub-089207_acq-headmotion2_T1w",
         "offsetgroup": "sub-089207_acq-headmotion2_T1w",
         "orientation": "v",
         "pointpos": 0,
         "showlegend": true,
         "type": "box",
         "x": [
          2
         ],
         "x0": " ",
         "xaxis": "x",
         "y": [
          3
         ],
         "y0": " ",
         "yaxis": "y"
        },
        {
         "alignmentgroup": "True",
         "boxpoints": "all",
         "fillcolor": "rgba(255,255,255,0)",
         "hoveron": "points",
         "hovertemplate": "bids_name=sub-105822_acq-standard_T1w<br>score=%{x}<br>condition=%{y}<extra></extra>",
         "legendgroup": "sub-105822_acq-standard_T1w",
         "line": {
          "color": "rgba(255,255,255,0)"
         },
         "marker": {
          "color": "#19d3f3"
         },
         "name": "sub-105822_acq-standard_T1w",
         "offsetgroup": "sub-105822_acq-standard_T1w",
         "orientation": "v",
         "pointpos": 0,
         "showlegend": true,
         "type": "box",
         "x": [
          1
         ],
         "x0": " ",
         "xaxis": "x",
         "y": [
          1
         ],
         "y0": " ",
         "yaxis": "y"
        },
        {
         "alignmentgroup": "True",
         "boxpoints": "all",
         "fillcolor": "rgba(255,255,255,0)",
         "hoveron": "points",
         "hovertemplate": "bids_name=sub-105822_acq-headmotion2_T1w<br>score=%{x}<br>condition=%{y}<extra></extra>",
         "legendgroup": "sub-105822_acq-headmotion2_T1w",
         "line": {
          "color": "rgba(255,255,255,0)"
         },
         "marker": {
          "color": "#FF6692"
         },
         "name": "sub-105822_acq-headmotion2_T1w",
         "offsetgroup": "sub-105822_acq-headmotion2_T1w",
         "orientation": "v",
         "pointpos": 0,
         "showlegend": true,
         "type": "box",
         "x": [
          3
         ],
         "x0": " ",
         "xaxis": "x",
         "y": [
          3
         ],
         "y0": " ",
         "yaxis": "y"
        },
        {
         "alignmentgroup": "True",
         "boxpoints": "all",
         "fillcolor": "rgba(255,255,255,0)",
         "hoveron": "points",
         "hovertemplate": "bids_name=sub-107738_acq-standard_T1w<br>score=%{x}<br>condition=%{y}<extra></extra>",
         "legendgroup": "sub-107738_acq-standard_T1w",
         "line": {
          "color": "rgba(255,255,255,0)"
         },
         "marker": {
          "color": "#B6E880"
         },
         "name": "sub-107738_acq-standard_T1w",
         "offsetgroup": "sub-107738_acq-standard_T1w",
         "orientation": "v",
         "pointpos": 0,
         "showlegend": true,
         "type": "box",
         "x": [
          1
         ],
         "x0": " ",
         "xaxis": "x",
         "y": [
          1
         ],
         "y0": " ",
         "yaxis": "y"
        },
        {
         "alignmentgroup": "True",
         "boxpoints": "all",
         "fillcolor": "rgba(255,255,255,0)",
         "hoveron": "points",
         "hovertemplate": "bids_name=sub-107738_acq-headmotion1_T1w<br>score=%{x}<br>condition=%{y}<extra></extra>",
         "legendgroup": "sub-107738_acq-headmotion1_T1w",
         "line": {
          "color": "rgba(255,255,255,0)"
         },
         "marker": {
          "color": "#FF97FF"
         },
         "name": "sub-107738_acq-headmotion1_T1w",
         "offsetgroup": "sub-107738_acq-headmotion1_T1w",
         "orientation": "v",
         "pointpos": 0,
         "showlegend": true,
         "type": "box",
         "x": [
          3
         ],
         "x0": " ",
         "xaxis": "x",
         "y": [
          2
         ],
         "y0": " ",
         "yaxis": "y"
        },
        {
         "alignmentgroup": "True",
         "boxpoints": "all",
         "fillcolor": "rgba(255,255,255,0)",
         "hoveron": "points",
         "hovertemplate": "bids_name=sub-107738_acq-headmotion2_T1w<br>score=%{x}<br>condition=%{y}<extra></extra>",
         "legendgroup": "sub-107738_acq-headmotion2_T1w",
         "line": {
          "color": "rgba(255,255,255,0)"
         },
         "marker": {
          "color": "#FECB52"
         },
         "name": "sub-107738_acq-headmotion2_T1w",
         "offsetgroup": "sub-107738_acq-headmotion2_T1w",
         "orientation": "v",
         "pointpos": 0,
         "showlegend": true,
         "type": "box",
         "x": [
          3
         ],
         "x0": " ",
         "xaxis": "x",
         "y": [
          3
         ],
         "y0": " ",
         "yaxis": "y"
        },
        {
         "alignmentgroup": "True",
         "boxpoints": "all",
         "fillcolor": "rgba(255,255,255,0)",
         "hoveron": "points",
         "hovertemplate": "bids_name=sub-108142_acq-standard_T1w<br>score=%{x}<br>condition=%{y}<extra></extra>",
         "legendgroup": "sub-108142_acq-standard_T1w",
         "line": {
          "color": "rgba(255,255,255,0)"
         },
         "marker": {
          "color": "#636efa"
         },
         "name": "sub-108142_acq-standard_T1w",
         "offsetgroup": "sub-108142_acq-standard_T1w",
         "orientation": "v",
         "pointpos": 0,
         "showlegend": true,
         "type": "box",
         "x": [
          1
         ],
         "x0": " ",
         "xaxis": "x",
         "y": [
          1
         ],
         "y0": " ",
         "yaxis": "y"
        },
        {
         "alignmentgroup": "True",
         "boxpoints": "all",
         "fillcolor": "rgba(255,255,255,0)",
         "hoveron": "points",
         "hovertemplate": "bids_name=sub-108142_acq-headmotion1_T1w<br>score=%{x}<br>condition=%{y}<extra></extra>",
         "legendgroup": "sub-108142_acq-headmotion1_T1w",
         "line": {
          "color": "rgba(255,255,255,0)"
         },
         "marker": {
          "color": "#EF553B"
         },
         "name": "sub-108142_acq-headmotion1_T1w",
         "offsetgroup": "sub-108142_acq-headmotion1_T1w",
         "orientation": "v",
         "pointpos": 0,
         "showlegend": true,
         "type": "box",
         "x": [
          1
         ],
         "x0": " ",
         "xaxis": "x",
         "y": [
          2
         ],
         "y0": " ",
         "yaxis": "y"
        },
        {
         "alignmentgroup": "True",
         "boxpoints": "all",
         "fillcolor": "rgba(255,255,255,0)",
         "hoveron": "points",
         "hovertemplate": "bids_name=sub-108142_acq-headmotion2_T1w<br>score=%{x}<br>condition=%{y}<extra></extra>",
         "legendgroup": "sub-108142_acq-headmotion2_T1w",
         "line": {
          "color": "rgba(255,255,255,0)"
         },
         "marker": {
          "color": "#00cc96"
         },
         "name": "sub-108142_acq-headmotion2_T1w",
         "offsetgroup": "sub-108142_acq-headmotion2_T1w",
         "orientation": "v",
         "pointpos": 0,
         "showlegend": true,
         "type": "box",
         "x": [
          3
         ],
         "x0": " ",
         "xaxis": "x",
         "y": [
          3
         ],
         "y0": " ",
         "yaxis": "y"
        },
        {
         "alignmentgroup": "True",
         "boxpoints": "all",
         "fillcolor": "rgba(255,255,255,0)",
         "hoveron": "points",
         "hovertemplate": "bids_name=sub-118003_acq-standard_T1w<br>score=%{x}<br>condition=%{y}<extra></extra>",
         "legendgroup": "sub-118003_acq-standard_T1w",
         "line": {
          "color": "rgba(255,255,255,0)"
         },
         "marker": {
          "color": "#ab63fa"
         },
         "name": "sub-118003_acq-standard_T1w",
         "offsetgroup": "sub-118003_acq-standard_T1w",
         "orientation": "v",
         "pointpos": 0,
         "showlegend": true,
         "type": "box",
         "x": [
          1
         ],
         "x0": " ",
         "xaxis": "x",
         "y": [
          1
         ],
         "y0": " ",
         "yaxis": "y"
        },
        {
         "alignmentgroup": "True",
         "boxpoints": "all",
         "fillcolor": "rgba(255,255,255,0)",
         "hoveron": "points",
         "hovertemplate": "bids_name=sub-118003_acq-headmotion1_T1w<br>score=%{x}<br>condition=%{y}<extra></extra>",
         "legendgroup": "sub-118003_acq-headmotion1_T1w",
         "line": {
          "color": "rgba(255,255,255,0)"
         },
         "marker": {
          "color": "#FFA15A"
         },
         "name": "sub-118003_acq-headmotion1_T1w",
         "offsetgroup": "sub-118003_acq-headmotion1_T1w",
         "orientation": "v",
         "pointpos": 0,
         "showlegend": true,
         "type": "box",
         "x": [
          3
         ],
         "x0": " ",
         "xaxis": "x",
         "y": [
          2
         ],
         "y0": " ",
         "yaxis": "y"
        },
        {
         "alignmentgroup": "True",
         "boxpoints": "all",
         "fillcolor": "rgba(255,255,255,0)",
         "hoveron": "points",
         "hovertemplate": "bids_name=sub-118003_acq-headmotion2_T1w<br>score=%{x}<br>condition=%{y}<extra></extra>",
         "legendgroup": "sub-118003_acq-headmotion2_T1w",
         "line": {
          "color": "rgba(255,255,255,0)"
         },
         "marker": {
          "color": "#19d3f3"
         },
         "name": "sub-118003_acq-headmotion2_T1w",
         "offsetgroup": "sub-118003_acq-headmotion2_T1w",
         "orientation": "v",
         "pointpos": 0,
         "showlegend": true,
         "type": "box",
         "x": [
          3
         ],
         "x0": " ",
         "xaxis": "x",
         "y": [
          3
         ],
         "y0": " ",
         "yaxis": "y"
        },
        {
         "alignmentgroup": "True",
         "boxpoints": "all",
         "fillcolor": "rgba(255,255,255,0)",
         "hoveron": "points",
         "hovertemplate": "bids_name=sub-122916_acq-standard_T1w<br>score=%{x}<br>condition=%{y}<extra></extra>",
         "legendgroup": "sub-122916_acq-standard_T1w",
         "line": {
          "color": "rgba(255,255,255,0)"
         },
         "marker": {
          "color": "#FF6692"
         },
         "name": "sub-122916_acq-standard_T1w",
         "offsetgroup": "sub-122916_acq-standard_T1w",
         "orientation": "v",
         "pointpos": 0,
         "showlegend": true,
         "type": "box",
         "x": [
          1
         ],
         "x0": " ",
         "xaxis": "x",
         "y": [
          1
         ],
         "y0": " ",
         "yaxis": "y"
        },
        {
         "alignmentgroup": "True",
         "boxpoints": "all",
         "fillcolor": "rgba(255,255,255,0)",
         "hoveron": "points",
         "hovertemplate": "bids_name=sub-122916_acq-headmotion1_T1w<br>score=%{x}<br>condition=%{y}<extra></extra>",
         "legendgroup": "sub-122916_acq-headmotion1_T1w",
         "line": {
          "color": "rgba(255,255,255,0)"
         },
         "marker": {
          "color": "#B6E880"
         },
         "name": "sub-122916_acq-headmotion1_T1w",
         "offsetgroup": "sub-122916_acq-headmotion1_T1w",
         "orientation": "v",
         "pointpos": 0,
         "showlegend": true,
         "type": "box",
         "x": [
          2
         ],
         "x0": " ",
         "xaxis": "x",
         "y": [
          2
         ],
         "y0": " ",
         "yaxis": "y"
        },
        {
         "alignmentgroup": "True",
         "boxpoints": "all",
         "fillcolor": "rgba(255,255,255,0)",
         "hoveron": "points",
         "hovertemplate": "bids_name=sub-122916_acq-headmotion2_T1w<br>score=%{x}<br>condition=%{y}<extra></extra>",
         "legendgroup": "sub-122916_acq-headmotion2_T1w",
         "line": {
          "color": "rgba(255,255,255,0)"
         },
         "marker": {
          "color": "#FF97FF"
         },
         "name": "sub-122916_acq-headmotion2_T1w",
         "offsetgroup": "sub-122916_acq-headmotion2_T1w",
         "orientation": "v",
         "pointpos": 0,
         "showlegend": true,
         "type": "box",
         "x": [
          3
         ],
         "x0": " ",
         "xaxis": "x",
         "y": [
          3
         ],
         "y0": " ",
         "yaxis": "y"
        },
        {
         "alignmentgroup": "True",
         "boxpoints": "all",
         "fillcolor": "rgba(255,255,255,0)",
         "hoveron": "points",
         "hovertemplate": "bids_name=sub-125171_acq-standard_T1w<br>score=%{x}<br>condition=%{y}<extra></extra>",
         "legendgroup": "sub-125171_acq-standard_T1w",
         "line": {
          "color": "rgba(255,255,255,0)"
         },
         "marker": {
          "color": "#FECB52"
         },
         "name": "sub-125171_acq-standard_T1w",
         "offsetgroup": "sub-125171_acq-standard_T1w",
         "orientation": "v",
         "pointpos": 0,
         "showlegend": true,
         "type": "box",
         "x": [
          1
         ],
         "x0": " ",
         "xaxis": "x",
         "y": [
          1
         ],
         "y0": " ",
         "yaxis": "y"
        },
        {
         "alignmentgroup": "True",
         "boxpoints": "all",
         "fillcolor": "rgba(255,255,255,0)",
         "hoveron": "points",
         "hovertemplate": "bids_name=sub-125171_acq-headmotion1_T1w<br>score=%{x}<br>condition=%{y}<extra></extra>",
         "legendgroup": "sub-125171_acq-headmotion1_T1w",
         "line": {
          "color": "rgba(255,255,255,0)"
         },
         "marker": {
          "color": "#636efa"
         },
         "name": "sub-125171_acq-headmotion1_T1w",
         "offsetgroup": "sub-125171_acq-headmotion1_T1w",
         "orientation": "v",
         "pointpos": 0,
         "showlegend": true,
         "type": "box",
         "x": [
          3
         ],
         "x0": " ",
         "xaxis": "x",
         "y": [
          2
         ],
         "y0": " ",
         "yaxis": "y"
        },
        {
         "alignmentgroup": "True",
         "boxpoints": "all",
         "fillcolor": "rgba(255,255,255,0)",
         "hoveron": "points",
         "hovertemplate": "bids_name=sub-125171_acq-headmotion2_T1w<br>score=%{x}<br>condition=%{y}<extra></extra>",
         "legendgroup": "sub-125171_acq-headmotion2_T1w",
         "line": {
          "color": "rgba(255,255,255,0)"
         },
         "marker": {
          "color": "#EF553B"
         },
         "name": "sub-125171_acq-headmotion2_T1w",
         "offsetgroup": "sub-125171_acq-headmotion2_T1w",
         "orientation": "v",
         "pointpos": 0,
         "showlegend": true,
         "type": "box",
         "x": [
          3
         ],
         "x0": " ",
         "xaxis": "x",
         "y": [
          3
         ],
         "y0": " ",
         "yaxis": "y"
        },
        {
         "alignmentgroup": "True",
         "boxpoints": "all",
         "fillcolor": "rgba(255,255,255,0)",
         "hoveron": "points",
         "hovertemplate": "bids_name=sub-127867_acq-standard_T1w<br>score=%{x}<br>condition=%{y}<extra></extra>",
         "legendgroup": "sub-127867_acq-standard_T1w",
         "line": {
          "color": "rgba(255,255,255,0)"
         },
         "marker": {
          "color": "#00cc96"
         },
         "name": "sub-127867_acq-standard_T1w",
         "offsetgroup": "sub-127867_acq-standard_T1w",
         "orientation": "v",
         "pointpos": 0,
         "showlegend": true,
         "type": "box",
         "x": [
          1
         ],
         "x0": " ",
         "xaxis": "x",
         "y": [
          1
         ],
         "y0": " ",
         "yaxis": "y"
        },
        {
         "alignmentgroup": "True",
         "boxpoints": "all",
         "fillcolor": "rgba(255,255,255,0)",
         "hoveron": "points",
         "hovertemplate": "bids_name=sub-127867_acq-headmotion1_T1w<br>score=%{x}<br>condition=%{y}<extra></extra>",
         "legendgroup": "sub-127867_acq-headmotion1_T1w",
         "line": {
          "color": "rgba(255,255,255,0)"
         },
         "marker": {
          "color": "#ab63fa"
         },
         "name": "sub-127867_acq-headmotion1_T1w",
         "offsetgroup": "sub-127867_acq-headmotion1_T1w",
         "orientation": "v",
         "pointpos": 0,
         "showlegend": true,
         "type": "box",
         "x": [
          2
         ],
         "x0": " ",
         "xaxis": "x",
         "y": [
          2
         ],
         "y0": " ",
         "yaxis": "y"
        },
        {
         "alignmentgroup": "True",
         "boxpoints": "all",
         "fillcolor": "rgba(255,255,255,0)",
         "hoveron": "points",
         "hovertemplate": "bids_name=sub-127867_acq-headmotion2_T1w<br>score=%{x}<br>condition=%{y}<extra></extra>",
         "legendgroup": "sub-127867_acq-headmotion2_T1w",
         "line": {
          "color": "rgba(255,255,255,0)"
         },
         "marker": {
          "color": "#FFA15A"
         },
         "name": "sub-127867_acq-headmotion2_T1w",
         "offsetgroup": "sub-127867_acq-headmotion2_T1w",
         "orientation": "v",
         "pointpos": 0,
         "showlegend": true,
         "type": "box",
         "x": [
          2
         ],
         "x0": " ",
         "xaxis": "x",
         "y": [
          3
         ],
         "y0": " ",
         "yaxis": "y"
        },
        {
         "alignmentgroup": "True",
         "boxpoints": "all",
         "fillcolor": "rgba(255,255,255,0)",
         "hoveron": "points",
         "hovertemplate": "bids_name=sub-132674_acq-standard_T1w<br>score=%{x}<br>condition=%{y}<extra></extra>",
         "legendgroup": "sub-132674_acq-standard_T1w",
         "line": {
          "color": "rgba(255,255,255,0)"
         },
         "marker": {
          "color": "#19d3f3"
         },
         "name": "sub-132674_acq-standard_T1w",
         "offsetgroup": "sub-132674_acq-standard_T1w",
         "orientation": "v",
         "pointpos": 0,
         "showlegend": true,
         "type": "box",
         "x": [
          1
         ],
         "x0": " ",
         "xaxis": "x",
         "y": [
          1
         ],
         "y0": " ",
         "yaxis": "y"
        },
        {
         "alignmentgroup": "True",
         "boxpoints": "all",
         "fillcolor": "rgba(255,255,255,0)",
         "hoveron": "points",
         "hovertemplate": "bids_name=sub-132674_acq-headmotion1_T1w<br>score=%{x}<br>condition=%{y}<extra></extra>",
         "legendgroup": "sub-132674_acq-headmotion1_T1w",
         "line": {
          "color": "rgba(255,255,255,0)"
         },
         "marker": {
          "color": "#FF6692"
         },
         "name": "sub-132674_acq-headmotion1_T1w",
         "offsetgroup": "sub-132674_acq-headmotion1_T1w",
         "orientation": "v",
         "pointpos": 0,
         "showlegend": true,
         "type": "box",
         "x": [
          1
         ],
         "x0": " ",
         "xaxis": "x",
         "y": [
          2
         ],
         "y0": " ",
         "yaxis": "y"
        },
        {
         "alignmentgroup": "True",
         "boxpoints": "all",
         "fillcolor": "rgba(255,255,255,0)",
         "hoveron": "points",
         "hovertemplate": "bids_name=sub-132674_acq-headmotion2_T1w<br>score=%{x}<br>condition=%{y}<extra></extra>",
         "legendgroup": "sub-132674_acq-headmotion2_T1w",
         "line": {
          "color": "rgba(255,255,255,0)"
         },
         "marker": {
          "color": "#B6E880"
         },
         "name": "sub-132674_acq-headmotion2_T1w",
         "offsetgroup": "sub-132674_acq-headmotion2_T1w",
         "orientation": "v",
         "pointpos": 0,
         "showlegend": true,
         "type": "box",
         "x": [
          3
         ],
         "x0": " ",
         "xaxis": "x",
         "y": [
          3
         ],
         "y0": " ",
         "yaxis": "y"
        },
        {
         "alignmentgroup": "True",
         "boxpoints": "all",
         "fillcolor": "rgba(255,255,255,0)",
         "hoveron": "points",
         "hovertemplate": "bids_name=sub-136038_acq-standard_T1w<br>score=%{x}<br>condition=%{y}<extra></extra>",
         "legendgroup": "sub-136038_acq-standard_T1w",
         "line": {
          "color": "rgba(255,255,255,0)"
         },
         "marker": {
          "color": "#FF97FF"
         },
         "name": "sub-136038_acq-standard_T1w",
         "offsetgroup": "sub-136038_acq-standard_T1w",
         "orientation": "v",
         "pointpos": 0,
         "showlegend": true,
         "type": "box",
         "x": [
          1
         ],
         "x0": " ",
         "xaxis": "x",
         "y": [
          1
         ],
         "y0": " ",
         "yaxis": "y"
        },
        {
         "alignmentgroup": "True",
         "boxpoints": "all",
         "fillcolor": "rgba(255,255,255,0)",
         "hoveron": "points",
         "hovertemplate": "bids_name=sub-136038_acq-headmotion1_T1w<br>score=%{x}<br>condition=%{y}<extra></extra>",
         "legendgroup": "sub-136038_acq-headmotion1_T1w",
         "line": {
          "color": "rgba(255,255,255,0)"
         },
         "marker": {
          "color": "#FECB52"
         },
         "name": "sub-136038_acq-headmotion1_T1w",
         "offsetgroup": "sub-136038_acq-headmotion1_T1w",
         "orientation": "v",
         "pointpos": 0,
         "showlegend": true,
         "type": "box",
         "x": [
          3
         ],
         "x0": " ",
         "xaxis": "x",
         "y": [
          2
         ],
         "y0": " ",
         "yaxis": "y"
        },
        {
         "alignmentgroup": "True",
         "boxpoints": "all",
         "fillcolor": "rgba(255,255,255,0)",
         "hoveron": "points",
         "hovertemplate": "bids_name=sub-143104_acq-standard_T1w<br>score=%{x}<br>condition=%{y}<extra></extra>",
         "legendgroup": "sub-143104_acq-standard_T1w",
         "line": {
          "color": "rgba(255,255,255,0)"
         },
         "marker": {
          "color": "#636efa"
         },
         "name": "sub-143104_acq-standard_T1w",
         "offsetgroup": "sub-143104_acq-standard_T1w",
         "orientation": "v",
         "pointpos": 0,
         "showlegend": true,
         "type": "box",
         "x": [
          1
         ],
         "x0": " ",
         "xaxis": "x",
         "y": [
          1
         ],
         "y0": " ",
         "yaxis": "y"
        },
        {
         "alignmentgroup": "True",
         "boxpoints": "all",
         "fillcolor": "rgba(255,255,255,0)",
         "hoveron": "points",
         "hovertemplate": "bids_name=sub-143104_acq-headmotion1_T1w<br>score=%{x}<br>condition=%{y}<extra></extra>",
         "legendgroup": "sub-143104_acq-headmotion1_T1w",
         "line": {
          "color": "rgba(255,255,255,0)"
         },
         "marker": {
          "color": "#EF553B"
         },
         "name": "sub-143104_acq-headmotion1_T1w",
         "offsetgroup": "sub-143104_acq-headmotion1_T1w",
         "orientation": "v",
         "pointpos": 0,
         "showlegend": true,
         "type": "box",
         "x": [
          3
         ],
         "x0": " ",
         "xaxis": "x",
         "y": [
          2
         ],
         "y0": " ",
         "yaxis": "y"
        },
        {
         "alignmentgroup": "True",
         "boxpoints": "all",
         "fillcolor": "rgba(255,255,255,0)",
         "hoveron": "points",
         "hovertemplate": "bids_name=sub-143104_acq-headmotion2_T1w<br>score=%{x}<br>condition=%{y}<extra></extra>",
         "legendgroup": "sub-143104_acq-headmotion2_T1w",
         "line": {
          "color": "rgba(255,255,255,0)"
         },
         "marker": {
          "color": "#00cc96"
         },
         "name": "sub-143104_acq-headmotion2_T1w",
         "offsetgroup": "sub-143104_acq-headmotion2_T1w",
         "orientation": "v",
         "pointpos": 0,
         "showlegend": true,
         "type": "box",
         "x": [
          3
         ],
         "x0": " ",
         "xaxis": "x",
         "y": [
          3
         ],
         "y0": " ",
         "yaxis": "y"
        },
        {
         "alignmentgroup": "True",
         "boxpoints": "all",
         "fillcolor": "rgba(255,255,255,0)",
         "hoveron": "points",
         "hovertemplate": "bids_name=sub-149050_acq-standard_T1w<br>score=%{x}<br>condition=%{y}<extra></extra>",
         "legendgroup": "sub-149050_acq-standard_T1w",
         "line": {
          "color": "rgba(255,255,255,0)"
         },
         "marker": {
          "color": "#ab63fa"
         },
         "name": "sub-149050_acq-standard_T1w",
         "offsetgroup": "sub-149050_acq-standard_T1w",
         "orientation": "v",
         "pointpos": 0,
         "showlegend": true,
         "type": "box",
         "x": [
          1
         ],
         "x0": " ",
         "xaxis": "x",
         "y": [
          1
         ],
         "y0": " ",
         "yaxis": "y"
        },
        {
         "alignmentgroup": "True",
         "boxpoints": "all",
         "fillcolor": "rgba(255,255,255,0)",
         "hoveron": "points",
         "hovertemplate": "bids_name=sub-149050_acq-headmotion1_T1w<br>score=%{x}<br>condition=%{y}<extra></extra>",
         "legendgroup": "sub-149050_acq-headmotion1_T1w",
         "line": {
          "color": "rgba(255,255,255,0)"
         },
         "marker": {
          "color": "#FFA15A"
         },
         "name": "sub-149050_acq-headmotion1_T1w",
         "offsetgroup": "sub-149050_acq-headmotion1_T1w",
         "orientation": "v",
         "pointpos": 0,
         "showlegend": true,
         "type": "box",
         "x": [
          3
         ],
         "x0": " ",
         "xaxis": "x",
         "y": [
          2
         ],
         "y0": " ",
         "yaxis": "y"
        },
        {
         "alignmentgroup": "True",
         "boxpoints": "all",
         "fillcolor": "rgba(255,255,255,0)",
         "hoveron": "points",
         "hovertemplate": "bids_name=sub-149050_acq-headmotion2_T1w<br>score=%{x}<br>condition=%{y}<extra></extra>",
         "legendgroup": "sub-149050_acq-headmotion2_T1w",
         "line": {
          "color": "rgba(255,255,255,0)"
         },
         "marker": {
          "color": "#19d3f3"
         },
         "name": "sub-149050_acq-headmotion2_T1w",
         "offsetgroup": "sub-149050_acq-headmotion2_T1w",
         "orientation": "v",
         "pointpos": 0,
         "showlegend": true,
         "type": "box",
         "x": [
          3
         ],
         "x0": " ",
         "xaxis": "x",
         "y": [
          3
         ],
         "y0": " ",
         "yaxis": "y"
        },
        {
         "alignmentgroup": "True",
         "boxpoints": "all",
         "fillcolor": "rgba(255,255,255,0)",
         "hoveron": "points",
         "hovertemplate": "bids_name=sub-152686_acq-standard_T1w<br>score=%{x}<br>condition=%{y}<extra></extra>",
         "legendgroup": "sub-152686_acq-standard_T1w",
         "line": {
          "color": "rgba(255,255,255,0)"
         },
         "marker": {
          "color": "#FF6692"
         },
         "name": "sub-152686_acq-standard_T1w",
         "offsetgroup": "sub-152686_acq-standard_T1w",
         "orientation": "v",
         "pointpos": 0,
         "showlegend": true,
         "type": "box",
         "x": [
          1
         ],
         "x0": " ",
         "xaxis": "x",
         "y": [
          1
         ],
         "y0": " ",
         "yaxis": "y"
        },
        {
         "alignmentgroup": "True",
         "boxpoints": "all",
         "fillcolor": "rgba(255,255,255,0)",
         "hoveron": "points",
         "hovertemplate": "bids_name=sub-152686_acq-headmotion1_T1w<br>score=%{x}<br>condition=%{y}<extra></extra>",
         "legendgroup": "sub-152686_acq-headmotion1_T1w",
         "line": {
          "color": "rgba(255,255,255,0)"
         },
         "marker": {
          "color": "#B6E880"
         },
         "name": "sub-152686_acq-headmotion1_T1w",
         "offsetgroup": "sub-152686_acq-headmotion1_T1w",
         "orientation": "v",
         "pointpos": 0,
         "showlegend": true,
         "type": "box",
         "x": [
          1
         ],
         "x0": " ",
         "xaxis": "x",
         "y": [
          2
         ],
         "y0": " ",
         "yaxis": "y"
        },
        {
         "alignmentgroup": "True",
         "boxpoints": "all",
         "fillcolor": "rgba(255,255,255,0)",
         "hoveron": "points",
         "hovertemplate": "bids_name=sub-152686_acq-headmotion2_T1w<br>score=%{x}<br>condition=%{y}<extra></extra>",
         "legendgroup": "sub-152686_acq-headmotion2_T1w",
         "line": {
          "color": "rgba(255,255,255,0)"
         },
         "marker": {
          "color": "#FF97FF"
         },
         "name": "sub-152686_acq-headmotion2_T1w",
         "offsetgroup": "sub-152686_acq-headmotion2_T1w",
         "orientation": "v",
         "pointpos": 0,
         "showlegend": true,
         "type": "box",
         "x": [
          2
         ],
         "x0": " ",
         "xaxis": "x",
         "y": [
          3
         ],
         "y0": " ",
         "yaxis": "y"
        },
        {
         "alignmentgroup": "True",
         "boxpoints": "all",
         "fillcolor": "rgba(255,255,255,0)",
         "hoveron": "points",
         "hovertemplate": "bids_name=sub-153486_acq-standard_T1w<br>score=%{x}<br>condition=%{y}<extra></extra>",
         "legendgroup": "sub-153486_acq-standard_T1w",
         "line": {
          "color": "rgba(255,255,255,0)"
         },
         "marker": {
          "color": "#FECB52"
         },
         "name": "sub-153486_acq-standard_T1w",
         "offsetgroup": "sub-153486_acq-standard_T1w",
         "orientation": "v",
         "pointpos": 0,
         "showlegend": true,
         "type": "box",
         "x": [
          1
         ],
         "x0": " ",
         "xaxis": "x",
         "y": [
          1
         ],
         "y0": " ",
         "yaxis": "y"
        },
        {
         "alignmentgroup": "True",
         "boxpoints": "all",
         "fillcolor": "rgba(255,255,255,0)",
         "hoveron": "points",
         "hovertemplate": "bids_name=sub-153486_acq-headmotion1_T1w<br>score=%{x}<br>condition=%{y}<extra></extra>",
         "legendgroup": "sub-153486_acq-headmotion1_T1w",
         "line": {
          "color": "rgba(255,255,255,0)"
         },
         "marker": {
          "color": "#636efa"
         },
         "name": "sub-153486_acq-headmotion1_T1w",
         "offsetgroup": "sub-153486_acq-headmotion1_T1w",
         "orientation": "v",
         "pointpos": 0,
         "showlegend": true,
         "type": "box",
         "x": [
          3
         ],
         "x0": " ",
         "xaxis": "x",
         "y": [
          2
         ],
         "y0": " ",
         "yaxis": "y"
        },
        {
         "alignmentgroup": "True",
         "boxpoints": "all",
         "fillcolor": "rgba(255,255,255,0)",
         "hoveron": "points",
         "hovertemplate": "bids_name=sub-153486_acq-headmotion2_T1w<br>score=%{x}<br>condition=%{y}<extra></extra>",
         "legendgroup": "sub-153486_acq-headmotion2_T1w",
         "line": {
          "color": "rgba(255,255,255,0)"
         },
         "marker": {
          "color": "#EF553B"
         },
         "name": "sub-153486_acq-headmotion2_T1w",
         "offsetgroup": "sub-153486_acq-headmotion2_T1w",
         "orientation": "v",
         "pointpos": 0,
         "showlegend": true,
         "type": "box",
         "x": [
          3
         ],
         "x0": " ",
         "xaxis": "x",
         "y": [
          3
         ],
         "y0": " ",
         "yaxis": "y"
        },
        {
         "alignmentgroup": "True",
         "boxpoints": "all",
         "fillcolor": "rgba(255,255,255,0)",
         "hoveron": "points",
         "hovertemplate": "bids_name=sub-169618_acq-standard_T1w<br>score=%{x}<br>condition=%{y}<extra></extra>",
         "legendgroup": "sub-169618_acq-standard_T1w",
         "line": {
          "color": "rgba(255,255,255,0)"
         },
         "marker": {
          "color": "#00cc96"
         },
         "name": "sub-169618_acq-standard_T1w",
         "offsetgroup": "sub-169618_acq-standard_T1w",
         "orientation": "v",
         "pointpos": 0,
         "showlegend": true,
         "type": "box",
         "x": [
          1
         ],
         "x0": " ",
         "xaxis": "x",
         "y": [
          1
         ],
         "y0": " ",
         "yaxis": "y"
        },
        {
         "alignmentgroup": "True",
         "boxpoints": "all",
         "fillcolor": "rgba(255,255,255,0)",
         "hoveron": "points",
         "hovertemplate": "bids_name=sub-169618_acq-headmotion1_T1w<br>score=%{x}<br>condition=%{y}<extra></extra>",
         "legendgroup": "sub-169618_acq-headmotion1_T1w",
         "line": {
          "color": "rgba(255,255,255,0)"
         },
         "marker": {
          "color": "#ab63fa"
         },
         "name": "sub-169618_acq-headmotion1_T1w",
         "offsetgroup": "sub-169618_acq-headmotion1_T1w",
         "orientation": "v",
         "pointpos": 0,
         "showlegend": true,
         "type": "box",
         "x": [
          3
         ],
         "x0": " ",
         "xaxis": "x",
         "y": [
          2
         ],
         "y0": " ",
         "yaxis": "y"
        },
        {
         "alignmentgroup": "True",
         "boxpoints": "all",
         "fillcolor": "rgba(255,255,255,0)",
         "hoveron": "points",
         "hovertemplate": "bids_name=sub-169618_acq-headmotion2_T1w<br>score=%{x}<br>condition=%{y}<extra></extra>",
         "legendgroup": "sub-169618_acq-headmotion2_T1w",
         "line": {
          "color": "rgba(255,255,255,0)"
         },
         "marker": {
          "color": "#FFA15A"
         },
         "name": "sub-169618_acq-headmotion2_T1w",
         "offsetgroup": "sub-169618_acq-headmotion2_T1w",
         "orientation": "v",
         "pointpos": 0,
         "showlegend": true,
         "type": "box",
         "x": [
          3
         ],
         "x0": " ",
         "xaxis": "x",
         "y": [
          3
         ],
         "y0": " ",
         "yaxis": "y"
        },
        {
         "alignmentgroup": "True",
         "boxpoints": "all",
         "fillcolor": "rgba(255,255,255,0)",
         "hoveron": "points",
         "hovertemplate": "bids_name=sub-171967_acq-standard_T1w<br>score=%{x}<br>condition=%{y}<extra></extra>",
         "legendgroup": "sub-171967_acq-standard_T1w",
         "line": {
          "color": "rgba(255,255,255,0)"
         },
         "marker": {
          "color": "#19d3f3"
         },
         "name": "sub-171967_acq-standard_T1w",
         "offsetgroup": "sub-171967_acq-standard_T1w",
         "orientation": "v",
         "pointpos": 0,
         "showlegend": true,
         "type": "box",
         "x": [
          2
         ],
         "x0": " ",
         "xaxis": "x",
         "y": [
          1
         ],
         "y0": " ",
         "yaxis": "y"
        },
        {
         "alignmentgroup": "True",
         "boxpoints": "all",
         "fillcolor": "rgba(255,255,255,0)",
         "hoveron": "points",
         "hovertemplate": "bids_name=sub-171967_acq-headmotion1_T1w<br>score=%{x}<br>condition=%{y}<extra></extra>",
         "legendgroup": "sub-171967_acq-headmotion1_T1w",
         "line": {
          "color": "rgba(255,255,255,0)"
         },
         "marker": {
          "color": "#FF6692"
         },
         "name": "sub-171967_acq-headmotion1_T1w",
         "offsetgroup": "sub-171967_acq-headmotion1_T1w",
         "orientation": "v",
         "pointpos": 0,
         "showlegend": true,
         "type": "box",
         "x": [
          3
         ],
         "x0": " ",
         "xaxis": "x",
         "y": [
          2
         ],
         "y0": " ",
         "yaxis": "y"
        },
        {
         "alignmentgroup": "True",
         "boxpoints": "all",
         "fillcolor": "rgba(255,255,255,0)",
         "hoveron": "points",
         "hovertemplate": "bids_name=sub-171967_acq-headmotion2_T1w<br>score=%{x}<br>condition=%{y}<extra></extra>",
         "legendgroup": "sub-171967_acq-headmotion2_T1w",
         "line": {
          "color": "rgba(255,255,255,0)"
         },
         "marker": {
          "color": "#B6E880"
         },
         "name": "sub-171967_acq-headmotion2_T1w",
         "offsetgroup": "sub-171967_acq-headmotion2_T1w",
         "orientation": "v",
         "pointpos": 0,
         "showlegend": true,
         "type": "box",
         "x": [
          3
         ],
         "x0": " ",
         "xaxis": "x",
         "y": [
          3
         ],
         "y0": " ",
         "yaxis": "y"
        },
        {
         "alignmentgroup": "True",
         "boxpoints": "all",
         "fillcolor": "rgba(255,255,255,0)",
         "hoveron": "points",
         "hovertemplate": "bids_name=sub-177856_acq-standard_T1w<br>score=%{x}<br>condition=%{y}<extra></extra>",
         "legendgroup": "sub-177856_acq-standard_T1w",
         "line": {
          "color": "rgba(255,255,255,0)"
         },
         "marker": {
          "color": "#FF97FF"
         },
         "name": "sub-177856_acq-standard_T1w",
         "offsetgroup": "sub-177856_acq-standard_T1w",
         "orientation": "v",
         "pointpos": 0,
         "showlegend": true,
         "type": "box",
         "x": [
          1
         ],
         "x0": " ",
         "xaxis": "x",
         "y": [
          1
         ],
         "y0": " ",
         "yaxis": "y"
        },
        {
         "alignmentgroup": "True",
         "boxpoints": "all",
         "fillcolor": "rgba(255,255,255,0)",
         "hoveron": "points",
         "hovertemplate": "bids_name=sub-177856_acq-headmotion1_T1w<br>score=%{x}<br>condition=%{y}<extra></extra>",
         "legendgroup": "sub-177856_acq-headmotion1_T1w",
         "line": {
          "color": "rgba(255,255,255,0)"
         },
         "marker": {
          "color": "#FECB52"
         },
         "name": "sub-177856_acq-headmotion1_T1w",
         "offsetgroup": "sub-177856_acq-headmotion1_T1w",
         "orientation": "v",
         "pointpos": 0,
         "showlegend": true,
         "type": "box",
         "x": [
          2
         ],
         "x0": " ",
         "xaxis": "x",
         "y": [
          2
         ],
         "y0": " ",
         "yaxis": "y"
        },
        {
         "alignmentgroup": "True",
         "boxpoints": "all",
         "fillcolor": "rgba(255,255,255,0)",
         "hoveron": "points",
         "hovertemplate": "bids_name=sub-177856_acq-headmotion2_T1w<br>score=%{x}<br>condition=%{y}<extra></extra>",
         "legendgroup": "sub-177856_acq-headmotion2_T1w",
         "line": {
          "color": "rgba(255,255,255,0)"
         },
         "marker": {
          "color": "#636efa"
         },
         "name": "sub-177856_acq-headmotion2_T1w",
         "offsetgroup": "sub-177856_acq-headmotion2_T1w",
         "orientation": "v",
         "pointpos": 0,
         "showlegend": true,
         "type": "box",
         "x": [
          3
         ],
         "x0": " ",
         "xaxis": "x",
         "y": [
          3
         ],
         "y0": " ",
         "yaxis": "y"
        },
        {
         "alignmentgroup": "True",
         "boxpoints": "all",
         "fillcolor": "rgba(255,255,255,0)",
         "hoveron": "points",
         "hovertemplate": "bids_name=sub-182744_acq-standard_T1w<br>score=%{x}<br>condition=%{y}<extra></extra>",
         "legendgroup": "sub-182744_acq-standard_T1w",
         "line": {
          "color": "rgba(255,255,255,0)"
         },
         "marker": {
          "color": "#EF553B"
         },
         "name": "sub-182744_acq-standard_T1w",
         "offsetgroup": "sub-182744_acq-standard_T1w",
         "orientation": "v",
         "pointpos": 0,
         "showlegend": true,
         "type": "box",
         "x": [
          2
         ],
         "x0": " ",
         "xaxis": "x",
         "y": [
          1
         ],
         "y0": " ",
         "yaxis": "y"
        },
        {
         "alignmentgroup": "True",
         "boxpoints": "all",
         "fillcolor": "rgba(255,255,255,0)",
         "hoveron": "points",
         "hovertemplate": "bids_name=sub-182744_acq-headmotion1_T1w<br>score=%{x}<br>condition=%{y}<extra></extra>",
         "legendgroup": "sub-182744_acq-headmotion1_T1w",
         "line": {
          "color": "rgba(255,255,255,0)"
         },
         "marker": {
          "color": "#00cc96"
         },
         "name": "sub-182744_acq-headmotion1_T1w",
         "offsetgroup": "sub-182744_acq-headmotion1_T1w",
         "orientation": "v",
         "pointpos": 0,
         "showlegend": true,
         "type": "box",
         "x": [
          3
         ],
         "x0": " ",
         "xaxis": "x",
         "y": [
          2
         ],
         "y0": " ",
         "yaxis": "y"
        },
        {
         "alignmentgroup": "True",
         "boxpoints": "all",
         "fillcolor": "rgba(255,255,255,0)",
         "hoveron": "points",
         "hovertemplate": "bids_name=sub-182744_acq-headmotion2_T1w<br>score=%{x}<br>condition=%{y}<extra></extra>",
         "legendgroup": "sub-182744_acq-headmotion2_T1w",
         "line": {
          "color": "rgba(255,255,255,0)"
         },
         "marker": {
          "color": "#ab63fa"
         },
         "name": "sub-182744_acq-headmotion2_T1w",
         "offsetgroup": "sub-182744_acq-headmotion2_T1w",
         "orientation": "v",
         "pointpos": 0,
         "showlegend": true,
         "type": "box",
         "x": [
          3
         ],
         "x0": " ",
         "xaxis": "x",
         "y": [
          3
         ],
         "y0": " ",
         "yaxis": "y"
        },
        {
         "alignmentgroup": "True",
         "boxpoints": "all",
         "fillcolor": "rgba(255,255,255,0)",
         "hoveron": "points",
         "hovertemplate": "bids_name=sub-185823_acq-standard_T1w<br>score=%{x}<br>condition=%{y}<extra></extra>",
         "legendgroup": "sub-185823_acq-standard_T1w",
         "line": {
          "color": "rgba(255,255,255,0)"
         },
         "marker": {
          "color": "#FFA15A"
         },
         "name": "sub-185823_acq-standard_T1w",
         "offsetgroup": "sub-185823_acq-standard_T1w",
         "orientation": "v",
         "pointpos": 0,
         "showlegend": true,
         "type": "box",
         "x": [
          1
         ],
         "x0": " ",
         "xaxis": "x",
         "y": [
          1
         ],
         "y0": " ",
         "yaxis": "y"
        },
        {
         "alignmentgroup": "True",
         "boxpoints": "all",
         "fillcolor": "rgba(255,255,255,0)",
         "hoveron": "points",
         "hovertemplate": "bids_name=sub-185823_acq-headmotion2_T1w<br>score=%{x}<br>condition=%{y}<extra></extra>",
         "legendgroup": "sub-185823_acq-headmotion2_T1w",
         "line": {
          "color": "rgba(255,255,255,0)"
         },
         "marker": {
          "color": "#19d3f3"
         },
         "name": "sub-185823_acq-headmotion2_T1w",
         "offsetgroup": "sub-185823_acq-headmotion2_T1w",
         "orientation": "v",
         "pointpos": 0,
         "showlegend": true,
         "type": "box",
         "x": [
          3
         ],
         "x0": " ",
         "xaxis": "x",
         "y": [
          3
         ],
         "y0": " ",
         "yaxis": "y"
        },
        {
         "alignmentgroup": "True",
         "boxpoints": "all",
         "fillcolor": "rgba(255,255,255,0)",
         "hoveron": "points",
         "hovertemplate": "bids_name=sub-195765_acq-standard_T1w<br>score=%{x}<br>condition=%{y}<extra></extra>",
         "legendgroup": "sub-195765_acq-standard_T1w",
         "line": {
          "color": "rgba(255,255,255,0)"
         },
         "marker": {
          "color": "#FF6692"
         },
         "name": "sub-195765_acq-standard_T1w",
         "offsetgroup": "sub-195765_acq-standard_T1w",
         "orientation": "v",
         "pointpos": 0,
         "showlegend": true,
         "type": "box",
         "x": [
          1
         ],
         "x0": " ",
         "xaxis": "x",
         "y": [
          1
         ],
         "y0": " ",
         "yaxis": "y"
        },
        {
         "alignmentgroup": "True",
         "boxpoints": "all",
         "fillcolor": "rgba(255,255,255,0)",
         "hoveron": "points",
         "hovertemplate": "bids_name=sub-195765_acq-headmotion1_T1w<br>score=%{x}<br>condition=%{y}<extra></extra>",
         "legendgroup": "sub-195765_acq-headmotion1_T1w",
         "line": {
          "color": "rgba(255,255,255,0)"
         },
         "marker": {
          "color": "#B6E880"
         },
         "name": "sub-195765_acq-headmotion1_T1w",
         "offsetgroup": "sub-195765_acq-headmotion1_T1w",
         "orientation": "v",
         "pointpos": 0,
         "showlegend": true,
         "type": "box",
         "x": [
          3
         ],
         "x0": " ",
         "xaxis": "x",
         "y": [
          2
         ],
         "y0": " ",
         "yaxis": "y"
        },
        {
         "alignmentgroup": "True",
         "boxpoints": "all",
         "fillcolor": "rgba(255,255,255,0)",
         "hoveron": "points",
         "hovertemplate": "bids_name=sub-195765_acq-headmotion2_T1w<br>score=%{x}<br>condition=%{y}<extra></extra>",
         "legendgroup": "sub-195765_acq-headmotion2_T1w",
         "line": {
          "color": "rgba(255,255,255,0)"
         },
         "marker": {
          "color": "#FF97FF"
         },
         "name": "sub-195765_acq-headmotion2_T1w",
         "offsetgroup": "sub-195765_acq-headmotion2_T1w",
         "orientation": "v",
         "pointpos": 0,
         "showlegend": true,
         "type": "box",
         "x": [
          3
         ],
         "x0": " ",
         "xaxis": "x",
         "y": [
          3
         ],
         "y0": " ",
         "yaxis": "y"
        },
        {
         "alignmentgroup": "True",
         "boxpoints": "all",
         "fillcolor": "rgba(255,255,255,0)",
         "hoveron": "points",
         "hovertemplate": "bids_name=sub-196711_acq-standard_T1w<br>score=%{x}<br>condition=%{y}<extra></extra>",
         "legendgroup": "sub-196711_acq-standard_T1w",
         "line": {
          "color": "rgba(255,255,255,0)"
         },
         "marker": {
          "color": "#FECB52"
         },
         "name": "sub-196711_acq-standard_T1w",
         "offsetgroup": "sub-196711_acq-standard_T1w",
         "orientation": "v",
         "pointpos": 0,
         "showlegend": true,
         "type": "box",
         "x": [
          1
         ],
         "x0": " ",
         "xaxis": "x",
         "y": [
          1
         ],
         "y0": " ",
         "yaxis": "y"
        },
        {
         "alignmentgroup": "True",
         "boxpoints": "all",
         "fillcolor": "rgba(255,255,255,0)",
         "hoveron": "points",
         "hovertemplate": "bids_name=sub-196711_acq-headmotion1_T1w<br>score=%{x}<br>condition=%{y}<extra></extra>",
         "legendgroup": "sub-196711_acq-headmotion1_T1w",
         "line": {
          "color": "rgba(255,255,255,0)"
         },
         "marker": {
          "color": "#636efa"
         },
         "name": "sub-196711_acq-headmotion1_T1w",
         "offsetgroup": "sub-196711_acq-headmotion1_T1w",
         "orientation": "v",
         "pointpos": 0,
         "showlegend": true,
         "type": "box",
         "x": [
          2
         ],
         "x0": " ",
         "xaxis": "x",
         "y": [
          2
         ],
         "y0": " ",
         "yaxis": "y"
        },
        {
         "alignmentgroup": "True",
         "boxpoints": "all",
         "fillcolor": "rgba(255,255,255,0)",
         "hoveron": "points",
         "hovertemplate": "bids_name=sub-196711_acq-headmotion2_T1w<br>score=%{x}<br>condition=%{y}<extra></extra>",
         "legendgroup": "sub-196711_acq-headmotion2_T1w",
         "line": {
          "color": "rgba(255,255,255,0)"
         },
         "marker": {
          "color": "#EF553B"
         },
         "name": "sub-196711_acq-headmotion2_T1w",
         "offsetgroup": "sub-196711_acq-headmotion2_T1w",
         "orientation": "v",
         "pointpos": 0,
         "showlegend": true,
         "type": "box",
         "x": [
          3
         ],
         "x0": " ",
         "xaxis": "x",
         "y": [
          3
         ],
         "y0": " ",
         "yaxis": "y"
        },
        {
         "alignmentgroup": "True",
         "boxpoints": "all",
         "fillcolor": "rgba(255,255,255,0)",
         "hoveron": "points",
         "hovertemplate": "bids_name=sub-212152_acq-standard_T1w<br>score=%{x}<br>condition=%{y}<extra></extra>",
         "legendgroup": "sub-212152_acq-standard_T1w",
         "line": {
          "color": "rgba(255,255,255,0)"
         },
         "marker": {
          "color": "#00cc96"
         },
         "name": "sub-212152_acq-standard_T1w",
         "offsetgroup": "sub-212152_acq-standard_T1w",
         "orientation": "v",
         "pointpos": 0,
         "showlegend": true,
         "type": "box",
         "x": [
          1
         ],
         "x0": " ",
         "xaxis": "x",
         "y": [
          1
         ],
         "y0": " ",
         "yaxis": "y"
        },
        {
         "alignmentgroup": "True",
         "boxpoints": "all",
         "fillcolor": "rgba(255,255,255,0)",
         "hoveron": "points",
         "hovertemplate": "bids_name=sub-212152_acq-headmotion1_T1w<br>score=%{x}<br>condition=%{y}<extra></extra>",
         "legendgroup": "sub-212152_acq-headmotion1_T1w",
         "line": {
          "color": "rgba(255,255,255,0)"
         },
         "marker": {
          "color": "#ab63fa"
         },
         "name": "sub-212152_acq-headmotion1_T1w",
         "offsetgroup": "sub-212152_acq-headmotion1_T1w",
         "orientation": "v",
         "pointpos": 0,
         "showlegend": true,
         "type": "box",
         "x": [
          3
         ],
         "x0": " ",
         "xaxis": "x",
         "y": [
          2
         ],
         "y0": " ",
         "yaxis": "y"
        },
        {
         "alignmentgroup": "True",
         "boxpoints": "all",
         "fillcolor": "rgba(255,255,255,0)",
         "hoveron": "points",
         "hovertemplate": "bids_name=sub-212152_acq-headmotion2_T1w<br>score=%{x}<br>condition=%{y}<extra></extra>",
         "legendgroup": "sub-212152_acq-headmotion2_T1w",
         "line": {
          "color": "rgba(255,255,255,0)"
         },
         "marker": {
          "color": "#FFA15A"
         },
         "name": "sub-212152_acq-headmotion2_T1w",
         "offsetgroup": "sub-212152_acq-headmotion2_T1w",
         "orientation": "v",
         "pointpos": 0,
         "showlegend": true,
         "type": "box",
         "x": [
          3
         ],
         "x0": " ",
         "xaxis": "x",
         "y": [
          3
         ],
         "y0": " ",
         "yaxis": "y"
        },
        {
         "alignmentgroup": "True",
         "boxpoints": "all",
         "fillcolor": "rgba(255,255,255,0)",
         "hoveron": "points",
         "hovertemplate": "bids_name=sub-217720_acq-standard_T1w<br>score=%{x}<br>condition=%{y}<extra></extra>",
         "legendgroup": "sub-217720_acq-standard_T1w",
         "line": {
          "color": "rgba(255,255,255,0)"
         },
         "marker": {
          "color": "#19d3f3"
         },
         "name": "sub-217720_acq-standard_T1w",
         "offsetgroup": "sub-217720_acq-standard_T1w",
         "orientation": "v",
         "pointpos": 0,
         "showlegend": true,
         "type": "box",
         "x": [
          1
         ],
         "x0": " ",
         "xaxis": "x",
         "y": [
          1
         ],
         "y0": " ",
         "yaxis": "y"
        },
        {
         "alignmentgroup": "True",
         "boxpoints": "all",
         "fillcolor": "rgba(255,255,255,0)",
         "hoveron": "points",
         "hovertemplate": "bids_name=sub-217720_acq-headmotion1_T1w<br>score=%{x}<br>condition=%{y}<extra></extra>",
         "legendgroup": "sub-217720_acq-headmotion1_T1w",
         "line": {
          "color": "rgba(255,255,255,0)"
         },
         "marker": {
          "color": "#FF6692"
         },
         "name": "sub-217720_acq-headmotion1_T1w",
         "offsetgroup": "sub-217720_acq-headmotion1_T1w",
         "orientation": "v",
         "pointpos": 0,
         "showlegend": true,
         "type": "box",
         "x": [
          2
         ],
         "x0": " ",
         "xaxis": "x",
         "y": [
          2
         ],
         "y0": " ",
         "yaxis": "y"
        },
        {
         "alignmentgroup": "True",
         "boxpoints": "all",
         "fillcolor": "rgba(255,255,255,0)",
         "hoveron": "points",
         "hovertemplate": "bids_name=sub-217720_acq-headmotion2_T1w<br>score=%{x}<br>condition=%{y}<extra></extra>",
         "legendgroup": "sub-217720_acq-headmotion2_T1w",
         "line": {
          "color": "rgba(255,255,255,0)"
         },
         "marker": {
          "color": "#B6E880"
         },
         "name": "sub-217720_acq-headmotion2_T1w",
         "offsetgroup": "sub-217720_acq-headmotion2_T1w",
         "orientation": "v",
         "pointpos": 0,
         "showlegend": true,
         "type": "box",
         "x": [
          2
         ],
         "x0": " ",
         "xaxis": "x",
         "y": [
          3
         ],
         "y0": " ",
         "yaxis": "y"
        },
        {
         "alignmentgroup": "True",
         "boxpoints": "all",
         "fillcolor": "rgba(255,255,255,0)",
         "hoveron": "points",
         "hovertemplate": "bids_name=sub-219843_acq-standard_T1w<br>score=%{x}<br>condition=%{y}<extra></extra>",
         "legendgroup": "sub-219843_acq-standard_T1w",
         "line": {
          "color": "rgba(255,255,255,0)"
         },
         "marker": {
          "color": "#FF97FF"
         },
         "name": "sub-219843_acq-standard_T1w",
         "offsetgroup": "sub-219843_acq-standard_T1w",
         "orientation": "v",
         "pointpos": 0,
         "showlegend": true,
         "type": "box",
         "x": [
          1
         ],
         "x0": " ",
         "xaxis": "x",
         "y": [
          1
         ],
         "y0": " ",
         "yaxis": "y"
        },
        {
         "alignmentgroup": "True",
         "boxpoints": "all",
         "fillcolor": "rgba(255,255,255,0)",
         "hoveron": "points",
         "hovertemplate": "bids_name=sub-219843_acq-headmotion1_T1w<br>score=%{x}<br>condition=%{y}<extra></extra>",
         "legendgroup": "sub-219843_acq-headmotion1_T1w",
         "line": {
          "color": "rgba(255,255,255,0)"
         },
         "marker": {
          "color": "#FECB52"
         },
         "name": "sub-219843_acq-headmotion1_T1w",
         "offsetgroup": "sub-219843_acq-headmotion1_T1w",
         "orientation": "v",
         "pointpos": 0,
         "showlegend": true,
         "type": "box",
         "x": [
          2
         ],
         "x0": " ",
         "xaxis": "x",
         "y": [
          2
         ],
         "y0": " ",
         "yaxis": "y"
        },
        {
         "alignmentgroup": "True",
         "boxpoints": "all",
         "fillcolor": "rgba(255,255,255,0)",
         "hoveron": "points",
         "hovertemplate": "bids_name=sub-219843_acq-headmotion2_T1w<br>score=%{x}<br>condition=%{y}<extra></extra>",
         "legendgroup": "sub-219843_acq-headmotion2_T1w",
         "line": {
          "color": "rgba(255,255,255,0)"
         },
         "marker": {
          "color": "#636efa"
         },
         "name": "sub-219843_acq-headmotion2_T1w",
         "offsetgroup": "sub-219843_acq-headmotion2_T1w",
         "orientation": "v",
         "pointpos": 0,
         "showlegend": true,
         "type": "box",
         "x": [
          3
         ],
         "x0": " ",
         "xaxis": "x",
         "y": [
          3
         ],
         "y0": " ",
         "yaxis": "y"
        },
        {
         "alignmentgroup": "True",
         "boxpoints": "all",
         "fillcolor": "rgba(255,255,255,0)",
         "hoveron": "points",
         "hovertemplate": "bids_name=sub-228373_acq-standard_T1w<br>score=%{x}<br>condition=%{y}<extra></extra>",
         "legendgroup": "sub-228373_acq-standard_T1w",
         "line": {
          "color": "rgba(255,255,255,0)"
         },
         "marker": {
          "color": "#EF553B"
         },
         "name": "sub-228373_acq-standard_T1w",
         "offsetgroup": "sub-228373_acq-standard_T1w",
         "orientation": "v",
         "pointpos": 0,
         "showlegend": true,
         "type": "box",
         "x": [
          1
         ],
         "x0": " ",
         "xaxis": "x",
         "y": [
          1
         ],
         "y0": " ",
         "yaxis": "y"
        },
        {
         "alignmentgroup": "True",
         "boxpoints": "all",
         "fillcolor": "rgba(255,255,255,0)",
         "hoveron": "points",
         "hovertemplate": "bids_name=sub-228373_acq-headmotion1_T1w<br>score=%{x}<br>condition=%{y}<extra></extra>",
         "legendgroup": "sub-228373_acq-headmotion1_T1w",
         "line": {
          "color": "rgba(255,255,255,0)"
         },
         "marker": {
          "color": "#00cc96"
         },
         "name": "sub-228373_acq-headmotion1_T1w",
         "offsetgroup": "sub-228373_acq-headmotion1_T1w",
         "orientation": "v",
         "pointpos": 0,
         "showlegend": true,
         "type": "box",
         "x": [
          3
         ],
         "x0": " ",
         "xaxis": "x",
         "y": [
          2
         ],
         "y0": " ",
         "yaxis": "y"
        },
        {
         "alignmentgroup": "True",
         "boxpoints": "all",
         "fillcolor": "rgba(255,255,255,0)",
         "hoveron": "points",
         "hovertemplate": "bids_name=sub-228373_acq-headmotion2_T1w<br>score=%{x}<br>condition=%{y}<extra></extra>",
         "legendgroup": "sub-228373_acq-headmotion2_T1w",
         "line": {
          "color": "rgba(255,255,255,0)"
         },
         "marker": {
          "color": "#ab63fa"
         },
         "name": "sub-228373_acq-headmotion2_T1w",
         "offsetgroup": "sub-228373_acq-headmotion2_T1w",
         "orientation": "v",
         "pointpos": 0,
         "showlegend": true,
         "type": "box",
         "x": [
          3
         ],
         "x0": " ",
         "xaxis": "x",
         "y": [
          3
         ],
         "y0": " ",
         "yaxis": "y"
        },
        {
         "alignmentgroup": "True",
         "boxpoints": "all",
         "fillcolor": "rgba(255,255,255,0)",
         "hoveron": "points",
         "hovertemplate": "bids_name=sub-253306_acq-standard_T1w<br>score=%{x}<br>condition=%{y}<extra></extra>",
         "legendgroup": "sub-253306_acq-standard_T1w",
         "line": {
          "color": "rgba(255,255,255,0)"
         },
         "marker": {
          "color": "#FFA15A"
         },
         "name": "sub-253306_acq-standard_T1w",
         "offsetgroup": "sub-253306_acq-standard_T1w",
         "orientation": "v",
         "pointpos": 0,
         "showlegend": true,
         "type": "box",
         "x": [
          1
         ],
         "x0": " ",
         "xaxis": "x",
         "y": [
          1
         ],
         "y0": " ",
         "yaxis": "y"
        },
        {
         "alignmentgroup": "True",
         "boxpoints": "all",
         "fillcolor": "rgba(255,255,255,0)",
         "hoveron": "points",
         "hovertemplate": "bids_name=sub-253306_acq-headmotion1_T1w<br>score=%{x}<br>condition=%{y}<extra></extra>",
         "legendgroup": "sub-253306_acq-headmotion1_T1w",
         "line": {
          "color": "rgba(255,255,255,0)"
         },
         "marker": {
          "color": "#19d3f3"
         },
         "name": "sub-253306_acq-headmotion1_T1w",
         "offsetgroup": "sub-253306_acq-headmotion1_T1w",
         "orientation": "v",
         "pointpos": 0,
         "showlegend": true,
         "type": "box",
         "x": [
          2
         ],
         "x0": " ",
         "xaxis": "x",
         "y": [
          2
         ],
         "y0": " ",
         "yaxis": "y"
        },
        {
         "alignmentgroup": "True",
         "boxpoints": "all",
         "fillcolor": "rgba(255,255,255,0)",
         "hoveron": "points",
         "hovertemplate": "bids_name=sub-253306_acq-headmotion2_T1w<br>score=%{x}<br>condition=%{y}<extra></extra>",
         "legendgroup": "sub-253306_acq-headmotion2_T1w",
         "line": {
          "color": "rgba(255,255,255,0)"
         },
         "marker": {
          "color": "#FF6692"
         },
         "name": "sub-253306_acq-headmotion2_T1w",
         "offsetgroup": "sub-253306_acq-headmotion2_T1w",
         "orientation": "v",
         "pointpos": 0,
         "showlegend": true,
         "type": "box",
         "x": [
          3
         ],
         "x0": " ",
         "xaxis": "x",
         "y": [
          3
         ],
         "y0": " ",
         "yaxis": "y"
        },
        {
         "alignmentgroup": "True",
         "boxpoints": "all",
         "fillcolor": "rgba(255,255,255,0)",
         "hoveron": "points",
         "hovertemplate": "bids_name=sub-253493_acq-standard_T1w<br>score=%{x}<br>condition=%{y}<extra></extra>",
         "legendgroup": "sub-253493_acq-standard_T1w",
         "line": {
          "color": "rgba(255,255,255,0)"
         },
         "marker": {
          "color": "#B6E880"
         },
         "name": "sub-253493_acq-standard_T1w",
         "offsetgroup": "sub-253493_acq-standard_T1w",
         "orientation": "v",
         "pointpos": 0,
         "showlegend": true,
         "type": "box",
         "x": [
          1
         ],
         "x0": " ",
         "xaxis": "x",
         "y": [
          1
         ],
         "y0": " ",
         "yaxis": "y"
        },
        {
         "alignmentgroup": "True",
         "boxpoints": "all",
         "fillcolor": "rgba(255,255,255,0)",
         "hoveron": "points",
         "hovertemplate": "bids_name=sub-253493_acq-headmotion1_T1w<br>score=%{x}<br>condition=%{y}<extra></extra>",
         "legendgroup": "sub-253493_acq-headmotion1_T1w",
         "line": {
          "color": "rgba(255,255,255,0)"
         },
         "marker": {
          "color": "#FF97FF"
         },
         "name": "sub-253493_acq-headmotion1_T1w",
         "offsetgroup": "sub-253493_acq-headmotion1_T1w",
         "orientation": "v",
         "pointpos": 0,
         "showlegend": true,
         "type": "box",
         "x": [
          2
         ],
         "x0": " ",
         "xaxis": "x",
         "y": [
          2
         ],
         "y0": " ",
         "yaxis": "y"
        },
        {
         "alignmentgroup": "True",
         "boxpoints": "all",
         "fillcolor": "rgba(255,255,255,0)",
         "hoveron": "points",
         "hovertemplate": "bids_name=sub-253493_acq-headmotion2_T1w<br>score=%{x}<br>condition=%{y}<extra></extra>",
         "legendgroup": "sub-253493_acq-headmotion2_T1w",
         "line": {
          "color": "rgba(255,255,255,0)"
         },
         "marker": {
          "color": "#FECB52"
         },
         "name": "sub-253493_acq-headmotion2_T1w",
         "offsetgroup": "sub-253493_acq-headmotion2_T1w",
         "orientation": "v",
         "pointpos": 0,
         "showlegend": true,
         "type": "box",
         "x": [
          1
         ],
         "x0": " ",
         "xaxis": "x",
         "y": [
          3
         ],
         "y0": " ",
         "yaxis": "y"
        },
        {
         "alignmentgroup": "True",
         "boxpoints": "all",
         "fillcolor": "rgba(255,255,255,0)",
         "hoveron": "points",
         "hovertemplate": "bids_name=sub-257563_acq-standard_T1w<br>score=%{x}<br>condition=%{y}<extra></extra>",
         "legendgroup": "sub-257563_acq-standard_T1w",
         "line": {
          "color": "rgba(255,255,255,0)"
         },
         "marker": {
          "color": "#636efa"
         },
         "name": "sub-257563_acq-standard_T1w",
         "offsetgroup": "sub-257563_acq-standard_T1w",
         "orientation": "v",
         "pointpos": 0,
         "showlegend": true,
         "type": "box",
         "x": [
          1
         ],
         "x0": " ",
         "xaxis": "x",
         "y": [
          1
         ],
         "y0": " ",
         "yaxis": "y"
        },
        {
         "alignmentgroup": "True",
         "boxpoints": "all",
         "fillcolor": "rgba(255,255,255,0)",
         "hoveron": "points",
         "hovertemplate": "bids_name=sub-257563_acq-headmotion1_T1w<br>score=%{x}<br>condition=%{y}<extra></extra>",
         "legendgroup": "sub-257563_acq-headmotion1_T1w",
         "line": {
          "color": "rgba(255,255,255,0)"
         },
         "marker": {
          "color": "#EF553B"
         },
         "name": "sub-257563_acq-headmotion1_T1w",
         "offsetgroup": "sub-257563_acq-headmotion1_T1w",
         "orientation": "v",
         "pointpos": 0,
         "showlegend": true,
         "type": "box",
         "x": [
          2
         ],
         "x0": " ",
         "xaxis": "x",
         "y": [
          2
         ],
         "y0": " ",
         "yaxis": "y"
        },
        {
         "alignmentgroup": "True",
         "boxpoints": "all",
         "fillcolor": "rgba(255,255,255,0)",
         "hoveron": "points",
         "hovertemplate": "bids_name=sub-257563_acq-headmotion2_T1w<br>score=%{x}<br>condition=%{y}<extra></extra>",
         "legendgroup": "sub-257563_acq-headmotion2_T1w",
         "line": {
          "color": "rgba(255,255,255,0)"
         },
         "marker": {
          "color": "#00cc96"
         },
         "name": "sub-257563_acq-headmotion2_T1w",
         "offsetgroup": "sub-257563_acq-headmotion2_T1w",
         "orientation": "v",
         "pointpos": 0,
         "showlegend": true,
         "type": "box",
         "x": [
          1
         ],
         "x0": " ",
         "xaxis": "x",
         "y": [
          3
         ],
         "y0": " ",
         "yaxis": "y"
        },
        {
         "alignmentgroup": "True",
         "boxpoints": "all",
         "fillcolor": "rgba(255,255,255,0)",
         "hoveron": "points",
         "hovertemplate": "bids_name=sub-258056_acq-standard_T1w<br>score=%{x}<br>condition=%{y}<extra></extra>",
         "legendgroup": "sub-258056_acq-standard_T1w",
         "line": {
          "color": "rgba(255,255,255,0)"
         },
         "marker": {
          "color": "#ab63fa"
         },
         "name": "sub-258056_acq-standard_T1w",
         "offsetgroup": "sub-258056_acq-standard_T1w",
         "orientation": "v",
         "pointpos": 0,
         "showlegend": true,
         "type": "box",
         "x": [
          1
         ],
         "x0": " ",
         "xaxis": "x",
         "y": [
          1
         ],
         "y0": " ",
         "yaxis": "y"
        },
        {
         "alignmentgroup": "True",
         "boxpoints": "all",
         "fillcolor": "rgba(255,255,255,0)",
         "hoveron": "points",
         "hovertemplate": "bids_name=sub-258056_acq-headmotion1_T1w<br>score=%{x}<br>condition=%{y}<extra></extra>",
         "legendgroup": "sub-258056_acq-headmotion1_T1w",
         "line": {
          "color": "rgba(255,255,255,0)"
         },
         "marker": {
          "color": "#FFA15A"
         },
         "name": "sub-258056_acq-headmotion1_T1w",
         "offsetgroup": "sub-258056_acq-headmotion1_T1w",
         "orientation": "v",
         "pointpos": 0,
         "showlegend": true,
         "type": "box",
         "x": [
          3
         ],
         "x0": " ",
         "xaxis": "x",
         "y": [
          2
         ],
         "y0": " ",
         "yaxis": "y"
        },
        {
         "alignmentgroup": "True",
         "boxpoints": "all",
         "fillcolor": "rgba(255,255,255,0)",
         "hoveron": "points",
         "hovertemplate": "bids_name=sub-258056_acq-headmotion2_T1w<br>score=%{x}<br>condition=%{y}<extra></extra>",
         "legendgroup": "sub-258056_acq-headmotion2_T1w",
         "line": {
          "color": "rgba(255,255,255,0)"
         },
         "marker": {
          "color": "#19d3f3"
         },
         "name": "sub-258056_acq-headmotion2_T1w",
         "offsetgroup": "sub-258056_acq-headmotion2_T1w",
         "orientation": "v",
         "pointpos": 0,
         "showlegend": true,
         "type": "box",
         "x": [
          3
         ],
         "x0": " ",
         "xaxis": "x",
         "y": [
          3
         ],
         "y0": " ",
         "yaxis": "y"
        },
        {
         "alignmentgroup": "True",
         "boxpoints": "all",
         "fillcolor": "rgba(255,255,255,0)",
         "hoveron": "points",
         "hovertemplate": "bids_name=sub-261051_acq-standard_T1w<br>score=%{x}<br>condition=%{y}<extra></extra>",
         "legendgroup": "sub-261051_acq-standard_T1w",
         "line": {
          "color": "rgba(255,255,255,0)"
         },
         "marker": {
          "color": "#FF6692"
         },
         "name": "sub-261051_acq-standard_T1w",
         "offsetgroup": "sub-261051_acq-standard_T1w",
         "orientation": "v",
         "pointpos": 0,
         "showlegend": true,
         "type": "box",
         "x": [
          2
         ],
         "x0": " ",
         "xaxis": "x",
         "y": [
          1
         ],
         "y0": " ",
         "yaxis": "y"
        },
        {
         "alignmentgroup": "True",
         "boxpoints": "all",
         "fillcolor": "rgba(255,255,255,0)",
         "hoveron": "points",
         "hovertemplate": "bids_name=sub-261051_acq-headmotion1_T1w<br>score=%{x}<br>condition=%{y}<extra></extra>",
         "legendgroup": "sub-261051_acq-headmotion1_T1w",
         "line": {
          "color": "rgba(255,255,255,0)"
         },
         "marker": {
          "color": "#B6E880"
         },
         "name": "sub-261051_acq-headmotion1_T1w",
         "offsetgroup": "sub-261051_acq-headmotion1_T1w",
         "orientation": "v",
         "pointpos": 0,
         "showlegend": true,
         "type": "box",
         "x": [
          3
         ],
         "x0": " ",
         "xaxis": "x",
         "y": [
          2
         ],
         "y0": " ",
         "yaxis": "y"
        },
        {
         "alignmentgroup": "True",
         "boxpoints": "all",
         "fillcolor": "rgba(255,255,255,0)",
         "hoveron": "points",
         "hovertemplate": "bids_name=sub-261051_acq-headmotion2_T1w<br>score=%{x}<br>condition=%{y}<extra></extra>",
         "legendgroup": "sub-261051_acq-headmotion2_T1w",
         "line": {
          "color": "rgba(255,255,255,0)"
         },
         "marker": {
          "color": "#FF97FF"
         },
         "name": "sub-261051_acq-headmotion2_T1w",
         "offsetgroup": "sub-261051_acq-headmotion2_T1w",
         "orientation": "v",
         "pointpos": 0,
         "showlegend": true,
         "type": "box",
         "x": [
          3
         ],
         "x0": " ",
         "xaxis": "x",
         "y": [
          3
         ],
         "y0": " ",
         "yaxis": "y"
        },
        {
         "alignmentgroup": "True",
         "boxpoints": "all",
         "fillcolor": "rgba(255,255,255,0)",
         "hoveron": "points",
         "hovertemplate": "bids_name=sub-262577_acq-standard_T1w<br>score=%{x}<br>condition=%{y}<extra></extra>",
         "legendgroup": "sub-262577_acq-standard_T1w",
         "line": {
          "color": "rgba(255,255,255,0)"
         },
         "marker": {
          "color": "#FECB52"
         },
         "name": "sub-262577_acq-standard_T1w",
         "offsetgroup": "sub-262577_acq-standard_T1w",
         "orientation": "v",
         "pointpos": 0,
         "showlegend": true,
         "type": "box",
         "x": [
          1
         ],
         "x0": " ",
         "xaxis": "x",
         "y": [
          1
         ],
         "y0": " ",
         "yaxis": "y"
        },
        {
         "alignmentgroup": "True",
         "boxpoints": "all",
         "fillcolor": "rgba(255,255,255,0)",
         "hoveron": "points",
         "hovertemplate": "bids_name=sub-262577_acq-headmotion1_T1w<br>score=%{x}<br>condition=%{y}<extra></extra>",
         "legendgroup": "sub-262577_acq-headmotion1_T1w",
         "line": {
          "color": "rgba(255,255,255,0)"
         },
         "marker": {
          "color": "#636efa"
         },
         "name": "sub-262577_acq-headmotion1_T1w",
         "offsetgroup": "sub-262577_acq-headmotion1_T1w",
         "orientation": "v",
         "pointpos": 0,
         "showlegend": true,
         "type": "box",
         "x": [
          3
         ],
         "x0": " ",
         "xaxis": "x",
         "y": [
          2
         ],
         "y0": " ",
         "yaxis": "y"
        },
        {
         "alignmentgroup": "True",
         "boxpoints": "all",
         "fillcolor": "rgba(255,255,255,0)",
         "hoveron": "points",
         "hovertemplate": "bids_name=sub-262577_acq-headmotion2_T1w<br>score=%{x}<br>condition=%{y}<extra></extra>",
         "legendgroup": "sub-262577_acq-headmotion2_T1w",
         "line": {
          "color": "rgba(255,255,255,0)"
         },
         "marker": {
          "color": "#EF553B"
         },
         "name": "sub-262577_acq-headmotion2_T1w",
         "offsetgroup": "sub-262577_acq-headmotion2_T1w",
         "orientation": "v",
         "pointpos": 0,
         "showlegend": true,
         "type": "box",
         "x": [
          3
         ],
         "x0": " ",
         "xaxis": "x",
         "y": [
          3
         ],
         "y0": " ",
         "yaxis": "y"
        },
        {
         "alignmentgroup": "True",
         "boxpoints": "all",
         "fillcolor": "rgba(255,255,255,0)",
         "hoveron": "points",
         "hovertemplate": "bids_name=sub-275147_acq-standard_T1w<br>score=%{x}<br>condition=%{y}<extra></extra>",
         "legendgroup": "sub-275147_acq-standard_T1w",
         "line": {
          "color": "rgba(255,255,255,0)"
         },
         "marker": {
          "color": "#00cc96"
         },
         "name": "sub-275147_acq-standard_T1w",
         "offsetgroup": "sub-275147_acq-standard_T1w",
         "orientation": "v",
         "pointpos": 0,
         "showlegend": true,
         "type": "box",
         "x": [
          2
         ],
         "x0": " ",
         "xaxis": "x",
         "y": [
          1
         ],
         "y0": " ",
         "yaxis": "y"
        },
        {
         "alignmentgroup": "True",
         "boxpoints": "all",
         "fillcolor": "rgba(255,255,255,0)",
         "hoveron": "points",
         "hovertemplate": "bids_name=sub-275147_acq-headmotion1_T1w<br>score=%{x}<br>condition=%{y}<extra></extra>",
         "legendgroup": "sub-275147_acq-headmotion1_T1w",
         "line": {
          "color": "rgba(255,255,255,0)"
         },
         "marker": {
          "color": "#ab63fa"
         },
         "name": "sub-275147_acq-headmotion1_T1w",
         "offsetgroup": "sub-275147_acq-headmotion1_T1w",
         "orientation": "v",
         "pointpos": 0,
         "showlegend": true,
         "type": "box",
         "x": [
          3
         ],
         "x0": " ",
         "xaxis": "x",
         "y": [
          2
         ],
         "y0": " ",
         "yaxis": "y"
        },
        {
         "alignmentgroup": "True",
         "boxpoints": "all",
         "fillcolor": "rgba(255,255,255,0)",
         "hoveron": "points",
         "hovertemplate": "bids_name=sub-275147_acq-headmotion2_T1w<br>score=%{x}<br>condition=%{y}<extra></extra>",
         "legendgroup": "sub-275147_acq-headmotion2_T1w",
         "line": {
          "color": "rgba(255,255,255,0)"
         },
         "marker": {
          "color": "#FFA15A"
         },
         "name": "sub-275147_acq-headmotion2_T1w",
         "offsetgroup": "sub-275147_acq-headmotion2_T1w",
         "orientation": "v",
         "pointpos": 0,
         "showlegend": true,
         "type": "box",
         "x": [
          3
         ],
         "x0": " ",
         "xaxis": "x",
         "y": [
          3
         ],
         "y0": " ",
         "yaxis": "y"
        },
        {
         "alignmentgroup": "True",
         "boxpoints": "all",
         "fillcolor": "rgba(255,255,255,0)",
         "hoveron": "points",
         "hovertemplate": "bids_name=sub-275211_acq-standard_T1w<br>score=%{x}<br>condition=%{y}<extra></extra>",
         "legendgroup": "sub-275211_acq-standard_T1w",
         "line": {
          "color": "rgba(255,255,255,0)"
         },
         "marker": {
          "color": "#19d3f3"
         },
         "name": "sub-275211_acq-standard_T1w",
         "offsetgroup": "sub-275211_acq-standard_T1w",
         "orientation": "v",
         "pointpos": 0,
         "showlegend": true,
         "type": "box",
         "x": [
          1
         ],
         "x0": " ",
         "xaxis": "x",
         "y": [
          1
         ],
         "y0": " ",
         "yaxis": "y"
        },
        {
         "alignmentgroup": "True",
         "boxpoints": "all",
         "fillcolor": "rgba(255,255,255,0)",
         "hoveron": "points",
         "hovertemplate": "bids_name=sub-275211_acq-headmotion1_T1w<br>score=%{x}<br>condition=%{y}<extra></extra>",
         "legendgroup": "sub-275211_acq-headmotion1_T1w",
         "line": {
          "color": "rgba(255,255,255,0)"
         },
         "marker": {
          "color": "#FF6692"
         },
         "name": "sub-275211_acq-headmotion1_T1w",
         "offsetgroup": "sub-275211_acq-headmotion1_T1w",
         "orientation": "v",
         "pointpos": 0,
         "showlegend": true,
         "type": "box",
         "x": [
          3
         ],
         "x0": " ",
         "xaxis": "x",
         "y": [
          2
         ],
         "y0": " ",
         "yaxis": "y"
        },
        {
         "alignmentgroup": "True",
         "boxpoints": "all",
         "fillcolor": "rgba(255,255,255,0)",
         "hoveron": "points",
         "hovertemplate": "bids_name=sub-275211_acq-headmotion2_T1w<br>score=%{x}<br>condition=%{y}<extra></extra>",
         "legendgroup": "sub-275211_acq-headmotion2_T1w",
         "line": {
          "color": "rgba(255,255,255,0)"
         },
         "marker": {
          "color": "#B6E880"
         },
         "name": "sub-275211_acq-headmotion2_T1w",
         "offsetgroup": "sub-275211_acq-headmotion2_T1w",
         "orientation": "v",
         "pointpos": 0,
         "showlegend": true,
         "type": "box",
         "x": [
          3
         ],
         "x0": " ",
         "xaxis": "x",
         "y": [
          3
         ],
         "y0": " ",
         "yaxis": "y"
        },
        {
         "alignmentgroup": "True",
         "boxpoints": "all",
         "fillcolor": "rgba(255,255,255,0)",
         "hoveron": "points",
         "hovertemplate": "bids_name=sub-278729_acq-standard_T1w<br>score=%{x}<br>condition=%{y}<extra></extra>",
         "legendgroup": "sub-278729_acq-standard_T1w",
         "line": {
          "color": "rgba(255,255,255,0)"
         },
         "marker": {
          "color": "#FF97FF"
         },
         "name": "sub-278729_acq-standard_T1w",
         "offsetgroup": "sub-278729_acq-standard_T1w",
         "orientation": "v",
         "pointpos": 0,
         "showlegend": true,
         "type": "box",
         "x": [
          1
         ],
         "x0": " ",
         "xaxis": "x",
         "y": [
          1
         ],
         "y0": " ",
         "yaxis": "y"
        },
        {
         "alignmentgroup": "True",
         "boxpoints": "all",
         "fillcolor": "rgba(255,255,255,0)",
         "hoveron": "points",
         "hovertemplate": "bids_name=sub-278729_acq-headmotion1_T1w<br>score=%{x}<br>condition=%{y}<extra></extra>",
         "legendgroup": "sub-278729_acq-headmotion1_T1w",
         "line": {
          "color": "rgba(255,255,255,0)"
         },
         "marker": {
          "color": "#FECB52"
         },
         "name": "sub-278729_acq-headmotion1_T1w",
         "offsetgroup": "sub-278729_acq-headmotion1_T1w",
         "orientation": "v",
         "pointpos": 0,
         "showlegend": true,
         "type": "box",
         "x": [
          2
         ],
         "x0": " ",
         "xaxis": "x",
         "y": [
          2
         ],
         "y0": " ",
         "yaxis": "y"
        },
        {
         "alignmentgroup": "True",
         "boxpoints": "all",
         "fillcolor": "rgba(255,255,255,0)",
         "hoveron": "points",
         "hovertemplate": "bids_name=sub-278729_acq-headmotion2_T1w<br>score=%{x}<br>condition=%{y}<extra></extra>",
         "legendgroup": "sub-278729_acq-headmotion2_T1w",
         "line": {
          "color": "rgba(255,255,255,0)"
         },
         "marker": {
          "color": "#636efa"
         },
         "name": "sub-278729_acq-headmotion2_T1w",
         "offsetgroup": "sub-278729_acq-headmotion2_T1w",
         "orientation": "v",
         "pointpos": 0,
         "showlegend": true,
         "type": "box",
         "x": [
          3
         ],
         "x0": " ",
         "xaxis": "x",
         "y": [
          3
         ],
         "y0": " ",
         "yaxis": "y"
        },
        {
         "alignmentgroup": "True",
         "boxpoints": "all",
         "fillcolor": "rgba(255,255,255,0)",
         "hoveron": "points",
         "hovertemplate": "bids_name=sub-279373_acq-standard_T1w<br>score=%{x}<br>condition=%{y}<extra></extra>",
         "legendgroup": "sub-279373_acq-standard_T1w",
         "line": {
          "color": "rgba(255,255,255,0)"
         },
         "marker": {
          "color": "#EF553B"
         },
         "name": "sub-279373_acq-standard_T1w",
         "offsetgroup": "sub-279373_acq-standard_T1w",
         "orientation": "v",
         "pointpos": 0,
         "showlegend": true,
         "type": "box",
         "x": [
          2
         ],
         "x0": " ",
         "xaxis": "x",
         "y": [
          1
         ],
         "y0": " ",
         "yaxis": "y"
        },
        {
         "alignmentgroup": "True",
         "boxpoints": "all",
         "fillcolor": "rgba(255,255,255,0)",
         "hoveron": "points",
         "hovertemplate": "bids_name=sub-279373_acq-headmotion2_T1w<br>score=%{x}<br>condition=%{y}<extra></extra>",
         "legendgroup": "sub-279373_acq-headmotion2_T1w",
         "line": {
          "color": "rgba(255,255,255,0)"
         },
         "marker": {
          "color": "#00cc96"
         },
         "name": "sub-279373_acq-headmotion2_T1w",
         "offsetgroup": "sub-279373_acq-headmotion2_T1w",
         "orientation": "v",
         "pointpos": 0,
         "showlegend": true,
         "type": "box",
         "x": [
          3
         ],
         "x0": " ",
         "xaxis": "x",
         "y": [
          3
         ],
         "y0": " ",
         "yaxis": "y"
        },
        {
         "alignmentgroup": "True",
         "boxpoints": "all",
         "fillcolor": "rgba(255,255,255,0)",
         "hoveron": "points",
         "hovertemplate": "bids_name=sub-281888_acq-standard_T1w<br>score=%{x}<br>condition=%{y}<extra></extra>",
         "legendgroup": "sub-281888_acq-standard_T1w",
         "line": {
          "color": "rgba(255,255,255,0)"
         },
         "marker": {
          "color": "#ab63fa"
         },
         "name": "sub-281888_acq-standard_T1w",
         "offsetgroup": "sub-281888_acq-standard_T1w",
         "orientation": "v",
         "pointpos": 0,
         "showlegend": true,
         "type": "box",
         "x": [
          1
         ],
         "x0": " ",
         "xaxis": "x",
         "y": [
          1
         ],
         "y0": " ",
         "yaxis": "y"
        },
        {
         "alignmentgroup": "True",
         "boxpoints": "all",
         "fillcolor": "rgba(255,255,255,0)",
         "hoveron": "points",
         "hovertemplate": "bids_name=sub-281888_acq-headmotion1_T1w<br>score=%{x}<br>condition=%{y}<extra></extra>",
         "legendgroup": "sub-281888_acq-headmotion1_T1w",
         "line": {
          "color": "rgba(255,255,255,0)"
         },
         "marker": {
          "color": "#FFA15A"
         },
         "name": "sub-281888_acq-headmotion1_T1w",
         "offsetgroup": "sub-281888_acq-headmotion1_T1w",
         "orientation": "v",
         "pointpos": 0,
         "showlegend": true,
         "type": "box",
         "x": [
          2
         ],
         "x0": " ",
         "xaxis": "x",
         "y": [
          2
         ],
         "y0": " ",
         "yaxis": "y"
        },
        {
         "alignmentgroup": "True",
         "boxpoints": "all",
         "fillcolor": "rgba(255,255,255,0)",
         "hoveron": "points",
         "hovertemplate": "bids_name=sub-281888_acq-headmotion2_T1w<br>score=%{x}<br>condition=%{y}<extra></extra>",
         "legendgroup": "sub-281888_acq-headmotion2_T1w",
         "line": {
          "color": "rgba(255,255,255,0)"
         },
         "marker": {
          "color": "#19d3f3"
         },
         "name": "sub-281888_acq-headmotion2_T1w",
         "offsetgroup": "sub-281888_acq-headmotion2_T1w",
         "orientation": "v",
         "pointpos": 0,
         "showlegend": true,
         "type": "box",
         "x": [
          3
         ],
         "x0": " ",
         "xaxis": "x",
         "y": [
          3
         ],
         "y0": " ",
         "yaxis": "y"
        },
        {
         "alignmentgroup": "True",
         "boxpoints": "all",
         "fillcolor": "rgba(255,255,255,0)",
         "hoveron": "points",
         "hovertemplate": "bids_name=sub-282628_acq-standard_T1w<br>score=%{x}<br>condition=%{y}<extra></extra>",
         "legendgroup": "sub-282628_acq-standard_T1w",
         "line": {
          "color": "rgba(255,255,255,0)"
         },
         "marker": {
          "color": "#FF6692"
         },
         "name": "sub-282628_acq-standard_T1w",
         "offsetgroup": "sub-282628_acq-standard_T1w",
         "orientation": "v",
         "pointpos": 0,
         "showlegend": true,
         "type": "box",
         "x": [
          1
         ],
         "x0": " ",
         "xaxis": "x",
         "y": [
          1
         ],
         "y0": " ",
         "yaxis": "y"
        },
        {
         "alignmentgroup": "True",
         "boxpoints": "all",
         "fillcolor": "rgba(255,255,255,0)",
         "hoveron": "points",
         "hovertemplate": "bids_name=sub-282628_acq-headmotion1_T1w<br>score=%{x}<br>condition=%{y}<extra></extra>",
         "legendgroup": "sub-282628_acq-headmotion1_T1w",
         "line": {
          "color": "rgba(255,255,255,0)"
         },
         "marker": {
          "color": "#B6E880"
         },
         "name": "sub-282628_acq-headmotion1_T1w",
         "offsetgroup": "sub-282628_acq-headmotion1_T1w",
         "orientation": "v",
         "pointpos": 0,
         "showlegend": true,
         "type": "box",
         "x": [
          3
         ],
         "x0": " ",
         "xaxis": "x",
         "y": [
          2
         ],
         "y0": " ",
         "yaxis": "y"
        },
        {
         "alignmentgroup": "True",
         "boxpoints": "all",
         "fillcolor": "rgba(255,255,255,0)",
         "hoveron": "points",
         "hovertemplate": "bids_name=sub-282628_acq-headmotion2_T1w<br>score=%{x}<br>condition=%{y}<extra></extra>",
         "legendgroup": "sub-282628_acq-headmotion2_T1w",
         "line": {
          "color": "rgba(255,255,255,0)"
         },
         "marker": {
          "color": "#FF97FF"
         },
         "name": "sub-282628_acq-headmotion2_T1w",
         "offsetgroup": "sub-282628_acq-headmotion2_T1w",
         "orientation": "v",
         "pointpos": 0,
         "showlegend": true,
         "type": "box",
         "x": [
          3
         ],
         "x0": " ",
         "xaxis": "x",
         "y": [
          3
         ],
         "y0": " ",
         "yaxis": "y"
        },
        {
         "alignmentgroup": "True",
         "boxpoints": "all",
         "fillcolor": "rgba(255,255,255,0)",
         "hoveron": "points",
         "hovertemplate": "bids_name=sub-292060_acq-standard_T1w<br>score=%{x}<br>condition=%{y}<extra></extra>",
         "legendgroup": "sub-292060_acq-standard_T1w",
         "line": {
          "color": "rgba(255,255,255,0)"
         },
         "marker": {
          "color": "#FECB52"
         },
         "name": "sub-292060_acq-standard_T1w",
         "offsetgroup": "sub-292060_acq-standard_T1w",
         "orientation": "v",
         "pointpos": 0,
         "showlegend": true,
         "type": "box",
         "x": [
          1
         ],
         "x0": " ",
         "xaxis": "x",
         "y": [
          1
         ],
         "y0": " ",
         "yaxis": "y"
        },
        {
         "alignmentgroup": "True",
         "boxpoints": "all",
         "fillcolor": "rgba(255,255,255,0)",
         "hoveron": "points",
         "hovertemplate": "bids_name=sub-292060_acq-headmotion1_T1w<br>score=%{x}<br>condition=%{y}<extra></extra>",
         "legendgroup": "sub-292060_acq-headmotion1_T1w",
         "line": {
          "color": "rgba(255,255,255,0)"
         },
         "marker": {
          "color": "#636efa"
         },
         "name": "sub-292060_acq-headmotion1_T1w",
         "offsetgroup": "sub-292060_acq-headmotion1_T1w",
         "orientation": "v",
         "pointpos": 0,
         "showlegend": true,
         "type": "box",
         "x": [
          2
         ],
         "x0": " ",
         "xaxis": "x",
         "y": [
          2
         ],
         "y0": " ",
         "yaxis": "y"
        },
        {
         "alignmentgroup": "True",
         "boxpoints": "all",
         "fillcolor": "rgba(255,255,255,0)",
         "hoveron": "points",
         "hovertemplate": "bids_name=sub-292060_acq-headmotion2_T1w<br>score=%{x}<br>condition=%{y}<extra></extra>",
         "legendgroup": "sub-292060_acq-headmotion2_T1w",
         "line": {
          "color": "rgba(255,255,255,0)"
         },
         "marker": {
          "color": "#EF553B"
         },
         "name": "sub-292060_acq-headmotion2_T1w",
         "offsetgroup": "sub-292060_acq-headmotion2_T1w",
         "orientation": "v",
         "pointpos": 0,
         "showlegend": true,
         "type": "box",
         "x": [
          3
         ],
         "x0": " ",
         "xaxis": "x",
         "y": [
          3
         ],
         "y0": " ",
         "yaxis": "y"
        },
        {
         "alignmentgroup": "True",
         "boxpoints": "all",
         "fillcolor": "rgba(255,255,255,0)",
         "hoveron": "points",
         "hovertemplate": "bids_name=sub-292213_acq-standard_T1w<br>score=%{x}<br>condition=%{y}<extra></extra>",
         "legendgroup": "sub-292213_acq-standard_T1w",
         "line": {
          "color": "rgba(255,255,255,0)"
         },
         "marker": {
          "color": "#00cc96"
         },
         "name": "sub-292213_acq-standard_T1w",
         "offsetgroup": "sub-292213_acq-standard_T1w",
         "orientation": "v",
         "pointpos": 0,
         "showlegend": true,
         "type": "box",
         "x": [
          2
         ],
         "x0": " ",
         "xaxis": "x",
         "y": [
          1
         ],
         "y0": " ",
         "yaxis": "y"
        },
        {
         "alignmentgroup": "True",
         "boxpoints": "all",
         "fillcolor": "rgba(255,255,255,0)",
         "hoveron": "points",
         "hovertemplate": "bids_name=sub-292213_acq-headmotion1_T1w<br>score=%{x}<br>condition=%{y}<extra></extra>",
         "legendgroup": "sub-292213_acq-headmotion1_T1w",
         "line": {
          "color": "rgba(255,255,255,0)"
         },
         "marker": {
          "color": "#ab63fa"
         },
         "name": "sub-292213_acq-headmotion1_T1w",
         "offsetgroup": "sub-292213_acq-headmotion1_T1w",
         "orientation": "v",
         "pointpos": 0,
         "showlegend": true,
         "type": "box",
         "x": [
          2
         ],
         "x0": " ",
         "xaxis": "x",
         "y": [
          2
         ],
         "y0": " ",
         "yaxis": "y"
        },
        {
         "alignmentgroup": "True",
         "boxpoints": "all",
         "fillcolor": "rgba(255,255,255,0)",
         "hoveron": "points",
         "hovertemplate": "bids_name=sub-292213_acq-headmotion2_T1w<br>score=%{x}<br>condition=%{y}<extra></extra>",
         "legendgroup": "sub-292213_acq-headmotion2_T1w",
         "line": {
          "color": "rgba(255,255,255,0)"
         },
         "marker": {
          "color": "#FFA15A"
         },
         "name": "sub-292213_acq-headmotion2_T1w",
         "offsetgroup": "sub-292213_acq-headmotion2_T1w",
         "orientation": "v",
         "pointpos": 0,
         "showlegend": true,
         "type": "box",
         "x": [
          3
         ],
         "x0": " ",
         "xaxis": "x",
         "y": [
          3
         ],
         "y0": " ",
         "yaxis": "y"
        },
        {
         "alignmentgroup": "True",
         "boxpoints": "all",
         "fillcolor": "rgba(255,255,255,0)",
         "hoveron": "points",
         "hovertemplate": "bids_name=sub-307592_acq-standard_T1w<br>score=%{x}<br>condition=%{y}<extra></extra>",
         "legendgroup": "sub-307592_acq-standard_T1w",
         "line": {
          "color": "rgba(255,255,255,0)"
         },
         "marker": {
          "color": "#19d3f3"
         },
         "name": "sub-307592_acq-standard_T1w",
         "offsetgroup": "sub-307592_acq-standard_T1w",
         "orientation": "v",
         "pointpos": 0,
         "showlegend": true,
         "type": "box",
         "x": [
          1
         ],
         "x0": " ",
         "xaxis": "x",
         "y": [
          1
         ],
         "y0": " ",
         "yaxis": "y"
        },
        {
         "alignmentgroup": "True",
         "boxpoints": "all",
         "fillcolor": "rgba(255,255,255,0)",
         "hoveron": "points",
         "hovertemplate": "bids_name=sub-307592_acq-headmotion1_T1w<br>score=%{x}<br>condition=%{y}<extra></extra>",
         "legendgroup": "sub-307592_acq-headmotion1_T1w",
         "line": {
          "color": "rgba(255,255,255,0)"
         },
         "marker": {
          "color": "#FF6692"
         },
         "name": "sub-307592_acq-headmotion1_T1w",
         "offsetgroup": "sub-307592_acq-headmotion1_T1w",
         "orientation": "v",
         "pointpos": 0,
         "showlegend": true,
         "type": "box",
         "x": [
          3
         ],
         "x0": " ",
         "xaxis": "x",
         "y": [
          2
         ],
         "y0": " ",
         "yaxis": "y"
        },
        {
         "alignmentgroup": "True",
         "boxpoints": "all",
         "fillcolor": "rgba(255,255,255,0)",
         "hoveron": "points",
         "hovertemplate": "bids_name=sub-307592_acq-headmotion2_T1w<br>score=%{x}<br>condition=%{y}<extra></extra>",
         "legendgroup": "sub-307592_acq-headmotion2_T1w",
         "line": {
          "color": "rgba(255,255,255,0)"
         },
         "marker": {
          "color": "#B6E880"
         },
         "name": "sub-307592_acq-headmotion2_T1w",
         "offsetgroup": "sub-307592_acq-headmotion2_T1w",
         "orientation": "v",
         "pointpos": 0,
         "showlegend": true,
         "type": "box",
         "x": [
          3
         ],
         "x0": " ",
         "xaxis": "x",
         "y": [
          3
         ],
         "y0": " ",
         "yaxis": "y"
        },
        {
         "alignmentgroup": "True",
         "boxpoints": "all",
         "fillcolor": "rgba(255,255,255,0)",
         "hoveron": "points",
         "hovertemplate": "bids_name=sub-313623_acq-standard_T1w<br>score=%{x}<br>condition=%{y}<extra></extra>",
         "legendgroup": "sub-313623_acq-standard_T1w",
         "line": {
          "color": "rgba(255,255,255,0)"
         },
         "marker": {
          "color": "#FF97FF"
         },
         "name": "sub-313623_acq-standard_T1w",
         "offsetgroup": "sub-313623_acq-standard_T1w",
         "orientation": "v",
         "pointpos": 0,
         "showlegend": true,
         "type": "box",
         "x": [
          2
         ],
         "x0": " ",
         "xaxis": "x",
         "y": [
          1
         ],
         "y0": " ",
         "yaxis": "y"
        },
        {
         "alignmentgroup": "True",
         "boxpoints": "all",
         "fillcolor": "rgba(255,255,255,0)",
         "hoveron": "points",
         "hovertemplate": "bids_name=sub-313623_acq-headmotion1_T1w<br>score=%{x}<br>condition=%{y}<extra></extra>",
         "legendgroup": "sub-313623_acq-headmotion1_T1w",
         "line": {
          "color": "rgba(255,255,255,0)"
         },
         "marker": {
          "color": "#FECB52"
         },
         "name": "sub-313623_acq-headmotion1_T1w",
         "offsetgroup": "sub-313623_acq-headmotion1_T1w",
         "orientation": "v",
         "pointpos": 0,
         "showlegend": true,
         "type": "box",
         "x": [
          3
         ],
         "x0": " ",
         "xaxis": "x",
         "y": [
          2
         ],
         "y0": " ",
         "yaxis": "y"
        },
        {
         "alignmentgroup": "True",
         "boxpoints": "all",
         "fillcolor": "rgba(255,255,255,0)",
         "hoveron": "points",
         "hovertemplate": "bids_name=sub-313623_acq-headmotion2_T1w<br>score=%{x}<br>condition=%{y}<extra></extra>",
         "legendgroup": "sub-313623_acq-headmotion2_T1w",
         "line": {
          "color": "rgba(255,255,255,0)"
         },
         "marker": {
          "color": "#636efa"
         },
         "name": "sub-313623_acq-headmotion2_T1w",
         "offsetgroup": "sub-313623_acq-headmotion2_T1w",
         "orientation": "v",
         "pointpos": 0,
         "showlegend": true,
         "type": "box",
         "x": [
          3
         ],
         "x0": " ",
         "xaxis": "x",
         "y": [
          3
         ],
         "y0": " ",
         "yaxis": "y"
        },
        {
         "alignmentgroup": "True",
         "boxpoints": "all",
         "fillcolor": "rgba(255,255,255,0)",
         "hoveron": "points",
         "hovertemplate": "bids_name=sub-335448_acq-standard_T1w<br>score=%{x}<br>condition=%{y}<extra></extra>",
         "legendgroup": "sub-335448_acq-standard_T1w",
         "line": {
          "color": "rgba(255,255,255,0)"
         },
         "marker": {
          "color": "#EF553B"
         },
         "name": "sub-335448_acq-standard_T1w",
         "offsetgroup": "sub-335448_acq-standard_T1w",
         "orientation": "v",
         "pointpos": 0,
         "showlegend": true,
         "type": "box",
         "x": [
          1
         ],
         "x0": " ",
         "xaxis": "x",
         "y": [
          1
         ],
         "y0": " ",
         "yaxis": "y"
        },
        {
         "alignmentgroup": "True",
         "boxpoints": "all",
         "fillcolor": "rgba(255,255,255,0)",
         "hoveron": "points",
         "hovertemplate": "bids_name=sub-335448_acq-headmotion1_T1w<br>score=%{x}<br>condition=%{y}<extra></extra>",
         "legendgroup": "sub-335448_acq-headmotion1_T1w",
         "line": {
          "color": "rgba(255,255,255,0)"
         },
         "marker": {
          "color": "#00cc96"
         },
         "name": "sub-335448_acq-headmotion1_T1w",
         "offsetgroup": "sub-335448_acq-headmotion1_T1w",
         "orientation": "v",
         "pointpos": 0,
         "showlegend": true,
         "type": "box",
         "x": [
          3
         ],
         "x0": " ",
         "xaxis": "x",
         "y": [
          2
         ],
         "y0": " ",
         "yaxis": "y"
        },
        {
         "alignmentgroup": "True",
         "boxpoints": "all",
         "fillcolor": "rgba(255,255,255,0)",
         "hoveron": "points",
         "hovertemplate": "bids_name=sub-335448_acq-headmotion2_T1w<br>score=%{x}<br>condition=%{y}<extra></extra>",
         "legendgroup": "sub-335448_acq-headmotion2_T1w",
         "line": {
          "color": "rgba(255,255,255,0)"
         },
         "marker": {
          "color": "#ab63fa"
         },
         "name": "sub-335448_acq-headmotion2_T1w",
         "offsetgroup": "sub-335448_acq-headmotion2_T1w",
         "orientation": "v",
         "pointpos": 0,
         "showlegend": true,
         "type": "box",
         "x": [
          3
         ],
         "x0": " ",
         "xaxis": "x",
         "y": [
          3
         ],
         "y0": " ",
         "yaxis": "y"
        },
        {
         "alignmentgroup": "True",
         "boxpoints": "all",
         "fillcolor": "rgba(255,255,255,0)",
         "hoveron": "points",
         "hovertemplate": "bids_name=sub-337488_acq-standard_T1w<br>score=%{x}<br>condition=%{y}<extra></extra>",
         "legendgroup": "sub-337488_acq-standard_T1w",
         "line": {
          "color": "rgba(255,255,255,0)"
         },
         "marker": {
          "color": "#FFA15A"
         },
         "name": "sub-337488_acq-standard_T1w",
         "offsetgroup": "sub-337488_acq-standard_T1w",
         "orientation": "v",
         "pointpos": 0,
         "showlegend": true,
         "type": "box",
         "x": [
          1
         ],
         "x0": " ",
         "xaxis": "x",
         "y": [
          1
         ],
         "y0": " ",
         "yaxis": "y"
        },
        {
         "alignmentgroup": "True",
         "boxpoints": "all",
         "fillcolor": "rgba(255,255,255,0)",
         "hoveron": "points",
         "hovertemplate": "bids_name=sub-337488_acq-headmotion1_T1w<br>score=%{x}<br>condition=%{y}<extra></extra>",
         "legendgroup": "sub-337488_acq-headmotion1_T1w",
         "line": {
          "color": "rgba(255,255,255,0)"
         },
         "marker": {
          "color": "#19d3f3"
         },
         "name": "sub-337488_acq-headmotion1_T1w",
         "offsetgroup": "sub-337488_acq-headmotion1_T1w",
         "orientation": "v",
         "pointpos": 0,
         "showlegend": true,
         "type": "box",
         "x": [
          2
         ],
         "x0": " ",
         "xaxis": "x",
         "y": [
          2
         ],
         "y0": " ",
         "yaxis": "y"
        },
        {
         "alignmentgroup": "True",
         "boxpoints": "all",
         "fillcolor": "rgba(255,255,255,0)",
         "hoveron": "points",
         "hovertemplate": "bids_name=sub-337488_acq-headmotion2_T1w<br>score=%{x}<br>condition=%{y}<extra></extra>",
         "legendgroup": "sub-337488_acq-headmotion2_T1w",
         "line": {
          "color": "rgba(255,255,255,0)"
         },
         "marker": {
          "color": "#FF6692"
         },
         "name": "sub-337488_acq-headmotion2_T1w",
         "offsetgroup": "sub-337488_acq-headmotion2_T1w",
         "orientation": "v",
         "pointpos": 0,
         "showlegend": true,
         "type": "box",
         "x": [
          2
         ],
         "x0": " ",
         "xaxis": "x",
         "y": [
          3
         ],
         "y0": " ",
         "yaxis": "y"
        },
        {
         "alignmentgroup": "True",
         "boxpoints": "all",
         "fillcolor": "rgba(255,255,255,0)",
         "hoveron": "points",
         "hovertemplate": "bids_name=sub-351288_acq-standard_T1w<br>score=%{x}<br>condition=%{y}<extra></extra>",
         "legendgroup": "sub-351288_acq-standard_T1w",
         "line": {
          "color": "rgba(255,255,255,0)"
         },
         "marker": {
          "color": "#B6E880"
         },
         "name": "sub-351288_acq-standard_T1w",
         "offsetgroup": "sub-351288_acq-standard_T1w",
         "orientation": "v",
         "pointpos": 0,
         "showlegend": true,
         "type": "box",
         "x": [
          1
         ],
         "x0": " ",
         "xaxis": "x",
         "y": [
          1
         ],
         "y0": " ",
         "yaxis": "y"
        },
        {
         "alignmentgroup": "True",
         "boxpoints": "all",
         "fillcolor": "rgba(255,255,255,0)",
         "hoveron": "points",
         "hovertemplate": "bids_name=sub-351288_acq-headmotion1_T1w<br>score=%{x}<br>condition=%{y}<extra></extra>",
         "legendgroup": "sub-351288_acq-headmotion1_T1w",
         "line": {
          "color": "rgba(255,255,255,0)"
         },
         "marker": {
          "color": "#FF97FF"
         },
         "name": "sub-351288_acq-headmotion1_T1w",
         "offsetgroup": "sub-351288_acq-headmotion1_T1w",
         "orientation": "v",
         "pointpos": 0,
         "showlegend": true,
         "type": "box",
         "x": [
          2
         ],
         "x0": " ",
         "xaxis": "x",
         "y": [
          2
         ],
         "y0": " ",
         "yaxis": "y"
        },
        {
         "alignmentgroup": "True",
         "boxpoints": "all",
         "fillcolor": "rgba(255,255,255,0)",
         "hoveron": "points",
         "hovertemplate": "bids_name=sub-351288_acq-headmotion2_T1w<br>score=%{x}<br>condition=%{y}<extra></extra>",
         "legendgroup": "sub-351288_acq-headmotion2_T1w",
         "line": {
          "color": "rgba(255,255,255,0)"
         },
         "marker": {
          "color": "#FECB52"
         },
         "name": "sub-351288_acq-headmotion2_T1w",
         "offsetgroup": "sub-351288_acq-headmotion2_T1w",
         "orientation": "v",
         "pointpos": 0,
         "showlegend": true,
         "type": "box",
         "x": [
          2
         ],
         "x0": " ",
         "xaxis": "x",
         "y": [
          3
         ],
         "y0": " ",
         "yaxis": "y"
        },
        {
         "alignmentgroup": "True",
         "boxpoints": "all",
         "fillcolor": "rgba(255,255,255,0)",
         "hoveron": "points",
         "hovertemplate": "bids_name=sub-365622_acq-standard_T1w<br>score=%{x}<br>condition=%{y}<extra></extra>",
         "legendgroup": "sub-365622_acq-standard_T1w",
         "line": {
          "color": "rgba(255,255,255,0)"
         },
         "marker": {
          "color": "#636efa"
         },
         "name": "sub-365622_acq-standard_T1w",
         "offsetgroup": "sub-365622_acq-standard_T1w",
         "orientation": "v",
         "pointpos": 0,
         "showlegend": true,
         "type": "box",
         "x": [
          1
         ],
         "x0": " ",
         "xaxis": "x",
         "y": [
          1
         ],
         "y0": " ",
         "yaxis": "y"
        },
        {
         "alignmentgroup": "True",
         "boxpoints": "all",
         "fillcolor": "rgba(255,255,255,0)",
         "hoveron": "points",
         "hovertemplate": "bids_name=sub-365622_acq-headmotion1_T1w<br>score=%{x}<br>condition=%{y}<extra></extra>",
         "legendgroup": "sub-365622_acq-headmotion1_T1w",
         "line": {
          "color": "rgba(255,255,255,0)"
         },
         "marker": {
          "color": "#EF553B"
         },
         "name": "sub-365622_acq-headmotion1_T1w",
         "offsetgroup": "sub-365622_acq-headmotion1_T1w",
         "orientation": "v",
         "pointpos": 0,
         "showlegend": true,
         "type": "box",
         "x": [
          3
         ],
         "x0": " ",
         "xaxis": "x",
         "y": [
          2
         ],
         "y0": " ",
         "yaxis": "y"
        },
        {
         "alignmentgroup": "True",
         "boxpoints": "all",
         "fillcolor": "rgba(255,255,255,0)",
         "hoveron": "points",
         "hovertemplate": "bids_name=sub-365622_acq-headmotion2_T1w<br>score=%{x}<br>condition=%{y}<extra></extra>",
         "legendgroup": "sub-365622_acq-headmotion2_T1w",
         "line": {
          "color": "rgba(255,255,255,0)"
         },
         "marker": {
          "color": "#00cc96"
         },
         "name": "sub-365622_acq-headmotion2_T1w",
         "offsetgroup": "sub-365622_acq-headmotion2_T1w",
         "orientation": "v",
         "pointpos": 0,
         "showlegend": true,
         "type": "box",
         "x": [
          3
         ],
         "x0": " ",
         "xaxis": "x",
         "y": [
          3
         ],
         "y0": " ",
         "yaxis": "y"
        },
        {
         "alignmentgroup": "True",
         "boxpoints": "all",
         "fillcolor": "rgba(255,255,255,0)",
         "hoveron": "points",
         "hovertemplate": "bids_name=sub-367500_acq-standard_T1w<br>score=%{x}<br>condition=%{y}<extra></extra>",
         "legendgroup": "sub-367500_acq-standard_T1w",
         "line": {
          "color": "rgba(255,255,255,0)"
         },
         "marker": {
          "color": "#ab63fa"
         },
         "name": "sub-367500_acq-standard_T1w",
         "offsetgroup": "sub-367500_acq-standard_T1w",
         "orientation": "v",
         "pointpos": 0,
         "showlegend": true,
         "type": "box",
         "x": [
          2
         ],
         "x0": " ",
         "xaxis": "x",
         "y": [
          1
         ],
         "y0": " ",
         "yaxis": "y"
        },
        {
         "alignmentgroup": "True",
         "boxpoints": "all",
         "fillcolor": "rgba(255,255,255,0)",
         "hoveron": "points",
         "hovertemplate": "bids_name=sub-367500_acq-headmotion1_T1w<br>score=%{x}<br>condition=%{y}<extra></extra>",
         "legendgroup": "sub-367500_acq-headmotion1_T1w",
         "line": {
          "color": "rgba(255,255,255,0)"
         },
         "marker": {
          "color": "#FFA15A"
         },
         "name": "sub-367500_acq-headmotion1_T1w",
         "offsetgroup": "sub-367500_acq-headmotion1_T1w",
         "orientation": "v",
         "pointpos": 0,
         "showlegend": true,
         "type": "box",
         "x": [
          3
         ],
         "x0": " ",
         "xaxis": "x",
         "y": [
          2
         ],
         "y0": " ",
         "yaxis": "y"
        },
        {
         "alignmentgroup": "True",
         "boxpoints": "all",
         "fillcolor": "rgba(255,255,255,0)",
         "hoveron": "points",
         "hovertemplate": "bids_name=sub-367500_acq-headmotion2_T1w<br>score=%{x}<br>condition=%{y}<extra></extra>",
         "legendgroup": "sub-367500_acq-headmotion2_T1w",
         "line": {
          "color": "rgba(255,255,255,0)"
         },
         "marker": {
          "color": "#19d3f3"
         },
         "name": "sub-367500_acq-headmotion2_T1w",
         "offsetgroup": "sub-367500_acq-headmotion2_T1w",
         "orientation": "v",
         "pointpos": 0,
         "showlegend": true,
         "type": "box",
         "x": [
          3
         ],
         "x0": " ",
         "xaxis": "x",
         "y": [
          3
         ],
         "y0": " ",
         "yaxis": "y"
        },
        {
         "alignmentgroup": "True",
         "boxpoints": "all",
         "fillcolor": "rgba(255,255,255,0)",
         "hoveron": "points",
         "hovertemplate": "bids_name=sub-401697_acq-standard_T1w<br>score=%{x}<br>condition=%{y}<extra></extra>",
         "legendgroup": "sub-401697_acq-standard_T1w",
         "line": {
          "color": "rgba(255,255,255,0)"
         },
         "marker": {
          "color": "#FF6692"
         },
         "name": "sub-401697_acq-standard_T1w",
         "offsetgroup": "sub-401697_acq-standard_T1w",
         "orientation": "v",
         "pointpos": 0,
         "showlegend": true,
         "type": "box",
         "x": [
          1
         ],
         "x0": " ",
         "xaxis": "x",
         "y": [
          1
         ],
         "y0": " ",
         "yaxis": "y"
        },
        {
         "alignmentgroup": "True",
         "boxpoints": "all",
         "fillcolor": "rgba(255,255,255,0)",
         "hoveron": "points",
         "hovertemplate": "bids_name=sub-401697_acq-headmotion1_T1w<br>score=%{x}<br>condition=%{y}<extra></extra>",
         "legendgroup": "sub-401697_acq-headmotion1_T1w",
         "line": {
          "color": "rgba(255,255,255,0)"
         },
         "marker": {
          "color": "#B6E880"
         },
         "name": "sub-401697_acq-headmotion1_T1w",
         "offsetgroup": "sub-401697_acq-headmotion1_T1w",
         "orientation": "v",
         "pointpos": 0,
         "showlegend": true,
         "type": "box",
         "x": [
          3
         ],
         "x0": " ",
         "xaxis": "x",
         "y": [
          2
         ],
         "y0": " ",
         "yaxis": "y"
        },
        {
         "alignmentgroup": "True",
         "boxpoints": "all",
         "fillcolor": "rgba(255,255,255,0)",
         "hoveron": "points",
         "hovertemplate": "bids_name=sub-401697_acq-headmotion2_T1w<br>score=%{x}<br>condition=%{y}<extra></extra>",
         "legendgroup": "sub-401697_acq-headmotion2_T1w",
         "line": {
          "color": "rgba(255,255,255,0)"
         },
         "marker": {
          "color": "#FF97FF"
         },
         "name": "sub-401697_acq-headmotion2_T1w",
         "offsetgroup": "sub-401697_acq-headmotion2_T1w",
         "orientation": "v",
         "pointpos": 0,
         "showlegend": true,
         "type": "box",
         "x": [
          3
         ],
         "x0": " ",
         "xaxis": "x",
         "y": [
          3
         ],
         "y0": " ",
         "yaxis": "y"
        },
        {
         "alignmentgroup": "True",
         "boxpoints": "all",
         "fillcolor": "rgba(255,255,255,0)",
         "hoveron": "points",
         "hovertemplate": "bids_name=sub-402511_acq-standard_T1w<br>score=%{x}<br>condition=%{y}<extra></extra>",
         "legendgroup": "sub-402511_acq-standard_T1w",
         "line": {
          "color": "rgba(255,255,255,0)"
         },
         "marker": {
          "color": "#FECB52"
         },
         "name": "sub-402511_acq-standard_T1w",
         "offsetgroup": "sub-402511_acq-standard_T1w",
         "orientation": "v",
         "pointpos": 0,
         "showlegend": true,
         "type": "box",
         "x": [
          1
         ],
         "x0": " ",
         "xaxis": "x",
         "y": [
          1
         ],
         "y0": " ",
         "yaxis": "y"
        },
        {
         "alignmentgroup": "True",
         "boxpoints": "all",
         "fillcolor": "rgba(255,255,255,0)",
         "hoveron": "points",
         "hovertemplate": "bids_name=sub-402511_acq-headmotion1_T1w<br>score=%{x}<br>condition=%{y}<extra></extra>",
         "legendgroup": "sub-402511_acq-headmotion1_T1w",
         "line": {
          "color": "rgba(255,255,255,0)"
         },
         "marker": {
          "color": "#636efa"
         },
         "name": "sub-402511_acq-headmotion1_T1w",
         "offsetgroup": "sub-402511_acq-headmotion1_T1w",
         "orientation": "v",
         "pointpos": 0,
         "showlegend": true,
         "type": "box",
         "x": [
          3
         ],
         "x0": " ",
         "xaxis": "x",
         "y": [
          2
         ],
         "y0": " ",
         "yaxis": "y"
        },
        {
         "alignmentgroup": "True",
         "boxpoints": "all",
         "fillcolor": "rgba(255,255,255,0)",
         "hoveron": "points",
         "hovertemplate": "bids_name=sub-402511_acq-headmotion2_T1w<br>score=%{x}<br>condition=%{y}<extra></extra>",
         "legendgroup": "sub-402511_acq-headmotion2_T1w",
         "line": {
          "color": "rgba(255,255,255,0)"
         },
         "marker": {
          "color": "#EF553B"
         },
         "name": "sub-402511_acq-headmotion2_T1w",
         "offsetgroup": "sub-402511_acq-headmotion2_T1w",
         "orientation": "v",
         "pointpos": 0,
         "showlegend": true,
         "type": "box",
         "x": [
          3
         ],
         "x0": " ",
         "xaxis": "x",
         "y": [
          3
         ],
         "y0": " ",
         "yaxis": "y"
        },
        {
         "alignmentgroup": "True",
         "boxpoints": "all",
         "fillcolor": "rgba(255,255,255,0)",
         "hoveron": "points",
         "hovertemplate": "bids_name=sub-407309_acq-standard_T1w<br>score=%{x}<br>condition=%{y}<extra></extra>",
         "legendgroup": "sub-407309_acq-standard_T1w",
         "line": {
          "color": "rgba(255,255,255,0)"
         },
         "marker": {
          "color": "#00cc96"
         },
         "name": "sub-407309_acq-standard_T1w",
         "offsetgroup": "sub-407309_acq-standard_T1w",
         "orientation": "v",
         "pointpos": 0,
         "showlegend": true,
         "type": "box",
         "x": [
          1
         ],
         "x0": " ",
         "xaxis": "x",
         "y": [
          1
         ],
         "y0": " ",
         "yaxis": "y"
        },
        {
         "alignmentgroup": "True",
         "boxpoints": "all",
         "fillcolor": "rgba(255,255,255,0)",
         "hoveron": "points",
         "hovertemplate": "bids_name=sub-407309_acq-headmotion1_T1w<br>score=%{x}<br>condition=%{y}<extra></extra>",
         "legendgroup": "sub-407309_acq-headmotion1_T1w",
         "line": {
          "color": "rgba(255,255,255,0)"
         },
         "marker": {
          "color": "#ab63fa"
         },
         "name": "sub-407309_acq-headmotion1_T1w",
         "offsetgroup": "sub-407309_acq-headmotion1_T1w",
         "orientation": "v",
         "pointpos": 0,
         "showlegend": true,
         "type": "box",
         "x": [
          2
         ],
         "x0": " ",
         "xaxis": "x",
         "y": [
          2
         ],
         "y0": " ",
         "yaxis": "y"
        },
        {
         "alignmentgroup": "True",
         "boxpoints": "all",
         "fillcolor": "rgba(255,255,255,0)",
         "hoveron": "points",
         "hovertemplate": "bids_name=sub-407309_acq-headmotion2_T1w<br>score=%{x}<br>condition=%{y}<extra></extra>",
         "legendgroup": "sub-407309_acq-headmotion2_T1w",
         "line": {
          "color": "rgba(255,255,255,0)"
         },
         "marker": {
          "color": "#FFA15A"
         },
         "name": "sub-407309_acq-headmotion2_T1w",
         "offsetgroup": "sub-407309_acq-headmotion2_T1w",
         "orientation": "v",
         "pointpos": 0,
         "showlegend": true,
         "type": "box",
         "x": [
          3
         ],
         "x0": " ",
         "xaxis": "x",
         "y": [
          3
         ],
         "y0": " ",
         "yaxis": "y"
        },
        {
         "alignmentgroup": "True",
         "boxpoints": "all",
         "fillcolor": "rgba(255,255,255,0)",
         "hoveron": "points",
         "hovertemplate": "bids_name=sub-409228_acq-standard_T1w<br>score=%{x}<br>condition=%{y}<extra></extra>",
         "legendgroup": "sub-409228_acq-standard_T1w",
         "line": {
          "color": "rgba(255,255,255,0)"
         },
         "marker": {
          "color": "#19d3f3"
         },
         "name": "sub-409228_acq-standard_T1w",
         "offsetgroup": "sub-409228_acq-standard_T1w",
         "orientation": "v",
         "pointpos": 0,
         "showlegend": true,
         "type": "box",
         "x": [
          1
         ],
         "x0": " ",
         "xaxis": "x",
         "y": [
          1
         ],
         "y0": " ",
         "yaxis": "y"
        },
        {
         "alignmentgroup": "True",
         "boxpoints": "all",
         "fillcolor": "rgba(255,255,255,0)",
         "hoveron": "points",
         "hovertemplate": "bids_name=sub-409228_acq-headmotion1_T1w<br>score=%{x}<br>condition=%{y}<extra></extra>",
         "legendgroup": "sub-409228_acq-headmotion1_T1w",
         "line": {
          "color": "rgba(255,255,255,0)"
         },
         "marker": {
          "color": "#FF6692"
         },
         "name": "sub-409228_acq-headmotion1_T1w",
         "offsetgroup": "sub-409228_acq-headmotion1_T1w",
         "orientation": "v",
         "pointpos": 0,
         "showlegend": true,
         "type": "box",
         "x": [
          3
         ],
         "x0": " ",
         "xaxis": "x",
         "y": [
          2
         ],
         "y0": " ",
         "yaxis": "y"
        },
        {
         "alignmentgroup": "True",
         "boxpoints": "all",
         "fillcolor": "rgba(255,255,255,0)",
         "hoveron": "points",
         "hovertemplate": "bids_name=sub-409228_acq-headmotion2_T1w<br>score=%{x}<br>condition=%{y}<extra></extra>",
         "legendgroup": "sub-409228_acq-headmotion2_T1w",
         "line": {
          "color": "rgba(255,255,255,0)"
         },
         "marker": {
          "color": "#B6E880"
         },
         "name": "sub-409228_acq-headmotion2_T1w",
         "offsetgroup": "sub-409228_acq-headmotion2_T1w",
         "orientation": "v",
         "pointpos": 0,
         "showlegend": true,
         "type": "box",
         "x": [
          3
         ],
         "x0": " ",
         "xaxis": "x",
         "y": [
          3
         ],
         "y0": " ",
         "yaxis": "y"
        },
        {
         "alignmentgroup": "True",
         "boxpoints": "all",
         "fillcolor": "rgba(255,255,255,0)",
         "hoveron": "points",
         "hovertemplate": "bids_name=sub-424015_acq-standard_T1w<br>score=%{x}<br>condition=%{y}<extra></extra>",
         "legendgroup": "sub-424015_acq-standard_T1w",
         "line": {
          "color": "rgba(255,255,255,0)"
         },
         "marker": {
          "color": "#FF97FF"
         },
         "name": "sub-424015_acq-standard_T1w",
         "offsetgroup": "sub-424015_acq-standard_T1w",
         "orientation": "v",
         "pointpos": 0,
         "showlegend": true,
         "type": "box",
         "x": [
          2
         ],
         "x0": " ",
         "xaxis": "x",
         "y": [
          1
         ],
         "y0": " ",
         "yaxis": "y"
        },
        {
         "alignmentgroup": "True",
         "boxpoints": "all",
         "fillcolor": "rgba(255,255,255,0)",
         "hoveron": "points",
         "hovertemplate": "bids_name=sub-424015_acq-headmotion2_T1w<br>score=%{x}<br>condition=%{y}<extra></extra>",
         "legendgroup": "sub-424015_acq-headmotion2_T1w",
         "line": {
          "color": "rgba(255,255,255,0)"
         },
         "marker": {
          "color": "#FECB52"
         },
         "name": "sub-424015_acq-headmotion2_T1w",
         "offsetgroup": "sub-424015_acq-headmotion2_T1w",
         "orientation": "v",
         "pointpos": 0,
         "showlegend": true,
         "type": "box",
         "x": [
          3
         ],
         "x0": " ",
         "xaxis": "x",
         "y": [
          3
         ],
         "y0": " ",
         "yaxis": "y"
        },
        {
         "alignmentgroup": "True",
         "boxpoints": "all",
         "fillcolor": "rgba(255,255,255,0)",
         "hoveron": "points",
         "hovertemplate": "bids_name=sub-436999_acq-standard_T1w<br>score=%{x}<br>condition=%{y}<extra></extra>",
         "legendgroup": "sub-436999_acq-standard_T1w",
         "line": {
          "color": "rgba(255,255,255,0)"
         },
         "marker": {
          "color": "#636efa"
         },
         "name": "sub-436999_acq-standard_T1w",
         "offsetgroup": "sub-436999_acq-standard_T1w",
         "orientation": "v",
         "pointpos": 0,
         "showlegend": true,
         "type": "box",
         "x": [
          1
         ],
         "x0": " ",
         "xaxis": "x",
         "y": [
          1
         ],
         "y0": " ",
         "yaxis": "y"
        },
        {
         "alignmentgroup": "True",
         "boxpoints": "all",
         "fillcolor": "rgba(255,255,255,0)",
         "hoveron": "points",
         "hovertemplate": "bids_name=sub-436999_acq-headmotion1_T1w<br>score=%{x}<br>condition=%{y}<extra></extra>",
         "legendgroup": "sub-436999_acq-headmotion1_T1w",
         "line": {
          "color": "rgba(255,255,255,0)"
         },
         "marker": {
          "color": "#EF553B"
         },
         "name": "sub-436999_acq-headmotion1_T1w",
         "offsetgroup": "sub-436999_acq-headmotion1_T1w",
         "orientation": "v",
         "pointpos": 0,
         "showlegend": true,
         "type": "box",
         "x": [
          1
         ],
         "x0": " ",
         "xaxis": "x",
         "y": [
          2
         ],
         "y0": " ",
         "yaxis": "y"
        },
        {
         "alignmentgroup": "True",
         "boxpoints": "all",
         "fillcolor": "rgba(255,255,255,0)",
         "hoveron": "points",
         "hovertemplate": "bids_name=sub-436999_acq-headmotion2_T1w<br>score=%{x}<br>condition=%{y}<extra></extra>",
         "legendgroup": "sub-436999_acq-headmotion2_T1w",
         "line": {
          "color": "rgba(255,255,255,0)"
         },
         "marker": {
          "color": "#00cc96"
         },
         "name": "sub-436999_acq-headmotion2_T1w",
         "offsetgroup": "sub-436999_acq-headmotion2_T1w",
         "orientation": "v",
         "pointpos": 0,
         "showlegend": true,
         "type": "box",
         "x": [
          3
         ],
         "x0": " ",
         "xaxis": "x",
         "y": [
          3
         ],
         "y0": " ",
         "yaxis": "y"
        },
        {
         "alignmentgroup": "True",
         "boxpoints": "all",
         "fillcolor": "rgba(255,255,255,0)",
         "hoveron": "points",
         "hovertemplate": "bids_name=sub-440735_acq-standard_T1w<br>score=%{x}<br>condition=%{y}<extra></extra>",
         "legendgroup": "sub-440735_acq-standard_T1w",
         "line": {
          "color": "rgba(255,255,255,0)"
         },
         "marker": {
          "color": "#ab63fa"
         },
         "name": "sub-440735_acq-standard_T1w",
         "offsetgroup": "sub-440735_acq-standard_T1w",
         "orientation": "v",
         "pointpos": 0,
         "showlegend": true,
         "type": "box",
         "x": [
          1
         ],
         "x0": " ",
         "xaxis": "x",
         "y": [
          1
         ],
         "y0": " ",
         "yaxis": "y"
        },
        {
         "alignmentgroup": "True",
         "boxpoints": "all",
         "fillcolor": "rgba(255,255,255,0)",
         "hoveron": "points",
         "hovertemplate": "bids_name=sub-440735_acq-headmotion1_T1w<br>score=%{x}<br>condition=%{y}<extra></extra>",
         "legendgroup": "sub-440735_acq-headmotion1_T1w",
         "line": {
          "color": "rgba(255,255,255,0)"
         },
         "marker": {
          "color": "#FFA15A"
         },
         "name": "sub-440735_acq-headmotion1_T1w",
         "offsetgroup": "sub-440735_acq-headmotion1_T1w",
         "orientation": "v",
         "pointpos": 0,
         "showlegend": true,
         "type": "box",
         "x": [
          3
         ],
         "x0": " ",
         "xaxis": "x",
         "y": [
          2
         ],
         "y0": " ",
         "yaxis": "y"
        },
        {
         "alignmentgroup": "True",
         "boxpoints": "all",
         "fillcolor": "rgba(255,255,255,0)",
         "hoveron": "points",
         "hovertemplate": "bids_name=sub-440735_acq-headmotion2_T1w<br>score=%{x}<br>condition=%{y}<extra></extra>",
         "legendgroup": "sub-440735_acq-headmotion2_T1w",
         "line": {
          "color": "rgba(255,255,255,0)"
         },
         "marker": {
          "color": "#19d3f3"
         },
         "name": "sub-440735_acq-headmotion2_T1w",
         "offsetgroup": "sub-440735_acq-headmotion2_T1w",
         "orientation": "v",
         "pointpos": 0,
         "showlegend": true,
         "type": "box",
         "x": [
          3
         ],
         "x0": " ",
         "xaxis": "x",
         "y": [
          3
         ],
         "y0": " ",
         "yaxis": "y"
        },
        {
         "alignmentgroup": "True",
         "boxpoints": "all",
         "fillcolor": "rgba(255,255,255,0)",
         "hoveron": "points",
         "hovertemplate": "bids_name=sub-441269_acq-standard_T1w<br>score=%{x}<br>condition=%{y}<extra></extra>",
         "legendgroup": "sub-441269_acq-standard_T1w",
         "line": {
          "color": "rgba(255,255,255,0)"
         },
         "marker": {
          "color": "#FF6692"
         },
         "name": "sub-441269_acq-standard_T1w",
         "offsetgroup": "sub-441269_acq-standard_T1w",
         "orientation": "v",
         "pointpos": 0,
         "showlegend": true,
         "type": "box",
         "x": [
          2
         ],
         "x0": " ",
         "xaxis": "x",
         "y": [
          1
         ],
         "y0": " ",
         "yaxis": "y"
        },
        {
         "alignmentgroup": "True",
         "boxpoints": "all",
         "fillcolor": "rgba(255,255,255,0)",
         "hoveron": "points",
         "hovertemplate": "bids_name=sub-441269_acq-headmotion1_T1w<br>score=%{x}<br>condition=%{y}<extra></extra>",
         "legendgroup": "sub-441269_acq-headmotion1_T1w",
         "line": {
          "color": "rgba(255,255,255,0)"
         },
         "marker": {
          "color": "#B6E880"
         },
         "name": "sub-441269_acq-headmotion1_T1w",
         "offsetgroup": "sub-441269_acq-headmotion1_T1w",
         "orientation": "v",
         "pointpos": 0,
         "showlegend": true,
         "type": "box",
         "x": [
          2
         ],
         "x0": " ",
         "xaxis": "x",
         "y": [
          2
         ],
         "y0": " ",
         "yaxis": "y"
        },
        {
         "alignmentgroup": "True",
         "boxpoints": "all",
         "fillcolor": "rgba(255,255,255,0)",
         "hoveron": "points",
         "hovertemplate": "bids_name=sub-441269_acq-headmotion2_T1w<br>score=%{x}<br>condition=%{y}<extra></extra>",
         "legendgroup": "sub-441269_acq-headmotion2_T1w",
         "line": {
          "color": "rgba(255,255,255,0)"
         },
         "marker": {
          "color": "#FF97FF"
         },
         "name": "sub-441269_acq-headmotion2_T1w",
         "offsetgroup": "sub-441269_acq-headmotion2_T1w",
         "orientation": "v",
         "pointpos": 0,
         "showlegend": true,
         "type": "box",
         "x": [
          2
         ],
         "x0": " ",
         "xaxis": "x",
         "y": [
          3
         ],
         "y0": " ",
         "yaxis": "y"
        },
        {
         "alignmentgroup": "True",
         "boxpoints": "all",
         "fillcolor": "rgba(255,255,255,0)",
         "hoveron": "points",
         "hovertemplate": "bids_name=sub-453666_acq-standard_T1w<br>score=%{x}<br>condition=%{y}<extra></extra>",
         "legendgroup": "sub-453666_acq-standard_T1w",
         "line": {
          "color": "rgba(255,255,255,0)"
         },
         "marker": {
          "color": "#FECB52"
         },
         "name": "sub-453666_acq-standard_T1w",
         "offsetgroup": "sub-453666_acq-standard_T1w",
         "orientation": "v",
         "pointpos": 0,
         "showlegend": true,
         "type": "box",
         "x": [
          1
         ],
         "x0": " ",
         "xaxis": "x",
         "y": [
          1
         ],
         "y0": " ",
         "yaxis": "y"
        },
        {
         "alignmentgroup": "True",
         "boxpoints": "all",
         "fillcolor": "rgba(255,255,255,0)",
         "hoveron": "points",
         "hovertemplate": "bids_name=sub-453666_acq-headmotion1_T1w<br>score=%{x}<br>condition=%{y}<extra></extra>",
         "legendgroup": "sub-453666_acq-headmotion1_T1w",
         "line": {
          "color": "rgba(255,255,255,0)"
         },
         "marker": {
          "color": "#636efa"
         },
         "name": "sub-453666_acq-headmotion1_T1w",
         "offsetgroup": "sub-453666_acq-headmotion1_T1w",
         "orientation": "v",
         "pointpos": 0,
         "showlegend": true,
         "type": "box",
         "x": [
          2
         ],
         "x0": " ",
         "xaxis": "x",
         "y": [
          2
         ],
         "y0": " ",
         "yaxis": "y"
        },
        {
         "alignmentgroup": "True",
         "boxpoints": "all",
         "fillcolor": "rgba(255,255,255,0)",
         "hoveron": "points",
         "hovertemplate": "bids_name=sub-453666_acq-headmotion2_T1w<br>score=%{x}<br>condition=%{y}<extra></extra>",
         "legendgroup": "sub-453666_acq-headmotion2_T1w",
         "line": {
          "color": "rgba(255,255,255,0)"
         },
         "marker": {
          "color": "#EF553B"
         },
         "name": "sub-453666_acq-headmotion2_T1w",
         "offsetgroup": "sub-453666_acq-headmotion2_T1w",
         "orientation": "v",
         "pointpos": 0,
         "showlegend": true,
         "type": "box",
         "x": [
          3
         ],
         "x0": " ",
         "xaxis": "x",
         "y": [
          3
         ],
         "y0": " ",
         "yaxis": "y"
        },
        {
         "alignmentgroup": "True",
         "boxpoints": "all",
         "fillcolor": "rgba(255,255,255,0)",
         "hoveron": "points",
         "hovertemplate": "bids_name=sub-460834_acq-standard_T1w<br>score=%{x}<br>condition=%{y}<extra></extra>",
         "legendgroup": "sub-460834_acq-standard_T1w",
         "line": {
          "color": "rgba(255,255,255,0)"
         },
         "marker": {
          "color": "#00cc96"
         },
         "name": "sub-460834_acq-standard_T1w",
         "offsetgroup": "sub-460834_acq-standard_T1w",
         "orientation": "v",
         "pointpos": 0,
         "showlegend": true,
         "type": "box",
         "x": [
          1
         ],
         "x0": " ",
         "xaxis": "x",
         "y": [
          1
         ],
         "y0": " ",
         "yaxis": "y"
        },
        {
         "alignmentgroup": "True",
         "boxpoints": "all",
         "fillcolor": "rgba(255,255,255,0)",
         "hoveron": "points",
         "hovertemplate": "bids_name=sub-460834_acq-headmotion1_T1w<br>score=%{x}<br>condition=%{y}<extra></extra>",
         "legendgroup": "sub-460834_acq-headmotion1_T1w",
         "line": {
          "color": "rgba(255,255,255,0)"
         },
         "marker": {
          "color": "#ab63fa"
         },
         "name": "sub-460834_acq-headmotion1_T1w",
         "offsetgroup": "sub-460834_acq-headmotion1_T1w",
         "orientation": "v",
         "pointpos": 0,
         "showlegend": true,
         "type": "box",
         "x": [
          2
         ],
         "x0": " ",
         "xaxis": "x",
         "y": [
          2
         ],
         "y0": " ",
         "yaxis": "y"
        },
        {
         "alignmentgroup": "True",
         "boxpoints": "all",
         "fillcolor": "rgba(255,255,255,0)",
         "hoveron": "points",
         "hovertemplate": "bids_name=sub-460834_acq-headmotion2_T1w<br>score=%{x}<br>condition=%{y}<extra></extra>",
         "legendgroup": "sub-460834_acq-headmotion2_T1w",
         "line": {
          "color": "rgba(255,255,255,0)"
         },
         "marker": {
          "color": "#FFA15A"
         },
         "name": "sub-460834_acq-headmotion2_T1w",
         "offsetgroup": "sub-460834_acq-headmotion2_T1w",
         "orientation": "v",
         "pointpos": 0,
         "showlegend": true,
         "type": "box",
         "x": [
          3
         ],
         "x0": " ",
         "xaxis": "x",
         "y": [
          3
         ],
         "y0": " ",
         "yaxis": "y"
        },
        {
         "alignmentgroup": "True",
         "boxpoints": "all",
         "fillcolor": "rgba(255,255,255,0)",
         "hoveron": "points",
         "hovertemplate": "bids_name=sub-468609_acq-standard_T1w<br>score=%{x}<br>condition=%{y}<extra></extra>",
         "legendgroup": "sub-468609_acq-standard_T1w",
         "line": {
          "color": "rgba(255,255,255,0)"
         },
         "marker": {
          "color": "#19d3f3"
         },
         "name": "sub-468609_acq-standard_T1w",
         "offsetgroup": "sub-468609_acq-standard_T1w",
         "orientation": "v",
         "pointpos": 0,
         "showlegend": true,
         "type": "box",
         "x": [
          2
         ],
         "x0": " ",
         "xaxis": "x",
         "y": [
          1
         ],
         "y0": " ",
         "yaxis": "y"
        },
        {
         "alignmentgroup": "True",
         "boxpoints": "all",
         "fillcolor": "rgba(255,255,255,0)",
         "hoveron": "points",
         "hovertemplate": "bids_name=sub-468609_acq-headmotion1_T1w<br>score=%{x}<br>condition=%{y}<extra></extra>",
         "legendgroup": "sub-468609_acq-headmotion1_T1w",
         "line": {
          "color": "rgba(255,255,255,0)"
         },
         "marker": {
          "color": "#FF6692"
         },
         "name": "sub-468609_acq-headmotion1_T1w",
         "offsetgroup": "sub-468609_acq-headmotion1_T1w",
         "orientation": "v",
         "pointpos": 0,
         "showlegend": true,
         "type": "box",
         "x": [
          3
         ],
         "x0": " ",
         "xaxis": "x",
         "y": [
          2
         ],
         "y0": " ",
         "yaxis": "y"
        },
        {
         "alignmentgroup": "True",
         "boxpoints": "all",
         "fillcolor": "rgba(255,255,255,0)",
         "hoveron": "points",
         "hovertemplate": "bids_name=sub-468609_acq-headmotion2_T1w<br>score=%{x}<br>condition=%{y}<extra></extra>",
         "legendgroup": "sub-468609_acq-headmotion2_T1w",
         "line": {
          "color": "rgba(255,255,255,0)"
         },
         "marker": {
          "color": "#B6E880"
         },
         "name": "sub-468609_acq-headmotion2_T1w",
         "offsetgroup": "sub-468609_acq-headmotion2_T1w",
         "orientation": "v",
         "pointpos": 0,
         "showlegend": true,
         "type": "box",
         "x": [
          3
         ],
         "x0": " ",
         "xaxis": "x",
         "y": [
          3
         ],
         "y0": " ",
         "yaxis": "y"
        },
        {
         "alignmentgroup": "True",
         "boxpoints": "all",
         "fillcolor": "rgba(255,255,255,0)",
         "hoveron": "points",
         "hovertemplate": "bids_name=sub-502250_acq-standard_T1w<br>score=%{x}<br>condition=%{y}<extra></extra>",
         "legendgroup": "sub-502250_acq-standard_T1w",
         "line": {
          "color": "rgba(255,255,255,0)"
         },
         "marker": {
          "color": "#FF97FF"
         },
         "name": "sub-502250_acq-standard_T1w",
         "offsetgroup": "sub-502250_acq-standard_T1w",
         "orientation": "v",
         "pointpos": 0,
         "showlegend": true,
         "type": "box",
         "x": [
          1
         ],
         "x0": " ",
         "xaxis": "x",
         "y": [
          1
         ],
         "y0": " ",
         "yaxis": "y"
        },
        {
         "alignmentgroup": "True",
         "boxpoints": "all",
         "fillcolor": "rgba(255,255,255,0)",
         "hoveron": "points",
         "hovertemplate": "bids_name=sub-502250_acq-headmotion1_T1w<br>score=%{x}<br>condition=%{y}<extra></extra>",
         "legendgroup": "sub-502250_acq-headmotion1_T1w",
         "line": {
          "color": "rgba(255,255,255,0)"
         },
         "marker": {
          "color": "#FECB52"
         },
         "name": "sub-502250_acq-headmotion1_T1w",
         "offsetgroup": "sub-502250_acq-headmotion1_T1w",
         "orientation": "v",
         "pointpos": 0,
         "showlegend": true,
         "type": "box",
         "x": [
          3
         ],
         "x0": " ",
         "xaxis": "x",
         "y": [
          2
         ],
         "y0": " ",
         "yaxis": "y"
        },
        {
         "alignmentgroup": "True",
         "boxpoints": "all",
         "fillcolor": "rgba(255,255,255,0)",
         "hoveron": "points",
         "hovertemplate": "bids_name=sub-502250_acq-headmotion2_T1w<br>score=%{x}<br>condition=%{y}<extra></extra>",
         "legendgroup": "sub-502250_acq-headmotion2_T1w",
         "line": {
          "color": "rgba(255,255,255,0)"
         },
         "marker": {
          "color": "#636efa"
         },
         "name": "sub-502250_acq-headmotion2_T1w",
         "offsetgroup": "sub-502250_acq-headmotion2_T1w",
         "orientation": "v",
         "pointpos": 0,
         "showlegend": true,
         "type": "box",
         "x": [
          3
         ],
         "x0": " ",
         "xaxis": "x",
         "y": [
          3
         ],
         "y0": " ",
         "yaxis": "y"
        },
        {
         "alignmentgroup": "True",
         "boxpoints": "all",
         "fillcolor": "rgba(255,255,255,0)",
         "hoveron": "points",
         "hovertemplate": "bids_name=sub-508037_acq-standard_T1w<br>score=%{x}<br>condition=%{y}<extra></extra>",
         "legendgroup": "sub-508037_acq-standard_T1w",
         "line": {
          "color": "rgba(255,255,255,0)"
         },
         "marker": {
          "color": "#EF553B"
         },
         "name": "sub-508037_acq-standard_T1w",
         "offsetgroup": "sub-508037_acq-standard_T1w",
         "orientation": "v",
         "pointpos": 0,
         "showlegend": true,
         "type": "box",
         "x": [
          1
         ],
         "x0": " ",
         "xaxis": "x",
         "y": [
          1
         ],
         "y0": " ",
         "yaxis": "y"
        },
        {
         "alignmentgroup": "True",
         "boxpoints": "all",
         "fillcolor": "rgba(255,255,255,0)",
         "hoveron": "points",
         "hovertemplate": "bids_name=sub-508037_acq-headmotion1_T1w<br>score=%{x}<br>condition=%{y}<extra></extra>",
         "legendgroup": "sub-508037_acq-headmotion1_T1w",
         "line": {
          "color": "rgba(255,255,255,0)"
         },
         "marker": {
          "color": "#00cc96"
         },
         "name": "sub-508037_acq-headmotion1_T1w",
         "offsetgroup": "sub-508037_acq-headmotion1_T1w",
         "orientation": "v",
         "pointpos": 0,
         "showlegend": true,
         "type": "box",
         "x": [
          2
         ],
         "x0": " ",
         "xaxis": "x",
         "y": [
          2
         ],
         "y0": " ",
         "yaxis": "y"
        },
        {
         "alignmentgroup": "True",
         "boxpoints": "all",
         "fillcolor": "rgba(255,255,255,0)",
         "hoveron": "points",
         "hovertemplate": "bids_name=sub-508037_acq-headmotion2_T1w<br>score=%{x}<br>condition=%{y}<extra></extra>",
         "legendgroup": "sub-508037_acq-headmotion2_T1w",
         "line": {
          "color": "rgba(255,255,255,0)"
         },
         "marker": {
          "color": "#ab63fa"
         },
         "name": "sub-508037_acq-headmotion2_T1w",
         "offsetgroup": "sub-508037_acq-headmotion2_T1w",
         "orientation": "v",
         "pointpos": 0,
         "showlegend": true,
         "type": "box",
         "x": [
          3
         ],
         "x0": " ",
         "xaxis": "x",
         "y": [
          3
         ],
         "y0": " ",
         "yaxis": "y"
        },
        {
         "alignmentgroup": "True",
         "boxpoints": "all",
         "fillcolor": "rgba(255,255,255,0)",
         "hoveron": "points",
         "hovertemplate": "bids_name=sub-513281_acq-standard_T1w<br>score=%{x}<br>condition=%{y}<extra></extra>",
         "legendgroup": "sub-513281_acq-standard_T1w",
         "line": {
          "color": "rgba(255,255,255,0)"
         },
         "marker": {
          "color": "#FFA15A"
         },
         "name": "sub-513281_acq-standard_T1w",
         "offsetgroup": "sub-513281_acq-standard_T1w",
         "orientation": "v",
         "pointpos": 0,
         "showlegend": true,
         "type": "box",
         "x": [
          1
         ],
         "x0": " ",
         "xaxis": "x",
         "y": [
          1
         ],
         "y0": " ",
         "yaxis": "y"
        },
        {
         "alignmentgroup": "True",
         "boxpoints": "all",
         "fillcolor": "rgba(255,255,255,0)",
         "hoveron": "points",
         "hovertemplate": "bids_name=sub-513281_acq-headmotion1_T1w<br>score=%{x}<br>condition=%{y}<extra></extra>",
         "legendgroup": "sub-513281_acq-headmotion1_T1w",
         "line": {
          "color": "rgba(255,255,255,0)"
         },
         "marker": {
          "color": "#19d3f3"
         },
         "name": "sub-513281_acq-headmotion1_T1w",
         "offsetgroup": "sub-513281_acq-headmotion1_T1w",
         "orientation": "v",
         "pointpos": 0,
         "showlegend": true,
         "type": "box",
         "x": [
          1
         ],
         "x0": " ",
         "xaxis": "x",
         "y": [
          2
         ],
         "y0": " ",
         "yaxis": "y"
        },
        {
         "alignmentgroup": "True",
         "boxpoints": "all",
         "fillcolor": "rgba(255,255,255,0)",
         "hoveron": "points",
         "hovertemplate": "bids_name=sub-513281_acq-headmotion2_T1w<br>score=%{x}<br>condition=%{y}<extra></extra>",
         "legendgroup": "sub-513281_acq-headmotion2_T1w",
         "line": {
          "color": "rgba(255,255,255,0)"
         },
         "marker": {
          "color": "#FF6692"
         },
         "name": "sub-513281_acq-headmotion2_T1w",
         "offsetgroup": "sub-513281_acq-headmotion2_T1w",
         "orientation": "v",
         "pointpos": 0,
         "showlegend": true,
         "type": "box",
         "x": [
          2
         ],
         "x0": " ",
         "xaxis": "x",
         "y": [
          3
         ],
         "y0": " ",
         "yaxis": "y"
        },
        {
         "alignmentgroup": "True",
         "boxpoints": "all",
         "fillcolor": "rgba(255,255,255,0)",
         "hoveron": "points",
         "hovertemplate": "bids_name=sub-517724_acq-standard_T1w<br>score=%{x}<br>condition=%{y}<extra></extra>",
         "legendgroup": "sub-517724_acq-standard_T1w",
         "line": {
          "color": "rgba(255,255,255,0)"
         },
         "marker": {
          "color": "#B6E880"
         },
         "name": "sub-517724_acq-standard_T1w",
         "offsetgroup": "sub-517724_acq-standard_T1w",
         "orientation": "v",
         "pointpos": 0,
         "showlegend": true,
         "type": "box",
         "x": [
          1
         ],
         "x0": " ",
         "xaxis": "x",
         "y": [
          1
         ],
         "y0": " ",
         "yaxis": "y"
        },
        {
         "alignmentgroup": "True",
         "boxpoints": "all",
         "fillcolor": "rgba(255,255,255,0)",
         "hoveron": "points",
         "hovertemplate": "bids_name=sub-517724_acq-headmotion1_T1w<br>score=%{x}<br>condition=%{y}<extra></extra>",
         "legendgroup": "sub-517724_acq-headmotion1_T1w",
         "line": {
          "color": "rgba(255,255,255,0)"
         },
         "marker": {
          "color": "#FF97FF"
         },
         "name": "sub-517724_acq-headmotion1_T1w",
         "offsetgroup": "sub-517724_acq-headmotion1_T1w",
         "orientation": "v",
         "pointpos": 0,
         "showlegend": true,
         "type": "box",
         "x": [
          2
         ],
         "x0": " ",
         "xaxis": "x",
         "y": [
          2
         ],
         "y0": " ",
         "yaxis": "y"
        },
        {
         "alignmentgroup": "True",
         "boxpoints": "all",
         "fillcolor": "rgba(255,255,255,0)",
         "hoveron": "points",
         "hovertemplate": "bids_name=sub-517724_acq-headmotion2_T1w<br>score=%{x}<br>condition=%{y}<extra></extra>",
         "legendgroup": "sub-517724_acq-headmotion2_T1w",
         "line": {
          "color": "rgba(255,255,255,0)"
         },
         "marker": {
          "color": "#FECB52"
         },
         "name": "sub-517724_acq-headmotion2_T1w",
         "offsetgroup": "sub-517724_acq-headmotion2_T1w",
         "orientation": "v",
         "pointpos": 0,
         "showlegend": true,
         "type": "box",
         "x": [
          3
         ],
         "x0": " ",
         "xaxis": "x",
         "y": [
          3
         ],
         "y0": " ",
         "yaxis": "y"
        },
        {
         "alignmentgroup": "True",
         "boxpoints": "all",
         "fillcolor": "rgba(255,255,255,0)",
         "hoveron": "points",
         "hovertemplate": "bids_name=sub-519991_acq-standard_T1w<br>score=%{x}<br>condition=%{y}<extra></extra>",
         "legendgroup": "sub-519991_acq-standard_T1w",
         "line": {
          "color": "rgba(255,255,255,0)"
         },
         "marker": {
          "color": "#636efa"
         },
         "name": "sub-519991_acq-standard_T1w",
         "offsetgroup": "sub-519991_acq-standard_T1w",
         "orientation": "v",
         "pointpos": 0,
         "showlegend": true,
         "type": "box",
         "x": [
          2
         ],
         "x0": " ",
         "xaxis": "x",
         "y": [
          1
         ],
         "y0": " ",
         "yaxis": "y"
        },
        {
         "alignmentgroup": "True",
         "boxpoints": "all",
         "fillcolor": "rgba(255,255,255,0)",
         "hoveron": "points",
         "hovertemplate": "bids_name=sub-519991_acq-headmotion1_T1w<br>score=%{x}<br>condition=%{y}<extra></extra>",
         "legendgroup": "sub-519991_acq-headmotion1_T1w",
         "line": {
          "color": "rgba(255,255,255,0)"
         },
         "marker": {
          "color": "#EF553B"
         },
         "name": "sub-519991_acq-headmotion1_T1w",
         "offsetgroup": "sub-519991_acq-headmotion1_T1w",
         "orientation": "v",
         "pointpos": 0,
         "showlegend": true,
         "type": "box",
         "x": [
          3
         ],
         "x0": " ",
         "xaxis": "x",
         "y": [
          2
         ],
         "y0": " ",
         "yaxis": "y"
        },
        {
         "alignmentgroup": "True",
         "boxpoints": "all",
         "fillcolor": "rgba(255,255,255,0)",
         "hoveron": "points",
         "hovertemplate": "bids_name=sub-519991_acq-headmotion2_T1w<br>score=%{x}<br>condition=%{y}<extra></extra>",
         "legendgroup": "sub-519991_acq-headmotion2_T1w",
         "line": {
          "color": "rgba(255,255,255,0)"
         },
         "marker": {
          "color": "#00cc96"
         },
         "name": "sub-519991_acq-headmotion2_T1w",
         "offsetgroup": "sub-519991_acq-headmotion2_T1w",
         "orientation": "v",
         "pointpos": 0,
         "showlegend": true,
         "type": "box",
         "x": [
          3
         ],
         "x0": " ",
         "xaxis": "x",
         "y": [
          3
         ],
         "y0": " ",
         "yaxis": "y"
        },
        {
         "alignmentgroup": "True",
         "boxpoints": "all",
         "fillcolor": "rgba(255,255,255,0)",
         "hoveron": "points",
         "hovertemplate": "bids_name=sub-535925_acq-standard_T1w<br>score=%{x}<br>condition=%{y}<extra></extra>",
         "legendgroup": "sub-535925_acq-standard_T1w",
         "line": {
          "color": "rgba(255,255,255,0)"
         },
         "marker": {
          "color": "#ab63fa"
         },
         "name": "sub-535925_acq-standard_T1w",
         "offsetgroup": "sub-535925_acq-standard_T1w",
         "orientation": "v",
         "pointpos": 0,
         "showlegend": true,
         "type": "box",
         "x": [
          1
         ],
         "x0": " ",
         "xaxis": "x",
         "y": [
          1
         ],
         "y0": " ",
         "yaxis": "y"
        },
        {
         "alignmentgroup": "True",
         "boxpoints": "all",
         "fillcolor": "rgba(255,255,255,0)",
         "hoveron": "points",
         "hovertemplate": "bids_name=sub-535925_acq-headmotion1_T1w<br>score=%{x}<br>condition=%{y}<extra></extra>",
         "legendgroup": "sub-535925_acq-headmotion1_T1w",
         "line": {
          "color": "rgba(255,255,255,0)"
         },
         "marker": {
          "color": "#FFA15A"
         },
         "name": "sub-535925_acq-headmotion1_T1w",
         "offsetgroup": "sub-535925_acq-headmotion1_T1w",
         "orientation": "v",
         "pointpos": 0,
         "showlegend": true,
         "type": "box",
         "x": [
          2
         ],
         "x0": " ",
         "xaxis": "x",
         "y": [
          2
         ],
         "y0": " ",
         "yaxis": "y"
        },
        {
         "alignmentgroup": "True",
         "boxpoints": "all",
         "fillcolor": "rgba(255,255,255,0)",
         "hoveron": "points",
         "hovertemplate": "bids_name=sub-535925_acq-headmotion2_T1w<br>score=%{x}<br>condition=%{y}<extra></extra>",
         "legendgroup": "sub-535925_acq-headmotion2_T1w",
         "line": {
          "color": "rgba(255,255,255,0)"
         },
         "marker": {
          "color": "#19d3f3"
         },
         "name": "sub-535925_acq-headmotion2_T1w",
         "offsetgroup": "sub-535925_acq-headmotion2_T1w",
         "orientation": "v",
         "pointpos": 0,
         "showlegend": true,
         "type": "box",
         "x": [
          3
         ],
         "x0": " ",
         "xaxis": "x",
         "y": [
          3
         ],
         "y0": " ",
         "yaxis": "y"
        },
        {
         "alignmentgroup": "True",
         "boxpoints": "all",
         "fillcolor": "rgba(255,255,255,0)",
         "hoveron": "points",
         "hovertemplate": "bids_name=sub-549056_acq-standard_T1w<br>score=%{x}<br>condition=%{y}<extra></extra>",
         "legendgroup": "sub-549056_acq-standard_T1w",
         "line": {
          "color": "rgba(255,255,255,0)"
         },
         "marker": {
          "color": "#FF6692"
         },
         "name": "sub-549056_acq-standard_T1w",
         "offsetgroup": "sub-549056_acq-standard_T1w",
         "orientation": "v",
         "pointpos": 0,
         "showlegend": true,
         "type": "box",
         "x": [
          2
         ],
         "x0": " ",
         "xaxis": "x",
         "y": [
          1
         ],
         "y0": " ",
         "yaxis": "y"
        },
        {
         "alignmentgroup": "True",
         "boxpoints": "all",
         "fillcolor": "rgba(255,255,255,0)",
         "hoveron": "points",
         "hovertemplate": "bids_name=sub-549056_acq-headmotion1_T1w<br>score=%{x}<br>condition=%{y}<extra></extra>",
         "legendgroup": "sub-549056_acq-headmotion1_T1w",
         "line": {
          "color": "rgba(255,255,255,0)"
         },
         "marker": {
          "color": "#B6E880"
         },
         "name": "sub-549056_acq-headmotion1_T1w",
         "offsetgroup": "sub-549056_acq-headmotion1_T1w",
         "orientation": "v",
         "pointpos": 0,
         "showlegend": true,
         "type": "box",
         "x": [
          3
         ],
         "x0": " ",
         "xaxis": "x",
         "y": [
          2
         ],
         "y0": " ",
         "yaxis": "y"
        },
        {
         "alignmentgroup": "True",
         "boxpoints": "all",
         "fillcolor": "rgba(255,255,255,0)",
         "hoveron": "points",
         "hovertemplate": "bids_name=sub-549056_acq-headmotion2_T1w<br>score=%{x}<br>condition=%{y}<extra></extra>",
         "legendgroup": "sub-549056_acq-headmotion2_T1w",
         "line": {
          "color": "rgba(255,255,255,0)"
         },
         "marker": {
          "color": "#FF97FF"
         },
         "name": "sub-549056_acq-headmotion2_T1w",
         "offsetgroup": "sub-549056_acq-headmotion2_T1w",
         "orientation": "v",
         "pointpos": 0,
         "showlegend": true,
         "type": "box",
         "x": [
          3
         ],
         "x0": " ",
         "xaxis": "x",
         "y": [
          3
         ],
         "y0": " ",
         "yaxis": "y"
        },
        {
         "alignmentgroup": "True",
         "boxpoints": "all",
         "fillcolor": "rgba(255,255,255,0)",
         "hoveron": "points",
         "hovertemplate": "bids_name=sub-561646_acq-standard_T1w<br>score=%{x}<br>condition=%{y}<extra></extra>",
         "legendgroup": "sub-561646_acq-standard_T1w",
         "line": {
          "color": "rgba(255,255,255,0)"
         },
         "marker": {
          "color": "#FECB52"
         },
         "name": "sub-561646_acq-standard_T1w",
         "offsetgroup": "sub-561646_acq-standard_T1w",
         "orientation": "v",
         "pointpos": 0,
         "showlegend": true,
         "type": "box",
         "x": [
          1
         ],
         "x0": " ",
         "xaxis": "x",
         "y": [
          1
         ],
         "y0": " ",
         "yaxis": "y"
        },
        {
         "alignmentgroup": "True",
         "boxpoints": "all",
         "fillcolor": "rgba(255,255,255,0)",
         "hoveron": "points",
         "hovertemplate": "bids_name=sub-561646_acq-headmotion1_T1w<br>score=%{x}<br>condition=%{y}<extra></extra>",
         "legendgroup": "sub-561646_acq-headmotion1_T1w",
         "line": {
          "color": "rgba(255,255,255,0)"
         },
         "marker": {
          "color": "#636efa"
         },
         "name": "sub-561646_acq-headmotion1_T1w",
         "offsetgroup": "sub-561646_acq-headmotion1_T1w",
         "orientation": "v",
         "pointpos": 0,
         "showlegend": true,
         "type": "box",
         "x": [
          2
         ],
         "x0": " ",
         "xaxis": "x",
         "y": [
          2
         ],
         "y0": " ",
         "yaxis": "y"
        },
        {
         "alignmentgroup": "True",
         "boxpoints": "all",
         "fillcolor": "rgba(255,255,255,0)",
         "hoveron": "points",
         "hovertemplate": "bids_name=sub-561646_acq-headmotion2_T1w<br>score=%{x}<br>condition=%{y}<extra></extra>",
         "legendgroup": "sub-561646_acq-headmotion2_T1w",
         "line": {
          "color": "rgba(255,255,255,0)"
         },
         "marker": {
          "color": "#EF553B"
         },
         "name": "sub-561646_acq-headmotion2_T1w",
         "offsetgroup": "sub-561646_acq-headmotion2_T1w",
         "orientation": "v",
         "pointpos": 0,
         "showlegend": true,
         "type": "box",
         "x": [
          3
         ],
         "x0": " ",
         "xaxis": "x",
         "y": [
          3
         ],
         "y0": " ",
         "yaxis": "y"
        },
        {
         "alignmentgroup": "True",
         "boxpoints": "all",
         "fillcolor": "rgba(255,255,255,0)",
         "hoveron": "points",
         "hovertemplate": "bids_name=sub-567551_acq-standard_T1w<br>score=%{x}<br>condition=%{y}<extra></extra>",
         "legendgroup": "sub-567551_acq-standard_T1w",
         "line": {
          "color": "rgba(255,255,255,0)"
         },
         "marker": {
          "color": "#00cc96"
         },
         "name": "sub-567551_acq-standard_T1w",
         "offsetgroup": "sub-567551_acq-standard_T1w",
         "orientation": "v",
         "pointpos": 0,
         "showlegend": true,
         "type": "box",
         "x": [
          2
         ],
         "x0": " ",
         "xaxis": "x",
         "y": [
          1
         ],
         "y0": " ",
         "yaxis": "y"
        },
        {
         "alignmentgroup": "True",
         "boxpoints": "all",
         "fillcolor": "rgba(255,255,255,0)",
         "hoveron": "points",
         "hovertemplate": "bids_name=sub-567551_acq-headmotion1_T1w<br>score=%{x}<br>condition=%{y}<extra></extra>",
         "legendgroup": "sub-567551_acq-headmotion1_T1w",
         "line": {
          "color": "rgba(255,255,255,0)"
         },
         "marker": {
          "color": "#ab63fa"
         },
         "name": "sub-567551_acq-headmotion1_T1w",
         "offsetgroup": "sub-567551_acq-headmotion1_T1w",
         "orientation": "v",
         "pointpos": 0,
         "showlegend": true,
         "type": "box",
         "x": [
          3
         ],
         "x0": " ",
         "xaxis": "x",
         "y": [
          2
         ],
         "y0": " ",
         "yaxis": "y"
        },
        {
         "alignmentgroup": "True",
         "boxpoints": "all",
         "fillcolor": "rgba(255,255,255,0)",
         "hoveron": "points",
         "hovertemplate": "bids_name=sub-567551_acq-headmotion2_T1w<br>score=%{x}<br>condition=%{y}<extra></extra>",
         "legendgroup": "sub-567551_acq-headmotion2_T1w",
         "line": {
          "color": "rgba(255,255,255,0)"
         },
         "marker": {
          "color": "#FFA15A"
         },
         "name": "sub-567551_acq-headmotion2_T1w",
         "offsetgroup": "sub-567551_acq-headmotion2_T1w",
         "orientation": "v",
         "pointpos": 0,
         "showlegend": true,
         "type": "box",
         "x": [
          3
         ],
         "x0": " ",
         "xaxis": "x",
         "y": [
          3
         ],
         "y0": " ",
         "yaxis": "y"
        },
        {
         "alignmentgroup": "True",
         "boxpoints": "all",
         "fillcolor": "rgba(255,255,255,0)",
         "hoveron": "points",
         "hovertemplate": "bids_name=sub-567742_acq-standard_T1w<br>score=%{x}<br>condition=%{y}<extra></extra>",
         "legendgroup": "sub-567742_acq-standard_T1w",
         "line": {
          "color": "rgba(255,255,255,0)"
         },
         "marker": {
          "color": "#19d3f3"
         },
         "name": "sub-567742_acq-standard_T1w",
         "offsetgroup": "sub-567742_acq-standard_T1w",
         "orientation": "v",
         "pointpos": 0,
         "showlegend": true,
         "type": "box",
         "x": [
          1
         ],
         "x0": " ",
         "xaxis": "x",
         "y": [
          1
         ],
         "y0": " ",
         "yaxis": "y"
        },
        {
         "alignmentgroup": "True",
         "boxpoints": "all",
         "fillcolor": "rgba(255,255,255,0)",
         "hoveron": "points",
         "hovertemplate": "bids_name=sub-567742_acq-headmotion1_T1w<br>score=%{x}<br>condition=%{y}<extra></extra>",
         "legendgroup": "sub-567742_acq-headmotion1_T1w",
         "line": {
          "color": "rgba(255,255,255,0)"
         },
         "marker": {
          "color": "#FF6692"
         },
         "name": "sub-567742_acq-headmotion1_T1w",
         "offsetgroup": "sub-567742_acq-headmotion1_T1w",
         "orientation": "v",
         "pointpos": 0,
         "showlegend": true,
         "type": "box",
         "x": [
          1
         ],
         "x0": " ",
         "xaxis": "x",
         "y": [
          2
         ],
         "y0": " ",
         "yaxis": "y"
        },
        {
         "alignmentgroup": "True",
         "boxpoints": "all",
         "fillcolor": "rgba(255,255,255,0)",
         "hoveron": "points",
         "hovertemplate": "bids_name=sub-567742_acq-headmotion2_T1w<br>score=%{x}<br>condition=%{y}<extra></extra>",
         "legendgroup": "sub-567742_acq-headmotion2_T1w",
         "line": {
          "color": "rgba(255,255,255,0)"
         },
         "marker": {
          "color": "#B6E880"
         },
         "name": "sub-567742_acq-headmotion2_T1w",
         "offsetgroup": "sub-567742_acq-headmotion2_T1w",
         "orientation": "v",
         "pointpos": 0,
         "showlegend": true,
         "type": "box",
         "x": [
          1
         ],
         "x0": " ",
         "xaxis": "x",
         "y": [
          3
         ],
         "y0": " ",
         "yaxis": "y"
        },
        {
         "alignmentgroup": "True",
         "boxpoints": "all",
         "fillcolor": "rgba(255,255,255,0)",
         "hoveron": "points",
         "hovertemplate": "bids_name=sub-570379_acq-standard_T1w<br>score=%{x}<br>condition=%{y}<extra></extra>",
         "legendgroup": "sub-570379_acq-standard_T1w",
         "line": {
          "color": "rgba(255,255,255,0)"
         },
         "marker": {
          "color": "#FF97FF"
         },
         "name": "sub-570379_acq-standard_T1w",
         "offsetgroup": "sub-570379_acq-standard_T1w",
         "orientation": "v",
         "pointpos": 0,
         "showlegend": true,
         "type": "box",
         "x": [
          1
         ],
         "x0": " ",
         "xaxis": "x",
         "y": [
          1
         ],
         "y0": " ",
         "yaxis": "y"
        },
        {
         "alignmentgroup": "True",
         "boxpoints": "all",
         "fillcolor": "rgba(255,255,255,0)",
         "hoveron": "points",
         "hovertemplate": "bids_name=sub-570379_acq-headmotion1_T1w<br>score=%{x}<br>condition=%{y}<extra></extra>",
         "legendgroup": "sub-570379_acq-headmotion1_T1w",
         "line": {
          "color": "rgba(255,255,255,0)"
         },
         "marker": {
          "color": "#FECB52"
         },
         "name": "sub-570379_acq-headmotion1_T1w",
         "offsetgroup": "sub-570379_acq-headmotion1_T1w",
         "orientation": "v",
         "pointpos": 0,
         "showlegend": true,
         "type": "box",
         "x": [
          3
         ],
         "x0": " ",
         "xaxis": "x",
         "y": [
          2
         ],
         "y0": " ",
         "yaxis": "y"
        },
        {
         "alignmentgroup": "True",
         "boxpoints": "all",
         "fillcolor": "rgba(255,255,255,0)",
         "hoveron": "points",
         "hovertemplate": "bids_name=sub-570379_acq-headmotion2_T1w<br>score=%{x}<br>condition=%{y}<extra></extra>",
         "legendgroup": "sub-570379_acq-headmotion2_T1w",
         "line": {
          "color": "rgba(255,255,255,0)"
         },
         "marker": {
          "color": "#636efa"
         },
         "name": "sub-570379_acq-headmotion2_T1w",
         "offsetgroup": "sub-570379_acq-headmotion2_T1w",
         "orientation": "v",
         "pointpos": 0,
         "showlegend": true,
         "type": "box",
         "x": [
          3
         ],
         "x0": " ",
         "xaxis": "x",
         "y": [
          3
         ],
         "y0": " ",
         "yaxis": "y"
        },
        {
         "alignmentgroup": "True",
         "boxpoints": "all",
         "fillcolor": "rgba(255,255,255,0)",
         "hoveron": "points",
         "hovertemplate": "bids_name=sub-579247_acq-standard_T1w<br>score=%{x}<br>condition=%{y}<extra></extra>",
         "legendgroup": "sub-579247_acq-standard_T1w",
         "line": {
          "color": "rgba(255,255,255,0)"
         },
         "marker": {
          "color": "#EF553B"
         },
         "name": "sub-579247_acq-standard_T1w",
         "offsetgroup": "sub-579247_acq-standard_T1w",
         "orientation": "v",
         "pointpos": 0,
         "showlegend": true,
         "type": "box",
         "x": [
          1
         ],
         "x0": " ",
         "xaxis": "x",
         "y": [
          1
         ],
         "y0": " ",
         "yaxis": "y"
        },
        {
         "alignmentgroup": "True",
         "boxpoints": "all",
         "fillcolor": "rgba(255,255,255,0)",
         "hoveron": "points",
         "hovertemplate": "bids_name=sub-579247_acq-headmotion1_T1w<br>score=%{x}<br>condition=%{y}<extra></extra>",
         "legendgroup": "sub-579247_acq-headmotion1_T1w",
         "line": {
          "color": "rgba(255,255,255,0)"
         },
         "marker": {
          "color": "#00cc96"
         },
         "name": "sub-579247_acq-headmotion1_T1w",
         "offsetgroup": "sub-579247_acq-headmotion1_T1w",
         "orientation": "v",
         "pointpos": 0,
         "showlegend": true,
         "type": "box",
         "x": [
          2
         ],
         "x0": " ",
         "xaxis": "x",
         "y": [
          2
         ],
         "y0": " ",
         "yaxis": "y"
        },
        {
         "alignmentgroup": "True",
         "boxpoints": "all",
         "fillcolor": "rgba(255,255,255,0)",
         "hoveron": "points",
         "hovertemplate": "bids_name=sub-579247_acq-headmotion2_T1w<br>score=%{x}<br>condition=%{y}<extra></extra>",
         "legendgroup": "sub-579247_acq-headmotion2_T1w",
         "line": {
          "color": "rgba(255,255,255,0)"
         },
         "marker": {
          "color": "#ab63fa"
         },
         "name": "sub-579247_acq-headmotion2_T1w",
         "offsetgroup": "sub-579247_acq-headmotion2_T1w",
         "orientation": "v",
         "pointpos": 0,
         "showlegend": true,
         "type": "box",
         "x": [
          3
         ],
         "x0": " ",
         "xaxis": "x",
         "y": [
          3
         ],
         "y0": " ",
         "yaxis": "y"
        },
        {
         "alignmentgroup": "True",
         "boxpoints": "all",
         "fillcolor": "rgba(255,255,255,0)",
         "hoveron": "points",
         "hovertemplate": "bids_name=sub-581638_acq-standard_T1w<br>score=%{x}<br>condition=%{y}<extra></extra>",
         "legendgroup": "sub-581638_acq-standard_T1w",
         "line": {
          "color": "rgba(255,255,255,0)"
         },
         "marker": {
          "color": "#FFA15A"
         },
         "name": "sub-581638_acq-standard_T1w",
         "offsetgroup": "sub-581638_acq-standard_T1w",
         "orientation": "v",
         "pointpos": 0,
         "showlegend": true,
         "type": "box",
         "x": [
          1
         ],
         "x0": " ",
         "xaxis": "x",
         "y": [
          1
         ],
         "y0": " ",
         "yaxis": "y"
        },
        {
         "alignmentgroup": "True",
         "boxpoints": "all",
         "fillcolor": "rgba(255,255,255,0)",
         "hoveron": "points",
         "hovertemplate": "bids_name=sub-581638_acq-headmotion1_T1w<br>score=%{x}<br>condition=%{y}<extra></extra>",
         "legendgroup": "sub-581638_acq-headmotion1_T1w",
         "line": {
          "color": "rgba(255,255,255,0)"
         },
         "marker": {
          "color": "#19d3f3"
         },
         "name": "sub-581638_acq-headmotion1_T1w",
         "offsetgroup": "sub-581638_acq-headmotion1_T1w",
         "orientation": "v",
         "pointpos": 0,
         "showlegend": true,
         "type": "box",
         "x": [
          2
         ],
         "x0": " ",
         "xaxis": "x",
         "y": [
          2
         ],
         "y0": " ",
         "yaxis": "y"
        },
        {
         "alignmentgroup": "True",
         "boxpoints": "all",
         "fillcolor": "rgba(255,255,255,0)",
         "hoveron": "points",
         "hovertemplate": "bids_name=sub-581638_acq-headmotion2_T1w<br>score=%{x}<br>condition=%{y}<extra></extra>",
         "legendgroup": "sub-581638_acq-headmotion2_T1w",
         "line": {
          "color": "rgba(255,255,255,0)"
         },
         "marker": {
          "color": "#FF6692"
         },
         "name": "sub-581638_acq-headmotion2_T1w",
         "offsetgroup": "sub-581638_acq-headmotion2_T1w",
         "orientation": "v",
         "pointpos": 0,
         "showlegend": true,
         "type": "box",
         "x": [
          3
         ],
         "x0": " ",
         "xaxis": "x",
         "y": [
          3
         ],
         "y0": " ",
         "yaxis": "y"
        },
        {
         "alignmentgroup": "True",
         "boxpoints": "all",
         "fillcolor": "rgba(255,255,255,0)",
         "hoveron": "points",
         "hovertemplate": "bids_name=sub-584264_acq-standard_T1w<br>score=%{x}<br>condition=%{y}<extra></extra>",
         "legendgroup": "sub-584264_acq-standard_T1w",
         "line": {
          "color": "rgba(255,255,255,0)"
         },
         "marker": {
          "color": "#B6E880"
         },
         "name": "sub-584264_acq-standard_T1w",
         "offsetgroup": "sub-584264_acq-standard_T1w",
         "orientation": "v",
         "pointpos": 0,
         "showlegend": true,
         "type": "box",
         "x": [
          2
         ],
         "x0": " ",
         "xaxis": "x",
         "y": [
          1
         ],
         "y0": " ",
         "yaxis": "y"
        },
        {
         "alignmentgroup": "True",
         "boxpoints": "all",
         "fillcolor": "rgba(255,255,255,0)",
         "hoveron": "points",
         "hovertemplate": "bids_name=sub-584264_acq-headmotion1_T1w<br>score=%{x}<br>condition=%{y}<extra></extra>",
         "legendgroup": "sub-584264_acq-headmotion1_T1w",
         "line": {
          "color": "rgba(255,255,255,0)"
         },
         "marker": {
          "color": "#FF97FF"
         },
         "name": "sub-584264_acq-headmotion1_T1w",
         "offsetgroup": "sub-584264_acq-headmotion1_T1w",
         "orientation": "v",
         "pointpos": 0,
         "showlegend": true,
         "type": "box",
         "x": [
          3
         ],
         "x0": " ",
         "xaxis": "x",
         "y": [
          2
         ],
         "y0": " ",
         "yaxis": "y"
        },
        {
         "alignmentgroup": "True",
         "boxpoints": "all",
         "fillcolor": "rgba(255,255,255,0)",
         "hoveron": "points",
         "hovertemplate": "bids_name=sub-584264_acq-headmotion2_T1w<br>score=%{x}<br>condition=%{y}<extra></extra>",
         "legendgroup": "sub-584264_acq-headmotion2_T1w",
         "line": {
          "color": "rgba(255,255,255,0)"
         },
         "marker": {
          "color": "#FECB52"
         },
         "name": "sub-584264_acq-headmotion2_T1w",
         "offsetgroup": "sub-584264_acq-headmotion2_T1w",
         "orientation": "v",
         "pointpos": 0,
         "showlegend": true,
         "type": "box",
         "x": [
          3
         ],
         "x0": " ",
         "xaxis": "x",
         "y": [
          3
         ],
         "y0": " ",
         "yaxis": "y"
        },
        {
         "alignmentgroup": "True",
         "boxpoints": "all",
         "fillcolor": "rgba(255,255,255,0)",
         "hoveron": "points",
         "hovertemplate": "bids_name=sub-593354_acq-standard_T1w<br>score=%{x}<br>condition=%{y}<extra></extra>",
         "legendgroup": "sub-593354_acq-standard_T1w",
         "line": {
          "color": "rgba(255,255,255,0)"
         },
         "marker": {
          "color": "#636efa"
         },
         "name": "sub-593354_acq-standard_T1w",
         "offsetgroup": "sub-593354_acq-standard_T1w",
         "orientation": "v",
         "pointpos": 0,
         "showlegend": true,
         "type": "box",
         "x": [
          1
         ],
         "x0": " ",
         "xaxis": "x",
         "y": [
          1
         ],
         "y0": " ",
         "yaxis": "y"
        },
        {
         "alignmentgroup": "True",
         "boxpoints": "all",
         "fillcolor": "rgba(255,255,255,0)",
         "hoveron": "points",
         "hovertemplate": "bids_name=sub-593354_acq-headmotion1_T1w<br>score=%{x}<br>condition=%{y}<extra></extra>",
         "legendgroup": "sub-593354_acq-headmotion1_T1w",
         "line": {
          "color": "rgba(255,255,255,0)"
         },
         "marker": {
          "color": "#EF553B"
         },
         "name": "sub-593354_acq-headmotion1_T1w",
         "offsetgroup": "sub-593354_acq-headmotion1_T1w",
         "orientation": "v",
         "pointpos": 0,
         "showlegend": true,
         "type": "box",
         "x": [
          3
         ],
         "x0": " ",
         "xaxis": "x",
         "y": [
          2
         ],
         "y0": " ",
         "yaxis": "y"
        },
        {
         "alignmentgroup": "True",
         "boxpoints": "all",
         "fillcolor": "rgba(255,255,255,0)",
         "hoveron": "points",
         "hovertemplate": "bids_name=sub-593354_acq-headmotion2_T1w<br>score=%{x}<br>condition=%{y}<extra></extra>",
         "legendgroup": "sub-593354_acq-headmotion2_T1w",
         "line": {
          "color": "rgba(255,255,255,0)"
         },
         "marker": {
          "color": "#00cc96"
         },
         "name": "sub-593354_acq-headmotion2_T1w",
         "offsetgroup": "sub-593354_acq-headmotion2_T1w",
         "orientation": "v",
         "pointpos": 0,
         "showlegend": true,
         "type": "box",
         "x": [
          3
         ],
         "x0": " ",
         "xaxis": "x",
         "y": [
          3
         ],
         "y0": " ",
         "yaxis": "y"
        },
        {
         "alignmentgroup": "True",
         "boxpoints": "all",
         "fillcolor": "rgba(255,255,255,0)",
         "hoveron": "points",
         "hovertemplate": "bids_name=sub-597083_acq-standard_T1w<br>score=%{x}<br>condition=%{y}<extra></extra>",
         "legendgroup": "sub-597083_acq-standard_T1w",
         "line": {
          "color": "rgba(255,255,255,0)"
         },
         "marker": {
          "color": "#ab63fa"
         },
         "name": "sub-597083_acq-standard_T1w",
         "offsetgroup": "sub-597083_acq-standard_T1w",
         "orientation": "v",
         "pointpos": 0,
         "showlegend": true,
         "type": "box",
         "x": [
          2
         ],
         "x0": " ",
         "xaxis": "x",
         "y": [
          1
         ],
         "y0": " ",
         "yaxis": "y"
        },
        {
         "alignmentgroup": "True",
         "boxpoints": "all",
         "fillcolor": "rgba(255,255,255,0)",
         "hoveron": "points",
         "hovertemplate": "bids_name=sub-597083_acq-headmotion1_T1w<br>score=%{x}<br>condition=%{y}<extra></extra>",
         "legendgroup": "sub-597083_acq-headmotion1_T1w",
         "line": {
          "color": "rgba(255,255,255,0)"
         },
         "marker": {
          "color": "#FFA15A"
         },
         "name": "sub-597083_acq-headmotion1_T1w",
         "offsetgroup": "sub-597083_acq-headmotion1_T1w",
         "orientation": "v",
         "pointpos": 0,
         "showlegend": true,
         "type": "box",
         "x": [
          3
         ],
         "x0": " ",
         "xaxis": "x",
         "y": [
          2
         ],
         "y0": " ",
         "yaxis": "y"
        },
        {
         "alignmentgroup": "True",
         "boxpoints": "all",
         "fillcolor": "rgba(255,255,255,0)",
         "hoveron": "points",
         "hovertemplate": "bids_name=sub-597083_acq-headmotion2_T1w<br>score=%{x}<br>condition=%{y}<extra></extra>",
         "legendgroup": "sub-597083_acq-headmotion2_T1w",
         "line": {
          "color": "rgba(255,255,255,0)"
         },
         "marker": {
          "color": "#19d3f3"
         },
         "name": "sub-597083_acq-headmotion2_T1w",
         "offsetgroup": "sub-597083_acq-headmotion2_T1w",
         "orientation": "v",
         "pointpos": 0,
         "showlegend": true,
         "type": "box",
         "x": [
          3
         ],
         "x0": " ",
         "xaxis": "x",
         "y": [
          3
         ],
         "y0": " ",
         "yaxis": "y"
        },
        {
         "alignmentgroup": "True",
         "boxpoints": "all",
         "fillcolor": "rgba(255,255,255,0)",
         "hoveron": "points",
         "hovertemplate": "bids_name=sub-598630_acq-standard_T1w<br>score=%{x}<br>condition=%{y}<extra></extra>",
         "legendgroup": "sub-598630_acq-standard_T1w",
         "line": {
          "color": "rgba(255,255,255,0)"
         },
         "marker": {
          "color": "#FF6692"
         },
         "name": "sub-598630_acq-standard_T1w",
         "offsetgroup": "sub-598630_acq-standard_T1w",
         "orientation": "v",
         "pointpos": 0,
         "showlegend": true,
         "type": "box",
         "x": [
          2
         ],
         "x0": " ",
         "xaxis": "x",
         "y": [
          1
         ],
         "y0": " ",
         "yaxis": "y"
        },
        {
         "alignmentgroup": "True",
         "boxpoints": "all",
         "fillcolor": "rgba(255,255,255,0)",
         "hoveron": "points",
         "hovertemplate": "bids_name=sub-598630_acq-headmotion2_T1w<br>score=%{x}<br>condition=%{y}<extra></extra>",
         "legendgroup": "sub-598630_acq-headmotion2_T1w",
         "line": {
          "color": "rgba(255,255,255,0)"
         },
         "marker": {
          "color": "#B6E880"
         },
         "name": "sub-598630_acq-headmotion2_T1w",
         "offsetgroup": "sub-598630_acq-headmotion2_T1w",
         "orientation": "v",
         "pointpos": 0,
         "showlegend": true,
         "type": "box",
         "x": [
          3
         ],
         "x0": " ",
         "xaxis": "x",
         "y": [
          3
         ],
         "y0": " ",
         "yaxis": "y"
        },
        {
         "alignmentgroup": "True",
         "boxpoints": "all",
         "fillcolor": "rgba(255,255,255,0)",
         "hoveron": "points",
         "hovertemplate": "bids_name=sub-599619_acq-standard_T1w<br>score=%{x}<br>condition=%{y}<extra></extra>",
         "legendgroup": "sub-599619_acq-standard_T1w",
         "line": {
          "color": "rgba(255,255,255,0)"
         },
         "marker": {
          "color": "#FF97FF"
         },
         "name": "sub-599619_acq-standard_T1w",
         "offsetgroup": "sub-599619_acq-standard_T1w",
         "orientation": "v",
         "pointpos": 0,
         "showlegend": true,
         "type": "box",
         "x": [
          1
         ],
         "x0": " ",
         "xaxis": "x",
         "y": [
          1
         ],
         "y0": " ",
         "yaxis": "y"
        },
        {
         "alignmentgroup": "True",
         "boxpoints": "all",
         "fillcolor": "rgba(255,255,255,0)",
         "hoveron": "points",
         "hovertemplate": "bids_name=sub-599619_acq-headmotion1_T1w<br>score=%{x}<br>condition=%{y}<extra></extra>",
         "legendgroup": "sub-599619_acq-headmotion1_T1w",
         "line": {
          "color": "rgba(255,255,255,0)"
         },
         "marker": {
          "color": "#FECB52"
         },
         "name": "sub-599619_acq-headmotion1_T1w",
         "offsetgroup": "sub-599619_acq-headmotion1_T1w",
         "orientation": "v",
         "pointpos": 0,
         "showlegend": true,
         "type": "box",
         "x": [
          2
         ],
         "x0": " ",
         "xaxis": "x",
         "y": [
          2
         ],
         "y0": " ",
         "yaxis": "y"
        },
        {
         "alignmentgroup": "True",
         "boxpoints": "all",
         "fillcolor": "rgba(255,255,255,0)",
         "hoveron": "points",
         "hovertemplate": "bids_name=sub-599619_acq-headmotion2_T1w<br>score=%{x}<br>condition=%{y}<extra></extra>",
         "legendgroup": "sub-599619_acq-headmotion2_T1w",
         "line": {
          "color": "rgba(255,255,255,0)"
         },
         "marker": {
          "color": "#636efa"
         },
         "name": "sub-599619_acq-headmotion2_T1w",
         "offsetgroup": "sub-599619_acq-headmotion2_T1w",
         "orientation": "v",
         "pointpos": 0,
         "showlegend": true,
         "type": "box",
         "x": [
          2
         ],
         "x0": " ",
         "xaxis": "x",
         "y": [
          3
         ],
         "y0": " ",
         "yaxis": "y"
        },
        {
         "alignmentgroup": "True",
         "boxpoints": "all",
         "fillcolor": "rgba(255,255,255,0)",
         "hoveron": "points",
         "hovertemplate": "bids_name=sub-602346_acq-standard_T1w<br>score=%{x}<br>condition=%{y}<extra></extra>",
         "legendgroup": "sub-602346_acq-standard_T1w",
         "line": {
          "color": "rgba(255,255,255,0)"
         },
         "marker": {
          "color": "#EF553B"
         },
         "name": "sub-602346_acq-standard_T1w",
         "offsetgroup": "sub-602346_acq-standard_T1w",
         "orientation": "v",
         "pointpos": 0,
         "showlegend": true,
         "type": "box",
         "x": [
          2
         ],
         "x0": " ",
         "xaxis": "x",
         "y": [
          1
         ],
         "y0": " ",
         "yaxis": "y"
        },
        {
         "alignmentgroup": "True",
         "boxpoints": "all",
         "fillcolor": "rgba(255,255,255,0)",
         "hoveron": "points",
         "hovertemplate": "bids_name=sub-602346_acq-headmotion1_T1w<br>score=%{x}<br>condition=%{y}<extra></extra>",
         "legendgroup": "sub-602346_acq-headmotion1_T1w",
         "line": {
          "color": "rgba(255,255,255,0)"
         },
         "marker": {
          "color": "#00cc96"
         },
         "name": "sub-602346_acq-headmotion1_T1w",
         "offsetgroup": "sub-602346_acq-headmotion1_T1w",
         "orientation": "v",
         "pointpos": 0,
         "showlegend": true,
         "type": "box",
         "x": [
          2
         ],
         "x0": " ",
         "xaxis": "x",
         "y": [
          2
         ],
         "y0": " ",
         "yaxis": "y"
        },
        {
         "alignmentgroup": "True",
         "boxpoints": "all",
         "fillcolor": "rgba(255,255,255,0)",
         "hoveron": "points",
         "hovertemplate": "bids_name=sub-602346_acq-headmotion2_T1w<br>score=%{x}<br>condition=%{y}<extra></extra>",
         "legendgroup": "sub-602346_acq-headmotion2_T1w",
         "line": {
          "color": "rgba(255,255,255,0)"
         },
         "marker": {
          "color": "#ab63fa"
         },
         "name": "sub-602346_acq-headmotion2_T1w",
         "offsetgroup": "sub-602346_acq-headmotion2_T1w",
         "orientation": "v",
         "pointpos": 0,
         "showlegend": true,
         "type": "box",
         "x": [
          2
         ],
         "x0": " ",
         "xaxis": "x",
         "y": [
          3
         ],
         "y0": " ",
         "yaxis": "y"
        },
        {
         "alignmentgroup": "True",
         "boxpoints": "all",
         "fillcolor": "rgba(255,255,255,0)",
         "hoveron": "points",
         "hovertemplate": "bids_name=sub-603309_acq-standard_T1w<br>score=%{x}<br>condition=%{y}<extra></extra>",
         "legendgroup": "sub-603309_acq-standard_T1w",
         "line": {
          "color": "rgba(255,255,255,0)"
         },
         "marker": {
          "color": "#FFA15A"
         },
         "name": "sub-603309_acq-standard_T1w",
         "offsetgroup": "sub-603309_acq-standard_T1w",
         "orientation": "v",
         "pointpos": 0,
         "showlegend": true,
         "type": "box",
         "x": [
          1
         ],
         "x0": " ",
         "xaxis": "x",
         "y": [
          1
         ],
         "y0": " ",
         "yaxis": "y"
        },
        {
         "alignmentgroup": "True",
         "boxpoints": "all",
         "fillcolor": "rgba(255,255,255,0)",
         "hoveron": "points",
         "hovertemplate": "bids_name=sub-603309_acq-headmotion1_T1w<br>score=%{x}<br>condition=%{y}<extra></extra>",
         "legendgroup": "sub-603309_acq-headmotion1_T1w",
         "line": {
          "color": "rgba(255,255,255,0)"
         },
         "marker": {
          "color": "#19d3f3"
         },
         "name": "sub-603309_acq-headmotion1_T1w",
         "offsetgroup": "sub-603309_acq-headmotion1_T1w",
         "orientation": "v",
         "pointpos": 0,
         "showlegend": true,
         "type": "box",
         "x": [
          2
         ],
         "x0": " ",
         "xaxis": "x",
         "y": [
          2
         ],
         "y0": " ",
         "yaxis": "y"
        },
        {
         "alignmentgroup": "True",
         "boxpoints": "all",
         "fillcolor": "rgba(255,255,255,0)",
         "hoveron": "points",
         "hovertemplate": "bids_name=sub-603309_acq-headmotion2_T1w<br>score=%{x}<br>condition=%{y}<extra></extra>",
         "legendgroup": "sub-603309_acq-headmotion2_T1w",
         "line": {
          "color": "rgba(255,255,255,0)"
         },
         "marker": {
          "color": "#FF6692"
         },
         "name": "sub-603309_acq-headmotion2_T1w",
         "offsetgroup": "sub-603309_acq-headmotion2_T1w",
         "orientation": "v",
         "pointpos": 0,
         "showlegend": true,
         "type": "box",
         "x": [
          3
         ],
         "x0": " ",
         "xaxis": "x",
         "y": [
          3
         ],
         "y0": " ",
         "yaxis": "y"
        },
        {
         "alignmentgroup": "True",
         "boxpoints": "all",
         "fillcolor": "rgba(255,255,255,0)",
         "hoveron": "points",
         "hovertemplate": "bids_name=sub-607339_acq-standard_T1w<br>score=%{x}<br>condition=%{y}<extra></extra>",
         "legendgroup": "sub-607339_acq-standard_T1w",
         "line": {
          "color": "rgba(255,255,255,0)"
         },
         "marker": {
          "color": "#B6E880"
         },
         "name": "sub-607339_acq-standard_T1w",
         "offsetgroup": "sub-607339_acq-standard_T1w",
         "orientation": "v",
         "pointpos": 0,
         "showlegend": true,
         "type": "box",
         "x": [
          2
         ],
         "x0": " ",
         "xaxis": "x",
         "y": [
          1
         ],
         "y0": " ",
         "yaxis": "y"
        },
        {
         "alignmentgroup": "True",
         "boxpoints": "all",
         "fillcolor": "rgba(255,255,255,0)",
         "hoveron": "points",
         "hovertemplate": "bids_name=sub-607339_acq-headmotion1_T1w<br>score=%{x}<br>condition=%{y}<extra></extra>",
         "legendgroup": "sub-607339_acq-headmotion1_T1w",
         "line": {
          "color": "rgba(255,255,255,0)"
         },
         "marker": {
          "color": "#FF97FF"
         },
         "name": "sub-607339_acq-headmotion1_T1w",
         "offsetgroup": "sub-607339_acq-headmotion1_T1w",
         "orientation": "v",
         "pointpos": 0,
         "showlegend": true,
         "type": "box",
         "x": [
          2
         ],
         "x0": " ",
         "xaxis": "x",
         "y": [
          2
         ],
         "y0": " ",
         "yaxis": "y"
        },
        {
         "alignmentgroup": "True",
         "boxpoints": "all",
         "fillcolor": "rgba(255,255,255,0)",
         "hoveron": "points",
         "hovertemplate": "bids_name=sub-607339_acq-headmotion2_T1w<br>score=%{x}<br>condition=%{y}<extra></extra>",
         "legendgroup": "sub-607339_acq-headmotion2_T1w",
         "line": {
          "color": "rgba(255,255,255,0)"
         },
         "marker": {
          "color": "#FECB52"
         },
         "name": "sub-607339_acq-headmotion2_T1w",
         "offsetgroup": "sub-607339_acq-headmotion2_T1w",
         "orientation": "v",
         "pointpos": 0,
         "showlegend": true,
         "type": "box",
         "x": [
          3
         ],
         "x0": " ",
         "xaxis": "x",
         "y": [
          3
         ],
         "y0": " ",
         "yaxis": "y"
        },
        {
         "alignmentgroup": "True",
         "boxpoints": "all",
         "fillcolor": "rgba(255,255,255,0)",
         "hoveron": "points",
         "hovertemplate": "bids_name=sub-607974_acq-standard_T1w<br>score=%{x}<br>condition=%{y}<extra></extra>",
         "legendgroup": "sub-607974_acq-standard_T1w",
         "line": {
          "color": "rgba(255,255,255,0)"
         },
         "marker": {
          "color": "#636efa"
         },
         "name": "sub-607974_acq-standard_T1w",
         "offsetgroup": "sub-607974_acq-standard_T1w",
         "orientation": "v",
         "pointpos": 0,
         "showlegend": true,
         "type": "box",
         "x": [
          2
         ],
         "x0": " ",
         "xaxis": "x",
         "y": [
          1
         ],
         "y0": " ",
         "yaxis": "y"
        },
        {
         "alignmentgroup": "True",
         "boxpoints": "all",
         "fillcolor": "rgba(255,255,255,0)",
         "hoveron": "points",
         "hovertemplate": "bids_name=sub-607974_acq-headmotion1_T1w<br>score=%{x}<br>condition=%{y}<extra></extra>",
         "legendgroup": "sub-607974_acq-headmotion1_T1w",
         "line": {
          "color": "rgba(255,255,255,0)"
         },
         "marker": {
          "color": "#EF553B"
         },
         "name": "sub-607974_acq-headmotion1_T1w",
         "offsetgroup": "sub-607974_acq-headmotion1_T1w",
         "orientation": "v",
         "pointpos": 0,
         "showlegend": true,
         "type": "box",
         "x": [
          2
         ],
         "x0": " ",
         "xaxis": "x",
         "y": [
          2
         ],
         "y0": " ",
         "yaxis": "y"
        },
        {
         "alignmentgroup": "True",
         "boxpoints": "all",
         "fillcolor": "rgba(255,255,255,0)",
         "hoveron": "points",
         "hovertemplate": "bids_name=sub-607974_acq-headmotion2_T1w<br>score=%{x}<br>condition=%{y}<extra></extra>",
         "legendgroup": "sub-607974_acq-headmotion2_T1w",
         "line": {
          "color": "rgba(255,255,255,0)"
         },
         "marker": {
          "color": "#00cc96"
         },
         "name": "sub-607974_acq-headmotion2_T1w",
         "offsetgroup": "sub-607974_acq-headmotion2_T1w",
         "orientation": "v",
         "pointpos": 0,
         "showlegend": true,
         "type": "box",
         "x": [
          3
         ],
         "x0": " ",
         "xaxis": "x",
         "y": [
          3
         ],
         "y0": " ",
         "yaxis": "y"
        },
        {
         "alignmentgroup": "True",
         "boxpoints": "all",
         "fillcolor": "rgba(255,255,255,0)",
         "hoveron": "points",
         "hovertemplate": "bids_name=sub-611047_acq-standard_T1w<br>score=%{x}<br>condition=%{y}<extra></extra>",
         "legendgroup": "sub-611047_acq-standard_T1w",
         "line": {
          "color": "rgba(255,255,255,0)"
         },
         "marker": {
          "color": "#ab63fa"
         },
         "name": "sub-611047_acq-standard_T1w",
         "offsetgroup": "sub-611047_acq-standard_T1w",
         "orientation": "v",
         "pointpos": 0,
         "showlegend": true,
         "type": "box",
         "x": [
          1
         ],
         "x0": " ",
         "xaxis": "x",
         "y": [
          1
         ],
         "y0": " ",
         "yaxis": "y"
        },
        {
         "alignmentgroup": "True",
         "boxpoints": "all",
         "fillcolor": "rgba(255,255,255,0)",
         "hoveron": "points",
         "hovertemplate": "bids_name=sub-611047_acq-headmotion1_T1w<br>score=%{x}<br>condition=%{y}<extra></extra>",
         "legendgroup": "sub-611047_acq-headmotion1_T1w",
         "line": {
          "color": "rgba(255,255,255,0)"
         },
         "marker": {
          "color": "#FFA15A"
         },
         "name": "sub-611047_acq-headmotion1_T1w",
         "offsetgroup": "sub-611047_acq-headmotion1_T1w",
         "orientation": "v",
         "pointpos": 0,
         "showlegend": true,
         "type": "box",
         "x": [
          3
         ],
         "x0": " ",
         "xaxis": "x",
         "y": [
          2
         ],
         "y0": " ",
         "yaxis": "y"
        },
        {
         "alignmentgroup": "True",
         "boxpoints": "all",
         "fillcolor": "rgba(255,255,255,0)",
         "hoveron": "points",
         "hovertemplate": "bids_name=sub-611047_acq-headmotion2_T1w<br>score=%{x}<br>condition=%{y}<extra></extra>",
         "legendgroup": "sub-611047_acq-headmotion2_T1w",
         "line": {
          "color": "rgba(255,255,255,0)"
         },
         "marker": {
          "color": "#19d3f3"
         },
         "name": "sub-611047_acq-headmotion2_T1w",
         "offsetgroup": "sub-611047_acq-headmotion2_T1w",
         "orientation": "v",
         "pointpos": 0,
         "showlegend": true,
         "type": "box",
         "x": [
          3
         ],
         "x0": " ",
         "xaxis": "x",
         "y": [
          3
         ],
         "y0": " ",
         "yaxis": "y"
        },
        {
         "alignmentgroup": "True",
         "boxpoints": "all",
         "fillcolor": "rgba(255,255,255,0)",
         "hoveron": "points",
         "hovertemplate": "bids_name=sub-613957_acq-standard_T1w<br>score=%{x}<br>condition=%{y}<extra></extra>",
         "legendgroup": "sub-613957_acq-standard_T1w",
         "line": {
          "color": "rgba(255,255,255,0)"
         },
         "marker": {
          "color": "#FF6692"
         },
         "name": "sub-613957_acq-standard_T1w",
         "offsetgroup": "sub-613957_acq-standard_T1w",
         "orientation": "v",
         "pointpos": 0,
         "showlegend": true,
         "type": "box",
         "x": [
          3
         ],
         "x0": " ",
         "xaxis": "x",
         "y": [
          1
         ],
         "y0": " ",
         "yaxis": "y"
        },
        {
         "alignmentgroup": "True",
         "boxpoints": "all",
         "fillcolor": "rgba(255,255,255,0)",
         "hoveron": "points",
         "hovertemplate": "bids_name=sub-613957_acq-headmotion2_T1w<br>score=%{x}<br>condition=%{y}<extra></extra>",
         "legendgroup": "sub-613957_acq-headmotion2_T1w",
         "line": {
          "color": "rgba(255,255,255,0)"
         },
         "marker": {
          "color": "#B6E880"
         },
         "name": "sub-613957_acq-headmotion2_T1w",
         "offsetgroup": "sub-613957_acq-headmotion2_T1w",
         "orientation": "v",
         "pointpos": 0,
         "showlegend": true,
         "type": "box",
         "x": [
          3
         ],
         "x0": " ",
         "xaxis": "x",
         "y": [
          3
         ],
         "y0": " ",
         "yaxis": "y"
        },
        {
         "alignmentgroup": "True",
         "boxpoints": "all",
         "fillcolor": "rgba(255,255,255,0)",
         "hoveron": "points",
         "hovertemplate": "bids_name=sub-630780_acq-standard_T1w<br>score=%{x}<br>condition=%{y}<extra></extra>",
         "legendgroup": "sub-630780_acq-standard_T1w",
         "line": {
          "color": "rgba(255,255,255,0)"
         },
         "marker": {
          "color": "#FF97FF"
         },
         "name": "sub-630780_acq-standard_T1w",
         "offsetgroup": "sub-630780_acq-standard_T1w",
         "orientation": "v",
         "pointpos": 0,
         "showlegend": true,
         "type": "box",
         "x": [
          1
         ],
         "x0": " ",
         "xaxis": "x",
         "y": [
          1
         ],
         "y0": " ",
         "yaxis": "y"
        },
        {
         "alignmentgroup": "True",
         "boxpoints": "all",
         "fillcolor": "rgba(255,255,255,0)",
         "hoveron": "points",
         "hovertemplate": "bids_name=sub-630780_acq-headmotion1_T1w<br>score=%{x}<br>condition=%{y}<extra></extra>",
         "legendgroup": "sub-630780_acq-headmotion1_T1w",
         "line": {
          "color": "rgba(255,255,255,0)"
         },
         "marker": {
          "color": "#FECB52"
         },
         "name": "sub-630780_acq-headmotion1_T1w",
         "offsetgroup": "sub-630780_acq-headmotion1_T1w",
         "orientation": "v",
         "pointpos": 0,
         "showlegend": true,
         "type": "box",
         "x": [
          3
         ],
         "x0": " ",
         "xaxis": "x",
         "y": [
          2
         ],
         "y0": " ",
         "yaxis": "y"
        },
        {
         "alignmentgroup": "True",
         "boxpoints": "all",
         "fillcolor": "rgba(255,255,255,0)",
         "hoveron": "points",
         "hovertemplate": "bids_name=sub-630780_acq-headmotion2_T1w<br>score=%{x}<br>condition=%{y}<extra></extra>",
         "legendgroup": "sub-630780_acq-headmotion2_T1w",
         "line": {
          "color": "rgba(255,255,255,0)"
         },
         "marker": {
          "color": "#636efa"
         },
         "name": "sub-630780_acq-headmotion2_T1w",
         "offsetgroup": "sub-630780_acq-headmotion2_T1w",
         "orientation": "v",
         "pointpos": 0,
         "showlegend": true,
         "type": "box",
         "x": [
          3
         ],
         "x0": " ",
         "xaxis": "x",
         "y": [
          3
         ],
         "y0": " ",
         "yaxis": "y"
        },
        {
         "alignmentgroup": "True",
         "boxpoints": "all",
         "fillcolor": "rgba(255,255,255,0)",
         "hoveron": "points",
         "hovertemplate": "bids_name=sub-645865_acq-standard_T1w<br>score=%{x}<br>condition=%{y}<extra></extra>",
         "legendgroup": "sub-645865_acq-standard_T1w",
         "line": {
          "color": "rgba(255,255,255,0)"
         },
         "marker": {
          "color": "#EF553B"
         },
         "name": "sub-645865_acq-standard_T1w",
         "offsetgroup": "sub-645865_acq-standard_T1w",
         "orientation": "v",
         "pointpos": 0,
         "showlegend": true,
         "type": "box",
         "x": [
          1
         ],
         "x0": " ",
         "xaxis": "x",
         "y": [
          1
         ],
         "y0": " ",
         "yaxis": "y"
        },
        {
         "alignmentgroup": "True",
         "boxpoints": "all",
         "fillcolor": "rgba(255,255,255,0)",
         "hoveron": "points",
         "hovertemplate": "bids_name=sub-645865_acq-headmotion1_T1w<br>score=%{x}<br>condition=%{y}<extra></extra>",
         "legendgroup": "sub-645865_acq-headmotion1_T1w",
         "line": {
          "color": "rgba(255,255,255,0)"
         },
         "marker": {
          "color": "#00cc96"
         },
         "name": "sub-645865_acq-headmotion1_T1w",
         "offsetgroup": "sub-645865_acq-headmotion1_T1w",
         "orientation": "v",
         "pointpos": 0,
         "showlegend": true,
         "type": "box",
         "x": [
          3
         ],
         "x0": " ",
         "xaxis": "x",
         "y": [
          2
         ],
         "y0": " ",
         "yaxis": "y"
        },
        {
         "alignmentgroup": "True",
         "boxpoints": "all",
         "fillcolor": "rgba(255,255,255,0)",
         "hoveron": "points",
         "hovertemplate": "bids_name=sub-645865_acq-headmotion2_T1w<br>score=%{x}<br>condition=%{y}<extra></extra>",
         "legendgroup": "sub-645865_acq-headmotion2_T1w",
         "line": {
          "color": "rgba(255,255,255,0)"
         },
         "marker": {
          "color": "#ab63fa"
         },
         "name": "sub-645865_acq-headmotion2_T1w",
         "offsetgroup": "sub-645865_acq-headmotion2_T1w",
         "orientation": "v",
         "pointpos": 0,
         "showlegend": true,
         "type": "box",
         "x": [
          3
         ],
         "x0": " ",
         "xaxis": "x",
         "y": [
          3
         ],
         "y0": " ",
         "yaxis": "y"
        },
        {
         "alignmentgroup": "True",
         "boxpoints": "all",
         "fillcolor": "rgba(255,255,255,0)",
         "hoveron": "points",
         "hovertemplate": "bids_name=sub-652881_acq-standard_T1w<br>score=%{x}<br>condition=%{y}<extra></extra>",
         "legendgroup": "sub-652881_acq-standard_T1w",
         "line": {
          "color": "rgba(255,255,255,0)"
         },
         "marker": {
          "color": "#FFA15A"
         },
         "name": "sub-652881_acq-standard_T1w",
         "offsetgroup": "sub-652881_acq-standard_T1w",
         "orientation": "v",
         "pointpos": 0,
         "showlegend": true,
         "type": "box",
         "x": [
          1
         ],
         "x0": " ",
         "xaxis": "x",
         "y": [
          1
         ],
         "y0": " ",
         "yaxis": "y"
        },
        {
         "alignmentgroup": "True",
         "boxpoints": "all",
         "fillcolor": "rgba(255,255,255,0)",
         "hoveron": "points",
         "hovertemplate": "bids_name=sub-652881_acq-headmotion1_T1w<br>score=%{x}<br>condition=%{y}<extra></extra>",
         "legendgroup": "sub-652881_acq-headmotion1_T1w",
         "line": {
          "color": "rgba(255,255,255,0)"
         },
         "marker": {
          "color": "#19d3f3"
         },
         "name": "sub-652881_acq-headmotion1_T1w",
         "offsetgroup": "sub-652881_acq-headmotion1_T1w",
         "orientation": "v",
         "pointpos": 0,
         "showlegend": true,
         "type": "box",
         "x": [
          2
         ],
         "x0": " ",
         "xaxis": "x",
         "y": [
          2
         ],
         "y0": " ",
         "yaxis": "y"
        },
        {
         "alignmentgroup": "True",
         "boxpoints": "all",
         "fillcolor": "rgba(255,255,255,0)",
         "hoveron": "points",
         "hovertemplate": "bids_name=sub-652881_acq-headmotion2_T1w<br>score=%{x}<br>condition=%{y}<extra></extra>",
         "legendgroup": "sub-652881_acq-headmotion2_T1w",
         "line": {
          "color": "rgba(255,255,255,0)"
         },
         "marker": {
          "color": "#FF6692"
         },
         "name": "sub-652881_acq-headmotion2_T1w",
         "offsetgroup": "sub-652881_acq-headmotion2_T1w",
         "orientation": "v",
         "pointpos": 0,
         "showlegend": true,
         "type": "box",
         "x": [
          3
         ],
         "x0": " ",
         "xaxis": "x",
         "y": [
          3
         ],
         "y0": " ",
         "yaxis": "y"
        },
        {
         "alignmentgroup": "True",
         "boxpoints": "all",
         "fillcolor": "rgba(255,255,255,0)",
         "hoveron": "points",
         "hovertemplate": "bids_name=sub-654178_acq-standard_T1w<br>score=%{x}<br>condition=%{y}<extra></extra>",
         "legendgroup": "sub-654178_acq-standard_T1w",
         "line": {
          "color": "rgba(255,255,255,0)"
         },
         "marker": {
          "color": "#B6E880"
         },
         "name": "sub-654178_acq-standard_T1w",
         "offsetgroup": "sub-654178_acq-standard_T1w",
         "orientation": "v",
         "pointpos": 0,
         "showlegend": true,
         "type": "box",
         "x": [
          2
         ],
         "x0": " ",
         "xaxis": "x",
         "y": [
          1
         ],
         "y0": " ",
         "yaxis": "y"
        },
        {
         "alignmentgroup": "True",
         "boxpoints": "all",
         "fillcolor": "rgba(255,255,255,0)",
         "hoveron": "points",
         "hovertemplate": "bids_name=sub-654178_acq-headmotion1_T1w<br>score=%{x}<br>condition=%{y}<extra></extra>",
         "legendgroup": "sub-654178_acq-headmotion1_T1w",
         "line": {
          "color": "rgba(255,255,255,0)"
         },
         "marker": {
          "color": "#FF97FF"
         },
         "name": "sub-654178_acq-headmotion1_T1w",
         "offsetgroup": "sub-654178_acq-headmotion1_T1w",
         "orientation": "v",
         "pointpos": 0,
         "showlegend": true,
         "type": "box",
         "x": [
          2
         ],
         "x0": " ",
         "xaxis": "x",
         "y": [
          2
         ],
         "y0": " ",
         "yaxis": "y"
        },
        {
         "alignmentgroup": "True",
         "boxpoints": "all",
         "fillcolor": "rgba(255,255,255,0)",
         "hoveron": "points",
         "hovertemplate": "bids_name=sub-654178_acq-headmotion2_T1w<br>score=%{x}<br>condition=%{y}<extra></extra>",
         "legendgroup": "sub-654178_acq-headmotion2_T1w",
         "line": {
          "color": "rgba(255,255,255,0)"
         },
         "marker": {
          "color": "#FECB52"
         },
         "name": "sub-654178_acq-headmotion2_T1w",
         "offsetgroup": "sub-654178_acq-headmotion2_T1w",
         "orientation": "v",
         "pointpos": 0,
         "showlegend": true,
         "type": "box",
         "x": [
          3
         ],
         "x0": " ",
         "xaxis": "x",
         "y": [
          3
         ],
         "y0": " ",
         "yaxis": "y"
        },
        {
         "alignmentgroup": "True",
         "boxpoints": "all",
         "fillcolor": "rgba(255,255,255,0)",
         "hoveron": "points",
         "hovertemplate": "bids_name=sub-654601_acq-standard_T1w<br>score=%{x}<br>condition=%{y}<extra></extra>",
         "legendgroup": "sub-654601_acq-standard_T1w",
         "line": {
          "color": "rgba(255,255,255,0)"
         },
         "marker": {
          "color": "#636efa"
         },
         "name": "sub-654601_acq-standard_T1w",
         "offsetgroup": "sub-654601_acq-standard_T1w",
         "orientation": "v",
         "pointpos": 0,
         "showlegend": true,
         "type": "box",
         "x": [
          1
         ],
         "x0": " ",
         "xaxis": "x",
         "y": [
          1
         ],
         "y0": " ",
         "yaxis": "y"
        },
        {
         "alignmentgroup": "True",
         "boxpoints": "all",
         "fillcolor": "rgba(255,255,255,0)",
         "hoveron": "points",
         "hovertemplate": "bids_name=sub-654601_acq-headmotion1_T1w<br>score=%{x}<br>condition=%{y}<extra></extra>",
         "legendgroup": "sub-654601_acq-headmotion1_T1w",
         "line": {
          "color": "rgba(255,255,255,0)"
         },
         "marker": {
          "color": "#EF553B"
         },
         "name": "sub-654601_acq-headmotion1_T1w",
         "offsetgroup": "sub-654601_acq-headmotion1_T1w",
         "orientation": "v",
         "pointpos": 0,
         "showlegend": true,
         "type": "box",
         "x": [
          3
         ],
         "x0": " ",
         "xaxis": "x",
         "y": [
          2
         ],
         "y0": " ",
         "yaxis": "y"
        },
        {
         "alignmentgroup": "True",
         "boxpoints": "all",
         "fillcolor": "rgba(255,255,255,0)",
         "hoveron": "points",
         "hovertemplate": "bids_name=sub-654601_acq-headmotion2_T1w<br>score=%{x}<br>condition=%{y}<extra></extra>",
         "legendgroup": "sub-654601_acq-headmotion2_T1w",
         "line": {
          "color": "rgba(255,255,255,0)"
         },
         "marker": {
          "color": "#00cc96"
         },
         "name": "sub-654601_acq-headmotion2_T1w",
         "offsetgroup": "sub-654601_acq-headmotion2_T1w",
         "orientation": "v",
         "pointpos": 0,
         "showlegend": true,
         "type": "box",
         "x": [
          3
         ],
         "x0": " ",
         "xaxis": "x",
         "y": [
          3
         ],
         "y0": " ",
         "yaxis": "y"
        },
        {
         "alignmentgroup": "True",
         "boxpoints": "all",
         "fillcolor": "rgba(255,255,255,0)",
         "hoveron": "points",
         "hovertemplate": "bids_name=sub-664050_acq-standard_T1w<br>score=%{x}<br>condition=%{y}<extra></extra>",
         "legendgroup": "sub-664050_acq-standard_T1w",
         "line": {
          "color": "rgba(255,255,255,0)"
         },
         "marker": {
          "color": "#ab63fa"
         },
         "name": "sub-664050_acq-standard_T1w",
         "offsetgroup": "sub-664050_acq-standard_T1w",
         "orientation": "v",
         "pointpos": 0,
         "showlegend": true,
         "type": "box",
         "x": [
          1
         ],
         "x0": " ",
         "xaxis": "x",
         "y": [
          1
         ],
         "y0": " ",
         "yaxis": "y"
        },
        {
         "alignmentgroup": "True",
         "boxpoints": "all",
         "fillcolor": "rgba(255,255,255,0)",
         "hoveron": "points",
         "hovertemplate": "bids_name=sub-664050_acq-headmotion1_T1w<br>score=%{x}<br>condition=%{y}<extra></extra>",
         "legendgroup": "sub-664050_acq-headmotion1_T1w",
         "line": {
          "color": "rgba(255,255,255,0)"
         },
         "marker": {
          "color": "#FFA15A"
         },
         "name": "sub-664050_acq-headmotion1_T1w",
         "offsetgroup": "sub-664050_acq-headmotion1_T1w",
         "orientation": "v",
         "pointpos": 0,
         "showlegend": true,
         "type": "box",
         "x": [
          3
         ],
         "x0": " ",
         "xaxis": "x",
         "y": [
          2
         ],
         "y0": " ",
         "yaxis": "y"
        },
        {
         "alignmentgroup": "True",
         "boxpoints": "all",
         "fillcolor": "rgba(255,255,255,0)",
         "hoveron": "points",
         "hovertemplate": "bids_name=sub-664050_acq-headmotion2_T1w<br>score=%{x}<br>condition=%{y}<extra></extra>",
         "legendgroup": "sub-664050_acq-headmotion2_T1w",
         "line": {
          "color": "rgba(255,255,255,0)"
         },
         "marker": {
          "color": "#19d3f3"
         },
         "name": "sub-664050_acq-headmotion2_T1w",
         "offsetgroup": "sub-664050_acq-headmotion2_T1w",
         "orientation": "v",
         "pointpos": 0,
         "showlegend": true,
         "type": "box",
         "x": [
          3
         ],
         "x0": " ",
         "xaxis": "x",
         "y": [
          3
         ],
         "y0": " ",
         "yaxis": "y"
        },
        {
         "alignmentgroup": "True",
         "boxpoints": "all",
         "fillcolor": "rgba(255,255,255,0)",
         "hoveron": "points",
         "hovertemplate": "bids_name=sub-669067_acq-standard_T1w<br>score=%{x}<br>condition=%{y}<extra></extra>",
         "legendgroup": "sub-669067_acq-standard_T1w",
         "line": {
          "color": "rgba(255,255,255,0)"
         },
         "marker": {
          "color": "#FF6692"
         },
         "name": "sub-669067_acq-standard_T1w",
         "offsetgroup": "sub-669067_acq-standard_T1w",
         "orientation": "v",
         "pointpos": 0,
         "showlegend": true,
         "type": "box",
         "x": [
          1
         ],
         "x0": " ",
         "xaxis": "x",
         "y": [
          1
         ],
         "y0": " ",
         "yaxis": "y"
        },
        {
         "alignmentgroup": "True",
         "boxpoints": "all",
         "fillcolor": "rgba(255,255,255,0)",
         "hoveron": "points",
         "hovertemplate": "bids_name=sub-669067_acq-headmotion1_T1w<br>score=%{x}<br>condition=%{y}<extra></extra>",
         "legendgroup": "sub-669067_acq-headmotion1_T1w",
         "line": {
          "color": "rgba(255,255,255,0)"
         },
         "marker": {
          "color": "#B6E880"
         },
         "name": "sub-669067_acq-headmotion1_T1w",
         "offsetgroup": "sub-669067_acq-headmotion1_T1w",
         "orientation": "v",
         "pointpos": 0,
         "showlegend": true,
         "type": "box",
         "x": [
          2
         ],
         "x0": " ",
         "xaxis": "x",
         "y": [
          2
         ],
         "y0": " ",
         "yaxis": "y"
        },
        {
         "alignmentgroup": "True",
         "boxpoints": "all",
         "fillcolor": "rgba(255,255,255,0)",
         "hoveron": "points",
         "hovertemplate": "bids_name=sub-669067_acq-headmotion2_T1w<br>score=%{x}<br>condition=%{y}<extra></extra>",
         "legendgroup": "sub-669067_acq-headmotion2_T1w",
         "line": {
          "color": "rgba(255,255,255,0)"
         },
         "marker": {
          "color": "#FF97FF"
         },
         "name": "sub-669067_acq-headmotion2_T1w",
         "offsetgroup": "sub-669067_acq-headmotion2_T1w",
         "orientation": "v",
         "pointpos": 0,
         "showlegend": true,
         "type": "box",
         "x": [
          3
         ],
         "x0": " ",
         "xaxis": "x",
         "y": [
          3
         ],
         "y0": " ",
         "yaxis": "y"
        },
        {
         "alignmentgroup": "True",
         "boxpoints": "all",
         "fillcolor": "rgba(255,255,255,0)",
         "hoveron": "points",
         "hovertemplate": "bids_name=sub-672229_acq-standard_T1w<br>score=%{x}<br>condition=%{y}<extra></extra>",
         "legendgroup": "sub-672229_acq-standard_T1w",
         "line": {
          "color": "rgba(255,255,255,0)"
         },
         "marker": {
          "color": "#FECB52"
         },
         "name": "sub-672229_acq-standard_T1w",
         "offsetgroup": "sub-672229_acq-standard_T1w",
         "orientation": "v",
         "pointpos": 0,
         "showlegend": true,
         "type": "box",
         "x": [
          1
         ],
         "x0": " ",
         "xaxis": "x",
         "y": [
          1
         ],
         "y0": " ",
         "yaxis": "y"
        },
        {
         "alignmentgroup": "True",
         "boxpoints": "all",
         "fillcolor": "rgba(255,255,255,0)",
         "hoveron": "points",
         "hovertemplate": "bids_name=sub-672229_acq-headmotion1_T1w<br>score=%{x}<br>condition=%{y}<extra></extra>",
         "legendgroup": "sub-672229_acq-headmotion1_T1w",
         "line": {
          "color": "rgba(255,255,255,0)"
         },
         "marker": {
          "color": "#636efa"
         },
         "name": "sub-672229_acq-headmotion1_T1w",
         "offsetgroup": "sub-672229_acq-headmotion1_T1w",
         "orientation": "v",
         "pointpos": 0,
         "showlegend": true,
         "type": "box",
         "x": [
          3
         ],
         "x0": " ",
         "xaxis": "x",
         "y": [
          2
         ],
         "y0": " ",
         "yaxis": "y"
        },
        {
         "alignmentgroup": "True",
         "boxpoints": "all",
         "fillcolor": "rgba(255,255,255,0)",
         "hoveron": "points",
         "hovertemplate": "bids_name=sub-672229_acq-headmotion2_T1w<br>score=%{x}<br>condition=%{y}<extra></extra>",
         "legendgroup": "sub-672229_acq-headmotion2_T1w",
         "line": {
          "color": "rgba(255,255,255,0)"
         },
         "marker": {
          "color": "#EF553B"
         },
         "name": "sub-672229_acq-headmotion2_T1w",
         "offsetgroup": "sub-672229_acq-headmotion2_T1w",
         "orientation": "v",
         "pointpos": 0,
         "showlegend": true,
         "type": "box",
         "x": [
          3
         ],
         "x0": " ",
         "xaxis": "x",
         "y": [
          3
         ],
         "y0": " ",
         "yaxis": "y"
        },
        {
         "alignmentgroup": "True",
         "boxpoints": "all",
         "fillcolor": "rgba(255,255,255,0)",
         "hoveron": "points",
         "hovertemplate": "bids_name=sub-678878_acq-standard_T1w<br>score=%{x}<br>condition=%{y}<extra></extra>",
         "legendgroup": "sub-678878_acq-standard_T1w",
         "line": {
          "color": "rgba(255,255,255,0)"
         },
         "marker": {
          "color": "#00cc96"
         },
         "name": "sub-678878_acq-standard_T1w",
         "offsetgroup": "sub-678878_acq-standard_T1w",
         "orientation": "v",
         "pointpos": 0,
         "showlegend": true,
         "type": "box",
         "x": [
          1
         ],
         "x0": " ",
         "xaxis": "x",
         "y": [
          1
         ],
         "y0": " ",
         "yaxis": "y"
        },
        {
         "alignmentgroup": "True",
         "boxpoints": "all",
         "fillcolor": "rgba(255,255,255,0)",
         "hoveron": "points",
         "hovertemplate": "bids_name=sub-678878_acq-headmotion1_T1w<br>score=%{x}<br>condition=%{y}<extra></extra>",
         "legendgroup": "sub-678878_acq-headmotion1_T1w",
         "line": {
          "color": "rgba(255,255,255,0)"
         },
         "marker": {
          "color": "#ab63fa"
         },
         "name": "sub-678878_acq-headmotion1_T1w",
         "offsetgroup": "sub-678878_acq-headmotion1_T1w",
         "orientation": "v",
         "pointpos": 0,
         "showlegend": true,
         "type": "box",
         "x": [
          2
         ],
         "x0": " ",
         "xaxis": "x",
         "y": [
          2
         ],
         "y0": " ",
         "yaxis": "y"
        },
        {
         "alignmentgroup": "True",
         "boxpoints": "all",
         "fillcolor": "rgba(255,255,255,0)",
         "hoveron": "points",
         "hovertemplate": "bids_name=sub-678878_acq-headmotion2_T1w<br>score=%{x}<br>condition=%{y}<extra></extra>",
         "legendgroup": "sub-678878_acq-headmotion2_T1w",
         "line": {
          "color": "rgba(255,255,255,0)"
         },
         "marker": {
          "color": "#FFA15A"
         },
         "name": "sub-678878_acq-headmotion2_T1w",
         "offsetgroup": "sub-678878_acq-headmotion2_T1w",
         "orientation": "v",
         "pointpos": 0,
         "showlegend": true,
         "type": "box",
         "x": [
          3
         ],
         "x0": " ",
         "xaxis": "x",
         "y": [
          3
         ],
         "y0": " ",
         "yaxis": "y"
        },
        {
         "alignmentgroup": "True",
         "boxpoints": "all",
         "fillcolor": "rgba(255,255,255,0)",
         "hoveron": "points",
         "hovertemplate": "bids_name=sub-680990_acq-standard_T1w<br>score=%{x}<br>condition=%{y}<extra></extra>",
         "legendgroup": "sub-680990_acq-standard_T1w",
         "line": {
          "color": "rgba(255,255,255,0)"
         },
         "marker": {
          "color": "#19d3f3"
         },
         "name": "sub-680990_acq-standard_T1w",
         "offsetgroup": "sub-680990_acq-standard_T1w",
         "orientation": "v",
         "pointpos": 0,
         "showlegend": true,
         "type": "box",
         "x": [
          1
         ],
         "x0": " ",
         "xaxis": "x",
         "y": [
          1
         ],
         "y0": " ",
         "yaxis": "y"
        },
        {
         "alignmentgroup": "True",
         "boxpoints": "all",
         "fillcolor": "rgba(255,255,255,0)",
         "hoveron": "points",
         "hovertemplate": "bids_name=sub-680990_acq-headmotion1_T1w<br>score=%{x}<br>condition=%{y}<extra></extra>",
         "legendgroup": "sub-680990_acq-headmotion1_T1w",
         "line": {
          "color": "rgba(255,255,255,0)"
         },
         "marker": {
          "color": "#FF6692"
         },
         "name": "sub-680990_acq-headmotion1_T1w",
         "offsetgroup": "sub-680990_acq-headmotion1_T1w",
         "orientation": "v",
         "pointpos": 0,
         "showlegend": true,
         "type": "box",
         "x": [
          2
         ],
         "x0": " ",
         "xaxis": "x",
         "y": [
          2
         ],
         "y0": " ",
         "yaxis": "y"
        },
        {
         "alignmentgroup": "True",
         "boxpoints": "all",
         "fillcolor": "rgba(255,255,255,0)",
         "hoveron": "points",
         "hovertemplate": "bids_name=sub-680990_acq-headmotion2_T1w<br>score=%{x}<br>condition=%{y}<extra></extra>",
         "legendgroup": "sub-680990_acq-headmotion2_T1w",
         "line": {
          "color": "rgba(255,255,255,0)"
         },
         "marker": {
          "color": "#B6E880"
         },
         "name": "sub-680990_acq-headmotion2_T1w",
         "offsetgroup": "sub-680990_acq-headmotion2_T1w",
         "orientation": "v",
         "pointpos": 0,
         "showlegend": true,
         "type": "box",
         "x": [
          3
         ],
         "x0": " ",
         "xaxis": "x",
         "y": [
          3
         ],
         "y0": " ",
         "yaxis": "y"
        },
        {
         "alignmentgroup": "True",
         "boxpoints": "all",
         "fillcolor": "rgba(255,255,255,0)",
         "hoveron": "points",
         "hovertemplate": "bids_name=sub-687508_acq-standard_T1w<br>score=%{x}<br>condition=%{y}<extra></extra>",
         "legendgroup": "sub-687508_acq-standard_T1w",
         "line": {
          "color": "rgba(255,255,255,0)"
         },
         "marker": {
          "color": "#FF97FF"
         },
         "name": "sub-687508_acq-standard_T1w",
         "offsetgroup": "sub-687508_acq-standard_T1w",
         "orientation": "v",
         "pointpos": 0,
         "showlegend": true,
         "type": "box",
         "x": [
          1
         ],
         "x0": " ",
         "xaxis": "x",
         "y": [
          1
         ],
         "y0": " ",
         "yaxis": "y"
        },
        {
         "alignmentgroup": "True",
         "boxpoints": "all",
         "fillcolor": "rgba(255,255,255,0)",
         "hoveron": "points",
         "hovertemplate": "bids_name=sub-687508_acq-headmotion1_T1w<br>score=%{x}<br>condition=%{y}<extra></extra>",
         "legendgroup": "sub-687508_acq-headmotion1_T1w",
         "line": {
          "color": "rgba(255,255,255,0)"
         },
         "marker": {
          "color": "#FECB52"
         },
         "name": "sub-687508_acq-headmotion1_T1w",
         "offsetgroup": "sub-687508_acq-headmotion1_T1w",
         "orientation": "v",
         "pointpos": 0,
         "showlegend": true,
         "type": "box",
         "x": [
          3
         ],
         "x0": " ",
         "xaxis": "x",
         "y": [
          2
         ],
         "y0": " ",
         "yaxis": "y"
        },
        {
         "alignmentgroup": "True",
         "boxpoints": "all",
         "fillcolor": "rgba(255,255,255,0)",
         "hoveron": "points",
         "hovertemplate": "bids_name=sub-687508_acq-headmotion2_T1w<br>score=%{x}<br>condition=%{y}<extra></extra>",
         "legendgroup": "sub-687508_acq-headmotion2_T1w",
         "line": {
          "color": "rgba(255,255,255,0)"
         },
         "marker": {
          "color": "#636efa"
         },
         "name": "sub-687508_acq-headmotion2_T1w",
         "offsetgroup": "sub-687508_acq-headmotion2_T1w",
         "orientation": "v",
         "pointpos": 0,
         "showlegend": true,
         "type": "box",
         "x": [
          3
         ],
         "x0": " ",
         "xaxis": "x",
         "y": [
          3
         ],
         "y0": " ",
         "yaxis": "y"
        },
        {
         "alignmentgroup": "True",
         "boxpoints": "all",
         "fillcolor": "rgba(255,255,255,0)",
         "hoveron": "points",
         "hovertemplate": "bids_name=sub-691641_acq-standard_T1w<br>score=%{x}<br>condition=%{y}<extra></extra>",
         "legendgroup": "sub-691641_acq-standard_T1w",
         "line": {
          "color": "rgba(255,255,255,0)"
         },
         "marker": {
          "color": "#EF553B"
         },
         "name": "sub-691641_acq-standard_T1w",
         "offsetgroup": "sub-691641_acq-standard_T1w",
         "orientation": "v",
         "pointpos": 0,
         "showlegend": true,
         "type": "box",
         "x": [
          1
         ],
         "x0": " ",
         "xaxis": "x",
         "y": [
          1
         ],
         "y0": " ",
         "yaxis": "y"
        },
        {
         "alignmentgroup": "True",
         "boxpoints": "all",
         "fillcolor": "rgba(255,255,255,0)",
         "hoveron": "points",
         "hovertemplate": "bids_name=sub-691641_acq-headmotion1_T1w<br>score=%{x}<br>condition=%{y}<extra></extra>",
         "legendgroup": "sub-691641_acq-headmotion1_T1w",
         "line": {
          "color": "rgba(255,255,255,0)"
         },
         "marker": {
          "color": "#00cc96"
         },
         "name": "sub-691641_acq-headmotion1_T1w",
         "offsetgroup": "sub-691641_acq-headmotion1_T1w",
         "orientation": "v",
         "pointpos": 0,
         "showlegend": true,
         "type": "box",
         "x": [
          3
         ],
         "x0": " ",
         "xaxis": "x",
         "y": [
          2
         ],
         "y0": " ",
         "yaxis": "y"
        },
        {
         "alignmentgroup": "True",
         "boxpoints": "all",
         "fillcolor": "rgba(255,255,255,0)",
         "hoveron": "points",
         "hovertemplate": "bids_name=sub-691641_acq-headmotion2_T1w<br>score=%{x}<br>condition=%{y}<extra></extra>",
         "legendgroup": "sub-691641_acq-headmotion2_T1w",
         "line": {
          "color": "rgba(255,255,255,0)"
         },
         "marker": {
          "color": "#ab63fa"
         },
         "name": "sub-691641_acq-headmotion2_T1w",
         "offsetgroup": "sub-691641_acq-headmotion2_T1w",
         "orientation": "v",
         "pointpos": 0,
         "showlegend": true,
         "type": "box",
         "x": [
          3
         ],
         "x0": " ",
         "xaxis": "x",
         "y": [
          3
         ],
         "y0": " ",
         "yaxis": "y"
        },
        {
         "alignmentgroup": "True",
         "boxpoints": "all",
         "fillcolor": "rgba(255,255,255,0)",
         "hoveron": "points",
         "hovertemplate": "bids_name=sub-691777_acq-standard_T1w<br>score=%{x}<br>condition=%{y}<extra></extra>",
         "legendgroup": "sub-691777_acq-standard_T1w",
         "line": {
          "color": "rgba(255,255,255,0)"
         },
         "marker": {
          "color": "#FFA15A"
         },
         "name": "sub-691777_acq-standard_T1w",
         "offsetgroup": "sub-691777_acq-standard_T1w",
         "orientation": "v",
         "pointpos": 0,
         "showlegend": true,
         "type": "box",
         "x": [
          1
         ],
         "x0": " ",
         "xaxis": "x",
         "y": [
          1
         ],
         "y0": " ",
         "yaxis": "y"
        },
        {
         "alignmentgroup": "True",
         "boxpoints": "all",
         "fillcolor": "rgba(255,255,255,0)",
         "hoveron": "points",
         "hovertemplate": "bids_name=sub-691777_acq-headmotion1_T1w<br>score=%{x}<br>condition=%{y}<extra></extra>",
         "legendgroup": "sub-691777_acq-headmotion1_T1w",
         "line": {
          "color": "rgba(255,255,255,0)"
         },
         "marker": {
          "color": "#19d3f3"
         },
         "name": "sub-691777_acq-headmotion1_T1w",
         "offsetgroup": "sub-691777_acq-headmotion1_T1w",
         "orientation": "v",
         "pointpos": 0,
         "showlegend": true,
         "type": "box",
         "x": [
          2
         ],
         "x0": " ",
         "xaxis": "x",
         "y": [
          2
         ],
         "y0": " ",
         "yaxis": "y"
        },
        {
         "alignmentgroup": "True",
         "boxpoints": "all",
         "fillcolor": "rgba(255,255,255,0)",
         "hoveron": "points",
         "hovertemplate": "bids_name=sub-691777_acq-headmotion2_T1w<br>score=%{x}<br>condition=%{y}<extra></extra>",
         "legendgroup": "sub-691777_acq-headmotion2_T1w",
         "line": {
          "color": "rgba(255,255,255,0)"
         },
         "marker": {
          "color": "#FF6692"
         },
         "name": "sub-691777_acq-headmotion2_T1w",
         "offsetgroup": "sub-691777_acq-headmotion2_T1w",
         "orientation": "v",
         "pointpos": 0,
         "showlegend": true,
         "type": "box",
         "x": [
          3
         ],
         "x0": " ",
         "xaxis": "x",
         "y": [
          3
         ],
         "y0": " ",
         "yaxis": "y"
        },
        {
         "alignmentgroup": "True",
         "boxpoints": "all",
         "fillcolor": "rgba(255,255,255,0)",
         "hoveron": "points",
         "hovertemplate": "bids_name=sub-694330_acq-standard_T1w<br>score=%{x}<br>condition=%{y}<extra></extra>",
         "legendgroup": "sub-694330_acq-standard_T1w",
         "line": {
          "color": "rgba(255,255,255,0)"
         },
         "marker": {
          "color": "#B6E880"
         },
         "name": "sub-694330_acq-standard_T1w",
         "offsetgroup": "sub-694330_acq-standard_T1w",
         "orientation": "v",
         "pointpos": 0,
         "showlegend": true,
         "type": "box",
         "x": [
          1
         ],
         "x0": " ",
         "xaxis": "x",
         "y": [
          1
         ],
         "y0": " ",
         "yaxis": "y"
        },
        {
         "alignmentgroup": "True",
         "boxpoints": "all",
         "fillcolor": "rgba(255,255,255,0)",
         "hoveron": "points",
         "hovertemplate": "bids_name=sub-694330_acq-headmotion2_T1w<br>score=%{x}<br>condition=%{y}<extra></extra>",
         "legendgroup": "sub-694330_acq-headmotion2_T1w",
         "line": {
          "color": "rgba(255,255,255,0)"
         },
         "marker": {
          "color": "#FF97FF"
         },
         "name": "sub-694330_acq-headmotion2_T1w",
         "offsetgroup": "sub-694330_acq-headmotion2_T1w",
         "orientation": "v",
         "pointpos": 0,
         "showlegend": true,
         "type": "box",
         "x": [
          2
         ],
         "x0": " ",
         "xaxis": "x",
         "y": [
          3
         ],
         "y0": " ",
         "yaxis": "y"
        },
        {
         "alignmentgroup": "True",
         "boxpoints": "all",
         "fillcolor": "rgba(255,255,255,0)",
         "hoveron": "points",
         "hovertemplate": "bids_name=sub-697441_acq-standard_T1w<br>score=%{x}<br>condition=%{y}<extra></extra>",
         "legendgroup": "sub-697441_acq-standard_T1w",
         "line": {
          "color": "rgba(255,255,255,0)"
         },
         "marker": {
          "color": "#FECB52"
         },
         "name": "sub-697441_acq-standard_T1w",
         "offsetgroup": "sub-697441_acq-standard_T1w",
         "orientation": "v",
         "pointpos": 0,
         "showlegend": true,
         "type": "box",
         "x": [
          1
         ],
         "x0": " ",
         "xaxis": "x",
         "y": [
          1
         ],
         "y0": " ",
         "yaxis": "y"
        },
        {
         "alignmentgroup": "True",
         "boxpoints": "all",
         "fillcolor": "rgba(255,255,255,0)",
         "hoveron": "points",
         "hovertemplate": "bids_name=sub-697441_acq-headmotion1_T1w<br>score=%{x}<br>condition=%{y}<extra></extra>",
         "legendgroup": "sub-697441_acq-headmotion1_T1w",
         "line": {
          "color": "rgba(255,255,255,0)"
         },
         "marker": {
          "color": "#636efa"
         },
         "name": "sub-697441_acq-headmotion1_T1w",
         "offsetgroup": "sub-697441_acq-headmotion1_T1w",
         "orientation": "v",
         "pointpos": 0,
         "showlegend": true,
         "type": "box",
         "x": [
          3
         ],
         "x0": " ",
         "xaxis": "x",
         "y": [
          2
         ],
         "y0": " ",
         "yaxis": "y"
        },
        {
         "alignmentgroup": "True",
         "boxpoints": "all",
         "fillcolor": "rgba(255,255,255,0)",
         "hoveron": "points",
         "hovertemplate": "bids_name=sub-697441_acq-headmotion2_T1w<br>score=%{x}<br>condition=%{y}<extra></extra>",
         "legendgroup": "sub-697441_acq-headmotion2_T1w",
         "line": {
          "color": "rgba(255,255,255,0)"
         },
         "marker": {
          "color": "#EF553B"
         },
         "name": "sub-697441_acq-headmotion2_T1w",
         "offsetgroup": "sub-697441_acq-headmotion2_T1w",
         "orientation": "v",
         "pointpos": 0,
         "showlegend": true,
         "type": "box",
         "x": [
          3
         ],
         "x0": " ",
         "xaxis": "x",
         "y": [
          3
         ],
         "y0": " ",
         "yaxis": "y"
        },
        {
         "alignmentgroup": "True",
         "boxpoints": "all",
         "fillcolor": "rgba(255,255,255,0)",
         "hoveron": "points",
         "hovertemplate": "bids_name=sub-707576_acq-standard_T1w<br>score=%{x}<br>condition=%{y}<extra></extra>",
         "legendgroup": "sub-707576_acq-standard_T1w",
         "line": {
          "color": "rgba(255,255,255,0)"
         },
         "marker": {
          "color": "#00cc96"
         },
         "name": "sub-707576_acq-standard_T1w",
         "offsetgroup": "sub-707576_acq-standard_T1w",
         "orientation": "v",
         "pointpos": 0,
         "showlegend": true,
         "type": "box",
         "x": [
          1
         ],
         "x0": " ",
         "xaxis": "x",
         "y": [
          1
         ],
         "y0": " ",
         "yaxis": "y"
        },
        {
         "alignmentgroup": "True",
         "boxpoints": "all",
         "fillcolor": "rgba(255,255,255,0)",
         "hoveron": "points",
         "hovertemplate": "bids_name=sub-707576_acq-headmotion1_T1w<br>score=%{x}<br>condition=%{y}<extra></extra>",
         "legendgroup": "sub-707576_acq-headmotion1_T1w",
         "line": {
          "color": "rgba(255,255,255,0)"
         },
         "marker": {
          "color": "#ab63fa"
         },
         "name": "sub-707576_acq-headmotion1_T1w",
         "offsetgroup": "sub-707576_acq-headmotion1_T1w",
         "orientation": "v",
         "pointpos": 0,
         "showlegend": true,
         "type": "box",
         "x": [
          2
         ],
         "x0": " ",
         "xaxis": "x",
         "y": [
          2
         ],
         "y0": " ",
         "yaxis": "y"
        },
        {
         "alignmentgroup": "True",
         "boxpoints": "all",
         "fillcolor": "rgba(255,255,255,0)",
         "hoveron": "points",
         "hovertemplate": "bids_name=sub-707576_acq-headmotion2_T1w<br>score=%{x}<br>condition=%{y}<extra></extra>",
         "legendgroup": "sub-707576_acq-headmotion2_T1w",
         "line": {
          "color": "rgba(255,255,255,0)"
         },
         "marker": {
          "color": "#FFA15A"
         },
         "name": "sub-707576_acq-headmotion2_T1w",
         "offsetgroup": "sub-707576_acq-headmotion2_T1w",
         "orientation": "v",
         "pointpos": 0,
         "showlegend": true,
         "type": "box",
         "x": [
          3
         ],
         "x0": " ",
         "xaxis": "x",
         "y": [
          3
         ],
         "y0": " ",
         "yaxis": "y"
        },
        {
         "alignmentgroup": "True",
         "boxpoints": "all",
         "fillcolor": "rgba(255,255,255,0)",
         "hoveron": "points",
         "hovertemplate": "bids_name=sub-714347_acq-standard_T1w<br>score=%{x}<br>condition=%{y}<extra></extra>",
         "legendgroup": "sub-714347_acq-standard_T1w",
         "line": {
          "color": "rgba(255,255,255,0)"
         },
         "marker": {
          "color": "#19d3f3"
         },
         "name": "sub-714347_acq-standard_T1w",
         "offsetgroup": "sub-714347_acq-standard_T1w",
         "orientation": "v",
         "pointpos": 0,
         "showlegend": true,
         "type": "box",
         "x": [
          1
         ],
         "x0": " ",
         "xaxis": "x",
         "y": [
          1
         ],
         "y0": " ",
         "yaxis": "y"
        },
        {
         "alignmentgroup": "True",
         "boxpoints": "all",
         "fillcolor": "rgba(255,255,255,0)",
         "hoveron": "points",
         "hovertemplate": "bids_name=sub-714347_acq-headmotion1_T1w<br>score=%{x}<br>condition=%{y}<extra></extra>",
         "legendgroup": "sub-714347_acq-headmotion1_T1w",
         "line": {
          "color": "rgba(255,255,255,0)"
         },
         "marker": {
          "color": "#FF6692"
         },
         "name": "sub-714347_acq-headmotion1_T1w",
         "offsetgroup": "sub-714347_acq-headmotion1_T1w",
         "orientation": "v",
         "pointpos": 0,
         "showlegend": true,
         "type": "box",
         "x": [
          3
         ],
         "x0": " ",
         "xaxis": "x",
         "y": [
          2
         ],
         "y0": " ",
         "yaxis": "y"
        },
        {
         "alignmentgroup": "True",
         "boxpoints": "all",
         "fillcolor": "rgba(255,255,255,0)",
         "hoveron": "points",
         "hovertemplate": "bids_name=sub-714347_acq-headmotion2_T1w<br>score=%{x}<br>condition=%{y}<extra></extra>",
         "legendgroup": "sub-714347_acq-headmotion2_T1w",
         "line": {
          "color": "rgba(255,255,255,0)"
         },
         "marker": {
          "color": "#B6E880"
         },
         "name": "sub-714347_acq-headmotion2_T1w",
         "offsetgroup": "sub-714347_acq-headmotion2_T1w",
         "orientation": "v",
         "pointpos": 0,
         "showlegend": true,
         "type": "box",
         "x": [
          3
         ],
         "x0": " ",
         "xaxis": "x",
         "y": [
          3
         ],
         "y0": " ",
         "yaxis": "y"
        },
        {
         "alignmentgroup": "True",
         "boxpoints": "all",
         "fillcolor": "rgba(255,255,255,0)",
         "hoveron": "points",
         "hovertemplate": "bids_name=sub-723372_acq-standard_T1w<br>score=%{x}<br>condition=%{y}<extra></extra>",
         "legendgroup": "sub-723372_acq-standard_T1w",
         "line": {
          "color": "rgba(255,255,255,0)"
         },
         "marker": {
          "color": "#FF97FF"
         },
         "name": "sub-723372_acq-standard_T1w",
         "offsetgroup": "sub-723372_acq-standard_T1w",
         "orientation": "v",
         "pointpos": 0,
         "showlegend": true,
         "type": "box",
         "x": [
          1
         ],
         "x0": " ",
         "xaxis": "x",
         "y": [
          1
         ],
         "y0": " ",
         "yaxis": "y"
        },
        {
         "alignmentgroup": "True",
         "boxpoints": "all",
         "fillcolor": "rgba(255,255,255,0)",
         "hoveron": "points",
         "hovertemplate": "bids_name=sub-723372_acq-headmotion1_T1w<br>score=%{x}<br>condition=%{y}<extra></extra>",
         "legendgroup": "sub-723372_acq-headmotion1_T1w",
         "line": {
          "color": "rgba(255,255,255,0)"
         },
         "marker": {
          "color": "#FECB52"
         },
         "name": "sub-723372_acq-headmotion1_T1w",
         "offsetgroup": "sub-723372_acq-headmotion1_T1w",
         "orientation": "v",
         "pointpos": 0,
         "showlegend": true,
         "type": "box",
         "x": [
          3
         ],
         "x0": " ",
         "xaxis": "x",
         "y": [
          2
         ],
         "y0": " ",
         "yaxis": "y"
        },
        {
         "alignmentgroup": "True",
         "boxpoints": "all",
         "fillcolor": "rgba(255,255,255,0)",
         "hoveron": "points",
         "hovertemplate": "bids_name=sub-723372_acq-headmotion2_T1w<br>score=%{x}<br>condition=%{y}<extra></extra>",
         "legendgroup": "sub-723372_acq-headmotion2_T1w",
         "line": {
          "color": "rgba(255,255,255,0)"
         },
         "marker": {
          "color": "#636efa"
         },
         "name": "sub-723372_acq-headmotion2_T1w",
         "offsetgroup": "sub-723372_acq-headmotion2_T1w",
         "orientation": "v",
         "pointpos": 0,
         "showlegend": true,
         "type": "box",
         "x": [
          3
         ],
         "x0": " ",
         "xaxis": "x",
         "y": [
          3
         ],
         "y0": " ",
         "yaxis": "y"
        },
        {
         "alignmentgroup": "True",
         "boxpoints": "all",
         "fillcolor": "rgba(255,255,255,0)",
         "hoveron": "points",
         "hovertemplate": "bids_name=sub-740606_acq-standard_T1w<br>score=%{x}<br>condition=%{y}<extra></extra>",
         "legendgroup": "sub-740606_acq-standard_T1w",
         "line": {
          "color": "rgba(255,255,255,0)"
         },
         "marker": {
          "color": "#EF553B"
         },
         "name": "sub-740606_acq-standard_T1w",
         "offsetgroup": "sub-740606_acq-standard_T1w",
         "orientation": "v",
         "pointpos": 0,
         "showlegend": true,
         "type": "box",
         "x": [
          1
         ],
         "x0": " ",
         "xaxis": "x",
         "y": [
          1
         ],
         "y0": " ",
         "yaxis": "y"
        },
        {
         "alignmentgroup": "True",
         "boxpoints": "all",
         "fillcolor": "rgba(255,255,255,0)",
         "hoveron": "points",
         "hovertemplate": "bids_name=sub-740606_acq-headmotion1_T1w<br>score=%{x}<br>condition=%{y}<extra></extra>",
         "legendgroup": "sub-740606_acq-headmotion1_T1w",
         "line": {
          "color": "rgba(255,255,255,0)"
         },
         "marker": {
          "color": "#00cc96"
         },
         "name": "sub-740606_acq-headmotion1_T1w",
         "offsetgroup": "sub-740606_acq-headmotion1_T1w",
         "orientation": "v",
         "pointpos": 0,
         "showlegend": true,
         "type": "box",
         "x": [
          2
         ],
         "x0": " ",
         "xaxis": "x",
         "y": [
          2
         ],
         "y0": " ",
         "yaxis": "y"
        },
        {
         "alignmentgroup": "True",
         "boxpoints": "all",
         "fillcolor": "rgba(255,255,255,0)",
         "hoveron": "points",
         "hovertemplate": "bids_name=sub-740606_acq-headmotion2_T1w<br>score=%{x}<br>condition=%{y}<extra></extra>",
         "legendgroup": "sub-740606_acq-headmotion2_T1w",
         "line": {
          "color": "rgba(255,255,255,0)"
         },
         "marker": {
          "color": "#ab63fa"
         },
         "name": "sub-740606_acq-headmotion2_T1w",
         "offsetgroup": "sub-740606_acq-headmotion2_T1w",
         "orientation": "v",
         "pointpos": 0,
         "showlegend": true,
         "type": "box",
         "x": [
          3
         ],
         "x0": " ",
         "xaxis": "x",
         "y": [
          3
         ],
         "y0": " ",
         "yaxis": "y"
        },
        {
         "alignmentgroup": "True",
         "boxpoints": "all",
         "fillcolor": "rgba(255,255,255,0)",
         "hoveron": "points",
         "hovertemplate": "bids_name=sub-750675_acq-standard_T1w<br>score=%{x}<br>condition=%{y}<extra></extra>",
         "legendgroup": "sub-750675_acq-standard_T1w",
         "line": {
          "color": "rgba(255,255,255,0)"
         },
         "marker": {
          "color": "#FFA15A"
         },
         "name": "sub-750675_acq-standard_T1w",
         "offsetgroup": "sub-750675_acq-standard_T1w",
         "orientation": "v",
         "pointpos": 0,
         "showlegend": true,
         "type": "box",
         "x": [
          1
         ],
         "x0": " ",
         "xaxis": "x",
         "y": [
          1
         ],
         "y0": " ",
         "yaxis": "y"
        },
        {
         "alignmentgroup": "True",
         "boxpoints": "all",
         "fillcolor": "rgba(255,255,255,0)",
         "hoveron": "points",
         "hovertemplate": "bids_name=sub-750675_acq-headmotion1_T1w<br>score=%{x}<br>condition=%{y}<extra></extra>",
         "legendgroup": "sub-750675_acq-headmotion1_T1w",
         "line": {
          "color": "rgba(255,255,255,0)"
         },
         "marker": {
          "color": "#19d3f3"
         },
         "name": "sub-750675_acq-headmotion1_T1w",
         "offsetgroup": "sub-750675_acq-headmotion1_T1w",
         "orientation": "v",
         "pointpos": 0,
         "showlegend": true,
         "type": "box",
         "x": [
          3
         ],
         "x0": " ",
         "xaxis": "x",
         "y": [
          2
         ],
         "y0": " ",
         "yaxis": "y"
        },
        {
         "alignmentgroup": "True",
         "boxpoints": "all",
         "fillcolor": "rgba(255,255,255,0)",
         "hoveron": "points",
         "hovertemplate": "bids_name=sub-750675_acq-headmotion2_T1w<br>score=%{x}<br>condition=%{y}<extra></extra>",
         "legendgroup": "sub-750675_acq-headmotion2_T1w",
         "line": {
          "color": "rgba(255,255,255,0)"
         },
         "marker": {
          "color": "#FF6692"
         },
         "name": "sub-750675_acq-headmotion2_T1w",
         "offsetgroup": "sub-750675_acq-headmotion2_T1w",
         "orientation": "v",
         "pointpos": 0,
         "showlegend": true,
         "type": "box",
         "x": [
          3
         ],
         "x0": " ",
         "xaxis": "x",
         "y": [
          3
         ],
         "y0": " ",
         "yaxis": "y"
        },
        {
         "alignmentgroup": "True",
         "boxpoints": "all",
         "fillcolor": "rgba(255,255,255,0)",
         "hoveron": "points",
         "hovertemplate": "bids_name=sub-754006_acq-standard_T1w<br>score=%{x}<br>condition=%{y}<extra></extra>",
         "legendgroup": "sub-754006_acq-standard_T1w",
         "line": {
          "color": "rgba(255,255,255,0)"
         },
         "marker": {
          "color": "#B6E880"
         },
         "name": "sub-754006_acq-standard_T1w",
         "offsetgroup": "sub-754006_acq-standard_T1w",
         "orientation": "v",
         "pointpos": 0,
         "showlegend": true,
         "type": "box",
         "x": [
          1
         ],
         "x0": " ",
         "xaxis": "x",
         "y": [
          1
         ],
         "y0": " ",
         "yaxis": "y"
        },
        {
         "alignmentgroup": "True",
         "boxpoints": "all",
         "fillcolor": "rgba(255,255,255,0)",
         "hoveron": "points",
         "hovertemplate": "bids_name=sub-754006_acq-headmotion1_T1w<br>score=%{x}<br>condition=%{y}<extra></extra>",
         "legendgroup": "sub-754006_acq-headmotion1_T1w",
         "line": {
          "color": "rgba(255,255,255,0)"
         },
         "marker": {
          "color": "#FF97FF"
         },
         "name": "sub-754006_acq-headmotion1_T1w",
         "offsetgroup": "sub-754006_acq-headmotion1_T1w",
         "orientation": "v",
         "pointpos": 0,
         "showlegend": true,
         "type": "box",
         "x": [
          2
         ],
         "x0": " ",
         "xaxis": "x",
         "y": [
          2
         ],
         "y0": " ",
         "yaxis": "y"
        },
        {
         "alignmentgroup": "True",
         "boxpoints": "all",
         "fillcolor": "rgba(255,255,255,0)",
         "hoveron": "points",
         "hovertemplate": "bids_name=sub-754006_acq-headmotion2_T1w<br>score=%{x}<br>condition=%{y}<extra></extra>",
         "legendgroup": "sub-754006_acq-headmotion2_T1w",
         "line": {
          "color": "rgba(255,255,255,0)"
         },
         "marker": {
          "color": "#FECB52"
         },
         "name": "sub-754006_acq-headmotion2_T1w",
         "offsetgroup": "sub-754006_acq-headmotion2_T1w",
         "orientation": "v",
         "pointpos": 0,
         "showlegend": true,
         "type": "box",
         "x": [
          3
         ],
         "x0": " ",
         "xaxis": "x",
         "y": [
          3
         ],
         "y0": " ",
         "yaxis": "y"
        },
        {
         "alignmentgroup": "True",
         "boxpoints": "all",
         "fillcolor": "rgba(255,255,255,0)",
         "hoveron": "points",
         "hovertemplate": "bids_name=sub-754183_acq-standard_T1w<br>score=%{x}<br>condition=%{y}<extra></extra>",
         "legendgroup": "sub-754183_acq-standard_T1w",
         "line": {
          "color": "rgba(255,255,255,0)"
         },
         "marker": {
          "color": "#636efa"
         },
         "name": "sub-754183_acq-standard_T1w",
         "offsetgroup": "sub-754183_acq-standard_T1w",
         "orientation": "v",
         "pointpos": 0,
         "showlegend": true,
         "type": "box",
         "x": [
          1
         ],
         "x0": " ",
         "xaxis": "x",
         "y": [
          1
         ],
         "y0": " ",
         "yaxis": "y"
        },
        {
         "alignmentgroup": "True",
         "boxpoints": "all",
         "fillcolor": "rgba(255,255,255,0)",
         "hoveron": "points",
         "hovertemplate": "bids_name=sub-754183_acq-headmotion1_T1w<br>score=%{x}<br>condition=%{y}<extra></extra>",
         "legendgroup": "sub-754183_acq-headmotion1_T1w",
         "line": {
          "color": "rgba(255,255,255,0)"
         },
         "marker": {
          "color": "#EF553B"
         },
         "name": "sub-754183_acq-headmotion1_T1w",
         "offsetgroup": "sub-754183_acq-headmotion1_T1w",
         "orientation": "v",
         "pointpos": 0,
         "showlegend": true,
         "type": "box",
         "x": [
          3
         ],
         "x0": " ",
         "xaxis": "x",
         "y": [
          2
         ],
         "y0": " ",
         "yaxis": "y"
        },
        {
         "alignmentgroup": "True",
         "boxpoints": "all",
         "fillcolor": "rgba(255,255,255,0)",
         "hoveron": "points",
         "hovertemplate": "bids_name=sub-754183_acq-headmotion2_T1w<br>score=%{x}<br>condition=%{y}<extra></extra>",
         "legendgroup": "sub-754183_acq-headmotion2_T1w",
         "line": {
          "color": "rgba(255,255,255,0)"
         },
         "marker": {
          "color": "#00cc96"
         },
         "name": "sub-754183_acq-headmotion2_T1w",
         "offsetgroup": "sub-754183_acq-headmotion2_T1w",
         "orientation": "v",
         "pointpos": 0,
         "showlegend": true,
         "type": "box",
         "x": [
          3
         ],
         "x0": " ",
         "xaxis": "x",
         "y": [
          3
         ],
         "y0": " ",
         "yaxis": "y"
        },
        {
         "alignmentgroup": "True",
         "boxpoints": "all",
         "fillcolor": "rgba(255,255,255,0)",
         "hoveron": "points",
         "hovertemplate": "bids_name=sub-757271_acq-standard_T1w<br>score=%{x}<br>condition=%{y}<extra></extra>",
         "legendgroup": "sub-757271_acq-standard_T1w",
         "line": {
          "color": "rgba(255,255,255,0)"
         },
         "marker": {
          "color": "#ab63fa"
         },
         "name": "sub-757271_acq-standard_T1w",
         "offsetgroup": "sub-757271_acq-standard_T1w",
         "orientation": "v",
         "pointpos": 0,
         "showlegend": true,
         "type": "box",
         "x": [
          2
         ],
         "x0": " ",
         "xaxis": "x",
         "y": [
          1
         ],
         "y0": " ",
         "yaxis": "y"
        },
        {
         "alignmentgroup": "True",
         "boxpoints": "all",
         "fillcolor": "rgba(255,255,255,0)",
         "hoveron": "points",
         "hovertemplate": "bids_name=sub-757271_acq-headmotion1_T1w<br>score=%{x}<br>condition=%{y}<extra></extra>",
         "legendgroup": "sub-757271_acq-headmotion1_T1w",
         "line": {
          "color": "rgba(255,255,255,0)"
         },
         "marker": {
          "color": "#FFA15A"
         },
         "name": "sub-757271_acq-headmotion1_T1w",
         "offsetgroup": "sub-757271_acq-headmotion1_T1w",
         "orientation": "v",
         "pointpos": 0,
         "showlegend": true,
         "type": "box",
         "x": [
          3
         ],
         "x0": " ",
         "xaxis": "x",
         "y": [
          2
         ],
         "y0": " ",
         "yaxis": "y"
        },
        {
         "alignmentgroup": "True",
         "boxpoints": "all",
         "fillcolor": "rgba(255,255,255,0)",
         "hoveron": "points",
         "hovertemplate": "bids_name=sub-757271_acq-headmotion2_T1w<br>score=%{x}<br>condition=%{y}<extra></extra>",
         "legendgroup": "sub-757271_acq-headmotion2_T1w",
         "line": {
          "color": "rgba(255,255,255,0)"
         },
         "marker": {
          "color": "#19d3f3"
         },
         "name": "sub-757271_acq-headmotion2_T1w",
         "offsetgroup": "sub-757271_acq-headmotion2_T1w",
         "orientation": "v",
         "pointpos": 0,
         "showlegend": true,
         "type": "box",
         "x": [
          3
         ],
         "x0": " ",
         "xaxis": "x",
         "y": [
          3
         ],
         "y0": " ",
         "yaxis": "y"
        },
        {
         "alignmentgroup": "True",
         "boxpoints": "all",
         "fillcolor": "rgba(255,255,255,0)",
         "hoveron": "points",
         "hovertemplate": "bids_name=sub-764976_acq-standard_T1w<br>score=%{x}<br>condition=%{y}<extra></extra>",
         "legendgroup": "sub-764976_acq-standard_T1w",
         "line": {
          "color": "rgba(255,255,255,0)"
         },
         "marker": {
          "color": "#FF6692"
         },
         "name": "sub-764976_acq-standard_T1w",
         "offsetgroup": "sub-764976_acq-standard_T1w",
         "orientation": "v",
         "pointpos": 0,
         "showlegend": true,
         "type": "box",
         "x": [
          1
         ],
         "x0": " ",
         "xaxis": "x",
         "y": [
          1
         ],
         "y0": " ",
         "yaxis": "y"
        },
        {
         "alignmentgroup": "True",
         "boxpoints": "all",
         "fillcolor": "rgba(255,255,255,0)",
         "hoveron": "points",
         "hovertemplate": "bids_name=sub-764976_acq-headmotion1_T1w<br>score=%{x}<br>condition=%{y}<extra></extra>",
         "legendgroup": "sub-764976_acq-headmotion1_T1w",
         "line": {
          "color": "rgba(255,255,255,0)"
         },
         "marker": {
          "color": "#B6E880"
         },
         "name": "sub-764976_acq-headmotion1_T1w",
         "offsetgroup": "sub-764976_acq-headmotion1_T1w",
         "orientation": "v",
         "pointpos": 0,
         "showlegend": true,
         "type": "box",
         "x": [
          2
         ],
         "x0": " ",
         "xaxis": "x",
         "y": [
          2
         ],
         "y0": " ",
         "yaxis": "y"
        },
        {
         "alignmentgroup": "True",
         "boxpoints": "all",
         "fillcolor": "rgba(255,255,255,0)",
         "hoveron": "points",
         "hovertemplate": "bids_name=sub-764976_acq-headmotion2_T1w<br>score=%{x}<br>condition=%{y}<extra></extra>",
         "legendgroup": "sub-764976_acq-headmotion2_T1w",
         "line": {
          "color": "rgba(255,255,255,0)"
         },
         "marker": {
          "color": "#FF97FF"
         },
         "name": "sub-764976_acq-headmotion2_T1w",
         "offsetgroup": "sub-764976_acq-headmotion2_T1w",
         "orientation": "v",
         "pointpos": 0,
         "showlegend": true,
         "type": "box",
         "x": [
          3
         ],
         "x0": " ",
         "xaxis": "x",
         "y": [
          3
         ],
         "y0": " ",
         "yaxis": "y"
        },
        {
         "alignmentgroup": "True",
         "boxpoints": "all",
         "fillcolor": "rgba(255,255,255,0)",
         "hoveron": "points",
         "hovertemplate": "bids_name=sub-772389_acq-standard_T1w<br>score=%{x}<br>condition=%{y}<extra></extra>",
         "legendgroup": "sub-772389_acq-standard_T1w",
         "line": {
          "color": "rgba(255,255,255,0)"
         },
         "marker": {
          "color": "#FECB52"
         },
         "name": "sub-772389_acq-standard_T1w",
         "offsetgroup": "sub-772389_acq-standard_T1w",
         "orientation": "v",
         "pointpos": 0,
         "showlegend": true,
         "type": "box",
         "x": [
          1
         ],
         "x0": " ",
         "xaxis": "x",
         "y": [
          1
         ],
         "y0": " ",
         "yaxis": "y"
        },
        {
         "alignmentgroup": "True",
         "boxpoints": "all",
         "fillcolor": "rgba(255,255,255,0)",
         "hoveron": "points",
         "hovertemplate": "bids_name=sub-772389_acq-headmotion1_T1w<br>score=%{x}<br>condition=%{y}<extra></extra>",
         "legendgroup": "sub-772389_acq-headmotion1_T1w",
         "line": {
          "color": "rgba(255,255,255,0)"
         },
         "marker": {
          "color": "#636efa"
         },
         "name": "sub-772389_acq-headmotion1_T1w",
         "offsetgroup": "sub-772389_acq-headmotion1_T1w",
         "orientation": "v",
         "pointpos": 0,
         "showlegend": true,
         "type": "box",
         "x": [
          3
         ],
         "x0": " ",
         "xaxis": "x",
         "y": [
          2
         ],
         "y0": " ",
         "yaxis": "y"
        },
        {
         "alignmentgroup": "True",
         "boxpoints": "all",
         "fillcolor": "rgba(255,255,255,0)",
         "hoveron": "points",
         "hovertemplate": "bids_name=sub-772389_acq-headmotion2_T1w<br>score=%{x}<br>condition=%{y}<extra></extra>",
         "legendgroup": "sub-772389_acq-headmotion2_T1w",
         "line": {
          "color": "rgba(255,255,255,0)"
         },
         "marker": {
          "color": "#EF553B"
         },
         "name": "sub-772389_acq-headmotion2_T1w",
         "offsetgroup": "sub-772389_acq-headmotion2_T1w",
         "orientation": "v",
         "pointpos": 0,
         "showlegend": true,
         "type": "box",
         "x": [
          3
         ],
         "x0": " ",
         "xaxis": "x",
         "y": [
          3
         ],
         "y0": " ",
         "yaxis": "y"
        },
        {
         "alignmentgroup": "True",
         "boxpoints": "all",
         "fillcolor": "rgba(255,255,255,0)",
         "hoveron": "points",
         "hovertemplate": "bids_name=sub-778481_acq-standard_T1w<br>score=%{x}<br>condition=%{y}<extra></extra>",
         "legendgroup": "sub-778481_acq-standard_T1w",
         "line": {
          "color": "rgba(255,255,255,0)"
         },
         "marker": {
          "color": "#00cc96"
         },
         "name": "sub-778481_acq-standard_T1w",
         "offsetgroup": "sub-778481_acq-standard_T1w",
         "orientation": "v",
         "pointpos": 0,
         "showlegend": true,
         "type": "box",
         "x": [
          1
         ],
         "x0": " ",
         "xaxis": "x",
         "y": [
          1
         ],
         "y0": " ",
         "yaxis": "y"
        },
        {
         "alignmentgroup": "True",
         "boxpoints": "all",
         "fillcolor": "rgba(255,255,255,0)",
         "hoveron": "points",
         "hovertemplate": "bids_name=sub-778481_acq-headmotion1_T1w<br>score=%{x}<br>condition=%{y}<extra></extra>",
         "legendgroup": "sub-778481_acq-headmotion1_T1w",
         "line": {
          "color": "rgba(255,255,255,0)"
         },
         "marker": {
          "color": "#ab63fa"
         },
         "name": "sub-778481_acq-headmotion1_T1w",
         "offsetgroup": "sub-778481_acq-headmotion1_T1w",
         "orientation": "v",
         "pointpos": 0,
         "showlegend": true,
         "type": "box",
         "x": [
          3
         ],
         "x0": " ",
         "xaxis": "x",
         "y": [
          2
         ],
         "y0": " ",
         "yaxis": "y"
        },
        {
         "alignmentgroup": "True",
         "boxpoints": "all",
         "fillcolor": "rgba(255,255,255,0)",
         "hoveron": "points",
         "hovertemplate": "bids_name=sub-778481_acq-headmotion2_T1w<br>score=%{x}<br>condition=%{y}<extra></extra>",
         "legendgroup": "sub-778481_acq-headmotion2_T1w",
         "line": {
          "color": "rgba(255,255,255,0)"
         },
         "marker": {
          "color": "#FFA15A"
         },
         "name": "sub-778481_acq-headmotion2_T1w",
         "offsetgroup": "sub-778481_acq-headmotion2_T1w",
         "orientation": "v",
         "pointpos": 0,
         "showlegend": true,
         "type": "box",
         "x": [
          3
         ],
         "x0": " ",
         "xaxis": "x",
         "y": [
          3
         ],
         "y0": " ",
         "yaxis": "y"
        },
        {
         "alignmentgroup": "True",
         "boxpoints": "all",
         "fillcolor": "rgba(255,255,255,0)",
         "hoveron": "points",
         "hovertemplate": "bids_name=sub-780660_acq-standard_T1w<br>score=%{x}<br>condition=%{y}<extra></extra>",
         "legendgroup": "sub-780660_acq-standard_T1w",
         "line": {
          "color": "rgba(255,255,255,0)"
         },
         "marker": {
          "color": "#19d3f3"
         },
         "name": "sub-780660_acq-standard_T1w",
         "offsetgroup": "sub-780660_acq-standard_T1w",
         "orientation": "v",
         "pointpos": 0,
         "showlegend": true,
         "type": "box",
         "x": [
          2
         ],
         "x0": " ",
         "xaxis": "x",
         "y": [
          1
         ],
         "y0": " ",
         "yaxis": "y"
        },
        {
         "alignmentgroup": "True",
         "boxpoints": "all",
         "fillcolor": "rgba(255,255,255,0)",
         "hoveron": "points",
         "hovertemplate": "bids_name=sub-780660_acq-headmotion1_T1w<br>score=%{x}<br>condition=%{y}<extra></extra>",
         "legendgroup": "sub-780660_acq-headmotion1_T1w",
         "line": {
          "color": "rgba(255,255,255,0)"
         },
         "marker": {
          "color": "#FF6692"
         },
         "name": "sub-780660_acq-headmotion1_T1w",
         "offsetgroup": "sub-780660_acq-headmotion1_T1w",
         "orientation": "v",
         "pointpos": 0,
         "showlegend": true,
         "type": "box",
         "x": [
          2
         ],
         "x0": " ",
         "xaxis": "x",
         "y": [
          2
         ],
         "y0": " ",
         "yaxis": "y"
        },
        {
         "alignmentgroup": "True",
         "boxpoints": "all",
         "fillcolor": "rgba(255,255,255,0)",
         "hoveron": "points",
         "hovertemplate": "bids_name=sub-780660_acq-headmotion2_T1w<br>score=%{x}<br>condition=%{y}<extra></extra>",
         "legendgroup": "sub-780660_acq-headmotion2_T1w",
         "line": {
          "color": "rgba(255,255,255,0)"
         },
         "marker": {
          "color": "#B6E880"
         },
         "name": "sub-780660_acq-headmotion2_T1w",
         "offsetgroup": "sub-780660_acq-headmotion2_T1w",
         "orientation": "v",
         "pointpos": 0,
         "showlegend": true,
         "type": "box",
         "x": [
          3
         ],
         "x0": " ",
         "xaxis": "x",
         "y": [
          3
         ],
         "y0": " ",
         "yaxis": "y"
        },
        {
         "alignmentgroup": "True",
         "boxpoints": "all",
         "fillcolor": "rgba(255,255,255,0)",
         "hoveron": "points",
         "hovertemplate": "bids_name=sub-788339_acq-standard_T1w<br>score=%{x}<br>condition=%{y}<extra></extra>",
         "legendgroup": "sub-788339_acq-standard_T1w",
         "line": {
          "color": "rgba(255,255,255,0)"
         },
         "marker": {
          "color": "#FF97FF"
         },
         "name": "sub-788339_acq-standard_T1w",
         "offsetgroup": "sub-788339_acq-standard_T1w",
         "orientation": "v",
         "pointpos": 0,
         "showlegend": true,
         "type": "box",
         "x": [
          1
         ],
         "x0": " ",
         "xaxis": "x",
         "y": [
          1
         ],
         "y0": " ",
         "yaxis": "y"
        },
        {
         "alignmentgroup": "True",
         "boxpoints": "all",
         "fillcolor": "rgba(255,255,255,0)",
         "hoveron": "points",
         "hovertemplate": "bids_name=sub-788339_acq-headmotion1_T1w<br>score=%{x}<br>condition=%{y}<extra></extra>",
         "legendgroup": "sub-788339_acq-headmotion1_T1w",
         "line": {
          "color": "rgba(255,255,255,0)"
         },
         "marker": {
          "color": "#FECB52"
         },
         "name": "sub-788339_acq-headmotion1_T1w",
         "offsetgroup": "sub-788339_acq-headmotion1_T1w",
         "orientation": "v",
         "pointpos": 0,
         "showlegend": true,
         "type": "box",
         "x": [
          3
         ],
         "x0": " ",
         "xaxis": "x",
         "y": [
          2
         ],
         "y0": " ",
         "yaxis": "y"
        },
        {
         "alignmentgroup": "True",
         "boxpoints": "all",
         "fillcolor": "rgba(255,255,255,0)",
         "hoveron": "points",
         "hovertemplate": "bids_name=sub-788339_acq-headmotion2_T1w<br>score=%{x}<br>condition=%{y}<extra></extra>",
         "legendgroup": "sub-788339_acq-headmotion2_T1w",
         "line": {
          "color": "rgba(255,255,255,0)"
         },
         "marker": {
          "color": "#636efa"
         },
         "name": "sub-788339_acq-headmotion2_T1w",
         "offsetgroup": "sub-788339_acq-headmotion2_T1w",
         "orientation": "v",
         "pointpos": 0,
         "showlegend": true,
         "type": "box",
         "x": [
          3
         ],
         "x0": " ",
         "xaxis": "x",
         "y": [
          3
         ],
         "y0": " ",
         "yaxis": "y"
        },
        {
         "alignmentgroup": "True",
         "boxpoints": "all",
         "fillcolor": "rgba(255,255,255,0)",
         "hoveron": "points",
         "hovertemplate": "bids_name=sub-791907_acq-standard_T1w<br>score=%{x}<br>condition=%{y}<extra></extra>",
         "legendgroup": "sub-791907_acq-standard_T1w",
         "line": {
          "color": "rgba(255,255,255,0)"
         },
         "marker": {
          "color": "#EF553B"
         },
         "name": "sub-791907_acq-standard_T1w",
         "offsetgroup": "sub-791907_acq-standard_T1w",
         "orientation": "v",
         "pointpos": 0,
         "showlegend": true,
         "type": "box",
         "x": [
          1
         ],
         "x0": " ",
         "xaxis": "x",
         "y": [
          1
         ],
         "y0": " ",
         "yaxis": "y"
        },
        {
         "alignmentgroup": "True",
         "boxpoints": "all",
         "fillcolor": "rgba(255,255,255,0)",
         "hoveron": "points",
         "hovertemplate": "bids_name=sub-791907_acq-headmotion1_T1w<br>score=%{x}<br>condition=%{y}<extra></extra>",
         "legendgroup": "sub-791907_acq-headmotion1_T1w",
         "line": {
          "color": "rgba(255,255,255,0)"
         },
         "marker": {
          "color": "#00cc96"
         },
         "name": "sub-791907_acq-headmotion1_T1w",
         "offsetgroup": "sub-791907_acq-headmotion1_T1w",
         "orientation": "v",
         "pointpos": 0,
         "showlegend": true,
         "type": "box",
         "x": [
          2
         ],
         "x0": " ",
         "xaxis": "x",
         "y": [
          2
         ],
         "y0": " ",
         "yaxis": "y"
        },
        {
         "alignmentgroup": "True",
         "boxpoints": "all",
         "fillcolor": "rgba(255,255,255,0)",
         "hoveron": "points",
         "hovertemplate": "bids_name=sub-791907_acq-headmotion2_T1w<br>score=%{x}<br>condition=%{y}<extra></extra>",
         "legendgroup": "sub-791907_acq-headmotion2_T1w",
         "line": {
          "color": "rgba(255,255,255,0)"
         },
         "marker": {
          "color": "#ab63fa"
         },
         "name": "sub-791907_acq-headmotion2_T1w",
         "offsetgroup": "sub-791907_acq-headmotion2_T1w",
         "orientation": "v",
         "pointpos": 0,
         "showlegend": true,
         "type": "box",
         "x": [
          2
         ],
         "x0": " ",
         "xaxis": "x",
         "y": [
          3
         ],
         "y0": " ",
         "yaxis": "y"
        },
        {
         "alignmentgroup": "True",
         "boxpoints": "all",
         "fillcolor": "rgba(255,255,255,0)",
         "hoveron": "points",
         "hovertemplate": "bids_name=sub-802945_acq-standard_T1w<br>score=%{x}<br>condition=%{y}<extra></extra>",
         "legendgroup": "sub-802945_acq-standard_T1w",
         "line": {
          "color": "rgba(255,255,255,0)"
         },
         "marker": {
          "color": "#FFA15A"
         },
         "name": "sub-802945_acq-standard_T1w",
         "offsetgroup": "sub-802945_acq-standard_T1w",
         "orientation": "v",
         "pointpos": 0,
         "showlegend": true,
         "type": "box",
         "x": [
          1
         ],
         "x0": " ",
         "xaxis": "x",
         "y": [
          1
         ],
         "y0": " ",
         "yaxis": "y"
        },
        {
         "alignmentgroup": "True",
         "boxpoints": "all",
         "fillcolor": "rgba(255,255,255,0)",
         "hoveron": "points",
         "hovertemplate": "bids_name=sub-802945_acq-headmotion1_T1w<br>score=%{x}<br>condition=%{y}<extra></extra>",
         "legendgroup": "sub-802945_acq-headmotion1_T1w",
         "line": {
          "color": "rgba(255,255,255,0)"
         },
         "marker": {
          "color": "#19d3f3"
         },
         "name": "sub-802945_acq-headmotion1_T1w",
         "offsetgroup": "sub-802945_acq-headmotion1_T1w",
         "orientation": "v",
         "pointpos": 0,
         "showlegend": true,
         "type": "box",
         "x": [
          1
         ],
         "x0": " ",
         "xaxis": "x",
         "y": [
          2
         ],
         "y0": " ",
         "yaxis": "y"
        },
        {
         "alignmentgroup": "True",
         "boxpoints": "all",
         "fillcolor": "rgba(255,255,255,0)",
         "hoveron": "points",
         "hovertemplate": "bids_name=sub-802945_acq-headmotion2_T1w<br>score=%{x}<br>condition=%{y}<extra></extra>",
         "legendgroup": "sub-802945_acq-headmotion2_T1w",
         "line": {
          "color": "rgba(255,255,255,0)"
         },
         "marker": {
          "color": "#FF6692"
         },
         "name": "sub-802945_acq-headmotion2_T1w",
         "offsetgroup": "sub-802945_acq-headmotion2_T1w",
         "orientation": "v",
         "pointpos": 0,
         "showlegend": true,
         "type": "box",
         "x": [
          2
         ],
         "x0": " ",
         "xaxis": "x",
         "y": [
          3
         ],
         "y0": " ",
         "yaxis": "y"
        },
        {
         "alignmentgroup": "True",
         "boxpoints": "all",
         "fillcolor": "rgba(255,255,255,0)",
         "hoveron": "points",
         "hovertemplate": "bids_name=sub-809320_acq-standard_T1w<br>score=%{x}<br>condition=%{y}<extra></extra>",
         "legendgroup": "sub-809320_acq-standard_T1w",
         "line": {
          "color": "rgba(255,255,255,0)"
         },
         "marker": {
          "color": "#B6E880"
         },
         "name": "sub-809320_acq-standard_T1w",
         "offsetgroup": "sub-809320_acq-standard_T1w",
         "orientation": "v",
         "pointpos": 0,
         "showlegend": true,
         "type": "box",
         "x": [
          1
         ],
         "x0": " ",
         "xaxis": "x",
         "y": [
          1
         ],
         "y0": " ",
         "yaxis": "y"
        },
        {
         "alignmentgroup": "True",
         "boxpoints": "all",
         "fillcolor": "rgba(255,255,255,0)",
         "hoveron": "points",
         "hovertemplate": "bids_name=sub-809320_acq-headmotion1_T1w<br>score=%{x}<br>condition=%{y}<extra></extra>",
         "legendgroup": "sub-809320_acq-headmotion1_T1w",
         "line": {
          "color": "rgba(255,255,255,0)"
         },
         "marker": {
          "color": "#FF97FF"
         },
         "name": "sub-809320_acq-headmotion1_T1w",
         "offsetgroup": "sub-809320_acq-headmotion1_T1w",
         "orientation": "v",
         "pointpos": 0,
         "showlegend": true,
         "type": "box",
         "x": [
          3
         ],
         "x0": " ",
         "xaxis": "x",
         "y": [
          2
         ],
         "y0": " ",
         "yaxis": "y"
        },
        {
         "alignmentgroup": "True",
         "boxpoints": "all",
         "fillcolor": "rgba(255,255,255,0)",
         "hoveron": "points",
         "hovertemplate": "bids_name=sub-809320_acq-headmotion2_T1w<br>score=%{x}<br>condition=%{y}<extra></extra>",
         "legendgroup": "sub-809320_acq-headmotion2_T1w",
         "line": {
          "color": "rgba(255,255,255,0)"
         },
         "marker": {
          "color": "#FECB52"
         },
         "name": "sub-809320_acq-headmotion2_T1w",
         "offsetgroup": "sub-809320_acq-headmotion2_T1w",
         "orientation": "v",
         "pointpos": 0,
         "showlegend": true,
         "type": "box",
         "x": [
          3
         ],
         "x0": " ",
         "xaxis": "x",
         "y": [
          3
         ],
         "y0": " ",
         "yaxis": "y"
        },
        {
         "alignmentgroup": "True",
         "boxpoints": "all",
         "fillcolor": "rgba(255,255,255,0)",
         "hoveron": "points",
         "hovertemplate": "bids_name=sub-811563_acq-standard_T1w<br>score=%{x}<br>condition=%{y}<extra></extra>",
         "legendgroup": "sub-811563_acq-standard_T1w",
         "line": {
          "color": "rgba(255,255,255,0)"
         },
         "marker": {
          "color": "#636efa"
         },
         "name": "sub-811563_acq-standard_T1w",
         "offsetgroup": "sub-811563_acq-standard_T1w",
         "orientation": "v",
         "pointpos": 0,
         "showlegend": true,
         "type": "box",
         "x": [
          2
         ],
         "x0": " ",
         "xaxis": "x",
         "y": [
          1
         ],
         "y0": " ",
         "yaxis": "y"
        },
        {
         "alignmentgroup": "True",
         "boxpoints": "all",
         "fillcolor": "rgba(255,255,255,0)",
         "hoveron": "points",
         "hovertemplate": "bids_name=sub-811563_acq-headmotion1_T1w<br>score=%{x}<br>condition=%{y}<extra></extra>",
         "legendgroup": "sub-811563_acq-headmotion1_T1w",
         "line": {
          "color": "rgba(255,255,255,0)"
         },
         "marker": {
          "color": "#EF553B"
         },
         "name": "sub-811563_acq-headmotion1_T1w",
         "offsetgroup": "sub-811563_acq-headmotion1_T1w",
         "orientation": "v",
         "pointpos": 0,
         "showlegend": true,
         "type": "box",
         "x": [
          3
         ],
         "x0": " ",
         "xaxis": "x",
         "y": [
          2
         ],
         "y0": " ",
         "yaxis": "y"
        },
        {
         "alignmentgroup": "True",
         "boxpoints": "all",
         "fillcolor": "rgba(255,255,255,0)",
         "hoveron": "points",
         "hovertemplate": "bids_name=sub-811563_acq-headmotion2_T1w<br>score=%{x}<br>condition=%{y}<extra></extra>",
         "legendgroup": "sub-811563_acq-headmotion2_T1w",
         "line": {
          "color": "rgba(255,255,255,0)"
         },
         "marker": {
          "color": "#00cc96"
         },
         "name": "sub-811563_acq-headmotion2_T1w",
         "offsetgroup": "sub-811563_acq-headmotion2_T1w",
         "orientation": "v",
         "pointpos": 0,
         "showlegend": true,
         "type": "box",
         "x": [
          2
         ],
         "x0": " ",
         "xaxis": "x",
         "y": [
          3
         ],
         "y0": " ",
         "yaxis": "y"
        },
        {
         "alignmentgroup": "True",
         "boxpoints": "all",
         "fillcolor": "rgba(255,255,255,0)",
         "hoveron": "points",
         "hovertemplate": "bids_name=sub-830976_acq-standard_T1w<br>score=%{x}<br>condition=%{y}<extra></extra>",
         "legendgroup": "sub-830976_acq-standard_T1w",
         "line": {
          "color": "rgba(255,255,255,0)"
         },
         "marker": {
          "color": "#ab63fa"
         },
         "name": "sub-830976_acq-standard_T1w",
         "offsetgroup": "sub-830976_acq-standard_T1w",
         "orientation": "v",
         "pointpos": 0,
         "showlegend": true,
         "type": "box",
         "x": [
          1
         ],
         "x0": " ",
         "xaxis": "x",
         "y": [
          1
         ],
         "y0": " ",
         "yaxis": "y"
        },
        {
         "alignmentgroup": "True",
         "boxpoints": "all",
         "fillcolor": "rgba(255,255,255,0)",
         "hoveron": "points",
         "hovertemplate": "bids_name=sub-830976_acq-headmotion1_T1w<br>score=%{x}<br>condition=%{y}<extra></extra>",
         "legendgroup": "sub-830976_acq-headmotion1_T1w",
         "line": {
          "color": "rgba(255,255,255,0)"
         },
         "marker": {
          "color": "#FFA15A"
         },
         "name": "sub-830976_acq-headmotion1_T1w",
         "offsetgroup": "sub-830976_acq-headmotion1_T1w",
         "orientation": "v",
         "pointpos": 0,
         "showlegend": true,
         "type": "box",
         "x": [
          3
         ],
         "x0": " ",
         "xaxis": "x",
         "y": [
          2
         ],
         "y0": " ",
         "yaxis": "y"
        },
        {
         "alignmentgroup": "True",
         "boxpoints": "all",
         "fillcolor": "rgba(255,255,255,0)",
         "hoveron": "points",
         "hovertemplate": "bids_name=sub-830976_acq-headmotion2_T1w<br>score=%{x}<br>condition=%{y}<extra></extra>",
         "legendgroup": "sub-830976_acq-headmotion2_T1w",
         "line": {
          "color": "rgba(255,255,255,0)"
         },
         "marker": {
          "color": "#19d3f3"
         },
         "name": "sub-830976_acq-headmotion2_T1w",
         "offsetgroup": "sub-830976_acq-headmotion2_T1w",
         "orientation": "v",
         "pointpos": 0,
         "showlegend": true,
         "type": "box",
         "x": [
          3
         ],
         "x0": " ",
         "xaxis": "x",
         "y": [
          3
         ],
         "y0": " ",
         "yaxis": "y"
        },
        {
         "alignmentgroup": "True",
         "boxpoints": "all",
         "fillcolor": "rgba(255,255,255,0)",
         "hoveron": "points",
         "hovertemplate": "bids_name=sub-848092_acq-standard_T1w<br>score=%{x}<br>condition=%{y}<extra></extra>",
         "legendgroup": "sub-848092_acq-standard_T1w",
         "line": {
          "color": "rgba(255,255,255,0)"
         },
         "marker": {
          "color": "#FF6692"
         },
         "name": "sub-848092_acq-standard_T1w",
         "offsetgroup": "sub-848092_acq-standard_T1w",
         "orientation": "v",
         "pointpos": 0,
         "showlegend": true,
         "type": "box",
         "x": [
          1
         ],
         "x0": " ",
         "xaxis": "x",
         "y": [
          1
         ],
         "y0": " ",
         "yaxis": "y"
        },
        {
         "alignmentgroup": "True",
         "boxpoints": "all",
         "fillcolor": "rgba(255,255,255,0)",
         "hoveron": "points",
         "hovertemplate": "bids_name=sub-848092_acq-headmotion1_T1w<br>score=%{x}<br>condition=%{y}<extra></extra>",
         "legendgroup": "sub-848092_acq-headmotion1_T1w",
         "line": {
          "color": "rgba(255,255,255,0)"
         },
         "marker": {
          "color": "#B6E880"
         },
         "name": "sub-848092_acq-headmotion1_T1w",
         "offsetgroup": "sub-848092_acq-headmotion1_T1w",
         "orientation": "v",
         "pointpos": 0,
         "showlegend": true,
         "type": "box",
         "x": [
          3
         ],
         "x0": " ",
         "xaxis": "x",
         "y": [
          2
         ],
         "y0": " ",
         "yaxis": "y"
        },
        {
         "alignmentgroup": "True",
         "boxpoints": "all",
         "fillcolor": "rgba(255,255,255,0)",
         "hoveron": "points",
         "hovertemplate": "bids_name=sub-848092_acq-headmotion2_T1w<br>score=%{x}<br>condition=%{y}<extra></extra>",
         "legendgroup": "sub-848092_acq-headmotion2_T1w",
         "line": {
          "color": "rgba(255,255,255,0)"
         },
         "marker": {
          "color": "#FF97FF"
         },
         "name": "sub-848092_acq-headmotion2_T1w",
         "offsetgroup": "sub-848092_acq-headmotion2_T1w",
         "orientation": "v",
         "pointpos": 0,
         "showlegend": true,
         "type": "box",
         "x": [
          3
         ],
         "x0": " ",
         "xaxis": "x",
         "y": [
          3
         ],
         "y0": " ",
         "yaxis": "y"
        },
        {
         "alignmentgroup": "True",
         "boxpoints": "all",
         "fillcolor": "rgba(255,255,255,0)",
         "hoveron": "points",
         "hovertemplate": "bids_name=sub-862915_acq-standard_T1w<br>score=%{x}<br>condition=%{y}<extra></extra>",
         "legendgroup": "sub-862915_acq-standard_T1w",
         "line": {
          "color": "rgba(255,255,255,0)"
         },
         "marker": {
          "color": "#FECB52"
         },
         "name": "sub-862915_acq-standard_T1w",
         "offsetgroup": "sub-862915_acq-standard_T1w",
         "orientation": "v",
         "pointpos": 0,
         "showlegend": true,
         "type": "box",
         "x": [
          1
         ],
         "x0": " ",
         "xaxis": "x",
         "y": [
          1
         ],
         "y0": " ",
         "yaxis": "y"
        },
        {
         "alignmentgroup": "True",
         "boxpoints": "all",
         "fillcolor": "rgba(255,255,255,0)",
         "hoveron": "points",
         "hovertemplate": "bids_name=sub-862915_acq-headmotion1_T1w<br>score=%{x}<br>condition=%{y}<extra></extra>",
         "legendgroup": "sub-862915_acq-headmotion1_T1w",
         "line": {
          "color": "rgba(255,255,255,0)"
         },
         "marker": {
          "color": "#636efa"
         },
         "name": "sub-862915_acq-headmotion1_T1w",
         "offsetgroup": "sub-862915_acq-headmotion1_T1w",
         "orientation": "v",
         "pointpos": 0,
         "showlegend": true,
         "type": "box",
         "x": [
          3
         ],
         "x0": " ",
         "xaxis": "x",
         "y": [
          2
         ],
         "y0": " ",
         "yaxis": "y"
        },
        {
         "alignmentgroup": "True",
         "boxpoints": "all",
         "fillcolor": "rgba(255,255,255,0)",
         "hoveron": "points",
         "hovertemplate": "bids_name=sub-862915_acq-headmotion2_T1w<br>score=%{x}<br>condition=%{y}<extra></extra>",
         "legendgroup": "sub-862915_acq-headmotion2_T1w",
         "line": {
          "color": "rgba(255,255,255,0)"
         },
         "marker": {
          "color": "#EF553B"
         },
         "name": "sub-862915_acq-headmotion2_T1w",
         "offsetgroup": "sub-862915_acq-headmotion2_T1w",
         "orientation": "v",
         "pointpos": 0,
         "showlegend": true,
         "type": "box",
         "x": [
          3
         ],
         "x0": " ",
         "xaxis": "x",
         "y": [
          3
         ],
         "y0": " ",
         "yaxis": "y"
        },
        {
         "alignmentgroup": "True",
         "boxpoints": "all",
         "fillcolor": "rgba(255,255,255,0)",
         "hoveron": "points",
         "hovertemplate": "bids_name=sub-865293_acq-standard_T1w<br>score=%{x}<br>condition=%{y}<extra></extra>",
         "legendgroup": "sub-865293_acq-standard_T1w",
         "line": {
          "color": "rgba(255,255,255,0)"
         },
         "marker": {
          "color": "#00cc96"
         },
         "name": "sub-865293_acq-standard_T1w",
         "offsetgroup": "sub-865293_acq-standard_T1w",
         "orientation": "v",
         "pointpos": 0,
         "showlegend": true,
         "type": "box",
         "x": [
          1
         ],
         "x0": " ",
         "xaxis": "x",
         "y": [
          1
         ],
         "y0": " ",
         "yaxis": "y"
        },
        {
         "alignmentgroup": "True",
         "boxpoints": "all",
         "fillcolor": "rgba(255,255,255,0)",
         "hoveron": "points",
         "hovertemplate": "bids_name=sub-865293_acq-headmotion1_T1w<br>score=%{x}<br>condition=%{y}<extra></extra>",
         "legendgroup": "sub-865293_acq-headmotion1_T1w",
         "line": {
          "color": "rgba(255,255,255,0)"
         },
         "marker": {
          "color": "#ab63fa"
         },
         "name": "sub-865293_acq-headmotion1_T1w",
         "offsetgroup": "sub-865293_acq-headmotion1_T1w",
         "orientation": "v",
         "pointpos": 0,
         "showlegend": true,
         "type": "box",
         "x": [
          2
         ],
         "x0": " ",
         "xaxis": "x",
         "y": [
          2
         ],
         "y0": " ",
         "yaxis": "y"
        },
        {
         "alignmentgroup": "True",
         "boxpoints": "all",
         "fillcolor": "rgba(255,255,255,0)",
         "hoveron": "points",
         "hovertemplate": "bids_name=sub-865293_acq-headmotion2_T1w<br>score=%{x}<br>condition=%{y}<extra></extra>",
         "legendgroup": "sub-865293_acq-headmotion2_T1w",
         "line": {
          "color": "rgba(255,255,255,0)"
         },
         "marker": {
          "color": "#FFA15A"
         },
         "name": "sub-865293_acq-headmotion2_T1w",
         "offsetgroup": "sub-865293_acq-headmotion2_T1w",
         "orientation": "v",
         "pointpos": 0,
         "showlegend": true,
         "type": "box",
         "x": [
          2
         ],
         "x0": " ",
         "xaxis": "x",
         "y": [
          3
         ],
         "y0": " ",
         "yaxis": "y"
        },
        {
         "alignmentgroup": "True",
         "boxpoints": "all",
         "fillcolor": "rgba(255,255,255,0)",
         "hoveron": "points",
         "hovertemplate": "bids_name=sub-886764_acq-standard_T1w<br>score=%{x}<br>condition=%{y}<extra></extra>",
         "legendgroup": "sub-886764_acq-standard_T1w",
         "line": {
          "color": "rgba(255,255,255,0)"
         },
         "marker": {
          "color": "#19d3f3"
         },
         "name": "sub-886764_acq-standard_T1w",
         "offsetgroup": "sub-886764_acq-standard_T1w",
         "orientation": "v",
         "pointpos": 0,
         "showlegend": true,
         "type": "box",
         "x": [
          1
         ],
         "x0": " ",
         "xaxis": "x",
         "y": [
          1
         ],
         "y0": " ",
         "yaxis": "y"
        },
        {
         "alignmentgroup": "True",
         "boxpoints": "all",
         "fillcolor": "rgba(255,255,255,0)",
         "hoveron": "points",
         "hovertemplate": "bids_name=sub-886764_acq-headmotion1_T1w<br>score=%{x}<br>condition=%{y}<extra></extra>",
         "legendgroup": "sub-886764_acq-headmotion1_T1w",
         "line": {
          "color": "rgba(255,255,255,0)"
         },
         "marker": {
          "color": "#FF6692"
         },
         "name": "sub-886764_acq-headmotion1_T1w",
         "offsetgroup": "sub-886764_acq-headmotion1_T1w",
         "orientation": "v",
         "pointpos": 0,
         "showlegend": true,
         "type": "box",
         "x": [
          2
         ],
         "x0": " ",
         "xaxis": "x",
         "y": [
          2
         ],
         "y0": " ",
         "yaxis": "y"
        },
        {
         "alignmentgroup": "True",
         "boxpoints": "all",
         "fillcolor": "rgba(255,255,255,0)",
         "hoveron": "points",
         "hovertemplate": "bids_name=sub-886764_acq-headmotion2_T1w<br>score=%{x}<br>condition=%{y}<extra></extra>",
         "legendgroup": "sub-886764_acq-headmotion2_T1w",
         "line": {
          "color": "rgba(255,255,255,0)"
         },
         "marker": {
          "color": "#B6E880"
         },
         "name": "sub-886764_acq-headmotion2_T1w",
         "offsetgroup": "sub-886764_acq-headmotion2_T1w",
         "orientation": "v",
         "pointpos": 0,
         "showlegend": true,
         "type": "box",
         "x": [
          3
         ],
         "x0": " ",
         "xaxis": "x",
         "y": [
          3
         ],
         "y0": " ",
         "yaxis": "y"
        },
        {
         "alignmentgroup": "True",
         "boxpoints": "all",
         "fillcolor": "rgba(255,255,255,0)",
         "hoveron": "points",
         "hovertemplate": "bids_name=sub-890465_acq-standard_T1w<br>score=%{x}<br>condition=%{y}<extra></extra>",
         "legendgroup": "sub-890465_acq-standard_T1w",
         "line": {
          "color": "rgba(255,255,255,0)"
         },
         "marker": {
          "color": "#FF97FF"
         },
         "name": "sub-890465_acq-standard_T1w",
         "offsetgroup": "sub-890465_acq-standard_T1w",
         "orientation": "v",
         "pointpos": 0,
         "showlegend": true,
         "type": "box",
         "x": [
          1
         ],
         "x0": " ",
         "xaxis": "x",
         "y": [
          1
         ],
         "y0": " ",
         "yaxis": "y"
        },
        {
         "alignmentgroup": "True",
         "boxpoints": "all",
         "fillcolor": "rgba(255,255,255,0)",
         "hoveron": "points",
         "hovertemplate": "bids_name=sub-890465_acq-headmotion1_T1w<br>score=%{x}<br>condition=%{y}<extra></extra>",
         "legendgroup": "sub-890465_acq-headmotion1_T1w",
         "line": {
          "color": "rgba(255,255,255,0)"
         },
         "marker": {
          "color": "#FECB52"
         },
         "name": "sub-890465_acq-headmotion1_T1w",
         "offsetgroup": "sub-890465_acq-headmotion1_T1w",
         "orientation": "v",
         "pointpos": 0,
         "showlegend": true,
         "type": "box",
         "x": [
          3
         ],
         "x0": " ",
         "xaxis": "x",
         "y": [
          2
         ],
         "y0": " ",
         "yaxis": "y"
        },
        {
         "alignmentgroup": "True",
         "boxpoints": "all",
         "fillcolor": "rgba(255,255,255,0)",
         "hoveron": "points",
         "hovertemplate": "bids_name=sub-890465_acq-headmotion2_T1w<br>score=%{x}<br>condition=%{y}<extra></extra>",
         "legendgroup": "sub-890465_acq-headmotion2_T1w",
         "line": {
          "color": "rgba(255,255,255,0)"
         },
         "marker": {
          "color": "#636efa"
         },
         "name": "sub-890465_acq-headmotion2_T1w",
         "offsetgroup": "sub-890465_acq-headmotion2_T1w",
         "orientation": "v",
         "pointpos": 0,
         "showlegend": true,
         "type": "box",
         "x": [
          3
         ],
         "x0": " ",
         "xaxis": "x",
         "y": [
          3
         ],
         "y0": " ",
         "yaxis": "y"
        },
        {
         "alignmentgroup": "True",
         "boxpoints": "all",
         "fillcolor": "rgba(255,255,255,0)",
         "hoveron": "points",
         "hovertemplate": "bids_name=sub-914102_acq-standard_T1w<br>score=%{x}<br>condition=%{y}<extra></extra>",
         "legendgroup": "sub-914102_acq-standard_T1w",
         "line": {
          "color": "rgba(255,255,255,0)"
         },
         "marker": {
          "color": "#EF553B"
         },
         "name": "sub-914102_acq-standard_T1w",
         "offsetgroup": "sub-914102_acq-standard_T1w",
         "orientation": "v",
         "pointpos": 0,
         "showlegend": true,
         "type": "box",
         "x": [
          1
         ],
         "x0": " ",
         "xaxis": "x",
         "y": [
          1
         ],
         "y0": " ",
         "yaxis": "y"
        },
        {
         "alignmentgroup": "True",
         "boxpoints": "all",
         "fillcolor": "rgba(255,255,255,0)",
         "hoveron": "points",
         "hovertemplate": "bids_name=sub-914102_acq-headmotion1_T1w<br>score=%{x}<br>condition=%{y}<extra></extra>",
         "legendgroup": "sub-914102_acq-headmotion1_T1w",
         "line": {
          "color": "rgba(255,255,255,0)"
         },
         "marker": {
          "color": "#00cc96"
         },
         "name": "sub-914102_acq-headmotion1_T1w",
         "offsetgroup": "sub-914102_acq-headmotion1_T1w",
         "orientation": "v",
         "pointpos": 0,
         "showlegend": true,
         "type": "box",
         "x": [
          3
         ],
         "x0": " ",
         "xaxis": "x",
         "y": [
          2
         ],
         "y0": " ",
         "yaxis": "y"
        },
        {
         "alignmentgroup": "True",
         "boxpoints": "all",
         "fillcolor": "rgba(255,255,255,0)",
         "hoveron": "points",
         "hovertemplate": "bids_name=sub-914102_acq-headmotion2_T1w<br>score=%{x}<br>condition=%{y}<extra></extra>",
         "legendgroup": "sub-914102_acq-headmotion2_T1w",
         "line": {
          "color": "rgba(255,255,255,0)"
         },
         "marker": {
          "color": "#ab63fa"
         },
         "name": "sub-914102_acq-headmotion2_T1w",
         "offsetgroup": "sub-914102_acq-headmotion2_T1w",
         "orientation": "v",
         "pointpos": 0,
         "showlegend": true,
         "type": "box",
         "x": [
          3
         ],
         "x0": " ",
         "xaxis": "x",
         "y": [
          3
         ],
         "y0": " ",
         "yaxis": "y"
        },
        {
         "alignmentgroup": "True",
         "boxpoints": "all",
         "fillcolor": "rgba(255,255,255,0)",
         "hoveron": "points",
         "hovertemplate": "bids_name=sub-923660_acq-standard_T1w<br>score=%{x}<br>condition=%{y}<extra></extra>",
         "legendgroup": "sub-923660_acq-standard_T1w",
         "line": {
          "color": "rgba(255,255,255,0)"
         },
         "marker": {
          "color": "#FFA15A"
         },
         "name": "sub-923660_acq-standard_T1w",
         "offsetgroup": "sub-923660_acq-standard_T1w",
         "orientation": "v",
         "pointpos": 0,
         "showlegend": true,
         "type": "box",
         "x": [
          1
         ],
         "x0": " ",
         "xaxis": "x",
         "y": [
          1
         ],
         "y0": " ",
         "yaxis": "y"
        },
        {
         "alignmentgroup": "True",
         "boxpoints": "all",
         "fillcolor": "rgba(255,255,255,0)",
         "hoveron": "points",
         "hovertemplate": "bids_name=sub-923660_acq-headmotion1_T1w<br>score=%{x}<br>condition=%{y}<extra></extra>",
         "legendgroup": "sub-923660_acq-headmotion1_T1w",
         "line": {
          "color": "rgba(255,255,255,0)"
         },
         "marker": {
          "color": "#19d3f3"
         },
         "name": "sub-923660_acq-headmotion1_T1w",
         "offsetgroup": "sub-923660_acq-headmotion1_T1w",
         "orientation": "v",
         "pointpos": 0,
         "showlegend": true,
         "type": "box",
         "x": [
          3
         ],
         "x0": " ",
         "xaxis": "x",
         "y": [
          2
         ],
         "y0": " ",
         "yaxis": "y"
        },
        {
         "alignmentgroup": "True",
         "boxpoints": "all",
         "fillcolor": "rgba(255,255,255,0)",
         "hoveron": "points",
         "hovertemplate": "bids_name=sub-923660_acq-headmotion2_T1w<br>score=%{x}<br>condition=%{y}<extra></extra>",
         "legendgroup": "sub-923660_acq-headmotion2_T1w",
         "line": {
          "color": "rgba(255,255,255,0)"
         },
         "marker": {
          "color": "#FF6692"
         },
         "name": "sub-923660_acq-headmotion2_T1w",
         "offsetgroup": "sub-923660_acq-headmotion2_T1w",
         "orientation": "v",
         "pointpos": 0,
         "showlegend": true,
         "type": "box",
         "x": [
          3
         ],
         "x0": " ",
         "xaxis": "x",
         "y": [
          3
         ],
         "y0": " ",
         "yaxis": "y"
        },
        {
         "alignmentgroup": "True",
         "boxpoints": "all",
         "fillcolor": "rgba(255,255,255,0)",
         "hoveron": "points",
         "hovertemplate": "bids_name=sub-926536_acq-standard_T1w<br>score=%{x}<br>condition=%{y}<extra></extra>",
         "legendgroup": "sub-926536_acq-standard_T1w",
         "line": {
          "color": "rgba(255,255,255,0)"
         },
         "marker": {
          "color": "#B6E880"
         },
         "name": "sub-926536_acq-standard_T1w",
         "offsetgroup": "sub-926536_acq-standard_T1w",
         "orientation": "v",
         "pointpos": 0,
         "showlegend": true,
         "type": "box",
         "x": [
          1
         ],
         "x0": " ",
         "xaxis": "x",
         "y": [
          1
         ],
         "y0": " ",
         "yaxis": "y"
        },
        {
         "alignmentgroup": "True",
         "boxpoints": "all",
         "fillcolor": "rgba(255,255,255,0)",
         "hoveron": "points",
         "hovertemplate": "bids_name=sub-926536_acq-headmotion1_T1w<br>score=%{x}<br>condition=%{y}<extra></extra>",
         "legendgroup": "sub-926536_acq-headmotion1_T1w",
         "line": {
          "color": "rgba(255,255,255,0)"
         },
         "marker": {
          "color": "#FF97FF"
         },
         "name": "sub-926536_acq-headmotion1_T1w",
         "offsetgroup": "sub-926536_acq-headmotion1_T1w",
         "orientation": "v",
         "pointpos": 0,
         "showlegend": true,
         "type": "box",
         "x": [
          3
         ],
         "x0": " ",
         "xaxis": "x",
         "y": [
          2
         ],
         "y0": " ",
         "yaxis": "y"
        },
        {
         "alignmentgroup": "True",
         "boxpoints": "all",
         "fillcolor": "rgba(255,255,255,0)",
         "hoveron": "points",
         "hovertemplate": "bids_name=sub-926536_acq-headmotion2_T1w<br>score=%{x}<br>condition=%{y}<extra></extra>",
         "legendgroup": "sub-926536_acq-headmotion2_T1w",
         "line": {
          "color": "rgba(255,255,255,0)"
         },
         "marker": {
          "color": "#FECB52"
         },
         "name": "sub-926536_acq-headmotion2_T1w",
         "offsetgroup": "sub-926536_acq-headmotion2_T1w",
         "orientation": "v",
         "pointpos": 0,
         "showlegend": true,
         "type": "box",
         "x": [
          3
         ],
         "x0": " ",
         "xaxis": "x",
         "y": [
          3
         ],
         "y0": " ",
         "yaxis": "y"
        },
        {
         "alignmentgroup": "True",
         "boxpoints": "all",
         "fillcolor": "rgba(255,255,255,0)",
         "hoveron": "points",
         "hovertemplate": "bids_name=sub-927452_acq-standard_T1w<br>score=%{x}<br>condition=%{y}<extra></extra>",
         "legendgroup": "sub-927452_acq-standard_T1w",
         "line": {
          "color": "rgba(255,255,255,0)"
         },
         "marker": {
          "color": "#636efa"
         },
         "name": "sub-927452_acq-standard_T1w",
         "offsetgroup": "sub-927452_acq-standard_T1w",
         "orientation": "v",
         "pointpos": 0,
         "showlegend": true,
         "type": "box",
         "x": [
          2
         ],
         "x0": " ",
         "xaxis": "x",
         "y": [
          1
         ],
         "y0": " ",
         "yaxis": "y"
        },
        {
         "alignmentgroup": "True",
         "boxpoints": "all",
         "fillcolor": "rgba(255,255,255,0)",
         "hoveron": "points",
         "hovertemplate": "bids_name=sub-927452_acq-headmotion1_T1w<br>score=%{x}<br>condition=%{y}<extra></extra>",
         "legendgroup": "sub-927452_acq-headmotion1_T1w",
         "line": {
          "color": "rgba(255,255,255,0)"
         },
         "marker": {
          "color": "#EF553B"
         },
         "name": "sub-927452_acq-headmotion1_T1w",
         "offsetgroup": "sub-927452_acq-headmotion1_T1w",
         "orientation": "v",
         "pointpos": 0,
         "showlegend": true,
         "type": "box",
         "x": [
          2
         ],
         "x0": " ",
         "xaxis": "x",
         "y": [
          2
         ],
         "y0": " ",
         "yaxis": "y"
        },
        {
         "alignmentgroup": "True",
         "boxpoints": "all",
         "fillcolor": "rgba(255,255,255,0)",
         "hoveron": "points",
         "hovertemplate": "bids_name=sub-927452_acq-headmotion2_T1w<br>score=%{x}<br>condition=%{y}<extra></extra>",
         "legendgroup": "sub-927452_acq-headmotion2_T1w",
         "line": {
          "color": "rgba(255,255,255,0)"
         },
         "marker": {
          "color": "#00cc96"
         },
         "name": "sub-927452_acq-headmotion2_T1w",
         "offsetgroup": "sub-927452_acq-headmotion2_T1w",
         "orientation": "v",
         "pointpos": 0,
         "showlegend": true,
         "type": "box",
         "x": [
          2
         ],
         "x0": " ",
         "xaxis": "x",
         "y": [
          3
         ],
         "y0": " ",
         "yaxis": "y"
        },
        {
         "alignmentgroup": "True",
         "boxpoints": "all",
         "fillcolor": "rgba(255,255,255,0)",
         "hoveron": "points",
         "hovertemplate": "bids_name=sub-938344_acq-standard_T1w<br>score=%{x}<br>condition=%{y}<extra></extra>",
         "legendgroup": "sub-938344_acq-standard_T1w",
         "line": {
          "color": "rgba(255,255,255,0)"
         },
         "marker": {
          "color": "#ab63fa"
         },
         "name": "sub-938344_acq-standard_T1w",
         "offsetgroup": "sub-938344_acq-standard_T1w",
         "orientation": "v",
         "pointpos": 0,
         "showlegend": true,
         "type": "box",
         "x": [
          1
         ],
         "x0": " ",
         "xaxis": "x",
         "y": [
          1
         ],
         "y0": " ",
         "yaxis": "y"
        },
        {
         "alignmentgroup": "True",
         "boxpoints": "all",
         "fillcolor": "rgba(255,255,255,0)",
         "hoveron": "points",
         "hovertemplate": "bids_name=sub-938344_acq-headmotion1_T1w<br>score=%{x}<br>condition=%{y}<extra></extra>",
         "legendgroup": "sub-938344_acq-headmotion1_T1w",
         "line": {
          "color": "rgba(255,255,255,0)"
         },
         "marker": {
          "color": "#FFA15A"
         },
         "name": "sub-938344_acq-headmotion1_T1w",
         "offsetgroup": "sub-938344_acq-headmotion1_T1w",
         "orientation": "v",
         "pointpos": 0,
         "showlegend": true,
         "type": "box",
         "x": [
          2
         ],
         "x0": " ",
         "xaxis": "x",
         "y": [
          2
         ],
         "y0": " ",
         "yaxis": "y"
        },
        {
         "alignmentgroup": "True",
         "boxpoints": "all",
         "fillcolor": "rgba(255,255,255,0)",
         "hoveron": "points",
         "hovertemplate": "bids_name=sub-938344_acq-headmotion2_T1w<br>score=%{x}<br>condition=%{y}<extra></extra>",
         "legendgroup": "sub-938344_acq-headmotion2_T1w",
         "line": {
          "color": "rgba(255,255,255,0)"
         },
         "marker": {
          "color": "#19d3f3"
         },
         "name": "sub-938344_acq-headmotion2_T1w",
         "offsetgroup": "sub-938344_acq-headmotion2_T1w",
         "orientation": "v",
         "pointpos": 0,
         "showlegend": true,
         "type": "box",
         "x": [
          3
         ],
         "x0": " ",
         "xaxis": "x",
         "y": [
          3
         ],
         "y0": " ",
         "yaxis": "y"
        },
        {
         "alignmentgroup": "True",
         "boxpoints": "all",
         "fillcolor": "rgba(255,255,255,0)",
         "hoveron": "points",
         "hovertemplate": "bids_name=sub-945122_acq-standard_T1w<br>score=%{x}<br>condition=%{y}<extra></extra>",
         "legendgroup": "sub-945122_acq-standard_T1w",
         "line": {
          "color": "rgba(255,255,255,0)"
         },
         "marker": {
          "color": "#FF6692"
         },
         "name": "sub-945122_acq-standard_T1w",
         "offsetgroup": "sub-945122_acq-standard_T1w",
         "orientation": "v",
         "pointpos": 0,
         "showlegend": true,
         "type": "box",
         "x": [
          1
         ],
         "x0": " ",
         "xaxis": "x",
         "y": [
          1
         ],
         "y0": " ",
         "yaxis": "y"
        },
        {
         "alignmentgroup": "True",
         "boxpoints": "all",
         "fillcolor": "rgba(255,255,255,0)",
         "hoveron": "points",
         "hovertemplate": "bids_name=sub-945122_acq-headmotion1_T1w<br>score=%{x}<br>condition=%{y}<extra></extra>",
         "legendgroup": "sub-945122_acq-headmotion1_T1w",
         "line": {
          "color": "rgba(255,255,255,0)"
         },
         "marker": {
          "color": "#B6E880"
         },
         "name": "sub-945122_acq-headmotion1_T1w",
         "offsetgroup": "sub-945122_acq-headmotion1_T1w",
         "orientation": "v",
         "pointpos": 0,
         "showlegend": true,
         "type": "box",
         "x": [
          2
         ],
         "x0": " ",
         "xaxis": "x",
         "y": [
          2
         ],
         "y0": " ",
         "yaxis": "y"
        },
        {
         "alignmentgroup": "True",
         "boxpoints": "all",
         "fillcolor": "rgba(255,255,255,0)",
         "hoveron": "points",
         "hovertemplate": "bids_name=sub-945122_acq-headmotion2_T1w<br>score=%{x}<br>condition=%{y}<extra></extra>",
         "legendgroup": "sub-945122_acq-headmotion2_T1w",
         "line": {
          "color": "rgba(255,255,255,0)"
         },
         "marker": {
          "color": "#FF97FF"
         },
         "name": "sub-945122_acq-headmotion2_T1w",
         "offsetgroup": "sub-945122_acq-headmotion2_T1w",
         "orientation": "v",
         "pointpos": 0,
         "showlegend": true,
         "type": "box",
         "x": [
          3
         ],
         "x0": " ",
         "xaxis": "x",
         "y": [
          3
         ],
         "y0": " ",
         "yaxis": "y"
        },
        {
         "alignmentgroup": "True",
         "boxpoints": "all",
         "fillcolor": "rgba(255,255,255,0)",
         "hoveron": "points",
         "hovertemplate": "bids_name=sub-945652_acq-standard_T1w<br>score=%{x}<br>condition=%{y}<extra></extra>",
         "legendgroup": "sub-945652_acq-standard_T1w",
         "line": {
          "color": "rgba(255,255,255,0)"
         },
         "marker": {
          "color": "#FECB52"
         },
         "name": "sub-945652_acq-standard_T1w",
         "offsetgroup": "sub-945652_acq-standard_T1w",
         "orientation": "v",
         "pointpos": 0,
         "showlegend": true,
         "type": "box",
         "x": [
          1
         ],
         "x0": " ",
         "xaxis": "x",
         "y": [
          1
         ],
         "y0": " ",
         "yaxis": "y"
        },
        {
         "alignmentgroup": "True",
         "boxpoints": "all",
         "fillcolor": "rgba(255,255,255,0)",
         "hoveron": "points",
         "hovertemplate": "bids_name=sub-945652_acq-headmotion1_T1w<br>score=%{x}<br>condition=%{y}<extra></extra>",
         "legendgroup": "sub-945652_acq-headmotion1_T1w",
         "line": {
          "color": "rgba(255,255,255,0)"
         },
         "marker": {
          "color": "#636efa"
         },
         "name": "sub-945652_acq-headmotion1_T1w",
         "offsetgroup": "sub-945652_acq-headmotion1_T1w",
         "orientation": "v",
         "pointpos": 0,
         "showlegend": true,
         "type": "box",
         "x": [
          3
         ],
         "x0": " ",
         "xaxis": "x",
         "y": [
          2
         ],
         "y0": " ",
         "yaxis": "y"
        },
        {
         "alignmentgroup": "True",
         "boxpoints": "all",
         "fillcolor": "rgba(255,255,255,0)",
         "hoveron": "points",
         "hovertemplate": "bids_name=sub-945652_acq-headmotion2_T1w<br>score=%{x}<br>condition=%{y}<extra></extra>",
         "legendgroup": "sub-945652_acq-headmotion2_T1w",
         "line": {
          "color": "rgba(255,255,255,0)"
         },
         "marker": {
          "color": "#EF553B"
         },
         "name": "sub-945652_acq-headmotion2_T1w",
         "offsetgroup": "sub-945652_acq-headmotion2_T1w",
         "orientation": "v",
         "pointpos": 0,
         "showlegend": true,
         "type": "box",
         "x": [
          3
         ],
         "x0": " ",
         "xaxis": "x",
         "y": [
          3
         ],
         "y0": " ",
         "yaxis": "y"
        },
        {
         "alignmentgroup": "True",
         "boxpoints": "all",
         "fillcolor": "rgba(255,255,255,0)",
         "hoveron": "points",
         "hovertemplate": "bids_name=sub-946200_acq-standard_T1w<br>score=%{x}<br>condition=%{y}<extra></extra>",
         "legendgroup": "sub-946200_acq-standard_T1w",
         "line": {
          "color": "rgba(255,255,255,0)"
         },
         "marker": {
          "color": "#00cc96"
         },
         "name": "sub-946200_acq-standard_T1w",
         "offsetgroup": "sub-946200_acq-standard_T1w",
         "orientation": "v",
         "pointpos": 0,
         "showlegend": true,
         "type": "box",
         "x": [
          1
         ],
         "x0": " ",
         "xaxis": "x",
         "y": [
          1
         ],
         "y0": " ",
         "yaxis": "y"
        },
        {
         "alignmentgroup": "True",
         "boxpoints": "all",
         "fillcolor": "rgba(255,255,255,0)",
         "hoveron": "points",
         "hovertemplate": "bids_name=sub-946200_acq-headmotion1_T1w<br>score=%{x}<br>condition=%{y}<extra></extra>",
         "legendgroup": "sub-946200_acq-headmotion1_T1w",
         "line": {
          "color": "rgba(255,255,255,0)"
         },
         "marker": {
          "color": "#ab63fa"
         },
         "name": "sub-946200_acq-headmotion1_T1w",
         "offsetgroup": "sub-946200_acq-headmotion1_T1w",
         "orientation": "v",
         "pointpos": 0,
         "showlegend": true,
         "type": "box",
         "x": [
          3
         ],
         "x0": " ",
         "xaxis": "x",
         "y": [
          2
         ],
         "y0": " ",
         "yaxis": "y"
        },
        {
         "alignmentgroup": "True",
         "boxpoints": "all",
         "fillcolor": "rgba(255,255,255,0)",
         "hoveron": "points",
         "hovertemplate": "bids_name=sub-946200_acq-headmotion2_T1w<br>score=%{x}<br>condition=%{y}<extra></extra>",
         "legendgroup": "sub-946200_acq-headmotion2_T1w",
         "line": {
          "color": "rgba(255,255,255,0)"
         },
         "marker": {
          "color": "#FFA15A"
         },
         "name": "sub-946200_acq-headmotion2_T1w",
         "offsetgroup": "sub-946200_acq-headmotion2_T1w",
         "orientation": "v",
         "pointpos": 0,
         "showlegend": true,
         "type": "box",
         "x": [
          3
         ],
         "x0": " ",
         "xaxis": "x",
         "y": [
          3
         ],
         "y0": " ",
         "yaxis": "y"
        },
        {
         "alignmentgroup": "True",
         "boxpoints": "all",
         "fillcolor": "rgba(255,255,255,0)",
         "hoveron": "points",
         "hovertemplate": "bids_name=sub-966788_acq-standard_T1w<br>score=%{x}<br>condition=%{y}<extra></extra>",
         "legendgroup": "sub-966788_acq-standard_T1w",
         "line": {
          "color": "rgba(255,255,255,0)"
         },
         "marker": {
          "color": "#19d3f3"
         },
         "name": "sub-966788_acq-standard_T1w",
         "offsetgroup": "sub-966788_acq-standard_T1w",
         "orientation": "v",
         "pointpos": 0,
         "showlegend": true,
         "type": "box",
         "x": [
          1
         ],
         "x0": " ",
         "xaxis": "x",
         "y": [
          1
         ],
         "y0": " ",
         "yaxis": "y"
        },
        {
         "alignmentgroup": "True",
         "boxpoints": "all",
         "fillcolor": "rgba(255,255,255,0)",
         "hoveron": "points",
         "hovertemplate": "bids_name=sub-966788_acq-headmotion1_T1w<br>score=%{x}<br>condition=%{y}<extra></extra>",
         "legendgroup": "sub-966788_acq-headmotion1_T1w",
         "line": {
          "color": "rgba(255,255,255,0)"
         },
         "marker": {
          "color": "#FF6692"
         },
         "name": "sub-966788_acq-headmotion1_T1w",
         "offsetgroup": "sub-966788_acq-headmotion1_T1w",
         "orientation": "v",
         "pointpos": 0,
         "showlegend": true,
         "type": "box",
         "x": [
          3
         ],
         "x0": " ",
         "xaxis": "x",
         "y": [
          2
         ],
         "y0": " ",
         "yaxis": "y"
        },
        {
         "alignmentgroup": "True",
         "boxpoints": "all",
         "fillcolor": "rgba(255,255,255,0)",
         "hoveron": "points",
         "hovertemplate": "bids_name=sub-966788_acq-headmotion2_T1w<br>score=%{x}<br>condition=%{y}<extra></extra>",
         "legendgroup": "sub-966788_acq-headmotion2_T1w",
         "line": {
          "color": "rgba(255,255,255,0)"
         },
         "marker": {
          "color": "#B6E880"
         },
         "name": "sub-966788_acq-headmotion2_T1w",
         "offsetgroup": "sub-966788_acq-headmotion2_T1w",
         "orientation": "v",
         "pointpos": 0,
         "showlegend": true,
         "type": "box",
         "x": [
          3
         ],
         "x0": " ",
         "xaxis": "x",
         "y": [
          3
         ],
         "y0": " ",
         "yaxis": "y"
        },
        {
         "alignmentgroup": "True",
         "boxpoints": "all",
         "fillcolor": "rgba(255,255,255,0)",
         "hoveron": "points",
         "hovertemplate": "bids_name=sub-986786_acq-standard_T1w<br>score=%{x}<br>condition=%{y}<extra></extra>",
         "legendgroup": "sub-986786_acq-standard_T1w",
         "line": {
          "color": "rgba(255,255,255,0)"
         },
         "marker": {
          "color": "#FF97FF"
         },
         "name": "sub-986786_acq-standard_T1w",
         "offsetgroup": "sub-986786_acq-standard_T1w",
         "orientation": "v",
         "pointpos": 0,
         "showlegend": true,
         "type": "box",
         "x": [
          2
         ],
         "x0": " ",
         "xaxis": "x",
         "y": [
          1
         ],
         "y0": " ",
         "yaxis": "y"
        },
        {
         "alignmentgroup": "True",
         "boxpoints": "all",
         "fillcolor": "rgba(255,255,255,0)",
         "hoveron": "points",
         "hovertemplate": "bids_name=sub-986786_acq-headmotion1_T1w<br>score=%{x}<br>condition=%{y}<extra></extra>",
         "legendgroup": "sub-986786_acq-headmotion1_T1w",
         "line": {
          "color": "rgba(255,255,255,0)"
         },
         "marker": {
          "color": "#FECB52"
         },
         "name": "sub-986786_acq-headmotion1_T1w",
         "offsetgroup": "sub-986786_acq-headmotion1_T1w",
         "orientation": "v",
         "pointpos": 0,
         "showlegend": true,
         "type": "box",
         "x": [
          2
         ],
         "x0": " ",
         "xaxis": "x",
         "y": [
          2
         ],
         "y0": " ",
         "yaxis": "y"
        },
        {
         "alignmentgroup": "True",
         "boxpoints": "all",
         "fillcolor": "rgba(255,255,255,0)",
         "hoveron": "points",
         "hovertemplate": "bids_name=sub-986786_acq-headmotion2_T1w<br>score=%{x}<br>condition=%{y}<extra></extra>",
         "legendgroup": "sub-986786_acq-headmotion2_T1w",
         "line": {
          "color": "rgba(255,255,255,0)"
         },
         "marker": {
          "color": "#636efa"
         },
         "name": "sub-986786_acq-headmotion2_T1w",
         "offsetgroup": "sub-986786_acq-headmotion2_T1w",
         "orientation": "v",
         "pointpos": 0,
         "showlegend": true,
         "type": "box",
         "x": [
          2
         ],
         "x0": " ",
         "xaxis": "x",
         "y": [
          3
         ],
         "y0": " ",
         "yaxis": "y"
        },
        {
         "alignmentgroup": "True",
         "boxpoints": "all",
         "fillcolor": "rgba(255,255,255,0)",
         "hoveron": "points",
         "hovertemplate": "bids_name=sub-987325_acq-standard_T1w<br>score=%{x}<br>condition=%{y}<extra></extra>",
         "legendgroup": "sub-987325_acq-standard_T1w",
         "line": {
          "color": "rgba(255,255,255,0)"
         },
         "marker": {
          "color": "#EF553B"
         },
         "name": "sub-987325_acq-standard_T1w",
         "offsetgroup": "sub-987325_acq-standard_T1w",
         "orientation": "v",
         "pointpos": 0,
         "showlegend": true,
         "type": "box",
         "x": [
          1
         ],
         "x0": " ",
         "xaxis": "x",
         "y": [
          1
         ],
         "y0": " ",
         "yaxis": "y"
        },
        {
         "alignmentgroup": "True",
         "boxpoints": "all",
         "fillcolor": "rgba(255,255,255,0)",
         "hoveron": "points",
         "hovertemplate": "bids_name=sub-987325_acq-headmotion1_T1w<br>score=%{x}<br>condition=%{y}<extra></extra>",
         "legendgroup": "sub-987325_acq-headmotion1_T1w",
         "line": {
          "color": "rgba(255,255,255,0)"
         },
         "marker": {
          "color": "#00cc96"
         },
         "name": "sub-987325_acq-headmotion1_T1w",
         "offsetgroup": "sub-987325_acq-headmotion1_T1w",
         "orientation": "v",
         "pointpos": 0,
         "showlegend": true,
         "type": "box",
         "x": [
          3
         ],
         "x0": " ",
         "xaxis": "x",
         "y": [
          2
         ],
         "y0": " ",
         "yaxis": "y"
        },
        {
         "alignmentgroup": "True",
         "boxpoints": "all",
         "fillcolor": "rgba(255,255,255,0)",
         "hoveron": "points",
         "hovertemplate": "bids_name=sub-987325_acq-headmotion2_T1w<br>score=%{x}<br>condition=%{y}<extra></extra>",
         "legendgroup": "sub-987325_acq-headmotion2_T1w",
         "line": {
          "color": "rgba(255,255,255,0)"
         },
         "marker": {
          "color": "#ab63fa"
         },
         "name": "sub-987325_acq-headmotion2_T1w",
         "offsetgroup": "sub-987325_acq-headmotion2_T1w",
         "orientation": "v",
         "pointpos": 0,
         "showlegend": true,
         "type": "box",
         "x": [
          3
         ],
         "x0": " ",
         "xaxis": "x",
         "y": [
          3
         ],
         "y0": " ",
         "yaxis": "y"
        },
        {
         "alignmentgroup": "True",
         "boxpoints": "all",
         "fillcolor": "rgba(255,255,255,0)",
         "hoveron": "points",
         "hovertemplate": "bids_name=sub-988484_acq-standard_T1w<br>score=%{x}<br>condition=%{y}<extra></extra>",
         "legendgroup": "sub-988484_acq-standard_T1w",
         "line": {
          "color": "rgba(255,255,255,0)"
         },
         "marker": {
          "color": "#FFA15A"
         },
         "name": "sub-988484_acq-standard_T1w",
         "offsetgroup": "sub-988484_acq-standard_T1w",
         "orientation": "v",
         "pointpos": 0,
         "showlegend": true,
         "type": "box",
         "x": [
          1
         ],
         "x0": " ",
         "xaxis": "x",
         "y": [
          1
         ],
         "y0": " ",
         "yaxis": "y"
        },
        {
         "alignmentgroup": "True",
         "boxpoints": "all",
         "fillcolor": "rgba(255,255,255,0)",
         "hoveron": "points",
         "hovertemplate": "bids_name=sub-988484_acq-headmotion1_T1w<br>score=%{x}<br>condition=%{y}<extra></extra>",
         "legendgroup": "sub-988484_acq-headmotion1_T1w",
         "line": {
          "color": "rgba(255,255,255,0)"
         },
         "marker": {
          "color": "#19d3f3"
         },
         "name": "sub-988484_acq-headmotion1_T1w",
         "offsetgroup": "sub-988484_acq-headmotion1_T1w",
         "orientation": "v",
         "pointpos": 0,
         "showlegend": true,
         "type": "box",
         "x": [
          2
         ],
         "x0": " ",
         "xaxis": "x",
         "y": [
          2
         ],
         "y0": " ",
         "yaxis": "y"
        },
        {
         "alignmentgroup": "True",
         "boxpoints": "all",
         "fillcolor": "rgba(255,255,255,0)",
         "hoveron": "points",
         "hovertemplate": "bids_name=sub-988484_acq-headmotion2_T1w<br>score=%{x}<br>condition=%{y}<extra></extra>",
         "legendgroup": "sub-988484_acq-headmotion2_T1w",
         "line": {
          "color": "rgba(255,255,255,0)"
         },
         "marker": {
          "color": "#FF6692"
         },
         "name": "sub-988484_acq-headmotion2_T1w",
         "offsetgroup": "sub-988484_acq-headmotion2_T1w",
         "orientation": "v",
         "pointpos": 0,
         "showlegend": true,
         "type": "box",
         "x": [
          3
         ],
         "x0": " ",
         "xaxis": "x",
         "y": [
          3
         ],
         "y0": " ",
         "yaxis": "y"
        },
        {
         "alignmentgroup": "True",
         "boxpoints": "all",
         "fillcolor": "rgba(255,255,255,0)",
         "hoveron": "points",
         "hovertemplate": "bids_name=sub-988653_acq-standard_T1w<br>score=%{x}<br>condition=%{y}<extra></extra>",
         "legendgroup": "sub-988653_acq-standard_T1w",
         "line": {
          "color": "rgba(255,255,255,0)"
         },
         "marker": {
          "color": "#B6E880"
         },
         "name": "sub-988653_acq-standard_T1w",
         "offsetgroup": "sub-988653_acq-standard_T1w",
         "orientation": "v",
         "pointpos": 0,
         "showlegend": true,
         "type": "box",
         "x": [
          1
         ],
         "x0": " ",
         "xaxis": "x",
         "y": [
          1
         ],
         "y0": " ",
         "yaxis": "y"
        },
        {
         "alignmentgroup": "True",
         "boxpoints": "all",
         "fillcolor": "rgba(255,255,255,0)",
         "hoveron": "points",
         "hovertemplate": "bids_name=sub-988653_acq-headmotion1_T1w<br>score=%{x}<br>condition=%{y}<extra></extra>",
         "legendgroup": "sub-988653_acq-headmotion1_T1w",
         "line": {
          "color": "rgba(255,255,255,0)"
         },
         "marker": {
          "color": "#FF97FF"
         },
         "name": "sub-988653_acq-headmotion1_T1w",
         "offsetgroup": "sub-988653_acq-headmotion1_T1w",
         "orientation": "v",
         "pointpos": 0,
         "showlegend": true,
         "type": "box",
         "x": [
          2
         ],
         "x0": " ",
         "xaxis": "x",
         "y": [
          2
         ],
         "y0": " ",
         "yaxis": "y"
        },
        {
         "alignmentgroup": "True",
         "boxpoints": "all",
         "fillcolor": "rgba(255,255,255,0)",
         "hoveron": "points",
         "hovertemplate": "bids_name=sub-988653_acq-headmotion2_T1w<br>score=%{x}<br>condition=%{y}<extra></extra>",
         "legendgroup": "sub-988653_acq-headmotion2_T1w",
         "line": {
          "color": "rgba(255,255,255,0)"
         },
         "marker": {
          "color": "#FECB52"
         },
         "name": "sub-988653_acq-headmotion2_T1w",
         "offsetgroup": "sub-988653_acq-headmotion2_T1w",
         "orientation": "v",
         "pointpos": 0,
         "showlegend": true,
         "type": "box",
         "x": [
          2
         ],
         "x0": " ",
         "xaxis": "x",
         "y": [
          3
         ],
         "y0": " ",
         "yaxis": "y"
        },
        {
         "alignmentgroup": "True",
         "boxpoints": "all",
         "fillcolor": "rgba(255,255,255,0)",
         "hoveron": "points",
         "hovertemplate": "bids_name=sub-992121_acq-standard_T1w<br>score=%{x}<br>condition=%{y}<extra></extra>",
         "legendgroup": "sub-992121_acq-standard_T1w",
         "line": {
          "color": "rgba(255,255,255,0)"
         },
         "marker": {
          "color": "#636efa"
         },
         "name": "sub-992121_acq-standard_T1w",
         "offsetgroup": "sub-992121_acq-standard_T1w",
         "orientation": "v",
         "pointpos": 0,
         "showlegend": true,
         "type": "box",
         "x": [
          1
         ],
         "x0": " ",
         "xaxis": "x",
         "y": [
          1
         ],
         "y0": " ",
         "yaxis": "y"
        },
        {
         "alignmentgroup": "True",
         "boxpoints": "all",
         "fillcolor": "rgba(255,255,255,0)",
         "hoveron": "points",
         "hovertemplate": "bids_name=sub-992121_acq-headmotion1_T1w<br>score=%{x}<br>condition=%{y}<extra></extra>",
         "legendgroup": "sub-992121_acq-headmotion1_T1w",
         "line": {
          "color": "rgba(255,255,255,0)"
         },
         "marker": {
          "color": "#EF553B"
         },
         "name": "sub-992121_acq-headmotion1_T1w",
         "offsetgroup": "sub-992121_acq-headmotion1_T1w",
         "orientation": "v",
         "pointpos": 0,
         "showlegend": true,
         "type": "box",
         "x": [
          2
         ],
         "x0": " ",
         "xaxis": "x",
         "y": [
          2
         ],
         "y0": " ",
         "yaxis": "y"
        },
        {
         "alignmentgroup": "True",
         "boxpoints": "all",
         "fillcolor": "rgba(255,255,255,0)",
         "hoveron": "points",
         "hovertemplate": "bids_name=sub-992121_acq-headmotion2_T1w<br>score=%{x}<br>condition=%{y}<extra></extra>",
         "legendgroup": "sub-992121_acq-headmotion2_T1w",
         "line": {
          "color": "rgba(255,255,255,0)"
         },
         "marker": {
          "color": "#00cc96"
         },
         "name": "sub-992121_acq-headmotion2_T1w",
         "offsetgroup": "sub-992121_acq-headmotion2_T1w",
         "orientation": "v",
         "pointpos": 0,
         "showlegend": true,
         "type": "box",
         "x": [
          2
         ],
         "x0": " ",
         "xaxis": "x",
         "y": [
          3
         ],
         "y0": " ",
         "yaxis": "y"
        },
        {
         "alignmentgroup": "True",
         "boxpoints": "all",
         "fillcolor": "rgba(255,255,255,0)",
         "hoveron": "points",
         "hovertemplate": "bids_name=sub-992238_acq-standard_T1w<br>score=%{x}<br>condition=%{y}<extra></extra>",
         "legendgroup": "sub-992238_acq-standard_T1w",
         "line": {
          "color": "rgba(255,255,255,0)"
         },
         "marker": {
          "color": "#ab63fa"
         },
         "name": "sub-992238_acq-standard_T1w",
         "offsetgroup": "sub-992238_acq-standard_T1w",
         "orientation": "v",
         "pointpos": 0,
         "showlegend": true,
         "type": "box",
         "x": [
          1
         ],
         "x0": " ",
         "xaxis": "x",
         "y": [
          1
         ],
         "y0": " ",
         "yaxis": "y"
        },
        {
         "alignmentgroup": "True",
         "boxpoints": "all",
         "fillcolor": "rgba(255,255,255,0)",
         "hoveron": "points",
         "hovertemplate": "bids_name=sub-992238_acq-headmotion1_T1w<br>score=%{x}<br>condition=%{y}<extra></extra>",
         "legendgroup": "sub-992238_acq-headmotion1_T1w",
         "line": {
          "color": "rgba(255,255,255,0)"
         },
         "marker": {
          "color": "#FFA15A"
         },
         "name": "sub-992238_acq-headmotion1_T1w",
         "offsetgroup": "sub-992238_acq-headmotion1_T1w",
         "orientation": "v",
         "pointpos": 0,
         "showlegend": true,
         "type": "box",
         "x": [
          3
         ],
         "x0": " ",
         "xaxis": "x",
         "y": [
          2
         ],
         "y0": " ",
         "yaxis": "y"
        },
        {
         "alignmentgroup": "True",
         "boxpoints": "all",
         "fillcolor": "rgba(255,255,255,0)",
         "hoveron": "points",
         "hovertemplate": "bids_name=sub-992238_acq-headmotion2_T1w<br>score=%{x}<br>condition=%{y}<extra></extra>",
         "legendgroup": "sub-992238_acq-headmotion2_T1w",
         "line": {
          "color": "rgba(255,255,255,0)"
         },
         "marker": {
          "color": "#19d3f3"
         },
         "name": "sub-992238_acq-headmotion2_T1w",
         "offsetgroup": "sub-992238_acq-headmotion2_T1w",
         "orientation": "v",
         "pointpos": 0,
         "showlegend": true,
         "type": "box",
         "x": [
          3
         ],
         "x0": " ",
         "xaxis": "x",
         "y": [
          3
         ],
         "y0": " ",
         "yaxis": "y"
        }
       ],
       "layout": {
        "boxmode": "group",
        "legend": {
         "title": {
          "text": "bids_name"
         },
         "tracegroupgap": 0
        },
        "margin": {
         "t": 60
        },
        "template": {
         "data": {
          "bar": [
           {
            "error_x": {
             "color": "#2a3f5f"
            },
            "error_y": {
             "color": "#2a3f5f"
            },
            "marker": {
             "line": {
              "color": "#E5ECF6",
              "width": 0.5
             },
             "pattern": {
              "fillmode": "overlay",
              "size": 10,
              "solidity": 0.2
             }
            },
            "type": "bar"
           }
          ],
          "barpolar": [
           {
            "marker": {
             "line": {
              "color": "#E5ECF6",
              "width": 0.5
             },
             "pattern": {
              "fillmode": "overlay",
              "size": 10,
              "solidity": 0.2
             }
            },
            "type": "barpolar"
           }
          ],
          "carpet": [
           {
            "aaxis": {
             "endlinecolor": "#2a3f5f",
             "gridcolor": "white",
             "linecolor": "white",
             "minorgridcolor": "white",
             "startlinecolor": "#2a3f5f"
            },
            "baxis": {
             "endlinecolor": "#2a3f5f",
             "gridcolor": "white",
             "linecolor": "white",
             "minorgridcolor": "white",
             "startlinecolor": "#2a3f5f"
            },
            "type": "carpet"
           }
          ],
          "choropleth": [
           {
            "colorbar": {
             "outlinewidth": 0,
             "ticks": ""
            },
            "type": "choropleth"
           }
          ],
          "contour": [
           {
            "colorbar": {
             "outlinewidth": 0,
             "ticks": ""
            },
            "colorscale": [
             [
              0,
              "#0d0887"
             ],
             [
              0.1111111111111111,
              "#46039f"
             ],
             [
              0.2222222222222222,
              "#7201a8"
             ],
             [
              0.3333333333333333,
              "#9c179e"
             ],
             [
              0.4444444444444444,
              "#bd3786"
             ],
             [
              0.5555555555555556,
              "#d8576b"
             ],
             [
              0.6666666666666666,
              "#ed7953"
             ],
             [
              0.7777777777777778,
              "#fb9f3a"
             ],
             [
              0.8888888888888888,
              "#fdca26"
             ],
             [
              1,
              "#f0f921"
             ]
            ],
            "type": "contour"
           }
          ],
          "contourcarpet": [
           {
            "colorbar": {
             "outlinewidth": 0,
             "ticks": ""
            },
            "type": "contourcarpet"
           }
          ],
          "heatmap": [
           {
            "colorbar": {
             "outlinewidth": 0,
             "ticks": ""
            },
            "colorscale": [
             [
              0,
              "#0d0887"
             ],
             [
              0.1111111111111111,
              "#46039f"
             ],
             [
              0.2222222222222222,
              "#7201a8"
             ],
             [
              0.3333333333333333,
              "#9c179e"
             ],
             [
              0.4444444444444444,
              "#bd3786"
             ],
             [
              0.5555555555555556,
              "#d8576b"
             ],
             [
              0.6666666666666666,
              "#ed7953"
             ],
             [
              0.7777777777777778,
              "#fb9f3a"
             ],
             [
              0.8888888888888888,
              "#fdca26"
             ],
             [
              1,
              "#f0f921"
             ]
            ],
            "type": "heatmap"
           }
          ],
          "heatmapgl": [
           {
            "colorbar": {
             "outlinewidth": 0,
             "ticks": ""
            },
            "colorscale": [
             [
              0,
              "#0d0887"
             ],
             [
              0.1111111111111111,
              "#46039f"
             ],
             [
              0.2222222222222222,
              "#7201a8"
             ],
             [
              0.3333333333333333,
              "#9c179e"
             ],
             [
              0.4444444444444444,
              "#bd3786"
             ],
             [
              0.5555555555555556,
              "#d8576b"
             ],
             [
              0.6666666666666666,
              "#ed7953"
             ],
             [
              0.7777777777777778,
              "#fb9f3a"
             ],
             [
              0.8888888888888888,
              "#fdca26"
             ],
             [
              1,
              "#f0f921"
             ]
            ],
            "type": "heatmapgl"
           }
          ],
          "histogram": [
           {
            "marker": {
             "pattern": {
              "fillmode": "overlay",
              "size": 10,
              "solidity": 0.2
             }
            },
            "type": "histogram"
           }
          ],
          "histogram2d": [
           {
            "colorbar": {
             "outlinewidth": 0,
             "ticks": ""
            },
            "colorscale": [
             [
              0,
              "#0d0887"
             ],
             [
              0.1111111111111111,
              "#46039f"
             ],
             [
              0.2222222222222222,
              "#7201a8"
             ],
             [
              0.3333333333333333,
              "#9c179e"
             ],
             [
              0.4444444444444444,
              "#bd3786"
             ],
             [
              0.5555555555555556,
              "#d8576b"
             ],
             [
              0.6666666666666666,
              "#ed7953"
             ],
             [
              0.7777777777777778,
              "#fb9f3a"
             ],
             [
              0.8888888888888888,
              "#fdca26"
             ],
             [
              1,
              "#f0f921"
             ]
            ],
            "type": "histogram2d"
           }
          ],
          "histogram2dcontour": [
           {
            "colorbar": {
             "outlinewidth": 0,
             "ticks": ""
            },
            "colorscale": [
             [
              0,
              "#0d0887"
             ],
             [
              0.1111111111111111,
              "#46039f"
             ],
             [
              0.2222222222222222,
              "#7201a8"
             ],
             [
              0.3333333333333333,
              "#9c179e"
             ],
             [
              0.4444444444444444,
              "#bd3786"
             ],
             [
              0.5555555555555556,
              "#d8576b"
             ],
             [
              0.6666666666666666,
              "#ed7953"
             ],
             [
              0.7777777777777778,
              "#fb9f3a"
             ],
             [
              0.8888888888888888,
              "#fdca26"
             ],
             [
              1,
              "#f0f921"
             ]
            ],
            "type": "histogram2dcontour"
           }
          ],
          "mesh3d": [
           {
            "colorbar": {
             "outlinewidth": 0,
             "ticks": ""
            },
            "type": "mesh3d"
           }
          ],
          "parcoords": [
           {
            "line": {
             "colorbar": {
              "outlinewidth": 0,
              "ticks": ""
             }
            },
            "type": "parcoords"
           }
          ],
          "pie": [
           {
            "automargin": true,
            "type": "pie"
           }
          ],
          "scatter": [
           {
            "fillpattern": {
             "fillmode": "overlay",
             "size": 10,
             "solidity": 0.2
            },
            "type": "scatter"
           }
          ],
          "scatter3d": [
           {
            "line": {
             "colorbar": {
              "outlinewidth": 0,
              "ticks": ""
             }
            },
            "marker": {
             "colorbar": {
              "outlinewidth": 0,
              "ticks": ""
             }
            },
            "type": "scatter3d"
           }
          ],
          "scattercarpet": [
           {
            "marker": {
             "colorbar": {
              "outlinewidth": 0,
              "ticks": ""
             }
            },
            "type": "scattercarpet"
           }
          ],
          "scattergeo": [
           {
            "marker": {
             "colorbar": {
              "outlinewidth": 0,
              "ticks": ""
             }
            },
            "type": "scattergeo"
           }
          ],
          "scattergl": [
           {
            "marker": {
             "colorbar": {
              "outlinewidth": 0,
              "ticks": ""
             }
            },
            "type": "scattergl"
           }
          ],
          "scattermapbox": [
           {
            "marker": {
             "colorbar": {
              "outlinewidth": 0,
              "ticks": ""
             }
            },
            "type": "scattermapbox"
           }
          ],
          "scatterpolar": [
           {
            "marker": {
             "colorbar": {
              "outlinewidth": 0,
              "ticks": ""
             }
            },
            "type": "scatterpolar"
           }
          ],
          "scatterpolargl": [
           {
            "marker": {
             "colorbar": {
              "outlinewidth": 0,
              "ticks": ""
             }
            },
            "type": "scatterpolargl"
           }
          ],
          "scatterternary": [
           {
            "marker": {
             "colorbar": {
              "outlinewidth": 0,
              "ticks": ""
             }
            },
            "type": "scatterternary"
           }
          ],
          "surface": [
           {
            "colorbar": {
             "outlinewidth": 0,
             "ticks": ""
            },
            "colorscale": [
             [
              0,
              "#0d0887"
             ],
             [
              0.1111111111111111,
              "#46039f"
             ],
             [
              0.2222222222222222,
              "#7201a8"
             ],
             [
              0.3333333333333333,
              "#9c179e"
             ],
             [
              0.4444444444444444,
              "#bd3786"
             ],
             [
              0.5555555555555556,
              "#d8576b"
             ],
             [
              0.6666666666666666,
              "#ed7953"
             ],
             [
              0.7777777777777778,
              "#fb9f3a"
             ],
             [
              0.8888888888888888,
              "#fdca26"
             ],
             [
              1,
              "#f0f921"
             ]
            ],
            "type": "surface"
           }
          ],
          "table": [
           {
            "cells": {
             "fill": {
              "color": "#EBF0F8"
             },
             "line": {
              "color": "white"
             }
            },
            "header": {
             "fill": {
              "color": "#C8D4E3"
             },
             "line": {
              "color": "white"
             }
            },
            "type": "table"
           }
          ]
         },
         "layout": {
          "annotationdefaults": {
           "arrowcolor": "#2a3f5f",
           "arrowhead": 0,
           "arrowwidth": 1
          },
          "autotypenumbers": "strict",
          "coloraxis": {
           "colorbar": {
            "outlinewidth": 0,
            "ticks": ""
           }
          },
          "colorscale": {
           "diverging": [
            [
             0,
             "#8e0152"
            ],
            [
             0.1,
             "#c51b7d"
            ],
            [
             0.2,
             "#de77ae"
            ],
            [
             0.3,
             "#f1b6da"
            ],
            [
             0.4,
             "#fde0ef"
            ],
            [
             0.5,
             "#f7f7f7"
            ],
            [
             0.6,
             "#e6f5d0"
            ],
            [
             0.7,
             "#b8e186"
            ],
            [
             0.8,
             "#7fbc41"
            ],
            [
             0.9,
             "#4d9221"
            ],
            [
             1,
             "#276419"
            ]
           ],
           "sequential": [
            [
             0,
             "#0d0887"
            ],
            [
             0.1111111111111111,
             "#46039f"
            ],
            [
             0.2222222222222222,
             "#7201a8"
            ],
            [
             0.3333333333333333,
             "#9c179e"
            ],
            [
             0.4444444444444444,
             "#bd3786"
            ],
            [
             0.5555555555555556,
             "#d8576b"
            ],
            [
             0.6666666666666666,
             "#ed7953"
            ],
            [
             0.7777777777777778,
             "#fb9f3a"
            ],
            [
             0.8888888888888888,
             "#fdca26"
            ],
            [
             1,
             "#f0f921"
            ]
           ],
           "sequentialminus": [
            [
             0,
             "#0d0887"
            ],
            [
             0.1111111111111111,
             "#46039f"
            ],
            [
             0.2222222222222222,
             "#7201a8"
            ],
            [
             0.3333333333333333,
             "#9c179e"
            ],
            [
             0.4444444444444444,
             "#bd3786"
            ],
            [
             0.5555555555555556,
             "#d8576b"
            ],
            [
             0.6666666666666666,
             "#ed7953"
            ],
            [
             0.7777777777777778,
             "#fb9f3a"
            ],
            [
             0.8888888888888888,
             "#fdca26"
            ],
            [
             1,
             "#f0f921"
            ]
           ]
          },
          "colorway": [
           "#636efa",
           "#EF553B",
           "#00cc96",
           "#ab63fa",
           "#FFA15A",
           "#19d3f3",
           "#FF6692",
           "#B6E880",
           "#FF97FF",
           "#FECB52"
          ],
          "font": {
           "color": "#2a3f5f"
          },
          "geo": {
           "bgcolor": "white",
           "lakecolor": "white",
           "landcolor": "#E5ECF6",
           "showlakes": true,
           "showland": true,
           "subunitcolor": "white"
          },
          "hoverlabel": {
           "align": "left"
          },
          "hovermode": "closest",
          "mapbox": {
           "style": "light"
          },
          "paper_bgcolor": "white",
          "plot_bgcolor": "#E5ECF6",
          "polar": {
           "angularaxis": {
            "gridcolor": "white",
            "linecolor": "white",
            "ticks": ""
           },
           "bgcolor": "#E5ECF6",
           "radialaxis": {
            "gridcolor": "white",
            "linecolor": "white",
            "ticks": ""
           }
          },
          "scene": {
           "xaxis": {
            "backgroundcolor": "#E5ECF6",
            "gridcolor": "white",
            "gridwidth": 2,
            "linecolor": "white",
            "showbackground": true,
            "ticks": "",
            "zerolinecolor": "white"
           },
           "yaxis": {
            "backgroundcolor": "#E5ECF6",
            "gridcolor": "white",
            "gridwidth": 2,
            "linecolor": "white",
            "showbackground": true,
            "ticks": "",
            "zerolinecolor": "white"
           },
           "zaxis": {
            "backgroundcolor": "#E5ECF6",
            "gridcolor": "white",
            "gridwidth": 2,
            "linecolor": "white",
            "showbackground": true,
            "ticks": "",
            "zerolinecolor": "white"
           }
          },
          "shapedefaults": {
           "line": {
            "color": "#2a3f5f"
           }
          },
          "ternary": {
           "aaxis": {
            "gridcolor": "white",
            "linecolor": "white",
            "ticks": ""
           },
           "baxis": {
            "gridcolor": "white",
            "linecolor": "white",
            "ticks": ""
           },
           "bgcolor": "#E5ECF6",
           "caxis": {
            "gridcolor": "white",
            "linecolor": "white",
            "ticks": ""
           }
          },
          "title": {
           "x": 0.05
          },
          "xaxis": {
           "automargin": true,
           "gridcolor": "white",
           "linecolor": "white",
           "ticks": "",
           "title": {
            "standoff": 15
           },
           "zerolinecolor": "white",
           "zerolinewidth": 2
          },
          "yaxis": {
           "automargin": true,
           "gridcolor": "white",
           "linecolor": "white",
           "ticks": "",
           "title": {
            "standoff": 15
           },
           "zerolinecolor": "white",
           "zerolinewidth": 2
          }
         }
        },
        "xaxis": {
         "anchor": "y",
         "domain": [
          0,
          1
         ],
         "title": {
          "text": "score"
         }
        },
        "yaxis": {
         "anchor": "x",
         "domain": [
          0,
          1
         ],
         "title": {
          "text": "condition"
         }
        }
       }
      }
     },
     "metadata": {},
     "output_type": "display_data"
    }
   ],
   "source": [
    "px.strip(scores, x=\"score\", y=\"condition\", color=\"bids_name\")"
   ]
  },
  {
   "cell_type": "code",
   "execution_count": 5,
   "metadata": {},
   "outputs": [
    {
     "data": {
      "text/plain": [
       "<AxesSubplot: xlabel='condition', ylabel='score'>"
      ]
     },
     "execution_count": 5,
     "metadata": {},
     "output_type": "execute_result"
    },
    {
     "data": {
      "image/png": "[encoded data removed]",
      "text/plain": [
       "<Figure size 640x480 with 2 Axes>"
      ]
     },
     "metadata": {},
     "output_type": "display_data"
    }
   ],
   "source": [
    "sns.heatmap(pd.crosstab(scores[\"score\"], scores[\"condition\"]), annot=True)"
   ]
  },
  {
   "cell_type": "code",
   "execution_count": 6,
   "metadata": {},
   "outputs": [],
   "source": [
    "iqms_use = iqms.drop([\"bids_name\",\"size_x\", \"size_y\", \"size_z\", \"spacing_x\", \"spacing_y\", \"spacing_z\"], axis=1)\n",
    "scaler = sklearn.preprocessing.StandardScaler()\n",
    "iqms_scaled = scaler.fit_transform(iqms_use)\n",
    "iqms_scaled = pd.DataFrame(iqms_scaled, columns=iqms_use.columns)"
   ]
  },
  {
   "cell_type": "code",
   "execution_count": 7,
   "metadata": {},
   "outputs": [
    {
     "data": {
      "text/html": [
       "<div>\n",
       "<style scoped>\n",
       "    .dataframe tbody tr th:only-of-type {\n",
       "        vertical-align: middle;\n",
       "    }\n",
       "\n",
       "    .dataframe tbody tr th {\n",
       "        vertical-align: top;\n",
       "    }\n",
       "\n",
       "    .dataframe thead th {\n",
       "        text-align: right;\n",
       "    }\n",
       "</style>\n",
       "<table border=\"1\" class=\"dataframe\">\n",
       "  <thead>\n",
       "    <tr style=\"text-align: right;\">\n",
       "      <th></th>\n",
       "      <th>cjv</th>\n",
       "      <th>cnr</th>\n",
       "      <th>efc</th>\n",
       "      <th>fber</th>\n",
       "      <th>fwhm_avg</th>\n",
       "      <th>fwhm_x</th>\n",
       "      <th>fwhm_y</th>\n",
       "      <th>fwhm_z</th>\n",
       "      <th>icvs_csf</th>\n",
       "      <th>icvs_gm</th>\n",
       "      <th>...</th>\n",
       "      <th>summary_wm_mean</th>\n",
       "      <th>summary_wm_median</th>\n",
       "      <th>summary_wm_n</th>\n",
       "      <th>summary_wm_p05</th>\n",
       "      <th>summary_wm_p95</th>\n",
       "      <th>summary_wm_stdv</th>\n",
       "      <th>tpm_overlap_csf</th>\n",
       "      <th>tpm_overlap_gm</th>\n",
       "      <th>tpm_overlap_wm</th>\n",
       "      <th>wm2max</th>\n",
       "    </tr>\n",
       "  </thead>\n",
       "  <tbody>\n",
       "    <tr>\n",
       "      <th>0</th>\n",
       "      <td>-0.891671</td>\n",
       "      <td>1.023455</td>\n",
       "      <td>0.379405</td>\n",
       "      <td>0.946453</td>\n",
       "      <td>0.123567</td>\n",
       "      <td>-0.157856</td>\n",
       "      <td>0.347641</td>\n",
       "      <td>0.133998</td>\n",
       "      <td>-1.053330</td>\n",
       "      <td>1.653851</td>\n",
       "      <td>...</td>\n",
       "      <td>-0.579687</td>\n",
       "      <td>-0.328985</td>\n",
       "      <td>0.664616</td>\n",
       "      <td>0.699918</td>\n",
       "      <td>-0.661274</td>\n",
       "      <td>-0.662092</td>\n",
       "      <td>0.370218</td>\n",
       "      <td>1.094305</td>\n",
       "      <td>0.944828</td>\n",
       "      <td>0.595587</td>\n",
       "    </tr>\n",
       "    <tr>\n",
       "      <th>1</th>\n",
       "      <td>0.322492</td>\n",
       "      <td>-0.481170</td>\n",
       "      <td>0.801350</td>\n",
       "      <td>0.170918</td>\n",
       "      <td>-0.342638</td>\n",
       "      <td>-0.669880</td>\n",
       "      <td>-0.226566</td>\n",
       "      <td>-0.081536</td>\n",
       "      <td>-1.460376</td>\n",
       "      <td>0.608160</td>\n",
       "      <td>...</td>\n",
       "      <td>0.749833</td>\n",
       "      <td>-0.179988</td>\n",
       "      <td>0.977603</td>\n",
       "      <td>-0.253814</td>\n",
       "      <td>0.485443</td>\n",
       "      <td>0.419752</td>\n",
       "      <td>0.458946</td>\n",
       "      <td>0.416501</td>\n",
       "      <td>0.581384</td>\n",
       "      <td>-0.397384</td>\n",
       "    </tr>\n",
       "    <tr>\n",
       "      <th>2</th>\n",
       "      <td>-1.198496</td>\n",
       "      <td>1.446902</td>\n",
       "      <td>0.075100</td>\n",
       "      <td>-0.946513</td>\n",
       "      <td>0.006137</td>\n",
       "      <td>-0.202609</td>\n",
       "      <td>0.214003</td>\n",
       "      <td>-0.030905</td>\n",
       "      <td>-1.187485</td>\n",
       "      <td>2.093364</td>\n",
       "      <td>...</td>\n",
       "      <td>-0.784952</td>\n",
       "      <td>-0.338320</td>\n",
       "      <td>0.498901</td>\n",
       "      <td>0.889660</td>\n",
       "      <td>-0.868823</td>\n",
       "      <td>-0.873470</td>\n",
       "      <td>0.947218</td>\n",
       "      <td>1.395321</td>\n",
       "      <td>0.962421</td>\n",
       "      <td>0.599161</td>\n",
       "    </tr>\n",
       "    <tr>\n",
       "      <th>3</th>\n",
       "      <td>0.607133</td>\n",
       "      <td>-0.728387</td>\n",
       "      <td>0.555687</td>\n",
       "      <td>-0.404468</td>\n",
       "      <td>-0.297952</td>\n",
       "      <td>-0.207820</td>\n",
       "      <td>-0.367656</td>\n",
       "      <td>-0.273105</td>\n",
       "      <td>-0.941898</td>\n",
       "      <td>-0.261450</td>\n",
       "      <td>...</td>\n",
       "      <td>0.650114</td>\n",
       "      <td>0.948030</td>\n",
       "      <td>-0.288896</td>\n",
       "      <td>-0.624692</td>\n",
       "      <td>0.642446</td>\n",
       "      <td>0.627561</td>\n",
       "      <td>-1.407102</td>\n",
       "      <td>0.084631</td>\n",
       "      <td>0.058673</td>\n",
       "      <td>-0.062371</td>\n",
       "    </tr>\n",
       "    <tr>\n",
       "      <th>4</th>\n",
       "      <td>0.089333</td>\n",
       "      <td>-0.168848</td>\n",
       "      <td>0.483471</td>\n",
       "      <td>0.159432</td>\n",
       "      <td>-0.103982</td>\n",
       "      <td>0.047497</td>\n",
       "      <td>-0.213522</td>\n",
       "      <td>-0.119734</td>\n",
       "      <td>-0.772334</td>\n",
       "      <td>0.119812</td>\n",
       "      <td>...</td>\n",
       "      <td>0.115257</td>\n",
       "      <td>0.825849</td>\n",
       "      <td>-0.256005</td>\n",
       "      <td>-0.198972</td>\n",
       "      <td>0.161695</td>\n",
       "      <td>0.169568</td>\n",
       "      <td>-1.857269</td>\n",
       "      <td>0.258404</td>\n",
       "      <td>0.227331</td>\n",
       "      <td>0.320730</td>\n",
       "    </tr>\n",
       "    <tr>\n",
       "      <th>...</th>\n",
       "      <td>...</td>\n",
       "      <td>...</td>\n",
       "      <td>...</td>\n",
       "      <td>...</td>\n",
       "      <td>...</td>\n",
       "      <td>...</td>\n",
       "      <td>...</td>\n",
       "      <td>...</td>\n",
       "      <td>...</td>\n",
       "      <td>...</td>\n",
       "      <td>...</td>\n",
       "      <td>...</td>\n",
       "      <td>...</td>\n",
       "      <td>...</td>\n",
       "      <td>...</td>\n",
       "      <td>...</td>\n",
       "      <td>...</td>\n",
       "      <td>...</td>\n",
       "      <td>...</td>\n",
       "      <td>...</td>\n",
       "      <td>...</td>\n",
       "    </tr>\n",
       "    <tr>\n",
       "      <th>431</th>\n",
       "      <td>-0.574475</td>\n",
       "      <td>0.459102</td>\n",
       "      <td>1.106414</td>\n",
       "      <td>0.149363</td>\n",
       "      <td>0.181063</td>\n",
       "      <td>0.342071</td>\n",
       "      <td>0.267109</td>\n",
       "      <td>-0.137932</td>\n",
       "      <td>0.658798</td>\n",
       "      <td>0.089322</td>\n",
       "      <td>...</td>\n",
       "      <td>-0.656950</td>\n",
       "      <td>-0.172442</td>\n",
       "      <td>0.747438</td>\n",
       "      <td>0.002640</td>\n",
       "      <td>-0.323392</td>\n",
       "      <td>-0.207552</td>\n",
       "      <td>1.229741</td>\n",
       "      <td>0.334682</td>\n",
       "      <td>-0.199817</td>\n",
       "      <td>-0.725678</td>\n",
       "    </tr>\n",
       "    <tr>\n",
       "      <th>432</th>\n",
       "      <td>-1.165106</td>\n",
       "      <td>1.337207</td>\n",
       "      <td>0.707725</td>\n",
       "      <td>-0.946513</td>\n",
       "      <td>0.806795</td>\n",
       "      <td>0.998398</td>\n",
       "      <td>0.969088</td>\n",
       "      <td>0.277350</td>\n",
       "      <td>1.092544</td>\n",
       "      <td>0.446293</td>\n",
       "      <td>...</td>\n",
       "      <td>-0.844802</td>\n",
       "      <td>-0.259740</td>\n",
       "      <td>0.359484</td>\n",
       "      <td>0.940510</td>\n",
       "      <td>-0.914859</td>\n",
       "      <td>-0.933136</td>\n",
       "      <td>1.314992</td>\n",
       "      <td>0.870827</td>\n",
       "      <td>-0.036182</td>\n",
       "      <td>-0.299338</td>\n",
       "    </tr>\n",
       "    <tr>\n",
       "      <th>433</th>\n",
       "      <td>-0.336329</td>\n",
       "      <td>0.212102</td>\n",
       "      <td>0.022202</td>\n",
       "      <td>0.914001</td>\n",
       "      <td>0.424312</td>\n",
       "      <td>0.288854</td>\n",
       "      <td>0.540691</td>\n",
       "      <td>0.374432</td>\n",
       "      <td>-0.318152</td>\n",
       "      <td>0.400575</td>\n",
       "      <td>...</td>\n",
       "      <td>0.177875</td>\n",
       "      <td>0.370348</td>\n",
       "      <td>0.767916</td>\n",
       "      <td>-0.232326</td>\n",
       "      <td>0.213313</td>\n",
       "      <td>0.214843</td>\n",
       "      <td>0.473483</td>\n",
       "      <td>0.148033</td>\n",
       "      <td>0.496048</td>\n",
       "      <td>1.543252</td>\n",
       "    </tr>\n",
       "    <tr>\n",
       "      <th>434</th>\n",
       "      <td>0.744436</td>\n",
       "      <td>-0.927664</td>\n",
       "      <td>0.535875</td>\n",
       "      <td>0.505978</td>\n",
       "      <td>-0.087667</td>\n",
       "      <td>-0.188586</td>\n",
       "      <td>-0.088070</td>\n",
       "      <td>0.038501</td>\n",
       "      <td>-0.865901</td>\n",
       "      <td>0.092194</td>\n",
       "      <td>...</td>\n",
       "      <td>1.002042</td>\n",
       "      <td>-0.535891</td>\n",
       "      <td>0.727136</td>\n",
       "      <td>-1.210021</td>\n",
       "      <td>1.171428</td>\n",
       "      <td>1.189201</td>\n",
       "      <td>0.475541</td>\n",
       "      <td>-0.590150</td>\n",
       "      <td>-0.422853</td>\n",
       "      <td>0.869156</td>\n",
       "    </tr>\n",
       "    <tr>\n",
       "      <th>435</th>\n",
       "      <td>-1.131714</td>\n",
       "      <td>1.398085</td>\n",
       "      <td>-0.721208</td>\n",
       "      <td>-0.946513</td>\n",
       "      <td>0.174032</td>\n",
       "      <td>0.137035</td>\n",
       "      <td>0.358339</td>\n",
       "      <td>-0.047950</td>\n",
       "      <td>-0.004575</td>\n",
       "      <td>1.518589</td>\n",
       "      <td>...</td>\n",
       "      <td>-1.000083</td>\n",
       "      <td>-0.697419</td>\n",
       "      <td>0.331397</td>\n",
       "      <td>0.594432</td>\n",
       "      <td>-0.796867</td>\n",
       "      <td>-0.740462</td>\n",
       "      <td>0.560316</td>\n",
       "      <td>0.929091</td>\n",
       "      <td>0.559520</td>\n",
       "      <td>2.280824</td>\n",
       "    </tr>\n",
       "  </tbody>\n",
       "</table>\n",
       "<p>436 rows × 62 columns</p>\n",
       "</div>"
      ],
      "text/plain": [
       "          cjv       cnr       efc      fber  fwhm_avg    fwhm_x    fwhm_y  \\\n",
       "0   -0.891671  1.023455  0.379405  0.946453  0.123567 -0.157856  0.347641   \n",
       "1    0.322492 -0.481170  0.801350  0.170918 -0.342638 -0.669880 -0.226566   \n",
       "2   -1.198496  1.446902  0.075100 -0.946513  0.006137 -0.202609  0.214003   \n",
       "3    0.607133 -0.728387  0.555687 -0.404468 -0.297952 -0.207820 -0.367656   \n",
       "4    0.089333 -0.168848  0.483471  0.159432 -0.103982  0.047497 -0.213522   \n",
       "..        ...       ...       ...       ...       ...       ...       ...   \n",
       "431 -0.574475  0.459102  1.106414  0.149363  0.181063  0.342071  0.267109   \n",
       "432 -1.165106  1.337207  0.707725 -0.946513  0.806795  0.998398  0.969088   \n",
       "433 -0.336329  0.212102  0.022202  0.914001  0.424312  0.288854  0.540691   \n",
       "434  0.744436 -0.927664  0.535875  0.505978 -0.087667 -0.188586 -0.088070   \n",
       "435 -1.131714  1.398085 -0.721208 -0.946513  0.174032  0.137035  0.358339   \n",
       "\n",
       "       fwhm_z  icvs_csf   icvs_gm  ...  summary_wm_mean  summary_wm_median  \\\n",
       "0    0.133998 -1.053330  1.653851  ...        -0.579687          -0.328985   \n",
       "1   -0.081536 -1.460376  0.608160  ...         0.749833          -0.179988   \n",
       "2   -0.030905 -1.187485  2.093364  ...        -0.784952          -0.338320   \n",
       "3   -0.273105 -0.941898 -0.261450  ...         0.650114           0.948030   \n",
       "4   -0.119734 -0.772334  0.119812  ...         0.115257           0.825849   \n",
       "..        ...       ...       ...  ...              ...                ...   \n",
       "431 -0.137932  0.658798  0.089322  ...        -0.656950          -0.172442   \n",
       "432  0.277350  1.092544  0.446293  ...        -0.844802          -0.259740   \n",
       "433  0.374432 -0.318152  0.400575  ...         0.177875           0.370348   \n",
       "434  0.038501 -0.865901  0.092194  ...         1.002042          -0.535891   \n",
       "435 -0.047950 -0.004575  1.518589  ...        -1.000083          -0.697419   \n",
       "\n",
       "     summary_wm_n  summary_wm_p05  summary_wm_p95  summary_wm_stdv  \\\n",
       "0        0.664616        0.699918       -0.661274        -0.662092   \n",
       "1        0.977603       -0.253814        0.485443         0.419752   \n",
       "2        0.498901        0.889660       -0.868823        -0.873470   \n",
       "3       -0.288896       -0.624692        0.642446         0.627561   \n",
       "4       -0.256005       -0.198972        0.161695         0.169568   \n",
       "..            ...             ...             ...              ...   \n",
       "431      0.747438        0.002640       -0.323392        -0.207552   \n",
       "432      0.359484        0.940510       -0.914859        -0.933136   \n",
       "433      0.767916       -0.232326        0.213313         0.214843   \n",
       "434      0.727136       -1.210021        1.171428         1.189201   \n",
       "435      0.331397        0.594432       -0.796867        -0.740462   \n",
       "\n",
       "     tpm_overlap_csf  tpm_overlap_gm  tpm_overlap_wm    wm2max  \n",
       "0           0.370218        1.094305        0.944828  0.595587  \n",
       "1           0.458946        0.416501        0.581384 -0.397384  \n",
       "2           0.947218        1.395321        0.962421  0.599161  \n",
       "3          -1.407102        0.084631        0.058673 -0.062371  \n",
       "4          -1.857269        0.258404        0.227331  0.320730  \n",
       "..               ...             ...             ...       ...  \n",
       "431         1.229741        0.334682       -0.199817 -0.725678  \n",
       "432         1.314992        0.870827       -0.036182 -0.299338  \n",
       "433         0.473483        0.148033        0.496048  1.543252  \n",
       "434         0.475541       -0.590150       -0.422853  0.869156  \n",
       "435         0.560316        0.929091        0.559520  2.280824  \n",
       "\n",
       "[436 rows x 62 columns]"
      ]
     },
     "execution_count": 7,
     "metadata": {},
     "output_type": "execute_result"
    }
   ],
   "source": [
    "iqms_scaled"
   ]
  },
  {
   "cell_type": "code",
   "execution_count": 38,
   "metadata": {},
   "outputs": [],
   "source": [
    "col_names_pca = [f\"component{i+1}\" for i in range(62)]\n",
    "col_names_kpca = [f\"component{i+1}\" for i in range(435)]"
   ]
  },
  {
   "cell_type": "code",
   "execution_count": 30,
   "metadata": {},
   "outputs": [
    {
     "data": {
      "text/html": [
       "<div>\n",
       "<style scoped>\n",
       "    .dataframe tbody tr th:only-of-type {\n",
       "        vertical-align: middle;\n",
       "    }\n",
       "\n",
       "    .dataframe tbody tr th {\n",
       "        vertical-align: top;\n",
       "    }\n",
       "\n",
       "    .dataframe thead th {\n",
       "        text-align: right;\n",
       "    }\n",
       "</style>\n",
       "<table border=\"1\" class=\"dataframe\">\n",
       "  <thead>\n",
       "    <tr style=\"text-align: right;\">\n",
       "      <th></th>\n",
       "      <th>component1</th>\n",
       "      <th>component2</th>\n",
       "      <th>component3</th>\n",
       "      <th>component4</th>\n",
       "      <th>component5</th>\n",
       "      <th>component6</th>\n",
       "      <th>component7</th>\n",
       "      <th>component8</th>\n",
       "      <th>component9</th>\n",
       "      <th>component10</th>\n",
       "      <th>...</th>\n",
       "      <th>component53</th>\n",
       "      <th>component54</th>\n",
       "      <th>component55</th>\n",
       "      <th>component56</th>\n",
       "      <th>component57</th>\n",
       "      <th>component58</th>\n",
       "      <th>component59</th>\n",
       "      <th>component60</th>\n",
       "      <th>component61</th>\n",
       "      <th>component62</th>\n",
       "    </tr>\n",
       "  </thead>\n",
       "  <tbody>\n",
       "    <tr>\n",
       "      <th>0</th>\n",
       "      <td>-3.244906</td>\n",
       "      <td>-0.995331</td>\n",
       "      <td>-1.920710</td>\n",
       "      <td>-0.288084</td>\n",
       "      <td>1.678550</td>\n",
       "      <td>-1.253706</td>\n",
       "      <td>-0.412392</td>\n",
       "      <td>-0.334160</td>\n",
       "      <td>-1.125633</td>\n",
       "      <td>0.167429</td>\n",
       "      <td>...</td>\n",
       "      <td>-0.005245</td>\n",
       "      <td>0.001201</td>\n",
       "      <td>0.004252</td>\n",
       "      <td>-0.003076</td>\n",
       "      <td>2.669054e-15</td>\n",
       "      <td>5.268857e-15</td>\n",
       "      <td>3.519825e-15</td>\n",
       "      <td>-7.263468e-16</td>\n",
       "      <td>1.061351e-15</td>\n",
       "      <td>-8.879754e-16</td>\n",
       "    </tr>\n",
       "    <tr>\n",
       "      <th>1</th>\n",
       "      <td>2.241555</td>\n",
       "      <td>-2.096961</td>\n",
       "      <td>0.114146</td>\n",
       "      <td>-1.776237</td>\n",
       "      <td>2.220306</td>\n",
       "      <td>-1.224056</td>\n",
       "      <td>-1.083462</td>\n",
       "      <td>-0.769638</td>\n",
       "      <td>-1.503206</td>\n",
       "      <td>-0.503265</td>\n",
       "      <td>...</td>\n",
       "      <td>-0.024666</td>\n",
       "      <td>-0.004618</td>\n",
       "      <td>-0.004539</td>\n",
       "      <td>0.001246</td>\n",
       "      <td>-6.524827e-16</td>\n",
       "      <td>6.255369e-16</td>\n",
       "      <td>-1.610354e-15</td>\n",
       "      <td>1.217634e-16</td>\n",
       "      <td>-3.427044e-16</td>\n",
       "      <td>5.749415e-16</td>\n",
       "    </tr>\n",
       "    <tr>\n",
       "      <th>2</th>\n",
       "      <td>-4.837443</td>\n",
       "      <td>-1.119251</td>\n",
       "      <td>-1.760668</td>\n",
       "      <td>1.491404</td>\n",
       "      <td>2.047120</td>\n",
       "      <td>-0.803683</td>\n",
       "      <td>-1.358210</td>\n",
       "      <td>-0.779947</td>\n",
       "      <td>-0.581402</td>\n",
       "      <td>-0.547745</td>\n",
       "      <td>...</td>\n",
       "      <td>-0.008813</td>\n",
       "      <td>0.001176</td>\n",
       "      <td>-0.000779</td>\n",
       "      <td>0.002489</td>\n",
       "      <td>1.787584e-15</td>\n",
       "      <td>9.647545e-16</td>\n",
       "      <td>-1.310314e-15</td>\n",
       "      <td>1.665948e-15</td>\n",
       "      <td>5.766498e-16</td>\n",
       "      <td>-5.941826e-17</td>\n",
       "    </tr>\n",
       "    <tr>\n",
       "      <th>3</th>\n",
       "      <td>3.518954</td>\n",
       "      <td>-1.762534</td>\n",
       "      <td>-0.551369</td>\n",
       "      <td>-0.627797</td>\n",
       "      <td>-1.197490</td>\n",
       "      <td>1.406677</td>\n",
       "      <td>-1.139467</td>\n",
       "      <td>-0.019117</td>\n",
       "      <td>-0.643945</td>\n",
       "      <td>1.508294</td>\n",
       "      <td>...</td>\n",
       "      <td>-0.010416</td>\n",
       "      <td>-0.009294</td>\n",
       "      <td>-0.003357</td>\n",
       "      <td>-0.000025</td>\n",
       "      <td>1.344519e-16</td>\n",
       "      <td>1.211390e-16</td>\n",
       "      <td>2.696397e-15</td>\n",
       "      <td>2.540196e-15</td>\n",
       "      <td>5.329036e-16</td>\n",
       "      <td>-1.554688e-15</td>\n",
       "    </tr>\n",
       "    <tr>\n",
       "      <th>4</th>\n",
       "      <td>1.119710</td>\n",
       "      <td>-1.764848</td>\n",
       "      <td>-0.689370</td>\n",
       "      <td>-0.461158</td>\n",
       "      <td>-1.349369</td>\n",
       "      <td>0.909232</td>\n",
       "      <td>-1.179177</td>\n",
       "      <td>-0.026415</td>\n",
       "      <td>-0.719839</td>\n",
       "      <td>1.747563</td>\n",
       "      <td>...</td>\n",
       "      <td>0.007072</td>\n",
       "      <td>0.012658</td>\n",
       "      <td>0.004126</td>\n",
       "      <td>-0.003265</td>\n",
       "      <td>6.936230e-15</td>\n",
       "      <td>-2.956692e-15</td>\n",
       "      <td>-8.208992e-17</td>\n",
       "      <td>6.229353e-16</td>\n",
       "      <td>-5.422509e-16</td>\n",
       "      <td>-2.065096e-16</td>\n",
       "    </tr>\n",
       "    <tr>\n",
       "      <th>...</th>\n",
       "      <td>...</td>\n",
       "      <td>...</td>\n",
       "      <td>...</td>\n",
       "      <td>...</td>\n",
       "      <td>...</td>\n",
       "      <td>...</td>\n",
       "      <td>...</td>\n",
       "      <td>...</td>\n",
       "      <td>...</td>\n",
       "      <td>...</td>\n",
       "      <td>...</td>\n",
       "      <td>...</td>\n",
       "      <td>...</td>\n",
       "      <td>...</td>\n",
       "      <td>...</td>\n",
       "      <td>...</td>\n",
       "      <td>...</td>\n",
       "      <td>...</td>\n",
       "      <td>...</td>\n",
       "      <td>...</td>\n",
       "      <td>...</td>\n",
       "    </tr>\n",
       "    <tr>\n",
       "      <th>431</th>\n",
       "      <td>0.092030</td>\n",
       "      <td>5.700788</td>\n",
       "      <td>-1.505234</td>\n",
       "      <td>1.804113</td>\n",
       "      <td>1.161364</td>\n",
       "      <td>-2.742373</td>\n",
       "      <td>0.147254</td>\n",
       "      <td>-0.158304</td>\n",
       "      <td>-0.640245</td>\n",
       "      <td>-2.283422</td>\n",
       "      <td>...</td>\n",
       "      <td>-0.003867</td>\n",
       "      <td>0.003337</td>\n",
       "      <td>0.024026</td>\n",
       "      <td>-0.004067</td>\n",
       "      <td>8.211429e-16</td>\n",
       "      <td>1.906415e-16</td>\n",
       "      <td>5.663130e-17</td>\n",
       "      <td>4.333812e-16</td>\n",
       "      <td>-7.374275e-18</td>\n",
       "      <td>1.512129e-18</td>\n",
       "    </tr>\n",
       "    <tr>\n",
       "      <th>432</th>\n",
       "      <td>-4.368624</td>\n",
       "      <td>4.997570</td>\n",
       "      <td>-1.029338</td>\n",
       "      <td>2.258161</td>\n",
       "      <td>1.537914</td>\n",
       "      <td>-1.101758</td>\n",
       "      <td>-0.144504</td>\n",
       "      <td>-0.184751</td>\n",
       "      <td>0.222433</td>\n",
       "      <td>-1.565266</td>\n",
       "      <td>...</td>\n",
       "      <td>0.007379</td>\n",
       "      <td>0.007904</td>\n",
       "      <td>-0.000151</td>\n",
       "      <td>-0.000666</td>\n",
       "      <td>-2.042360e-15</td>\n",
       "      <td>-2.087167e-15</td>\n",
       "      <td>4.019751e-16</td>\n",
       "      <td>6.482354e-16</td>\n",
       "      <td>1.651389e-16</td>\n",
       "      <td>1.556490e-16</td>\n",
       "    </tr>\n",
       "    <tr>\n",
       "      <th>433</th>\n",
       "      <td>0.700216</td>\n",
       "      <td>0.840855</td>\n",
       "      <td>-0.975402</td>\n",
       "      <td>-0.017463</td>\n",
       "      <td>1.228321</td>\n",
       "      <td>-4.088896</td>\n",
       "      <td>-0.655966</td>\n",
       "      <td>0.064879</td>\n",
       "      <td>-0.877200</td>\n",
       "      <td>1.671551</td>\n",
       "      <td>...</td>\n",
       "      <td>-0.002864</td>\n",
       "      <td>0.004127</td>\n",
       "      <td>0.021037</td>\n",
       "      <td>0.000091</td>\n",
       "      <td>-1.753177e-15</td>\n",
       "      <td>-1.822762e-15</td>\n",
       "      <td>1.817168e-16</td>\n",
       "      <td>7.176005e-16</td>\n",
       "      <td>-1.057238e-16</td>\n",
       "      <td>-1.196732e-16</td>\n",
       "    </tr>\n",
       "    <tr>\n",
       "      <th>434</th>\n",
       "      <td>4.734530</td>\n",
       "      <td>0.374285</td>\n",
       "      <td>-1.048333</td>\n",
       "      <td>-0.412661</td>\n",
       "      <td>1.462022</td>\n",
       "      <td>-3.082140</td>\n",
       "      <td>-0.299189</td>\n",
       "      <td>0.518335</td>\n",
       "      <td>-0.160315</td>\n",
       "      <td>0.789995</td>\n",
       "      <td>...</td>\n",
       "      <td>0.024311</td>\n",
       "      <td>0.008918</td>\n",
       "      <td>0.011737</td>\n",
       "      <td>0.003677</td>\n",
       "      <td>-1.700665e-16</td>\n",
       "      <td>2.064146e-15</td>\n",
       "      <td>-2.954033e-16</td>\n",
       "      <td>-7.851799e-16</td>\n",
       "      <td>-6.104016e-17</td>\n",
       "      <td>-2.603148e-16</td>\n",
       "    </tr>\n",
       "    <tr>\n",
       "      <th>435</th>\n",
       "      <td>-4.703418</td>\n",
       "      <td>0.129626</td>\n",
       "      <td>-1.390029</td>\n",
       "      <td>3.288634</td>\n",
       "      <td>2.050476</td>\n",
       "      <td>-2.091557</td>\n",
       "      <td>-0.562228</td>\n",
       "      <td>-0.025190</td>\n",
       "      <td>0.094424</td>\n",
       "      <td>1.368104</td>\n",
       "      <td>...</td>\n",
       "      <td>0.007240</td>\n",
       "      <td>0.019284</td>\n",
       "      <td>-0.012567</td>\n",
       "      <td>-0.000059</td>\n",
       "      <td>1.191572e-15</td>\n",
       "      <td>-3.136769e-16</td>\n",
       "      <td>3.098624e-16</td>\n",
       "      <td>4.679284e-16</td>\n",
       "      <td>-2.133624e-16</td>\n",
       "      <td>1.746627e-16</td>\n",
       "    </tr>\n",
       "  </tbody>\n",
       "</table>\n",
       "<p>436 rows × 62 columns</p>\n",
       "</div>"
      ],
      "text/plain": [
       "     component1  component2  component3  component4  component5  component6  \\\n",
       "0     -3.244906   -0.995331   -1.920710   -0.288084    1.678550   -1.253706   \n",
       "1      2.241555   -2.096961    0.114146   -1.776237    2.220306   -1.224056   \n",
       "2     -4.837443   -1.119251   -1.760668    1.491404    2.047120   -0.803683   \n",
       "3      3.518954   -1.762534   -0.551369   -0.627797   -1.197490    1.406677   \n",
       "4      1.119710   -1.764848   -0.689370   -0.461158   -1.349369    0.909232   \n",
       "..          ...         ...         ...         ...         ...         ...   \n",
       "431    0.092030    5.700788   -1.505234    1.804113    1.161364   -2.742373   \n",
       "432   -4.368624    4.997570   -1.029338    2.258161    1.537914   -1.101758   \n",
       "433    0.700216    0.840855   -0.975402   -0.017463    1.228321   -4.088896   \n",
       "434    4.734530    0.374285   -1.048333   -0.412661    1.462022   -3.082140   \n",
       "435   -4.703418    0.129626   -1.390029    3.288634    2.050476   -2.091557   \n",
       "\n",
       "     component7  component8  component9  component10  ...  component53  \\\n",
       "0     -0.412392   -0.334160   -1.125633     0.167429  ...    -0.005245   \n",
       "1     -1.083462   -0.769638   -1.503206    -0.503265  ...    -0.024666   \n",
       "2     -1.358210   -0.779947   -0.581402    -0.547745  ...    -0.008813   \n",
       "3     -1.139467   -0.019117   -0.643945     1.508294  ...    -0.010416   \n",
       "4     -1.179177   -0.026415   -0.719839     1.747563  ...     0.007072   \n",
       "..          ...         ...         ...          ...  ...          ...   \n",
       "431    0.147254   -0.158304   -0.640245    -2.283422  ...    -0.003867   \n",
       "432   -0.144504   -0.184751    0.222433    -1.565266  ...     0.007379   \n",
       "433   -0.655966    0.064879   -0.877200     1.671551  ...    -0.002864   \n",
       "434   -0.299189    0.518335   -0.160315     0.789995  ...     0.024311   \n",
       "435   -0.562228   -0.025190    0.094424     1.368104  ...     0.007240   \n",
       "\n",
       "     component54  component55  component56   component57   component58  \\\n",
       "0       0.001201     0.004252    -0.003076  2.669054e-15  5.268857e-15   \n",
       "1      -0.004618    -0.004539     0.001246 -6.524827e-16  6.255369e-16   \n",
       "2       0.001176    -0.000779     0.002489  1.787584e-15  9.647545e-16   \n",
       "3      -0.009294    -0.003357    -0.000025  1.344519e-16  1.211390e-16   \n",
       "4       0.012658     0.004126    -0.003265  6.936230e-15 -2.956692e-15   \n",
       "..           ...          ...          ...           ...           ...   \n",
       "431     0.003337     0.024026    -0.004067  8.211429e-16  1.906415e-16   \n",
       "432     0.007904    -0.000151    -0.000666 -2.042360e-15 -2.087167e-15   \n",
       "433     0.004127     0.021037     0.000091 -1.753177e-15 -1.822762e-15   \n",
       "434     0.008918     0.011737     0.003677 -1.700665e-16  2.064146e-15   \n",
       "435     0.019284    -0.012567    -0.000059  1.191572e-15 -3.136769e-16   \n",
       "\n",
       "      component59   component60   component61   component62  \n",
       "0    3.519825e-15 -7.263468e-16  1.061351e-15 -8.879754e-16  \n",
       "1   -1.610354e-15  1.217634e-16 -3.427044e-16  5.749415e-16  \n",
       "2   -1.310314e-15  1.665948e-15  5.766498e-16 -5.941826e-17  \n",
       "3    2.696397e-15  2.540196e-15  5.329036e-16 -1.554688e-15  \n",
       "4   -8.208992e-17  6.229353e-16 -5.422509e-16 -2.065096e-16  \n",
       "..            ...           ...           ...           ...  \n",
       "431  5.663130e-17  4.333812e-16 -7.374275e-18  1.512129e-18  \n",
       "432  4.019751e-16  6.482354e-16  1.651389e-16  1.556490e-16  \n",
       "433  1.817168e-16  7.176005e-16 -1.057238e-16 -1.196732e-16  \n",
       "434 -2.954033e-16 -7.851799e-16 -6.104016e-17 -2.603148e-16  \n",
       "435  3.098624e-16  4.679284e-16 -2.133624e-16  1.746627e-16  \n",
       "\n",
       "[436 rows x 62 columns]"
      ]
     },
     "execution_count": 30,
     "metadata": {},
     "output_type": "execute_result"
    }
   ],
   "source": [
    "pca = sklearn.decomposition.PCA()\n",
    "iqms_pca = pca.fit_transform(iqms_scaled)\n",
    "# iqms_pca = pca.components_\n",
    "iqms_pca = pd.DataFrame(iqms_pca, columns=col_names_pca)"
   ]
  },
  {
   "cell_type": "code",
   "execution_count": 37,
   "metadata": {},
   "outputs": [
    {
     "data": {
      "text/plain": [
       "(436, 435)"
      ]
     },
     "execution_count": 37,
     "metadata": {},
     "output_type": "execute_result"
    }
   ],
   "source": [
    "kpca = sklearn.decomposition.KernelPCA(kernel=\"rbf\", fit_inverse_transform=True)\n",
    "kpca.fit(iqms_scaled)\n",
    "iqms_kpca = kpca.X_transformed_fit_\n",
    "iqms_kpca.shape"
   ]
  },
  {
   "cell_type": "code",
   "execution_count": 39,
   "metadata": {},
   "outputs": [],
   "source": [
    "iqms_kpca = pd.DataFrame(iqms_kpca, columns=col_names_kpca)"
   ]
  },
  {
   "cell_type": "code",
   "execution_count": null,
   "metadata": {},
   "outputs": [],
   "source": [
    "iqms_kpca = pd.DataFrame(iqms_kpca, columns=col_names_pca)"
   ]
  },
  {
   "cell_type": "code",
   "execution_count": 32,
   "metadata": {},
   "outputs": [
    {
     "data": {
      "application/vnd.plotly.v1+json": {
       "config": {
        "plotlyServerURL": "https://plot.ly"
       },
       "data": [
        {
         "hovertemplate": "component1=%{x}<br>component2=%{y}<br>color=%{marker.color}<extra></extra>",
         "legendgroup": "",
         "marker": {
          "color": [
           1,
           2,
           3,
           1,
           2,
           3,
           1,
           2,
           3,
           1,
           2,
           3,
           1,
           2,
           3,
           1,
           2,
           3,
           1,
           2,
           3,
           1,
           2,
           3,
           1,
           2,
           3,
           1,
           2,
           3,
           1,
           2,
           3,
           1,
           2,
           3,
           1,
           2,
           3,
           1,
           2,
           3,
           1,
           2,
           3,
           1,
           3,
           1,
           2,
           3,
           1,
           2,
           3,
           1,
           2,
           3,
           1,
           2,
           3,
           1,
           2,
           3,
           1,
           2,
           3,
           1,
           2,
           3,
           1,
           2,
           1,
           2,
           3,
           1,
           2,
           3,
           1,
           2,
           3,
           1,
           2,
           3,
           1,
           2,
           3,
           1,
           2,
           3,
           1,
           2,
           3,
           1,
           2,
           3,
           1,
           3,
           1,
           2,
           3,
           1,
           2,
           3,
           1,
           2,
           3,
           1,
           2,
           3,
           1,
           2,
           3,
           1,
           2,
           3,
           1,
           2,
           3,
           1,
           2,
           3,
           1,
           2,
           3,
           1,
           2,
           3,
           1,
           2,
           3,
           1,
           2,
           3,
           1,
           2,
           3,
           1,
           2,
           3,
           1,
           2,
           3,
           1,
           3,
           1,
           2,
           3,
           1,
           2,
           3,
           1,
           2,
           3,
           1,
           2,
           3,
           1,
           2,
           3,
           1,
           2,
           3,
           1,
           2,
           3,
           1,
           2,
           3,
           1,
           2,
           3,
           1,
           2,
           3,
           1,
           2,
           3,
           1,
           2,
           3,
           1,
           2,
           3,
           1,
           2,
           3,
           1,
           2,
           3,
           1,
           3,
           1,
           2,
           3,
           1,
           2,
           3,
           1,
           2,
           3,
           1,
           2,
           3,
           1,
           2,
           3,
           1,
           2,
           3,
           1,
           2,
           3,
           1,
           2,
           3,
           1,
           2,
           3,
           1,
           2,
           3,
           1,
           2,
           3,
           1,
           2,
           3,
           1,
           2,
           3,
           1,
           2,
           3,
           1,
           2,
           3,
           1,
           2,
           3,
           1,
           2,
           3,
           1,
           2,
           3,
           1,
           2,
           3,
           1,
           2,
           3,
           1,
           2,
           3,
           1,
           2,
           3,
           1,
           3,
           1,
           2,
           3,
           1,
           2,
           3,
           1,
           2,
           3,
           1,
           2,
           3,
           1,
           2,
           3,
           1,
           2,
           3,
           1,
           3,
           1,
           2,
           3,
           1,
           2,
           3,
           1,
           2,
           3,
           1,
           2,
           3,
           1,
           2,
           3,
           1,
           2,
           3,
           1,
           2,
           3,
           1,
           2,
           3,
           1,
           2,
           3,
           1,
           2,
           3,
           1,
           2,
           3,
           1,
           2,
           3,
           1,
           2,
           3,
           1,
           3,
           1,
           2,
           3,
           1,
           2,
           3,
           1,
           2,
           3,
           1,
           2,
           3,
           1,
           2,
           3,
           1,
           2,
           3,
           1,
           2,
           3,
           1,
           2,
           3,
           1,
           2,
           3,
           1,
           2,
           3,
           1,
           2,
           3,
           1,
           2,
           3,
           1,
           2,
           3,
           1,
           2,
           3,
           1,
           2,
           3,
           1,
           2,
           3,
           1,
           2,
           3,
           1,
           2,
           3,
           1,
           2,
           3,
           1,
           2,
           3,
           1,
           2,
           3,
           1,
           2,
           3,
           1,
           2,
           3,
           1,
           2,
           3,
           1,
           2,
           3,
           1,
           2,
           3,
           1,
           2,
           3,
           1,
           2,
           3,
           1,
           2,
           3,
           1,
           2,
           3,
           1,
           2,
           3,
           1,
           2,
           3,
           1,
           2,
           3,
           1,
           2,
           3,
           1,
           2,
           3,
           1,
           2,
           3,
           1,
           2,
           3,
           1,
           2,
           3,
           1,
           2,
           3
          ],
          "coloraxis": "coloraxis",
          "symbol": "circle"
         },
         "mode": "markers",
         "name": "",
         "orientation": "v",
         "showlegend": false,
         "type": "scatter",
         "x": [
          -3.2449064043505373,
          2.241555100162124,
          -4.837443302350562,
          3.518954249159686,
          1.1197099844996157,
          -4.373940931323621,
          2.4239826882020727,
          5.168354009563898,
          -5.977271509267583,
          -0.7260045745887582,
          1.3715482575929614,
          -4.579759858124041,
          -1.102027452709111,
          -0.023159183664176422,
          -4.0955025964200455,
          -3.66422203347626,
          0.1073659481158781,
          -4.556278015544607,
          1.5369256959219315,
          11.228269856976242,
          -2.804771991626935,
          -3.2798530767563614,
          -0.9879903422973229,
          -4.656293014503606,
          -4.7999926566563005,
          12.589698023261976,
          -5.478396912113831,
          3.4935203893489213,
          7.160576640644055,
          -4.420647622801961,
          2.269846235993561,
          2.958446400171838,
          -6.118371692230082,
          -0.5569972074605067,
          1.6267645304212377,
          -5.61929536071816,
          4.816183549410457,
          9.912277402527247,
          -6.558644284562357,
          -2.095480812334927,
          5.439446410895422,
          -4.867277517020829,
          -3.1725607061341687,
          -1.0524523623695066,
          -5.780307846161016,
          12.471782886881245,
          -4.458251426393712,
          2.182312977499437,
          3.648627801275447,
          -5.900259472556174,
          -4.721809981561186,
          -1.3208163688876688,
          -5.93562919723515,
          1.516853056565911,
          6.264683783441018,
          -4.642822488499347,
          -2.361742128718311,
          4.362632895793579,
          -5.137382960762376,
          -3.0080179230811086,
          -0.14592620493967012,
          -4.820501136489374,
          -1.5174278366701233,
          6.625958834879936,
          -4.697942403232321,
          -1.4257308562038982,
          2.5161764528707957,
          -4.1056360483385825,
          9.591911836362382,
          -4.930694996454965,
          6.8897006734747706,
          11.127191731346725,
          -4.647916898781416,
          8.532221078205929,
          12.171747416822534,
          -3.7452839218338045,
          -5.665233911892813,
          -4.303020719044169,
          -5.85588048877293,
          -2.677572324502625,
          -0.2443539001773187,
          -5.308408708403035,
          10.782933384277852,
          4.214185416833668,
          -4.213585235734043,
          3.872911012207142,
          10.986638898352435,
          -2.8100063986871757,
          -3.1794490524515164,
          -0.36332184981310717,
          -5.376104654293226,
          13.054362834721115,
          9.274957901098016,
          -4.505198441324393,
          6.9103143052006635,
          -6.251226200334751,
          4.9131593921154115,
          9.951871794324065,
          -4.610861292182591,
          -1.8011940254341545,
          6.608344776352033,
          -4.647265677803896,
          3.6900605123179857,
          10.419185167125866,
          -5.458966844619002,
          -1.7463347661474766,
          -2.3534305669399056,
          -3.2690880714842043,
          -3.2651018113439267,
          -2.0983395771090723,
          -4.572669893054735,
          2.846272583433232,
          8.823179823986008,
          -4.068521036939255,
          -2.941209182458151,
          1.4484953996367798,
          -4.92066152379944,
          -4.216150465674412,
          -2.736895099685318,
          -6.284885506772223,
          -1.1421235283076692,
          -1.2204097586984266,
          -4.709853624054756,
          -1.2034753699932486,
          3.8774331066049617,
          -4.655484800867777,
          -1.8979145123891719,
          0.27620040086694786,
          -5.023623060895887,
          -1.333082151209296,
          2.1422494136242247,
          -5.39938593433145,
          8.560989506255988,
          5.829900984467851,
          -4.419307603863327,
          -1.125481978283586,
          7.925625460503616,
          -4.632435287576,
          -2.4284366347983286,
          1.531982921894277,
          -4.854495937108457,
          11.105633036360164,
          -3.6013983249056727,
          2.086727662196321,
          10.96617940734001,
          -4.724787729191364,
          2.559076360829053,
          9.279022095698924,
          -4.589958145160461,
          -1.6886374819179244,
          3.9521220113309736,
          -4.832195918942881,
          -2.3869841215199172,
          3.7484701194826324,
          -5.15930423968898,
          6.450057935641493,
          10.47873916650208,
          -4.374977064453239,
          -3.3389054335286876,
          0.18026699460066717,
          -6.638855490313831,
          1.1610968625742422,
          -0.35973163360080584,
          -5.107148078183782,
          -1.8572291161263346,
          -1.1415247977383127,
          -5.384425960726914,
          -2.380016896554278,
          -0.6960722176744897,
          -5.1080111780817425,
          3.410125748000005,
          5.895206024149332,
          -3.1929190415223805,
          3.661627783628095,
          4.807658070474405,
          -4.141229170876272,
          7.690539021686589,
          8.933774775103643,
          -5.120902001916552,
          -2.4515622172444917,
          -1.6503033923579578,
          -6.5828247936453606,
          -1.598202885642945,
          3.4612034916785244,
          -5.025591714625474,
          6.149681013529698,
          16.22472004979641,
          -4.300543523677224,
          -0.05337410251803061,
          -4.882918494172661,
          -3.666894878179841,
          9.5712428678219,
          -4.558825517000395,
          1.920093286018891,
          9.194590814887263,
          -3.7210860240976995,
          -2.6536681894334797,
          1.3704760215163327,
          -4.861261709005236,
          -4.242881451004095,
          -1.379420057714475,
          -6.2074017537069786,
          0.622711940010106,
          6.848345313026113,
          -4.261713326590104,
          -1.16188901692381,
          -0.9592006672302891,
          -5.254197528820612,
          10.983804943946206,
          9.97973599450362,
          -4.445162663180424,
          3.010179625091959,
          11.152327489068545,
          -4.73879563713019,
          -3.5714466565540626,
          -0.4483650802974824,
          -3.4819103114240115,
          -2.078090757121294,
          2.2314849878189573,
          -5.568403876151805,
          7.547180438478277,
          2.3219504026547684,
          -3.966762949000298,
          -2.434567295607312,
          9.242416294123078,
          -4.429754069212827,
          -0.5518703174121115,
          8.748783005367446,
          -6.782518192020408,
          0.58692462090207,
          9.831279846548536,
          -4.828100400763226,
          5.238842181977452,
          1.5587237925653619,
          -4.301998236616227,
          -4.521117599246566,
          -2.9546283661976918,
          -5.415055291823599,
          0.39861761101678983,
          5.659061402235193,
          -3.638431458537724,
          -0.03890190344427693,
          2.3058631975062562,
          -5.537020699764486,
          0.32592847401180114,
          7.138537480317741,
          -4.905577700060823,
          3.595642093293516,
          8.402982803131371,
          -5.714487456018005,
          1.34358765514207,
          9.503296398470793,
          -3.93409002071959,
          3.3951826271502235,
          4.681800805989152,
          -4.898750618811776,
          3.367463346225485,
          -3.572333573322221,
          -3.8668108807104633,
          -2.8466604686492722,
          -5.380336998437038,
          -3.277244074284263,
          -0.4657019665147855,
          -5.866799443358439,
          1.672442714811734,
          10.934265934469982,
          -5.023504856215985,
          0.8469188730971933,
          4.241022607648847,
          -3.6325303735574406,
          -0.6770640529524349,
          0.7787001759470847,
          -5.124333243745331,
          -0.13515071043700272,
          8.095154771713128,
          -5.824639884726664,
          12.915038348604984,
          -0.6921831060804022,
          -1.0829619124357317,
          4.974016809199111,
          -4.730234007604722,
          8.453753534487628,
          9.854385057720124,
          -5.464090024194673,
          -2.9851177002884985,
          1.5147556818230576,
          -4.950293695807533,
          -2.8571443840078126,
          -3.0586394344807224,
          -6.975160165022636,
          5.6688975070153615,
          14.735018544498669,
          -3.9472406446392747,
          1.269702051455638,
          4.191688957604445,
          -4.931882593085244,
          -0.48093881209233663,
          5.656256401322801,
          -5.081044147884301,
          -2.6047025789533516,
          2.8891507746617258,
          -5.668592870661297,
          -0.021355269564143325,
          5.508976415369358,
          -3.9946696943550353,
          -3.0618511038023857,
          -1.3223943491411412,
          -4.739285926100973,
          0.17540616613970966,
          2.8679701904545127,
          -5.139502420275415,
          1.933802815873088,
          5.439016792320082,
          -5.335353707234898,
          0.6061205392871062,
          4.431463972544366,
          -4.675467232709287,
          -2.5970635764529635,
          -3.7275052055094435,
          6.092137993637487,
          11.37470761305705,
          -3.791237706901983,
          -2.528983606098061,
          1.062774830144392,
          -4.6129969851284045,
          -0.23249183964074013,
          3.22224043761511,
          -4.731458063452951,
          6.966391987720676,
          4.026147978057232,
          -5.74344395096765,
          1.6789366826631296,
          3.3082698724873,
          -4.956597365184158,
          -2.428893832879494,
          1.8118625770287409,
          -5.423525305305229,
          -0.9895712728142225,
          10.381104598865793,
          -5.12751206609588,
          2.1660908106227286,
          7.901192277035863,
          -4.642881339047606,
          -2.017533894967464,
          2.3922283914551894,
          -4.633444142156062,
          -2.0957261864002743,
          4.307013674028452,
          -4.839406260859581,
          -0.9193231494316514,
          5.220036648010958,
          -5.481966809339409,
          4.083420067491812,
          3.082210640157895,
          -4.713037112294049,
          1.8256737921842419,
          7.752235346170755,
          -2.5637476018808223,
          3.138339287063509,
          11.87748426552485,
          -4.771994012949556,
          -2.9165203622679163,
          -2.0540826752791883,
          -4.797675725758685,
          -5.63536602847306,
          -4.2469633817901045,
          -5.86799564978755,
          2.4864541771951716,
          7.797255631903864,
          -3.412158155816344,
          -0.43120030297948597,
          1.6406794840407848,
          -5.985437399142995,
          4.326234430272531,
          6.521146931723164,
          -5.460162953277847,
          -0.1992213955092785,
          1.9931284520057782,
          -5.434748516325533,
          -0.5806223630041659,
          5.963657998452373,
          -4.803830765072884,
          -3.7714392669327643,
          4.037426408667849,
          -4.901410431714535,
          -1.5914130316184063,
          0.795730983203566,
          -4.256549382344972,
          1.2971467781417139,
          7.387501884742086,
          -4.668514751609313,
          2.4468580250552705,
          3.6380972219324197,
          -4.430381188830242,
          1.1868775073646087,
          5.234447091648038,
          -5.683330912681511,
          -0.8189746541733833,
          3.0794152421078476,
          -5.551042143810851,
          -3.520934083142549,
          -3.1494731017391255,
          -5.470111431598369,
          -2.22199430350348,
          3.8524884162471533,
          -5.116723005661666,
          -0.9758806255160103,
          4.980046981236782,
          -5.148131611642774,
          9.107422348245757,
          8.112795972713663,
          -4.344405059159214,
          5.545995232343503,
          2.490315588356116,
          -4.869920031446792,
          4.023187146562172,
          9.184342200687155,
          -5.302161257176592,
          -2.571118097201445,
          -1.0048276418340085,
          -2.9453753475068467,
          -2.253056337949153,
          0.8294466232041003,
          -5.0160040942140895,
          1.4088190409615522,
          11.145241395859644,
          -4.214352215260624,
          -2.054941867530057,
          -1.0581156766200277,
          -4.537183758991877,
          -3.832604464530869,
          0.09203009236984663,
          -4.368624487723762,
          0.7002155249125473,
          4.734529702997316,
          -4.703417808120764
         ],
         "xaxis": "x",
         "y": [
          -0.9953309813541391,
          -2.0969605186315854,
          -1.119250948163337,
          -1.7625339114600405,
          -1.7648475874824348,
          -1.964861054664302,
          0.9973806960630256,
          1.373929608124477,
          -0.8195072667370388,
          -1.2648060338621094,
          -1.453457527492469,
          -2.190173252270969,
          3.1829887531255174,
          1.9666009813879228,
          1.7623316995849447,
          3.769418976788055,
          3.5067874723789956,
          3.3336870602366657,
          -2.072022336447717,
          -1.9540193375820933,
          -3.48663687491249,
          -0.26060033039271224,
          0.13290209782127135,
          -0.467755580122767,
          -0.9467879318017846,
          -3.3611197833719397,
          -1.1584737663943245,
          -0.28120248881188015,
          -1.103368744825809,
          0.19485378337073325,
          -3.0952011294921156,
          -4.220293127788019,
          -5.410900983427829,
          0.36391737668864527,
          0.8590583137202119,
          -0.8049765655616278,
          1.3308730032777054,
          0.9929564362572008,
          -0.012248022753427956,
          -0.7668672050879968,
          -0.6303149374741317,
          -1.247775340710483,
          1.1344970299689456,
          1.2313524219664067,
          0.00888246142317743,
          1.552520047579393,
          -1.5542337403951783,
          7.143208300389743,
          6.8827809239655,
          6.366486899398465,
          1.9196857797207143,
          2.0272689545018543,
          0.9790785076278593,
          -2.9502220310608505,
          -3.520916035116162,
          -3.534733984582808,
          -1.5412785039091317,
          -2.738422847274741,
          -2.7429083986776415,
          -3.429194635537237,
          -3.1772909822412423,
          -3.2856398124638164,
          -1.8003321384266504,
          -1.3663348501744188,
          -2.278601617026382,
          -1.2785066619700638,
          -0.7215675887827487,
          -1.9057307358648725,
          2.3782635364285984,
          1.283263249792392,
          -1.582529498863938,
          -1.4928029427601668,
          -1.1955944655030346,
          -2.82152556045242,
          -1.2523147683920521,
          -1.5587276974574624,
          -1.0016088602961848,
          -0.5990709069433464,
          -1.5460112594987192,
          0.34309128746044226,
          1.3005924845811458,
          0.339924665627874,
          -4.95358004538175,
          -2.339896360971656,
          -1.4955289279886188,
          -2.91172838484181,
          -2.075093782381241,
          -1.9883104308245576,
          0.3253677813021614,
          -0.2280595048702579,
          -1.5548412606142674,
          -3.7247329561696714,
          -2.939471727493853,
          -1.6242454239215673,
          1.1159969446648554,
          2.0238519938082637,
          1.8740634034866361,
          0.2830896329940122,
          -0.053678130417267156,
          0.5244732129663682,
          0.4657777195402331,
          -0.660570152680591,
          2.5313732352392577,
          2.983137069631044,
          0.6333083718392055,
          2.39561092557401,
          2.4462028530848574,
          2.0158746727391295,
          -0.29071142313825504,
          -0.12887549553217678,
          -1.0495596494543817,
          -0.8506811967324172,
          -0.32422755957208865,
          -0.5841136610815767,
          0.05148680994263997,
          -1.381147696193498,
          -1.3135918976111296,
          4.570581019679529,
          4.871802988390405,
          4.760620370565165,
          0.243617699329098,
          0.3532545980857042,
          0.23728905525981892,
          3.9253963398645686,
          4.187610814379618,
          3.1318009543746452,
          -0.8523292745028155,
          -0.42940039088133924,
          -1.4339575999287868,
          -0.8541535160724248,
          -0.25119806831339886,
          -0.8810342534437783,
          -1.0090206048997703,
          -1.4826962212782633,
          -0.1550432397873076,
          0.29268541106947477,
          -0.9776626611934519,
          -0.11293155913735772,
          -0.6636812616533236,
          -0.5915721318831931,
          -1.6191287966016088,
          0.41027128809056956,
          -2.283823587796069,
          -1.623380966716171,
          -1.8318055969633567,
          -2.492972127491365,
          -0.8458632118863837,
          -0.20754266141333985,
          -2.0617846793062813,
          -0.6494861123616855,
          -0.5810211635831675,
          -1.9085717196010534,
          -0.7153497899586679,
          0.10796060048299033,
          -1.3883374293390547,
          3.6622456022497274,
          3.1506016043233918,
          3.335784432381917,
          2.38358123372655,
          2.3222584936692696,
          1.6795105363268543,
          6.138661057736287,
          6.14018065070934,
          5.028533274805471,
          0.452924686862143,
          -0.03678701571596335,
          -0.43355248655423784,
          -0.028991448503079057,
          0.21538458549014988,
          0.012926543981141438,
          -1.3097130437126097,
          -2.1722213853081125,
          -3.8048846837557564,
          0.0386987548833719,
          -1.1256572806552816,
          -0.8498914936565904,
          -0.06296308699018355,
          -1.4265289286553433,
          -0.907908640306584,
          0.563131748412634,
          0.5329604428714146,
          -0.7266776764708843,
          0.9431784167878056,
          0.8532643206933321,
          0.5900521597771026,
          1.5508672443601643,
          1.1665636181715562,
          0.627199835231797,
          2.002464232868293,
          0.9987406368708781,
          -1.787835444712802,
          -1.1049361808300375,
          -1.9100906912470308,
          -0.19664037319576208,
          -1.95143204502153,
          -1.4533873919335916,
          -0.05817852193442193,
          -0.19126095627809825,
          -1.0202771465392608,
          3.51866576796707,
          4.118288187082661,
          3.2178032198238773,
          2.5010204734784653,
          2.88716457772542,
          2.497356977868797,
          0.24499062208136957,
          0.5163680675614138,
          -0.12227796167765341,
          -3.305729168019696,
          -3.213035262245931,
          -1.6976606822687315,
          -1.2872180724034692,
          0.0797779008735621,
          -2.6869499386511793,
          0.10092326383008107,
          0.057649354648094245,
          0.1727413818539175,
          2.7044842389343215,
          1.1535440508799895,
          1.4221236205042396,
          -2.660316243935094,
          -1.5367027738963421,
          -1.8838850395893367,
          0.7413656811277797,
          1.9394251678757635,
          0.012365443446577638,
          5.142163090241618,
          4.227591252924831,
          3.3671742081197755,
          -0.8790506155062094,
          0.2072346984641044,
          -1.6346085160164123,
          1.2483880197885762,
          -0.05875308107187921,
          -0.8403056810951234,
          -2.5146035173989723,
          -3.0843556962153302,
          -3.1573105094545135,
          -2.921221827614477,
          -3.034973505355449,
          -2.958530853880663,
          1.3593609204194843,
          0.7780116905919705,
          0.6049315361174973,
          -0.10756269013071768,
          -0.4262046017221942,
          -0.798608154981096,
          -4.3462044429980695,
          -4.719702831700617,
          -4.905968906863739,
          -2.6569584592003763,
          -3.909501086740474,
          -3.24658020238121,
          4.81277606669444,
          4.420013245630112,
          4.389578576634962,
          2.2872986384737084,
          1.4468733971281038,
          -1.466765308231561,
          -1.9116397628425341,
          -2.225101339727055,
          1.0647192125048215,
          1.6512709846731461,
          0.01033469478877757,
          0.8077708678656522,
          1.4962045846048042,
          -1.0796522385530198,
          -1.9369743411661615,
          -0.9341448973398858,
          -2.6455104361905497,
          1.0220609231385895,
          0.5224883248462139,
          0.007437137075278919,
          4.472977613371609,
          4.709505144011599,
          3.50771610938521,
          10.50643870240278,
          9.93933008749662,
          -0.8937103880183849,
          -1.4367922810733436,
          -2.0566198147608237,
          -4.2794279661061045,
          -6.887678217162335,
          -3.12959266274887,
          -2.121209993020295,
          -1.3811345174122627,
          -2.7425343493926193,
          5.07733289702765,
          4.43790398293906,
          4.479205639555736,
          5.490327544145136,
          5.372047722143835,
          0.3919574434497735,
          5.2396729050195345,
          3.8395678962018462,
          4.766473928117027,
          0.19498002833187317,
          -1.1119956748625268,
          -1.1844426282003588,
          0.28877359561295474,
          -0.2405095079634183,
          -0.8521762814438835,
          0.0898554610220875,
          -0.9900971426856884,
          0.013845149826374546,
          0.8004792430289668,
          0.8699150299208063,
          0.06935536295748466,
          3.702132817465885,
          4.76902753954103,
          4.154803271440415,
          -0.27885682593922767,
          -0.04050792904136454,
          -1.218608228922504,
          -2.0709491310420556,
          -1.5097545493683506,
          -2.996600209544424,
          0.6639315146142045,
          0.3390918544274479,
          -3.1475213211105664,
          -2.836591213789597,
          -3.4794967121990226,
          -3.7721548670225387,
          -4.435261633998122,
          -5.107264616982687,
          -2.111561594376252,
          -2.3978918515879237,
          -2.780296794589999,
          2.1114924647541846,
          2.82434389419836,
          0.3064029498243167,
          -1.3578200677784953,
          -1.157135940396519,
          -3.388262452592732,
          5.565862445818434,
          4.579532129837924,
          4.702977792680225,
          4.723041022224374,
          4.294795538163668,
          3.023344903270076,
          -1.5866503314093428,
          -2.612037450792088,
          -2.188814672562124,
          -2.3045927881292063,
          -1.756056655576324,
          -2.6576585086099542,
          0.8394493433370831,
          1.27737999983732,
          0.7491040015289483,
          2.7483217086456375,
          0.8318132156238418,
          1.8171451069511486,
          -1.555517823857546,
          -1.3950095451674254,
          -1.3458265990789047,
          -1.4435197881396273,
          -2.9221750912003537,
          -2.593142591837037,
          1.3342613301304163,
          2.093330435098875,
          1.6522038356305524,
          0.7399750117521319,
          -0.16736477927413718,
          -0.2735583019027842,
          0.27813928854874875,
          0.6023033220023761,
          0.0383224708594937,
          -0.7402518362726838,
          -0.20208230190782014,
          -1.0346494614869237,
          -0.3413193449187444,
          -0.3536072230343323,
          -2.2138952152703224,
          1.5332034267166192,
          1.7313720234919039,
          0.7399989843202361,
          3.2614492474347507,
          2.30342299300818,
          2.6202993459101043,
          3.2811089215505356,
          3.2057047147521907,
          1.875257916364319,
          -0.419510836350186,
          -0.28835393313105734,
          -1.3536768846939753,
          -2.5391444192753765,
          -3.024892129487082,
          -3.3638060071238773,
          0.5053602674107768,
          1.2816796476997558,
          0.8373729352640669,
          -1.8525474943530513,
          -1.52485122402677,
          -3.0401380168152903,
          7.395648452651499,
          6.16175762442651,
          4.657603662141251,
          1.2555692037574926,
          0.4026558252374418,
          1.2008076811027204,
          -3.655495302537165,
          -3.55590051466846,
          -4.024192560880142,
          0.23652733687737237,
          -0.533601219015125,
          -0.5347221335030279,
          -1.560873876843768,
          -1.8948172348180714,
          -2.2986859657862557,
          -1.1320661170183848,
          -1.5091636294944528,
          -2.7631862832615863,
          2.433312046128707,
          2.5303101687125666,
          1.5630540052545614,
          -2.603470884010779,
          -2.530954225083277,
          -3.872528583734412,
          1.0776223841478896,
          1.3176199340638066,
          1.2860597225674737,
          2.4024599805305966,
          1.481591274949671,
          1.0573637269264393,
          -4.028899408170821,
          -3.4367234644375264,
          -4.797930614705275,
          -2.6858921119279255,
          -2.7167570770247296,
          -2.7099187317454696,
          5.0840109023215305,
          5.700787902155301,
          4.997569576701149,
          0.8408549739457797,
          0.37428507131494165,
          0.12962618400622655
         ],
         "yaxis": "y"
        }
       ],
       "layout": {
        "coloraxis": {
         "colorbar": {
          "title": {
           "text": "color"
          }
         },
         "colorscale": [
          [
           0,
           "#0d0887"
          ],
          [
           0.1111111111111111,
           "#46039f"
          ],
          [
           0.2222222222222222,
           "#7201a8"
          ],
          [
           0.3333333333333333,
           "#9c179e"
          ],
          [
           0.4444444444444444,
           "#bd3786"
          ],
          [
           0.5555555555555556,
           "#d8576b"
          ],
          [
           0.6666666666666666,
           "#ed7953"
          ],
          [
           0.7777777777777778,
           "#fb9f3a"
          ],
          [
           0.8888888888888888,
           "#fdca26"
          ],
          [
           1,
           "#f0f921"
          ]
         ]
        },
        "legend": {
         "tracegroupgap": 0
        },
        "margin": {
         "t": 60
        },
        "template": {
         "data": {
          "bar": [
           {
            "error_x": {
             "color": "#2a3f5f"
            },
            "error_y": {
             "color": "#2a3f5f"
            },
            "marker": {
             "line": {
              "color": "#E5ECF6",
              "width": 0.5
             },
             "pattern": {
              "fillmode": "overlay",
              "size": 10,
              "solidity": 0.2
             }
            },
            "type": "bar"
           }
          ],
          "barpolar": [
           {
            "marker": {
             "line": {
              "color": "#E5ECF6",
              "width": 0.5
             },
             "pattern": {
              "fillmode": "overlay",
              "size": 10,
              "solidity": 0.2
             }
            },
            "type": "barpolar"
           }
          ],
          "carpet": [
           {
            "aaxis": {
             "endlinecolor": "#2a3f5f",
             "gridcolor": "white",
             "linecolor": "white",
             "minorgridcolor": "white",
             "startlinecolor": "#2a3f5f"
            },
            "baxis": {
             "endlinecolor": "#2a3f5f",
             "gridcolor": "white",
             "linecolor": "white",
             "minorgridcolor": "white",
             "startlinecolor": "#2a3f5f"
            },
            "type": "carpet"
           }
          ],
          "choropleth": [
           {
            "colorbar": {
             "outlinewidth": 0,
             "ticks": ""
            },
            "type": "choropleth"
           }
          ],
          "contour": [
           {
            "colorbar": {
             "outlinewidth": 0,
             "ticks": ""
            },
            "colorscale": [
             [
              0,
              "#0d0887"
             ],
             [
              0.1111111111111111,
              "#46039f"
             ],
             [
              0.2222222222222222,
              "#7201a8"
             ],
             [
              0.3333333333333333,
              "#9c179e"
             ],
             [
              0.4444444444444444,
              "#bd3786"
             ],
             [
              0.5555555555555556,
              "#d8576b"
             ],
             [
              0.6666666666666666,
              "#ed7953"
             ],
             [
              0.7777777777777778,
              "#fb9f3a"
             ],
             [
              0.8888888888888888,
              "#fdca26"
             ],
             [
              1,
              "#f0f921"
             ]
            ],
            "type": "contour"
           }
          ],
          "contourcarpet": [
           {
            "colorbar": {
             "outlinewidth": 0,
             "ticks": ""
            },
            "type": "contourcarpet"
           }
          ],
          "heatmap": [
           {
            "colorbar": {
             "outlinewidth": 0,
             "ticks": ""
            },
            "colorscale": [
             [
              0,
              "#0d0887"
             ],
             [
              0.1111111111111111,
              "#46039f"
             ],
             [
              0.2222222222222222,
              "#7201a8"
             ],
             [
              0.3333333333333333,
              "#9c179e"
             ],
             [
              0.4444444444444444,
              "#bd3786"
             ],
             [
              0.5555555555555556,
              "#d8576b"
             ],
             [
              0.6666666666666666,
              "#ed7953"
             ],
             [
              0.7777777777777778,
              "#fb9f3a"
             ],
             [
              0.8888888888888888,
              "#fdca26"
             ],
             [
              1,
              "#f0f921"
             ]
            ],
            "type": "heatmap"
           }
          ],
          "heatmapgl": [
           {
            "colorbar": {
             "outlinewidth": 0,
             "ticks": ""
            },
            "colorscale": [
             [
              0,
              "#0d0887"
             ],
             [
              0.1111111111111111,
              "#46039f"
             ],
             [
              0.2222222222222222,
              "#7201a8"
             ],
             [
              0.3333333333333333,
              "#9c179e"
             ],
             [
              0.4444444444444444,
              "#bd3786"
             ],
             [
              0.5555555555555556,
              "#d8576b"
             ],
             [
              0.6666666666666666,
              "#ed7953"
             ],
             [
              0.7777777777777778,
              "#fb9f3a"
             ],
             [
              0.8888888888888888,
              "#fdca26"
             ],
             [
              1,
              "#f0f921"
             ]
            ],
            "type": "heatmapgl"
           }
          ],
          "histogram": [
           {
            "marker": {
             "pattern": {
              "fillmode": "overlay",
              "size": 10,
              "solidity": 0.2
             }
            },
            "type": "histogram"
           }
          ],
          "histogram2d": [
           {
            "colorbar": {
             "outlinewidth": 0,
             "ticks": ""
            },
            "colorscale": [
             [
              0,
              "#0d0887"
             ],
             [
              0.1111111111111111,
              "#46039f"
             ],
             [
              0.2222222222222222,
              "#7201a8"
             ],
             [
              0.3333333333333333,
              "#9c179e"
             ],
             [
              0.4444444444444444,
              "#bd3786"
             ],
             [
              0.5555555555555556,
              "#d8576b"
             ],
             [
              0.6666666666666666,
              "#ed7953"
             ],
             [
              0.7777777777777778,
              "#fb9f3a"
             ],
             [
              0.8888888888888888,
              "#fdca26"
             ],
             [
              1,
              "#f0f921"
             ]
            ],
            "type": "histogram2d"
           }
          ],
          "histogram2dcontour": [
           {
            "colorbar": {
             "outlinewidth": 0,
             "ticks": ""
            },
            "colorscale": [
             [
              0,
              "#0d0887"
             ],
             [
              0.1111111111111111,
              "#46039f"
             ],
             [
              0.2222222222222222,
              "#7201a8"
             ],
             [
              0.3333333333333333,
              "#9c179e"
             ],
             [
              0.4444444444444444,
              "#bd3786"
             ],
             [
              0.5555555555555556,
              "#d8576b"
             ],
             [
              0.6666666666666666,
              "#ed7953"
             ],
             [
              0.7777777777777778,
              "#fb9f3a"
             ],
             [
              0.8888888888888888,
              "#fdca26"
             ],
             [
              1,
              "#f0f921"
             ]
            ],
            "type": "histogram2dcontour"
           }
          ],
          "mesh3d": [
           {
            "colorbar": {
             "outlinewidth": 0,
             "ticks": ""
            },
            "type": "mesh3d"
           }
          ],
          "parcoords": [
           {
            "line": {
             "colorbar": {
              "outlinewidth": 0,
              "ticks": ""
             }
            },
            "type": "parcoords"
           }
          ],
          "pie": [
           {
            "automargin": true,
            "type": "pie"
           }
          ],
          "scatter": [
           {
            "fillpattern": {
             "fillmode": "overlay",
             "size": 10,
             "solidity": 0.2
            },
            "type": "scatter"
           }
          ],
          "scatter3d": [
           {
            "line": {
             "colorbar": {
              "outlinewidth": 0,
              "ticks": ""
             }
            },
            "marker": {
             "colorbar": {
              "outlinewidth": 0,
              "ticks": ""
             }
            },
            "type": "scatter3d"
           }
          ],
          "scattercarpet": [
           {
            "marker": {
             "colorbar": {
              "outlinewidth": 0,
              "ticks": ""
             }
            },
            "type": "scattercarpet"
           }
          ],
          "scattergeo": [
           {
            "marker": {
             "colorbar": {
              "outlinewidth": 0,
              "ticks": ""
             }
            },
            "type": "scattergeo"
           }
          ],
          "scattergl": [
           {
            "marker": {
             "colorbar": {
              "outlinewidth": 0,
              "ticks": ""
             }
            },
            "type": "scattergl"
           }
          ],
          "scattermapbox": [
           {
            "marker": {
             "colorbar": {
              "outlinewidth": 0,
              "ticks": ""
             }
            },
            "type": "scattermapbox"
           }
          ],
          "scatterpolar": [
           {
            "marker": {
             "colorbar": {
              "outlinewidth": 0,
              "ticks": ""
             }
            },
            "type": "scatterpolar"
           }
          ],
          "scatterpolargl": [
           {
            "marker": {
             "colorbar": {
              "outlinewidth": 0,
              "ticks": ""
             }
            },
            "type": "scatterpolargl"
           }
          ],
          "scatterternary": [
           {
            "marker": {
             "colorbar": {
              "outlinewidth": 0,
              "ticks": ""
             }
            },
            "type": "scatterternary"
           }
          ],
          "surface": [
           {
            "colorbar": {
             "outlinewidth": 0,
             "ticks": ""
            },
            "colorscale": [
             [
              0,
              "#0d0887"
             ],
             [
              0.1111111111111111,
              "#46039f"
             ],
             [
              0.2222222222222222,
              "#7201a8"
             ],
             [
              0.3333333333333333,
              "#9c179e"
             ],
             [
              0.4444444444444444,
              "#bd3786"
             ],
             [
              0.5555555555555556,
              "#d8576b"
             ],
             [
              0.6666666666666666,
              "#ed7953"
             ],
             [
              0.7777777777777778,
              "#fb9f3a"
             ],
             [
              0.8888888888888888,
              "#fdca26"
             ],
             [
              1,
              "#f0f921"
             ]
            ],
            "type": "surface"
           }
          ],
          "table": [
           {
            "cells": {
             "fill": {
              "color": "#EBF0F8"
             },
             "line": {
              "color": "white"
             }
            },
            "header": {
             "fill": {
              "color": "#C8D4E3"
             },
             "line": {
              "color": "white"
             }
            },
            "type": "table"
           }
          ]
         },
         "layout": {
          "annotationdefaults": {
           "arrowcolor": "#2a3f5f",
           "arrowhead": 0,
           "arrowwidth": 1
          },
          "autotypenumbers": "strict",
          "coloraxis": {
           "colorbar": {
            "outlinewidth": 0,
            "ticks": ""
           }
          },
          "colorscale": {
           "diverging": [
            [
             0,
             "#8e0152"
            ],
            [
             0.1,
             "#c51b7d"
            ],
            [
             0.2,
             "#de77ae"
            ],
            [
             0.3,
             "#f1b6da"
            ],
            [
             0.4,
             "#fde0ef"
            ],
            [
             0.5,
             "#f7f7f7"
            ],
            [
             0.6,
             "#e6f5d0"
            ],
            [
             0.7,
             "#b8e186"
            ],
            [
             0.8,
             "#7fbc41"
            ],
            [
             0.9,
             "#4d9221"
            ],
            [
             1,
             "#276419"
            ]
           ],
           "sequential": [
            [
             0,
             "#0d0887"
            ],
            [
             0.1111111111111111,
             "#46039f"
            ],
            [
             0.2222222222222222,
             "#7201a8"
            ],
            [
             0.3333333333333333,
             "#9c179e"
            ],
            [
             0.4444444444444444,
             "#bd3786"
            ],
            [
             0.5555555555555556,
             "#d8576b"
            ],
            [
             0.6666666666666666,
             "#ed7953"
            ],
            [
             0.7777777777777778,
             "#fb9f3a"
            ],
            [
             0.8888888888888888,
             "#fdca26"
            ],
            [
             1,
             "#f0f921"
            ]
           ],
           "sequentialminus": [
            [
             0,
             "#0d0887"
            ],
            [
             0.1111111111111111,
             "#46039f"
            ],
            [
             0.2222222222222222,
             "#7201a8"
            ],
            [
             0.3333333333333333,
             "#9c179e"
            ],
            [
             0.4444444444444444,
             "#bd3786"
            ],
            [
             0.5555555555555556,
             "#d8576b"
            ],
            [
             0.6666666666666666,
             "#ed7953"
            ],
            [
             0.7777777777777778,
             "#fb9f3a"
            ],
            [
             0.8888888888888888,
             "#fdca26"
            ],
            [
             1,
             "#f0f921"
            ]
           ]
          },
          "colorway": [
           "#636efa",
           "#EF553B",
           "#00cc96",
           "#ab63fa",
           "#FFA15A",
           "#19d3f3",
           "#FF6692",
           "#B6E880",
           "#FF97FF",
           "#FECB52"
          ],
          "font": {
           "color": "#2a3f5f"
          },
          "geo": {
           "bgcolor": "white",
           "lakecolor": "white",
           "landcolor": "#E5ECF6",
           "showlakes": true,
           "showland": true,
           "subunitcolor": "white"
          },
          "hoverlabel": {
           "align": "left"
          },
          "hovermode": "closest",
          "mapbox": {
           "style": "light"
          },
          "paper_bgcolor": "white",
          "plot_bgcolor": "#E5ECF6",
          "polar": {
           "angularaxis": {
            "gridcolor": "white",
            "linecolor": "white",
            "ticks": ""
           },
           "bgcolor": "#E5ECF6",
           "radialaxis": {
            "gridcolor": "white",
            "linecolor": "white",
            "ticks": ""
           }
          },
          "scene": {
           "xaxis": {
            "backgroundcolor": "#E5ECF6",
            "gridcolor": "white",
            "gridwidth": 2,
            "linecolor": "white",
            "showbackground": true,
            "ticks": "",
            "zerolinecolor": "white"
           },
           "yaxis": {
            "backgroundcolor": "#E5ECF6",
            "gridcolor": "white",
            "gridwidth": 2,
            "linecolor": "white",
            "showbackground": true,
            "ticks": "",
            "zerolinecolor": "white"
           },
           "zaxis": {
            "backgroundcolor": "#E5ECF6",
            "gridcolor": "white",
            "gridwidth": 2,
            "linecolor": "white",
            "showbackground": true,
            "ticks": "",
            "zerolinecolor": "white"
           }
          },
          "shapedefaults": {
           "line": {
            "color": "#2a3f5f"
           }
          },
          "ternary": {
           "aaxis": {
            "gridcolor": "white",
            "linecolor": "white",
            "ticks": ""
           },
           "baxis": {
            "gridcolor": "white",
            "linecolor": "white",
            "ticks": ""
           },
           "bgcolor": "#E5ECF6",
           "caxis": {
            "gridcolor": "white",
            "linecolor": "white",
            "ticks": ""
           }
          },
          "title": {
           "x": 0.05
          },
          "xaxis": {
           "automargin": true,
           "gridcolor": "white",
           "linecolor": "white",
           "ticks": "",
           "title": {
            "standoff": 15
           },
           "zerolinecolor": "white",
           "zerolinewidth": 2
          },
          "yaxis": {
           "automargin": true,
           "gridcolor": "white",
           "linecolor": "white",
           "ticks": "",
           "title": {
            "standoff": 15
           },
           "zerolinecolor": "white",
           "zerolinewidth": 2
          }
         }
        },
        "xaxis": {
         "anchor": "y",
         "domain": [
          0,
          1
         ],
         "title": {
          "text": "component1"
         }
        },
        "yaxis": {
         "anchor": "x",
         "domain": [
          0,
          1
         ],
         "title": {
          "text": "component2"
         }
        }
       }
      }
     },
     "metadata": {},
     "output_type": "display_data"
    }
   ],
   "source": [
    "fig = px.scatter(iqms_pca, x=\"component1\", y=\"component2\", color=scores[\"condition\"])\n",
    "fig.show()"
   ]
  },
  {
   "cell_type": "code",
   "execution_count": 40,
   "metadata": {},
   "outputs": [
    {
     "data": {
      "application/vnd.plotly.v1+json": {
       "config": {
        "plotlyServerURL": "https://plot.ly"
       },
       "data": [
        {
         "hovertemplate": "component1=%{x}<br>component2=%{y}<br>color=%{marker.color}<extra></extra>",
         "legendgroup": "",
         "marker": {
          "color": [
           1,
           2,
           3,
           1,
           2,
           3,
           1,
           2,
           3,
           1,
           2,
           3,
           1,
           2,
           3,
           1,
           2,
           3,
           1,
           2,
           3,
           1,
           2,
           3,
           1,
           2,
           3,
           1,
           2,
           3,
           1,
           2,
           3,
           1,
           2,
           3,
           1,
           2,
           3,
           1,
           2,
           3,
           1,
           2,
           3,
           1,
           3,
           1,
           2,
           3,
           1,
           2,
           3,
           1,
           2,
           3,
           1,
           2,
           3,
           1,
           2,
           3,
           1,
           2,
           3,
           1,
           2,
           3,
           1,
           2,
           1,
           2,
           3,
           1,
           2,
           3,
           1,
           2,
           3,
           1,
           2,
           3,
           1,
           2,
           3,
           1,
           2,
           3,
           1,
           2,
           3,
           1,
           2,
           3,
           1,
           3,
           1,
           2,
           3,
           1,
           2,
           3,
           1,
           2,
           3,
           1,
           2,
           3,
           1,
           2,
           3,
           1,
           2,
           3,
           1,
           2,
           3,
           1,
           2,
           3,
           1,
           2,
           3,
           1,
           2,
           3,
           1,
           2,
           3,
           1,
           2,
           3,
           1,
           2,
           3,
           1,
           2,
           3,
           1,
           2,
           3,
           1,
           3,
           1,
           2,
           3,
           1,
           2,
           3,
           1,
           2,
           3,
           1,
           2,
           3,
           1,
           2,
           3,
           1,
           2,
           3,
           1,
           2,
           3,
           1,
           2,
           3,
           1,
           2,
           3,
           1,
           2,
           3,
           1,
           2,
           3,
           1,
           2,
           3,
           1,
           2,
           3,
           1,
           2,
           3,
           1,
           2,
           3,
           1,
           3,
           1,
           2,
           3,
           1,
           2,
           3,
           1,
           2,
           3,
           1,
           2,
           3,
           1,
           2,
           3,
           1,
           2,
           3,
           1,
           2,
           3,
           1,
           2,
           3,
           1,
           2,
           3,
           1,
           2,
           3,
           1,
           2,
           3,
           1,
           2,
           3,
           1,
           2,
           3,
           1,
           2,
           3,
           1,
           2,
           3,
           1,
           2,
           3,
           1,
           2,
           3,
           1,
           2,
           3,
           1,
           2,
           3,
           1,
           2,
           3,
           1,
           2,
           3,
           1,
           2,
           3,
           1,
           3,
           1,
           2,
           3,
           1,
           2,
           3,
           1,
           2,
           3,
           1,
           2,
           3,
           1,
           2,
           3,
           1,
           2,
           3,
           1,
           3,
           1,
           2,
           3,
           1,
           2,
           3,
           1,
           2,
           3,
           1,
           2,
           3,
           1,
           2,
           3,
           1,
           2,
           3,
           1,
           2,
           3,
           1,
           2,
           3,
           1,
           2,
           3,
           1,
           2,
           3,
           1,
           2,
           3,
           1,
           2,
           3,
           1,
           2,
           3,
           1,
           3,
           1,
           2,
           3,
           1,
           2,
           3,
           1,
           2,
           3,
           1,
           2,
           3,
           1,
           2,
           3,
           1,
           2,
           3,
           1,
           2,
           3,
           1,
           2,
           3,
           1,
           2,
           3,
           1,
           2,
           3,
           1,
           2,
           3,
           1,
           2,
           3,
           1,
           2,
           3,
           1,
           2,
           3,
           1,
           2,
           3,
           1,
           2,
           3,
           1,
           2,
           3,
           1,
           2,
           3,
           1,
           2,
           3,
           1,
           2,
           3,
           1,
           2,
           3,
           1,
           2,
           3,
           1,
           2,
           3,
           1,
           2,
           3,
           1,
           2,
           3,
           1,
           2,
           3,
           1,
           2,
           3,
           1,
           2,
           3,
           1,
           2,
           3,
           1,
           2,
           3,
           1,
           2,
           3,
           1,
           2,
           3,
           1,
           2,
           3,
           1,
           2,
           3,
           1,
           2,
           3,
           1,
           2,
           3,
           1,
           2,
           3,
           1,
           2,
           3,
           1,
           2,
           3
          ],
          "coloraxis": "coloraxis",
          "symbol": "circle"
         },
         "mode": "markers",
         "name": "",
         "orientation": "v",
         "showlegend": false,
         "type": "scatter",
         "x": [
          -0.37469751735822865,
          0.26461690694712403,
          -0.4347176806253413,
          0.40795692763119307,
          0.14424830920082243,
          -0.37422904660324874,
          0.34251306653794256,
          0.5291917617686032,
          -0.39094386769180345,
          0.036477780104725264,
          0.16772296141115856,
          -0.17284758329030983,
          -0.07740621465739138,
          0.04500565866954612,
          -0.35776038703699004,
          -0.20189408628148786,
          0.06990074920196582,
          -0.20900868369550737,
          0.17568518223062338,
          0.37939512892240845,
          -0.14177659531303258,
          -0.24416938677532538,
          -0.06543863481690854,
          -0.38390862273115706,
          -0.5252809293925775,
          0.25979604807585055,
          -0.5409753447346496,
          0.4050287777749286,
          0.6055368107792691,
          -0.3782212649960536,
          0.2998419839104325,
          0.3453962765922989,
          -0.28575275379519394,
          -0.04130470278038907,
          0.21593096204767237,
          -0.4187383006551108,
          0.4746132342601618,
          0.527447221955381,
          -0.47069012594676674,
          -0.2615499687548484,
          0.5311452981533287,
          -0.47791247747359783,
          -0.14955900217516746,
          -0.04229871560896947,
          -0.22403471112711948,
          0.3401500969264617,
          -0.2674757526294891,
          0.20672836297126904,
          0.2879633523360895,
          -0.1664206302455308,
          -0.35511417358292563,
          -0.11385277875162479,
          -0.40331399752668207,
          0.24201854839097509,
          0.5688929105283139,
          -0.4075549293669953,
          -0.2639356535853836,
          0.46123924149154133,
          -0.3923087149771408,
          -0.1326446506033425,
          0.03342148759262737,
          -0.2675795859573547,
          -0.02561926246842879,
          0.3445334199826375,
          -0.12470128893951203,
          -0.15539641936130286,
          0.2901119991398096,
          -0.33480896809733574,
          0.4210428653482842,
          -0.3088972079980383,
          0.4298066665819305,
          0.4288008524902298,
          -0.3796597874839662,
          0.47076355637232276,
          0.3540095294032859,
          -0.3554750439620238,
          -0.32419596681716883,
          -0.27487007526242285,
          -0.23281566027485845,
          -0.27028891916721526,
          -0.02135667899847795,
          -0.3763893266142056,
          0.3573380624908687,
          0.4893522577662056,
          -0.4593819403755714,
          0.38942696769620105,
          0.4363762037333805,
          -0.2734442993143841,
          -0.28700230262397747,
          -0.018445534613804777,
          -0.33506883674075877,
          0.2617983747410038,
          0.5476808975907353,
          -0.4028699642894659,
          0.5699355004175207,
          -0.2767447861719476,
          0.41093045105590925,
          0.37277720597148084,
          -0.3359013217033158,
          -0.17628999678020868,
          0.5273674963020645,
          -0.36011510515373146,
          0.29401060103866905,
          0.36087040765524414,
          -0.06994383785107673,
          -0.1864587434124662,
          -0.22475613183918913,
          -0.3086592721844377,
          -0.332877122231415,
          -0.24348662402903723,
          -0.45720595402692465,
          0.30450351174507384,
          0.4072506526113698,
          -0.24684479635727113,
          -0.3821585414537279,
          0.2264013433025175,
          -0.43985480477533145,
          -0.2730024620505759,
          -0.1574143591672223,
          -0.28856843437201213,
          -0.17436809233674314,
          -0.15723456858864243,
          -0.44658955940950607,
          -0.06295415197213011,
          0.29741935689193283,
          -0.08904986963770258,
          -0.12327940828500789,
          0.05826313515347653,
          -0.36872865892397955,
          -0.08972425920750868,
          0.2749996306154428,
          -0.34387694254595425,
          0.3731059735899098,
          0.5814738252043171,
          -0.2832985715042656,
          -0.045355727276699086,
          0.5367574168788007,
          -0.3359434735041435,
          -0.2949016349082375,
          0.21647633873688985,
          -0.492414021970221,
          0.42068263127516003,
          -0.12243726284693067,
          0.2645204816200918,
          0.4281846814865913,
          -0.33519077407073894,
          0.33983849316274845,
          0.5864320465405266,
          -0.45161569788931094,
          -0.22704347289647445,
          0.4696835209582437,
          -0.28728718875681314,
          -0.2893048146380277,
          0.44110099947777764,
          -0.4320139755977227,
          0.4767492396704167,
          0.4007468606423508,
          -0.20574763123426867,
          -0.29284039136089096,
          0.04595570793645206,
          -0.08219839773267439,
          0.15312037301295753,
          0.054162403909381644,
          -0.17965382880939115,
          -0.2040652022773076,
          -0.1326599501566158,
          -0.4593472403952159,
          -0.2510466112842438,
          -0.0649876556090206,
          -0.3726123326456481,
          0.4010359661378574,
          0.5356320722794993,
          -0.10418747890328715,
          0.4357583287378773,
          0.5433383108060758,
          -0.4406561424901095,
          0.567970827647544,
          0.4103152733851418,
          -0.4279450610804936,
          -0.219070902036934,
          -0.17258534526923824,
          -0.3698082562333976,
          -0.14336317759703923,
          0.38426659823589676,
          -0.3120921521202932,
          0.4236800561867464,
          0.1703163966973767,
          -0.39086089347551894,
          0.06055793534628396,
          -0.41883093869628496,
          -0.31164933227403924,
          0.5251138359080645,
          -0.34123635278817793,
          0.2617800000786954,
          0.5053767720900352,
          -0.19185247950474033,
          -0.2678514489700621,
          0.21982834679915375,
          -0.4061902904961864,
          -0.2867058791636281,
          -0.06240921864394076,
          -0.3495933314531409,
          0.11605975233190385,
          0.48133732076940333,
          -0.0022509915268976687,
          -0.05983801819777565,
          -0.03905704001423377,
          -0.39997628332570434,
          0.4371405155934383,
          0.4396861532664122,
          -0.4118335140429071,
          0.39254570085386176,
          0.34127349790656697,
          -0.4271244317808138,
          -0.30235198823294124,
          -0.0841422019488683,
          -0.35353094780648675,
          -0.14807553424001543,
          0.3191644270564334,
          -0.431208319110276,
          0.2143477529860165,
          0.2180672987717037,
          -0.18845530906491212,
          -0.18900869966916647,
          0.46936974132125575,
          -0.3849803128794981,
          0.03336613627838613,
          0.3564725953847938,
          -0.23339402961778696,
          0.08788596722287959,
          0.3881917228870552,
          -0.2643012095531835,
          0.436787557576354,
          0.21152950161196646,
          -0.30131484053836693,
          -0.4611561362149653,
          -0.3385868372862815,
          -0.4424310741132919,
          0.06039609982797897,
          0.5696498094992638,
          -0.32856475857545236,
          0.034698447476220286,
          0.3004231401650944,
          -0.43682889714345324,
          0.04382087553492189,
          0.4714689401726554,
          -0.34406057097671244,
          0.3126901436903515,
          0.49855424966922224,
          -0.21606304107632718,
          0.22747760197970385,
          0.5112807609660835,
          -0.2500328096344228,
          0.32014366100545744,
          0.3966067876169323,
          -0.15587811688189718,
          0.33153810771981596,
          -0.1163935588907537,
          -0.41639472036666114,
          -0.29446906420454994,
          -0.4743345844796815,
          -0.3021502452005615,
          -0.017831595406323408,
          -0.3717841523274726,
          0.20021982455434081,
          0.3501287215781262,
          -0.13243482110737503,
          0.14555948686883152,
          0.38665647764859634,
          -0.13158299570353615,
          -0.04495238511035831,
          0.11040120349464723,
          -0.460511112819626,
          0.029501327256590847,
          0.47679411169708596,
          -0.3579957071342748,
          0.1347012623531759,
          0.11395400870153344,
          -0.08534211422978197,
          0.56404544822319,
          -0.47694467169376775,
          0.4051141446452443,
          0.24163311910372873,
          -0.35423614733971803,
          -0.28809827599893223,
          0.2307899915455045,
          -0.4032358076799616,
          -0.030629025598139382,
          -0.14585993036900552,
          -0.21060438591798783,
          0.32405283738299545,
          0.1474709872288474,
          -0.12066432268422479,
          0.1779307773506977,
          0.39968590121249176,
          -0.20081106194689707,
          -0.029358546183957668,
          0.554208263541081,
          -0.4591046820109895,
          -0.26216954012167604,
          0.3335179569579213,
          -0.3346783183059797,
          -0.009663836504948568,
          0.5225472832109544,
          -0.2466954535822266,
          -0.3015125055988835,
          -0.14930353659472456,
          -0.4343208780973782,
          0.13134924219662797,
          0.3001193286905836,
          -0.03097842935765919,
          0.2761348307372353,
          0.3945457953687083,
          -0.2851369849813737,
          0.11935560797984843,
          0.47615380395810253,
          -0.3868008480605751,
          -0.05219766078043724,
          -0.06251889859120956,
          0.3738180189864271,
          0.21835463046163625,
          -0.10797954713972797,
          -0.1792987025638927,
          0.11023489384318184,
          -0.17923328981743814,
          0.051551380920797384,
          0.36300132427359344,
          -0.31592861179402776,
          0.48822628015387587,
          0.4236128403334206,
          -0.2602916014031309,
          0.21963383026339608,
          0.3903083471638048,
          -0.33746579157310513,
          -0.08595751809894205,
          0.21855620343539145,
          -0.24152896288418663,
          0.07517620107973119,
          0.2951507435595719,
          -0.004865058105346534,
          0.2912954576955833,
          0.5578484300142994,
          -0.39291256416620646,
          -0.2577002043508418,
          0.3048607123655193,
          0.008794825858086231,
          -0.2335107390301596,
          0.42885324385541246,
          -0.4264746274989238,
          -0.040237743220576425,
          0.5040145577286904,
          -0.4351827363348237,
          0.473024273382023,
          0.4149103919503615,
          -0.41838790928638125,
          0.20837674918158322,
          0.5369870760443852,
          -0.22154926295170202,
          0.3992685135549184,
          0.35571033256864326,
          -0.02034549973484077,
          -0.2890033631066734,
          -0.22440450671446413,
          -0.43820357703714996,
          -0.36033742273808744,
          -0.38268544740620614,
          -0.3427041579942651,
          0.33240995765255377,
          0.5945002968415366,
          -0.04176433061307433,
          0.04438908430962239,
          0.2542195171517298,
          -0.37554303450465537,
          0.4526889961346184,
          0.5646547988616506,
          -0.10472034287218598,
          0.07326240183859734,
          0.2611343151373402,
          -0.23216597480164247,
          -0.03638250284644861,
          0.425006488612923,
          -0.38208982448269935,
          -0.4216939860694929,
          0.5020950534001033,
          -0.4402028712298189,
          -0.14637004995065106,
          0.12353192364811502,
          -0.35416440994917325,
          0.18213508593587832,
          0.4272836686591081,
          -0.2951888427418728,
          0.31811625429908,
          0.4115802993114659,
          -0.3391616300286158,
          0.1339532643493359,
          0.29938217193052535,
          -0.09966242480631737,
          -0.007972442753259982,
          0.38315690147284115,
          -0.3454485052059714,
          -0.308341039057199,
          -0.26240291807298266,
          -0.39952593845176504,
          -0.22099138019041198,
          0.45451655236382765,
          -0.3343848429481621,
          -0.10796212149970641,
          0.48122196269602385,
          -0.4784678221641387,
          0.4391507192629481,
          0.4880835079841456,
          -0.25978609300751954,
          0.4505540550306637,
          0.2824945388978532,
          -0.2227099412570298,
          0.3652687613747411,
          0.5466522617066951,
          -0.19078919904481367,
          -0.3257960170703812,
          -0.15895582131272232,
          -0.3461222432607134,
          -0.18347301792488813,
          0.13417746702363398,
          -0.4224796232408592,
          0.19916124441853875,
          0.41312886176586683,
          -0.31703225586853684,
          -0.08876341881379367,
          -0.03541135829289343,
          -0.2513862900192232,
          -0.1866524170204055,
          0.04581716525555176,
          -0.24102995748206435,
          0.09068101810826693,
          0.4784080929366983,
          -0.3722519144083742
         ],
         "xaxis": "x",
         "y": [
          -0.20134074061985519,
          -0.22403461955191284,
          0.07345789096322379,
          -0.20426726070698226,
          -0.3041402663680868,
          0.09538355694250387,
          -0.3324593777866077,
          -0.06232883201516137,
          0.2466677536920982,
          -0.10231490540797578,
          -0.20743192223292417,
          0.1735295744897893,
          -0.23587023832768242,
          -0.25890695978412004,
          0.058427610293611806,
          0.009765082858933833,
          -0.21722757220999464,
          0.1341096009030844,
          -0.16461467999968482,
          0.5123945737331117,
          0.15275128422774106,
          -0.07099845010901391,
          -0.30292547586677504,
          0.10119693461013933,
          0.03547018390141642,
          0.47541363597931935,
          0.1394080336751709,
          -0.21054215933449502,
          0.10422558782013273,
          0.005607301249383021,
          -0.2765197659258675,
          -0.20549191010293744,
          0.2845938025106054,
          -0.4759315755304798,
          -0.43644859042982664,
          0.2301164664284749,
          -0.07248743131683963,
          0.3813748508080183,
          0.23579877789308049,
          -0.32136220702632545,
          -0.007316767788707111,
          0.11091477166771989,
          0.041935870880614734,
          -0.12270900139787409,
          0.25832524229529774,
          0.48959696460186836,
          0.18314884481468222,
          0.08740386636287753,
          0.02079802429987521,
          0.2033745787726804,
          -0.001534472379937651,
          -0.3114128543431907,
          0.17525451809145287,
          -0.360039369769802,
          0.029878580399151256,
          0.100989208012883,
          -0.2565195129506194,
          -0.13292417930435804,
          0.15568605120386295,
          0.10690760058741457,
          -0.11136495856445622,
          0.22276418899432288,
          0.0982482524134639,
          0.24003309901690445,
          0.2763444883616824,
          -0.21457972470418782,
          -0.3374613053859749,
          0.017703153763322068,
          0.37720503439483144,
          0.09958660235771319,
          0.17028169330221446,
          0.5272666077809202,
          0.052584654213312286,
          0.2716904161469918,
          0.5299296415680452,
          -0.025656953086188466,
          0.24161890433612362,
          0.11421619031229252,
          0.2854101917386217,
          -0.16472304602939697,
          -0.30157643361052167,
          0.08420762749836262,
          0.4622260627029773,
          -0.2104328238286955,
          0.020250028962980927,
          -0.07182998893689473,
          0.5112696549437029,
          -0.08108394711301006,
          -0.20903577092094175,
          -0.38105264412623935,
          0.21786640162963067,
          0.4593117170918306,
          0.36414471349657096,
          0.06082676001510397,
          0.14515323240150205,
          0.1691677435528685,
          0.02782987699265129,
          0.38840727043193213,
          0.025812051864318657,
          -0.20338753706211063,
          0.1719159068575104,
          0.18224128764455516,
          0.07434106210376977,
          0.4057387564696794,
          0.24725748741979497,
          -0.23586961515720956,
          -0.14422536764335556,
          -0.09594434158763825,
          -0.14229234778466504,
          -0.260293253790608,
          0.10052438905709496,
          -0.21951043557786487,
          0.31015898323504687,
          0.047397564871005195,
          -0.22325176387620177,
          -0.4079989193603211,
          0.05880643012804693,
          0.003590914199944739,
          -0.08523255167925622,
          0.21468293946691314,
          -0.35865949637663685,
          -0.372239927822795,
          -0.00903422612098221,
          -0.16290647442196646,
          0.02471014125108401,
          0.20601516437895687,
          -0.19698899735458242,
          -0.32457144205541844,
          0.0880574426179393,
          -0.2854570407922605,
          -0.3619805324236285,
          0.15975198360232803,
          0.28784959493210793,
          -0.04190478713454947,
          -0.014342748218459756,
          -0.29241236772443857,
          0.20684308180030075,
          0.024514838891884484,
          -0.29585698317260456,
          -0.4636887548794032,
          0.11045949864860777,
          0.49147015940818617,
          0.16071109139178533,
          -0.34506459132135886,
          0.4958868930258385,
          0.1693973400477772,
          -0.36035375602711917,
          0.32040939948343805,
          0.07325801123548105,
          -0.3380036298924576,
          -0.2845160857473596,
          0.15292737471987874,
          -0.2352013599844941,
          -0.2061690314806482,
          0.14337490126469765,
          0.13113650648263117,
          0.41584328190136993,
          0.0851903897175736,
          -0.15084111568993328,
          -0.32422617636874607,
          0.2867882147733156,
          -0.04409064325537842,
          -0.016541155873302845,
          0.19790076298314135,
          -0.30330950503495513,
          -0.3775997944796946,
          0.18080969972748745,
          -0.21501376535265515,
          -0.33896988836981695,
          0.12010047191531152,
          -0.16125836434116755,
          0.0109157575015854,
          0.12741849335265296,
          -0.22947277943607494,
          -0.20083312741840417,
          -0.06812533445009036,
          0.20257263742258086,
          0.3300713088871313,
          0.1650247516549155,
          -0.25143150536811165,
          -0.27545945436697344,
          0.2548881302537297,
          -0.2662580537745291,
          -0.27924398142943646,
          0.09984256567999568,
          0.1118770463001861,
          0.3876933099861324,
          0.02835854592864018,
          -0.30045207997419543,
          0.10494202267907335,
          0.0916870063349024,
          0.39789894774897083,
          0.1950149585204688,
          -0.24270614550827713,
          0.31932525267183864,
          0.1892306712821336,
          -0.22814454405407594,
          -0.31855679057661895,
          0.08360065245577453,
          0.009585105390368229,
          -0.212442773833468,
          0.2161491432023701,
          -0.30476706715507923,
          0.13411713184895963,
          0.22731283672251015,
          -0.30426968230837576,
          -0.30854092231125696,
          0.1029434074323001,
          0.4965686084478188,
          0.43240388085467746,
          -0.017244110816938468,
          -0.2935684127597569,
          0.4548248049990473,
          0.15100274927302246,
          -0.03709412516757921,
          -0.37321951705357853,
          -0.1190950367402117,
          -0.2852290294188232,
          -0.4101029694891513,
          0.07016062877767054,
          0.28506213469976377,
          -0.041102376945020024,
          0.15312943605197196,
          -0.18764345561228277,
          0.37657877887189906,
          0.06204499655555903,
          -0.09577558794180709,
          0.342399974756891,
          0.2212190657549681,
          -0.15156460158285556,
          0.42587982812163633,
          0.13877937743983026,
          0.0034607657424137223,
          -0.2982965032240488,
          0.12214910295404122,
          0.038826002513754225,
          -0.09396930925547832,
          0.21290716811208218,
          -0.3652881529514838,
          -0.04851482082117312,
          0.07159232830985539,
          -0.45252590005717863,
          -0.4291997607632015,
          0.1284663365258947,
          -0.28281744879767895,
          0.17467101044136088,
          0.16723828040846275,
          -0.011859859357753615,
          0.2924453069397663,
          0.25490595561891155,
          -0.2346019138006027,
          0.369715042592361,
          0.09267839129391811,
          -0.06302389716092956,
          0.008387126646343083,
          0.1390404305433631,
          -0.05229505558314835,
          0.1277892092279444,
          -0.11655165330831346,
          -0.15003201170782537,
          0.1792371469509589,
          -0.07616524017573506,
          -0.3385526106217698,
          0.25173075806194034,
          -0.0353051244596147,
          0.41130360004691585,
          0.24897358778346546,
          0.018824107448018695,
          0.0037713970220267547,
          0.22166762009958316,
          -0.45232339882573286,
          -0.4105442823014868,
          0.16345176885320567,
          -0.21495590740833168,
          0.2909722632859973,
          0.15169208347176397,
          0.3227227010414686,
          0.2737195273083135,
          -0.3790903265288742,
          -0.17590556518544762,
          0.07468123172957206,
          0.3263219392696739,
          0.37623149650803767,
          0.21228916392854993,
          -0.0355622835868828,
          -0.34397069666741514,
          0.20401359692080553,
          0.020571317792745535,
          -0.1214403789191795,
          0.23519533425475594,
          0.17524928427502542,
          0.3475529061396388,
          0.2173282143178496,
          -0.0793108777386264,
          -0.06943297410439213,
          0.09115847459908942,
          -0.4156660731373341,
          -0.03376384077280966,
          0.17759524649373024,
          -0.13683843779047783,
          -0.30657715253734386,
          0.2294585523849652,
          -0.35783492494134034,
          -0.06414818152340997,
          0.022571197290774205,
          -0.1824167989380931,
          -0.3543391222913968,
          0.009897385864895476,
          -0.12036596017257266,
          -0.062144272349113364,
          0.25996710602312084,
          -0.24357008945146696,
          0.055627553856684345,
          0.18947045671220317,
          -0.4050854129236833,
          -0.17356905312273754,
          0.06391542342057244,
          0.12511635170918814,
          0.22322431831533474,
          0.15015155259519328,
          0.38945886945953634,
          0.1470854802703298,
          -0.03079646700822063,
          -0.05261293441286187,
          0.20743453028848055,
          -0.2192337548632742,
          -0.16830548888763508,
          0.12168402227567664,
          0.11975475086841772,
          -0.1061735154724233,
          0.20944304710815304,
          -0.344683235215496,
          -0.28487959030503796,
          0.2298360141708695,
          -0.01086435131475006,
          -0.16130754728201482,
          0.14369900747734413,
          0.1290171729785952,
          0.38251055398537487,
          0.26795877453639133,
          -0.39934195463842037,
          0.21461383132799386,
          0.10125216519429325,
          -0.2606143336128465,
          -0.364293723058653,
          0.2642587302901261,
          -0.25921748131634653,
          -0.10484078957942516,
          0.09091113342040212,
          -0.3434161975150728,
          -0.02026168459495392,
          0.0909401878228413,
          -0.19325116400598455,
          -0.35160254636286686,
          0.03461967800472202,
          -0.2977106582500984,
          0.21001749973476827,
          -0.09113778232334228,
          -0.2165605035024895,
          0.47508346683143116,
          0.2797983620925638,
          -0.25853726062572036,
          -0.35366971735481306,
          0.047558681448203535,
          0.11048074379436253,
          -0.040132806099249095,
          0.1554536857170346,
          -0.32237631316816395,
          0.1837488444588211,
          0.15142531980642943,
          -0.3961577024124424,
          -0.4314472827984679,
          0.2492018063630038,
          -0.11703917412315137,
          0.0921366057375434,
          0.24330746325336472,
          -0.21879593401631436,
          -0.20150765902109002,
          0.13813966906447564,
          -0.27744279135860844,
          0.12846559799444862,
          0.050700141463935984,
          -0.08094131284869069,
          -0.28706979194042087,
          0.12252477762445622,
          -0.24030880538984972,
          -0.34124663406166833,
          0.07995023077475089,
          -0.2837251832623844,
          0.24246184088860148,
          -0.018752525313913273,
          -0.3358362112119056,
          -0.258397766971983,
          0.10529475561719953,
          0.10840545715779411,
          0.1593590623321573,
          0.25447712302662207,
          -0.26389766525440705,
          -0.2767000529867022,
          0.12517981325741312,
          -0.027412964674129046,
          -0.118902946679598,
          0.1799854478637604,
          -0.2147760570486851,
          -0.27241696516696284,
          0.09729976629438016,
          -0.35558778309364464,
          -0.03564787258618901,
          0.1145027697027734,
          0.35800477257033136,
          0.33306748449607415,
          0.10937716824661613,
          0.04282167948517775,
          -0.16114532194027756,
          0.16044519868960458,
          0.0028528064341723914,
          0.3506822500970325,
          0.25187497930362523,
          -0.24465598915188022,
          -0.39948783953418066,
          -0.19036737001004084,
          -0.25829590071548797,
          -0.4131327953140369,
          0.0752799170586141,
          -0.2048799690405974,
          0.4930550868812993,
          0.16845872497214642,
          -0.10150887747492543,
          -0.16379339431222054,
          0.13251601841649302,
          0.07278610921193941,
          -0.08455709682223571,
          0.0876335601875024,
          -0.3629577350158169,
          -0.1694863818260117,
          0.0983392027878476
         ],
         "yaxis": "y"
        }
       ],
       "layout": {
        "coloraxis": {
         "colorbar": {
          "title": {
           "text": "color"
          }
         },
         "colorscale": [
          [
           0,
           "#0d0887"
          ],
          [
           0.1111111111111111,
           "#46039f"
          ],
          [
           0.2222222222222222,
           "#7201a8"
          ],
          [
           0.3333333333333333,
           "#9c179e"
          ],
          [
           0.4444444444444444,
           "#bd3786"
          ],
          [
           0.5555555555555556,
           "#d8576b"
          ],
          [
           0.6666666666666666,
           "#ed7953"
          ],
          [
           0.7777777777777778,
           "#fb9f3a"
          ],
          [
           0.8888888888888888,
           "#fdca26"
          ],
          [
           1,
           "#f0f921"
          ]
         ]
        },
        "legend": {
         "tracegroupgap": 0
        },
        "margin": {
         "t": 60
        },
        "template": {
         "data": {
          "bar": [
           {
            "error_x": {
             "color": "#2a3f5f"
            },
            "error_y": {
             "color": "#2a3f5f"
            },
            "marker": {
             "line": {
              "color": "#E5ECF6",
              "width": 0.5
             },
             "pattern": {
              "fillmode": "overlay",
              "size": 10,
              "solidity": 0.2
             }
            },
            "type": "bar"
           }
          ],
          "barpolar": [
           {
            "marker": {
             "line": {
              "color": "#E5ECF6",
              "width": 0.5
             },
             "pattern": {
              "fillmode": "overlay",
              "size": 10,
              "solidity": 0.2
             }
            },
            "type": "barpolar"
           }
          ],
          "carpet": [
           {
            "aaxis": {
             "endlinecolor": "#2a3f5f",
             "gridcolor": "white",
             "linecolor": "white",
             "minorgridcolor": "white",
             "startlinecolor": "#2a3f5f"
            },
            "baxis": {
             "endlinecolor": "#2a3f5f",
             "gridcolor": "white",
             "linecolor": "white",
             "minorgridcolor": "white",
             "startlinecolor": "#2a3f5f"
            },
            "type": "carpet"
           }
          ],
          "choropleth": [
           {
            "colorbar": {
             "outlinewidth": 0,
             "ticks": ""
            },
            "type": "choropleth"
           }
          ],
          "contour": [
           {
            "colorbar": {
             "outlinewidth": 0,
             "ticks": ""
            },
            "colorscale": [
             [
              0,
              "#0d0887"
             ],
             [
              0.1111111111111111,
              "#46039f"
             ],
             [
              0.2222222222222222,
              "#7201a8"
             ],
             [
              0.3333333333333333,
              "#9c179e"
             ],
             [
              0.4444444444444444,
              "#bd3786"
             ],
             [
              0.5555555555555556,
              "#d8576b"
             ],
             [
              0.6666666666666666,
              "#ed7953"
             ],
             [
              0.7777777777777778,
              "#fb9f3a"
             ],
             [
              0.8888888888888888,
              "#fdca26"
             ],
             [
              1,
              "#f0f921"
             ]
            ],
            "type": "contour"
           }
          ],
          "contourcarpet": [
           {
            "colorbar": {
             "outlinewidth": 0,
             "ticks": ""
            },
            "type": "contourcarpet"
           }
          ],
          "heatmap": [
           {
            "colorbar": {
             "outlinewidth": 0,
             "ticks": ""
            },
            "colorscale": [
             [
              0,
              "#0d0887"
             ],
             [
              0.1111111111111111,
              "#46039f"
             ],
             [
              0.2222222222222222,
              "#7201a8"
             ],
             [
              0.3333333333333333,
              "#9c179e"
             ],
             [
              0.4444444444444444,
              "#bd3786"
             ],
             [
              0.5555555555555556,
              "#d8576b"
             ],
             [
              0.6666666666666666,
              "#ed7953"
             ],
             [
              0.7777777777777778,
              "#fb9f3a"
             ],
             [
              0.8888888888888888,
              "#fdca26"
             ],
             [
              1,
              "#f0f921"
             ]
            ],
            "type": "heatmap"
           }
          ],
          "heatmapgl": [
           {
            "colorbar": {
             "outlinewidth": 0,
             "ticks": ""
            },
            "colorscale": [
             [
              0,
              "#0d0887"
             ],
             [
              0.1111111111111111,
              "#46039f"
             ],
             [
              0.2222222222222222,
              "#7201a8"
             ],
             [
              0.3333333333333333,
              "#9c179e"
             ],
             [
              0.4444444444444444,
              "#bd3786"
             ],
             [
              0.5555555555555556,
              "#d8576b"
             ],
             [
              0.6666666666666666,
              "#ed7953"
             ],
             [
              0.7777777777777778,
              "#fb9f3a"
             ],
             [
              0.8888888888888888,
              "#fdca26"
             ],
             [
              1,
              "#f0f921"
             ]
            ],
            "type": "heatmapgl"
           }
          ],
          "histogram": [
           {
            "marker": {
             "pattern": {
              "fillmode": "overlay",
              "size": 10,
              "solidity": 0.2
             }
            },
            "type": "histogram"
           }
          ],
          "histogram2d": [
           {
            "colorbar": {
             "outlinewidth": 0,
             "ticks": ""
            },
            "colorscale": [
             [
              0,
              "#0d0887"
             ],
             [
              0.1111111111111111,
              "#46039f"
             ],
             [
              0.2222222222222222,
              "#7201a8"
             ],
             [
              0.3333333333333333,
              "#9c179e"
             ],
             [
              0.4444444444444444,
              "#bd3786"
             ],
             [
              0.5555555555555556,
              "#d8576b"
             ],
             [
              0.6666666666666666,
              "#ed7953"
             ],
             [
              0.7777777777777778,
              "#fb9f3a"
             ],
             [
              0.8888888888888888,
              "#fdca26"
             ],
             [
              1,
              "#f0f921"
             ]
            ],
            "type": "histogram2d"
           }
          ],
          "histogram2dcontour": [
           {
            "colorbar": {
             "outlinewidth": 0,
             "ticks": ""
            },
            "colorscale": [
             [
              0,
              "#0d0887"
             ],
             [
              0.1111111111111111,
              "#46039f"
             ],
             [
              0.2222222222222222,
              "#7201a8"
             ],
             [
              0.3333333333333333,
              "#9c179e"
             ],
             [
              0.4444444444444444,
              "#bd3786"
             ],
             [
              0.5555555555555556,
              "#d8576b"
             ],
             [
              0.6666666666666666,
              "#ed7953"
             ],
             [
              0.7777777777777778,
              "#fb9f3a"
             ],
             [
              0.8888888888888888,
              "#fdca26"
             ],
             [
              1,
              "#f0f921"
             ]
            ],
            "type": "histogram2dcontour"
           }
          ],
          "mesh3d": [
           {
            "colorbar": {
             "outlinewidth": 0,
             "ticks": ""
            },
            "type": "mesh3d"
           }
          ],
          "parcoords": [
           {
            "line": {
             "colorbar": {
              "outlinewidth": 0,
              "ticks": ""
             }
            },
            "type": "parcoords"
           }
          ],
          "pie": [
           {
            "automargin": true,
            "type": "pie"
           }
          ],
          "scatter": [
           {
            "fillpattern": {
             "fillmode": "overlay",
             "size": 10,
             "solidity": 0.2
            },
            "type": "scatter"
           }
          ],
          "scatter3d": [
           {
            "line": {
             "colorbar": {
              "outlinewidth": 0,
              "ticks": ""
             }
            },
            "marker": {
             "colorbar": {
              "outlinewidth": 0,
              "ticks": ""
             }
            },
            "type": "scatter3d"
           }
          ],
          "scattercarpet": [
           {
            "marker": {
             "colorbar": {
              "outlinewidth": 0,
              "ticks": ""
             }
            },
            "type": "scattercarpet"
           }
          ],
          "scattergeo": [
           {
            "marker": {
             "colorbar": {
              "outlinewidth": 0,
              "ticks": ""
             }
            },
            "type": "scattergeo"
           }
          ],
          "scattergl": [
           {
            "marker": {
             "colorbar": {
              "outlinewidth": 0,
              "ticks": ""
             }
            },
            "type": "scattergl"
           }
          ],
          "scattermapbox": [
           {
            "marker": {
             "colorbar": {
              "outlinewidth": 0,
              "ticks": ""
             }
            },
            "type": "scattermapbox"
           }
          ],
          "scatterpolar": [
           {
            "marker": {
             "colorbar": {
              "outlinewidth": 0,
              "ticks": ""
             }
            },
            "type": "scatterpolar"
           }
          ],
          "scatterpolargl": [
           {
            "marker": {
             "colorbar": {
              "outlinewidth": 0,
              "ticks": ""
             }
            },
            "type": "scatterpolargl"
           }
          ],
          "scatterternary": [
           {
            "marker": {
             "colorbar": {
              "outlinewidth": 0,
              "ticks": ""
             }
            },
            "type": "scatterternary"
           }
          ],
          "surface": [
           {
            "colorbar": {
             "outlinewidth": 0,
             "ticks": ""
            },
            "colorscale": [
             [
              0,
              "#0d0887"
             ],
             [
              0.1111111111111111,
              "#46039f"
             ],
             [
              0.2222222222222222,
              "#7201a8"
             ],
             [
              0.3333333333333333,
              "#9c179e"
             ],
             [
              0.4444444444444444,
              "#bd3786"
             ],
             [
              0.5555555555555556,
              "#d8576b"
             ],
             [
              0.6666666666666666,
              "#ed7953"
             ],
             [
              0.7777777777777778,
              "#fb9f3a"
             ],
             [
              0.8888888888888888,
              "#fdca26"
             ],
             [
              1,
              "#f0f921"
             ]
            ],
            "type": "surface"
           }
          ],
          "table": [
           {
            "cells": {
             "fill": {
              "color": "#EBF0F8"
             },
             "line": {
              "color": "white"
             }
            },
            "header": {
             "fill": {
              "color": "#C8D4E3"
             },
             "line": {
              "color": "white"
             }
            },
            "type": "table"
           }
          ]
         },
         "layout": {
          "annotationdefaults": {
           "arrowcolor": "#2a3f5f",
           "arrowhead": 0,
           "arrowwidth": 1
          },
          "autotypenumbers": "strict",
          "coloraxis": {
           "colorbar": {
            "outlinewidth": 0,
            "ticks": ""
           }
          },
          "colorscale": {
           "diverging": [
            [
             0,
             "#8e0152"
            ],
            [
             0.1,
             "#c51b7d"
            ],
            [
             0.2,
             "#de77ae"
            ],
            [
             0.3,
             "#f1b6da"
            ],
            [
             0.4,
             "#fde0ef"
            ],
            [
             0.5,
             "#f7f7f7"
            ],
            [
             0.6,
             "#e6f5d0"
            ],
            [
             0.7,
             "#b8e186"
            ],
            [
             0.8,
             "#7fbc41"
            ],
            [
             0.9,
             "#4d9221"
            ],
            [
             1,
             "#276419"
            ]
           ],
           "sequential": [
            [
             0,
             "#0d0887"
            ],
            [
             0.1111111111111111,
             "#46039f"
            ],
            [
             0.2222222222222222,
             "#7201a8"
            ],
            [
             0.3333333333333333,
             "#9c179e"
            ],
            [
             0.4444444444444444,
             "#bd3786"
            ],
            [
             0.5555555555555556,
             "#d8576b"
            ],
            [
             0.6666666666666666,
             "#ed7953"
            ],
            [
             0.7777777777777778,
             "#fb9f3a"
            ],
            [
             0.8888888888888888,
             "#fdca26"
            ],
            [
             1,
             "#f0f921"
            ]
           ],
           "sequentialminus": [
            [
             0,
             "#0d0887"
            ],
            [
             0.1111111111111111,
             "#46039f"
            ],
            [
             0.2222222222222222,
             "#7201a8"
            ],
            [
             0.3333333333333333,
             "#9c179e"
            ],
            [
             0.4444444444444444,
             "#bd3786"
            ],
            [
             0.5555555555555556,
             "#d8576b"
            ],
            [
             0.6666666666666666,
             "#ed7953"
            ],
            [
             0.7777777777777778,
             "#fb9f3a"
            ],
            [
             0.8888888888888888,
             "#fdca26"
            ],
            [
             1,
             "#f0f921"
            ]
           ]
          },
          "colorway": [
           "#636efa",
           "#EF553B",
           "#00cc96",
           "#ab63fa",
           "#FFA15A",
           "#19d3f3",
           "#FF6692",
           "#B6E880",
           "#FF97FF",
           "#FECB52"
          ],
          "font": {
           "color": "#2a3f5f"
          },
          "geo": {
           "bgcolor": "white",
           "lakecolor": "white",
           "landcolor": "#E5ECF6",
           "showlakes": true,
           "showland": true,
           "subunitcolor": "white"
          },
          "hoverlabel": {
           "align": "left"
          },
          "hovermode": "closest",
          "mapbox": {
           "style": "light"
          },
          "paper_bgcolor": "white",
          "plot_bgcolor": "#E5ECF6",
          "polar": {
           "angularaxis": {
            "gridcolor": "white",
            "linecolor": "white",
            "ticks": ""
           },
           "bgcolor": "#E5ECF6",
           "radialaxis": {
            "gridcolor": "white",
            "linecolor": "white",
            "ticks": ""
           }
          },
          "scene": {
           "xaxis": {
            "backgroundcolor": "#E5ECF6",
            "gridcolor": "white",
            "gridwidth": 2,
            "linecolor": "white",
            "showbackground": true,
            "ticks": "",
            "zerolinecolor": "white"
           },
           "yaxis": {
            "backgroundcolor": "#E5ECF6",
            "gridcolor": "white",
            "gridwidth": 2,
            "linecolor": "white",
            "showbackground": true,
            "ticks": "",
            "zerolinecolor": "white"
           },
           "zaxis": {
            "backgroundcolor": "#E5ECF6",
            "gridcolor": "white",
            "gridwidth": 2,
            "linecolor": "white",
            "showbackground": true,
            "ticks": "",
            "zerolinecolor": "white"
           }
          },
          "shapedefaults": {
           "line": {
            "color": "#2a3f5f"
           }
          },
          "ternary": {
           "aaxis": {
            "gridcolor": "white",
            "linecolor": "white",
            "ticks": ""
           },
           "baxis": {
            "gridcolor": "white",
            "linecolor": "white",
            "ticks": ""
           },
           "bgcolor": "#E5ECF6",
           "caxis": {
            "gridcolor": "white",
            "linecolor": "white",
            "ticks": ""
           }
          },
          "title": {
           "x": 0.05
          },
          "xaxis": {
           "automargin": true,
           "gridcolor": "white",
           "linecolor": "white",
           "ticks": "",
           "title": {
            "standoff": 15
           },
           "zerolinecolor": "white",
           "zerolinewidth": 2
          },
          "yaxis": {
           "automargin": true,
           "gridcolor": "white",
           "linecolor": "white",
           "ticks": "",
           "title": {
            "standoff": 15
           },
           "zerolinecolor": "white",
           "zerolinewidth": 2
          }
         }
        },
        "xaxis": {
         "anchor": "y",
         "domain": [
          0,
          1
         ],
         "title": {
          "text": "component1"
         }
        },
        "yaxis": {
         "anchor": "x",
         "domain": [
          0,
          1
         ],
         "title": {
          "text": "component2"
         }
        }
       }
      }
     },
     "metadata": {},
     "output_type": "display_data"
    }
   ],
   "source": [
    "fig = px.scatter(iqms_kpca, x=\"component1\", y=\"component2\", color=scores[\"condition\"])\n",
    "fig.show()"
   ]
  },
  {
   "cell_type": "code",
   "execution_count": 42,
   "metadata": {},
   "outputs": [
    {
     "data": {
      "application/vnd.plotly.v1+json": {
       "config": {
        "plotlyServerURL": "https://plot.ly"
       },
       "data": [
        {
         "hovertemplate": "component1=%{x}<br>component2=%{y}<br>component3=%{z}<br>color=%{marker.color}<extra></extra>",
         "legendgroup": "",
         "marker": {
          "color": [
           1,
           2,
           3,
           1,
           2,
           3,
           1,
           2,
           3,
           1,
           2,
           3,
           1,
           2,
           3,
           1,
           2,
           3,
           1,
           2,
           3,
           1,
           2,
           3,
           1,
           2,
           3,
           1,
           2,
           3,
           1,
           2,
           3,
           1,
           2,
           3,
           1,
           2,
           3,
           1,
           2,
           3,
           1,
           2,
           3,
           1,
           3,
           1,
           2,
           3,
           1,
           2,
           3,
           1,
           2,
           3,
           1,
           2,
           3,
           1,
           2,
           3,
           1,
           2,
           3,
           1,
           2,
           3,
           1,
           2,
           1,
           2,
           3,
           1,
           2,
           3,
           1,
           2,
           3,
           1,
           2,
           3,
           1,
           2,
           3,
           1,
           2,
           3,
           1,
           2,
           3,
           1,
           2,
           3,
           1,
           3,
           1,
           2,
           3,
           1,
           2,
           3,
           1,
           2,
           3,
           1,
           2,
           3,
           1,
           2,
           3,
           1,
           2,
           3,
           1,
           2,
           3,
           1,
           2,
           3,
           1,
           2,
           3,
           1,
           2,
           3,
           1,
           2,
           3,
           1,
           2,
           3,
           1,
           2,
           3,
           1,
           2,
           3,
           1,
           2,
           3,
           1,
           3,
           1,
           2,
           3,
           1,
           2,
           3,
           1,
           2,
           3,
           1,
           2,
           3,
           1,
           2,
           3,
           1,
           2,
           3,
           1,
           2,
           3,
           1,
           2,
           3,
           1,
           2,
           3,
           1,
           2,
           3,
           1,
           2,
           3,
           1,
           2,
           3,
           1,
           2,
           3,
           1,
           2,
           3,
           1,
           2,
           3,
           1,
           3,
           1,
           2,
           3,
           1,
           2,
           3,
           1,
           2,
           3,
           1,
           2,
           3,
           1,
           2,
           3,
           1,
           2,
           3,
           1,
           2,
           3,
           1,
           2,
           3,
           1,
           2,
           3,
           1,
           2,
           3,
           1,
           2,
           3,
           1,
           2,
           3,
           1,
           2,
           3,
           1,
           2,
           3,
           1,
           2,
           3,
           1,
           2,
           3,
           1,
           2,
           3,
           1,
           2,
           3,
           1,
           2,
           3,
           1,
           2,
           3,
           1,
           2,
           3,
           1,
           2,
           3,
           1,
           3,
           1,
           2,
           3,
           1,
           2,
           3,
           1,
           2,
           3,
           1,
           2,
           3,
           1,
           2,
           3,
           1,
           2,
           3,
           1,
           3,
           1,
           2,
           3,
           1,
           2,
           3,
           1,
           2,
           3,
           1,
           2,
           3,
           1,
           2,
           3,
           1,
           2,
           3,
           1,
           2,
           3,
           1,
           2,
           3,
           1,
           2,
           3,
           1,
           2,
           3,
           1,
           2,
           3,
           1,
           2,
           3,
           1,
           2,
           3,
           1,
           3,
           1,
           2,
           3,
           1,
           2,
           3,
           1,
           2,
           3,
           1,
           2,
           3,
           1,
           2,
           3,
           1,
           2,
           3,
           1,
           2,
           3,
           1,
           2,
           3,
           1,
           2,
           3,
           1,
           2,
           3,
           1,
           2,
           3,
           1,
           2,
           3,
           1,
           2,
           3,
           1,
           2,
           3,
           1,
           2,
           3,
           1,
           2,
           3,
           1,
           2,
           3,
           1,
           2,
           3,
           1,
           2,
           3,
           1,
           2,
           3,
           1,
           2,
           3,
           1,
           2,
           3,
           1,
           2,
           3,
           1,
           2,
           3,
           1,
           2,
           3,
           1,
           2,
           3,
           1,
           2,
           3,
           1,
           2,
           3,
           1,
           2,
           3,
           1,
           2,
           3,
           1,
           2,
           3,
           1,
           2,
           3,
           1,
           2,
           3,
           1,
           2,
           3,
           1,
           2,
           3,
           1,
           2,
           3,
           1,
           2,
           3,
           1,
           2,
           3,
           1,
           2,
           3
          ],
          "coloraxis": "coloraxis",
          "symbol": "circle"
         },
         "mode": "markers",
         "name": "",
         "scene": "scene",
         "showlegend": false,
         "type": "scatter3d",
         "x": [
          -3.2449064043505373,
          2.241555100162124,
          -4.837443302350562,
          3.518954249159686,
          1.1197099844996157,
          -4.373940931323621,
          2.4239826882020727,
          5.168354009563898,
          -5.977271509267583,
          -0.7260045745887582,
          1.3715482575929614,
          -4.579759858124041,
          -1.102027452709111,
          -0.023159183664176422,
          -4.0955025964200455,
          -3.66422203347626,
          0.1073659481158781,
          -4.556278015544607,
          1.5369256959219315,
          11.228269856976242,
          -2.804771991626935,
          -3.2798530767563614,
          -0.9879903422973229,
          -4.656293014503606,
          -4.7999926566563005,
          12.589698023261976,
          -5.478396912113831,
          3.4935203893489213,
          7.160576640644055,
          -4.420647622801961,
          2.269846235993561,
          2.958446400171838,
          -6.118371692230082,
          -0.5569972074605067,
          1.6267645304212377,
          -5.61929536071816,
          4.816183549410457,
          9.912277402527247,
          -6.558644284562357,
          -2.095480812334927,
          5.439446410895422,
          -4.867277517020829,
          -3.1725607061341687,
          -1.0524523623695066,
          -5.780307846161016,
          12.471782886881245,
          -4.458251426393712,
          2.182312977499437,
          3.648627801275447,
          -5.900259472556174,
          -4.721809981561186,
          -1.3208163688876688,
          -5.93562919723515,
          1.516853056565911,
          6.264683783441018,
          -4.642822488499347,
          -2.361742128718311,
          4.362632895793579,
          -5.137382960762376,
          -3.0080179230811086,
          -0.14592620493967012,
          -4.820501136489374,
          -1.5174278366701233,
          6.625958834879936,
          -4.697942403232321,
          -1.4257308562038982,
          2.5161764528707957,
          -4.1056360483385825,
          9.591911836362382,
          -4.930694996454965,
          6.8897006734747706,
          11.127191731346725,
          -4.647916898781416,
          8.532221078205929,
          12.171747416822534,
          -3.7452839218338045,
          -5.665233911892813,
          -4.303020719044169,
          -5.85588048877293,
          -2.677572324502625,
          -0.2443539001773187,
          -5.308408708403035,
          10.782933384277852,
          4.214185416833668,
          -4.213585235734043,
          3.872911012207142,
          10.986638898352435,
          -2.8100063986871757,
          -3.1794490524515164,
          -0.36332184981310717,
          -5.376104654293226,
          13.054362834721115,
          9.274957901098016,
          -4.505198441324393,
          6.9103143052006635,
          -6.251226200334751,
          4.9131593921154115,
          9.951871794324065,
          -4.610861292182591,
          -1.8011940254341545,
          6.608344776352033,
          -4.647265677803896,
          3.6900605123179857,
          10.419185167125866,
          -5.458966844619002,
          -1.7463347661474766,
          -2.3534305669399056,
          -3.2690880714842043,
          -3.2651018113439267,
          -2.0983395771090723,
          -4.572669893054735,
          2.846272583433232,
          8.823179823986008,
          -4.068521036939255,
          -2.941209182458151,
          1.4484953996367798,
          -4.92066152379944,
          -4.216150465674412,
          -2.736895099685318,
          -6.284885506772223,
          -1.1421235283076692,
          -1.2204097586984266,
          -4.709853624054756,
          -1.2034753699932486,
          3.8774331066049617,
          -4.655484800867777,
          -1.8979145123891719,
          0.27620040086694786,
          -5.023623060895887,
          -1.333082151209296,
          2.1422494136242247,
          -5.39938593433145,
          8.560989506255988,
          5.829900984467851,
          -4.419307603863327,
          -1.125481978283586,
          7.925625460503616,
          -4.632435287576,
          -2.4284366347983286,
          1.531982921894277,
          -4.854495937108457,
          11.105633036360164,
          -3.6013983249056727,
          2.086727662196321,
          10.96617940734001,
          -4.724787729191364,
          2.559076360829053,
          9.279022095698924,
          -4.589958145160461,
          -1.6886374819179244,
          3.9521220113309736,
          -4.832195918942881,
          -2.3869841215199172,
          3.7484701194826324,
          -5.15930423968898,
          6.450057935641493,
          10.47873916650208,
          -4.374977064453239,
          -3.3389054335286876,
          0.18026699460066717,
          -6.638855490313831,
          1.1610968625742422,
          -0.35973163360080584,
          -5.107148078183782,
          -1.8572291161263346,
          -1.1415247977383127,
          -5.384425960726914,
          -2.380016896554278,
          -0.6960722176744897,
          -5.1080111780817425,
          3.410125748000005,
          5.895206024149332,
          -3.1929190415223805,
          3.661627783628095,
          4.807658070474405,
          -4.141229170876272,
          7.690539021686589,
          8.933774775103643,
          -5.120902001916552,
          -2.4515622172444917,
          -1.6503033923579578,
          -6.5828247936453606,
          -1.598202885642945,
          3.4612034916785244,
          -5.025591714625474,
          6.149681013529698,
          16.22472004979641,
          -4.300543523677224,
          -0.05337410251803061,
          -4.882918494172661,
          -3.666894878179841,
          9.5712428678219,
          -4.558825517000395,
          1.920093286018891,
          9.194590814887263,
          -3.7210860240976995,
          -2.6536681894334797,
          1.3704760215163327,
          -4.861261709005236,
          -4.242881451004095,
          -1.379420057714475,
          -6.2074017537069786,
          0.622711940010106,
          6.848345313026113,
          -4.261713326590104,
          -1.16188901692381,
          -0.9592006672302891,
          -5.254197528820612,
          10.983804943946206,
          9.97973599450362,
          -4.445162663180424,
          3.010179625091959,
          11.152327489068545,
          -4.73879563713019,
          -3.5714466565540626,
          -0.4483650802974824,
          -3.4819103114240115,
          -2.078090757121294,
          2.2314849878189573,
          -5.568403876151805,
          7.547180438478277,
          2.3219504026547684,
          -3.966762949000298,
          -2.434567295607312,
          9.242416294123078,
          -4.429754069212827,
          -0.5518703174121115,
          8.748783005367446,
          -6.782518192020408,
          0.58692462090207,
          9.831279846548536,
          -4.828100400763226,
          5.238842181977452,
          1.5587237925653619,
          -4.301998236616227,
          -4.521117599246566,
          -2.9546283661976918,
          -5.415055291823599,
          0.39861761101678983,
          5.659061402235193,
          -3.638431458537724,
          -0.03890190344427693,
          2.3058631975062562,
          -5.537020699764486,
          0.32592847401180114,
          7.138537480317741,
          -4.905577700060823,
          3.595642093293516,
          8.402982803131371,
          -5.714487456018005,
          1.34358765514207,
          9.503296398470793,
          -3.93409002071959,
          3.3951826271502235,
          4.681800805989152,
          -4.898750618811776,
          3.367463346225485,
          -3.572333573322221,
          -3.8668108807104633,
          -2.8466604686492722,
          -5.380336998437038,
          -3.277244074284263,
          -0.4657019665147855,
          -5.866799443358439,
          1.672442714811734,
          10.934265934469982,
          -5.023504856215985,
          0.8469188730971933,
          4.241022607648847,
          -3.6325303735574406,
          -0.6770640529524349,
          0.7787001759470847,
          -5.124333243745331,
          -0.13515071043700272,
          8.095154771713128,
          -5.824639884726664,
          12.915038348604984,
          -0.6921831060804022,
          -1.0829619124357317,
          4.974016809199111,
          -4.730234007604722,
          8.453753534487628,
          9.854385057720124,
          -5.464090024194673,
          -2.9851177002884985,
          1.5147556818230576,
          -4.950293695807533,
          -2.8571443840078126,
          -3.0586394344807224,
          -6.975160165022636,
          5.6688975070153615,
          14.735018544498669,
          -3.9472406446392747,
          1.269702051455638,
          4.191688957604445,
          -4.931882593085244,
          -0.48093881209233663,
          5.656256401322801,
          -5.081044147884301,
          -2.6047025789533516,
          2.8891507746617258,
          -5.668592870661297,
          -0.021355269564143325,
          5.508976415369358,
          -3.9946696943550353,
          -3.0618511038023857,
          -1.3223943491411412,
          -4.739285926100973,
          0.17540616613970966,
          2.8679701904545127,
          -5.139502420275415,
          1.933802815873088,
          5.439016792320082,
          -5.335353707234898,
          0.6061205392871062,
          4.431463972544366,
          -4.675467232709287,
          -2.5970635764529635,
          -3.7275052055094435,
          6.092137993637487,
          11.37470761305705,
          -3.791237706901983,
          -2.528983606098061,
          1.062774830144392,
          -4.6129969851284045,
          -0.23249183964074013,
          3.22224043761511,
          -4.731458063452951,
          6.966391987720676,
          4.026147978057232,
          -5.74344395096765,
          1.6789366826631296,
          3.3082698724873,
          -4.956597365184158,
          -2.428893832879494,
          1.8118625770287409,
          -5.423525305305229,
          -0.9895712728142225,
          10.381104598865793,
          -5.12751206609588,
          2.1660908106227286,
          7.901192277035863,
          -4.642881339047606,
          -2.017533894967464,
          2.3922283914551894,
          -4.633444142156062,
          -2.0957261864002743,
          4.307013674028452,
          -4.839406260859581,
          -0.9193231494316514,
          5.220036648010958,
          -5.481966809339409,
          4.083420067491812,
          3.082210640157895,
          -4.713037112294049,
          1.8256737921842419,
          7.752235346170755,
          -2.5637476018808223,
          3.138339287063509,
          11.87748426552485,
          -4.771994012949556,
          -2.9165203622679163,
          -2.0540826752791883,
          -4.797675725758685,
          -5.63536602847306,
          -4.2469633817901045,
          -5.86799564978755,
          2.4864541771951716,
          7.797255631903864,
          -3.412158155816344,
          -0.43120030297948597,
          1.6406794840407848,
          -5.985437399142995,
          4.326234430272531,
          6.521146931723164,
          -5.460162953277847,
          -0.1992213955092785,
          1.9931284520057782,
          -5.434748516325533,
          -0.5806223630041659,
          5.963657998452373,
          -4.803830765072884,
          -3.7714392669327643,
          4.037426408667849,
          -4.901410431714535,
          -1.5914130316184063,
          0.795730983203566,
          -4.256549382344972,
          1.2971467781417139,
          7.387501884742086,
          -4.668514751609313,
          2.4468580250552705,
          3.6380972219324197,
          -4.430381188830242,
          1.1868775073646087,
          5.234447091648038,
          -5.683330912681511,
          -0.8189746541733833,
          3.0794152421078476,
          -5.551042143810851,
          -3.520934083142549,
          -3.1494731017391255,
          -5.470111431598369,
          -2.22199430350348,
          3.8524884162471533,
          -5.116723005661666,
          -0.9758806255160103,
          4.980046981236782,
          -5.148131611642774,
          9.107422348245757,
          8.112795972713663,
          -4.344405059159214,
          5.545995232343503,
          2.490315588356116,
          -4.869920031446792,
          4.023187146562172,
          9.184342200687155,
          -5.302161257176592,
          -2.571118097201445,
          -1.0048276418340085,
          -2.9453753475068467,
          -2.253056337949153,
          0.8294466232041003,
          -5.0160040942140895,
          1.4088190409615522,
          11.145241395859644,
          -4.214352215260624,
          -2.054941867530057,
          -1.0581156766200277,
          -4.537183758991877,
          -3.832604464530869,
          0.09203009236984663,
          -4.368624487723762,
          0.7002155249125473,
          4.734529702997316,
          -4.703417808120764
         ],
         "y": [
          -0.9953309813541391,
          -2.0969605186315854,
          -1.119250948163337,
          -1.7625339114600405,
          -1.7648475874824348,
          -1.964861054664302,
          0.9973806960630256,
          1.373929608124477,
          -0.8195072667370388,
          -1.2648060338621094,
          -1.453457527492469,
          -2.190173252270969,
          3.1829887531255174,
          1.9666009813879228,
          1.7623316995849447,
          3.769418976788055,
          3.5067874723789956,
          3.3336870602366657,
          -2.072022336447717,
          -1.9540193375820933,
          -3.48663687491249,
          -0.26060033039271224,
          0.13290209782127135,
          -0.467755580122767,
          -0.9467879318017846,
          -3.3611197833719397,
          -1.1584737663943245,
          -0.28120248881188015,
          -1.103368744825809,
          0.19485378337073325,
          -3.0952011294921156,
          -4.220293127788019,
          -5.410900983427829,
          0.36391737668864527,
          0.8590583137202119,
          -0.8049765655616278,
          1.3308730032777054,
          0.9929564362572008,
          -0.012248022753427956,
          -0.7668672050879968,
          -0.6303149374741317,
          -1.247775340710483,
          1.1344970299689456,
          1.2313524219664067,
          0.00888246142317743,
          1.552520047579393,
          -1.5542337403951783,
          7.143208300389743,
          6.8827809239655,
          6.366486899398465,
          1.9196857797207143,
          2.0272689545018543,
          0.9790785076278593,
          -2.9502220310608505,
          -3.520916035116162,
          -3.534733984582808,
          -1.5412785039091317,
          -2.738422847274741,
          -2.7429083986776415,
          -3.429194635537237,
          -3.1772909822412423,
          -3.2856398124638164,
          -1.8003321384266504,
          -1.3663348501744188,
          -2.278601617026382,
          -1.2785066619700638,
          -0.7215675887827487,
          -1.9057307358648725,
          2.3782635364285984,
          1.283263249792392,
          -1.582529498863938,
          -1.4928029427601668,
          -1.1955944655030346,
          -2.82152556045242,
          -1.2523147683920521,
          -1.5587276974574624,
          -1.0016088602961848,
          -0.5990709069433464,
          -1.5460112594987192,
          0.34309128746044226,
          1.3005924845811458,
          0.339924665627874,
          -4.95358004538175,
          -2.339896360971656,
          -1.4955289279886188,
          -2.91172838484181,
          -2.075093782381241,
          -1.9883104308245576,
          0.3253677813021614,
          -0.2280595048702579,
          -1.5548412606142674,
          -3.7247329561696714,
          -2.939471727493853,
          -1.6242454239215673,
          1.1159969446648554,
          2.0238519938082637,
          1.8740634034866361,
          0.2830896329940122,
          -0.053678130417267156,
          0.5244732129663682,
          0.4657777195402331,
          -0.660570152680591,
          2.5313732352392577,
          2.983137069631044,
          0.6333083718392055,
          2.39561092557401,
          2.4462028530848574,
          2.0158746727391295,
          -0.29071142313825504,
          -0.12887549553217678,
          -1.0495596494543817,
          -0.8506811967324172,
          -0.32422755957208865,
          -0.5841136610815767,
          0.05148680994263997,
          -1.381147696193498,
          -1.3135918976111296,
          4.570581019679529,
          4.871802988390405,
          4.760620370565165,
          0.243617699329098,
          0.3532545980857042,
          0.23728905525981892,
          3.9253963398645686,
          4.187610814379618,
          3.1318009543746452,
          -0.8523292745028155,
          -0.42940039088133924,
          -1.4339575999287868,
          -0.8541535160724248,
          -0.25119806831339886,
          -0.8810342534437783,
          -1.0090206048997703,
          -1.4826962212782633,
          -0.1550432397873076,
          0.29268541106947477,
          -0.9776626611934519,
          -0.11293155913735772,
          -0.6636812616533236,
          -0.5915721318831931,
          -1.6191287966016088,
          0.41027128809056956,
          -2.283823587796069,
          -1.623380966716171,
          -1.8318055969633567,
          -2.492972127491365,
          -0.8458632118863837,
          -0.20754266141333985,
          -2.0617846793062813,
          -0.6494861123616855,
          -0.5810211635831675,
          -1.9085717196010534,
          -0.7153497899586679,
          0.10796060048299033,
          -1.3883374293390547,
          3.6622456022497274,
          3.1506016043233918,
          3.335784432381917,
          2.38358123372655,
          2.3222584936692696,
          1.6795105363268543,
          6.138661057736287,
          6.14018065070934,
          5.028533274805471,
          0.452924686862143,
          -0.03678701571596335,
          -0.43355248655423784,
          -0.028991448503079057,
          0.21538458549014988,
          0.012926543981141438,
          -1.3097130437126097,
          -2.1722213853081125,
          -3.8048846837557564,
          0.0386987548833719,
          -1.1256572806552816,
          -0.8498914936565904,
          -0.06296308699018355,
          -1.4265289286553433,
          -0.907908640306584,
          0.563131748412634,
          0.5329604428714146,
          -0.7266776764708843,
          0.9431784167878056,
          0.8532643206933321,
          0.5900521597771026,
          1.5508672443601643,
          1.1665636181715562,
          0.627199835231797,
          2.002464232868293,
          0.9987406368708781,
          -1.787835444712802,
          -1.1049361808300375,
          -1.9100906912470308,
          -0.19664037319576208,
          -1.95143204502153,
          -1.4533873919335916,
          -0.05817852193442193,
          -0.19126095627809825,
          -1.0202771465392608,
          3.51866576796707,
          4.118288187082661,
          3.2178032198238773,
          2.5010204734784653,
          2.88716457772542,
          2.497356977868797,
          0.24499062208136957,
          0.5163680675614138,
          -0.12227796167765341,
          -3.305729168019696,
          -3.213035262245931,
          -1.6976606822687315,
          -1.2872180724034692,
          0.0797779008735621,
          -2.6869499386511793,
          0.10092326383008107,
          0.057649354648094245,
          0.1727413818539175,
          2.7044842389343215,
          1.1535440508799895,
          1.4221236205042396,
          -2.660316243935094,
          -1.5367027738963421,
          -1.8838850395893367,
          0.7413656811277797,
          1.9394251678757635,
          0.012365443446577638,
          5.142163090241618,
          4.227591252924831,
          3.3671742081197755,
          -0.8790506155062094,
          0.2072346984641044,
          -1.6346085160164123,
          1.2483880197885762,
          -0.05875308107187921,
          -0.8403056810951234,
          -2.5146035173989723,
          -3.0843556962153302,
          -3.1573105094545135,
          -2.921221827614477,
          -3.034973505355449,
          -2.958530853880663,
          1.3593609204194843,
          0.7780116905919705,
          0.6049315361174973,
          -0.10756269013071768,
          -0.4262046017221942,
          -0.798608154981096,
          -4.3462044429980695,
          -4.719702831700617,
          -4.905968906863739,
          -2.6569584592003763,
          -3.909501086740474,
          -3.24658020238121,
          4.81277606669444,
          4.420013245630112,
          4.389578576634962,
          2.2872986384737084,
          1.4468733971281038,
          -1.466765308231561,
          -1.9116397628425341,
          -2.225101339727055,
          1.0647192125048215,
          1.6512709846731461,
          0.01033469478877757,
          0.8077708678656522,
          1.4962045846048042,
          -1.0796522385530198,
          -1.9369743411661615,
          -0.9341448973398858,
          -2.6455104361905497,
          1.0220609231385895,
          0.5224883248462139,
          0.007437137075278919,
          4.472977613371609,
          4.709505144011599,
          3.50771610938521,
          10.50643870240278,
          9.93933008749662,
          -0.8937103880183849,
          -1.4367922810733436,
          -2.0566198147608237,
          -4.2794279661061045,
          -6.887678217162335,
          -3.12959266274887,
          -2.121209993020295,
          -1.3811345174122627,
          -2.7425343493926193,
          5.07733289702765,
          4.43790398293906,
          4.479205639555736,
          5.490327544145136,
          5.372047722143835,
          0.3919574434497735,
          5.2396729050195345,
          3.8395678962018462,
          4.766473928117027,
          0.19498002833187317,
          -1.1119956748625268,
          -1.1844426282003588,
          0.28877359561295474,
          -0.2405095079634183,
          -0.8521762814438835,
          0.0898554610220875,
          -0.9900971426856884,
          0.013845149826374546,
          0.8004792430289668,
          0.8699150299208063,
          0.06935536295748466,
          3.702132817465885,
          4.76902753954103,
          4.154803271440415,
          -0.27885682593922767,
          -0.04050792904136454,
          -1.218608228922504,
          -2.0709491310420556,
          -1.5097545493683506,
          -2.996600209544424,
          0.6639315146142045,
          0.3390918544274479,
          -3.1475213211105664,
          -2.836591213789597,
          -3.4794967121990226,
          -3.7721548670225387,
          -4.435261633998122,
          -5.107264616982687,
          -2.111561594376252,
          -2.3978918515879237,
          -2.780296794589999,
          2.1114924647541846,
          2.82434389419836,
          0.3064029498243167,
          -1.3578200677784953,
          -1.157135940396519,
          -3.388262452592732,
          5.565862445818434,
          4.579532129837924,
          4.702977792680225,
          4.723041022224374,
          4.294795538163668,
          3.023344903270076,
          -1.5866503314093428,
          -2.612037450792088,
          -2.188814672562124,
          -2.3045927881292063,
          -1.756056655576324,
          -2.6576585086099542,
          0.8394493433370831,
          1.27737999983732,
          0.7491040015289483,
          2.7483217086456375,
          0.8318132156238418,
          1.8171451069511486,
          -1.555517823857546,
          -1.3950095451674254,
          -1.3458265990789047,
          -1.4435197881396273,
          -2.9221750912003537,
          -2.593142591837037,
          1.3342613301304163,
          2.093330435098875,
          1.6522038356305524,
          0.7399750117521319,
          -0.16736477927413718,
          -0.2735583019027842,
          0.27813928854874875,
          0.6023033220023761,
          0.0383224708594937,
          -0.7402518362726838,
          -0.20208230190782014,
          -1.0346494614869237,
          -0.3413193449187444,
          -0.3536072230343323,
          -2.2138952152703224,
          1.5332034267166192,
          1.7313720234919039,
          0.7399989843202361,
          3.2614492474347507,
          2.30342299300818,
          2.6202993459101043,
          3.2811089215505356,
          3.2057047147521907,
          1.875257916364319,
          -0.419510836350186,
          -0.28835393313105734,
          -1.3536768846939753,
          -2.5391444192753765,
          -3.024892129487082,
          -3.3638060071238773,
          0.5053602674107768,
          1.2816796476997558,
          0.8373729352640669,
          -1.8525474943530513,
          -1.52485122402677,
          -3.0401380168152903,
          7.395648452651499,
          6.16175762442651,
          4.657603662141251,
          1.2555692037574926,
          0.4026558252374418,
          1.2008076811027204,
          -3.655495302537165,
          -3.55590051466846,
          -4.024192560880142,
          0.23652733687737237,
          -0.533601219015125,
          -0.5347221335030279,
          -1.560873876843768,
          -1.8948172348180714,
          -2.2986859657862557,
          -1.1320661170183848,
          -1.5091636294944528,
          -2.7631862832615863,
          2.433312046128707,
          2.5303101687125666,
          1.5630540052545614,
          -2.603470884010779,
          -2.530954225083277,
          -3.872528583734412,
          1.0776223841478896,
          1.3176199340638066,
          1.2860597225674737,
          2.4024599805305966,
          1.481591274949671,
          1.0573637269264393,
          -4.028899408170821,
          -3.4367234644375264,
          -4.797930614705275,
          -2.6858921119279255,
          -2.7167570770247296,
          -2.7099187317454696,
          5.0840109023215305,
          5.700787902155301,
          4.997569576701149,
          0.8408549739457797,
          0.37428507131494165,
          0.12962618400622655
         ],
         "z": [
          -1.9207103666879282,
          0.11414622233662156,
          -1.7606680285598122,
          -0.5513693957377958,
          -0.6893702554959473,
          -1.1264982110829995,
          2.2014812224682054,
          1.6777039123477464,
          3.322798744554198,
          -4.96252204421943,
          -4.720787744663866,
          -6.181983209680887,
          2.5179480855760654,
          3.3856643844950813,
          2.5076122317085874,
          2.5359515884080097,
          2.5021532270047064,
          2.9044683959027147,
          2.9167046525360445,
          0.8867367808548663,
          2.9561193601034894,
          2.904569308469093,
          1.5664598800000946,
          2.4716886889217347,
          -0.15824710352615343,
          -0.664410688081708,
          -0.3127177729357681,
          2.1993256506183574,
          0.8521637415666032,
          2.163203230108999,
          0.06682106923837734,
          0.2908794503925289,
          -0.3417776022975843,
          -0.4537026389576663,
          -0.6411252044458069,
          0.2145468102588993,
          1.463464580191328,
          -0.48928617081505427,
          0.2291888672246757,
          -0.6818566770981785,
          -0.7852198858999281,
          -0.4888826258188653,
          4.491346297600962,
          4.164389211446589,
          4.5448560636797035,
          0.2364230222726726,
          2.9773350505170146,
          0.9656713700770511,
          0.8444386679085091,
          0.5558422842579169,
          -2.068081176380421,
          -1.9747120705963537,
          -2.0622906309770133,
          -0.40527630941836235,
          -0.03184978159576937,
          -1.254629771390276,
          -1.6306636898920674,
          0.805619914992781,
          -1.95337337180985,
          4.741184652448471,
          4.00007639152603,
          3.6563172741133747,
          6.2810783830027095,
          6.131004318937809,
          6.4122156203772995,
          -2.8312508407927397,
          -2.7254199908817913,
          -2.6087435424784706,
          -1.085782219686153,
          -0.7230783602482889,
          2.720308705261354,
          0.22721832745410353,
          2.1027207144664066,
          -0.14611234606580065,
          -2.830939642818629,
          -2.9299636971371585,
          2.7005925866480687,
          2.665051270196667,
          3.439999141189956,
          -3.256511348171949,
          -3.0325264640835328,
          -2.908097953474743,
          -0.8849581133330942,
          0.8794043888674328,
          0.23458180755822394,
          1.3852077299056083,
          -0.1866620698480544,
          0.6031777515062676,
          0.14512463935821976,
          1.0853277941220891,
          0.5798968719887946,
          -0.8008067094062117,
          -0.1913319643151068,
          -1.9398143790742532,
          0.30563044732777317,
          -1.2022695755940378,
          -1.5288320898557684,
          -1.494334685135983,
          -2.144252903068554,
          1.9742410383843754,
          2.3647973372479356,
          2.125006678860668,
          1.6994314692743921,
          -1.0103799218260041,
          -0.5671423120017984,
          -0.07627459649857414,
          -0.0952686467397556,
          0.533317085052464,
          -0.26842295396847615,
          0.41754086128119966,
          0.4415453691959898,
          -4.043438649530975,
          -4.6759618902442295,
          -5.361094961245915,
          -0.6420151434575425,
          0.870858974144343,
          -1.064428225513811,
          0.05439826598006566,
          -0.4278740344480637,
          -0.1803517921494782,
          0.12145480037512699,
          0.16955037134239456,
          -0.416147692255358,
          -1.3396591001100688,
          -1.427321345120265,
          -2.933659517458414,
          -4.31822443381912,
          -3.8884243597771495,
          -3.8381569448974746,
          -2.969182035548183,
          -2.6942591059474372,
          -3.991436415784468,
          -1.209004324397838,
          -0.5833502926556162,
          -4.064587598428754,
          1.5440854071001553,
          1.8647435127641603,
          0.49711619550215247,
          -1.895573733853793,
          -0.7529379028684702,
          -1.2940153835192487,
          0.638764094339591,
          5.48634173203006,
          -1.5875806995645736,
          -2.3653401243830494,
          -2.439684422824866,
          0.2033510681357049,
          -1.5692533706151444,
          0.7313857632657582,
          -0.34148591974603987,
          0.06592159563808257,
          -0.2390929346605773,
          -0.05167486990149681,
          0.9801696872517717,
          0.34218387515467075,
          -2.1384081186484876,
          -2.4956818761868598,
          -3.123808875128636,
          -0.7610728060209969,
          -0.22262397563847633,
          -2.0120706478034274,
          2.718528956858264,
          2.0238089716777203,
          2.8257453874096905,
          0.9389847195411007,
          1.691749363549173,
          1.4008403248019736,
          -2.2045859006104926,
          -1.7838712490024722,
          -2.7932091078387034,
          2.6641422131364125,
          2.897658833041309,
          5.179381883810082,
          -0.6894904891946118,
          -1.1522005262594983,
          -1.8020116736979757,
          0.40033783551795143,
          1.2599080734780241,
          1.8776816537461807,
          1.000603945089282,
          1.4805587145022618,
          1.985640617946646,
          -1.5891730507812714,
          -1.4072553946785025,
          -2.4036472314287662,
          -1.1562770236277093,
          -1.980114409098407,
          -1.078246536713503,
          2.53128232050206,
          2.0027610773004403,
          1.778918558976098,
          1.158455978419839,
          2.181909221411082,
          1.5996228545213558,
          0.8910352974907692,
          3.061079594999939,
          -0.32780130739811747,
          -0.06497878429200246,
          -0.08274794705738242,
          1.7865180876881444,
          1.3227692903386037,
          1.39545828325788,
          2.242845857225133,
          1.5322782218531568,
          2.375124275377387,
          -2.7997184132469894,
          -3.215599450056182,
          -2.899514271670042,
          -1.759930122617862,
          -0.382812760770758,
          -2.4603680802176586,
          0.8588538368459091,
          -0.9721109198166991,
          0.4124678684110797,
          -1.2165784113124507,
          -0.4079815528637598,
          -0.726915077770462,
          0.18340361186702928,
          0.7372138036991438,
          -0.146494762446964,
          1.0441419119129143,
          0.17652524265829905,
          -0.022572509761269913,
          -1.7751781545484093,
          -1.5792583956691495,
          -1.9050814129580496,
          -2.2170386106626077,
          -1.6574518873193984,
          -2.1785985117629445,
          0.5578548643287553,
          -1.2157643472577266,
          0.524228382694534,
          1.8803421702362058,
          2.8314730269797166,
          2.83857945777009,
          -2.141207523913001,
          -1.5187528668008807,
          -1.4273084525327295,
          -0.6692373631362952,
          -0.7427706059350243,
          -0.9730494046512157,
          -1.1632969418351433,
          -1.3812621146436543,
          -2.306476210877427,
          -1.3990697440738538,
          -0.7405816894631394,
          -1.0168661382853412,
          -0.5221910782965039,
          -0.6880701827331123,
          -1.234431293136752,
          1.3588680874750483,
          0.3129838632458923,
          1.2894121976057216,
          -2.042596446278417,
          -1.3881152348140229,
          -3.497256331138227,
          3.243187442323163,
          3.511909083093296,
          -0.26780088122018203,
          0.045764764191230135,
          0.060387476382435724,
          1.1795160054103087,
          0.4370218839792339,
          1.4151131740019074,
          6.417993604922981,
          2.8147513286140646,
          7.108275090569767,
          6.221062684247934,
          5.405800184284624,
          6.00367697479381,
          0.6977649621954617,
          1.3330172665169377,
          1.598745356299184,
          0.1452840646822935,
          -0.20904012022935042,
          -1.1373681561732332,
          0.35736828447026997,
          2.1236067549384656,
          -1.155661308263043,
          -1.0156492597184905,
          -1.0458111367605887,
          0.5234988705386395,
          1.4059146400035687,
          -0.18286222297734303,
          2.7308853559371626,
          2.594343503936399,
          2.7015139755135156,
          -2.4340149799957342,
          -2.360201881147002,
          -2.527540229685797,
          3.801273267004012,
          3.223776965674171,
          6.294042739428633,
          -1.8223104227330114,
          -1.1840054830877171,
          -2.606159905820931,
          1.1831753662059596,
          2.26035348310799,
          1.9061988140554302,
          0.5973162997018626,
          1.1347611617156423,
          1.1701026218680726,
          -2.613148307584237,
          -1.931931136299265,
          -4.2819201831388565,
          0.6301894002442406,
          0.6108686781337926,
          0.20372545473285428,
          1.9940132974134672,
          0.9048958676009574,
          0.39842292902435866,
          -1.72379474864361,
          -2.3341902483056836,
          -2.0206808057979515,
          -0.056759988056446706,
          -0.3699988787268801,
          -0.3995992030152604,
          4.067098155481831,
          4.230774889842468,
          1.3648301661470152,
          -0.8616353326092216,
          0.2569613998945583,
          2.5622752273838225,
          3.413070687174642,
          2.7223571367413752,
          0.6498086922776803,
          1.0741245445679104,
          0.6564160074594123,
          0.4213357206653872,
          2.8249857208273457,
          4.513224467699705,
          0.3034111389500929,
          0.4747234050509624,
          0.3799198896122424,
          -1.5213733983515594,
          -0.49299794911505296,
          -1.418577647056425,
          6.895755713123526,
          3.118679678408542,
          8.66479476243706,
          -1.766377987533328,
          -0.6137027007115613,
          -2.2557879846402726,
          -0.6662682638702109,
          -0.8202976440300523,
          -1.115230108256402,
          0.14709247850145568,
          0.9658271321161599,
          0.2732071952523234,
          -0.43447926820141874,
          0.13734163945708128,
          -0.7271280346509623,
          -0.22848771474576363,
          -0.8195115297574206,
          -1.6118069516252496,
          -3.8296617029704163,
          -1.5611595143537378,
          -4.004637629036004,
          1.9283158826120297,
          0.845141160257077,
          2.384343282752654,
          -0.1554903083388178,
          -0.3535180510481858,
          0.20955456707437298,
          -2.2161571813210283,
          -1.7421121644736204,
          -2.0269227287294553,
          1.6452922491961521,
          -0.1407233684091578,
          1.2241682858442073,
          0.5462603193348659,
          0.5306813279186136,
          1.7387893223455617,
          -2.259980838778805,
          -2.162852213170848,
          -4.017263650492412,
          -0.7409184036377153,
          -1.7310601551590812,
          -2.2030790904039304,
          -2.0499072334894417,
          -1.6544747156326476,
          -2.640064919389802,
          0.9625269779118665,
          1.2645167550010232,
          1.9154700212180245,
          -2.5603328925157305,
          -2.1340424689111166,
          -3.065043562614419,
          -3.0471467065841846,
          -1.9886801131379248,
          -3.6419982800485418,
          -0.3701481726157161,
          -0.9444170608590003,
          -1.4650908494653168,
          3.057439928845331,
          2.879761513110559,
          3.711040172576815,
          -3.3332364393799265,
          -2.402228144403975,
          -3.477407277447969,
          -1.2176579574177981,
          -1.2315039379612642,
          -1.0897811561714603,
          -4.322648842623091,
          -2.3154156120505904,
          -4.55624219924888,
          -1.31941437100547,
          -0.8698451793900768,
          -1.4515847596918492,
          -3.7718660338643626,
          -2.627971414364663,
          -2.7570188294538602,
          0.6413449025133782,
          0.8888053453826258,
          -0.028834376981566823,
          4.072792061565087,
          2.0713963495048917,
          3.0647761277109575,
          -2.0095669566626,
          -1.524115228592655,
          -2.0473667313952624,
          -2.5001151790579335,
          -1.7719168334798943,
          -2.7613404529737244,
          2.520288910250017,
          -1.5317882201481512,
          2.480773829408204,
          -0.03255637932394977,
          -0.35702841182076867,
          -0.21891318098390808,
          -0.8991512717832467,
          -1.5052342660667017,
          -1.0293377818203056,
          -0.9754019828388559,
          -1.0483333545316025,
          -1.3900289982440879
         ]
        }
       ],
       "layout": {
        "coloraxis": {
         "colorbar": {
          "title": {
           "text": "color"
          }
         },
         "colorscale": [
          [
           0,
           "#0d0887"
          ],
          [
           0.1111111111111111,
           "#46039f"
          ],
          [
           0.2222222222222222,
           "#7201a8"
          ],
          [
           0.3333333333333333,
           "#9c179e"
          ],
          [
           0.4444444444444444,
           "#bd3786"
          ],
          [
           0.5555555555555556,
           "#d8576b"
          ],
          [
           0.6666666666666666,
           "#ed7953"
          ],
          [
           0.7777777777777778,
           "#fb9f3a"
          ],
          [
           0.8888888888888888,
           "#fdca26"
          ],
          [
           1,
           "#f0f921"
          ]
         ]
        },
        "legend": {
         "tracegroupgap": 0
        },
        "margin": {
         "t": 60
        },
        "scene": {
         "domain": {
          "x": [
           0,
           1
          ],
          "y": [
           0,
           1
          ]
         },
         "xaxis": {
          "title": {
           "text": "component1"
          }
         },
         "yaxis": {
          "title": {
           "text": "component2"
          }
         },
         "zaxis": {
          "title": {
           "text": "component3"
          }
         }
        },
        "template": {
         "data": {
          "bar": [
           {
            "error_x": {
             "color": "#2a3f5f"
            },
            "error_y": {
             "color": "#2a3f5f"
            },
            "marker": {
             "line": {
              "color": "#E5ECF6",
              "width": 0.5
             },
             "pattern": {
              "fillmode": "overlay",
              "size": 10,
              "solidity": 0.2
             }
            },
            "type": "bar"
           }
          ],
          "barpolar": [
           {
            "marker": {
             "line": {
              "color": "#E5ECF6",
              "width": 0.5
             },
             "pattern": {
              "fillmode": "overlay",
              "size": 10,
              "solidity": 0.2
             }
            },
            "type": "barpolar"
           }
          ],
          "carpet": [
           {
            "aaxis": {
             "endlinecolor": "#2a3f5f",
             "gridcolor": "white",
             "linecolor": "white",
             "minorgridcolor": "white",
             "startlinecolor": "#2a3f5f"
            },
            "baxis": {
             "endlinecolor": "#2a3f5f",
             "gridcolor": "white",
             "linecolor": "white",
             "minorgridcolor": "white",
             "startlinecolor": "#2a3f5f"
            },
            "type": "carpet"
           }
          ],
          "choropleth": [
           {
            "colorbar": {
             "outlinewidth": 0,
             "ticks": ""
            },
            "type": "choropleth"
           }
          ],
          "contour": [
           {
            "colorbar": {
             "outlinewidth": 0,
             "ticks": ""
            },
            "colorscale": [
             [
              0,
              "#0d0887"
             ],
             [
              0.1111111111111111,
              "#46039f"
             ],
             [
              0.2222222222222222,
              "#7201a8"
             ],
             [
              0.3333333333333333,
              "#9c179e"
             ],
             [
              0.4444444444444444,
              "#bd3786"
             ],
             [
              0.5555555555555556,
              "#d8576b"
             ],
             [
              0.6666666666666666,
              "#ed7953"
             ],
             [
              0.7777777777777778,
              "#fb9f3a"
             ],
             [
              0.8888888888888888,
              "#fdca26"
             ],
             [
              1,
              "#f0f921"
             ]
            ],
            "type": "contour"
           }
          ],
          "contourcarpet": [
           {
            "colorbar": {
             "outlinewidth": 0,
             "ticks": ""
            },
            "type": "contourcarpet"
           }
          ],
          "heatmap": [
           {
            "colorbar": {
             "outlinewidth": 0,
             "ticks": ""
            },
            "colorscale": [
             [
              0,
              "#0d0887"
             ],
             [
              0.1111111111111111,
              "#46039f"
             ],
             [
              0.2222222222222222,
              "#7201a8"
             ],
             [
              0.3333333333333333,
              "#9c179e"
             ],
             [
              0.4444444444444444,
              "#bd3786"
             ],
             [
              0.5555555555555556,
              "#d8576b"
             ],
             [
              0.6666666666666666,
              "#ed7953"
             ],
             [
              0.7777777777777778,
              "#fb9f3a"
             ],
             [
              0.8888888888888888,
              "#fdca26"
             ],
             [
              1,
              "#f0f921"
             ]
            ],
            "type": "heatmap"
           }
          ],
          "heatmapgl": [
           {
            "colorbar": {
             "outlinewidth": 0,
             "ticks": ""
            },
            "colorscale": [
             [
              0,
              "#0d0887"
             ],
             [
              0.1111111111111111,
              "#46039f"
             ],
             [
              0.2222222222222222,
              "#7201a8"
             ],
             [
              0.3333333333333333,
              "#9c179e"
             ],
             [
              0.4444444444444444,
              "#bd3786"
             ],
             [
              0.5555555555555556,
              "#d8576b"
             ],
             [
              0.6666666666666666,
              "#ed7953"
             ],
             [
              0.7777777777777778,
              "#fb9f3a"
             ],
             [
              0.8888888888888888,
              "#fdca26"
             ],
             [
              1,
              "#f0f921"
             ]
            ],
            "type": "heatmapgl"
           }
          ],
          "histogram": [
           {
            "marker": {
             "pattern": {
              "fillmode": "overlay",
              "size": 10,
              "solidity": 0.2
             }
            },
            "type": "histogram"
           }
          ],
          "histogram2d": [
           {
            "colorbar": {
             "outlinewidth": 0,
             "ticks": ""
            },
            "colorscale": [
             [
              0,
              "#0d0887"
             ],
             [
              0.1111111111111111,
              "#46039f"
             ],
             [
              0.2222222222222222,
              "#7201a8"
             ],
             [
              0.3333333333333333,
              "#9c179e"
             ],
             [
              0.4444444444444444,
              "#bd3786"
             ],
             [
              0.5555555555555556,
              "#d8576b"
             ],
             [
              0.6666666666666666,
              "#ed7953"
             ],
             [
              0.7777777777777778,
              "#fb9f3a"
             ],
             [
              0.8888888888888888,
              "#fdca26"
             ],
             [
              1,
              "#f0f921"
             ]
            ],
            "type": "histogram2d"
           }
          ],
          "histogram2dcontour": [
           {
            "colorbar": {
             "outlinewidth": 0,
             "ticks": ""
            },
            "colorscale": [
             [
              0,
              "#0d0887"
             ],
             [
              0.1111111111111111,
              "#46039f"
             ],
             [
              0.2222222222222222,
              "#7201a8"
             ],
             [
              0.3333333333333333,
              "#9c179e"
             ],
             [
              0.4444444444444444,
              "#bd3786"
             ],
             [
              0.5555555555555556,
              "#d8576b"
             ],
             [
              0.6666666666666666,
              "#ed7953"
             ],
             [
              0.7777777777777778,
              "#fb9f3a"
             ],
             [
              0.8888888888888888,
              "#fdca26"
             ],
             [
              1,
              "#f0f921"
             ]
            ],
            "type": "histogram2dcontour"
           }
          ],
          "mesh3d": [
           {
            "colorbar": {
             "outlinewidth": 0,
             "ticks": ""
            },
            "type": "mesh3d"
           }
          ],
          "parcoords": [
           {
            "line": {
             "colorbar": {
              "outlinewidth": 0,
              "ticks": ""
             }
            },
            "type": "parcoords"
           }
          ],
          "pie": [
           {
            "automargin": true,
            "type": "pie"
           }
          ],
          "scatter": [
           {
            "fillpattern": {
             "fillmode": "overlay",
             "size": 10,
             "solidity": 0.2
            },
            "type": "scatter"
           }
          ],
          "scatter3d": [
           {
            "line": {
             "colorbar": {
              "outlinewidth": 0,
              "ticks": ""
             }
            },
            "marker": {
             "colorbar": {
              "outlinewidth": 0,
              "ticks": ""
             }
            },
            "type": "scatter3d"
           }
          ],
          "scattercarpet": [
           {
            "marker": {
             "colorbar": {
              "outlinewidth": 0,
              "ticks": ""
             }
            },
            "type": "scattercarpet"
           }
          ],
          "scattergeo": [
           {
            "marker": {
             "colorbar": {
              "outlinewidth": 0,
              "ticks": ""
             }
            },
            "type": "scattergeo"
           }
          ],
          "scattergl": [
           {
            "marker": {
             "colorbar": {
              "outlinewidth": 0,
              "ticks": ""
             }
            },
            "type": "scattergl"
           }
          ],
          "scattermapbox": [
           {
            "marker": {
             "colorbar": {
              "outlinewidth": 0,
              "ticks": ""
             }
            },
            "type": "scattermapbox"
           }
          ],
          "scatterpolar": [
           {
            "marker": {
             "colorbar": {
              "outlinewidth": 0,
              "ticks": ""
             }
            },
            "type": "scatterpolar"
           }
          ],
          "scatterpolargl": [
           {
            "marker": {
             "colorbar": {
              "outlinewidth": 0,
              "ticks": ""
             }
            },
            "type": "scatterpolargl"
           }
          ],
          "scatterternary": [
           {
            "marker": {
             "colorbar": {
              "outlinewidth": 0,
              "ticks": ""
             }
            },
            "type": "scatterternary"
           }
          ],
          "surface": [
           {
            "colorbar": {
             "outlinewidth": 0,
             "ticks": ""
            },
            "colorscale": [
             [
              0,
              "#0d0887"
             ],
             [
              0.1111111111111111,
              "#46039f"
             ],
             [
              0.2222222222222222,
              "#7201a8"
             ],
             [
              0.3333333333333333,
              "#9c179e"
             ],
             [
              0.4444444444444444,
              "#bd3786"
             ],
             [
              0.5555555555555556,
              "#d8576b"
             ],
             [
              0.6666666666666666,
              "#ed7953"
             ],
             [
              0.7777777777777778,
              "#fb9f3a"
             ],
             [
              0.8888888888888888,
              "#fdca26"
             ],
             [
              1,
              "#f0f921"
             ]
            ],
            "type": "surface"
           }
          ],
          "table": [
           {
            "cells": {
             "fill": {
              "color": "#EBF0F8"
             },
             "line": {
              "color": "white"
             }
            },
            "header": {
             "fill": {
              "color": "#C8D4E3"
             },
             "line": {
              "color": "white"
             }
            },
            "type": "table"
           }
          ]
         },
         "layout": {
          "annotationdefaults": {
           "arrowcolor": "#2a3f5f",
           "arrowhead": 0,
           "arrowwidth": 1
          },
          "autotypenumbers": "strict",
          "coloraxis": {
           "colorbar": {
            "outlinewidth": 0,
            "ticks": ""
           }
          },
          "colorscale": {
           "diverging": [
            [
             0,
             "#8e0152"
            ],
            [
             0.1,
             "#c51b7d"
            ],
            [
             0.2,
             "#de77ae"
            ],
            [
             0.3,
             "#f1b6da"
            ],
            [
             0.4,
             "#fde0ef"
            ],
            [
             0.5,
             "#f7f7f7"
            ],
            [
             0.6,
             "#e6f5d0"
            ],
            [
             0.7,
             "#b8e186"
            ],
            [
             0.8,
             "#7fbc41"
            ],
            [
             0.9,
             "#4d9221"
            ],
            [
             1,
             "#276419"
            ]
           ],
           "sequential": [
            [
             0,
             "#0d0887"
            ],
            [
             0.1111111111111111,
             "#46039f"
            ],
            [
             0.2222222222222222,
             "#7201a8"
            ],
            [
             0.3333333333333333,
             "#9c179e"
            ],
            [
             0.4444444444444444,
             "#bd3786"
            ],
            [
             0.5555555555555556,
             "#d8576b"
            ],
            [
             0.6666666666666666,
             "#ed7953"
            ],
            [
             0.7777777777777778,
             "#fb9f3a"
            ],
            [
             0.8888888888888888,
             "#fdca26"
            ],
            [
             1,
             "#f0f921"
            ]
           ],
           "sequentialminus": [
            [
             0,
             "#0d0887"
            ],
            [
             0.1111111111111111,
             "#46039f"
            ],
            [
             0.2222222222222222,
             "#7201a8"
            ],
            [
             0.3333333333333333,
             "#9c179e"
            ],
            [
             0.4444444444444444,
             "#bd3786"
            ],
            [
             0.5555555555555556,
             "#d8576b"
            ],
            [
             0.6666666666666666,
             "#ed7953"
            ],
            [
             0.7777777777777778,
             "#fb9f3a"
            ],
            [
             0.8888888888888888,
             "#fdca26"
            ],
            [
             1,
             "#f0f921"
            ]
           ]
          },
          "colorway": [
           "#636efa",
           "#EF553B",
           "#00cc96",
           "#ab63fa",
           "#FFA15A",
           "#19d3f3",
           "#FF6692",
           "#B6E880",
           "#FF97FF",
           "#FECB52"
          ],
          "font": {
           "color": "#2a3f5f"
          },
          "geo": {
           "bgcolor": "white",
           "lakecolor": "white",
           "landcolor": "#E5ECF6",
           "showlakes": true,
           "showland": true,
           "subunitcolor": "white"
          },
          "hoverlabel": {
           "align": "left"
          },
          "hovermode": "closest",
          "mapbox": {
           "style": "light"
          },
          "paper_bgcolor": "white",
          "plot_bgcolor": "#E5ECF6",
          "polar": {
           "angularaxis": {
            "gridcolor": "white",
            "linecolor": "white",
            "ticks": ""
           },
           "bgcolor": "#E5ECF6",
           "radialaxis": {
            "gridcolor": "white",
            "linecolor": "white",
            "ticks": ""
           }
          },
          "scene": {
           "xaxis": {
            "backgroundcolor": "#E5ECF6",
            "gridcolor": "white",
            "gridwidth": 2,
            "linecolor": "white",
            "showbackground": true,
            "ticks": "",
            "zerolinecolor": "white"
           },
           "yaxis": {
            "backgroundcolor": "#E5ECF6",
            "gridcolor": "white",
            "gridwidth": 2,
            "linecolor": "white",
            "showbackground": true,
            "ticks": "",
            "zerolinecolor": "white"
           },
           "zaxis": {
            "backgroundcolor": "#E5ECF6",
            "gridcolor": "white",
            "gridwidth": 2,
            "linecolor": "white",
            "showbackground": true,
            "ticks": "",
            "zerolinecolor": "white"
           }
          },
          "shapedefaults": {
           "line": {
            "color": "#2a3f5f"
           }
          },
          "ternary": {
           "aaxis": {
            "gridcolor": "white",
            "linecolor": "white",
            "ticks": ""
           },
           "baxis": {
            "gridcolor": "white",
            "linecolor": "white",
            "ticks": ""
           },
           "bgcolor": "#E5ECF6",
           "caxis": {
            "gridcolor": "white",
            "linecolor": "white",
            "ticks": ""
           }
          },
          "title": {
           "x": 0.05
          },
          "xaxis": {
           "automargin": true,
           "gridcolor": "white",
           "linecolor": "white",
           "ticks": "",
           "title": {
            "standoff": 15
           },
           "zerolinecolor": "white",
           "zerolinewidth": 2
          },
          "yaxis": {
           "automargin": true,
           "gridcolor": "white",
           "linecolor": "white",
           "ticks": "",
           "title": {
            "standoff": 15
           },
           "zerolinecolor": "white",
           "zerolinewidth": 2
          }
         }
        }
       }
      }
     },
     "metadata": {},
     "output_type": "display_data"
    }
   ],
   "source": [
    "fig = px.scatter_3d(iqms_pca, x=\"component1\", y=\"component2\", z=\"component3\", color=scores[\"condition\"])\n",
    "fig.show()"
   ]
  },
  {
   "cell_type": "code",
   "execution_count": null,
   "metadata": {},
   "outputs": [
    {
     "data": {
      "application/vnd.plotly.v1+json": {
       "config": {
        "plotlyServerURL": "https://plot.ly"
       },
       "data": [
        {
         "hovertemplate": "component1=%{x}<br>component2=%{y}<br>component3=%{z}<br>color=%{marker.color}<extra></extra>",
         "legendgroup": "",
         "marker": {
          "color": [
           1,
           2,
           3,
           1,
           2,
           3,
           1,
           2,
           3,
           1,
           2,
           3,
           1,
           2,
           3,
           1,
           2,
           3,
           1,
           2,
           3,
           1,
           2,
           3,
           1,
           2,
           3,
           1,
           2,
           3,
           1,
           2,
           3,
           1,
           2,
           3,
           1,
           2,
           3,
           1,
           2,
           3,
           1,
           2,
           3,
           1,
           3,
           1,
           2,
           3,
           1,
           2,
           3,
           1,
           2,
           3,
           1,
           2,
           3,
           1,
           2,
           3,
           1,
           2,
           3,
           1,
           2,
           3,
           1,
           2,
           1,
           2,
           3,
           1,
           2,
           3,
           1,
           2,
           3,
           1,
           2,
           3,
           1,
           2,
           3,
           1,
           2,
           3,
           1,
           2,
           3,
           1,
           2,
           3,
           1,
           3,
           1,
           2,
           3,
           1,
           2,
           3,
           1,
           2,
           3,
           1,
           2,
           3,
           1,
           2,
           3,
           1,
           2,
           3,
           1,
           2,
           3,
           1,
           2,
           3,
           1,
           2,
           3,
           1,
           2,
           3,
           1,
           2,
           3,
           1,
           2,
           3,
           1,
           2,
           3,
           1,
           2,
           3,
           1,
           2,
           3,
           1,
           3,
           1,
           2,
           3,
           1,
           2,
           3,
           1,
           2,
           3,
           1,
           2,
           3,
           1,
           2,
           3,
           1,
           2,
           3,
           1,
           2,
           3,
           1,
           2,
           3,
           1,
           2,
           3,
           1,
           2,
           3,
           1,
           2,
           3,
           1,
           2,
           3,
           1,
           2,
           3,
           1,
           2,
           3,
           1,
           2,
           3,
           1,
           3,
           1,
           2,
           3,
           1,
           2,
           3,
           1,
           2,
           3,
           1,
           2,
           3,
           1,
           2,
           3,
           1,
           2,
           3,
           1,
           2,
           3,
           1,
           2,
           3,
           1,
           2,
           3,
           1,
           2,
           3,
           1,
           2,
           3,
           1,
           2,
           3,
           1,
           2,
           3,
           1,
           2,
           3,
           1,
           2,
           3,
           1,
           2,
           3,
           1,
           2,
           3,
           1,
           2,
           3,
           1,
           2,
           3,
           1,
           2,
           3,
           1,
           2,
           3,
           1,
           2,
           3,
           1,
           3,
           1,
           2,
           3,
           1,
           2,
           3,
           1,
           2,
           3,
           1,
           2,
           3,
           1,
           2,
           3,
           1,
           2,
           3,
           1,
           3,
           1,
           2,
           3,
           1,
           2,
           3,
           1,
           2,
           3,
           1,
           2,
           3,
           1,
           2,
           3,
           1,
           2,
           3,
           1,
           2,
           3,
           1,
           2,
           3,
           1,
           2,
           3,
           1,
           2,
           3,
           1,
           2,
           3,
           1,
           2,
           3,
           1,
           2,
           3,
           1,
           3,
           1,
           2,
           3,
           1,
           2,
           3,
           1,
           2,
           3,
           1,
           2,
           3,
           1,
           2,
           3,
           1,
           2,
           3,
           1,
           2,
           3,
           1,
           2,
           3,
           1,
           2,
           3,
           1,
           2,
           3,
           1,
           2,
           3,
           1,
           2,
           3,
           1,
           2,
           3,
           1,
           2,
           3,
           1,
           2,
           3,
           1,
           2,
           3,
           1,
           2,
           3,
           1,
           2,
           3,
           1,
           2,
           3,
           1,
           2,
           3,
           1,
           2,
           3,
           1,
           2,
           3,
           1,
           2,
           3,
           1,
           2,
           3,
           1,
           2,
           3,
           1,
           2,
           3,
           1,
           2,
           3,
           1,
           2,
           3,
           1,
           2,
           3,
           1,
           2,
           3,
           1,
           2,
           3,
           1,
           2,
           3,
           1,
           2,
           3,
           1,
           2,
           3,
           1,
           2,
           3,
           1,
           2,
           3,
           1,
           2,
           3,
           1,
           2,
           3,
           1,
           2,
           3
          ],
          "coloraxis": "coloraxis",
          "symbol": "circle"
         },
         "mode": "markers",
         "name": "",
         "scene": "scene",
         "showlegend": false,
         "type": "scatter3d",
         "x": [
          -0.37469751735822865,
          0.26461690694712403,
          -0.4347176806253413,
          0.40795692763119307,
          0.14424830920082243,
          -0.37422904660324874,
          0.34251306653794256,
          0.5291917617686032,
          -0.39094386769180345,
          0.036477780104725264,
          0.16772296141115856,
          -0.17284758329030983,
          -0.07740621465739138,
          0.04500565866954612,
          -0.35776038703699004,
          -0.20189408628148786,
          0.06990074920196582,
          -0.20900868369550737,
          0.17568518223062338,
          0.37939512892240845,
          -0.14177659531303258,
          -0.24416938677532538,
          -0.06543863481690854,
          -0.38390862273115706,
          -0.5252809293925775,
          0.25979604807585055,
          -0.5409753447346496,
          0.4050287777749286,
          0.6055368107792691,
          -0.3782212649960536,
          0.2998419839104325,
          0.3453962765922989,
          -0.28575275379519394,
          -0.04130470278038907,
          0.21593096204767237,
          -0.4187383006551108,
          0.4746132342601618,
          0.527447221955381,
          -0.47069012594676674,
          -0.2615499687548484,
          0.5311452981533287,
          -0.47791247747359783,
          -0.14955900217516746,
          -0.04229871560896947,
          -0.22403471112711948,
          0.3401500969264617,
          -0.2674757526294891,
          0.20672836297126904,
          0.2879633523360895,
          -0.1664206302455308,
          -0.35511417358292563,
          -0.11385277875162479,
          -0.40331399752668207,
          0.24201854839097509,
          0.5688929105283139,
          -0.4075549293669953,
          -0.2639356535853836,
          0.46123924149154133,
          -0.3923087149771408,
          -0.1326446506033425,
          0.03342148759262737,
          -0.2675795859573547,
          -0.02561926246842879,
          0.3445334199826375,
          -0.12470128893951203,
          -0.15539641936130286,
          0.2901119991398096,
          -0.33480896809733574,
          0.4210428653482842,
          -0.3088972079980383,
          0.4298066665819305,
          0.4288008524902298,
          -0.3796597874839662,
          0.47076355637232276,
          0.3540095294032859,
          -0.3554750439620238,
          -0.32419596681716883,
          -0.27487007526242285,
          -0.23281566027485845,
          -0.27028891916721526,
          -0.02135667899847795,
          -0.3763893266142056,
          0.3573380624908687,
          0.4893522577662056,
          -0.4593819403755714,
          0.38942696769620105,
          0.4363762037333805,
          -0.2734442993143841,
          -0.28700230262397747,
          -0.018445534613804777,
          -0.33506883674075877,
          0.2617983747410038,
          0.5476808975907353,
          -0.4028699642894659,
          0.5699355004175207,
          -0.2767447861719476,
          0.41093045105590925,
          0.37277720597148084,
          -0.3359013217033158,
          -0.17628999678020868,
          0.5273674963020645,
          -0.36011510515373146,
          0.29401060103866905,
          0.36087040765524414,
          -0.06994383785107673,
          -0.1864587434124662,
          -0.22475613183918913,
          -0.3086592721844377,
          -0.332877122231415,
          -0.24348662402903723,
          -0.45720595402692465,
          0.30450351174507384,
          0.4072506526113698,
          -0.24684479635727113,
          -0.3821585414537279,
          0.2264013433025175,
          -0.43985480477533145,
          -0.2730024620505759,
          -0.1574143591672223,
          -0.28856843437201213,
          -0.17436809233674314,
          -0.15723456858864243,
          -0.44658955940950607,
          -0.06295415197213011,
          0.29741935689193283,
          -0.08904986963770258,
          -0.12327940828500789,
          0.05826313515347653,
          -0.36872865892397955,
          -0.08972425920750868,
          0.2749996306154428,
          -0.34387694254595425,
          0.3731059735899098,
          0.5814738252043171,
          -0.2832985715042656,
          -0.045355727276699086,
          0.5367574168788007,
          -0.3359434735041435,
          -0.2949016349082375,
          0.21647633873688985,
          -0.492414021970221,
          0.42068263127516003,
          -0.12243726284693067,
          0.2645204816200918,
          0.4281846814865913,
          -0.33519077407073894,
          0.33983849316274845,
          0.5864320465405266,
          -0.45161569788931094,
          -0.22704347289647445,
          0.4696835209582437,
          -0.28728718875681314,
          -0.2893048146380277,
          0.44110099947777764,
          -0.4320139755977227,
          0.4767492396704167,
          0.4007468606423508,
          -0.20574763123426867,
          -0.29284039136089096,
          0.04595570793645206,
          -0.08219839773267439,
          0.15312037301295753,
          0.054162403909381644,
          -0.17965382880939115,
          -0.2040652022773076,
          -0.1326599501566158,
          -0.4593472403952159,
          -0.2510466112842438,
          -0.0649876556090206,
          -0.3726123326456481,
          0.4010359661378574,
          0.5356320722794993,
          -0.10418747890328715,
          0.4357583287378773,
          0.5433383108060758,
          -0.4406561424901095,
          0.567970827647544,
          0.4103152733851418,
          -0.4279450610804936,
          -0.219070902036934,
          -0.17258534526923824,
          -0.3698082562333976,
          -0.14336317759703923,
          0.38426659823589676,
          -0.3120921521202932,
          0.4236800561867464,
          0.1703163966973767,
          -0.39086089347551894,
          0.06055793534628396,
          -0.41883093869628496,
          -0.31164933227403924,
          0.5251138359080645,
          -0.34123635278817793,
          0.2617800000786954,
          0.5053767720900352,
          -0.19185247950474033,
          -0.2678514489700621,
          0.21982834679915375,
          -0.4061902904961864,
          -0.2867058791636281,
          -0.06240921864394076,
          -0.3495933314531409,
          0.11605975233190385,
          0.48133732076940333,
          -0.0022509915268976687,
          -0.05983801819777565,
          -0.03905704001423377,
          -0.39997628332570434,
          0.4371405155934383,
          0.4396861532664122,
          -0.4118335140429071,
          0.39254570085386176,
          0.34127349790656697,
          -0.4271244317808138,
          -0.30235198823294124,
          -0.0841422019488683,
          -0.35353094780648675,
          -0.14807553424001543,
          0.3191644270564334,
          -0.431208319110276,
          0.2143477529860165,
          0.2180672987717037,
          -0.18845530906491212,
          -0.18900869966916647,
          0.46936974132125575,
          -0.3849803128794981,
          0.03336613627838613,
          0.3564725953847938,
          -0.23339402961778696,
          0.08788596722287959,
          0.3881917228870552,
          -0.2643012095531835,
          0.436787557576354,
          0.21152950161196646,
          -0.30131484053836693,
          -0.4611561362149653,
          -0.3385868372862815,
          -0.4424310741132919,
          0.06039609982797897,
          0.5696498094992638,
          -0.32856475857545236,
          0.034698447476220286,
          0.3004231401650944,
          -0.43682889714345324,
          0.04382087553492189,
          0.4714689401726554,
          -0.34406057097671244,
          0.3126901436903515,
          0.49855424966922224,
          -0.21606304107632718,
          0.22747760197970385,
          0.5112807609660835,
          -0.2500328096344228,
          0.32014366100545744,
          0.3966067876169323,
          -0.15587811688189718,
          0.33153810771981596,
          -0.1163935588907537,
          -0.41639472036666114,
          -0.29446906420454994,
          -0.4743345844796815,
          -0.3021502452005615,
          -0.017831595406323408,
          -0.3717841523274726,
          0.20021982455434081,
          0.3501287215781262,
          -0.13243482110737503,
          0.14555948686883152,
          0.38665647764859634,
          -0.13158299570353615,
          -0.04495238511035831,
          0.11040120349464723,
          -0.460511112819626,
          0.029501327256590847,
          0.47679411169708596,
          -0.3579957071342748,
          0.1347012623531759,
          0.11395400870153344,
          -0.08534211422978197,
          0.56404544822319,
          -0.47694467169376775,
          0.4051141446452443,
          0.24163311910372873,
          -0.35423614733971803,
          -0.28809827599893223,
          0.2307899915455045,
          -0.4032358076799616,
          -0.030629025598139382,
          -0.14585993036900552,
          -0.21060438591798783,
          0.32405283738299545,
          0.1474709872288474,
          -0.12066432268422479,
          0.1779307773506977,
          0.39968590121249176,
          -0.20081106194689707,
          -0.029358546183957668,
          0.554208263541081,
          -0.4591046820109895,
          -0.26216954012167604,
          0.3335179569579213,
          -0.3346783183059797,
          -0.009663836504948568,
          0.5225472832109544,
          -0.2466954535822266,
          -0.3015125055988835,
          -0.14930353659472456,
          -0.4343208780973782,
          0.13134924219662797,
          0.3001193286905836,
          -0.03097842935765919,
          0.2761348307372353,
          0.3945457953687083,
          -0.2851369849813737,
          0.11935560797984843,
          0.47615380395810253,
          -0.3868008480605751,
          -0.05219766078043724,
          -0.06251889859120956,
          0.3738180189864271,
          0.21835463046163625,
          -0.10797954713972797,
          -0.1792987025638927,
          0.11023489384318184,
          -0.17923328981743814,
          0.051551380920797384,
          0.36300132427359344,
          -0.31592861179402776,
          0.48822628015387587,
          0.4236128403334206,
          -0.2602916014031309,
          0.21963383026339608,
          0.3903083471638048,
          -0.33746579157310513,
          -0.08595751809894205,
          0.21855620343539145,
          -0.24152896288418663,
          0.07517620107973119,
          0.2951507435595719,
          -0.004865058105346534,
          0.2912954576955833,
          0.5578484300142994,
          -0.39291256416620646,
          -0.2577002043508418,
          0.3048607123655193,
          0.008794825858086231,
          -0.2335107390301596,
          0.42885324385541246,
          -0.4264746274989238,
          -0.040237743220576425,
          0.5040145577286904,
          -0.4351827363348237,
          0.473024273382023,
          0.4149103919503615,
          -0.41838790928638125,
          0.20837674918158322,
          0.5369870760443852,
          -0.22154926295170202,
          0.3992685135549184,
          0.35571033256864326,
          -0.02034549973484077,
          -0.2890033631066734,
          -0.22440450671446413,
          -0.43820357703714996,
          -0.36033742273808744,
          -0.38268544740620614,
          -0.3427041579942651,
          0.33240995765255377,
          0.5945002968415366,
          -0.04176433061307433,
          0.04438908430962239,
          0.2542195171517298,
          -0.37554303450465537,
          0.4526889961346184,
          0.5646547988616506,
          -0.10472034287218598,
          0.07326240183859734,
          0.2611343151373402,
          -0.23216597480164247,
          -0.03638250284644861,
          0.425006488612923,
          -0.38208982448269935,
          -0.4216939860694929,
          0.5020950534001033,
          -0.4402028712298189,
          -0.14637004995065106,
          0.12353192364811502,
          -0.35416440994917325,
          0.18213508593587832,
          0.4272836686591081,
          -0.2951888427418728,
          0.31811625429908,
          0.4115802993114659,
          -0.3391616300286158,
          0.1339532643493359,
          0.29938217193052535,
          -0.09966242480631737,
          -0.007972442753259982,
          0.38315690147284115,
          -0.3454485052059714,
          -0.308341039057199,
          -0.26240291807298266,
          -0.39952593845176504,
          -0.22099138019041198,
          0.45451655236382765,
          -0.3343848429481621,
          -0.10796212149970641,
          0.48122196269602385,
          -0.4784678221641387,
          0.4391507192629481,
          0.4880835079841456,
          -0.25978609300751954,
          0.4505540550306637,
          0.2824945388978532,
          -0.2227099412570298,
          0.3652687613747411,
          0.5466522617066951,
          -0.19078919904481367,
          -0.3257960170703812,
          -0.15895582131272232,
          -0.3461222432607134,
          -0.18347301792488813,
          0.13417746702363398,
          -0.4224796232408592,
          0.19916124441853875,
          0.41312886176586683,
          -0.31703225586853684,
          -0.08876341881379367,
          -0.03541135829289343,
          -0.2513862900192232,
          -0.1866524170204055,
          0.04581716525555176,
          -0.24102995748206435,
          0.09068101810826693,
          0.4784080929366983,
          -0.3722519144083742
         ],
         "y": [
          -0.20134074061985519,
          -0.22403461955191284,
          0.07345789096322379,
          -0.20426726070698226,
          -0.3041402663680868,
          0.09538355694250387,
          -0.3324593777866077,
          -0.06232883201516137,
          0.2466677536920982,
          -0.10231490540797578,
          -0.20743192223292417,
          0.1735295744897893,
          -0.23587023832768242,
          -0.25890695978412004,
          0.058427610293611806,
          0.009765082858933833,
          -0.21722757220999464,
          0.1341096009030844,
          -0.16461467999968482,
          0.5123945737331117,
          0.15275128422774106,
          -0.07099845010901391,
          -0.30292547586677504,
          0.10119693461013933,
          0.03547018390141642,
          0.47541363597931935,
          0.1394080336751709,
          -0.21054215933449502,
          0.10422558782013273,
          0.005607301249383021,
          -0.2765197659258675,
          -0.20549191010293744,
          0.2845938025106054,
          -0.4759315755304798,
          -0.43644859042982664,
          0.2301164664284749,
          -0.07248743131683963,
          0.3813748508080183,
          0.23579877789308049,
          -0.32136220702632545,
          -0.007316767788707111,
          0.11091477166771989,
          0.041935870880614734,
          -0.12270900139787409,
          0.25832524229529774,
          0.48959696460186836,
          0.18314884481468222,
          0.08740386636287753,
          0.02079802429987521,
          0.2033745787726804,
          -0.001534472379937651,
          -0.3114128543431907,
          0.17525451809145287,
          -0.360039369769802,
          0.029878580399151256,
          0.100989208012883,
          -0.2565195129506194,
          -0.13292417930435804,
          0.15568605120386295,
          0.10690760058741457,
          -0.11136495856445622,
          0.22276418899432288,
          0.0982482524134639,
          0.24003309901690445,
          0.2763444883616824,
          -0.21457972470418782,
          -0.3374613053859749,
          0.017703153763322068,
          0.37720503439483144,
          0.09958660235771319,
          0.17028169330221446,
          0.5272666077809202,
          0.052584654213312286,
          0.2716904161469918,
          0.5299296415680452,
          -0.025656953086188466,
          0.24161890433612362,
          0.11421619031229252,
          0.2854101917386217,
          -0.16472304602939697,
          -0.30157643361052167,
          0.08420762749836262,
          0.4622260627029773,
          -0.2104328238286955,
          0.020250028962980927,
          -0.07182998893689473,
          0.5112696549437029,
          -0.08108394711301006,
          -0.20903577092094175,
          -0.38105264412623935,
          0.21786640162963067,
          0.4593117170918306,
          0.36414471349657096,
          0.06082676001510397,
          0.14515323240150205,
          0.1691677435528685,
          0.02782987699265129,
          0.38840727043193213,
          0.025812051864318657,
          -0.20338753706211063,
          0.1719159068575104,
          0.18224128764455516,
          0.07434106210376977,
          0.4057387564696794,
          0.24725748741979497,
          -0.23586961515720956,
          -0.14422536764335556,
          -0.09594434158763825,
          -0.14229234778466504,
          -0.260293253790608,
          0.10052438905709496,
          -0.21951043557786487,
          0.31015898323504687,
          0.047397564871005195,
          -0.22325176387620177,
          -0.4079989193603211,
          0.05880643012804693,
          0.003590914199944739,
          -0.08523255167925622,
          0.21468293946691314,
          -0.35865949637663685,
          -0.372239927822795,
          -0.00903422612098221,
          -0.16290647442196646,
          0.02471014125108401,
          0.20601516437895687,
          -0.19698899735458242,
          -0.32457144205541844,
          0.0880574426179393,
          -0.2854570407922605,
          -0.3619805324236285,
          0.15975198360232803,
          0.28784959493210793,
          -0.04190478713454947,
          -0.014342748218459756,
          -0.29241236772443857,
          0.20684308180030075,
          0.024514838891884484,
          -0.29585698317260456,
          -0.4636887548794032,
          0.11045949864860777,
          0.49147015940818617,
          0.16071109139178533,
          -0.34506459132135886,
          0.4958868930258385,
          0.1693973400477772,
          -0.36035375602711917,
          0.32040939948343805,
          0.07325801123548105,
          -0.3380036298924576,
          -0.2845160857473596,
          0.15292737471987874,
          -0.2352013599844941,
          -0.2061690314806482,
          0.14337490126469765,
          0.13113650648263117,
          0.41584328190136993,
          0.0851903897175736,
          -0.15084111568993328,
          -0.32422617636874607,
          0.2867882147733156,
          -0.04409064325537842,
          -0.016541155873302845,
          0.19790076298314135,
          -0.30330950503495513,
          -0.3775997944796946,
          0.18080969972748745,
          -0.21501376535265515,
          -0.33896988836981695,
          0.12010047191531152,
          -0.16125836434116755,
          0.0109157575015854,
          0.12741849335265296,
          -0.22947277943607494,
          -0.20083312741840417,
          -0.06812533445009036,
          0.20257263742258086,
          0.3300713088871313,
          0.1650247516549155,
          -0.25143150536811165,
          -0.27545945436697344,
          0.2548881302537297,
          -0.2662580537745291,
          -0.27924398142943646,
          0.09984256567999568,
          0.1118770463001861,
          0.3876933099861324,
          0.02835854592864018,
          -0.30045207997419543,
          0.10494202267907335,
          0.0916870063349024,
          0.39789894774897083,
          0.1950149585204688,
          -0.24270614550827713,
          0.31932525267183864,
          0.1892306712821336,
          -0.22814454405407594,
          -0.31855679057661895,
          0.08360065245577453,
          0.009585105390368229,
          -0.212442773833468,
          0.2161491432023701,
          -0.30476706715507923,
          0.13411713184895963,
          0.22731283672251015,
          -0.30426968230837576,
          -0.30854092231125696,
          0.1029434074323001,
          0.4965686084478188,
          0.43240388085467746,
          -0.017244110816938468,
          -0.2935684127597569,
          0.4548248049990473,
          0.15100274927302246,
          -0.03709412516757921,
          -0.37321951705357853,
          -0.1190950367402117,
          -0.2852290294188232,
          -0.4101029694891513,
          0.07016062877767054,
          0.28506213469976377,
          -0.041102376945020024,
          0.15312943605197196,
          -0.18764345561228277,
          0.37657877887189906,
          0.06204499655555903,
          -0.09577558794180709,
          0.342399974756891,
          0.2212190657549681,
          -0.15156460158285556,
          0.42587982812163633,
          0.13877937743983026,
          0.0034607657424137223,
          -0.2982965032240488,
          0.12214910295404122,
          0.038826002513754225,
          -0.09396930925547832,
          0.21290716811208218,
          -0.3652881529514838,
          -0.04851482082117312,
          0.07159232830985539,
          -0.45252590005717863,
          -0.4291997607632015,
          0.1284663365258947,
          -0.28281744879767895,
          0.17467101044136088,
          0.16723828040846275,
          -0.011859859357753615,
          0.2924453069397663,
          0.25490595561891155,
          -0.2346019138006027,
          0.369715042592361,
          0.09267839129391811,
          -0.06302389716092956,
          0.008387126646343083,
          0.1390404305433631,
          -0.05229505558314835,
          0.1277892092279444,
          -0.11655165330831346,
          -0.15003201170782537,
          0.1792371469509589,
          -0.07616524017573506,
          -0.3385526106217698,
          0.25173075806194034,
          -0.0353051244596147,
          0.41130360004691585,
          0.24897358778346546,
          0.018824107448018695,
          0.0037713970220267547,
          0.22166762009958316,
          -0.45232339882573286,
          -0.4105442823014868,
          0.16345176885320567,
          -0.21495590740833168,
          0.2909722632859973,
          0.15169208347176397,
          0.3227227010414686,
          0.2737195273083135,
          -0.3790903265288742,
          -0.17590556518544762,
          0.07468123172957206,
          0.3263219392696739,
          0.37623149650803767,
          0.21228916392854993,
          -0.0355622835868828,
          -0.34397069666741514,
          0.20401359692080553,
          0.020571317792745535,
          -0.1214403789191795,
          0.23519533425475594,
          0.17524928427502542,
          0.3475529061396388,
          0.2173282143178496,
          -0.0793108777386264,
          -0.06943297410439213,
          0.09115847459908942,
          -0.4156660731373341,
          -0.03376384077280966,
          0.17759524649373024,
          -0.13683843779047783,
          -0.30657715253734386,
          0.2294585523849652,
          -0.35783492494134034,
          -0.06414818152340997,
          0.022571197290774205,
          -0.1824167989380931,
          -0.3543391222913968,
          0.009897385864895476,
          -0.12036596017257266,
          -0.062144272349113364,
          0.25996710602312084,
          -0.24357008945146696,
          0.055627553856684345,
          0.18947045671220317,
          -0.4050854129236833,
          -0.17356905312273754,
          0.06391542342057244,
          0.12511635170918814,
          0.22322431831533474,
          0.15015155259519328,
          0.38945886945953634,
          0.1470854802703298,
          -0.03079646700822063,
          -0.05261293441286187,
          0.20743453028848055,
          -0.2192337548632742,
          -0.16830548888763508,
          0.12168402227567664,
          0.11975475086841772,
          -0.1061735154724233,
          0.20944304710815304,
          -0.344683235215496,
          -0.28487959030503796,
          0.2298360141708695,
          -0.01086435131475006,
          -0.16130754728201482,
          0.14369900747734413,
          0.1290171729785952,
          0.38251055398537487,
          0.26795877453639133,
          -0.39934195463842037,
          0.21461383132799386,
          0.10125216519429325,
          -0.2606143336128465,
          -0.364293723058653,
          0.2642587302901261,
          -0.25921748131634653,
          -0.10484078957942516,
          0.09091113342040212,
          -0.3434161975150728,
          -0.02026168459495392,
          0.0909401878228413,
          -0.19325116400598455,
          -0.35160254636286686,
          0.03461967800472202,
          -0.2977106582500984,
          0.21001749973476827,
          -0.09113778232334228,
          -0.2165605035024895,
          0.47508346683143116,
          0.2797983620925638,
          -0.25853726062572036,
          -0.35366971735481306,
          0.047558681448203535,
          0.11048074379436253,
          -0.040132806099249095,
          0.1554536857170346,
          -0.32237631316816395,
          0.1837488444588211,
          0.15142531980642943,
          -0.3961577024124424,
          -0.4314472827984679,
          0.2492018063630038,
          -0.11703917412315137,
          0.0921366057375434,
          0.24330746325336472,
          -0.21879593401631436,
          -0.20150765902109002,
          0.13813966906447564,
          -0.27744279135860844,
          0.12846559799444862,
          0.050700141463935984,
          -0.08094131284869069,
          -0.28706979194042087,
          0.12252477762445622,
          -0.24030880538984972,
          -0.34124663406166833,
          0.07995023077475089,
          -0.2837251832623844,
          0.24246184088860148,
          -0.018752525313913273,
          -0.3358362112119056,
          -0.258397766971983,
          0.10529475561719953,
          0.10840545715779411,
          0.1593590623321573,
          0.25447712302662207,
          -0.26389766525440705,
          -0.2767000529867022,
          0.12517981325741312,
          -0.027412964674129046,
          -0.118902946679598,
          0.1799854478637604,
          -0.2147760570486851,
          -0.27241696516696284,
          0.09729976629438016,
          -0.35558778309364464,
          -0.03564787258618901,
          0.1145027697027734,
          0.35800477257033136,
          0.33306748449607415,
          0.10937716824661613,
          0.04282167948517775,
          -0.16114532194027756,
          0.16044519868960458,
          0.0028528064341723914,
          0.3506822500970325,
          0.25187497930362523,
          -0.24465598915188022,
          -0.39948783953418066,
          -0.19036737001004084,
          -0.25829590071548797,
          -0.4131327953140369,
          0.0752799170586141,
          -0.2048799690405974,
          0.4930550868812993,
          0.16845872497214642,
          -0.10150887747492543,
          -0.16379339431222054,
          0.13251601841649302,
          0.07278610921193941,
          -0.08455709682223571,
          0.0876335601875024,
          -0.3629577350158169,
          -0.1694863818260117,
          0.0983392027878476
         ],
         "z": [
          -0.032093717556545914,
          -0.17830156272996994,
          -0.05327527920129776,
          -0.2050298591835156,
          -0.2125880018974547,
          -0.18004507471996384,
          0.005385300969332983,
          0.018668794128976856,
          -0.18069190956067752,
          -0.002077479664792531,
          -0.05399092229712838,
          -0.0196103811457871,
          0.3292337784149185,
          0.15865707533950135,
          0.14585510815588243,
          0.3043915284140995,
          0.28844530621788417,
          0.21204294459447276,
          -0.21730132897379123,
          0.028177659196271444,
          -0.23330814644244577,
          -0.10664283320583114,
          -0.05786824551099314,
          -0.1416176375047146,
          -0.13400101688082658,
          0.04894668544799628,
          -0.14294785495804344,
          -0.08559993772395946,
          -0.12179440876582391,
          -0.0002189222459829849,
          -0.34325611227730085,
          -0.36781628663330146,
          -0.32329167740687575,
          0.048803105311054744,
          0.07689752389777336,
          -0.10613359747513951,
          0.04080667057096872,
          0.03378109801951136,
          -0.006606167913354599,
          -0.055029453782373165,
          -0.08245524888562429,
          -0.13188391831180934,
          0.07681491993144428,
          0.08631324112333594,
          -0.02546421810350842,
          0.0861578167020191,
          -0.2009632377829428,
          0.36926039475320355,
          0.4007638824307968,
          0.4570234223910925,
          0.28308564128630104,
          0.30655576434030285,
          0.14097828448990077,
          -0.3400308265044874,
          -0.2673634647137063,
          -0.3515309818038275,
          -0.17271506984940665,
          -0.2428375155158261,
          -0.23232327694234553,
          -0.29059117940692064,
          -0.3434724566987358,
          -0.2800372251602859,
          -0.20786000182331185,
          -0.06741302534956266,
          -0.18453291355344886,
          -0.09811655528483164,
          -0.0840014121274495,
          -0.11995189011646978,
          0.08946479042278448,
          0.11643657619674647,
          -0.07455319142634002,
          0.016899855700683867,
          -0.15373739806267644,
          -0.08441346489993276,
          0.050443939448071046,
          -0.05088721658139834,
          -0.14891168727094056,
          -0.12450474128264452,
          -0.14991986794551274,
          0.13546932005397339,
          0.18973456936334868,
          0.11312743813934324,
          -0.01821254378597316,
          -0.2552622361885735,
          -0.1753133882291121,
          -0.2132120828634545,
          0.009577418017770876,
          -0.21120065203367627,
          0.03656177382533147,
          -0.08236160212269066,
          -0.15611259974613398,
          0.03845832696216205,
          -0.1033353820398416,
          -0.0999706056201948,
          0.05282563939171197,
          0.2165057741489755,
          0.11140170471014596,
          0.06399510865092044,
          0.04254274512838718,
          0.011152819198759868,
          -0.018788854430585287,
          -0.13420670670548926,
          0.13881435402013637,
          0.1205664601575511,
          0.118829007844708,
          0.3175183997434844,
          0.30813663599985447,
          0.2589263274408611,
          -0.0036562826184734732,
          -0.022053107928882744,
          -0.14343252595700054,
          -0.056197353684123236,
          0.007407281784632582,
          0.05903026674710808,
          0.007188155659248127,
          -0.21666760042286887,
          -0.09461766997678958,
          0.5092699550578705,
          0.5448776308232822,
          0.4329387180469616,
          0.03756757875715246,
          0.06597947539327777,
          0.08110280233092014,
          0.45976685568224807,
          0.2630224559730305,
          0.24998185322514777,
          0.013859750076552818,
          -0.0009995279261872435,
          -0.05843156486527298,
          0.0006101816497308968,
          -0.007397855571409033,
          0.02839930855890802,
          0.004974298088998244,
          -0.15411110316202337,
          0.10747406631975663,
          -0.005319676453295053,
          -0.08750060995118931,
          0.0007972201092339035,
          -0.02070251812152883,
          -0.10232330281404173,
          -0.15968640573769224,
          0.047387399438152504,
          -0.22192069539160755,
          -0.1396205395381883,
          0.017364321218738297,
          -0.13260489577370418,
          -0.1498981889835726,
          -0.03452213381034781,
          -0.26488646014274453,
          -0.07323054634841673,
          -0.1257137093595541,
          -0.13087842174867967,
          -0.09394115506100316,
          -0.06226991639908968,
          -0.1529845304728131,
          0.19349884647788695,
          0.11103957253708581,
          0.3217888570881987,
          0.32659740302806106,
          0.27725471886227404,
          0.16626156439011494,
          0.4066324504380355,
          0.4239173034947514,
          0.3172737375866293,
          0.013390789302987871,
          -0.06680975502513449,
          -0.10889411368214535,
          0.09962653026569875,
          0.09789131751221797,
          0.07912507297454589,
          -0.2007778637699818,
          -0.22603585189061387,
          -0.31914183875769975,
          -0.03976978116168421,
          -0.15365384205042784,
          -0.05031024764004777,
          -0.03901526375897409,
          -0.028559534993323855,
          -0.1832104972342547,
          0.05800202480286786,
          0.028405113712258977,
          -0.10011009859555106,
          0.13867560734096385,
          0.04442925021466439,
          0.10623337932039693,
          0.0768546704876065,
          0.08121645636750542,
          0.10741485848545915,
          0.16725053444711505,
          0.050259821874731374,
          -0.19990630926702052,
          -0.021447049181406594,
          -0.21196497868113262,
          -0.07618021911742436,
          -0.08070432927319098,
          -0.13217283936282,
          -0.051099791392189724,
          -0.09457121864592806,
          -0.14699022185415644,
          0.3675993509371016,
          0.4645455030079584,
          0.28540030701842706,
          0.22597381566440833,
          0.10728627312091094,
          0.11328088026058851,
          0.09423885458893912,
          0.11723171372121131,
          0.04097112534609037,
          -0.024073696347013757,
          -0.04165431433899188,
          -0.06136759214163099,
          -0.2185840580109458,
          0.046635818886236344,
          -0.32919968223967794,
          0.06938060980674267,
          0.031111088590359347,
          0.06707535384205403,
          0.3194384558393587,
          0.060777863596856226,
          0.16514425166447932,
          0.021973938330280936,
          -0.06865480019577687,
          -0.08050630644225251,
          0.16270232211884286,
          0.09944807102298762,
          0.048127441371104016,
          0.475668590086717,
          0.1485613494913544,
          0.3061565348689754,
          -0.09317543264645074,
          0.04266069305164539,
          -0.12910726460528713,
          0.014681203558194167,
          -0.10724914523351076,
          -0.15490614506012265,
          -0.21574135012543905,
          -0.2988436227485361,
          -0.268344648290657,
          -0.30779911994381887,
          -0.25791483903933526,
          -0.2646321642093129,
          0.1524559224916247,
          0.03459901757503059,
          0.05934488744903336,
          -0.0013360422171996866,
          -0.045068817786884846,
          -0.06683350174199812,
          -0.2125222409831761,
          -0.16338029400237344,
          -0.21777291440035967,
          -0.29754467720937594,
          -0.1277871094773344,
          -0.32394182002762495,
          0.3700601583267261,
          0.3076747286186473,
          0.3987717268612888,
          0.116331142671384,
          0.08043052877330012,
          -0.19087600157533194,
          -0.24449837592496662,
          -0.27454321412416455,
          0.08069976457810607,
          0.15881013922628348,
          -0.05306953023720593,
          -0.02634697106670323,
          0.050426191895835595,
          -0.12136388112923951,
          -0.20370918704711974,
          -0.14537456261193277,
          -0.24918746926274155,
          0.07410321226590083,
          -0.01852632407717564,
          -0.0893462645755139,
          0.5016145812641823,
          0.21036724262685766,
          0.40654089616687694,
          0.08086637413494391,
          0.12974960728761523,
          -0.09539955860148135,
          -0.17798875336255893,
          -0.24485908549516677,
          -0.08448405528889312,
          0.002361983436226167,
          -0.2172105106794749,
          -0.2884079601851926,
          -0.22317477490464346,
          -0.3379508576917101,
          0.4122834942213266,
          0.5086366445411595,
          0.3802992417441705,
          0.2256853746504209,
          0.08216490707167952,
          -0.044807759593038336,
          0.4035140653132479,
          0.27365261833594373,
          0.4121984566689047,
          -0.06372083390067057,
          -0.18087990886537614,
          -0.22656571420086863,
          0.006128571985981447,
          -0.09167868205308458,
          -0.08946882624168473,
          0.08686251476131776,
          -0.0886617193330995,
          0.1254570288142025,
          0.1160171899917374,
          0.11269836506925054,
          0.043885104732323724,
          0.3096141275264797,
          0.3440516176082169,
          0.22273326280900835,
          -0.05489522561780305,
          -0.02376756693021235,
          -0.09321791348176454,
          -0.25766973966851736,
          -0.19349177873641588,
          -0.27439343201351696,
          -0.0012308776055873908,
          -0.01285108037774973,
          -0.10158528833602225,
          0.05087528358831715,
          -0.11864130021527702,
          -0.330608490185768,
          -0.37114024268843315,
          -0.2817975176341736,
          -0.17876597328001276,
          -0.21718087599425384,
          -0.18942574431964673,
          0.06848732994633273,
          0.13132236974381406,
          -0.058364211114438985,
          -0.21194542551820167,
          -0.1844178004602561,
          -0.28999284265974723,
          0.512759865455406,
          0.39828151762940384,
          0.46576947165787586,
          0.21311758836729663,
          0.10611823795492467,
          0.0941560499490038,
          -0.20063849314512033,
          -0.15077669533997132,
          -0.19340533081617722,
          -0.23813114732614274,
          -0.20080449842130293,
          0.004167784801981726,
          0.09614401551645611,
          0.03540929398070594,
          0.05539311067564712,
          0.3641116993517388,
          0.049708865767577465,
          0.22729195379492229,
          -0.20402076348311504,
          -0.2079409289513914,
          -0.13293080719373684,
          -0.09008035234633498,
          -0.14129673640468166,
          -0.12999896980731043,
          0.051257200524109495,
          0.09426212228842519,
          0.10251625705993674,
          0.10192406080991671,
          -0.022376160317233138,
          -0.0496426327194606,
          0.11394768558690316,
          0.12181091411006115,
          0.07934881087496487,
          -0.1524518270400967,
          -0.0606838441009728,
          -0.014648360020264452,
          -0.09440524870964502,
          -0.12664724102283847,
          -0.25494768791666517,
          0.10751174081163034,
          0.08902199239815269,
          0.14531102456421924,
          0.3147840840738652,
          0.18229113661652163,
          0.24747325779080354,
          0.394307899901182,
          0.17442866003009205,
          0.2517571231158179,
          -0.11300565386519411,
          -0.13122202770821367,
          -0.2243836952189274,
          -0.2021739372886048,
          -0.28856991850757335,
          -0.24549562613129547,
          0.10531861360814504,
          0.08831087446406072,
          0.21613426306261865,
          -0.22739922784771718,
          -0.18891624562523335,
          -0.245644669430754,
          0.33152703543562245,
          0.26046414153790687,
          0.2208289479715293,
          0.1978258673389102,
          0.01996037772046075,
          0.18553531386159483,
          -0.30259563761034164,
          -0.27054596016023974,
          -0.3108521166463134,
          0.10198902727425065,
          -0.08744147182874423,
          0.0279296279147031,
          -0.16911558299549737,
          -0.1681017558250872,
          -0.2135149861453053,
          -0.002984675184809607,
          -0.03105678296476382,
          -0.13072382879954889,
          0.1295811572948619,
          0.19333517064707006,
          0.1873169654360495,
          -0.1997964119674557,
          -0.11716904023124672,
          -0.2750924052012588,
          0.2150910080160546,
          0.21855014774825302,
          0.23033201913227194,
          0.3708153662518942,
          0.2078403099139789,
          0.1909092774669271,
          -0.3994747777458636,
          -0.02138848367421249,
          -0.4406436172294523,
          -0.2296891834531118,
          -0.26171390231058567,
          -0.22346493848362597,
          0.4621603901350274,
          0.4778572054863846,
          0.4801255333283737,
          0.11961793403829192,
          0.010219541444077055,
          0.06162937867839168
         ]
        }
       ],
       "layout": {
        "coloraxis": {
         "colorbar": {
          "title": {
           "text": "color"
          }
         },
         "colorscale": [
          [
           0,
           "#0d0887"
          ],
          [
           0.1111111111111111,
           "#46039f"
          ],
          [
           0.2222222222222222,
           "#7201a8"
          ],
          [
           0.3333333333333333,
           "#9c179e"
          ],
          [
           0.4444444444444444,
           "#bd3786"
          ],
          [
           0.5555555555555556,
           "#d8576b"
          ],
          [
           0.6666666666666666,
           "#ed7953"
          ],
          [
           0.7777777777777778,
           "#fb9f3a"
          ],
          [
           0.8888888888888888,
           "#fdca26"
          ],
          [
           1,
           "#f0f921"
          ]
         ]
        },
        "legend": {
         "tracegroupgap": 0
        },
        "margin": {
         "t": 60
        },
        "scene": {
         "domain": {
          "x": [
           0,
           1
          ],
          "y": [
           0,
           1
          ]
         },
         "xaxis": {
          "title": {
           "text": "component1"
          }
         },
         "yaxis": {
          "title": {
           "text": "component2"
          }
         },
         "zaxis": {
          "title": {
           "text": "component3"
          }
         }
        },
        "template": {
         "data": {
          "bar": [
           {
            "error_x": {
             "color": "#2a3f5f"
            },
            "error_y": {
             "color": "#2a3f5f"
            },
            "marker": {
             "line": {
              "color": "#E5ECF6",
              "width": 0.5
             },
             "pattern": {
              "fillmode": "overlay",
              "size": 10,
              "solidity": 0.2
             }
            },
            "type": "bar"
           }
          ],
          "barpolar": [
           {
            "marker": {
             "line": {
              "color": "#E5ECF6",
              "width": 0.5
             },
             "pattern": {
              "fillmode": "overlay",
              "size": 10,
              "solidity": 0.2
             }
            },
            "type": "barpolar"
           }
          ],
          "carpet": [
           {
            "aaxis": {
             "endlinecolor": "#2a3f5f",
             "gridcolor": "white",
             "linecolor": "white",
             "minorgridcolor": "white",
             "startlinecolor": "#2a3f5f"
            },
            "baxis": {
             "endlinecolor": "#2a3f5f",
             "gridcolor": "white",
             "linecolor": "white",
             "minorgridcolor": "white",
             "startlinecolor": "#2a3f5f"
            },
            "type": "carpet"
           }
          ],
          "choropleth": [
           {
            "colorbar": {
             "outlinewidth": 0,
             "ticks": ""
            },
            "type": "choropleth"
           }
          ],
          "contour": [
           {
            "colorbar": {
             "outlinewidth": 0,
             "ticks": ""
            },
            "colorscale": [
             [
              0,
              "#0d0887"
             ],
             [
              0.1111111111111111,
              "#46039f"
             ],
             [
              0.2222222222222222,
              "#7201a8"
             ],
             [
              0.3333333333333333,
              "#9c179e"
             ],
             [
              0.4444444444444444,
              "#bd3786"
             ],
             [
              0.5555555555555556,
              "#d8576b"
             ],
             [
              0.6666666666666666,
              "#ed7953"
             ],
             [
              0.7777777777777778,
              "#fb9f3a"
             ],
             [
              0.8888888888888888,
              "#fdca26"
             ],
             [
              1,
              "#f0f921"
             ]
            ],
            "type": "contour"
           }
          ],
          "contourcarpet": [
           {
            "colorbar": {
             "outlinewidth": 0,
             "ticks": ""
            },
            "type": "contourcarpet"
           }
          ],
          "heatmap": [
           {
            "colorbar": {
             "outlinewidth": 0,
             "ticks": ""
            },
            "colorscale": [
             [
              0,
              "#0d0887"
             ],
             [
              0.1111111111111111,
              "#46039f"
             ],
             [
              0.2222222222222222,
              "#7201a8"
             ],
             [
              0.3333333333333333,
              "#9c179e"
             ],
             [
              0.4444444444444444,
              "#bd3786"
             ],
             [
              0.5555555555555556,
              "#d8576b"
             ],
             [
              0.6666666666666666,
              "#ed7953"
             ],
             [
              0.7777777777777778,
              "#fb9f3a"
             ],
             [
              0.8888888888888888,
              "#fdca26"
             ],
             [
              1,
              "#f0f921"
             ]
            ],
            "type": "heatmap"
           }
          ],
          "heatmapgl": [
           {
            "colorbar": {
             "outlinewidth": 0,
             "ticks": ""
            },
            "colorscale": [
             [
              0,
              "#0d0887"
             ],
             [
              0.1111111111111111,
              "#46039f"
             ],
             [
              0.2222222222222222,
              "#7201a8"
             ],
             [
              0.3333333333333333,
              "#9c179e"
             ],
             [
              0.4444444444444444,
              "#bd3786"
             ],
             [
              0.5555555555555556,
              "#d8576b"
             ],
             [
              0.6666666666666666,
              "#ed7953"
             ],
             [
              0.7777777777777778,
              "#fb9f3a"
             ],
             [
              0.8888888888888888,
              "#fdca26"
             ],
             [
              1,
              "#f0f921"
             ]
            ],
            "type": "heatmapgl"
           }
          ],
          "histogram": [
           {
            "marker": {
             "pattern": {
              "fillmode": "overlay",
              "size": 10,
              "solidity": 0.2
             }
            },
            "type": "histogram"
           }
          ],
          "histogram2d": [
           {
            "colorbar": {
             "outlinewidth": 0,
             "ticks": ""
            },
            "colorscale": [
             [
              0,
              "#0d0887"
             ],
             [
              0.1111111111111111,
              "#46039f"
             ],
             [
              0.2222222222222222,
              "#7201a8"
             ],
             [
              0.3333333333333333,
              "#9c179e"
             ],
             [
              0.4444444444444444,
              "#bd3786"
             ],
             [
              0.5555555555555556,
              "#d8576b"
             ],
             [
              0.6666666666666666,
              "#ed7953"
             ],
             [
              0.7777777777777778,
              "#fb9f3a"
             ],
             [
              0.8888888888888888,
              "#fdca26"
             ],
             [
              1,
              "#f0f921"
             ]
            ],
            "type": "histogram2d"
           }
          ],
          "histogram2dcontour": [
           {
            "colorbar": {
             "outlinewidth": 0,
             "ticks": ""
            },
            "colorscale": [
             [
              0,
              "#0d0887"
             ],
             [
              0.1111111111111111,
              "#46039f"
             ],
             [
              0.2222222222222222,
              "#7201a8"
             ],
             [
              0.3333333333333333,
              "#9c179e"
             ],
             [
              0.4444444444444444,
              "#bd3786"
             ],
             [
              0.5555555555555556,
              "#d8576b"
             ],
             [
              0.6666666666666666,
              "#ed7953"
             ],
             [
              0.7777777777777778,
              "#fb9f3a"
             ],
             [
              0.8888888888888888,
              "#fdca26"
             ],
             [
              1,
              "#f0f921"
             ]
            ],
            "type": "histogram2dcontour"
           }
          ],
          "mesh3d": [
           {
            "colorbar": {
             "outlinewidth": 0,
             "ticks": ""
            },
            "type": "mesh3d"
           }
          ],
          "parcoords": [
           {
            "line": {
             "colorbar": {
              "outlinewidth": 0,
              "ticks": ""
             }
            },
            "type": "parcoords"
           }
          ],
          "pie": [
           {
            "automargin": true,
            "type": "pie"
           }
          ],
          "scatter": [
           {
            "fillpattern": {
             "fillmode": "overlay",
             "size": 10,
             "solidity": 0.2
            },
            "type": "scatter"
           }
          ],
          "scatter3d": [
           {
            "line": {
             "colorbar": {
              "outlinewidth": 0,
              "ticks": ""
             }
            },
            "marker": {
             "colorbar": {
              "outlinewidth": 0,
              "ticks": ""
             }
            },
            "type": "scatter3d"
           }
          ],
          "scattercarpet": [
           {
            "marker": {
             "colorbar": {
              "outlinewidth": 0,
              "ticks": ""
             }
            },
            "type": "scattercarpet"
           }
          ],
          "scattergeo": [
           {
            "marker": {
             "colorbar": {
              "outlinewidth": 0,
              "ticks": ""
             }
            },
            "type": "scattergeo"
           }
          ],
          "scattergl": [
           {
            "marker": {
             "colorbar": {
              "outlinewidth": 0,
              "ticks": ""
             }
            },
            "type": "scattergl"
           }
          ],
          "scattermapbox": [
           {
            "marker": {
             "colorbar": {
              "outlinewidth": 0,
              "ticks": ""
             }
            },
            "type": "scattermapbox"
           }
          ],
          "scatterpolar": [
           {
            "marker": {
             "colorbar": {
              "outlinewidth": 0,
              "ticks": ""
             }
            },
            "type": "scatterpolar"
           }
          ],
          "scatterpolargl": [
           {
            "marker": {
             "colorbar": {
              "outlinewidth": 0,
              "ticks": ""
             }
            },
            "type": "scatterpolargl"
           }
          ],
          "scatterternary": [
           {
            "marker": {
             "colorbar": {
              "outlinewidth": 0,
              "ticks": ""
             }
            },
            "type": "scatterternary"
           }
          ],
          "surface": [
           {
            "colorbar": {
             "outlinewidth": 0,
             "ticks": ""
            },
            "colorscale": [
             [
              0,
              "#0d0887"
             ],
             [
              0.1111111111111111,
              "#46039f"
             ],
             [
              0.2222222222222222,
              "#7201a8"
             ],
             [
              0.3333333333333333,
              "#9c179e"
             ],
             [
              0.4444444444444444,
              "#bd3786"
             ],
             [
              0.5555555555555556,
              "#d8576b"
             ],
             [
              0.6666666666666666,
              "#ed7953"
             ],
             [
              0.7777777777777778,
              "#fb9f3a"
             ],
             [
              0.8888888888888888,
              "#fdca26"
             ],
             [
              1,
              "#f0f921"
             ]
            ],
            "type": "surface"
           }
          ],
          "table": [
           {
            "cells": {
             "fill": {
              "color": "#EBF0F8"
             },
             "line": {
              "color": "white"
             }
            },
            "header": {
             "fill": {
              "color": "#C8D4E3"
             },
             "line": {
              "color": "white"
             }
            },
            "type": "table"
           }
          ]
         },
         "layout": {
          "annotationdefaults": {
           "arrowcolor": "#2a3f5f",
           "arrowhead": 0,
           "arrowwidth": 1
          },
          "autotypenumbers": "strict",
          "coloraxis": {
           "colorbar": {
            "outlinewidth": 0,
            "ticks": ""
           }
          },
          "colorscale": {
           "diverging": [
            [
             0,
             "#8e0152"
            ],
            [
             0.1,
             "#c51b7d"
            ],
            [
             0.2,
             "#de77ae"
            ],
            [
             0.3,
             "#f1b6da"
            ],
            [
             0.4,
             "#fde0ef"
            ],
            [
             0.5,
             "#f7f7f7"
            ],
            [
             0.6,
             "#e6f5d0"
            ],
            [
             0.7,
             "#b8e186"
            ],
            [
             0.8,
             "#7fbc41"
            ],
            [
             0.9,
             "#4d9221"
            ],
            [
             1,
             "#276419"
            ]
           ],
           "sequential": [
            [
             0,
             "#0d0887"
            ],
            [
             0.1111111111111111,
             "#46039f"
            ],
            [
             0.2222222222222222,
             "#7201a8"
            ],
            [
             0.3333333333333333,
             "#9c179e"
            ],
            [
             0.4444444444444444,
             "#bd3786"
            ],
            [
             0.5555555555555556,
             "#d8576b"
            ],
            [
             0.6666666666666666,
             "#ed7953"
            ],
            [
             0.7777777777777778,
             "#fb9f3a"
            ],
            [
             0.8888888888888888,
             "#fdca26"
            ],
            [
             1,
             "#f0f921"
            ]
           ],
           "sequentialminus": [
            [
             0,
             "#0d0887"
            ],
            [
             0.1111111111111111,
             "#46039f"
            ],
            [
             0.2222222222222222,
             "#7201a8"
            ],
            [
             0.3333333333333333,
             "#9c179e"
            ],
            [
             0.4444444444444444,
             "#bd3786"
            ],
            [
             0.5555555555555556,
             "#d8576b"
            ],
            [
             0.6666666666666666,
             "#ed7953"
            ],
            [
             0.7777777777777778,
             "#fb9f3a"
            ],
            [
             0.8888888888888888,
             "#fdca26"
            ],
            [
             1,
             "#f0f921"
            ]
           ]
          },
          "colorway": [
           "#636efa",
           "#EF553B",
           "#00cc96",
           "#ab63fa",
           "#FFA15A",
           "#19d3f3",
           "#FF6692",
           "#B6E880",
           "#FF97FF",
           "#FECB52"
          ],
          "font": {
           "color": "#2a3f5f"
          },
          "geo": {
           "bgcolor": "white",
           "lakecolor": "white",
           "landcolor": "#E5ECF6",
           "showlakes": true,
           "showland": true,
           "subunitcolor": "white"
          },
          "hoverlabel": {
           "align": "left"
          },
          "hovermode": "closest",
          "mapbox": {
           "style": "light"
          },
          "paper_bgcolor": "white",
          "plot_bgcolor": "#E5ECF6",
          "polar": {
           "angularaxis": {
            "gridcolor": "white",
            "linecolor": "white",
            "ticks": ""
           },
           "bgcolor": "#E5ECF6",
           "radialaxis": {
            "gridcolor": "white",
            "linecolor": "white",
            "ticks": ""
           }
          },
          "scene": {
           "xaxis": {
            "backgroundcolor": "#E5ECF6",
            "gridcolor": "white",
            "gridwidth": 2,
            "linecolor": "white",
            "showbackground": true,
            "ticks": "",
            "zerolinecolor": "white"
           },
           "yaxis": {
            "backgroundcolor": "#E5ECF6",
            "gridcolor": "white",
            "gridwidth": 2,
            "linecolor": "white",
            "showbackground": true,
            "ticks": "",
            "zerolinecolor": "white"
           },
           "zaxis": {
            "backgroundcolor": "#E5ECF6",
            "gridcolor": "white",
            "gridwidth": 2,
            "linecolor": "white",
            "showbackground": true,
            "ticks": "",
            "zerolinecolor": "white"
           }
          },
          "shapedefaults": {
           "line": {
            "color": "#2a3f5f"
           }
          },
          "ternary": {
           "aaxis": {
            "gridcolor": "white",
            "linecolor": "white",
            "ticks": ""
           },
           "baxis": {
            "gridcolor": "white",
            "linecolor": "white",
            "ticks": ""
           },
           "bgcolor": "#E5ECF6",
           "caxis": {
            "gridcolor": "white",
            "linecolor": "white",
            "ticks": ""
           }
          },
          "title": {
           "x": 0.05
          },
          "xaxis": {
           "automargin": true,
           "gridcolor": "white",
           "linecolor": "white",
           "ticks": "",
           "title": {
            "standoff": 15
           },
           "zerolinecolor": "white",
           "zerolinewidth": 2
          },
          "yaxis": {
           "automargin": true,
           "gridcolor": "white",
           "linecolor": "white",
           "ticks": "",
           "title": {
            "standoff": 15
           },
           "zerolinecolor": "white",
           "zerolinewidth": 2
          }
         }
        }
       }
      }
     },
     "metadata": {},
     "output_type": "display_data"
    }
   ],
   "source": [
    "fig = px.scatter_3d(iqms_kpca, x=\"component1\", y=\"component2\", z=\"component3\", color=scores[\"condition\"])\n",
    "fig.show()"
   ]
  },
  {
   "cell_type": "code",
   "execution_count": 49,
   "metadata": {},
   "outputs": [
    {
     "data": {
      "application/vnd.plotly.v1+json": {
       "config": {
        "plotlyServerURL": "https://plot.ly"
       },
       "data": [
        {
         "alignmentgroup": "True",
         "bingroup": "x",
         "hovertemplate": "color=1<br>component1=%{x}<br>count=%{y}<extra></extra>",
         "legendgroup": "1",
         "marker": {
          "color": "#636efa",
          "pattern": {
           "shape": ""
          }
         },
         "name": "1",
         "offsetgroup": "1",
         "orientation": "v",
         "showlegend": true,
         "type": "histogram",
         "x": [
          -3.2449064043505373,
          3.518954249159686,
          2.4239826882020727,
          -0.7260045745887582,
          -1.102027452709111,
          -3.66422203347626,
          1.5369256959219315,
          -3.2798530767563614,
          -4.7999926566563005,
          3.4935203893489213,
          2.269846235993561,
          -0.5569972074605067,
          4.816183549410457,
          -2.095480812334927,
          -3.1725607061341687,
          12.471782886881245,
          2.182312977499437,
          -4.721809981561186,
          1.516853056565911,
          -2.361742128718311,
          -3.0080179230811086,
          -1.5174278366701233,
          -1.4257308562038982,
          9.591911836362382,
          6.8897006734747706,
          8.532221078205929,
          -5.665233911892813,
          -2.677572324502625,
          10.782933384277852,
          3.872911012207142,
          -3.1794490524515164,
          13.054362834721115,
          6.9103143052006635,
          4.9131593921154115,
          -1.8011940254341545,
          3.6900605123179857,
          -1.7463347661474766,
          -3.2651018113439267,
          2.846272583433232,
          -2.941209182458151,
          -4.216150465674412,
          -1.1421235283076692,
          -1.2034753699932486,
          -1.8979145123891719,
          -1.333082151209296,
          8.560989506255988,
          -1.125481978283586,
          -2.4284366347983286,
          11.105633036360164,
          2.086727662196321,
          2.559076360829053,
          -1.6886374819179244,
          -2.3869841215199172,
          6.450057935641493,
          -3.3389054335286876,
          1.1610968625742422,
          -1.8572291161263346,
          -2.380016896554278,
          3.410125748000005,
          3.661627783628095,
          7.690539021686589,
          -2.4515622172444917,
          -1.598202885642945,
          6.149681013529698,
          -0.05337410251803061,
          -3.666894878179841,
          1.920093286018891,
          -2.6536681894334797,
          -4.242881451004095,
          0.622711940010106,
          -1.16188901692381,
          10.983804943946206,
          3.010179625091959,
          -3.5714466565540626,
          -2.078090757121294,
          7.547180438478277,
          -2.434567295607312,
          -0.5518703174121115,
          0.58692462090207,
          5.238842181977452,
          -4.521117599246566,
          0.39861761101678983,
          -0.03890190344427693,
          0.32592847401180114,
          3.595642093293516,
          1.34358765514207,
          3.3951826271502235,
          3.367463346225485,
          -3.8668108807104633,
          -3.277244074284263,
          1.672442714811734,
          0.8469188730971933,
          -0.6770640529524349,
          -0.13515071043700272,
          12.915038348604984,
          -1.0829619124357317,
          8.453753534487628,
          -2.9851177002884985,
          -2.8571443840078126,
          5.6688975070153615,
          1.269702051455638,
          -0.48093881209233663,
          -2.6047025789533516,
          -0.021355269564143325,
          -3.0618511038023857,
          0.17540616613970966,
          1.933802815873088,
          0.6061205392871062,
          -2.5970635764529635,
          6.092137993637487,
          -2.528983606098061,
          -0.23249183964074013,
          6.966391987720676,
          1.6789366826631296,
          -2.428893832879494,
          -0.9895712728142225,
          2.1660908106227286,
          -2.017533894967464,
          -2.0957261864002743,
          -0.9193231494316514,
          4.083420067491812,
          1.8256737921842419,
          3.138339287063509,
          -2.9165203622679163,
          -5.63536602847306,
          2.4864541771951716,
          -0.43120030297948597,
          4.326234430272531,
          -0.1992213955092785,
          -0.5806223630041659,
          -3.7714392669327643,
          -1.5914130316184063,
          1.2971467781417139,
          2.4468580250552705,
          1.1868775073646087,
          -0.8189746541733833,
          -3.520934083142549,
          -2.22199430350348,
          -0.9758806255160103,
          9.107422348245757,
          5.545995232343503,
          4.023187146562172,
          -2.571118097201445,
          -2.253056337949153,
          1.4088190409615522,
          -2.054941867530057,
          -3.832604464530869,
          0.7002155249125473
         ],
         "xaxis": "x",
         "yaxis": "y"
        },
        {
         "alignmentgroup": "True",
         "boxpoints": "all",
         "fillcolor": "rgba(255,255,255,0)",
         "hoveron": "points",
         "hovertemplate": "color=1<br>component1=%{x}<extra></extra>",
         "jitter": 0,
         "legendgroup": "1",
         "line": {
          "color": "rgba(255,255,255,0)"
         },
         "marker": {
          "color": "#636efa",
          "symbol": "line-ns-open"
         },
         "name": "1",
         "offsetgroup": "1",
         "showlegend": false,
         "type": "box",
         "x": [
          -3.2449064043505373,
          3.518954249159686,
          2.4239826882020727,
          -0.7260045745887582,
          -1.102027452709111,
          -3.66422203347626,
          1.5369256959219315,
          -3.2798530767563614,
          -4.7999926566563005,
          3.4935203893489213,
          2.269846235993561,
          -0.5569972074605067,
          4.816183549410457,
          -2.095480812334927,
          -3.1725607061341687,
          12.471782886881245,
          2.182312977499437,
          -4.721809981561186,
          1.516853056565911,
          -2.361742128718311,
          -3.0080179230811086,
          -1.5174278366701233,
          -1.4257308562038982,
          9.591911836362382,
          6.8897006734747706,
          8.532221078205929,
          -5.665233911892813,
          -2.677572324502625,
          10.782933384277852,
          3.872911012207142,
          -3.1794490524515164,
          13.054362834721115,
          6.9103143052006635,
          4.9131593921154115,
          -1.8011940254341545,
          3.6900605123179857,
          -1.7463347661474766,
          -3.2651018113439267,
          2.846272583433232,
          -2.941209182458151,
          -4.216150465674412,
          -1.1421235283076692,
          -1.2034753699932486,
          -1.8979145123891719,
          -1.333082151209296,
          8.560989506255988,
          -1.125481978283586,
          -2.4284366347983286,
          11.105633036360164,
          2.086727662196321,
          2.559076360829053,
          -1.6886374819179244,
          -2.3869841215199172,
          6.450057935641493,
          -3.3389054335286876,
          1.1610968625742422,
          -1.8572291161263346,
          -2.380016896554278,
          3.410125748000005,
          3.661627783628095,
          7.690539021686589,
          -2.4515622172444917,
          -1.598202885642945,
          6.149681013529698,
          -0.05337410251803061,
          -3.666894878179841,
          1.920093286018891,
          -2.6536681894334797,
          -4.242881451004095,
          0.622711940010106,
          -1.16188901692381,
          10.983804943946206,
          3.010179625091959,
          -3.5714466565540626,
          -2.078090757121294,
          7.547180438478277,
          -2.434567295607312,
          -0.5518703174121115,
          0.58692462090207,
          5.238842181977452,
          -4.521117599246566,
          0.39861761101678983,
          -0.03890190344427693,
          0.32592847401180114,
          3.595642093293516,
          1.34358765514207,
          3.3951826271502235,
          3.367463346225485,
          -3.8668108807104633,
          -3.277244074284263,
          1.672442714811734,
          0.8469188730971933,
          -0.6770640529524349,
          -0.13515071043700272,
          12.915038348604984,
          -1.0829619124357317,
          8.453753534487628,
          -2.9851177002884985,
          -2.8571443840078126,
          5.6688975070153615,
          1.269702051455638,
          -0.48093881209233663,
          -2.6047025789533516,
          -0.021355269564143325,
          -3.0618511038023857,
          0.17540616613970966,
          1.933802815873088,
          0.6061205392871062,
          -2.5970635764529635,
          6.092137993637487,
          -2.528983606098061,
          -0.23249183964074013,
          6.966391987720676,
          1.6789366826631296,
          -2.428893832879494,
          -0.9895712728142225,
          2.1660908106227286,
          -2.017533894967464,
          -2.0957261864002743,
          -0.9193231494316514,
          4.083420067491812,
          1.8256737921842419,
          3.138339287063509,
          -2.9165203622679163,
          -5.63536602847306,
          2.4864541771951716,
          -0.43120030297948597,
          4.326234430272531,
          -0.1992213955092785,
          -0.5806223630041659,
          -3.7714392669327643,
          -1.5914130316184063,
          1.2971467781417139,
          2.4468580250552705,
          1.1868775073646087,
          -0.8189746541733833,
          -3.520934083142549,
          -2.22199430350348,
          -0.9758806255160103,
          9.107422348245757,
          5.545995232343503,
          4.023187146562172,
          -2.571118097201445,
          -2.253056337949153,
          1.4088190409615522,
          -2.054941867530057,
          -3.832604464530869,
          0.7002155249125473
         ],
         "xaxis": "x2",
         "yaxis": "y2"
        },
        {
         "alignmentgroup": "True",
         "bingroup": "x",
         "hovertemplate": "color=2<br>component1=%{x}<br>count=%{y}<extra></extra>",
         "legendgroup": "2",
         "marker": {
          "color": "#EF553B",
          "pattern": {
           "shape": ""
          }
         },
         "name": "2",
         "offsetgroup": "2",
         "orientation": "v",
         "showlegend": true,
         "type": "histogram",
         "x": [
          2.241555100162124,
          1.1197099844996157,
          5.168354009563898,
          1.3715482575929614,
          -0.023159183664176422,
          0.1073659481158781,
          11.228269856976242,
          -0.9879903422973229,
          12.589698023261976,
          7.160576640644055,
          2.958446400171838,
          1.6267645304212377,
          9.912277402527247,
          5.439446410895422,
          -1.0524523623695066,
          3.648627801275447,
          -1.3208163688876688,
          6.264683783441018,
          4.362632895793579,
          -0.14592620493967012,
          6.625958834879936,
          2.5161764528707957,
          -4.930694996454965,
          11.127191731346725,
          12.171747416822534,
          -4.303020719044169,
          -0.2443539001773187,
          4.214185416833668,
          10.986638898352435,
          -0.36332184981310717,
          9.274957901098016,
          9.951871794324065,
          6.608344776352033,
          10.419185167125866,
          -2.3534305669399056,
          -2.0983395771090723,
          8.823179823986008,
          1.4484953996367798,
          -2.736895099685318,
          -1.2204097586984266,
          3.8774331066049617,
          0.27620040086694786,
          2.1422494136242247,
          5.829900984467851,
          7.925625460503616,
          1.531982921894277,
          10.96617940734001,
          9.279022095698924,
          3.9521220113309736,
          3.7484701194826324,
          10.47873916650208,
          0.18026699460066717,
          -0.35973163360080584,
          -1.1415247977383127,
          -0.6960722176744897,
          5.895206024149332,
          4.807658070474405,
          8.933774775103643,
          -1.6503033923579578,
          3.4612034916785244,
          16.22472004979641,
          9.5712428678219,
          9.194590814887263,
          1.3704760215163327,
          -1.379420057714475,
          6.848345313026113,
          -0.9592006672302891,
          9.97973599450362,
          11.152327489068545,
          -0.4483650802974824,
          2.2314849878189573,
          2.3219504026547684,
          9.242416294123078,
          8.748783005367446,
          9.831279846548536,
          1.5587237925653619,
          -2.9546283661976918,
          5.659061402235193,
          2.3058631975062562,
          7.138537480317741,
          8.402982803131371,
          9.503296398470793,
          4.681800805989152,
          -2.8466604686492722,
          -0.4657019665147855,
          10.934265934469982,
          4.241022607648847,
          0.7787001759470847,
          8.095154771713128,
          4.974016809199111,
          9.854385057720124,
          1.5147556818230576,
          -3.0586394344807224,
          14.735018544498669,
          4.191688957604445,
          5.656256401322801,
          2.8891507746617258,
          5.508976415369358,
          -1.3223943491411412,
          2.8679701904545127,
          5.439016792320082,
          4.431463972544366,
          11.37470761305705,
          1.062774830144392,
          3.22224043761511,
          4.026147978057232,
          3.3082698724873,
          1.8118625770287409,
          10.381104598865793,
          7.901192277035863,
          2.3922283914551894,
          4.307013674028452,
          5.220036648010958,
          3.082210640157895,
          7.752235346170755,
          11.87748426552485,
          -2.0540826752791883,
          -4.2469633817901045,
          7.797255631903864,
          1.6406794840407848,
          6.521146931723164,
          1.9931284520057782,
          5.963657998452373,
          4.037426408667849,
          0.795730983203566,
          7.387501884742086,
          3.6380972219324197,
          5.234447091648038,
          3.0794152421078476,
          -3.1494731017391255,
          3.8524884162471533,
          4.980046981236782,
          8.112795972713663,
          2.490315588356116,
          9.184342200687155,
          -1.0048276418340085,
          0.8294466232041003,
          11.145241395859644,
          -1.0581156766200277,
          0.09203009236984663,
          4.734529702997316
         ],
         "xaxis": "x",
         "yaxis": "y"
        },
        {
         "alignmentgroup": "True",
         "boxpoints": "all",
         "fillcolor": "rgba(255,255,255,0)",
         "hoveron": "points",
         "hovertemplate": "color=2<br>component1=%{x}<extra></extra>",
         "jitter": 0,
         "legendgroup": "2",
         "line": {
          "color": "rgba(255,255,255,0)"
         },
         "marker": {
          "color": "#EF553B",
          "symbol": "line-ns-open"
         },
         "name": "2",
         "offsetgroup": "2",
         "showlegend": false,
         "type": "box",
         "x": [
          2.241555100162124,
          1.1197099844996157,
          5.168354009563898,
          1.3715482575929614,
          -0.023159183664176422,
          0.1073659481158781,
          11.228269856976242,
          -0.9879903422973229,
          12.589698023261976,
          7.160576640644055,
          2.958446400171838,
          1.6267645304212377,
          9.912277402527247,
          5.439446410895422,
          -1.0524523623695066,
          3.648627801275447,
          -1.3208163688876688,
          6.264683783441018,
          4.362632895793579,
          -0.14592620493967012,
          6.625958834879936,
          2.5161764528707957,
          -4.930694996454965,
          11.127191731346725,
          12.171747416822534,
          -4.303020719044169,
          -0.2443539001773187,
          4.214185416833668,
          10.986638898352435,
          -0.36332184981310717,
          9.274957901098016,
          9.951871794324065,
          6.608344776352033,
          10.419185167125866,
          -2.3534305669399056,
          -2.0983395771090723,
          8.823179823986008,
          1.4484953996367798,
          -2.736895099685318,
          -1.2204097586984266,
          3.8774331066049617,
          0.27620040086694786,
          2.1422494136242247,
          5.829900984467851,
          7.925625460503616,
          1.531982921894277,
          10.96617940734001,
          9.279022095698924,
          3.9521220113309736,
          3.7484701194826324,
          10.47873916650208,
          0.18026699460066717,
          -0.35973163360080584,
          -1.1415247977383127,
          -0.6960722176744897,
          5.895206024149332,
          4.807658070474405,
          8.933774775103643,
          -1.6503033923579578,
          3.4612034916785244,
          16.22472004979641,
          9.5712428678219,
          9.194590814887263,
          1.3704760215163327,
          -1.379420057714475,
          6.848345313026113,
          -0.9592006672302891,
          9.97973599450362,
          11.152327489068545,
          -0.4483650802974824,
          2.2314849878189573,
          2.3219504026547684,
          9.242416294123078,
          8.748783005367446,
          9.831279846548536,
          1.5587237925653619,
          -2.9546283661976918,
          5.659061402235193,
          2.3058631975062562,
          7.138537480317741,
          8.402982803131371,
          9.503296398470793,
          4.681800805989152,
          -2.8466604686492722,
          -0.4657019665147855,
          10.934265934469982,
          4.241022607648847,
          0.7787001759470847,
          8.095154771713128,
          4.974016809199111,
          9.854385057720124,
          1.5147556818230576,
          -3.0586394344807224,
          14.735018544498669,
          4.191688957604445,
          5.656256401322801,
          2.8891507746617258,
          5.508976415369358,
          -1.3223943491411412,
          2.8679701904545127,
          5.439016792320082,
          4.431463972544366,
          11.37470761305705,
          1.062774830144392,
          3.22224043761511,
          4.026147978057232,
          3.3082698724873,
          1.8118625770287409,
          10.381104598865793,
          7.901192277035863,
          2.3922283914551894,
          4.307013674028452,
          5.220036648010958,
          3.082210640157895,
          7.752235346170755,
          11.87748426552485,
          -2.0540826752791883,
          -4.2469633817901045,
          7.797255631903864,
          1.6406794840407848,
          6.521146931723164,
          1.9931284520057782,
          5.963657998452373,
          4.037426408667849,
          0.795730983203566,
          7.387501884742086,
          3.6380972219324197,
          5.234447091648038,
          3.0794152421078476,
          -3.1494731017391255,
          3.8524884162471533,
          4.980046981236782,
          8.112795972713663,
          2.490315588356116,
          9.184342200687155,
          -1.0048276418340085,
          0.8294466232041003,
          11.145241395859644,
          -1.0581156766200277,
          0.09203009236984663,
          4.734529702997316
         ],
         "xaxis": "x2",
         "yaxis": "y2"
        },
        {
         "alignmentgroup": "True",
         "bingroup": "x",
         "hovertemplate": "color=3<br>component1=%{x}<br>count=%{y}<extra></extra>",
         "legendgroup": "3",
         "marker": {
          "color": "#00cc96",
          "pattern": {
           "shape": ""
          }
         },
         "name": "3",
         "offsetgroup": "3",
         "orientation": "v",
         "showlegend": true,
         "type": "histogram",
         "x": [
          -4.837443302350562,
          -4.373940931323621,
          -5.977271509267583,
          -4.579759858124041,
          -4.0955025964200455,
          -4.556278015544607,
          -2.804771991626935,
          -4.656293014503606,
          -5.478396912113831,
          -4.420647622801961,
          -6.118371692230082,
          -5.61929536071816,
          -6.558644284562357,
          -4.867277517020829,
          -5.780307846161016,
          -4.458251426393712,
          -5.900259472556174,
          -5.93562919723515,
          -4.642822488499347,
          -5.137382960762376,
          -4.820501136489374,
          -4.697942403232321,
          -4.1056360483385825,
          -4.647916898781416,
          -3.7452839218338045,
          -5.85588048877293,
          -5.308408708403035,
          -4.213585235734043,
          -2.8100063986871757,
          -5.376104654293226,
          -4.505198441324393,
          -6.251226200334751,
          -4.610861292182591,
          -4.647265677803896,
          -5.458966844619002,
          -3.2690880714842043,
          -4.572669893054735,
          -4.068521036939255,
          -4.92066152379944,
          -6.284885506772223,
          -4.709853624054756,
          -4.655484800867777,
          -5.023623060895887,
          -5.39938593433145,
          -4.419307603863327,
          -4.632435287576,
          -4.854495937108457,
          -3.6013983249056727,
          -4.724787729191364,
          -4.589958145160461,
          -4.832195918942881,
          -5.15930423968898,
          -4.374977064453239,
          -6.638855490313831,
          -5.107148078183782,
          -5.384425960726914,
          -5.1080111780817425,
          -3.1929190415223805,
          -4.141229170876272,
          -5.120902001916552,
          -6.5828247936453606,
          -5.025591714625474,
          -4.300543523677224,
          -4.882918494172661,
          -4.558825517000395,
          -3.7210860240976995,
          -4.861261709005236,
          -6.2074017537069786,
          -4.261713326590104,
          -5.254197528820612,
          -4.445162663180424,
          -4.73879563713019,
          -3.4819103114240115,
          -5.568403876151805,
          -3.966762949000298,
          -4.429754069212827,
          -6.782518192020408,
          -4.828100400763226,
          -4.301998236616227,
          -5.415055291823599,
          -3.638431458537724,
          -5.537020699764486,
          -4.905577700060823,
          -5.714487456018005,
          -3.93409002071959,
          -4.898750618811776,
          -3.572333573322221,
          -5.380336998437038,
          -5.866799443358439,
          -5.023504856215985,
          -3.6325303735574406,
          -5.124333243745331,
          -5.824639884726664,
          -0.6921831060804022,
          -4.730234007604722,
          -5.464090024194673,
          -4.950293695807533,
          -6.975160165022636,
          -3.9472406446392747,
          -4.931882593085244,
          -5.081044147884301,
          -5.668592870661297,
          -3.9946696943550353,
          -4.739285926100973,
          -5.139502420275415,
          -5.335353707234898,
          -4.675467232709287,
          -3.7275052055094435,
          -3.791237706901983,
          -4.6129969851284045,
          -4.731458063452951,
          -5.74344395096765,
          -4.956597365184158,
          -5.423525305305229,
          -5.12751206609588,
          -4.642881339047606,
          -4.633444142156062,
          -4.839406260859581,
          -5.481966809339409,
          -4.713037112294049,
          -2.5637476018808223,
          -4.771994012949556,
          -4.797675725758685,
          -5.86799564978755,
          -3.412158155816344,
          -5.985437399142995,
          -5.460162953277847,
          -5.434748516325533,
          -4.803830765072884,
          -4.901410431714535,
          -4.256549382344972,
          -4.668514751609313,
          -4.430381188830242,
          -5.683330912681511,
          -5.551042143810851,
          -5.470111431598369,
          -5.116723005661666,
          -5.148131611642774,
          -4.344405059159214,
          -4.869920031446792,
          -5.302161257176592,
          -2.9453753475068467,
          -5.0160040942140895,
          -4.214352215260624,
          -4.537183758991877,
          -4.368624487723762,
          -4.703417808120764
         ],
         "xaxis": "x",
         "yaxis": "y"
        },
        {
         "alignmentgroup": "True",
         "boxpoints": "all",
         "fillcolor": "rgba(255,255,255,0)",
         "hoveron": "points",
         "hovertemplate": "color=3<br>component1=%{x}<extra></extra>",
         "jitter": 0,
         "legendgroup": "3",
         "line": {
          "color": "rgba(255,255,255,0)"
         },
         "marker": {
          "color": "#00cc96",
          "symbol": "line-ns-open"
         },
         "name": "3",
         "offsetgroup": "3",
         "showlegend": false,
         "type": "box",
         "x": [
          -4.837443302350562,
          -4.373940931323621,
          -5.977271509267583,
          -4.579759858124041,
          -4.0955025964200455,
          -4.556278015544607,
          -2.804771991626935,
          -4.656293014503606,
          -5.478396912113831,
          -4.420647622801961,
          -6.118371692230082,
          -5.61929536071816,
          -6.558644284562357,
          -4.867277517020829,
          -5.780307846161016,
          -4.458251426393712,
          -5.900259472556174,
          -5.93562919723515,
          -4.642822488499347,
          -5.137382960762376,
          -4.820501136489374,
          -4.697942403232321,
          -4.1056360483385825,
          -4.647916898781416,
          -3.7452839218338045,
          -5.85588048877293,
          -5.308408708403035,
          -4.213585235734043,
          -2.8100063986871757,
          -5.376104654293226,
          -4.505198441324393,
          -6.251226200334751,
          -4.610861292182591,
          -4.647265677803896,
          -5.458966844619002,
          -3.2690880714842043,
          -4.572669893054735,
          -4.068521036939255,
          -4.92066152379944,
          -6.284885506772223,
          -4.709853624054756,
          -4.655484800867777,
          -5.023623060895887,
          -5.39938593433145,
          -4.419307603863327,
          -4.632435287576,
          -4.854495937108457,
          -3.6013983249056727,
          -4.724787729191364,
          -4.589958145160461,
          -4.832195918942881,
          -5.15930423968898,
          -4.374977064453239,
          -6.638855490313831,
          -5.107148078183782,
          -5.384425960726914,
          -5.1080111780817425,
          -3.1929190415223805,
          -4.141229170876272,
          -5.120902001916552,
          -6.5828247936453606,
          -5.025591714625474,
          -4.300543523677224,
          -4.882918494172661,
          -4.558825517000395,
          -3.7210860240976995,
          -4.861261709005236,
          -6.2074017537069786,
          -4.261713326590104,
          -5.254197528820612,
          -4.445162663180424,
          -4.73879563713019,
          -3.4819103114240115,
          -5.568403876151805,
          -3.966762949000298,
          -4.429754069212827,
          -6.782518192020408,
          -4.828100400763226,
          -4.301998236616227,
          -5.415055291823599,
          -3.638431458537724,
          -5.537020699764486,
          -4.905577700060823,
          -5.714487456018005,
          -3.93409002071959,
          -4.898750618811776,
          -3.572333573322221,
          -5.380336998437038,
          -5.866799443358439,
          -5.023504856215985,
          -3.6325303735574406,
          -5.124333243745331,
          -5.824639884726664,
          -0.6921831060804022,
          -4.730234007604722,
          -5.464090024194673,
          -4.950293695807533,
          -6.975160165022636,
          -3.9472406446392747,
          -4.931882593085244,
          -5.081044147884301,
          -5.668592870661297,
          -3.9946696943550353,
          -4.739285926100973,
          -5.139502420275415,
          -5.335353707234898,
          -4.675467232709287,
          -3.7275052055094435,
          -3.791237706901983,
          -4.6129969851284045,
          -4.731458063452951,
          -5.74344395096765,
          -4.956597365184158,
          -5.423525305305229,
          -5.12751206609588,
          -4.642881339047606,
          -4.633444142156062,
          -4.839406260859581,
          -5.481966809339409,
          -4.713037112294049,
          -2.5637476018808223,
          -4.771994012949556,
          -4.797675725758685,
          -5.86799564978755,
          -3.412158155816344,
          -5.985437399142995,
          -5.460162953277847,
          -5.434748516325533,
          -4.803830765072884,
          -4.901410431714535,
          -4.256549382344972,
          -4.668514751609313,
          -4.430381188830242,
          -5.683330912681511,
          -5.551042143810851,
          -5.470111431598369,
          -5.116723005661666,
          -5.148131611642774,
          -4.344405059159214,
          -4.869920031446792,
          -5.302161257176592,
          -2.9453753475068467,
          -5.0160040942140895,
          -4.214352215260624,
          -4.537183758991877,
          -4.368624487723762,
          -4.703417808120764
         ],
         "xaxis": "x2",
         "yaxis": "y2"
        }
       ],
       "layout": {
        "barmode": "relative",
        "legend": {
         "title": {
          "text": "color"
         },
         "tracegroupgap": 0
        },
        "margin": {
         "t": 60
        },
        "template": {
         "data": {
          "bar": [
           {
            "error_x": {
             "color": "#2a3f5f"
            },
            "error_y": {
             "color": "#2a3f5f"
            },
            "marker": {
             "line": {
              "color": "#E5ECF6",
              "width": 0.5
             },
             "pattern": {
              "fillmode": "overlay",
              "size": 10,
              "solidity": 0.2
             }
            },
            "type": "bar"
           }
          ],
          "barpolar": [
           {
            "marker": {
             "line": {
              "color": "#E5ECF6",
              "width": 0.5
             },
             "pattern": {
              "fillmode": "overlay",
              "size": 10,
              "solidity": 0.2
             }
            },
            "type": "barpolar"
           }
          ],
          "carpet": [
           {
            "aaxis": {
             "endlinecolor": "#2a3f5f",
             "gridcolor": "white",
             "linecolor": "white",
             "minorgridcolor": "white",
             "startlinecolor": "#2a3f5f"
            },
            "baxis": {
             "endlinecolor": "#2a3f5f",
             "gridcolor": "white",
             "linecolor": "white",
             "minorgridcolor": "white",
             "startlinecolor": "#2a3f5f"
            },
            "type": "carpet"
           }
          ],
          "choropleth": [
           {
            "colorbar": {
             "outlinewidth": 0,
             "ticks": ""
            },
            "type": "choropleth"
           }
          ],
          "contour": [
           {
            "colorbar": {
             "outlinewidth": 0,
             "ticks": ""
            },
            "colorscale": [
             [
              0,
              "#0d0887"
             ],
             [
              0.1111111111111111,
              "#46039f"
             ],
             [
              0.2222222222222222,
              "#7201a8"
             ],
             [
              0.3333333333333333,
              "#9c179e"
             ],
             [
              0.4444444444444444,
              "#bd3786"
             ],
             [
              0.5555555555555556,
              "#d8576b"
             ],
             [
              0.6666666666666666,
              "#ed7953"
             ],
             [
              0.7777777777777778,
              "#fb9f3a"
             ],
             [
              0.8888888888888888,
              "#fdca26"
             ],
             [
              1,
              "#f0f921"
             ]
            ],
            "type": "contour"
           }
          ],
          "contourcarpet": [
           {
            "colorbar": {
             "outlinewidth": 0,
             "ticks": ""
            },
            "type": "contourcarpet"
           }
          ],
          "heatmap": [
           {
            "colorbar": {
             "outlinewidth": 0,
             "ticks": ""
            },
            "colorscale": [
             [
              0,
              "#0d0887"
             ],
             [
              0.1111111111111111,
              "#46039f"
             ],
             [
              0.2222222222222222,
              "#7201a8"
             ],
             [
              0.3333333333333333,
              "#9c179e"
             ],
             [
              0.4444444444444444,
              "#bd3786"
             ],
             [
              0.5555555555555556,
              "#d8576b"
             ],
             [
              0.6666666666666666,
              "#ed7953"
             ],
             [
              0.7777777777777778,
              "#fb9f3a"
             ],
             [
              0.8888888888888888,
              "#fdca26"
             ],
             [
              1,
              "#f0f921"
             ]
            ],
            "type": "heatmap"
           }
          ],
          "heatmapgl": [
           {
            "colorbar": {
             "outlinewidth": 0,
             "ticks": ""
            },
            "colorscale": [
             [
              0,
              "#0d0887"
             ],
             [
              0.1111111111111111,
              "#46039f"
             ],
             [
              0.2222222222222222,
              "#7201a8"
             ],
             [
              0.3333333333333333,
              "#9c179e"
             ],
             [
              0.4444444444444444,
              "#bd3786"
             ],
             [
              0.5555555555555556,
              "#d8576b"
             ],
             [
              0.6666666666666666,
              "#ed7953"
             ],
             [
              0.7777777777777778,
              "#fb9f3a"
             ],
             [
              0.8888888888888888,
              "#fdca26"
             ],
             [
              1,
              "#f0f921"
             ]
            ],
            "type": "heatmapgl"
           }
          ],
          "histogram": [
           {
            "marker": {
             "pattern": {
              "fillmode": "overlay",
              "size": 10,
              "solidity": 0.2
             }
            },
            "type": "histogram"
           }
          ],
          "histogram2d": [
           {
            "colorbar": {
             "outlinewidth": 0,
             "ticks": ""
            },
            "colorscale": [
             [
              0,
              "#0d0887"
             ],
             [
              0.1111111111111111,
              "#46039f"
             ],
             [
              0.2222222222222222,
              "#7201a8"
             ],
             [
              0.3333333333333333,
              "#9c179e"
             ],
             [
              0.4444444444444444,
              "#bd3786"
             ],
             [
              0.5555555555555556,
              "#d8576b"
             ],
             [
              0.6666666666666666,
              "#ed7953"
             ],
             [
              0.7777777777777778,
              "#fb9f3a"
             ],
             [
              0.8888888888888888,
              "#fdca26"
             ],
             [
              1,
              "#f0f921"
             ]
            ],
            "type": "histogram2d"
           }
          ],
          "histogram2dcontour": [
           {
            "colorbar": {
             "outlinewidth": 0,
             "ticks": ""
            },
            "colorscale": [
             [
              0,
              "#0d0887"
             ],
             [
              0.1111111111111111,
              "#46039f"
             ],
             [
              0.2222222222222222,
              "#7201a8"
             ],
             [
              0.3333333333333333,
              "#9c179e"
             ],
             [
              0.4444444444444444,
              "#bd3786"
             ],
             [
              0.5555555555555556,
              "#d8576b"
             ],
             [
              0.6666666666666666,
              "#ed7953"
             ],
             [
              0.7777777777777778,
              "#fb9f3a"
             ],
             [
              0.8888888888888888,
              "#fdca26"
             ],
             [
              1,
              "#f0f921"
             ]
            ],
            "type": "histogram2dcontour"
           }
          ],
          "mesh3d": [
           {
            "colorbar": {
             "outlinewidth": 0,
             "ticks": ""
            },
            "type": "mesh3d"
           }
          ],
          "parcoords": [
           {
            "line": {
             "colorbar": {
              "outlinewidth": 0,
              "ticks": ""
             }
            },
            "type": "parcoords"
           }
          ],
          "pie": [
           {
            "automargin": true,
            "type": "pie"
           }
          ],
          "scatter": [
           {
            "fillpattern": {
             "fillmode": "overlay",
             "size": 10,
             "solidity": 0.2
            },
            "type": "scatter"
           }
          ],
          "scatter3d": [
           {
            "line": {
             "colorbar": {
              "outlinewidth": 0,
              "ticks": ""
             }
            },
            "marker": {
             "colorbar": {
              "outlinewidth": 0,
              "ticks": ""
             }
            },
            "type": "scatter3d"
           }
          ],
          "scattercarpet": [
           {
            "marker": {
             "colorbar": {
              "outlinewidth": 0,
              "ticks": ""
             }
            },
            "type": "scattercarpet"
           }
          ],
          "scattergeo": [
           {
            "marker": {
             "colorbar": {
              "outlinewidth": 0,
              "ticks": ""
             }
            },
            "type": "scattergeo"
           }
          ],
          "scattergl": [
           {
            "marker": {
             "colorbar": {
              "outlinewidth": 0,
              "ticks": ""
             }
            },
            "type": "scattergl"
           }
          ],
          "scattermapbox": [
           {
            "marker": {
             "colorbar": {
              "outlinewidth": 0,
              "ticks": ""
             }
            },
            "type": "scattermapbox"
           }
          ],
          "scatterpolar": [
           {
            "marker": {
             "colorbar": {
              "outlinewidth": 0,
              "ticks": ""
             }
            },
            "type": "scatterpolar"
           }
          ],
          "scatterpolargl": [
           {
            "marker": {
             "colorbar": {
              "outlinewidth": 0,
              "ticks": ""
             }
            },
            "type": "scatterpolargl"
           }
          ],
          "scatterternary": [
           {
            "marker": {
             "colorbar": {
              "outlinewidth": 0,
              "ticks": ""
             }
            },
            "type": "scatterternary"
           }
          ],
          "surface": [
           {
            "colorbar": {
             "outlinewidth": 0,
             "ticks": ""
            },
            "colorscale": [
             [
              0,
              "#0d0887"
             ],
             [
              0.1111111111111111,
              "#46039f"
             ],
             [
              0.2222222222222222,
              "#7201a8"
             ],
             [
              0.3333333333333333,
              "#9c179e"
             ],
             [
              0.4444444444444444,
              "#bd3786"
             ],
             [
              0.5555555555555556,
              "#d8576b"
             ],
             [
              0.6666666666666666,
              "#ed7953"
             ],
             [
              0.7777777777777778,
              "#fb9f3a"
             ],
             [
              0.8888888888888888,
              "#fdca26"
             ],
             [
              1,
              "#f0f921"
             ]
            ],
            "type": "surface"
           }
          ],
          "table": [
           {
            "cells": {
             "fill": {
              "color": "#EBF0F8"
             },
             "line": {
              "color": "white"
             }
            },
            "header": {
             "fill": {
              "color": "#C8D4E3"
             },
             "line": {
              "color": "white"
             }
            },
            "type": "table"
           }
          ]
         },
         "layout": {
          "annotationdefaults": {
           "arrowcolor": "#2a3f5f",
           "arrowhead": 0,
           "arrowwidth": 1
          },
          "autotypenumbers": "strict",
          "coloraxis": {
           "colorbar": {
            "outlinewidth": 0,
            "ticks": ""
           }
          },
          "colorscale": {
           "diverging": [
            [
             0,
             "#8e0152"
            ],
            [
             0.1,
             "#c51b7d"
            ],
            [
             0.2,
             "#de77ae"
            ],
            [
             0.3,
             "#f1b6da"
            ],
            [
             0.4,
             "#fde0ef"
            ],
            [
             0.5,
             "#f7f7f7"
            ],
            [
             0.6,
             "#e6f5d0"
            ],
            [
             0.7,
             "#b8e186"
            ],
            [
             0.8,
             "#7fbc41"
            ],
            [
             0.9,
             "#4d9221"
            ],
            [
             1,
             "#276419"
            ]
           ],
           "sequential": [
            [
             0,
             "#0d0887"
            ],
            [
             0.1111111111111111,
             "#46039f"
            ],
            [
             0.2222222222222222,
             "#7201a8"
            ],
            [
             0.3333333333333333,
             "#9c179e"
            ],
            [
             0.4444444444444444,
             "#bd3786"
            ],
            [
             0.5555555555555556,
             "#d8576b"
            ],
            [
             0.6666666666666666,
             "#ed7953"
            ],
            [
             0.7777777777777778,
             "#fb9f3a"
            ],
            [
             0.8888888888888888,
             "#fdca26"
            ],
            [
             1,
             "#f0f921"
            ]
           ],
           "sequentialminus": [
            [
             0,
             "#0d0887"
            ],
            [
             0.1111111111111111,
             "#46039f"
            ],
            [
             0.2222222222222222,
             "#7201a8"
            ],
            [
             0.3333333333333333,
             "#9c179e"
            ],
            [
             0.4444444444444444,
             "#bd3786"
            ],
            [
             0.5555555555555556,
             "#d8576b"
            ],
            [
             0.6666666666666666,
             "#ed7953"
            ],
            [
             0.7777777777777778,
             "#fb9f3a"
            ],
            [
             0.8888888888888888,
             "#fdca26"
            ],
            [
             1,
             "#f0f921"
            ]
           ]
          },
          "colorway": [
           "#636efa",
           "#EF553B",
           "#00cc96",
           "#ab63fa",
           "#FFA15A",
           "#19d3f3",
           "#FF6692",
           "#B6E880",
           "#FF97FF",
           "#FECB52"
          ],
          "font": {
           "color": "#2a3f5f"
          },
          "geo": {
           "bgcolor": "white",
           "lakecolor": "white",
           "landcolor": "#E5ECF6",
           "showlakes": true,
           "showland": true,
           "subunitcolor": "white"
          },
          "hoverlabel": {
           "align": "left"
          },
          "hovermode": "closest",
          "mapbox": {
           "style": "light"
          },
          "paper_bgcolor": "white",
          "plot_bgcolor": "#E5ECF6",
          "polar": {
           "angularaxis": {
            "gridcolor": "white",
            "linecolor": "white",
            "ticks": ""
           },
           "bgcolor": "#E5ECF6",
           "radialaxis": {
            "gridcolor": "white",
            "linecolor": "white",
            "ticks": ""
           }
          },
          "scene": {
           "xaxis": {
            "backgroundcolor": "#E5ECF6",
            "gridcolor": "white",
            "gridwidth": 2,
            "linecolor": "white",
            "showbackground": true,
            "ticks": "",
            "zerolinecolor": "white"
           },
           "yaxis": {
            "backgroundcolor": "#E5ECF6",
            "gridcolor": "white",
            "gridwidth": 2,
            "linecolor": "white",
            "showbackground": true,
            "ticks": "",
            "zerolinecolor": "white"
           },
           "zaxis": {
            "backgroundcolor": "#E5ECF6",
            "gridcolor": "white",
            "gridwidth": 2,
            "linecolor": "white",
            "showbackground": true,
            "ticks": "",
            "zerolinecolor": "white"
           }
          },
          "shapedefaults": {
           "line": {
            "color": "#2a3f5f"
           }
          },
          "ternary": {
           "aaxis": {
            "gridcolor": "white",
            "linecolor": "white",
            "ticks": ""
           },
           "baxis": {
            "gridcolor": "white",
            "linecolor": "white",
            "ticks": ""
           },
           "bgcolor": "#E5ECF6",
           "caxis": {
            "gridcolor": "white",
            "linecolor": "white",
            "ticks": ""
           }
          },
          "title": {
           "x": 0.05
          },
          "xaxis": {
           "automargin": true,
           "gridcolor": "white",
           "linecolor": "white",
           "ticks": "",
           "title": {
            "standoff": 15
           },
           "zerolinecolor": "white",
           "zerolinewidth": 2
          },
          "yaxis": {
           "automargin": true,
           "gridcolor": "white",
           "linecolor": "white",
           "ticks": "",
           "title": {
            "standoff": 15
           },
           "zerolinecolor": "white",
           "zerolinewidth": 2
          }
         }
        },
        "xaxis": {
         "anchor": "y",
         "domain": [
          0,
          1
         ],
         "title": {
          "text": "component1"
         }
        },
        "xaxis2": {
         "anchor": "y2",
         "domain": [
          0,
          1
         ],
         "matches": "x",
         "showgrid": true,
         "showticklabels": false
        },
        "yaxis": {
         "anchor": "x",
         "domain": [
          0,
          0.7326
         ],
         "title": {
          "text": "count"
         }
        },
        "yaxis2": {
         "anchor": "x2",
         "domain": [
          0.7426,
          1
         ],
         "matches": "y2",
         "showgrid": false,
         "showline": false,
         "showticklabels": false,
         "ticks": ""
        }
       }
      }
     },
     "metadata": {},
     "output_type": "display_data"
    }
   ],
   "source": [
    "fig = px.histogram(iqms_pca, x=\"component1\", color=scores[\"condition\"], marginal=\"rug\")\n",
    "fig.show()"
   ]
  },
  {
   "cell_type": "code",
   "execution_count": 50,
   "metadata": {},
   "outputs": [
    {
     "data": {
      "application/vnd.plotly.v1+json": {
       "config": {
        "plotlyServerURL": "https://plot.ly"
       },
       "data": [
        {
         "alignmentgroup": "True",
         "bingroup": "x",
         "hovertemplate": "color=1<br>component1=%{x}<br>count=%{y}<extra></extra>",
         "legendgroup": "1",
         "marker": {
          "color": "#636efa",
          "pattern": {
           "shape": ""
          }
         },
         "name": "1",
         "offsetgroup": "1",
         "orientation": "v",
         "showlegend": true,
         "type": "histogram",
         "x": [
          -3.2449064043505373,
          3.518954249159686,
          2.4239826882020727,
          -0.7260045745887582,
          -1.102027452709111,
          -3.66422203347626,
          -3.2798530767563614,
          -4.7999926566563005,
          3.4935203893489213,
          2.269846235993561,
          -0.5569972074605067,
          -2.095480812334927,
          -3.1725607061341687,
          12.471782886881245,
          2.182312977499437,
          -4.721809981561186,
          -1.3208163688876688,
          1.516853056565911,
          -2.361742128718311,
          -3.0080179230811086,
          -1.5174278366701233,
          -1.4257308562038982,
          2.5161764528707957,
          9.591911836362382,
          6.8897006734747706,
          8.532221078205929,
          -5.665233911892813,
          -4.303020719044169,
          -2.677572324502625,
          10.782933384277852,
          -3.1794490524515164,
          6.9103143052006635,
          4.9131593921154115,
          -1.8011940254341545,
          3.6900605123179857,
          -1.7463347661474766,
          -3.2651018113439267,
          2.846272583433232,
          -2.941209182458151,
          -4.216150465674412,
          -6.284885506772223,
          -1.1421235283076692,
          -4.709853624054756,
          -1.2034753699932486,
          -1.333082151209296,
          -1.125481978283586,
          -2.4284366347983286,
          2.086727662196321,
          2.559076360829053,
          -1.6886374819179244,
          6.450057935641493,
          1.1610968625742422,
          -1.8572291161263346,
          -2.380016896554278,
          3.410125748000005,
          7.690539021686589,
          -2.4515622172444917,
          -1.598202885642945,
          6.149681013529698,
          -3.666894878179841,
          9.5712428678219,
          1.920093286018891,
          -4.242881451004095,
          0.622711940010106,
          10.983804943946206,
          3.010179625091959,
          -3.5714466565540626,
          -0.4483650802974824,
          -2.078090757121294,
          -2.434567295607312,
          0.58692462090207,
          -4.521117599246566,
          -2.9546283661976918,
          -5.415055291823599,
          0.39861761101678983,
          -0.03890190344427693,
          0.32592847401180114,
          1.34358765514207,
          -3.8668108807104633,
          1.672442714811734,
          -0.13515071043700272,
          -1.0829619124357317,
          8.453753534487628,
          -2.9851177002884985,
          5.6688975070153615,
          1.269702051455638,
          -0.48093881209233663,
          -2.6047025789533516,
          -0.021355269564143325,
          -3.0618511038023857,
          0.17540616613970966,
          1.933802815873088,
          0.6061205392871062,
          -2.5970635764529635,
          6.092137993637487,
          -2.528983606098061,
          -0.23249183964074013,
          6.966391987720676,
          1.6789366826631296,
          -2.428893832879494,
          -0.9895712728142225,
          2.1660908106227286,
          -2.0957261864002743,
          -0.9193231494316514,
          4.083420067491812,
          3.138339287063509,
          -2.9165203622679163,
          -5.63536602847306,
          -4.2469633817901045,
          2.4864541771951716,
          4.326234430272531,
          -0.1992213955092785,
          -0.5806223630041659,
          -3.7714392669327643,
          -1.5914130316184063,
          1.2971467781417139,
          2.4468580250552705,
          1.1868775073646087,
          -0.8189746541733833,
          -2.22199430350348,
          -0.9758806255160103,
          9.107422348245757,
          5.545995232343503,
          4.023187146562172,
          -2.253056337949153,
          1.4088190409615522,
          -2.054941867530057,
          -3.832604464530869,
          0.7002155249125473
         ],
         "xaxis": "x",
         "yaxis": "y"
        },
        {
         "alignmentgroup": "True",
         "boxpoints": "all",
         "fillcolor": "rgba(255,255,255,0)",
         "hoveron": "points",
         "hovertemplate": "color=1<br>component1=%{x}<extra></extra>",
         "jitter": 0,
         "legendgroup": "1",
         "line": {
          "color": "rgba(255,255,255,0)"
         },
         "marker": {
          "color": "#636efa",
          "symbol": "line-ns-open"
         },
         "name": "1",
         "offsetgroup": "1",
         "showlegend": false,
         "type": "box",
         "x": [
          -3.2449064043505373,
          3.518954249159686,
          2.4239826882020727,
          -0.7260045745887582,
          -1.102027452709111,
          -3.66422203347626,
          -3.2798530767563614,
          -4.7999926566563005,
          3.4935203893489213,
          2.269846235993561,
          -0.5569972074605067,
          -2.095480812334927,
          -3.1725607061341687,
          12.471782886881245,
          2.182312977499437,
          -4.721809981561186,
          -1.3208163688876688,
          1.516853056565911,
          -2.361742128718311,
          -3.0080179230811086,
          -1.5174278366701233,
          -1.4257308562038982,
          2.5161764528707957,
          9.591911836362382,
          6.8897006734747706,
          8.532221078205929,
          -5.665233911892813,
          -4.303020719044169,
          -2.677572324502625,
          10.782933384277852,
          -3.1794490524515164,
          6.9103143052006635,
          4.9131593921154115,
          -1.8011940254341545,
          3.6900605123179857,
          -1.7463347661474766,
          -3.2651018113439267,
          2.846272583433232,
          -2.941209182458151,
          -4.216150465674412,
          -6.284885506772223,
          -1.1421235283076692,
          -4.709853624054756,
          -1.2034753699932486,
          -1.333082151209296,
          -1.125481978283586,
          -2.4284366347983286,
          2.086727662196321,
          2.559076360829053,
          -1.6886374819179244,
          6.450057935641493,
          1.1610968625742422,
          -1.8572291161263346,
          -2.380016896554278,
          3.410125748000005,
          7.690539021686589,
          -2.4515622172444917,
          -1.598202885642945,
          6.149681013529698,
          -3.666894878179841,
          9.5712428678219,
          1.920093286018891,
          -4.242881451004095,
          0.622711940010106,
          10.983804943946206,
          3.010179625091959,
          -3.5714466565540626,
          -0.4483650802974824,
          -2.078090757121294,
          -2.434567295607312,
          0.58692462090207,
          -4.521117599246566,
          -2.9546283661976918,
          -5.415055291823599,
          0.39861761101678983,
          -0.03890190344427693,
          0.32592847401180114,
          1.34358765514207,
          -3.8668108807104633,
          1.672442714811734,
          -0.13515071043700272,
          -1.0829619124357317,
          8.453753534487628,
          -2.9851177002884985,
          5.6688975070153615,
          1.269702051455638,
          -0.48093881209233663,
          -2.6047025789533516,
          -0.021355269564143325,
          -3.0618511038023857,
          0.17540616613970966,
          1.933802815873088,
          0.6061205392871062,
          -2.5970635764529635,
          6.092137993637487,
          -2.528983606098061,
          -0.23249183964074013,
          6.966391987720676,
          1.6789366826631296,
          -2.428893832879494,
          -0.9895712728142225,
          2.1660908106227286,
          -2.0957261864002743,
          -0.9193231494316514,
          4.083420067491812,
          3.138339287063509,
          -2.9165203622679163,
          -5.63536602847306,
          -4.2469633817901045,
          2.4864541771951716,
          4.326234430272531,
          -0.1992213955092785,
          -0.5806223630041659,
          -3.7714392669327643,
          -1.5914130316184063,
          1.2971467781417139,
          2.4468580250552705,
          1.1868775073646087,
          -0.8189746541733833,
          -2.22199430350348,
          -0.9758806255160103,
          9.107422348245757,
          5.545995232343503,
          4.023187146562172,
          -2.253056337949153,
          1.4088190409615522,
          -2.054941867530057,
          -3.832604464530869,
          0.7002155249125473
         ],
         "xaxis": "x2",
         "yaxis": "y2"
        },
        {
         "alignmentgroup": "True",
         "bingroup": "x",
         "hovertemplate": "color=2<br>component1=%{x}<br>count=%{y}<extra></extra>",
         "legendgroup": "2",
         "marker": {
          "color": "#EF553B",
          "pattern": {
           "shape": ""
          }
         },
         "name": "2",
         "offsetgroup": "2",
         "orientation": "v",
         "showlegend": true,
         "type": "histogram",
         "x": [
          2.241555100162124,
          -0.023159183664176422,
          0.1073659481158781,
          -4.556278015544607,
          1.5369256959219315,
          11.228269856976242,
          -0.9879903422973229,
          12.589698023261976,
          -6.118371692230082,
          4.816183549410457,
          5.439446410895422,
          -4.867277517020829,
          -1.0524523623695066,
          -5.780307846161016,
          4.362632895793579,
          6.625958834879936,
          -4.697942403232321,
          -5.85588048877293,
          3.872911012207142,
          -0.36332184981310717,
          13.054362834721115,
          6.608344776352033,
          -2.3534305669399056,
          -3.2690880714842043,
          -2.0983395771090723,
          1.4484953996367798,
          -2.736895099685318,
          -1.2204097586984266,
          -1.8979145123891719,
          8.560989506255988,
          1.531982921894277,
          11.105633036360164,
          10.96617940734001,
          3.9521220113309736,
          -2.3869841215199172,
          3.7484701194826324,
          -3.3389054335286876,
          -1.1415247977383127,
          -5.384425960726914,
          -0.6960722176744897,
          -5.1080111780817425,
          3.661627783628095,
          3.4612034916785244,
          -0.05337410251803061,
          -2.6536681894334797,
          1.3704760215163327,
          -4.861261709005236,
          -1.379420057714475,
          6.848345313026113,
          -1.16188901692381,
          11.152327489068545,
          -3.4819103114240115,
          2.2314849878189573,
          7.547180438478277,
          9.242416294123078,
          -0.5518703174121115,
          9.831279846548536,
          5.238842181977452,
          2.3058631975062562,
          7.138537480317741,
          3.595642093293516,
          3.3951826271502235,
          3.367463346225485,
          -2.8466604686492722,
          -5.380336998437038,
          -3.277244074284263,
          -0.4657019665147855,
          -5.866799443358439,
          10.934265934469982,
          0.8469188730971933,
          4.241022607648847,
          -0.6770640529524349,
          0.7787001759470847,
          1.5147556818230576,
          -2.8571443840078126,
          -3.0586394344807224,
          5.656256401322801,
          5.508976415369358,
          -1.3223943491411412,
          4.431463972544366,
          -3.7275052055094435,
          1.062774830144392,
          3.3082698724873,
          10.381104598865793,
          -2.017533894967464,
          4.307013674028452,
          1.8256737921842419,
          7.752235346170755,
          -2.0540826752791883,
          -4.797675725758685,
          -5.86799564978755,
          -0.43120030297948597,
          -5.985437399142995,
          4.037426408667849,
          -4.901410431714535,
          0.795730983203566,
          -3.520934083142549,
          -3.1494731017391255,
          -5.470111431598369,
          3.8524884162471533,
          4.980046981236782,
          -2.571118097201445,
          -1.0048276418340085,
          -2.9453753475068467,
          11.145241395859644,
          -1.0581156766200277,
          -4.537183758991877,
          0.09203009236984663,
          -4.368624487723762
         ],
         "xaxis": "x",
         "yaxis": "y"
        },
        {
         "alignmentgroup": "True",
         "boxpoints": "all",
         "fillcolor": "rgba(255,255,255,0)",
         "hoveron": "points",
         "hovertemplate": "color=2<br>component1=%{x}<extra></extra>",
         "jitter": 0,
         "legendgroup": "2",
         "line": {
          "color": "rgba(255,255,255,0)"
         },
         "marker": {
          "color": "#EF553B",
          "symbol": "line-ns-open"
         },
         "name": "2",
         "offsetgroup": "2",
         "showlegend": false,
         "type": "box",
         "x": [
          2.241555100162124,
          -0.023159183664176422,
          0.1073659481158781,
          -4.556278015544607,
          1.5369256959219315,
          11.228269856976242,
          -0.9879903422973229,
          12.589698023261976,
          -6.118371692230082,
          4.816183549410457,
          5.439446410895422,
          -4.867277517020829,
          -1.0524523623695066,
          -5.780307846161016,
          4.362632895793579,
          6.625958834879936,
          -4.697942403232321,
          -5.85588048877293,
          3.872911012207142,
          -0.36332184981310717,
          13.054362834721115,
          6.608344776352033,
          -2.3534305669399056,
          -3.2690880714842043,
          -2.0983395771090723,
          1.4484953996367798,
          -2.736895099685318,
          -1.2204097586984266,
          -1.8979145123891719,
          8.560989506255988,
          1.531982921894277,
          11.105633036360164,
          10.96617940734001,
          3.9521220113309736,
          -2.3869841215199172,
          3.7484701194826324,
          -3.3389054335286876,
          -1.1415247977383127,
          -5.384425960726914,
          -0.6960722176744897,
          -5.1080111780817425,
          3.661627783628095,
          3.4612034916785244,
          -0.05337410251803061,
          -2.6536681894334797,
          1.3704760215163327,
          -4.861261709005236,
          -1.379420057714475,
          6.848345313026113,
          -1.16188901692381,
          11.152327489068545,
          -3.4819103114240115,
          2.2314849878189573,
          7.547180438478277,
          9.242416294123078,
          -0.5518703174121115,
          9.831279846548536,
          5.238842181977452,
          2.3058631975062562,
          7.138537480317741,
          3.595642093293516,
          3.3951826271502235,
          3.367463346225485,
          -2.8466604686492722,
          -5.380336998437038,
          -3.277244074284263,
          -0.4657019665147855,
          -5.866799443358439,
          10.934265934469982,
          0.8469188730971933,
          4.241022607648847,
          -0.6770640529524349,
          0.7787001759470847,
          1.5147556818230576,
          -2.8571443840078126,
          -3.0586394344807224,
          5.656256401322801,
          5.508976415369358,
          -1.3223943491411412,
          4.431463972544366,
          -3.7275052055094435,
          1.062774830144392,
          3.3082698724873,
          10.381104598865793,
          -2.017533894967464,
          4.307013674028452,
          1.8256737921842419,
          7.752235346170755,
          -2.0540826752791883,
          -4.797675725758685,
          -5.86799564978755,
          -0.43120030297948597,
          -5.985437399142995,
          4.037426408667849,
          -4.901410431714535,
          0.795730983203566,
          -3.520934083142549,
          -3.1494731017391255,
          -5.470111431598369,
          3.8524884162471533,
          4.980046981236782,
          -2.571118097201445,
          -1.0048276418340085,
          -2.9453753475068467,
          11.145241395859644,
          -1.0581156766200277,
          -4.537183758991877,
          0.09203009236984663,
          -4.368624487723762
         ],
         "xaxis": "x2",
         "yaxis": "y2"
        },
        {
         "alignmentgroup": "True",
         "bingroup": "x",
         "hovertemplate": "color=3<br>component1=%{x}<br>count=%{y}<extra></extra>",
         "legendgroup": "3",
         "marker": {
          "color": "#00cc96",
          "pattern": {
           "shape": ""
          }
         },
         "name": "3",
         "offsetgroup": "3",
         "orientation": "v",
         "showlegend": true,
         "type": "histogram",
         "x": [
          -4.837443302350562,
          1.1197099844996157,
          -4.373940931323621,
          5.168354009563898,
          -5.977271509267583,
          1.3715482575929614,
          -4.579759858124041,
          -4.0955025964200455,
          -2.804771991626935,
          -4.656293014503606,
          -5.478396912113831,
          7.160576640644055,
          -4.420647622801961,
          2.958446400171838,
          1.6267645304212377,
          -5.61929536071816,
          9.912277402527247,
          -6.558644284562357,
          -4.458251426393712,
          3.648627801275447,
          -5.900259472556174,
          -5.93562919723515,
          6.264683783441018,
          -4.642822488499347,
          -5.137382960762376,
          -0.14592620493967012,
          -4.820501136489374,
          -4.1056360483385825,
          -4.930694996454965,
          11.127191731346725,
          -4.647916898781416,
          12.171747416822534,
          -3.7452839218338045,
          -0.2443539001773187,
          -5.308408708403035,
          4.214185416833668,
          -4.213585235734043,
          10.986638898352435,
          -2.8100063986871757,
          -5.376104654293226,
          9.274957901098016,
          -4.505198441324393,
          -6.251226200334751,
          9.951871794324065,
          -4.610861292182591,
          -4.647265677803896,
          10.419185167125866,
          -5.458966844619002,
          -4.572669893054735,
          8.823179823986008,
          -4.068521036939255,
          -4.92066152379944,
          3.8774331066049617,
          -4.655484800867777,
          0.27620040086694786,
          -5.023623060895887,
          2.1422494136242247,
          -5.39938593433145,
          5.829900984467851,
          -4.419307603863327,
          7.925625460503616,
          -4.632435287576,
          -4.854495937108457,
          -3.6013983249056727,
          -4.724787729191364,
          9.279022095698924,
          -4.589958145160461,
          -4.832195918942881,
          -5.15930423968898,
          10.47873916650208,
          -4.374977064453239,
          0.18026699460066717,
          -6.638855490313831,
          -0.35973163360080584,
          -5.107148078183782,
          5.895206024149332,
          -3.1929190415223805,
          4.807658070474405,
          -4.141229170876272,
          8.933774775103643,
          -5.120902001916552,
          -1.6503033923579578,
          -6.5828247936453606,
          -5.025591714625474,
          16.22472004979641,
          -4.300543523677224,
          -4.882918494172661,
          -4.558825517000395,
          9.194590814887263,
          -3.7210860240976995,
          -6.2074017537069786,
          -4.261713326590104,
          -0.9592006672302891,
          -5.254197528820612,
          9.97973599450362,
          -4.445162663180424,
          -4.73879563713019,
          -5.568403876151805,
          2.3219504026547684,
          -3.966762949000298,
          -4.429754069212827,
          8.748783005367446,
          -6.782518192020408,
          -4.828100400763226,
          1.5587237925653619,
          -4.301998236616227,
          5.659061402235193,
          -3.638431458537724,
          -5.537020699764486,
          -4.905577700060823,
          8.402982803131371,
          -5.714487456018005,
          9.503296398470793,
          -3.93409002071959,
          4.681800805989152,
          -4.898750618811776,
          -3.572333573322221,
          -5.023504856215985,
          -3.6325303735574406,
          -5.124333243745331,
          8.095154771713128,
          -5.824639884726664,
          12.915038348604984,
          -0.6921831060804022,
          4.974016809199111,
          -4.730234007604722,
          9.854385057720124,
          -5.464090024194673,
          -4.950293695807533,
          -6.975160165022636,
          14.735018544498669,
          -3.9472406446392747,
          4.191688957604445,
          -4.931882593085244,
          -5.081044147884301,
          2.8891507746617258,
          -5.668592870661297,
          -3.9946696943550353,
          -4.739285926100973,
          2.8679701904545127,
          -5.139502420275415,
          5.439016792320082,
          -5.335353707234898,
          -4.675467232709287,
          11.37470761305705,
          -3.791237706901983,
          -4.6129969851284045,
          3.22224043761511,
          -4.731458063452951,
          4.026147978057232,
          -5.74344395096765,
          -4.956597365184158,
          1.8118625770287409,
          -5.423525305305229,
          -5.12751206609588,
          7.901192277035863,
          -4.642881339047606,
          2.3922283914551894,
          -4.633444142156062,
          -4.839406260859581,
          5.220036648010958,
          -5.481966809339409,
          3.082210640157895,
          -4.713037112294049,
          -2.5637476018808223,
          11.87748426552485,
          -4.771994012949556,
          7.797255631903864,
          -3.412158155816344,
          1.6406794840407848,
          6.521146931723164,
          -5.460162953277847,
          1.9931284520057782,
          -5.434748516325533,
          5.963657998452373,
          -4.803830765072884,
          -4.256549382344972,
          7.387501884742086,
          -4.668514751609313,
          3.6380972219324197,
          -4.430381188830242,
          5.234447091648038,
          -5.683330912681511,
          3.0794152421078476,
          -5.551042143810851,
          -5.116723005661666,
          -5.148131611642774,
          8.112795972713663,
          -4.344405059159214,
          2.490315588356116,
          -4.869920031446792,
          9.184342200687155,
          -5.302161257176592,
          0.8294466232041003,
          -5.0160040942140895,
          -4.214352215260624,
          4.734529702997316,
          -4.703417808120764
         ],
         "xaxis": "x",
         "yaxis": "y"
        },
        {
         "alignmentgroup": "True",
         "boxpoints": "all",
         "fillcolor": "rgba(255,255,255,0)",
         "hoveron": "points",
         "hovertemplate": "color=3<br>component1=%{x}<extra></extra>",
         "jitter": 0,
         "legendgroup": "3",
         "line": {
          "color": "rgba(255,255,255,0)"
         },
         "marker": {
          "color": "#00cc96",
          "symbol": "line-ns-open"
         },
         "name": "3",
         "offsetgroup": "3",
         "showlegend": false,
         "type": "box",
         "x": [
          -4.837443302350562,
          1.1197099844996157,
          -4.373940931323621,
          5.168354009563898,
          -5.977271509267583,
          1.3715482575929614,
          -4.579759858124041,
          -4.0955025964200455,
          -2.804771991626935,
          -4.656293014503606,
          -5.478396912113831,
          7.160576640644055,
          -4.420647622801961,
          2.958446400171838,
          1.6267645304212377,
          -5.61929536071816,
          9.912277402527247,
          -6.558644284562357,
          -4.458251426393712,
          3.648627801275447,
          -5.900259472556174,
          -5.93562919723515,
          6.264683783441018,
          -4.642822488499347,
          -5.137382960762376,
          -0.14592620493967012,
          -4.820501136489374,
          -4.1056360483385825,
          -4.930694996454965,
          11.127191731346725,
          -4.647916898781416,
          12.171747416822534,
          -3.7452839218338045,
          -0.2443539001773187,
          -5.308408708403035,
          4.214185416833668,
          -4.213585235734043,
          10.986638898352435,
          -2.8100063986871757,
          -5.376104654293226,
          9.274957901098016,
          -4.505198441324393,
          -6.251226200334751,
          9.951871794324065,
          -4.610861292182591,
          -4.647265677803896,
          10.419185167125866,
          -5.458966844619002,
          -4.572669893054735,
          8.823179823986008,
          -4.068521036939255,
          -4.92066152379944,
          3.8774331066049617,
          -4.655484800867777,
          0.27620040086694786,
          -5.023623060895887,
          2.1422494136242247,
          -5.39938593433145,
          5.829900984467851,
          -4.419307603863327,
          7.925625460503616,
          -4.632435287576,
          -4.854495937108457,
          -3.6013983249056727,
          -4.724787729191364,
          9.279022095698924,
          -4.589958145160461,
          -4.832195918942881,
          -5.15930423968898,
          10.47873916650208,
          -4.374977064453239,
          0.18026699460066717,
          -6.638855490313831,
          -0.35973163360080584,
          -5.107148078183782,
          5.895206024149332,
          -3.1929190415223805,
          4.807658070474405,
          -4.141229170876272,
          8.933774775103643,
          -5.120902001916552,
          -1.6503033923579578,
          -6.5828247936453606,
          -5.025591714625474,
          16.22472004979641,
          -4.300543523677224,
          -4.882918494172661,
          -4.558825517000395,
          9.194590814887263,
          -3.7210860240976995,
          -6.2074017537069786,
          -4.261713326590104,
          -0.9592006672302891,
          -5.254197528820612,
          9.97973599450362,
          -4.445162663180424,
          -4.73879563713019,
          -5.568403876151805,
          2.3219504026547684,
          -3.966762949000298,
          -4.429754069212827,
          8.748783005367446,
          -6.782518192020408,
          -4.828100400763226,
          1.5587237925653619,
          -4.301998236616227,
          5.659061402235193,
          -3.638431458537724,
          -5.537020699764486,
          -4.905577700060823,
          8.402982803131371,
          -5.714487456018005,
          9.503296398470793,
          -3.93409002071959,
          4.681800805989152,
          -4.898750618811776,
          -3.572333573322221,
          -5.023504856215985,
          -3.6325303735574406,
          -5.124333243745331,
          8.095154771713128,
          -5.824639884726664,
          12.915038348604984,
          -0.6921831060804022,
          4.974016809199111,
          -4.730234007604722,
          9.854385057720124,
          -5.464090024194673,
          -4.950293695807533,
          -6.975160165022636,
          14.735018544498669,
          -3.9472406446392747,
          4.191688957604445,
          -4.931882593085244,
          -5.081044147884301,
          2.8891507746617258,
          -5.668592870661297,
          -3.9946696943550353,
          -4.739285926100973,
          2.8679701904545127,
          -5.139502420275415,
          5.439016792320082,
          -5.335353707234898,
          -4.675467232709287,
          11.37470761305705,
          -3.791237706901983,
          -4.6129969851284045,
          3.22224043761511,
          -4.731458063452951,
          4.026147978057232,
          -5.74344395096765,
          -4.956597365184158,
          1.8118625770287409,
          -5.423525305305229,
          -5.12751206609588,
          7.901192277035863,
          -4.642881339047606,
          2.3922283914551894,
          -4.633444142156062,
          -4.839406260859581,
          5.220036648010958,
          -5.481966809339409,
          3.082210640157895,
          -4.713037112294049,
          -2.5637476018808223,
          11.87748426552485,
          -4.771994012949556,
          7.797255631903864,
          -3.412158155816344,
          1.6406794840407848,
          6.521146931723164,
          -5.460162953277847,
          1.9931284520057782,
          -5.434748516325533,
          5.963657998452373,
          -4.803830765072884,
          -4.256549382344972,
          7.387501884742086,
          -4.668514751609313,
          3.6380972219324197,
          -4.430381188830242,
          5.234447091648038,
          -5.683330912681511,
          3.0794152421078476,
          -5.551042143810851,
          -5.116723005661666,
          -5.148131611642774,
          8.112795972713663,
          -4.344405059159214,
          2.490315588356116,
          -4.869920031446792,
          9.184342200687155,
          -5.302161257176592,
          0.8294466232041003,
          -5.0160040942140895,
          -4.214352215260624,
          4.734529702997316,
          -4.703417808120764
         ],
         "xaxis": "x2",
         "yaxis": "y2"
        }
       ],
       "layout": {
        "barmode": "relative",
        "legend": {
         "title": {
          "text": "color"
         },
         "tracegroupgap": 0
        },
        "margin": {
         "t": 60
        },
        "template": {
         "data": {
          "bar": [
           {
            "error_x": {
             "color": "#2a3f5f"
            },
            "error_y": {
             "color": "#2a3f5f"
            },
            "marker": {
             "line": {
              "color": "#E5ECF6",
              "width": 0.5
             },
             "pattern": {
              "fillmode": "overlay",
              "size": 10,
              "solidity": 0.2
             }
            },
            "type": "bar"
           }
          ],
          "barpolar": [
           {
            "marker": {
             "line": {
              "color": "#E5ECF6",
              "width": 0.5
             },
             "pattern": {
              "fillmode": "overlay",
              "size": 10,
              "solidity": 0.2
             }
            },
            "type": "barpolar"
           }
          ],
          "carpet": [
           {
            "aaxis": {
             "endlinecolor": "#2a3f5f",
             "gridcolor": "white",
             "linecolor": "white",
             "minorgridcolor": "white",
             "startlinecolor": "#2a3f5f"
            },
            "baxis": {
             "endlinecolor": "#2a3f5f",
             "gridcolor": "white",
             "linecolor": "white",
             "minorgridcolor": "white",
             "startlinecolor": "#2a3f5f"
            },
            "type": "carpet"
           }
          ],
          "choropleth": [
           {
            "colorbar": {
             "outlinewidth": 0,
             "ticks": ""
            },
            "type": "choropleth"
           }
          ],
          "contour": [
           {
            "colorbar": {
             "outlinewidth": 0,
             "ticks": ""
            },
            "colorscale": [
             [
              0,
              "#0d0887"
             ],
             [
              0.1111111111111111,
              "#46039f"
             ],
             [
              0.2222222222222222,
              "#7201a8"
             ],
             [
              0.3333333333333333,
              "#9c179e"
             ],
             [
              0.4444444444444444,
              "#bd3786"
             ],
             [
              0.5555555555555556,
              "#d8576b"
             ],
             [
              0.6666666666666666,
              "#ed7953"
             ],
             [
              0.7777777777777778,
              "#fb9f3a"
             ],
             [
              0.8888888888888888,
              "#fdca26"
             ],
             [
              1,
              "#f0f921"
             ]
            ],
            "type": "contour"
           }
          ],
          "contourcarpet": [
           {
            "colorbar": {
             "outlinewidth": 0,
             "ticks": ""
            },
            "type": "contourcarpet"
           }
          ],
          "heatmap": [
           {
            "colorbar": {
             "outlinewidth": 0,
             "ticks": ""
            },
            "colorscale": [
             [
              0,
              "#0d0887"
             ],
             [
              0.1111111111111111,
              "#46039f"
             ],
             [
              0.2222222222222222,
              "#7201a8"
             ],
             [
              0.3333333333333333,
              "#9c179e"
             ],
             [
              0.4444444444444444,
              "#bd3786"
             ],
             [
              0.5555555555555556,
              "#d8576b"
             ],
             [
              0.6666666666666666,
              "#ed7953"
             ],
             [
              0.7777777777777778,
              "#fb9f3a"
             ],
             [
              0.8888888888888888,
              "#fdca26"
             ],
             [
              1,
              "#f0f921"
             ]
            ],
            "type": "heatmap"
           }
          ],
          "heatmapgl": [
           {
            "colorbar": {
             "outlinewidth": 0,
             "ticks": ""
            },
            "colorscale": [
             [
              0,
              "#0d0887"
             ],
             [
              0.1111111111111111,
              "#46039f"
             ],
             [
              0.2222222222222222,
              "#7201a8"
             ],
             [
              0.3333333333333333,
              "#9c179e"
             ],
             [
              0.4444444444444444,
              "#bd3786"
             ],
             [
              0.5555555555555556,
              "#d8576b"
             ],
             [
              0.6666666666666666,
              "#ed7953"
             ],
             [
              0.7777777777777778,
              "#fb9f3a"
             ],
             [
              0.8888888888888888,
              "#fdca26"
             ],
             [
              1,
              "#f0f921"
             ]
            ],
            "type": "heatmapgl"
           }
          ],
          "histogram": [
           {
            "marker": {
             "pattern": {
              "fillmode": "overlay",
              "size": 10,
              "solidity": 0.2
             }
            },
            "type": "histogram"
           }
          ],
          "histogram2d": [
           {
            "colorbar": {
             "outlinewidth": 0,
             "ticks": ""
            },
            "colorscale": [
             [
              0,
              "#0d0887"
             ],
             [
              0.1111111111111111,
              "#46039f"
             ],
             [
              0.2222222222222222,
              "#7201a8"
             ],
             [
              0.3333333333333333,
              "#9c179e"
             ],
             [
              0.4444444444444444,
              "#bd3786"
             ],
             [
              0.5555555555555556,
              "#d8576b"
             ],
             [
              0.6666666666666666,
              "#ed7953"
             ],
             [
              0.7777777777777778,
              "#fb9f3a"
             ],
             [
              0.8888888888888888,
              "#fdca26"
             ],
             [
              1,
              "#f0f921"
             ]
            ],
            "type": "histogram2d"
           }
          ],
          "histogram2dcontour": [
           {
            "colorbar": {
             "outlinewidth": 0,
             "ticks": ""
            },
            "colorscale": [
             [
              0,
              "#0d0887"
             ],
             [
              0.1111111111111111,
              "#46039f"
             ],
             [
              0.2222222222222222,
              "#7201a8"
             ],
             [
              0.3333333333333333,
              "#9c179e"
             ],
             [
              0.4444444444444444,
              "#bd3786"
             ],
             [
              0.5555555555555556,
              "#d8576b"
             ],
             [
              0.6666666666666666,
              "#ed7953"
             ],
             [
              0.7777777777777778,
              "#fb9f3a"
             ],
             [
              0.8888888888888888,
              "#fdca26"
             ],
             [
              1,
              "#f0f921"
             ]
            ],
            "type": "histogram2dcontour"
           }
          ],
          "mesh3d": [
           {
            "colorbar": {
             "outlinewidth": 0,
             "ticks": ""
            },
            "type": "mesh3d"
           }
          ],
          "parcoords": [
           {
            "line": {
             "colorbar": {
              "outlinewidth": 0,
              "ticks": ""
             }
            },
            "type": "parcoords"
           }
          ],
          "pie": [
           {
            "automargin": true,
            "type": "pie"
           }
          ],
          "scatter": [
           {
            "fillpattern": {
             "fillmode": "overlay",
             "size": 10,
             "solidity": 0.2
            },
            "type": "scatter"
           }
          ],
          "scatter3d": [
           {
            "line": {
             "colorbar": {
              "outlinewidth": 0,
              "ticks": ""
             }
            },
            "marker": {
             "colorbar": {
              "outlinewidth": 0,
              "ticks": ""
             }
            },
            "type": "scatter3d"
           }
          ],
          "scattercarpet": [
           {
            "marker": {
             "colorbar": {
              "outlinewidth": 0,
              "ticks": ""
             }
            },
            "type": "scattercarpet"
           }
          ],
          "scattergeo": [
           {
            "marker": {
             "colorbar": {
              "outlinewidth": 0,
              "ticks": ""
             }
            },
            "type": "scattergeo"
           }
          ],
          "scattergl": [
           {
            "marker": {
             "colorbar": {
              "outlinewidth": 0,
              "ticks": ""
             }
            },
            "type": "scattergl"
           }
          ],
          "scattermapbox": [
           {
            "marker": {
             "colorbar": {
              "outlinewidth": 0,
              "ticks": ""
             }
            },
            "type": "scattermapbox"
           }
          ],
          "scatterpolar": [
           {
            "marker": {
             "colorbar": {
              "outlinewidth": 0,
              "ticks": ""
             }
            },
            "type": "scatterpolar"
           }
          ],
          "scatterpolargl": [
           {
            "marker": {
             "colorbar": {
              "outlinewidth": 0,
              "ticks": ""
             }
            },
            "type": "scatterpolargl"
           }
          ],
          "scatterternary": [
           {
            "marker": {
             "colorbar": {
              "outlinewidth": 0,
              "ticks": ""
             }
            },
            "type": "scatterternary"
           }
          ],
          "surface": [
           {
            "colorbar": {
             "outlinewidth": 0,
             "ticks": ""
            },
            "colorscale": [
             [
              0,
              "#0d0887"
             ],
             [
              0.1111111111111111,
              "#46039f"
             ],
             [
              0.2222222222222222,
              "#7201a8"
             ],
             [
              0.3333333333333333,
              "#9c179e"
             ],
             [
              0.4444444444444444,
              "#bd3786"
             ],
             [
              0.5555555555555556,
              "#d8576b"
             ],
             [
              0.6666666666666666,
              "#ed7953"
             ],
             [
              0.7777777777777778,
              "#fb9f3a"
             ],
             [
              0.8888888888888888,
              "#fdca26"
             ],
             [
              1,
              "#f0f921"
             ]
            ],
            "type": "surface"
           }
          ],
          "table": [
           {
            "cells": {
             "fill": {
              "color": "#EBF0F8"
             },
             "line": {
              "color": "white"
             }
            },
            "header": {
             "fill": {
              "color": "#C8D4E3"
             },
             "line": {
              "color": "white"
             }
            },
            "type": "table"
           }
          ]
         },
         "layout": {
          "annotationdefaults": {
           "arrowcolor": "#2a3f5f",
           "arrowhead": 0,
           "arrowwidth": 1
          },
          "autotypenumbers": "strict",
          "coloraxis": {
           "colorbar": {
            "outlinewidth": 0,
            "ticks": ""
           }
          },
          "colorscale": {
           "diverging": [
            [
             0,
             "#8e0152"
            ],
            [
             0.1,
             "#c51b7d"
            ],
            [
             0.2,
             "#de77ae"
            ],
            [
             0.3,
             "#f1b6da"
            ],
            [
             0.4,
             "#fde0ef"
            ],
            [
             0.5,
             "#f7f7f7"
            ],
            [
             0.6,
             "#e6f5d0"
            ],
            [
             0.7,
             "#b8e186"
            ],
            [
             0.8,
             "#7fbc41"
            ],
            [
             0.9,
             "#4d9221"
            ],
            [
             1,
             "#276419"
            ]
           ],
           "sequential": [
            [
             0,
             "#0d0887"
            ],
            [
             0.1111111111111111,
             "#46039f"
            ],
            [
             0.2222222222222222,
             "#7201a8"
            ],
            [
             0.3333333333333333,
             "#9c179e"
            ],
            [
             0.4444444444444444,
             "#bd3786"
            ],
            [
             0.5555555555555556,
             "#d8576b"
            ],
            [
             0.6666666666666666,
             "#ed7953"
            ],
            [
             0.7777777777777778,
             "#fb9f3a"
            ],
            [
             0.8888888888888888,
             "#fdca26"
            ],
            [
             1,
             "#f0f921"
            ]
           ],
           "sequentialminus": [
            [
             0,
             "#0d0887"
            ],
            [
             0.1111111111111111,
             "#46039f"
            ],
            [
             0.2222222222222222,
             "#7201a8"
            ],
            [
             0.3333333333333333,
             "#9c179e"
            ],
            [
             0.4444444444444444,
             "#bd3786"
            ],
            [
             0.5555555555555556,
             "#d8576b"
            ],
            [
             0.6666666666666666,
             "#ed7953"
            ],
            [
             0.7777777777777778,
             "#fb9f3a"
            ],
            [
             0.8888888888888888,
             "#fdca26"
            ],
            [
             1,
             "#f0f921"
            ]
           ]
          },
          "colorway": [
           "#636efa",
           "#EF553B",
           "#00cc96",
           "#ab63fa",
           "#FFA15A",
           "#19d3f3",
           "#FF6692",
           "#B6E880",
           "#FF97FF",
           "#FECB52"
          ],
          "font": {
           "color": "#2a3f5f"
          },
          "geo": {
           "bgcolor": "white",
           "lakecolor": "white",
           "landcolor": "#E5ECF6",
           "showlakes": true,
           "showland": true,
           "subunitcolor": "white"
          },
          "hoverlabel": {
           "align": "left"
          },
          "hovermode": "closest",
          "mapbox": {
           "style": "light"
          },
          "paper_bgcolor": "white",
          "plot_bgcolor": "#E5ECF6",
          "polar": {
           "angularaxis": {
            "gridcolor": "white",
            "linecolor": "white",
            "ticks": ""
           },
           "bgcolor": "#E5ECF6",
           "radialaxis": {
            "gridcolor": "white",
            "linecolor": "white",
            "ticks": ""
           }
          },
          "scene": {
           "xaxis": {
            "backgroundcolor": "#E5ECF6",
            "gridcolor": "white",
            "gridwidth": 2,
            "linecolor": "white",
            "showbackground": true,
            "ticks": "",
            "zerolinecolor": "white"
           },
           "yaxis": {
            "backgroundcolor": "#E5ECF6",
            "gridcolor": "white",
            "gridwidth": 2,
            "linecolor": "white",
            "showbackground": true,
            "ticks": "",
            "zerolinecolor": "white"
           },
           "zaxis": {
            "backgroundcolor": "#E5ECF6",
            "gridcolor": "white",
            "gridwidth": 2,
            "linecolor": "white",
            "showbackground": true,
            "ticks": "",
            "zerolinecolor": "white"
           }
          },
          "shapedefaults": {
           "line": {
            "color": "#2a3f5f"
           }
          },
          "ternary": {
           "aaxis": {
            "gridcolor": "white",
            "linecolor": "white",
            "ticks": ""
           },
           "baxis": {
            "gridcolor": "white",
            "linecolor": "white",
            "ticks": ""
           },
           "bgcolor": "#E5ECF6",
           "caxis": {
            "gridcolor": "white",
            "linecolor": "white",
            "ticks": ""
           }
          },
          "title": {
           "x": 0.05
          },
          "xaxis": {
           "automargin": true,
           "gridcolor": "white",
           "linecolor": "white",
           "ticks": "",
           "title": {
            "standoff": 15
           },
           "zerolinecolor": "white",
           "zerolinewidth": 2
          },
          "yaxis": {
           "automargin": true,
           "gridcolor": "white",
           "linecolor": "white",
           "ticks": "",
           "title": {
            "standoff": 15
           },
           "zerolinecolor": "white",
           "zerolinewidth": 2
          }
         }
        },
        "xaxis": {
         "anchor": "y",
         "domain": [
          0,
          1
         ],
         "title": {
          "text": "component1"
         }
        },
        "xaxis2": {
         "anchor": "y2",
         "domain": [
          0,
          1
         ],
         "matches": "x",
         "showgrid": true,
         "showticklabels": false
        },
        "yaxis": {
         "anchor": "x",
         "domain": [
          0,
          0.7326
         ],
         "title": {
          "text": "count"
         }
        },
        "yaxis2": {
         "anchor": "x2",
         "domain": [
          0.7426,
          1
         ],
         "matches": "y2",
         "showgrid": false,
         "showline": false,
         "showticklabels": false,
         "ticks": ""
        }
       }
      }
     },
     "metadata": {},
     "output_type": "display_data"
    }
   ],
   "source": [
    "fig = px.histogram(iqms_pca, x=\"component1\", color=scores[\"score\"], marginal=\"rug\")\n",
    "fig.show()"
   ]
  }
 ],
 "metadata": {
  "kernelspec": {
   "display_name": "Python 3 (ipykernel)",
   "language": "python",
   "name": "python3"
  },
  "language_info": {
   "codemirror_mode": {
    "name": "ipython",
    "version": 3
   },
   "file_extension": ".py",
   "mimetype": "text/x-python",
   "name": "python",
   "nbconvert_exporter": "python",
   "pygments_lexer": "ipython3",
   "version": "3.11.0"
  },
  "vscode": {
   "interpreter": {
    "hash": "02f5ff9ee0492f4e7679912d6fe9149b4e47c5af9ba02b187e47b6b0ed3d5bd5"
   }
  }
 },
 "nbformat": 4,
 "nbformat_minor": 4
}
