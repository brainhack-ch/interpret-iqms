{
 "cells": [
  {
   "cell_type": "markdown",
   "metadata": {},
   "source": [
    "# Interpretability of the Image Quality Metrics (IQMs) of MRIQC\n",
    "\n",
    "MRIQC is a powerful tool to assess the quality of MR images in a research study. In addition to a visual report, a number of image quality metrics (IQMs) is generated. However, there is a large number of these metrics and it is not immediately obvious which IQM a researcher should pay most attention to when deciding over the quality of a given image.\n",
    "\n",
    "In this notebook, we will explore these issues in the MR-ART dataset, to provide researchers guidance in interpreting the IQMs from MRIQC."
   ]
  },
  {
   "cell_type": "code",
   "execution_count": 9,
   "metadata": {},
   "outputs": [],
   "source": [
    "# imports\n",
    "import pandas as pd\n",
    "import numpy as np\n",
    "import matplotlib.pyplot as plt\n",
    "import seaborn as sns\n",
    "import plotly.express as px\n",
    "import plotly.graph_objects as go\n",
    "import os\n",
    "\n",
    "from sklearn.manifold import TSNE\n",
    "from sklearn.preprocessing import StandardScaler\n",
    "from sklearn.decomposition import PCA\n",
    "from sklearn.svm import LinearSVC\n",
    "from plotly.subplots import make_subplots"
   ]
  },
  {
   "attachments": {},
   "cell_type": "markdown",
   "metadata": {},
   "source": [
    "First, let's import the data. The [Movement-Related Artifacts (MR-ART)](https://openneuro.org/datasets/ds004173) dataset contains the T1-weighted images of 148 healthy subjects (Nárai et al. 2022). Each subject has been acquired under three motion conditions:\n",
    "\n",
    "1. no head movement\n",
    "2. little head movement\n",
    "3. much head movement\n",
    "\n",
    "The motion was artifically induced by giving the subjects cues when to node their head.\n",
    "\n",
    "The images were given to two expert raters, who rated the images in their quality, with ratings\n",
    "\n",
    "1. good quality\n",
    "2. medium quality\n",
    "3. bad quality.\n",
    "\n",
    "What we are interested in here are the IQMs and the ratings scores."
   ]
  },
  {
   "cell_type": "code",
   "execution_count": 10,
   "metadata": {},
   "outputs": [],
   "source": [
    "# set path to the data, adjust to where you saved yours\n",
    "path_data = os.path.abspath(\"../data/\")\n",
    "# import IQMs\n",
    "iqms = pd.read_csv(os.path.join(path_data, \"IQMs.tsv\"), index_col=\"bids_name\", sep=\"\\t\")\n",
    "# import rating scores\n",
    "scores = pd.read_csv(os.path.join(path_data, \"scores.tsv\"), index_col=\"bids_name\", sep=\"\\t\")\n",
    "# make sure they are in the same order\n",
    "iqms.sort_index(inplace=True)\n",
    "scores.sort_index(inplace=True)"
   ]
  },
  {
   "cell_type": "code",
   "execution_count": 11,
   "metadata": {},
   "outputs": [],
   "source": [
    "def add_condition_column(scores):\n",
    "    \"\"\"Adds a column with the different movement conditions to the rating scores dataframe\"\"\"\n",
    "    stand = scores.index.str.contains(\"standard\")\n",
    "    hm1 = scores.index.str.contains(\"motion1\")\n",
    "    hm2 = scores.index.str.contains(\"motion2\")\n",
    "    conditions = [\n",
    "        (stand == True),\n",
    "        (hm1 == True),\n",
    "        (hm2 == True)]\n",
    "    choices = [1, 2, 3]\n",
    "    scores['condition'] = np.select(conditions, choices)\n",
    "    return scores\n",
    "scores = add_condition_column(scores)"
   ]
  },
  {
   "cell_type": "markdown",
   "metadata": {},
   "source": [
    "## Rating scores and image conditions\n",
    "\n",
    "We can explore how well the raters align in their scores with the motion condition. Does their rating reflect how much people moved in the scanner? Let's cross-tabulate them:"
   ]
  },
  {
   "cell_type": "code",
   "execution_count": 12,
   "metadata": {},
   "outputs": [
    {
     "data": {
      "image/png": "[encoded data removed]",
      "text/plain": [
       "<Figure size 432x288 with 2 Axes>"
      ]
     },
     "metadata": {
      "needs_background": "light"
     },
     "output_type": "display_data"
    }
   ],
   "source": [
    "sns.heatmap(pd.crosstab(scores[\"score\"], scores[\"condition\"]), annot=True, fmt=\".0f\")\n",
    "plt.show()"
   ]
  },
  {
   "cell_type": "markdown",
   "metadata": {},
   "source": [
    "We can see that generally there is good correspondance, with most values being on the main diagonal. Most confusion is for score 2, where there are also a lot of images from the no-motion as well as the much motion conditions.\n",
    "\n",
    "Some images are however completely misclassified. We can visualize this also in a different way to be able to identify the images that were rated much better or much worse than the condition they were in."
   ]
  },
  {
   "cell_type": "code",
   "execution_count": 13,
   "metadata": {},
   "outputs": [
    {
     "data": {
      "application/vnd.plotly.v1+json": {
       "config": {
        "plotlyServerURL": "https://plot.ly"
       },
       "data": [
        {
         "alignmentgroup": "True",
         "boxpoints": "all",
         "fillcolor": "rgba(255,255,255,0)",
         "hoveron": "points",
         "hovertemplate": "bids_name=sub-000103_acq-headmotion1_T1w<br>condition=%{x}<br>score=%{y}<extra></extra>",
         "legendgroup": "sub-000103_acq-headmotion1_T1w",
         "line": {
          "color": "rgba(255,255,255,0)"
         },
         "marker": {
          "color": "#636efa"
         },
         "name": "sub-000103_acq-headmotion1_T1w",
         "offsetgroup": "sub-000103_acq-headmotion1_T1w",
         "orientation": "v",
         "pointpos": 0,
         "showlegend": true,
         "type": "box",
         "x": [
          2
         ],
         "x0": " ",
         "xaxis": "x",
         "y": [
          2
         ],
         "y0": " ",
         "yaxis": "y"
        },
        {
         "alignmentgroup": "True",
         "boxpoints": "all",
         "fillcolor": "rgba(255,255,255,0)",
         "hoveron": "points",
         "hovertemplate": "bids_name=sub-000103_acq-headmotion2_T1w<br>condition=%{x}<br>score=%{y}<extra></extra>",
         "legendgroup": "sub-000103_acq-headmotion2_T1w",
         "line": {
          "color": "rgba(255,255,255,0)"
         },
         "marker": {
          "color": "#EF553B"
         },
         "name": "sub-000103_acq-headmotion2_T1w",
         "offsetgroup": "sub-000103_acq-headmotion2_T1w",
         "orientation": "v",
         "pointpos": 0,
         "showlegend": true,
         "type": "box",
         "x": [
          3
         ],
         "x0": " ",
         "xaxis": "x",
         "y": [
          3
         ],
         "y0": " ",
         "yaxis": "y"
        },
        {
         "alignmentgroup": "True",
         "boxpoints": "all",
         "fillcolor": "rgba(255,255,255,0)",
         "hoveron": "points",
         "hovertemplate": "bids_name=sub-000103_acq-standard_T1w<br>condition=%{x}<br>score=%{y}<extra></extra>",
         "legendgroup": "sub-000103_acq-standard_T1w",
         "line": {
          "color": "rgba(255,255,255,0)"
         },
         "marker": {
          "color": "#00cc96"
         },
         "name": "sub-000103_acq-standard_T1w",
         "offsetgroup": "sub-000103_acq-standard_T1w",
         "orientation": "v",
         "pointpos": 0,
         "showlegend": true,
         "type": "box",
         "x": [
          1
         ],
         "x0": " ",
         "xaxis": "x",
         "y": [
          1
         ],
         "y0": " ",
         "yaxis": "y"
        },
        {
         "alignmentgroup": "True",
         "boxpoints": "all",
         "fillcolor": "rgba(255,255,255,0)",
         "hoveron": "points",
         "hovertemplate": "bids_name=sub-000148_acq-headmotion1_T1w<br>condition=%{x}<br>score=%{y}<extra></extra>",
         "legendgroup": "sub-000148_acq-headmotion1_T1w",
         "line": {
          "color": "rgba(255,255,255,0)"
         },
         "marker": {
          "color": "#ab63fa"
         },
         "name": "sub-000148_acq-headmotion1_T1w",
         "offsetgroup": "sub-000148_acq-headmotion1_T1w",
         "orientation": "v",
         "pointpos": 0,
         "showlegend": true,
         "type": "box",
         "x": [
          2
         ],
         "x0": " ",
         "xaxis": "x",
         "y": [
          3
         ],
         "y0": " ",
         "yaxis": "y"
        },
        {
         "alignmentgroup": "True",
         "boxpoints": "all",
         "fillcolor": "rgba(255,255,255,0)",
         "hoveron": "points",
         "hovertemplate": "bids_name=sub-000148_acq-headmotion2_T1w<br>condition=%{x}<br>score=%{y}<extra></extra>",
         "legendgroup": "sub-000148_acq-headmotion2_T1w",
         "line": {
          "color": "rgba(255,255,255,0)"
         },
         "marker": {
          "color": "#FFA15A"
         },
         "name": "sub-000148_acq-headmotion2_T1w",
         "offsetgroup": "sub-000148_acq-headmotion2_T1w",
         "orientation": "v",
         "pointpos": 0,
         "showlegend": true,
         "type": "box",
         "x": [
          3
         ],
         "x0": " ",
         "xaxis": "x",
         "y": [
          3
         ],
         "y0": " ",
         "yaxis": "y"
        },
        {
         "alignmentgroup": "True",
         "boxpoints": "all",
         "fillcolor": "rgba(255,255,255,0)",
         "hoveron": "points",
         "hovertemplate": "bids_name=sub-000148_acq-standard_T1w<br>condition=%{x}<br>score=%{y}<extra></extra>",
         "legendgroup": "sub-000148_acq-standard_T1w",
         "line": {
          "color": "rgba(255,255,255,0)"
         },
         "marker": {
          "color": "#19d3f3"
         },
         "name": "sub-000148_acq-standard_T1w",
         "offsetgroup": "sub-000148_acq-standard_T1w",
         "orientation": "v",
         "pointpos": 0,
         "showlegend": true,
         "type": "box",
         "x": [
          1
         ],
         "x0": " ",
         "xaxis": "x",
         "y": [
          1
         ],
         "y0": " ",
         "yaxis": "y"
        },
        {
         "alignmentgroup": "True",
         "boxpoints": "all",
         "fillcolor": "rgba(255,255,255,0)",
         "hoveron": "points",
         "hovertemplate": "bids_name=sub-000149_acq-headmotion1_T1w<br>condition=%{x}<br>score=%{y}<extra></extra>",
         "legendgroup": "sub-000149_acq-headmotion1_T1w",
         "line": {
          "color": "rgba(255,255,255,0)"
         },
         "marker": {
          "color": "#FF6692"
         },
         "name": "sub-000149_acq-headmotion1_T1w",
         "offsetgroup": "sub-000149_acq-headmotion1_T1w",
         "orientation": "v",
         "pointpos": 0,
         "showlegend": true,
         "type": "box",
         "x": [
          2
         ],
         "x0": " ",
         "xaxis": "x",
         "y": [
          3
         ],
         "y0": " ",
         "yaxis": "y"
        },
        {
         "alignmentgroup": "True",
         "boxpoints": "all",
         "fillcolor": "rgba(255,255,255,0)",
         "hoveron": "points",
         "hovertemplate": "bids_name=sub-000149_acq-headmotion2_T1w<br>condition=%{x}<br>score=%{y}<extra></extra>",
         "legendgroup": "sub-000149_acq-headmotion2_T1w",
         "line": {
          "color": "rgba(255,255,255,0)"
         },
         "marker": {
          "color": "#B6E880"
         },
         "name": "sub-000149_acq-headmotion2_T1w",
         "offsetgroup": "sub-000149_acq-headmotion2_T1w",
         "orientation": "v",
         "pointpos": 0,
         "showlegend": true,
         "type": "box",
         "x": [
          3
         ],
         "x0": " ",
         "xaxis": "x",
         "y": [
          3
         ],
         "y0": " ",
         "yaxis": "y"
        },
        {
         "alignmentgroup": "True",
         "boxpoints": "all",
         "fillcolor": "rgba(255,255,255,0)",
         "hoveron": "points",
         "hovertemplate": "bids_name=sub-000149_acq-standard_T1w<br>condition=%{x}<br>score=%{y}<extra></extra>",
         "legendgroup": "sub-000149_acq-standard_T1w",
         "line": {
          "color": "rgba(255,255,255,0)"
         },
         "marker": {
          "color": "#FF97FF"
         },
         "name": "sub-000149_acq-standard_T1w",
         "offsetgroup": "sub-000149_acq-standard_T1w",
         "orientation": "v",
         "pointpos": 0,
         "showlegend": true,
         "type": "box",
         "x": [
          1
         ],
         "x0": " ",
         "xaxis": "x",
         "y": [
          1
         ],
         "y0": " ",
         "yaxis": "y"
        },
        {
         "alignmentgroup": "True",
         "boxpoints": "all",
         "fillcolor": "rgba(255,255,255,0)",
         "hoveron": "points",
         "hovertemplate": "bids_name=sub-000159_acq-headmotion1_T1w<br>condition=%{x}<br>score=%{y}<extra></extra>",
         "legendgroup": "sub-000159_acq-headmotion1_T1w",
         "line": {
          "color": "rgba(255,255,255,0)"
         },
         "marker": {
          "color": "#FECB52"
         },
         "name": "sub-000159_acq-headmotion1_T1w",
         "offsetgroup": "sub-000159_acq-headmotion1_T1w",
         "orientation": "v",
         "pointpos": 0,
         "showlegend": true,
         "type": "box",
         "x": [
          2
         ],
         "x0": " ",
         "xaxis": "x",
         "y": [
          3
         ],
         "y0": " ",
         "yaxis": "y"
        },
        {
         "alignmentgroup": "True",
         "boxpoints": "all",
         "fillcolor": "rgba(255,255,255,0)",
         "hoveron": "points",
         "hovertemplate": "bids_name=sub-000159_acq-headmotion2_T1w<br>condition=%{x}<br>score=%{y}<extra></extra>",
         "legendgroup": "sub-000159_acq-headmotion2_T1w",
         "line": {
          "color": "rgba(255,255,255,0)"
         },
         "marker": {
          "color": "#636efa"
         },
         "name": "sub-000159_acq-headmotion2_T1w",
         "offsetgroup": "sub-000159_acq-headmotion2_T1w",
         "orientation": "v",
         "pointpos": 0,
         "showlegend": true,
         "type": "box",
         "x": [
          3
         ],
         "x0": " ",
         "xaxis": "x",
         "y": [
          3
         ],
         "y0": " ",
         "yaxis": "y"
        },
        {
         "alignmentgroup": "True",
         "boxpoints": "all",
         "fillcolor": "rgba(255,255,255,0)",
         "hoveron": "points",
         "hovertemplate": "bids_name=sub-000159_acq-standard_T1w<br>condition=%{x}<br>score=%{y}<extra></extra>",
         "legendgroup": "sub-000159_acq-standard_T1w",
         "line": {
          "color": "rgba(255,255,255,0)"
         },
         "marker": {
          "color": "#EF553B"
         },
         "name": "sub-000159_acq-standard_T1w",
         "offsetgroup": "sub-000159_acq-standard_T1w",
         "orientation": "v",
         "pointpos": 0,
         "showlegend": true,
         "type": "box",
         "x": [
          1
         ],
         "x0": " ",
         "xaxis": "x",
         "y": [
          1
         ],
         "y0": " ",
         "yaxis": "y"
        },
        {
         "alignmentgroup": "True",
         "boxpoints": "all",
         "fillcolor": "rgba(255,255,255,0)",
         "hoveron": "points",
         "hovertemplate": "bids_name=sub-000175_acq-headmotion1_T1w<br>condition=%{x}<br>score=%{y}<extra></extra>",
         "legendgroup": "sub-000175_acq-headmotion1_T1w",
         "line": {
          "color": "rgba(255,255,255,0)"
         },
         "marker": {
          "color": "#00cc96"
         },
         "name": "sub-000175_acq-headmotion1_T1w",
         "offsetgroup": "sub-000175_acq-headmotion1_T1w",
         "orientation": "v",
         "pointpos": 0,
         "showlegend": true,
         "type": "box",
         "x": [
          2
         ],
         "x0": " ",
         "xaxis": "x",
         "y": [
          2
         ],
         "y0": " ",
         "yaxis": "y"
        },
        {
         "alignmentgroup": "True",
         "boxpoints": "all",
         "fillcolor": "rgba(255,255,255,0)",
         "hoveron": "points",
         "hovertemplate": "bids_name=sub-000175_acq-headmotion2_T1w<br>condition=%{x}<br>score=%{y}<extra></extra>",
         "legendgroup": "sub-000175_acq-headmotion2_T1w",
         "line": {
          "color": "rgba(255,255,255,0)"
         },
         "marker": {
          "color": "#ab63fa"
         },
         "name": "sub-000175_acq-headmotion2_T1w",
         "offsetgroup": "sub-000175_acq-headmotion2_T1w",
         "orientation": "v",
         "pointpos": 0,
         "showlegend": true,
         "type": "box",
         "x": [
          3
         ],
         "x0": " ",
         "xaxis": "x",
         "y": [
          3
         ],
         "y0": " ",
         "yaxis": "y"
        },
        {
         "alignmentgroup": "True",
         "boxpoints": "all",
         "fillcolor": "rgba(255,255,255,0)",
         "hoveron": "points",
         "hovertemplate": "bids_name=sub-000175_acq-standard_T1w<br>condition=%{x}<br>score=%{y}<extra></extra>",
         "legendgroup": "sub-000175_acq-standard_T1w",
         "line": {
          "color": "rgba(255,255,255,0)"
         },
         "marker": {
          "color": "#FFA15A"
         },
         "name": "sub-000175_acq-standard_T1w",
         "offsetgroup": "sub-000175_acq-standard_T1w",
         "orientation": "v",
         "pointpos": 0,
         "showlegend": true,
         "type": "box",
         "x": [
          1
         ],
         "x0": " ",
         "xaxis": "x",
         "y": [
          1
         ],
         "y0": " ",
         "yaxis": "y"
        },
        {
         "alignmentgroup": "True",
         "boxpoints": "all",
         "fillcolor": "rgba(255,255,255,0)",
         "hoveron": "points",
         "hovertemplate": "bids_name=sub-000179_acq-headmotion1_T1w<br>condition=%{x}<br>score=%{y}<extra></extra>",
         "legendgroup": "sub-000179_acq-headmotion1_T1w",
         "line": {
          "color": "rgba(255,255,255,0)"
         },
         "marker": {
          "color": "#19d3f3"
         },
         "name": "sub-000179_acq-headmotion1_T1w",
         "offsetgroup": "sub-000179_acq-headmotion1_T1w",
         "orientation": "v",
         "pointpos": 0,
         "showlegend": true,
         "type": "box",
         "x": [
          2
         ],
         "x0": " ",
         "xaxis": "x",
         "y": [
          2
         ],
         "y0": " ",
         "yaxis": "y"
        },
        {
         "alignmentgroup": "True",
         "boxpoints": "all",
         "fillcolor": "rgba(255,255,255,0)",
         "hoveron": "points",
         "hovertemplate": "bids_name=sub-000179_acq-headmotion2_T1w<br>condition=%{x}<br>score=%{y}<extra></extra>",
         "legendgroup": "sub-000179_acq-headmotion2_T1w",
         "line": {
          "color": "rgba(255,255,255,0)"
         },
         "marker": {
          "color": "#FF6692"
         },
         "name": "sub-000179_acq-headmotion2_T1w",
         "offsetgroup": "sub-000179_acq-headmotion2_T1w",
         "orientation": "v",
         "pointpos": 0,
         "showlegend": true,
         "type": "box",
         "x": [
          3
         ],
         "x0": " ",
         "xaxis": "x",
         "y": [
          2
         ],
         "y0": " ",
         "yaxis": "y"
        },
        {
         "alignmentgroup": "True",
         "boxpoints": "all",
         "fillcolor": "rgba(255,255,255,0)",
         "hoveron": "points",
         "hovertemplate": "bids_name=sub-000179_acq-standard_T1w<br>condition=%{x}<br>score=%{y}<extra></extra>",
         "legendgroup": "sub-000179_acq-standard_T1w",
         "line": {
          "color": "rgba(255,255,255,0)"
         },
         "marker": {
          "color": "#B6E880"
         },
         "name": "sub-000179_acq-standard_T1w",
         "offsetgroup": "sub-000179_acq-standard_T1w",
         "orientation": "v",
         "pointpos": 0,
         "showlegend": true,
         "type": "box",
         "x": [
          1
         ],
         "x0": " ",
         "xaxis": "x",
         "y": [
          1
         ],
         "y0": " ",
         "yaxis": "y"
        },
        {
         "alignmentgroup": "True",
         "boxpoints": "all",
         "fillcolor": "rgba(255,255,255,0)",
         "hoveron": "points",
         "hovertemplate": "bids_name=sub-000183_acq-headmotion1_T1w<br>condition=%{x}<br>score=%{y}<extra></extra>",
         "legendgroup": "sub-000183_acq-headmotion1_T1w",
         "line": {
          "color": "rgba(255,255,255,0)"
         },
         "marker": {
          "color": "#FF97FF"
         },
         "name": "sub-000183_acq-headmotion1_T1w",
         "offsetgroup": "sub-000183_acq-headmotion1_T1w",
         "orientation": "v",
         "pointpos": 0,
         "showlegend": true,
         "type": "box",
         "x": [
          2
         ],
         "x0": " ",
         "xaxis": "x",
         "y": [
          2
         ],
         "y0": " ",
         "yaxis": "y"
        },
        {
         "alignmentgroup": "True",
         "boxpoints": "all",
         "fillcolor": "rgba(255,255,255,0)",
         "hoveron": "points",
         "hovertemplate": "bids_name=sub-000183_acq-headmotion2_T1w<br>condition=%{x}<br>score=%{y}<extra></extra>",
         "legendgroup": "sub-000183_acq-headmotion2_T1w",
         "line": {
          "color": "rgba(255,255,255,0)"
         },
         "marker": {
          "color": "#FECB52"
         },
         "name": "sub-000183_acq-headmotion2_T1w",
         "offsetgroup": "sub-000183_acq-headmotion2_T1w",
         "orientation": "v",
         "pointpos": 0,
         "showlegend": true,
         "type": "box",
         "x": [
          3
         ],
         "x0": " ",
         "xaxis": "x",
         "y": [
          3
         ],
         "y0": " ",
         "yaxis": "y"
        },
        {
         "alignmentgroup": "True",
         "boxpoints": "all",
         "fillcolor": "rgba(255,255,255,0)",
         "hoveron": "points",
         "hovertemplate": "bids_name=sub-000183_acq-standard_T1w<br>condition=%{x}<br>score=%{y}<extra></extra>",
         "legendgroup": "sub-000183_acq-standard_T1w",
         "line": {
          "color": "rgba(255,255,255,0)"
         },
         "marker": {
          "color": "#636efa"
         },
         "name": "sub-000183_acq-standard_T1w",
         "offsetgroup": "sub-000183_acq-standard_T1w",
         "orientation": "v",
         "pointpos": 0,
         "showlegend": true,
         "type": "box",
         "x": [
          1
         ],
         "x0": " ",
         "xaxis": "x",
         "y": [
          2
         ],
         "y0": " ",
         "yaxis": "y"
        },
        {
         "alignmentgroup": "True",
         "boxpoints": "all",
         "fillcolor": "rgba(255,255,255,0)",
         "hoveron": "points",
         "hovertemplate": "bids_name=sub-003617_acq-headmotion1_T1w<br>condition=%{x}<br>score=%{y}<extra></extra>",
         "legendgroup": "sub-003617_acq-headmotion1_T1w",
         "line": {
          "color": "rgba(255,255,255,0)"
         },
         "marker": {
          "color": "#EF553B"
         },
         "name": "sub-003617_acq-headmotion1_T1w",
         "offsetgroup": "sub-003617_acq-headmotion1_T1w",
         "orientation": "v",
         "pointpos": 0,
         "showlegend": true,
         "type": "box",
         "x": [
          2
         ],
         "x0": " ",
         "xaxis": "x",
         "y": [
          2
         ],
         "y0": " ",
         "yaxis": "y"
        },
        {
         "alignmentgroup": "True",
         "boxpoints": "all",
         "fillcolor": "rgba(255,255,255,0)",
         "hoveron": "points",
         "hovertemplate": "bids_name=sub-003617_acq-headmotion2_T1w<br>condition=%{x}<br>score=%{y}<extra></extra>",
         "legendgroup": "sub-003617_acq-headmotion2_T1w",
         "line": {
          "color": "rgba(255,255,255,0)"
         },
         "marker": {
          "color": "#00cc96"
         },
         "name": "sub-003617_acq-headmotion2_T1w",
         "offsetgroup": "sub-003617_acq-headmotion2_T1w",
         "orientation": "v",
         "pointpos": 0,
         "showlegend": true,
         "type": "box",
         "x": [
          3
         ],
         "x0": " ",
         "xaxis": "x",
         "y": [
          3
         ],
         "y0": " ",
         "yaxis": "y"
        },
        {
         "alignmentgroup": "True",
         "boxpoints": "all",
         "fillcolor": "rgba(255,255,255,0)",
         "hoveron": "points",
         "hovertemplate": "bids_name=sub-003617_acq-standard_T1w<br>condition=%{x}<br>score=%{y}<extra></extra>",
         "legendgroup": "sub-003617_acq-standard_T1w",
         "line": {
          "color": "rgba(255,255,255,0)"
         },
         "marker": {
          "color": "#ab63fa"
         },
         "name": "sub-003617_acq-standard_T1w",
         "offsetgroup": "sub-003617_acq-standard_T1w",
         "orientation": "v",
         "pointpos": 0,
         "showlegend": true,
         "type": "box",
         "x": [
          1
         ],
         "x0": " ",
         "xaxis": "x",
         "y": [
          1
         ],
         "y0": " ",
         "yaxis": "y"
        },
        {
         "alignmentgroup": "True",
         "boxpoints": "all",
         "fillcolor": "rgba(255,255,255,0)",
         "hoveron": "points",
         "hovertemplate": "bids_name=sub-009673_acq-headmotion1_T1w<br>condition=%{x}<br>score=%{y}<extra></extra>",
         "legendgroup": "sub-009673_acq-headmotion1_T1w",
         "line": {
          "color": "rgba(255,255,255,0)"
         },
         "marker": {
          "color": "#FFA15A"
         },
         "name": "sub-009673_acq-headmotion1_T1w",
         "offsetgroup": "sub-009673_acq-headmotion1_T1w",
         "orientation": "v",
         "pointpos": 0,
         "showlegend": true,
         "type": "box",
         "x": [
          2
         ],
         "x0": " ",
         "xaxis": "x",
         "y": [
          2
         ],
         "y0": " ",
         "yaxis": "y"
        },
        {
         "alignmentgroup": "True",
         "boxpoints": "all",
         "fillcolor": "rgba(255,255,255,0)",
         "hoveron": "points",
         "hovertemplate": "bids_name=sub-009673_acq-headmotion2_T1w<br>condition=%{x}<br>score=%{y}<extra></extra>",
         "legendgroup": "sub-009673_acq-headmotion2_T1w",
         "line": {
          "color": "rgba(255,255,255,0)"
         },
         "marker": {
          "color": "#19d3f3"
         },
         "name": "sub-009673_acq-headmotion2_T1w",
         "offsetgroup": "sub-009673_acq-headmotion2_T1w",
         "orientation": "v",
         "pointpos": 0,
         "showlegend": true,
         "type": "box",
         "x": [
          3
         ],
         "x0": " ",
         "xaxis": "x",
         "y": [
          3
         ],
         "y0": " ",
         "yaxis": "y"
        },
        {
         "alignmentgroup": "True",
         "boxpoints": "all",
         "fillcolor": "rgba(255,255,255,0)",
         "hoveron": "points",
         "hovertemplate": "bids_name=sub-009673_acq-standard_T1w<br>condition=%{x}<br>score=%{y}<extra></extra>",
         "legendgroup": "sub-009673_acq-standard_T1w",
         "line": {
          "color": "rgba(255,255,255,0)"
         },
         "marker": {
          "color": "#FF6692"
         },
         "name": "sub-009673_acq-standard_T1w",
         "offsetgroup": "sub-009673_acq-standard_T1w",
         "orientation": "v",
         "pointpos": 0,
         "showlegend": true,
         "type": "box",
         "x": [
          1
         ],
         "x0": " ",
         "xaxis": "x",
         "y": [
          1
         ],
         "y0": " ",
         "yaxis": "y"
        },
        {
         "alignmentgroup": "True",
         "boxpoints": "all",
         "fillcolor": "rgba(255,255,255,0)",
         "hoveron": "points",
         "hovertemplate": "bids_name=sub-010769_acq-headmotion1_T1w<br>condition=%{x}<br>score=%{y}<extra></extra>",
         "legendgroup": "sub-010769_acq-headmotion1_T1w",
         "line": {
          "color": "rgba(255,255,255,0)"
         },
         "marker": {
          "color": "#B6E880"
         },
         "name": "sub-010769_acq-headmotion1_T1w",
         "offsetgroup": "sub-010769_acq-headmotion1_T1w",
         "orientation": "v",
         "pointpos": 0,
         "showlegend": true,
         "type": "box",
         "x": [
          2
         ],
         "x0": " ",
         "xaxis": "x",
         "y": [
          3
         ],
         "y0": " ",
         "yaxis": "y"
        },
        {
         "alignmentgroup": "True",
         "boxpoints": "all",
         "fillcolor": "rgba(255,255,255,0)",
         "hoveron": "points",
         "hovertemplate": "bids_name=sub-010769_acq-headmotion2_T1w<br>condition=%{x}<br>score=%{y}<extra></extra>",
         "legendgroup": "sub-010769_acq-headmotion2_T1w",
         "line": {
          "color": "rgba(255,255,255,0)"
         },
         "marker": {
          "color": "#FF97FF"
         },
         "name": "sub-010769_acq-headmotion2_T1w",
         "offsetgroup": "sub-010769_acq-headmotion2_T1w",
         "orientation": "v",
         "pointpos": 0,
         "showlegend": true,
         "type": "box",
         "x": [
          3
         ],
         "x0": " ",
         "xaxis": "x",
         "y": [
          3
         ],
         "y0": " ",
         "yaxis": "y"
        },
        {
         "alignmentgroup": "True",
         "boxpoints": "all",
         "fillcolor": "rgba(255,255,255,0)",
         "hoveron": "points",
         "hovertemplate": "bids_name=sub-010769_acq-standard_T1w<br>condition=%{x}<br>score=%{y}<extra></extra>",
         "legendgroup": "sub-010769_acq-standard_T1w",
         "line": {
          "color": "rgba(255,255,255,0)"
         },
         "marker": {
          "color": "#FECB52"
         },
         "name": "sub-010769_acq-standard_T1w",
         "offsetgroup": "sub-010769_acq-standard_T1w",
         "orientation": "v",
         "pointpos": 0,
         "showlegend": true,
         "type": "box",
         "x": [
          1
         ],
         "x0": " ",
         "xaxis": "x",
         "y": [
          1
         ],
         "y0": " ",
         "yaxis": "y"
        },
        {
         "alignmentgroup": "True",
         "boxpoints": "all",
         "fillcolor": "rgba(255,255,255,0)",
         "hoveron": "points",
         "hovertemplate": "bids_name=sub-012059_acq-headmotion1_T1w<br>condition=%{x}<br>score=%{y}<extra></extra>",
         "legendgroup": "sub-012059_acq-headmotion1_T1w",
         "line": {
          "color": "rgba(255,255,255,0)"
         },
         "marker": {
          "color": "#636efa"
         },
         "name": "sub-012059_acq-headmotion1_T1w",
         "offsetgroup": "sub-012059_acq-headmotion1_T1w",
         "orientation": "v",
         "pointpos": 0,
         "showlegend": true,
         "type": "box",
         "x": [
          2
         ],
         "x0": " ",
         "xaxis": "x",
         "y": [
          3
         ],
         "y0": " ",
         "yaxis": "y"
        },
        {
         "alignmentgroup": "True",
         "boxpoints": "all",
         "fillcolor": "rgba(255,255,255,0)",
         "hoveron": "points",
         "hovertemplate": "bids_name=sub-012059_acq-headmotion2_T1w<br>condition=%{x}<br>score=%{y}<extra></extra>",
         "legendgroup": "sub-012059_acq-headmotion2_T1w",
         "line": {
          "color": "rgba(255,255,255,0)"
         },
         "marker": {
          "color": "#EF553B"
         },
         "name": "sub-012059_acq-headmotion2_T1w",
         "offsetgroup": "sub-012059_acq-headmotion2_T1w",
         "orientation": "v",
         "pointpos": 0,
         "showlegend": true,
         "type": "box",
         "x": [
          3
         ],
         "x0": " ",
         "xaxis": "x",
         "y": [
          2
         ],
         "y0": " ",
         "yaxis": "y"
        },
        {
         "alignmentgroup": "True",
         "boxpoints": "all",
         "fillcolor": "rgba(255,255,255,0)",
         "hoveron": "points",
         "hovertemplate": "bids_name=sub-012059_acq-standard_T1w<br>condition=%{x}<br>score=%{y}<extra></extra>",
         "legendgroup": "sub-012059_acq-standard_T1w",
         "line": {
          "color": "rgba(255,255,255,0)"
         },
         "marker": {
          "color": "#00cc96"
         },
         "name": "sub-012059_acq-standard_T1w",
         "offsetgroup": "sub-012059_acq-standard_T1w",
         "orientation": "v",
         "pointpos": 0,
         "showlegend": true,
         "type": "box",
         "x": [
          1
         ],
         "x0": " ",
         "xaxis": "x",
         "y": [
          1
         ],
         "y0": " ",
         "yaxis": "y"
        },
        {
         "alignmentgroup": "True",
         "boxpoints": "all",
         "fillcolor": "rgba(255,255,255,0)",
         "hoveron": "points",
         "hovertemplate": "bids_name=sub-012322_acq-headmotion1_T1w<br>condition=%{x}<br>score=%{y}<extra></extra>",
         "legendgroup": "sub-012322_acq-headmotion1_T1w",
         "line": {
          "color": "rgba(255,255,255,0)"
         },
         "marker": {
          "color": "#ab63fa"
         },
         "name": "sub-012322_acq-headmotion1_T1w",
         "offsetgroup": "sub-012322_acq-headmotion1_T1w",
         "orientation": "v",
         "pointpos": 0,
         "showlegend": true,
         "type": "box",
         "x": [
          2
         ],
         "x0": " ",
         "xaxis": "x",
         "y": [
          3
         ],
         "y0": " ",
         "yaxis": "y"
        },
        {
         "alignmentgroup": "True",
         "boxpoints": "all",
         "fillcolor": "rgba(255,255,255,0)",
         "hoveron": "points",
         "hovertemplate": "bids_name=sub-012322_acq-headmotion2_T1w<br>condition=%{x}<br>score=%{y}<extra></extra>",
         "legendgroup": "sub-012322_acq-headmotion2_T1w",
         "line": {
          "color": "rgba(255,255,255,0)"
         },
         "marker": {
          "color": "#FFA15A"
         },
         "name": "sub-012322_acq-headmotion2_T1w",
         "offsetgroup": "sub-012322_acq-headmotion2_T1w",
         "orientation": "v",
         "pointpos": 0,
         "showlegend": true,
         "type": "box",
         "x": [
          3
         ],
         "x0": " ",
         "xaxis": "x",
         "y": [
          3
         ],
         "y0": " ",
         "yaxis": "y"
        },
        {
         "alignmentgroup": "True",
         "boxpoints": "all",
         "fillcolor": "rgba(255,255,255,0)",
         "hoveron": "points",
         "hovertemplate": "bids_name=sub-012322_acq-standard_T1w<br>condition=%{x}<br>score=%{y}<extra></extra>",
         "legendgroup": "sub-012322_acq-standard_T1w",
         "line": {
          "color": "rgba(255,255,255,0)"
         },
         "marker": {
          "color": "#19d3f3"
         },
         "name": "sub-012322_acq-standard_T1w",
         "offsetgroup": "sub-012322_acq-standard_T1w",
         "orientation": "v",
         "pointpos": 0,
         "showlegend": true,
         "type": "box",
         "x": [
          1
         ],
         "x0": " ",
         "xaxis": "x",
         "y": [
          1
         ],
         "y0": " ",
         "yaxis": "y"
        },
        {
         "alignmentgroup": "True",
         "boxpoints": "all",
         "fillcolor": "rgba(255,255,255,0)",
         "hoveron": "points",
         "hovertemplate": "bids_name=sub-016504_acq-headmotion1_T1w<br>condition=%{x}<br>score=%{y}<extra></extra>",
         "legendgroup": "sub-016504_acq-headmotion1_T1w",
         "line": {
          "color": "rgba(255,255,255,0)"
         },
         "marker": {
          "color": "#FF6692"
         },
         "name": "sub-016504_acq-headmotion1_T1w",
         "offsetgroup": "sub-016504_acq-headmotion1_T1w",
         "orientation": "v",
         "pointpos": 0,
         "showlegend": true,
         "type": "box",
         "x": [
          2
         ],
         "x0": " ",
         "xaxis": "x",
         "y": [
          3
         ],
         "y0": " ",
         "yaxis": "y"
        },
        {
         "alignmentgroup": "True",
         "boxpoints": "all",
         "fillcolor": "rgba(255,255,255,0)",
         "hoveron": "points",
         "hovertemplate": "bids_name=sub-016504_acq-headmotion2_T1w<br>condition=%{x}<br>score=%{y}<extra></extra>",
         "legendgroup": "sub-016504_acq-headmotion2_T1w",
         "line": {
          "color": "rgba(255,255,255,0)"
         },
         "marker": {
          "color": "#B6E880"
         },
         "name": "sub-016504_acq-headmotion2_T1w",
         "offsetgroup": "sub-016504_acq-headmotion2_T1w",
         "orientation": "v",
         "pointpos": 0,
         "showlegend": true,
         "type": "box",
         "x": [
          3
         ],
         "x0": " ",
         "xaxis": "x",
         "y": [
          3
         ],
         "y0": " ",
         "yaxis": "y"
        },
        {
         "alignmentgroup": "True",
         "boxpoints": "all",
         "fillcolor": "rgba(255,255,255,0)",
         "hoveron": "points",
         "hovertemplate": "bids_name=sub-016504_acq-standard_T1w<br>condition=%{x}<br>score=%{y}<extra></extra>",
         "legendgroup": "sub-016504_acq-standard_T1w",
         "line": {
          "color": "rgba(255,255,255,0)"
         },
         "marker": {
          "color": "#FF97FF"
         },
         "name": "sub-016504_acq-standard_T1w",
         "offsetgroup": "sub-016504_acq-standard_T1w",
         "orientation": "v",
         "pointpos": 0,
         "showlegend": true,
         "type": "box",
         "x": [
          1
         ],
         "x0": " ",
         "xaxis": "x",
         "y": [
          2
         ],
         "y0": " ",
         "yaxis": "y"
        },
        {
         "alignmentgroup": "True",
         "boxpoints": "all",
         "fillcolor": "rgba(255,255,255,0)",
         "hoveron": "points",
         "hovertemplate": "bids_name=sub-067018_acq-headmotion1_T1w<br>condition=%{x}<br>score=%{y}<extra></extra>",
         "legendgroup": "sub-067018_acq-headmotion1_T1w",
         "line": {
          "color": "rgba(255,255,255,0)"
         },
         "marker": {
          "color": "#FECB52"
         },
         "name": "sub-067018_acq-headmotion1_T1w",
         "offsetgroup": "sub-067018_acq-headmotion1_T1w",
         "orientation": "v",
         "pointpos": 0,
         "showlegend": true,
         "type": "box",
         "x": [
          2
         ],
         "x0": " ",
         "xaxis": "x",
         "y": [
          2
         ],
         "y0": " ",
         "yaxis": "y"
        },
        {
         "alignmentgroup": "True",
         "boxpoints": "all",
         "fillcolor": "rgba(255,255,255,0)",
         "hoveron": "points",
         "hovertemplate": "bids_name=sub-067018_acq-headmotion2_T1w<br>condition=%{x}<br>score=%{y}<extra></extra>",
         "legendgroup": "sub-067018_acq-headmotion2_T1w",
         "line": {
          "color": "rgba(255,255,255,0)"
         },
         "marker": {
          "color": "#636efa"
         },
         "name": "sub-067018_acq-headmotion2_T1w",
         "offsetgroup": "sub-067018_acq-headmotion2_T1w",
         "orientation": "v",
         "pointpos": 0,
         "showlegend": true,
         "type": "box",
         "x": [
          3
         ],
         "x0": " ",
         "xaxis": "x",
         "y": [
          2
         ],
         "y0": " ",
         "yaxis": "y"
        },
        {
         "alignmentgroup": "True",
         "boxpoints": "all",
         "fillcolor": "rgba(255,255,255,0)",
         "hoveron": "points",
         "hovertemplate": "bids_name=sub-067018_acq-standard_T1w<br>condition=%{x}<br>score=%{y}<extra></extra>",
         "legendgroup": "sub-067018_acq-standard_T1w",
         "line": {
          "color": "rgba(255,255,255,0)"
         },
         "marker": {
          "color": "#EF553B"
         },
         "name": "sub-067018_acq-standard_T1w",
         "offsetgroup": "sub-067018_acq-standard_T1w",
         "orientation": "v",
         "pointpos": 0,
         "showlegend": true,
         "type": "box",
         "x": [
          1
         ],
         "x0": " ",
         "xaxis": "x",
         "y": [
          1
         ],
         "y0": " ",
         "yaxis": "y"
        },
        {
         "alignmentgroup": "True",
         "boxpoints": "all",
         "fillcolor": "rgba(255,255,255,0)",
         "hoveron": "points",
         "hovertemplate": "bids_name=sub-089207_acq-headmotion1_T1w<br>condition=%{x}<br>score=%{y}<extra></extra>",
         "legendgroup": "sub-089207_acq-headmotion1_T1w",
         "line": {
          "color": "rgba(255,255,255,0)"
         },
         "marker": {
          "color": "#00cc96"
         },
         "name": "sub-089207_acq-headmotion1_T1w",
         "offsetgroup": "sub-089207_acq-headmotion1_T1w",
         "orientation": "v",
         "pointpos": 0,
         "showlegend": true,
         "type": "box",
         "x": [
          2
         ],
         "x0": " ",
         "xaxis": "x",
         "y": [
          2
         ],
         "y0": " ",
         "yaxis": "y"
        },
        {
         "alignmentgroup": "True",
         "boxpoints": "all",
         "fillcolor": "rgba(255,255,255,0)",
         "hoveron": "points",
         "hovertemplate": "bids_name=sub-089207_acq-headmotion2_T1w<br>condition=%{x}<br>score=%{y}<extra></extra>",
         "legendgroup": "sub-089207_acq-headmotion2_T1w",
         "line": {
          "color": "rgba(255,255,255,0)"
         },
         "marker": {
          "color": "#ab63fa"
         },
         "name": "sub-089207_acq-headmotion2_T1w",
         "offsetgroup": "sub-089207_acq-headmotion2_T1w",
         "orientation": "v",
         "pointpos": 0,
         "showlegend": true,
         "type": "box",
         "x": [
          3
         ],
         "x0": " ",
         "xaxis": "x",
         "y": [
          2
         ],
         "y0": " ",
         "yaxis": "y"
        },
        {
         "alignmentgroup": "True",
         "boxpoints": "all",
         "fillcolor": "rgba(255,255,255,0)",
         "hoveron": "points",
         "hovertemplate": "bids_name=sub-089207_acq-standard_T1w<br>condition=%{x}<br>score=%{y}<extra></extra>",
         "legendgroup": "sub-089207_acq-standard_T1w",
         "line": {
          "color": "rgba(255,255,255,0)"
         },
         "marker": {
          "color": "#FFA15A"
         },
         "name": "sub-089207_acq-standard_T1w",
         "offsetgroup": "sub-089207_acq-standard_T1w",
         "orientation": "v",
         "pointpos": 0,
         "showlegend": true,
         "type": "box",
         "x": [
          1
         ],
         "x0": " ",
         "xaxis": "x",
         "y": [
          1
         ],
         "y0": " ",
         "yaxis": "y"
        },
        {
         "alignmentgroup": "True",
         "boxpoints": "all",
         "fillcolor": "rgba(255,255,255,0)",
         "hoveron": "points",
         "hovertemplate": "bids_name=sub-105822_acq-headmotion2_T1w<br>condition=%{x}<br>score=%{y}<extra></extra>",
         "legendgroup": "sub-105822_acq-headmotion2_T1w",
         "line": {
          "color": "rgba(255,255,255,0)"
         },
         "marker": {
          "color": "#19d3f3"
         },
         "name": "sub-105822_acq-headmotion2_T1w",
         "offsetgroup": "sub-105822_acq-headmotion2_T1w",
         "orientation": "v",
         "pointpos": 0,
         "showlegend": true,
         "type": "box",
         "x": [
          3
         ],
         "x0": " ",
         "xaxis": "x",
         "y": [
          3
         ],
         "y0": " ",
         "yaxis": "y"
        },
        {
         "alignmentgroup": "True",
         "boxpoints": "all",
         "fillcolor": "rgba(255,255,255,0)",
         "hoveron": "points",
         "hovertemplate": "bids_name=sub-105822_acq-standard_T1w<br>condition=%{x}<br>score=%{y}<extra></extra>",
         "legendgroup": "sub-105822_acq-standard_T1w",
         "line": {
          "color": "rgba(255,255,255,0)"
         },
         "marker": {
          "color": "#FF6692"
         },
         "name": "sub-105822_acq-standard_T1w",
         "offsetgroup": "sub-105822_acq-standard_T1w",
         "orientation": "v",
         "pointpos": 0,
         "showlegend": true,
         "type": "box",
         "x": [
          1
         ],
         "x0": " ",
         "xaxis": "x",
         "y": [
          1
         ],
         "y0": " ",
         "yaxis": "y"
        },
        {
         "alignmentgroup": "True",
         "boxpoints": "all",
         "fillcolor": "rgba(255,255,255,0)",
         "hoveron": "points",
         "hovertemplate": "bids_name=sub-107738_acq-headmotion1_T1w<br>condition=%{x}<br>score=%{y}<extra></extra>",
         "legendgroup": "sub-107738_acq-headmotion1_T1w",
         "line": {
          "color": "rgba(255,255,255,0)"
         },
         "marker": {
          "color": "#B6E880"
         },
         "name": "sub-107738_acq-headmotion1_T1w",
         "offsetgroup": "sub-107738_acq-headmotion1_T1w",
         "orientation": "v",
         "pointpos": 0,
         "showlegend": true,
         "type": "box",
         "x": [
          2
         ],
         "x0": " ",
         "xaxis": "x",
         "y": [
          3
         ],
         "y0": " ",
         "yaxis": "y"
        },
        {
         "alignmentgroup": "True",
         "boxpoints": "all",
         "fillcolor": "rgba(255,255,255,0)",
         "hoveron": "points",
         "hovertemplate": "bids_name=sub-107738_acq-headmotion2_T1w<br>condition=%{x}<br>score=%{y}<extra></extra>",
         "legendgroup": "sub-107738_acq-headmotion2_T1w",
         "line": {
          "color": "rgba(255,255,255,0)"
         },
         "marker": {
          "color": "#FF97FF"
         },
         "name": "sub-107738_acq-headmotion2_T1w",
         "offsetgroup": "sub-107738_acq-headmotion2_T1w",
         "orientation": "v",
         "pointpos": 0,
         "showlegend": true,
         "type": "box",
         "x": [
          3
         ],
         "x0": " ",
         "xaxis": "x",
         "y": [
          3
         ],
         "y0": " ",
         "yaxis": "y"
        },
        {
         "alignmentgroup": "True",
         "boxpoints": "all",
         "fillcolor": "rgba(255,255,255,0)",
         "hoveron": "points",
         "hovertemplate": "bids_name=sub-107738_acq-standard_T1w<br>condition=%{x}<br>score=%{y}<extra></extra>",
         "legendgroup": "sub-107738_acq-standard_T1w",
         "line": {
          "color": "rgba(255,255,255,0)"
         },
         "marker": {
          "color": "#FECB52"
         },
         "name": "sub-107738_acq-standard_T1w",
         "offsetgroup": "sub-107738_acq-standard_T1w",
         "orientation": "v",
         "pointpos": 0,
         "showlegend": true,
         "type": "box",
         "x": [
          1
         ],
         "x0": " ",
         "xaxis": "x",
         "y": [
          1
         ],
         "y0": " ",
         "yaxis": "y"
        },
        {
         "alignmentgroup": "True",
         "boxpoints": "all",
         "fillcolor": "rgba(255,255,255,0)",
         "hoveron": "points",
         "hovertemplate": "bids_name=sub-108142_acq-headmotion1_T1w<br>condition=%{x}<br>score=%{y}<extra></extra>",
         "legendgroup": "sub-108142_acq-headmotion1_T1w",
         "line": {
          "color": "rgba(255,255,255,0)"
         },
         "marker": {
          "color": "#636efa"
         },
         "name": "sub-108142_acq-headmotion1_T1w",
         "offsetgroup": "sub-108142_acq-headmotion1_T1w",
         "orientation": "v",
         "pointpos": 0,
         "showlegend": true,
         "type": "box",
         "x": [
          2
         ],
         "x0": " ",
         "xaxis": "x",
         "y": [
          1
         ],
         "y0": " ",
         "yaxis": "y"
        },
        {
         "alignmentgroup": "True",
         "boxpoints": "all",
         "fillcolor": "rgba(255,255,255,0)",
         "hoveron": "points",
         "hovertemplate": "bids_name=sub-108142_acq-headmotion2_T1w<br>condition=%{x}<br>score=%{y}<extra></extra>",
         "legendgroup": "sub-108142_acq-headmotion2_T1w",
         "line": {
          "color": "rgba(255,255,255,0)"
         },
         "marker": {
          "color": "#EF553B"
         },
         "name": "sub-108142_acq-headmotion2_T1w",
         "offsetgroup": "sub-108142_acq-headmotion2_T1w",
         "orientation": "v",
         "pointpos": 0,
         "showlegend": true,
         "type": "box",
         "x": [
          3
         ],
         "x0": " ",
         "xaxis": "x",
         "y": [
          3
         ],
         "y0": " ",
         "yaxis": "y"
        },
        {
         "alignmentgroup": "True",
         "boxpoints": "all",
         "fillcolor": "rgba(255,255,255,0)",
         "hoveron": "points",
         "hovertemplate": "bids_name=sub-108142_acq-standard_T1w<br>condition=%{x}<br>score=%{y}<extra></extra>",
         "legendgroup": "sub-108142_acq-standard_T1w",
         "line": {
          "color": "rgba(255,255,255,0)"
         },
         "marker": {
          "color": "#00cc96"
         },
         "name": "sub-108142_acq-standard_T1w",
         "offsetgroup": "sub-108142_acq-standard_T1w",
         "orientation": "v",
         "pointpos": 0,
         "showlegend": true,
         "type": "box",
         "x": [
          1
         ],
         "x0": " ",
         "xaxis": "x",
         "y": [
          1
         ],
         "y0": " ",
         "yaxis": "y"
        },
        {
         "alignmentgroup": "True",
         "boxpoints": "all",
         "fillcolor": "rgba(255,255,255,0)",
         "hoveron": "points",
         "hovertemplate": "bids_name=sub-118003_acq-headmotion1_T1w<br>condition=%{x}<br>score=%{y}<extra></extra>",
         "legendgroup": "sub-118003_acq-headmotion1_T1w",
         "line": {
          "color": "rgba(255,255,255,0)"
         },
         "marker": {
          "color": "#ab63fa"
         },
         "name": "sub-118003_acq-headmotion1_T1w",
         "offsetgroup": "sub-118003_acq-headmotion1_T1w",
         "orientation": "v",
         "pointpos": 0,
         "showlegend": true,
         "type": "box",
         "x": [
          2
         ],
         "x0": " ",
         "xaxis": "x",
         "y": [
          3
         ],
         "y0": " ",
         "yaxis": "y"
        },
        {
         "alignmentgroup": "True",
         "boxpoints": "all",
         "fillcolor": "rgba(255,255,255,0)",
         "hoveron": "points",
         "hovertemplate": "bids_name=sub-118003_acq-headmotion2_T1w<br>condition=%{x}<br>score=%{y}<extra></extra>",
         "legendgroup": "sub-118003_acq-headmotion2_T1w",
         "line": {
          "color": "rgba(255,255,255,0)"
         },
         "marker": {
          "color": "#FFA15A"
         },
         "name": "sub-118003_acq-headmotion2_T1w",
         "offsetgroup": "sub-118003_acq-headmotion2_T1w",
         "orientation": "v",
         "pointpos": 0,
         "showlegend": true,
         "type": "box",
         "x": [
          3
         ],
         "x0": " ",
         "xaxis": "x",
         "y": [
          3
         ],
         "y0": " ",
         "yaxis": "y"
        },
        {
         "alignmentgroup": "True",
         "boxpoints": "all",
         "fillcolor": "rgba(255,255,255,0)",
         "hoveron": "points",
         "hovertemplate": "bids_name=sub-118003_acq-standard_T1w<br>condition=%{x}<br>score=%{y}<extra></extra>",
         "legendgroup": "sub-118003_acq-standard_T1w",
         "line": {
          "color": "rgba(255,255,255,0)"
         },
         "marker": {
          "color": "#19d3f3"
         },
         "name": "sub-118003_acq-standard_T1w",
         "offsetgroup": "sub-118003_acq-standard_T1w",
         "orientation": "v",
         "pointpos": 0,
         "showlegend": true,
         "type": "box",
         "x": [
          1
         ],
         "x0": " ",
         "xaxis": "x",
         "y": [
          1
         ],
         "y0": " ",
         "yaxis": "y"
        },
        {
         "alignmentgroup": "True",
         "boxpoints": "all",
         "fillcolor": "rgba(255,255,255,0)",
         "hoveron": "points",
         "hovertemplate": "bids_name=sub-122916_acq-headmotion1_T1w<br>condition=%{x}<br>score=%{y}<extra></extra>",
         "legendgroup": "sub-122916_acq-headmotion1_T1w",
         "line": {
          "color": "rgba(255,255,255,0)"
         },
         "marker": {
          "color": "#FF6692"
         },
         "name": "sub-122916_acq-headmotion1_T1w",
         "offsetgroup": "sub-122916_acq-headmotion1_T1w",
         "orientation": "v",
         "pointpos": 0,
         "showlegend": true,
         "type": "box",
         "x": [
          2
         ],
         "x0": " ",
         "xaxis": "x",
         "y": [
          2
         ],
         "y0": " ",
         "yaxis": "y"
        },
        {
         "alignmentgroup": "True",
         "boxpoints": "all",
         "fillcolor": "rgba(255,255,255,0)",
         "hoveron": "points",
         "hovertemplate": "bids_name=sub-122916_acq-headmotion2_T1w<br>condition=%{x}<br>score=%{y}<extra></extra>",
         "legendgroup": "sub-122916_acq-headmotion2_T1w",
         "line": {
          "color": "rgba(255,255,255,0)"
         },
         "marker": {
          "color": "#B6E880"
         },
         "name": "sub-122916_acq-headmotion2_T1w",
         "offsetgroup": "sub-122916_acq-headmotion2_T1w",
         "orientation": "v",
         "pointpos": 0,
         "showlegend": true,
         "type": "box",
         "x": [
          3
         ],
         "x0": " ",
         "xaxis": "x",
         "y": [
          3
         ],
         "y0": " ",
         "yaxis": "y"
        },
        {
         "alignmentgroup": "True",
         "boxpoints": "all",
         "fillcolor": "rgba(255,255,255,0)",
         "hoveron": "points",
         "hovertemplate": "bids_name=sub-122916_acq-standard_T1w<br>condition=%{x}<br>score=%{y}<extra></extra>",
         "legendgroup": "sub-122916_acq-standard_T1w",
         "line": {
          "color": "rgba(255,255,255,0)"
         },
         "marker": {
          "color": "#FF97FF"
         },
         "name": "sub-122916_acq-standard_T1w",
         "offsetgroup": "sub-122916_acq-standard_T1w",
         "orientation": "v",
         "pointpos": 0,
         "showlegend": true,
         "type": "box",
         "x": [
          1
         ],
         "x0": " ",
         "xaxis": "x",
         "y": [
          1
         ],
         "y0": " ",
         "yaxis": "y"
        },
        {
         "alignmentgroup": "True",
         "boxpoints": "all",
         "fillcolor": "rgba(255,255,255,0)",
         "hoveron": "points",
         "hovertemplate": "bids_name=sub-125171_acq-headmotion1_T1w<br>condition=%{x}<br>score=%{y}<extra></extra>",
         "legendgroup": "sub-125171_acq-headmotion1_T1w",
         "line": {
          "color": "rgba(255,255,255,0)"
         },
         "marker": {
          "color": "#FECB52"
         },
         "name": "sub-125171_acq-headmotion1_T1w",
         "offsetgroup": "sub-125171_acq-headmotion1_T1w",
         "orientation": "v",
         "pointpos": 0,
         "showlegend": true,
         "type": "box",
         "x": [
          2
         ],
         "x0": " ",
         "xaxis": "x",
         "y": [
          3
         ],
         "y0": " ",
         "yaxis": "y"
        },
        {
         "alignmentgroup": "True",
         "boxpoints": "all",
         "fillcolor": "rgba(255,255,255,0)",
         "hoveron": "points",
         "hovertemplate": "bids_name=sub-125171_acq-headmotion2_T1w<br>condition=%{x}<br>score=%{y}<extra></extra>",
         "legendgroup": "sub-125171_acq-headmotion2_T1w",
         "line": {
          "color": "rgba(255,255,255,0)"
         },
         "marker": {
          "color": "#636efa"
         },
         "name": "sub-125171_acq-headmotion2_T1w",
         "offsetgroup": "sub-125171_acq-headmotion2_T1w",
         "orientation": "v",
         "pointpos": 0,
         "showlegend": true,
         "type": "box",
         "x": [
          3
         ],
         "x0": " ",
         "xaxis": "x",
         "y": [
          3
         ],
         "y0": " ",
         "yaxis": "y"
        },
        {
         "alignmentgroup": "True",
         "boxpoints": "all",
         "fillcolor": "rgba(255,255,255,0)",
         "hoveron": "points",
         "hovertemplate": "bids_name=sub-125171_acq-standard_T1w<br>condition=%{x}<br>score=%{y}<extra></extra>",
         "legendgroup": "sub-125171_acq-standard_T1w",
         "line": {
          "color": "rgba(255,255,255,0)"
         },
         "marker": {
          "color": "#EF553B"
         },
         "name": "sub-125171_acq-standard_T1w",
         "offsetgroup": "sub-125171_acq-standard_T1w",
         "orientation": "v",
         "pointpos": 0,
         "showlegend": true,
         "type": "box",
         "x": [
          1
         ],
         "x0": " ",
         "xaxis": "x",
         "y": [
          1
         ],
         "y0": " ",
         "yaxis": "y"
        },
        {
         "alignmentgroup": "True",
         "boxpoints": "all",
         "fillcolor": "rgba(255,255,255,0)",
         "hoveron": "points",
         "hovertemplate": "bids_name=sub-127867_acq-headmotion1_T1w<br>condition=%{x}<br>score=%{y}<extra></extra>",
         "legendgroup": "sub-127867_acq-headmotion1_T1w",
         "line": {
          "color": "rgba(255,255,255,0)"
         },
         "marker": {
          "color": "#00cc96"
         },
         "name": "sub-127867_acq-headmotion1_T1w",
         "offsetgroup": "sub-127867_acq-headmotion1_T1w",
         "orientation": "v",
         "pointpos": 0,
         "showlegend": true,
         "type": "box",
         "x": [
          2
         ],
         "x0": " ",
         "xaxis": "x",
         "y": [
          2
         ],
         "y0": " ",
         "yaxis": "y"
        },
        {
         "alignmentgroup": "True",
         "boxpoints": "all",
         "fillcolor": "rgba(255,255,255,0)",
         "hoveron": "points",
         "hovertemplate": "bids_name=sub-127867_acq-headmotion2_T1w<br>condition=%{x}<br>score=%{y}<extra></extra>",
         "legendgroup": "sub-127867_acq-headmotion2_T1w",
         "line": {
          "color": "rgba(255,255,255,0)"
         },
         "marker": {
          "color": "#ab63fa"
         },
         "name": "sub-127867_acq-headmotion2_T1w",
         "offsetgroup": "sub-127867_acq-headmotion2_T1w",
         "orientation": "v",
         "pointpos": 0,
         "showlegend": true,
         "type": "box",
         "x": [
          3
         ],
         "x0": " ",
         "xaxis": "x",
         "y": [
          2
         ],
         "y0": " ",
         "yaxis": "y"
        },
        {
         "alignmentgroup": "True",
         "boxpoints": "all",
         "fillcolor": "rgba(255,255,255,0)",
         "hoveron": "points",
         "hovertemplate": "bids_name=sub-127867_acq-standard_T1w<br>condition=%{x}<br>score=%{y}<extra></extra>",
         "legendgroup": "sub-127867_acq-standard_T1w",
         "line": {
          "color": "rgba(255,255,255,0)"
         },
         "marker": {
          "color": "#FFA15A"
         },
         "name": "sub-127867_acq-standard_T1w",
         "offsetgroup": "sub-127867_acq-standard_T1w",
         "orientation": "v",
         "pointpos": 0,
         "showlegend": true,
         "type": "box",
         "x": [
          1
         ],
         "x0": " ",
         "xaxis": "x",
         "y": [
          1
         ],
         "y0": " ",
         "yaxis": "y"
        },
        {
         "alignmentgroup": "True",
         "boxpoints": "all",
         "fillcolor": "rgba(255,255,255,0)",
         "hoveron": "points",
         "hovertemplate": "bids_name=sub-132674_acq-headmotion1_T1w<br>condition=%{x}<br>score=%{y}<extra></extra>",
         "legendgroup": "sub-132674_acq-headmotion1_T1w",
         "line": {
          "color": "rgba(255,255,255,0)"
         },
         "marker": {
          "color": "#19d3f3"
         },
         "name": "sub-132674_acq-headmotion1_T1w",
         "offsetgroup": "sub-132674_acq-headmotion1_T1w",
         "orientation": "v",
         "pointpos": 0,
         "showlegend": true,
         "type": "box",
         "x": [
          2
         ],
         "x0": " ",
         "xaxis": "x",
         "y": [
          1
         ],
         "y0": " ",
         "yaxis": "y"
        },
        {
         "alignmentgroup": "True",
         "boxpoints": "all",
         "fillcolor": "rgba(255,255,255,0)",
         "hoveron": "points",
         "hovertemplate": "bids_name=sub-132674_acq-headmotion2_T1w<br>condition=%{x}<br>score=%{y}<extra></extra>",
         "legendgroup": "sub-132674_acq-headmotion2_T1w",
         "line": {
          "color": "rgba(255,255,255,0)"
         },
         "marker": {
          "color": "#FF6692"
         },
         "name": "sub-132674_acq-headmotion2_T1w",
         "offsetgroup": "sub-132674_acq-headmotion2_T1w",
         "orientation": "v",
         "pointpos": 0,
         "showlegend": true,
         "type": "box",
         "x": [
          3
         ],
         "x0": " ",
         "xaxis": "x",
         "y": [
          3
         ],
         "y0": " ",
         "yaxis": "y"
        },
        {
         "alignmentgroup": "True",
         "boxpoints": "all",
         "fillcolor": "rgba(255,255,255,0)",
         "hoveron": "points",
         "hovertemplate": "bids_name=sub-132674_acq-standard_T1w<br>condition=%{x}<br>score=%{y}<extra></extra>",
         "legendgroup": "sub-132674_acq-standard_T1w",
         "line": {
          "color": "rgba(255,255,255,0)"
         },
         "marker": {
          "color": "#B6E880"
         },
         "name": "sub-132674_acq-standard_T1w",
         "offsetgroup": "sub-132674_acq-standard_T1w",
         "orientation": "v",
         "pointpos": 0,
         "showlegend": true,
         "type": "box",
         "x": [
          1
         ],
         "x0": " ",
         "xaxis": "x",
         "y": [
          1
         ],
         "y0": " ",
         "yaxis": "y"
        },
        {
         "alignmentgroup": "True",
         "boxpoints": "all",
         "fillcolor": "rgba(255,255,255,0)",
         "hoveron": "points",
         "hovertemplate": "bids_name=sub-136038_acq-headmotion1_T1w<br>condition=%{x}<br>score=%{y}<extra></extra>",
         "legendgroup": "sub-136038_acq-headmotion1_T1w",
         "line": {
          "color": "rgba(255,255,255,0)"
         },
         "marker": {
          "color": "#FF97FF"
         },
         "name": "sub-136038_acq-headmotion1_T1w",
         "offsetgroup": "sub-136038_acq-headmotion1_T1w",
         "orientation": "v",
         "pointpos": 0,
         "showlegend": true,
         "type": "box",
         "x": [
          2
         ],
         "x0": " ",
         "xaxis": "x",
         "y": [
          3
         ],
         "y0": " ",
         "yaxis": "y"
        },
        {
         "alignmentgroup": "True",
         "boxpoints": "all",
         "fillcolor": "rgba(255,255,255,0)",
         "hoveron": "points",
         "hovertemplate": "bids_name=sub-136038_acq-standard_T1w<br>condition=%{x}<br>score=%{y}<extra></extra>",
         "legendgroup": "sub-136038_acq-standard_T1w",
         "line": {
          "color": "rgba(255,255,255,0)"
         },
         "marker": {
          "color": "#FECB52"
         },
         "name": "sub-136038_acq-standard_T1w",
         "offsetgroup": "sub-136038_acq-standard_T1w",
         "orientation": "v",
         "pointpos": 0,
         "showlegend": true,
         "type": "box",
         "x": [
          1
         ],
         "x0": " ",
         "xaxis": "x",
         "y": [
          1
         ],
         "y0": " ",
         "yaxis": "y"
        },
        {
         "alignmentgroup": "True",
         "boxpoints": "all",
         "fillcolor": "rgba(255,255,255,0)",
         "hoveron": "points",
         "hovertemplate": "bids_name=sub-143104_acq-headmotion1_T1w<br>condition=%{x}<br>score=%{y}<extra></extra>",
         "legendgroup": "sub-143104_acq-headmotion1_T1w",
         "line": {
          "color": "rgba(255,255,255,0)"
         },
         "marker": {
          "color": "#636efa"
         },
         "name": "sub-143104_acq-headmotion1_T1w",
         "offsetgroup": "sub-143104_acq-headmotion1_T1w",
         "orientation": "v",
         "pointpos": 0,
         "showlegend": true,
         "type": "box",
         "x": [
          2
         ],
         "x0": " ",
         "xaxis": "x",
         "y": [
          3
         ],
         "y0": " ",
         "yaxis": "y"
        },
        {
         "alignmentgroup": "True",
         "boxpoints": "all",
         "fillcolor": "rgba(255,255,255,0)",
         "hoveron": "points",
         "hovertemplate": "bids_name=sub-143104_acq-headmotion2_T1w<br>condition=%{x}<br>score=%{y}<extra></extra>",
         "legendgroup": "sub-143104_acq-headmotion2_T1w",
         "line": {
          "color": "rgba(255,255,255,0)"
         },
         "marker": {
          "color": "#EF553B"
         },
         "name": "sub-143104_acq-headmotion2_T1w",
         "offsetgroup": "sub-143104_acq-headmotion2_T1w",
         "orientation": "v",
         "pointpos": 0,
         "showlegend": true,
         "type": "box",
         "x": [
          3
         ],
         "x0": " ",
         "xaxis": "x",
         "y": [
          3
         ],
         "y0": " ",
         "yaxis": "y"
        },
        {
         "alignmentgroup": "True",
         "boxpoints": "all",
         "fillcolor": "rgba(255,255,255,0)",
         "hoveron": "points",
         "hovertemplate": "bids_name=sub-143104_acq-standard_T1w<br>condition=%{x}<br>score=%{y}<extra></extra>",
         "legendgroup": "sub-143104_acq-standard_T1w",
         "line": {
          "color": "rgba(255,255,255,0)"
         },
         "marker": {
          "color": "#00cc96"
         },
         "name": "sub-143104_acq-standard_T1w",
         "offsetgroup": "sub-143104_acq-standard_T1w",
         "orientation": "v",
         "pointpos": 0,
         "showlegend": true,
         "type": "box",
         "x": [
          1
         ],
         "x0": " ",
         "xaxis": "x",
         "y": [
          1
         ],
         "y0": " ",
         "yaxis": "y"
        },
        {
         "alignmentgroup": "True",
         "boxpoints": "all",
         "fillcolor": "rgba(255,255,255,0)",
         "hoveron": "points",
         "hovertemplate": "bids_name=sub-149050_acq-headmotion1_T1w<br>condition=%{x}<br>score=%{y}<extra></extra>",
         "legendgroup": "sub-149050_acq-headmotion1_T1w",
         "line": {
          "color": "rgba(255,255,255,0)"
         },
         "marker": {
          "color": "#ab63fa"
         },
         "name": "sub-149050_acq-headmotion1_T1w",
         "offsetgroup": "sub-149050_acq-headmotion1_T1w",
         "orientation": "v",
         "pointpos": 0,
         "showlegend": true,
         "type": "box",
         "x": [
          2
         ],
         "x0": " ",
         "xaxis": "x",
         "y": [
          3
         ],
         "y0": " ",
         "yaxis": "y"
        },
        {
         "alignmentgroup": "True",
         "boxpoints": "all",
         "fillcolor": "rgba(255,255,255,0)",
         "hoveron": "points",
         "hovertemplate": "bids_name=sub-149050_acq-headmotion2_T1w<br>condition=%{x}<br>score=%{y}<extra></extra>",
         "legendgroup": "sub-149050_acq-headmotion2_T1w",
         "line": {
          "color": "rgba(255,255,255,0)"
         },
         "marker": {
          "color": "#FFA15A"
         },
         "name": "sub-149050_acq-headmotion2_T1w",
         "offsetgroup": "sub-149050_acq-headmotion2_T1w",
         "orientation": "v",
         "pointpos": 0,
         "showlegend": true,
         "type": "box",
         "x": [
          3
         ],
         "x0": " ",
         "xaxis": "x",
         "y": [
          3
         ],
         "y0": " ",
         "yaxis": "y"
        },
        {
         "alignmentgroup": "True",
         "boxpoints": "all",
         "fillcolor": "rgba(255,255,255,0)",
         "hoveron": "points",
         "hovertemplate": "bids_name=sub-149050_acq-standard_T1w<br>condition=%{x}<br>score=%{y}<extra></extra>",
         "legendgroup": "sub-149050_acq-standard_T1w",
         "line": {
          "color": "rgba(255,255,255,0)"
         },
         "marker": {
          "color": "#19d3f3"
         },
         "name": "sub-149050_acq-standard_T1w",
         "offsetgroup": "sub-149050_acq-standard_T1w",
         "orientation": "v",
         "pointpos": 0,
         "showlegend": true,
         "type": "box",
         "x": [
          1
         ],
         "x0": " ",
         "xaxis": "x",
         "y": [
          1
         ],
         "y0": " ",
         "yaxis": "y"
        },
        {
         "alignmentgroup": "True",
         "boxpoints": "all",
         "fillcolor": "rgba(255,255,255,0)",
         "hoveron": "points",
         "hovertemplate": "bids_name=sub-152686_acq-headmotion1_T1w<br>condition=%{x}<br>score=%{y}<extra></extra>",
         "legendgroup": "sub-152686_acq-headmotion1_T1w",
         "line": {
          "color": "rgba(255,255,255,0)"
         },
         "marker": {
          "color": "#FF6692"
         },
         "name": "sub-152686_acq-headmotion1_T1w",
         "offsetgroup": "sub-152686_acq-headmotion1_T1w",
         "orientation": "v",
         "pointpos": 0,
         "showlegend": true,
         "type": "box",
         "x": [
          2
         ],
         "x0": " ",
         "xaxis": "x",
         "y": [
          1
         ],
         "y0": " ",
         "yaxis": "y"
        },
        {
         "alignmentgroup": "True",
         "boxpoints": "all",
         "fillcolor": "rgba(255,255,255,0)",
         "hoveron": "points",
         "hovertemplate": "bids_name=sub-152686_acq-headmotion2_T1w<br>condition=%{x}<br>score=%{y}<extra></extra>",
         "legendgroup": "sub-152686_acq-headmotion2_T1w",
         "line": {
          "color": "rgba(255,255,255,0)"
         },
         "marker": {
          "color": "#B6E880"
         },
         "name": "sub-152686_acq-headmotion2_T1w",
         "offsetgroup": "sub-152686_acq-headmotion2_T1w",
         "orientation": "v",
         "pointpos": 0,
         "showlegend": true,
         "type": "box",
         "x": [
          3
         ],
         "x0": " ",
         "xaxis": "x",
         "y": [
          2
         ],
         "y0": " ",
         "yaxis": "y"
        },
        {
         "alignmentgroup": "True",
         "boxpoints": "all",
         "fillcolor": "rgba(255,255,255,0)",
         "hoveron": "points",
         "hovertemplate": "bids_name=sub-152686_acq-standard_T1w<br>condition=%{x}<br>score=%{y}<extra></extra>",
         "legendgroup": "sub-152686_acq-standard_T1w",
         "line": {
          "color": "rgba(255,255,255,0)"
         },
         "marker": {
          "color": "#FF97FF"
         },
         "name": "sub-152686_acq-standard_T1w",
         "offsetgroup": "sub-152686_acq-standard_T1w",
         "orientation": "v",
         "pointpos": 0,
         "showlegend": true,
         "type": "box",
         "x": [
          1
         ],
         "x0": " ",
         "xaxis": "x",
         "y": [
          1
         ],
         "y0": " ",
         "yaxis": "y"
        },
        {
         "alignmentgroup": "True",
         "boxpoints": "all",
         "fillcolor": "rgba(255,255,255,0)",
         "hoveron": "points",
         "hovertemplate": "bids_name=sub-153486_acq-headmotion1_T1w<br>condition=%{x}<br>score=%{y}<extra></extra>",
         "legendgroup": "sub-153486_acq-headmotion1_T1w",
         "line": {
          "color": "rgba(255,255,255,0)"
         },
         "marker": {
          "color": "#FECB52"
         },
         "name": "sub-153486_acq-headmotion1_T1w",
         "offsetgroup": "sub-153486_acq-headmotion1_T1w",
         "orientation": "v",
         "pointpos": 0,
         "showlegend": true,
         "type": "box",
         "x": [
          2
         ],
         "x0": " ",
         "xaxis": "x",
         "y": [
          3
         ],
         "y0": " ",
         "yaxis": "y"
        },
        {
         "alignmentgroup": "True",
         "boxpoints": "all",
         "fillcolor": "rgba(255,255,255,0)",
         "hoveron": "points",
         "hovertemplate": "bids_name=sub-153486_acq-headmotion2_T1w<br>condition=%{x}<br>score=%{y}<extra></extra>",
         "legendgroup": "sub-153486_acq-headmotion2_T1w",
         "line": {
          "color": "rgba(255,255,255,0)"
         },
         "marker": {
          "color": "#636efa"
         },
         "name": "sub-153486_acq-headmotion2_T1w",
         "offsetgroup": "sub-153486_acq-headmotion2_T1w",
         "orientation": "v",
         "pointpos": 0,
         "showlegend": true,
         "type": "box",
         "x": [
          3
         ],
         "x0": " ",
         "xaxis": "x",
         "y": [
          3
         ],
         "y0": " ",
         "yaxis": "y"
        },
        {
         "alignmentgroup": "True",
         "boxpoints": "all",
         "fillcolor": "rgba(255,255,255,0)",
         "hoveron": "points",
         "hovertemplate": "bids_name=sub-153486_acq-standard_T1w<br>condition=%{x}<br>score=%{y}<extra></extra>",
         "legendgroup": "sub-153486_acq-standard_T1w",
         "line": {
          "color": "rgba(255,255,255,0)"
         },
         "marker": {
          "color": "#EF553B"
         },
         "name": "sub-153486_acq-standard_T1w",
         "offsetgroup": "sub-153486_acq-standard_T1w",
         "orientation": "v",
         "pointpos": 0,
         "showlegend": true,
         "type": "box",
         "x": [
          1
         ],
         "x0": " ",
         "xaxis": "x",
         "y": [
          1
         ],
         "y0": " ",
         "yaxis": "y"
        },
        {
         "alignmentgroup": "True",
         "boxpoints": "all",
         "fillcolor": "rgba(255,255,255,0)",
         "hoveron": "points",
         "hovertemplate": "bids_name=sub-169618_acq-headmotion1_T1w<br>condition=%{x}<br>score=%{y}<extra></extra>",
         "legendgroup": "sub-169618_acq-headmotion1_T1w",
         "line": {
          "color": "rgba(255,255,255,0)"
         },
         "marker": {
          "color": "#00cc96"
         },
         "name": "sub-169618_acq-headmotion1_T1w",
         "offsetgroup": "sub-169618_acq-headmotion1_T1w",
         "orientation": "v",
         "pointpos": 0,
         "showlegend": true,
         "type": "box",
         "x": [
          2
         ],
         "x0": " ",
         "xaxis": "x",
         "y": [
          3
         ],
         "y0": " ",
         "yaxis": "y"
        },
        {
         "alignmentgroup": "True",
         "boxpoints": "all",
         "fillcolor": "rgba(255,255,255,0)",
         "hoveron": "points",
         "hovertemplate": "bids_name=sub-169618_acq-headmotion2_T1w<br>condition=%{x}<br>score=%{y}<extra></extra>",
         "legendgroup": "sub-169618_acq-headmotion2_T1w",
         "line": {
          "color": "rgba(255,255,255,0)"
         },
         "marker": {
          "color": "#ab63fa"
         },
         "name": "sub-169618_acq-headmotion2_T1w",
         "offsetgroup": "sub-169618_acq-headmotion2_T1w",
         "orientation": "v",
         "pointpos": 0,
         "showlegend": true,
         "type": "box",
         "x": [
          3
         ],
         "x0": " ",
         "xaxis": "x",
         "y": [
          3
         ],
         "y0": " ",
         "yaxis": "y"
        },
        {
         "alignmentgroup": "True",
         "boxpoints": "all",
         "fillcolor": "rgba(255,255,255,0)",
         "hoveron": "points",
         "hovertemplate": "bids_name=sub-169618_acq-standard_T1w<br>condition=%{x}<br>score=%{y}<extra></extra>",
         "legendgroup": "sub-169618_acq-standard_T1w",
         "line": {
          "color": "rgba(255,255,255,0)"
         },
         "marker": {
          "color": "#FFA15A"
         },
         "name": "sub-169618_acq-standard_T1w",
         "offsetgroup": "sub-169618_acq-standard_T1w",
         "orientation": "v",
         "pointpos": 0,
         "showlegend": true,
         "type": "box",
         "x": [
          1
         ],
         "x0": " ",
         "xaxis": "x",
         "y": [
          1
         ],
         "y0": " ",
         "yaxis": "y"
        },
        {
         "alignmentgroup": "True",
         "boxpoints": "all",
         "fillcolor": "rgba(255,255,255,0)",
         "hoveron": "points",
         "hovertemplate": "bids_name=sub-171967_acq-headmotion1_T1w<br>condition=%{x}<br>score=%{y}<extra></extra>",
         "legendgroup": "sub-171967_acq-headmotion1_T1w",
         "line": {
          "color": "rgba(255,255,255,0)"
         },
         "marker": {
          "color": "#19d3f3"
         },
         "name": "sub-171967_acq-headmotion1_T1w",
         "offsetgroup": "sub-171967_acq-headmotion1_T1w",
         "orientation": "v",
         "pointpos": 0,
         "showlegend": true,
         "type": "box",
         "x": [
          2
         ],
         "x0": " ",
         "xaxis": "x",
         "y": [
          3
         ],
         "y0": " ",
         "yaxis": "y"
        },
        {
         "alignmentgroup": "True",
         "boxpoints": "all",
         "fillcolor": "rgba(255,255,255,0)",
         "hoveron": "points",
         "hovertemplate": "bids_name=sub-171967_acq-headmotion2_T1w<br>condition=%{x}<br>score=%{y}<extra></extra>",
         "legendgroup": "sub-171967_acq-headmotion2_T1w",
         "line": {
          "color": "rgba(255,255,255,0)"
         },
         "marker": {
          "color": "#FF6692"
         },
         "name": "sub-171967_acq-headmotion2_T1w",
         "offsetgroup": "sub-171967_acq-headmotion2_T1w",
         "orientation": "v",
         "pointpos": 0,
         "showlegend": true,
         "type": "box",
         "x": [
          3
         ],
         "x0": " ",
         "xaxis": "x",
         "y": [
          3
         ],
         "y0": " ",
         "yaxis": "y"
        },
        {
         "alignmentgroup": "True",
         "boxpoints": "all",
         "fillcolor": "rgba(255,255,255,0)",
         "hoveron": "points",
         "hovertemplate": "bids_name=sub-171967_acq-standard_T1w<br>condition=%{x}<br>score=%{y}<extra></extra>",
         "legendgroup": "sub-171967_acq-standard_T1w",
         "line": {
          "color": "rgba(255,255,255,0)"
         },
         "marker": {
          "color": "#B6E880"
         },
         "name": "sub-171967_acq-standard_T1w",
         "offsetgroup": "sub-171967_acq-standard_T1w",
         "orientation": "v",
         "pointpos": 0,
         "showlegend": true,
         "type": "box",
         "x": [
          1
         ],
         "x0": " ",
         "xaxis": "x",
         "y": [
          2
         ],
         "y0": " ",
         "yaxis": "y"
        },
        {
         "alignmentgroup": "True",
         "boxpoints": "all",
         "fillcolor": "rgba(255,255,255,0)",
         "hoveron": "points",
         "hovertemplate": "bids_name=sub-177856_acq-headmotion1_T1w<br>condition=%{x}<br>score=%{y}<extra></extra>",
         "legendgroup": "sub-177856_acq-headmotion1_T1w",
         "line": {
          "color": "rgba(255,255,255,0)"
         },
         "marker": {
          "color": "#FF97FF"
         },
         "name": "sub-177856_acq-headmotion1_T1w",
         "offsetgroup": "sub-177856_acq-headmotion1_T1w",
         "orientation": "v",
         "pointpos": 0,
         "showlegend": true,
         "type": "box",
         "x": [
          2
         ],
         "x0": " ",
         "xaxis": "x",
         "y": [
          2
         ],
         "y0": " ",
         "yaxis": "y"
        },
        {
         "alignmentgroup": "True",
         "boxpoints": "all",
         "fillcolor": "rgba(255,255,255,0)",
         "hoveron": "points",
         "hovertemplate": "bids_name=sub-177856_acq-headmotion2_T1w<br>condition=%{x}<br>score=%{y}<extra></extra>",
         "legendgroup": "sub-177856_acq-headmotion2_T1w",
         "line": {
          "color": "rgba(255,255,255,0)"
         },
         "marker": {
          "color": "#FECB52"
         },
         "name": "sub-177856_acq-headmotion2_T1w",
         "offsetgroup": "sub-177856_acq-headmotion2_T1w",
         "orientation": "v",
         "pointpos": 0,
         "showlegend": true,
         "type": "box",
         "x": [
          3
         ],
         "x0": " ",
         "xaxis": "x",
         "y": [
          3
         ],
         "y0": " ",
         "yaxis": "y"
        },
        {
         "alignmentgroup": "True",
         "boxpoints": "all",
         "fillcolor": "rgba(255,255,255,0)",
         "hoveron": "points",
         "hovertemplate": "bids_name=sub-177856_acq-standard_T1w<br>condition=%{x}<br>score=%{y}<extra></extra>",
         "legendgroup": "sub-177856_acq-standard_T1w",
         "line": {
          "color": "rgba(255,255,255,0)"
         },
         "marker": {
          "color": "#636efa"
         },
         "name": "sub-177856_acq-standard_T1w",
         "offsetgroup": "sub-177856_acq-standard_T1w",
         "orientation": "v",
         "pointpos": 0,
         "showlegend": true,
         "type": "box",
         "x": [
          1
         ],
         "x0": " ",
         "xaxis": "x",
         "y": [
          1
         ],
         "y0": " ",
         "yaxis": "y"
        },
        {
         "alignmentgroup": "True",
         "boxpoints": "all",
         "fillcolor": "rgba(255,255,255,0)",
         "hoveron": "points",
         "hovertemplate": "bids_name=sub-182744_acq-headmotion1_T1w<br>condition=%{x}<br>score=%{y}<extra></extra>",
         "legendgroup": "sub-182744_acq-headmotion1_T1w",
         "line": {
          "color": "rgba(255,255,255,0)"
         },
         "marker": {
          "color": "#EF553B"
         },
         "name": "sub-182744_acq-headmotion1_T1w",
         "offsetgroup": "sub-182744_acq-headmotion1_T1w",
         "orientation": "v",
         "pointpos": 0,
         "showlegend": true,
         "type": "box",
         "x": [
          2
         ],
         "x0": " ",
         "xaxis": "x",
         "y": [
          3
         ],
         "y0": " ",
         "yaxis": "y"
        },
        {
         "alignmentgroup": "True",
         "boxpoints": "all",
         "fillcolor": "rgba(255,255,255,0)",
         "hoveron": "points",
         "hovertemplate": "bids_name=sub-182744_acq-headmotion2_T1w<br>condition=%{x}<br>score=%{y}<extra></extra>",
         "legendgroup": "sub-182744_acq-headmotion2_T1w",
         "line": {
          "color": "rgba(255,255,255,0)"
         },
         "marker": {
          "color": "#00cc96"
         },
         "name": "sub-182744_acq-headmotion2_T1w",
         "offsetgroup": "sub-182744_acq-headmotion2_T1w",
         "orientation": "v",
         "pointpos": 0,
         "showlegend": true,
         "type": "box",
         "x": [
          3
         ],
         "x0": " ",
         "xaxis": "x",
         "y": [
          3
         ],
         "y0": " ",
         "yaxis": "y"
        },
        {
         "alignmentgroup": "True",
         "boxpoints": "all",
         "fillcolor": "rgba(255,255,255,0)",
         "hoveron": "points",
         "hovertemplate": "bids_name=sub-182744_acq-standard_T1w<br>condition=%{x}<br>score=%{y}<extra></extra>",
         "legendgroup": "sub-182744_acq-standard_T1w",
         "line": {
          "color": "rgba(255,255,255,0)"
         },
         "marker": {
          "color": "#ab63fa"
         },
         "name": "sub-182744_acq-standard_T1w",
         "offsetgroup": "sub-182744_acq-standard_T1w",
         "orientation": "v",
         "pointpos": 0,
         "showlegend": true,
         "type": "box",
         "x": [
          1
         ],
         "x0": " ",
         "xaxis": "x",
         "y": [
          2
         ],
         "y0": " ",
         "yaxis": "y"
        },
        {
         "alignmentgroup": "True",
         "boxpoints": "all",
         "fillcolor": "rgba(255,255,255,0)",
         "hoveron": "points",
         "hovertemplate": "bids_name=sub-185823_acq-headmotion2_T1w<br>condition=%{x}<br>score=%{y}<extra></extra>",
         "legendgroup": "sub-185823_acq-headmotion2_T1w",
         "line": {
          "color": "rgba(255,255,255,0)"
         },
         "marker": {
          "color": "#FFA15A"
         },
         "name": "sub-185823_acq-headmotion2_T1w",
         "offsetgroup": "sub-185823_acq-headmotion2_T1w",
         "orientation": "v",
         "pointpos": 0,
         "showlegend": true,
         "type": "box",
         "x": [
          3
         ],
         "x0": " ",
         "xaxis": "x",
         "y": [
          3
         ],
         "y0": " ",
         "yaxis": "y"
        },
        {
         "alignmentgroup": "True",
         "boxpoints": "all",
         "fillcolor": "rgba(255,255,255,0)",
         "hoveron": "points",
         "hovertemplate": "bids_name=sub-185823_acq-standard_T1w<br>condition=%{x}<br>score=%{y}<extra></extra>",
         "legendgroup": "sub-185823_acq-standard_T1w",
         "line": {
          "color": "rgba(255,255,255,0)"
         },
         "marker": {
          "color": "#19d3f3"
         },
         "name": "sub-185823_acq-standard_T1w",
         "offsetgroup": "sub-185823_acq-standard_T1w",
         "orientation": "v",
         "pointpos": 0,
         "showlegend": true,
         "type": "box",
         "x": [
          1
         ],
         "x0": " ",
         "xaxis": "x",
         "y": [
          1
         ],
         "y0": " ",
         "yaxis": "y"
        },
        {
         "alignmentgroup": "True",
         "boxpoints": "all",
         "fillcolor": "rgba(255,255,255,0)",
         "hoveron": "points",
         "hovertemplate": "bids_name=sub-195765_acq-headmotion1_T1w<br>condition=%{x}<br>score=%{y}<extra></extra>",
         "legendgroup": "sub-195765_acq-headmotion1_T1w",
         "line": {
          "color": "rgba(255,255,255,0)"
         },
         "marker": {
          "color": "#FF6692"
         },
         "name": "sub-195765_acq-headmotion1_T1w",
         "offsetgroup": "sub-195765_acq-headmotion1_T1w",
         "orientation": "v",
         "pointpos": 0,
         "showlegend": true,
         "type": "box",
         "x": [
          2
         ],
         "x0": " ",
         "xaxis": "x",
         "y": [
          3
         ],
         "y0": " ",
         "yaxis": "y"
        },
        {
         "alignmentgroup": "True",
         "boxpoints": "all",
         "fillcolor": "rgba(255,255,255,0)",
         "hoveron": "points",
         "hovertemplate": "bids_name=sub-195765_acq-headmotion2_T1w<br>condition=%{x}<br>score=%{y}<extra></extra>",
         "legendgroup": "sub-195765_acq-headmotion2_T1w",
         "line": {
          "color": "rgba(255,255,255,0)"
         },
         "marker": {
          "color": "#B6E880"
         },
         "name": "sub-195765_acq-headmotion2_T1w",
         "offsetgroup": "sub-195765_acq-headmotion2_T1w",
         "orientation": "v",
         "pointpos": 0,
         "showlegend": true,
         "type": "box",
         "x": [
          3
         ],
         "x0": " ",
         "xaxis": "x",
         "y": [
          3
         ],
         "y0": " ",
         "yaxis": "y"
        },
        {
         "alignmentgroup": "True",
         "boxpoints": "all",
         "fillcolor": "rgba(255,255,255,0)",
         "hoveron": "points",
         "hovertemplate": "bids_name=sub-195765_acq-standard_T1w<br>condition=%{x}<br>score=%{y}<extra></extra>",
         "legendgroup": "sub-195765_acq-standard_T1w",
         "line": {
          "color": "rgba(255,255,255,0)"
         },
         "marker": {
          "color": "#FF97FF"
         },
         "name": "sub-195765_acq-standard_T1w",
         "offsetgroup": "sub-195765_acq-standard_T1w",
         "orientation": "v",
         "pointpos": 0,
         "showlegend": true,
         "type": "box",
         "x": [
          1
         ],
         "x0": " ",
         "xaxis": "x",
         "y": [
          1
         ],
         "y0": " ",
         "yaxis": "y"
        },
        {
         "alignmentgroup": "True",
         "boxpoints": "all",
         "fillcolor": "rgba(255,255,255,0)",
         "hoveron": "points",
         "hovertemplate": "bids_name=sub-196711_acq-headmotion1_T1w<br>condition=%{x}<br>score=%{y}<extra></extra>",
         "legendgroup": "sub-196711_acq-headmotion1_T1w",
         "line": {
          "color": "rgba(255,255,255,0)"
         },
         "marker": {
          "color": "#FECB52"
         },
         "name": "sub-196711_acq-headmotion1_T1w",
         "offsetgroup": "sub-196711_acq-headmotion1_T1w",
         "orientation": "v",
         "pointpos": 0,
         "showlegend": true,
         "type": "box",
         "x": [
          2
         ],
         "x0": " ",
         "xaxis": "x",
         "y": [
          2
         ],
         "y0": " ",
         "yaxis": "y"
        },
        {
         "alignmentgroup": "True",
         "boxpoints": "all",
         "fillcolor": "rgba(255,255,255,0)",
         "hoveron": "points",
         "hovertemplate": "bids_name=sub-196711_acq-headmotion2_T1w<br>condition=%{x}<br>score=%{y}<extra></extra>",
         "legendgroup": "sub-196711_acq-headmotion2_T1w",
         "line": {
          "color": "rgba(255,255,255,0)"
         },
         "marker": {
          "color": "#636efa"
         },
         "name": "sub-196711_acq-headmotion2_T1w",
         "offsetgroup": "sub-196711_acq-headmotion2_T1w",
         "orientation": "v",
         "pointpos": 0,
         "showlegend": true,
         "type": "box",
         "x": [
          3
         ],
         "x0": " ",
         "xaxis": "x",
         "y": [
          3
         ],
         "y0": " ",
         "yaxis": "y"
        },
        {
         "alignmentgroup": "True",
         "boxpoints": "all",
         "fillcolor": "rgba(255,255,255,0)",
         "hoveron": "points",
         "hovertemplate": "bids_name=sub-196711_acq-standard_T1w<br>condition=%{x}<br>score=%{y}<extra></extra>",
         "legendgroup": "sub-196711_acq-standard_T1w",
         "line": {
          "color": "rgba(255,255,255,0)"
         },
         "marker": {
          "color": "#EF553B"
         },
         "name": "sub-196711_acq-standard_T1w",
         "offsetgroup": "sub-196711_acq-standard_T1w",
         "orientation": "v",
         "pointpos": 0,
         "showlegend": true,
         "type": "box",
         "x": [
          1
         ],
         "x0": " ",
         "xaxis": "x",
         "y": [
          1
         ],
         "y0": " ",
         "yaxis": "y"
        },
        {
         "alignmentgroup": "True",
         "boxpoints": "all",
         "fillcolor": "rgba(255,255,255,0)",
         "hoveron": "points",
         "hovertemplate": "bids_name=sub-212152_acq-headmotion1_T1w<br>condition=%{x}<br>score=%{y}<extra></extra>",
         "legendgroup": "sub-212152_acq-headmotion1_T1w",
         "line": {
          "color": "rgba(255,255,255,0)"
         },
         "marker": {
          "color": "#00cc96"
         },
         "name": "sub-212152_acq-headmotion1_T1w",
         "offsetgroup": "sub-212152_acq-headmotion1_T1w",
         "orientation": "v",
         "pointpos": 0,
         "showlegend": true,
         "type": "box",
         "x": [
          2
         ],
         "x0": " ",
         "xaxis": "x",
         "y": [
          3
         ],
         "y0": " ",
         "yaxis": "y"
        },
        {
         "alignmentgroup": "True",
         "boxpoints": "all",
         "fillcolor": "rgba(255,255,255,0)",
         "hoveron": "points",
         "hovertemplate": "bids_name=sub-212152_acq-headmotion2_T1w<br>condition=%{x}<br>score=%{y}<extra></extra>",
         "legendgroup": "sub-212152_acq-headmotion2_T1w",
         "line": {
          "color": "rgba(255,255,255,0)"
         },
         "marker": {
          "color": "#ab63fa"
         },
         "name": "sub-212152_acq-headmotion2_T1w",
         "offsetgroup": "sub-212152_acq-headmotion2_T1w",
         "orientation": "v",
         "pointpos": 0,
         "showlegend": true,
         "type": "box",
         "x": [
          3
         ],
         "x0": " ",
         "xaxis": "x",
         "y": [
          3
         ],
         "y0": " ",
         "yaxis": "y"
        },
        {
         "alignmentgroup": "True",
         "boxpoints": "all",
         "fillcolor": "rgba(255,255,255,0)",
         "hoveron": "points",
         "hovertemplate": "bids_name=sub-212152_acq-standard_T1w<br>condition=%{x}<br>score=%{y}<extra></extra>",
         "legendgroup": "sub-212152_acq-standard_T1w",
         "line": {
          "color": "rgba(255,255,255,0)"
         },
         "marker": {
          "color": "#FFA15A"
         },
         "name": "sub-212152_acq-standard_T1w",
         "offsetgroup": "sub-212152_acq-standard_T1w",
         "orientation": "v",
         "pointpos": 0,
         "showlegend": true,
         "type": "box",
         "x": [
          1
         ],
         "x0": " ",
         "xaxis": "x",
         "y": [
          1
         ],
         "y0": " ",
         "yaxis": "y"
        },
        {
         "alignmentgroup": "True",
         "boxpoints": "all",
         "fillcolor": "rgba(255,255,255,0)",
         "hoveron": "points",
         "hovertemplate": "bids_name=sub-217720_acq-headmotion1_T1w<br>condition=%{x}<br>score=%{y}<extra></extra>",
         "legendgroup": "sub-217720_acq-headmotion1_T1w",
         "line": {
          "color": "rgba(255,255,255,0)"
         },
         "marker": {
          "color": "#19d3f3"
         },
         "name": "sub-217720_acq-headmotion1_T1w",
         "offsetgroup": "sub-217720_acq-headmotion1_T1w",
         "orientation": "v",
         "pointpos": 0,
         "showlegend": true,
         "type": "box",
         "x": [
          2
         ],
         "x0": " ",
         "xaxis": "x",
         "y": [
          2
         ],
         "y0": " ",
         "yaxis": "y"
        },
        {
         "alignmentgroup": "True",
         "boxpoints": "all",
         "fillcolor": "rgba(255,255,255,0)",
         "hoveron": "points",
         "hovertemplate": "bids_name=sub-217720_acq-headmotion2_T1w<br>condition=%{x}<br>score=%{y}<extra></extra>",
         "legendgroup": "sub-217720_acq-headmotion2_T1w",
         "line": {
          "color": "rgba(255,255,255,0)"
         },
         "marker": {
          "color": "#FF6692"
         },
         "name": "sub-217720_acq-headmotion2_T1w",
         "offsetgroup": "sub-217720_acq-headmotion2_T1w",
         "orientation": "v",
         "pointpos": 0,
         "showlegend": true,
         "type": "box",
         "x": [
          3
         ],
         "x0": " ",
         "xaxis": "x",
         "y": [
          2
         ],
         "y0": " ",
         "yaxis": "y"
        },
        {
         "alignmentgroup": "True",
         "boxpoints": "all",
         "fillcolor": "rgba(255,255,255,0)",
         "hoveron": "points",
         "hovertemplate": "bids_name=sub-217720_acq-standard_T1w<br>condition=%{x}<br>score=%{y}<extra></extra>",
         "legendgroup": "sub-217720_acq-standard_T1w",
         "line": {
          "color": "rgba(255,255,255,0)"
         },
         "marker": {
          "color": "#B6E880"
         },
         "name": "sub-217720_acq-standard_T1w",
         "offsetgroup": "sub-217720_acq-standard_T1w",
         "orientation": "v",
         "pointpos": 0,
         "showlegend": true,
         "type": "box",
         "x": [
          1
         ],
         "x0": " ",
         "xaxis": "x",
         "y": [
          1
         ],
         "y0": " ",
         "yaxis": "y"
        },
        {
         "alignmentgroup": "True",
         "boxpoints": "all",
         "fillcolor": "rgba(255,255,255,0)",
         "hoveron": "points",
         "hovertemplate": "bids_name=sub-219843_acq-headmotion1_T1w<br>condition=%{x}<br>score=%{y}<extra></extra>",
         "legendgroup": "sub-219843_acq-headmotion1_T1w",
         "line": {
          "color": "rgba(255,255,255,0)"
         },
         "marker": {
          "color": "#FF97FF"
         },
         "name": "sub-219843_acq-headmotion1_T1w",
         "offsetgroup": "sub-219843_acq-headmotion1_T1w",
         "orientation": "v",
         "pointpos": 0,
         "showlegend": true,
         "type": "box",
         "x": [
          2
         ],
         "x0": " ",
         "xaxis": "x",
         "y": [
          2
         ],
         "y0": " ",
         "yaxis": "y"
        },
        {
         "alignmentgroup": "True",
         "boxpoints": "all",
         "fillcolor": "rgba(255,255,255,0)",
         "hoveron": "points",
         "hovertemplate": "bids_name=sub-219843_acq-headmotion2_T1w<br>condition=%{x}<br>score=%{y}<extra></extra>",
         "legendgroup": "sub-219843_acq-headmotion2_T1w",
         "line": {
          "color": "rgba(255,255,255,0)"
         },
         "marker": {
          "color": "#FECB52"
         },
         "name": "sub-219843_acq-headmotion2_T1w",
         "offsetgroup": "sub-219843_acq-headmotion2_T1w",
         "orientation": "v",
         "pointpos": 0,
         "showlegend": true,
         "type": "box",
         "x": [
          3
         ],
         "x0": " ",
         "xaxis": "x",
         "y": [
          3
         ],
         "y0": " ",
         "yaxis": "y"
        },
        {
         "alignmentgroup": "True",
         "boxpoints": "all",
         "fillcolor": "rgba(255,255,255,0)",
         "hoveron": "points",
         "hovertemplate": "bids_name=sub-219843_acq-standard_T1w<br>condition=%{x}<br>score=%{y}<extra></extra>",
         "legendgroup": "sub-219843_acq-standard_T1w",
         "line": {
          "color": "rgba(255,255,255,0)"
         },
         "marker": {
          "color": "#636efa"
         },
         "name": "sub-219843_acq-standard_T1w",
         "offsetgroup": "sub-219843_acq-standard_T1w",
         "orientation": "v",
         "pointpos": 0,
         "showlegend": true,
         "type": "box",
         "x": [
          1
         ],
         "x0": " ",
         "xaxis": "x",
         "y": [
          1
         ],
         "y0": " ",
         "yaxis": "y"
        },
        {
         "alignmentgroup": "True",
         "boxpoints": "all",
         "fillcolor": "rgba(255,255,255,0)",
         "hoveron": "points",
         "hovertemplate": "bids_name=sub-228373_acq-headmotion1_T1w<br>condition=%{x}<br>score=%{y}<extra></extra>",
         "legendgroup": "sub-228373_acq-headmotion1_T1w",
         "line": {
          "color": "rgba(255,255,255,0)"
         },
         "marker": {
          "color": "#EF553B"
         },
         "name": "sub-228373_acq-headmotion1_T1w",
         "offsetgroup": "sub-228373_acq-headmotion1_T1w",
         "orientation": "v",
         "pointpos": 0,
         "showlegend": true,
         "type": "box",
         "x": [
          2
         ],
         "x0": " ",
         "xaxis": "x",
         "y": [
          3
         ],
         "y0": " ",
         "yaxis": "y"
        },
        {
         "alignmentgroup": "True",
         "boxpoints": "all",
         "fillcolor": "rgba(255,255,255,0)",
         "hoveron": "points",
         "hovertemplate": "bids_name=sub-228373_acq-headmotion2_T1w<br>condition=%{x}<br>score=%{y}<extra></extra>",
         "legendgroup": "sub-228373_acq-headmotion2_T1w",
         "line": {
          "color": "rgba(255,255,255,0)"
         },
         "marker": {
          "color": "#00cc96"
         },
         "name": "sub-228373_acq-headmotion2_T1w",
         "offsetgroup": "sub-228373_acq-headmotion2_T1w",
         "orientation": "v",
         "pointpos": 0,
         "showlegend": true,
         "type": "box",
         "x": [
          3
         ],
         "x0": " ",
         "xaxis": "x",
         "y": [
          3
         ],
         "y0": " ",
         "yaxis": "y"
        },
        {
         "alignmentgroup": "True",
         "boxpoints": "all",
         "fillcolor": "rgba(255,255,255,0)",
         "hoveron": "points",
         "hovertemplate": "bids_name=sub-228373_acq-standard_T1w<br>condition=%{x}<br>score=%{y}<extra></extra>",
         "legendgroup": "sub-228373_acq-standard_T1w",
         "line": {
          "color": "rgba(255,255,255,0)"
         },
         "marker": {
          "color": "#ab63fa"
         },
         "name": "sub-228373_acq-standard_T1w",
         "offsetgroup": "sub-228373_acq-standard_T1w",
         "orientation": "v",
         "pointpos": 0,
         "showlegend": true,
         "type": "box",
         "x": [
          1
         ],
         "x0": " ",
         "xaxis": "x",
         "y": [
          1
         ],
         "y0": " ",
         "yaxis": "y"
        },
        {
         "alignmentgroup": "True",
         "boxpoints": "all",
         "fillcolor": "rgba(255,255,255,0)",
         "hoveron": "points",
         "hovertemplate": "bids_name=sub-253306_acq-headmotion1_T1w<br>condition=%{x}<br>score=%{y}<extra></extra>",
         "legendgroup": "sub-253306_acq-headmotion1_T1w",
         "line": {
          "color": "rgba(255,255,255,0)"
         },
         "marker": {
          "color": "#FFA15A"
         },
         "name": "sub-253306_acq-headmotion1_T1w",
         "offsetgroup": "sub-253306_acq-headmotion1_T1w",
         "orientation": "v",
         "pointpos": 0,
         "showlegend": true,
         "type": "box",
         "x": [
          2
         ],
         "x0": " ",
         "xaxis": "x",
         "y": [
          2
         ],
         "y0": " ",
         "yaxis": "y"
        },
        {
         "alignmentgroup": "True",
         "boxpoints": "all",
         "fillcolor": "rgba(255,255,255,0)",
         "hoveron": "points",
         "hovertemplate": "bids_name=sub-253306_acq-headmotion2_T1w<br>condition=%{x}<br>score=%{y}<extra></extra>",
         "legendgroup": "sub-253306_acq-headmotion2_T1w",
         "line": {
          "color": "rgba(255,255,255,0)"
         },
         "marker": {
          "color": "#19d3f3"
         },
         "name": "sub-253306_acq-headmotion2_T1w",
         "offsetgroup": "sub-253306_acq-headmotion2_T1w",
         "orientation": "v",
         "pointpos": 0,
         "showlegend": true,
         "type": "box",
         "x": [
          3
         ],
         "x0": " ",
         "xaxis": "x",
         "y": [
          3
         ],
         "y0": " ",
         "yaxis": "y"
        },
        {
         "alignmentgroup": "True",
         "boxpoints": "all",
         "fillcolor": "rgba(255,255,255,0)",
         "hoveron": "points",
         "hovertemplate": "bids_name=sub-253306_acq-standard_T1w<br>condition=%{x}<br>score=%{y}<extra></extra>",
         "legendgroup": "sub-253306_acq-standard_T1w",
         "line": {
          "color": "rgba(255,255,255,0)"
         },
         "marker": {
          "color": "#FF6692"
         },
         "name": "sub-253306_acq-standard_T1w",
         "offsetgroup": "sub-253306_acq-standard_T1w",
         "orientation": "v",
         "pointpos": 0,
         "showlegend": true,
         "type": "box",
         "x": [
          1
         ],
         "x0": " ",
         "xaxis": "x",
         "y": [
          1
         ],
         "y0": " ",
         "yaxis": "y"
        },
        {
         "alignmentgroup": "True",
         "boxpoints": "all",
         "fillcolor": "rgba(255,255,255,0)",
         "hoveron": "points",
         "hovertemplate": "bids_name=sub-253493_acq-headmotion1_T1w<br>condition=%{x}<br>score=%{y}<extra></extra>",
         "legendgroup": "sub-253493_acq-headmotion1_T1w",
         "line": {
          "color": "rgba(255,255,255,0)"
         },
         "marker": {
          "color": "#B6E880"
         },
         "name": "sub-253493_acq-headmotion1_T1w",
         "offsetgroup": "sub-253493_acq-headmotion1_T1w",
         "orientation": "v",
         "pointpos": 0,
         "showlegend": true,
         "type": "box",
         "x": [
          2
         ],
         "x0": " ",
         "xaxis": "x",
         "y": [
          2
         ],
         "y0": " ",
         "yaxis": "y"
        },
        {
         "alignmentgroup": "True",
         "boxpoints": "all",
         "fillcolor": "rgba(255,255,255,0)",
         "hoveron": "points",
         "hovertemplate": "bids_name=sub-253493_acq-headmotion2_T1w<br>condition=%{x}<br>score=%{y}<extra></extra>",
         "legendgroup": "sub-253493_acq-headmotion2_T1w",
         "line": {
          "color": "rgba(255,255,255,0)"
         },
         "marker": {
          "color": "#FF97FF"
         },
         "name": "sub-253493_acq-headmotion2_T1w",
         "offsetgroup": "sub-253493_acq-headmotion2_T1w",
         "orientation": "v",
         "pointpos": 0,
         "showlegend": true,
         "type": "box",
         "x": [
          3
         ],
         "x0": " ",
         "xaxis": "x",
         "y": [
          1
         ],
         "y0": " ",
         "yaxis": "y"
        },
        {
         "alignmentgroup": "True",
         "boxpoints": "all",
         "fillcolor": "rgba(255,255,255,0)",
         "hoveron": "points",
         "hovertemplate": "bids_name=sub-253493_acq-standard_T1w<br>condition=%{x}<br>score=%{y}<extra></extra>",
         "legendgroup": "sub-253493_acq-standard_T1w",
         "line": {
          "color": "rgba(255,255,255,0)"
         },
         "marker": {
          "color": "#FECB52"
         },
         "name": "sub-253493_acq-standard_T1w",
         "offsetgroup": "sub-253493_acq-standard_T1w",
         "orientation": "v",
         "pointpos": 0,
         "showlegend": true,
         "type": "box",
         "x": [
          1
         ],
         "x0": " ",
         "xaxis": "x",
         "y": [
          1
         ],
         "y0": " ",
         "yaxis": "y"
        },
        {
         "alignmentgroup": "True",
         "boxpoints": "all",
         "fillcolor": "rgba(255,255,255,0)",
         "hoveron": "points",
         "hovertemplate": "bids_name=sub-257563_acq-headmotion1_T1w<br>condition=%{x}<br>score=%{y}<extra></extra>",
         "legendgroup": "sub-257563_acq-headmotion1_T1w",
         "line": {
          "color": "rgba(255,255,255,0)"
         },
         "marker": {
          "color": "#636efa"
         },
         "name": "sub-257563_acq-headmotion1_T1w",
         "offsetgroup": "sub-257563_acq-headmotion1_T1w",
         "orientation": "v",
         "pointpos": 0,
         "showlegend": true,
         "type": "box",
         "x": [
          2
         ],
         "x0": " ",
         "xaxis": "x",
         "y": [
          2
         ],
         "y0": " ",
         "yaxis": "y"
        },
        {
         "alignmentgroup": "True",
         "boxpoints": "all",
         "fillcolor": "rgba(255,255,255,0)",
         "hoveron": "points",
         "hovertemplate": "bids_name=sub-257563_acq-headmotion2_T1w<br>condition=%{x}<br>score=%{y}<extra></extra>",
         "legendgroup": "sub-257563_acq-headmotion2_T1w",
         "line": {
          "color": "rgba(255,255,255,0)"
         },
         "marker": {
          "color": "#EF553B"
         },
         "name": "sub-257563_acq-headmotion2_T1w",
         "offsetgroup": "sub-257563_acq-headmotion2_T1w",
         "orientation": "v",
         "pointpos": 0,
         "showlegend": true,
         "type": "box",
         "x": [
          3
         ],
         "x0": " ",
         "xaxis": "x",
         "y": [
          1
         ],
         "y0": " ",
         "yaxis": "y"
        },
        {
         "alignmentgroup": "True",
         "boxpoints": "all",
         "fillcolor": "rgba(255,255,255,0)",
         "hoveron": "points",
         "hovertemplate": "bids_name=sub-257563_acq-standard_T1w<br>condition=%{x}<br>score=%{y}<extra></extra>",
         "legendgroup": "sub-257563_acq-standard_T1w",
         "line": {
          "color": "rgba(255,255,255,0)"
         },
         "marker": {
          "color": "#00cc96"
         },
         "name": "sub-257563_acq-standard_T1w",
         "offsetgroup": "sub-257563_acq-standard_T1w",
         "orientation": "v",
         "pointpos": 0,
         "showlegend": true,
         "type": "box",
         "x": [
          1
         ],
         "x0": " ",
         "xaxis": "x",
         "y": [
          1
         ],
         "y0": " ",
         "yaxis": "y"
        },
        {
         "alignmentgroup": "True",
         "boxpoints": "all",
         "fillcolor": "rgba(255,255,255,0)",
         "hoveron": "points",
         "hovertemplate": "bids_name=sub-258056_acq-headmotion1_T1w<br>condition=%{x}<br>score=%{y}<extra></extra>",
         "legendgroup": "sub-258056_acq-headmotion1_T1w",
         "line": {
          "color": "rgba(255,255,255,0)"
         },
         "marker": {
          "color": "#ab63fa"
         },
         "name": "sub-258056_acq-headmotion1_T1w",
         "offsetgroup": "sub-258056_acq-headmotion1_T1w",
         "orientation": "v",
         "pointpos": 0,
         "showlegend": true,
         "type": "box",
         "x": [
          2
         ],
         "x0": " ",
         "xaxis": "x",
         "y": [
          3
         ],
         "y0": " ",
         "yaxis": "y"
        },
        {
         "alignmentgroup": "True",
         "boxpoints": "all",
         "fillcolor": "rgba(255,255,255,0)",
         "hoveron": "points",
         "hovertemplate": "bids_name=sub-258056_acq-headmotion2_T1w<br>condition=%{x}<br>score=%{y}<extra></extra>",
         "legendgroup": "sub-258056_acq-headmotion2_T1w",
         "line": {
          "color": "rgba(255,255,255,0)"
         },
         "marker": {
          "color": "#FFA15A"
         },
         "name": "sub-258056_acq-headmotion2_T1w",
         "offsetgroup": "sub-258056_acq-headmotion2_T1w",
         "orientation": "v",
         "pointpos": 0,
         "showlegend": true,
         "type": "box",
         "x": [
          3
         ],
         "x0": " ",
         "xaxis": "x",
         "y": [
          3
         ],
         "y0": " ",
         "yaxis": "y"
        },
        {
         "alignmentgroup": "True",
         "boxpoints": "all",
         "fillcolor": "rgba(255,255,255,0)",
         "hoveron": "points",
         "hovertemplate": "bids_name=sub-258056_acq-standard_T1w<br>condition=%{x}<br>score=%{y}<extra></extra>",
         "legendgroup": "sub-258056_acq-standard_T1w",
         "line": {
          "color": "rgba(255,255,255,0)"
         },
         "marker": {
          "color": "#19d3f3"
         },
         "name": "sub-258056_acq-standard_T1w",
         "offsetgroup": "sub-258056_acq-standard_T1w",
         "orientation": "v",
         "pointpos": 0,
         "showlegend": true,
         "type": "box",
         "x": [
          1
         ],
         "x0": " ",
         "xaxis": "x",
         "y": [
          1
         ],
         "y0": " ",
         "yaxis": "y"
        },
        {
         "alignmentgroup": "True",
         "boxpoints": "all",
         "fillcolor": "rgba(255,255,255,0)",
         "hoveron": "points",
         "hovertemplate": "bids_name=sub-261051_acq-headmotion1_T1w<br>condition=%{x}<br>score=%{y}<extra></extra>",
         "legendgroup": "sub-261051_acq-headmotion1_T1w",
         "line": {
          "color": "rgba(255,255,255,0)"
         },
         "marker": {
          "color": "#FF6692"
         },
         "name": "sub-261051_acq-headmotion1_T1w",
         "offsetgroup": "sub-261051_acq-headmotion1_T1w",
         "orientation": "v",
         "pointpos": 0,
         "showlegend": true,
         "type": "box",
         "x": [
          2
         ],
         "x0": " ",
         "xaxis": "x",
         "y": [
          3
         ],
         "y0": " ",
         "yaxis": "y"
        },
        {
         "alignmentgroup": "True",
         "boxpoints": "all",
         "fillcolor": "rgba(255,255,255,0)",
         "hoveron": "points",
         "hovertemplate": "bids_name=sub-261051_acq-headmotion2_T1w<br>condition=%{x}<br>score=%{y}<extra></extra>",
         "legendgroup": "sub-261051_acq-headmotion2_T1w",
         "line": {
          "color": "rgba(255,255,255,0)"
         },
         "marker": {
          "color": "#B6E880"
         },
         "name": "sub-261051_acq-headmotion2_T1w",
         "offsetgroup": "sub-261051_acq-headmotion2_T1w",
         "orientation": "v",
         "pointpos": 0,
         "showlegend": true,
         "type": "box",
         "x": [
          3
         ],
         "x0": " ",
         "xaxis": "x",
         "y": [
          3
         ],
         "y0": " ",
         "yaxis": "y"
        },
        {
         "alignmentgroup": "True",
         "boxpoints": "all",
         "fillcolor": "rgba(255,255,255,0)",
         "hoveron": "points",
         "hovertemplate": "bids_name=sub-261051_acq-standard_T1w<br>condition=%{x}<br>score=%{y}<extra></extra>",
         "legendgroup": "sub-261051_acq-standard_T1w",
         "line": {
          "color": "rgba(255,255,255,0)"
         },
         "marker": {
          "color": "#FF97FF"
         },
         "name": "sub-261051_acq-standard_T1w",
         "offsetgroup": "sub-261051_acq-standard_T1w",
         "orientation": "v",
         "pointpos": 0,
         "showlegend": true,
         "type": "box",
         "x": [
          1
         ],
         "x0": " ",
         "xaxis": "x",
         "y": [
          2
         ],
         "y0": " ",
         "yaxis": "y"
        },
        {
         "alignmentgroup": "True",
         "boxpoints": "all",
         "fillcolor": "rgba(255,255,255,0)",
         "hoveron": "points",
         "hovertemplate": "bids_name=sub-262577_acq-headmotion1_T1w<br>condition=%{x}<br>score=%{y}<extra></extra>",
         "legendgroup": "sub-262577_acq-headmotion1_T1w",
         "line": {
          "color": "rgba(255,255,255,0)"
         },
         "marker": {
          "color": "#FECB52"
         },
         "name": "sub-262577_acq-headmotion1_T1w",
         "offsetgroup": "sub-262577_acq-headmotion1_T1w",
         "orientation": "v",
         "pointpos": 0,
         "showlegend": true,
         "type": "box",
         "x": [
          2
         ],
         "x0": " ",
         "xaxis": "x",
         "y": [
          3
         ],
         "y0": " ",
         "yaxis": "y"
        },
        {
         "alignmentgroup": "True",
         "boxpoints": "all",
         "fillcolor": "rgba(255,255,255,0)",
         "hoveron": "points",
         "hovertemplate": "bids_name=sub-262577_acq-headmotion2_T1w<br>condition=%{x}<br>score=%{y}<extra></extra>",
         "legendgroup": "sub-262577_acq-headmotion2_T1w",
         "line": {
          "color": "rgba(255,255,255,0)"
         },
         "marker": {
          "color": "#636efa"
         },
         "name": "sub-262577_acq-headmotion2_T1w",
         "offsetgroup": "sub-262577_acq-headmotion2_T1w",
         "orientation": "v",
         "pointpos": 0,
         "showlegend": true,
         "type": "box",
         "x": [
          3
         ],
         "x0": " ",
         "xaxis": "x",
         "y": [
          3
         ],
         "y0": " ",
         "yaxis": "y"
        },
        {
         "alignmentgroup": "True",
         "boxpoints": "all",
         "fillcolor": "rgba(255,255,255,0)",
         "hoveron": "points",
         "hovertemplate": "bids_name=sub-262577_acq-standard_T1w<br>condition=%{x}<br>score=%{y}<extra></extra>",
         "legendgroup": "sub-262577_acq-standard_T1w",
         "line": {
          "color": "rgba(255,255,255,0)"
         },
         "marker": {
          "color": "#EF553B"
         },
         "name": "sub-262577_acq-standard_T1w",
         "offsetgroup": "sub-262577_acq-standard_T1w",
         "orientation": "v",
         "pointpos": 0,
         "showlegend": true,
         "type": "box",
         "x": [
          1
         ],
         "x0": " ",
         "xaxis": "x",
         "y": [
          1
         ],
         "y0": " ",
         "yaxis": "y"
        },
        {
         "alignmentgroup": "True",
         "boxpoints": "all",
         "fillcolor": "rgba(255,255,255,0)",
         "hoveron": "points",
         "hovertemplate": "bids_name=sub-275147_acq-headmotion1_T1w<br>condition=%{x}<br>score=%{y}<extra></extra>",
         "legendgroup": "sub-275147_acq-headmotion1_T1w",
         "line": {
          "color": "rgba(255,255,255,0)"
         },
         "marker": {
          "color": "#00cc96"
         },
         "name": "sub-275147_acq-headmotion1_T1w",
         "offsetgroup": "sub-275147_acq-headmotion1_T1w",
         "orientation": "v",
         "pointpos": 0,
         "showlegend": true,
         "type": "box",
         "x": [
          2
         ],
         "x0": " ",
         "xaxis": "x",
         "y": [
          3
         ],
         "y0": " ",
         "yaxis": "y"
        },
        {
         "alignmentgroup": "True",
         "boxpoints": "all",
         "fillcolor": "rgba(255,255,255,0)",
         "hoveron": "points",
         "hovertemplate": "bids_name=sub-275147_acq-headmotion2_T1w<br>condition=%{x}<br>score=%{y}<extra></extra>",
         "legendgroup": "sub-275147_acq-headmotion2_T1w",
         "line": {
          "color": "rgba(255,255,255,0)"
         },
         "marker": {
          "color": "#ab63fa"
         },
         "name": "sub-275147_acq-headmotion2_T1w",
         "offsetgroup": "sub-275147_acq-headmotion2_T1w",
         "orientation": "v",
         "pointpos": 0,
         "showlegend": true,
         "type": "box",
         "x": [
          3
         ],
         "x0": " ",
         "xaxis": "x",
         "y": [
          3
         ],
         "y0": " ",
         "yaxis": "y"
        },
        {
         "alignmentgroup": "True",
         "boxpoints": "all",
         "fillcolor": "rgba(255,255,255,0)",
         "hoveron": "points",
         "hovertemplate": "bids_name=sub-275147_acq-standard_T1w<br>condition=%{x}<br>score=%{y}<extra></extra>",
         "legendgroup": "sub-275147_acq-standard_T1w",
         "line": {
          "color": "rgba(255,255,255,0)"
         },
         "marker": {
          "color": "#FFA15A"
         },
         "name": "sub-275147_acq-standard_T1w",
         "offsetgroup": "sub-275147_acq-standard_T1w",
         "orientation": "v",
         "pointpos": 0,
         "showlegend": true,
         "type": "box",
         "x": [
          1
         ],
         "x0": " ",
         "xaxis": "x",
         "y": [
          2
         ],
         "y0": " ",
         "yaxis": "y"
        },
        {
         "alignmentgroup": "True",
         "boxpoints": "all",
         "fillcolor": "rgba(255,255,255,0)",
         "hoveron": "points",
         "hovertemplate": "bids_name=sub-275211_acq-headmotion1_T1w<br>condition=%{x}<br>score=%{y}<extra></extra>",
         "legendgroup": "sub-275211_acq-headmotion1_T1w",
         "line": {
          "color": "rgba(255,255,255,0)"
         },
         "marker": {
          "color": "#19d3f3"
         },
         "name": "sub-275211_acq-headmotion1_T1w",
         "offsetgroup": "sub-275211_acq-headmotion1_T1w",
         "orientation": "v",
         "pointpos": 0,
         "showlegend": true,
         "type": "box",
         "x": [
          2
         ],
         "x0": " ",
         "xaxis": "x",
         "y": [
          3
         ],
         "y0": " ",
         "yaxis": "y"
        },
        {
         "alignmentgroup": "True",
         "boxpoints": "all",
         "fillcolor": "rgba(255,255,255,0)",
         "hoveron": "points",
         "hovertemplate": "bids_name=sub-275211_acq-headmotion2_T1w<br>condition=%{x}<br>score=%{y}<extra></extra>",
         "legendgroup": "sub-275211_acq-headmotion2_T1w",
         "line": {
          "color": "rgba(255,255,255,0)"
         },
         "marker": {
          "color": "#FF6692"
         },
         "name": "sub-275211_acq-headmotion2_T1w",
         "offsetgroup": "sub-275211_acq-headmotion2_T1w",
         "orientation": "v",
         "pointpos": 0,
         "showlegend": true,
         "type": "box",
         "x": [
          3
         ],
         "x0": " ",
         "xaxis": "x",
         "y": [
          3
         ],
         "y0": " ",
         "yaxis": "y"
        },
        {
         "alignmentgroup": "True",
         "boxpoints": "all",
         "fillcolor": "rgba(255,255,255,0)",
         "hoveron": "points",
         "hovertemplate": "bids_name=sub-275211_acq-standard_T1w<br>condition=%{x}<br>score=%{y}<extra></extra>",
         "legendgroup": "sub-275211_acq-standard_T1w",
         "line": {
          "color": "rgba(255,255,255,0)"
         },
         "marker": {
          "color": "#B6E880"
         },
         "name": "sub-275211_acq-standard_T1w",
         "offsetgroup": "sub-275211_acq-standard_T1w",
         "orientation": "v",
         "pointpos": 0,
         "showlegend": true,
         "type": "box",
         "x": [
          1
         ],
         "x0": " ",
         "xaxis": "x",
         "y": [
          1
         ],
         "y0": " ",
         "yaxis": "y"
        },
        {
         "alignmentgroup": "True",
         "boxpoints": "all",
         "fillcolor": "rgba(255,255,255,0)",
         "hoveron": "points",
         "hovertemplate": "bids_name=sub-278729_acq-headmotion1_T1w<br>condition=%{x}<br>score=%{y}<extra></extra>",
         "legendgroup": "sub-278729_acq-headmotion1_T1w",
         "line": {
          "color": "rgba(255,255,255,0)"
         },
         "marker": {
          "color": "#FF97FF"
         },
         "name": "sub-278729_acq-headmotion1_T1w",
         "offsetgroup": "sub-278729_acq-headmotion1_T1w",
         "orientation": "v",
         "pointpos": 0,
         "showlegend": true,
         "type": "box",
         "x": [
          2
         ],
         "x0": " ",
         "xaxis": "x",
         "y": [
          2
         ],
         "y0": " ",
         "yaxis": "y"
        },
        {
         "alignmentgroup": "True",
         "boxpoints": "all",
         "fillcolor": "rgba(255,255,255,0)",
         "hoveron": "points",
         "hovertemplate": "bids_name=sub-278729_acq-headmotion2_T1w<br>condition=%{x}<br>score=%{y}<extra></extra>",
         "legendgroup": "sub-278729_acq-headmotion2_T1w",
         "line": {
          "color": "rgba(255,255,255,0)"
         },
         "marker": {
          "color": "#FECB52"
         },
         "name": "sub-278729_acq-headmotion2_T1w",
         "offsetgroup": "sub-278729_acq-headmotion2_T1w",
         "orientation": "v",
         "pointpos": 0,
         "showlegend": true,
         "type": "box",
         "x": [
          3
         ],
         "x0": " ",
         "xaxis": "x",
         "y": [
          3
         ],
         "y0": " ",
         "yaxis": "y"
        },
        {
         "alignmentgroup": "True",
         "boxpoints": "all",
         "fillcolor": "rgba(255,255,255,0)",
         "hoveron": "points",
         "hovertemplate": "bids_name=sub-278729_acq-standard_T1w<br>condition=%{x}<br>score=%{y}<extra></extra>",
         "legendgroup": "sub-278729_acq-standard_T1w",
         "line": {
          "color": "rgba(255,255,255,0)"
         },
         "marker": {
          "color": "#636efa"
         },
         "name": "sub-278729_acq-standard_T1w",
         "offsetgroup": "sub-278729_acq-standard_T1w",
         "orientation": "v",
         "pointpos": 0,
         "showlegend": true,
         "type": "box",
         "x": [
          1
         ],
         "x0": " ",
         "xaxis": "x",
         "y": [
          1
         ],
         "y0": " ",
         "yaxis": "y"
        },
        {
         "alignmentgroup": "True",
         "boxpoints": "all",
         "fillcolor": "rgba(255,255,255,0)",
         "hoveron": "points",
         "hovertemplate": "bids_name=sub-279373_acq-headmotion2_T1w<br>condition=%{x}<br>score=%{y}<extra></extra>",
         "legendgroup": "sub-279373_acq-headmotion2_T1w",
         "line": {
          "color": "rgba(255,255,255,0)"
         },
         "marker": {
          "color": "#EF553B"
         },
         "name": "sub-279373_acq-headmotion2_T1w",
         "offsetgroup": "sub-279373_acq-headmotion2_T1w",
         "orientation": "v",
         "pointpos": 0,
         "showlegend": true,
         "type": "box",
         "x": [
          3
         ],
         "x0": " ",
         "xaxis": "x",
         "y": [
          3
         ],
         "y0": " ",
         "yaxis": "y"
        },
        {
         "alignmentgroup": "True",
         "boxpoints": "all",
         "fillcolor": "rgba(255,255,255,0)",
         "hoveron": "points",
         "hovertemplate": "bids_name=sub-279373_acq-standard_T1w<br>condition=%{x}<br>score=%{y}<extra></extra>",
         "legendgroup": "sub-279373_acq-standard_T1w",
         "line": {
          "color": "rgba(255,255,255,0)"
         },
         "marker": {
          "color": "#00cc96"
         },
         "name": "sub-279373_acq-standard_T1w",
         "offsetgroup": "sub-279373_acq-standard_T1w",
         "orientation": "v",
         "pointpos": 0,
         "showlegend": true,
         "type": "box",
         "x": [
          1
         ],
         "x0": " ",
         "xaxis": "x",
         "y": [
          2
         ],
         "y0": " ",
         "yaxis": "y"
        },
        {
         "alignmentgroup": "True",
         "boxpoints": "all",
         "fillcolor": "rgba(255,255,255,0)",
         "hoveron": "points",
         "hovertemplate": "bids_name=sub-281888_acq-headmotion1_T1w<br>condition=%{x}<br>score=%{y}<extra></extra>",
         "legendgroup": "sub-281888_acq-headmotion1_T1w",
         "line": {
          "color": "rgba(255,255,255,0)"
         },
         "marker": {
          "color": "#ab63fa"
         },
         "name": "sub-281888_acq-headmotion1_T1w",
         "offsetgroup": "sub-281888_acq-headmotion1_T1w",
         "orientation": "v",
         "pointpos": 0,
         "showlegend": true,
         "type": "box",
         "x": [
          2
         ],
         "x0": " ",
         "xaxis": "x",
         "y": [
          2
         ],
         "y0": " ",
         "yaxis": "y"
        },
        {
         "alignmentgroup": "True",
         "boxpoints": "all",
         "fillcolor": "rgba(255,255,255,0)",
         "hoveron": "points",
         "hovertemplate": "bids_name=sub-281888_acq-headmotion2_T1w<br>condition=%{x}<br>score=%{y}<extra></extra>",
         "legendgroup": "sub-281888_acq-headmotion2_T1w",
         "line": {
          "color": "rgba(255,255,255,0)"
         },
         "marker": {
          "color": "#FFA15A"
         },
         "name": "sub-281888_acq-headmotion2_T1w",
         "offsetgroup": "sub-281888_acq-headmotion2_T1w",
         "orientation": "v",
         "pointpos": 0,
         "showlegend": true,
         "type": "box",
         "x": [
          3
         ],
         "x0": " ",
         "xaxis": "x",
         "y": [
          3
         ],
         "y0": " ",
         "yaxis": "y"
        },
        {
         "alignmentgroup": "True",
         "boxpoints": "all",
         "fillcolor": "rgba(255,255,255,0)",
         "hoveron": "points",
         "hovertemplate": "bids_name=sub-281888_acq-standard_T1w<br>condition=%{x}<br>score=%{y}<extra></extra>",
         "legendgroup": "sub-281888_acq-standard_T1w",
         "line": {
          "color": "rgba(255,255,255,0)"
         },
         "marker": {
          "color": "#19d3f3"
         },
         "name": "sub-281888_acq-standard_T1w",
         "offsetgroup": "sub-281888_acq-standard_T1w",
         "orientation": "v",
         "pointpos": 0,
         "showlegend": true,
         "type": "box",
         "x": [
          1
         ],
         "x0": " ",
         "xaxis": "x",
         "y": [
          1
         ],
         "y0": " ",
         "yaxis": "y"
        },
        {
         "alignmentgroup": "True",
         "boxpoints": "all",
         "fillcolor": "rgba(255,255,255,0)",
         "hoveron": "points",
         "hovertemplate": "bids_name=sub-282628_acq-headmotion1_T1w<br>condition=%{x}<br>score=%{y}<extra></extra>",
         "legendgroup": "sub-282628_acq-headmotion1_T1w",
         "line": {
          "color": "rgba(255,255,255,0)"
         },
         "marker": {
          "color": "#FF6692"
         },
         "name": "sub-282628_acq-headmotion1_T1w",
         "offsetgroup": "sub-282628_acq-headmotion1_T1w",
         "orientation": "v",
         "pointpos": 0,
         "showlegend": true,
         "type": "box",
         "x": [
          2
         ],
         "x0": " ",
         "xaxis": "x",
         "y": [
          3
         ],
         "y0": " ",
         "yaxis": "y"
        },
        {
         "alignmentgroup": "True",
         "boxpoints": "all",
         "fillcolor": "rgba(255,255,255,0)",
         "hoveron": "points",
         "hovertemplate": "bids_name=sub-282628_acq-headmotion2_T1w<br>condition=%{x}<br>score=%{y}<extra></extra>",
         "legendgroup": "sub-282628_acq-headmotion2_T1w",
         "line": {
          "color": "rgba(255,255,255,0)"
         },
         "marker": {
          "color": "#B6E880"
         },
         "name": "sub-282628_acq-headmotion2_T1w",
         "offsetgroup": "sub-282628_acq-headmotion2_T1w",
         "orientation": "v",
         "pointpos": 0,
         "showlegend": true,
         "type": "box",
         "x": [
          3
         ],
         "x0": " ",
         "xaxis": "x",
         "y": [
          3
         ],
         "y0": " ",
         "yaxis": "y"
        },
        {
         "alignmentgroup": "True",
         "boxpoints": "all",
         "fillcolor": "rgba(255,255,255,0)",
         "hoveron": "points",
         "hovertemplate": "bids_name=sub-282628_acq-standard_T1w<br>condition=%{x}<br>score=%{y}<extra></extra>",
         "legendgroup": "sub-282628_acq-standard_T1w",
         "line": {
          "color": "rgba(255,255,255,0)"
         },
         "marker": {
          "color": "#FF97FF"
         },
         "name": "sub-282628_acq-standard_T1w",
         "offsetgroup": "sub-282628_acq-standard_T1w",
         "orientation": "v",
         "pointpos": 0,
         "showlegend": true,
         "type": "box",
         "x": [
          1
         ],
         "x0": " ",
         "xaxis": "x",
         "y": [
          1
         ],
         "y0": " ",
         "yaxis": "y"
        },
        {
         "alignmentgroup": "True",
         "boxpoints": "all",
         "fillcolor": "rgba(255,255,255,0)",
         "hoveron": "points",
         "hovertemplate": "bids_name=sub-292060_acq-headmotion1_T1w<br>condition=%{x}<br>score=%{y}<extra></extra>",
         "legendgroup": "sub-292060_acq-headmotion1_T1w",
         "line": {
          "color": "rgba(255,255,255,0)"
         },
         "marker": {
          "color": "#FECB52"
         },
         "name": "sub-292060_acq-headmotion1_T1w",
         "offsetgroup": "sub-292060_acq-headmotion1_T1w",
         "orientation": "v",
         "pointpos": 0,
         "showlegend": true,
         "type": "box",
         "x": [
          2
         ],
         "x0": " ",
         "xaxis": "x",
         "y": [
          2
         ],
         "y0": " ",
         "yaxis": "y"
        },
        {
         "alignmentgroup": "True",
         "boxpoints": "all",
         "fillcolor": "rgba(255,255,255,0)",
         "hoveron": "points",
         "hovertemplate": "bids_name=sub-292060_acq-headmotion2_T1w<br>condition=%{x}<br>score=%{y}<extra></extra>",
         "legendgroup": "sub-292060_acq-headmotion2_T1w",
         "line": {
          "color": "rgba(255,255,255,0)"
         },
         "marker": {
          "color": "#636efa"
         },
         "name": "sub-292060_acq-headmotion2_T1w",
         "offsetgroup": "sub-292060_acq-headmotion2_T1w",
         "orientation": "v",
         "pointpos": 0,
         "showlegend": true,
         "type": "box",
         "x": [
          3
         ],
         "x0": " ",
         "xaxis": "x",
         "y": [
          3
         ],
         "y0": " ",
         "yaxis": "y"
        },
        {
         "alignmentgroup": "True",
         "boxpoints": "all",
         "fillcolor": "rgba(255,255,255,0)",
         "hoveron": "points",
         "hovertemplate": "bids_name=sub-292060_acq-standard_T1w<br>condition=%{x}<br>score=%{y}<extra></extra>",
         "legendgroup": "sub-292060_acq-standard_T1w",
         "line": {
          "color": "rgba(255,255,255,0)"
         },
         "marker": {
          "color": "#EF553B"
         },
         "name": "sub-292060_acq-standard_T1w",
         "offsetgroup": "sub-292060_acq-standard_T1w",
         "orientation": "v",
         "pointpos": 0,
         "showlegend": true,
         "type": "box",
         "x": [
          1
         ],
         "x0": " ",
         "xaxis": "x",
         "y": [
          1
         ],
         "y0": " ",
         "yaxis": "y"
        },
        {
         "alignmentgroup": "True",
         "boxpoints": "all",
         "fillcolor": "rgba(255,255,255,0)",
         "hoveron": "points",
         "hovertemplate": "bids_name=sub-292213_acq-headmotion1_T1w<br>condition=%{x}<br>score=%{y}<extra></extra>",
         "legendgroup": "sub-292213_acq-headmotion1_T1w",
         "line": {
          "color": "rgba(255,255,255,0)"
         },
         "marker": {
          "color": "#00cc96"
         },
         "name": "sub-292213_acq-headmotion1_T1w",
         "offsetgroup": "sub-292213_acq-headmotion1_T1w",
         "orientation": "v",
         "pointpos": 0,
         "showlegend": true,
         "type": "box",
         "x": [
          2
         ],
         "x0": " ",
         "xaxis": "x",
         "y": [
          2
         ],
         "y0": " ",
         "yaxis": "y"
        },
        {
         "alignmentgroup": "True",
         "boxpoints": "all",
         "fillcolor": "rgba(255,255,255,0)",
         "hoveron": "points",
         "hovertemplate": "bids_name=sub-292213_acq-headmotion2_T1w<br>condition=%{x}<br>score=%{y}<extra></extra>",
         "legendgroup": "sub-292213_acq-headmotion2_T1w",
         "line": {
          "color": "rgba(255,255,255,0)"
         },
         "marker": {
          "color": "#ab63fa"
         },
         "name": "sub-292213_acq-headmotion2_T1w",
         "offsetgroup": "sub-292213_acq-headmotion2_T1w",
         "orientation": "v",
         "pointpos": 0,
         "showlegend": true,
         "type": "box",
         "x": [
          3
         ],
         "x0": " ",
         "xaxis": "x",
         "y": [
          3
         ],
         "y0": " ",
         "yaxis": "y"
        },
        {
         "alignmentgroup": "True",
         "boxpoints": "all",
         "fillcolor": "rgba(255,255,255,0)",
         "hoveron": "points",
         "hovertemplate": "bids_name=sub-292213_acq-standard_T1w<br>condition=%{x}<br>score=%{y}<extra></extra>",
         "legendgroup": "sub-292213_acq-standard_T1w",
         "line": {
          "color": "rgba(255,255,255,0)"
         },
         "marker": {
          "color": "#FFA15A"
         },
         "name": "sub-292213_acq-standard_T1w",
         "offsetgroup": "sub-292213_acq-standard_T1w",
         "orientation": "v",
         "pointpos": 0,
         "showlegend": true,
         "type": "box",
         "x": [
          1
         ],
         "x0": " ",
         "xaxis": "x",
         "y": [
          2
         ],
         "y0": " ",
         "yaxis": "y"
        },
        {
         "alignmentgroup": "True",
         "boxpoints": "all",
         "fillcolor": "rgba(255,255,255,0)",
         "hoveron": "points",
         "hovertemplate": "bids_name=sub-307592_acq-headmotion1_T1w<br>condition=%{x}<br>score=%{y}<extra></extra>",
         "legendgroup": "sub-307592_acq-headmotion1_T1w",
         "line": {
          "color": "rgba(255,255,255,0)"
         },
         "marker": {
          "color": "#19d3f3"
         },
         "name": "sub-307592_acq-headmotion1_T1w",
         "offsetgroup": "sub-307592_acq-headmotion1_T1w",
         "orientation": "v",
         "pointpos": 0,
         "showlegend": true,
         "type": "box",
         "x": [
          2
         ],
         "x0": " ",
         "xaxis": "x",
         "y": [
          3
         ],
         "y0": " ",
         "yaxis": "y"
        },
        {
         "alignmentgroup": "True",
         "boxpoints": "all",
         "fillcolor": "rgba(255,255,255,0)",
         "hoveron": "points",
         "hovertemplate": "bids_name=sub-307592_acq-headmotion2_T1w<br>condition=%{x}<br>score=%{y}<extra></extra>",
         "legendgroup": "sub-307592_acq-headmotion2_T1w",
         "line": {
          "color": "rgba(255,255,255,0)"
         },
         "marker": {
          "color": "#FF6692"
         },
         "name": "sub-307592_acq-headmotion2_T1w",
         "offsetgroup": "sub-307592_acq-headmotion2_T1w",
         "orientation": "v",
         "pointpos": 0,
         "showlegend": true,
         "type": "box",
         "x": [
          3
         ],
         "x0": " ",
         "xaxis": "x",
         "y": [
          3
         ],
         "y0": " ",
         "yaxis": "y"
        },
        {
         "alignmentgroup": "True",
         "boxpoints": "all",
         "fillcolor": "rgba(255,255,255,0)",
         "hoveron": "points",
         "hovertemplate": "bids_name=sub-307592_acq-standard_T1w<br>condition=%{x}<br>score=%{y}<extra></extra>",
         "legendgroup": "sub-307592_acq-standard_T1w",
         "line": {
          "color": "rgba(255,255,255,0)"
         },
         "marker": {
          "color": "#B6E880"
         },
         "name": "sub-307592_acq-standard_T1w",
         "offsetgroup": "sub-307592_acq-standard_T1w",
         "orientation": "v",
         "pointpos": 0,
         "showlegend": true,
         "type": "box",
         "x": [
          1
         ],
         "x0": " ",
         "xaxis": "x",
         "y": [
          1
         ],
         "y0": " ",
         "yaxis": "y"
        },
        {
         "alignmentgroup": "True",
         "boxpoints": "all",
         "fillcolor": "rgba(255,255,255,0)",
         "hoveron": "points",
         "hovertemplate": "bids_name=sub-313623_acq-headmotion1_T1w<br>condition=%{x}<br>score=%{y}<extra></extra>",
         "legendgroup": "sub-313623_acq-headmotion1_T1w",
         "line": {
          "color": "rgba(255,255,255,0)"
         },
         "marker": {
          "color": "#FF97FF"
         },
         "name": "sub-313623_acq-headmotion1_T1w",
         "offsetgroup": "sub-313623_acq-headmotion1_T1w",
         "orientation": "v",
         "pointpos": 0,
         "showlegend": true,
         "type": "box",
         "x": [
          2
         ],
         "x0": " ",
         "xaxis": "x",
         "y": [
          3
         ],
         "y0": " ",
         "yaxis": "y"
        },
        {
         "alignmentgroup": "True",
         "boxpoints": "all",
         "fillcolor": "rgba(255,255,255,0)",
         "hoveron": "points",
         "hovertemplate": "bids_name=sub-313623_acq-headmotion2_T1w<br>condition=%{x}<br>score=%{y}<extra></extra>",
         "legendgroup": "sub-313623_acq-headmotion2_T1w",
         "line": {
          "color": "rgba(255,255,255,0)"
         },
         "marker": {
          "color": "#FECB52"
         },
         "name": "sub-313623_acq-headmotion2_T1w",
         "offsetgroup": "sub-313623_acq-headmotion2_T1w",
         "orientation": "v",
         "pointpos": 0,
         "showlegend": true,
         "type": "box",
         "x": [
          3
         ],
         "x0": " ",
         "xaxis": "x",
         "y": [
          3
         ],
         "y0": " ",
         "yaxis": "y"
        },
        {
         "alignmentgroup": "True",
         "boxpoints": "all",
         "fillcolor": "rgba(255,255,255,0)",
         "hoveron": "points",
         "hovertemplate": "bids_name=sub-313623_acq-standard_T1w<br>condition=%{x}<br>score=%{y}<extra></extra>",
         "legendgroup": "sub-313623_acq-standard_T1w",
         "line": {
          "color": "rgba(255,255,255,0)"
         },
         "marker": {
          "color": "#636efa"
         },
         "name": "sub-313623_acq-standard_T1w",
         "offsetgroup": "sub-313623_acq-standard_T1w",
         "orientation": "v",
         "pointpos": 0,
         "showlegend": true,
         "type": "box",
         "x": [
          1
         ],
         "x0": " ",
         "xaxis": "x",
         "y": [
          2
         ],
         "y0": " ",
         "yaxis": "y"
        },
        {
         "alignmentgroup": "True",
         "boxpoints": "all",
         "fillcolor": "rgba(255,255,255,0)",
         "hoveron": "points",
         "hovertemplate": "bids_name=sub-335448_acq-headmotion1_T1w<br>condition=%{x}<br>score=%{y}<extra></extra>",
         "legendgroup": "sub-335448_acq-headmotion1_T1w",
         "line": {
          "color": "rgba(255,255,255,0)"
         },
         "marker": {
          "color": "#EF553B"
         },
         "name": "sub-335448_acq-headmotion1_T1w",
         "offsetgroup": "sub-335448_acq-headmotion1_T1w",
         "orientation": "v",
         "pointpos": 0,
         "showlegend": true,
         "type": "box",
         "x": [
          2
         ],
         "x0": " ",
         "xaxis": "x",
         "y": [
          3
         ],
         "y0": " ",
         "yaxis": "y"
        },
        {
         "alignmentgroup": "True",
         "boxpoints": "all",
         "fillcolor": "rgba(255,255,255,0)",
         "hoveron": "points",
         "hovertemplate": "bids_name=sub-335448_acq-headmotion2_T1w<br>condition=%{x}<br>score=%{y}<extra></extra>",
         "legendgroup": "sub-335448_acq-headmotion2_T1w",
         "line": {
          "color": "rgba(255,255,255,0)"
         },
         "marker": {
          "color": "#00cc96"
         },
         "name": "sub-335448_acq-headmotion2_T1w",
         "offsetgroup": "sub-335448_acq-headmotion2_T1w",
         "orientation": "v",
         "pointpos": 0,
         "showlegend": true,
         "type": "box",
         "x": [
          3
         ],
         "x0": " ",
         "xaxis": "x",
         "y": [
          3
         ],
         "y0": " ",
         "yaxis": "y"
        },
        {
         "alignmentgroup": "True",
         "boxpoints": "all",
         "fillcolor": "rgba(255,255,255,0)",
         "hoveron": "points",
         "hovertemplate": "bids_name=sub-335448_acq-standard_T1w<br>condition=%{x}<br>score=%{y}<extra></extra>",
         "legendgroup": "sub-335448_acq-standard_T1w",
         "line": {
          "color": "rgba(255,255,255,0)"
         },
         "marker": {
          "color": "#ab63fa"
         },
         "name": "sub-335448_acq-standard_T1w",
         "offsetgroup": "sub-335448_acq-standard_T1w",
         "orientation": "v",
         "pointpos": 0,
         "showlegend": true,
         "type": "box",
         "x": [
          1
         ],
         "x0": " ",
         "xaxis": "x",
         "y": [
          1
         ],
         "y0": " ",
         "yaxis": "y"
        },
        {
         "alignmentgroup": "True",
         "boxpoints": "all",
         "fillcolor": "rgba(255,255,255,0)",
         "hoveron": "points",
         "hovertemplate": "bids_name=sub-337488_acq-headmotion1_T1w<br>condition=%{x}<br>score=%{y}<extra></extra>",
         "legendgroup": "sub-337488_acq-headmotion1_T1w",
         "line": {
          "color": "rgba(255,255,255,0)"
         },
         "marker": {
          "color": "#FFA15A"
         },
         "name": "sub-337488_acq-headmotion1_T1w",
         "offsetgroup": "sub-337488_acq-headmotion1_T1w",
         "orientation": "v",
         "pointpos": 0,
         "showlegend": true,
         "type": "box",
         "x": [
          2
         ],
         "x0": " ",
         "xaxis": "x",
         "y": [
          2
         ],
         "y0": " ",
         "yaxis": "y"
        },
        {
         "alignmentgroup": "True",
         "boxpoints": "all",
         "fillcolor": "rgba(255,255,255,0)",
         "hoveron": "points",
         "hovertemplate": "bids_name=sub-337488_acq-headmotion2_T1w<br>condition=%{x}<br>score=%{y}<extra></extra>",
         "legendgroup": "sub-337488_acq-headmotion2_T1w",
         "line": {
          "color": "rgba(255,255,255,0)"
         },
         "marker": {
          "color": "#19d3f3"
         },
         "name": "sub-337488_acq-headmotion2_T1w",
         "offsetgroup": "sub-337488_acq-headmotion2_T1w",
         "orientation": "v",
         "pointpos": 0,
         "showlegend": true,
         "type": "box",
         "x": [
          3
         ],
         "x0": " ",
         "xaxis": "x",
         "y": [
          2
         ],
         "y0": " ",
         "yaxis": "y"
        },
        {
         "alignmentgroup": "True",
         "boxpoints": "all",
         "fillcolor": "rgba(255,255,255,0)",
         "hoveron": "points",
         "hovertemplate": "bids_name=sub-337488_acq-standard_T1w<br>condition=%{x}<br>score=%{y}<extra></extra>",
         "legendgroup": "sub-337488_acq-standard_T1w",
         "line": {
          "color": "rgba(255,255,255,0)"
         },
         "marker": {
          "color": "#FF6692"
         },
         "name": "sub-337488_acq-standard_T1w",
         "offsetgroup": "sub-337488_acq-standard_T1w",
         "orientation": "v",
         "pointpos": 0,
         "showlegend": true,
         "type": "box",
         "x": [
          1
         ],
         "x0": " ",
         "xaxis": "x",
         "y": [
          1
         ],
         "y0": " ",
         "yaxis": "y"
        },
        {
         "alignmentgroup": "True",
         "boxpoints": "all",
         "fillcolor": "rgba(255,255,255,0)",
         "hoveron": "points",
         "hovertemplate": "bids_name=sub-351288_acq-headmotion1_T1w<br>condition=%{x}<br>score=%{y}<extra></extra>",
         "legendgroup": "sub-351288_acq-headmotion1_T1w",
         "line": {
          "color": "rgba(255,255,255,0)"
         },
         "marker": {
          "color": "#B6E880"
         },
         "name": "sub-351288_acq-headmotion1_T1w",
         "offsetgroup": "sub-351288_acq-headmotion1_T1w",
         "orientation": "v",
         "pointpos": 0,
         "showlegend": true,
         "type": "box",
         "x": [
          2
         ],
         "x0": " ",
         "xaxis": "x",
         "y": [
          2
         ],
         "y0": " ",
         "yaxis": "y"
        },
        {
         "alignmentgroup": "True",
         "boxpoints": "all",
         "fillcolor": "rgba(255,255,255,0)",
         "hoveron": "points",
         "hovertemplate": "bids_name=sub-351288_acq-headmotion2_T1w<br>condition=%{x}<br>score=%{y}<extra></extra>",
         "legendgroup": "sub-351288_acq-headmotion2_T1w",
         "line": {
          "color": "rgba(255,255,255,0)"
         },
         "marker": {
          "color": "#FF97FF"
         },
         "name": "sub-351288_acq-headmotion2_T1w",
         "offsetgroup": "sub-351288_acq-headmotion2_T1w",
         "orientation": "v",
         "pointpos": 0,
         "showlegend": true,
         "type": "box",
         "x": [
          3
         ],
         "x0": " ",
         "xaxis": "x",
         "y": [
          2
         ],
         "y0": " ",
         "yaxis": "y"
        },
        {
         "alignmentgroup": "True",
         "boxpoints": "all",
         "fillcolor": "rgba(255,255,255,0)",
         "hoveron": "points",
         "hovertemplate": "bids_name=sub-351288_acq-standard_T1w<br>condition=%{x}<br>score=%{y}<extra></extra>",
         "legendgroup": "sub-351288_acq-standard_T1w",
         "line": {
          "color": "rgba(255,255,255,0)"
         },
         "marker": {
          "color": "#FECB52"
         },
         "name": "sub-351288_acq-standard_T1w",
         "offsetgroup": "sub-351288_acq-standard_T1w",
         "orientation": "v",
         "pointpos": 0,
         "showlegend": true,
         "type": "box",
         "x": [
          1
         ],
         "x0": " ",
         "xaxis": "x",
         "y": [
          1
         ],
         "y0": " ",
         "yaxis": "y"
        },
        {
         "alignmentgroup": "True",
         "boxpoints": "all",
         "fillcolor": "rgba(255,255,255,0)",
         "hoveron": "points",
         "hovertemplate": "bids_name=sub-365622_acq-headmotion1_T1w<br>condition=%{x}<br>score=%{y}<extra></extra>",
         "legendgroup": "sub-365622_acq-headmotion1_T1w",
         "line": {
          "color": "rgba(255,255,255,0)"
         },
         "marker": {
          "color": "#636efa"
         },
         "name": "sub-365622_acq-headmotion1_T1w",
         "offsetgroup": "sub-365622_acq-headmotion1_T1w",
         "orientation": "v",
         "pointpos": 0,
         "showlegend": true,
         "type": "box",
         "x": [
          2
         ],
         "x0": " ",
         "xaxis": "x",
         "y": [
          3
         ],
         "y0": " ",
         "yaxis": "y"
        },
        {
         "alignmentgroup": "True",
         "boxpoints": "all",
         "fillcolor": "rgba(255,255,255,0)",
         "hoveron": "points",
         "hovertemplate": "bids_name=sub-365622_acq-headmotion2_T1w<br>condition=%{x}<br>score=%{y}<extra></extra>",
         "legendgroup": "sub-365622_acq-headmotion2_T1w",
         "line": {
          "color": "rgba(255,255,255,0)"
         },
         "marker": {
          "color": "#EF553B"
         },
         "name": "sub-365622_acq-headmotion2_T1w",
         "offsetgroup": "sub-365622_acq-headmotion2_T1w",
         "orientation": "v",
         "pointpos": 0,
         "showlegend": true,
         "type": "box",
         "x": [
          3
         ],
         "x0": " ",
         "xaxis": "x",
         "y": [
          3
         ],
         "y0": " ",
         "yaxis": "y"
        },
        {
         "alignmentgroup": "True",
         "boxpoints": "all",
         "fillcolor": "rgba(255,255,255,0)",
         "hoveron": "points",
         "hovertemplate": "bids_name=sub-365622_acq-standard_T1w<br>condition=%{x}<br>score=%{y}<extra></extra>",
         "legendgroup": "sub-365622_acq-standard_T1w",
         "line": {
          "color": "rgba(255,255,255,0)"
         },
         "marker": {
          "color": "#00cc96"
         },
         "name": "sub-365622_acq-standard_T1w",
         "offsetgroup": "sub-365622_acq-standard_T1w",
         "orientation": "v",
         "pointpos": 0,
         "showlegend": true,
         "type": "box",
         "x": [
          1
         ],
         "x0": " ",
         "xaxis": "x",
         "y": [
          1
         ],
         "y0": " ",
         "yaxis": "y"
        },
        {
         "alignmentgroup": "True",
         "boxpoints": "all",
         "fillcolor": "rgba(255,255,255,0)",
         "hoveron": "points",
         "hovertemplate": "bids_name=sub-367500_acq-headmotion1_T1w<br>condition=%{x}<br>score=%{y}<extra></extra>",
         "legendgroup": "sub-367500_acq-headmotion1_T1w",
         "line": {
          "color": "rgba(255,255,255,0)"
         },
         "marker": {
          "color": "#ab63fa"
         },
         "name": "sub-367500_acq-headmotion1_T1w",
         "offsetgroup": "sub-367500_acq-headmotion1_T1w",
         "orientation": "v",
         "pointpos": 0,
         "showlegend": true,
         "type": "box",
         "x": [
          2
         ],
         "x0": " ",
         "xaxis": "x",
         "y": [
          3
         ],
         "y0": " ",
         "yaxis": "y"
        },
        {
         "alignmentgroup": "True",
         "boxpoints": "all",
         "fillcolor": "rgba(255,255,255,0)",
         "hoveron": "points",
         "hovertemplate": "bids_name=sub-367500_acq-headmotion2_T1w<br>condition=%{x}<br>score=%{y}<extra></extra>",
         "legendgroup": "sub-367500_acq-headmotion2_T1w",
         "line": {
          "color": "rgba(255,255,255,0)"
         },
         "marker": {
          "color": "#FFA15A"
         },
         "name": "sub-367500_acq-headmotion2_T1w",
         "offsetgroup": "sub-367500_acq-headmotion2_T1w",
         "orientation": "v",
         "pointpos": 0,
         "showlegend": true,
         "type": "box",
         "x": [
          3
         ],
         "x0": " ",
         "xaxis": "x",
         "y": [
          3
         ],
         "y0": " ",
         "yaxis": "y"
        },
        {
         "alignmentgroup": "True",
         "boxpoints": "all",
         "fillcolor": "rgba(255,255,255,0)",
         "hoveron": "points",
         "hovertemplate": "bids_name=sub-367500_acq-standard_T1w<br>condition=%{x}<br>score=%{y}<extra></extra>",
         "legendgroup": "sub-367500_acq-standard_T1w",
         "line": {
          "color": "rgba(255,255,255,0)"
         },
         "marker": {
          "color": "#19d3f3"
         },
         "name": "sub-367500_acq-standard_T1w",
         "offsetgroup": "sub-367500_acq-standard_T1w",
         "orientation": "v",
         "pointpos": 0,
         "showlegend": true,
         "type": "box",
         "x": [
          1
         ],
         "x0": " ",
         "xaxis": "x",
         "y": [
          2
         ],
         "y0": " ",
         "yaxis": "y"
        },
        {
         "alignmentgroup": "True",
         "boxpoints": "all",
         "fillcolor": "rgba(255,255,255,0)",
         "hoveron": "points",
         "hovertemplate": "bids_name=sub-401697_acq-headmotion1_T1w<br>condition=%{x}<br>score=%{y}<extra></extra>",
         "legendgroup": "sub-401697_acq-headmotion1_T1w",
         "line": {
          "color": "rgba(255,255,255,0)"
         },
         "marker": {
          "color": "#FF6692"
         },
         "name": "sub-401697_acq-headmotion1_T1w",
         "offsetgroup": "sub-401697_acq-headmotion1_T1w",
         "orientation": "v",
         "pointpos": 0,
         "showlegend": true,
         "type": "box",
         "x": [
          2
         ],
         "x0": " ",
         "xaxis": "x",
         "y": [
          3
         ],
         "y0": " ",
         "yaxis": "y"
        },
        {
         "alignmentgroup": "True",
         "boxpoints": "all",
         "fillcolor": "rgba(255,255,255,0)",
         "hoveron": "points",
         "hovertemplate": "bids_name=sub-401697_acq-headmotion2_T1w<br>condition=%{x}<br>score=%{y}<extra></extra>",
         "legendgroup": "sub-401697_acq-headmotion2_T1w",
         "line": {
          "color": "rgba(255,255,255,0)"
         },
         "marker": {
          "color": "#B6E880"
         },
         "name": "sub-401697_acq-headmotion2_T1w",
         "offsetgroup": "sub-401697_acq-headmotion2_T1w",
         "orientation": "v",
         "pointpos": 0,
         "showlegend": true,
         "type": "box",
         "x": [
          3
         ],
         "x0": " ",
         "xaxis": "x",
         "y": [
          3
         ],
         "y0": " ",
         "yaxis": "y"
        },
        {
         "alignmentgroup": "True",
         "boxpoints": "all",
         "fillcolor": "rgba(255,255,255,0)",
         "hoveron": "points",
         "hovertemplate": "bids_name=sub-401697_acq-standard_T1w<br>condition=%{x}<br>score=%{y}<extra></extra>",
         "legendgroup": "sub-401697_acq-standard_T1w",
         "line": {
          "color": "rgba(255,255,255,0)"
         },
         "marker": {
          "color": "#FF97FF"
         },
         "name": "sub-401697_acq-standard_T1w",
         "offsetgroup": "sub-401697_acq-standard_T1w",
         "orientation": "v",
         "pointpos": 0,
         "showlegend": true,
         "type": "box",
         "x": [
          1
         ],
         "x0": " ",
         "xaxis": "x",
         "y": [
          1
         ],
         "y0": " ",
         "yaxis": "y"
        },
        {
         "alignmentgroup": "True",
         "boxpoints": "all",
         "fillcolor": "rgba(255,255,255,0)",
         "hoveron": "points",
         "hovertemplate": "bids_name=sub-402511_acq-headmotion1_T1w<br>condition=%{x}<br>score=%{y}<extra></extra>",
         "legendgroup": "sub-402511_acq-headmotion1_T1w",
         "line": {
          "color": "rgba(255,255,255,0)"
         },
         "marker": {
          "color": "#FECB52"
         },
         "name": "sub-402511_acq-headmotion1_T1w",
         "offsetgroup": "sub-402511_acq-headmotion1_T1w",
         "orientation": "v",
         "pointpos": 0,
         "showlegend": true,
         "type": "box",
         "x": [
          2
         ],
         "x0": " ",
         "xaxis": "x",
         "y": [
          3
         ],
         "y0": " ",
         "yaxis": "y"
        },
        {
         "alignmentgroup": "True",
         "boxpoints": "all",
         "fillcolor": "rgba(255,255,255,0)",
         "hoveron": "points",
         "hovertemplate": "bids_name=sub-402511_acq-headmotion2_T1w<br>condition=%{x}<br>score=%{y}<extra></extra>",
         "legendgroup": "sub-402511_acq-headmotion2_T1w",
         "line": {
          "color": "rgba(255,255,255,0)"
         },
         "marker": {
          "color": "#636efa"
         },
         "name": "sub-402511_acq-headmotion2_T1w",
         "offsetgroup": "sub-402511_acq-headmotion2_T1w",
         "orientation": "v",
         "pointpos": 0,
         "showlegend": true,
         "type": "box",
         "x": [
          3
         ],
         "x0": " ",
         "xaxis": "x",
         "y": [
          3
         ],
         "y0": " ",
         "yaxis": "y"
        },
        {
         "alignmentgroup": "True",
         "boxpoints": "all",
         "fillcolor": "rgba(255,255,255,0)",
         "hoveron": "points",
         "hovertemplate": "bids_name=sub-402511_acq-standard_T1w<br>condition=%{x}<br>score=%{y}<extra></extra>",
         "legendgroup": "sub-402511_acq-standard_T1w",
         "line": {
          "color": "rgba(255,255,255,0)"
         },
         "marker": {
          "color": "#EF553B"
         },
         "name": "sub-402511_acq-standard_T1w",
         "offsetgroup": "sub-402511_acq-standard_T1w",
         "orientation": "v",
         "pointpos": 0,
         "showlegend": true,
         "type": "box",
         "x": [
          1
         ],
         "x0": " ",
         "xaxis": "x",
         "y": [
          1
         ],
         "y0": " ",
         "yaxis": "y"
        },
        {
         "alignmentgroup": "True",
         "boxpoints": "all",
         "fillcolor": "rgba(255,255,255,0)",
         "hoveron": "points",
         "hovertemplate": "bids_name=sub-407309_acq-headmotion1_T1w<br>condition=%{x}<br>score=%{y}<extra></extra>",
         "legendgroup": "sub-407309_acq-headmotion1_T1w",
         "line": {
          "color": "rgba(255,255,255,0)"
         },
         "marker": {
          "color": "#00cc96"
         },
         "name": "sub-407309_acq-headmotion1_T1w",
         "offsetgroup": "sub-407309_acq-headmotion1_T1w",
         "orientation": "v",
         "pointpos": 0,
         "showlegend": true,
         "type": "box",
         "x": [
          2
         ],
         "x0": " ",
         "xaxis": "x",
         "y": [
          2
         ],
         "y0": " ",
         "yaxis": "y"
        },
        {
         "alignmentgroup": "True",
         "boxpoints": "all",
         "fillcolor": "rgba(255,255,255,0)",
         "hoveron": "points",
         "hovertemplate": "bids_name=sub-407309_acq-headmotion2_T1w<br>condition=%{x}<br>score=%{y}<extra></extra>",
         "legendgroup": "sub-407309_acq-headmotion2_T1w",
         "line": {
          "color": "rgba(255,255,255,0)"
         },
         "marker": {
          "color": "#ab63fa"
         },
         "name": "sub-407309_acq-headmotion2_T1w",
         "offsetgroup": "sub-407309_acq-headmotion2_T1w",
         "orientation": "v",
         "pointpos": 0,
         "showlegend": true,
         "type": "box",
         "x": [
          3
         ],
         "x0": " ",
         "xaxis": "x",
         "y": [
          3
         ],
         "y0": " ",
         "yaxis": "y"
        },
        {
         "alignmentgroup": "True",
         "boxpoints": "all",
         "fillcolor": "rgba(255,255,255,0)",
         "hoveron": "points",
         "hovertemplate": "bids_name=sub-407309_acq-standard_T1w<br>condition=%{x}<br>score=%{y}<extra></extra>",
         "legendgroup": "sub-407309_acq-standard_T1w",
         "line": {
          "color": "rgba(255,255,255,0)"
         },
         "marker": {
          "color": "#FFA15A"
         },
         "name": "sub-407309_acq-standard_T1w",
         "offsetgroup": "sub-407309_acq-standard_T1w",
         "orientation": "v",
         "pointpos": 0,
         "showlegend": true,
         "type": "box",
         "x": [
          1
         ],
         "x0": " ",
         "xaxis": "x",
         "y": [
          1
         ],
         "y0": " ",
         "yaxis": "y"
        },
        {
         "alignmentgroup": "True",
         "boxpoints": "all",
         "fillcolor": "rgba(255,255,255,0)",
         "hoveron": "points",
         "hovertemplate": "bids_name=sub-409228_acq-headmotion1_T1w<br>condition=%{x}<br>score=%{y}<extra></extra>",
         "legendgroup": "sub-409228_acq-headmotion1_T1w",
         "line": {
          "color": "rgba(255,255,255,0)"
         },
         "marker": {
          "color": "#19d3f3"
         },
         "name": "sub-409228_acq-headmotion1_T1w",
         "offsetgroup": "sub-409228_acq-headmotion1_T1w",
         "orientation": "v",
         "pointpos": 0,
         "showlegend": true,
         "type": "box",
         "x": [
          2
         ],
         "x0": " ",
         "xaxis": "x",
         "y": [
          3
         ],
         "y0": " ",
         "yaxis": "y"
        },
        {
         "alignmentgroup": "True",
         "boxpoints": "all",
         "fillcolor": "rgba(255,255,255,0)",
         "hoveron": "points",
         "hovertemplate": "bids_name=sub-409228_acq-headmotion2_T1w<br>condition=%{x}<br>score=%{y}<extra></extra>",
         "legendgroup": "sub-409228_acq-headmotion2_T1w",
         "line": {
          "color": "rgba(255,255,255,0)"
         },
         "marker": {
          "color": "#FF6692"
         },
         "name": "sub-409228_acq-headmotion2_T1w",
         "offsetgroup": "sub-409228_acq-headmotion2_T1w",
         "orientation": "v",
         "pointpos": 0,
         "showlegend": true,
         "type": "box",
         "x": [
          3
         ],
         "x0": " ",
         "xaxis": "x",
         "y": [
          3
         ],
         "y0": " ",
         "yaxis": "y"
        },
        {
         "alignmentgroup": "True",
         "boxpoints": "all",
         "fillcolor": "rgba(255,255,255,0)",
         "hoveron": "points",
         "hovertemplate": "bids_name=sub-409228_acq-standard_T1w<br>condition=%{x}<br>score=%{y}<extra></extra>",
         "legendgroup": "sub-409228_acq-standard_T1w",
         "line": {
          "color": "rgba(255,255,255,0)"
         },
         "marker": {
          "color": "#B6E880"
         },
         "name": "sub-409228_acq-standard_T1w",
         "offsetgroup": "sub-409228_acq-standard_T1w",
         "orientation": "v",
         "pointpos": 0,
         "showlegend": true,
         "type": "box",
         "x": [
          1
         ],
         "x0": " ",
         "xaxis": "x",
         "y": [
          1
         ],
         "y0": " ",
         "yaxis": "y"
        },
        {
         "alignmentgroup": "True",
         "boxpoints": "all",
         "fillcolor": "rgba(255,255,255,0)",
         "hoveron": "points",
         "hovertemplate": "bids_name=sub-424015_acq-headmotion2_T1w<br>condition=%{x}<br>score=%{y}<extra></extra>",
         "legendgroup": "sub-424015_acq-headmotion2_T1w",
         "line": {
          "color": "rgba(255,255,255,0)"
         },
         "marker": {
          "color": "#FF97FF"
         },
         "name": "sub-424015_acq-headmotion2_T1w",
         "offsetgroup": "sub-424015_acq-headmotion2_T1w",
         "orientation": "v",
         "pointpos": 0,
         "showlegend": true,
         "type": "box",
         "x": [
          3
         ],
         "x0": " ",
         "xaxis": "x",
         "y": [
          3
         ],
         "y0": " ",
         "yaxis": "y"
        },
        {
         "alignmentgroup": "True",
         "boxpoints": "all",
         "fillcolor": "rgba(255,255,255,0)",
         "hoveron": "points",
         "hovertemplate": "bids_name=sub-424015_acq-standard_T1w<br>condition=%{x}<br>score=%{y}<extra></extra>",
         "legendgroup": "sub-424015_acq-standard_T1w",
         "line": {
          "color": "rgba(255,255,255,0)"
         },
         "marker": {
          "color": "#FECB52"
         },
         "name": "sub-424015_acq-standard_T1w",
         "offsetgroup": "sub-424015_acq-standard_T1w",
         "orientation": "v",
         "pointpos": 0,
         "showlegend": true,
         "type": "box",
         "x": [
          1
         ],
         "x0": " ",
         "xaxis": "x",
         "y": [
          2
         ],
         "y0": " ",
         "yaxis": "y"
        },
        {
         "alignmentgroup": "True",
         "boxpoints": "all",
         "fillcolor": "rgba(255,255,255,0)",
         "hoveron": "points",
         "hovertemplate": "bids_name=sub-436999_acq-headmotion1_T1w<br>condition=%{x}<br>score=%{y}<extra></extra>",
         "legendgroup": "sub-436999_acq-headmotion1_T1w",
         "line": {
          "color": "rgba(255,255,255,0)"
         },
         "marker": {
          "color": "#636efa"
         },
         "name": "sub-436999_acq-headmotion1_T1w",
         "offsetgroup": "sub-436999_acq-headmotion1_T1w",
         "orientation": "v",
         "pointpos": 0,
         "showlegend": true,
         "type": "box",
         "x": [
          2
         ],
         "x0": " ",
         "xaxis": "x",
         "y": [
          1
         ],
         "y0": " ",
         "yaxis": "y"
        },
        {
         "alignmentgroup": "True",
         "boxpoints": "all",
         "fillcolor": "rgba(255,255,255,0)",
         "hoveron": "points",
         "hovertemplate": "bids_name=sub-436999_acq-headmotion2_T1w<br>condition=%{x}<br>score=%{y}<extra></extra>",
         "legendgroup": "sub-436999_acq-headmotion2_T1w",
         "line": {
          "color": "rgba(255,255,255,0)"
         },
         "marker": {
          "color": "#EF553B"
         },
         "name": "sub-436999_acq-headmotion2_T1w",
         "offsetgroup": "sub-436999_acq-headmotion2_T1w",
         "orientation": "v",
         "pointpos": 0,
         "showlegend": true,
         "type": "box",
         "x": [
          3
         ],
         "x0": " ",
         "xaxis": "x",
         "y": [
          3
         ],
         "y0": " ",
         "yaxis": "y"
        },
        {
         "alignmentgroup": "True",
         "boxpoints": "all",
         "fillcolor": "rgba(255,255,255,0)",
         "hoveron": "points",
         "hovertemplate": "bids_name=sub-436999_acq-standard_T1w<br>condition=%{x}<br>score=%{y}<extra></extra>",
         "legendgroup": "sub-436999_acq-standard_T1w",
         "line": {
          "color": "rgba(255,255,255,0)"
         },
         "marker": {
          "color": "#00cc96"
         },
         "name": "sub-436999_acq-standard_T1w",
         "offsetgroup": "sub-436999_acq-standard_T1w",
         "orientation": "v",
         "pointpos": 0,
         "showlegend": true,
         "type": "box",
         "x": [
          1
         ],
         "x0": " ",
         "xaxis": "x",
         "y": [
          1
         ],
         "y0": " ",
         "yaxis": "y"
        },
        {
         "alignmentgroup": "True",
         "boxpoints": "all",
         "fillcolor": "rgba(255,255,255,0)",
         "hoveron": "points",
         "hovertemplate": "bids_name=sub-440735_acq-headmotion1_T1w<br>condition=%{x}<br>score=%{y}<extra></extra>",
         "legendgroup": "sub-440735_acq-headmotion1_T1w",
         "line": {
          "color": "rgba(255,255,255,0)"
         },
         "marker": {
          "color": "#ab63fa"
         },
         "name": "sub-440735_acq-headmotion1_T1w",
         "offsetgroup": "sub-440735_acq-headmotion1_T1w",
         "orientation": "v",
         "pointpos": 0,
         "showlegend": true,
         "type": "box",
         "x": [
          2
         ],
         "x0": " ",
         "xaxis": "x",
         "y": [
          3
         ],
         "y0": " ",
         "yaxis": "y"
        },
        {
         "alignmentgroup": "True",
         "boxpoints": "all",
         "fillcolor": "rgba(255,255,255,0)",
         "hoveron": "points",
         "hovertemplate": "bids_name=sub-440735_acq-headmotion2_T1w<br>condition=%{x}<br>score=%{y}<extra></extra>",
         "legendgroup": "sub-440735_acq-headmotion2_T1w",
         "line": {
          "color": "rgba(255,255,255,0)"
         },
         "marker": {
          "color": "#FFA15A"
         },
         "name": "sub-440735_acq-headmotion2_T1w",
         "offsetgroup": "sub-440735_acq-headmotion2_T1w",
         "orientation": "v",
         "pointpos": 0,
         "showlegend": true,
         "type": "box",
         "x": [
          3
         ],
         "x0": " ",
         "xaxis": "x",
         "y": [
          3
         ],
         "y0": " ",
         "yaxis": "y"
        },
        {
         "alignmentgroup": "True",
         "boxpoints": "all",
         "fillcolor": "rgba(255,255,255,0)",
         "hoveron": "points",
         "hovertemplate": "bids_name=sub-440735_acq-standard_T1w<br>condition=%{x}<br>score=%{y}<extra></extra>",
         "legendgroup": "sub-440735_acq-standard_T1w",
         "line": {
          "color": "rgba(255,255,255,0)"
         },
         "marker": {
          "color": "#19d3f3"
         },
         "name": "sub-440735_acq-standard_T1w",
         "offsetgroup": "sub-440735_acq-standard_T1w",
         "orientation": "v",
         "pointpos": 0,
         "showlegend": true,
         "type": "box",
         "x": [
          1
         ],
         "x0": " ",
         "xaxis": "x",
         "y": [
          1
         ],
         "y0": " ",
         "yaxis": "y"
        },
        {
         "alignmentgroup": "True",
         "boxpoints": "all",
         "fillcolor": "rgba(255,255,255,0)",
         "hoveron": "points",
         "hovertemplate": "bids_name=sub-441269_acq-headmotion1_T1w<br>condition=%{x}<br>score=%{y}<extra></extra>",
         "legendgroup": "sub-441269_acq-headmotion1_T1w",
         "line": {
          "color": "rgba(255,255,255,0)"
         },
         "marker": {
          "color": "#FF6692"
         },
         "name": "sub-441269_acq-headmotion1_T1w",
         "offsetgroup": "sub-441269_acq-headmotion1_T1w",
         "orientation": "v",
         "pointpos": 0,
         "showlegend": true,
         "type": "box",
         "x": [
          2
         ],
         "x0": " ",
         "xaxis": "x",
         "y": [
          2
         ],
         "y0": " ",
         "yaxis": "y"
        },
        {
         "alignmentgroup": "True",
         "boxpoints": "all",
         "fillcolor": "rgba(255,255,255,0)",
         "hoveron": "points",
         "hovertemplate": "bids_name=sub-441269_acq-headmotion2_T1w<br>condition=%{x}<br>score=%{y}<extra></extra>",
         "legendgroup": "sub-441269_acq-headmotion2_T1w",
         "line": {
          "color": "rgba(255,255,255,0)"
         },
         "marker": {
          "color": "#B6E880"
         },
         "name": "sub-441269_acq-headmotion2_T1w",
         "offsetgroup": "sub-441269_acq-headmotion2_T1w",
         "orientation": "v",
         "pointpos": 0,
         "showlegend": true,
         "type": "box",
         "x": [
          3
         ],
         "x0": " ",
         "xaxis": "x",
         "y": [
          2
         ],
         "y0": " ",
         "yaxis": "y"
        },
        {
         "alignmentgroup": "True",
         "boxpoints": "all",
         "fillcolor": "rgba(255,255,255,0)",
         "hoveron": "points",
         "hovertemplate": "bids_name=sub-441269_acq-standard_T1w<br>condition=%{x}<br>score=%{y}<extra></extra>",
         "legendgroup": "sub-441269_acq-standard_T1w",
         "line": {
          "color": "rgba(255,255,255,0)"
         },
         "marker": {
          "color": "#FF97FF"
         },
         "name": "sub-441269_acq-standard_T1w",
         "offsetgroup": "sub-441269_acq-standard_T1w",
         "orientation": "v",
         "pointpos": 0,
         "showlegend": true,
         "type": "box",
         "x": [
          1
         ],
         "x0": " ",
         "xaxis": "x",
         "y": [
          2
         ],
         "y0": " ",
         "yaxis": "y"
        },
        {
         "alignmentgroup": "True",
         "boxpoints": "all",
         "fillcolor": "rgba(255,255,255,0)",
         "hoveron": "points",
         "hovertemplate": "bids_name=sub-453666_acq-headmotion1_T1w<br>condition=%{x}<br>score=%{y}<extra></extra>",
         "legendgroup": "sub-453666_acq-headmotion1_T1w",
         "line": {
          "color": "rgba(255,255,255,0)"
         },
         "marker": {
          "color": "#FECB52"
         },
         "name": "sub-453666_acq-headmotion1_T1w",
         "offsetgroup": "sub-453666_acq-headmotion1_T1w",
         "orientation": "v",
         "pointpos": 0,
         "showlegend": true,
         "type": "box",
         "x": [
          2
         ],
         "x0": " ",
         "xaxis": "x",
         "y": [
          2
         ],
         "y0": " ",
         "yaxis": "y"
        },
        {
         "alignmentgroup": "True",
         "boxpoints": "all",
         "fillcolor": "rgba(255,255,255,0)",
         "hoveron": "points",
         "hovertemplate": "bids_name=sub-453666_acq-headmotion2_T1w<br>condition=%{x}<br>score=%{y}<extra></extra>",
         "legendgroup": "sub-453666_acq-headmotion2_T1w",
         "line": {
          "color": "rgba(255,255,255,0)"
         },
         "marker": {
          "color": "#636efa"
         },
         "name": "sub-453666_acq-headmotion2_T1w",
         "offsetgroup": "sub-453666_acq-headmotion2_T1w",
         "orientation": "v",
         "pointpos": 0,
         "showlegend": true,
         "type": "box",
         "x": [
          3
         ],
         "x0": " ",
         "xaxis": "x",
         "y": [
          3
         ],
         "y0": " ",
         "yaxis": "y"
        },
        {
         "alignmentgroup": "True",
         "boxpoints": "all",
         "fillcolor": "rgba(255,255,255,0)",
         "hoveron": "points",
         "hovertemplate": "bids_name=sub-453666_acq-standard_T1w<br>condition=%{x}<br>score=%{y}<extra></extra>",
         "legendgroup": "sub-453666_acq-standard_T1w",
         "line": {
          "color": "rgba(255,255,255,0)"
         },
         "marker": {
          "color": "#EF553B"
         },
         "name": "sub-453666_acq-standard_T1w",
         "offsetgroup": "sub-453666_acq-standard_T1w",
         "orientation": "v",
         "pointpos": 0,
         "showlegend": true,
         "type": "box",
         "x": [
          1
         ],
         "x0": " ",
         "xaxis": "x",
         "y": [
          1
         ],
         "y0": " ",
         "yaxis": "y"
        },
        {
         "alignmentgroup": "True",
         "boxpoints": "all",
         "fillcolor": "rgba(255,255,255,0)",
         "hoveron": "points",
         "hovertemplate": "bids_name=sub-460834_acq-headmotion1_T1w<br>condition=%{x}<br>score=%{y}<extra></extra>",
         "legendgroup": "sub-460834_acq-headmotion1_T1w",
         "line": {
          "color": "rgba(255,255,255,0)"
         },
         "marker": {
          "color": "#00cc96"
         },
         "name": "sub-460834_acq-headmotion1_T1w",
         "offsetgroup": "sub-460834_acq-headmotion1_T1w",
         "orientation": "v",
         "pointpos": 0,
         "showlegend": true,
         "type": "box",
         "x": [
          2
         ],
         "x0": " ",
         "xaxis": "x",
         "y": [
          2
         ],
         "y0": " ",
         "yaxis": "y"
        },
        {
         "alignmentgroup": "True",
         "boxpoints": "all",
         "fillcolor": "rgba(255,255,255,0)",
         "hoveron": "points",
         "hovertemplate": "bids_name=sub-460834_acq-headmotion2_T1w<br>condition=%{x}<br>score=%{y}<extra></extra>",
         "legendgroup": "sub-460834_acq-headmotion2_T1w",
         "line": {
          "color": "rgba(255,255,255,0)"
         },
         "marker": {
          "color": "#ab63fa"
         },
         "name": "sub-460834_acq-headmotion2_T1w",
         "offsetgroup": "sub-460834_acq-headmotion2_T1w",
         "orientation": "v",
         "pointpos": 0,
         "showlegend": true,
         "type": "box",
         "x": [
          3
         ],
         "x0": " ",
         "xaxis": "x",
         "y": [
          3
         ],
         "y0": " ",
         "yaxis": "y"
        },
        {
         "alignmentgroup": "True",
         "boxpoints": "all",
         "fillcolor": "rgba(255,255,255,0)",
         "hoveron": "points",
         "hovertemplate": "bids_name=sub-460834_acq-standard_T1w<br>condition=%{x}<br>score=%{y}<extra></extra>",
         "legendgroup": "sub-460834_acq-standard_T1w",
         "line": {
          "color": "rgba(255,255,255,0)"
         },
         "marker": {
          "color": "#FFA15A"
         },
         "name": "sub-460834_acq-standard_T1w",
         "offsetgroup": "sub-460834_acq-standard_T1w",
         "orientation": "v",
         "pointpos": 0,
         "showlegend": true,
         "type": "box",
         "x": [
          1
         ],
         "x0": " ",
         "xaxis": "x",
         "y": [
          1
         ],
         "y0": " ",
         "yaxis": "y"
        },
        {
         "alignmentgroup": "True",
         "boxpoints": "all",
         "fillcolor": "rgba(255,255,255,0)",
         "hoveron": "points",
         "hovertemplate": "bids_name=sub-468609_acq-headmotion1_T1w<br>condition=%{x}<br>score=%{y}<extra></extra>",
         "legendgroup": "sub-468609_acq-headmotion1_T1w",
         "line": {
          "color": "rgba(255,255,255,0)"
         },
         "marker": {
          "color": "#19d3f3"
         },
         "name": "sub-468609_acq-headmotion1_T1w",
         "offsetgroup": "sub-468609_acq-headmotion1_T1w",
         "orientation": "v",
         "pointpos": 0,
         "showlegend": true,
         "type": "box",
         "x": [
          2
         ],
         "x0": " ",
         "xaxis": "x",
         "y": [
          3
         ],
         "y0": " ",
         "yaxis": "y"
        },
        {
         "alignmentgroup": "True",
         "boxpoints": "all",
         "fillcolor": "rgba(255,255,255,0)",
         "hoveron": "points",
         "hovertemplate": "bids_name=sub-468609_acq-headmotion2_T1w<br>condition=%{x}<br>score=%{y}<extra></extra>",
         "legendgroup": "sub-468609_acq-headmotion2_T1w",
         "line": {
          "color": "rgba(255,255,255,0)"
         },
         "marker": {
          "color": "#FF6692"
         },
         "name": "sub-468609_acq-headmotion2_T1w",
         "offsetgroup": "sub-468609_acq-headmotion2_T1w",
         "orientation": "v",
         "pointpos": 0,
         "showlegend": true,
         "type": "box",
         "x": [
          3
         ],
         "x0": " ",
         "xaxis": "x",
         "y": [
          3
         ],
         "y0": " ",
         "yaxis": "y"
        },
        {
         "alignmentgroup": "True",
         "boxpoints": "all",
         "fillcolor": "rgba(255,255,255,0)",
         "hoveron": "points",
         "hovertemplate": "bids_name=sub-468609_acq-standard_T1w<br>condition=%{x}<br>score=%{y}<extra></extra>",
         "legendgroup": "sub-468609_acq-standard_T1w",
         "line": {
          "color": "rgba(255,255,255,0)"
         },
         "marker": {
          "color": "#B6E880"
         },
         "name": "sub-468609_acq-standard_T1w",
         "offsetgroup": "sub-468609_acq-standard_T1w",
         "orientation": "v",
         "pointpos": 0,
         "showlegend": true,
         "type": "box",
         "x": [
          1
         ],
         "x0": " ",
         "xaxis": "x",
         "y": [
          2
         ],
         "y0": " ",
         "yaxis": "y"
        },
        {
         "alignmentgroup": "True",
         "boxpoints": "all",
         "fillcolor": "rgba(255,255,255,0)",
         "hoveron": "points",
         "hovertemplate": "bids_name=sub-502250_acq-headmotion1_T1w<br>condition=%{x}<br>score=%{y}<extra></extra>",
         "legendgroup": "sub-502250_acq-headmotion1_T1w",
         "line": {
          "color": "rgba(255,255,255,0)"
         },
         "marker": {
          "color": "#FF97FF"
         },
         "name": "sub-502250_acq-headmotion1_T1w",
         "offsetgroup": "sub-502250_acq-headmotion1_T1w",
         "orientation": "v",
         "pointpos": 0,
         "showlegend": true,
         "type": "box",
         "x": [
          2
         ],
         "x0": " ",
         "xaxis": "x",
         "y": [
          3
         ],
         "y0": " ",
         "yaxis": "y"
        },
        {
         "alignmentgroup": "True",
         "boxpoints": "all",
         "fillcolor": "rgba(255,255,255,0)",
         "hoveron": "points",
         "hovertemplate": "bids_name=sub-502250_acq-headmotion2_T1w<br>condition=%{x}<br>score=%{y}<extra></extra>",
         "legendgroup": "sub-502250_acq-headmotion2_T1w",
         "line": {
          "color": "rgba(255,255,255,0)"
         },
         "marker": {
          "color": "#FECB52"
         },
         "name": "sub-502250_acq-headmotion2_T1w",
         "offsetgroup": "sub-502250_acq-headmotion2_T1w",
         "orientation": "v",
         "pointpos": 0,
         "showlegend": true,
         "type": "box",
         "x": [
          3
         ],
         "x0": " ",
         "xaxis": "x",
         "y": [
          3
         ],
         "y0": " ",
         "yaxis": "y"
        },
        {
         "alignmentgroup": "True",
         "boxpoints": "all",
         "fillcolor": "rgba(255,255,255,0)",
         "hoveron": "points",
         "hovertemplate": "bids_name=sub-502250_acq-standard_T1w<br>condition=%{x}<br>score=%{y}<extra></extra>",
         "legendgroup": "sub-502250_acq-standard_T1w",
         "line": {
          "color": "rgba(255,255,255,0)"
         },
         "marker": {
          "color": "#636efa"
         },
         "name": "sub-502250_acq-standard_T1w",
         "offsetgroup": "sub-502250_acq-standard_T1w",
         "orientation": "v",
         "pointpos": 0,
         "showlegend": true,
         "type": "box",
         "x": [
          1
         ],
         "x0": " ",
         "xaxis": "x",
         "y": [
          1
         ],
         "y0": " ",
         "yaxis": "y"
        },
        {
         "alignmentgroup": "True",
         "boxpoints": "all",
         "fillcolor": "rgba(255,255,255,0)",
         "hoveron": "points",
         "hovertemplate": "bids_name=sub-508037_acq-headmotion1_T1w<br>condition=%{x}<br>score=%{y}<extra></extra>",
         "legendgroup": "sub-508037_acq-headmotion1_T1w",
         "line": {
          "color": "rgba(255,255,255,0)"
         },
         "marker": {
          "color": "#EF553B"
         },
         "name": "sub-508037_acq-headmotion1_T1w",
         "offsetgroup": "sub-508037_acq-headmotion1_T1w",
         "orientation": "v",
         "pointpos": 0,
         "showlegend": true,
         "type": "box",
         "x": [
          2
         ],
         "x0": " ",
         "xaxis": "x",
         "y": [
          2
         ],
         "y0": " ",
         "yaxis": "y"
        },
        {
         "alignmentgroup": "True",
         "boxpoints": "all",
         "fillcolor": "rgba(255,255,255,0)",
         "hoveron": "points",
         "hovertemplate": "bids_name=sub-508037_acq-headmotion2_T1w<br>condition=%{x}<br>score=%{y}<extra></extra>",
         "legendgroup": "sub-508037_acq-headmotion2_T1w",
         "line": {
          "color": "rgba(255,255,255,0)"
         },
         "marker": {
          "color": "#00cc96"
         },
         "name": "sub-508037_acq-headmotion2_T1w",
         "offsetgroup": "sub-508037_acq-headmotion2_T1w",
         "orientation": "v",
         "pointpos": 0,
         "showlegend": true,
         "type": "box",
         "x": [
          3
         ],
         "x0": " ",
         "xaxis": "x",
         "y": [
          3
         ],
         "y0": " ",
         "yaxis": "y"
        },
        {
         "alignmentgroup": "True",
         "boxpoints": "all",
         "fillcolor": "rgba(255,255,255,0)",
         "hoveron": "points",
         "hovertemplate": "bids_name=sub-508037_acq-standard_T1w<br>condition=%{x}<br>score=%{y}<extra></extra>",
         "legendgroup": "sub-508037_acq-standard_T1w",
         "line": {
          "color": "rgba(255,255,255,0)"
         },
         "marker": {
          "color": "#ab63fa"
         },
         "name": "sub-508037_acq-standard_T1w",
         "offsetgroup": "sub-508037_acq-standard_T1w",
         "orientation": "v",
         "pointpos": 0,
         "showlegend": true,
         "type": "box",
         "x": [
          1
         ],
         "x0": " ",
         "xaxis": "x",
         "y": [
          1
         ],
         "y0": " ",
         "yaxis": "y"
        },
        {
         "alignmentgroup": "True",
         "boxpoints": "all",
         "fillcolor": "rgba(255,255,255,0)",
         "hoveron": "points",
         "hovertemplate": "bids_name=sub-513281_acq-headmotion1_T1w<br>condition=%{x}<br>score=%{y}<extra></extra>",
         "legendgroup": "sub-513281_acq-headmotion1_T1w",
         "line": {
          "color": "rgba(255,255,255,0)"
         },
         "marker": {
          "color": "#FFA15A"
         },
         "name": "sub-513281_acq-headmotion1_T1w",
         "offsetgroup": "sub-513281_acq-headmotion1_T1w",
         "orientation": "v",
         "pointpos": 0,
         "showlegend": true,
         "type": "box",
         "x": [
          2
         ],
         "x0": " ",
         "xaxis": "x",
         "y": [
          1
         ],
         "y0": " ",
         "yaxis": "y"
        },
        {
         "alignmentgroup": "True",
         "boxpoints": "all",
         "fillcolor": "rgba(255,255,255,0)",
         "hoveron": "points",
         "hovertemplate": "bids_name=sub-513281_acq-headmotion2_T1w<br>condition=%{x}<br>score=%{y}<extra></extra>",
         "legendgroup": "sub-513281_acq-headmotion2_T1w",
         "line": {
          "color": "rgba(255,255,255,0)"
         },
         "marker": {
          "color": "#19d3f3"
         },
         "name": "sub-513281_acq-headmotion2_T1w",
         "offsetgroup": "sub-513281_acq-headmotion2_T1w",
         "orientation": "v",
         "pointpos": 0,
         "showlegend": true,
         "type": "box",
         "x": [
          3
         ],
         "x0": " ",
         "xaxis": "x",
         "y": [
          2
         ],
         "y0": " ",
         "yaxis": "y"
        },
        {
         "alignmentgroup": "True",
         "boxpoints": "all",
         "fillcolor": "rgba(255,255,255,0)",
         "hoveron": "points",
         "hovertemplate": "bids_name=sub-513281_acq-standard_T1w<br>condition=%{x}<br>score=%{y}<extra></extra>",
         "legendgroup": "sub-513281_acq-standard_T1w",
         "line": {
          "color": "rgba(255,255,255,0)"
         },
         "marker": {
          "color": "#FF6692"
         },
         "name": "sub-513281_acq-standard_T1w",
         "offsetgroup": "sub-513281_acq-standard_T1w",
         "orientation": "v",
         "pointpos": 0,
         "showlegend": true,
         "type": "box",
         "x": [
          1
         ],
         "x0": " ",
         "xaxis": "x",
         "y": [
          1
         ],
         "y0": " ",
         "yaxis": "y"
        },
        {
         "alignmentgroup": "True",
         "boxpoints": "all",
         "fillcolor": "rgba(255,255,255,0)",
         "hoveron": "points",
         "hovertemplate": "bids_name=sub-517724_acq-headmotion1_T1w<br>condition=%{x}<br>score=%{y}<extra></extra>",
         "legendgroup": "sub-517724_acq-headmotion1_T1w",
         "line": {
          "color": "rgba(255,255,255,0)"
         },
         "marker": {
          "color": "#B6E880"
         },
         "name": "sub-517724_acq-headmotion1_T1w",
         "offsetgroup": "sub-517724_acq-headmotion1_T1w",
         "orientation": "v",
         "pointpos": 0,
         "showlegend": true,
         "type": "box",
         "x": [
          2
         ],
         "x0": " ",
         "xaxis": "x",
         "y": [
          2
         ],
         "y0": " ",
         "yaxis": "y"
        },
        {
         "alignmentgroup": "True",
         "boxpoints": "all",
         "fillcolor": "rgba(255,255,255,0)",
         "hoveron": "points",
         "hovertemplate": "bids_name=sub-517724_acq-headmotion2_T1w<br>condition=%{x}<br>score=%{y}<extra></extra>",
         "legendgroup": "sub-517724_acq-headmotion2_T1w",
         "line": {
          "color": "rgba(255,255,255,0)"
         },
         "marker": {
          "color": "#FF97FF"
         },
         "name": "sub-517724_acq-headmotion2_T1w",
         "offsetgroup": "sub-517724_acq-headmotion2_T1w",
         "orientation": "v",
         "pointpos": 0,
         "showlegend": true,
         "type": "box",
         "x": [
          3
         ],
         "x0": " ",
         "xaxis": "x",
         "y": [
          3
         ],
         "y0": " ",
         "yaxis": "y"
        },
        {
         "alignmentgroup": "True",
         "boxpoints": "all",
         "fillcolor": "rgba(255,255,255,0)",
         "hoveron": "points",
         "hovertemplate": "bids_name=sub-517724_acq-standard_T1w<br>condition=%{x}<br>score=%{y}<extra></extra>",
         "legendgroup": "sub-517724_acq-standard_T1w",
         "line": {
          "color": "rgba(255,255,255,0)"
         },
         "marker": {
          "color": "#FECB52"
         },
         "name": "sub-517724_acq-standard_T1w",
         "offsetgroup": "sub-517724_acq-standard_T1w",
         "orientation": "v",
         "pointpos": 0,
         "showlegend": true,
         "type": "box",
         "x": [
          1
         ],
         "x0": " ",
         "xaxis": "x",
         "y": [
          1
         ],
         "y0": " ",
         "yaxis": "y"
        },
        {
         "alignmentgroup": "True",
         "boxpoints": "all",
         "fillcolor": "rgba(255,255,255,0)",
         "hoveron": "points",
         "hovertemplate": "bids_name=sub-519991_acq-headmotion1_T1w<br>condition=%{x}<br>score=%{y}<extra></extra>",
         "legendgroup": "sub-519991_acq-headmotion1_T1w",
         "line": {
          "color": "rgba(255,255,255,0)"
         },
         "marker": {
          "color": "#636efa"
         },
         "name": "sub-519991_acq-headmotion1_T1w",
         "offsetgroup": "sub-519991_acq-headmotion1_T1w",
         "orientation": "v",
         "pointpos": 0,
         "showlegend": true,
         "type": "box",
         "x": [
          2
         ],
         "x0": " ",
         "xaxis": "x",
         "y": [
          3
         ],
         "y0": " ",
         "yaxis": "y"
        },
        {
         "alignmentgroup": "True",
         "boxpoints": "all",
         "fillcolor": "rgba(255,255,255,0)",
         "hoveron": "points",
         "hovertemplate": "bids_name=sub-519991_acq-headmotion2_T1w<br>condition=%{x}<br>score=%{y}<extra></extra>",
         "legendgroup": "sub-519991_acq-headmotion2_T1w",
         "line": {
          "color": "rgba(255,255,255,0)"
         },
         "marker": {
          "color": "#EF553B"
         },
         "name": "sub-519991_acq-headmotion2_T1w",
         "offsetgroup": "sub-519991_acq-headmotion2_T1w",
         "orientation": "v",
         "pointpos": 0,
         "showlegend": true,
         "type": "box",
         "x": [
          3
         ],
         "x0": " ",
         "xaxis": "x",
         "y": [
          3
         ],
         "y0": " ",
         "yaxis": "y"
        },
        {
         "alignmentgroup": "True",
         "boxpoints": "all",
         "fillcolor": "rgba(255,255,255,0)",
         "hoveron": "points",
         "hovertemplate": "bids_name=sub-519991_acq-standard_T1w<br>condition=%{x}<br>score=%{y}<extra></extra>",
         "legendgroup": "sub-519991_acq-standard_T1w",
         "line": {
          "color": "rgba(255,255,255,0)"
         },
         "marker": {
          "color": "#00cc96"
         },
         "name": "sub-519991_acq-standard_T1w",
         "offsetgroup": "sub-519991_acq-standard_T1w",
         "orientation": "v",
         "pointpos": 0,
         "showlegend": true,
         "type": "box",
         "x": [
          1
         ],
         "x0": " ",
         "xaxis": "x",
         "y": [
          2
         ],
         "y0": " ",
         "yaxis": "y"
        },
        {
         "alignmentgroup": "True",
         "boxpoints": "all",
         "fillcolor": "rgba(255,255,255,0)",
         "hoveron": "points",
         "hovertemplate": "bids_name=sub-535925_acq-headmotion1_T1w<br>condition=%{x}<br>score=%{y}<extra></extra>",
         "legendgroup": "sub-535925_acq-headmotion1_T1w",
         "line": {
          "color": "rgba(255,255,255,0)"
         },
         "marker": {
          "color": "#ab63fa"
         },
         "name": "sub-535925_acq-headmotion1_T1w",
         "offsetgroup": "sub-535925_acq-headmotion1_T1w",
         "orientation": "v",
         "pointpos": 0,
         "showlegend": true,
         "type": "box",
         "x": [
          2
         ],
         "x0": " ",
         "xaxis": "x",
         "y": [
          2
         ],
         "y0": " ",
         "yaxis": "y"
        },
        {
         "alignmentgroup": "True",
         "boxpoints": "all",
         "fillcolor": "rgba(255,255,255,0)",
         "hoveron": "points",
         "hovertemplate": "bids_name=sub-535925_acq-headmotion2_T1w<br>condition=%{x}<br>score=%{y}<extra></extra>",
         "legendgroup": "sub-535925_acq-headmotion2_T1w",
         "line": {
          "color": "rgba(255,255,255,0)"
         },
         "marker": {
          "color": "#FFA15A"
         },
         "name": "sub-535925_acq-headmotion2_T1w",
         "offsetgroup": "sub-535925_acq-headmotion2_T1w",
         "orientation": "v",
         "pointpos": 0,
         "showlegend": true,
         "type": "box",
         "x": [
          3
         ],
         "x0": " ",
         "xaxis": "x",
         "y": [
          3
         ],
         "y0": " ",
         "yaxis": "y"
        },
        {
         "alignmentgroup": "True",
         "boxpoints": "all",
         "fillcolor": "rgba(255,255,255,0)",
         "hoveron": "points",
         "hovertemplate": "bids_name=sub-535925_acq-standard_T1w<br>condition=%{x}<br>score=%{y}<extra></extra>",
         "legendgroup": "sub-535925_acq-standard_T1w",
         "line": {
          "color": "rgba(255,255,255,0)"
         },
         "marker": {
          "color": "#19d3f3"
         },
         "name": "sub-535925_acq-standard_T1w",
         "offsetgroup": "sub-535925_acq-standard_T1w",
         "orientation": "v",
         "pointpos": 0,
         "showlegend": true,
         "type": "box",
         "x": [
          1
         ],
         "x0": " ",
         "xaxis": "x",
         "y": [
          1
         ],
         "y0": " ",
         "yaxis": "y"
        },
        {
         "alignmentgroup": "True",
         "boxpoints": "all",
         "fillcolor": "rgba(255,255,255,0)",
         "hoveron": "points",
         "hovertemplate": "bids_name=sub-549056_acq-headmotion1_T1w<br>condition=%{x}<br>score=%{y}<extra></extra>",
         "legendgroup": "sub-549056_acq-headmotion1_T1w",
         "line": {
          "color": "rgba(255,255,255,0)"
         },
         "marker": {
          "color": "#FF6692"
         },
         "name": "sub-549056_acq-headmotion1_T1w",
         "offsetgroup": "sub-549056_acq-headmotion1_T1w",
         "orientation": "v",
         "pointpos": 0,
         "showlegend": true,
         "type": "box",
         "x": [
          2
         ],
         "x0": " ",
         "xaxis": "x",
         "y": [
          3
         ],
         "y0": " ",
         "yaxis": "y"
        },
        {
         "alignmentgroup": "True",
         "boxpoints": "all",
         "fillcolor": "rgba(255,255,255,0)",
         "hoveron": "points",
         "hovertemplate": "bids_name=sub-549056_acq-headmotion2_T1w<br>condition=%{x}<br>score=%{y}<extra></extra>",
         "legendgroup": "sub-549056_acq-headmotion2_T1w",
         "line": {
          "color": "rgba(255,255,255,0)"
         },
         "marker": {
          "color": "#B6E880"
         },
         "name": "sub-549056_acq-headmotion2_T1w",
         "offsetgroup": "sub-549056_acq-headmotion2_T1w",
         "orientation": "v",
         "pointpos": 0,
         "showlegend": true,
         "type": "box",
         "x": [
          3
         ],
         "x0": " ",
         "xaxis": "x",
         "y": [
          3
         ],
         "y0": " ",
         "yaxis": "y"
        },
        {
         "alignmentgroup": "True",
         "boxpoints": "all",
         "fillcolor": "rgba(255,255,255,0)",
         "hoveron": "points",
         "hovertemplate": "bids_name=sub-549056_acq-standard_T1w<br>condition=%{x}<br>score=%{y}<extra></extra>",
         "legendgroup": "sub-549056_acq-standard_T1w",
         "line": {
          "color": "rgba(255,255,255,0)"
         },
         "marker": {
          "color": "#FF97FF"
         },
         "name": "sub-549056_acq-standard_T1w",
         "offsetgroup": "sub-549056_acq-standard_T1w",
         "orientation": "v",
         "pointpos": 0,
         "showlegend": true,
         "type": "box",
         "x": [
          1
         ],
         "x0": " ",
         "xaxis": "x",
         "y": [
          2
         ],
         "y0": " ",
         "yaxis": "y"
        },
        {
         "alignmentgroup": "True",
         "boxpoints": "all",
         "fillcolor": "rgba(255,255,255,0)",
         "hoveron": "points",
         "hovertemplate": "bids_name=sub-561646_acq-headmotion1_T1w<br>condition=%{x}<br>score=%{y}<extra></extra>",
         "legendgroup": "sub-561646_acq-headmotion1_T1w",
         "line": {
          "color": "rgba(255,255,255,0)"
         },
         "marker": {
          "color": "#FECB52"
         },
         "name": "sub-561646_acq-headmotion1_T1w",
         "offsetgroup": "sub-561646_acq-headmotion1_T1w",
         "orientation": "v",
         "pointpos": 0,
         "showlegend": true,
         "type": "box",
         "x": [
          2
         ],
         "x0": " ",
         "xaxis": "x",
         "y": [
          2
         ],
         "y0": " ",
         "yaxis": "y"
        },
        {
         "alignmentgroup": "True",
         "boxpoints": "all",
         "fillcolor": "rgba(255,255,255,0)",
         "hoveron": "points",
         "hovertemplate": "bids_name=sub-561646_acq-headmotion2_T1w<br>condition=%{x}<br>score=%{y}<extra></extra>",
         "legendgroup": "sub-561646_acq-headmotion2_T1w",
         "line": {
          "color": "rgba(255,255,255,0)"
         },
         "marker": {
          "color": "#636efa"
         },
         "name": "sub-561646_acq-headmotion2_T1w",
         "offsetgroup": "sub-561646_acq-headmotion2_T1w",
         "orientation": "v",
         "pointpos": 0,
         "showlegend": true,
         "type": "box",
         "x": [
          3
         ],
         "x0": " ",
         "xaxis": "x",
         "y": [
          3
         ],
         "y0": " ",
         "yaxis": "y"
        },
        {
         "alignmentgroup": "True",
         "boxpoints": "all",
         "fillcolor": "rgba(255,255,255,0)",
         "hoveron": "points",
         "hovertemplate": "bids_name=sub-561646_acq-standard_T1w<br>condition=%{x}<br>score=%{y}<extra></extra>",
         "legendgroup": "sub-561646_acq-standard_T1w",
         "line": {
          "color": "rgba(255,255,255,0)"
         },
         "marker": {
          "color": "#EF553B"
         },
         "name": "sub-561646_acq-standard_T1w",
         "offsetgroup": "sub-561646_acq-standard_T1w",
         "orientation": "v",
         "pointpos": 0,
         "showlegend": true,
         "type": "box",
         "x": [
          1
         ],
         "x0": " ",
         "xaxis": "x",
         "y": [
          1
         ],
         "y0": " ",
         "yaxis": "y"
        },
        {
         "alignmentgroup": "True",
         "boxpoints": "all",
         "fillcolor": "rgba(255,255,255,0)",
         "hoveron": "points",
         "hovertemplate": "bids_name=sub-567551_acq-headmotion1_T1w<br>condition=%{x}<br>score=%{y}<extra></extra>",
         "legendgroup": "sub-567551_acq-headmotion1_T1w",
         "line": {
          "color": "rgba(255,255,255,0)"
         },
         "marker": {
          "color": "#00cc96"
         },
         "name": "sub-567551_acq-headmotion1_T1w",
         "offsetgroup": "sub-567551_acq-headmotion1_T1w",
         "orientation": "v",
         "pointpos": 0,
         "showlegend": true,
         "type": "box",
         "x": [
          2
         ],
         "x0": " ",
         "xaxis": "x",
         "y": [
          3
         ],
         "y0": " ",
         "yaxis": "y"
        },
        {
         "alignmentgroup": "True",
         "boxpoints": "all",
         "fillcolor": "rgba(255,255,255,0)",
         "hoveron": "points",
         "hovertemplate": "bids_name=sub-567551_acq-headmotion2_T1w<br>condition=%{x}<br>score=%{y}<extra></extra>",
         "legendgroup": "sub-567551_acq-headmotion2_T1w",
         "line": {
          "color": "rgba(255,255,255,0)"
         },
         "marker": {
          "color": "#ab63fa"
         },
         "name": "sub-567551_acq-headmotion2_T1w",
         "offsetgroup": "sub-567551_acq-headmotion2_T1w",
         "orientation": "v",
         "pointpos": 0,
         "showlegend": true,
         "type": "box",
         "x": [
          3
         ],
         "x0": " ",
         "xaxis": "x",
         "y": [
          3
         ],
         "y0": " ",
         "yaxis": "y"
        },
        {
         "alignmentgroup": "True",
         "boxpoints": "all",
         "fillcolor": "rgba(255,255,255,0)",
         "hoveron": "points",
         "hovertemplate": "bids_name=sub-567551_acq-standard_T1w<br>condition=%{x}<br>score=%{y}<extra></extra>",
         "legendgroup": "sub-567551_acq-standard_T1w",
         "line": {
          "color": "rgba(255,255,255,0)"
         },
         "marker": {
          "color": "#FFA15A"
         },
         "name": "sub-567551_acq-standard_T1w",
         "offsetgroup": "sub-567551_acq-standard_T1w",
         "orientation": "v",
         "pointpos": 0,
         "showlegend": true,
         "type": "box",
         "x": [
          1
         ],
         "x0": " ",
         "xaxis": "x",
         "y": [
          2
         ],
         "y0": " ",
         "yaxis": "y"
        },
        {
         "alignmentgroup": "True",
         "boxpoints": "all",
         "fillcolor": "rgba(255,255,255,0)",
         "hoveron": "points",
         "hovertemplate": "bids_name=sub-567742_acq-headmotion1_T1w<br>condition=%{x}<br>score=%{y}<extra></extra>",
         "legendgroup": "sub-567742_acq-headmotion1_T1w",
         "line": {
          "color": "rgba(255,255,255,0)"
         },
         "marker": {
          "color": "#19d3f3"
         },
         "name": "sub-567742_acq-headmotion1_T1w",
         "offsetgroup": "sub-567742_acq-headmotion1_T1w",
         "orientation": "v",
         "pointpos": 0,
         "showlegend": true,
         "type": "box",
         "x": [
          2
         ],
         "x0": " ",
         "xaxis": "x",
         "y": [
          1
         ],
         "y0": " ",
         "yaxis": "y"
        },
        {
         "alignmentgroup": "True",
         "boxpoints": "all",
         "fillcolor": "rgba(255,255,255,0)",
         "hoveron": "points",
         "hovertemplate": "bids_name=sub-567742_acq-headmotion2_T1w<br>condition=%{x}<br>score=%{y}<extra></extra>",
         "legendgroup": "sub-567742_acq-headmotion2_T1w",
         "line": {
          "color": "rgba(255,255,255,0)"
         },
         "marker": {
          "color": "#FF6692"
         },
         "name": "sub-567742_acq-headmotion2_T1w",
         "offsetgroup": "sub-567742_acq-headmotion2_T1w",
         "orientation": "v",
         "pointpos": 0,
         "showlegend": true,
         "type": "box",
         "x": [
          3
         ],
         "x0": " ",
         "xaxis": "x",
         "y": [
          1
         ],
         "y0": " ",
         "yaxis": "y"
        },
        {
         "alignmentgroup": "True",
         "boxpoints": "all",
         "fillcolor": "rgba(255,255,255,0)",
         "hoveron": "points",
         "hovertemplate": "bids_name=sub-567742_acq-standard_T1w<br>condition=%{x}<br>score=%{y}<extra></extra>",
         "legendgroup": "sub-567742_acq-standard_T1w",
         "line": {
          "color": "rgba(255,255,255,0)"
         },
         "marker": {
          "color": "#B6E880"
         },
         "name": "sub-567742_acq-standard_T1w",
         "offsetgroup": "sub-567742_acq-standard_T1w",
         "orientation": "v",
         "pointpos": 0,
         "showlegend": true,
         "type": "box",
         "x": [
          1
         ],
         "x0": " ",
         "xaxis": "x",
         "y": [
          1
         ],
         "y0": " ",
         "yaxis": "y"
        },
        {
         "alignmentgroup": "True",
         "boxpoints": "all",
         "fillcolor": "rgba(255,255,255,0)",
         "hoveron": "points",
         "hovertemplate": "bids_name=sub-570379_acq-headmotion1_T1w<br>condition=%{x}<br>score=%{y}<extra></extra>",
         "legendgroup": "sub-570379_acq-headmotion1_T1w",
         "line": {
          "color": "rgba(255,255,255,0)"
         },
         "marker": {
          "color": "#FF97FF"
         },
         "name": "sub-570379_acq-headmotion1_T1w",
         "offsetgroup": "sub-570379_acq-headmotion1_T1w",
         "orientation": "v",
         "pointpos": 0,
         "showlegend": true,
         "type": "box",
         "x": [
          2
         ],
         "x0": " ",
         "xaxis": "x",
         "y": [
          3
         ],
         "y0": " ",
         "yaxis": "y"
        },
        {
         "alignmentgroup": "True",
         "boxpoints": "all",
         "fillcolor": "rgba(255,255,255,0)",
         "hoveron": "points",
         "hovertemplate": "bids_name=sub-570379_acq-headmotion2_T1w<br>condition=%{x}<br>score=%{y}<extra></extra>",
         "legendgroup": "sub-570379_acq-headmotion2_T1w",
         "line": {
          "color": "rgba(255,255,255,0)"
         },
         "marker": {
          "color": "#FECB52"
         },
         "name": "sub-570379_acq-headmotion2_T1w",
         "offsetgroup": "sub-570379_acq-headmotion2_T1w",
         "orientation": "v",
         "pointpos": 0,
         "showlegend": true,
         "type": "box",
         "x": [
          3
         ],
         "x0": " ",
         "xaxis": "x",
         "y": [
          3
         ],
         "y0": " ",
         "yaxis": "y"
        },
        {
         "alignmentgroup": "True",
         "boxpoints": "all",
         "fillcolor": "rgba(255,255,255,0)",
         "hoveron": "points",
         "hovertemplate": "bids_name=sub-570379_acq-standard_T1w<br>condition=%{x}<br>score=%{y}<extra></extra>",
         "legendgroup": "sub-570379_acq-standard_T1w",
         "line": {
          "color": "rgba(255,255,255,0)"
         },
         "marker": {
          "color": "#636efa"
         },
         "name": "sub-570379_acq-standard_T1w",
         "offsetgroup": "sub-570379_acq-standard_T1w",
         "orientation": "v",
         "pointpos": 0,
         "showlegend": true,
         "type": "box",
         "x": [
          1
         ],
         "x0": " ",
         "xaxis": "x",
         "y": [
          1
         ],
         "y0": " ",
         "yaxis": "y"
        },
        {
         "alignmentgroup": "True",
         "boxpoints": "all",
         "fillcolor": "rgba(255,255,255,0)",
         "hoveron": "points",
         "hovertemplate": "bids_name=sub-579247_acq-headmotion1_T1w<br>condition=%{x}<br>score=%{y}<extra></extra>",
         "legendgroup": "sub-579247_acq-headmotion1_T1w",
         "line": {
          "color": "rgba(255,255,255,0)"
         },
         "marker": {
          "color": "#EF553B"
         },
         "name": "sub-579247_acq-headmotion1_T1w",
         "offsetgroup": "sub-579247_acq-headmotion1_T1w",
         "orientation": "v",
         "pointpos": 0,
         "showlegend": true,
         "type": "box",
         "x": [
          2
         ],
         "x0": " ",
         "xaxis": "x",
         "y": [
          2
         ],
         "y0": " ",
         "yaxis": "y"
        },
        {
         "alignmentgroup": "True",
         "boxpoints": "all",
         "fillcolor": "rgba(255,255,255,0)",
         "hoveron": "points",
         "hovertemplate": "bids_name=sub-579247_acq-headmotion2_T1w<br>condition=%{x}<br>score=%{y}<extra></extra>",
         "legendgroup": "sub-579247_acq-headmotion2_T1w",
         "line": {
          "color": "rgba(255,255,255,0)"
         },
         "marker": {
          "color": "#00cc96"
         },
         "name": "sub-579247_acq-headmotion2_T1w",
         "offsetgroup": "sub-579247_acq-headmotion2_T1w",
         "orientation": "v",
         "pointpos": 0,
         "showlegend": true,
         "type": "box",
         "x": [
          3
         ],
         "x0": " ",
         "xaxis": "x",
         "y": [
          3
         ],
         "y0": " ",
         "yaxis": "y"
        },
        {
         "alignmentgroup": "True",
         "boxpoints": "all",
         "fillcolor": "rgba(255,255,255,0)",
         "hoveron": "points",
         "hovertemplate": "bids_name=sub-579247_acq-standard_T1w<br>condition=%{x}<br>score=%{y}<extra></extra>",
         "legendgroup": "sub-579247_acq-standard_T1w",
         "line": {
          "color": "rgba(255,255,255,0)"
         },
         "marker": {
          "color": "#ab63fa"
         },
         "name": "sub-579247_acq-standard_T1w",
         "offsetgroup": "sub-579247_acq-standard_T1w",
         "orientation": "v",
         "pointpos": 0,
         "showlegend": true,
         "type": "box",
         "x": [
          1
         ],
         "x0": " ",
         "xaxis": "x",
         "y": [
          1
         ],
         "y0": " ",
         "yaxis": "y"
        },
        {
         "alignmentgroup": "True",
         "boxpoints": "all",
         "fillcolor": "rgba(255,255,255,0)",
         "hoveron": "points",
         "hovertemplate": "bids_name=sub-581638_acq-headmotion1_T1w<br>condition=%{x}<br>score=%{y}<extra></extra>",
         "legendgroup": "sub-581638_acq-headmotion1_T1w",
         "line": {
          "color": "rgba(255,255,255,0)"
         },
         "marker": {
          "color": "#FFA15A"
         },
         "name": "sub-581638_acq-headmotion1_T1w",
         "offsetgroup": "sub-581638_acq-headmotion1_T1w",
         "orientation": "v",
         "pointpos": 0,
         "showlegend": true,
         "type": "box",
         "x": [
          2
         ],
         "x0": " ",
         "xaxis": "x",
         "y": [
          2
         ],
         "y0": " ",
         "yaxis": "y"
        },
        {
         "alignmentgroup": "True",
         "boxpoints": "all",
         "fillcolor": "rgba(255,255,255,0)",
         "hoveron": "points",
         "hovertemplate": "bids_name=sub-581638_acq-headmotion2_T1w<br>condition=%{x}<br>score=%{y}<extra></extra>",
         "legendgroup": "sub-581638_acq-headmotion2_T1w",
         "line": {
          "color": "rgba(255,255,255,0)"
         },
         "marker": {
          "color": "#19d3f3"
         },
         "name": "sub-581638_acq-headmotion2_T1w",
         "offsetgroup": "sub-581638_acq-headmotion2_T1w",
         "orientation": "v",
         "pointpos": 0,
         "showlegend": true,
         "type": "box",
         "x": [
          3
         ],
         "x0": " ",
         "xaxis": "x",
         "y": [
          3
         ],
         "y0": " ",
         "yaxis": "y"
        },
        {
         "alignmentgroup": "True",
         "boxpoints": "all",
         "fillcolor": "rgba(255,255,255,0)",
         "hoveron": "points",
         "hovertemplate": "bids_name=sub-581638_acq-standard_T1w<br>condition=%{x}<br>score=%{y}<extra></extra>",
         "legendgroup": "sub-581638_acq-standard_T1w",
         "line": {
          "color": "rgba(255,255,255,0)"
         },
         "marker": {
          "color": "#FF6692"
         },
         "name": "sub-581638_acq-standard_T1w",
         "offsetgroup": "sub-581638_acq-standard_T1w",
         "orientation": "v",
         "pointpos": 0,
         "showlegend": true,
         "type": "box",
         "x": [
          1
         ],
         "x0": " ",
         "xaxis": "x",
         "y": [
          1
         ],
         "y0": " ",
         "yaxis": "y"
        },
        {
         "alignmentgroup": "True",
         "boxpoints": "all",
         "fillcolor": "rgba(255,255,255,0)",
         "hoveron": "points",
         "hovertemplate": "bids_name=sub-584264_acq-headmotion1_T1w<br>condition=%{x}<br>score=%{y}<extra></extra>",
         "legendgroup": "sub-584264_acq-headmotion1_T1w",
         "line": {
          "color": "rgba(255,255,255,0)"
         },
         "marker": {
          "color": "#B6E880"
         },
         "name": "sub-584264_acq-headmotion1_T1w",
         "offsetgroup": "sub-584264_acq-headmotion1_T1w",
         "orientation": "v",
         "pointpos": 0,
         "showlegend": true,
         "type": "box",
         "x": [
          2
         ],
         "x0": " ",
         "xaxis": "x",
         "y": [
          3
         ],
         "y0": " ",
         "yaxis": "y"
        },
        {
         "alignmentgroup": "True",
         "boxpoints": "all",
         "fillcolor": "rgba(255,255,255,0)",
         "hoveron": "points",
         "hovertemplate": "bids_name=sub-584264_acq-headmotion2_T1w<br>condition=%{x}<br>score=%{y}<extra></extra>",
         "legendgroup": "sub-584264_acq-headmotion2_T1w",
         "line": {
          "color": "rgba(255,255,255,0)"
         },
         "marker": {
          "color": "#FF97FF"
         },
         "name": "sub-584264_acq-headmotion2_T1w",
         "offsetgroup": "sub-584264_acq-headmotion2_T1w",
         "orientation": "v",
         "pointpos": 0,
         "showlegend": true,
         "type": "box",
         "x": [
          3
         ],
         "x0": " ",
         "xaxis": "x",
         "y": [
          3
         ],
         "y0": " ",
         "yaxis": "y"
        },
        {
         "alignmentgroup": "True",
         "boxpoints": "all",
         "fillcolor": "rgba(255,255,255,0)",
         "hoveron": "points",
         "hovertemplate": "bids_name=sub-584264_acq-standard_T1w<br>condition=%{x}<br>score=%{y}<extra></extra>",
         "legendgroup": "sub-584264_acq-standard_T1w",
         "line": {
          "color": "rgba(255,255,255,0)"
         },
         "marker": {
          "color": "#FECB52"
         },
         "name": "sub-584264_acq-standard_T1w",
         "offsetgroup": "sub-584264_acq-standard_T1w",
         "orientation": "v",
         "pointpos": 0,
         "showlegend": true,
         "type": "box",
         "x": [
          1
         ],
         "x0": " ",
         "xaxis": "x",
         "y": [
          2
         ],
         "y0": " ",
         "yaxis": "y"
        },
        {
         "alignmentgroup": "True",
         "boxpoints": "all",
         "fillcolor": "rgba(255,255,255,0)",
         "hoveron": "points",
         "hovertemplate": "bids_name=sub-593354_acq-headmotion1_T1w<br>condition=%{x}<br>score=%{y}<extra></extra>",
         "legendgroup": "sub-593354_acq-headmotion1_T1w",
         "line": {
          "color": "rgba(255,255,255,0)"
         },
         "marker": {
          "color": "#636efa"
         },
         "name": "sub-593354_acq-headmotion1_T1w",
         "offsetgroup": "sub-593354_acq-headmotion1_T1w",
         "orientation": "v",
         "pointpos": 0,
         "showlegend": true,
         "type": "box",
         "x": [
          2
         ],
         "x0": " ",
         "xaxis": "x",
         "y": [
          3
         ],
         "y0": " ",
         "yaxis": "y"
        },
        {
         "alignmentgroup": "True",
         "boxpoints": "all",
         "fillcolor": "rgba(255,255,255,0)",
         "hoveron": "points",
         "hovertemplate": "bids_name=sub-593354_acq-headmotion2_T1w<br>condition=%{x}<br>score=%{y}<extra></extra>",
         "legendgroup": "sub-593354_acq-headmotion2_T1w",
         "line": {
          "color": "rgba(255,255,255,0)"
         },
         "marker": {
          "color": "#EF553B"
         },
         "name": "sub-593354_acq-headmotion2_T1w",
         "offsetgroup": "sub-593354_acq-headmotion2_T1w",
         "orientation": "v",
         "pointpos": 0,
         "showlegend": true,
         "type": "box",
         "x": [
          3
         ],
         "x0": " ",
         "xaxis": "x",
         "y": [
          3
         ],
         "y0": " ",
         "yaxis": "y"
        },
        {
         "alignmentgroup": "True",
         "boxpoints": "all",
         "fillcolor": "rgba(255,255,255,0)",
         "hoveron": "points",
         "hovertemplate": "bids_name=sub-593354_acq-standard_T1w<br>condition=%{x}<br>score=%{y}<extra></extra>",
         "legendgroup": "sub-593354_acq-standard_T1w",
         "line": {
          "color": "rgba(255,255,255,0)"
         },
         "marker": {
          "color": "#00cc96"
         },
         "name": "sub-593354_acq-standard_T1w",
         "offsetgroup": "sub-593354_acq-standard_T1w",
         "orientation": "v",
         "pointpos": 0,
         "showlegend": true,
         "type": "box",
         "x": [
          1
         ],
         "x0": " ",
         "xaxis": "x",
         "y": [
          1
         ],
         "y0": " ",
         "yaxis": "y"
        },
        {
         "alignmentgroup": "True",
         "boxpoints": "all",
         "fillcolor": "rgba(255,255,255,0)",
         "hoveron": "points",
         "hovertemplate": "bids_name=sub-597083_acq-headmotion1_T1w<br>condition=%{x}<br>score=%{y}<extra></extra>",
         "legendgroup": "sub-597083_acq-headmotion1_T1w",
         "line": {
          "color": "rgba(255,255,255,0)"
         },
         "marker": {
          "color": "#ab63fa"
         },
         "name": "sub-597083_acq-headmotion1_T1w",
         "offsetgroup": "sub-597083_acq-headmotion1_T1w",
         "orientation": "v",
         "pointpos": 0,
         "showlegend": true,
         "type": "box",
         "x": [
          2
         ],
         "x0": " ",
         "xaxis": "x",
         "y": [
          3
         ],
         "y0": " ",
         "yaxis": "y"
        },
        {
         "alignmentgroup": "True",
         "boxpoints": "all",
         "fillcolor": "rgba(255,255,255,0)",
         "hoveron": "points",
         "hovertemplate": "bids_name=sub-597083_acq-headmotion2_T1w<br>condition=%{x}<br>score=%{y}<extra></extra>",
         "legendgroup": "sub-597083_acq-headmotion2_T1w",
         "line": {
          "color": "rgba(255,255,255,0)"
         },
         "marker": {
          "color": "#FFA15A"
         },
         "name": "sub-597083_acq-headmotion2_T1w",
         "offsetgroup": "sub-597083_acq-headmotion2_T1w",
         "orientation": "v",
         "pointpos": 0,
         "showlegend": true,
         "type": "box",
         "x": [
          3
         ],
         "x0": " ",
         "xaxis": "x",
         "y": [
          3
         ],
         "y0": " ",
         "yaxis": "y"
        },
        {
         "alignmentgroup": "True",
         "boxpoints": "all",
         "fillcolor": "rgba(255,255,255,0)",
         "hoveron": "points",
         "hovertemplate": "bids_name=sub-597083_acq-standard_T1w<br>condition=%{x}<br>score=%{y}<extra></extra>",
         "legendgroup": "sub-597083_acq-standard_T1w",
         "line": {
          "color": "rgba(255,255,255,0)"
         },
         "marker": {
          "color": "#19d3f3"
         },
         "name": "sub-597083_acq-standard_T1w",
         "offsetgroup": "sub-597083_acq-standard_T1w",
         "orientation": "v",
         "pointpos": 0,
         "showlegend": true,
         "type": "box",
         "x": [
          1
         ],
         "x0": " ",
         "xaxis": "x",
         "y": [
          2
         ],
         "y0": " ",
         "yaxis": "y"
        },
        {
         "alignmentgroup": "True",
         "boxpoints": "all",
         "fillcolor": "rgba(255,255,255,0)",
         "hoveron": "points",
         "hovertemplate": "bids_name=sub-598630_acq-headmotion2_T1w<br>condition=%{x}<br>score=%{y}<extra></extra>",
         "legendgroup": "sub-598630_acq-headmotion2_T1w",
         "line": {
          "color": "rgba(255,255,255,0)"
         },
         "marker": {
          "color": "#FF6692"
         },
         "name": "sub-598630_acq-headmotion2_T1w",
         "offsetgroup": "sub-598630_acq-headmotion2_T1w",
         "orientation": "v",
         "pointpos": 0,
         "showlegend": true,
         "type": "box",
         "x": [
          3
         ],
         "x0": " ",
         "xaxis": "x",
         "y": [
          3
         ],
         "y0": " ",
         "yaxis": "y"
        },
        {
         "alignmentgroup": "True",
         "boxpoints": "all",
         "fillcolor": "rgba(255,255,255,0)",
         "hoveron": "points",
         "hovertemplate": "bids_name=sub-598630_acq-standard_T1w<br>condition=%{x}<br>score=%{y}<extra></extra>",
         "legendgroup": "sub-598630_acq-standard_T1w",
         "line": {
          "color": "rgba(255,255,255,0)"
         },
         "marker": {
          "color": "#B6E880"
         },
         "name": "sub-598630_acq-standard_T1w",
         "offsetgroup": "sub-598630_acq-standard_T1w",
         "orientation": "v",
         "pointpos": 0,
         "showlegend": true,
         "type": "box",
         "x": [
          1
         ],
         "x0": " ",
         "xaxis": "x",
         "y": [
          2
         ],
         "y0": " ",
         "yaxis": "y"
        },
        {
         "alignmentgroup": "True",
         "boxpoints": "all",
         "fillcolor": "rgba(255,255,255,0)",
         "hoveron": "points",
         "hovertemplate": "bids_name=sub-599619_acq-headmotion1_T1w<br>condition=%{x}<br>score=%{y}<extra></extra>",
         "legendgroup": "sub-599619_acq-headmotion1_T1w",
         "line": {
          "color": "rgba(255,255,255,0)"
         },
         "marker": {
          "color": "#FF97FF"
         },
         "name": "sub-599619_acq-headmotion1_T1w",
         "offsetgroup": "sub-599619_acq-headmotion1_T1w",
         "orientation": "v",
         "pointpos": 0,
         "showlegend": true,
         "type": "box",
         "x": [
          2
         ],
         "x0": " ",
         "xaxis": "x",
         "y": [
          2
         ],
         "y0": " ",
         "yaxis": "y"
        },
        {
         "alignmentgroup": "True",
         "boxpoints": "all",
         "fillcolor": "rgba(255,255,255,0)",
         "hoveron": "points",
         "hovertemplate": "bids_name=sub-599619_acq-headmotion2_T1w<br>condition=%{x}<br>score=%{y}<extra></extra>",
         "legendgroup": "sub-599619_acq-headmotion2_T1w",
         "line": {
          "color": "rgba(255,255,255,0)"
         },
         "marker": {
          "color": "#FECB52"
         },
         "name": "sub-599619_acq-headmotion2_T1w",
         "offsetgroup": "sub-599619_acq-headmotion2_T1w",
         "orientation": "v",
         "pointpos": 0,
         "showlegend": true,
         "type": "box",
         "x": [
          3
         ],
         "x0": " ",
         "xaxis": "x",
         "y": [
          2
         ],
         "y0": " ",
         "yaxis": "y"
        },
        {
         "alignmentgroup": "True",
         "boxpoints": "all",
         "fillcolor": "rgba(255,255,255,0)",
         "hoveron": "points",
         "hovertemplate": "bids_name=sub-599619_acq-standard_T1w<br>condition=%{x}<br>score=%{y}<extra></extra>",
         "legendgroup": "sub-599619_acq-standard_T1w",
         "line": {
          "color": "rgba(255,255,255,0)"
         },
         "marker": {
          "color": "#636efa"
         },
         "name": "sub-599619_acq-standard_T1w",
         "offsetgroup": "sub-599619_acq-standard_T1w",
         "orientation": "v",
         "pointpos": 0,
         "showlegend": true,
         "type": "box",
         "x": [
          1
         ],
         "x0": " ",
         "xaxis": "x",
         "y": [
          1
         ],
         "y0": " ",
         "yaxis": "y"
        },
        {
         "alignmentgroup": "True",
         "boxpoints": "all",
         "fillcolor": "rgba(255,255,255,0)",
         "hoveron": "points",
         "hovertemplate": "bids_name=sub-602346_acq-headmotion1_T1w<br>condition=%{x}<br>score=%{y}<extra></extra>",
         "legendgroup": "sub-602346_acq-headmotion1_T1w",
         "line": {
          "color": "rgba(255,255,255,0)"
         },
         "marker": {
          "color": "#EF553B"
         },
         "name": "sub-602346_acq-headmotion1_T1w",
         "offsetgroup": "sub-602346_acq-headmotion1_T1w",
         "orientation": "v",
         "pointpos": 0,
         "showlegend": true,
         "type": "box",
         "x": [
          2
         ],
         "x0": " ",
         "xaxis": "x",
         "y": [
          2
         ],
         "y0": " ",
         "yaxis": "y"
        },
        {
         "alignmentgroup": "True",
         "boxpoints": "all",
         "fillcolor": "rgba(255,255,255,0)",
         "hoveron": "points",
         "hovertemplate": "bids_name=sub-602346_acq-headmotion2_T1w<br>condition=%{x}<br>score=%{y}<extra></extra>",
         "legendgroup": "sub-602346_acq-headmotion2_T1w",
         "line": {
          "color": "rgba(255,255,255,0)"
         },
         "marker": {
          "color": "#00cc96"
         },
         "name": "sub-602346_acq-headmotion2_T1w",
         "offsetgroup": "sub-602346_acq-headmotion2_T1w",
         "orientation": "v",
         "pointpos": 0,
         "showlegend": true,
         "type": "box",
         "x": [
          3
         ],
         "x0": " ",
         "xaxis": "x",
         "y": [
          2
         ],
         "y0": " ",
         "yaxis": "y"
        },
        {
         "alignmentgroup": "True",
         "boxpoints": "all",
         "fillcolor": "rgba(255,255,255,0)",
         "hoveron": "points",
         "hovertemplate": "bids_name=sub-602346_acq-standard_T1w<br>condition=%{x}<br>score=%{y}<extra></extra>",
         "legendgroup": "sub-602346_acq-standard_T1w",
         "line": {
          "color": "rgba(255,255,255,0)"
         },
         "marker": {
          "color": "#ab63fa"
         },
         "name": "sub-602346_acq-standard_T1w",
         "offsetgroup": "sub-602346_acq-standard_T1w",
         "orientation": "v",
         "pointpos": 0,
         "showlegend": true,
         "type": "box",
         "x": [
          1
         ],
         "x0": " ",
         "xaxis": "x",
         "y": [
          2
         ],
         "y0": " ",
         "yaxis": "y"
        },
        {
         "alignmentgroup": "True",
         "boxpoints": "all",
         "fillcolor": "rgba(255,255,255,0)",
         "hoveron": "points",
         "hovertemplate": "bids_name=sub-603309_acq-headmotion1_T1w<br>condition=%{x}<br>score=%{y}<extra></extra>",
         "legendgroup": "sub-603309_acq-headmotion1_T1w",
         "line": {
          "color": "rgba(255,255,255,0)"
         },
         "marker": {
          "color": "#FFA15A"
         },
         "name": "sub-603309_acq-headmotion1_T1w",
         "offsetgroup": "sub-603309_acq-headmotion1_T1w",
         "orientation": "v",
         "pointpos": 0,
         "showlegend": true,
         "type": "box",
         "x": [
          2
         ],
         "x0": " ",
         "xaxis": "x",
         "y": [
          2
         ],
         "y0": " ",
         "yaxis": "y"
        },
        {
         "alignmentgroup": "True",
         "boxpoints": "all",
         "fillcolor": "rgba(255,255,255,0)",
         "hoveron": "points",
         "hovertemplate": "bids_name=sub-603309_acq-headmotion2_T1w<br>condition=%{x}<br>score=%{y}<extra></extra>",
         "legendgroup": "sub-603309_acq-headmotion2_T1w",
         "line": {
          "color": "rgba(255,255,255,0)"
         },
         "marker": {
          "color": "#19d3f3"
         },
         "name": "sub-603309_acq-headmotion2_T1w",
         "offsetgroup": "sub-603309_acq-headmotion2_T1w",
         "orientation": "v",
         "pointpos": 0,
         "showlegend": true,
         "type": "box",
         "x": [
          3
         ],
         "x0": " ",
         "xaxis": "x",
         "y": [
          3
         ],
         "y0": " ",
         "yaxis": "y"
        },
        {
         "alignmentgroup": "True",
         "boxpoints": "all",
         "fillcolor": "rgba(255,255,255,0)",
         "hoveron": "points",
         "hovertemplate": "bids_name=sub-603309_acq-standard_T1w<br>condition=%{x}<br>score=%{y}<extra></extra>",
         "legendgroup": "sub-603309_acq-standard_T1w",
         "line": {
          "color": "rgba(255,255,255,0)"
         },
         "marker": {
          "color": "#FF6692"
         },
         "name": "sub-603309_acq-standard_T1w",
         "offsetgroup": "sub-603309_acq-standard_T1w",
         "orientation": "v",
         "pointpos": 0,
         "showlegend": true,
         "type": "box",
         "x": [
          1
         ],
         "x0": " ",
         "xaxis": "x",
         "y": [
          1
         ],
         "y0": " ",
         "yaxis": "y"
        },
        {
         "alignmentgroup": "True",
         "boxpoints": "all",
         "fillcolor": "rgba(255,255,255,0)",
         "hoveron": "points",
         "hovertemplate": "bids_name=sub-607339_acq-headmotion1_T1w<br>condition=%{x}<br>score=%{y}<extra></extra>",
         "legendgroup": "sub-607339_acq-headmotion1_T1w",
         "line": {
          "color": "rgba(255,255,255,0)"
         },
         "marker": {
          "color": "#B6E880"
         },
         "name": "sub-607339_acq-headmotion1_T1w",
         "offsetgroup": "sub-607339_acq-headmotion1_T1w",
         "orientation": "v",
         "pointpos": 0,
         "showlegend": true,
         "type": "box",
         "x": [
          2
         ],
         "x0": " ",
         "xaxis": "x",
         "y": [
          2
         ],
         "y0": " ",
         "yaxis": "y"
        },
        {
         "alignmentgroup": "True",
         "boxpoints": "all",
         "fillcolor": "rgba(255,255,255,0)",
         "hoveron": "points",
         "hovertemplate": "bids_name=sub-607339_acq-headmotion2_T1w<br>condition=%{x}<br>score=%{y}<extra></extra>",
         "legendgroup": "sub-607339_acq-headmotion2_T1w",
         "line": {
          "color": "rgba(255,255,255,0)"
         },
         "marker": {
          "color": "#FF97FF"
         },
         "name": "sub-607339_acq-headmotion2_T1w",
         "offsetgroup": "sub-607339_acq-headmotion2_T1w",
         "orientation": "v",
         "pointpos": 0,
         "showlegend": true,
         "type": "box",
         "x": [
          3
         ],
         "x0": " ",
         "xaxis": "x",
         "y": [
          3
         ],
         "y0": " ",
         "yaxis": "y"
        },
        {
         "alignmentgroup": "True",
         "boxpoints": "all",
         "fillcolor": "rgba(255,255,255,0)",
         "hoveron": "points",
         "hovertemplate": "bids_name=sub-607339_acq-standard_T1w<br>condition=%{x}<br>score=%{y}<extra></extra>",
         "legendgroup": "sub-607339_acq-standard_T1w",
         "line": {
          "color": "rgba(255,255,255,0)"
         },
         "marker": {
          "color": "#FECB52"
         },
         "name": "sub-607339_acq-standard_T1w",
         "offsetgroup": "sub-607339_acq-standard_T1w",
         "orientation": "v",
         "pointpos": 0,
         "showlegend": true,
         "type": "box",
         "x": [
          1
         ],
         "x0": " ",
         "xaxis": "x",
         "y": [
          2
         ],
         "y0": " ",
         "yaxis": "y"
        },
        {
         "alignmentgroup": "True",
         "boxpoints": "all",
         "fillcolor": "rgba(255,255,255,0)",
         "hoveron": "points",
         "hovertemplate": "bids_name=sub-607974_acq-headmotion1_T1w<br>condition=%{x}<br>score=%{y}<extra></extra>",
         "legendgroup": "sub-607974_acq-headmotion1_T1w",
         "line": {
          "color": "rgba(255,255,255,0)"
         },
         "marker": {
          "color": "#636efa"
         },
         "name": "sub-607974_acq-headmotion1_T1w",
         "offsetgroup": "sub-607974_acq-headmotion1_T1w",
         "orientation": "v",
         "pointpos": 0,
         "showlegend": true,
         "type": "box",
         "x": [
          2
         ],
         "x0": " ",
         "xaxis": "x",
         "y": [
          2
         ],
         "y0": " ",
         "yaxis": "y"
        },
        {
         "alignmentgroup": "True",
         "boxpoints": "all",
         "fillcolor": "rgba(255,255,255,0)",
         "hoveron": "points",
         "hovertemplate": "bids_name=sub-607974_acq-headmotion2_T1w<br>condition=%{x}<br>score=%{y}<extra></extra>",
         "legendgroup": "sub-607974_acq-headmotion2_T1w",
         "line": {
          "color": "rgba(255,255,255,0)"
         },
         "marker": {
          "color": "#EF553B"
         },
         "name": "sub-607974_acq-headmotion2_T1w",
         "offsetgroup": "sub-607974_acq-headmotion2_T1w",
         "orientation": "v",
         "pointpos": 0,
         "showlegend": true,
         "type": "box",
         "x": [
          3
         ],
         "x0": " ",
         "xaxis": "x",
         "y": [
          3
         ],
         "y0": " ",
         "yaxis": "y"
        },
        {
         "alignmentgroup": "True",
         "boxpoints": "all",
         "fillcolor": "rgba(255,255,255,0)",
         "hoveron": "points",
         "hovertemplate": "bids_name=sub-607974_acq-standard_T1w<br>condition=%{x}<br>score=%{y}<extra></extra>",
         "legendgroup": "sub-607974_acq-standard_T1w",
         "line": {
          "color": "rgba(255,255,255,0)"
         },
         "marker": {
          "color": "#00cc96"
         },
         "name": "sub-607974_acq-standard_T1w",
         "offsetgroup": "sub-607974_acq-standard_T1w",
         "orientation": "v",
         "pointpos": 0,
         "showlegend": true,
         "type": "box",
         "x": [
          1
         ],
         "x0": " ",
         "xaxis": "x",
         "y": [
          2
         ],
         "y0": " ",
         "yaxis": "y"
        },
        {
         "alignmentgroup": "True",
         "boxpoints": "all",
         "fillcolor": "rgba(255,255,255,0)",
         "hoveron": "points",
         "hovertemplate": "bids_name=sub-611047_acq-headmotion1_T1w<br>condition=%{x}<br>score=%{y}<extra></extra>",
         "legendgroup": "sub-611047_acq-headmotion1_T1w",
         "line": {
          "color": "rgba(255,255,255,0)"
         },
         "marker": {
          "color": "#ab63fa"
         },
         "name": "sub-611047_acq-headmotion1_T1w",
         "offsetgroup": "sub-611047_acq-headmotion1_T1w",
         "orientation": "v",
         "pointpos": 0,
         "showlegend": true,
         "type": "box",
         "x": [
          2
         ],
         "x0": " ",
         "xaxis": "x",
         "y": [
          3
         ],
         "y0": " ",
         "yaxis": "y"
        },
        {
         "alignmentgroup": "True",
         "boxpoints": "all",
         "fillcolor": "rgba(255,255,255,0)",
         "hoveron": "points",
         "hovertemplate": "bids_name=sub-611047_acq-headmotion2_T1w<br>condition=%{x}<br>score=%{y}<extra></extra>",
         "legendgroup": "sub-611047_acq-headmotion2_T1w",
         "line": {
          "color": "rgba(255,255,255,0)"
         },
         "marker": {
          "color": "#FFA15A"
         },
         "name": "sub-611047_acq-headmotion2_T1w",
         "offsetgroup": "sub-611047_acq-headmotion2_T1w",
         "orientation": "v",
         "pointpos": 0,
         "showlegend": true,
         "type": "box",
         "x": [
          3
         ],
         "x0": " ",
         "xaxis": "x",
         "y": [
          3
         ],
         "y0": " ",
         "yaxis": "y"
        },
        {
         "alignmentgroup": "True",
         "boxpoints": "all",
         "fillcolor": "rgba(255,255,255,0)",
         "hoveron": "points",
         "hovertemplate": "bids_name=sub-611047_acq-standard_T1w<br>condition=%{x}<br>score=%{y}<extra></extra>",
         "legendgroup": "sub-611047_acq-standard_T1w",
         "line": {
          "color": "rgba(255,255,255,0)"
         },
         "marker": {
          "color": "#19d3f3"
         },
         "name": "sub-611047_acq-standard_T1w",
         "offsetgroup": "sub-611047_acq-standard_T1w",
         "orientation": "v",
         "pointpos": 0,
         "showlegend": true,
         "type": "box",
         "x": [
          1
         ],
         "x0": " ",
         "xaxis": "x",
         "y": [
          1
         ],
         "y0": " ",
         "yaxis": "y"
        },
        {
         "alignmentgroup": "True",
         "boxpoints": "all",
         "fillcolor": "rgba(255,255,255,0)",
         "hoveron": "points",
         "hovertemplate": "bids_name=sub-613957_acq-headmotion2_T1w<br>condition=%{x}<br>score=%{y}<extra></extra>",
         "legendgroup": "sub-613957_acq-headmotion2_T1w",
         "line": {
          "color": "rgba(255,255,255,0)"
         },
         "marker": {
          "color": "#FF6692"
         },
         "name": "sub-613957_acq-headmotion2_T1w",
         "offsetgroup": "sub-613957_acq-headmotion2_T1w",
         "orientation": "v",
         "pointpos": 0,
         "showlegend": true,
         "type": "box",
         "x": [
          3
         ],
         "x0": " ",
         "xaxis": "x",
         "y": [
          3
         ],
         "y0": " ",
         "yaxis": "y"
        },
        {
         "alignmentgroup": "True",
         "boxpoints": "all",
         "fillcolor": "rgba(255,255,255,0)",
         "hoveron": "points",
         "hovertemplate": "bids_name=sub-613957_acq-standard_T1w<br>condition=%{x}<br>score=%{y}<extra></extra>",
         "legendgroup": "sub-613957_acq-standard_T1w",
         "line": {
          "color": "rgba(255,255,255,0)"
         },
         "marker": {
          "color": "#B6E880"
         },
         "name": "sub-613957_acq-standard_T1w",
         "offsetgroup": "sub-613957_acq-standard_T1w",
         "orientation": "v",
         "pointpos": 0,
         "showlegend": true,
         "type": "box",
         "x": [
          1
         ],
         "x0": " ",
         "xaxis": "x",
         "y": [
          3
         ],
         "y0": " ",
         "yaxis": "y"
        },
        {
         "alignmentgroup": "True",
         "boxpoints": "all",
         "fillcolor": "rgba(255,255,255,0)",
         "hoveron": "points",
         "hovertemplate": "bids_name=sub-630780_acq-headmotion1_T1w<br>condition=%{x}<br>score=%{y}<extra></extra>",
         "legendgroup": "sub-630780_acq-headmotion1_T1w",
         "line": {
          "color": "rgba(255,255,255,0)"
         },
         "marker": {
          "color": "#FF97FF"
         },
         "name": "sub-630780_acq-headmotion1_T1w",
         "offsetgroup": "sub-630780_acq-headmotion1_T1w",
         "orientation": "v",
         "pointpos": 0,
         "showlegend": true,
         "type": "box",
         "x": [
          2
         ],
         "x0": " ",
         "xaxis": "x",
         "y": [
          3
         ],
         "y0": " ",
         "yaxis": "y"
        },
        {
         "alignmentgroup": "True",
         "boxpoints": "all",
         "fillcolor": "rgba(255,255,255,0)",
         "hoveron": "points",
         "hovertemplate": "bids_name=sub-630780_acq-headmotion2_T1w<br>condition=%{x}<br>score=%{y}<extra></extra>",
         "legendgroup": "sub-630780_acq-headmotion2_T1w",
         "line": {
          "color": "rgba(255,255,255,0)"
         },
         "marker": {
          "color": "#FECB52"
         },
         "name": "sub-630780_acq-headmotion2_T1w",
         "offsetgroup": "sub-630780_acq-headmotion2_T1w",
         "orientation": "v",
         "pointpos": 0,
         "showlegend": true,
         "type": "box",
         "x": [
          3
         ],
         "x0": " ",
         "xaxis": "x",
         "y": [
          3
         ],
         "y0": " ",
         "yaxis": "y"
        },
        {
         "alignmentgroup": "True",
         "boxpoints": "all",
         "fillcolor": "rgba(255,255,255,0)",
         "hoveron": "points",
         "hovertemplate": "bids_name=sub-630780_acq-standard_T1w<br>condition=%{x}<br>score=%{y}<extra></extra>",
         "legendgroup": "sub-630780_acq-standard_T1w",
         "line": {
          "color": "rgba(255,255,255,0)"
         },
         "marker": {
          "color": "#636efa"
         },
         "name": "sub-630780_acq-standard_T1w",
         "offsetgroup": "sub-630780_acq-standard_T1w",
         "orientation": "v",
         "pointpos": 0,
         "showlegend": true,
         "type": "box",
         "x": [
          1
         ],
         "x0": " ",
         "xaxis": "x",
         "y": [
          1
         ],
         "y0": " ",
         "yaxis": "y"
        },
        {
         "alignmentgroup": "True",
         "boxpoints": "all",
         "fillcolor": "rgba(255,255,255,0)",
         "hoveron": "points",
         "hovertemplate": "bids_name=sub-645865_acq-headmotion1_T1w<br>condition=%{x}<br>score=%{y}<extra></extra>",
         "legendgroup": "sub-645865_acq-headmotion1_T1w",
         "line": {
          "color": "rgba(255,255,255,0)"
         },
         "marker": {
          "color": "#EF553B"
         },
         "name": "sub-645865_acq-headmotion1_T1w",
         "offsetgroup": "sub-645865_acq-headmotion1_T1w",
         "orientation": "v",
         "pointpos": 0,
         "showlegend": true,
         "type": "box",
         "x": [
          2
         ],
         "x0": " ",
         "xaxis": "x",
         "y": [
          3
         ],
         "y0": " ",
         "yaxis": "y"
        },
        {
         "alignmentgroup": "True",
         "boxpoints": "all",
         "fillcolor": "rgba(255,255,255,0)",
         "hoveron": "points",
         "hovertemplate": "bids_name=sub-645865_acq-headmotion2_T1w<br>condition=%{x}<br>score=%{y}<extra></extra>",
         "legendgroup": "sub-645865_acq-headmotion2_T1w",
         "line": {
          "color": "rgba(255,255,255,0)"
         },
         "marker": {
          "color": "#00cc96"
         },
         "name": "sub-645865_acq-headmotion2_T1w",
         "offsetgroup": "sub-645865_acq-headmotion2_T1w",
         "orientation": "v",
         "pointpos": 0,
         "showlegend": true,
         "type": "box",
         "x": [
          3
         ],
         "x0": " ",
         "xaxis": "x",
         "y": [
          3
         ],
         "y0": " ",
         "yaxis": "y"
        },
        {
         "alignmentgroup": "True",
         "boxpoints": "all",
         "fillcolor": "rgba(255,255,255,0)",
         "hoveron": "points",
         "hovertemplate": "bids_name=sub-645865_acq-standard_T1w<br>condition=%{x}<br>score=%{y}<extra></extra>",
         "legendgroup": "sub-645865_acq-standard_T1w",
         "line": {
          "color": "rgba(255,255,255,0)"
         },
         "marker": {
          "color": "#ab63fa"
         },
         "name": "sub-645865_acq-standard_T1w",
         "offsetgroup": "sub-645865_acq-standard_T1w",
         "orientation": "v",
         "pointpos": 0,
         "showlegend": true,
         "type": "box",
         "x": [
          1
         ],
         "x0": " ",
         "xaxis": "x",
         "y": [
          1
         ],
         "y0": " ",
         "yaxis": "y"
        },
        {
         "alignmentgroup": "True",
         "boxpoints": "all",
         "fillcolor": "rgba(255,255,255,0)",
         "hoveron": "points",
         "hovertemplate": "bids_name=sub-652881_acq-headmotion1_T1w<br>condition=%{x}<br>score=%{y}<extra></extra>",
         "legendgroup": "sub-652881_acq-headmotion1_T1w",
         "line": {
          "color": "rgba(255,255,255,0)"
         },
         "marker": {
          "color": "#FFA15A"
         },
         "name": "sub-652881_acq-headmotion1_T1w",
         "offsetgroup": "sub-652881_acq-headmotion1_T1w",
         "orientation": "v",
         "pointpos": 0,
         "showlegend": true,
         "type": "box",
         "x": [
          2
         ],
         "x0": " ",
         "xaxis": "x",
         "y": [
          2
         ],
         "y0": " ",
         "yaxis": "y"
        },
        {
         "alignmentgroup": "True",
         "boxpoints": "all",
         "fillcolor": "rgba(255,255,255,0)",
         "hoveron": "points",
         "hovertemplate": "bids_name=sub-652881_acq-headmotion2_T1w<br>condition=%{x}<br>score=%{y}<extra></extra>",
         "legendgroup": "sub-652881_acq-headmotion2_T1w",
         "line": {
          "color": "rgba(255,255,255,0)"
         },
         "marker": {
          "color": "#19d3f3"
         },
         "name": "sub-652881_acq-headmotion2_T1w",
         "offsetgroup": "sub-652881_acq-headmotion2_T1w",
         "orientation": "v",
         "pointpos": 0,
         "showlegend": true,
         "type": "box",
         "x": [
          3
         ],
         "x0": " ",
         "xaxis": "x",
         "y": [
          3
         ],
         "y0": " ",
         "yaxis": "y"
        },
        {
         "alignmentgroup": "True",
         "boxpoints": "all",
         "fillcolor": "rgba(255,255,255,0)",
         "hoveron": "points",
         "hovertemplate": "bids_name=sub-652881_acq-standard_T1w<br>condition=%{x}<br>score=%{y}<extra></extra>",
         "legendgroup": "sub-652881_acq-standard_T1w",
         "line": {
          "color": "rgba(255,255,255,0)"
         },
         "marker": {
          "color": "#FF6692"
         },
         "name": "sub-652881_acq-standard_T1w",
         "offsetgroup": "sub-652881_acq-standard_T1w",
         "orientation": "v",
         "pointpos": 0,
         "showlegend": true,
         "type": "box",
         "x": [
          1
         ],
         "x0": " ",
         "xaxis": "x",
         "y": [
          1
         ],
         "y0": " ",
         "yaxis": "y"
        },
        {
         "alignmentgroup": "True",
         "boxpoints": "all",
         "fillcolor": "rgba(255,255,255,0)",
         "hoveron": "points",
         "hovertemplate": "bids_name=sub-654178_acq-headmotion1_T1w<br>condition=%{x}<br>score=%{y}<extra></extra>",
         "legendgroup": "sub-654178_acq-headmotion1_T1w",
         "line": {
          "color": "rgba(255,255,255,0)"
         },
         "marker": {
          "color": "#B6E880"
         },
         "name": "sub-654178_acq-headmotion1_T1w",
         "offsetgroup": "sub-654178_acq-headmotion1_T1w",
         "orientation": "v",
         "pointpos": 0,
         "showlegend": true,
         "type": "box",
         "x": [
          2
         ],
         "x0": " ",
         "xaxis": "x",
         "y": [
          2
         ],
         "y0": " ",
         "yaxis": "y"
        },
        {
         "alignmentgroup": "True",
         "boxpoints": "all",
         "fillcolor": "rgba(255,255,255,0)",
         "hoveron": "points",
         "hovertemplate": "bids_name=sub-654178_acq-headmotion2_T1w<br>condition=%{x}<br>score=%{y}<extra></extra>",
         "legendgroup": "sub-654178_acq-headmotion2_T1w",
         "line": {
          "color": "rgba(255,255,255,0)"
         },
         "marker": {
          "color": "#FF97FF"
         },
         "name": "sub-654178_acq-headmotion2_T1w",
         "offsetgroup": "sub-654178_acq-headmotion2_T1w",
         "orientation": "v",
         "pointpos": 0,
         "showlegend": true,
         "type": "box",
         "x": [
          3
         ],
         "x0": " ",
         "xaxis": "x",
         "y": [
          3
         ],
         "y0": " ",
         "yaxis": "y"
        },
        {
         "alignmentgroup": "True",
         "boxpoints": "all",
         "fillcolor": "rgba(255,255,255,0)",
         "hoveron": "points",
         "hovertemplate": "bids_name=sub-654178_acq-standard_T1w<br>condition=%{x}<br>score=%{y}<extra></extra>",
         "legendgroup": "sub-654178_acq-standard_T1w",
         "line": {
          "color": "rgba(255,255,255,0)"
         },
         "marker": {
          "color": "#FECB52"
         },
         "name": "sub-654178_acq-standard_T1w",
         "offsetgroup": "sub-654178_acq-standard_T1w",
         "orientation": "v",
         "pointpos": 0,
         "showlegend": true,
         "type": "box",
         "x": [
          1
         ],
         "x0": " ",
         "xaxis": "x",
         "y": [
          2
         ],
         "y0": " ",
         "yaxis": "y"
        },
        {
         "alignmentgroup": "True",
         "boxpoints": "all",
         "fillcolor": "rgba(255,255,255,0)",
         "hoveron": "points",
         "hovertemplate": "bids_name=sub-654601_acq-headmotion1_T1w<br>condition=%{x}<br>score=%{y}<extra></extra>",
         "legendgroup": "sub-654601_acq-headmotion1_T1w",
         "line": {
          "color": "rgba(255,255,255,0)"
         },
         "marker": {
          "color": "#636efa"
         },
         "name": "sub-654601_acq-headmotion1_T1w",
         "offsetgroup": "sub-654601_acq-headmotion1_T1w",
         "orientation": "v",
         "pointpos": 0,
         "showlegend": true,
         "type": "box",
         "x": [
          2
         ],
         "x0": " ",
         "xaxis": "x",
         "y": [
          3
         ],
         "y0": " ",
         "yaxis": "y"
        },
        {
         "alignmentgroup": "True",
         "boxpoints": "all",
         "fillcolor": "rgba(255,255,255,0)",
         "hoveron": "points",
         "hovertemplate": "bids_name=sub-654601_acq-headmotion2_T1w<br>condition=%{x}<br>score=%{y}<extra></extra>",
         "legendgroup": "sub-654601_acq-headmotion2_T1w",
         "line": {
          "color": "rgba(255,255,255,0)"
         },
         "marker": {
          "color": "#EF553B"
         },
         "name": "sub-654601_acq-headmotion2_T1w",
         "offsetgroup": "sub-654601_acq-headmotion2_T1w",
         "orientation": "v",
         "pointpos": 0,
         "showlegend": true,
         "type": "box",
         "x": [
          3
         ],
         "x0": " ",
         "xaxis": "x",
         "y": [
          3
         ],
         "y0": " ",
         "yaxis": "y"
        },
        {
         "alignmentgroup": "True",
         "boxpoints": "all",
         "fillcolor": "rgba(255,255,255,0)",
         "hoveron": "points",
         "hovertemplate": "bids_name=sub-654601_acq-standard_T1w<br>condition=%{x}<br>score=%{y}<extra></extra>",
         "legendgroup": "sub-654601_acq-standard_T1w",
         "line": {
          "color": "rgba(255,255,255,0)"
         },
         "marker": {
          "color": "#00cc96"
         },
         "name": "sub-654601_acq-standard_T1w",
         "offsetgroup": "sub-654601_acq-standard_T1w",
         "orientation": "v",
         "pointpos": 0,
         "showlegend": true,
         "type": "box",
         "x": [
          1
         ],
         "x0": " ",
         "xaxis": "x",
         "y": [
          1
         ],
         "y0": " ",
         "yaxis": "y"
        },
        {
         "alignmentgroup": "True",
         "boxpoints": "all",
         "fillcolor": "rgba(255,255,255,0)",
         "hoveron": "points",
         "hovertemplate": "bids_name=sub-664050_acq-headmotion1_T1w<br>condition=%{x}<br>score=%{y}<extra></extra>",
         "legendgroup": "sub-664050_acq-headmotion1_T1w",
         "line": {
          "color": "rgba(255,255,255,0)"
         },
         "marker": {
          "color": "#ab63fa"
         },
         "name": "sub-664050_acq-headmotion1_T1w",
         "offsetgroup": "sub-664050_acq-headmotion1_T1w",
         "orientation": "v",
         "pointpos": 0,
         "showlegend": true,
         "type": "box",
         "x": [
          2
         ],
         "x0": " ",
         "xaxis": "x",
         "y": [
          3
         ],
         "y0": " ",
         "yaxis": "y"
        },
        {
         "alignmentgroup": "True",
         "boxpoints": "all",
         "fillcolor": "rgba(255,255,255,0)",
         "hoveron": "points",
         "hovertemplate": "bids_name=sub-664050_acq-headmotion2_T1w<br>condition=%{x}<br>score=%{y}<extra></extra>",
         "legendgroup": "sub-664050_acq-headmotion2_T1w",
         "line": {
          "color": "rgba(255,255,255,0)"
         },
         "marker": {
          "color": "#FFA15A"
         },
         "name": "sub-664050_acq-headmotion2_T1w",
         "offsetgroup": "sub-664050_acq-headmotion2_T1w",
         "orientation": "v",
         "pointpos": 0,
         "showlegend": true,
         "type": "box",
         "x": [
          3
         ],
         "x0": " ",
         "xaxis": "x",
         "y": [
          3
         ],
         "y0": " ",
         "yaxis": "y"
        },
        {
         "alignmentgroup": "True",
         "boxpoints": "all",
         "fillcolor": "rgba(255,255,255,0)",
         "hoveron": "points",
         "hovertemplate": "bids_name=sub-664050_acq-standard_T1w<br>condition=%{x}<br>score=%{y}<extra></extra>",
         "legendgroup": "sub-664050_acq-standard_T1w",
         "line": {
          "color": "rgba(255,255,255,0)"
         },
         "marker": {
          "color": "#19d3f3"
         },
         "name": "sub-664050_acq-standard_T1w",
         "offsetgroup": "sub-664050_acq-standard_T1w",
         "orientation": "v",
         "pointpos": 0,
         "showlegend": true,
         "type": "box",
         "x": [
          1
         ],
         "x0": " ",
         "xaxis": "x",
         "y": [
          1
         ],
         "y0": " ",
         "yaxis": "y"
        },
        {
         "alignmentgroup": "True",
         "boxpoints": "all",
         "fillcolor": "rgba(255,255,255,0)",
         "hoveron": "points",
         "hovertemplate": "bids_name=sub-669067_acq-headmotion1_T1w<br>condition=%{x}<br>score=%{y}<extra></extra>",
         "legendgroup": "sub-669067_acq-headmotion1_T1w",
         "line": {
          "color": "rgba(255,255,255,0)"
         },
         "marker": {
          "color": "#FF6692"
         },
         "name": "sub-669067_acq-headmotion1_T1w",
         "offsetgroup": "sub-669067_acq-headmotion1_T1w",
         "orientation": "v",
         "pointpos": 0,
         "showlegend": true,
         "type": "box",
         "x": [
          2
         ],
         "x0": " ",
         "xaxis": "x",
         "y": [
          2
         ],
         "y0": " ",
         "yaxis": "y"
        },
        {
         "alignmentgroup": "True",
         "boxpoints": "all",
         "fillcolor": "rgba(255,255,255,0)",
         "hoveron": "points",
         "hovertemplate": "bids_name=sub-669067_acq-headmotion2_T1w<br>condition=%{x}<br>score=%{y}<extra></extra>",
         "legendgroup": "sub-669067_acq-headmotion2_T1w",
         "line": {
          "color": "rgba(255,255,255,0)"
         },
         "marker": {
          "color": "#B6E880"
         },
         "name": "sub-669067_acq-headmotion2_T1w",
         "offsetgroup": "sub-669067_acq-headmotion2_T1w",
         "orientation": "v",
         "pointpos": 0,
         "showlegend": true,
         "type": "box",
         "x": [
          3
         ],
         "x0": " ",
         "xaxis": "x",
         "y": [
          3
         ],
         "y0": " ",
         "yaxis": "y"
        },
        {
         "alignmentgroup": "True",
         "boxpoints": "all",
         "fillcolor": "rgba(255,255,255,0)",
         "hoveron": "points",
         "hovertemplate": "bids_name=sub-669067_acq-standard_T1w<br>condition=%{x}<br>score=%{y}<extra></extra>",
         "legendgroup": "sub-669067_acq-standard_T1w",
         "line": {
          "color": "rgba(255,255,255,0)"
         },
         "marker": {
          "color": "#FF97FF"
         },
         "name": "sub-669067_acq-standard_T1w",
         "offsetgroup": "sub-669067_acq-standard_T1w",
         "orientation": "v",
         "pointpos": 0,
         "showlegend": true,
         "type": "box",
         "x": [
          1
         ],
         "x0": " ",
         "xaxis": "x",
         "y": [
          1
         ],
         "y0": " ",
         "yaxis": "y"
        },
        {
         "alignmentgroup": "True",
         "boxpoints": "all",
         "fillcolor": "rgba(255,255,255,0)",
         "hoveron": "points",
         "hovertemplate": "bids_name=sub-672229_acq-headmotion1_T1w<br>condition=%{x}<br>score=%{y}<extra></extra>",
         "legendgroup": "sub-672229_acq-headmotion1_T1w",
         "line": {
          "color": "rgba(255,255,255,0)"
         },
         "marker": {
          "color": "#FECB52"
         },
         "name": "sub-672229_acq-headmotion1_T1w",
         "offsetgroup": "sub-672229_acq-headmotion1_T1w",
         "orientation": "v",
         "pointpos": 0,
         "showlegend": true,
         "type": "box",
         "x": [
          2
         ],
         "x0": " ",
         "xaxis": "x",
         "y": [
          3
         ],
         "y0": " ",
         "yaxis": "y"
        },
        {
         "alignmentgroup": "True",
         "boxpoints": "all",
         "fillcolor": "rgba(255,255,255,0)",
         "hoveron": "points",
         "hovertemplate": "bids_name=sub-672229_acq-headmotion2_T1w<br>condition=%{x}<br>score=%{y}<extra></extra>",
         "legendgroup": "sub-672229_acq-headmotion2_T1w",
         "line": {
          "color": "rgba(255,255,255,0)"
         },
         "marker": {
          "color": "#636efa"
         },
         "name": "sub-672229_acq-headmotion2_T1w",
         "offsetgroup": "sub-672229_acq-headmotion2_T1w",
         "orientation": "v",
         "pointpos": 0,
         "showlegend": true,
         "type": "box",
         "x": [
          3
         ],
         "x0": " ",
         "xaxis": "x",
         "y": [
          3
         ],
         "y0": " ",
         "yaxis": "y"
        },
        {
         "alignmentgroup": "True",
         "boxpoints": "all",
         "fillcolor": "rgba(255,255,255,0)",
         "hoveron": "points",
         "hovertemplate": "bids_name=sub-672229_acq-standard_T1w<br>condition=%{x}<br>score=%{y}<extra></extra>",
         "legendgroup": "sub-672229_acq-standard_T1w",
         "line": {
          "color": "rgba(255,255,255,0)"
         },
         "marker": {
          "color": "#EF553B"
         },
         "name": "sub-672229_acq-standard_T1w",
         "offsetgroup": "sub-672229_acq-standard_T1w",
         "orientation": "v",
         "pointpos": 0,
         "showlegend": true,
         "type": "box",
         "x": [
          1
         ],
         "x0": " ",
         "xaxis": "x",
         "y": [
          1
         ],
         "y0": " ",
         "yaxis": "y"
        },
        {
         "alignmentgroup": "True",
         "boxpoints": "all",
         "fillcolor": "rgba(255,255,255,0)",
         "hoveron": "points",
         "hovertemplate": "bids_name=sub-678878_acq-headmotion1_T1w<br>condition=%{x}<br>score=%{y}<extra></extra>",
         "legendgroup": "sub-678878_acq-headmotion1_T1w",
         "line": {
          "color": "rgba(255,255,255,0)"
         },
         "marker": {
          "color": "#00cc96"
         },
         "name": "sub-678878_acq-headmotion1_T1w",
         "offsetgroup": "sub-678878_acq-headmotion1_T1w",
         "orientation": "v",
         "pointpos": 0,
         "showlegend": true,
         "type": "box",
         "x": [
          2
         ],
         "x0": " ",
         "xaxis": "x",
         "y": [
          2
         ],
         "y0": " ",
         "yaxis": "y"
        },
        {
         "alignmentgroup": "True",
         "boxpoints": "all",
         "fillcolor": "rgba(255,255,255,0)",
         "hoveron": "points",
         "hovertemplate": "bids_name=sub-678878_acq-headmotion2_T1w<br>condition=%{x}<br>score=%{y}<extra></extra>",
         "legendgroup": "sub-678878_acq-headmotion2_T1w",
         "line": {
          "color": "rgba(255,255,255,0)"
         },
         "marker": {
          "color": "#ab63fa"
         },
         "name": "sub-678878_acq-headmotion2_T1w",
         "offsetgroup": "sub-678878_acq-headmotion2_T1w",
         "orientation": "v",
         "pointpos": 0,
         "showlegend": true,
         "type": "box",
         "x": [
          3
         ],
         "x0": " ",
         "xaxis": "x",
         "y": [
          3
         ],
         "y0": " ",
         "yaxis": "y"
        },
        {
         "alignmentgroup": "True",
         "boxpoints": "all",
         "fillcolor": "rgba(255,255,255,0)",
         "hoveron": "points",
         "hovertemplate": "bids_name=sub-678878_acq-standard_T1w<br>condition=%{x}<br>score=%{y}<extra></extra>",
         "legendgroup": "sub-678878_acq-standard_T1w",
         "line": {
          "color": "rgba(255,255,255,0)"
         },
         "marker": {
          "color": "#FFA15A"
         },
         "name": "sub-678878_acq-standard_T1w",
         "offsetgroup": "sub-678878_acq-standard_T1w",
         "orientation": "v",
         "pointpos": 0,
         "showlegend": true,
         "type": "box",
         "x": [
          1
         ],
         "x0": " ",
         "xaxis": "x",
         "y": [
          1
         ],
         "y0": " ",
         "yaxis": "y"
        },
        {
         "alignmentgroup": "True",
         "boxpoints": "all",
         "fillcolor": "rgba(255,255,255,0)",
         "hoveron": "points",
         "hovertemplate": "bids_name=sub-680990_acq-headmotion1_T1w<br>condition=%{x}<br>score=%{y}<extra></extra>",
         "legendgroup": "sub-680990_acq-headmotion1_T1w",
         "line": {
          "color": "rgba(255,255,255,0)"
         },
         "marker": {
          "color": "#19d3f3"
         },
         "name": "sub-680990_acq-headmotion1_T1w",
         "offsetgroup": "sub-680990_acq-headmotion1_T1w",
         "orientation": "v",
         "pointpos": 0,
         "showlegend": true,
         "type": "box",
         "x": [
          2
         ],
         "x0": " ",
         "xaxis": "x",
         "y": [
          2
         ],
         "y0": " ",
         "yaxis": "y"
        },
        {
         "alignmentgroup": "True",
         "boxpoints": "all",
         "fillcolor": "rgba(255,255,255,0)",
         "hoveron": "points",
         "hovertemplate": "bids_name=sub-680990_acq-headmotion2_T1w<br>condition=%{x}<br>score=%{y}<extra></extra>",
         "legendgroup": "sub-680990_acq-headmotion2_T1w",
         "line": {
          "color": "rgba(255,255,255,0)"
         },
         "marker": {
          "color": "#FF6692"
         },
         "name": "sub-680990_acq-headmotion2_T1w",
         "offsetgroup": "sub-680990_acq-headmotion2_T1w",
         "orientation": "v",
         "pointpos": 0,
         "showlegend": true,
         "type": "box",
         "x": [
          3
         ],
         "x0": " ",
         "xaxis": "x",
         "y": [
          3
         ],
         "y0": " ",
         "yaxis": "y"
        },
        {
         "alignmentgroup": "True",
         "boxpoints": "all",
         "fillcolor": "rgba(255,255,255,0)",
         "hoveron": "points",
         "hovertemplate": "bids_name=sub-680990_acq-standard_T1w<br>condition=%{x}<br>score=%{y}<extra></extra>",
         "legendgroup": "sub-680990_acq-standard_T1w",
         "line": {
          "color": "rgba(255,255,255,0)"
         },
         "marker": {
          "color": "#B6E880"
         },
         "name": "sub-680990_acq-standard_T1w",
         "offsetgroup": "sub-680990_acq-standard_T1w",
         "orientation": "v",
         "pointpos": 0,
         "showlegend": true,
         "type": "box",
         "x": [
          1
         ],
         "x0": " ",
         "xaxis": "x",
         "y": [
          1
         ],
         "y0": " ",
         "yaxis": "y"
        },
        {
         "alignmentgroup": "True",
         "boxpoints": "all",
         "fillcolor": "rgba(255,255,255,0)",
         "hoveron": "points",
         "hovertemplate": "bids_name=sub-687508_acq-headmotion1_T1w<br>condition=%{x}<br>score=%{y}<extra></extra>",
         "legendgroup": "sub-687508_acq-headmotion1_T1w",
         "line": {
          "color": "rgba(255,255,255,0)"
         },
         "marker": {
          "color": "#FF97FF"
         },
         "name": "sub-687508_acq-headmotion1_T1w",
         "offsetgroup": "sub-687508_acq-headmotion1_T1w",
         "orientation": "v",
         "pointpos": 0,
         "showlegend": true,
         "type": "box",
         "x": [
          2
         ],
         "x0": " ",
         "xaxis": "x",
         "y": [
          3
         ],
         "y0": " ",
         "yaxis": "y"
        },
        {
         "alignmentgroup": "True",
         "boxpoints": "all",
         "fillcolor": "rgba(255,255,255,0)",
         "hoveron": "points",
         "hovertemplate": "bids_name=sub-687508_acq-headmotion2_T1w<br>condition=%{x}<br>score=%{y}<extra></extra>",
         "legendgroup": "sub-687508_acq-headmotion2_T1w",
         "line": {
          "color": "rgba(255,255,255,0)"
         },
         "marker": {
          "color": "#FECB52"
         },
         "name": "sub-687508_acq-headmotion2_T1w",
         "offsetgroup": "sub-687508_acq-headmotion2_T1w",
         "orientation": "v",
         "pointpos": 0,
         "showlegend": true,
         "type": "box",
         "x": [
          3
         ],
         "x0": " ",
         "xaxis": "x",
         "y": [
          3
         ],
         "y0": " ",
         "yaxis": "y"
        },
        {
         "alignmentgroup": "True",
         "boxpoints": "all",
         "fillcolor": "rgba(255,255,255,0)",
         "hoveron": "points",
         "hovertemplate": "bids_name=sub-687508_acq-standard_T1w<br>condition=%{x}<br>score=%{y}<extra></extra>",
         "legendgroup": "sub-687508_acq-standard_T1w",
         "line": {
          "color": "rgba(255,255,255,0)"
         },
         "marker": {
          "color": "#636efa"
         },
         "name": "sub-687508_acq-standard_T1w",
         "offsetgroup": "sub-687508_acq-standard_T1w",
         "orientation": "v",
         "pointpos": 0,
         "showlegend": true,
         "type": "box",
         "x": [
          1
         ],
         "x0": " ",
         "xaxis": "x",
         "y": [
          1
         ],
         "y0": " ",
         "yaxis": "y"
        },
        {
         "alignmentgroup": "True",
         "boxpoints": "all",
         "fillcolor": "rgba(255,255,255,0)",
         "hoveron": "points",
         "hovertemplate": "bids_name=sub-691641_acq-headmotion1_T1w<br>condition=%{x}<br>score=%{y}<extra></extra>",
         "legendgroup": "sub-691641_acq-headmotion1_T1w",
         "line": {
          "color": "rgba(255,255,255,0)"
         },
         "marker": {
          "color": "#EF553B"
         },
         "name": "sub-691641_acq-headmotion1_T1w",
         "offsetgroup": "sub-691641_acq-headmotion1_T1w",
         "orientation": "v",
         "pointpos": 0,
         "showlegend": true,
         "type": "box",
         "x": [
          2
         ],
         "x0": " ",
         "xaxis": "x",
         "y": [
          3
         ],
         "y0": " ",
         "yaxis": "y"
        },
        {
         "alignmentgroup": "True",
         "boxpoints": "all",
         "fillcolor": "rgba(255,255,255,0)",
         "hoveron": "points",
         "hovertemplate": "bids_name=sub-691641_acq-headmotion2_T1w<br>condition=%{x}<br>score=%{y}<extra></extra>",
         "legendgroup": "sub-691641_acq-headmotion2_T1w",
         "line": {
          "color": "rgba(255,255,255,0)"
         },
         "marker": {
          "color": "#00cc96"
         },
         "name": "sub-691641_acq-headmotion2_T1w",
         "offsetgroup": "sub-691641_acq-headmotion2_T1w",
         "orientation": "v",
         "pointpos": 0,
         "showlegend": true,
         "type": "box",
         "x": [
          3
         ],
         "x0": " ",
         "xaxis": "x",
         "y": [
          3
         ],
         "y0": " ",
         "yaxis": "y"
        },
        {
         "alignmentgroup": "True",
         "boxpoints": "all",
         "fillcolor": "rgba(255,255,255,0)",
         "hoveron": "points",
         "hovertemplate": "bids_name=sub-691641_acq-standard_T1w<br>condition=%{x}<br>score=%{y}<extra></extra>",
         "legendgroup": "sub-691641_acq-standard_T1w",
         "line": {
          "color": "rgba(255,255,255,0)"
         },
         "marker": {
          "color": "#ab63fa"
         },
         "name": "sub-691641_acq-standard_T1w",
         "offsetgroup": "sub-691641_acq-standard_T1w",
         "orientation": "v",
         "pointpos": 0,
         "showlegend": true,
         "type": "box",
         "x": [
          1
         ],
         "x0": " ",
         "xaxis": "x",
         "y": [
          1
         ],
         "y0": " ",
         "yaxis": "y"
        },
        {
         "alignmentgroup": "True",
         "boxpoints": "all",
         "fillcolor": "rgba(255,255,255,0)",
         "hoveron": "points",
         "hovertemplate": "bids_name=sub-691777_acq-headmotion1_T1w<br>condition=%{x}<br>score=%{y}<extra></extra>",
         "legendgroup": "sub-691777_acq-headmotion1_T1w",
         "line": {
          "color": "rgba(255,255,255,0)"
         },
         "marker": {
          "color": "#FFA15A"
         },
         "name": "sub-691777_acq-headmotion1_T1w",
         "offsetgroup": "sub-691777_acq-headmotion1_T1w",
         "orientation": "v",
         "pointpos": 0,
         "showlegend": true,
         "type": "box",
         "x": [
          2
         ],
         "x0": " ",
         "xaxis": "x",
         "y": [
          2
         ],
         "y0": " ",
         "yaxis": "y"
        },
        {
         "alignmentgroup": "True",
         "boxpoints": "all",
         "fillcolor": "rgba(255,255,255,0)",
         "hoveron": "points",
         "hovertemplate": "bids_name=sub-691777_acq-headmotion2_T1w<br>condition=%{x}<br>score=%{y}<extra></extra>",
         "legendgroup": "sub-691777_acq-headmotion2_T1w",
         "line": {
          "color": "rgba(255,255,255,0)"
         },
         "marker": {
          "color": "#19d3f3"
         },
         "name": "sub-691777_acq-headmotion2_T1w",
         "offsetgroup": "sub-691777_acq-headmotion2_T1w",
         "orientation": "v",
         "pointpos": 0,
         "showlegend": true,
         "type": "box",
         "x": [
          3
         ],
         "x0": " ",
         "xaxis": "x",
         "y": [
          3
         ],
         "y0": " ",
         "yaxis": "y"
        },
        {
         "alignmentgroup": "True",
         "boxpoints": "all",
         "fillcolor": "rgba(255,255,255,0)",
         "hoveron": "points",
         "hovertemplate": "bids_name=sub-691777_acq-standard_T1w<br>condition=%{x}<br>score=%{y}<extra></extra>",
         "legendgroup": "sub-691777_acq-standard_T1w",
         "line": {
          "color": "rgba(255,255,255,0)"
         },
         "marker": {
          "color": "#FF6692"
         },
         "name": "sub-691777_acq-standard_T1w",
         "offsetgroup": "sub-691777_acq-standard_T1w",
         "orientation": "v",
         "pointpos": 0,
         "showlegend": true,
         "type": "box",
         "x": [
          1
         ],
         "x0": " ",
         "xaxis": "x",
         "y": [
          1
         ],
         "y0": " ",
         "yaxis": "y"
        },
        {
         "alignmentgroup": "True",
         "boxpoints": "all",
         "fillcolor": "rgba(255,255,255,0)",
         "hoveron": "points",
         "hovertemplate": "bids_name=sub-694330_acq-headmotion2_T1w<br>condition=%{x}<br>score=%{y}<extra></extra>",
         "legendgroup": "sub-694330_acq-headmotion2_T1w",
         "line": {
          "color": "rgba(255,255,255,0)"
         },
         "marker": {
          "color": "#B6E880"
         },
         "name": "sub-694330_acq-headmotion2_T1w",
         "offsetgroup": "sub-694330_acq-headmotion2_T1w",
         "orientation": "v",
         "pointpos": 0,
         "showlegend": true,
         "type": "box",
         "x": [
          3
         ],
         "x0": " ",
         "xaxis": "x",
         "y": [
          2
         ],
         "y0": " ",
         "yaxis": "y"
        },
        {
         "alignmentgroup": "True",
         "boxpoints": "all",
         "fillcolor": "rgba(255,255,255,0)",
         "hoveron": "points",
         "hovertemplate": "bids_name=sub-694330_acq-standard_T1w<br>condition=%{x}<br>score=%{y}<extra></extra>",
         "legendgroup": "sub-694330_acq-standard_T1w",
         "line": {
          "color": "rgba(255,255,255,0)"
         },
         "marker": {
          "color": "#FF97FF"
         },
         "name": "sub-694330_acq-standard_T1w",
         "offsetgroup": "sub-694330_acq-standard_T1w",
         "orientation": "v",
         "pointpos": 0,
         "showlegend": true,
         "type": "box",
         "x": [
          1
         ],
         "x0": " ",
         "xaxis": "x",
         "y": [
          1
         ],
         "y0": " ",
         "yaxis": "y"
        },
        {
         "alignmentgroup": "True",
         "boxpoints": "all",
         "fillcolor": "rgba(255,255,255,0)",
         "hoveron": "points",
         "hovertemplate": "bids_name=sub-697441_acq-headmotion1_T1w<br>condition=%{x}<br>score=%{y}<extra></extra>",
         "legendgroup": "sub-697441_acq-headmotion1_T1w",
         "line": {
          "color": "rgba(255,255,255,0)"
         },
         "marker": {
          "color": "#FECB52"
         },
         "name": "sub-697441_acq-headmotion1_T1w",
         "offsetgroup": "sub-697441_acq-headmotion1_T1w",
         "orientation": "v",
         "pointpos": 0,
         "showlegend": true,
         "type": "box",
         "x": [
          2
         ],
         "x0": " ",
         "xaxis": "x",
         "y": [
          3
         ],
         "y0": " ",
         "yaxis": "y"
        },
        {
         "alignmentgroup": "True",
         "boxpoints": "all",
         "fillcolor": "rgba(255,255,255,0)",
         "hoveron": "points",
         "hovertemplate": "bids_name=sub-697441_acq-headmotion2_T1w<br>condition=%{x}<br>score=%{y}<extra></extra>",
         "legendgroup": "sub-697441_acq-headmotion2_T1w",
         "line": {
          "color": "rgba(255,255,255,0)"
         },
         "marker": {
          "color": "#636efa"
         },
         "name": "sub-697441_acq-headmotion2_T1w",
         "offsetgroup": "sub-697441_acq-headmotion2_T1w",
         "orientation": "v",
         "pointpos": 0,
         "showlegend": true,
         "type": "box",
         "x": [
          3
         ],
         "x0": " ",
         "xaxis": "x",
         "y": [
          3
         ],
         "y0": " ",
         "yaxis": "y"
        },
        {
         "alignmentgroup": "True",
         "boxpoints": "all",
         "fillcolor": "rgba(255,255,255,0)",
         "hoveron": "points",
         "hovertemplate": "bids_name=sub-697441_acq-standard_T1w<br>condition=%{x}<br>score=%{y}<extra></extra>",
         "legendgroup": "sub-697441_acq-standard_T1w",
         "line": {
          "color": "rgba(255,255,255,0)"
         },
         "marker": {
          "color": "#EF553B"
         },
         "name": "sub-697441_acq-standard_T1w",
         "offsetgroup": "sub-697441_acq-standard_T1w",
         "orientation": "v",
         "pointpos": 0,
         "showlegend": true,
         "type": "box",
         "x": [
          1
         ],
         "x0": " ",
         "xaxis": "x",
         "y": [
          1
         ],
         "y0": " ",
         "yaxis": "y"
        },
        {
         "alignmentgroup": "True",
         "boxpoints": "all",
         "fillcolor": "rgba(255,255,255,0)",
         "hoveron": "points",
         "hovertemplate": "bids_name=sub-707576_acq-headmotion1_T1w<br>condition=%{x}<br>score=%{y}<extra></extra>",
         "legendgroup": "sub-707576_acq-headmotion1_T1w",
         "line": {
          "color": "rgba(255,255,255,0)"
         },
         "marker": {
          "color": "#00cc96"
         },
         "name": "sub-707576_acq-headmotion1_T1w",
         "offsetgroup": "sub-707576_acq-headmotion1_T1w",
         "orientation": "v",
         "pointpos": 0,
         "showlegend": true,
         "type": "box",
         "x": [
          2
         ],
         "x0": " ",
         "xaxis": "x",
         "y": [
          2
         ],
         "y0": " ",
         "yaxis": "y"
        },
        {
         "alignmentgroup": "True",
         "boxpoints": "all",
         "fillcolor": "rgba(255,255,255,0)",
         "hoveron": "points",
         "hovertemplate": "bids_name=sub-707576_acq-headmotion2_T1w<br>condition=%{x}<br>score=%{y}<extra></extra>",
         "legendgroup": "sub-707576_acq-headmotion2_T1w",
         "line": {
          "color": "rgba(255,255,255,0)"
         },
         "marker": {
          "color": "#ab63fa"
         },
         "name": "sub-707576_acq-headmotion2_T1w",
         "offsetgroup": "sub-707576_acq-headmotion2_T1w",
         "orientation": "v",
         "pointpos": 0,
         "showlegend": true,
         "type": "box",
         "x": [
          3
         ],
         "x0": " ",
         "xaxis": "x",
         "y": [
          3
         ],
         "y0": " ",
         "yaxis": "y"
        },
        {
         "alignmentgroup": "True",
         "boxpoints": "all",
         "fillcolor": "rgba(255,255,255,0)",
         "hoveron": "points",
         "hovertemplate": "bids_name=sub-707576_acq-standard_T1w<br>condition=%{x}<br>score=%{y}<extra></extra>",
         "legendgroup": "sub-707576_acq-standard_T1w",
         "line": {
          "color": "rgba(255,255,255,0)"
         },
         "marker": {
          "color": "#FFA15A"
         },
         "name": "sub-707576_acq-standard_T1w",
         "offsetgroup": "sub-707576_acq-standard_T1w",
         "orientation": "v",
         "pointpos": 0,
         "showlegend": true,
         "type": "box",
         "x": [
          1
         ],
         "x0": " ",
         "xaxis": "x",
         "y": [
          1
         ],
         "y0": " ",
         "yaxis": "y"
        },
        {
         "alignmentgroup": "True",
         "boxpoints": "all",
         "fillcolor": "rgba(255,255,255,0)",
         "hoveron": "points",
         "hovertemplate": "bids_name=sub-714347_acq-headmotion1_T1w<br>condition=%{x}<br>score=%{y}<extra></extra>",
         "legendgroup": "sub-714347_acq-headmotion1_T1w",
         "line": {
          "color": "rgba(255,255,255,0)"
         },
         "marker": {
          "color": "#19d3f3"
         },
         "name": "sub-714347_acq-headmotion1_T1w",
         "offsetgroup": "sub-714347_acq-headmotion1_T1w",
         "orientation": "v",
         "pointpos": 0,
         "showlegend": true,
         "type": "box",
         "x": [
          2
         ],
         "x0": " ",
         "xaxis": "x",
         "y": [
          3
         ],
         "y0": " ",
         "yaxis": "y"
        },
        {
         "alignmentgroup": "True",
         "boxpoints": "all",
         "fillcolor": "rgba(255,255,255,0)",
         "hoveron": "points",
         "hovertemplate": "bids_name=sub-714347_acq-headmotion2_T1w<br>condition=%{x}<br>score=%{y}<extra></extra>",
         "legendgroup": "sub-714347_acq-headmotion2_T1w",
         "line": {
          "color": "rgba(255,255,255,0)"
         },
         "marker": {
          "color": "#FF6692"
         },
         "name": "sub-714347_acq-headmotion2_T1w",
         "offsetgroup": "sub-714347_acq-headmotion2_T1w",
         "orientation": "v",
         "pointpos": 0,
         "showlegend": true,
         "type": "box",
         "x": [
          3
         ],
         "x0": " ",
         "xaxis": "x",
         "y": [
          3
         ],
         "y0": " ",
         "yaxis": "y"
        },
        {
         "alignmentgroup": "True",
         "boxpoints": "all",
         "fillcolor": "rgba(255,255,255,0)",
         "hoveron": "points",
         "hovertemplate": "bids_name=sub-714347_acq-standard_T1w<br>condition=%{x}<br>score=%{y}<extra></extra>",
         "legendgroup": "sub-714347_acq-standard_T1w",
         "line": {
          "color": "rgba(255,255,255,0)"
         },
         "marker": {
          "color": "#B6E880"
         },
         "name": "sub-714347_acq-standard_T1w",
         "offsetgroup": "sub-714347_acq-standard_T1w",
         "orientation": "v",
         "pointpos": 0,
         "showlegend": true,
         "type": "box",
         "x": [
          1
         ],
         "x0": " ",
         "xaxis": "x",
         "y": [
          1
         ],
         "y0": " ",
         "yaxis": "y"
        },
        {
         "alignmentgroup": "True",
         "boxpoints": "all",
         "fillcolor": "rgba(255,255,255,0)",
         "hoveron": "points",
         "hovertemplate": "bids_name=sub-723372_acq-headmotion1_T1w<br>condition=%{x}<br>score=%{y}<extra></extra>",
         "legendgroup": "sub-723372_acq-headmotion1_T1w",
         "line": {
          "color": "rgba(255,255,255,0)"
         },
         "marker": {
          "color": "#FF97FF"
         },
         "name": "sub-723372_acq-headmotion1_T1w",
         "offsetgroup": "sub-723372_acq-headmotion1_T1w",
         "orientation": "v",
         "pointpos": 0,
         "showlegend": true,
         "type": "box",
         "x": [
          2
         ],
         "x0": " ",
         "xaxis": "x",
         "y": [
          3
         ],
         "y0": " ",
         "yaxis": "y"
        },
        {
         "alignmentgroup": "True",
         "boxpoints": "all",
         "fillcolor": "rgba(255,255,255,0)",
         "hoveron": "points",
         "hovertemplate": "bids_name=sub-723372_acq-headmotion2_T1w<br>condition=%{x}<br>score=%{y}<extra></extra>",
         "legendgroup": "sub-723372_acq-headmotion2_T1w",
         "line": {
          "color": "rgba(255,255,255,0)"
         },
         "marker": {
          "color": "#FECB52"
         },
         "name": "sub-723372_acq-headmotion2_T1w",
         "offsetgroup": "sub-723372_acq-headmotion2_T1w",
         "orientation": "v",
         "pointpos": 0,
         "showlegend": true,
         "type": "box",
         "x": [
          3
         ],
         "x0": " ",
         "xaxis": "x",
         "y": [
          3
         ],
         "y0": " ",
         "yaxis": "y"
        },
        {
         "alignmentgroup": "True",
         "boxpoints": "all",
         "fillcolor": "rgba(255,255,255,0)",
         "hoveron": "points",
         "hovertemplate": "bids_name=sub-723372_acq-standard_T1w<br>condition=%{x}<br>score=%{y}<extra></extra>",
         "legendgroup": "sub-723372_acq-standard_T1w",
         "line": {
          "color": "rgba(255,255,255,0)"
         },
         "marker": {
          "color": "#636efa"
         },
         "name": "sub-723372_acq-standard_T1w",
         "offsetgroup": "sub-723372_acq-standard_T1w",
         "orientation": "v",
         "pointpos": 0,
         "showlegend": true,
         "type": "box",
         "x": [
          1
         ],
         "x0": " ",
         "xaxis": "x",
         "y": [
          1
         ],
         "y0": " ",
         "yaxis": "y"
        },
        {
         "alignmentgroup": "True",
         "boxpoints": "all",
         "fillcolor": "rgba(255,255,255,0)",
         "hoveron": "points",
         "hovertemplate": "bids_name=sub-740606_acq-headmotion1_T1w<br>condition=%{x}<br>score=%{y}<extra></extra>",
         "legendgroup": "sub-740606_acq-headmotion1_T1w",
         "line": {
          "color": "rgba(255,255,255,0)"
         },
         "marker": {
          "color": "#EF553B"
         },
         "name": "sub-740606_acq-headmotion1_T1w",
         "offsetgroup": "sub-740606_acq-headmotion1_T1w",
         "orientation": "v",
         "pointpos": 0,
         "showlegend": true,
         "type": "box",
         "x": [
          2
         ],
         "x0": " ",
         "xaxis": "x",
         "y": [
          2
         ],
         "y0": " ",
         "yaxis": "y"
        },
        {
         "alignmentgroup": "True",
         "boxpoints": "all",
         "fillcolor": "rgba(255,255,255,0)",
         "hoveron": "points",
         "hovertemplate": "bids_name=sub-740606_acq-headmotion2_T1w<br>condition=%{x}<br>score=%{y}<extra></extra>",
         "legendgroup": "sub-740606_acq-headmotion2_T1w",
         "line": {
          "color": "rgba(255,255,255,0)"
         },
         "marker": {
          "color": "#00cc96"
         },
         "name": "sub-740606_acq-headmotion2_T1w",
         "offsetgroup": "sub-740606_acq-headmotion2_T1w",
         "orientation": "v",
         "pointpos": 0,
         "showlegend": true,
         "type": "box",
         "x": [
          3
         ],
         "x0": " ",
         "xaxis": "x",
         "y": [
          3
         ],
         "y0": " ",
         "yaxis": "y"
        },
        {
         "alignmentgroup": "True",
         "boxpoints": "all",
         "fillcolor": "rgba(255,255,255,0)",
         "hoveron": "points",
         "hovertemplate": "bids_name=sub-740606_acq-standard_T1w<br>condition=%{x}<br>score=%{y}<extra></extra>",
         "legendgroup": "sub-740606_acq-standard_T1w",
         "line": {
          "color": "rgba(255,255,255,0)"
         },
         "marker": {
          "color": "#ab63fa"
         },
         "name": "sub-740606_acq-standard_T1w",
         "offsetgroup": "sub-740606_acq-standard_T1w",
         "orientation": "v",
         "pointpos": 0,
         "showlegend": true,
         "type": "box",
         "x": [
          1
         ],
         "x0": " ",
         "xaxis": "x",
         "y": [
          1
         ],
         "y0": " ",
         "yaxis": "y"
        },
        {
         "alignmentgroup": "True",
         "boxpoints": "all",
         "fillcolor": "rgba(255,255,255,0)",
         "hoveron": "points",
         "hovertemplate": "bids_name=sub-750675_acq-headmotion1_T1w<br>condition=%{x}<br>score=%{y}<extra></extra>",
         "legendgroup": "sub-750675_acq-headmotion1_T1w",
         "line": {
          "color": "rgba(255,255,255,0)"
         },
         "marker": {
          "color": "#FFA15A"
         },
         "name": "sub-750675_acq-headmotion1_T1w",
         "offsetgroup": "sub-750675_acq-headmotion1_T1w",
         "orientation": "v",
         "pointpos": 0,
         "showlegend": true,
         "type": "box",
         "x": [
          2
         ],
         "x0": " ",
         "xaxis": "x",
         "y": [
          3
         ],
         "y0": " ",
         "yaxis": "y"
        },
        {
         "alignmentgroup": "True",
         "boxpoints": "all",
         "fillcolor": "rgba(255,255,255,0)",
         "hoveron": "points",
         "hovertemplate": "bids_name=sub-750675_acq-headmotion2_T1w<br>condition=%{x}<br>score=%{y}<extra></extra>",
         "legendgroup": "sub-750675_acq-headmotion2_T1w",
         "line": {
          "color": "rgba(255,255,255,0)"
         },
         "marker": {
          "color": "#19d3f3"
         },
         "name": "sub-750675_acq-headmotion2_T1w",
         "offsetgroup": "sub-750675_acq-headmotion2_T1w",
         "orientation": "v",
         "pointpos": 0,
         "showlegend": true,
         "type": "box",
         "x": [
          3
         ],
         "x0": " ",
         "xaxis": "x",
         "y": [
          3
         ],
         "y0": " ",
         "yaxis": "y"
        },
        {
         "alignmentgroup": "True",
         "boxpoints": "all",
         "fillcolor": "rgba(255,255,255,0)",
         "hoveron": "points",
         "hovertemplate": "bids_name=sub-750675_acq-standard_T1w<br>condition=%{x}<br>score=%{y}<extra></extra>",
         "legendgroup": "sub-750675_acq-standard_T1w",
         "line": {
          "color": "rgba(255,255,255,0)"
         },
         "marker": {
          "color": "#FF6692"
         },
         "name": "sub-750675_acq-standard_T1w",
         "offsetgroup": "sub-750675_acq-standard_T1w",
         "orientation": "v",
         "pointpos": 0,
         "showlegend": true,
         "type": "box",
         "x": [
          1
         ],
         "x0": " ",
         "xaxis": "x",
         "y": [
          1
         ],
         "y0": " ",
         "yaxis": "y"
        },
        {
         "alignmentgroup": "True",
         "boxpoints": "all",
         "fillcolor": "rgba(255,255,255,0)",
         "hoveron": "points",
         "hovertemplate": "bids_name=sub-754006_acq-headmotion1_T1w<br>condition=%{x}<br>score=%{y}<extra></extra>",
         "legendgroup": "sub-754006_acq-headmotion1_T1w",
         "line": {
          "color": "rgba(255,255,255,0)"
         },
         "marker": {
          "color": "#B6E880"
         },
         "name": "sub-754006_acq-headmotion1_T1w",
         "offsetgroup": "sub-754006_acq-headmotion1_T1w",
         "orientation": "v",
         "pointpos": 0,
         "showlegend": true,
         "type": "box",
         "x": [
          2
         ],
         "x0": " ",
         "xaxis": "x",
         "y": [
          2
         ],
         "y0": " ",
         "yaxis": "y"
        },
        {
         "alignmentgroup": "True",
         "boxpoints": "all",
         "fillcolor": "rgba(255,255,255,0)",
         "hoveron": "points",
         "hovertemplate": "bids_name=sub-754006_acq-headmotion2_T1w<br>condition=%{x}<br>score=%{y}<extra></extra>",
         "legendgroup": "sub-754006_acq-headmotion2_T1w",
         "line": {
          "color": "rgba(255,255,255,0)"
         },
         "marker": {
          "color": "#FF97FF"
         },
         "name": "sub-754006_acq-headmotion2_T1w",
         "offsetgroup": "sub-754006_acq-headmotion2_T1w",
         "orientation": "v",
         "pointpos": 0,
         "showlegend": true,
         "type": "box",
         "x": [
          3
         ],
         "x0": " ",
         "xaxis": "x",
         "y": [
          3
         ],
         "y0": " ",
         "yaxis": "y"
        },
        {
         "alignmentgroup": "True",
         "boxpoints": "all",
         "fillcolor": "rgba(255,255,255,0)",
         "hoveron": "points",
         "hovertemplate": "bids_name=sub-754006_acq-standard_T1w<br>condition=%{x}<br>score=%{y}<extra></extra>",
         "legendgroup": "sub-754006_acq-standard_T1w",
         "line": {
          "color": "rgba(255,255,255,0)"
         },
         "marker": {
          "color": "#FECB52"
         },
         "name": "sub-754006_acq-standard_T1w",
         "offsetgroup": "sub-754006_acq-standard_T1w",
         "orientation": "v",
         "pointpos": 0,
         "showlegend": true,
         "type": "box",
         "x": [
          1
         ],
         "x0": " ",
         "xaxis": "x",
         "y": [
          1
         ],
         "y0": " ",
         "yaxis": "y"
        },
        {
         "alignmentgroup": "True",
         "boxpoints": "all",
         "fillcolor": "rgba(255,255,255,0)",
         "hoveron": "points",
         "hovertemplate": "bids_name=sub-754183_acq-headmotion1_T1w<br>condition=%{x}<br>score=%{y}<extra></extra>",
         "legendgroup": "sub-754183_acq-headmotion1_T1w",
         "line": {
          "color": "rgba(255,255,255,0)"
         },
         "marker": {
          "color": "#636efa"
         },
         "name": "sub-754183_acq-headmotion1_T1w",
         "offsetgroup": "sub-754183_acq-headmotion1_T1w",
         "orientation": "v",
         "pointpos": 0,
         "showlegend": true,
         "type": "box",
         "x": [
          2
         ],
         "x0": " ",
         "xaxis": "x",
         "y": [
          3
         ],
         "y0": " ",
         "yaxis": "y"
        },
        {
         "alignmentgroup": "True",
         "boxpoints": "all",
         "fillcolor": "rgba(255,255,255,0)",
         "hoveron": "points",
         "hovertemplate": "bids_name=sub-754183_acq-headmotion2_T1w<br>condition=%{x}<br>score=%{y}<extra></extra>",
         "legendgroup": "sub-754183_acq-headmotion2_T1w",
         "line": {
          "color": "rgba(255,255,255,0)"
         },
         "marker": {
          "color": "#EF553B"
         },
         "name": "sub-754183_acq-headmotion2_T1w",
         "offsetgroup": "sub-754183_acq-headmotion2_T1w",
         "orientation": "v",
         "pointpos": 0,
         "showlegend": true,
         "type": "box",
         "x": [
          3
         ],
         "x0": " ",
         "xaxis": "x",
         "y": [
          3
         ],
         "y0": " ",
         "yaxis": "y"
        },
        {
         "alignmentgroup": "True",
         "boxpoints": "all",
         "fillcolor": "rgba(255,255,255,0)",
         "hoveron": "points",
         "hovertemplate": "bids_name=sub-754183_acq-standard_T1w<br>condition=%{x}<br>score=%{y}<extra></extra>",
         "legendgroup": "sub-754183_acq-standard_T1w",
         "line": {
          "color": "rgba(255,255,255,0)"
         },
         "marker": {
          "color": "#00cc96"
         },
         "name": "sub-754183_acq-standard_T1w",
         "offsetgroup": "sub-754183_acq-standard_T1w",
         "orientation": "v",
         "pointpos": 0,
         "showlegend": true,
         "type": "box",
         "x": [
          1
         ],
         "x0": " ",
         "xaxis": "x",
         "y": [
          1
         ],
         "y0": " ",
         "yaxis": "y"
        },
        {
         "alignmentgroup": "True",
         "boxpoints": "all",
         "fillcolor": "rgba(255,255,255,0)",
         "hoveron": "points",
         "hovertemplate": "bids_name=sub-757271_acq-headmotion1_T1w<br>condition=%{x}<br>score=%{y}<extra></extra>",
         "legendgroup": "sub-757271_acq-headmotion1_T1w",
         "line": {
          "color": "rgba(255,255,255,0)"
         },
         "marker": {
          "color": "#ab63fa"
         },
         "name": "sub-757271_acq-headmotion1_T1w",
         "offsetgroup": "sub-757271_acq-headmotion1_T1w",
         "orientation": "v",
         "pointpos": 0,
         "showlegend": true,
         "type": "box",
         "x": [
          2
         ],
         "x0": " ",
         "xaxis": "x",
         "y": [
          3
         ],
         "y0": " ",
         "yaxis": "y"
        },
        {
         "alignmentgroup": "True",
         "boxpoints": "all",
         "fillcolor": "rgba(255,255,255,0)",
         "hoveron": "points",
         "hovertemplate": "bids_name=sub-757271_acq-headmotion2_T1w<br>condition=%{x}<br>score=%{y}<extra></extra>",
         "legendgroup": "sub-757271_acq-headmotion2_T1w",
         "line": {
          "color": "rgba(255,255,255,0)"
         },
         "marker": {
          "color": "#FFA15A"
         },
         "name": "sub-757271_acq-headmotion2_T1w",
         "offsetgroup": "sub-757271_acq-headmotion2_T1w",
         "orientation": "v",
         "pointpos": 0,
         "showlegend": true,
         "type": "box",
         "x": [
          3
         ],
         "x0": " ",
         "xaxis": "x",
         "y": [
          3
         ],
         "y0": " ",
         "yaxis": "y"
        },
        {
         "alignmentgroup": "True",
         "boxpoints": "all",
         "fillcolor": "rgba(255,255,255,0)",
         "hoveron": "points",
         "hovertemplate": "bids_name=sub-757271_acq-standard_T1w<br>condition=%{x}<br>score=%{y}<extra></extra>",
         "legendgroup": "sub-757271_acq-standard_T1w",
         "line": {
          "color": "rgba(255,255,255,0)"
         },
         "marker": {
          "color": "#19d3f3"
         },
         "name": "sub-757271_acq-standard_T1w",
         "offsetgroup": "sub-757271_acq-standard_T1w",
         "orientation": "v",
         "pointpos": 0,
         "showlegend": true,
         "type": "box",
         "x": [
          1
         ],
         "x0": " ",
         "xaxis": "x",
         "y": [
          2
         ],
         "y0": " ",
         "yaxis": "y"
        },
        {
         "alignmentgroup": "True",
         "boxpoints": "all",
         "fillcolor": "rgba(255,255,255,0)",
         "hoveron": "points",
         "hovertemplate": "bids_name=sub-764976_acq-headmotion1_T1w<br>condition=%{x}<br>score=%{y}<extra></extra>",
         "legendgroup": "sub-764976_acq-headmotion1_T1w",
         "line": {
          "color": "rgba(255,255,255,0)"
         },
         "marker": {
          "color": "#FF6692"
         },
         "name": "sub-764976_acq-headmotion1_T1w",
         "offsetgroup": "sub-764976_acq-headmotion1_T1w",
         "orientation": "v",
         "pointpos": 0,
         "showlegend": true,
         "type": "box",
         "x": [
          2
         ],
         "x0": " ",
         "xaxis": "x",
         "y": [
          2
         ],
         "y0": " ",
         "yaxis": "y"
        },
        {
         "alignmentgroup": "True",
         "boxpoints": "all",
         "fillcolor": "rgba(255,255,255,0)",
         "hoveron": "points",
         "hovertemplate": "bids_name=sub-764976_acq-headmotion2_T1w<br>condition=%{x}<br>score=%{y}<extra></extra>",
         "legendgroup": "sub-764976_acq-headmotion2_T1w",
         "line": {
          "color": "rgba(255,255,255,0)"
         },
         "marker": {
          "color": "#B6E880"
         },
         "name": "sub-764976_acq-headmotion2_T1w",
         "offsetgroup": "sub-764976_acq-headmotion2_T1w",
         "orientation": "v",
         "pointpos": 0,
         "showlegend": true,
         "type": "box",
         "x": [
          3
         ],
         "x0": " ",
         "xaxis": "x",
         "y": [
          3
         ],
         "y0": " ",
         "yaxis": "y"
        },
        {
         "alignmentgroup": "True",
         "boxpoints": "all",
         "fillcolor": "rgba(255,255,255,0)",
         "hoveron": "points",
         "hovertemplate": "bids_name=sub-764976_acq-standard_T1w<br>condition=%{x}<br>score=%{y}<extra></extra>",
         "legendgroup": "sub-764976_acq-standard_T1w",
         "line": {
          "color": "rgba(255,255,255,0)"
         },
         "marker": {
          "color": "#FF97FF"
         },
         "name": "sub-764976_acq-standard_T1w",
         "offsetgroup": "sub-764976_acq-standard_T1w",
         "orientation": "v",
         "pointpos": 0,
         "showlegend": true,
         "type": "box",
         "x": [
          1
         ],
         "x0": " ",
         "xaxis": "x",
         "y": [
          1
         ],
         "y0": " ",
         "yaxis": "y"
        },
        {
         "alignmentgroup": "True",
         "boxpoints": "all",
         "fillcolor": "rgba(255,255,255,0)",
         "hoveron": "points",
         "hovertemplate": "bids_name=sub-772389_acq-headmotion1_T1w<br>condition=%{x}<br>score=%{y}<extra></extra>",
         "legendgroup": "sub-772389_acq-headmotion1_T1w",
         "line": {
          "color": "rgba(255,255,255,0)"
         },
         "marker": {
          "color": "#FECB52"
         },
         "name": "sub-772389_acq-headmotion1_T1w",
         "offsetgroup": "sub-772389_acq-headmotion1_T1w",
         "orientation": "v",
         "pointpos": 0,
         "showlegend": true,
         "type": "box",
         "x": [
          2
         ],
         "x0": " ",
         "xaxis": "x",
         "y": [
          3
         ],
         "y0": " ",
         "yaxis": "y"
        },
        {
         "alignmentgroup": "True",
         "boxpoints": "all",
         "fillcolor": "rgba(255,255,255,0)",
         "hoveron": "points",
         "hovertemplate": "bids_name=sub-772389_acq-headmotion2_T1w<br>condition=%{x}<br>score=%{y}<extra></extra>",
         "legendgroup": "sub-772389_acq-headmotion2_T1w",
         "line": {
          "color": "rgba(255,255,255,0)"
         },
         "marker": {
          "color": "#636efa"
         },
         "name": "sub-772389_acq-headmotion2_T1w",
         "offsetgroup": "sub-772389_acq-headmotion2_T1w",
         "orientation": "v",
         "pointpos": 0,
         "showlegend": true,
         "type": "box",
         "x": [
          3
         ],
         "x0": " ",
         "xaxis": "x",
         "y": [
          3
         ],
         "y0": " ",
         "yaxis": "y"
        },
        {
         "alignmentgroup": "True",
         "boxpoints": "all",
         "fillcolor": "rgba(255,255,255,0)",
         "hoveron": "points",
         "hovertemplate": "bids_name=sub-772389_acq-standard_T1w<br>condition=%{x}<br>score=%{y}<extra></extra>",
         "legendgroup": "sub-772389_acq-standard_T1w",
         "line": {
          "color": "rgba(255,255,255,0)"
         },
         "marker": {
          "color": "#EF553B"
         },
         "name": "sub-772389_acq-standard_T1w",
         "offsetgroup": "sub-772389_acq-standard_T1w",
         "orientation": "v",
         "pointpos": 0,
         "showlegend": true,
         "type": "box",
         "x": [
          1
         ],
         "x0": " ",
         "xaxis": "x",
         "y": [
          1
         ],
         "y0": " ",
         "yaxis": "y"
        },
        {
         "alignmentgroup": "True",
         "boxpoints": "all",
         "fillcolor": "rgba(255,255,255,0)",
         "hoveron": "points",
         "hovertemplate": "bids_name=sub-778481_acq-headmotion1_T1w<br>condition=%{x}<br>score=%{y}<extra></extra>",
         "legendgroup": "sub-778481_acq-headmotion1_T1w",
         "line": {
          "color": "rgba(255,255,255,0)"
         },
         "marker": {
          "color": "#00cc96"
         },
         "name": "sub-778481_acq-headmotion1_T1w",
         "offsetgroup": "sub-778481_acq-headmotion1_T1w",
         "orientation": "v",
         "pointpos": 0,
         "showlegend": true,
         "type": "box",
         "x": [
          2
         ],
         "x0": " ",
         "xaxis": "x",
         "y": [
          3
         ],
         "y0": " ",
         "yaxis": "y"
        },
        {
         "alignmentgroup": "True",
         "boxpoints": "all",
         "fillcolor": "rgba(255,255,255,0)",
         "hoveron": "points",
         "hovertemplate": "bids_name=sub-778481_acq-headmotion2_T1w<br>condition=%{x}<br>score=%{y}<extra></extra>",
         "legendgroup": "sub-778481_acq-headmotion2_T1w",
         "line": {
          "color": "rgba(255,255,255,0)"
         },
         "marker": {
          "color": "#ab63fa"
         },
         "name": "sub-778481_acq-headmotion2_T1w",
         "offsetgroup": "sub-778481_acq-headmotion2_T1w",
         "orientation": "v",
         "pointpos": 0,
         "showlegend": true,
         "type": "box",
         "x": [
          3
         ],
         "x0": " ",
         "xaxis": "x",
         "y": [
          3
         ],
         "y0": " ",
         "yaxis": "y"
        },
        {
         "alignmentgroup": "True",
         "boxpoints": "all",
         "fillcolor": "rgba(255,255,255,0)",
         "hoveron": "points",
         "hovertemplate": "bids_name=sub-778481_acq-standard_T1w<br>condition=%{x}<br>score=%{y}<extra></extra>",
         "legendgroup": "sub-778481_acq-standard_T1w",
         "line": {
          "color": "rgba(255,255,255,0)"
         },
         "marker": {
          "color": "#FFA15A"
         },
         "name": "sub-778481_acq-standard_T1w",
         "offsetgroup": "sub-778481_acq-standard_T1w",
         "orientation": "v",
         "pointpos": 0,
         "showlegend": true,
         "type": "box",
         "x": [
          1
         ],
         "x0": " ",
         "xaxis": "x",
         "y": [
          1
         ],
         "y0": " ",
         "yaxis": "y"
        },
        {
         "alignmentgroup": "True",
         "boxpoints": "all",
         "fillcolor": "rgba(255,255,255,0)",
         "hoveron": "points",
         "hovertemplate": "bids_name=sub-780660_acq-headmotion1_T1w<br>condition=%{x}<br>score=%{y}<extra></extra>",
         "legendgroup": "sub-780660_acq-headmotion1_T1w",
         "line": {
          "color": "rgba(255,255,255,0)"
         },
         "marker": {
          "color": "#19d3f3"
         },
         "name": "sub-780660_acq-headmotion1_T1w",
         "offsetgroup": "sub-780660_acq-headmotion1_T1w",
         "orientation": "v",
         "pointpos": 0,
         "showlegend": true,
         "type": "box",
         "x": [
          2
         ],
         "x0": " ",
         "xaxis": "x",
         "y": [
          2
         ],
         "y0": " ",
         "yaxis": "y"
        },
        {
         "alignmentgroup": "True",
         "boxpoints": "all",
         "fillcolor": "rgba(255,255,255,0)",
         "hoveron": "points",
         "hovertemplate": "bids_name=sub-780660_acq-headmotion2_T1w<br>condition=%{x}<br>score=%{y}<extra></extra>",
         "legendgroup": "sub-780660_acq-headmotion2_T1w",
         "line": {
          "color": "rgba(255,255,255,0)"
         },
         "marker": {
          "color": "#FF6692"
         },
         "name": "sub-780660_acq-headmotion2_T1w",
         "offsetgroup": "sub-780660_acq-headmotion2_T1w",
         "orientation": "v",
         "pointpos": 0,
         "showlegend": true,
         "type": "box",
         "x": [
          3
         ],
         "x0": " ",
         "xaxis": "x",
         "y": [
          3
         ],
         "y0": " ",
         "yaxis": "y"
        },
        {
         "alignmentgroup": "True",
         "boxpoints": "all",
         "fillcolor": "rgba(255,255,255,0)",
         "hoveron": "points",
         "hovertemplate": "bids_name=sub-780660_acq-standard_T1w<br>condition=%{x}<br>score=%{y}<extra></extra>",
         "legendgroup": "sub-780660_acq-standard_T1w",
         "line": {
          "color": "rgba(255,255,255,0)"
         },
         "marker": {
          "color": "#B6E880"
         },
         "name": "sub-780660_acq-standard_T1w",
         "offsetgroup": "sub-780660_acq-standard_T1w",
         "orientation": "v",
         "pointpos": 0,
         "showlegend": true,
         "type": "box",
         "x": [
          1
         ],
         "x0": " ",
         "xaxis": "x",
         "y": [
          2
         ],
         "y0": " ",
         "yaxis": "y"
        },
        {
         "alignmentgroup": "True",
         "boxpoints": "all",
         "fillcolor": "rgba(255,255,255,0)",
         "hoveron": "points",
         "hovertemplate": "bids_name=sub-788339_acq-headmotion1_T1w<br>condition=%{x}<br>score=%{y}<extra></extra>",
         "legendgroup": "sub-788339_acq-headmotion1_T1w",
         "line": {
          "color": "rgba(255,255,255,0)"
         },
         "marker": {
          "color": "#FF97FF"
         },
         "name": "sub-788339_acq-headmotion1_T1w",
         "offsetgroup": "sub-788339_acq-headmotion1_T1w",
         "orientation": "v",
         "pointpos": 0,
         "showlegend": true,
         "type": "box",
         "x": [
          2
         ],
         "x0": " ",
         "xaxis": "x",
         "y": [
          3
         ],
         "y0": " ",
         "yaxis": "y"
        },
        {
         "alignmentgroup": "True",
         "boxpoints": "all",
         "fillcolor": "rgba(255,255,255,0)",
         "hoveron": "points",
         "hovertemplate": "bids_name=sub-788339_acq-headmotion2_T1w<br>condition=%{x}<br>score=%{y}<extra></extra>",
         "legendgroup": "sub-788339_acq-headmotion2_T1w",
         "line": {
          "color": "rgba(255,255,255,0)"
         },
         "marker": {
          "color": "#FECB52"
         },
         "name": "sub-788339_acq-headmotion2_T1w",
         "offsetgroup": "sub-788339_acq-headmotion2_T1w",
         "orientation": "v",
         "pointpos": 0,
         "showlegend": true,
         "type": "box",
         "x": [
          3
         ],
         "x0": " ",
         "xaxis": "x",
         "y": [
          3
         ],
         "y0": " ",
         "yaxis": "y"
        },
        {
         "alignmentgroup": "True",
         "boxpoints": "all",
         "fillcolor": "rgba(255,255,255,0)",
         "hoveron": "points",
         "hovertemplate": "bids_name=sub-788339_acq-standard_T1w<br>condition=%{x}<br>score=%{y}<extra></extra>",
         "legendgroup": "sub-788339_acq-standard_T1w",
         "line": {
          "color": "rgba(255,255,255,0)"
         },
         "marker": {
          "color": "#636efa"
         },
         "name": "sub-788339_acq-standard_T1w",
         "offsetgroup": "sub-788339_acq-standard_T1w",
         "orientation": "v",
         "pointpos": 0,
         "showlegend": true,
         "type": "box",
         "x": [
          1
         ],
         "x0": " ",
         "xaxis": "x",
         "y": [
          1
         ],
         "y0": " ",
         "yaxis": "y"
        },
        {
         "alignmentgroup": "True",
         "boxpoints": "all",
         "fillcolor": "rgba(255,255,255,0)",
         "hoveron": "points",
         "hovertemplate": "bids_name=sub-791907_acq-headmotion1_T1w<br>condition=%{x}<br>score=%{y}<extra></extra>",
         "legendgroup": "sub-791907_acq-headmotion1_T1w",
         "line": {
          "color": "rgba(255,255,255,0)"
         },
         "marker": {
          "color": "#EF553B"
         },
         "name": "sub-791907_acq-headmotion1_T1w",
         "offsetgroup": "sub-791907_acq-headmotion1_T1w",
         "orientation": "v",
         "pointpos": 0,
         "showlegend": true,
         "type": "box",
         "x": [
          2
         ],
         "x0": " ",
         "xaxis": "x",
         "y": [
          2
         ],
         "y0": " ",
         "yaxis": "y"
        },
        {
         "alignmentgroup": "True",
         "boxpoints": "all",
         "fillcolor": "rgba(255,255,255,0)",
         "hoveron": "points",
         "hovertemplate": "bids_name=sub-791907_acq-headmotion2_T1w<br>condition=%{x}<br>score=%{y}<extra></extra>",
         "legendgroup": "sub-791907_acq-headmotion2_T1w",
         "line": {
          "color": "rgba(255,255,255,0)"
         },
         "marker": {
          "color": "#00cc96"
         },
         "name": "sub-791907_acq-headmotion2_T1w",
         "offsetgroup": "sub-791907_acq-headmotion2_T1w",
         "orientation": "v",
         "pointpos": 0,
         "showlegend": true,
         "type": "box",
         "x": [
          3
         ],
         "x0": " ",
         "xaxis": "x",
         "y": [
          2
         ],
         "y0": " ",
         "yaxis": "y"
        },
        {
         "alignmentgroup": "True",
         "boxpoints": "all",
         "fillcolor": "rgba(255,255,255,0)",
         "hoveron": "points",
         "hovertemplate": "bids_name=sub-791907_acq-standard_T1w<br>condition=%{x}<br>score=%{y}<extra></extra>",
         "legendgroup": "sub-791907_acq-standard_T1w",
         "line": {
          "color": "rgba(255,255,255,0)"
         },
         "marker": {
          "color": "#ab63fa"
         },
         "name": "sub-791907_acq-standard_T1w",
         "offsetgroup": "sub-791907_acq-standard_T1w",
         "orientation": "v",
         "pointpos": 0,
         "showlegend": true,
         "type": "box",
         "x": [
          1
         ],
         "x0": " ",
         "xaxis": "x",
         "y": [
          1
         ],
         "y0": " ",
         "yaxis": "y"
        },
        {
         "alignmentgroup": "True",
         "boxpoints": "all",
         "fillcolor": "rgba(255,255,255,0)",
         "hoveron": "points",
         "hovertemplate": "bids_name=sub-802945_acq-headmotion1_T1w<br>condition=%{x}<br>score=%{y}<extra></extra>",
         "legendgroup": "sub-802945_acq-headmotion1_T1w",
         "line": {
          "color": "rgba(255,255,255,0)"
         },
         "marker": {
          "color": "#FFA15A"
         },
         "name": "sub-802945_acq-headmotion1_T1w",
         "offsetgroup": "sub-802945_acq-headmotion1_T1w",
         "orientation": "v",
         "pointpos": 0,
         "showlegend": true,
         "type": "box",
         "x": [
          2
         ],
         "x0": " ",
         "xaxis": "x",
         "y": [
          1
         ],
         "y0": " ",
         "yaxis": "y"
        },
        {
         "alignmentgroup": "True",
         "boxpoints": "all",
         "fillcolor": "rgba(255,255,255,0)",
         "hoveron": "points",
         "hovertemplate": "bids_name=sub-802945_acq-headmotion2_T1w<br>condition=%{x}<br>score=%{y}<extra></extra>",
         "legendgroup": "sub-802945_acq-headmotion2_T1w",
         "line": {
          "color": "rgba(255,255,255,0)"
         },
         "marker": {
          "color": "#19d3f3"
         },
         "name": "sub-802945_acq-headmotion2_T1w",
         "offsetgroup": "sub-802945_acq-headmotion2_T1w",
         "orientation": "v",
         "pointpos": 0,
         "showlegend": true,
         "type": "box",
         "x": [
          3
         ],
         "x0": " ",
         "xaxis": "x",
         "y": [
          2
         ],
         "y0": " ",
         "yaxis": "y"
        },
        {
         "alignmentgroup": "True",
         "boxpoints": "all",
         "fillcolor": "rgba(255,255,255,0)",
         "hoveron": "points",
         "hovertemplate": "bids_name=sub-802945_acq-standard_T1w<br>condition=%{x}<br>score=%{y}<extra></extra>",
         "legendgroup": "sub-802945_acq-standard_T1w",
         "line": {
          "color": "rgba(255,255,255,0)"
         },
         "marker": {
          "color": "#FF6692"
         },
         "name": "sub-802945_acq-standard_T1w",
         "offsetgroup": "sub-802945_acq-standard_T1w",
         "orientation": "v",
         "pointpos": 0,
         "showlegend": true,
         "type": "box",
         "x": [
          1
         ],
         "x0": " ",
         "xaxis": "x",
         "y": [
          1
         ],
         "y0": " ",
         "yaxis": "y"
        },
        {
         "alignmentgroup": "True",
         "boxpoints": "all",
         "fillcolor": "rgba(255,255,255,0)",
         "hoveron": "points",
         "hovertemplate": "bids_name=sub-809320_acq-headmotion1_T1w<br>condition=%{x}<br>score=%{y}<extra></extra>",
         "legendgroup": "sub-809320_acq-headmotion1_T1w",
         "line": {
          "color": "rgba(255,255,255,0)"
         },
         "marker": {
          "color": "#B6E880"
         },
         "name": "sub-809320_acq-headmotion1_T1w",
         "offsetgroup": "sub-809320_acq-headmotion1_T1w",
         "orientation": "v",
         "pointpos": 0,
         "showlegend": true,
         "type": "box",
         "x": [
          2
         ],
         "x0": " ",
         "xaxis": "x",
         "y": [
          3
         ],
         "y0": " ",
         "yaxis": "y"
        },
        {
         "alignmentgroup": "True",
         "boxpoints": "all",
         "fillcolor": "rgba(255,255,255,0)",
         "hoveron": "points",
         "hovertemplate": "bids_name=sub-809320_acq-headmotion2_T1w<br>condition=%{x}<br>score=%{y}<extra></extra>",
         "legendgroup": "sub-809320_acq-headmotion2_T1w",
         "line": {
          "color": "rgba(255,255,255,0)"
         },
         "marker": {
          "color": "#FF97FF"
         },
         "name": "sub-809320_acq-headmotion2_T1w",
         "offsetgroup": "sub-809320_acq-headmotion2_T1w",
         "orientation": "v",
         "pointpos": 0,
         "showlegend": true,
         "type": "box",
         "x": [
          3
         ],
         "x0": " ",
         "xaxis": "x",
         "y": [
          3
         ],
         "y0": " ",
         "yaxis": "y"
        },
        {
         "alignmentgroup": "True",
         "boxpoints": "all",
         "fillcolor": "rgba(255,255,255,0)",
         "hoveron": "points",
         "hovertemplate": "bids_name=sub-809320_acq-standard_T1w<br>condition=%{x}<br>score=%{y}<extra></extra>",
         "legendgroup": "sub-809320_acq-standard_T1w",
         "line": {
          "color": "rgba(255,255,255,0)"
         },
         "marker": {
          "color": "#FECB52"
         },
         "name": "sub-809320_acq-standard_T1w",
         "offsetgroup": "sub-809320_acq-standard_T1w",
         "orientation": "v",
         "pointpos": 0,
         "showlegend": true,
         "type": "box",
         "x": [
          1
         ],
         "x0": " ",
         "xaxis": "x",
         "y": [
          1
         ],
         "y0": " ",
         "yaxis": "y"
        },
        {
         "alignmentgroup": "True",
         "boxpoints": "all",
         "fillcolor": "rgba(255,255,255,0)",
         "hoveron": "points",
         "hovertemplate": "bids_name=sub-811563_acq-headmotion1_T1w<br>condition=%{x}<br>score=%{y}<extra></extra>",
         "legendgroup": "sub-811563_acq-headmotion1_T1w",
         "line": {
          "color": "rgba(255,255,255,0)"
         },
         "marker": {
          "color": "#636efa"
         },
         "name": "sub-811563_acq-headmotion1_T1w",
         "offsetgroup": "sub-811563_acq-headmotion1_T1w",
         "orientation": "v",
         "pointpos": 0,
         "showlegend": true,
         "type": "box",
         "x": [
          2
         ],
         "x0": " ",
         "xaxis": "x",
         "y": [
          3
         ],
         "y0": " ",
         "yaxis": "y"
        },
        {
         "alignmentgroup": "True",
         "boxpoints": "all",
         "fillcolor": "rgba(255,255,255,0)",
         "hoveron": "points",
         "hovertemplate": "bids_name=sub-811563_acq-headmotion2_T1w<br>condition=%{x}<br>score=%{y}<extra></extra>",
         "legendgroup": "sub-811563_acq-headmotion2_T1w",
         "line": {
          "color": "rgba(255,255,255,0)"
         },
         "marker": {
          "color": "#EF553B"
         },
         "name": "sub-811563_acq-headmotion2_T1w",
         "offsetgroup": "sub-811563_acq-headmotion2_T1w",
         "orientation": "v",
         "pointpos": 0,
         "showlegend": true,
         "type": "box",
         "x": [
          3
         ],
         "x0": " ",
         "xaxis": "x",
         "y": [
          2
         ],
         "y0": " ",
         "yaxis": "y"
        },
        {
         "alignmentgroup": "True",
         "boxpoints": "all",
         "fillcolor": "rgba(255,255,255,0)",
         "hoveron": "points",
         "hovertemplate": "bids_name=sub-811563_acq-standard_T1w<br>condition=%{x}<br>score=%{y}<extra></extra>",
         "legendgroup": "sub-811563_acq-standard_T1w",
         "line": {
          "color": "rgba(255,255,255,0)"
         },
         "marker": {
          "color": "#00cc96"
         },
         "name": "sub-811563_acq-standard_T1w",
         "offsetgroup": "sub-811563_acq-standard_T1w",
         "orientation": "v",
         "pointpos": 0,
         "showlegend": true,
         "type": "box",
         "x": [
          1
         ],
         "x0": " ",
         "xaxis": "x",
         "y": [
          2
         ],
         "y0": " ",
         "yaxis": "y"
        },
        {
         "alignmentgroup": "True",
         "boxpoints": "all",
         "fillcolor": "rgba(255,255,255,0)",
         "hoveron": "points",
         "hovertemplate": "bids_name=sub-830976_acq-headmotion1_T1w<br>condition=%{x}<br>score=%{y}<extra></extra>",
         "legendgroup": "sub-830976_acq-headmotion1_T1w",
         "line": {
          "color": "rgba(255,255,255,0)"
         },
         "marker": {
          "color": "#ab63fa"
         },
         "name": "sub-830976_acq-headmotion1_T1w",
         "offsetgroup": "sub-830976_acq-headmotion1_T1w",
         "orientation": "v",
         "pointpos": 0,
         "showlegend": true,
         "type": "box",
         "x": [
          2
         ],
         "x0": " ",
         "xaxis": "x",
         "y": [
          3
         ],
         "y0": " ",
         "yaxis": "y"
        },
        {
         "alignmentgroup": "True",
         "boxpoints": "all",
         "fillcolor": "rgba(255,255,255,0)",
         "hoveron": "points",
         "hovertemplate": "bids_name=sub-830976_acq-headmotion2_T1w<br>condition=%{x}<br>score=%{y}<extra></extra>",
         "legendgroup": "sub-830976_acq-headmotion2_T1w",
         "line": {
          "color": "rgba(255,255,255,0)"
         },
         "marker": {
          "color": "#FFA15A"
         },
         "name": "sub-830976_acq-headmotion2_T1w",
         "offsetgroup": "sub-830976_acq-headmotion2_T1w",
         "orientation": "v",
         "pointpos": 0,
         "showlegend": true,
         "type": "box",
         "x": [
          3
         ],
         "x0": " ",
         "xaxis": "x",
         "y": [
          3
         ],
         "y0": " ",
         "yaxis": "y"
        },
        {
         "alignmentgroup": "True",
         "boxpoints": "all",
         "fillcolor": "rgba(255,255,255,0)",
         "hoveron": "points",
         "hovertemplate": "bids_name=sub-830976_acq-standard_T1w<br>condition=%{x}<br>score=%{y}<extra></extra>",
         "legendgroup": "sub-830976_acq-standard_T1w",
         "line": {
          "color": "rgba(255,255,255,0)"
         },
         "marker": {
          "color": "#19d3f3"
         },
         "name": "sub-830976_acq-standard_T1w",
         "offsetgroup": "sub-830976_acq-standard_T1w",
         "orientation": "v",
         "pointpos": 0,
         "showlegend": true,
         "type": "box",
         "x": [
          1
         ],
         "x0": " ",
         "xaxis": "x",
         "y": [
          1
         ],
         "y0": " ",
         "yaxis": "y"
        },
        {
         "alignmentgroup": "True",
         "boxpoints": "all",
         "fillcolor": "rgba(255,255,255,0)",
         "hoveron": "points",
         "hovertemplate": "bids_name=sub-848092_acq-headmotion1_T1w<br>condition=%{x}<br>score=%{y}<extra></extra>",
         "legendgroup": "sub-848092_acq-headmotion1_T1w",
         "line": {
          "color": "rgba(255,255,255,0)"
         },
         "marker": {
          "color": "#FF6692"
         },
         "name": "sub-848092_acq-headmotion1_T1w",
         "offsetgroup": "sub-848092_acq-headmotion1_T1w",
         "orientation": "v",
         "pointpos": 0,
         "showlegend": true,
         "type": "box",
         "x": [
          2
         ],
         "x0": " ",
         "xaxis": "x",
         "y": [
          3
         ],
         "y0": " ",
         "yaxis": "y"
        },
        {
         "alignmentgroup": "True",
         "boxpoints": "all",
         "fillcolor": "rgba(255,255,255,0)",
         "hoveron": "points",
         "hovertemplate": "bids_name=sub-848092_acq-headmotion2_T1w<br>condition=%{x}<br>score=%{y}<extra></extra>",
         "legendgroup": "sub-848092_acq-headmotion2_T1w",
         "line": {
          "color": "rgba(255,255,255,0)"
         },
         "marker": {
          "color": "#B6E880"
         },
         "name": "sub-848092_acq-headmotion2_T1w",
         "offsetgroup": "sub-848092_acq-headmotion2_T1w",
         "orientation": "v",
         "pointpos": 0,
         "showlegend": true,
         "type": "box",
         "x": [
          3
         ],
         "x0": " ",
         "xaxis": "x",
         "y": [
          3
         ],
         "y0": " ",
         "yaxis": "y"
        },
        {
         "alignmentgroup": "True",
         "boxpoints": "all",
         "fillcolor": "rgba(255,255,255,0)",
         "hoveron": "points",
         "hovertemplate": "bids_name=sub-848092_acq-standard_T1w<br>condition=%{x}<br>score=%{y}<extra></extra>",
         "legendgroup": "sub-848092_acq-standard_T1w",
         "line": {
          "color": "rgba(255,255,255,0)"
         },
         "marker": {
          "color": "#FF97FF"
         },
         "name": "sub-848092_acq-standard_T1w",
         "offsetgroup": "sub-848092_acq-standard_T1w",
         "orientation": "v",
         "pointpos": 0,
         "showlegend": true,
         "type": "box",
         "x": [
          1
         ],
         "x0": " ",
         "xaxis": "x",
         "y": [
          1
         ],
         "y0": " ",
         "yaxis": "y"
        },
        {
         "alignmentgroup": "True",
         "boxpoints": "all",
         "fillcolor": "rgba(255,255,255,0)",
         "hoveron": "points",
         "hovertemplate": "bids_name=sub-862915_acq-headmotion1_T1w<br>condition=%{x}<br>score=%{y}<extra></extra>",
         "legendgroup": "sub-862915_acq-headmotion1_T1w",
         "line": {
          "color": "rgba(255,255,255,0)"
         },
         "marker": {
          "color": "#FECB52"
         },
         "name": "sub-862915_acq-headmotion1_T1w",
         "offsetgroup": "sub-862915_acq-headmotion1_T1w",
         "orientation": "v",
         "pointpos": 0,
         "showlegend": true,
         "type": "box",
         "x": [
          2
         ],
         "x0": " ",
         "xaxis": "x",
         "y": [
          3
         ],
         "y0": " ",
         "yaxis": "y"
        },
        {
         "alignmentgroup": "True",
         "boxpoints": "all",
         "fillcolor": "rgba(255,255,255,0)",
         "hoveron": "points",
         "hovertemplate": "bids_name=sub-862915_acq-headmotion2_T1w<br>condition=%{x}<br>score=%{y}<extra></extra>",
         "legendgroup": "sub-862915_acq-headmotion2_T1w",
         "line": {
          "color": "rgba(255,255,255,0)"
         },
         "marker": {
          "color": "#636efa"
         },
         "name": "sub-862915_acq-headmotion2_T1w",
         "offsetgroup": "sub-862915_acq-headmotion2_T1w",
         "orientation": "v",
         "pointpos": 0,
         "showlegend": true,
         "type": "box",
         "x": [
          3
         ],
         "x0": " ",
         "xaxis": "x",
         "y": [
          3
         ],
         "y0": " ",
         "yaxis": "y"
        },
        {
         "alignmentgroup": "True",
         "boxpoints": "all",
         "fillcolor": "rgba(255,255,255,0)",
         "hoveron": "points",
         "hovertemplate": "bids_name=sub-862915_acq-standard_T1w<br>condition=%{x}<br>score=%{y}<extra></extra>",
         "legendgroup": "sub-862915_acq-standard_T1w",
         "line": {
          "color": "rgba(255,255,255,0)"
         },
         "marker": {
          "color": "#EF553B"
         },
         "name": "sub-862915_acq-standard_T1w",
         "offsetgroup": "sub-862915_acq-standard_T1w",
         "orientation": "v",
         "pointpos": 0,
         "showlegend": true,
         "type": "box",
         "x": [
          1
         ],
         "x0": " ",
         "xaxis": "x",
         "y": [
          1
         ],
         "y0": " ",
         "yaxis": "y"
        },
        {
         "alignmentgroup": "True",
         "boxpoints": "all",
         "fillcolor": "rgba(255,255,255,0)",
         "hoveron": "points",
         "hovertemplate": "bids_name=sub-865293_acq-headmotion1_T1w<br>condition=%{x}<br>score=%{y}<extra></extra>",
         "legendgroup": "sub-865293_acq-headmotion1_T1w",
         "line": {
          "color": "rgba(255,255,255,0)"
         },
         "marker": {
          "color": "#00cc96"
         },
         "name": "sub-865293_acq-headmotion1_T1w",
         "offsetgroup": "sub-865293_acq-headmotion1_T1w",
         "orientation": "v",
         "pointpos": 0,
         "showlegend": true,
         "type": "box",
         "x": [
          2
         ],
         "x0": " ",
         "xaxis": "x",
         "y": [
          2
         ],
         "y0": " ",
         "yaxis": "y"
        },
        {
         "alignmentgroup": "True",
         "boxpoints": "all",
         "fillcolor": "rgba(255,255,255,0)",
         "hoveron": "points",
         "hovertemplate": "bids_name=sub-865293_acq-headmotion2_T1w<br>condition=%{x}<br>score=%{y}<extra></extra>",
         "legendgroup": "sub-865293_acq-headmotion2_T1w",
         "line": {
          "color": "rgba(255,255,255,0)"
         },
         "marker": {
          "color": "#ab63fa"
         },
         "name": "sub-865293_acq-headmotion2_T1w",
         "offsetgroup": "sub-865293_acq-headmotion2_T1w",
         "orientation": "v",
         "pointpos": 0,
         "showlegend": true,
         "type": "box",
         "x": [
          3
         ],
         "x0": " ",
         "xaxis": "x",
         "y": [
          2
         ],
         "y0": " ",
         "yaxis": "y"
        },
        {
         "alignmentgroup": "True",
         "boxpoints": "all",
         "fillcolor": "rgba(255,255,255,0)",
         "hoveron": "points",
         "hovertemplate": "bids_name=sub-865293_acq-standard_T1w<br>condition=%{x}<br>score=%{y}<extra></extra>",
         "legendgroup": "sub-865293_acq-standard_T1w",
         "line": {
          "color": "rgba(255,255,255,0)"
         },
         "marker": {
          "color": "#FFA15A"
         },
         "name": "sub-865293_acq-standard_T1w",
         "offsetgroup": "sub-865293_acq-standard_T1w",
         "orientation": "v",
         "pointpos": 0,
         "showlegend": true,
         "type": "box",
         "x": [
          1
         ],
         "x0": " ",
         "xaxis": "x",
         "y": [
          1
         ],
         "y0": " ",
         "yaxis": "y"
        },
        {
         "alignmentgroup": "True",
         "boxpoints": "all",
         "fillcolor": "rgba(255,255,255,0)",
         "hoveron": "points",
         "hovertemplate": "bids_name=sub-886764_acq-headmotion1_T1w<br>condition=%{x}<br>score=%{y}<extra></extra>",
         "legendgroup": "sub-886764_acq-headmotion1_T1w",
         "line": {
          "color": "rgba(255,255,255,0)"
         },
         "marker": {
          "color": "#19d3f3"
         },
         "name": "sub-886764_acq-headmotion1_T1w",
         "offsetgroup": "sub-886764_acq-headmotion1_T1w",
         "orientation": "v",
         "pointpos": 0,
         "showlegend": true,
         "type": "box",
         "x": [
          2
         ],
         "x0": " ",
         "xaxis": "x",
         "y": [
          2
         ],
         "y0": " ",
         "yaxis": "y"
        },
        {
         "alignmentgroup": "True",
         "boxpoints": "all",
         "fillcolor": "rgba(255,255,255,0)",
         "hoveron": "points",
         "hovertemplate": "bids_name=sub-886764_acq-headmotion2_T1w<br>condition=%{x}<br>score=%{y}<extra></extra>",
         "legendgroup": "sub-886764_acq-headmotion2_T1w",
         "line": {
          "color": "rgba(255,255,255,0)"
         },
         "marker": {
          "color": "#FF6692"
         },
         "name": "sub-886764_acq-headmotion2_T1w",
         "offsetgroup": "sub-886764_acq-headmotion2_T1w",
         "orientation": "v",
         "pointpos": 0,
         "showlegend": true,
         "type": "box",
         "x": [
          3
         ],
         "x0": " ",
         "xaxis": "x",
         "y": [
          3
         ],
         "y0": " ",
         "yaxis": "y"
        },
        {
         "alignmentgroup": "True",
         "boxpoints": "all",
         "fillcolor": "rgba(255,255,255,0)",
         "hoveron": "points",
         "hovertemplate": "bids_name=sub-886764_acq-standard_T1w<br>condition=%{x}<br>score=%{y}<extra></extra>",
         "legendgroup": "sub-886764_acq-standard_T1w",
         "line": {
          "color": "rgba(255,255,255,0)"
         },
         "marker": {
          "color": "#B6E880"
         },
         "name": "sub-886764_acq-standard_T1w",
         "offsetgroup": "sub-886764_acq-standard_T1w",
         "orientation": "v",
         "pointpos": 0,
         "showlegend": true,
         "type": "box",
         "x": [
          1
         ],
         "x0": " ",
         "xaxis": "x",
         "y": [
          1
         ],
         "y0": " ",
         "yaxis": "y"
        },
        {
         "alignmentgroup": "True",
         "boxpoints": "all",
         "fillcolor": "rgba(255,255,255,0)",
         "hoveron": "points",
         "hovertemplate": "bids_name=sub-890465_acq-headmotion1_T1w<br>condition=%{x}<br>score=%{y}<extra></extra>",
         "legendgroup": "sub-890465_acq-headmotion1_T1w",
         "line": {
          "color": "rgba(255,255,255,0)"
         },
         "marker": {
          "color": "#FF97FF"
         },
         "name": "sub-890465_acq-headmotion1_T1w",
         "offsetgroup": "sub-890465_acq-headmotion1_T1w",
         "orientation": "v",
         "pointpos": 0,
         "showlegend": true,
         "type": "box",
         "x": [
          2
         ],
         "x0": " ",
         "xaxis": "x",
         "y": [
          3
         ],
         "y0": " ",
         "yaxis": "y"
        },
        {
         "alignmentgroup": "True",
         "boxpoints": "all",
         "fillcolor": "rgba(255,255,255,0)",
         "hoveron": "points",
         "hovertemplate": "bids_name=sub-890465_acq-headmotion2_T1w<br>condition=%{x}<br>score=%{y}<extra></extra>",
         "legendgroup": "sub-890465_acq-headmotion2_T1w",
         "line": {
          "color": "rgba(255,255,255,0)"
         },
         "marker": {
          "color": "#FECB52"
         },
         "name": "sub-890465_acq-headmotion2_T1w",
         "offsetgroup": "sub-890465_acq-headmotion2_T1w",
         "orientation": "v",
         "pointpos": 0,
         "showlegend": true,
         "type": "box",
         "x": [
          3
         ],
         "x0": " ",
         "xaxis": "x",
         "y": [
          3
         ],
         "y0": " ",
         "yaxis": "y"
        },
        {
         "alignmentgroup": "True",
         "boxpoints": "all",
         "fillcolor": "rgba(255,255,255,0)",
         "hoveron": "points",
         "hovertemplate": "bids_name=sub-890465_acq-standard_T1w<br>condition=%{x}<br>score=%{y}<extra></extra>",
         "legendgroup": "sub-890465_acq-standard_T1w",
         "line": {
          "color": "rgba(255,255,255,0)"
         },
         "marker": {
          "color": "#636efa"
         },
         "name": "sub-890465_acq-standard_T1w",
         "offsetgroup": "sub-890465_acq-standard_T1w",
         "orientation": "v",
         "pointpos": 0,
         "showlegend": true,
         "type": "box",
         "x": [
          1
         ],
         "x0": " ",
         "xaxis": "x",
         "y": [
          1
         ],
         "y0": " ",
         "yaxis": "y"
        },
        {
         "alignmentgroup": "True",
         "boxpoints": "all",
         "fillcolor": "rgba(255,255,255,0)",
         "hoveron": "points",
         "hovertemplate": "bids_name=sub-914102_acq-headmotion1_T1w<br>condition=%{x}<br>score=%{y}<extra></extra>",
         "legendgroup": "sub-914102_acq-headmotion1_T1w",
         "line": {
          "color": "rgba(255,255,255,0)"
         },
         "marker": {
          "color": "#EF553B"
         },
         "name": "sub-914102_acq-headmotion1_T1w",
         "offsetgroup": "sub-914102_acq-headmotion1_T1w",
         "orientation": "v",
         "pointpos": 0,
         "showlegend": true,
         "type": "box",
         "x": [
          2
         ],
         "x0": " ",
         "xaxis": "x",
         "y": [
          3
         ],
         "y0": " ",
         "yaxis": "y"
        },
        {
         "alignmentgroup": "True",
         "boxpoints": "all",
         "fillcolor": "rgba(255,255,255,0)",
         "hoveron": "points",
         "hovertemplate": "bids_name=sub-914102_acq-headmotion2_T1w<br>condition=%{x}<br>score=%{y}<extra></extra>",
         "legendgroup": "sub-914102_acq-headmotion2_T1w",
         "line": {
          "color": "rgba(255,255,255,0)"
         },
         "marker": {
          "color": "#00cc96"
         },
         "name": "sub-914102_acq-headmotion2_T1w",
         "offsetgroup": "sub-914102_acq-headmotion2_T1w",
         "orientation": "v",
         "pointpos": 0,
         "showlegend": true,
         "type": "box",
         "x": [
          3
         ],
         "x0": " ",
         "xaxis": "x",
         "y": [
          3
         ],
         "y0": " ",
         "yaxis": "y"
        },
        {
         "alignmentgroup": "True",
         "boxpoints": "all",
         "fillcolor": "rgba(255,255,255,0)",
         "hoveron": "points",
         "hovertemplate": "bids_name=sub-914102_acq-standard_T1w<br>condition=%{x}<br>score=%{y}<extra></extra>",
         "legendgroup": "sub-914102_acq-standard_T1w",
         "line": {
          "color": "rgba(255,255,255,0)"
         },
         "marker": {
          "color": "#ab63fa"
         },
         "name": "sub-914102_acq-standard_T1w",
         "offsetgroup": "sub-914102_acq-standard_T1w",
         "orientation": "v",
         "pointpos": 0,
         "showlegend": true,
         "type": "box",
         "x": [
          1
         ],
         "x0": " ",
         "xaxis": "x",
         "y": [
          1
         ],
         "y0": " ",
         "yaxis": "y"
        },
        {
         "alignmentgroup": "True",
         "boxpoints": "all",
         "fillcolor": "rgba(255,255,255,0)",
         "hoveron": "points",
         "hovertemplate": "bids_name=sub-923660_acq-headmotion1_T1w<br>condition=%{x}<br>score=%{y}<extra></extra>",
         "legendgroup": "sub-923660_acq-headmotion1_T1w",
         "line": {
          "color": "rgba(255,255,255,0)"
         },
         "marker": {
          "color": "#FFA15A"
         },
         "name": "sub-923660_acq-headmotion1_T1w",
         "offsetgroup": "sub-923660_acq-headmotion1_T1w",
         "orientation": "v",
         "pointpos": 0,
         "showlegend": true,
         "type": "box",
         "x": [
          2
         ],
         "x0": " ",
         "xaxis": "x",
         "y": [
          3
         ],
         "y0": " ",
         "yaxis": "y"
        },
        {
         "alignmentgroup": "True",
         "boxpoints": "all",
         "fillcolor": "rgba(255,255,255,0)",
         "hoveron": "points",
         "hovertemplate": "bids_name=sub-923660_acq-headmotion2_T1w<br>condition=%{x}<br>score=%{y}<extra></extra>",
         "legendgroup": "sub-923660_acq-headmotion2_T1w",
         "line": {
          "color": "rgba(255,255,255,0)"
         },
         "marker": {
          "color": "#19d3f3"
         },
         "name": "sub-923660_acq-headmotion2_T1w",
         "offsetgroup": "sub-923660_acq-headmotion2_T1w",
         "orientation": "v",
         "pointpos": 0,
         "showlegend": true,
         "type": "box",
         "x": [
          3
         ],
         "x0": " ",
         "xaxis": "x",
         "y": [
          3
         ],
         "y0": " ",
         "yaxis": "y"
        },
        {
         "alignmentgroup": "True",
         "boxpoints": "all",
         "fillcolor": "rgba(255,255,255,0)",
         "hoveron": "points",
         "hovertemplate": "bids_name=sub-923660_acq-standard_T1w<br>condition=%{x}<br>score=%{y}<extra></extra>",
         "legendgroup": "sub-923660_acq-standard_T1w",
         "line": {
          "color": "rgba(255,255,255,0)"
         },
         "marker": {
          "color": "#FF6692"
         },
         "name": "sub-923660_acq-standard_T1w",
         "offsetgroup": "sub-923660_acq-standard_T1w",
         "orientation": "v",
         "pointpos": 0,
         "showlegend": true,
         "type": "box",
         "x": [
          1
         ],
         "x0": " ",
         "xaxis": "x",
         "y": [
          1
         ],
         "y0": " ",
         "yaxis": "y"
        },
        {
         "alignmentgroup": "True",
         "boxpoints": "all",
         "fillcolor": "rgba(255,255,255,0)",
         "hoveron": "points",
         "hovertemplate": "bids_name=sub-926536_acq-headmotion1_T1w<br>condition=%{x}<br>score=%{y}<extra></extra>",
         "legendgroup": "sub-926536_acq-headmotion1_T1w",
         "line": {
          "color": "rgba(255,255,255,0)"
         },
         "marker": {
          "color": "#B6E880"
         },
         "name": "sub-926536_acq-headmotion1_T1w",
         "offsetgroup": "sub-926536_acq-headmotion1_T1w",
         "orientation": "v",
         "pointpos": 0,
         "showlegend": true,
         "type": "box",
         "x": [
          2
         ],
         "x0": " ",
         "xaxis": "x",
         "y": [
          3
         ],
         "y0": " ",
         "yaxis": "y"
        },
        {
         "alignmentgroup": "True",
         "boxpoints": "all",
         "fillcolor": "rgba(255,255,255,0)",
         "hoveron": "points",
         "hovertemplate": "bids_name=sub-926536_acq-headmotion2_T1w<br>condition=%{x}<br>score=%{y}<extra></extra>",
         "legendgroup": "sub-926536_acq-headmotion2_T1w",
         "line": {
          "color": "rgba(255,255,255,0)"
         },
         "marker": {
          "color": "#FF97FF"
         },
         "name": "sub-926536_acq-headmotion2_T1w",
         "offsetgroup": "sub-926536_acq-headmotion2_T1w",
         "orientation": "v",
         "pointpos": 0,
         "showlegend": true,
         "type": "box",
         "x": [
          3
         ],
         "x0": " ",
         "xaxis": "x",
         "y": [
          3
         ],
         "y0": " ",
         "yaxis": "y"
        },
        {
         "alignmentgroup": "True",
         "boxpoints": "all",
         "fillcolor": "rgba(255,255,255,0)",
         "hoveron": "points",
         "hovertemplate": "bids_name=sub-926536_acq-standard_T1w<br>condition=%{x}<br>score=%{y}<extra></extra>",
         "legendgroup": "sub-926536_acq-standard_T1w",
         "line": {
          "color": "rgba(255,255,255,0)"
         },
         "marker": {
          "color": "#FECB52"
         },
         "name": "sub-926536_acq-standard_T1w",
         "offsetgroup": "sub-926536_acq-standard_T1w",
         "orientation": "v",
         "pointpos": 0,
         "showlegend": true,
         "type": "box",
         "x": [
          1
         ],
         "x0": " ",
         "xaxis": "x",
         "y": [
          1
         ],
         "y0": " ",
         "yaxis": "y"
        },
        {
         "alignmentgroup": "True",
         "boxpoints": "all",
         "fillcolor": "rgba(255,255,255,0)",
         "hoveron": "points",
         "hovertemplate": "bids_name=sub-927452_acq-headmotion1_T1w<br>condition=%{x}<br>score=%{y}<extra></extra>",
         "legendgroup": "sub-927452_acq-headmotion1_T1w",
         "line": {
          "color": "rgba(255,255,255,0)"
         },
         "marker": {
          "color": "#636efa"
         },
         "name": "sub-927452_acq-headmotion1_T1w",
         "offsetgroup": "sub-927452_acq-headmotion1_T1w",
         "orientation": "v",
         "pointpos": 0,
         "showlegend": true,
         "type": "box",
         "x": [
          2
         ],
         "x0": " ",
         "xaxis": "x",
         "y": [
          2
         ],
         "y0": " ",
         "yaxis": "y"
        },
        {
         "alignmentgroup": "True",
         "boxpoints": "all",
         "fillcolor": "rgba(255,255,255,0)",
         "hoveron": "points",
         "hovertemplate": "bids_name=sub-927452_acq-headmotion2_T1w<br>condition=%{x}<br>score=%{y}<extra></extra>",
         "legendgroup": "sub-927452_acq-headmotion2_T1w",
         "line": {
          "color": "rgba(255,255,255,0)"
         },
         "marker": {
          "color": "#EF553B"
         },
         "name": "sub-927452_acq-headmotion2_T1w",
         "offsetgroup": "sub-927452_acq-headmotion2_T1w",
         "orientation": "v",
         "pointpos": 0,
         "showlegend": true,
         "type": "box",
         "x": [
          3
         ],
         "x0": " ",
         "xaxis": "x",
         "y": [
          2
         ],
         "y0": " ",
         "yaxis": "y"
        },
        {
         "alignmentgroup": "True",
         "boxpoints": "all",
         "fillcolor": "rgba(255,255,255,0)",
         "hoveron": "points",
         "hovertemplate": "bids_name=sub-927452_acq-standard_T1w<br>condition=%{x}<br>score=%{y}<extra></extra>",
         "legendgroup": "sub-927452_acq-standard_T1w",
         "line": {
          "color": "rgba(255,255,255,0)"
         },
         "marker": {
          "color": "#00cc96"
         },
         "name": "sub-927452_acq-standard_T1w",
         "offsetgroup": "sub-927452_acq-standard_T1w",
         "orientation": "v",
         "pointpos": 0,
         "showlegend": true,
         "type": "box",
         "x": [
          1
         ],
         "x0": " ",
         "xaxis": "x",
         "y": [
          2
         ],
         "y0": " ",
         "yaxis": "y"
        },
        {
         "alignmentgroup": "True",
         "boxpoints": "all",
         "fillcolor": "rgba(255,255,255,0)",
         "hoveron": "points",
         "hovertemplate": "bids_name=sub-938344_acq-headmotion1_T1w<br>condition=%{x}<br>score=%{y}<extra></extra>",
         "legendgroup": "sub-938344_acq-headmotion1_T1w",
         "line": {
          "color": "rgba(255,255,255,0)"
         },
         "marker": {
          "color": "#ab63fa"
         },
         "name": "sub-938344_acq-headmotion1_T1w",
         "offsetgroup": "sub-938344_acq-headmotion1_T1w",
         "orientation": "v",
         "pointpos": 0,
         "showlegend": true,
         "type": "box",
         "x": [
          2
         ],
         "x0": " ",
         "xaxis": "x",
         "y": [
          2
         ],
         "y0": " ",
         "yaxis": "y"
        },
        {
         "alignmentgroup": "True",
         "boxpoints": "all",
         "fillcolor": "rgba(255,255,255,0)",
         "hoveron": "points",
         "hovertemplate": "bids_name=sub-938344_acq-headmotion2_T1w<br>condition=%{x}<br>score=%{y}<extra></extra>",
         "legendgroup": "sub-938344_acq-headmotion2_T1w",
         "line": {
          "color": "rgba(255,255,255,0)"
         },
         "marker": {
          "color": "#FFA15A"
         },
         "name": "sub-938344_acq-headmotion2_T1w",
         "offsetgroup": "sub-938344_acq-headmotion2_T1w",
         "orientation": "v",
         "pointpos": 0,
         "showlegend": true,
         "type": "box",
         "x": [
          3
         ],
         "x0": " ",
         "xaxis": "x",
         "y": [
          3
         ],
         "y0": " ",
         "yaxis": "y"
        },
        {
         "alignmentgroup": "True",
         "boxpoints": "all",
         "fillcolor": "rgba(255,255,255,0)",
         "hoveron": "points",
         "hovertemplate": "bids_name=sub-938344_acq-standard_T1w<br>condition=%{x}<br>score=%{y}<extra></extra>",
         "legendgroup": "sub-938344_acq-standard_T1w",
         "line": {
          "color": "rgba(255,255,255,0)"
         },
         "marker": {
          "color": "#19d3f3"
         },
         "name": "sub-938344_acq-standard_T1w",
         "offsetgroup": "sub-938344_acq-standard_T1w",
         "orientation": "v",
         "pointpos": 0,
         "showlegend": true,
         "type": "box",
         "x": [
          1
         ],
         "x0": " ",
         "xaxis": "x",
         "y": [
          1
         ],
         "y0": " ",
         "yaxis": "y"
        },
        {
         "alignmentgroup": "True",
         "boxpoints": "all",
         "fillcolor": "rgba(255,255,255,0)",
         "hoveron": "points",
         "hovertemplate": "bids_name=sub-945122_acq-headmotion1_T1w<br>condition=%{x}<br>score=%{y}<extra></extra>",
         "legendgroup": "sub-945122_acq-headmotion1_T1w",
         "line": {
          "color": "rgba(255,255,255,0)"
         },
         "marker": {
          "color": "#FF6692"
         },
         "name": "sub-945122_acq-headmotion1_T1w",
         "offsetgroup": "sub-945122_acq-headmotion1_T1w",
         "orientation": "v",
         "pointpos": 0,
         "showlegend": true,
         "type": "box",
         "x": [
          2
         ],
         "x0": " ",
         "xaxis": "x",
         "y": [
          2
         ],
         "y0": " ",
         "yaxis": "y"
        },
        {
         "alignmentgroup": "True",
         "boxpoints": "all",
         "fillcolor": "rgba(255,255,255,0)",
         "hoveron": "points",
         "hovertemplate": "bids_name=sub-945122_acq-headmotion2_T1w<br>condition=%{x}<br>score=%{y}<extra></extra>",
         "legendgroup": "sub-945122_acq-headmotion2_T1w",
         "line": {
          "color": "rgba(255,255,255,0)"
         },
         "marker": {
          "color": "#B6E880"
         },
         "name": "sub-945122_acq-headmotion2_T1w",
         "offsetgroup": "sub-945122_acq-headmotion2_T1w",
         "orientation": "v",
         "pointpos": 0,
         "showlegend": true,
         "type": "box",
         "x": [
          3
         ],
         "x0": " ",
         "xaxis": "x",
         "y": [
          3
         ],
         "y0": " ",
         "yaxis": "y"
        },
        {
         "alignmentgroup": "True",
         "boxpoints": "all",
         "fillcolor": "rgba(255,255,255,0)",
         "hoveron": "points",
         "hovertemplate": "bids_name=sub-945122_acq-standard_T1w<br>condition=%{x}<br>score=%{y}<extra></extra>",
         "legendgroup": "sub-945122_acq-standard_T1w",
         "line": {
          "color": "rgba(255,255,255,0)"
         },
         "marker": {
          "color": "#FF97FF"
         },
         "name": "sub-945122_acq-standard_T1w",
         "offsetgroup": "sub-945122_acq-standard_T1w",
         "orientation": "v",
         "pointpos": 0,
         "showlegend": true,
         "type": "box",
         "x": [
          1
         ],
         "x0": " ",
         "xaxis": "x",
         "y": [
          1
         ],
         "y0": " ",
         "yaxis": "y"
        },
        {
         "alignmentgroup": "True",
         "boxpoints": "all",
         "fillcolor": "rgba(255,255,255,0)",
         "hoveron": "points",
         "hovertemplate": "bids_name=sub-945652_acq-headmotion1_T1w<br>condition=%{x}<br>score=%{y}<extra></extra>",
         "legendgroup": "sub-945652_acq-headmotion1_T1w",
         "line": {
          "color": "rgba(255,255,255,0)"
         },
         "marker": {
          "color": "#FECB52"
         },
         "name": "sub-945652_acq-headmotion1_T1w",
         "offsetgroup": "sub-945652_acq-headmotion1_T1w",
         "orientation": "v",
         "pointpos": 0,
         "showlegend": true,
         "type": "box",
         "x": [
          2
         ],
         "x0": " ",
         "xaxis": "x",
         "y": [
          3
         ],
         "y0": " ",
         "yaxis": "y"
        },
        {
         "alignmentgroup": "True",
         "boxpoints": "all",
         "fillcolor": "rgba(255,255,255,0)",
         "hoveron": "points",
         "hovertemplate": "bids_name=sub-945652_acq-headmotion2_T1w<br>condition=%{x}<br>score=%{y}<extra></extra>",
         "legendgroup": "sub-945652_acq-headmotion2_T1w",
         "line": {
          "color": "rgba(255,255,255,0)"
         },
         "marker": {
          "color": "#636efa"
         },
         "name": "sub-945652_acq-headmotion2_T1w",
         "offsetgroup": "sub-945652_acq-headmotion2_T1w",
         "orientation": "v",
         "pointpos": 0,
         "showlegend": true,
         "type": "box",
         "x": [
          3
         ],
         "x0": " ",
         "xaxis": "x",
         "y": [
          3
         ],
         "y0": " ",
         "yaxis": "y"
        },
        {
         "alignmentgroup": "True",
         "boxpoints": "all",
         "fillcolor": "rgba(255,255,255,0)",
         "hoveron": "points",
         "hovertemplate": "bids_name=sub-945652_acq-standard_T1w<br>condition=%{x}<br>score=%{y}<extra></extra>",
         "legendgroup": "sub-945652_acq-standard_T1w",
         "line": {
          "color": "rgba(255,255,255,0)"
         },
         "marker": {
          "color": "#EF553B"
         },
         "name": "sub-945652_acq-standard_T1w",
         "offsetgroup": "sub-945652_acq-standard_T1w",
         "orientation": "v",
         "pointpos": 0,
         "showlegend": true,
         "type": "box",
         "x": [
          1
         ],
         "x0": " ",
         "xaxis": "x",
         "y": [
          1
         ],
         "y0": " ",
         "yaxis": "y"
        },
        {
         "alignmentgroup": "True",
         "boxpoints": "all",
         "fillcolor": "rgba(255,255,255,0)",
         "hoveron": "points",
         "hovertemplate": "bids_name=sub-946200_acq-headmotion1_T1w<br>condition=%{x}<br>score=%{y}<extra></extra>",
         "legendgroup": "sub-946200_acq-headmotion1_T1w",
         "line": {
          "color": "rgba(255,255,255,0)"
         },
         "marker": {
          "color": "#00cc96"
         },
         "name": "sub-946200_acq-headmotion1_T1w",
         "offsetgroup": "sub-946200_acq-headmotion1_T1w",
         "orientation": "v",
         "pointpos": 0,
         "showlegend": true,
         "type": "box",
         "x": [
          2
         ],
         "x0": " ",
         "xaxis": "x",
         "y": [
          3
         ],
         "y0": " ",
         "yaxis": "y"
        },
        {
         "alignmentgroup": "True",
         "boxpoints": "all",
         "fillcolor": "rgba(255,255,255,0)",
         "hoveron": "points",
         "hovertemplate": "bids_name=sub-946200_acq-headmotion2_T1w<br>condition=%{x}<br>score=%{y}<extra></extra>",
         "legendgroup": "sub-946200_acq-headmotion2_T1w",
         "line": {
          "color": "rgba(255,255,255,0)"
         },
         "marker": {
          "color": "#ab63fa"
         },
         "name": "sub-946200_acq-headmotion2_T1w",
         "offsetgroup": "sub-946200_acq-headmotion2_T1w",
         "orientation": "v",
         "pointpos": 0,
         "showlegend": true,
         "type": "box",
         "x": [
          3
         ],
         "x0": " ",
         "xaxis": "x",
         "y": [
          3
         ],
         "y0": " ",
         "yaxis": "y"
        },
        {
         "alignmentgroup": "True",
         "boxpoints": "all",
         "fillcolor": "rgba(255,255,255,0)",
         "hoveron": "points",
         "hovertemplate": "bids_name=sub-946200_acq-standard_T1w<br>condition=%{x}<br>score=%{y}<extra></extra>",
         "legendgroup": "sub-946200_acq-standard_T1w",
         "line": {
          "color": "rgba(255,255,255,0)"
         },
         "marker": {
          "color": "#FFA15A"
         },
         "name": "sub-946200_acq-standard_T1w",
         "offsetgroup": "sub-946200_acq-standard_T1w",
         "orientation": "v",
         "pointpos": 0,
         "showlegend": true,
         "type": "box",
         "x": [
          1
         ],
         "x0": " ",
         "xaxis": "x",
         "y": [
          1
         ],
         "y0": " ",
         "yaxis": "y"
        },
        {
         "alignmentgroup": "True",
         "boxpoints": "all",
         "fillcolor": "rgba(255,255,255,0)",
         "hoveron": "points",
         "hovertemplate": "bids_name=sub-966788_acq-headmotion1_T1w<br>condition=%{x}<br>score=%{y}<extra></extra>",
         "legendgroup": "sub-966788_acq-headmotion1_T1w",
         "line": {
          "color": "rgba(255,255,255,0)"
         },
         "marker": {
          "color": "#19d3f3"
         },
         "name": "sub-966788_acq-headmotion1_T1w",
         "offsetgroup": "sub-966788_acq-headmotion1_T1w",
         "orientation": "v",
         "pointpos": 0,
         "showlegend": true,
         "type": "box",
         "x": [
          2
         ],
         "x0": " ",
         "xaxis": "x",
         "y": [
          3
         ],
         "y0": " ",
         "yaxis": "y"
        },
        {
         "alignmentgroup": "True",
         "boxpoints": "all",
         "fillcolor": "rgba(255,255,255,0)",
         "hoveron": "points",
         "hovertemplate": "bids_name=sub-966788_acq-headmotion2_T1w<br>condition=%{x}<br>score=%{y}<extra></extra>",
         "legendgroup": "sub-966788_acq-headmotion2_T1w",
         "line": {
          "color": "rgba(255,255,255,0)"
         },
         "marker": {
          "color": "#FF6692"
         },
         "name": "sub-966788_acq-headmotion2_T1w",
         "offsetgroup": "sub-966788_acq-headmotion2_T1w",
         "orientation": "v",
         "pointpos": 0,
         "showlegend": true,
         "type": "box",
         "x": [
          3
         ],
         "x0": " ",
         "xaxis": "x",
         "y": [
          3
         ],
         "y0": " ",
         "yaxis": "y"
        },
        {
         "alignmentgroup": "True",
         "boxpoints": "all",
         "fillcolor": "rgba(255,255,255,0)",
         "hoveron": "points",
         "hovertemplate": "bids_name=sub-966788_acq-standard_T1w<br>condition=%{x}<br>score=%{y}<extra></extra>",
         "legendgroup": "sub-966788_acq-standard_T1w",
         "line": {
          "color": "rgba(255,255,255,0)"
         },
         "marker": {
          "color": "#B6E880"
         },
         "name": "sub-966788_acq-standard_T1w",
         "offsetgroup": "sub-966788_acq-standard_T1w",
         "orientation": "v",
         "pointpos": 0,
         "showlegend": true,
         "type": "box",
         "x": [
          1
         ],
         "x0": " ",
         "xaxis": "x",
         "y": [
          1
         ],
         "y0": " ",
         "yaxis": "y"
        },
        {
         "alignmentgroup": "True",
         "boxpoints": "all",
         "fillcolor": "rgba(255,255,255,0)",
         "hoveron": "points",
         "hovertemplate": "bids_name=sub-986786_acq-headmotion1_T1w<br>condition=%{x}<br>score=%{y}<extra></extra>",
         "legendgroup": "sub-986786_acq-headmotion1_T1w",
         "line": {
          "color": "rgba(255,255,255,0)"
         },
         "marker": {
          "color": "#FF97FF"
         },
         "name": "sub-986786_acq-headmotion1_T1w",
         "offsetgroup": "sub-986786_acq-headmotion1_T1w",
         "orientation": "v",
         "pointpos": 0,
         "showlegend": true,
         "type": "box",
         "x": [
          2
         ],
         "x0": " ",
         "xaxis": "x",
         "y": [
          2
         ],
         "y0": " ",
         "yaxis": "y"
        },
        {
         "alignmentgroup": "True",
         "boxpoints": "all",
         "fillcolor": "rgba(255,255,255,0)",
         "hoveron": "points",
         "hovertemplate": "bids_name=sub-986786_acq-headmotion2_T1w<br>condition=%{x}<br>score=%{y}<extra></extra>",
         "legendgroup": "sub-986786_acq-headmotion2_T1w",
         "line": {
          "color": "rgba(255,255,255,0)"
         },
         "marker": {
          "color": "#FECB52"
         },
         "name": "sub-986786_acq-headmotion2_T1w",
         "offsetgroup": "sub-986786_acq-headmotion2_T1w",
         "orientation": "v",
         "pointpos": 0,
         "showlegend": true,
         "type": "box",
         "x": [
          3
         ],
         "x0": " ",
         "xaxis": "x",
         "y": [
          2
         ],
         "y0": " ",
         "yaxis": "y"
        },
        {
         "alignmentgroup": "True",
         "boxpoints": "all",
         "fillcolor": "rgba(255,255,255,0)",
         "hoveron": "points",
         "hovertemplate": "bids_name=sub-986786_acq-standard_T1w<br>condition=%{x}<br>score=%{y}<extra></extra>",
         "legendgroup": "sub-986786_acq-standard_T1w",
         "line": {
          "color": "rgba(255,255,255,0)"
         },
         "marker": {
          "color": "#636efa"
         },
         "name": "sub-986786_acq-standard_T1w",
         "offsetgroup": "sub-986786_acq-standard_T1w",
         "orientation": "v",
         "pointpos": 0,
         "showlegend": true,
         "type": "box",
         "x": [
          1
         ],
         "x0": " ",
         "xaxis": "x",
         "y": [
          2
         ],
         "y0": " ",
         "yaxis": "y"
        },
        {
         "alignmentgroup": "True",
         "boxpoints": "all",
         "fillcolor": "rgba(255,255,255,0)",
         "hoveron": "points",
         "hovertemplate": "bids_name=sub-987325_acq-headmotion1_T1w<br>condition=%{x}<br>score=%{y}<extra></extra>",
         "legendgroup": "sub-987325_acq-headmotion1_T1w",
         "line": {
          "color": "rgba(255,255,255,0)"
         },
         "marker": {
          "color": "#EF553B"
         },
         "name": "sub-987325_acq-headmotion1_T1w",
         "offsetgroup": "sub-987325_acq-headmotion1_T1w",
         "orientation": "v",
         "pointpos": 0,
         "showlegend": true,
         "type": "box",
         "x": [
          2
         ],
         "x0": " ",
         "xaxis": "x",
         "y": [
          3
         ],
         "y0": " ",
         "yaxis": "y"
        },
        {
         "alignmentgroup": "True",
         "boxpoints": "all",
         "fillcolor": "rgba(255,255,255,0)",
         "hoveron": "points",
         "hovertemplate": "bids_name=sub-987325_acq-headmotion2_T1w<br>condition=%{x}<br>score=%{y}<extra></extra>",
         "legendgroup": "sub-987325_acq-headmotion2_T1w",
         "line": {
          "color": "rgba(255,255,255,0)"
         },
         "marker": {
          "color": "#00cc96"
         },
         "name": "sub-987325_acq-headmotion2_T1w",
         "offsetgroup": "sub-987325_acq-headmotion2_T1w",
         "orientation": "v",
         "pointpos": 0,
         "showlegend": true,
         "type": "box",
         "x": [
          3
         ],
         "x0": " ",
         "xaxis": "x",
         "y": [
          3
         ],
         "y0": " ",
         "yaxis": "y"
        },
        {
         "alignmentgroup": "True",
         "boxpoints": "all",
         "fillcolor": "rgba(255,255,255,0)",
         "hoveron": "points",
         "hovertemplate": "bids_name=sub-987325_acq-standard_T1w<br>condition=%{x}<br>score=%{y}<extra></extra>",
         "legendgroup": "sub-987325_acq-standard_T1w",
         "line": {
          "color": "rgba(255,255,255,0)"
         },
         "marker": {
          "color": "#ab63fa"
         },
         "name": "sub-987325_acq-standard_T1w",
         "offsetgroup": "sub-987325_acq-standard_T1w",
         "orientation": "v",
         "pointpos": 0,
         "showlegend": true,
         "type": "box",
         "x": [
          1
         ],
         "x0": " ",
         "xaxis": "x",
         "y": [
          1
         ],
         "y0": " ",
         "yaxis": "y"
        },
        {
         "alignmentgroup": "True",
         "boxpoints": "all",
         "fillcolor": "rgba(255,255,255,0)",
         "hoveron": "points",
         "hovertemplate": "bids_name=sub-988484_acq-headmotion1_T1w<br>condition=%{x}<br>score=%{y}<extra></extra>",
         "legendgroup": "sub-988484_acq-headmotion1_T1w",
         "line": {
          "color": "rgba(255,255,255,0)"
         },
         "marker": {
          "color": "#FFA15A"
         },
         "name": "sub-988484_acq-headmotion1_T1w",
         "offsetgroup": "sub-988484_acq-headmotion1_T1w",
         "orientation": "v",
         "pointpos": 0,
         "showlegend": true,
         "type": "box",
         "x": [
          2
         ],
         "x0": " ",
         "xaxis": "x",
         "y": [
          2
         ],
         "y0": " ",
         "yaxis": "y"
        },
        {
         "alignmentgroup": "True",
         "boxpoints": "all",
         "fillcolor": "rgba(255,255,255,0)",
         "hoveron": "points",
         "hovertemplate": "bids_name=sub-988484_acq-headmotion2_T1w<br>condition=%{x}<br>score=%{y}<extra></extra>",
         "legendgroup": "sub-988484_acq-headmotion2_T1w",
         "line": {
          "color": "rgba(255,255,255,0)"
         },
         "marker": {
          "color": "#19d3f3"
         },
         "name": "sub-988484_acq-headmotion2_T1w",
         "offsetgroup": "sub-988484_acq-headmotion2_T1w",
         "orientation": "v",
         "pointpos": 0,
         "showlegend": true,
         "type": "box",
         "x": [
          3
         ],
         "x0": " ",
         "xaxis": "x",
         "y": [
          3
         ],
         "y0": " ",
         "yaxis": "y"
        },
        {
         "alignmentgroup": "True",
         "boxpoints": "all",
         "fillcolor": "rgba(255,255,255,0)",
         "hoveron": "points",
         "hovertemplate": "bids_name=sub-988484_acq-standard_T1w<br>condition=%{x}<br>score=%{y}<extra></extra>",
         "legendgroup": "sub-988484_acq-standard_T1w",
         "line": {
          "color": "rgba(255,255,255,0)"
         },
         "marker": {
          "color": "#FF6692"
         },
         "name": "sub-988484_acq-standard_T1w",
         "offsetgroup": "sub-988484_acq-standard_T1w",
         "orientation": "v",
         "pointpos": 0,
         "showlegend": true,
         "type": "box",
         "x": [
          1
         ],
         "x0": " ",
         "xaxis": "x",
         "y": [
          1
         ],
         "y0": " ",
         "yaxis": "y"
        },
        {
         "alignmentgroup": "True",
         "boxpoints": "all",
         "fillcolor": "rgba(255,255,255,0)",
         "hoveron": "points",
         "hovertemplate": "bids_name=sub-988653_acq-headmotion1_T1w<br>condition=%{x}<br>score=%{y}<extra></extra>",
         "legendgroup": "sub-988653_acq-headmotion1_T1w",
         "line": {
          "color": "rgba(255,255,255,0)"
         },
         "marker": {
          "color": "#B6E880"
         },
         "name": "sub-988653_acq-headmotion1_T1w",
         "offsetgroup": "sub-988653_acq-headmotion1_T1w",
         "orientation": "v",
         "pointpos": 0,
         "showlegend": true,
         "type": "box",
         "x": [
          2
         ],
         "x0": " ",
         "xaxis": "x",
         "y": [
          2
         ],
         "y0": " ",
         "yaxis": "y"
        },
        {
         "alignmentgroup": "True",
         "boxpoints": "all",
         "fillcolor": "rgba(255,255,255,0)",
         "hoveron": "points",
         "hovertemplate": "bids_name=sub-988653_acq-headmotion2_T1w<br>condition=%{x}<br>score=%{y}<extra></extra>",
         "legendgroup": "sub-988653_acq-headmotion2_T1w",
         "line": {
          "color": "rgba(255,255,255,0)"
         },
         "marker": {
          "color": "#FF97FF"
         },
         "name": "sub-988653_acq-headmotion2_T1w",
         "offsetgroup": "sub-988653_acq-headmotion2_T1w",
         "orientation": "v",
         "pointpos": 0,
         "showlegend": true,
         "type": "box",
         "x": [
          3
         ],
         "x0": " ",
         "xaxis": "x",
         "y": [
          2
         ],
         "y0": " ",
         "yaxis": "y"
        },
        {
         "alignmentgroup": "True",
         "boxpoints": "all",
         "fillcolor": "rgba(255,255,255,0)",
         "hoveron": "points",
         "hovertemplate": "bids_name=sub-988653_acq-standard_T1w<br>condition=%{x}<br>score=%{y}<extra></extra>",
         "legendgroup": "sub-988653_acq-standard_T1w",
         "line": {
          "color": "rgba(255,255,255,0)"
         },
         "marker": {
          "color": "#FECB52"
         },
         "name": "sub-988653_acq-standard_T1w",
         "offsetgroup": "sub-988653_acq-standard_T1w",
         "orientation": "v",
         "pointpos": 0,
         "showlegend": true,
         "type": "box",
         "x": [
          1
         ],
         "x0": " ",
         "xaxis": "x",
         "y": [
          1
         ],
         "y0": " ",
         "yaxis": "y"
        },
        {
         "alignmentgroup": "True",
         "boxpoints": "all",
         "fillcolor": "rgba(255,255,255,0)",
         "hoveron": "points",
         "hovertemplate": "bids_name=sub-992121_acq-headmotion1_T1w<br>condition=%{x}<br>score=%{y}<extra></extra>",
         "legendgroup": "sub-992121_acq-headmotion1_T1w",
         "line": {
          "color": "rgba(255,255,255,0)"
         },
         "marker": {
          "color": "#636efa"
         },
         "name": "sub-992121_acq-headmotion1_T1w",
         "offsetgroup": "sub-992121_acq-headmotion1_T1w",
         "orientation": "v",
         "pointpos": 0,
         "showlegend": true,
         "type": "box",
         "x": [
          2
         ],
         "x0": " ",
         "xaxis": "x",
         "y": [
          2
         ],
         "y0": " ",
         "yaxis": "y"
        },
        {
         "alignmentgroup": "True",
         "boxpoints": "all",
         "fillcolor": "rgba(255,255,255,0)",
         "hoveron": "points",
         "hovertemplate": "bids_name=sub-992121_acq-headmotion2_T1w<br>condition=%{x}<br>score=%{y}<extra></extra>",
         "legendgroup": "sub-992121_acq-headmotion2_T1w",
         "line": {
          "color": "rgba(255,255,255,0)"
         },
         "marker": {
          "color": "#EF553B"
         },
         "name": "sub-992121_acq-headmotion2_T1w",
         "offsetgroup": "sub-992121_acq-headmotion2_T1w",
         "orientation": "v",
         "pointpos": 0,
         "showlegend": true,
         "type": "box",
         "x": [
          3
         ],
         "x0": " ",
         "xaxis": "x",
         "y": [
          2
         ],
         "y0": " ",
         "yaxis": "y"
        },
        {
         "alignmentgroup": "True",
         "boxpoints": "all",
         "fillcolor": "rgba(255,255,255,0)",
         "hoveron": "points",
         "hovertemplate": "bids_name=sub-992121_acq-standard_T1w<br>condition=%{x}<br>score=%{y}<extra></extra>",
         "legendgroup": "sub-992121_acq-standard_T1w",
         "line": {
          "color": "rgba(255,255,255,0)"
         },
         "marker": {
          "color": "#00cc96"
         },
         "name": "sub-992121_acq-standard_T1w",
         "offsetgroup": "sub-992121_acq-standard_T1w",
         "orientation": "v",
         "pointpos": 0,
         "showlegend": true,
         "type": "box",
         "x": [
          1
         ],
         "x0": " ",
         "xaxis": "x",
         "y": [
          1
         ],
         "y0": " ",
         "yaxis": "y"
        },
        {
         "alignmentgroup": "True",
         "boxpoints": "all",
         "fillcolor": "rgba(255,255,255,0)",
         "hoveron": "points",
         "hovertemplate": "bids_name=sub-992238_acq-headmotion1_T1w<br>condition=%{x}<br>score=%{y}<extra></extra>",
         "legendgroup": "sub-992238_acq-headmotion1_T1w",
         "line": {
          "color": "rgba(255,255,255,0)"
         },
         "marker": {
          "color": "#ab63fa"
         },
         "name": "sub-992238_acq-headmotion1_T1w",
         "offsetgroup": "sub-992238_acq-headmotion1_T1w",
         "orientation": "v",
         "pointpos": 0,
         "showlegend": true,
         "type": "box",
         "x": [
          2
         ],
         "x0": " ",
         "xaxis": "x",
         "y": [
          3
         ],
         "y0": " ",
         "yaxis": "y"
        },
        {
         "alignmentgroup": "True",
         "boxpoints": "all",
         "fillcolor": "rgba(255,255,255,0)",
         "hoveron": "points",
         "hovertemplate": "bids_name=sub-992238_acq-headmotion2_T1w<br>condition=%{x}<br>score=%{y}<extra></extra>",
         "legendgroup": "sub-992238_acq-headmotion2_T1w",
         "line": {
          "color": "rgba(255,255,255,0)"
         },
         "marker": {
          "color": "#FFA15A"
         },
         "name": "sub-992238_acq-headmotion2_T1w",
         "offsetgroup": "sub-992238_acq-headmotion2_T1w",
         "orientation": "v",
         "pointpos": 0,
         "showlegend": true,
         "type": "box",
         "x": [
          3
         ],
         "x0": " ",
         "xaxis": "x",
         "y": [
          3
         ],
         "y0": " ",
         "yaxis": "y"
        },
        {
         "alignmentgroup": "True",
         "boxpoints": "all",
         "fillcolor": "rgba(255,255,255,0)",
         "hoveron": "points",
         "hovertemplate": "bids_name=sub-992238_acq-standard_T1w<br>condition=%{x}<br>score=%{y}<extra></extra>",
         "legendgroup": "sub-992238_acq-standard_T1w",
         "line": {
          "color": "rgba(255,255,255,0)"
         },
         "marker": {
          "color": "#19d3f3"
         },
         "name": "sub-992238_acq-standard_T1w",
         "offsetgroup": "sub-992238_acq-standard_T1w",
         "orientation": "v",
         "pointpos": 0,
         "showlegend": true,
         "type": "box",
         "x": [
          1
         ],
         "x0": " ",
         "xaxis": "x",
         "y": [
          1
         ],
         "y0": " ",
         "yaxis": "y"
        }
       ],
       "layout": {
        "boxmode": "group",
        "legend": {
         "title": {
          "text": "bids_name"
         },
         "tracegroupgap": 0
        },
        "margin": {
         "t": 60
        },
        "template": {
         "data": {
          "bar": [
           {
            "error_x": {
             "color": "#2a3f5f"
            },
            "error_y": {
             "color": "#2a3f5f"
            },
            "marker": {
             "line": {
              "color": "#E5ECF6",
              "width": 0.5
             },
             "pattern": {
              "fillmode": "overlay",
              "size": 10,
              "solidity": 0.2
             }
            },
            "type": "bar"
           }
          ],
          "barpolar": [
           {
            "marker": {
             "line": {
              "color": "#E5ECF6",
              "width": 0.5
             },
             "pattern": {
              "fillmode": "overlay",
              "size": 10,
              "solidity": 0.2
             }
            },
            "type": "barpolar"
           }
          ],
          "carpet": [
           {
            "aaxis": {
             "endlinecolor": "#2a3f5f",
             "gridcolor": "white",
             "linecolor": "white",
             "minorgridcolor": "white",
             "startlinecolor": "#2a3f5f"
            },
            "baxis": {
             "endlinecolor": "#2a3f5f",
             "gridcolor": "white",
             "linecolor": "white",
             "minorgridcolor": "white",
             "startlinecolor": "#2a3f5f"
            },
            "type": "carpet"
           }
          ],
          "choropleth": [
           {
            "colorbar": {
             "outlinewidth": 0,
             "ticks": ""
            },
            "type": "choropleth"
           }
          ],
          "contour": [
           {
            "colorbar": {
             "outlinewidth": 0,
             "ticks": ""
            },
            "colorscale": [
             [
              0,
              "#0d0887"
             ],
             [
              0.1111111111111111,
              "#46039f"
             ],
             [
              0.2222222222222222,
              "#7201a8"
             ],
             [
              0.3333333333333333,
              "#9c179e"
             ],
             [
              0.4444444444444444,
              "#bd3786"
             ],
             [
              0.5555555555555556,
              "#d8576b"
             ],
             [
              0.6666666666666666,
              "#ed7953"
             ],
             [
              0.7777777777777778,
              "#fb9f3a"
             ],
             [
              0.8888888888888888,
              "#fdca26"
             ],
             [
              1,
              "#f0f921"
             ]
            ],
            "type": "contour"
           }
          ],
          "contourcarpet": [
           {
            "colorbar": {
             "outlinewidth": 0,
             "ticks": ""
            },
            "type": "contourcarpet"
           }
          ],
          "heatmap": [
           {
            "colorbar": {
             "outlinewidth": 0,
             "ticks": ""
            },
            "colorscale": [
             [
              0,
              "#0d0887"
             ],
             [
              0.1111111111111111,
              "#46039f"
             ],
             [
              0.2222222222222222,
              "#7201a8"
             ],
             [
              0.3333333333333333,
              "#9c179e"
             ],
             [
              0.4444444444444444,
              "#bd3786"
             ],
             [
              0.5555555555555556,
              "#d8576b"
             ],
             [
              0.6666666666666666,
              "#ed7953"
             ],
             [
              0.7777777777777778,
              "#fb9f3a"
             ],
             [
              0.8888888888888888,
              "#fdca26"
             ],
             [
              1,
              "#f0f921"
             ]
            ],
            "type": "heatmap"
           }
          ],
          "heatmapgl": [
           {
            "colorbar": {
             "outlinewidth": 0,
             "ticks": ""
            },
            "colorscale": [
             [
              0,
              "#0d0887"
             ],
             [
              0.1111111111111111,
              "#46039f"
             ],
             [
              0.2222222222222222,
              "#7201a8"
             ],
             [
              0.3333333333333333,
              "#9c179e"
             ],
             [
              0.4444444444444444,
              "#bd3786"
             ],
             [
              0.5555555555555556,
              "#d8576b"
             ],
             [
              0.6666666666666666,
              "#ed7953"
             ],
             [
              0.7777777777777778,
              "#fb9f3a"
             ],
             [
              0.8888888888888888,
              "#fdca26"
             ],
             [
              1,
              "#f0f921"
             ]
            ],
            "type": "heatmapgl"
           }
          ],
          "histogram": [
           {
            "marker": {
             "pattern": {
              "fillmode": "overlay",
              "size": 10,
              "solidity": 0.2
             }
            },
            "type": "histogram"
           }
          ],
          "histogram2d": [
           {
            "colorbar": {
             "outlinewidth": 0,
             "ticks": ""
            },
            "colorscale": [
             [
              0,
              "#0d0887"
             ],
             [
              0.1111111111111111,
              "#46039f"
             ],
             [
              0.2222222222222222,
              "#7201a8"
             ],
             [
              0.3333333333333333,
              "#9c179e"
             ],
             [
              0.4444444444444444,
              "#bd3786"
             ],
             [
              0.5555555555555556,
              "#d8576b"
             ],
             [
              0.6666666666666666,
              "#ed7953"
             ],
             [
              0.7777777777777778,
              "#fb9f3a"
             ],
             [
              0.8888888888888888,
              "#fdca26"
             ],
             [
              1,
              "#f0f921"
             ]
            ],
            "type": "histogram2d"
           }
          ],
          "histogram2dcontour": [
           {
            "colorbar": {
             "outlinewidth": 0,
             "ticks": ""
            },
            "colorscale": [
             [
              0,
              "#0d0887"
             ],
             [
              0.1111111111111111,
              "#46039f"
             ],
             [
              0.2222222222222222,
              "#7201a8"
             ],
             [
              0.3333333333333333,
              "#9c179e"
             ],
             [
              0.4444444444444444,
              "#bd3786"
             ],
             [
              0.5555555555555556,
              "#d8576b"
             ],
             [
              0.6666666666666666,
              "#ed7953"
             ],
             [
              0.7777777777777778,
              "#fb9f3a"
             ],
             [
              0.8888888888888888,
              "#fdca26"
             ],
             [
              1,
              "#f0f921"
             ]
            ],
            "type": "histogram2dcontour"
           }
          ],
          "mesh3d": [
           {
            "colorbar": {
             "outlinewidth": 0,
             "ticks": ""
            },
            "type": "mesh3d"
           }
          ],
          "parcoords": [
           {
            "line": {
             "colorbar": {
              "outlinewidth": 0,
              "ticks": ""
             }
            },
            "type": "parcoords"
           }
          ],
          "pie": [
           {
            "automargin": true,
            "type": "pie"
           }
          ],
          "scatter": [
           {
            "fillpattern": {
             "fillmode": "overlay",
             "size": 10,
             "solidity": 0.2
            },
            "type": "scatter"
           }
          ],
          "scatter3d": [
           {
            "line": {
             "colorbar": {
              "outlinewidth": 0,
              "ticks": ""
             }
            },
            "marker": {
             "colorbar": {
              "outlinewidth": 0,
              "ticks": ""
             }
            },
            "type": "scatter3d"
           }
          ],
          "scattercarpet": [
           {
            "marker": {
             "colorbar": {
              "outlinewidth": 0,
              "ticks": ""
             }
            },
            "type": "scattercarpet"
           }
          ],
          "scattergeo": [
           {
            "marker": {
             "colorbar": {
              "outlinewidth": 0,
              "ticks": ""
             }
            },
            "type": "scattergeo"
           }
          ],
          "scattergl": [
           {
            "marker": {
             "colorbar": {
              "outlinewidth": 0,
              "ticks": ""
             }
            },
            "type": "scattergl"
           }
          ],
          "scattermapbox": [
           {
            "marker": {
             "colorbar": {
              "outlinewidth": 0,
              "ticks": ""
             }
            },
            "type": "scattermapbox"
           }
          ],
          "scatterpolar": [
           {
            "marker": {
             "colorbar": {
              "outlinewidth": 0,
              "ticks": ""
             }
            },
            "type": "scatterpolar"
           }
          ],
          "scatterpolargl": [
           {
            "marker": {
             "colorbar": {
              "outlinewidth": 0,
              "ticks": ""
             }
            },
            "type": "scatterpolargl"
           }
          ],
          "scatterternary": [
           {
            "marker": {
             "colorbar": {
              "outlinewidth": 0,
              "ticks": ""
             }
            },
            "type": "scatterternary"
           }
          ],
          "surface": [
           {
            "colorbar": {
             "outlinewidth": 0,
             "ticks": ""
            },
            "colorscale": [
             [
              0,
              "#0d0887"
             ],
             [
              0.1111111111111111,
              "#46039f"
             ],
             [
              0.2222222222222222,
              "#7201a8"
             ],
             [
              0.3333333333333333,
              "#9c179e"
             ],
             [
              0.4444444444444444,
              "#bd3786"
             ],
             [
              0.5555555555555556,
              "#d8576b"
             ],
             [
              0.6666666666666666,
              "#ed7953"
             ],
             [
              0.7777777777777778,
              "#fb9f3a"
             ],
             [
              0.8888888888888888,
              "#fdca26"
             ],
             [
              1,
              "#f0f921"
             ]
            ],
            "type": "surface"
           }
          ],
          "table": [
           {
            "cells": {
             "fill": {
              "color": "#EBF0F8"
             },
             "line": {
              "color": "white"
             }
            },
            "header": {
             "fill": {
              "color": "#C8D4E3"
             },
             "line": {
              "color": "white"
             }
            },
            "type": "table"
           }
          ]
         },
         "layout": {
          "annotationdefaults": {
           "arrowcolor": "#2a3f5f",
           "arrowhead": 0,
           "arrowwidth": 1
          },
          "autotypenumbers": "strict",
          "coloraxis": {
           "colorbar": {
            "outlinewidth": 0,
            "ticks": ""
           }
          },
          "colorscale": {
           "diverging": [
            [
             0,
             "#8e0152"
            ],
            [
             0.1,
             "#c51b7d"
            ],
            [
             0.2,
             "#de77ae"
            ],
            [
             0.3,
             "#f1b6da"
            ],
            [
             0.4,
             "#fde0ef"
            ],
            [
             0.5,
             "#f7f7f7"
            ],
            [
             0.6,
             "#e6f5d0"
            ],
            [
             0.7,
             "#b8e186"
            ],
            [
             0.8,
             "#7fbc41"
            ],
            [
             0.9,
             "#4d9221"
            ],
            [
             1,
             "#276419"
            ]
           ],
           "sequential": [
            [
             0,
             "#0d0887"
            ],
            [
             0.1111111111111111,
             "#46039f"
            ],
            [
             0.2222222222222222,
             "#7201a8"
            ],
            [
             0.3333333333333333,
             "#9c179e"
            ],
            [
             0.4444444444444444,
             "#bd3786"
            ],
            [
             0.5555555555555556,
             "#d8576b"
            ],
            [
             0.6666666666666666,
             "#ed7953"
            ],
            [
             0.7777777777777778,
             "#fb9f3a"
            ],
            [
             0.8888888888888888,
             "#fdca26"
            ],
            [
             1,
             "#f0f921"
            ]
           ],
           "sequentialminus": [
            [
             0,
             "#0d0887"
            ],
            [
             0.1111111111111111,
             "#46039f"
            ],
            [
             0.2222222222222222,
             "#7201a8"
            ],
            [
             0.3333333333333333,
             "#9c179e"
            ],
            [
             0.4444444444444444,
             "#bd3786"
            ],
            [
             0.5555555555555556,
             "#d8576b"
            ],
            [
             0.6666666666666666,
             "#ed7953"
            ],
            [
             0.7777777777777778,
             "#fb9f3a"
            ],
            [
             0.8888888888888888,
             "#fdca26"
            ],
            [
             1,
             "#f0f921"
            ]
           ]
          },
          "colorway": [
           "#636efa",
           "#EF553B",
           "#00cc96",
           "#ab63fa",
           "#FFA15A",
           "#19d3f3",
           "#FF6692",
           "#B6E880",
           "#FF97FF",
           "#FECB52"
          ],
          "font": {
           "color": "#2a3f5f"
          },
          "geo": {
           "bgcolor": "white",
           "lakecolor": "white",
           "landcolor": "#E5ECF6",
           "showlakes": true,
           "showland": true,
           "subunitcolor": "white"
          },
          "hoverlabel": {
           "align": "left"
          },
          "hovermode": "closest",
          "mapbox": {
           "style": "light"
          },
          "paper_bgcolor": "white",
          "plot_bgcolor": "#E5ECF6",
          "polar": {
           "angularaxis": {
            "gridcolor": "white",
            "linecolor": "white",
            "ticks": ""
           },
           "bgcolor": "#E5ECF6",
           "radialaxis": {
            "gridcolor": "white",
            "linecolor": "white",
            "ticks": ""
           }
          },
          "scene": {
           "xaxis": {
            "backgroundcolor": "#E5ECF6",
            "gridcolor": "white",
            "gridwidth": 2,
            "linecolor": "white",
            "showbackground": true,
            "ticks": "",
            "zerolinecolor": "white"
           },
           "yaxis": {
            "backgroundcolor": "#E5ECF6",
            "gridcolor": "white",
            "gridwidth": 2,
            "linecolor": "white",
            "showbackground": true,
            "ticks": "",
            "zerolinecolor": "white"
           },
           "zaxis": {
            "backgroundcolor": "#E5ECF6",
            "gridcolor": "white",
            "gridwidth": 2,
            "linecolor": "white",
            "showbackground": true,
            "ticks": "",
            "zerolinecolor": "white"
           }
          },
          "shapedefaults": {
           "line": {
            "color": "#2a3f5f"
           }
          },
          "ternary": {
           "aaxis": {
            "gridcolor": "white",
            "linecolor": "white",
            "ticks": ""
           },
           "baxis": {
            "gridcolor": "white",
            "linecolor": "white",
            "ticks": ""
           },
           "bgcolor": "#E5ECF6",
           "caxis": {
            "gridcolor": "white",
            "linecolor": "white",
            "ticks": ""
           }
          },
          "title": {
           "x": 0.05
          },
          "xaxis": {
           "automargin": true,
           "gridcolor": "white",
           "linecolor": "white",
           "ticks": "",
           "title": {
            "standoff": 15
           },
           "zerolinecolor": "white",
           "zerolinewidth": 2
          },
          "yaxis": {
           "automargin": true,
           "gridcolor": "white",
           "linecolor": "white",
           "ticks": "",
           "title": {
            "standoff": 15
           },
           "zerolinecolor": "white",
           "zerolinewidth": 2
          }
         }
        },
        "xaxis": {
         "anchor": "y",
         "domain": [
          0,
          1
         ],
         "title": {
          "text": "condition"
         }
        },
        "yaxis": {
         "anchor": "x",
         "domain": [
          0,
          1
         ],
         "title": {
          "text": "score"
         }
        }
       }
      }
     },
     "metadata": {},
     "output_type": "display_data"
    }
   ],
   "source": [
    "px.strip(scores, x=\"condition\", y=\"score\", color=scores.index)"
   ]
  },
  {
   "cell_type": "markdown",
   "metadata": {},
   "source": [
    "The graphing library `plotly` allows to color the points according to the name of the image, such that we can identify the outliers by hovering over them. We can see that image `sub-613957_acq-standard_T1W` got a bad rating, even though this was the image from the no-motion condition. \n",
    "\n",
    "For the three images `sub-253493_acq-headmotion2_T1w`, `sub-257563_acq-headmotion2_T1w`, and `sub-567742_acq-headmotion2_T1w` we have the opposite case: these images got the best rating, even though the subjects were supposed to move their heads a lot during the acquisition of these images.\n",
    "\n",
    "Try and look at the HTML reports of these images: can you guess what was likely going on in each of these cases?"
   ]
  },
  {
   "cell_type": "markdown",
   "metadata": {},
   "source": [
    "## Visualizing the IQMs\n",
    "\n",
    "Next, let's look at the IQMs. There are many different variables here:"
   ]
  },
  {
   "cell_type": "code",
   "execution_count": 14,
   "metadata": {},
   "outputs": [
    {
     "data": {
      "text/plain": [
       "Index(['cjv', 'cnr', 'efc', 'fber', 'fwhm_avg', 'fwhm_x', 'fwhm_y', 'fwhm_z',\n",
       "       'icvs_csf', 'icvs_gm', 'icvs_wm', 'inu_med', 'inu_range', 'qi_1',\n",
       "       'qi_2', 'rpve_csf', 'rpve_gm', 'rpve_wm', 'size_x', 'size_y', 'size_z',\n",
       "       'snr_csf', 'snr_gm', 'snr_total', 'snr_wm', 'snrd_csf', 'snrd_gm',\n",
       "       'snrd_total', 'snrd_wm', 'spacing_x', 'spacing_y', 'spacing_z',\n",
       "       'summary_bg_k', 'summary_bg_mad', 'summary_bg_mean',\n",
       "       'summary_bg_median', 'summary_bg_n', 'summary_bg_p05', 'summary_bg_p95',\n",
       "       'summary_bg_stdv', 'summary_csf_k', 'summary_csf_mad',\n",
       "       'summary_csf_mean', 'summary_csf_median', 'summary_csf_n',\n",
       "       'summary_csf_p05', 'summary_csf_p95', 'summary_csf_stdv',\n",
       "       'summary_gm_k', 'summary_gm_mad', 'summary_gm_mean',\n",
       "       'summary_gm_median', 'summary_gm_n', 'summary_gm_p05', 'summary_gm_p95',\n",
       "       'summary_gm_stdv', 'summary_wm_k', 'summary_wm_mad', 'summary_wm_mean',\n",
       "       'summary_wm_median', 'summary_wm_n', 'summary_wm_p05', 'summary_wm_p95',\n",
       "       'summary_wm_stdv', 'tpm_overlap_csf', 'tpm_overlap_gm',\n",
       "       'tpm_overlap_wm', 'wm2max'],\n",
       "      dtype='object')"
      ]
     },
     "execution_count": 14,
     "metadata": {},
     "output_type": "execute_result"
    }
   ],
   "source": [
    "iqms.columns"
   ]
  },
  {
   "cell_type": "markdown",
   "metadata": {},
   "source": [
    "Some of them we can get rid of right away, as they are not really image quality metrics, but measurement parameters."
   ]
  },
  {
   "cell_type": "code",
   "execution_count": 15,
   "metadata": {},
   "outputs": [],
   "source": [
    "iqms_use = iqms.drop([\"size_x\", \"size_y\", \"size_z\", \"spacing_x\", \"spacing_y\", \"spacing_z\"], axis=1)"
   ]
  },
  {
   "cell_type": "markdown",
   "metadata": {},
   "source": [
    "We should also normalize the data, as the units of the IQMs vary wildly. This is required by some methods like PCA down the line, but it also makes sense computationally to have all values in the same order of magnitude."
   ]
  },
  {
   "cell_type": "code",
   "execution_count": 16,
   "metadata": {},
   "outputs": [],
   "source": [
    "scaler = StandardScaler()\n",
    "iqms_scaled = scaler.fit_transform(iqms_use)\n",
    "iqms_scaled = pd.DataFrame(iqms_scaled, columns=iqms_use.columns, index=iqms_use.index)"
   ]
  },
  {
   "cell_type": "markdown",
   "metadata": {},
   "source": [
    "Rule number one of data analysis: always visualize your data! We can plot the pairwise scatterplots to get an idea of the relationships between the IQMs. There are quite a few IQMs, so plottings this might take a few minutes, depending on your hardware."
   ]
  },
  {
   "cell_type": "code",
   "execution_count": 17,
   "metadata": {},
   "outputs": [],
   "source": [
    "metrics_sets = {f\"set{i+1}\": list(iqms_scaled.columns[i*10:i*10+9]) for i in range(6)}\n",
    "metrics_sets[\"set8\"] = list(iqms_scaled.columns[60:])"
   ]
  },
  {
   "cell_type": "code",
   "execution_count": 18,
   "metadata": {},
   "outputs": [],
   "source": [
    "# for metrics_set in metrics_sets.values():\n",
    "#     sns.pairplot(iqms_scaled[metrics_set])"
   ]
  },
  {
   "attachments": {},
   "cell_type": "markdown",
   "metadata": {},
   "source": [
    "Interesting! There are quite a few non-linear relationships between the IQMs, which we should keep in mind should linear dimension reduction techniques fail.\n",
    "Next, let's do some dimensionality reduction.\n",
    "\n",
    "## Dimensionality Reduction\n",
    "\n",
    "### PCA\n",
    "\n",
    "The simplest dimension reduction technique is principal component analysis (PCA), which projects the data onto a new set of axis defined by the eigenvectors of the data matrix. For PCA, it is important for all the features to be on the same scale, thus data need to be normalized. Here, as the data are already rescaled, we can directly apply it."
   ]
  },
  {
   "cell_type": "code",
   "execution_count": 52,
   "metadata": {},
   "outputs": [],
   "source": [
    "# run PCA\n",
    "pca = PCA()\n",
    "iqms_pca = pca.fit_transform(iqms_scaled)\n",
    "\n",
    "#Caste PCA results as a dataframe\n",
    "col_names_pca = [f\"component{i+1}\" for i in range(62)]\n",
    "iqms_pca = pd.DataFrame(iqms_pca, columns=col_names_pca)"
   ]
  },
  {
   "cell_type": "code",
   "execution_count": 54,
   "metadata": {},
   "outputs": [
    {
     "data": {
      "application/vnd.plotly.v1+json": {
       "config": {
        "plotlyServerURL": "https://plot.ly"
       },
       "data": [
        {
         "hovertemplate": "component1=%{x}<br>component2=%{y}<br>color=%{marker.color}<extra></extra>",
         "legendgroup": "",
         "marker": {
          "color": [
           2,
           3,
           1,
           2,
           3,
           1,
           2,
           3,
           1,
           2,
           3,
           1,
           2,
           3,
           1,
           2,
           3,
           1,
           2,
           3,
           1,
           2,
           3,
           1,
           2,
           3,
           1,
           2,
           3,
           1,
           2,
           3,
           1,
           2,
           3,
           1,
           2,
           3,
           1,
           2,
           3,
           1,
           2,
           3,
           1,
           3,
           1,
           2,
           3,
           1,
           2,
           3,
           1,
           2,
           3,
           1,
           2,
           3,
           1,
           2,
           3,
           1,
           2,
           3,
           1,
           2,
           3,
           1,
           2,
           1,
           2,
           3,
           1,
           2,
           3,
           1,
           2,
           3,
           1,
           2,
           3,
           1,
           2,
           3,
           1,
           2,
           3,
           1,
           2,
           3,
           1,
           2,
           3,
           1,
           3,
           1,
           2,
           3,
           1,
           2,
           3,
           1,
           2,
           3,
           1,
           2,
           3,
           1,
           2,
           3,
           1,
           2,
           3,
           1,
           2,
           3,
           1,
           2,
           3,
           1,
           2,
           3,
           1,
           2,
           3,
           1,
           2,
           3,
           1,
           2,
           3,
           1,
           2,
           3,
           1,
           2,
           3,
           1,
           2,
           3,
           1,
           3,
           1,
           2,
           3,
           1,
           2,
           3,
           1,
           2,
           3,
           1,
           2,
           3,
           1,
           2,
           3,
           1,
           2,
           3,
           1,
           2,
           3,
           1,
           2,
           3,
           1,
           2,
           3,
           1,
           2,
           3,
           1,
           2,
           3,
           1,
           2,
           3,
           1,
           2,
           3,
           1,
           2,
           3,
           1,
           2,
           3,
           1,
           3,
           1,
           2,
           3,
           1,
           2,
           3,
           1,
           2,
           3,
           1,
           2,
           3,
           1,
           2,
           3,
           1,
           2,
           3,
           1,
           2,
           3,
           1,
           2,
           3,
           1,
           2,
           3,
           1,
           2,
           3,
           1,
           2,
           3,
           1,
           2,
           3,
           1,
           2,
           3,
           1,
           2,
           3,
           1,
           2,
           3,
           1,
           2,
           3,
           1,
           2,
           3,
           1,
           2,
           3,
           1,
           2,
           3,
           1,
           2,
           3,
           1,
           2,
           3,
           1,
           2,
           3,
           1,
           3,
           1,
           2,
           3,
           1,
           2,
           3,
           1,
           2,
           3,
           1,
           2,
           3,
           1,
           2,
           3,
           1,
           2,
           3,
           1,
           3,
           1,
           2,
           3,
           1,
           2,
           3,
           1,
           2,
           3,
           1,
           2,
           3,
           1,
           2,
           3,
           1,
           2,
           3,
           1,
           2,
           3,
           1,
           2,
           3,
           1,
           2,
           3,
           1,
           2,
           3,
           1,
           2,
           3,
           1,
           2,
           3,
           1,
           2,
           3,
           1,
           3,
           1,
           2,
           3,
           1,
           2,
           3,
           1,
           2,
           3,
           1,
           2,
           3,
           1,
           2,
           3,
           1,
           2,
           3,
           1,
           2,
           3,
           1,
           2,
           3,
           1,
           2,
           3,
           1,
           2,
           3,
           1,
           2,
           3,
           1,
           2,
           3,
           1,
           2,
           3,
           1,
           2,
           3,
           1,
           2,
           3,
           1,
           2,
           3,
           1,
           2,
           3,
           1,
           2,
           3,
           1,
           2,
           3,
           1,
           2,
           3,
           1,
           2,
           3,
           1,
           2,
           3,
           1,
           2,
           3,
           1,
           2,
           3,
           1,
           2,
           3,
           1,
           2,
           3,
           1,
           2,
           3,
           1,
           2,
           3,
           1,
           2,
           3,
           1,
           2,
           3,
           1,
           2,
           3,
           1,
           2,
           3,
           1,
           2,
           3,
           1,
           2,
           3,
           1,
           2,
           3,
           1,
           2,
           3,
           1,
           2,
           3,
           1,
           2,
           3,
           1,
           2,
           3,
           1
          ],
          "coloraxis": "coloraxis",
          "symbol": "circle"
         },
         "mode": "markers",
         "name": "",
         "orientation": "v",
         "showlegend": false,
         "type": "scatter",
         "x": [
          -3.2449064043505556,
          2.241555100162127,
          -4.837443302350565,
          3.5189542491596795,
          1.1197099844996232,
          -4.373940931323628,
          2.4239826882020705,
          5.1683540095639,
          -5.977271509267585,
          -0.726004574588758,
          1.3715482575929618,
          -4.57975985812403,
          -1.1020274527091105,
          -0.023159183664174156,
          -4.095502596420049,
          -3.664222033476264,
          0.10736594811587628,
          -4.556278015544611,
          1.5369256959219357,
          11.228269856976247,
          -2.804771991626936,
          -3.2798530767563627,
          -0.9879903422973259,
          -4.656293014503606,
          -4.7999926566563005,
          12.589698023261972,
          -5.4783969121138325,
          3.4935203893489266,
          7.160576640644053,
          -4.4206476228019635,
          2.2698462359935587,
          2.9584464001718334,
          -6.118371692230085,
          -0.5569972074605037,
          1.6267645304212417,
          -5.619295360718163,
          4.816183549410455,
          9.91227740252725,
          -6.558644284562357,
          -2.0954808123349267,
          5.439446410895427,
          -4.86727751702083,
          -3.172560706134168,
          -1.052452362369507,
          -5.780307846161016,
          12.471782886881243,
          -4.458251426393714,
          2.182312977499439,
          3.6486278012754436,
          -5.900259472556175,
          -4.72180998156119,
          -1.3208163688876677,
          -5.935629197235149,
          1.5168530565659106,
          6.264683783441017,
          -4.64282248849935,
          -2.3617421287183116,
          4.362632895793577,
          -5.1373829607623795,
          -3.008017923081108,
          -0.14592620493966962,
          -4.820501136489376,
          -1.5174278366701255,
          6.625958834879941,
          -4.6979424032323225,
          -1.4257308562038982,
          2.516176452870798,
          -4.105636048338585,
          9.591911836362378,
          -4.930694996454966,
          6.889700673474768,
          11.127191731346732,
          -4.647916898781419,
          8.532221078205941,
          12.171747416822532,
          -3.745283921833807,
          -5.6652339118928134,
          -4.3030207190441745,
          -5.8558804887729305,
          -2.6775723245026235,
          -0.24435390017731665,
          -5.30840870840304,
          10.78293338427786,
          4.21418541683367,
          -4.213585235734042,
          3.8729110122071444,
          10.986638898352444,
          -2.8100063986871775,
          -3.179449052451518,
          -0.36332184981310695,
          -5.376104654293225,
          13.054362834721116,
          9.274957901098015,
          -4.505198441324397,
          6.91031430520067,
          -6.251226200334753,
          4.9131593921154115,
          9.951871794324067,
          -4.610861292182591,
          -1.801194025434154,
          6.6083447763520295,
          -4.647265677803896,
          3.6900605123179813,
          10.419185167125875,
          -5.458966844619002,
          -1.7463347661474777,
          -2.353430566939906,
          -3.269088071484202,
          -3.2651018113439276,
          -2.0983395771090736,
          -4.572669893054739,
          2.846272583433235,
          8.82317982398601,
          -4.068521036939259,
          -2.9412091824581497,
          1.4484953996367806,
          -4.920661523799443,
          -4.21615046567441,
          -2.7368950996853183,
          -6.284885506772226,
          -1.142123528307669,
          -1.2204097586984253,
          -4.709853624054755,
          -1.2034753699932452,
          3.8774331066049657,
          -4.655484800867777,
          -1.8979145123891712,
          0.27620040086694847,
          -5.023623060895888,
          -1.3330821512092954,
          2.1422494136242287,
          -5.399385934331452,
          8.560989506255993,
          5.829900984467849,
          -4.419307603863329,
          -1.1254819782835874,
          7.925625460503616,
          -4.632435287576001,
          -2.428436634798328,
          1.531982921894278,
          -4.854495937108462,
          11.105633036360162,
          -3.601398324905675,
          2.086727662196324,
          10.966179407340016,
          -4.724787729191365,
          2.559076360829053,
          9.27902209569892,
          -4.5899581451604625,
          -1.688637481917924,
          3.9521220113309754,
          -4.832195918942884,
          -2.386984121519918,
          3.74847011948263,
          -5.159304239688985,
          6.450057935641496,
          10.47873916650209,
          -4.374977064453237,
          -3.3389054335286907,
          0.18026699460066678,
          -6.638855490313839,
          1.161096862574241,
          -0.35973163360080834,
          -5.107148078183787,
          -1.8572291161263363,
          -1.1415247977383125,
          -5.384425960726913,
          -2.3800168965542774,
          -0.6960722176744895,
          -5.108011178081747,
          3.4101257480000005,
          5.895206024149332,
          -3.1929190415223814,
          3.661627783628098,
          4.807658070474409,
          -4.1412291708762705,
          7.690539021686596,
          8.933774775103643,
          -5.12090200191655,
          -2.4515622172444904,
          -1.6503033923579573,
          -6.58282479364536,
          -1.5982028856429458,
          3.4612034916785293,
          -5.025591714625477,
          6.149681013529698,
          16.22472004979641,
          -4.300543523677228,
          -0.05337410251802899,
          -4.882918494172663,
          -3.6668948781798387,
          9.571242867821903,
          -4.558825517000395,
          1.9200932860188922,
          9.194590814887267,
          -3.7210860240977013,
          -2.653668189433481,
          1.37047602151633,
          -4.861261709005241,
          -4.242881451004097,
          -1.3794200577144764,
          -6.207401753706983,
          0.6227119400101062,
          6.848345313026115,
          -4.261713326590106,
          -1.161889016923811,
          -0.9592006672302902,
          -5.254197528820612,
          10.983804943946218,
          9.979735994503619,
          -4.445162663180426,
          3.010179625091957,
          11.152327489068552,
          -4.738795637130192,
          -3.5714466565540612,
          -0.448365080297481,
          -3.4819103114240093,
          -2.078090757121293,
          2.231484987818958,
          -5.56840387615181,
          7.547180438478279,
          2.321950402654771,
          -3.966762949000293,
          -2.4345672956073128,
          9.242416294123087,
          -4.429754069212831,
          -0.55187031741211,
          8.748783005367448,
          -6.782518192020409,
          0.5869246209020688,
          9.831279846548544,
          -4.828100400763226,
          5.238842181977456,
          1.5587237925653616,
          -4.301998236616227,
          -4.52111759924657,
          -2.9546283661976904,
          -5.415055291823597,
          0.3986176110167923,
          5.659061402235195,
          -3.638431458537726,
          -0.038901903444276555,
          2.305863197506256,
          -5.537020699764491,
          0.32592847401180225,
          7.138537480317744,
          -4.905577700060827,
          3.595642093293513,
          8.402982803131366,
          -5.714487456018009,
          1.3435876551420678,
          9.503296398470791,
          -3.9340900207195886,
          3.395182627150228,
          4.68180080598915,
          -4.898750618811773,
          3.367463346225483,
          -3.5723335733222226,
          -3.8668108807104686,
          -2.846660468649275,
          -5.38033699843704,
          -3.277244074284267,
          -0.4657019665147848,
          -5.866799443358437,
          1.672442714811731,
          10.93426593446998,
          -5.023504856215992,
          0.846918873097189,
          4.241022607648842,
          -3.6325303735574406,
          -0.677064052952434,
          0.7787001759470848,
          -5.124333243745332,
          -0.13515071043700244,
          8.095154771713133,
          -5.82463988472666,
          12.91503834860499,
          -0.6921831060804011,
          -1.0829619124357333,
          4.974016809199113,
          -4.730234007604727,
          8.453753534487626,
          9.854385057720119,
          -5.464090024194672,
          -2.9851177002885003,
          1.5147556818230579,
          -4.950293695807532,
          -2.8571443840078152,
          -3.0586394344807206,
          -6.975160165022645,
          5.668897507015357,
          14.73501854449866,
          -3.9472406446392756,
          1.2697020514556383,
          4.191688957604451,
          -4.931882593085242,
          -0.48093881209233846,
          5.656256401322801,
          -5.081044147884307,
          -2.604702578953355,
          2.88915077466173,
          -5.668592870661299,
          -0.021355269564140304,
          5.508976415369362,
          -3.9946696943550366,
          -3.0618511038023852,
          -1.3223943491411412,
          -4.739285926100975,
          0.17540616613970772,
          2.8679701904545123,
          -5.1395024202754165,
          1.9338028158730884,
          5.439016792320079,
          -5.335353707234904,
          0.6061205392871082,
          4.431463972544369,
          -4.675467232709287,
          -2.5970635764529626,
          -3.7275052055094418,
          6.0921379936374835,
          11.374707613057051,
          -3.791237706901984,
          -2.528983606098061,
          1.0627748301443904,
          -4.6129969851284045,
          -0.23249183964073888,
          3.2222404376151172,
          -4.73145806345295,
          6.966391987720672,
          4.026147978057229,
          -5.743443950967649,
          1.6789366826631296,
          3.3082698724873016,
          -4.956597365184155,
          -2.4288938328794973,
          1.81186257702874,
          -5.423525305305229,
          -0.989571272814225,
          10.381104598865793,
          -5.12751206609588,
          2.1660908106227303,
          7.901192277035857,
          -4.642881339047615,
          -2.0175338949674657,
          2.3922283914551916,
          -4.63344414215606,
          -2.0957261864002734,
          4.307013674028454,
          -4.839406260859582,
          -0.919323149431651,
          5.220036648010957,
          -5.4819668093394105,
          4.083420067491815,
          3.0822106401578933,
          -4.713037112294049,
          1.8256737921842447,
          7.752235346170755,
          -2.56374760188082,
          3.138339287063508,
          11.877484265524851,
          -4.771994012949559,
          -2.916520362267917,
          -2.0540826752791888,
          -4.79767572575869,
          -5.635366028473058,
          -4.24696338179011,
          -5.867995649787552,
          2.486454177195175,
          7.797255631903864,
          -3.412158155816342,
          -0.4312003029794862,
          1.6406794840407877,
          -5.9854373991430005,
          4.326234430272535,
          6.521146931723167,
          -5.460162953277848,
          -0.19922139550927803,
          1.9931284520057795,
          -5.434748516325536,
          -0.5806223630041647,
          5.9636579984523745,
          -4.803830765072887,
          -3.7714392669327634,
          4.0374264086678515,
          -4.901410431714536,
          -1.5914130316184079,
          0.7957309832035667,
          -4.256549382344972,
          1.2971467781417183,
          7.387501884742086,
          -4.668514751609308,
          2.4468580250552727,
          3.6380972219324175,
          -4.430381188830241,
          1.1868775073646112,
          5.23444709164804,
          -5.683330912681505,
          -0.8189746541733839,
          3.0794152421078462,
          -5.551042143810853,
          -3.52093408314255,
          -3.149473101739123,
          -5.470111431598369,
          -2.22199430350348,
          3.852488416247153,
          -5.116723005661668,
          -0.9758806255160093,
          4.980046981236782,
          -5.148131611642775,
          9.107422348245759,
          8.112795972713666,
          -4.344405059159212,
          5.545995232343501,
          2.490315588356119,
          -4.869920031446799,
          4.023187146562171,
          9.184342200687151,
          -5.302161257176594,
          -2.5711180972014436,
          -1.0048276418340079,
          -2.945375347506848,
          -2.253056337949149,
          0.8294466232041022,
          -5.0160040942140895,
          1.4088190409615515,
          11.145241395859644,
          -4.214352215260626,
          -2.0549418675300575,
          -1.05811567662003,
          -4.5371837589918815,
          -3.8326044645308723,
          0.09203009236984924,
          -4.368624487723763,
          0.7002155249125501,
          4.734529702997317,
          -4.7034178081207685
         ],
         "xaxis": "x",
         "y": [
          -0.9953309813541279,
          -2.0969605186315845,
          -1.1192509481633321,
          -1.762533911460045,
          -1.7648475874824527,
          -1.9648610546643015,
          0.9973806960630212,
          1.3739296081244772,
          -0.8195072667370454,
          -1.2648060338620981,
          -1.4534575274924586,
          -2.1901732522709447,
          3.182988753125508,
          1.9666009813879082,
          1.7623316995849376,
          3.7694189767880535,
          3.5067874723789862,
          3.333687060236656,
          -2.07202233644772,
          -1.9540193375820913,
          -3.4866368749125054,
          -0.2606003303927226,
          0.13290209782126763,
          -0.46775558012277496,
          -0.9467879318017882,
          -3.361119783371943,
          -1.1584737663943272,
          -0.28120248881188553,
          -1.1033687448258105,
          0.19485378337072812,
          -3.09520112949211,
          -4.220293127788017,
          -5.410900983427827,
          0.36391737668864305,
          0.8590583137202094,
          -0.8049765655616293,
          1.3308730032777127,
          0.9929564362572117,
          -0.012248022753427802,
          -0.7668672050879959,
          -0.6303149374741362,
          -1.2477753407104852,
          1.1344970299689352,
          1.2313524219663932,
          0.008882461423160343,
          1.5525200475793874,
          -1.5542337403951922,
          7.143208300389746,
          6.882780923965507,
          6.366486899398477,
          1.919685779720727,
          2.0272689545018663,
          0.9790785076278673,
          -2.950222031060849,
          -3.5209160351161577,
          -3.5347339845828087,
          -1.541278503909129,
          -2.7384228472747374,
          -2.742908398677639,
          -3.4291946355372502,
          -3.1772909822412565,
          -3.285639812463834,
          -1.8003321384266722,
          -1.3663348501744377,
          -2.2786016170264074,
          -1.2785066619700607,
          -0.7215675887827487,
          -1.9057307358648645,
          2.378263536428596,
          1.283263249792396,
          -1.5825294988639445,
          -1.4928029427601717,
          -1.195594465503043,
          -2.8215255604524168,
          -1.2523147683920495,
          -1.5587276974574569,
          -1.0016088602961917,
          -0.5990709069433502,
          -1.5460112594987292,
          0.34309128746044965,
          1.300592484581152,
          0.33992466562788437,
          -4.953580045381751,
          -2.3398963609716525,
          -1.4955289279886168,
          -2.91172838484181,
          -2.0750937823812405,
          -1.9883104308245596,
          0.32536778130216276,
          -0.2280595048702625,
          -1.5548412606142727,
          -3.724732956169668,
          -2.93947172749385,
          -1.6242454239215631,
          1.1159969446648634,
          2.023851993808272,
          1.8740634034866448,
          0.28308963299402146,
          -0.053678130417260175,
          0.5244732129663616,
          0.4657777195402237,
          -0.6605701526806017,
          2.531373235239269,
          2.9831370696310517,
          0.6333083718392131,
          2.3956109255740077,
          2.446202853084854,
          2.0158746727391224,
          -0.29071142313825576,
          -0.1288754955321776,
          -1.0495596494543868,
          -0.8506811967324112,
          -0.3242275595720803,
          -0.5841136610815633,
          0.05148680994264078,
          -1.3811476961935019,
          -1.313591897611128,
          4.570581019679531,
          4.87180298839041,
          4.76062037056517,
          0.2436176993290972,
          0.35325459808570636,
          0.23728905525982205,
          3.925396339864576,
          4.187610814379623,
          3.131800954374658,
          -0.8523292745028014,
          -0.42940039088133025,
          -1.4339575999287737,
          -0.8541535160724152,
          -0.25119806831339375,
          -0.8810342534437616,
          -1.0090206048997683,
          -1.482696221278255,
          -0.1550432397872916,
          0.2926854110694725,
          -0.9776626611934588,
          -0.11293155913735786,
          -0.6636812616533236,
          -0.5915721318831939,
          -1.6191287966016084,
          0.4102712880905632,
          -2.2838235877960837,
          -1.6233809667161636,
          -1.831805596963356,
          -2.4929721274913605,
          -0.8458632118863841,
          -0.20754266141333125,
          -2.06178467930629,
          -0.6494861123616862,
          -0.5810211635831674,
          -1.9085717196010565,
          -0.71534978995867,
          0.10796060048298509,
          -1.388337429339058,
          3.662245602249737,
          3.150601604323396,
          3.3357844323819323,
          2.3835812337265563,
          2.3222584936692736,
          1.679510536326866,
          6.138661057736284,
          6.140180650709334,
          5.028533274805468,
          0.4529246868621352,
          -0.036787015715969984,
          -0.433552486554245,
          -0.028991448503069974,
          0.2153845854901568,
          0.012926543981153761,
          -1.309713043712619,
          -2.1722213853081254,
          -3.804884683755773,
          0.03869875488337186,
          -1.1256572806552825,
          -0.8498914936565874,
          -0.06296308699017829,
          -1.426528928655342,
          -0.9079086403065955,
          0.5631317484126326,
          0.5329604428714093,
          -0.7266776764708914,
          0.9431784167878082,
          0.8532643206933274,
          0.5900521597771062,
          1.5508672443601628,
          1.166563618171553,
          0.6271998352318039,
          2.0024642328682845,
          0.9987406368708717,
          -1.7878354447128104,
          -1.1049361808300382,
          -1.9100906912470432,
          -0.1966403731957679,
          -1.951432045021526,
          -1.4533873919336027,
          -0.05817852193441695,
          -0.19126095627809597,
          -1.0202771465392595,
          3.518665767967067,
          4.11828818708266,
          3.2178032198238777,
          2.501020473478457,
          2.8871645777254136,
          2.49735697786879,
          0.24499062208138003,
          0.5163680675614268,
          -0.12227796167764128,
          -3.3057291680196927,
          -3.2130352622459273,
          -1.6976606822687257,
          -1.2872180724034736,
          0.07977790087356358,
          -2.6869499386511877,
          0.10092326383008395,
          0.05764935464809192,
          0.17274138185391905,
          2.704484238934323,
          1.1535440508799852,
          1.4221236205042371,
          -2.660316243935095,
          -1.5367027738963452,
          -1.88388503958934,
          0.7413656811277876,
          1.9394251678757632,
          0.012365443446584565,
          5.142163090241628,
          4.227591252924831,
          3.36717420811979,
          -0.8790506155062117,
          0.20723469846410347,
          -1.6346085160164163,
          1.2483880197885688,
          -0.0587530810718908,
          -0.8403056810951339,
          -2.514603517398969,
          -3.0843556962153307,
          -3.1573105094545126,
          -2.9212218276144806,
          -3.0349735053554507,
          -2.958530853880666,
          1.359360920419488,
          0.7780116905919703,
          0.6049315361175054,
          -0.10756269013071694,
          -0.42620460172219826,
          -0.7986081549810945,
          -4.346204442998064,
          -4.719702831700615,
          -4.905968906863738,
          -2.6569584592003763,
          -3.9095010867404745,
          -3.2465802023812134,
          4.8127760666944495,
          4.420013245630121,
          4.389578576634983,
          2.287298638473701,
          1.4468733971280974,
          -1.4667653082315593,
          -1.9116397628425346,
          -2.2251013397270567,
          1.0647192125048173,
          1.6512709846731422,
          0.010334694788770216,
          0.8077708678656361,
          1.4962045846047893,
          -1.079652238553043,
          -1.936974341166175,
          -0.9341448973398955,
          -2.64551043619057,
          1.0220609231385847,
          0.5224883248462062,
          0.007437137075271778,
          4.47297761337161,
          4.709505144011602,
          3.5077161093852185,
          10.506438702402761,
          9.939330087496616,
          -0.8937103880183784,
          -1.4367922810733371,
          -2.056619814760822,
          -4.2794279661061,
          -6.887678217162341,
          -3.1295926627488706,
          -2.1212099930203063,
          -1.3811345174122693,
          -2.742534349392633,
          5.0773328970276665,
          4.437903982939073,
          4.479205639555754,
          5.49032754414513,
          5.37204772214382,
          0.39195744344975614,
          5.239672905019545,
          3.8395678962018533,
          4.766473928117039,
          0.19498002833186798,
          -1.1119956748625337,
          -1.184442628200367,
          0.28877359561294924,
          -0.24050950796342646,
          -0.8521762814438892,
          0.08985546102209284,
          -0.9900971426856843,
          0.013845149826386216,
          0.8004792430289654,
          0.869915029920805,
          0.06935536295748292,
          3.7021328174658836,
          4.769027539541037,
          4.15480327144042,
          -0.2788568259392209,
          -0.04050792904135325,
          -1.2186082289224989,
          -2.0709491310420582,
          -1.5097545493683477,
          -2.996600209544422,
          0.6639315146141834,
          0.3390918544274295,
          -3.14752132111056,
          -2.8365912137895917,
          -3.4794967121990235,
          -3.7721548670225493,
          -4.435261633998133,
          -5.1072646169826985,
          -2.1115615943762562,
          -2.397891851587927,
          -2.780296794590002,
          2.111492464754186,
          2.8243438941983534,
          0.30640294982430405,
          -1.3578200677785026,
          -1.1571359403965265,
          -3.3882624525927394,
          5.565862445818443,
          4.579532129837925,
          4.702977792680235,
          4.72304102222436,
          4.294795538163653,
          3.023344903270055,
          -1.5866503314093352,
          -2.6120374507920836,
          -2.188814672562119,
          -2.3045927881292063,
          -1.756056655576323,
          -2.657658508609954,
          0.8394493433370792,
          1.2773799998373099,
          0.749104001528945,
          2.748321708645643,
          0.8318132156238477,
          1.817145106951154,
          -1.5555178238575422,
          -1.3950095451674205,
          -1.3458265990788993,
          -1.443519788139618,
          -2.9221750912003435,
          -2.5931425918370237,
          1.3342613301304111,
          2.09333043509887,
          1.6522038356305522,
          0.7399750117521321,
          -0.16736477927413598,
          -0.2735583019027855,
          0.2781392885487567,
          0.6023033220023809,
          0.03832247085949913,
          -0.7402518362726888,
          -0.2020823019078239,
          -1.03464946148693,
          -0.34131934491874444,
          -0.3536072230343335,
          -2.2138952152703273,
          1.5332034267166288,
          1.7313720234919103,
          0.7399989843202538,
          3.2614492474347525,
          2.3034229930081884,
          2.6202993459101154,
          3.2811089215505427,
          3.2057047147521893,
          1.8752579163643304,
          -0.4195108363501898,
          -0.2883539331310613,
          -1.3536768846939833,
          -2.53914441927537,
          -3.024892129487076,
          -3.3638060071238693,
          0.5053602674107872,
          1.2816796476997643,
          0.8373729352640854,
          -1.8525474943530524,
          -1.52485122402677,
          -3.0401380168152903,
          7.395648452651498,
          6.161757624426502,
          4.657603662141241,
          1.2555692037575066,
          0.4026558252374525,
          1.2008076811027355,
          -3.6554953025371573,
          -3.5559005146684544,
          -4.024192560880136,
          0.23652733687738434,
          -0.5336012190151139,
          -0.5347221335030167,
          -1.5608738768437642,
          -1.8948172348180705,
          -2.298685965786253,
          -1.132066117018374,
          -1.509163629494449,
          -2.763186283261582,
          2.433312046128714,
          2.5303101687125626,
          1.5630540052545665,
          -2.603470884010784,
          -2.530954225083284,
          -3.872528583734421,
          1.0776223841478938,
          1.3176199340638086,
          1.2860597225674775,
          2.4024599805306086,
          1.4815912749496793,
          1.0573637269264513,
          -4.028899408170825,
          -3.4367234644375206,
          -4.797930614705285,
          -2.685892111927928,
          -2.71675707702473,
          -2.709918731745468,
          5.0840109023215305,
          5.7007879021553,
          4.997569576701153,
          0.840854973945783,
          0.37428507131494787,
          0.1296261840062311
         ],
         "yaxis": "y"
        }
       ],
       "layout": {
        "coloraxis": {
         "colorbar": {
          "title": {
           "text": "color"
          }
         },
         "colorscale": [
          [
           0,
           "#0d0887"
          ],
          [
           0.1111111111111111,
           "#46039f"
          ],
          [
           0.2222222222222222,
           "#7201a8"
          ],
          [
           0.3333333333333333,
           "#9c179e"
          ],
          [
           0.4444444444444444,
           "#bd3786"
          ],
          [
           0.5555555555555556,
           "#d8576b"
          ],
          [
           0.6666666666666666,
           "#ed7953"
          ],
          [
           0.7777777777777778,
           "#fb9f3a"
          ],
          [
           0.8888888888888888,
           "#fdca26"
          ],
          [
           1,
           "#f0f921"
          ]
         ]
        },
        "legend": {
         "tracegroupgap": 0
        },
        "template": {
         "data": {
          "bar": [
           {
            "error_x": {
             "color": "#2a3f5f"
            },
            "error_y": {
             "color": "#2a3f5f"
            },
            "marker": {
             "line": {
              "color": "#E5ECF6",
              "width": 0.5
             },
             "pattern": {
              "fillmode": "overlay",
              "size": 10,
              "solidity": 0.2
             }
            },
            "type": "bar"
           }
          ],
          "barpolar": [
           {
            "marker": {
             "line": {
              "color": "#E5ECF6",
              "width": 0.5
             },
             "pattern": {
              "fillmode": "overlay",
              "size": 10,
              "solidity": 0.2
             }
            },
            "type": "barpolar"
           }
          ],
          "carpet": [
           {
            "aaxis": {
             "endlinecolor": "#2a3f5f",
             "gridcolor": "white",
             "linecolor": "white",
             "minorgridcolor": "white",
             "startlinecolor": "#2a3f5f"
            },
            "baxis": {
             "endlinecolor": "#2a3f5f",
             "gridcolor": "white",
             "linecolor": "white",
             "minorgridcolor": "white",
             "startlinecolor": "#2a3f5f"
            },
            "type": "carpet"
           }
          ],
          "choropleth": [
           {
            "colorbar": {
             "outlinewidth": 0,
             "ticks": ""
            },
            "type": "choropleth"
           }
          ],
          "contour": [
           {
            "colorbar": {
             "outlinewidth": 0,
             "ticks": ""
            },
            "colorscale": [
             [
              0,
              "#0d0887"
             ],
             [
              0.1111111111111111,
              "#46039f"
             ],
             [
              0.2222222222222222,
              "#7201a8"
             ],
             [
              0.3333333333333333,
              "#9c179e"
             ],
             [
              0.4444444444444444,
              "#bd3786"
             ],
             [
              0.5555555555555556,
              "#d8576b"
             ],
             [
              0.6666666666666666,
              "#ed7953"
             ],
             [
              0.7777777777777778,
              "#fb9f3a"
             ],
             [
              0.8888888888888888,
              "#fdca26"
             ],
             [
              1,
              "#f0f921"
             ]
            ],
            "type": "contour"
           }
          ],
          "contourcarpet": [
           {
            "colorbar": {
             "outlinewidth": 0,
             "ticks": ""
            },
            "type": "contourcarpet"
           }
          ],
          "heatmap": [
           {
            "colorbar": {
             "outlinewidth": 0,
             "ticks": ""
            },
            "colorscale": [
             [
              0,
              "#0d0887"
             ],
             [
              0.1111111111111111,
              "#46039f"
             ],
             [
              0.2222222222222222,
              "#7201a8"
             ],
             [
              0.3333333333333333,
              "#9c179e"
             ],
             [
              0.4444444444444444,
              "#bd3786"
             ],
             [
              0.5555555555555556,
              "#d8576b"
             ],
             [
              0.6666666666666666,
              "#ed7953"
             ],
             [
              0.7777777777777778,
              "#fb9f3a"
             ],
             [
              0.8888888888888888,
              "#fdca26"
             ],
             [
              1,
              "#f0f921"
             ]
            ],
            "type": "heatmap"
           }
          ],
          "heatmapgl": [
           {
            "colorbar": {
             "outlinewidth": 0,
             "ticks": ""
            },
            "colorscale": [
             [
              0,
              "#0d0887"
             ],
             [
              0.1111111111111111,
              "#46039f"
             ],
             [
              0.2222222222222222,
              "#7201a8"
             ],
             [
              0.3333333333333333,
              "#9c179e"
             ],
             [
              0.4444444444444444,
              "#bd3786"
             ],
             [
              0.5555555555555556,
              "#d8576b"
             ],
             [
              0.6666666666666666,
              "#ed7953"
             ],
             [
              0.7777777777777778,
              "#fb9f3a"
             ],
             [
              0.8888888888888888,
              "#fdca26"
             ],
             [
              1,
              "#f0f921"
             ]
            ],
            "type": "heatmapgl"
           }
          ],
          "histogram": [
           {
            "marker": {
             "pattern": {
              "fillmode": "overlay",
              "size": 10,
              "solidity": 0.2
             }
            },
            "type": "histogram"
           }
          ],
          "histogram2d": [
           {
            "colorbar": {
             "outlinewidth": 0,
             "ticks": ""
            },
            "colorscale": [
             [
              0,
              "#0d0887"
             ],
             [
              0.1111111111111111,
              "#46039f"
             ],
             [
              0.2222222222222222,
              "#7201a8"
             ],
             [
              0.3333333333333333,
              "#9c179e"
             ],
             [
              0.4444444444444444,
              "#bd3786"
             ],
             [
              0.5555555555555556,
              "#d8576b"
             ],
             [
              0.6666666666666666,
              "#ed7953"
             ],
             [
              0.7777777777777778,
              "#fb9f3a"
             ],
             [
              0.8888888888888888,
              "#fdca26"
             ],
             [
              1,
              "#f0f921"
             ]
            ],
            "type": "histogram2d"
           }
          ],
          "histogram2dcontour": [
           {
            "colorbar": {
             "outlinewidth": 0,
             "ticks": ""
            },
            "colorscale": [
             [
              0,
              "#0d0887"
             ],
             [
              0.1111111111111111,
              "#46039f"
             ],
             [
              0.2222222222222222,
              "#7201a8"
             ],
             [
              0.3333333333333333,
              "#9c179e"
             ],
             [
              0.4444444444444444,
              "#bd3786"
             ],
             [
              0.5555555555555556,
              "#d8576b"
             ],
             [
              0.6666666666666666,
              "#ed7953"
             ],
             [
              0.7777777777777778,
              "#fb9f3a"
             ],
             [
              0.8888888888888888,
              "#fdca26"
             ],
             [
              1,
              "#f0f921"
             ]
            ],
            "type": "histogram2dcontour"
           }
          ],
          "mesh3d": [
           {
            "colorbar": {
             "outlinewidth": 0,
             "ticks": ""
            },
            "type": "mesh3d"
           }
          ],
          "parcoords": [
           {
            "line": {
             "colorbar": {
              "outlinewidth": 0,
              "ticks": ""
             }
            },
            "type": "parcoords"
           }
          ],
          "pie": [
           {
            "automargin": true,
            "type": "pie"
           }
          ],
          "scatter": [
           {
            "fillpattern": {
             "fillmode": "overlay",
             "size": 10,
             "solidity": 0.2
            },
            "type": "scatter"
           }
          ],
          "scatter3d": [
           {
            "line": {
             "colorbar": {
              "outlinewidth": 0,
              "ticks": ""
             }
            },
            "marker": {
             "colorbar": {
              "outlinewidth": 0,
              "ticks": ""
             }
            },
            "type": "scatter3d"
           }
          ],
          "scattercarpet": [
           {
            "marker": {
             "colorbar": {
              "outlinewidth": 0,
              "ticks": ""
             }
            },
            "type": "scattercarpet"
           }
          ],
          "scattergeo": [
           {
            "marker": {
             "colorbar": {
              "outlinewidth": 0,
              "ticks": ""
             }
            },
            "type": "scattergeo"
           }
          ],
          "scattergl": [
           {
            "marker": {
             "colorbar": {
              "outlinewidth": 0,
              "ticks": ""
             }
            },
            "type": "scattergl"
           }
          ],
          "scattermapbox": [
           {
            "marker": {
             "colorbar": {
              "outlinewidth": 0,
              "ticks": ""
             }
            },
            "type": "scattermapbox"
           }
          ],
          "scatterpolar": [
           {
            "marker": {
             "colorbar": {
              "outlinewidth": 0,
              "ticks": ""
             }
            },
            "type": "scatterpolar"
           }
          ],
          "scatterpolargl": [
           {
            "marker": {
             "colorbar": {
              "outlinewidth": 0,
              "ticks": ""
             }
            },
            "type": "scatterpolargl"
           }
          ],
          "scatterternary": [
           {
            "marker": {
             "colorbar": {
              "outlinewidth": 0,
              "ticks": ""
             }
            },
            "type": "scatterternary"
           }
          ],
          "surface": [
           {
            "colorbar": {
             "outlinewidth": 0,
             "ticks": ""
            },
            "colorscale": [
             [
              0,
              "#0d0887"
             ],
             [
              0.1111111111111111,
              "#46039f"
             ],
             [
              0.2222222222222222,
              "#7201a8"
             ],
             [
              0.3333333333333333,
              "#9c179e"
             ],
             [
              0.4444444444444444,
              "#bd3786"
             ],
             [
              0.5555555555555556,
              "#d8576b"
             ],
             [
              0.6666666666666666,
              "#ed7953"
             ],
             [
              0.7777777777777778,
              "#fb9f3a"
             ],
             [
              0.8888888888888888,
              "#fdca26"
             ],
             [
              1,
              "#f0f921"
             ]
            ],
            "type": "surface"
           }
          ],
          "table": [
           {
            "cells": {
             "fill": {
              "color": "#EBF0F8"
             },
             "line": {
              "color": "white"
             }
            },
            "header": {
             "fill": {
              "color": "#C8D4E3"
             },
             "line": {
              "color": "white"
             }
            },
            "type": "table"
           }
          ]
         },
         "layout": {
          "annotationdefaults": {
           "arrowcolor": "#2a3f5f",
           "arrowhead": 0,
           "arrowwidth": 1
          },
          "autotypenumbers": "strict",
          "coloraxis": {
           "colorbar": {
            "outlinewidth": 0,
            "ticks": ""
           }
          },
          "colorscale": {
           "diverging": [
            [
             0,
             "#8e0152"
            ],
            [
             0.1,
             "#c51b7d"
            ],
            [
             0.2,
             "#de77ae"
            ],
            [
             0.3,
             "#f1b6da"
            ],
            [
             0.4,
             "#fde0ef"
            ],
            [
             0.5,
             "#f7f7f7"
            ],
            [
             0.6,
             "#e6f5d0"
            ],
            [
             0.7,
             "#b8e186"
            ],
            [
             0.8,
             "#7fbc41"
            ],
            [
             0.9,
             "#4d9221"
            ],
            [
             1,
             "#276419"
            ]
           ],
           "sequential": [
            [
             0,
             "#0d0887"
            ],
            [
             0.1111111111111111,
             "#46039f"
            ],
            [
             0.2222222222222222,
             "#7201a8"
            ],
            [
             0.3333333333333333,
             "#9c179e"
            ],
            [
             0.4444444444444444,
             "#bd3786"
            ],
            [
             0.5555555555555556,
             "#d8576b"
            ],
            [
             0.6666666666666666,
             "#ed7953"
            ],
            [
             0.7777777777777778,
             "#fb9f3a"
            ],
            [
             0.8888888888888888,
             "#fdca26"
            ],
            [
             1,
             "#f0f921"
            ]
           ],
           "sequentialminus": [
            [
             0,
             "#0d0887"
            ],
            [
             0.1111111111111111,
             "#46039f"
            ],
            [
             0.2222222222222222,
             "#7201a8"
            ],
            [
             0.3333333333333333,
             "#9c179e"
            ],
            [
             0.4444444444444444,
             "#bd3786"
            ],
            [
             0.5555555555555556,
             "#d8576b"
            ],
            [
             0.6666666666666666,
             "#ed7953"
            ],
            [
             0.7777777777777778,
             "#fb9f3a"
            ],
            [
             0.8888888888888888,
             "#fdca26"
            ],
            [
             1,
             "#f0f921"
            ]
           ]
          },
          "colorway": [
           "#636efa",
           "#EF553B",
           "#00cc96",
           "#ab63fa",
           "#FFA15A",
           "#19d3f3",
           "#FF6692",
           "#B6E880",
           "#FF97FF",
           "#FECB52"
          ],
          "font": {
           "color": "#2a3f5f"
          },
          "geo": {
           "bgcolor": "white",
           "lakecolor": "white",
           "landcolor": "#E5ECF6",
           "showlakes": true,
           "showland": true,
           "subunitcolor": "white"
          },
          "hoverlabel": {
           "align": "left"
          },
          "hovermode": "closest",
          "mapbox": {
           "style": "light"
          },
          "paper_bgcolor": "white",
          "plot_bgcolor": "#E5ECF6",
          "polar": {
           "angularaxis": {
            "gridcolor": "white",
            "linecolor": "white",
            "ticks": ""
           },
           "bgcolor": "#E5ECF6",
           "radialaxis": {
            "gridcolor": "white",
            "linecolor": "white",
            "ticks": ""
           }
          },
          "scene": {
           "xaxis": {
            "backgroundcolor": "#E5ECF6",
            "gridcolor": "white",
            "gridwidth": 2,
            "linecolor": "white",
            "showbackground": true,
            "ticks": "",
            "zerolinecolor": "white"
           },
           "yaxis": {
            "backgroundcolor": "#E5ECF6",
            "gridcolor": "white",
            "gridwidth": 2,
            "linecolor": "white",
            "showbackground": true,
            "ticks": "",
            "zerolinecolor": "white"
           },
           "zaxis": {
            "backgroundcolor": "#E5ECF6",
            "gridcolor": "white",
            "gridwidth": 2,
            "linecolor": "white",
            "showbackground": true,
            "ticks": "",
            "zerolinecolor": "white"
           }
          },
          "shapedefaults": {
           "line": {
            "color": "#2a3f5f"
           }
          },
          "ternary": {
           "aaxis": {
            "gridcolor": "white",
            "linecolor": "white",
            "ticks": ""
           },
           "baxis": {
            "gridcolor": "white",
            "linecolor": "white",
            "ticks": ""
           },
           "bgcolor": "#E5ECF6",
           "caxis": {
            "gridcolor": "white",
            "linecolor": "white",
            "ticks": ""
           }
          },
          "title": {
           "x": 0.05
          },
          "xaxis": {
           "automargin": true,
           "gridcolor": "white",
           "linecolor": "white",
           "ticks": "",
           "title": {
            "standoff": 15
           },
           "zerolinecolor": "white",
           "zerolinewidth": 2
          },
          "yaxis": {
           "automargin": true,
           "gridcolor": "white",
           "linecolor": "white",
           "ticks": "",
           "title": {
            "standoff": 15
           },
           "zerolinecolor": "white",
           "zerolinewidth": 2
          }
         }
        },
        "title": {
         "text": "Principal components color-coded by motion condition"
        },
        "xaxis": {
         "anchor": "y",
         "domain": [
          0,
          1
         ],
         "title": {
          "text": "component1"
         }
        },
        "yaxis": {
         "anchor": "x",
         "domain": [
          0,
          1
         ],
         "title": {
          "text": "component2"
         }
        }
       }
      }
     },
     "metadata": {},
     "output_type": "display_data"
    }
   ],
   "source": [
    "# Plot the two first principal components color-coded by motion condition\n",
    "fig = px.scatter(iqms_pca, x=\"component1\", y=\"component2\", color=scores[\"condition\"],\n",
    " title=\"Principal components color-coded by motion condition\")\n",
    "fig.show()"
   ]
  },
  {
   "cell_type": "code",
   "execution_count": 55,
   "metadata": {},
   "outputs": [
    {
     "data": {
      "application/vnd.plotly.v1+json": {
       "config": {
        "plotlyServerURL": "https://plot.ly"
       },
       "data": [
        {
         "hovertemplate": "component1=%{x}<br>component2=%{y}<br>color=%{marker.color}<extra></extra>",
         "legendgroup": "",
         "marker": {
          "color": [
           2,
           3,
           1,
           3,
           3,
           1,
           3,
           3,
           1,
           3,
           3,
           1,
           2,
           3,
           1,
           2,
           2,
           1,
           2,
           3,
           2,
           2,
           3,
           1,
           2,
           3,
           1,
           3,
           3,
           1,
           3,
           2,
           1,
           3,
           3,
           1,
           3,
           3,
           2,
           2,
           2,
           1,
           2,
           2,
           1,
           3,
           1,
           3,
           3,
           1,
           1,
           3,
           1,
           3,
           3,
           1,
           2,
           3,
           1,
           3,
           3,
           1,
           2,
           2,
           1,
           1,
           3,
           1,
           3,
           1,
           3,
           3,
           1,
           3,
           3,
           1,
           1,
           2,
           1,
           3,
           3,
           1,
           3,
           3,
           1,
           3,
           3,
           2,
           2,
           3,
           1,
           3,
           3,
           2,
           3,
           1,
           3,
           3,
           1,
           2,
           3,
           1,
           3,
           3,
           1,
           2,
           2,
           1,
           2,
           3,
           1,
           3,
           3,
           1,
           2,
           3,
           1,
           2,
           1,
           1,
           2,
           1,
           1,
           3,
           3,
           1,
           3,
           3,
           2,
           3,
           3,
           1,
           3,
           3,
           2,
           3,
           3,
           1,
           2,
           3,
           1,
           3,
           2,
           2,
           3,
           1,
           3,
           3,
           1,
           2,
           3,
           1,
           2,
           3,
           2,
           3,
           3,
           1,
           3,
           3,
           2,
           3,
           3,
           1,
           2,
           2,
           1,
           2,
           2,
           1,
           3,
           3,
           1,
           3,
           3,
           2,
           3,
           3,
           1,
           3,
           3,
           1,
           2,
           3,
           1,
           3,
           3,
           1,
           3,
           2,
           1,
           3,
           1,
           3,
           3,
           1,
           2,
           2,
           2,
           2,
           3,
           1,
           2,
           3,
           1,
           3,
           3,
           2,
           3,
           3,
           1,
           2,
           3,
           1,
           1,
           2,
           1,
           2,
           3,
           1,
           3,
           3,
           2,
           2,
           3,
           1,
           3,
           3,
           2,
           2,
           3,
           1,
           3,
           3,
           2,
           1,
           1,
           1,
           3,
           3,
           1,
           2,
           3,
           1,
           2,
           3,
           1,
           3,
           3,
           2,
           3,
           3,
           1,
           3,
           3,
           2,
           3,
           2,
           2,
           2,
           1,
           2,
           2,
           2,
           2,
           3,
           1,
           2,
           3,
           2,
           2,
           3,
           2,
           3,
           3,
           1,
           3,
           3,
           3,
           3,
           1,
           3,
           3,
           1,
           2,
           3,
           1,
           2,
           3,
           2,
           3,
           3,
           1,
           3,
           3,
           1,
           2,
           3,
           1,
           3,
           3,
           1,
           2,
           3,
           1,
           2,
           3,
           1,
           3,
           3,
           1,
           3,
           3,
           1,
           2,
           3,
           1,
           2,
           1,
           3,
           3,
           1,
           2,
           3,
           1,
           3,
           3,
           1,
           3,
           3,
           1,
           2,
           3,
           1,
           3,
           3,
           1,
           2,
           3,
           1,
           3,
           3,
           1,
           3,
           3,
           2,
           2,
           3,
           1,
           3,
           3,
           1,
           3,
           3,
           1,
           2,
           3,
           2,
           3,
           3,
           1,
           2,
           2,
           1,
           1,
           2,
           1,
           3,
           3,
           1,
           3,
           2,
           2,
           3,
           3,
           1,
           3,
           3,
           1,
           3,
           3,
           1,
           2,
           2,
           1,
           2,
           3,
           1,
           3,
           3,
           1,
           3,
           3,
           1,
           3,
           3,
           1,
           3,
           3,
           1,
           2,
           2,
           2,
           2,
           3,
           1,
           2,
           3,
           1,
           3,
           3,
           1,
           3,
           3,
           1,
           3,
           3,
           1,
           2,
           2,
           2,
           3,
           3,
           1,
           2,
           3,
           1,
           2,
           2,
           1,
           2,
           2,
           1,
           3,
           3,
           1
          ],
          "coloraxis": "coloraxis",
          "symbol": "circle"
         },
         "mode": "markers",
         "name": "",
         "orientation": "v",
         "showlegend": false,
         "type": "scatter",
         "x": [
          -3.2449064043505556,
          2.241555100162127,
          -4.837443302350565,
          3.5189542491596795,
          1.1197099844996232,
          -4.373940931323628,
          2.4239826882020705,
          5.1683540095639,
          -5.977271509267585,
          -0.726004574588758,
          1.3715482575929618,
          -4.57975985812403,
          -1.1020274527091105,
          -0.023159183664174156,
          -4.095502596420049,
          -3.664222033476264,
          0.10736594811587628,
          -4.556278015544611,
          1.5369256959219357,
          11.228269856976247,
          -2.804771991626936,
          -3.2798530767563627,
          -0.9879903422973259,
          -4.656293014503606,
          -4.7999926566563005,
          12.589698023261972,
          -5.4783969121138325,
          3.4935203893489266,
          7.160576640644053,
          -4.4206476228019635,
          2.2698462359935587,
          2.9584464001718334,
          -6.118371692230085,
          -0.5569972074605037,
          1.6267645304212417,
          -5.619295360718163,
          4.816183549410455,
          9.91227740252725,
          -6.558644284562357,
          -2.0954808123349267,
          5.439446410895427,
          -4.86727751702083,
          -3.172560706134168,
          -1.052452362369507,
          -5.780307846161016,
          12.471782886881243,
          -4.458251426393714,
          2.182312977499439,
          3.6486278012754436,
          -5.900259472556175,
          -4.72180998156119,
          -1.3208163688876677,
          -5.935629197235149,
          1.5168530565659106,
          6.264683783441017,
          -4.64282248849935,
          -2.3617421287183116,
          4.362632895793577,
          -5.1373829607623795,
          -3.008017923081108,
          -0.14592620493966962,
          -4.820501136489376,
          -1.5174278366701255,
          6.625958834879941,
          -4.6979424032323225,
          -1.4257308562038982,
          2.516176452870798,
          -4.105636048338585,
          9.591911836362378,
          -4.930694996454966,
          6.889700673474768,
          11.127191731346732,
          -4.647916898781419,
          8.532221078205941,
          12.171747416822532,
          -3.745283921833807,
          -5.6652339118928134,
          -4.3030207190441745,
          -5.8558804887729305,
          -2.6775723245026235,
          -0.24435390017731665,
          -5.30840870840304,
          10.78293338427786,
          4.21418541683367,
          -4.213585235734042,
          3.8729110122071444,
          10.986638898352444,
          -2.8100063986871775,
          -3.179449052451518,
          -0.36332184981310695,
          -5.376104654293225,
          13.054362834721116,
          9.274957901098015,
          -4.505198441324397,
          6.91031430520067,
          -6.251226200334753,
          4.9131593921154115,
          9.951871794324067,
          -4.610861292182591,
          -1.801194025434154,
          6.6083447763520295,
          -4.647265677803896,
          3.6900605123179813,
          10.419185167125875,
          -5.458966844619002,
          -1.7463347661474777,
          -2.353430566939906,
          -3.269088071484202,
          -3.2651018113439276,
          -2.0983395771090736,
          -4.572669893054739,
          2.846272583433235,
          8.82317982398601,
          -4.068521036939259,
          -2.9412091824581497,
          1.4484953996367806,
          -4.920661523799443,
          -4.21615046567441,
          -2.7368950996853183,
          -6.284885506772226,
          -1.142123528307669,
          -1.2204097586984253,
          -4.709853624054755,
          -1.2034753699932452,
          3.8774331066049657,
          -4.655484800867777,
          -1.8979145123891712,
          0.27620040086694847,
          -5.023623060895888,
          -1.3330821512092954,
          2.1422494136242287,
          -5.399385934331452,
          8.560989506255993,
          5.829900984467849,
          -4.419307603863329,
          -1.1254819782835874,
          7.925625460503616,
          -4.632435287576001,
          -2.428436634798328,
          1.531982921894278,
          -4.854495937108462,
          11.105633036360162,
          -3.601398324905675,
          2.086727662196324,
          10.966179407340016,
          -4.724787729191365,
          2.559076360829053,
          9.27902209569892,
          -4.5899581451604625,
          -1.688637481917924,
          3.9521220113309754,
          -4.832195918942884,
          -2.386984121519918,
          3.74847011948263,
          -5.159304239688985,
          6.450057935641496,
          10.47873916650209,
          -4.374977064453237,
          -3.3389054335286907,
          0.18026699460066678,
          -6.638855490313839,
          1.161096862574241,
          -0.35973163360080834,
          -5.107148078183787,
          -1.8572291161263363,
          -1.1415247977383125,
          -5.384425960726913,
          -2.3800168965542774,
          -0.6960722176744895,
          -5.108011178081747,
          3.4101257480000005,
          5.895206024149332,
          -3.1929190415223814,
          3.661627783628098,
          4.807658070474409,
          -4.1412291708762705,
          7.690539021686596,
          8.933774775103643,
          -5.12090200191655,
          -2.4515622172444904,
          -1.6503033923579573,
          -6.58282479364536,
          -1.5982028856429458,
          3.4612034916785293,
          -5.025591714625477,
          6.149681013529698,
          16.22472004979641,
          -4.300543523677228,
          -0.05337410251802899,
          -4.882918494172663,
          -3.6668948781798387,
          9.571242867821903,
          -4.558825517000395,
          1.9200932860188922,
          9.194590814887267,
          -3.7210860240977013,
          -2.653668189433481,
          1.37047602151633,
          -4.861261709005241,
          -4.242881451004097,
          -1.3794200577144764,
          -6.207401753706983,
          0.6227119400101062,
          6.848345313026115,
          -4.261713326590106,
          -1.161889016923811,
          -0.9592006672302902,
          -5.254197528820612,
          10.983804943946218,
          9.979735994503619,
          -4.445162663180426,
          3.010179625091957,
          11.152327489068552,
          -4.738795637130192,
          -3.5714466565540612,
          -0.448365080297481,
          -3.4819103114240093,
          -2.078090757121293,
          2.231484987818958,
          -5.56840387615181,
          7.547180438478279,
          2.321950402654771,
          -3.966762949000293,
          -2.4345672956073128,
          9.242416294123087,
          -4.429754069212831,
          -0.55187031741211,
          8.748783005367448,
          -6.782518192020409,
          0.5869246209020688,
          9.831279846548544,
          -4.828100400763226,
          5.238842181977456,
          1.5587237925653616,
          -4.301998236616227,
          -4.52111759924657,
          -2.9546283661976904,
          -5.415055291823597,
          0.3986176110167923,
          5.659061402235195,
          -3.638431458537726,
          -0.038901903444276555,
          2.305863197506256,
          -5.537020699764491,
          0.32592847401180225,
          7.138537480317744,
          -4.905577700060827,
          3.595642093293513,
          8.402982803131366,
          -5.714487456018009,
          1.3435876551420678,
          9.503296398470791,
          -3.9340900207195886,
          3.395182627150228,
          4.68180080598915,
          -4.898750618811773,
          3.367463346225483,
          -3.5723335733222226,
          -3.8668108807104686,
          -2.846660468649275,
          -5.38033699843704,
          -3.277244074284267,
          -0.4657019665147848,
          -5.866799443358437,
          1.672442714811731,
          10.93426593446998,
          -5.023504856215992,
          0.846918873097189,
          4.241022607648842,
          -3.6325303735574406,
          -0.677064052952434,
          0.7787001759470848,
          -5.124333243745332,
          -0.13515071043700244,
          8.095154771713133,
          -5.82463988472666,
          12.91503834860499,
          -0.6921831060804011,
          -1.0829619124357333,
          4.974016809199113,
          -4.730234007604727,
          8.453753534487626,
          9.854385057720119,
          -5.464090024194672,
          -2.9851177002885003,
          1.5147556818230579,
          -4.950293695807532,
          -2.8571443840078152,
          -3.0586394344807206,
          -6.975160165022645,
          5.668897507015357,
          14.73501854449866,
          -3.9472406446392756,
          1.2697020514556383,
          4.191688957604451,
          -4.931882593085242,
          -0.48093881209233846,
          5.656256401322801,
          -5.081044147884307,
          -2.604702578953355,
          2.88915077466173,
          -5.668592870661299,
          -0.021355269564140304,
          5.508976415369362,
          -3.9946696943550366,
          -3.0618511038023852,
          -1.3223943491411412,
          -4.739285926100975,
          0.17540616613970772,
          2.8679701904545123,
          -5.1395024202754165,
          1.9338028158730884,
          5.439016792320079,
          -5.335353707234904,
          0.6061205392871082,
          4.431463972544369,
          -4.675467232709287,
          -2.5970635764529626,
          -3.7275052055094418,
          6.0921379936374835,
          11.374707613057051,
          -3.791237706901984,
          -2.528983606098061,
          1.0627748301443904,
          -4.6129969851284045,
          -0.23249183964073888,
          3.2222404376151172,
          -4.73145806345295,
          6.966391987720672,
          4.026147978057229,
          -5.743443950967649,
          1.6789366826631296,
          3.3082698724873016,
          -4.956597365184155,
          -2.4288938328794973,
          1.81186257702874,
          -5.423525305305229,
          -0.989571272814225,
          10.381104598865793,
          -5.12751206609588,
          2.1660908106227303,
          7.901192277035857,
          -4.642881339047615,
          -2.0175338949674657,
          2.3922283914551916,
          -4.63344414215606,
          -2.0957261864002734,
          4.307013674028454,
          -4.839406260859582,
          -0.919323149431651,
          5.220036648010957,
          -5.4819668093394105,
          4.083420067491815,
          3.0822106401578933,
          -4.713037112294049,
          1.8256737921842447,
          7.752235346170755,
          -2.56374760188082,
          3.138339287063508,
          11.877484265524851,
          -4.771994012949559,
          -2.916520362267917,
          -2.0540826752791888,
          -4.79767572575869,
          -5.635366028473058,
          -4.24696338179011,
          -5.867995649787552,
          2.486454177195175,
          7.797255631903864,
          -3.412158155816342,
          -0.4312003029794862,
          1.6406794840407877,
          -5.9854373991430005,
          4.326234430272535,
          6.521146931723167,
          -5.460162953277848,
          -0.19922139550927803,
          1.9931284520057795,
          -5.434748516325536,
          -0.5806223630041647,
          5.9636579984523745,
          -4.803830765072887,
          -3.7714392669327634,
          4.0374264086678515,
          -4.901410431714536,
          -1.5914130316184079,
          0.7957309832035667,
          -4.256549382344972,
          1.2971467781417183,
          7.387501884742086,
          -4.668514751609308,
          2.4468580250552727,
          3.6380972219324175,
          -4.430381188830241,
          1.1868775073646112,
          5.23444709164804,
          -5.683330912681505,
          -0.8189746541733839,
          3.0794152421078462,
          -5.551042143810853,
          -3.52093408314255,
          -3.149473101739123,
          -5.470111431598369,
          -2.22199430350348,
          3.852488416247153,
          -5.116723005661668,
          -0.9758806255160093,
          4.980046981236782,
          -5.148131611642775,
          9.107422348245759,
          8.112795972713666,
          -4.344405059159212,
          5.545995232343501,
          2.490315588356119,
          -4.869920031446799,
          4.023187146562171,
          9.184342200687151,
          -5.302161257176594,
          -2.5711180972014436,
          -1.0048276418340079,
          -2.945375347506848,
          -2.253056337949149,
          0.8294466232041022,
          -5.0160040942140895,
          1.4088190409615515,
          11.145241395859644,
          -4.214352215260626,
          -2.0549418675300575,
          -1.05811567662003,
          -4.5371837589918815,
          -3.8326044645308723,
          0.09203009236984924,
          -4.368624487723763,
          0.7002155249125501,
          4.734529702997317,
          -4.7034178081207685
         ],
         "xaxis": "x",
         "y": [
          -0.9953309813541279,
          -2.0969605186315845,
          -1.1192509481633321,
          -1.762533911460045,
          -1.7648475874824527,
          -1.9648610546643015,
          0.9973806960630212,
          1.3739296081244772,
          -0.8195072667370454,
          -1.2648060338620981,
          -1.4534575274924586,
          -2.1901732522709447,
          3.182988753125508,
          1.9666009813879082,
          1.7623316995849376,
          3.7694189767880535,
          3.5067874723789862,
          3.333687060236656,
          -2.07202233644772,
          -1.9540193375820913,
          -3.4866368749125054,
          -0.2606003303927226,
          0.13290209782126763,
          -0.46775558012277496,
          -0.9467879318017882,
          -3.361119783371943,
          -1.1584737663943272,
          -0.28120248881188553,
          -1.1033687448258105,
          0.19485378337072812,
          -3.09520112949211,
          -4.220293127788017,
          -5.410900983427827,
          0.36391737668864305,
          0.8590583137202094,
          -0.8049765655616293,
          1.3308730032777127,
          0.9929564362572117,
          -0.012248022753427802,
          -0.7668672050879959,
          -0.6303149374741362,
          -1.2477753407104852,
          1.1344970299689352,
          1.2313524219663932,
          0.008882461423160343,
          1.5525200475793874,
          -1.5542337403951922,
          7.143208300389746,
          6.882780923965507,
          6.366486899398477,
          1.919685779720727,
          2.0272689545018663,
          0.9790785076278673,
          -2.950222031060849,
          -3.5209160351161577,
          -3.5347339845828087,
          -1.541278503909129,
          -2.7384228472747374,
          -2.742908398677639,
          -3.4291946355372502,
          -3.1772909822412565,
          -3.285639812463834,
          -1.8003321384266722,
          -1.3663348501744377,
          -2.2786016170264074,
          -1.2785066619700607,
          -0.7215675887827487,
          -1.9057307358648645,
          2.378263536428596,
          1.283263249792396,
          -1.5825294988639445,
          -1.4928029427601717,
          -1.195594465503043,
          -2.8215255604524168,
          -1.2523147683920495,
          -1.5587276974574569,
          -1.0016088602961917,
          -0.5990709069433502,
          -1.5460112594987292,
          0.34309128746044965,
          1.300592484581152,
          0.33992466562788437,
          -4.953580045381751,
          -2.3398963609716525,
          -1.4955289279886168,
          -2.91172838484181,
          -2.0750937823812405,
          -1.9883104308245596,
          0.32536778130216276,
          -0.2280595048702625,
          -1.5548412606142727,
          -3.724732956169668,
          -2.93947172749385,
          -1.6242454239215631,
          1.1159969446648634,
          2.023851993808272,
          1.8740634034866448,
          0.28308963299402146,
          -0.053678130417260175,
          0.5244732129663616,
          0.4657777195402237,
          -0.6605701526806017,
          2.531373235239269,
          2.9831370696310517,
          0.6333083718392131,
          2.3956109255740077,
          2.446202853084854,
          2.0158746727391224,
          -0.29071142313825576,
          -0.1288754955321776,
          -1.0495596494543868,
          -0.8506811967324112,
          -0.3242275595720803,
          -0.5841136610815633,
          0.05148680994264078,
          -1.3811476961935019,
          -1.313591897611128,
          4.570581019679531,
          4.87180298839041,
          4.76062037056517,
          0.2436176993290972,
          0.35325459808570636,
          0.23728905525982205,
          3.925396339864576,
          4.187610814379623,
          3.131800954374658,
          -0.8523292745028014,
          -0.42940039088133025,
          -1.4339575999287737,
          -0.8541535160724152,
          -0.25119806831339375,
          -0.8810342534437616,
          -1.0090206048997683,
          -1.482696221278255,
          -0.1550432397872916,
          0.2926854110694725,
          -0.9776626611934588,
          -0.11293155913735786,
          -0.6636812616533236,
          -0.5915721318831939,
          -1.6191287966016084,
          0.4102712880905632,
          -2.2838235877960837,
          -1.6233809667161636,
          -1.831805596963356,
          -2.4929721274913605,
          -0.8458632118863841,
          -0.20754266141333125,
          -2.06178467930629,
          -0.6494861123616862,
          -0.5810211635831674,
          -1.9085717196010565,
          -0.71534978995867,
          0.10796060048298509,
          -1.388337429339058,
          3.662245602249737,
          3.150601604323396,
          3.3357844323819323,
          2.3835812337265563,
          2.3222584936692736,
          1.679510536326866,
          6.138661057736284,
          6.140180650709334,
          5.028533274805468,
          0.4529246868621352,
          -0.036787015715969984,
          -0.433552486554245,
          -0.028991448503069974,
          0.2153845854901568,
          0.012926543981153761,
          -1.309713043712619,
          -2.1722213853081254,
          -3.804884683755773,
          0.03869875488337186,
          -1.1256572806552825,
          -0.8498914936565874,
          -0.06296308699017829,
          -1.426528928655342,
          -0.9079086403065955,
          0.5631317484126326,
          0.5329604428714093,
          -0.7266776764708914,
          0.9431784167878082,
          0.8532643206933274,
          0.5900521597771062,
          1.5508672443601628,
          1.166563618171553,
          0.6271998352318039,
          2.0024642328682845,
          0.9987406368708717,
          -1.7878354447128104,
          -1.1049361808300382,
          -1.9100906912470432,
          -0.1966403731957679,
          -1.951432045021526,
          -1.4533873919336027,
          -0.05817852193441695,
          -0.19126095627809597,
          -1.0202771465392595,
          3.518665767967067,
          4.11828818708266,
          3.2178032198238777,
          2.501020473478457,
          2.8871645777254136,
          2.49735697786879,
          0.24499062208138003,
          0.5163680675614268,
          -0.12227796167764128,
          -3.3057291680196927,
          -3.2130352622459273,
          -1.6976606822687257,
          -1.2872180724034736,
          0.07977790087356358,
          -2.6869499386511877,
          0.10092326383008395,
          0.05764935464809192,
          0.17274138185391905,
          2.704484238934323,
          1.1535440508799852,
          1.4221236205042371,
          -2.660316243935095,
          -1.5367027738963452,
          -1.88388503958934,
          0.7413656811277876,
          1.9394251678757632,
          0.012365443446584565,
          5.142163090241628,
          4.227591252924831,
          3.36717420811979,
          -0.8790506155062117,
          0.20723469846410347,
          -1.6346085160164163,
          1.2483880197885688,
          -0.0587530810718908,
          -0.8403056810951339,
          -2.514603517398969,
          -3.0843556962153307,
          -3.1573105094545126,
          -2.9212218276144806,
          -3.0349735053554507,
          -2.958530853880666,
          1.359360920419488,
          0.7780116905919703,
          0.6049315361175054,
          -0.10756269013071694,
          -0.42620460172219826,
          -0.7986081549810945,
          -4.346204442998064,
          -4.719702831700615,
          -4.905968906863738,
          -2.6569584592003763,
          -3.9095010867404745,
          -3.2465802023812134,
          4.8127760666944495,
          4.420013245630121,
          4.389578576634983,
          2.287298638473701,
          1.4468733971280974,
          -1.4667653082315593,
          -1.9116397628425346,
          -2.2251013397270567,
          1.0647192125048173,
          1.6512709846731422,
          0.010334694788770216,
          0.8077708678656361,
          1.4962045846047893,
          -1.079652238553043,
          -1.936974341166175,
          -0.9341448973398955,
          -2.64551043619057,
          1.0220609231385847,
          0.5224883248462062,
          0.007437137075271778,
          4.47297761337161,
          4.709505144011602,
          3.5077161093852185,
          10.506438702402761,
          9.939330087496616,
          -0.8937103880183784,
          -1.4367922810733371,
          -2.056619814760822,
          -4.2794279661061,
          -6.887678217162341,
          -3.1295926627488706,
          -2.1212099930203063,
          -1.3811345174122693,
          -2.742534349392633,
          5.0773328970276665,
          4.437903982939073,
          4.479205639555754,
          5.49032754414513,
          5.37204772214382,
          0.39195744344975614,
          5.239672905019545,
          3.8395678962018533,
          4.766473928117039,
          0.19498002833186798,
          -1.1119956748625337,
          -1.184442628200367,
          0.28877359561294924,
          -0.24050950796342646,
          -0.8521762814438892,
          0.08985546102209284,
          -0.9900971426856843,
          0.013845149826386216,
          0.8004792430289654,
          0.869915029920805,
          0.06935536295748292,
          3.7021328174658836,
          4.769027539541037,
          4.15480327144042,
          -0.2788568259392209,
          -0.04050792904135325,
          -1.2186082289224989,
          -2.0709491310420582,
          -1.5097545493683477,
          -2.996600209544422,
          0.6639315146141834,
          0.3390918544274295,
          -3.14752132111056,
          -2.8365912137895917,
          -3.4794967121990235,
          -3.7721548670225493,
          -4.435261633998133,
          -5.1072646169826985,
          -2.1115615943762562,
          -2.397891851587927,
          -2.780296794590002,
          2.111492464754186,
          2.8243438941983534,
          0.30640294982430405,
          -1.3578200677785026,
          -1.1571359403965265,
          -3.3882624525927394,
          5.565862445818443,
          4.579532129837925,
          4.702977792680235,
          4.72304102222436,
          4.294795538163653,
          3.023344903270055,
          -1.5866503314093352,
          -2.6120374507920836,
          -2.188814672562119,
          -2.3045927881292063,
          -1.756056655576323,
          -2.657658508609954,
          0.8394493433370792,
          1.2773799998373099,
          0.749104001528945,
          2.748321708645643,
          0.8318132156238477,
          1.817145106951154,
          -1.5555178238575422,
          -1.3950095451674205,
          -1.3458265990788993,
          -1.443519788139618,
          -2.9221750912003435,
          -2.5931425918370237,
          1.3342613301304111,
          2.09333043509887,
          1.6522038356305522,
          0.7399750117521321,
          -0.16736477927413598,
          -0.2735583019027855,
          0.2781392885487567,
          0.6023033220023809,
          0.03832247085949913,
          -0.7402518362726888,
          -0.2020823019078239,
          -1.03464946148693,
          -0.34131934491874444,
          -0.3536072230343335,
          -2.2138952152703273,
          1.5332034267166288,
          1.7313720234919103,
          0.7399989843202538,
          3.2614492474347525,
          2.3034229930081884,
          2.6202993459101154,
          3.2811089215505427,
          3.2057047147521893,
          1.8752579163643304,
          -0.4195108363501898,
          -0.2883539331310613,
          -1.3536768846939833,
          -2.53914441927537,
          -3.024892129487076,
          -3.3638060071238693,
          0.5053602674107872,
          1.2816796476997643,
          0.8373729352640854,
          -1.8525474943530524,
          -1.52485122402677,
          -3.0401380168152903,
          7.395648452651498,
          6.161757624426502,
          4.657603662141241,
          1.2555692037575066,
          0.4026558252374525,
          1.2008076811027355,
          -3.6554953025371573,
          -3.5559005146684544,
          -4.024192560880136,
          0.23652733687738434,
          -0.5336012190151139,
          -0.5347221335030167,
          -1.5608738768437642,
          -1.8948172348180705,
          -2.298685965786253,
          -1.132066117018374,
          -1.509163629494449,
          -2.763186283261582,
          2.433312046128714,
          2.5303101687125626,
          1.5630540052545665,
          -2.603470884010784,
          -2.530954225083284,
          -3.872528583734421,
          1.0776223841478938,
          1.3176199340638086,
          1.2860597225674775,
          2.4024599805306086,
          1.4815912749496793,
          1.0573637269264513,
          -4.028899408170825,
          -3.4367234644375206,
          -4.797930614705285,
          -2.685892111927928,
          -2.71675707702473,
          -2.709918731745468,
          5.0840109023215305,
          5.7007879021553,
          4.997569576701153,
          0.840854973945783,
          0.37428507131494787,
          0.1296261840062311
         ],
         "yaxis": "y"
        }
       ],
       "layout": {
        "coloraxis": {
         "colorbar": {
          "title": {
           "text": "color"
          }
         },
         "colorscale": [
          [
           0,
           "#0d0887"
          ],
          [
           0.1111111111111111,
           "#46039f"
          ],
          [
           0.2222222222222222,
           "#7201a8"
          ],
          [
           0.3333333333333333,
           "#9c179e"
          ],
          [
           0.4444444444444444,
           "#bd3786"
          ],
          [
           0.5555555555555556,
           "#d8576b"
          ],
          [
           0.6666666666666666,
           "#ed7953"
          ],
          [
           0.7777777777777778,
           "#fb9f3a"
          ],
          [
           0.8888888888888888,
           "#fdca26"
          ],
          [
           1,
           "#f0f921"
          ]
         ]
        },
        "legend": {
         "tracegroupgap": 0
        },
        "template": {
         "data": {
          "bar": [
           {
            "error_x": {
             "color": "#2a3f5f"
            },
            "error_y": {
             "color": "#2a3f5f"
            },
            "marker": {
             "line": {
              "color": "#E5ECF6",
              "width": 0.5
             },
             "pattern": {
              "fillmode": "overlay",
              "size": 10,
              "solidity": 0.2
             }
            },
            "type": "bar"
           }
          ],
          "barpolar": [
           {
            "marker": {
             "line": {
              "color": "#E5ECF6",
              "width": 0.5
             },
             "pattern": {
              "fillmode": "overlay",
              "size": 10,
              "solidity": 0.2
             }
            },
            "type": "barpolar"
           }
          ],
          "carpet": [
           {
            "aaxis": {
             "endlinecolor": "#2a3f5f",
             "gridcolor": "white",
             "linecolor": "white",
             "minorgridcolor": "white",
             "startlinecolor": "#2a3f5f"
            },
            "baxis": {
             "endlinecolor": "#2a3f5f",
             "gridcolor": "white",
             "linecolor": "white",
             "minorgridcolor": "white",
             "startlinecolor": "#2a3f5f"
            },
            "type": "carpet"
           }
          ],
          "choropleth": [
           {
            "colorbar": {
             "outlinewidth": 0,
             "ticks": ""
            },
            "type": "choropleth"
           }
          ],
          "contour": [
           {
            "colorbar": {
             "outlinewidth": 0,
             "ticks": ""
            },
            "colorscale": [
             [
              0,
              "#0d0887"
             ],
             [
              0.1111111111111111,
              "#46039f"
             ],
             [
              0.2222222222222222,
              "#7201a8"
             ],
             [
              0.3333333333333333,
              "#9c179e"
             ],
             [
              0.4444444444444444,
              "#bd3786"
             ],
             [
              0.5555555555555556,
              "#d8576b"
             ],
             [
              0.6666666666666666,
              "#ed7953"
             ],
             [
              0.7777777777777778,
              "#fb9f3a"
             ],
             [
              0.8888888888888888,
              "#fdca26"
             ],
             [
              1,
              "#f0f921"
             ]
            ],
            "type": "contour"
           }
          ],
          "contourcarpet": [
           {
            "colorbar": {
             "outlinewidth": 0,
             "ticks": ""
            },
            "type": "contourcarpet"
           }
          ],
          "heatmap": [
           {
            "colorbar": {
             "outlinewidth": 0,
             "ticks": ""
            },
            "colorscale": [
             [
              0,
              "#0d0887"
             ],
             [
              0.1111111111111111,
              "#46039f"
             ],
             [
              0.2222222222222222,
              "#7201a8"
             ],
             [
              0.3333333333333333,
              "#9c179e"
             ],
             [
              0.4444444444444444,
              "#bd3786"
             ],
             [
              0.5555555555555556,
              "#d8576b"
             ],
             [
              0.6666666666666666,
              "#ed7953"
             ],
             [
              0.7777777777777778,
              "#fb9f3a"
             ],
             [
              0.8888888888888888,
              "#fdca26"
             ],
             [
              1,
              "#f0f921"
             ]
            ],
            "type": "heatmap"
           }
          ],
          "heatmapgl": [
           {
            "colorbar": {
             "outlinewidth": 0,
             "ticks": ""
            },
            "colorscale": [
             [
              0,
              "#0d0887"
             ],
             [
              0.1111111111111111,
              "#46039f"
             ],
             [
              0.2222222222222222,
              "#7201a8"
             ],
             [
              0.3333333333333333,
              "#9c179e"
             ],
             [
              0.4444444444444444,
              "#bd3786"
             ],
             [
              0.5555555555555556,
              "#d8576b"
             ],
             [
              0.6666666666666666,
              "#ed7953"
             ],
             [
              0.7777777777777778,
              "#fb9f3a"
             ],
             [
              0.8888888888888888,
              "#fdca26"
             ],
             [
              1,
              "#f0f921"
             ]
            ],
            "type": "heatmapgl"
           }
          ],
          "histogram": [
           {
            "marker": {
             "pattern": {
              "fillmode": "overlay",
              "size": 10,
              "solidity": 0.2
             }
            },
            "type": "histogram"
           }
          ],
          "histogram2d": [
           {
            "colorbar": {
             "outlinewidth": 0,
             "ticks": ""
            },
            "colorscale": [
             [
              0,
              "#0d0887"
             ],
             [
              0.1111111111111111,
              "#46039f"
             ],
             [
              0.2222222222222222,
              "#7201a8"
             ],
             [
              0.3333333333333333,
              "#9c179e"
             ],
             [
              0.4444444444444444,
              "#bd3786"
             ],
             [
              0.5555555555555556,
              "#d8576b"
             ],
             [
              0.6666666666666666,
              "#ed7953"
             ],
             [
              0.7777777777777778,
              "#fb9f3a"
             ],
             [
              0.8888888888888888,
              "#fdca26"
             ],
             [
              1,
              "#f0f921"
             ]
            ],
            "type": "histogram2d"
           }
          ],
          "histogram2dcontour": [
           {
            "colorbar": {
             "outlinewidth": 0,
             "ticks": ""
            },
            "colorscale": [
             [
              0,
              "#0d0887"
             ],
             [
              0.1111111111111111,
              "#46039f"
             ],
             [
              0.2222222222222222,
              "#7201a8"
             ],
             [
              0.3333333333333333,
              "#9c179e"
             ],
             [
              0.4444444444444444,
              "#bd3786"
             ],
             [
              0.5555555555555556,
              "#d8576b"
             ],
             [
              0.6666666666666666,
              "#ed7953"
             ],
             [
              0.7777777777777778,
              "#fb9f3a"
             ],
             [
              0.8888888888888888,
              "#fdca26"
             ],
             [
              1,
              "#f0f921"
             ]
            ],
            "type": "histogram2dcontour"
           }
          ],
          "mesh3d": [
           {
            "colorbar": {
             "outlinewidth": 0,
             "ticks": ""
            },
            "type": "mesh3d"
           }
          ],
          "parcoords": [
           {
            "line": {
             "colorbar": {
              "outlinewidth": 0,
              "ticks": ""
             }
            },
            "type": "parcoords"
           }
          ],
          "pie": [
           {
            "automargin": true,
            "type": "pie"
           }
          ],
          "scatter": [
           {
            "fillpattern": {
             "fillmode": "overlay",
             "size": 10,
             "solidity": 0.2
            },
            "type": "scatter"
           }
          ],
          "scatter3d": [
           {
            "line": {
             "colorbar": {
              "outlinewidth": 0,
              "ticks": ""
             }
            },
            "marker": {
             "colorbar": {
              "outlinewidth": 0,
              "ticks": ""
             }
            },
            "type": "scatter3d"
           }
          ],
          "scattercarpet": [
           {
            "marker": {
             "colorbar": {
              "outlinewidth": 0,
              "ticks": ""
             }
            },
            "type": "scattercarpet"
           }
          ],
          "scattergeo": [
           {
            "marker": {
             "colorbar": {
              "outlinewidth": 0,
              "ticks": ""
             }
            },
            "type": "scattergeo"
           }
          ],
          "scattergl": [
           {
            "marker": {
             "colorbar": {
              "outlinewidth": 0,
              "ticks": ""
             }
            },
            "type": "scattergl"
           }
          ],
          "scattermapbox": [
           {
            "marker": {
             "colorbar": {
              "outlinewidth": 0,
              "ticks": ""
             }
            },
            "type": "scattermapbox"
           }
          ],
          "scatterpolar": [
           {
            "marker": {
             "colorbar": {
              "outlinewidth": 0,
              "ticks": ""
             }
            },
            "type": "scatterpolar"
           }
          ],
          "scatterpolargl": [
           {
            "marker": {
             "colorbar": {
              "outlinewidth": 0,
              "ticks": ""
             }
            },
            "type": "scatterpolargl"
           }
          ],
          "scatterternary": [
           {
            "marker": {
             "colorbar": {
              "outlinewidth": 0,
              "ticks": ""
             }
            },
            "type": "scatterternary"
           }
          ],
          "surface": [
           {
            "colorbar": {
             "outlinewidth": 0,
             "ticks": ""
            },
            "colorscale": [
             [
              0,
              "#0d0887"
             ],
             [
              0.1111111111111111,
              "#46039f"
             ],
             [
              0.2222222222222222,
              "#7201a8"
             ],
             [
              0.3333333333333333,
              "#9c179e"
             ],
             [
              0.4444444444444444,
              "#bd3786"
             ],
             [
              0.5555555555555556,
              "#d8576b"
             ],
             [
              0.6666666666666666,
              "#ed7953"
             ],
             [
              0.7777777777777778,
              "#fb9f3a"
             ],
             [
              0.8888888888888888,
              "#fdca26"
             ],
             [
              1,
              "#f0f921"
             ]
            ],
            "type": "surface"
           }
          ],
          "table": [
           {
            "cells": {
             "fill": {
              "color": "#EBF0F8"
             },
             "line": {
              "color": "white"
             }
            },
            "header": {
             "fill": {
              "color": "#C8D4E3"
             },
             "line": {
              "color": "white"
             }
            },
            "type": "table"
           }
          ]
         },
         "layout": {
          "annotationdefaults": {
           "arrowcolor": "#2a3f5f",
           "arrowhead": 0,
           "arrowwidth": 1
          },
          "autotypenumbers": "strict",
          "coloraxis": {
           "colorbar": {
            "outlinewidth": 0,
            "ticks": ""
           }
          },
          "colorscale": {
           "diverging": [
            [
             0,
             "#8e0152"
            ],
            [
             0.1,
             "#c51b7d"
            ],
            [
             0.2,
             "#de77ae"
            ],
            [
             0.3,
             "#f1b6da"
            ],
            [
             0.4,
             "#fde0ef"
            ],
            [
             0.5,
             "#f7f7f7"
            ],
            [
             0.6,
             "#e6f5d0"
            ],
            [
             0.7,
             "#b8e186"
            ],
            [
             0.8,
             "#7fbc41"
            ],
            [
             0.9,
             "#4d9221"
            ],
            [
             1,
             "#276419"
            ]
           ],
           "sequential": [
            [
             0,
             "#0d0887"
            ],
            [
             0.1111111111111111,
             "#46039f"
            ],
            [
             0.2222222222222222,
             "#7201a8"
            ],
            [
             0.3333333333333333,
             "#9c179e"
            ],
            [
             0.4444444444444444,
             "#bd3786"
            ],
            [
             0.5555555555555556,
             "#d8576b"
            ],
            [
             0.6666666666666666,
             "#ed7953"
            ],
            [
             0.7777777777777778,
             "#fb9f3a"
            ],
            [
             0.8888888888888888,
             "#fdca26"
            ],
            [
             1,
             "#f0f921"
            ]
           ],
           "sequentialminus": [
            [
             0,
             "#0d0887"
            ],
            [
             0.1111111111111111,
             "#46039f"
            ],
            [
             0.2222222222222222,
             "#7201a8"
            ],
            [
             0.3333333333333333,
             "#9c179e"
            ],
            [
             0.4444444444444444,
             "#bd3786"
            ],
            [
             0.5555555555555556,
             "#d8576b"
            ],
            [
             0.6666666666666666,
             "#ed7953"
            ],
            [
             0.7777777777777778,
             "#fb9f3a"
            ],
            [
             0.8888888888888888,
             "#fdca26"
            ],
            [
             1,
             "#f0f921"
            ]
           ]
          },
          "colorway": [
           "#636efa",
           "#EF553B",
           "#00cc96",
           "#ab63fa",
           "#FFA15A",
           "#19d3f3",
           "#FF6692",
           "#B6E880",
           "#FF97FF",
           "#FECB52"
          ],
          "font": {
           "color": "#2a3f5f"
          },
          "geo": {
           "bgcolor": "white",
           "lakecolor": "white",
           "landcolor": "#E5ECF6",
           "showlakes": true,
           "showland": true,
           "subunitcolor": "white"
          },
          "hoverlabel": {
           "align": "left"
          },
          "hovermode": "closest",
          "mapbox": {
           "style": "light"
          },
          "paper_bgcolor": "white",
          "plot_bgcolor": "#E5ECF6",
          "polar": {
           "angularaxis": {
            "gridcolor": "white",
            "linecolor": "white",
            "ticks": ""
           },
           "bgcolor": "#E5ECF6",
           "radialaxis": {
            "gridcolor": "white",
            "linecolor": "white",
            "ticks": ""
           }
          },
          "scene": {
           "xaxis": {
            "backgroundcolor": "#E5ECF6",
            "gridcolor": "white",
            "gridwidth": 2,
            "linecolor": "white",
            "showbackground": true,
            "ticks": "",
            "zerolinecolor": "white"
           },
           "yaxis": {
            "backgroundcolor": "#E5ECF6",
            "gridcolor": "white",
            "gridwidth": 2,
            "linecolor": "white",
            "showbackground": true,
            "ticks": "",
            "zerolinecolor": "white"
           },
           "zaxis": {
            "backgroundcolor": "#E5ECF6",
            "gridcolor": "white",
            "gridwidth": 2,
            "linecolor": "white",
            "showbackground": true,
            "ticks": "",
            "zerolinecolor": "white"
           }
          },
          "shapedefaults": {
           "line": {
            "color": "#2a3f5f"
           }
          },
          "ternary": {
           "aaxis": {
            "gridcolor": "white",
            "linecolor": "white",
            "ticks": ""
           },
           "baxis": {
            "gridcolor": "white",
            "linecolor": "white",
            "ticks": ""
           },
           "bgcolor": "#E5ECF6",
           "caxis": {
            "gridcolor": "white",
            "linecolor": "white",
            "ticks": ""
           }
          },
          "title": {
           "x": 0.05
          },
          "xaxis": {
           "automargin": true,
           "gridcolor": "white",
           "linecolor": "white",
           "ticks": "",
           "title": {
            "standoff": 15
           },
           "zerolinecolor": "white",
           "zerolinewidth": 2
          },
          "yaxis": {
           "automargin": true,
           "gridcolor": "white",
           "linecolor": "white",
           "ticks": "",
           "title": {
            "standoff": 15
           },
           "zerolinecolor": "white",
           "zerolinewidth": 2
          }
         }
        },
        "title": {
         "text": "Principal Components color-coded by manual ratings"
        },
        "xaxis": {
         "anchor": "y",
         "domain": [
          0,
          1
         ],
         "title": {
          "text": "component1"
         }
        },
        "yaxis": {
         "anchor": "x",
         "domain": [
          0,
          1
         ],
         "title": {
          "text": "component2"
         }
        }
       }
      }
     },
     "metadata": {},
     "output_type": "display_data"
    }
   ],
   "source": [
    "#Plot the two first principal components color-coded by manual ratings\n",
    "fig = px.scatter(iqms_pca, x=\"component1\", y=\"component2\", color=scores[\"score\"],\n",
    "title=\"Principal Components color-coded by manual ratings\")\n",
    "fig.show()"
   ]
  },
  {
   "attachments": {},
   "cell_type": "markdown",
   "metadata": {},
   "source": [
    "We can see that the first PCA component already separates both the ratings and the conditions quite well. Let's see how much variance those two components explain."
   ]
  },
  {
   "cell_type": "code",
   "execution_count": 63,
   "metadata": {},
   "outputs": [
    {
     "name": "stdout",
     "output_type": "stream",
     "text": [
      "The two first principal components explain 62% of the variance.\n"
     ]
    },
    {
     "data": {
      "image/png": "[encoded data removed]",
      "text/plain": [
       "<Figure size 864x432 with 1 Axes>"
      ]
     },
     "metadata": {
      "needs_background": "light"
     },
     "output_type": "display_data"
    }
   ],
   "source": [
    "#Extract variance explained by each component\n",
    "exp_var=pca.explained_variance_ratio_\n",
    "#Compute cumulative variance explained\n",
    "cum_exp_var = np.cumsum(exp_var)\n",
    "\n",
    "#Plot cumulative variance explained\n",
    "plt.figure(figsize=(12,6))\n",
    "plt.plot(cum_exp_var, 'bo-')\n",
    "plt.xticks(fontsize=14)\n",
    "plt.yticks(fontsize=14)\n",
    "plt.xlabel('Component index',fontsize=16)\n",
    "plt.ylabel('Cumulative variance explained',fontsize=16)\n",
    "\n",
    "print('The two first principal components explain {:.0f}% of the variance.'.format(cum_exp_var[2]*100))"
   ]
  },
  {
   "attachments": {},
   "cell_type": "markdown",
   "metadata": {},
   "source": [
    "The two first principal components explain 62% of the variance. If the goal was to do a dimensionality reduction that retains as much variance as possible, we would want to extract more than two components. However, we already saw that the first component is able to separate the different conditions and ratings already quite well. So for exploration purposes, it makes sense to have a look at the loadings of just the first two components. This way, we will get a sense of which variables contribute most to each component."
   ]
  },
  {
   "cell_type": "code",
   "execution_count": 21,
   "metadata": {},
   "outputs": [
    {
     "data": {
      "application/vnd.plotly.v1+json": {
       "config": {
        "plotlyServerURL": "https://plot.ly"
       },
       "data": [
        {
         "coloraxis": "coloraxis",
         "hovertemplate": "x: %{x}<br>y: %{y}<br>color: %{z}<extra></extra>",
         "name": "0",
         "type": "heatmap",
         "x": [
          0,
          1
         ],
         "xaxis": "x",
         "y": [
          "cjv",
          "cnr",
          "efc",
          "fber",
          "fwhm_avg",
          "fwhm_x",
          "fwhm_y",
          "fwhm_z",
          "icvs_csf",
          "icvs_gm",
          "icvs_wm",
          "inu_med",
          "inu_range",
          "qi_1",
          "qi_2",
          "rpve_csf",
          "rpve_gm",
          "rpve_wm",
          "snr_csf",
          "snr_gm",
          "snr_total",
          "snr_wm",
          "snrd_csf",
          "snrd_gm",
          "snrd_total",
          "snrd_wm",
          "summary_bg_k",
          "summary_bg_mad",
          "summary_bg_mean",
          "summary_bg_median",
          "summary_bg_n",
          "summary_bg_p05",
          "summary_bg_p95",
          "summary_bg_stdv",
          "summary_csf_k",
          "summary_csf_mad",
          "summary_csf_mean",
          "summary_csf_median",
          "summary_csf_n",
          "summary_csf_p05",
          "summary_csf_p95",
          "summary_csf_stdv",
          "summary_gm_k",
          "summary_gm_mad",
          "summary_gm_mean",
          "summary_gm_median",
          "summary_gm_n",
          "summary_gm_p05",
          "summary_gm_p95",
          "summary_gm_stdv",
          "summary_wm_k",
          "summary_wm_mad",
          "summary_wm_mean",
          "summary_wm_median",
          "summary_wm_n",
          "summary_wm_p05",
          "summary_wm_p95",
          "summary_wm_stdv",
          "tpm_overlap_csf",
          "tpm_overlap_gm",
          "tpm_overlap_wm",
          "wm2max"
         ],
         "yaxis": "y",
         "z": [
          [
           0.18776506938257953,
           -0.025402907621337224
          ],
          [
           -0.18652865454931888,
           0.014184033103022804
          ],
          [
           0.11432438254521853,
           0.1659534909369053
          ],
          [
           -0.027810037679071368,
           -0.012815252396467358
          ],
          [
           -0.11032035523299501,
           0.2278918076862293
          ],
          [
           -0.11679500926153322,
           0.20486135057794114
          ],
          [
           -0.12122619933281943,
           0.21182763961521833
          ],
          [
           -0.0753338020330575,
           0.24811930042353056
          ],
          [
           -0.107622853540503,
           0.18080543331488522
          ],
          [
           -0.08830078271155138,
           -0.18564335713623095
          ],
          [
           0.1682162196088332,
           -0.01075109741440217
          ],
          [
           0.1850753014368185,
           0.06346569399606763
          ],
          [
           0.17470977439890248,
           0.07547188344099089
          ],
          [
           0.020155091982528794,
           -0.0015193604576211476
          ],
          [
           -0.12790190624582495,
           0.07220158034447047
          ],
          [
           0.10816112422411112,
           -0.1680593594348522
          ],
          [
           0.02506351561328557,
           -0.018688716941357576
          ],
          [
           -0.12452296858114599,
           -0.05537705128587842
          ],
          [
           0.02901566053013127,
           -0.14177790761878
          ],
          [
           -0.14951735573178176,
           -0.15566099148997803
          ],
          [
           -0.18876370402365483,
           -0.02889826652120364
          ],
          [
           -0.1859811004527671,
           -0.0012914554321094502
          ],
          [
           -0.15733545097306334,
           -0.08391761654801219
          ],
          [
           -0.163436860088644,
           -0.048688154539305376
          ],
          [
           -0.16283043931446275,
           -0.05084915168876342
          ],
          [
           -0.16334668285865755,
           -0.043734829439224944
          ],
          [
           -0.04343716242092251,
           0.0065997688204896396
          ],
          [
           0.10258058704971527,
           0.13679582298684534
          ],
          [
           0.1751808551642677,
           0.05521421122449182
          ],
          [
           0.10258058704971529,
           0.13679582298684534
          ],
          [
           0.001092039238102683,
           -0.16413879918200577
          ],
          [
           0,
           0
          ],
          [
           0.18316080131294954,
           0.02424699427845649
          ],
          [
           0.18454141899787949,
           0.018553699921448813
          ],
          [
           -0.009745414837202003,
           -0.08253908818730393
          ],
          [
           0.08007280978341455,
           0.00022729872564547523
          ],
          [
           0.10116789535817992,
           -0.28811354465782824
          ],
          [
           0.10697426959888039,
           -0.2760965571669687
          ],
          [
           -0.04474182673869173,
           0.24790999664034796
          ],
          [
           0.02717740306834291,
           -0.14536485490963447
          ],
          [
           0.09078380730256583,
           -0.2874116106432364
          ],
          [
           0.07610589656126433,
           -0.13340223448784866
          ],
          [
           0.051171493044273444,
           -0.01612157498131712
          ],
          [
           0.1363166613044931,
           0.14061108323094815
          ],
          [
           -0.07736823550532904,
           -0.1776297555761486
          ],
          [
           -0.0828558135708268,
           -0.17038569142193072
          ],
          [
           -0.15351754037949125,
           -0.0370608243309306
          ],
          [
           -0.1169020077714519,
           -0.1909055432298413
          ],
          [
           0.0230801944517635,
           -0.12936241950993996
          ],
          [
           0.15104221296560866,
           0.12689878087690434
          ],
          [
           -0.003295310399083368,
           0.05887568317281118
          ],
          [
           0.19236931977955155,
           -0.01100899878058477
          ],
          [
           0.18380068779686426,
           -0.022219091669491743
          ],
          [
           0.12088668752358635,
           -0.00915276235948466
          ],
          [
           -0.041480169359685314,
           0.1140429056656379
          ],
          [
           -0.19095823630130387,
           0.003667506460068921
          ],
          [
           0.19210410694753868,
           -0.01388193541871928
          ],
          [
           0.19262713825552139,
           -0.009863509536676415
          ],
          [
           0.014864340774467305,
           0.080323842784073
          ],
          [
           -0.1492740803147898,
           -0.07406227715282654
          ],
          [
           -0.13298493027980346,
           0.004992665202144393
          ],
          [
           -0.12720570244984308,
           -0.004549309985166843
          ]
         ]
        }
       ],
       "layout": {
        "coloraxis": {
         "cmid": 0,
         "colorscale": [
          [
           0,
           "rgb(5,48,97)"
          ],
          [
           0.1,
           "rgb(33,102,172)"
          ],
          [
           0.2,
           "rgb(67,147,195)"
          ],
          [
           0.3,
           "rgb(146,197,222)"
          ],
          [
           0.4,
           "rgb(209,229,240)"
          ],
          [
           0.5,
           "rgb(247,247,247)"
          ],
          [
           0.6,
           "rgb(253,219,199)"
          ],
          [
           0.7,
           "rgb(244,165,130)"
          ],
          [
           0.8,
           "rgb(214,96,77)"
          ],
          [
           0.9,
           "rgb(178,24,43)"
          ],
          [
           1,
           "rgb(103,0,31)"
          ]
         ]
        },
        "height": 1300,
        "margin": {
         "t": 60
        },
        "template": {
         "data": {
          "bar": [
           {
            "error_x": {
             "color": "#2a3f5f"
            },
            "error_y": {
             "color": "#2a3f5f"
            },
            "marker": {
             "line": {
              "color": "#E5ECF6",
              "width": 0.5
             },
             "pattern": {
              "fillmode": "overlay",
              "size": 10,
              "solidity": 0.2
             }
            },
            "type": "bar"
           }
          ],
          "barpolar": [
           {
            "marker": {
             "line": {
              "color": "#E5ECF6",
              "width": 0.5
             },
             "pattern": {
              "fillmode": "overlay",
              "size": 10,
              "solidity": 0.2
             }
            },
            "type": "barpolar"
           }
          ],
          "carpet": [
           {
            "aaxis": {
             "endlinecolor": "#2a3f5f",
             "gridcolor": "white",
             "linecolor": "white",
             "minorgridcolor": "white",
             "startlinecolor": "#2a3f5f"
            },
            "baxis": {
             "endlinecolor": "#2a3f5f",
             "gridcolor": "white",
             "linecolor": "white",
             "minorgridcolor": "white",
             "startlinecolor": "#2a3f5f"
            },
            "type": "carpet"
           }
          ],
          "choropleth": [
           {
            "colorbar": {
             "outlinewidth": 0,
             "ticks": ""
            },
            "type": "choropleth"
           }
          ],
          "contour": [
           {
            "colorbar": {
             "outlinewidth": 0,
             "ticks": ""
            },
            "colorscale": [
             [
              0,
              "#0d0887"
             ],
             [
              0.1111111111111111,
              "#46039f"
             ],
             [
              0.2222222222222222,
              "#7201a8"
             ],
             [
              0.3333333333333333,
              "#9c179e"
             ],
             [
              0.4444444444444444,
              "#bd3786"
             ],
             [
              0.5555555555555556,
              "#d8576b"
             ],
             [
              0.6666666666666666,
              "#ed7953"
             ],
             [
              0.7777777777777778,
              "#fb9f3a"
             ],
             [
              0.8888888888888888,
              "#fdca26"
             ],
             [
              1,
              "#f0f921"
             ]
            ],
            "type": "contour"
           }
          ],
          "contourcarpet": [
           {
            "colorbar": {
             "outlinewidth": 0,
             "ticks": ""
            },
            "type": "contourcarpet"
           }
          ],
          "heatmap": [
           {
            "colorbar": {
             "outlinewidth": 0,
             "ticks": ""
            },
            "colorscale": [
             [
              0,
              "#0d0887"
             ],
             [
              0.1111111111111111,
              "#46039f"
             ],
             [
              0.2222222222222222,
              "#7201a8"
             ],
             [
              0.3333333333333333,
              "#9c179e"
             ],
             [
              0.4444444444444444,
              "#bd3786"
             ],
             [
              0.5555555555555556,
              "#d8576b"
             ],
             [
              0.6666666666666666,
              "#ed7953"
             ],
             [
              0.7777777777777778,
              "#fb9f3a"
             ],
             [
              0.8888888888888888,
              "#fdca26"
             ],
             [
              1,
              "#f0f921"
             ]
            ],
            "type": "heatmap"
           }
          ],
          "heatmapgl": [
           {
            "colorbar": {
             "outlinewidth": 0,
             "ticks": ""
            },
            "colorscale": [
             [
              0,
              "#0d0887"
             ],
             [
              0.1111111111111111,
              "#46039f"
             ],
             [
              0.2222222222222222,
              "#7201a8"
             ],
             [
              0.3333333333333333,
              "#9c179e"
             ],
             [
              0.4444444444444444,
              "#bd3786"
             ],
             [
              0.5555555555555556,
              "#d8576b"
             ],
             [
              0.6666666666666666,
              "#ed7953"
             ],
             [
              0.7777777777777778,
              "#fb9f3a"
             ],
             [
              0.8888888888888888,
              "#fdca26"
             ],
             [
              1,
              "#f0f921"
             ]
            ],
            "type": "heatmapgl"
           }
          ],
          "histogram": [
           {
            "marker": {
             "pattern": {
              "fillmode": "overlay",
              "size": 10,
              "solidity": 0.2
             }
            },
            "type": "histogram"
           }
          ],
          "histogram2d": [
           {
            "colorbar": {
             "outlinewidth": 0,
             "ticks": ""
            },
            "colorscale": [
             [
              0,
              "#0d0887"
             ],
             [
              0.1111111111111111,
              "#46039f"
             ],
             [
              0.2222222222222222,
              "#7201a8"
             ],
             [
              0.3333333333333333,
              "#9c179e"
             ],
             [
              0.4444444444444444,
              "#bd3786"
             ],
             [
              0.5555555555555556,
              "#d8576b"
             ],
             [
              0.6666666666666666,
              "#ed7953"
             ],
             [
              0.7777777777777778,
              "#fb9f3a"
             ],
             [
              0.8888888888888888,
              "#fdca26"
             ],
             [
              1,
              "#f0f921"
             ]
            ],
            "type": "histogram2d"
           }
          ],
          "histogram2dcontour": [
           {
            "colorbar": {
             "outlinewidth": 0,
             "ticks": ""
            },
            "colorscale": [
             [
              0,
              "#0d0887"
             ],
             [
              0.1111111111111111,
              "#46039f"
             ],
             [
              0.2222222222222222,
              "#7201a8"
             ],
             [
              0.3333333333333333,
              "#9c179e"
             ],
             [
              0.4444444444444444,
              "#bd3786"
             ],
             [
              0.5555555555555556,
              "#d8576b"
             ],
             [
              0.6666666666666666,
              "#ed7953"
             ],
             [
              0.7777777777777778,
              "#fb9f3a"
             ],
             [
              0.8888888888888888,
              "#fdca26"
             ],
             [
              1,
              "#f0f921"
             ]
            ],
            "type": "histogram2dcontour"
           }
          ],
          "mesh3d": [
           {
            "colorbar": {
             "outlinewidth": 0,
             "ticks": ""
            },
            "type": "mesh3d"
           }
          ],
          "parcoords": [
           {
            "line": {
             "colorbar": {
              "outlinewidth": 0,
              "ticks": ""
             }
            },
            "type": "parcoords"
           }
          ],
          "pie": [
           {
            "automargin": true,
            "type": "pie"
           }
          ],
          "scatter": [
           {
            "fillpattern": {
             "fillmode": "overlay",
             "size": 10,
             "solidity": 0.2
            },
            "type": "scatter"
           }
          ],
          "scatter3d": [
           {
            "line": {
             "colorbar": {
              "outlinewidth": 0,
              "ticks": ""
             }
            },
            "marker": {
             "colorbar": {
              "outlinewidth": 0,
              "ticks": ""
             }
            },
            "type": "scatter3d"
           }
          ],
          "scattercarpet": [
           {
            "marker": {
             "colorbar": {
              "outlinewidth": 0,
              "ticks": ""
             }
            },
            "type": "scattercarpet"
           }
          ],
          "scattergeo": [
           {
            "marker": {
             "colorbar": {
              "outlinewidth": 0,
              "ticks": ""
             }
            },
            "type": "scattergeo"
           }
          ],
          "scattergl": [
           {
            "marker": {
             "colorbar": {
              "outlinewidth": 0,
              "ticks": ""
             }
            },
            "type": "scattergl"
           }
          ],
          "scattermapbox": [
           {
            "marker": {
             "colorbar": {
              "outlinewidth": 0,
              "ticks": ""
             }
            },
            "type": "scattermapbox"
           }
          ],
          "scatterpolar": [
           {
            "marker": {
             "colorbar": {
              "outlinewidth": 0,
              "ticks": ""
             }
            },
            "type": "scatterpolar"
           }
          ],
          "scatterpolargl": [
           {
            "marker": {
             "colorbar": {
              "outlinewidth": 0,
              "ticks": ""
             }
            },
            "type": "scatterpolargl"
           }
          ],
          "scatterternary": [
           {
            "marker": {
             "colorbar": {
              "outlinewidth": 0,
              "ticks": ""
             }
            },
            "type": "scatterternary"
           }
          ],
          "surface": [
           {
            "colorbar": {
             "outlinewidth": 0,
             "ticks": ""
            },
            "colorscale": [
             [
              0,
              "#0d0887"
             ],
             [
              0.1111111111111111,
              "#46039f"
             ],
             [
              0.2222222222222222,
              "#7201a8"
             ],
             [
              0.3333333333333333,
              "#9c179e"
             ],
             [
              0.4444444444444444,
              "#bd3786"
             ],
             [
              0.5555555555555556,
              "#d8576b"
             ],
             [
              0.6666666666666666,
              "#ed7953"
             ],
             [
              0.7777777777777778,
              "#fb9f3a"
             ],
             [
              0.8888888888888888,
              "#fdca26"
             ],
             [
              1,
              "#f0f921"
             ]
            ],
            "type": "surface"
           }
          ],
          "table": [
           {
            "cells": {
             "fill": {
              "color": "#EBF0F8"
             },
             "line": {
              "color": "white"
             }
            },
            "header": {
             "fill": {
              "color": "#C8D4E3"
             },
             "line": {
              "color": "white"
             }
            },
            "type": "table"
           }
          ]
         },
         "layout": {
          "annotationdefaults": {
           "arrowcolor": "#2a3f5f",
           "arrowhead": 0,
           "arrowwidth": 1
          },
          "autotypenumbers": "strict",
          "coloraxis": {
           "colorbar": {
            "outlinewidth": 0,
            "ticks": ""
           }
          },
          "colorscale": {
           "diverging": [
            [
             0,
             "#8e0152"
            ],
            [
             0.1,
             "#c51b7d"
            ],
            [
             0.2,
             "#de77ae"
            ],
            [
             0.3,
             "#f1b6da"
            ],
            [
             0.4,
             "#fde0ef"
            ],
            [
             0.5,
             "#f7f7f7"
            ],
            [
             0.6,
             "#e6f5d0"
            ],
            [
             0.7,
             "#b8e186"
            ],
            [
             0.8,
             "#7fbc41"
            ],
            [
             0.9,
             "#4d9221"
            ],
            [
             1,
             "#276419"
            ]
           ],
           "sequential": [
            [
             0,
             "#0d0887"
            ],
            [
             0.1111111111111111,
             "#46039f"
            ],
            [
             0.2222222222222222,
             "#7201a8"
            ],
            [
             0.3333333333333333,
             "#9c179e"
            ],
            [
             0.4444444444444444,
             "#bd3786"
            ],
            [
             0.5555555555555556,
             "#d8576b"
            ],
            [
             0.6666666666666666,
             "#ed7953"
            ],
            [
             0.7777777777777778,
             "#fb9f3a"
            ],
            [
             0.8888888888888888,
             "#fdca26"
            ],
            [
             1,
             "#f0f921"
            ]
           ],
           "sequentialminus": [
            [
             0,
             "#0d0887"
            ],
            [
             0.1111111111111111,
             "#46039f"
            ],
            [
             0.2222222222222222,
             "#7201a8"
            ],
            [
             0.3333333333333333,
             "#9c179e"
            ],
            [
             0.4444444444444444,
             "#bd3786"
            ],
            [
             0.5555555555555556,
             "#d8576b"
            ],
            [
             0.6666666666666666,
             "#ed7953"
            ],
            [
             0.7777777777777778,
             "#fb9f3a"
            ],
            [
             0.8888888888888888,
             "#fdca26"
            ],
            [
             1,
             "#f0f921"
            ]
           ]
          },
          "colorway": [
           "#636efa",
           "#EF553B",
           "#00cc96",
           "#ab63fa",
           "#FFA15A",
           "#19d3f3",
           "#FF6692",
           "#B6E880",
           "#FF97FF",
           "#FECB52"
          ],
          "font": {
           "color": "#2a3f5f"
          },
          "geo": {
           "bgcolor": "white",
           "lakecolor": "white",
           "landcolor": "#E5ECF6",
           "showlakes": true,
           "showland": true,
           "subunitcolor": "white"
          },
          "hoverlabel": {
           "align": "left"
          },
          "hovermode": "closest",
          "mapbox": {
           "style": "light"
          },
          "paper_bgcolor": "white",
          "plot_bgcolor": "#E5ECF6",
          "polar": {
           "angularaxis": {
            "gridcolor": "white",
            "linecolor": "white",
            "ticks": ""
           },
           "bgcolor": "#E5ECF6",
           "radialaxis": {
            "gridcolor": "white",
            "linecolor": "white",
            "ticks": ""
           }
          },
          "scene": {
           "xaxis": {
            "backgroundcolor": "#E5ECF6",
            "gridcolor": "white",
            "gridwidth": 2,
            "linecolor": "white",
            "showbackground": true,
            "ticks": "",
            "zerolinecolor": "white"
           },
           "yaxis": {
            "backgroundcolor": "#E5ECF6",
            "gridcolor": "white",
            "gridwidth": 2,
            "linecolor": "white",
            "showbackground": true,
            "ticks": "",
            "zerolinecolor": "white"
           },
           "zaxis": {
            "backgroundcolor": "#E5ECF6",
            "gridcolor": "white",
            "gridwidth": 2,
            "linecolor": "white",
            "showbackground": true,
            "ticks": "",
            "zerolinecolor": "white"
           }
          },
          "shapedefaults": {
           "line": {
            "color": "#2a3f5f"
           }
          },
          "ternary": {
           "aaxis": {
            "gridcolor": "white",
            "linecolor": "white",
            "ticks": ""
           },
           "baxis": {
            "gridcolor": "white",
            "linecolor": "white",
            "ticks": ""
           },
           "bgcolor": "#E5ECF6",
           "caxis": {
            "gridcolor": "white",
            "linecolor": "white",
            "ticks": ""
           }
          },
          "title": {
           "x": 0.05
          },
          "xaxis": {
           "automargin": true,
           "gridcolor": "white",
           "linecolor": "white",
           "ticks": "",
           "title": {
            "standoff": 15
           },
           "zerolinecolor": "white",
           "zerolinewidth": 2
          },
          "yaxis": {
           "automargin": true,
           "gridcolor": "white",
           "linecolor": "white",
           "ticks": "",
           "title": {
            "standoff": 15
           },
           "zerolinecolor": "white",
           "zerolinewidth": 2
          }
         }
        },
        "width": 500,
        "xaxis": {
         "anchor": "y",
         "constrain": "domain",
         "domain": [
          0,
          1
         ],
         "scaleanchor": "y"
        },
        "yaxis": {
         "anchor": "x",
         "autorange": "reversed",
         "constrain": "domain",
         "domain": [
          0,
          1
         ]
        }
       }
      }
     },
     "metadata": {},
     "output_type": "display_data"
    }
   ],
   "source": [
    "loadings = pd.DataFrame(pca.components_[:2].T, index=iqms_scaled.columns)\n",
    "px.imshow(loadings, color_continuous_midpoint=0, color_continuous_scale=px.colors.diverging.RdBu_r,\n",
    "width=500, height=1300)#, center=0)"
   ]
  },
  {
   "attachments": {},
   "cell_type": "markdown",
   "metadata": {},
   "source": [
    "As we can see do the two components capture different information. We already know from the scatterplot that the first component is the one able to separate the conditions/ratings. When looking at the loadings of the first component, we get an idea which of the IQMs influence this component the most. [Here](https://mriqc.readthedocs.io/en/latest/iqms/t1w.html) is an overview of the different measures, that also tells us if higher or lower values indicate a better quality image. E.g., for CJV, lower is better, while for CNR, higher is better. This means that component 1 is related to the \"badness\" of the image, as the polarity of the loadings of CJV and CNR is opposite to the interpretation of their value."
   ]
  },
  {
   "attachments": {},
   "cell_type": "markdown",
   "metadata": {},
   "source": [
    "### t-SNE\n",
    "\n",
    "t-distributed Stochastic Neighbor Embedding (t-SNE) is another dimension reduction technique. Unlike PCA, it also captures non-linear relationships. It is often used for visualization purposes. Let's run t-SNE to get another visualization of the data in latent space:"
   ]
  },
  {
   "cell_type": "code",
   "execution_count": 22,
   "metadata": {},
   "outputs": [
    {
     "data": {
      "image/png": "[encoded data removed]",
      "text/plain": [
       "<Figure size 1080x432 with 2 Axes>"
      ]
     },
     "metadata": {
      "needs_background": "light"
     },
     "output_type": "display_data"
    }
   ],
   "source": [
    "# run TSNE\n",
    "iqms_embedded = TSNE(n_components=2, learning_rate='auto', init='random' , perplexity=3, random_state=42).fit_transform(iqms_scaled)\n",
    "# plot TSNE\n",
    "iqms_embedded = pd.DataFrame(iqms_embedded, columns=[\"component1\", \"component2\"])\n",
    "df = pd.DataFrame()\n",
    "df[\"score\"] = scores[\"score\"].copy()\n",
    "df[\"condition\"] = scores[\"condition\"].copy()\n",
    "\n",
    "df[\"comp-1\"] = iqms_embedded[\"component1\"].values\n",
    "df[\"comp-2\"] = iqms_embedded[\"component2\"].values\n",
    "\n",
    "\n",
    "fig, axs = plt.subplots(1, 2, figsize=(15, 6))\n",
    "sns.scatterplot(x=\"comp-1\", y=\"comp-2\", hue=\"score\",\n",
    "                palette=sns.color_palette(\"hls\", 3),\n",
    "                data=df, ax=axs[0]).set(title=\"IQMs T-SNE projection, colored by rating score\")\n",
    "sns.scatterplot(x=\"comp-1\", y=\"comp-2\", hue=\"condition\",\n",
    "                palette=sns.color_palette(\"hls\", 3),\n",
    "                data=df, ax=axs[1]).set(title=\"IQMs T-SNE projection, colored by motion condition\")\n",
    "plt.show()"
   ]
  },
  {
   "attachments": {},
   "cell_type": "markdown",
   "metadata": {},
   "source": [
    "While different from the PCA components, the separation does not seem to improve. If anything, it is worse, as now both components are needed to separate images with rating score 1 from those with 2 or 3, instead of just one component when using PCA. The same is true when looking at the movement condition."
   ]
  },
  {
   "attachments": {},
   "cell_type": "markdown",
   "metadata": {},
   "source": [
    "## Classification and Feature Importance\n",
    "\n",
    "While dimension reduction in general and PCA in particular can give us an idea of which IQMs are useful in telling good from bad quality images, a more direct approach is to use the IQMs as features in a classification task.\n",
    "\n",
    "To make things easier, we will binarize our target: condition/score 1 will be 0, conditions/scores 2 and 3 will be 1."
   ]
  },
  {
   "cell_type": "code",
   "execution_count": 23,
   "metadata": {},
   "outputs": [],
   "source": [
    "scores[\"score_bin\"] = np.where(scores[\"score\"] == 1, 0, 1)\n",
    "scores[\"condition_bin\"] = np.where(scores[\"condition\"] == 1, 0, 1)"
   ]
  },
  {
   "attachments": {},
   "cell_type": "markdown",
   "metadata": {},
   "source": [
    "### Classification using Support vector machine (SVM)"
   ]
  },
  {
   "attachments": {},
   "cell_type": "markdown",
   "metadata": {},
   "source": [
    "**Helper function**: A function for running multiple experiments using SVMs with the given kernel, to help find the best (kernel, C, gamma) combination. The values of C and gamma are varied following a geometric series.\n",
    "\n",
    "The value of C controls the margin of the hyperplace, and as such, how \"permeable\" the hyperplane is. A low C means a wider margin around the hyperplane.\n",
    "\n",
    "Gamma is important for the RBF kernel only (it doesn't impact the performance of the linear kernel)"
   ]
  },
  {
   "cell_type": "code",
   "execution_count": 24,
   "metadata": {},
   "outputs": [],
   "source": [
    "from sklearn import svm\n",
    "from sklearn.metrics import confusion_matrix, accuracy_score, f1_score\n",
    "\n",
    "def run_experiments(vectors, scores, svm_kernel):\n",
    "  Cs = [2**c for c in range(-5, 11)]\n",
    "  gammas = [2**g for g in range(-10, 3)]\n",
    "\n",
    "  acc = []\n",
    "  f1 = []\n",
    "\n",
    "  N = len(vectors)\n",
    "  N_train = int(0.9 * N)\n",
    "\n",
    "  train_x = vectors[0:N_train]\n",
    "  train_y = scores[0:N_train]\n",
    "\n",
    "  test_x = vectors[N_train:]\n",
    "  test_y = scores[N_train:]\n",
    "\n",
    "  for C in Cs:\n",
    "    for gamma in gammas:\n",
    "      classif_n = svm.SVC(kernel=svm_kernel, C=C, gamma=gamma)\n",
    "      classif_n.fit(train_x, train_y)\n",
    "      pred_y = classif_n.predict(test_x)\n",
    "\n",
    "      acc.append(accuracy_score(test_y, pred_y))\n",
    "      f1.append(f1_score(test_y, pred_y, average='macro'))\n",
    "\n",
    "  max_ind = f1.index(max(f1))\n",
    "\n",
    "  return f1[max_ind], acc[max_ind], Cs[max_ind//len(gammas)], gammas[max_ind%len(gammas)] "
   ]
  },
  {
   "attachments": {},
   "cell_type": "markdown",
   "metadata": {},
   "source": [
    "**Running SVM experiment**: finding the best combination of kernel, C and gamma"
   ]
  },
  {
   "cell_type": "code",
   "execution_count": 25,
   "metadata": {},
   "outputs": [
    {
     "ename": "NameError",
     "evalue": "name 'scores_bin' is not defined",
     "output_type": "error",
     "traceback": [
      "\u001b[0;31m---------------------------------------------------------------------------\u001b[0m",
      "\u001b[0;31mNameError\u001b[0m                                 Traceback (most recent call last)",
      "\u001b[1;32m/data/code/interpret-iqms/code/interpretability-of-iqms.ipynb Cell 35\u001b[0m in \u001b[0;36m<cell line: 1>\u001b[0;34m()\u001b[0m\n\u001b[1;32m      <a href='vscode-notebook-cell:/data/code/interpret-iqms/code/interpretability-of-iqms.ipynb#X46sZmlsZQ%3D%3D?line=0'>1</a>\u001b[0m \u001b[39mfor\u001b[39;00m svm_kernel \u001b[39min\u001b[39;00m [\u001b[39m'\u001b[39m\u001b[39mlinear\u001b[39m\u001b[39m'\u001b[39m, \u001b[39m'\u001b[39m\u001b[39mrbf\u001b[39m\u001b[39m'\u001b[39m, \u001b[39m'\u001b[39m\u001b[39mpoly\u001b[39m\u001b[39m'\u001b[39m]:\n\u001b[0;32m----> <a href='vscode-notebook-cell:/data/code/interpret-iqms/code/interpretability-of-iqms.ipynb#X46sZmlsZQ%3D%3D?line=1'>2</a>\u001b[0m   f1, acc, C, gamma \u001b[39m=\u001b[39m run_experiments(iqms_scaled, scores_bin, svm_kernel)\n\u001b[1;32m      <a href='vscode-notebook-cell:/data/code/interpret-iqms/code/interpretability-of-iqms.ipynb#X46sZmlsZQ%3D%3D?line=2'>3</a>\u001b[0m   \u001b[39mprint\u001b[39m(\u001b[39m\"\u001b[39m\u001b[39mBest performance for kernel \u001b[39m\u001b[39m{}\u001b[39;00m\u001b[39m for C = \u001b[39m\u001b[39m{}\u001b[39;00m\u001b[39m and gamma = \u001b[39m\u001b[39m{}\u001b[39;00m\u001b[39m:\u001b[39m\u001b[39m\\n\u001b[39;00m\u001b[39m\\t\u001b[39;00m\u001b[39m macro F1 = \u001b[39m\u001b[39m{}\u001b[39;00m\u001b[39m, acc = \u001b[39m\u001b[39m{}\u001b[39;00m\u001b[39m\\n\u001b[39;00m\u001b[39m\"\u001b[39m\u001b[39m.\u001b[39mformat(svm_kernel, C, gamma, f1, acc))\n",
      "\u001b[0;31mNameError\u001b[0m: name 'scores_bin' is not defined"
     ]
    }
   ],
   "source": [
    "for svm_kernel in ['linear', 'rbf', 'poly']:\n",
    "  f1, acc, C, gamma = run_experiments(iqms_scaled, scores_bin, svm_kernel)\n",
    "  print(\"Best performance for kernel {} for C = {} and gamma = {}:\\n\\t macro F1 = {}, acc = {}\\n\".format(svm_kernel, C, gamma, f1, acc))"
   ]
  },
  {
   "attachments": {},
   "cell_type": "markdown",
   "metadata": {},
   "source": [
    "**Helper functions**: For the SVM with a linear kernel, we can get feature coefficients that give us information about how good the feature is for classification. The higher the coefficient, the closer the hyperplane is to be orthogonal."
   ]
  },
  {
   "cell_type": "code",
   "execution_count": null,
   "metadata": {},
   "outputs": [],
   "source": [
    "import matplotlib.pyplot as plt\n",
    "from matplotlib.pyplot import figure\n",
    "\n",
    "## we can only do this analysis for linear kernels \n",
    "def coefficient_analysis(C, gamma, vectors, scores, features):\n",
    "  kernel = 'linear'\n",
    "\n",
    "  N = len(vectors)\n",
    "  N_train = int(0.9 * N)\n",
    "\n",
    "  train_x = vectors[0:N_train]\n",
    "  train_y = scores[0:N_train]\n",
    "\n",
    "  test_x = vectors[N_train:]\n",
    "  test_y = scores[N_train:]\n",
    "\n",
    "  classif = svm.SVC(kernel=kernel, C=C, gamma=gamma)\n",
    "  classif.fit(train_x, train_y)\n",
    "\n",
    "  plot_features(classif.coef_[0], features)\n",
    "\n",
    "\n",
    "def plot_features(coefs, feats):\n",
    "  coefs, feats = map(list, zip(*sorted(zip(coefs, feats), reverse=True)))  \n",
    "\n",
    "  figure(figsize=(14,6))\n",
    "  plt.bar(feats, coefs)\n",
    "  feature_names = np.array(feats)\n",
    "  plt.xticks(np.arange(1, 1 + len(feats)), feature_names, rotation=60, ha='right')\n",
    "  plt.show()"
   ]
  },
  {
   "attachments": {},
   "cell_type": "markdown",
   "metadata": {},
   "source": [
    "**Coefficient analysis for the linear kernel**\n",
    " \n",
    "Find the best performing combination of C and gamma, and plot the coefficient analysis."
   ]
  },
  {
   "cell_type": "code",
   "execution_count": null,
   "metadata": {},
   "outputs": [],
   "source": [
    "svm_kernel = 'linear'\n",
    "f1, acc, C, gamma = run_experiments(iqms_scaled, scores_bin, svm_kernel)\n",
    "print(\"Best performance for kernel {} for C = {} and gamma = {}: macro F1 = {}, acc = {}\".format(svm_kernel, C, gamma, f1, acc))\n",
    "\n",
    "coefficient_analysis(C, gamma, iqms_scaled, scores_bin, iqms_use)"
   ]
  },
  {
   "attachments": {},
   "cell_type": "markdown",
   "metadata": {},
   "source": [
    "### Classification using ElasticNet"
   ]
  },
  {
   "attachments": {},
   "cell_type": "markdown",
   "metadata": {},
   "source": [
    "### Conclusion"
   ]
  },
  {
   "attachments": {},
   "cell_type": "markdown",
   "metadata": {},
   "source": [
    "Both supervised classification methods give converging evidence that the multiple variants of the SNR are the most important features to classify motion strength based on the IQMs."
   ]
  },
  {
   "attachments": {},
   "cell_type": "markdown",
   "metadata": {},
   "source": [
    "## References"
   ]
  },
  {
   "attachments": {},
   "cell_type": "markdown",
   "metadata": {},
   "source": [
    "Nárai, Ádám, Petra Hermann, Tibor Auer, Péter Kemenczky, János Szalma, István Homolya, Eszter Somogyi, Pál Vakli, Béla Weiss, and Zoltán Vidnyánszky. 2022. “Movement-Related Artefacts (MR-ART) Dataset of Matched Motion-Corrupted and Clean Structural MRI Brain Scans.” Scientific Data 9 (1): 630. https://doi.org/10.1038/s41597-022-01694-8."
   ]
  }
 ],
 "metadata": {
  "kernelspec": {
   "display_name": "dl",
   "language": "python",
   "name": "python3"
  },
  "language_info": {
   "codemirror_mode": {
    "name": "ipython",
    "version": 3
   },
   "file_extension": ".py",
   "mimetype": "text/x-python",
   "name": "python",
   "nbconvert_exporter": "python",
   "pygments_lexer": "ipython3",
   "version": "3.9.12"
  },
  "orig_nbformat": 4,
  "vscode": {
   "interpreter": {
    "hash": "19e174a1bbc53373ecb624186ed0d90d0d4b85a60be5a9af90cc5e5f48956550"
   }
  }
 },
 "nbformat": 4,
 "nbformat_minor": 2
}
