{
 "cells": [
  {
   "cell_type": "markdown",
   "metadata": {},
   "source": [
    "# Interpretability of the Image Quality Metrics (IQMs) of MRIQC\n",
    "\n",
    "MRIQC is a powerful tool to assess the quality of MR images in a research study. In addition to a visual report, a number of image quality metrics (IQMs) is generated. However, there is a large number of these metrics and it is not immediately obvious which IQM a researcher should pay most attention to when deciding over the quality of a given image.\n",
    "\n",
    "In this notebook, we will explore these issues in the MR-ART dataset, to provide researchers guidance in interpreting the IQMs from MRIQC."
   ]
  },
  {
   "cell_type": "code",
   "execution_count": 5,
   "metadata": {},
   "outputs": [],
   "source": [
    "# imports\n",
    "import pandas as pd\n",
    "import numpy as np\n",
    "import matplotlib.pyplot as plt\n",
    "import seaborn as sns\n",
    "import plotly.express as px\n",
    "import plotly.graph_objects as go\n",
    "import os\n",
    "\n",
    "from sklearn.manifold import TSNE\n",
    "from sklearn.preprocessing import StandardScaler\n",
    "from sklearn.decomposition import PCA\n",
    "from sklearn.svm import LinearSVC\n",
    "from plotly.subplots import make_subplots"
   ]
  },
  {
   "attachments": {},
   "cell_type": "markdown",
   "metadata": {},
   "source": [
    "First, let's import the data. The [Movement-Related Artifacts (MR-ART)](https://openneuro.org/datasets/ds004173) dataset contains the T1-weighted images of 148 healthy subjects (Nárai et al. 2022). Each subject has been acquired under three motion conditions:\n",
    "\n",
    "1. no head movement\n",
    "2. little head movement\n",
    "3. much head movement\n",
    "\n",
    "The motion was artifically induced by giving the subjects cues when to node their head.\n",
    "\n",
    "The images were given to two expert raters, who rated the images in their quality, with ratings\n",
    "\n",
    "1. good quality\n",
    "2. medium quality\n",
    "3. bad quality.\n",
    "\n",
    "What we are interested in here are the IQMs and the ratings scores."
   ]
  },
  {
   "cell_type": "code",
   "execution_count": 6,
   "metadata": {},
   "outputs": [
    {
     "ename": "FileNotFoundError",
     "evalue": "[Errno 2] No such file or directory: '/data/code/data/group_T1w.tsv'",
     "output_type": "error",
     "traceback": [
      "\u001b[0;31m---------------------------------------------------------------------------\u001b[0m",
      "\u001b[0;31mFileNotFoundError\u001b[0m                         Traceback (most recent call last)",
      "\u001b[1;32m/data/code/interpret-iqms/code/interpretability-of-iqms.ipynb Cell 4\u001b[0m in \u001b[0;36m<cell line: 4>\u001b[0;34m()\u001b[0m\n\u001b[1;32m      <a href='vscode-notebook-cell:/data/code/interpret-iqms/code/interpretability-of-iqms.ipynb#W3sZmlsZQ%3D%3D?line=1'>2</a>\u001b[0m path_data \u001b[39m=\u001b[39m os\u001b[39m.\u001b[39mpath\u001b[39m.\u001b[39mabspath(\u001b[39m\"\u001b[39m\u001b[39m../../data/\u001b[39m\u001b[39m\"\u001b[39m)\n\u001b[1;32m      <a href='vscode-notebook-cell:/data/code/interpret-iqms/code/interpretability-of-iqms.ipynb#W3sZmlsZQ%3D%3D?line=2'>3</a>\u001b[0m \u001b[39m# import IQMs\u001b[39;00m\n\u001b[0;32m----> <a href='vscode-notebook-cell:/data/code/interpret-iqms/code/interpretability-of-iqms.ipynb#W3sZmlsZQ%3D%3D?line=3'>4</a>\u001b[0m iqms \u001b[39m=\u001b[39m pd\u001b[39m.\u001b[39;49mread_csv(os\u001b[39m.\u001b[39;49mpath\u001b[39m.\u001b[39;49mjoin(path_data, \u001b[39m\"\u001b[39;49m\u001b[39mgroup_T1w.tsv\u001b[39;49m\u001b[39m\"\u001b[39;49m), index_col\u001b[39m=\u001b[39;49m\u001b[39m\"\u001b[39;49m\u001b[39mbids_name\u001b[39;49m\u001b[39m\"\u001b[39;49m, sep\u001b[39m=\u001b[39;49m\u001b[39m\"\u001b[39;49m\u001b[39m\\t\u001b[39;49;00m\u001b[39m\"\u001b[39;49m)\n\u001b[1;32m      <a href='vscode-notebook-cell:/data/code/interpret-iqms/code/interpretability-of-iqms.ipynb#W3sZmlsZQ%3D%3D?line=4'>5</a>\u001b[0m \u001b[39m# import rating scores\u001b[39;00m\n\u001b[1;32m      <a href='vscode-notebook-cell:/data/code/interpret-iqms/code/interpretability-of-iqms.ipynb#W3sZmlsZQ%3D%3D?line=5'>6</a>\u001b[0m scores \u001b[39m=\u001b[39m pd\u001b[39m.\u001b[39mread_csv(os\u001b[39m.\u001b[39mpath\u001b[39m.\u001b[39mjoin(path_data, \u001b[39m\"\u001b[39m\u001b[39mscores.tsv\u001b[39m\u001b[39m\"\u001b[39m), index_col\u001b[39m=\u001b[39m\u001b[39m\"\u001b[39m\u001b[39mbids_name\u001b[39m\u001b[39m\"\u001b[39m, sep\u001b[39m=\u001b[39m\u001b[39m\"\u001b[39m\u001b[39m\\t\u001b[39;00m\u001b[39m\"\u001b[39m)\n",
      "File \u001b[0;32m~/miniconda3/envs/dl/lib/python3.9/site-packages/pandas/util/_decorators.py:211\u001b[0m, in \u001b[0;36mdeprecate_kwarg.<locals>._deprecate_kwarg.<locals>.wrapper\u001b[0;34m(*args, **kwargs)\u001b[0m\n\u001b[1;32m    209\u001b[0m     \u001b[39melse\u001b[39;00m:\n\u001b[1;32m    210\u001b[0m         kwargs[new_arg_name] \u001b[39m=\u001b[39m new_arg_value\n\u001b[0;32m--> 211\u001b[0m \u001b[39mreturn\u001b[39;00m func(\u001b[39m*\u001b[39;49margs, \u001b[39m*\u001b[39;49m\u001b[39m*\u001b[39;49mkwargs)\n",
      "File \u001b[0;32m~/miniconda3/envs/dl/lib/python3.9/site-packages/pandas/util/_decorators.py:331\u001b[0m, in \u001b[0;36mdeprecate_nonkeyword_arguments.<locals>.decorate.<locals>.wrapper\u001b[0;34m(*args, **kwargs)\u001b[0m\n\u001b[1;32m    325\u001b[0m \u001b[39mif\u001b[39;00m \u001b[39mlen\u001b[39m(args) \u001b[39m>\u001b[39m num_allow_args:\n\u001b[1;32m    326\u001b[0m     warnings\u001b[39m.\u001b[39mwarn(\n\u001b[1;32m    327\u001b[0m         msg\u001b[39m.\u001b[39mformat(arguments\u001b[39m=\u001b[39m_format_argument_list(allow_args)),\n\u001b[1;32m    328\u001b[0m         \u001b[39mFutureWarning\u001b[39;00m,\n\u001b[1;32m    329\u001b[0m         stacklevel\u001b[39m=\u001b[39mfind_stack_level(),\n\u001b[1;32m    330\u001b[0m     )\n\u001b[0;32m--> 331\u001b[0m \u001b[39mreturn\u001b[39;00m func(\u001b[39m*\u001b[39;49margs, \u001b[39m*\u001b[39;49m\u001b[39m*\u001b[39;49mkwargs)\n",
      "File \u001b[0;32m~/miniconda3/envs/dl/lib/python3.9/site-packages/pandas/io/parsers/readers.py:950\u001b[0m, in \u001b[0;36mread_csv\u001b[0;34m(filepath_or_buffer, sep, delimiter, header, names, index_col, usecols, squeeze, prefix, mangle_dupe_cols, dtype, engine, converters, true_values, false_values, skipinitialspace, skiprows, skipfooter, nrows, na_values, keep_default_na, na_filter, verbose, skip_blank_lines, parse_dates, infer_datetime_format, keep_date_col, date_parser, dayfirst, cache_dates, iterator, chunksize, compression, thousands, decimal, lineterminator, quotechar, quoting, doublequote, escapechar, comment, encoding, encoding_errors, dialect, error_bad_lines, warn_bad_lines, on_bad_lines, delim_whitespace, low_memory, memory_map, float_precision, storage_options)\u001b[0m\n\u001b[1;32m    935\u001b[0m kwds_defaults \u001b[39m=\u001b[39m _refine_defaults_read(\n\u001b[1;32m    936\u001b[0m     dialect,\n\u001b[1;32m    937\u001b[0m     delimiter,\n\u001b[0;32m   (...)\u001b[0m\n\u001b[1;32m    946\u001b[0m     defaults\u001b[39m=\u001b[39m{\u001b[39m\"\u001b[39m\u001b[39mdelimiter\u001b[39m\u001b[39m\"\u001b[39m: \u001b[39m\"\u001b[39m\u001b[39m,\u001b[39m\u001b[39m\"\u001b[39m},\n\u001b[1;32m    947\u001b[0m )\n\u001b[1;32m    948\u001b[0m kwds\u001b[39m.\u001b[39mupdate(kwds_defaults)\n\u001b[0;32m--> 950\u001b[0m \u001b[39mreturn\u001b[39;00m _read(filepath_or_buffer, kwds)\n",
      "File \u001b[0;32m~/miniconda3/envs/dl/lib/python3.9/site-packages/pandas/io/parsers/readers.py:605\u001b[0m, in \u001b[0;36m_read\u001b[0;34m(filepath_or_buffer, kwds)\u001b[0m\n\u001b[1;32m    602\u001b[0m _validate_names(kwds\u001b[39m.\u001b[39mget(\u001b[39m\"\u001b[39m\u001b[39mnames\u001b[39m\u001b[39m\"\u001b[39m, \u001b[39mNone\u001b[39;00m))\n\u001b[1;32m    604\u001b[0m \u001b[39m# Create the parser.\u001b[39;00m\n\u001b[0;32m--> 605\u001b[0m parser \u001b[39m=\u001b[39m TextFileReader(filepath_or_buffer, \u001b[39m*\u001b[39;49m\u001b[39m*\u001b[39;49mkwds)\n\u001b[1;32m    607\u001b[0m \u001b[39mif\u001b[39;00m chunksize \u001b[39mor\u001b[39;00m iterator:\n\u001b[1;32m    608\u001b[0m     \u001b[39mreturn\u001b[39;00m parser\n",
      "File \u001b[0;32m~/miniconda3/envs/dl/lib/python3.9/site-packages/pandas/io/parsers/readers.py:1442\u001b[0m, in \u001b[0;36mTextFileReader.__init__\u001b[0;34m(self, f, engine, **kwds)\u001b[0m\n\u001b[1;32m   1439\u001b[0m     \u001b[39mself\u001b[39m\u001b[39m.\u001b[39moptions[\u001b[39m\"\u001b[39m\u001b[39mhas_index_names\u001b[39m\u001b[39m\"\u001b[39m] \u001b[39m=\u001b[39m kwds[\u001b[39m\"\u001b[39m\u001b[39mhas_index_names\u001b[39m\u001b[39m\"\u001b[39m]\n\u001b[1;32m   1441\u001b[0m \u001b[39mself\u001b[39m\u001b[39m.\u001b[39mhandles: IOHandles \u001b[39m|\u001b[39m \u001b[39mNone\u001b[39;00m \u001b[39m=\u001b[39m \u001b[39mNone\u001b[39;00m\n\u001b[0;32m-> 1442\u001b[0m \u001b[39mself\u001b[39m\u001b[39m.\u001b[39m_engine \u001b[39m=\u001b[39m \u001b[39mself\u001b[39;49m\u001b[39m.\u001b[39;49m_make_engine(f, \u001b[39mself\u001b[39;49m\u001b[39m.\u001b[39;49mengine)\n",
      "File \u001b[0;32m~/miniconda3/envs/dl/lib/python3.9/site-packages/pandas/io/parsers/readers.py:1735\u001b[0m, in \u001b[0;36mTextFileReader._make_engine\u001b[0;34m(self, f, engine)\u001b[0m\n\u001b[1;32m   1733\u001b[0m     \u001b[39mif\u001b[39;00m \u001b[39m\"\u001b[39m\u001b[39mb\u001b[39m\u001b[39m\"\u001b[39m \u001b[39mnot\u001b[39;00m \u001b[39min\u001b[39;00m mode:\n\u001b[1;32m   1734\u001b[0m         mode \u001b[39m+\u001b[39m\u001b[39m=\u001b[39m \u001b[39m\"\u001b[39m\u001b[39mb\u001b[39m\u001b[39m\"\u001b[39m\n\u001b[0;32m-> 1735\u001b[0m \u001b[39mself\u001b[39m\u001b[39m.\u001b[39mhandles \u001b[39m=\u001b[39m get_handle(\n\u001b[1;32m   1736\u001b[0m     f,\n\u001b[1;32m   1737\u001b[0m     mode,\n\u001b[1;32m   1738\u001b[0m     encoding\u001b[39m=\u001b[39;49m\u001b[39mself\u001b[39;49m\u001b[39m.\u001b[39;49moptions\u001b[39m.\u001b[39;49mget(\u001b[39m\"\u001b[39;49m\u001b[39mencoding\u001b[39;49m\u001b[39m\"\u001b[39;49m, \u001b[39mNone\u001b[39;49;00m),\n\u001b[1;32m   1739\u001b[0m     compression\u001b[39m=\u001b[39;49m\u001b[39mself\u001b[39;49m\u001b[39m.\u001b[39;49moptions\u001b[39m.\u001b[39;49mget(\u001b[39m\"\u001b[39;49m\u001b[39mcompression\u001b[39;49m\u001b[39m\"\u001b[39;49m, \u001b[39mNone\u001b[39;49;00m),\n\u001b[1;32m   1740\u001b[0m     memory_map\u001b[39m=\u001b[39;49m\u001b[39mself\u001b[39;49m\u001b[39m.\u001b[39;49moptions\u001b[39m.\u001b[39;49mget(\u001b[39m\"\u001b[39;49m\u001b[39mmemory_map\u001b[39;49m\u001b[39m\"\u001b[39;49m, \u001b[39mFalse\u001b[39;49;00m),\n\u001b[1;32m   1741\u001b[0m     is_text\u001b[39m=\u001b[39;49mis_text,\n\u001b[1;32m   1742\u001b[0m     errors\u001b[39m=\u001b[39;49m\u001b[39mself\u001b[39;49m\u001b[39m.\u001b[39;49moptions\u001b[39m.\u001b[39;49mget(\u001b[39m\"\u001b[39;49m\u001b[39mencoding_errors\u001b[39;49m\u001b[39m\"\u001b[39;49m, \u001b[39m\"\u001b[39;49m\u001b[39mstrict\u001b[39;49m\u001b[39m\"\u001b[39;49m),\n\u001b[1;32m   1743\u001b[0m     storage_options\u001b[39m=\u001b[39;49m\u001b[39mself\u001b[39;49m\u001b[39m.\u001b[39;49moptions\u001b[39m.\u001b[39;49mget(\u001b[39m\"\u001b[39;49m\u001b[39mstorage_options\u001b[39;49m\u001b[39m\"\u001b[39;49m, \u001b[39mNone\u001b[39;49;00m),\n\u001b[1;32m   1744\u001b[0m )\n\u001b[1;32m   1745\u001b[0m \u001b[39massert\u001b[39;00m \u001b[39mself\u001b[39m\u001b[39m.\u001b[39mhandles \u001b[39mis\u001b[39;00m \u001b[39mnot\u001b[39;00m \u001b[39mNone\u001b[39;00m\n\u001b[1;32m   1746\u001b[0m f \u001b[39m=\u001b[39m \u001b[39mself\u001b[39m\u001b[39m.\u001b[39mhandles\u001b[39m.\u001b[39mhandle\n",
      "File \u001b[0;32m~/miniconda3/envs/dl/lib/python3.9/site-packages/pandas/io/common.py:856\u001b[0m, in \u001b[0;36mget_handle\u001b[0;34m(path_or_buf, mode, encoding, compression, memory_map, is_text, errors, storage_options)\u001b[0m\n\u001b[1;32m    851\u001b[0m \u001b[39melif\u001b[39;00m \u001b[39misinstance\u001b[39m(handle, \u001b[39mstr\u001b[39m):\n\u001b[1;32m    852\u001b[0m     \u001b[39m# Check whether the filename is to be opened in binary mode.\u001b[39;00m\n\u001b[1;32m    853\u001b[0m     \u001b[39m# Binary mode does not support 'encoding' and 'newline'.\u001b[39;00m\n\u001b[1;32m    854\u001b[0m     \u001b[39mif\u001b[39;00m ioargs\u001b[39m.\u001b[39mencoding \u001b[39mand\u001b[39;00m \u001b[39m\"\u001b[39m\u001b[39mb\u001b[39m\u001b[39m\"\u001b[39m \u001b[39mnot\u001b[39;00m \u001b[39min\u001b[39;00m ioargs\u001b[39m.\u001b[39mmode:\n\u001b[1;32m    855\u001b[0m         \u001b[39m# Encoding\u001b[39;00m\n\u001b[0;32m--> 856\u001b[0m         handle \u001b[39m=\u001b[39m \u001b[39mopen\u001b[39;49m(\n\u001b[1;32m    857\u001b[0m             handle,\n\u001b[1;32m    858\u001b[0m             ioargs\u001b[39m.\u001b[39;49mmode,\n\u001b[1;32m    859\u001b[0m             encoding\u001b[39m=\u001b[39;49mioargs\u001b[39m.\u001b[39;49mencoding,\n\u001b[1;32m    860\u001b[0m             errors\u001b[39m=\u001b[39;49merrors,\n\u001b[1;32m    861\u001b[0m             newline\u001b[39m=\u001b[39;49m\u001b[39m\"\u001b[39;49m\u001b[39m\"\u001b[39;49m,\n\u001b[1;32m    862\u001b[0m         )\n\u001b[1;32m    863\u001b[0m     \u001b[39melse\u001b[39;00m:\n\u001b[1;32m    864\u001b[0m         \u001b[39m# Binary mode\u001b[39;00m\n\u001b[1;32m    865\u001b[0m         handle \u001b[39m=\u001b[39m \u001b[39mopen\u001b[39m(handle, ioargs\u001b[39m.\u001b[39mmode)\n",
      "\u001b[0;31mFileNotFoundError\u001b[0m: [Errno 2] No such file or directory: '/data/code/data/group_T1w.tsv'"
     ]
    }
   ],
   "source": [
    "# set path to the data, adjust to where you saved yours\n",
    "path_data = os.path.abspath(\"../data/\")\n",
    "# import IQMs\n",
    "iqms = pd.read_csv(os.path.join(path_data, \"IQMs.tsv\"), index_col=\"bids_name\", sep=\"\\t\")\n",
    "# import rating scores\n",
    "scores = pd.read_csv(os.path.join(path_data, \"scores.tsv\"), index_col=\"bids_name\", sep=\"\\t\")\n",
    "# make sure they are in the same order\n",
    "iqms.sort_index(inplace=True)\n",
    "scores.sort_index(inplace=True)"
   ]
  },
  {
   "cell_type": "code",
   "execution_count": null,
   "metadata": {},
   "outputs": [],
   "source": [
    "def add_condition_column(scores):\n",
    "    \"\"\"Adds a column with the different movement conditions to the rating scores dataframe\"\"\"\n",
    "    stand = scores.index.str.contains(\"standard\")\n",
    "    hm1 = scores.index.str.contains(\"motion1\")\n",
    "    hm2 = scores.index.str.contains(\"motion2\")\n",
    "    conditions = [\n",
    "        (stand == True),\n",
    "        (hm1 == True),\n",
    "        (hm2 == True)]\n",
    "    choices = [1, 2, 3]\n",
    "    scores['condition'] = np.select(conditions, choices)\n",
    "    return scores\n",
    "scores = add_condition_column(scores)"
   ]
  },
  {
   "cell_type": "markdown",
   "metadata": {},
   "source": [
    "## Rating scores and image conditions\n",
    "\n",
    "We can explore how well the raters align in their scores with the motion condition. Does their rating reflect how much people moved in the scanner? Let's cross-tabulate them:"
   ]
  },
  {
   "cell_type": "code",
   "execution_count": null,
   "metadata": {},
   "outputs": [
    {
     "data": {
      "image/png": "[encoded data removed]",
      "text/plain": [
       "<Figure size 640x480 with 2 Axes>"
      ]
     },
     "metadata": {},
     "output_type": "display_data"
    }
   ],
   "source": [
    "sns.heatmap(pd.crosstab(scores[\"score\"], scores[\"condition\"]), annot=True, fmt=\".0f\")\n",
    "plt.show()"
   ]
  },
  {
   "cell_type": "markdown",
   "metadata": {},
   "source": [
    "We can see that generally there is good correspondance, with most values being on the main diagonal. Most confusion is for score 2, where there are also a lot of images from the no-motion as well as the much motion conditions.\n",
    "\n",
    "Some images are however completely misclassified. We can visualize this also in a different way to be able to identify the images that were rated much better or much worse than the condition they were in."
   ]
  },
  {
   "cell_type": "code",
   "execution_count": null,
   "metadata": {},
   "outputs": [
    {
     "data": {
      "application/vnd.plotly.v1+json": {
       "config": {
        "plotlyServerURL": "https://plot.ly"
       },
       "data": [
        {
         "alignmentgroup": "True",
         "boxpoints": "all",
         "fillcolor": "rgba(255,255,255,0)",
         "hoveron": "points",
         "hovertemplate": "bids_name=sub-000103_acq-headmotion1_T1w<br>condition=%{x}<br>score=%{y}<extra></extra>",
         "legendgroup": "sub-000103_acq-headmotion1_T1w",
         "line": {
          "color": "rgba(255,255,255,0)"
         },
         "marker": {
          "color": "#636efa"
         },
         "name": "sub-000103_acq-headmotion1_T1w",
         "offsetgroup": "sub-000103_acq-headmotion1_T1w",
         "orientation": "v",
         "pointpos": 0,
         "showlegend": true,
         "type": "box",
         "x": [
          2
         ],
         "x0": " ",
         "xaxis": "x",
         "y": [
          2
         ],
         "y0": " ",
         "yaxis": "y"
        },
        {
         "alignmentgroup": "True",
         "boxpoints": "all",
         "fillcolor": "rgba(255,255,255,0)",
         "hoveron": "points",
         "hovertemplate": "bids_name=sub-000103_acq-headmotion2_T1w<br>condition=%{x}<br>score=%{y}<extra></extra>",
         "legendgroup": "sub-000103_acq-headmotion2_T1w",
         "line": {
          "color": "rgba(255,255,255,0)"
         },
         "marker": {
          "color": "#EF553B"
         },
         "name": "sub-000103_acq-headmotion2_T1w",
         "offsetgroup": "sub-000103_acq-headmotion2_T1w",
         "orientation": "v",
         "pointpos": 0,
         "showlegend": true,
         "type": "box",
         "x": [
          3
         ],
         "x0": " ",
         "xaxis": "x",
         "y": [
          3
         ],
         "y0": " ",
         "yaxis": "y"
        },
        {
         "alignmentgroup": "True",
         "boxpoints": "all",
         "fillcolor": "rgba(255,255,255,0)",
         "hoveron": "points",
         "hovertemplate": "bids_name=sub-000103_acq-standard_T1w<br>condition=%{x}<br>score=%{y}<extra></extra>",
         "legendgroup": "sub-000103_acq-standard_T1w",
         "line": {
          "color": "rgba(255,255,255,0)"
         },
         "marker": {
          "color": "#00cc96"
         },
         "name": "sub-000103_acq-standard_T1w",
         "offsetgroup": "sub-000103_acq-standard_T1w",
         "orientation": "v",
         "pointpos": 0,
         "showlegend": true,
         "type": "box",
         "x": [
          1
         ],
         "x0": " ",
         "xaxis": "x",
         "y": [
          1
         ],
         "y0": " ",
         "yaxis": "y"
        },
        {
         "alignmentgroup": "True",
         "boxpoints": "all",
         "fillcolor": "rgba(255,255,255,0)",
         "hoveron": "points",
         "hovertemplate": "bids_name=sub-000148_acq-headmotion1_T1w<br>condition=%{x}<br>score=%{y}<extra></extra>",
         "legendgroup": "sub-000148_acq-headmotion1_T1w",
         "line": {
          "color": "rgba(255,255,255,0)"
         },
         "marker": {
          "color": "#ab63fa"
         },
         "name": "sub-000148_acq-headmotion1_T1w",
         "offsetgroup": "sub-000148_acq-headmotion1_T1w",
         "orientation": "v",
         "pointpos": 0,
         "showlegend": true,
         "type": "box",
         "x": [
          2
         ],
         "x0": " ",
         "xaxis": "x",
         "y": [
          3
         ],
         "y0": " ",
         "yaxis": "y"
        },
        {
         "alignmentgroup": "True",
         "boxpoints": "all",
         "fillcolor": "rgba(255,255,255,0)",
         "hoveron": "points",
         "hovertemplate": "bids_name=sub-000148_acq-headmotion2_T1w<br>condition=%{x}<br>score=%{y}<extra></extra>",
         "legendgroup": "sub-000148_acq-headmotion2_T1w",
         "line": {
          "color": "rgba(255,255,255,0)"
         },
         "marker": {
          "color": "#FFA15A"
         },
         "name": "sub-000148_acq-headmotion2_T1w",
         "offsetgroup": "sub-000148_acq-headmotion2_T1w",
         "orientation": "v",
         "pointpos": 0,
         "showlegend": true,
         "type": "box",
         "x": [
          3
         ],
         "x0": " ",
         "xaxis": "x",
         "y": [
          3
         ],
         "y0": " ",
         "yaxis": "y"
        },
        {
         "alignmentgroup": "True",
         "boxpoints": "all",
         "fillcolor": "rgba(255,255,255,0)",
         "hoveron": "points",
         "hovertemplate": "bids_name=sub-000148_acq-standard_T1w<br>condition=%{x}<br>score=%{y}<extra></extra>",
         "legendgroup": "sub-000148_acq-standard_T1w",
         "line": {
          "color": "rgba(255,255,255,0)"
         },
         "marker": {
          "color": "#19d3f3"
         },
         "name": "sub-000148_acq-standard_T1w",
         "offsetgroup": "sub-000148_acq-standard_T1w",
         "orientation": "v",
         "pointpos": 0,
         "showlegend": true,
         "type": "box",
         "x": [
          1
         ],
         "x0": " ",
         "xaxis": "x",
         "y": [
          1
         ],
         "y0": " ",
         "yaxis": "y"
        },
        {
         "alignmentgroup": "True",
         "boxpoints": "all",
         "fillcolor": "rgba(255,255,255,0)",
         "hoveron": "points",
         "hovertemplate": "bids_name=sub-000149_acq-headmotion1_T1w<br>condition=%{x}<br>score=%{y}<extra></extra>",
         "legendgroup": "sub-000149_acq-headmotion1_T1w",
         "line": {
          "color": "rgba(255,255,255,0)"
         },
         "marker": {
          "color": "#FF6692"
         },
         "name": "sub-000149_acq-headmotion1_T1w",
         "offsetgroup": "sub-000149_acq-headmotion1_T1w",
         "orientation": "v",
         "pointpos": 0,
         "showlegend": true,
         "type": "box",
         "x": [
          2
         ],
         "x0": " ",
         "xaxis": "x",
         "y": [
          3
         ],
         "y0": " ",
         "yaxis": "y"
        },
        {
         "alignmentgroup": "True",
         "boxpoints": "all",
         "fillcolor": "rgba(255,255,255,0)",
         "hoveron": "points",
         "hovertemplate": "bids_name=sub-000149_acq-headmotion2_T1w<br>condition=%{x}<br>score=%{y}<extra></extra>",
         "legendgroup": "sub-000149_acq-headmotion2_T1w",
         "line": {
          "color": "rgba(255,255,255,0)"
         },
         "marker": {
          "color": "#B6E880"
         },
         "name": "sub-000149_acq-headmotion2_T1w",
         "offsetgroup": "sub-000149_acq-headmotion2_T1w",
         "orientation": "v",
         "pointpos": 0,
         "showlegend": true,
         "type": "box",
         "x": [
          3
         ],
         "x0": " ",
         "xaxis": "x",
         "y": [
          3
         ],
         "y0": " ",
         "yaxis": "y"
        },
        {
         "alignmentgroup": "True",
         "boxpoints": "all",
         "fillcolor": "rgba(255,255,255,0)",
         "hoveron": "points",
         "hovertemplate": "bids_name=sub-000149_acq-standard_T1w<br>condition=%{x}<br>score=%{y}<extra></extra>",
         "legendgroup": "sub-000149_acq-standard_T1w",
         "line": {
          "color": "rgba(255,255,255,0)"
         },
         "marker": {
          "color": "#FF97FF"
         },
         "name": "sub-000149_acq-standard_T1w",
         "offsetgroup": "sub-000149_acq-standard_T1w",
         "orientation": "v",
         "pointpos": 0,
         "showlegend": true,
         "type": "box",
         "x": [
          1
         ],
         "x0": " ",
         "xaxis": "x",
         "y": [
          1
         ],
         "y0": " ",
         "yaxis": "y"
        },
        {
         "alignmentgroup": "True",
         "boxpoints": "all",
         "fillcolor": "rgba(255,255,255,0)",
         "hoveron": "points",
         "hovertemplate": "bids_name=sub-000159_acq-headmotion1_T1w<br>condition=%{x}<br>score=%{y}<extra></extra>",
         "legendgroup": "sub-000159_acq-headmotion1_T1w",
         "line": {
          "color": "rgba(255,255,255,0)"
         },
         "marker": {
          "color": "#FECB52"
         },
         "name": "sub-000159_acq-headmotion1_T1w",
         "offsetgroup": "sub-000159_acq-headmotion1_T1w",
         "orientation": "v",
         "pointpos": 0,
         "showlegend": true,
         "type": "box",
         "x": [
          2
         ],
         "x0": " ",
         "xaxis": "x",
         "y": [
          3
         ],
         "y0": " ",
         "yaxis": "y"
        },
        {
         "alignmentgroup": "True",
         "boxpoints": "all",
         "fillcolor": "rgba(255,255,255,0)",
         "hoveron": "points",
         "hovertemplate": "bids_name=sub-000159_acq-headmotion2_T1w<br>condition=%{x}<br>score=%{y}<extra></extra>",
         "legendgroup": "sub-000159_acq-headmotion2_T1w",
         "line": {
          "color": "rgba(255,255,255,0)"
         },
         "marker": {
          "color": "#636efa"
         },
         "name": "sub-000159_acq-headmotion2_T1w",
         "offsetgroup": "sub-000159_acq-headmotion2_T1w",
         "orientation": "v",
         "pointpos": 0,
         "showlegend": true,
         "type": "box",
         "x": [
          3
         ],
         "x0": " ",
         "xaxis": "x",
         "y": [
          3
         ],
         "y0": " ",
         "yaxis": "y"
        },
        {
         "alignmentgroup": "True",
         "boxpoints": "all",
         "fillcolor": "rgba(255,255,255,0)",
         "hoveron": "points",
         "hovertemplate": "bids_name=sub-000159_acq-standard_T1w<br>condition=%{x}<br>score=%{y}<extra></extra>",
         "legendgroup": "sub-000159_acq-standard_T1w",
         "line": {
          "color": "rgba(255,255,255,0)"
         },
         "marker": {
          "color": "#EF553B"
         },
         "name": "sub-000159_acq-standard_T1w",
         "offsetgroup": "sub-000159_acq-standard_T1w",
         "orientation": "v",
         "pointpos": 0,
         "showlegend": true,
         "type": "box",
         "x": [
          1
         ],
         "x0": " ",
         "xaxis": "x",
         "y": [
          1
         ],
         "y0": " ",
         "yaxis": "y"
        },
        {
         "alignmentgroup": "True",
         "boxpoints": "all",
         "fillcolor": "rgba(255,255,255,0)",
         "hoveron": "points",
         "hovertemplate": "bids_name=sub-000175_acq-headmotion1_T1w<br>condition=%{x}<br>score=%{y}<extra></extra>",
         "legendgroup": "sub-000175_acq-headmotion1_T1w",
         "line": {
          "color": "rgba(255,255,255,0)"
         },
         "marker": {
          "color": "#00cc96"
         },
         "name": "sub-000175_acq-headmotion1_T1w",
         "offsetgroup": "sub-000175_acq-headmotion1_T1w",
         "orientation": "v",
         "pointpos": 0,
         "showlegend": true,
         "type": "box",
         "x": [
          2
         ],
         "x0": " ",
         "xaxis": "x",
         "y": [
          2
         ],
         "y0": " ",
         "yaxis": "y"
        },
        {
         "alignmentgroup": "True",
         "boxpoints": "all",
         "fillcolor": "rgba(255,255,255,0)",
         "hoveron": "points",
         "hovertemplate": "bids_name=sub-000175_acq-headmotion2_T1w<br>condition=%{x}<br>score=%{y}<extra></extra>",
         "legendgroup": "sub-000175_acq-headmotion2_T1w",
         "line": {
          "color": "rgba(255,255,255,0)"
         },
         "marker": {
          "color": "#ab63fa"
         },
         "name": "sub-000175_acq-headmotion2_T1w",
         "offsetgroup": "sub-000175_acq-headmotion2_T1w",
         "orientation": "v",
         "pointpos": 0,
         "showlegend": true,
         "type": "box",
         "x": [
          3
         ],
         "x0": " ",
         "xaxis": "x",
         "y": [
          3
         ],
         "y0": " ",
         "yaxis": "y"
        },
        {
         "alignmentgroup": "True",
         "boxpoints": "all",
         "fillcolor": "rgba(255,255,255,0)",
         "hoveron": "points",
         "hovertemplate": "bids_name=sub-000175_acq-standard_T1w<br>condition=%{x}<br>score=%{y}<extra></extra>",
         "legendgroup": "sub-000175_acq-standard_T1w",
         "line": {
          "color": "rgba(255,255,255,0)"
         },
         "marker": {
          "color": "#FFA15A"
         },
         "name": "sub-000175_acq-standard_T1w",
         "offsetgroup": "sub-000175_acq-standard_T1w",
         "orientation": "v",
         "pointpos": 0,
         "showlegend": true,
         "type": "box",
         "x": [
          1
         ],
         "x0": " ",
         "xaxis": "x",
         "y": [
          1
         ],
         "y0": " ",
         "yaxis": "y"
        },
        {
         "alignmentgroup": "True",
         "boxpoints": "all",
         "fillcolor": "rgba(255,255,255,0)",
         "hoveron": "points",
         "hovertemplate": "bids_name=sub-000179_acq-headmotion1_T1w<br>condition=%{x}<br>score=%{y}<extra></extra>",
         "legendgroup": "sub-000179_acq-headmotion1_T1w",
         "line": {
          "color": "rgba(255,255,255,0)"
         },
         "marker": {
          "color": "#19d3f3"
         },
         "name": "sub-000179_acq-headmotion1_T1w",
         "offsetgroup": "sub-000179_acq-headmotion1_T1w",
         "orientation": "v",
         "pointpos": 0,
         "showlegend": true,
         "type": "box",
         "x": [
          2
         ],
         "x0": " ",
         "xaxis": "x",
         "y": [
          2
         ],
         "y0": " ",
         "yaxis": "y"
        },
        {
         "alignmentgroup": "True",
         "boxpoints": "all",
         "fillcolor": "rgba(255,255,255,0)",
         "hoveron": "points",
         "hovertemplate": "bids_name=sub-000179_acq-headmotion2_T1w<br>condition=%{x}<br>score=%{y}<extra></extra>",
         "legendgroup": "sub-000179_acq-headmotion2_T1w",
         "line": {
          "color": "rgba(255,255,255,0)"
         },
         "marker": {
          "color": "#FF6692"
         },
         "name": "sub-000179_acq-headmotion2_T1w",
         "offsetgroup": "sub-000179_acq-headmotion2_T1w",
         "orientation": "v",
         "pointpos": 0,
         "showlegend": true,
         "type": "box",
         "x": [
          3
         ],
         "x0": " ",
         "xaxis": "x",
         "y": [
          2
         ],
         "y0": " ",
         "yaxis": "y"
        },
        {
         "alignmentgroup": "True",
         "boxpoints": "all",
         "fillcolor": "rgba(255,255,255,0)",
         "hoveron": "points",
         "hovertemplate": "bids_name=sub-000179_acq-standard_T1w<br>condition=%{x}<br>score=%{y}<extra></extra>",
         "legendgroup": "sub-000179_acq-standard_T1w",
         "line": {
          "color": "rgba(255,255,255,0)"
         },
         "marker": {
          "color": "#B6E880"
         },
         "name": "sub-000179_acq-standard_T1w",
         "offsetgroup": "sub-000179_acq-standard_T1w",
         "orientation": "v",
         "pointpos": 0,
         "showlegend": true,
         "type": "box",
         "x": [
          1
         ],
         "x0": " ",
         "xaxis": "x",
         "y": [
          1
         ],
         "y0": " ",
         "yaxis": "y"
        },
        {
         "alignmentgroup": "True",
         "boxpoints": "all",
         "fillcolor": "rgba(255,255,255,0)",
         "hoveron": "points",
         "hovertemplate": "bids_name=sub-000183_acq-headmotion1_T1w<br>condition=%{x}<br>score=%{y}<extra></extra>",
         "legendgroup": "sub-000183_acq-headmotion1_T1w",
         "line": {
          "color": "rgba(255,255,255,0)"
         },
         "marker": {
          "color": "#FF97FF"
         },
         "name": "sub-000183_acq-headmotion1_T1w",
         "offsetgroup": "sub-000183_acq-headmotion1_T1w",
         "orientation": "v",
         "pointpos": 0,
         "showlegend": true,
         "type": "box",
         "x": [
          2
         ],
         "x0": " ",
         "xaxis": "x",
         "y": [
          2
         ],
         "y0": " ",
         "yaxis": "y"
        },
        {
         "alignmentgroup": "True",
         "boxpoints": "all",
         "fillcolor": "rgba(255,255,255,0)",
         "hoveron": "points",
         "hovertemplate": "bids_name=sub-000183_acq-headmotion2_T1w<br>condition=%{x}<br>score=%{y}<extra></extra>",
         "legendgroup": "sub-000183_acq-headmotion2_T1w",
         "line": {
          "color": "rgba(255,255,255,0)"
         },
         "marker": {
          "color": "#FECB52"
         },
         "name": "sub-000183_acq-headmotion2_T1w",
         "offsetgroup": "sub-000183_acq-headmotion2_T1w",
         "orientation": "v",
         "pointpos": 0,
         "showlegend": true,
         "type": "box",
         "x": [
          3
         ],
         "x0": " ",
         "xaxis": "x",
         "y": [
          3
         ],
         "y0": " ",
         "yaxis": "y"
        },
        {
         "alignmentgroup": "True",
         "boxpoints": "all",
         "fillcolor": "rgba(255,255,255,0)",
         "hoveron": "points",
         "hovertemplate": "bids_name=sub-000183_acq-standard_T1w<br>condition=%{x}<br>score=%{y}<extra></extra>",
         "legendgroup": "sub-000183_acq-standard_T1w",
         "line": {
          "color": "rgba(255,255,255,0)"
         },
         "marker": {
          "color": "#636efa"
         },
         "name": "sub-000183_acq-standard_T1w",
         "offsetgroup": "sub-000183_acq-standard_T1w",
         "orientation": "v",
         "pointpos": 0,
         "showlegend": true,
         "type": "box",
         "x": [
          1
         ],
         "x0": " ",
         "xaxis": "x",
         "y": [
          2
         ],
         "y0": " ",
         "yaxis": "y"
        },
        {
         "alignmentgroup": "True",
         "boxpoints": "all",
         "fillcolor": "rgba(255,255,255,0)",
         "hoveron": "points",
         "hovertemplate": "bids_name=sub-003617_acq-headmotion1_T1w<br>condition=%{x}<br>score=%{y}<extra></extra>",
         "legendgroup": "sub-003617_acq-headmotion1_T1w",
         "line": {
          "color": "rgba(255,255,255,0)"
         },
         "marker": {
          "color": "#EF553B"
         },
         "name": "sub-003617_acq-headmotion1_T1w",
         "offsetgroup": "sub-003617_acq-headmotion1_T1w",
         "orientation": "v",
         "pointpos": 0,
         "showlegend": true,
         "type": "box",
         "x": [
          2
         ],
         "x0": " ",
         "xaxis": "x",
         "y": [
          2
         ],
         "y0": " ",
         "yaxis": "y"
        },
        {
         "alignmentgroup": "True",
         "boxpoints": "all",
         "fillcolor": "rgba(255,255,255,0)",
         "hoveron": "points",
         "hovertemplate": "bids_name=sub-003617_acq-headmotion2_T1w<br>condition=%{x}<br>score=%{y}<extra></extra>",
         "legendgroup": "sub-003617_acq-headmotion2_T1w",
         "line": {
          "color": "rgba(255,255,255,0)"
         },
         "marker": {
          "color": "#00cc96"
         },
         "name": "sub-003617_acq-headmotion2_T1w",
         "offsetgroup": "sub-003617_acq-headmotion2_T1w",
         "orientation": "v",
         "pointpos": 0,
         "showlegend": true,
         "type": "box",
         "x": [
          3
         ],
         "x0": " ",
         "xaxis": "x",
         "y": [
          3
         ],
         "y0": " ",
         "yaxis": "y"
        },
        {
         "alignmentgroup": "True",
         "boxpoints": "all",
         "fillcolor": "rgba(255,255,255,0)",
         "hoveron": "points",
         "hovertemplate": "bids_name=sub-003617_acq-standard_T1w<br>condition=%{x}<br>score=%{y}<extra></extra>",
         "legendgroup": "sub-003617_acq-standard_T1w",
         "line": {
          "color": "rgba(255,255,255,0)"
         },
         "marker": {
          "color": "#ab63fa"
         },
         "name": "sub-003617_acq-standard_T1w",
         "offsetgroup": "sub-003617_acq-standard_T1w",
         "orientation": "v",
         "pointpos": 0,
         "showlegend": true,
         "type": "box",
         "x": [
          1
         ],
         "x0": " ",
         "xaxis": "x",
         "y": [
          1
         ],
         "y0": " ",
         "yaxis": "y"
        },
        {
         "alignmentgroup": "True",
         "boxpoints": "all",
         "fillcolor": "rgba(255,255,255,0)",
         "hoveron": "points",
         "hovertemplate": "bids_name=sub-009673_acq-headmotion1_T1w<br>condition=%{x}<br>score=%{y}<extra></extra>",
         "legendgroup": "sub-009673_acq-headmotion1_T1w",
         "line": {
          "color": "rgba(255,255,255,0)"
         },
         "marker": {
          "color": "#FFA15A"
         },
         "name": "sub-009673_acq-headmotion1_T1w",
         "offsetgroup": "sub-009673_acq-headmotion1_T1w",
         "orientation": "v",
         "pointpos": 0,
         "showlegend": true,
         "type": "box",
         "x": [
          2
         ],
         "x0": " ",
         "xaxis": "x",
         "y": [
          2
         ],
         "y0": " ",
         "yaxis": "y"
        },
        {
         "alignmentgroup": "True",
         "boxpoints": "all",
         "fillcolor": "rgba(255,255,255,0)",
         "hoveron": "points",
         "hovertemplate": "bids_name=sub-009673_acq-headmotion2_T1w<br>condition=%{x}<br>score=%{y}<extra></extra>",
         "legendgroup": "sub-009673_acq-headmotion2_T1w",
         "line": {
          "color": "rgba(255,255,255,0)"
         },
         "marker": {
          "color": "#19d3f3"
         },
         "name": "sub-009673_acq-headmotion2_T1w",
         "offsetgroup": "sub-009673_acq-headmotion2_T1w",
         "orientation": "v",
         "pointpos": 0,
         "showlegend": true,
         "type": "box",
         "x": [
          3
         ],
         "x0": " ",
         "xaxis": "x",
         "y": [
          3
         ],
         "y0": " ",
         "yaxis": "y"
        },
        {
         "alignmentgroup": "True",
         "boxpoints": "all",
         "fillcolor": "rgba(255,255,255,0)",
         "hoveron": "points",
         "hovertemplate": "bids_name=sub-009673_acq-standard_T1w<br>condition=%{x}<br>score=%{y}<extra></extra>",
         "legendgroup": "sub-009673_acq-standard_T1w",
         "line": {
          "color": "rgba(255,255,255,0)"
         },
         "marker": {
          "color": "#FF6692"
         },
         "name": "sub-009673_acq-standard_T1w",
         "offsetgroup": "sub-009673_acq-standard_T1w",
         "orientation": "v",
         "pointpos": 0,
         "showlegend": true,
         "type": "box",
         "x": [
          1
         ],
         "x0": " ",
         "xaxis": "x",
         "y": [
          1
         ],
         "y0": " ",
         "yaxis": "y"
        },
        {
         "alignmentgroup": "True",
         "boxpoints": "all",
         "fillcolor": "rgba(255,255,255,0)",
         "hoveron": "points",
         "hovertemplate": "bids_name=sub-010769_acq-headmotion1_T1w<br>condition=%{x}<br>score=%{y}<extra></extra>",
         "legendgroup": "sub-010769_acq-headmotion1_T1w",
         "line": {
          "color": "rgba(255,255,255,0)"
         },
         "marker": {
          "color": "#B6E880"
         },
         "name": "sub-010769_acq-headmotion1_T1w",
         "offsetgroup": "sub-010769_acq-headmotion1_T1w",
         "orientation": "v",
         "pointpos": 0,
         "showlegend": true,
         "type": "box",
         "x": [
          2
         ],
         "x0": " ",
         "xaxis": "x",
         "y": [
          3
         ],
         "y0": " ",
         "yaxis": "y"
        },
        {
         "alignmentgroup": "True",
         "boxpoints": "all",
         "fillcolor": "rgba(255,255,255,0)",
         "hoveron": "points",
         "hovertemplate": "bids_name=sub-010769_acq-headmotion2_T1w<br>condition=%{x}<br>score=%{y}<extra></extra>",
         "legendgroup": "sub-010769_acq-headmotion2_T1w",
         "line": {
          "color": "rgba(255,255,255,0)"
         },
         "marker": {
          "color": "#FF97FF"
         },
         "name": "sub-010769_acq-headmotion2_T1w",
         "offsetgroup": "sub-010769_acq-headmotion2_T1w",
         "orientation": "v",
         "pointpos": 0,
         "showlegend": true,
         "type": "box",
         "x": [
          3
         ],
         "x0": " ",
         "xaxis": "x",
         "y": [
          3
         ],
         "y0": " ",
         "yaxis": "y"
        },
        {
         "alignmentgroup": "True",
         "boxpoints": "all",
         "fillcolor": "rgba(255,255,255,0)",
         "hoveron": "points",
         "hovertemplate": "bids_name=sub-010769_acq-standard_T1w<br>condition=%{x}<br>score=%{y}<extra></extra>",
         "legendgroup": "sub-010769_acq-standard_T1w",
         "line": {
          "color": "rgba(255,255,255,0)"
         },
         "marker": {
          "color": "#FECB52"
         },
         "name": "sub-010769_acq-standard_T1w",
         "offsetgroup": "sub-010769_acq-standard_T1w",
         "orientation": "v",
         "pointpos": 0,
         "showlegend": true,
         "type": "box",
         "x": [
          1
         ],
         "x0": " ",
         "xaxis": "x",
         "y": [
          1
         ],
         "y0": " ",
         "yaxis": "y"
        },
        {
         "alignmentgroup": "True",
         "boxpoints": "all",
         "fillcolor": "rgba(255,255,255,0)",
         "hoveron": "points",
         "hovertemplate": "bids_name=sub-012059_acq-headmotion1_T1w<br>condition=%{x}<br>score=%{y}<extra></extra>",
         "legendgroup": "sub-012059_acq-headmotion1_T1w",
         "line": {
          "color": "rgba(255,255,255,0)"
         },
         "marker": {
          "color": "#636efa"
         },
         "name": "sub-012059_acq-headmotion1_T1w",
         "offsetgroup": "sub-012059_acq-headmotion1_T1w",
         "orientation": "v",
         "pointpos": 0,
         "showlegend": true,
         "type": "box",
         "x": [
          2
         ],
         "x0": " ",
         "xaxis": "x",
         "y": [
          3
         ],
         "y0": " ",
         "yaxis": "y"
        },
        {
         "alignmentgroup": "True",
         "boxpoints": "all",
         "fillcolor": "rgba(255,255,255,0)",
         "hoveron": "points",
         "hovertemplate": "bids_name=sub-012059_acq-headmotion2_T1w<br>condition=%{x}<br>score=%{y}<extra></extra>",
         "legendgroup": "sub-012059_acq-headmotion2_T1w",
         "line": {
          "color": "rgba(255,255,255,0)"
         },
         "marker": {
          "color": "#EF553B"
         },
         "name": "sub-012059_acq-headmotion2_T1w",
         "offsetgroup": "sub-012059_acq-headmotion2_T1w",
         "orientation": "v",
         "pointpos": 0,
         "showlegend": true,
         "type": "box",
         "x": [
          3
         ],
         "x0": " ",
         "xaxis": "x",
         "y": [
          2
         ],
         "y0": " ",
         "yaxis": "y"
        },
        {
         "alignmentgroup": "True",
         "boxpoints": "all",
         "fillcolor": "rgba(255,255,255,0)",
         "hoveron": "points",
         "hovertemplate": "bids_name=sub-012059_acq-standard_T1w<br>condition=%{x}<br>score=%{y}<extra></extra>",
         "legendgroup": "sub-012059_acq-standard_T1w",
         "line": {
          "color": "rgba(255,255,255,0)"
         },
         "marker": {
          "color": "#00cc96"
         },
         "name": "sub-012059_acq-standard_T1w",
         "offsetgroup": "sub-012059_acq-standard_T1w",
         "orientation": "v",
         "pointpos": 0,
         "showlegend": true,
         "type": "box",
         "x": [
          1
         ],
         "x0": " ",
         "xaxis": "x",
         "y": [
          1
         ],
         "y0": " ",
         "yaxis": "y"
        },
        {
         "alignmentgroup": "True",
         "boxpoints": "all",
         "fillcolor": "rgba(255,255,255,0)",
         "hoveron": "points",
         "hovertemplate": "bids_name=sub-012322_acq-headmotion1_T1w<br>condition=%{x}<br>score=%{y}<extra></extra>",
         "legendgroup": "sub-012322_acq-headmotion1_T1w",
         "line": {
          "color": "rgba(255,255,255,0)"
         },
         "marker": {
          "color": "#ab63fa"
         },
         "name": "sub-012322_acq-headmotion1_T1w",
         "offsetgroup": "sub-012322_acq-headmotion1_T1w",
         "orientation": "v",
         "pointpos": 0,
         "showlegend": true,
         "type": "box",
         "x": [
          2
         ],
         "x0": " ",
         "xaxis": "x",
         "y": [
          3
         ],
         "y0": " ",
         "yaxis": "y"
        },
        {
         "alignmentgroup": "True",
         "boxpoints": "all",
         "fillcolor": "rgba(255,255,255,0)",
         "hoveron": "points",
         "hovertemplate": "bids_name=sub-012322_acq-headmotion2_T1w<br>condition=%{x}<br>score=%{y}<extra></extra>",
         "legendgroup": "sub-012322_acq-headmotion2_T1w",
         "line": {
          "color": "rgba(255,255,255,0)"
         },
         "marker": {
          "color": "#FFA15A"
         },
         "name": "sub-012322_acq-headmotion2_T1w",
         "offsetgroup": "sub-012322_acq-headmotion2_T1w",
         "orientation": "v",
         "pointpos": 0,
         "showlegend": true,
         "type": "box",
         "x": [
          3
         ],
         "x0": " ",
         "xaxis": "x",
         "y": [
          3
         ],
         "y0": " ",
         "yaxis": "y"
        },
        {
         "alignmentgroup": "True",
         "boxpoints": "all",
         "fillcolor": "rgba(255,255,255,0)",
         "hoveron": "points",
         "hovertemplate": "bids_name=sub-012322_acq-standard_T1w<br>condition=%{x}<br>score=%{y}<extra></extra>",
         "legendgroup": "sub-012322_acq-standard_T1w",
         "line": {
          "color": "rgba(255,255,255,0)"
         },
         "marker": {
          "color": "#19d3f3"
         },
         "name": "sub-012322_acq-standard_T1w",
         "offsetgroup": "sub-012322_acq-standard_T1w",
         "orientation": "v",
         "pointpos": 0,
         "showlegend": true,
         "type": "box",
         "x": [
          1
         ],
         "x0": " ",
         "xaxis": "x",
         "y": [
          1
         ],
         "y0": " ",
         "yaxis": "y"
        },
        {
         "alignmentgroup": "True",
         "boxpoints": "all",
         "fillcolor": "rgba(255,255,255,0)",
         "hoveron": "points",
         "hovertemplate": "bids_name=sub-016504_acq-headmotion1_T1w<br>condition=%{x}<br>score=%{y}<extra></extra>",
         "legendgroup": "sub-016504_acq-headmotion1_T1w",
         "line": {
          "color": "rgba(255,255,255,0)"
         },
         "marker": {
          "color": "#FF6692"
         },
         "name": "sub-016504_acq-headmotion1_T1w",
         "offsetgroup": "sub-016504_acq-headmotion1_T1w",
         "orientation": "v",
         "pointpos": 0,
         "showlegend": true,
         "type": "box",
         "x": [
          2
         ],
         "x0": " ",
         "xaxis": "x",
         "y": [
          3
         ],
         "y0": " ",
         "yaxis": "y"
        },
        {
         "alignmentgroup": "True",
         "boxpoints": "all",
         "fillcolor": "rgba(255,255,255,0)",
         "hoveron": "points",
         "hovertemplate": "bids_name=sub-016504_acq-headmotion2_T1w<br>condition=%{x}<br>score=%{y}<extra></extra>",
         "legendgroup": "sub-016504_acq-headmotion2_T1w",
         "line": {
          "color": "rgba(255,255,255,0)"
         },
         "marker": {
          "color": "#B6E880"
         },
         "name": "sub-016504_acq-headmotion2_T1w",
         "offsetgroup": "sub-016504_acq-headmotion2_T1w",
         "orientation": "v",
         "pointpos": 0,
         "showlegend": true,
         "type": "box",
         "x": [
          3
         ],
         "x0": " ",
         "xaxis": "x",
         "y": [
          3
         ],
         "y0": " ",
         "yaxis": "y"
        },
        {
         "alignmentgroup": "True",
         "boxpoints": "all",
         "fillcolor": "rgba(255,255,255,0)",
         "hoveron": "points",
         "hovertemplate": "bids_name=sub-016504_acq-standard_T1w<br>condition=%{x}<br>score=%{y}<extra></extra>",
         "legendgroup": "sub-016504_acq-standard_T1w",
         "line": {
          "color": "rgba(255,255,255,0)"
         },
         "marker": {
          "color": "#FF97FF"
         },
         "name": "sub-016504_acq-standard_T1w",
         "offsetgroup": "sub-016504_acq-standard_T1w",
         "orientation": "v",
         "pointpos": 0,
         "showlegend": true,
         "type": "box",
         "x": [
          1
         ],
         "x0": " ",
         "xaxis": "x",
         "y": [
          2
         ],
         "y0": " ",
         "yaxis": "y"
        },
        {
         "alignmentgroup": "True",
         "boxpoints": "all",
         "fillcolor": "rgba(255,255,255,0)",
         "hoveron": "points",
         "hovertemplate": "bids_name=sub-067018_acq-headmotion1_T1w<br>condition=%{x}<br>score=%{y}<extra></extra>",
         "legendgroup": "sub-067018_acq-headmotion1_T1w",
         "line": {
          "color": "rgba(255,255,255,0)"
         },
         "marker": {
          "color": "#FECB52"
         },
         "name": "sub-067018_acq-headmotion1_T1w",
         "offsetgroup": "sub-067018_acq-headmotion1_T1w",
         "orientation": "v",
         "pointpos": 0,
         "showlegend": true,
         "type": "box",
         "x": [
          2
         ],
         "x0": " ",
         "xaxis": "x",
         "y": [
          2
         ],
         "y0": " ",
         "yaxis": "y"
        },
        {
         "alignmentgroup": "True",
         "boxpoints": "all",
         "fillcolor": "rgba(255,255,255,0)",
         "hoveron": "points",
         "hovertemplate": "bids_name=sub-067018_acq-headmotion2_T1w<br>condition=%{x}<br>score=%{y}<extra></extra>",
         "legendgroup": "sub-067018_acq-headmotion2_T1w",
         "line": {
          "color": "rgba(255,255,255,0)"
         },
         "marker": {
          "color": "#636efa"
         },
         "name": "sub-067018_acq-headmotion2_T1w",
         "offsetgroup": "sub-067018_acq-headmotion2_T1w",
         "orientation": "v",
         "pointpos": 0,
         "showlegend": true,
         "type": "box",
         "x": [
          3
         ],
         "x0": " ",
         "xaxis": "x",
         "y": [
          2
         ],
         "y0": " ",
         "yaxis": "y"
        },
        {
         "alignmentgroup": "True",
         "boxpoints": "all",
         "fillcolor": "rgba(255,255,255,0)",
         "hoveron": "points",
         "hovertemplate": "bids_name=sub-067018_acq-standard_T1w<br>condition=%{x}<br>score=%{y}<extra></extra>",
         "legendgroup": "sub-067018_acq-standard_T1w",
         "line": {
          "color": "rgba(255,255,255,0)"
         },
         "marker": {
          "color": "#EF553B"
         },
         "name": "sub-067018_acq-standard_T1w",
         "offsetgroup": "sub-067018_acq-standard_T1w",
         "orientation": "v",
         "pointpos": 0,
         "showlegend": true,
         "type": "box",
         "x": [
          1
         ],
         "x0": " ",
         "xaxis": "x",
         "y": [
          1
         ],
         "y0": " ",
         "yaxis": "y"
        },
        {
         "alignmentgroup": "True",
         "boxpoints": "all",
         "fillcolor": "rgba(255,255,255,0)",
         "hoveron": "points",
         "hovertemplate": "bids_name=sub-089207_acq-headmotion1_T1w<br>condition=%{x}<br>score=%{y}<extra></extra>",
         "legendgroup": "sub-089207_acq-headmotion1_T1w",
         "line": {
          "color": "rgba(255,255,255,0)"
         },
         "marker": {
          "color": "#00cc96"
         },
         "name": "sub-089207_acq-headmotion1_T1w",
         "offsetgroup": "sub-089207_acq-headmotion1_T1w",
         "orientation": "v",
         "pointpos": 0,
         "showlegend": true,
         "type": "box",
         "x": [
          2
         ],
         "x0": " ",
         "xaxis": "x",
         "y": [
          2
         ],
         "y0": " ",
         "yaxis": "y"
        },
        {
         "alignmentgroup": "True",
         "boxpoints": "all",
         "fillcolor": "rgba(255,255,255,0)",
         "hoveron": "points",
         "hovertemplate": "bids_name=sub-089207_acq-headmotion2_T1w<br>condition=%{x}<br>score=%{y}<extra></extra>",
         "legendgroup": "sub-089207_acq-headmotion2_T1w",
         "line": {
          "color": "rgba(255,255,255,0)"
         },
         "marker": {
          "color": "#ab63fa"
         },
         "name": "sub-089207_acq-headmotion2_T1w",
         "offsetgroup": "sub-089207_acq-headmotion2_T1w",
         "orientation": "v",
         "pointpos": 0,
         "showlegend": true,
         "type": "box",
         "x": [
          3
         ],
         "x0": " ",
         "xaxis": "x",
         "y": [
          2
         ],
         "y0": " ",
         "yaxis": "y"
        },
        {
         "alignmentgroup": "True",
         "boxpoints": "all",
         "fillcolor": "rgba(255,255,255,0)",
         "hoveron": "points",
         "hovertemplate": "bids_name=sub-089207_acq-standard_T1w<br>condition=%{x}<br>score=%{y}<extra></extra>",
         "legendgroup": "sub-089207_acq-standard_T1w",
         "line": {
          "color": "rgba(255,255,255,0)"
         },
         "marker": {
          "color": "#FFA15A"
         },
         "name": "sub-089207_acq-standard_T1w",
         "offsetgroup": "sub-089207_acq-standard_T1w",
         "orientation": "v",
         "pointpos": 0,
         "showlegend": true,
         "type": "box",
         "x": [
          1
         ],
         "x0": " ",
         "xaxis": "x",
         "y": [
          1
         ],
         "y0": " ",
         "yaxis": "y"
        },
        {
         "alignmentgroup": "True",
         "boxpoints": "all",
         "fillcolor": "rgba(255,255,255,0)",
         "hoveron": "points",
         "hovertemplate": "bids_name=sub-105822_acq-headmotion2_T1w<br>condition=%{x}<br>score=%{y}<extra></extra>",
         "legendgroup": "sub-105822_acq-headmotion2_T1w",
         "line": {
          "color": "rgba(255,255,255,0)"
         },
         "marker": {
          "color": "#19d3f3"
         },
         "name": "sub-105822_acq-headmotion2_T1w",
         "offsetgroup": "sub-105822_acq-headmotion2_T1w",
         "orientation": "v",
         "pointpos": 0,
         "showlegend": true,
         "type": "box",
         "x": [
          3
         ],
         "x0": " ",
         "xaxis": "x",
         "y": [
          3
         ],
         "y0": " ",
         "yaxis": "y"
        },
        {
         "alignmentgroup": "True",
         "boxpoints": "all",
         "fillcolor": "rgba(255,255,255,0)",
         "hoveron": "points",
         "hovertemplate": "bids_name=sub-105822_acq-standard_T1w<br>condition=%{x}<br>score=%{y}<extra></extra>",
         "legendgroup": "sub-105822_acq-standard_T1w",
         "line": {
          "color": "rgba(255,255,255,0)"
         },
         "marker": {
          "color": "#FF6692"
         },
         "name": "sub-105822_acq-standard_T1w",
         "offsetgroup": "sub-105822_acq-standard_T1w",
         "orientation": "v",
         "pointpos": 0,
         "showlegend": true,
         "type": "box",
         "x": [
          1
         ],
         "x0": " ",
         "xaxis": "x",
         "y": [
          1
         ],
         "y0": " ",
         "yaxis": "y"
        },
        {
         "alignmentgroup": "True",
         "boxpoints": "all",
         "fillcolor": "rgba(255,255,255,0)",
         "hoveron": "points",
         "hovertemplate": "bids_name=sub-107738_acq-headmotion1_T1w<br>condition=%{x}<br>score=%{y}<extra></extra>",
         "legendgroup": "sub-107738_acq-headmotion1_T1w",
         "line": {
          "color": "rgba(255,255,255,0)"
         },
         "marker": {
          "color": "#B6E880"
         },
         "name": "sub-107738_acq-headmotion1_T1w",
         "offsetgroup": "sub-107738_acq-headmotion1_T1w",
         "orientation": "v",
         "pointpos": 0,
         "showlegend": true,
         "type": "box",
         "x": [
          2
         ],
         "x0": " ",
         "xaxis": "x",
         "y": [
          3
         ],
         "y0": " ",
         "yaxis": "y"
        },
        {
         "alignmentgroup": "True",
         "boxpoints": "all",
         "fillcolor": "rgba(255,255,255,0)",
         "hoveron": "points",
         "hovertemplate": "bids_name=sub-107738_acq-headmotion2_T1w<br>condition=%{x}<br>score=%{y}<extra></extra>",
         "legendgroup": "sub-107738_acq-headmotion2_T1w",
         "line": {
          "color": "rgba(255,255,255,0)"
         },
         "marker": {
          "color": "#FF97FF"
         },
         "name": "sub-107738_acq-headmotion2_T1w",
         "offsetgroup": "sub-107738_acq-headmotion2_T1w",
         "orientation": "v",
         "pointpos": 0,
         "showlegend": true,
         "type": "box",
         "x": [
          3
         ],
         "x0": " ",
         "xaxis": "x",
         "y": [
          3
         ],
         "y0": " ",
         "yaxis": "y"
        },
        {
         "alignmentgroup": "True",
         "boxpoints": "all",
         "fillcolor": "rgba(255,255,255,0)",
         "hoveron": "points",
         "hovertemplate": "bids_name=sub-107738_acq-standard_T1w<br>condition=%{x}<br>score=%{y}<extra></extra>",
         "legendgroup": "sub-107738_acq-standard_T1w",
         "line": {
          "color": "rgba(255,255,255,0)"
         },
         "marker": {
          "color": "#FECB52"
         },
         "name": "sub-107738_acq-standard_T1w",
         "offsetgroup": "sub-107738_acq-standard_T1w",
         "orientation": "v",
         "pointpos": 0,
         "showlegend": true,
         "type": "box",
         "x": [
          1
         ],
         "x0": " ",
         "xaxis": "x",
         "y": [
          1
         ],
         "y0": " ",
         "yaxis": "y"
        },
        {
         "alignmentgroup": "True",
         "boxpoints": "all",
         "fillcolor": "rgba(255,255,255,0)",
         "hoveron": "points",
         "hovertemplate": "bids_name=sub-108142_acq-headmotion1_T1w<br>condition=%{x}<br>score=%{y}<extra></extra>",
         "legendgroup": "sub-108142_acq-headmotion1_T1w",
         "line": {
          "color": "rgba(255,255,255,0)"
         },
         "marker": {
          "color": "#636efa"
         },
         "name": "sub-108142_acq-headmotion1_T1w",
         "offsetgroup": "sub-108142_acq-headmotion1_T1w",
         "orientation": "v",
         "pointpos": 0,
         "showlegend": true,
         "type": "box",
         "x": [
          2
         ],
         "x0": " ",
         "xaxis": "x",
         "y": [
          1
         ],
         "y0": " ",
         "yaxis": "y"
        },
        {
         "alignmentgroup": "True",
         "boxpoints": "all",
         "fillcolor": "rgba(255,255,255,0)",
         "hoveron": "points",
         "hovertemplate": "bids_name=sub-108142_acq-headmotion2_T1w<br>condition=%{x}<br>score=%{y}<extra></extra>",
         "legendgroup": "sub-108142_acq-headmotion2_T1w",
         "line": {
          "color": "rgba(255,255,255,0)"
         },
         "marker": {
          "color": "#EF553B"
         },
         "name": "sub-108142_acq-headmotion2_T1w",
         "offsetgroup": "sub-108142_acq-headmotion2_T1w",
         "orientation": "v",
         "pointpos": 0,
         "showlegend": true,
         "type": "box",
         "x": [
          3
         ],
         "x0": " ",
         "xaxis": "x",
         "y": [
          3
         ],
         "y0": " ",
         "yaxis": "y"
        },
        {
         "alignmentgroup": "True",
         "boxpoints": "all",
         "fillcolor": "rgba(255,255,255,0)",
         "hoveron": "points",
         "hovertemplate": "bids_name=sub-108142_acq-standard_T1w<br>condition=%{x}<br>score=%{y}<extra></extra>",
         "legendgroup": "sub-108142_acq-standard_T1w",
         "line": {
          "color": "rgba(255,255,255,0)"
         },
         "marker": {
          "color": "#00cc96"
         },
         "name": "sub-108142_acq-standard_T1w",
         "offsetgroup": "sub-108142_acq-standard_T1w",
         "orientation": "v",
         "pointpos": 0,
         "showlegend": true,
         "type": "box",
         "x": [
          1
         ],
         "x0": " ",
         "xaxis": "x",
         "y": [
          1
         ],
         "y0": " ",
         "yaxis": "y"
        },
        {
         "alignmentgroup": "True",
         "boxpoints": "all",
         "fillcolor": "rgba(255,255,255,0)",
         "hoveron": "points",
         "hovertemplate": "bids_name=sub-118003_acq-headmotion1_T1w<br>condition=%{x}<br>score=%{y}<extra></extra>",
         "legendgroup": "sub-118003_acq-headmotion1_T1w",
         "line": {
          "color": "rgba(255,255,255,0)"
         },
         "marker": {
          "color": "#ab63fa"
         },
         "name": "sub-118003_acq-headmotion1_T1w",
         "offsetgroup": "sub-118003_acq-headmotion1_T1w",
         "orientation": "v",
         "pointpos": 0,
         "showlegend": true,
         "type": "box",
         "x": [
          2
         ],
         "x0": " ",
         "xaxis": "x",
         "y": [
          3
         ],
         "y0": " ",
         "yaxis": "y"
        },
        {
         "alignmentgroup": "True",
         "boxpoints": "all",
         "fillcolor": "rgba(255,255,255,0)",
         "hoveron": "points",
         "hovertemplate": "bids_name=sub-118003_acq-headmotion2_T1w<br>condition=%{x}<br>score=%{y}<extra></extra>",
         "legendgroup": "sub-118003_acq-headmotion2_T1w",
         "line": {
          "color": "rgba(255,255,255,0)"
         },
         "marker": {
          "color": "#FFA15A"
         },
         "name": "sub-118003_acq-headmotion2_T1w",
         "offsetgroup": "sub-118003_acq-headmotion2_T1w",
         "orientation": "v",
         "pointpos": 0,
         "showlegend": true,
         "type": "box",
         "x": [
          3
         ],
         "x0": " ",
         "xaxis": "x",
         "y": [
          3
         ],
         "y0": " ",
         "yaxis": "y"
        },
        {
         "alignmentgroup": "True",
         "boxpoints": "all",
         "fillcolor": "rgba(255,255,255,0)",
         "hoveron": "points",
         "hovertemplate": "bids_name=sub-118003_acq-standard_T1w<br>condition=%{x}<br>score=%{y}<extra></extra>",
         "legendgroup": "sub-118003_acq-standard_T1w",
         "line": {
          "color": "rgba(255,255,255,0)"
         },
         "marker": {
          "color": "#19d3f3"
         },
         "name": "sub-118003_acq-standard_T1w",
         "offsetgroup": "sub-118003_acq-standard_T1w",
         "orientation": "v",
         "pointpos": 0,
         "showlegend": true,
         "type": "box",
         "x": [
          1
         ],
         "x0": " ",
         "xaxis": "x",
         "y": [
          1
         ],
         "y0": " ",
         "yaxis": "y"
        },
        {
         "alignmentgroup": "True",
         "boxpoints": "all",
         "fillcolor": "rgba(255,255,255,0)",
         "hoveron": "points",
         "hovertemplate": "bids_name=sub-122916_acq-headmotion1_T1w<br>condition=%{x}<br>score=%{y}<extra></extra>",
         "legendgroup": "sub-122916_acq-headmotion1_T1w",
         "line": {
          "color": "rgba(255,255,255,0)"
         },
         "marker": {
          "color": "#FF6692"
         },
         "name": "sub-122916_acq-headmotion1_T1w",
         "offsetgroup": "sub-122916_acq-headmotion1_T1w",
         "orientation": "v",
         "pointpos": 0,
         "showlegend": true,
         "type": "box",
         "x": [
          2
         ],
         "x0": " ",
         "xaxis": "x",
         "y": [
          2
         ],
         "y0": " ",
         "yaxis": "y"
        },
        {
         "alignmentgroup": "True",
         "boxpoints": "all",
         "fillcolor": "rgba(255,255,255,0)",
         "hoveron": "points",
         "hovertemplate": "bids_name=sub-122916_acq-headmotion2_T1w<br>condition=%{x}<br>score=%{y}<extra></extra>",
         "legendgroup": "sub-122916_acq-headmotion2_T1w",
         "line": {
          "color": "rgba(255,255,255,0)"
         },
         "marker": {
          "color": "#B6E880"
         },
         "name": "sub-122916_acq-headmotion2_T1w",
         "offsetgroup": "sub-122916_acq-headmotion2_T1w",
         "orientation": "v",
         "pointpos": 0,
         "showlegend": true,
         "type": "box",
         "x": [
          3
         ],
         "x0": " ",
         "xaxis": "x",
         "y": [
          3
         ],
         "y0": " ",
         "yaxis": "y"
        },
        {
         "alignmentgroup": "True",
         "boxpoints": "all",
         "fillcolor": "rgba(255,255,255,0)",
         "hoveron": "points",
         "hovertemplate": "bids_name=sub-122916_acq-standard_T1w<br>condition=%{x}<br>score=%{y}<extra></extra>",
         "legendgroup": "sub-122916_acq-standard_T1w",
         "line": {
          "color": "rgba(255,255,255,0)"
         },
         "marker": {
          "color": "#FF97FF"
         },
         "name": "sub-122916_acq-standard_T1w",
         "offsetgroup": "sub-122916_acq-standard_T1w",
         "orientation": "v",
         "pointpos": 0,
         "showlegend": true,
         "type": "box",
         "x": [
          1
         ],
         "x0": " ",
         "xaxis": "x",
         "y": [
          1
         ],
         "y0": " ",
         "yaxis": "y"
        },
        {
         "alignmentgroup": "True",
         "boxpoints": "all",
         "fillcolor": "rgba(255,255,255,0)",
         "hoveron": "points",
         "hovertemplate": "bids_name=sub-125171_acq-headmotion1_T1w<br>condition=%{x}<br>score=%{y}<extra></extra>",
         "legendgroup": "sub-125171_acq-headmotion1_T1w",
         "line": {
          "color": "rgba(255,255,255,0)"
         },
         "marker": {
          "color": "#FECB52"
         },
         "name": "sub-125171_acq-headmotion1_T1w",
         "offsetgroup": "sub-125171_acq-headmotion1_T1w",
         "orientation": "v",
         "pointpos": 0,
         "showlegend": true,
         "type": "box",
         "x": [
          2
         ],
         "x0": " ",
         "xaxis": "x",
         "y": [
          3
         ],
         "y0": " ",
         "yaxis": "y"
        },
        {
         "alignmentgroup": "True",
         "boxpoints": "all",
         "fillcolor": "rgba(255,255,255,0)",
         "hoveron": "points",
         "hovertemplate": "bids_name=sub-125171_acq-headmotion2_T1w<br>condition=%{x}<br>score=%{y}<extra></extra>",
         "legendgroup": "sub-125171_acq-headmotion2_T1w",
         "line": {
          "color": "rgba(255,255,255,0)"
         },
         "marker": {
          "color": "#636efa"
         },
         "name": "sub-125171_acq-headmotion2_T1w",
         "offsetgroup": "sub-125171_acq-headmotion2_T1w",
         "orientation": "v",
         "pointpos": 0,
         "showlegend": true,
         "type": "box",
         "x": [
          3
         ],
         "x0": " ",
         "xaxis": "x",
         "y": [
          3
         ],
         "y0": " ",
         "yaxis": "y"
        },
        {
         "alignmentgroup": "True",
         "boxpoints": "all",
         "fillcolor": "rgba(255,255,255,0)",
         "hoveron": "points",
         "hovertemplate": "bids_name=sub-125171_acq-standard_T1w<br>condition=%{x}<br>score=%{y}<extra></extra>",
         "legendgroup": "sub-125171_acq-standard_T1w",
         "line": {
          "color": "rgba(255,255,255,0)"
         },
         "marker": {
          "color": "#EF553B"
         },
         "name": "sub-125171_acq-standard_T1w",
         "offsetgroup": "sub-125171_acq-standard_T1w",
         "orientation": "v",
         "pointpos": 0,
         "showlegend": true,
         "type": "box",
         "x": [
          1
         ],
         "x0": " ",
         "xaxis": "x",
         "y": [
          1
         ],
         "y0": " ",
         "yaxis": "y"
        },
        {
         "alignmentgroup": "True",
         "boxpoints": "all",
         "fillcolor": "rgba(255,255,255,0)",
         "hoveron": "points",
         "hovertemplate": "bids_name=sub-127867_acq-headmotion1_T1w<br>condition=%{x}<br>score=%{y}<extra></extra>",
         "legendgroup": "sub-127867_acq-headmotion1_T1w",
         "line": {
          "color": "rgba(255,255,255,0)"
         },
         "marker": {
          "color": "#00cc96"
         },
         "name": "sub-127867_acq-headmotion1_T1w",
         "offsetgroup": "sub-127867_acq-headmotion1_T1w",
         "orientation": "v",
         "pointpos": 0,
         "showlegend": true,
         "type": "box",
         "x": [
          2
         ],
         "x0": " ",
         "xaxis": "x",
         "y": [
          2
         ],
         "y0": " ",
         "yaxis": "y"
        },
        {
         "alignmentgroup": "True",
         "boxpoints": "all",
         "fillcolor": "rgba(255,255,255,0)",
         "hoveron": "points",
         "hovertemplate": "bids_name=sub-127867_acq-headmotion2_T1w<br>condition=%{x}<br>score=%{y}<extra></extra>",
         "legendgroup": "sub-127867_acq-headmotion2_T1w",
         "line": {
          "color": "rgba(255,255,255,0)"
         },
         "marker": {
          "color": "#ab63fa"
         },
         "name": "sub-127867_acq-headmotion2_T1w",
         "offsetgroup": "sub-127867_acq-headmotion2_T1w",
         "orientation": "v",
         "pointpos": 0,
         "showlegend": true,
         "type": "box",
         "x": [
          3
         ],
         "x0": " ",
         "xaxis": "x",
         "y": [
          2
         ],
         "y0": " ",
         "yaxis": "y"
        },
        {
         "alignmentgroup": "True",
         "boxpoints": "all",
         "fillcolor": "rgba(255,255,255,0)",
         "hoveron": "points",
         "hovertemplate": "bids_name=sub-127867_acq-standard_T1w<br>condition=%{x}<br>score=%{y}<extra></extra>",
         "legendgroup": "sub-127867_acq-standard_T1w",
         "line": {
          "color": "rgba(255,255,255,0)"
         },
         "marker": {
          "color": "#FFA15A"
         },
         "name": "sub-127867_acq-standard_T1w",
         "offsetgroup": "sub-127867_acq-standard_T1w",
         "orientation": "v",
         "pointpos": 0,
         "showlegend": true,
         "type": "box",
         "x": [
          1
         ],
         "x0": " ",
         "xaxis": "x",
         "y": [
          1
         ],
         "y0": " ",
         "yaxis": "y"
        },
        {
         "alignmentgroup": "True",
         "boxpoints": "all",
         "fillcolor": "rgba(255,255,255,0)",
         "hoveron": "points",
         "hovertemplate": "bids_name=sub-132674_acq-headmotion1_T1w<br>condition=%{x}<br>score=%{y}<extra></extra>",
         "legendgroup": "sub-132674_acq-headmotion1_T1w",
         "line": {
          "color": "rgba(255,255,255,0)"
         },
         "marker": {
          "color": "#19d3f3"
         },
         "name": "sub-132674_acq-headmotion1_T1w",
         "offsetgroup": "sub-132674_acq-headmotion1_T1w",
         "orientation": "v",
         "pointpos": 0,
         "showlegend": true,
         "type": "box",
         "x": [
          2
         ],
         "x0": " ",
         "xaxis": "x",
         "y": [
          1
         ],
         "y0": " ",
         "yaxis": "y"
        },
        {
         "alignmentgroup": "True",
         "boxpoints": "all",
         "fillcolor": "rgba(255,255,255,0)",
         "hoveron": "points",
         "hovertemplate": "bids_name=sub-132674_acq-headmotion2_T1w<br>condition=%{x}<br>score=%{y}<extra></extra>",
         "legendgroup": "sub-132674_acq-headmotion2_T1w",
         "line": {
          "color": "rgba(255,255,255,0)"
         },
         "marker": {
          "color": "#FF6692"
         },
         "name": "sub-132674_acq-headmotion2_T1w",
         "offsetgroup": "sub-132674_acq-headmotion2_T1w",
         "orientation": "v",
         "pointpos": 0,
         "showlegend": true,
         "type": "box",
         "x": [
          3
         ],
         "x0": " ",
         "xaxis": "x",
         "y": [
          3
         ],
         "y0": " ",
         "yaxis": "y"
        },
        {
         "alignmentgroup": "True",
         "boxpoints": "all",
         "fillcolor": "rgba(255,255,255,0)",
         "hoveron": "points",
         "hovertemplate": "bids_name=sub-132674_acq-standard_T1w<br>condition=%{x}<br>score=%{y}<extra></extra>",
         "legendgroup": "sub-132674_acq-standard_T1w",
         "line": {
          "color": "rgba(255,255,255,0)"
         },
         "marker": {
          "color": "#B6E880"
         },
         "name": "sub-132674_acq-standard_T1w",
         "offsetgroup": "sub-132674_acq-standard_T1w",
         "orientation": "v",
         "pointpos": 0,
         "showlegend": true,
         "type": "box",
         "x": [
          1
         ],
         "x0": " ",
         "xaxis": "x",
         "y": [
          1
         ],
         "y0": " ",
         "yaxis": "y"
        },
        {
         "alignmentgroup": "True",
         "boxpoints": "all",
         "fillcolor": "rgba(255,255,255,0)",
         "hoveron": "points",
         "hovertemplate": "bids_name=sub-136038_acq-headmotion1_T1w<br>condition=%{x}<br>score=%{y}<extra></extra>",
         "legendgroup": "sub-136038_acq-headmotion1_T1w",
         "line": {
          "color": "rgba(255,255,255,0)"
         },
         "marker": {
          "color": "#FF97FF"
         },
         "name": "sub-136038_acq-headmotion1_T1w",
         "offsetgroup": "sub-136038_acq-headmotion1_T1w",
         "orientation": "v",
         "pointpos": 0,
         "showlegend": true,
         "type": "box",
         "x": [
          2
         ],
         "x0": " ",
         "xaxis": "x",
         "y": [
          3
         ],
         "y0": " ",
         "yaxis": "y"
        },
        {
         "alignmentgroup": "True",
         "boxpoints": "all",
         "fillcolor": "rgba(255,255,255,0)",
         "hoveron": "points",
         "hovertemplate": "bids_name=sub-136038_acq-standard_T1w<br>condition=%{x}<br>score=%{y}<extra></extra>",
         "legendgroup": "sub-136038_acq-standard_T1w",
         "line": {
          "color": "rgba(255,255,255,0)"
         },
         "marker": {
          "color": "#FECB52"
         },
         "name": "sub-136038_acq-standard_T1w",
         "offsetgroup": "sub-136038_acq-standard_T1w",
         "orientation": "v",
         "pointpos": 0,
         "showlegend": true,
         "type": "box",
         "x": [
          1
         ],
         "x0": " ",
         "xaxis": "x",
         "y": [
          1
         ],
         "y0": " ",
         "yaxis": "y"
        },
        {
         "alignmentgroup": "True",
         "boxpoints": "all",
         "fillcolor": "rgba(255,255,255,0)",
         "hoveron": "points",
         "hovertemplate": "bids_name=sub-143104_acq-headmotion1_T1w<br>condition=%{x}<br>score=%{y}<extra></extra>",
         "legendgroup": "sub-143104_acq-headmotion1_T1w",
         "line": {
          "color": "rgba(255,255,255,0)"
         },
         "marker": {
          "color": "#636efa"
         },
         "name": "sub-143104_acq-headmotion1_T1w",
         "offsetgroup": "sub-143104_acq-headmotion1_T1w",
         "orientation": "v",
         "pointpos": 0,
         "showlegend": true,
         "type": "box",
         "x": [
          2
         ],
         "x0": " ",
         "xaxis": "x",
         "y": [
          3
         ],
         "y0": " ",
         "yaxis": "y"
        },
        {
         "alignmentgroup": "True",
         "boxpoints": "all",
         "fillcolor": "rgba(255,255,255,0)",
         "hoveron": "points",
         "hovertemplate": "bids_name=sub-143104_acq-headmotion2_T1w<br>condition=%{x}<br>score=%{y}<extra></extra>",
         "legendgroup": "sub-143104_acq-headmotion2_T1w",
         "line": {
          "color": "rgba(255,255,255,0)"
         },
         "marker": {
          "color": "#EF553B"
         },
         "name": "sub-143104_acq-headmotion2_T1w",
         "offsetgroup": "sub-143104_acq-headmotion2_T1w",
         "orientation": "v",
         "pointpos": 0,
         "showlegend": true,
         "type": "box",
         "x": [
          3
         ],
         "x0": " ",
         "xaxis": "x",
         "y": [
          3
         ],
         "y0": " ",
         "yaxis": "y"
        },
        {
         "alignmentgroup": "True",
         "boxpoints": "all",
         "fillcolor": "rgba(255,255,255,0)",
         "hoveron": "points",
         "hovertemplate": "bids_name=sub-143104_acq-standard_T1w<br>condition=%{x}<br>score=%{y}<extra></extra>",
         "legendgroup": "sub-143104_acq-standard_T1w",
         "line": {
          "color": "rgba(255,255,255,0)"
         },
         "marker": {
          "color": "#00cc96"
         },
         "name": "sub-143104_acq-standard_T1w",
         "offsetgroup": "sub-143104_acq-standard_T1w",
         "orientation": "v",
         "pointpos": 0,
         "showlegend": true,
         "type": "box",
         "x": [
          1
         ],
         "x0": " ",
         "xaxis": "x",
         "y": [
          1
         ],
         "y0": " ",
         "yaxis": "y"
        },
        {
         "alignmentgroup": "True",
         "boxpoints": "all",
         "fillcolor": "rgba(255,255,255,0)",
         "hoveron": "points",
         "hovertemplate": "bids_name=sub-149050_acq-headmotion1_T1w<br>condition=%{x}<br>score=%{y}<extra></extra>",
         "legendgroup": "sub-149050_acq-headmotion1_T1w",
         "line": {
          "color": "rgba(255,255,255,0)"
         },
         "marker": {
          "color": "#ab63fa"
         },
         "name": "sub-149050_acq-headmotion1_T1w",
         "offsetgroup": "sub-149050_acq-headmotion1_T1w",
         "orientation": "v",
         "pointpos": 0,
         "showlegend": true,
         "type": "box",
         "x": [
          2
         ],
         "x0": " ",
         "xaxis": "x",
         "y": [
          3
         ],
         "y0": " ",
         "yaxis": "y"
        },
        {
         "alignmentgroup": "True",
         "boxpoints": "all",
         "fillcolor": "rgba(255,255,255,0)",
         "hoveron": "points",
         "hovertemplate": "bids_name=sub-149050_acq-headmotion2_T1w<br>condition=%{x}<br>score=%{y}<extra></extra>",
         "legendgroup": "sub-149050_acq-headmotion2_T1w",
         "line": {
          "color": "rgba(255,255,255,0)"
         },
         "marker": {
          "color": "#FFA15A"
         },
         "name": "sub-149050_acq-headmotion2_T1w",
         "offsetgroup": "sub-149050_acq-headmotion2_T1w",
         "orientation": "v",
         "pointpos": 0,
         "showlegend": true,
         "type": "box",
         "x": [
          3
         ],
         "x0": " ",
         "xaxis": "x",
         "y": [
          3
         ],
         "y0": " ",
         "yaxis": "y"
        },
        {
         "alignmentgroup": "True",
         "boxpoints": "all",
         "fillcolor": "rgba(255,255,255,0)",
         "hoveron": "points",
         "hovertemplate": "bids_name=sub-149050_acq-standard_T1w<br>condition=%{x}<br>score=%{y}<extra></extra>",
         "legendgroup": "sub-149050_acq-standard_T1w",
         "line": {
          "color": "rgba(255,255,255,0)"
         },
         "marker": {
          "color": "#19d3f3"
         },
         "name": "sub-149050_acq-standard_T1w",
         "offsetgroup": "sub-149050_acq-standard_T1w",
         "orientation": "v",
         "pointpos": 0,
         "showlegend": true,
         "type": "box",
         "x": [
          1
         ],
         "x0": " ",
         "xaxis": "x",
         "y": [
          1
         ],
         "y0": " ",
         "yaxis": "y"
        },
        {
         "alignmentgroup": "True",
         "boxpoints": "all",
         "fillcolor": "rgba(255,255,255,0)",
         "hoveron": "points",
         "hovertemplate": "bids_name=sub-152686_acq-headmotion1_T1w<br>condition=%{x}<br>score=%{y}<extra></extra>",
         "legendgroup": "sub-152686_acq-headmotion1_T1w",
         "line": {
          "color": "rgba(255,255,255,0)"
         },
         "marker": {
          "color": "#FF6692"
         },
         "name": "sub-152686_acq-headmotion1_T1w",
         "offsetgroup": "sub-152686_acq-headmotion1_T1w",
         "orientation": "v",
         "pointpos": 0,
         "showlegend": true,
         "type": "box",
         "x": [
          2
         ],
         "x0": " ",
         "xaxis": "x",
         "y": [
          1
         ],
         "y0": " ",
         "yaxis": "y"
        },
        {
         "alignmentgroup": "True",
         "boxpoints": "all",
         "fillcolor": "rgba(255,255,255,0)",
         "hoveron": "points",
         "hovertemplate": "bids_name=sub-152686_acq-headmotion2_T1w<br>condition=%{x}<br>score=%{y}<extra></extra>",
         "legendgroup": "sub-152686_acq-headmotion2_T1w",
         "line": {
          "color": "rgba(255,255,255,0)"
         },
         "marker": {
          "color": "#B6E880"
         },
         "name": "sub-152686_acq-headmotion2_T1w",
         "offsetgroup": "sub-152686_acq-headmotion2_T1w",
         "orientation": "v",
         "pointpos": 0,
         "showlegend": true,
         "type": "box",
         "x": [
          3
         ],
         "x0": " ",
         "xaxis": "x",
         "y": [
          2
         ],
         "y0": " ",
         "yaxis": "y"
        },
        {
         "alignmentgroup": "True",
         "boxpoints": "all",
         "fillcolor": "rgba(255,255,255,0)",
         "hoveron": "points",
         "hovertemplate": "bids_name=sub-152686_acq-standard_T1w<br>condition=%{x}<br>score=%{y}<extra></extra>",
         "legendgroup": "sub-152686_acq-standard_T1w",
         "line": {
          "color": "rgba(255,255,255,0)"
         },
         "marker": {
          "color": "#FF97FF"
         },
         "name": "sub-152686_acq-standard_T1w",
         "offsetgroup": "sub-152686_acq-standard_T1w",
         "orientation": "v",
         "pointpos": 0,
         "showlegend": true,
         "type": "box",
         "x": [
          1
         ],
         "x0": " ",
         "xaxis": "x",
         "y": [
          1
         ],
         "y0": " ",
         "yaxis": "y"
        },
        {
         "alignmentgroup": "True",
         "boxpoints": "all",
         "fillcolor": "rgba(255,255,255,0)",
         "hoveron": "points",
         "hovertemplate": "bids_name=sub-153486_acq-headmotion1_T1w<br>condition=%{x}<br>score=%{y}<extra></extra>",
         "legendgroup": "sub-153486_acq-headmotion1_T1w",
         "line": {
          "color": "rgba(255,255,255,0)"
         },
         "marker": {
          "color": "#FECB52"
         },
         "name": "sub-153486_acq-headmotion1_T1w",
         "offsetgroup": "sub-153486_acq-headmotion1_T1w",
         "orientation": "v",
         "pointpos": 0,
         "showlegend": true,
         "type": "box",
         "x": [
          2
         ],
         "x0": " ",
         "xaxis": "x",
         "y": [
          3
         ],
         "y0": " ",
         "yaxis": "y"
        },
        {
         "alignmentgroup": "True",
         "boxpoints": "all",
         "fillcolor": "rgba(255,255,255,0)",
         "hoveron": "points",
         "hovertemplate": "bids_name=sub-153486_acq-headmotion2_T1w<br>condition=%{x}<br>score=%{y}<extra></extra>",
         "legendgroup": "sub-153486_acq-headmotion2_T1w",
         "line": {
          "color": "rgba(255,255,255,0)"
         },
         "marker": {
          "color": "#636efa"
         },
         "name": "sub-153486_acq-headmotion2_T1w",
         "offsetgroup": "sub-153486_acq-headmotion2_T1w",
         "orientation": "v",
         "pointpos": 0,
         "showlegend": true,
         "type": "box",
         "x": [
          3
         ],
         "x0": " ",
         "xaxis": "x",
         "y": [
          3
         ],
         "y0": " ",
         "yaxis": "y"
        },
        {
         "alignmentgroup": "True",
         "boxpoints": "all",
         "fillcolor": "rgba(255,255,255,0)",
         "hoveron": "points",
         "hovertemplate": "bids_name=sub-153486_acq-standard_T1w<br>condition=%{x}<br>score=%{y}<extra></extra>",
         "legendgroup": "sub-153486_acq-standard_T1w",
         "line": {
          "color": "rgba(255,255,255,0)"
         },
         "marker": {
          "color": "#EF553B"
         },
         "name": "sub-153486_acq-standard_T1w",
         "offsetgroup": "sub-153486_acq-standard_T1w",
         "orientation": "v",
         "pointpos": 0,
         "showlegend": true,
         "type": "box",
         "x": [
          1
         ],
         "x0": " ",
         "xaxis": "x",
         "y": [
          1
         ],
         "y0": " ",
         "yaxis": "y"
        },
        {
         "alignmentgroup": "True",
         "boxpoints": "all",
         "fillcolor": "rgba(255,255,255,0)",
         "hoveron": "points",
         "hovertemplate": "bids_name=sub-169618_acq-headmotion1_T1w<br>condition=%{x}<br>score=%{y}<extra></extra>",
         "legendgroup": "sub-169618_acq-headmotion1_T1w",
         "line": {
          "color": "rgba(255,255,255,0)"
         },
         "marker": {
          "color": "#00cc96"
         },
         "name": "sub-169618_acq-headmotion1_T1w",
         "offsetgroup": "sub-169618_acq-headmotion1_T1w",
         "orientation": "v",
         "pointpos": 0,
         "showlegend": true,
         "type": "box",
         "x": [
          2
         ],
         "x0": " ",
         "xaxis": "x",
         "y": [
          3
         ],
         "y0": " ",
         "yaxis": "y"
        },
        {
         "alignmentgroup": "True",
         "boxpoints": "all",
         "fillcolor": "rgba(255,255,255,0)",
         "hoveron": "points",
         "hovertemplate": "bids_name=sub-169618_acq-headmotion2_T1w<br>condition=%{x}<br>score=%{y}<extra></extra>",
         "legendgroup": "sub-169618_acq-headmotion2_T1w",
         "line": {
          "color": "rgba(255,255,255,0)"
         },
         "marker": {
          "color": "#ab63fa"
         },
         "name": "sub-169618_acq-headmotion2_T1w",
         "offsetgroup": "sub-169618_acq-headmotion2_T1w",
         "orientation": "v",
         "pointpos": 0,
         "showlegend": true,
         "type": "box",
         "x": [
          3
         ],
         "x0": " ",
         "xaxis": "x",
         "y": [
          3
         ],
         "y0": " ",
         "yaxis": "y"
        },
        {
         "alignmentgroup": "True",
         "boxpoints": "all",
         "fillcolor": "rgba(255,255,255,0)",
         "hoveron": "points",
         "hovertemplate": "bids_name=sub-169618_acq-standard_T1w<br>condition=%{x}<br>score=%{y}<extra></extra>",
         "legendgroup": "sub-169618_acq-standard_T1w",
         "line": {
          "color": "rgba(255,255,255,0)"
         },
         "marker": {
          "color": "#FFA15A"
         },
         "name": "sub-169618_acq-standard_T1w",
         "offsetgroup": "sub-169618_acq-standard_T1w",
         "orientation": "v",
         "pointpos": 0,
         "showlegend": true,
         "type": "box",
         "x": [
          1
         ],
         "x0": " ",
         "xaxis": "x",
         "y": [
          1
         ],
         "y0": " ",
         "yaxis": "y"
        },
        {
         "alignmentgroup": "True",
         "boxpoints": "all",
         "fillcolor": "rgba(255,255,255,0)",
         "hoveron": "points",
         "hovertemplate": "bids_name=sub-171967_acq-headmotion1_T1w<br>condition=%{x}<br>score=%{y}<extra></extra>",
         "legendgroup": "sub-171967_acq-headmotion1_T1w",
         "line": {
          "color": "rgba(255,255,255,0)"
         },
         "marker": {
          "color": "#19d3f3"
         },
         "name": "sub-171967_acq-headmotion1_T1w",
         "offsetgroup": "sub-171967_acq-headmotion1_T1w",
         "orientation": "v",
         "pointpos": 0,
         "showlegend": true,
         "type": "box",
         "x": [
          2
         ],
         "x0": " ",
         "xaxis": "x",
         "y": [
          3
         ],
         "y0": " ",
         "yaxis": "y"
        },
        {
         "alignmentgroup": "True",
         "boxpoints": "all",
         "fillcolor": "rgba(255,255,255,0)",
         "hoveron": "points",
         "hovertemplate": "bids_name=sub-171967_acq-headmotion2_T1w<br>condition=%{x}<br>score=%{y}<extra></extra>",
         "legendgroup": "sub-171967_acq-headmotion2_T1w",
         "line": {
          "color": "rgba(255,255,255,0)"
         },
         "marker": {
          "color": "#FF6692"
         },
         "name": "sub-171967_acq-headmotion2_T1w",
         "offsetgroup": "sub-171967_acq-headmotion2_T1w",
         "orientation": "v",
         "pointpos": 0,
         "showlegend": true,
         "type": "box",
         "x": [
          3
         ],
         "x0": " ",
         "xaxis": "x",
         "y": [
          3
         ],
         "y0": " ",
         "yaxis": "y"
        },
        {
         "alignmentgroup": "True",
         "boxpoints": "all",
         "fillcolor": "rgba(255,255,255,0)",
         "hoveron": "points",
         "hovertemplate": "bids_name=sub-171967_acq-standard_T1w<br>condition=%{x}<br>score=%{y}<extra></extra>",
         "legendgroup": "sub-171967_acq-standard_T1w",
         "line": {
          "color": "rgba(255,255,255,0)"
         },
         "marker": {
          "color": "#B6E880"
         },
         "name": "sub-171967_acq-standard_T1w",
         "offsetgroup": "sub-171967_acq-standard_T1w",
         "orientation": "v",
         "pointpos": 0,
         "showlegend": true,
         "type": "box",
         "x": [
          1
         ],
         "x0": " ",
         "xaxis": "x",
         "y": [
          2
         ],
         "y0": " ",
         "yaxis": "y"
        },
        {
         "alignmentgroup": "True",
         "boxpoints": "all",
         "fillcolor": "rgba(255,255,255,0)",
         "hoveron": "points",
         "hovertemplate": "bids_name=sub-177856_acq-headmotion1_T1w<br>condition=%{x}<br>score=%{y}<extra></extra>",
         "legendgroup": "sub-177856_acq-headmotion1_T1w",
         "line": {
          "color": "rgba(255,255,255,0)"
         },
         "marker": {
          "color": "#FF97FF"
         },
         "name": "sub-177856_acq-headmotion1_T1w",
         "offsetgroup": "sub-177856_acq-headmotion1_T1w",
         "orientation": "v",
         "pointpos": 0,
         "showlegend": true,
         "type": "box",
         "x": [
          2
         ],
         "x0": " ",
         "xaxis": "x",
         "y": [
          2
         ],
         "y0": " ",
         "yaxis": "y"
        },
        {
         "alignmentgroup": "True",
         "boxpoints": "all",
         "fillcolor": "rgba(255,255,255,0)",
         "hoveron": "points",
         "hovertemplate": "bids_name=sub-177856_acq-headmotion2_T1w<br>condition=%{x}<br>score=%{y}<extra></extra>",
         "legendgroup": "sub-177856_acq-headmotion2_T1w",
         "line": {
          "color": "rgba(255,255,255,0)"
         },
         "marker": {
          "color": "#FECB52"
         },
         "name": "sub-177856_acq-headmotion2_T1w",
         "offsetgroup": "sub-177856_acq-headmotion2_T1w",
         "orientation": "v",
         "pointpos": 0,
         "showlegend": true,
         "type": "box",
         "x": [
          3
         ],
         "x0": " ",
         "xaxis": "x",
         "y": [
          3
         ],
         "y0": " ",
         "yaxis": "y"
        },
        {
         "alignmentgroup": "True",
         "boxpoints": "all",
         "fillcolor": "rgba(255,255,255,0)",
         "hoveron": "points",
         "hovertemplate": "bids_name=sub-177856_acq-standard_T1w<br>condition=%{x}<br>score=%{y}<extra></extra>",
         "legendgroup": "sub-177856_acq-standard_T1w",
         "line": {
          "color": "rgba(255,255,255,0)"
         },
         "marker": {
          "color": "#636efa"
         },
         "name": "sub-177856_acq-standard_T1w",
         "offsetgroup": "sub-177856_acq-standard_T1w",
         "orientation": "v",
         "pointpos": 0,
         "showlegend": true,
         "type": "box",
         "x": [
          1
         ],
         "x0": " ",
         "xaxis": "x",
         "y": [
          1
         ],
         "y0": " ",
         "yaxis": "y"
        },
        {
         "alignmentgroup": "True",
         "boxpoints": "all",
         "fillcolor": "rgba(255,255,255,0)",
         "hoveron": "points",
         "hovertemplate": "bids_name=sub-182744_acq-headmotion1_T1w<br>condition=%{x}<br>score=%{y}<extra></extra>",
         "legendgroup": "sub-182744_acq-headmotion1_T1w",
         "line": {
          "color": "rgba(255,255,255,0)"
         },
         "marker": {
          "color": "#EF553B"
         },
         "name": "sub-182744_acq-headmotion1_T1w",
         "offsetgroup": "sub-182744_acq-headmotion1_T1w",
         "orientation": "v",
         "pointpos": 0,
         "showlegend": true,
         "type": "box",
         "x": [
          2
         ],
         "x0": " ",
         "xaxis": "x",
         "y": [
          3
         ],
         "y0": " ",
         "yaxis": "y"
        },
        {
         "alignmentgroup": "True",
         "boxpoints": "all",
         "fillcolor": "rgba(255,255,255,0)",
         "hoveron": "points",
         "hovertemplate": "bids_name=sub-182744_acq-headmotion2_T1w<br>condition=%{x}<br>score=%{y}<extra></extra>",
         "legendgroup": "sub-182744_acq-headmotion2_T1w",
         "line": {
          "color": "rgba(255,255,255,0)"
         },
         "marker": {
          "color": "#00cc96"
         },
         "name": "sub-182744_acq-headmotion2_T1w",
         "offsetgroup": "sub-182744_acq-headmotion2_T1w",
         "orientation": "v",
         "pointpos": 0,
         "showlegend": true,
         "type": "box",
         "x": [
          3
         ],
         "x0": " ",
         "xaxis": "x",
         "y": [
          3
         ],
         "y0": " ",
         "yaxis": "y"
        },
        {
         "alignmentgroup": "True",
         "boxpoints": "all",
         "fillcolor": "rgba(255,255,255,0)",
         "hoveron": "points",
         "hovertemplate": "bids_name=sub-182744_acq-standard_T1w<br>condition=%{x}<br>score=%{y}<extra></extra>",
         "legendgroup": "sub-182744_acq-standard_T1w",
         "line": {
          "color": "rgba(255,255,255,0)"
         },
         "marker": {
          "color": "#ab63fa"
         },
         "name": "sub-182744_acq-standard_T1w",
         "offsetgroup": "sub-182744_acq-standard_T1w",
         "orientation": "v",
         "pointpos": 0,
         "showlegend": true,
         "type": "box",
         "x": [
          1
         ],
         "x0": " ",
         "xaxis": "x",
         "y": [
          2
         ],
         "y0": " ",
         "yaxis": "y"
        },
        {
         "alignmentgroup": "True",
         "boxpoints": "all",
         "fillcolor": "rgba(255,255,255,0)",
         "hoveron": "points",
         "hovertemplate": "bids_name=sub-185823_acq-headmotion2_T1w<br>condition=%{x}<br>score=%{y}<extra></extra>",
         "legendgroup": "sub-185823_acq-headmotion2_T1w",
         "line": {
          "color": "rgba(255,255,255,0)"
         },
         "marker": {
          "color": "#FFA15A"
         },
         "name": "sub-185823_acq-headmotion2_T1w",
         "offsetgroup": "sub-185823_acq-headmotion2_T1w",
         "orientation": "v",
         "pointpos": 0,
         "showlegend": true,
         "type": "box",
         "x": [
          3
         ],
         "x0": " ",
         "xaxis": "x",
         "y": [
          3
         ],
         "y0": " ",
         "yaxis": "y"
        },
        {
         "alignmentgroup": "True",
         "boxpoints": "all",
         "fillcolor": "rgba(255,255,255,0)",
         "hoveron": "points",
         "hovertemplate": "bids_name=sub-185823_acq-standard_T1w<br>condition=%{x}<br>score=%{y}<extra></extra>",
         "legendgroup": "sub-185823_acq-standard_T1w",
         "line": {
          "color": "rgba(255,255,255,0)"
         },
         "marker": {
          "color": "#19d3f3"
         },
         "name": "sub-185823_acq-standard_T1w",
         "offsetgroup": "sub-185823_acq-standard_T1w",
         "orientation": "v",
         "pointpos": 0,
         "showlegend": true,
         "type": "box",
         "x": [
          1
         ],
         "x0": " ",
         "xaxis": "x",
         "y": [
          1
         ],
         "y0": " ",
         "yaxis": "y"
        },
        {
         "alignmentgroup": "True",
         "boxpoints": "all",
         "fillcolor": "rgba(255,255,255,0)",
         "hoveron": "points",
         "hovertemplate": "bids_name=sub-195765_acq-headmotion1_T1w<br>condition=%{x}<br>score=%{y}<extra></extra>",
         "legendgroup": "sub-195765_acq-headmotion1_T1w",
         "line": {
          "color": "rgba(255,255,255,0)"
         },
         "marker": {
          "color": "#FF6692"
         },
         "name": "sub-195765_acq-headmotion1_T1w",
         "offsetgroup": "sub-195765_acq-headmotion1_T1w",
         "orientation": "v",
         "pointpos": 0,
         "showlegend": true,
         "type": "box",
         "x": [
          2
         ],
         "x0": " ",
         "xaxis": "x",
         "y": [
          3
         ],
         "y0": " ",
         "yaxis": "y"
        },
        {
         "alignmentgroup": "True",
         "boxpoints": "all",
         "fillcolor": "rgba(255,255,255,0)",
         "hoveron": "points",
         "hovertemplate": "bids_name=sub-195765_acq-headmotion2_T1w<br>condition=%{x}<br>score=%{y}<extra></extra>",
         "legendgroup": "sub-195765_acq-headmotion2_T1w",
         "line": {
          "color": "rgba(255,255,255,0)"
         },
         "marker": {
          "color": "#B6E880"
         },
         "name": "sub-195765_acq-headmotion2_T1w",
         "offsetgroup": "sub-195765_acq-headmotion2_T1w",
         "orientation": "v",
         "pointpos": 0,
         "showlegend": true,
         "type": "box",
         "x": [
          3
         ],
         "x0": " ",
         "xaxis": "x",
         "y": [
          3
         ],
         "y0": " ",
         "yaxis": "y"
        },
        {
         "alignmentgroup": "True",
         "boxpoints": "all",
         "fillcolor": "rgba(255,255,255,0)",
         "hoveron": "points",
         "hovertemplate": "bids_name=sub-195765_acq-standard_T1w<br>condition=%{x}<br>score=%{y}<extra></extra>",
         "legendgroup": "sub-195765_acq-standard_T1w",
         "line": {
          "color": "rgba(255,255,255,0)"
         },
         "marker": {
          "color": "#FF97FF"
         },
         "name": "sub-195765_acq-standard_T1w",
         "offsetgroup": "sub-195765_acq-standard_T1w",
         "orientation": "v",
         "pointpos": 0,
         "showlegend": true,
         "type": "box",
         "x": [
          1
         ],
         "x0": " ",
         "xaxis": "x",
         "y": [
          1
         ],
         "y0": " ",
         "yaxis": "y"
        },
        {
         "alignmentgroup": "True",
         "boxpoints": "all",
         "fillcolor": "rgba(255,255,255,0)",
         "hoveron": "points",
         "hovertemplate": "bids_name=sub-196711_acq-headmotion1_T1w<br>condition=%{x}<br>score=%{y}<extra></extra>",
         "legendgroup": "sub-196711_acq-headmotion1_T1w",
         "line": {
          "color": "rgba(255,255,255,0)"
         },
         "marker": {
          "color": "#FECB52"
         },
         "name": "sub-196711_acq-headmotion1_T1w",
         "offsetgroup": "sub-196711_acq-headmotion1_T1w",
         "orientation": "v",
         "pointpos": 0,
         "showlegend": true,
         "type": "box",
         "x": [
          2
         ],
         "x0": " ",
         "xaxis": "x",
         "y": [
          2
         ],
         "y0": " ",
         "yaxis": "y"
        },
        {
         "alignmentgroup": "True",
         "boxpoints": "all",
         "fillcolor": "rgba(255,255,255,0)",
         "hoveron": "points",
         "hovertemplate": "bids_name=sub-196711_acq-headmotion2_T1w<br>condition=%{x}<br>score=%{y}<extra></extra>",
         "legendgroup": "sub-196711_acq-headmotion2_T1w",
         "line": {
          "color": "rgba(255,255,255,0)"
         },
         "marker": {
          "color": "#636efa"
         },
         "name": "sub-196711_acq-headmotion2_T1w",
         "offsetgroup": "sub-196711_acq-headmotion2_T1w",
         "orientation": "v",
         "pointpos": 0,
         "showlegend": true,
         "type": "box",
         "x": [
          3
         ],
         "x0": " ",
         "xaxis": "x",
         "y": [
          3
         ],
         "y0": " ",
         "yaxis": "y"
        },
        {
         "alignmentgroup": "True",
         "boxpoints": "all",
         "fillcolor": "rgba(255,255,255,0)",
         "hoveron": "points",
         "hovertemplate": "bids_name=sub-196711_acq-standard_T1w<br>condition=%{x}<br>score=%{y}<extra></extra>",
         "legendgroup": "sub-196711_acq-standard_T1w",
         "line": {
          "color": "rgba(255,255,255,0)"
         },
         "marker": {
          "color": "#EF553B"
         },
         "name": "sub-196711_acq-standard_T1w",
         "offsetgroup": "sub-196711_acq-standard_T1w",
         "orientation": "v",
         "pointpos": 0,
         "showlegend": true,
         "type": "box",
         "x": [
          1
         ],
         "x0": " ",
         "xaxis": "x",
         "y": [
          1
         ],
         "y0": " ",
         "yaxis": "y"
        },
        {
         "alignmentgroup": "True",
         "boxpoints": "all",
         "fillcolor": "rgba(255,255,255,0)",
         "hoveron": "points",
         "hovertemplate": "bids_name=sub-212152_acq-headmotion1_T1w<br>condition=%{x}<br>score=%{y}<extra></extra>",
         "legendgroup": "sub-212152_acq-headmotion1_T1w",
         "line": {
          "color": "rgba(255,255,255,0)"
         },
         "marker": {
          "color": "#00cc96"
         },
         "name": "sub-212152_acq-headmotion1_T1w",
         "offsetgroup": "sub-212152_acq-headmotion1_T1w",
         "orientation": "v",
         "pointpos": 0,
         "showlegend": true,
         "type": "box",
         "x": [
          2
         ],
         "x0": " ",
         "xaxis": "x",
         "y": [
          3
         ],
         "y0": " ",
         "yaxis": "y"
        },
        {
         "alignmentgroup": "True",
         "boxpoints": "all",
         "fillcolor": "rgba(255,255,255,0)",
         "hoveron": "points",
         "hovertemplate": "bids_name=sub-212152_acq-headmotion2_T1w<br>condition=%{x}<br>score=%{y}<extra></extra>",
         "legendgroup": "sub-212152_acq-headmotion2_T1w",
         "line": {
          "color": "rgba(255,255,255,0)"
         },
         "marker": {
          "color": "#ab63fa"
         },
         "name": "sub-212152_acq-headmotion2_T1w",
         "offsetgroup": "sub-212152_acq-headmotion2_T1w",
         "orientation": "v",
         "pointpos": 0,
         "showlegend": true,
         "type": "box",
         "x": [
          3
         ],
         "x0": " ",
         "xaxis": "x",
         "y": [
          3
         ],
         "y0": " ",
         "yaxis": "y"
        },
        {
         "alignmentgroup": "True",
         "boxpoints": "all",
         "fillcolor": "rgba(255,255,255,0)",
         "hoveron": "points",
         "hovertemplate": "bids_name=sub-212152_acq-standard_T1w<br>condition=%{x}<br>score=%{y}<extra></extra>",
         "legendgroup": "sub-212152_acq-standard_T1w",
         "line": {
          "color": "rgba(255,255,255,0)"
         },
         "marker": {
          "color": "#FFA15A"
         },
         "name": "sub-212152_acq-standard_T1w",
         "offsetgroup": "sub-212152_acq-standard_T1w",
         "orientation": "v",
         "pointpos": 0,
         "showlegend": true,
         "type": "box",
         "x": [
          1
         ],
         "x0": " ",
         "xaxis": "x",
         "y": [
          1
         ],
         "y0": " ",
         "yaxis": "y"
        },
        {
         "alignmentgroup": "True",
         "boxpoints": "all",
         "fillcolor": "rgba(255,255,255,0)",
         "hoveron": "points",
         "hovertemplate": "bids_name=sub-217720_acq-headmotion1_T1w<br>condition=%{x}<br>score=%{y}<extra></extra>",
         "legendgroup": "sub-217720_acq-headmotion1_T1w",
         "line": {
          "color": "rgba(255,255,255,0)"
         },
         "marker": {
          "color": "#19d3f3"
         },
         "name": "sub-217720_acq-headmotion1_T1w",
         "offsetgroup": "sub-217720_acq-headmotion1_T1w",
         "orientation": "v",
         "pointpos": 0,
         "showlegend": true,
         "type": "box",
         "x": [
          2
         ],
         "x0": " ",
         "xaxis": "x",
         "y": [
          2
         ],
         "y0": " ",
         "yaxis": "y"
        },
        {
         "alignmentgroup": "True",
         "boxpoints": "all",
         "fillcolor": "rgba(255,255,255,0)",
         "hoveron": "points",
         "hovertemplate": "bids_name=sub-217720_acq-headmotion2_T1w<br>condition=%{x}<br>score=%{y}<extra></extra>",
         "legendgroup": "sub-217720_acq-headmotion2_T1w",
         "line": {
          "color": "rgba(255,255,255,0)"
         },
         "marker": {
          "color": "#FF6692"
         },
         "name": "sub-217720_acq-headmotion2_T1w",
         "offsetgroup": "sub-217720_acq-headmotion2_T1w",
         "orientation": "v",
         "pointpos": 0,
         "showlegend": true,
         "type": "box",
         "x": [
          3
         ],
         "x0": " ",
         "xaxis": "x",
         "y": [
          2
         ],
         "y0": " ",
         "yaxis": "y"
        },
        {
         "alignmentgroup": "True",
         "boxpoints": "all",
         "fillcolor": "rgba(255,255,255,0)",
         "hoveron": "points",
         "hovertemplate": "bids_name=sub-217720_acq-standard_T1w<br>condition=%{x}<br>score=%{y}<extra></extra>",
         "legendgroup": "sub-217720_acq-standard_T1w",
         "line": {
          "color": "rgba(255,255,255,0)"
         },
         "marker": {
          "color": "#B6E880"
         },
         "name": "sub-217720_acq-standard_T1w",
         "offsetgroup": "sub-217720_acq-standard_T1w",
         "orientation": "v",
         "pointpos": 0,
         "showlegend": true,
         "type": "box",
         "x": [
          1
         ],
         "x0": " ",
         "xaxis": "x",
         "y": [
          1
         ],
         "y0": " ",
         "yaxis": "y"
        },
        {
         "alignmentgroup": "True",
         "boxpoints": "all",
         "fillcolor": "rgba(255,255,255,0)",
         "hoveron": "points",
         "hovertemplate": "bids_name=sub-219843_acq-headmotion1_T1w<br>condition=%{x}<br>score=%{y}<extra></extra>",
         "legendgroup": "sub-219843_acq-headmotion1_T1w",
         "line": {
          "color": "rgba(255,255,255,0)"
         },
         "marker": {
          "color": "#FF97FF"
         },
         "name": "sub-219843_acq-headmotion1_T1w",
         "offsetgroup": "sub-219843_acq-headmotion1_T1w",
         "orientation": "v",
         "pointpos": 0,
         "showlegend": true,
         "type": "box",
         "x": [
          2
         ],
         "x0": " ",
         "xaxis": "x",
         "y": [
          2
         ],
         "y0": " ",
         "yaxis": "y"
        },
        {
         "alignmentgroup": "True",
         "boxpoints": "all",
         "fillcolor": "rgba(255,255,255,0)",
         "hoveron": "points",
         "hovertemplate": "bids_name=sub-219843_acq-headmotion2_T1w<br>condition=%{x}<br>score=%{y}<extra></extra>",
         "legendgroup": "sub-219843_acq-headmotion2_T1w",
         "line": {
          "color": "rgba(255,255,255,0)"
         },
         "marker": {
          "color": "#FECB52"
         },
         "name": "sub-219843_acq-headmotion2_T1w",
         "offsetgroup": "sub-219843_acq-headmotion2_T1w",
         "orientation": "v",
         "pointpos": 0,
         "showlegend": true,
         "type": "box",
         "x": [
          3
         ],
         "x0": " ",
         "xaxis": "x",
         "y": [
          3
         ],
         "y0": " ",
         "yaxis": "y"
        },
        {
         "alignmentgroup": "True",
         "boxpoints": "all",
         "fillcolor": "rgba(255,255,255,0)",
         "hoveron": "points",
         "hovertemplate": "bids_name=sub-219843_acq-standard_T1w<br>condition=%{x}<br>score=%{y}<extra></extra>",
         "legendgroup": "sub-219843_acq-standard_T1w",
         "line": {
          "color": "rgba(255,255,255,0)"
         },
         "marker": {
          "color": "#636efa"
         },
         "name": "sub-219843_acq-standard_T1w",
         "offsetgroup": "sub-219843_acq-standard_T1w",
         "orientation": "v",
         "pointpos": 0,
         "showlegend": true,
         "type": "box",
         "x": [
          1
         ],
         "x0": " ",
         "xaxis": "x",
         "y": [
          1
         ],
         "y0": " ",
         "yaxis": "y"
        },
        {
         "alignmentgroup": "True",
         "boxpoints": "all",
         "fillcolor": "rgba(255,255,255,0)",
         "hoveron": "points",
         "hovertemplate": "bids_name=sub-228373_acq-headmotion1_T1w<br>condition=%{x}<br>score=%{y}<extra></extra>",
         "legendgroup": "sub-228373_acq-headmotion1_T1w",
         "line": {
          "color": "rgba(255,255,255,0)"
         },
         "marker": {
          "color": "#EF553B"
         },
         "name": "sub-228373_acq-headmotion1_T1w",
         "offsetgroup": "sub-228373_acq-headmotion1_T1w",
         "orientation": "v",
         "pointpos": 0,
         "showlegend": true,
         "type": "box",
         "x": [
          2
         ],
         "x0": " ",
         "xaxis": "x",
         "y": [
          3
         ],
         "y0": " ",
         "yaxis": "y"
        },
        {
         "alignmentgroup": "True",
         "boxpoints": "all",
         "fillcolor": "rgba(255,255,255,0)",
         "hoveron": "points",
         "hovertemplate": "bids_name=sub-228373_acq-headmotion2_T1w<br>condition=%{x}<br>score=%{y}<extra></extra>",
         "legendgroup": "sub-228373_acq-headmotion2_T1w",
         "line": {
          "color": "rgba(255,255,255,0)"
         },
         "marker": {
          "color": "#00cc96"
         },
         "name": "sub-228373_acq-headmotion2_T1w",
         "offsetgroup": "sub-228373_acq-headmotion2_T1w",
         "orientation": "v",
         "pointpos": 0,
         "showlegend": true,
         "type": "box",
         "x": [
          3
         ],
         "x0": " ",
         "xaxis": "x",
         "y": [
          3
         ],
         "y0": " ",
         "yaxis": "y"
        },
        {
         "alignmentgroup": "True",
         "boxpoints": "all",
         "fillcolor": "rgba(255,255,255,0)",
         "hoveron": "points",
         "hovertemplate": "bids_name=sub-228373_acq-standard_T1w<br>condition=%{x}<br>score=%{y}<extra></extra>",
         "legendgroup": "sub-228373_acq-standard_T1w",
         "line": {
          "color": "rgba(255,255,255,0)"
         },
         "marker": {
          "color": "#ab63fa"
         },
         "name": "sub-228373_acq-standard_T1w",
         "offsetgroup": "sub-228373_acq-standard_T1w",
         "orientation": "v",
         "pointpos": 0,
         "showlegend": true,
         "type": "box",
         "x": [
          1
         ],
         "x0": " ",
         "xaxis": "x",
         "y": [
          1
         ],
         "y0": " ",
         "yaxis": "y"
        },
        {
         "alignmentgroup": "True",
         "boxpoints": "all",
         "fillcolor": "rgba(255,255,255,0)",
         "hoveron": "points",
         "hovertemplate": "bids_name=sub-253306_acq-headmotion1_T1w<br>condition=%{x}<br>score=%{y}<extra></extra>",
         "legendgroup": "sub-253306_acq-headmotion1_T1w",
         "line": {
          "color": "rgba(255,255,255,0)"
         },
         "marker": {
          "color": "#FFA15A"
         },
         "name": "sub-253306_acq-headmotion1_T1w",
         "offsetgroup": "sub-253306_acq-headmotion1_T1w",
         "orientation": "v",
         "pointpos": 0,
         "showlegend": true,
         "type": "box",
         "x": [
          2
         ],
         "x0": " ",
         "xaxis": "x",
         "y": [
          2
         ],
         "y0": " ",
         "yaxis": "y"
        },
        {
         "alignmentgroup": "True",
         "boxpoints": "all",
         "fillcolor": "rgba(255,255,255,0)",
         "hoveron": "points",
         "hovertemplate": "bids_name=sub-253306_acq-headmotion2_T1w<br>condition=%{x}<br>score=%{y}<extra></extra>",
         "legendgroup": "sub-253306_acq-headmotion2_T1w",
         "line": {
          "color": "rgba(255,255,255,0)"
         },
         "marker": {
          "color": "#19d3f3"
         },
         "name": "sub-253306_acq-headmotion2_T1w",
         "offsetgroup": "sub-253306_acq-headmotion2_T1w",
         "orientation": "v",
         "pointpos": 0,
         "showlegend": true,
         "type": "box",
         "x": [
          3
         ],
         "x0": " ",
         "xaxis": "x",
         "y": [
          3
         ],
         "y0": " ",
         "yaxis": "y"
        },
        {
         "alignmentgroup": "True",
         "boxpoints": "all",
         "fillcolor": "rgba(255,255,255,0)",
         "hoveron": "points",
         "hovertemplate": "bids_name=sub-253306_acq-standard_T1w<br>condition=%{x}<br>score=%{y}<extra></extra>",
         "legendgroup": "sub-253306_acq-standard_T1w",
         "line": {
          "color": "rgba(255,255,255,0)"
         },
         "marker": {
          "color": "#FF6692"
         },
         "name": "sub-253306_acq-standard_T1w",
         "offsetgroup": "sub-253306_acq-standard_T1w",
         "orientation": "v",
         "pointpos": 0,
         "showlegend": true,
         "type": "box",
         "x": [
          1
         ],
         "x0": " ",
         "xaxis": "x",
         "y": [
          1
         ],
         "y0": " ",
         "yaxis": "y"
        },
        {
         "alignmentgroup": "True",
         "boxpoints": "all",
         "fillcolor": "rgba(255,255,255,0)",
         "hoveron": "points",
         "hovertemplate": "bids_name=sub-253493_acq-headmotion1_T1w<br>condition=%{x}<br>score=%{y}<extra></extra>",
         "legendgroup": "sub-253493_acq-headmotion1_T1w",
         "line": {
          "color": "rgba(255,255,255,0)"
         },
         "marker": {
          "color": "#B6E880"
         },
         "name": "sub-253493_acq-headmotion1_T1w",
         "offsetgroup": "sub-253493_acq-headmotion1_T1w",
         "orientation": "v",
         "pointpos": 0,
         "showlegend": true,
         "type": "box",
         "x": [
          2
         ],
         "x0": " ",
         "xaxis": "x",
         "y": [
          2
         ],
         "y0": " ",
         "yaxis": "y"
        },
        {
         "alignmentgroup": "True",
         "boxpoints": "all",
         "fillcolor": "rgba(255,255,255,0)",
         "hoveron": "points",
         "hovertemplate": "bids_name=sub-253493_acq-headmotion2_T1w<br>condition=%{x}<br>score=%{y}<extra></extra>",
         "legendgroup": "sub-253493_acq-headmotion2_T1w",
         "line": {
          "color": "rgba(255,255,255,0)"
         },
         "marker": {
          "color": "#FF97FF"
         },
         "name": "sub-253493_acq-headmotion2_T1w",
         "offsetgroup": "sub-253493_acq-headmotion2_T1w",
         "orientation": "v",
         "pointpos": 0,
         "showlegend": true,
         "type": "box",
         "x": [
          3
         ],
         "x0": " ",
         "xaxis": "x",
         "y": [
          1
         ],
         "y0": " ",
         "yaxis": "y"
        },
        {
         "alignmentgroup": "True",
         "boxpoints": "all",
         "fillcolor": "rgba(255,255,255,0)",
         "hoveron": "points",
         "hovertemplate": "bids_name=sub-253493_acq-standard_T1w<br>condition=%{x}<br>score=%{y}<extra></extra>",
         "legendgroup": "sub-253493_acq-standard_T1w",
         "line": {
          "color": "rgba(255,255,255,0)"
         },
         "marker": {
          "color": "#FECB52"
         },
         "name": "sub-253493_acq-standard_T1w",
         "offsetgroup": "sub-253493_acq-standard_T1w",
         "orientation": "v",
         "pointpos": 0,
         "showlegend": true,
         "type": "box",
         "x": [
          1
         ],
         "x0": " ",
         "xaxis": "x",
         "y": [
          1
         ],
         "y0": " ",
         "yaxis": "y"
        },
        {
         "alignmentgroup": "True",
         "boxpoints": "all",
         "fillcolor": "rgba(255,255,255,0)",
         "hoveron": "points",
         "hovertemplate": "bids_name=sub-257563_acq-headmotion1_T1w<br>condition=%{x}<br>score=%{y}<extra></extra>",
         "legendgroup": "sub-257563_acq-headmotion1_T1w",
         "line": {
          "color": "rgba(255,255,255,0)"
         },
         "marker": {
          "color": "#636efa"
         },
         "name": "sub-257563_acq-headmotion1_T1w",
         "offsetgroup": "sub-257563_acq-headmotion1_T1w",
         "orientation": "v",
         "pointpos": 0,
         "showlegend": true,
         "type": "box",
         "x": [
          2
         ],
         "x0": " ",
         "xaxis": "x",
         "y": [
          2
         ],
         "y0": " ",
         "yaxis": "y"
        },
        {
         "alignmentgroup": "True",
         "boxpoints": "all",
         "fillcolor": "rgba(255,255,255,0)",
         "hoveron": "points",
         "hovertemplate": "bids_name=sub-257563_acq-headmotion2_T1w<br>condition=%{x}<br>score=%{y}<extra></extra>",
         "legendgroup": "sub-257563_acq-headmotion2_T1w",
         "line": {
          "color": "rgba(255,255,255,0)"
         },
         "marker": {
          "color": "#EF553B"
         },
         "name": "sub-257563_acq-headmotion2_T1w",
         "offsetgroup": "sub-257563_acq-headmotion2_T1w",
         "orientation": "v",
         "pointpos": 0,
         "showlegend": true,
         "type": "box",
         "x": [
          3
         ],
         "x0": " ",
         "xaxis": "x",
         "y": [
          1
         ],
         "y0": " ",
         "yaxis": "y"
        },
        {
         "alignmentgroup": "True",
         "boxpoints": "all",
         "fillcolor": "rgba(255,255,255,0)",
         "hoveron": "points",
         "hovertemplate": "bids_name=sub-257563_acq-standard_T1w<br>condition=%{x}<br>score=%{y}<extra></extra>",
         "legendgroup": "sub-257563_acq-standard_T1w",
         "line": {
          "color": "rgba(255,255,255,0)"
         },
         "marker": {
          "color": "#00cc96"
         },
         "name": "sub-257563_acq-standard_T1w",
         "offsetgroup": "sub-257563_acq-standard_T1w",
         "orientation": "v",
         "pointpos": 0,
         "showlegend": true,
         "type": "box",
         "x": [
          1
         ],
         "x0": " ",
         "xaxis": "x",
         "y": [
          1
         ],
         "y0": " ",
         "yaxis": "y"
        },
        {
         "alignmentgroup": "True",
         "boxpoints": "all",
         "fillcolor": "rgba(255,255,255,0)",
         "hoveron": "points",
         "hovertemplate": "bids_name=sub-258056_acq-headmotion1_T1w<br>condition=%{x}<br>score=%{y}<extra></extra>",
         "legendgroup": "sub-258056_acq-headmotion1_T1w",
         "line": {
          "color": "rgba(255,255,255,0)"
         },
         "marker": {
          "color": "#ab63fa"
         },
         "name": "sub-258056_acq-headmotion1_T1w",
         "offsetgroup": "sub-258056_acq-headmotion1_T1w",
         "orientation": "v",
         "pointpos": 0,
         "showlegend": true,
         "type": "box",
         "x": [
          2
         ],
         "x0": " ",
         "xaxis": "x",
         "y": [
          3
         ],
         "y0": " ",
         "yaxis": "y"
        },
        {
         "alignmentgroup": "True",
         "boxpoints": "all",
         "fillcolor": "rgba(255,255,255,0)",
         "hoveron": "points",
         "hovertemplate": "bids_name=sub-258056_acq-headmotion2_T1w<br>condition=%{x}<br>score=%{y}<extra></extra>",
         "legendgroup": "sub-258056_acq-headmotion2_T1w",
         "line": {
          "color": "rgba(255,255,255,0)"
         },
         "marker": {
          "color": "#FFA15A"
         },
         "name": "sub-258056_acq-headmotion2_T1w",
         "offsetgroup": "sub-258056_acq-headmotion2_T1w",
         "orientation": "v",
         "pointpos": 0,
         "showlegend": true,
         "type": "box",
         "x": [
          3
         ],
         "x0": " ",
         "xaxis": "x",
         "y": [
          3
         ],
         "y0": " ",
         "yaxis": "y"
        },
        {
         "alignmentgroup": "True",
         "boxpoints": "all",
         "fillcolor": "rgba(255,255,255,0)",
         "hoveron": "points",
         "hovertemplate": "bids_name=sub-258056_acq-standard_T1w<br>condition=%{x}<br>score=%{y}<extra></extra>",
         "legendgroup": "sub-258056_acq-standard_T1w",
         "line": {
          "color": "rgba(255,255,255,0)"
         },
         "marker": {
          "color": "#19d3f3"
         },
         "name": "sub-258056_acq-standard_T1w",
         "offsetgroup": "sub-258056_acq-standard_T1w",
         "orientation": "v",
         "pointpos": 0,
         "showlegend": true,
         "type": "box",
         "x": [
          1
         ],
         "x0": " ",
         "xaxis": "x",
         "y": [
          1
         ],
         "y0": " ",
         "yaxis": "y"
        },
        {
         "alignmentgroup": "True",
         "boxpoints": "all",
         "fillcolor": "rgba(255,255,255,0)",
         "hoveron": "points",
         "hovertemplate": "bids_name=sub-261051_acq-headmotion1_T1w<br>condition=%{x}<br>score=%{y}<extra></extra>",
         "legendgroup": "sub-261051_acq-headmotion1_T1w",
         "line": {
          "color": "rgba(255,255,255,0)"
         },
         "marker": {
          "color": "#FF6692"
         },
         "name": "sub-261051_acq-headmotion1_T1w",
         "offsetgroup": "sub-261051_acq-headmotion1_T1w",
         "orientation": "v",
         "pointpos": 0,
         "showlegend": true,
         "type": "box",
         "x": [
          2
         ],
         "x0": " ",
         "xaxis": "x",
         "y": [
          3
         ],
         "y0": " ",
         "yaxis": "y"
        },
        {
         "alignmentgroup": "True",
         "boxpoints": "all",
         "fillcolor": "rgba(255,255,255,0)",
         "hoveron": "points",
         "hovertemplate": "bids_name=sub-261051_acq-headmotion2_T1w<br>condition=%{x}<br>score=%{y}<extra></extra>",
         "legendgroup": "sub-261051_acq-headmotion2_T1w",
         "line": {
          "color": "rgba(255,255,255,0)"
         },
         "marker": {
          "color": "#B6E880"
         },
         "name": "sub-261051_acq-headmotion2_T1w",
         "offsetgroup": "sub-261051_acq-headmotion2_T1w",
         "orientation": "v",
         "pointpos": 0,
         "showlegend": true,
         "type": "box",
         "x": [
          3
         ],
         "x0": " ",
         "xaxis": "x",
         "y": [
          3
         ],
         "y0": " ",
         "yaxis": "y"
        },
        {
         "alignmentgroup": "True",
         "boxpoints": "all",
         "fillcolor": "rgba(255,255,255,0)",
         "hoveron": "points",
         "hovertemplate": "bids_name=sub-261051_acq-standard_T1w<br>condition=%{x}<br>score=%{y}<extra></extra>",
         "legendgroup": "sub-261051_acq-standard_T1w",
         "line": {
          "color": "rgba(255,255,255,0)"
         },
         "marker": {
          "color": "#FF97FF"
         },
         "name": "sub-261051_acq-standard_T1w",
         "offsetgroup": "sub-261051_acq-standard_T1w",
         "orientation": "v",
         "pointpos": 0,
         "showlegend": true,
         "type": "box",
         "x": [
          1
         ],
         "x0": " ",
         "xaxis": "x",
         "y": [
          2
         ],
         "y0": " ",
         "yaxis": "y"
        },
        {
         "alignmentgroup": "True",
         "boxpoints": "all",
         "fillcolor": "rgba(255,255,255,0)",
         "hoveron": "points",
         "hovertemplate": "bids_name=sub-262577_acq-headmotion1_T1w<br>condition=%{x}<br>score=%{y}<extra></extra>",
         "legendgroup": "sub-262577_acq-headmotion1_T1w",
         "line": {
          "color": "rgba(255,255,255,0)"
         },
         "marker": {
          "color": "#FECB52"
         },
         "name": "sub-262577_acq-headmotion1_T1w",
         "offsetgroup": "sub-262577_acq-headmotion1_T1w",
         "orientation": "v",
         "pointpos": 0,
         "showlegend": true,
         "type": "box",
         "x": [
          2
         ],
         "x0": " ",
         "xaxis": "x",
         "y": [
          3
         ],
         "y0": " ",
         "yaxis": "y"
        },
        {
         "alignmentgroup": "True",
         "boxpoints": "all",
         "fillcolor": "rgba(255,255,255,0)",
         "hoveron": "points",
         "hovertemplate": "bids_name=sub-262577_acq-headmotion2_T1w<br>condition=%{x}<br>score=%{y}<extra></extra>",
         "legendgroup": "sub-262577_acq-headmotion2_T1w",
         "line": {
          "color": "rgba(255,255,255,0)"
         },
         "marker": {
          "color": "#636efa"
         },
         "name": "sub-262577_acq-headmotion2_T1w",
         "offsetgroup": "sub-262577_acq-headmotion2_T1w",
         "orientation": "v",
         "pointpos": 0,
         "showlegend": true,
         "type": "box",
         "x": [
          3
         ],
         "x0": " ",
         "xaxis": "x",
         "y": [
          3
         ],
         "y0": " ",
         "yaxis": "y"
        },
        {
         "alignmentgroup": "True",
         "boxpoints": "all",
         "fillcolor": "rgba(255,255,255,0)",
         "hoveron": "points",
         "hovertemplate": "bids_name=sub-262577_acq-standard_T1w<br>condition=%{x}<br>score=%{y}<extra></extra>",
         "legendgroup": "sub-262577_acq-standard_T1w",
         "line": {
          "color": "rgba(255,255,255,0)"
         },
         "marker": {
          "color": "#EF553B"
         },
         "name": "sub-262577_acq-standard_T1w",
         "offsetgroup": "sub-262577_acq-standard_T1w",
         "orientation": "v",
         "pointpos": 0,
         "showlegend": true,
         "type": "box",
         "x": [
          1
         ],
         "x0": " ",
         "xaxis": "x",
         "y": [
          1
         ],
         "y0": " ",
         "yaxis": "y"
        },
        {
         "alignmentgroup": "True",
         "boxpoints": "all",
         "fillcolor": "rgba(255,255,255,0)",
         "hoveron": "points",
         "hovertemplate": "bids_name=sub-275147_acq-headmotion1_T1w<br>condition=%{x}<br>score=%{y}<extra></extra>",
         "legendgroup": "sub-275147_acq-headmotion1_T1w",
         "line": {
          "color": "rgba(255,255,255,0)"
         },
         "marker": {
          "color": "#00cc96"
         },
         "name": "sub-275147_acq-headmotion1_T1w",
         "offsetgroup": "sub-275147_acq-headmotion1_T1w",
         "orientation": "v",
         "pointpos": 0,
         "showlegend": true,
         "type": "box",
         "x": [
          2
         ],
         "x0": " ",
         "xaxis": "x",
         "y": [
          3
         ],
         "y0": " ",
         "yaxis": "y"
        },
        {
         "alignmentgroup": "True",
         "boxpoints": "all",
         "fillcolor": "rgba(255,255,255,0)",
         "hoveron": "points",
         "hovertemplate": "bids_name=sub-275147_acq-headmotion2_T1w<br>condition=%{x}<br>score=%{y}<extra></extra>",
         "legendgroup": "sub-275147_acq-headmotion2_T1w",
         "line": {
          "color": "rgba(255,255,255,0)"
         },
         "marker": {
          "color": "#ab63fa"
         },
         "name": "sub-275147_acq-headmotion2_T1w",
         "offsetgroup": "sub-275147_acq-headmotion2_T1w",
         "orientation": "v",
         "pointpos": 0,
         "showlegend": true,
         "type": "box",
         "x": [
          3
         ],
         "x0": " ",
         "xaxis": "x",
         "y": [
          3
         ],
         "y0": " ",
         "yaxis": "y"
        },
        {
         "alignmentgroup": "True",
         "boxpoints": "all",
         "fillcolor": "rgba(255,255,255,0)",
         "hoveron": "points",
         "hovertemplate": "bids_name=sub-275147_acq-standard_T1w<br>condition=%{x}<br>score=%{y}<extra></extra>",
         "legendgroup": "sub-275147_acq-standard_T1w",
         "line": {
          "color": "rgba(255,255,255,0)"
         },
         "marker": {
          "color": "#FFA15A"
         },
         "name": "sub-275147_acq-standard_T1w",
         "offsetgroup": "sub-275147_acq-standard_T1w",
         "orientation": "v",
         "pointpos": 0,
         "showlegend": true,
         "type": "box",
         "x": [
          1
         ],
         "x0": " ",
         "xaxis": "x",
         "y": [
          2
         ],
         "y0": " ",
         "yaxis": "y"
        },
        {
         "alignmentgroup": "True",
         "boxpoints": "all",
         "fillcolor": "rgba(255,255,255,0)",
         "hoveron": "points",
         "hovertemplate": "bids_name=sub-275211_acq-headmotion1_T1w<br>condition=%{x}<br>score=%{y}<extra></extra>",
         "legendgroup": "sub-275211_acq-headmotion1_T1w",
         "line": {
          "color": "rgba(255,255,255,0)"
         },
         "marker": {
          "color": "#19d3f3"
         },
         "name": "sub-275211_acq-headmotion1_T1w",
         "offsetgroup": "sub-275211_acq-headmotion1_T1w",
         "orientation": "v",
         "pointpos": 0,
         "showlegend": true,
         "type": "box",
         "x": [
          2
         ],
         "x0": " ",
         "xaxis": "x",
         "y": [
          3
         ],
         "y0": " ",
         "yaxis": "y"
        },
        {
         "alignmentgroup": "True",
         "boxpoints": "all",
         "fillcolor": "rgba(255,255,255,0)",
         "hoveron": "points",
         "hovertemplate": "bids_name=sub-275211_acq-headmotion2_T1w<br>condition=%{x}<br>score=%{y}<extra></extra>",
         "legendgroup": "sub-275211_acq-headmotion2_T1w",
         "line": {
          "color": "rgba(255,255,255,0)"
         },
         "marker": {
          "color": "#FF6692"
         },
         "name": "sub-275211_acq-headmotion2_T1w",
         "offsetgroup": "sub-275211_acq-headmotion2_T1w",
         "orientation": "v",
         "pointpos": 0,
         "showlegend": true,
         "type": "box",
         "x": [
          3
         ],
         "x0": " ",
         "xaxis": "x",
         "y": [
          3
         ],
         "y0": " ",
         "yaxis": "y"
        },
        {
         "alignmentgroup": "True",
         "boxpoints": "all",
         "fillcolor": "rgba(255,255,255,0)",
         "hoveron": "points",
         "hovertemplate": "bids_name=sub-275211_acq-standard_T1w<br>condition=%{x}<br>score=%{y}<extra></extra>",
         "legendgroup": "sub-275211_acq-standard_T1w",
         "line": {
          "color": "rgba(255,255,255,0)"
         },
         "marker": {
          "color": "#B6E880"
         },
         "name": "sub-275211_acq-standard_T1w",
         "offsetgroup": "sub-275211_acq-standard_T1w",
         "orientation": "v",
         "pointpos": 0,
         "showlegend": true,
         "type": "box",
         "x": [
          1
         ],
         "x0": " ",
         "xaxis": "x",
         "y": [
          1
         ],
         "y0": " ",
         "yaxis": "y"
        },
        {
         "alignmentgroup": "True",
         "boxpoints": "all",
         "fillcolor": "rgba(255,255,255,0)",
         "hoveron": "points",
         "hovertemplate": "bids_name=sub-278729_acq-headmotion1_T1w<br>condition=%{x}<br>score=%{y}<extra></extra>",
         "legendgroup": "sub-278729_acq-headmotion1_T1w",
         "line": {
          "color": "rgba(255,255,255,0)"
         },
         "marker": {
          "color": "#FF97FF"
         },
         "name": "sub-278729_acq-headmotion1_T1w",
         "offsetgroup": "sub-278729_acq-headmotion1_T1w",
         "orientation": "v",
         "pointpos": 0,
         "showlegend": true,
         "type": "box",
         "x": [
          2
         ],
         "x0": " ",
         "xaxis": "x",
         "y": [
          2
         ],
         "y0": " ",
         "yaxis": "y"
        },
        {
         "alignmentgroup": "True",
         "boxpoints": "all",
         "fillcolor": "rgba(255,255,255,0)",
         "hoveron": "points",
         "hovertemplate": "bids_name=sub-278729_acq-headmotion2_T1w<br>condition=%{x}<br>score=%{y}<extra></extra>",
         "legendgroup": "sub-278729_acq-headmotion2_T1w",
         "line": {
          "color": "rgba(255,255,255,0)"
         },
         "marker": {
          "color": "#FECB52"
         },
         "name": "sub-278729_acq-headmotion2_T1w",
         "offsetgroup": "sub-278729_acq-headmotion2_T1w",
         "orientation": "v",
         "pointpos": 0,
         "showlegend": true,
         "type": "box",
         "x": [
          3
         ],
         "x0": " ",
         "xaxis": "x",
         "y": [
          3
         ],
         "y0": " ",
         "yaxis": "y"
        },
        {
         "alignmentgroup": "True",
         "boxpoints": "all",
         "fillcolor": "rgba(255,255,255,0)",
         "hoveron": "points",
         "hovertemplate": "bids_name=sub-278729_acq-standard_T1w<br>condition=%{x}<br>score=%{y}<extra></extra>",
         "legendgroup": "sub-278729_acq-standard_T1w",
         "line": {
          "color": "rgba(255,255,255,0)"
         },
         "marker": {
          "color": "#636efa"
         },
         "name": "sub-278729_acq-standard_T1w",
         "offsetgroup": "sub-278729_acq-standard_T1w",
         "orientation": "v",
         "pointpos": 0,
         "showlegend": true,
         "type": "box",
         "x": [
          1
         ],
         "x0": " ",
         "xaxis": "x",
         "y": [
          1
         ],
         "y0": " ",
         "yaxis": "y"
        },
        {
         "alignmentgroup": "True",
         "boxpoints": "all",
         "fillcolor": "rgba(255,255,255,0)",
         "hoveron": "points",
         "hovertemplate": "bids_name=sub-279373_acq-headmotion2_T1w<br>condition=%{x}<br>score=%{y}<extra></extra>",
         "legendgroup": "sub-279373_acq-headmotion2_T1w",
         "line": {
          "color": "rgba(255,255,255,0)"
         },
         "marker": {
          "color": "#EF553B"
         },
         "name": "sub-279373_acq-headmotion2_T1w",
         "offsetgroup": "sub-279373_acq-headmotion2_T1w",
         "orientation": "v",
         "pointpos": 0,
         "showlegend": true,
         "type": "box",
         "x": [
          3
         ],
         "x0": " ",
         "xaxis": "x",
         "y": [
          3
         ],
         "y0": " ",
         "yaxis": "y"
        },
        {
         "alignmentgroup": "True",
         "boxpoints": "all",
         "fillcolor": "rgba(255,255,255,0)",
         "hoveron": "points",
         "hovertemplate": "bids_name=sub-279373_acq-standard_T1w<br>condition=%{x}<br>score=%{y}<extra></extra>",
         "legendgroup": "sub-279373_acq-standard_T1w",
         "line": {
          "color": "rgba(255,255,255,0)"
         },
         "marker": {
          "color": "#00cc96"
         },
         "name": "sub-279373_acq-standard_T1w",
         "offsetgroup": "sub-279373_acq-standard_T1w",
         "orientation": "v",
         "pointpos": 0,
         "showlegend": true,
         "type": "box",
         "x": [
          1
         ],
         "x0": " ",
         "xaxis": "x",
         "y": [
          2
         ],
         "y0": " ",
         "yaxis": "y"
        },
        {
         "alignmentgroup": "True",
         "boxpoints": "all",
         "fillcolor": "rgba(255,255,255,0)",
         "hoveron": "points",
         "hovertemplate": "bids_name=sub-281888_acq-headmotion1_T1w<br>condition=%{x}<br>score=%{y}<extra></extra>",
         "legendgroup": "sub-281888_acq-headmotion1_T1w",
         "line": {
          "color": "rgba(255,255,255,0)"
         },
         "marker": {
          "color": "#ab63fa"
         },
         "name": "sub-281888_acq-headmotion1_T1w",
         "offsetgroup": "sub-281888_acq-headmotion1_T1w",
         "orientation": "v",
         "pointpos": 0,
         "showlegend": true,
         "type": "box",
         "x": [
          2
         ],
         "x0": " ",
         "xaxis": "x",
         "y": [
          2
         ],
         "y0": " ",
         "yaxis": "y"
        },
        {
         "alignmentgroup": "True",
         "boxpoints": "all",
         "fillcolor": "rgba(255,255,255,0)",
         "hoveron": "points",
         "hovertemplate": "bids_name=sub-281888_acq-headmotion2_T1w<br>condition=%{x}<br>score=%{y}<extra></extra>",
         "legendgroup": "sub-281888_acq-headmotion2_T1w",
         "line": {
          "color": "rgba(255,255,255,0)"
         },
         "marker": {
          "color": "#FFA15A"
         },
         "name": "sub-281888_acq-headmotion2_T1w",
         "offsetgroup": "sub-281888_acq-headmotion2_T1w",
         "orientation": "v",
         "pointpos": 0,
         "showlegend": true,
         "type": "box",
         "x": [
          3
         ],
         "x0": " ",
         "xaxis": "x",
         "y": [
          3
         ],
         "y0": " ",
         "yaxis": "y"
        },
        {
         "alignmentgroup": "True",
         "boxpoints": "all",
         "fillcolor": "rgba(255,255,255,0)",
         "hoveron": "points",
         "hovertemplate": "bids_name=sub-281888_acq-standard_T1w<br>condition=%{x}<br>score=%{y}<extra></extra>",
         "legendgroup": "sub-281888_acq-standard_T1w",
         "line": {
          "color": "rgba(255,255,255,0)"
         },
         "marker": {
          "color": "#19d3f3"
         },
         "name": "sub-281888_acq-standard_T1w",
         "offsetgroup": "sub-281888_acq-standard_T1w",
         "orientation": "v",
         "pointpos": 0,
         "showlegend": true,
         "type": "box",
         "x": [
          1
         ],
         "x0": " ",
         "xaxis": "x",
         "y": [
          1
         ],
         "y0": " ",
         "yaxis": "y"
        },
        {
         "alignmentgroup": "True",
         "boxpoints": "all",
         "fillcolor": "rgba(255,255,255,0)",
         "hoveron": "points",
         "hovertemplate": "bids_name=sub-282628_acq-headmotion1_T1w<br>condition=%{x}<br>score=%{y}<extra></extra>",
         "legendgroup": "sub-282628_acq-headmotion1_T1w",
         "line": {
          "color": "rgba(255,255,255,0)"
         },
         "marker": {
          "color": "#FF6692"
         },
         "name": "sub-282628_acq-headmotion1_T1w",
         "offsetgroup": "sub-282628_acq-headmotion1_T1w",
         "orientation": "v",
         "pointpos": 0,
         "showlegend": true,
         "type": "box",
         "x": [
          2
         ],
         "x0": " ",
         "xaxis": "x",
         "y": [
          3
         ],
         "y0": " ",
         "yaxis": "y"
        },
        {
         "alignmentgroup": "True",
         "boxpoints": "all",
         "fillcolor": "rgba(255,255,255,0)",
         "hoveron": "points",
         "hovertemplate": "bids_name=sub-282628_acq-headmotion2_T1w<br>condition=%{x}<br>score=%{y}<extra></extra>",
         "legendgroup": "sub-282628_acq-headmotion2_T1w",
         "line": {
          "color": "rgba(255,255,255,0)"
         },
         "marker": {
          "color": "#B6E880"
         },
         "name": "sub-282628_acq-headmotion2_T1w",
         "offsetgroup": "sub-282628_acq-headmotion2_T1w",
         "orientation": "v",
         "pointpos": 0,
         "showlegend": true,
         "type": "box",
         "x": [
          3
         ],
         "x0": " ",
         "xaxis": "x",
         "y": [
          3
         ],
         "y0": " ",
         "yaxis": "y"
        },
        {
         "alignmentgroup": "True",
         "boxpoints": "all",
         "fillcolor": "rgba(255,255,255,0)",
         "hoveron": "points",
         "hovertemplate": "bids_name=sub-282628_acq-standard_T1w<br>condition=%{x}<br>score=%{y}<extra></extra>",
         "legendgroup": "sub-282628_acq-standard_T1w",
         "line": {
          "color": "rgba(255,255,255,0)"
         },
         "marker": {
          "color": "#FF97FF"
         },
         "name": "sub-282628_acq-standard_T1w",
         "offsetgroup": "sub-282628_acq-standard_T1w",
         "orientation": "v",
         "pointpos": 0,
         "showlegend": true,
         "type": "box",
         "x": [
          1
         ],
         "x0": " ",
         "xaxis": "x",
         "y": [
          1
         ],
         "y0": " ",
         "yaxis": "y"
        },
        {
         "alignmentgroup": "True",
         "boxpoints": "all",
         "fillcolor": "rgba(255,255,255,0)",
         "hoveron": "points",
         "hovertemplate": "bids_name=sub-292060_acq-headmotion1_T1w<br>condition=%{x}<br>score=%{y}<extra></extra>",
         "legendgroup": "sub-292060_acq-headmotion1_T1w",
         "line": {
          "color": "rgba(255,255,255,0)"
         },
         "marker": {
          "color": "#FECB52"
         },
         "name": "sub-292060_acq-headmotion1_T1w",
         "offsetgroup": "sub-292060_acq-headmotion1_T1w",
         "orientation": "v",
         "pointpos": 0,
         "showlegend": true,
         "type": "box",
         "x": [
          2
         ],
         "x0": " ",
         "xaxis": "x",
         "y": [
          2
         ],
         "y0": " ",
         "yaxis": "y"
        },
        {
         "alignmentgroup": "True",
         "boxpoints": "all",
         "fillcolor": "rgba(255,255,255,0)",
         "hoveron": "points",
         "hovertemplate": "bids_name=sub-292060_acq-headmotion2_T1w<br>condition=%{x}<br>score=%{y}<extra></extra>",
         "legendgroup": "sub-292060_acq-headmotion2_T1w",
         "line": {
          "color": "rgba(255,255,255,0)"
         },
         "marker": {
          "color": "#636efa"
         },
         "name": "sub-292060_acq-headmotion2_T1w",
         "offsetgroup": "sub-292060_acq-headmotion2_T1w",
         "orientation": "v",
         "pointpos": 0,
         "showlegend": true,
         "type": "box",
         "x": [
          3
         ],
         "x0": " ",
         "xaxis": "x",
         "y": [
          3
         ],
         "y0": " ",
         "yaxis": "y"
        },
        {
         "alignmentgroup": "True",
         "boxpoints": "all",
         "fillcolor": "rgba(255,255,255,0)",
         "hoveron": "points",
         "hovertemplate": "bids_name=sub-292060_acq-standard_T1w<br>condition=%{x}<br>score=%{y}<extra></extra>",
         "legendgroup": "sub-292060_acq-standard_T1w",
         "line": {
          "color": "rgba(255,255,255,0)"
         },
         "marker": {
          "color": "#EF553B"
         },
         "name": "sub-292060_acq-standard_T1w",
         "offsetgroup": "sub-292060_acq-standard_T1w",
         "orientation": "v",
         "pointpos": 0,
         "showlegend": true,
         "type": "box",
         "x": [
          1
         ],
         "x0": " ",
         "xaxis": "x",
         "y": [
          1
         ],
         "y0": " ",
         "yaxis": "y"
        },
        {
         "alignmentgroup": "True",
         "boxpoints": "all",
         "fillcolor": "rgba(255,255,255,0)",
         "hoveron": "points",
         "hovertemplate": "bids_name=sub-292213_acq-headmotion1_T1w<br>condition=%{x}<br>score=%{y}<extra></extra>",
         "legendgroup": "sub-292213_acq-headmotion1_T1w",
         "line": {
          "color": "rgba(255,255,255,0)"
         },
         "marker": {
          "color": "#00cc96"
         },
         "name": "sub-292213_acq-headmotion1_T1w",
         "offsetgroup": "sub-292213_acq-headmotion1_T1w",
         "orientation": "v",
         "pointpos": 0,
         "showlegend": true,
         "type": "box",
         "x": [
          2
         ],
         "x0": " ",
         "xaxis": "x",
         "y": [
          2
         ],
         "y0": " ",
         "yaxis": "y"
        },
        {
         "alignmentgroup": "True",
         "boxpoints": "all",
         "fillcolor": "rgba(255,255,255,0)",
         "hoveron": "points",
         "hovertemplate": "bids_name=sub-292213_acq-headmotion2_T1w<br>condition=%{x}<br>score=%{y}<extra></extra>",
         "legendgroup": "sub-292213_acq-headmotion2_T1w",
         "line": {
          "color": "rgba(255,255,255,0)"
         },
         "marker": {
          "color": "#ab63fa"
         },
         "name": "sub-292213_acq-headmotion2_T1w",
         "offsetgroup": "sub-292213_acq-headmotion2_T1w",
         "orientation": "v",
         "pointpos": 0,
         "showlegend": true,
         "type": "box",
         "x": [
          3
         ],
         "x0": " ",
         "xaxis": "x",
         "y": [
          3
         ],
         "y0": " ",
         "yaxis": "y"
        },
        {
         "alignmentgroup": "True",
         "boxpoints": "all",
         "fillcolor": "rgba(255,255,255,0)",
         "hoveron": "points",
         "hovertemplate": "bids_name=sub-292213_acq-standard_T1w<br>condition=%{x}<br>score=%{y}<extra></extra>",
         "legendgroup": "sub-292213_acq-standard_T1w",
         "line": {
          "color": "rgba(255,255,255,0)"
         },
         "marker": {
          "color": "#FFA15A"
         },
         "name": "sub-292213_acq-standard_T1w",
         "offsetgroup": "sub-292213_acq-standard_T1w",
         "orientation": "v",
         "pointpos": 0,
         "showlegend": true,
         "type": "box",
         "x": [
          1
         ],
         "x0": " ",
         "xaxis": "x",
         "y": [
          2
         ],
         "y0": " ",
         "yaxis": "y"
        },
        {
         "alignmentgroup": "True",
         "boxpoints": "all",
         "fillcolor": "rgba(255,255,255,0)",
         "hoveron": "points",
         "hovertemplate": "bids_name=sub-307592_acq-headmotion1_T1w<br>condition=%{x}<br>score=%{y}<extra></extra>",
         "legendgroup": "sub-307592_acq-headmotion1_T1w",
         "line": {
          "color": "rgba(255,255,255,0)"
         },
         "marker": {
          "color": "#19d3f3"
         },
         "name": "sub-307592_acq-headmotion1_T1w",
         "offsetgroup": "sub-307592_acq-headmotion1_T1w",
         "orientation": "v",
         "pointpos": 0,
         "showlegend": true,
         "type": "box",
         "x": [
          2
         ],
         "x0": " ",
         "xaxis": "x",
         "y": [
          3
         ],
         "y0": " ",
         "yaxis": "y"
        },
        {
         "alignmentgroup": "True",
         "boxpoints": "all",
         "fillcolor": "rgba(255,255,255,0)",
         "hoveron": "points",
         "hovertemplate": "bids_name=sub-307592_acq-headmotion2_T1w<br>condition=%{x}<br>score=%{y}<extra></extra>",
         "legendgroup": "sub-307592_acq-headmotion2_T1w",
         "line": {
          "color": "rgba(255,255,255,0)"
         },
         "marker": {
          "color": "#FF6692"
         },
         "name": "sub-307592_acq-headmotion2_T1w",
         "offsetgroup": "sub-307592_acq-headmotion2_T1w",
         "orientation": "v",
         "pointpos": 0,
         "showlegend": true,
         "type": "box",
         "x": [
          3
         ],
         "x0": " ",
         "xaxis": "x",
         "y": [
          3
         ],
         "y0": " ",
         "yaxis": "y"
        },
        {
         "alignmentgroup": "True",
         "boxpoints": "all",
         "fillcolor": "rgba(255,255,255,0)",
         "hoveron": "points",
         "hovertemplate": "bids_name=sub-307592_acq-standard_T1w<br>condition=%{x}<br>score=%{y}<extra></extra>",
         "legendgroup": "sub-307592_acq-standard_T1w",
         "line": {
          "color": "rgba(255,255,255,0)"
         },
         "marker": {
          "color": "#B6E880"
         },
         "name": "sub-307592_acq-standard_T1w",
         "offsetgroup": "sub-307592_acq-standard_T1w",
         "orientation": "v",
         "pointpos": 0,
         "showlegend": true,
         "type": "box",
         "x": [
          1
         ],
         "x0": " ",
         "xaxis": "x",
         "y": [
          1
         ],
         "y0": " ",
         "yaxis": "y"
        },
        {
         "alignmentgroup": "True",
         "boxpoints": "all",
         "fillcolor": "rgba(255,255,255,0)",
         "hoveron": "points",
         "hovertemplate": "bids_name=sub-313623_acq-headmotion1_T1w<br>condition=%{x}<br>score=%{y}<extra></extra>",
         "legendgroup": "sub-313623_acq-headmotion1_T1w",
         "line": {
          "color": "rgba(255,255,255,0)"
         },
         "marker": {
          "color": "#FF97FF"
         },
         "name": "sub-313623_acq-headmotion1_T1w",
         "offsetgroup": "sub-313623_acq-headmotion1_T1w",
         "orientation": "v",
         "pointpos": 0,
         "showlegend": true,
         "type": "box",
         "x": [
          2
         ],
         "x0": " ",
         "xaxis": "x",
         "y": [
          3
         ],
         "y0": " ",
         "yaxis": "y"
        },
        {
         "alignmentgroup": "True",
         "boxpoints": "all",
         "fillcolor": "rgba(255,255,255,0)",
         "hoveron": "points",
         "hovertemplate": "bids_name=sub-313623_acq-headmotion2_T1w<br>condition=%{x}<br>score=%{y}<extra></extra>",
         "legendgroup": "sub-313623_acq-headmotion2_T1w",
         "line": {
          "color": "rgba(255,255,255,0)"
         },
         "marker": {
          "color": "#FECB52"
         },
         "name": "sub-313623_acq-headmotion2_T1w",
         "offsetgroup": "sub-313623_acq-headmotion2_T1w",
         "orientation": "v",
         "pointpos": 0,
         "showlegend": true,
         "type": "box",
         "x": [
          3
         ],
         "x0": " ",
         "xaxis": "x",
         "y": [
          3
         ],
         "y0": " ",
         "yaxis": "y"
        },
        {
         "alignmentgroup": "True",
         "boxpoints": "all",
         "fillcolor": "rgba(255,255,255,0)",
         "hoveron": "points",
         "hovertemplate": "bids_name=sub-313623_acq-standard_T1w<br>condition=%{x}<br>score=%{y}<extra></extra>",
         "legendgroup": "sub-313623_acq-standard_T1w",
         "line": {
          "color": "rgba(255,255,255,0)"
         },
         "marker": {
          "color": "#636efa"
         },
         "name": "sub-313623_acq-standard_T1w",
         "offsetgroup": "sub-313623_acq-standard_T1w",
         "orientation": "v",
         "pointpos": 0,
         "showlegend": true,
         "type": "box",
         "x": [
          1
         ],
         "x0": " ",
         "xaxis": "x",
         "y": [
          2
         ],
         "y0": " ",
         "yaxis": "y"
        },
        {
         "alignmentgroup": "True",
         "boxpoints": "all",
         "fillcolor": "rgba(255,255,255,0)",
         "hoveron": "points",
         "hovertemplate": "bids_name=sub-335448_acq-headmotion1_T1w<br>condition=%{x}<br>score=%{y}<extra></extra>",
         "legendgroup": "sub-335448_acq-headmotion1_T1w",
         "line": {
          "color": "rgba(255,255,255,0)"
         },
         "marker": {
          "color": "#EF553B"
         },
         "name": "sub-335448_acq-headmotion1_T1w",
         "offsetgroup": "sub-335448_acq-headmotion1_T1w",
         "orientation": "v",
         "pointpos": 0,
         "showlegend": true,
         "type": "box",
         "x": [
          2
         ],
         "x0": " ",
         "xaxis": "x",
         "y": [
          3
         ],
         "y0": " ",
         "yaxis": "y"
        },
        {
         "alignmentgroup": "True",
         "boxpoints": "all",
         "fillcolor": "rgba(255,255,255,0)",
         "hoveron": "points",
         "hovertemplate": "bids_name=sub-335448_acq-headmotion2_T1w<br>condition=%{x}<br>score=%{y}<extra></extra>",
         "legendgroup": "sub-335448_acq-headmotion2_T1w",
         "line": {
          "color": "rgba(255,255,255,0)"
         },
         "marker": {
          "color": "#00cc96"
         },
         "name": "sub-335448_acq-headmotion2_T1w",
         "offsetgroup": "sub-335448_acq-headmotion2_T1w",
         "orientation": "v",
         "pointpos": 0,
         "showlegend": true,
         "type": "box",
         "x": [
          3
         ],
         "x0": " ",
         "xaxis": "x",
         "y": [
          3
         ],
         "y0": " ",
         "yaxis": "y"
        },
        {
         "alignmentgroup": "True",
         "boxpoints": "all",
         "fillcolor": "rgba(255,255,255,0)",
         "hoveron": "points",
         "hovertemplate": "bids_name=sub-335448_acq-standard_T1w<br>condition=%{x}<br>score=%{y}<extra></extra>",
         "legendgroup": "sub-335448_acq-standard_T1w",
         "line": {
          "color": "rgba(255,255,255,0)"
         },
         "marker": {
          "color": "#ab63fa"
         },
         "name": "sub-335448_acq-standard_T1w",
         "offsetgroup": "sub-335448_acq-standard_T1w",
         "orientation": "v",
         "pointpos": 0,
         "showlegend": true,
         "type": "box",
         "x": [
          1
         ],
         "x0": " ",
         "xaxis": "x",
         "y": [
          1
         ],
         "y0": " ",
         "yaxis": "y"
        },
        {
         "alignmentgroup": "True",
         "boxpoints": "all",
         "fillcolor": "rgba(255,255,255,0)",
         "hoveron": "points",
         "hovertemplate": "bids_name=sub-337488_acq-headmotion1_T1w<br>condition=%{x}<br>score=%{y}<extra></extra>",
         "legendgroup": "sub-337488_acq-headmotion1_T1w",
         "line": {
          "color": "rgba(255,255,255,0)"
         },
         "marker": {
          "color": "#FFA15A"
         },
         "name": "sub-337488_acq-headmotion1_T1w",
         "offsetgroup": "sub-337488_acq-headmotion1_T1w",
         "orientation": "v",
         "pointpos": 0,
         "showlegend": true,
         "type": "box",
         "x": [
          2
         ],
         "x0": " ",
         "xaxis": "x",
         "y": [
          2
         ],
         "y0": " ",
         "yaxis": "y"
        },
        {
         "alignmentgroup": "True",
         "boxpoints": "all",
         "fillcolor": "rgba(255,255,255,0)",
         "hoveron": "points",
         "hovertemplate": "bids_name=sub-337488_acq-headmotion2_T1w<br>condition=%{x}<br>score=%{y}<extra></extra>",
         "legendgroup": "sub-337488_acq-headmotion2_T1w",
         "line": {
          "color": "rgba(255,255,255,0)"
         },
         "marker": {
          "color": "#19d3f3"
         },
         "name": "sub-337488_acq-headmotion2_T1w",
         "offsetgroup": "sub-337488_acq-headmotion2_T1w",
         "orientation": "v",
         "pointpos": 0,
         "showlegend": true,
         "type": "box",
         "x": [
          3
         ],
         "x0": " ",
         "xaxis": "x",
         "y": [
          2
         ],
         "y0": " ",
         "yaxis": "y"
        },
        {
         "alignmentgroup": "True",
         "boxpoints": "all",
         "fillcolor": "rgba(255,255,255,0)",
         "hoveron": "points",
         "hovertemplate": "bids_name=sub-337488_acq-standard_T1w<br>condition=%{x}<br>score=%{y}<extra></extra>",
         "legendgroup": "sub-337488_acq-standard_T1w",
         "line": {
          "color": "rgba(255,255,255,0)"
         },
         "marker": {
          "color": "#FF6692"
         },
         "name": "sub-337488_acq-standard_T1w",
         "offsetgroup": "sub-337488_acq-standard_T1w",
         "orientation": "v",
         "pointpos": 0,
         "showlegend": true,
         "type": "box",
         "x": [
          1
         ],
         "x0": " ",
         "xaxis": "x",
         "y": [
          1
         ],
         "y0": " ",
         "yaxis": "y"
        },
        {
         "alignmentgroup": "True",
         "boxpoints": "all",
         "fillcolor": "rgba(255,255,255,0)",
         "hoveron": "points",
         "hovertemplate": "bids_name=sub-351288_acq-headmotion1_T1w<br>condition=%{x}<br>score=%{y}<extra></extra>",
         "legendgroup": "sub-351288_acq-headmotion1_T1w",
         "line": {
          "color": "rgba(255,255,255,0)"
         },
         "marker": {
          "color": "#B6E880"
         },
         "name": "sub-351288_acq-headmotion1_T1w",
         "offsetgroup": "sub-351288_acq-headmotion1_T1w",
         "orientation": "v",
         "pointpos": 0,
         "showlegend": true,
         "type": "box",
         "x": [
          2
         ],
         "x0": " ",
         "xaxis": "x",
         "y": [
          2
         ],
         "y0": " ",
         "yaxis": "y"
        },
        {
         "alignmentgroup": "True",
         "boxpoints": "all",
         "fillcolor": "rgba(255,255,255,0)",
         "hoveron": "points",
         "hovertemplate": "bids_name=sub-351288_acq-headmotion2_T1w<br>condition=%{x}<br>score=%{y}<extra></extra>",
         "legendgroup": "sub-351288_acq-headmotion2_T1w",
         "line": {
          "color": "rgba(255,255,255,0)"
         },
         "marker": {
          "color": "#FF97FF"
         },
         "name": "sub-351288_acq-headmotion2_T1w",
         "offsetgroup": "sub-351288_acq-headmotion2_T1w",
         "orientation": "v",
         "pointpos": 0,
         "showlegend": true,
         "type": "box",
         "x": [
          3
         ],
         "x0": " ",
         "xaxis": "x",
         "y": [
          2
         ],
         "y0": " ",
         "yaxis": "y"
        },
        {
         "alignmentgroup": "True",
         "boxpoints": "all",
         "fillcolor": "rgba(255,255,255,0)",
         "hoveron": "points",
         "hovertemplate": "bids_name=sub-351288_acq-standard_T1w<br>condition=%{x}<br>score=%{y}<extra></extra>",
         "legendgroup": "sub-351288_acq-standard_T1w",
         "line": {
          "color": "rgba(255,255,255,0)"
         },
         "marker": {
          "color": "#FECB52"
         },
         "name": "sub-351288_acq-standard_T1w",
         "offsetgroup": "sub-351288_acq-standard_T1w",
         "orientation": "v",
         "pointpos": 0,
         "showlegend": true,
         "type": "box",
         "x": [
          1
         ],
         "x0": " ",
         "xaxis": "x",
         "y": [
          1
         ],
         "y0": " ",
         "yaxis": "y"
        },
        {
         "alignmentgroup": "True",
         "boxpoints": "all",
         "fillcolor": "rgba(255,255,255,0)",
         "hoveron": "points",
         "hovertemplate": "bids_name=sub-365622_acq-headmotion1_T1w<br>condition=%{x}<br>score=%{y}<extra></extra>",
         "legendgroup": "sub-365622_acq-headmotion1_T1w",
         "line": {
          "color": "rgba(255,255,255,0)"
         },
         "marker": {
          "color": "#636efa"
         },
         "name": "sub-365622_acq-headmotion1_T1w",
         "offsetgroup": "sub-365622_acq-headmotion1_T1w",
         "orientation": "v",
         "pointpos": 0,
         "showlegend": true,
         "type": "box",
         "x": [
          2
         ],
         "x0": " ",
         "xaxis": "x",
         "y": [
          3
         ],
         "y0": " ",
         "yaxis": "y"
        },
        {
         "alignmentgroup": "True",
         "boxpoints": "all",
         "fillcolor": "rgba(255,255,255,0)",
         "hoveron": "points",
         "hovertemplate": "bids_name=sub-365622_acq-headmotion2_T1w<br>condition=%{x}<br>score=%{y}<extra></extra>",
         "legendgroup": "sub-365622_acq-headmotion2_T1w",
         "line": {
          "color": "rgba(255,255,255,0)"
         },
         "marker": {
          "color": "#EF553B"
         },
         "name": "sub-365622_acq-headmotion2_T1w",
         "offsetgroup": "sub-365622_acq-headmotion2_T1w",
         "orientation": "v",
         "pointpos": 0,
         "showlegend": true,
         "type": "box",
         "x": [
          3
         ],
         "x0": " ",
         "xaxis": "x",
         "y": [
          3
         ],
         "y0": " ",
         "yaxis": "y"
        },
        {
         "alignmentgroup": "True",
         "boxpoints": "all",
         "fillcolor": "rgba(255,255,255,0)",
         "hoveron": "points",
         "hovertemplate": "bids_name=sub-365622_acq-standard_T1w<br>condition=%{x}<br>score=%{y}<extra></extra>",
         "legendgroup": "sub-365622_acq-standard_T1w",
         "line": {
          "color": "rgba(255,255,255,0)"
         },
         "marker": {
          "color": "#00cc96"
         },
         "name": "sub-365622_acq-standard_T1w",
         "offsetgroup": "sub-365622_acq-standard_T1w",
         "orientation": "v",
         "pointpos": 0,
         "showlegend": true,
         "type": "box",
         "x": [
          1
         ],
         "x0": " ",
         "xaxis": "x",
         "y": [
          1
         ],
         "y0": " ",
         "yaxis": "y"
        },
        {
         "alignmentgroup": "True",
         "boxpoints": "all",
         "fillcolor": "rgba(255,255,255,0)",
         "hoveron": "points",
         "hovertemplate": "bids_name=sub-367500_acq-headmotion1_T1w<br>condition=%{x}<br>score=%{y}<extra></extra>",
         "legendgroup": "sub-367500_acq-headmotion1_T1w",
         "line": {
          "color": "rgba(255,255,255,0)"
         },
         "marker": {
          "color": "#ab63fa"
         },
         "name": "sub-367500_acq-headmotion1_T1w",
         "offsetgroup": "sub-367500_acq-headmotion1_T1w",
         "orientation": "v",
         "pointpos": 0,
         "showlegend": true,
         "type": "box",
         "x": [
          2
         ],
         "x0": " ",
         "xaxis": "x",
         "y": [
          3
         ],
         "y0": " ",
         "yaxis": "y"
        },
        {
         "alignmentgroup": "True",
         "boxpoints": "all",
         "fillcolor": "rgba(255,255,255,0)",
         "hoveron": "points",
         "hovertemplate": "bids_name=sub-367500_acq-headmotion2_T1w<br>condition=%{x}<br>score=%{y}<extra></extra>",
         "legendgroup": "sub-367500_acq-headmotion2_T1w",
         "line": {
          "color": "rgba(255,255,255,0)"
         },
         "marker": {
          "color": "#FFA15A"
         },
         "name": "sub-367500_acq-headmotion2_T1w",
         "offsetgroup": "sub-367500_acq-headmotion2_T1w",
         "orientation": "v",
         "pointpos": 0,
         "showlegend": true,
         "type": "box",
         "x": [
          3
         ],
         "x0": " ",
         "xaxis": "x",
         "y": [
          3
         ],
         "y0": " ",
         "yaxis": "y"
        },
        {
         "alignmentgroup": "True",
         "boxpoints": "all",
         "fillcolor": "rgba(255,255,255,0)",
         "hoveron": "points",
         "hovertemplate": "bids_name=sub-367500_acq-standard_T1w<br>condition=%{x}<br>score=%{y}<extra></extra>",
         "legendgroup": "sub-367500_acq-standard_T1w",
         "line": {
          "color": "rgba(255,255,255,0)"
         },
         "marker": {
          "color": "#19d3f3"
         },
         "name": "sub-367500_acq-standard_T1w",
         "offsetgroup": "sub-367500_acq-standard_T1w",
         "orientation": "v",
         "pointpos": 0,
         "showlegend": true,
         "type": "box",
         "x": [
          1
         ],
         "x0": " ",
         "xaxis": "x",
         "y": [
          2
         ],
         "y0": " ",
         "yaxis": "y"
        },
        {
         "alignmentgroup": "True",
         "boxpoints": "all",
         "fillcolor": "rgba(255,255,255,0)",
         "hoveron": "points",
         "hovertemplate": "bids_name=sub-401697_acq-headmotion1_T1w<br>condition=%{x}<br>score=%{y}<extra></extra>",
         "legendgroup": "sub-401697_acq-headmotion1_T1w",
         "line": {
          "color": "rgba(255,255,255,0)"
         },
         "marker": {
          "color": "#FF6692"
         },
         "name": "sub-401697_acq-headmotion1_T1w",
         "offsetgroup": "sub-401697_acq-headmotion1_T1w",
         "orientation": "v",
         "pointpos": 0,
         "showlegend": true,
         "type": "box",
         "x": [
          2
         ],
         "x0": " ",
         "xaxis": "x",
         "y": [
          3
         ],
         "y0": " ",
         "yaxis": "y"
        },
        {
         "alignmentgroup": "True",
         "boxpoints": "all",
         "fillcolor": "rgba(255,255,255,0)",
         "hoveron": "points",
         "hovertemplate": "bids_name=sub-401697_acq-headmotion2_T1w<br>condition=%{x}<br>score=%{y}<extra></extra>",
         "legendgroup": "sub-401697_acq-headmotion2_T1w",
         "line": {
          "color": "rgba(255,255,255,0)"
         },
         "marker": {
          "color": "#B6E880"
         },
         "name": "sub-401697_acq-headmotion2_T1w",
         "offsetgroup": "sub-401697_acq-headmotion2_T1w",
         "orientation": "v",
         "pointpos": 0,
         "showlegend": true,
         "type": "box",
         "x": [
          3
         ],
         "x0": " ",
         "xaxis": "x",
         "y": [
          3
         ],
         "y0": " ",
         "yaxis": "y"
        },
        {
         "alignmentgroup": "True",
         "boxpoints": "all",
         "fillcolor": "rgba(255,255,255,0)",
         "hoveron": "points",
         "hovertemplate": "bids_name=sub-401697_acq-standard_T1w<br>condition=%{x}<br>score=%{y}<extra></extra>",
         "legendgroup": "sub-401697_acq-standard_T1w",
         "line": {
          "color": "rgba(255,255,255,0)"
         },
         "marker": {
          "color": "#FF97FF"
         },
         "name": "sub-401697_acq-standard_T1w",
         "offsetgroup": "sub-401697_acq-standard_T1w",
         "orientation": "v",
         "pointpos": 0,
         "showlegend": true,
         "type": "box",
         "x": [
          1
         ],
         "x0": " ",
         "xaxis": "x",
         "y": [
          1
         ],
         "y0": " ",
         "yaxis": "y"
        },
        {
         "alignmentgroup": "True",
         "boxpoints": "all",
         "fillcolor": "rgba(255,255,255,0)",
         "hoveron": "points",
         "hovertemplate": "bids_name=sub-402511_acq-headmotion1_T1w<br>condition=%{x}<br>score=%{y}<extra></extra>",
         "legendgroup": "sub-402511_acq-headmotion1_T1w",
         "line": {
          "color": "rgba(255,255,255,0)"
         },
         "marker": {
          "color": "#FECB52"
         },
         "name": "sub-402511_acq-headmotion1_T1w",
         "offsetgroup": "sub-402511_acq-headmotion1_T1w",
         "orientation": "v",
         "pointpos": 0,
         "showlegend": true,
         "type": "box",
         "x": [
          2
         ],
         "x0": " ",
         "xaxis": "x",
         "y": [
          3
         ],
         "y0": " ",
         "yaxis": "y"
        },
        {
         "alignmentgroup": "True",
         "boxpoints": "all",
         "fillcolor": "rgba(255,255,255,0)",
         "hoveron": "points",
         "hovertemplate": "bids_name=sub-402511_acq-headmotion2_T1w<br>condition=%{x}<br>score=%{y}<extra></extra>",
         "legendgroup": "sub-402511_acq-headmotion2_T1w",
         "line": {
          "color": "rgba(255,255,255,0)"
         },
         "marker": {
          "color": "#636efa"
         },
         "name": "sub-402511_acq-headmotion2_T1w",
         "offsetgroup": "sub-402511_acq-headmotion2_T1w",
         "orientation": "v",
         "pointpos": 0,
         "showlegend": true,
         "type": "box",
         "x": [
          3
         ],
         "x0": " ",
         "xaxis": "x",
         "y": [
          3
         ],
         "y0": " ",
         "yaxis": "y"
        },
        {
         "alignmentgroup": "True",
         "boxpoints": "all",
         "fillcolor": "rgba(255,255,255,0)",
         "hoveron": "points",
         "hovertemplate": "bids_name=sub-402511_acq-standard_T1w<br>condition=%{x}<br>score=%{y}<extra></extra>",
         "legendgroup": "sub-402511_acq-standard_T1w",
         "line": {
          "color": "rgba(255,255,255,0)"
         },
         "marker": {
          "color": "#EF553B"
         },
         "name": "sub-402511_acq-standard_T1w",
         "offsetgroup": "sub-402511_acq-standard_T1w",
         "orientation": "v",
         "pointpos": 0,
         "showlegend": true,
         "type": "box",
         "x": [
          1
         ],
         "x0": " ",
         "xaxis": "x",
         "y": [
          1
         ],
         "y0": " ",
         "yaxis": "y"
        },
        {
         "alignmentgroup": "True",
         "boxpoints": "all",
         "fillcolor": "rgba(255,255,255,0)",
         "hoveron": "points",
         "hovertemplate": "bids_name=sub-407309_acq-headmotion1_T1w<br>condition=%{x}<br>score=%{y}<extra></extra>",
         "legendgroup": "sub-407309_acq-headmotion1_T1w",
         "line": {
          "color": "rgba(255,255,255,0)"
         },
         "marker": {
          "color": "#00cc96"
         },
         "name": "sub-407309_acq-headmotion1_T1w",
         "offsetgroup": "sub-407309_acq-headmotion1_T1w",
         "orientation": "v",
         "pointpos": 0,
         "showlegend": true,
         "type": "box",
         "x": [
          2
         ],
         "x0": " ",
         "xaxis": "x",
         "y": [
          2
         ],
         "y0": " ",
         "yaxis": "y"
        },
        {
         "alignmentgroup": "True",
         "boxpoints": "all",
         "fillcolor": "rgba(255,255,255,0)",
         "hoveron": "points",
         "hovertemplate": "bids_name=sub-407309_acq-headmotion2_T1w<br>condition=%{x}<br>score=%{y}<extra></extra>",
         "legendgroup": "sub-407309_acq-headmotion2_T1w",
         "line": {
          "color": "rgba(255,255,255,0)"
         },
         "marker": {
          "color": "#ab63fa"
         },
         "name": "sub-407309_acq-headmotion2_T1w",
         "offsetgroup": "sub-407309_acq-headmotion2_T1w",
         "orientation": "v",
         "pointpos": 0,
         "showlegend": true,
         "type": "box",
         "x": [
          3
         ],
         "x0": " ",
         "xaxis": "x",
         "y": [
          3
         ],
         "y0": " ",
         "yaxis": "y"
        },
        {
         "alignmentgroup": "True",
         "boxpoints": "all",
         "fillcolor": "rgba(255,255,255,0)",
         "hoveron": "points",
         "hovertemplate": "bids_name=sub-407309_acq-standard_T1w<br>condition=%{x}<br>score=%{y}<extra></extra>",
         "legendgroup": "sub-407309_acq-standard_T1w",
         "line": {
          "color": "rgba(255,255,255,0)"
         },
         "marker": {
          "color": "#FFA15A"
         },
         "name": "sub-407309_acq-standard_T1w",
         "offsetgroup": "sub-407309_acq-standard_T1w",
         "orientation": "v",
         "pointpos": 0,
         "showlegend": true,
         "type": "box",
         "x": [
          1
         ],
         "x0": " ",
         "xaxis": "x",
         "y": [
          1
         ],
         "y0": " ",
         "yaxis": "y"
        },
        {
         "alignmentgroup": "True",
         "boxpoints": "all",
         "fillcolor": "rgba(255,255,255,0)",
         "hoveron": "points",
         "hovertemplate": "bids_name=sub-409228_acq-headmotion1_T1w<br>condition=%{x}<br>score=%{y}<extra></extra>",
         "legendgroup": "sub-409228_acq-headmotion1_T1w",
         "line": {
          "color": "rgba(255,255,255,0)"
         },
         "marker": {
          "color": "#19d3f3"
         },
         "name": "sub-409228_acq-headmotion1_T1w",
         "offsetgroup": "sub-409228_acq-headmotion1_T1w",
         "orientation": "v",
         "pointpos": 0,
         "showlegend": true,
         "type": "box",
         "x": [
          2
         ],
         "x0": " ",
         "xaxis": "x",
         "y": [
          3
         ],
         "y0": " ",
         "yaxis": "y"
        },
        {
         "alignmentgroup": "True",
         "boxpoints": "all",
         "fillcolor": "rgba(255,255,255,0)",
         "hoveron": "points",
         "hovertemplate": "bids_name=sub-409228_acq-headmotion2_T1w<br>condition=%{x}<br>score=%{y}<extra></extra>",
         "legendgroup": "sub-409228_acq-headmotion2_T1w",
         "line": {
          "color": "rgba(255,255,255,0)"
         },
         "marker": {
          "color": "#FF6692"
         },
         "name": "sub-409228_acq-headmotion2_T1w",
         "offsetgroup": "sub-409228_acq-headmotion2_T1w",
         "orientation": "v",
         "pointpos": 0,
         "showlegend": true,
         "type": "box",
         "x": [
          3
         ],
         "x0": " ",
         "xaxis": "x",
         "y": [
          3
         ],
         "y0": " ",
         "yaxis": "y"
        },
        {
         "alignmentgroup": "True",
         "boxpoints": "all",
         "fillcolor": "rgba(255,255,255,0)",
         "hoveron": "points",
         "hovertemplate": "bids_name=sub-409228_acq-standard_T1w<br>condition=%{x}<br>score=%{y}<extra></extra>",
         "legendgroup": "sub-409228_acq-standard_T1w",
         "line": {
          "color": "rgba(255,255,255,0)"
         },
         "marker": {
          "color": "#B6E880"
         },
         "name": "sub-409228_acq-standard_T1w",
         "offsetgroup": "sub-409228_acq-standard_T1w",
         "orientation": "v",
         "pointpos": 0,
         "showlegend": true,
         "type": "box",
         "x": [
          1
         ],
         "x0": " ",
         "xaxis": "x",
         "y": [
          1
         ],
         "y0": " ",
         "yaxis": "y"
        },
        {
         "alignmentgroup": "True",
         "boxpoints": "all",
         "fillcolor": "rgba(255,255,255,0)",
         "hoveron": "points",
         "hovertemplate": "bids_name=sub-424015_acq-headmotion2_T1w<br>condition=%{x}<br>score=%{y}<extra></extra>",
         "legendgroup": "sub-424015_acq-headmotion2_T1w",
         "line": {
          "color": "rgba(255,255,255,0)"
         },
         "marker": {
          "color": "#FF97FF"
         },
         "name": "sub-424015_acq-headmotion2_T1w",
         "offsetgroup": "sub-424015_acq-headmotion2_T1w",
         "orientation": "v",
         "pointpos": 0,
         "showlegend": true,
         "type": "box",
         "x": [
          3
         ],
         "x0": " ",
         "xaxis": "x",
         "y": [
          3
         ],
         "y0": " ",
         "yaxis": "y"
        },
        {
         "alignmentgroup": "True",
         "boxpoints": "all",
         "fillcolor": "rgba(255,255,255,0)",
         "hoveron": "points",
         "hovertemplate": "bids_name=sub-424015_acq-standard_T1w<br>condition=%{x}<br>score=%{y}<extra></extra>",
         "legendgroup": "sub-424015_acq-standard_T1w",
         "line": {
          "color": "rgba(255,255,255,0)"
         },
         "marker": {
          "color": "#FECB52"
         },
         "name": "sub-424015_acq-standard_T1w",
         "offsetgroup": "sub-424015_acq-standard_T1w",
         "orientation": "v",
         "pointpos": 0,
         "showlegend": true,
         "type": "box",
         "x": [
          1
         ],
         "x0": " ",
         "xaxis": "x",
         "y": [
          2
         ],
         "y0": " ",
         "yaxis": "y"
        },
        {
         "alignmentgroup": "True",
         "boxpoints": "all",
         "fillcolor": "rgba(255,255,255,0)",
         "hoveron": "points",
         "hovertemplate": "bids_name=sub-436999_acq-headmotion1_T1w<br>condition=%{x}<br>score=%{y}<extra></extra>",
         "legendgroup": "sub-436999_acq-headmotion1_T1w",
         "line": {
          "color": "rgba(255,255,255,0)"
         },
         "marker": {
          "color": "#636efa"
         },
         "name": "sub-436999_acq-headmotion1_T1w",
         "offsetgroup": "sub-436999_acq-headmotion1_T1w",
         "orientation": "v",
         "pointpos": 0,
         "showlegend": true,
         "type": "box",
         "x": [
          2
         ],
         "x0": " ",
         "xaxis": "x",
         "y": [
          1
         ],
         "y0": " ",
         "yaxis": "y"
        },
        {
         "alignmentgroup": "True",
         "boxpoints": "all",
         "fillcolor": "rgba(255,255,255,0)",
         "hoveron": "points",
         "hovertemplate": "bids_name=sub-436999_acq-headmotion2_T1w<br>condition=%{x}<br>score=%{y}<extra></extra>",
         "legendgroup": "sub-436999_acq-headmotion2_T1w",
         "line": {
          "color": "rgba(255,255,255,0)"
         },
         "marker": {
          "color": "#EF553B"
         },
         "name": "sub-436999_acq-headmotion2_T1w",
         "offsetgroup": "sub-436999_acq-headmotion2_T1w",
         "orientation": "v",
         "pointpos": 0,
         "showlegend": true,
         "type": "box",
         "x": [
          3
         ],
         "x0": " ",
         "xaxis": "x",
         "y": [
          3
         ],
         "y0": " ",
         "yaxis": "y"
        },
        {
         "alignmentgroup": "True",
         "boxpoints": "all",
         "fillcolor": "rgba(255,255,255,0)",
         "hoveron": "points",
         "hovertemplate": "bids_name=sub-436999_acq-standard_T1w<br>condition=%{x}<br>score=%{y}<extra></extra>",
         "legendgroup": "sub-436999_acq-standard_T1w",
         "line": {
          "color": "rgba(255,255,255,0)"
         },
         "marker": {
          "color": "#00cc96"
         },
         "name": "sub-436999_acq-standard_T1w",
         "offsetgroup": "sub-436999_acq-standard_T1w",
         "orientation": "v",
         "pointpos": 0,
         "showlegend": true,
         "type": "box",
         "x": [
          1
         ],
         "x0": " ",
         "xaxis": "x",
         "y": [
          1
         ],
         "y0": " ",
         "yaxis": "y"
        },
        {
         "alignmentgroup": "True",
         "boxpoints": "all",
         "fillcolor": "rgba(255,255,255,0)",
         "hoveron": "points",
         "hovertemplate": "bids_name=sub-440735_acq-headmotion1_T1w<br>condition=%{x}<br>score=%{y}<extra></extra>",
         "legendgroup": "sub-440735_acq-headmotion1_T1w",
         "line": {
          "color": "rgba(255,255,255,0)"
         },
         "marker": {
          "color": "#ab63fa"
         },
         "name": "sub-440735_acq-headmotion1_T1w",
         "offsetgroup": "sub-440735_acq-headmotion1_T1w",
         "orientation": "v",
         "pointpos": 0,
         "showlegend": true,
         "type": "box",
         "x": [
          2
         ],
         "x0": " ",
         "xaxis": "x",
         "y": [
          3
         ],
         "y0": " ",
         "yaxis": "y"
        },
        {
         "alignmentgroup": "True",
         "boxpoints": "all",
         "fillcolor": "rgba(255,255,255,0)",
         "hoveron": "points",
         "hovertemplate": "bids_name=sub-440735_acq-headmotion2_T1w<br>condition=%{x}<br>score=%{y}<extra></extra>",
         "legendgroup": "sub-440735_acq-headmotion2_T1w",
         "line": {
          "color": "rgba(255,255,255,0)"
         },
         "marker": {
          "color": "#FFA15A"
         },
         "name": "sub-440735_acq-headmotion2_T1w",
         "offsetgroup": "sub-440735_acq-headmotion2_T1w",
         "orientation": "v",
         "pointpos": 0,
         "showlegend": true,
         "type": "box",
         "x": [
          3
         ],
         "x0": " ",
         "xaxis": "x",
         "y": [
          3
         ],
         "y0": " ",
         "yaxis": "y"
        },
        {
         "alignmentgroup": "True",
         "boxpoints": "all",
         "fillcolor": "rgba(255,255,255,0)",
         "hoveron": "points",
         "hovertemplate": "bids_name=sub-440735_acq-standard_T1w<br>condition=%{x}<br>score=%{y}<extra></extra>",
         "legendgroup": "sub-440735_acq-standard_T1w",
         "line": {
          "color": "rgba(255,255,255,0)"
         },
         "marker": {
          "color": "#19d3f3"
         },
         "name": "sub-440735_acq-standard_T1w",
         "offsetgroup": "sub-440735_acq-standard_T1w",
         "orientation": "v",
         "pointpos": 0,
         "showlegend": true,
         "type": "box",
         "x": [
          1
         ],
         "x0": " ",
         "xaxis": "x",
         "y": [
          1
         ],
         "y0": " ",
         "yaxis": "y"
        },
        {
         "alignmentgroup": "True",
         "boxpoints": "all",
         "fillcolor": "rgba(255,255,255,0)",
         "hoveron": "points",
         "hovertemplate": "bids_name=sub-441269_acq-headmotion1_T1w<br>condition=%{x}<br>score=%{y}<extra></extra>",
         "legendgroup": "sub-441269_acq-headmotion1_T1w",
         "line": {
          "color": "rgba(255,255,255,0)"
         },
         "marker": {
          "color": "#FF6692"
         },
         "name": "sub-441269_acq-headmotion1_T1w",
         "offsetgroup": "sub-441269_acq-headmotion1_T1w",
         "orientation": "v",
         "pointpos": 0,
         "showlegend": true,
         "type": "box",
         "x": [
          2
         ],
         "x0": " ",
         "xaxis": "x",
         "y": [
          2
         ],
         "y0": " ",
         "yaxis": "y"
        },
        {
         "alignmentgroup": "True",
         "boxpoints": "all",
         "fillcolor": "rgba(255,255,255,0)",
         "hoveron": "points",
         "hovertemplate": "bids_name=sub-441269_acq-headmotion2_T1w<br>condition=%{x}<br>score=%{y}<extra></extra>",
         "legendgroup": "sub-441269_acq-headmotion2_T1w",
         "line": {
          "color": "rgba(255,255,255,0)"
         },
         "marker": {
          "color": "#B6E880"
         },
         "name": "sub-441269_acq-headmotion2_T1w",
         "offsetgroup": "sub-441269_acq-headmotion2_T1w",
         "orientation": "v",
         "pointpos": 0,
         "showlegend": true,
         "type": "box",
         "x": [
          3
         ],
         "x0": " ",
         "xaxis": "x",
         "y": [
          2
         ],
         "y0": " ",
         "yaxis": "y"
        },
        {
         "alignmentgroup": "True",
         "boxpoints": "all",
         "fillcolor": "rgba(255,255,255,0)",
         "hoveron": "points",
         "hovertemplate": "bids_name=sub-441269_acq-standard_T1w<br>condition=%{x}<br>score=%{y}<extra></extra>",
         "legendgroup": "sub-441269_acq-standard_T1w",
         "line": {
          "color": "rgba(255,255,255,0)"
         },
         "marker": {
          "color": "#FF97FF"
         },
         "name": "sub-441269_acq-standard_T1w",
         "offsetgroup": "sub-441269_acq-standard_T1w",
         "orientation": "v",
         "pointpos": 0,
         "showlegend": true,
         "type": "box",
         "x": [
          1
         ],
         "x0": " ",
         "xaxis": "x",
         "y": [
          2
         ],
         "y0": " ",
         "yaxis": "y"
        },
        {
         "alignmentgroup": "True",
         "boxpoints": "all",
         "fillcolor": "rgba(255,255,255,0)",
         "hoveron": "points",
         "hovertemplate": "bids_name=sub-453666_acq-headmotion1_T1w<br>condition=%{x}<br>score=%{y}<extra></extra>",
         "legendgroup": "sub-453666_acq-headmotion1_T1w",
         "line": {
          "color": "rgba(255,255,255,0)"
         },
         "marker": {
          "color": "#FECB52"
         },
         "name": "sub-453666_acq-headmotion1_T1w",
         "offsetgroup": "sub-453666_acq-headmotion1_T1w",
         "orientation": "v",
         "pointpos": 0,
         "showlegend": true,
         "type": "box",
         "x": [
          2
         ],
         "x0": " ",
         "xaxis": "x",
         "y": [
          2
         ],
         "y0": " ",
         "yaxis": "y"
        },
        {
         "alignmentgroup": "True",
         "boxpoints": "all",
         "fillcolor": "rgba(255,255,255,0)",
         "hoveron": "points",
         "hovertemplate": "bids_name=sub-453666_acq-headmotion2_T1w<br>condition=%{x}<br>score=%{y}<extra></extra>",
         "legendgroup": "sub-453666_acq-headmotion2_T1w",
         "line": {
          "color": "rgba(255,255,255,0)"
         },
         "marker": {
          "color": "#636efa"
         },
         "name": "sub-453666_acq-headmotion2_T1w",
         "offsetgroup": "sub-453666_acq-headmotion2_T1w",
         "orientation": "v",
         "pointpos": 0,
         "showlegend": true,
         "type": "box",
         "x": [
          3
         ],
         "x0": " ",
         "xaxis": "x",
         "y": [
          3
         ],
         "y0": " ",
         "yaxis": "y"
        },
        {
         "alignmentgroup": "True",
         "boxpoints": "all",
         "fillcolor": "rgba(255,255,255,0)",
         "hoveron": "points",
         "hovertemplate": "bids_name=sub-453666_acq-standard_T1w<br>condition=%{x}<br>score=%{y}<extra></extra>",
         "legendgroup": "sub-453666_acq-standard_T1w",
         "line": {
          "color": "rgba(255,255,255,0)"
         },
         "marker": {
          "color": "#EF553B"
         },
         "name": "sub-453666_acq-standard_T1w",
         "offsetgroup": "sub-453666_acq-standard_T1w",
         "orientation": "v",
         "pointpos": 0,
         "showlegend": true,
         "type": "box",
         "x": [
          1
         ],
         "x0": " ",
         "xaxis": "x",
         "y": [
          1
         ],
         "y0": " ",
         "yaxis": "y"
        },
        {
         "alignmentgroup": "True",
         "boxpoints": "all",
         "fillcolor": "rgba(255,255,255,0)",
         "hoveron": "points",
         "hovertemplate": "bids_name=sub-460834_acq-headmotion1_T1w<br>condition=%{x}<br>score=%{y}<extra></extra>",
         "legendgroup": "sub-460834_acq-headmotion1_T1w",
         "line": {
          "color": "rgba(255,255,255,0)"
         },
         "marker": {
          "color": "#00cc96"
         },
         "name": "sub-460834_acq-headmotion1_T1w",
         "offsetgroup": "sub-460834_acq-headmotion1_T1w",
         "orientation": "v",
         "pointpos": 0,
         "showlegend": true,
         "type": "box",
         "x": [
          2
         ],
         "x0": " ",
         "xaxis": "x",
         "y": [
          2
         ],
         "y0": " ",
         "yaxis": "y"
        },
        {
         "alignmentgroup": "True",
         "boxpoints": "all",
         "fillcolor": "rgba(255,255,255,0)",
         "hoveron": "points",
         "hovertemplate": "bids_name=sub-460834_acq-headmotion2_T1w<br>condition=%{x}<br>score=%{y}<extra></extra>",
         "legendgroup": "sub-460834_acq-headmotion2_T1w",
         "line": {
          "color": "rgba(255,255,255,0)"
         },
         "marker": {
          "color": "#ab63fa"
         },
         "name": "sub-460834_acq-headmotion2_T1w",
         "offsetgroup": "sub-460834_acq-headmotion2_T1w",
         "orientation": "v",
         "pointpos": 0,
         "showlegend": true,
         "type": "box",
         "x": [
          3
         ],
         "x0": " ",
         "xaxis": "x",
         "y": [
          3
         ],
         "y0": " ",
         "yaxis": "y"
        },
        {
         "alignmentgroup": "True",
         "boxpoints": "all",
         "fillcolor": "rgba(255,255,255,0)",
         "hoveron": "points",
         "hovertemplate": "bids_name=sub-460834_acq-standard_T1w<br>condition=%{x}<br>score=%{y}<extra></extra>",
         "legendgroup": "sub-460834_acq-standard_T1w",
         "line": {
          "color": "rgba(255,255,255,0)"
         },
         "marker": {
          "color": "#FFA15A"
         },
         "name": "sub-460834_acq-standard_T1w",
         "offsetgroup": "sub-460834_acq-standard_T1w",
         "orientation": "v",
         "pointpos": 0,
         "showlegend": true,
         "type": "box",
         "x": [
          1
         ],
         "x0": " ",
         "xaxis": "x",
         "y": [
          1
         ],
         "y0": " ",
         "yaxis": "y"
        },
        {
         "alignmentgroup": "True",
         "boxpoints": "all",
         "fillcolor": "rgba(255,255,255,0)",
         "hoveron": "points",
         "hovertemplate": "bids_name=sub-468609_acq-headmotion1_T1w<br>condition=%{x}<br>score=%{y}<extra></extra>",
         "legendgroup": "sub-468609_acq-headmotion1_T1w",
         "line": {
          "color": "rgba(255,255,255,0)"
         },
         "marker": {
          "color": "#19d3f3"
         },
         "name": "sub-468609_acq-headmotion1_T1w",
         "offsetgroup": "sub-468609_acq-headmotion1_T1w",
         "orientation": "v",
         "pointpos": 0,
         "showlegend": true,
         "type": "box",
         "x": [
          2
         ],
         "x0": " ",
         "xaxis": "x",
         "y": [
          3
         ],
         "y0": " ",
         "yaxis": "y"
        },
        {
         "alignmentgroup": "True",
         "boxpoints": "all",
         "fillcolor": "rgba(255,255,255,0)",
         "hoveron": "points",
         "hovertemplate": "bids_name=sub-468609_acq-headmotion2_T1w<br>condition=%{x}<br>score=%{y}<extra></extra>",
         "legendgroup": "sub-468609_acq-headmotion2_T1w",
         "line": {
          "color": "rgba(255,255,255,0)"
         },
         "marker": {
          "color": "#FF6692"
         },
         "name": "sub-468609_acq-headmotion2_T1w",
         "offsetgroup": "sub-468609_acq-headmotion2_T1w",
         "orientation": "v",
         "pointpos": 0,
         "showlegend": true,
         "type": "box",
         "x": [
          3
         ],
         "x0": " ",
         "xaxis": "x",
         "y": [
          3
         ],
         "y0": " ",
         "yaxis": "y"
        },
        {
         "alignmentgroup": "True",
         "boxpoints": "all",
         "fillcolor": "rgba(255,255,255,0)",
         "hoveron": "points",
         "hovertemplate": "bids_name=sub-468609_acq-standard_T1w<br>condition=%{x}<br>score=%{y}<extra></extra>",
         "legendgroup": "sub-468609_acq-standard_T1w",
         "line": {
          "color": "rgba(255,255,255,0)"
         },
         "marker": {
          "color": "#B6E880"
         },
         "name": "sub-468609_acq-standard_T1w",
         "offsetgroup": "sub-468609_acq-standard_T1w",
         "orientation": "v",
         "pointpos": 0,
         "showlegend": true,
         "type": "box",
         "x": [
          1
         ],
         "x0": " ",
         "xaxis": "x",
         "y": [
          2
         ],
         "y0": " ",
         "yaxis": "y"
        },
        {
         "alignmentgroup": "True",
         "boxpoints": "all",
         "fillcolor": "rgba(255,255,255,0)",
         "hoveron": "points",
         "hovertemplate": "bids_name=sub-502250_acq-headmotion1_T1w<br>condition=%{x}<br>score=%{y}<extra></extra>",
         "legendgroup": "sub-502250_acq-headmotion1_T1w",
         "line": {
          "color": "rgba(255,255,255,0)"
         },
         "marker": {
          "color": "#FF97FF"
         },
         "name": "sub-502250_acq-headmotion1_T1w",
         "offsetgroup": "sub-502250_acq-headmotion1_T1w",
         "orientation": "v",
         "pointpos": 0,
         "showlegend": true,
         "type": "box",
         "x": [
          2
         ],
         "x0": " ",
         "xaxis": "x",
         "y": [
          3
         ],
         "y0": " ",
         "yaxis": "y"
        },
        {
         "alignmentgroup": "True",
         "boxpoints": "all",
         "fillcolor": "rgba(255,255,255,0)",
         "hoveron": "points",
         "hovertemplate": "bids_name=sub-502250_acq-headmotion2_T1w<br>condition=%{x}<br>score=%{y}<extra></extra>",
         "legendgroup": "sub-502250_acq-headmotion2_T1w",
         "line": {
          "color": "rgba(255,255,255,0)"
         },
         "marker": {
          "color": "#FECB52"
         },
         "name": "sub-502250_acq-headmotion2_T1w",
         "offsetgroup": "sub-502250_acq-headmotion2_T1w",
         "orientation": "v",
         "pointpos": 0,
         "showlegend": true,
         "type": "box",
         "x": [
          3
         ],
         "x0": " ",
         "xaxis": "x",
         "y": [
          3
         ],
         "y0": " ",
         "yaxis": "y"
        },
        {
         "alignmentgroup": "True",
         "boxpoints": "all",
         "fillcolor": "rgba(255,255,255,0)",
         "hoveron": "points",
         "hovertemplate": "bids_name=sub-502250_acq-standard_T1w<br>condition=%{x}<br>score=%{y}<extra></extra>",
         "legendgroup": "sub-502250_acq-standard_T1w",
         "line": {
          "color": "rgba(255,255,255,0)"
         },
         "marker": {
          "color": "#636efa"
         },
         "name": "sub-502250_acq-standard_T1w",
         "offsetgroup": "sub-502250_acq-standard_T1w",
         "orientation": "v",
         "pointpos": 0,
         "showlegend": true,
         "type": "box",
         "x": [
          1
         ],
         "x0": " ",
         "xaxis": "x",
         "y": [
          1
         ],
         "y0": " ",
         "yaxis": "y"
        },
        {
         "alignmentgroup": "True",
         "boxpoints": "all",
         "fillcolor": "rgba(255,255,255,0)",
         "hoveron": "points",
         "hovertemplate": "bids_name=sub-508037_acq-headmotion1_T1w<br>condition=%{x}<br>score=%{y}<extra></extra>",
         "legendgroup": "sub-508037_acq-headmotion1_T1w",
         "line": {
          "color": "rgba(255,255,255,0)"
         },
         "marker": {
          "color": "#EF553B"
         },
         "name": "sub-508037_acq-headmotion1_T1w",
         "offsetgroup": "sub-508037_acq-headmotion1_T1w",
         "orientation": "v",
         "pointpos": 0,
         "showlegend": true,
         "type": "box",
         "x": [
          2
         ],
         "x0": " ",
         "xaxis": "x",
         "y": [
          2
         ],
         "y0": " ",
         "yaxis": "y"
        },
        {
         "alignmentgroup": "True",
         "boxpoints": "all",
         "fillcolor": "rgba(255,255,255,0)",
         "hoveron": "points",
         "hovertemplate": "bids_name=sub-508037_acq-headmotion2_T1w<br>condition=%{x}<br>score=%{y}<extra></extra>",
         "legendgroup": "sub-508037_acq-headmotion2_T1w",
         "line": {
          "color": "rgba(255,255,255,0)"
         },
         "marker": {
          "color": "#00cc96"
         },
         "name": "sub-508037_acq-headmotion2_T1w",
         "offsetgroup": "sub-508037_acq-headmotion2_T1w",
         "orientation": "v",
         "pointpos": 0,
         "showlegend": true,
         "type": "box",
         "x": [
          3
         ],
         "x0": " ",
         "xaxis": "x",
         "y": [
          3
         ],
         "y0": " ",
         "yaxis": "y"
        },
        {
         "alignmentgroup": "True",
         "boxpoints": "all",
         "fillcolor": "rgba(255,255,255,0)",
         "hoveron": "points",
         "hovertemplate": "bids_name=sub-508037_acq-standard_T1w<br>condition=%{x}<br>score=%{y}<extra></extra>",
         "legendgroup": "sub-508037_acq-standard_T1w",
         "line": {
          "color": "rgba(255,255,255,0)"
         },
         "marker": {
          "color": "#ab63fa"
         },
         "name": "sub-508037_acq-standard_T1w",
         "offsetgroup": "sub-508037_acq-standard_T1w",
         "orientation": "v",
         "pointpos": 0,
         "showlegend": true,
         "type": "box",
         "x": [
          1
         ],
         "x0": " ",
         "xaxis": "x",
         "y": [
          1
         ],
         "y0": " ",
         "yaxis": "y"
        },
        {
         "alignmentgroup": "True",
         "boxpoints": "all",
         "fillcolor": "rgba(255,255,255,0)",
         "hoveron": "points",
         "hovertemplate": "bids_name=sub-513281_acq-headmotion1_T1w<br>condition=%{x}<br>score=%{y}<extra></extra>",
         "legendgroup": "sub-513281_acq-headmotion1_T1w",
         "line": {
          "color": "rgba(255,255,255,0)"
         },
         "marker": {
          "color": "#FFA15A"
         },
         "name": "sub-513281_acq-headmotion1_T1w",
         "offsetgroup": "sub-513281_acq-headmotion1_T1w",
         "orientation": "v",
         "pointpos": 0,
         "showlegend": true,
         "type": "box",
         "x": [
          2
         ],
         "x0": " ",
         "xaxis": "x",
         "y": [
          1
         ],
         "y0": " ",
         "yaxis": "y"
        },
        {
         "alignmentgroup": "True",
         "boxpoints": "all",
         "fillcolor": "rgba(255,255,255,0)",
         "hoveron": "points",
         "hovertemplate": "bids_name=sub-513281_acq-headmotion2_T1w<br>condition=%{x}<br>score=%{y}<extra></extra>",
         "legendgroup": "sub-513281_acq-headmotion2_T1w",
         "line": {
          "color": "rgba(255,255,255,0)"
         },
         "marker": {
          "color": "#19d3f3"
         },
         "name": "sub-513281_acq-headmotion2_T1w",
         "offsetgroup": "sub-513281_acq-headmotion2_T1w",
         "orientation": "v",
         "pointpos": 0,
         "showlegend": true,
         "type": "box",
         "x": [
          3
         ],
         "x0": " ",
         "xaxis": "x",
         "y": [
          2
         ],
         "y0": " ",
         "yaxis": "y"
        },
        {
         "alignmentgroup": "True",
         "boxpoints": "all",
         "fillcolor": "rgba(255,255,255,0)",
         "hoveron": "points",
         "hovertemplate": "bids_name=sub-513281_acq-standard_T1w<br>condition=%{x}<br>score=%{y}<extra></extra>",
         "legendgroup": "sub-513281_acq-standard_T1w",
         "line": {
          "color": "rgba(255,255,255,0)"
         },
         "marker": {
          "color": "#FF6692"
         },
         "name": "sub-513281_acq-standard_T1w",
         "offsetgroup": "sub-513281_acq-standard_T1w",
         "orientation": "v",
         "pointpos": 0,
         "showlegend": true,
         "type": "box",
         "x": [
          1
         ],
         "x0": " ",
         "xaxis": "x",
         "y": [
          1
         ],
         "y0": " ",
         "yaxis": "y"
        },
        {
         "alignmentgroup": "True",
         "boxpoints": "all",
         "fillcolor": "rgba(255,255,255,0)",
         "hoveron": "points",
         "hovertemplate": "bids_name=sub-517724_acq-headmotion1_T1w<br>condition=%{x}<br>score=%{y}<extra></extra>",
         "legendgroup": "sub-517724_acq-headmotion1_T1w",
         "line": {
          "color": "rgba(255,255,255,0)"
         },
         "marker": {
          "color": "#B6E880"
         },
         "name": "sub-517724_acq-headmotion1_T1w",
         "offsetgroup": "sub-517724_acq-headmotion1_T1w",
         "orientation": "v",
         "pointpos": 0,
         "showlegend": true,
         "type": "box",
         "x": [
          2
         ],
         "x0": " ",
         "xaxis": "x",
         "y": [
          2
         ],
         "y0": " ",
         "yaxis": "y"
        },
        {
         "alignmentgroup": "True",
         "boxpoints": "all",
         "fillcolor": "rgba(255,255,255,0)",
         "hoveron": "points",
         "hovertemplate": "bids_name=sub-517724_acq-headmotion2_T1w<br>condition=%{x}<br>score=%{y}<extra></extra>",
         "legendgroup": "sub-517724_acq-headmotion2_T1w",
         "line": {
          "color": "rgba(255,255,255,0)"
         },
         "marker": {
          "color": "#FF97FF"
         },
         "name": "sub-517724_acq-headmotion2_T1w",
         "offsetgroup": "sub-517724_acq-headmotion2_T1w",
         "orientation": "v",
         "pointpos": 0,
         "showlegend": true,
         "type": "box",
         "x": [
          3
         ],
         "x0": " ",
         "xaxis": "x",
         "y": [
          3
         ],
         "y0": " ",
         "yaxis": "y"
        },
        {
         "alignmentgroup": "True",
         "boxpoints": "all",
         "fillcolor": "rgba(255,255,255,0)",
         "hoveron": "points",
         "hovertemplate": "bids_name=sub-517724_acq-standard_T1w<br>condition=%{x}<br>score=%{y}<extra></extra>",
         "legendgroup": "sub-517724_acq-standard_T1w",
         "line": {
          "color": "rgba(255,255,255,0)"
         },
         "marker": {
          "color": "#FECB52"
         },
         "name": "sub-517724_acq-standard_T1w",
         "offsetgroup": "sub-517724_acq-standard_T1w",
         "orientation": "v",
         "pointpos": 0,
         "showlegend": true,
         "type": "box",
         "x": [
          1
         ],
         "x0": " ",
         "xaxis": "x",
         "y": [
          1
         ],
         "y0": " ",
         "yaxis": "y"
        },
        {
         "alignmentgroup": "True",
         "boxpoints": "all",
         "fillcolor": "rgba(255,255,255,0)",
         "hoveron": "points",
         "hovertemplate": "bids_name=sub-519991_acq-headmotion1_T1w<br>condition=%{x}<br>score=%{y}<extra></extra>",
         "legendgroup": "sub-519991_acq-headmotion1_T1w",
         "line": {
          "color": "rgba(255,255,255,0)"
         },
         "marker": {
          "color": "#636efa"
         },
         "name": "sub-519991_acq-headmotion1_T1w",
         "offsetgroup": "sub-519991_acq-headmotion1_T1w",
         "orientation": "v",
         "pointpos": 0,
         "showlegend": true,
         "type": "box",
         "x": [
          2
         ],
         "x0": " ",
         "xaxis": "x",
         "y": [
          3
         ],
         "y0": " ",
         "yaxis": "y"
        },
        {
         "alignmentgroup": "True",
         "boxpoints": "all",
         "fillcolor": "rgba(255,255,255,0)",
         "hoveron": "points",
         "hovertemplate": "bids_name=sub-519991_acq-headmotion2_T1w<br>condition=%{x}<br>score=%{y}<extra></extra>",
         "legendgroup": "sub-519991_acq-headmotion2_T1w",
         "line": {
          "color": "rgba(255,255,255,0)"
         },
         "marker": {
          "color": "#EF553B"
         },
         "name": "sub-519991_acq-headmotion2_T1w",
         "offsetgroup": "sub-519991_acq-headmotion2_T1w",
         "orientation": "v",
         "pointpos": 0,
         "showlegend": true,
         "type": "box",
         "x": [
          3
         ],
         "x0": " ",
         "xaxis": "x",
         "y": [
          3
         ],
         "y0": " ",
         "yaxis": "y"
        },
        {
         "alignmentgroup": "True",
         "boxpoints": "all",
         "fillcolor": "rgba(255,255,255,0)",
         "hoveron": "points",
         "hovertemplate": "bids_name=sub-519991_acq-standard_T1w<br>condition=%{x}<br>score=%{y}<extra></extra>",
         "legendgroup": "sub-519991_acq-standard_T1w",
         "line": {
          "color": "rgba(255,255,255,0)"
         },
         "marker": {
          "color": "#00cc96"
         },
         "name": "sub-519991_acq-standard_T1w",
         "offsetgroup": "sub-519991_acq-standard_T1w",
         "orientation": "v",
         "pointpos": 0,
         "showlegend": true,
         "type": "box",
         "x": [
          1
         ],
         "x0": " ",
         "xaxis": "x",
         "y": [
          2
         ],
         "y0": " ",
         "yaxis": "y"
        },
        {
         "alignmentgroup": "True",
         "boxpoints": "all",
         "fillcolor": "rgba(255,255,255,0)",
         "hoveron": "points",
         "hovertemplate": "bids_name=sub-535925_acq-headmotion1_T1w<br>condition=%{x}<br>score=%{y}<extra></extra>",
         "legendgroup": "sub-535925_acq-headmotion1_T1w",
         "line": {
          "color": "rgba(255,255,255,0)"
         },
         "marker": {
          "color": "#ab63fa"
         },
         "name": "sub-535925_acq-headmotion1_T1w",
         "offsetgroup": "sub-535925_acq-headmotion1_T1w",
         "orientation": "v",
         "pointpos": 0,
         "showlegend": true,
         "type": "box",
         "x": [
          2
         ],
         "x0": " ",
         "xaxis": "x",
         "y": [
          2
         ],
         "y0": " ",
         "yaxis": "y"
        },
        {
         "alignmentgroup": "True",
         "boxpoints": "all",
         "fillcolor": "rgba(255,255,255,0)",
         "hoveron": "points",
         "hovertemplate": "bids_name=sub-535925_acq-headmotion2_T1w<br>condition=%{x}<br>score=%{y}<extra></extra>",
         "legendgroup": "sub-535925_acq-headmotion2_T1w",
         "line": {
          "color": "rgba(255,255,255,0)"
         },
         "marker": {
          "color": "#FFA15A"
         },
         "name": "sub-535925_acq-headmotion2_T1w",
         "offsetgroup": "sub-535925_acq-headmotion2_T1w",
         "orientation": "v",
         "pointpos": 0,
         "showlegend": true,
         "type": "box",
         "x": [
          3
         ],
         "x0": " ",
         "xaxis": "x",
         "y": [
          3
         ],
         "y0": " ",
         "yaxis": "y"
        },
        {
         "alignmentgroup": "True",
         "boxpoints": "all",
         "fillcolor": "rgba(255,255,255,0)",
         "hoveron": "points",
         "hovertemplate": "bids_name=sub-535925_acq-standard_T1w<br>condition=%{x}<br>score=%{y}<extra></extra>",
         "legendgroup": "sub-535925_acq-standard_T1w",
         "line": {
          "color": "rgba(255,255,255,0)"
         },
         "marker": {
          "color": "#19d3f3"
         },
         "name": "sub-535925_acq-standard_T1w",
         "offsetgroup": "sub-535925_acq-standard_T1w",
         "orientation": "v",
         "pointpos": 0,
         "showlegend": true,
         "type": "box",
         "x": [
          1
         ],
         "x0": " ",
         "xaxis": "x",
         "y": [
          1
         ],
         "y0": " ",
         "yaxis": "y"
        },
        {
         "alignmentgroup": "True",
         "boxpoints": "all",
         "fillcolor": "rgba(255,255,255,0)",
         "hoveron": "points",
         "hovertemplate": "bids_name=sub-549056_acq-headmotion1_T1w<br>condition=%{x}<br>score=%{y}<extra></extra>",
         "legendgroup": "sub-549056_acq-headmotion1_T1w",
         "line": {
          "color": "rgba(255,255,255,0)"
         },
         "marker": {
          "color": "#FF6692"
         },
         "name": "sub-549056_acq-headmotion1_T1w",
         "offsetgroup": "sub-549056_acq-headmotion1_T1w",
         "orientation": "v",
         "pointpos": 0,
         "showlegend": true,
         "type": "box",
         "x": [
          2
         ],
         "x0": " ",
         "xaxis": "x",
         "y": [
          3
         ],
         "y0": " ",
         "yaxis": "y"
        },
        {
         "alignmentgroup": "True",
         "boxpoints": "all",
         "fillcolor": "rgba(255,255,255,0)",
         "hoveron": "points",
         "hovertemplate": "bids_name=sub-549056_acq-headmotion2_T1w<br>condition=%{x}<br>score=%{y}<extra></extra>",
         "legendgroup": "sub-549056_acq-headmotion2_T1w",
         "line": {
          "color": "rgba(255,255,255,0)"
         },
         "marker": {
          "color": "#B6E880"
         },
         "name": "sub-549056_acq-headmotion2_T1w",
         "offsetgroup": "sub-549056_acq-headmotion2_T1w",
         "orientation": "v",
         "pointpos": 0,
         "showlegend": true,
         "type": "box",
         "x": [
          3
         ],
         "x0": " ",
         "xaxis": "x",
         "y": [
          3
         ],
         "y0": " ",
         "yaxis": "y"
        },
        {
         "alignmentgroup": "True",
         "boxpoints": "all",
         "fillcolor": "rgba(255,255,255,0)",
         "hoveron": "points",
         "hovertemplate": "bids_name=sub-549056_acq-standard_T1w<br>condition=%{x}<br>score=%{y}<extra></extra>",
         "legendgroup": "sub-549056_acq-standard_T1w",
         "line": {
          "color": "rgba(255,255,255,0)"
         },
         "marker": {
          "color": "#FF97FF"
         },
         "name": "sub-549056_acq-standard_T1w",
         "offsetgroup": "sub-549056_acq-standard_T1w",
         "orientation": "v",
         "pointpos": 0,
         "showlegend": true,
         "type": "box",
         "x": [
          1
         ],
         "x0": " ",
         "xaxis": "x",
         "y": [
          2
         ],
         "y0": " ",
         "yaxis": "y"
        },
        {
         "alignmentgroup": "True",
         "boxpoints": "all",
         "fillcolor": "rgba(255,255,255,0)",
         "hoveron": "points",
         "hovertemplate": "bids_name=sub-561646_acq-headmotion1_T1w<br>condition=%{x}<br>score=%{y}<extra></extra>",
         "legendgroup": "sub-561646_acq-headmotion1_T1w",
         "line": {
          "color": "rgba(255,255,255,0)"
         },
         "marker": {
          "color": "#FECB52"
         },
         "name": "sub-561646_acq-headmotion1_T1w",
         "offsetgroup": "sub-561646_acq-headmotion1_T1w",
         "orientation": "v",
         "pointpos": 0,
         "showlegend": true,
         "type": "box",
         "x": [
          2
         ],
         "x0": " ",
         "xaxis": "x",
         "y": [
          2
         ],
         "y0": " ",
         "yaxis": "y"
        },
        {
         "alignmentgroup": "True",
         "boxpoints": "all",
         "fillcolor": "rgba(255,255,255,0)",
         "hoveron": "points",
         "hovertemplate": "bids_name=sub-561646_acq-headmotion2_T1w<br>condition=%{x}<br>score=%{y}<extra></extra>",
         "legendgroup": "sub-561646_acq-headmotion2_T1w",
         "line": {
          "color": "rgba(255,255,255,0)"
         },
         "marker": {
          "color": "#636efa"
         },
         "name": "sub-561646_acq-headmotion2_T1w",
         "offsetgroup": "sub-561646_acq-headmotion2_T1w",
         "orientation": "v",
         "pointpos": 0,
         "showlegend": true,
         "type": "box",
         "x": [
          3
         ],
         "x0": " ",
         "xaxis": "x",
         "y": [
          3
         ],
         "y0": " ",
         "yaxis": "y"
        },
        {
         "alignmentgroup": "True",
         "boxpoints": "all",
         "fillcolor": "rgba(255,255,255,0)",
         "hoveron": "points",
         "hovertemplate": "bids_name=sub-561646_acq-standard_T1w<br>condition=%{x}<br>score=%{y}<extra></extra>",
         "legendgroup": "sub-561646_acq-standard_T1w",
         "line": {
          "color": "rgba(255,255,255,0)"
         },
         "marker": {
          "color": "#EF553B"
         },
         "name": "sub-561646_acq-standard_T1w",
         "offsetgroup": "sub-561646_acq-standard_T1w",
         "orientation": "v",
         "pointpos": 0,
         "showlegend": true,
         "type": "box",
         "x": [
          1
         ],
         "x0": " ",
         "xaxis": "x",
         "y": [
          1
         ],
         "y0": " ",
         "yaxis": "y"
        },
        {
         "alignmentgroup": "True",
         "boxpoints": "all",
         "fillcolor": "rgba(255,255,255,0)",
         "hoveron": "points",
         "hovertemplate": "bids_name=sub-567551_acq-headmotion1_T1w<br>condition=%{x}<br>score=%{y}<extra></extra>",
         "legendgroup": "sub-567551_acq-headmotion1_T1w",
         "line": {
          "color": "rgba(255,255,255,0)"
         },
         "marker": {
          "color": "#00cc96"
         },
         "name": "sub-567551_acq-headmotion1_T1w",
         "offsetgroup": "sub-567551_acq-headmotion1_T1w",
         "orientation": "v",
         "pointpos": 0,
         "showlegend": true,
         "type": "box",
         "x": [
          2
         ],
         "x0": " ",
         "xaxis": "x",
         "y": [
          3
         ],
         "y0": " ",
         "yaxis": "y"
        },
        {
         "alignmentgroup": "True",
         "boxpoints": "all",
         "fillcolor": "rgba(255,255,255,0)",
         "hoveron": "points",
         "hovertemplate": "bids_name=sub-567551_acq-headmotion2_T1w<br>condition=%{x}<br>score=%{y}<extra></extra>",
         "legendgroup": "sub-567551_acq-headmotion2_T1w",
         "line": {
          "color": "rgba(255,255,255,0)"
         },
         "marker": {
          "color": "#ab63fa"
         },
         "name": "sub-567551_acq-headmotion2_T1w",
         "offsetgroup": "sub-567551_acq-headmotion2_T1w",
         "orientation": "v",
         "pointpos": 0,
         "showlegend": true,
         "type": "box",
         "x": [
          3
         ],
         "x0": " ",
         "xaxis": "x",
         "y": [
          3
         ],
         "y0": " ",
         "yaxis": "y"
        },
        {
         "alignmentgroup": "True",
         "boxpoints": "all",
         "fillcolor": "rgba(255,255,255,0)",
         "hoveron": "points",
         "hovertemplate": "bids_name=sub-567551_acq-standard_T1w<br>condition=%{x}<br>score=%{y}<extra></extra>",
         "legendgroup": "sub-567551_acq-standard_T1w",
         "line": {
          "color": "rgba(255,255,255,0)"
         },
         "marker": {
          "color": "#FFA15A"
         },
         "name": "sub-567551_acq-standard_T1w",
         "offsetgroup": "sub-567551_acq-standard_T1w",
         "orientation": "v",
         "pointpos": 0,
         "showlegend": true,
         "type": "box",
         "x": [
          1
         ],
         "x0": " ",
         "xaxis": "x",
         "y": [
          2
         ],
         "y0": " ",
         "yaxis": "y"
        },
        {
         "alignmentgroup": "True",
         "boxpoints": "all",
         "fillcolor": "rgba(255,255,255,0)",
         "hoveron": "points",
         "hovertemplate": "bids_name=sub-567742_acq-headmotion1_T1w<br>condition=%{x}<br>score=%{y}<extra></extra>",
         "legendgroup": "sub-567742_acq-headmotion1_T1w",
         "line": {
          "color": "rgba(255,255,255,0)"
         },
         "marker": {
          "color": "#19d3f3"
         },
         "name": "sub-567742_acq-headmotion1_T1w",
         "offsetgroup": "sub-567742_acq-headmotion1_T1w",
         "orientation": "v",
         "pointpos": 0,
         "showlegend": true,
         "type": "box",
         "x": [
          2
         ],
         "x0": " ",
         "xaxis": "x",
         "y": [
          1
         ],
         "y0": " ",
         "yaxis": "y"
        },
        {
         "alignmentgroup": "True",
         "boxpoints": "all",
         "fillcolor": "rgba(255,255,255,0)",
         "hoveron": "points",
         "hovertemplate": "bids_name=sub-567742_acq-headmotion2_T1w<br>condition=%{x}<br>score=%{y}<extra></extra>",
         "legendgroup": "sub-567742_acq-headmotion2_T1w",
         "line": {
          "color": "rgba(255,255,255,0)"
         },
         "marker": {
          "color": "#FF6692"
         },
         "name": "sub-567742_acq-headmotion2_T1w",
         "offsetgroup": "sub-567742_acq-headmotion2_T1w",
         "orientation": "v",
         "pointpos": 0,
         "showlegend": true,
         "type": "box",
         "x": [
          3
         ],
         "x0": " ",
         "xaxis": "x",
         "y": [
          1
         ],
         "y0": " ",
         "yaxis": "y"
        },
        {
         "alignmentgroup": "True",
         "boxpoints": "all",
         "fillcolor": "rgba(255,255,255,0)",
         "hoveron": "points",
         "hovertemplate": "bids_name=sub-567742_acq-standard_T1w<br>condition=%{x}<br>score=%{y}<extra></extra>",
         "legendgroup": "sub-567742_acq-standard_T1w",
         "line": {
          "color": "rgba(255,255,255,0)"
         },
         "marker": {
          "color": "#B6E880"
         },
         "name": "sub-567742_acq-standard_T1w",
         "offsetgroup": "sub-567742_acq-standard_T1w",
         "orientation": "v",
         "pointpos": 0,
         "showlegend": true,
         "type": "box",
         "x": [
          1
         ],
         "x0": " ",
         "xaxis": "x",
         "y": [
          1
         ],
         "y0": " ",
         "yaxis": "y"
        },
        {
         "alignmentgroup": "True",
         "boxpoints": "all",
         "fillcolor": "rgba(255,255,255,0)",
         "hoveron": "points",
         "hovertemplate": "bids_name=sub-570379_acq-headmotion1_T1w<br>condition=%{x}<br>score=%{y}<extra></extra>",
         "legendgroup": "sub-570379_acq-headmotion1_T1w",
         "line": {
          "color": "rgba(255,255,255,0)"
         },
         "marker": {
          "color": "#FF97FF"
         },
         "name": "sub-570379_acq-headmotion1_T1w",
         "offsetgroup": "sub-570379_acq-headmotion1_T1w",
         "orientation": "v",
         "pointpos": 0,
         "showlegend": true,
         "type": "box",
         "x": [
          2
         ],
         "x0": " ",
         "xaxis": "x",
         "y": [
          3
         ],
         "y0": " ",
         "yaxis": "y"
        },
        {
         "alignmentgroup": "True",
         "boxpoints": "all",
         "fillcolor": "rgba(255,255,255,0)",
         "hoveron": "points",
         "hovertemplate": "bids_name=sub-570379_acq-headmotion2_T1w<br>condition=%{x}<br>score=%{y}<extra></extra>",
         "legendgroup": "sub-570379_acq-headmotion2_T1w",
         "line": {
          "color": "rgba(255,255,255,0)"
         },
         "marker": {
          "color": "#FECB52"
         },
         "name": "sub-570379_acq-headmotion2_T1w",
         "offsetgroup": "sub-570379_acq-headmotion2_T1w",
         "orientation": "v",
         "pointpos": 0,
         "showlegend": true,
         "type": "box",
         "x": [
          3
         ],
         "x0": " ",
         "xaxis": "x",
         "y": [
          3
         ],
         "y0": " ",
         "yaxis": "y"
        },
        {
         "alignmentgroup": "True",
         "boxpoints": "all",
         "fillcolor": "rgba(255,255,255,0)",
         "hoveron": "points",
         "hovertemplate": "bids_name=sub-570379_acq-standard_T1w<br>condition=%{x}<br>score=%{y}<extra></extra>",
         "legendgroup": "sub-570379_acq-standard_T1w",
         "line": {
          "color": "rgba(255,255,255,0)"
         },
         "marker": {
          "color": "#636efa"
         },
         "name": "sub-570379_acq-standard_T1w",
         "offsetgroup": "sub-570379_acq-standard_T1w",
         "orientation": "v",
         "pointpos": 0,
         "showlegend": true,
         "type": "box",
         "x": [
          1
         ],
         "x0": " ",
         "xaxis": "x",
         "y": [
          1
         ],
         "y0": " ",
         "yaxis": "y"
        },
        {
         "alignmentgroup": "True",
         "boxpoints": "all",
         "fillcolor": "rgba(255,255,255,0)",
         "hoveron": "points",
         "hovertemplate": "bids_name=sub-579247_acq-headmotion1_T1w<br>condition=%{x}<br>score=%{y}<extra></extra>",
         "legendgroup": "sub-579247_acq-headmotion1_T1w",
         "line": {
          "color": "rgba(255,255,255,0)"
         },
         "marker": {
          "color": "#EF553B"
         },
         "name": "sub-579247_acq-headmotion1_T1w",
         "offsetgroup": "sub-579247_acq-headmotion1_T1w",
         "orientation": "v",
         "pointpos": 0,
         "showlegend": true,
         "type": "box",
         "x": [
          2
         ],
         "x0": " ",
         "xaxis": "x",
         "y": [
          2
         ],
         "y0": " ",
         "yaxis": "y"
        },
        {
         "alignmentgroup": "True",
         "boxpoints": "all",
         "fillcolor": "rgba(255,255,255,0)",
         "hoveron": "points",
         "hovertemplate": "bids_name=sub-579247_acq-headmotion2_T1w<br>condition=%{x}<br>score=%{y}<extra></extra>",
         "legendgroup": "sub-579247_acq-headmotion2_T1w",
         "line": {
          "color": "rgba(255,255,255,0)"
         },
         "marker": {
          "color": "#00cc96"
         },
         "name": "sub-579247_acq-headmotion2_T1w",
         "offsetgroup": "sub-579247_acq-headmotion2_T1w",
         "orientation": "v",
         "pointpos": 0,
         "showlegend": true,
         "type": "box",
         "x": [
          3
         ],
         "x0": " ",
         "xaxis": "x",
         "y": [
          3
         ],
         "y0": " ",
         "yaxis": "y"
        },
        {
         "alignmentgroup": "True",
         "boxpoints": "all",
         "fillcolor": "rgba(255,255,255,0)",
         "hoveron": "points",
         "hovertemplate": "bids_name=sub-579247_acq-standard_T1w<br>condition=%{x}<br>score=%{y}<extra></extra>",
         "legendgroup": "sub-579247_acq-standard_T1w",
         "line": {
          "color": "rgba(255,255,255,0)"
         },
         "marker": {
          "color": "#ab63fa"
         },
         "name": "sub-579247_acq-standard_T1w",
         "offsetgroup": "sub-579247_acq-standard_T1w",
         "orientation": "v",
         "pointpos": 0,
         "showlegend": true,
         "type": "box",
         "x": [
          1
         ],
         "x0": " ",
         "xaxis": "x",
         "y": [
          1
         ],
         "y0": " ",
         "yaxis": "y"
        },
        {
         "alignmentgroup": "True",
         "boxpoints": "all",
         "fillcolor": "rgba(255,255,255,0)",
         "hoveron": "points",
         "hovertemplate": "bids_name=sub-581638_acq-headmotion1_T1w<br>condition=%{x}<br>score=%{y}<extra></extra>",
         "legendgroup": "sub-581638_acq-headmotion1_T1w",
         "line": {
          "color": "rgba(255,255,255,0)"
         },
         "marker": {
          "color": "#FFA15A"
         },
         "name": "sub-581638_acq-headmotion1_T1w",
         "offsetgroup": "sub-581638_acq-headmotion1_T1w",
         "orientation": "v",
         "pointpos": 0,
         "showlegend": true,
         "type": "box",
         "x": [
          2
         ],
         "x0": " ",
         "xaxis": "x",
         "y": [
          2
         ],
         "y0": " ",
         "yaxis": "y"
        },
        {
         "alignmentgroup": "True",
         "boxpoints": "all",
         "fillcolor": "rgba(255,255,255,0)",
         "hoveron": "points",
         "hovertemplate": "bids_name=sub-581638_acq-headmotion2_T1w<br>condition=%{x}<br>score=%{y}<extra></extra>",
         "legendgroup": "sub-581638_acq-headmotion2_T1w",
         "line": {
          "color": "rgba(255,255,255,0)"
         },
         "marker": {
          "color": "#19d3f3"
         },
         "name": "sub-581638_acq-headmotion2_T1w",
         "offsetgroup": "sub-581638_acq-headmotion2_T1w",
         "orientation": "v",
         "pointpos": 0,
         "showlegend": true,
         "type": "box",
         "x": [
          3
         ],
         "x0": " ",
         "xaxis": "x",
         "y": [
          3
         ],
         "y0": " ",
         "yaxis": "y"
        },
        {
         "alignmentgroup": "True",
         "boxpoints": "all",
         "fillcolor": "rgba(255,255,255,0)",
         "hoveron": "points",
         "hovertemplate": "bids_name=sub-581638_acq-standard_T1w<br>condition=%{x}<br>score=%{y}<extra></extra>",
         "legendgroup": "sub-581638_acq-standard_T1w",
         "line": {
          "color": "rgba(255,255,255,0)"
         },
         "marker": {
          "color": "#FF6692"
         },
         "name": "sub-581638_acq-standard_T1w",
         "offsetgroup": "sub-581638_acq-standard_T1w",
         "orientation": "v",
         "pointpos": 0,
         "showlegend": true,
         "type": "box",
         "x": [
          1
         ],
         "x0": " ",
         "xaxis": "x",
         "y": [
          1
         ],
         "y0": " ",
         "yaxis": "y"
        },
        {
         "alignmentgroup": "True",
         "boxpoints": "all",
         "fillcolor": "rgba(255,255,255,0)",
         "hoveron": "points",
         "hovertemplate": "bids_name=sub-584264_acq-headmotion1_T1w<br>condition=%{x}<br>score=%{y}<extra></extra>",
         "legendgroup": "sub-584264_acq-headmotion1_T1w",
         "line": {
          "color": "rgba(255,255,255,0)"
         },
         "marker": {
          "color": "#B6E880"
         },
         "name": "sub-584264_acq-headmotion1_T1w",
         "offsetgroup": "sub-584264_acq-headmotion1_T1w",
         "orientation": "v",
         "pointpos": 0,
         "showlegend": true,
         "type": "box",
         "x": [
          2
         ],
         "x0": " ",
         "xaxis": "x",
         "y": [
          3
         ],
         "y0": " ",
         "yaxis": "y"
        },
        {
         "alignmentgroup": "True",
         "boxpoints": "all",
         "fillcolor": "rgba(255,255,255,0)",
         "hoveron": "points",
         "hovertemplate": "bids_name=sub-584264_acq-headmotion2_T1w<br>condition=%{x}<br>score=%{y}<extra></extra>",
         "legendgroup": "sub-584264_acq-headmotion2_T1w",
         "line": {
          "color": "rgba(255,255,255,0)"
         },
         "marker": {
          "color": "#FF97FF"
         },
         "name": "sub-584264_acq-headmotion2_T1w",
         "offsetgroup": "sub-584264_acq-headmotion2_T1w",
         "orientation": "v",
         "pointpos": 0,
         "showlegend": true,
         "type": "box",
         "x": [
          3
         ],
         "x0": " ",
         "xaxis": "x",
         "y": [
          3
         ],
         "y0": " ",
         "yaxis": "y"
        },
        {
         "alignmentgroup": "True",
         "boxpoints": "all",
         "fillcolor": "rgba(255,255,255,0)",
         "hoveron": "points",
         "hovertemplate": "bids_name=sub-584264_acq-standard_T1w<br>condition=%{x}<br>score=%{y}<extra></extra>",
         "legendgroup": "sub-584264_acq-standard_T1w",
         "line": {
          "color": "rgba(255,255,255,0)"
         },
         "marker": {
          "color": "#FECB52"
         },
         "name": "sub-584264_acq-standard_T1w",
         "offsetgroup": "sub-584264_acq-standard_T1w",
         "orientation": "v",
         "pointpos": 0,
         "showlegend": true,
         "type": "box",
         "x": [
          1
         ],
         "x0": " ",
         "xaxis": "x",
         "y": [
          2
         ],
         "y0": " ",
         "yaxis": "y"
        },
        {
         "alignmentgroup": "True",
         "boxpoints": "all",
         "fillcolor": "rgba(255,255,255,0)",
         "hoveron": "points",
         "hovertemplate": "bids_name=sub-593354_acq-headmotion1_T1w<br>condition=%{x}<br>score=%{y}<extra></extra>",
         "legendgroup": "sub-593354_acq-headmotion1_T1w",
         "line": {
          "color": "rgba(255,255,255,0)"
         },
         "marker": {
          "color": "#636efa"
         },
         "name": "sub-593354_acq-headmotion1_T1w",
         "offsetgroup": "sub-593354_acq-headmotion1_T1w",
         "orientation": "v",
         "pointpos": 0,
         "showlegend": true,
         "type": "box",
         "x": [
          2
         ],
         "x0": " ",
         "xaxis": "x",
         "y": [
          3
         ],
         "y0": " ",
         "yaxis": "y"
        },
        {
         "alignmentgroup": "True",
         "boxpoints": "all",
         "fillcolor": "rgba(255,255,255,0)",
         "hoveron": "points",
         "hovertemplate": "bids_name=sub-593354_acq-headmotion2_T1w<br>condition=%{x}<br>score=%{y}<extra></extra>",
         "legendgroup": "sub-593354_acq-headmotion2_T1w",
         "line": {
          "color": "rgba(255,255,255,0)"
         },
         "marker": {
          "color": "#EF553B"
         },
         "name": "sub-593354_acq-headmotion2_T1w",
         "offsetgroup": "sub-593354_acq-headmotion2_T1w",
         "orientation": "v",
         "pointpos": 0,
         "showlegend": true,
         "type": "box",
         "x": [
          3
         ],
         "x0": " ",
         "xaxis": "x",
         "y": [
          3
         ],
         "y0": " ",
         "yaxis": "y"
        },
        {
         "alignmentgroup": "True",
         "boxpoints": "all",
         "fillcolor": "rgba(255,255,255,0)",
         "hoveron": "points",
         "hovertemplate": "bids_name=sub-593354_acq-standard_T1w<br>condition=%{x}<br>score=%{y}<extra></extra>",
         "legendgroup": "sub-593354_acq-standard_T1w",
         "line": {
          "color": "rgba(255,255,255,0)"
         },
         "marker": {
          "color": "#00cc96"
         },
         "name": "sub-593354_acq-standard_T1w",
         "offsetgroup": "sub-593354_acq-standard_T1w",
         "orientation": "v",
         "pointpos": 0,
         "showlegend": true,
         "type": "box",
         "x": [
          1
         ],
         "x0": " ",
         "xaxis": "x",
         "y": [
          1
         ],
         "y0": " ",
         "yaxis": "y"
        },
        {
         "alignmentgroup": "True",
         "boxpoints": "all",
         "fillcolor": "rgba(255,255,255,0)",
         "hoveron": "points",
         "hovertemplate": "bids_name=sub-597083_acq-headmotion1_T1w<br>condition=%{x}<br>score=%{y}<extra></extra>",
         "legendgroup": "sub-597083_acq-headmotion1_T1w",
         "line": {
          "color": "rgba(255,255,255,0)"
         },
         "marker": {
          "color": "#ab63fa"
         },
         "name": "sub-597083_acq-headmotion1_T1w",
         "offsetgroup": "sub-597083_acq-headmotion1_T1w",
         "orientation": "v",
         "pointpos": 0,
         "showlegend": true,
         "type": "box",
         "x": [
          2
         ],
         "x0": " ",
         "xaxis": "x",
         "y": [
          3
         ],
         "y0": " ",
         "yaxis": "y"
        },
        {
         "alignmentgroup": "True",
         "boxpoints": "all",
         "fillcolor": "rgba(255,255,255,0)",
         "hoveron": "points",
         "hovertemplate": "bids_name=sub-597083_acq-headmotion2_T1w<br>condition=%{x}<br>score=%{y}<extra></extra>",
         "legendgroup": "sub-597083_acq-headmotion2_T1w",
         "line": {
          "color": "rgba(255,255,255,0)"
         },
         "marker": {
          "color": "#FFA15A"
         },
         "name": "sub-597083_acq-headmotion2_T1w",
         "offsetgroup": "sub-597083_acq-headmotion2_T1w",
         "orientation": "v",
         "pointpos": 0,
         "showlegend": true,
         "type": "box",
         "x": [
          3
         ],
         "x0": " ",
         "xaxis": "x",
         "y": [
          3
         ],
         "y0": " ",
         "yaxis": "y"
        },
        {
         "alignmentgroup": "True",
         "boxpoints": "all",
         "fillcolor": "rgba(255,255,255,0)",
         "hoveron": "points",
         "hovertemplate": "bids_name=sub-597083_acq-standard_T1w<br>condition=%{x}<br>score=%{y}<extra></extra>",
         "legendgroup": "sub-597083_acq-standard_T1w",
         "line": {
          "color": "rgba(255,255,255,0)"
         },
         "marker": {
          "color": "#19d3f3"
         },
         "name": "sub-597083_acq-standard_T1w",
         "offsetgroup": "sub-597083_acq-standard_T1w",
         "orientation": "v",
         "pointpos": 0,
         "showlegend": true,
         "type": "box",
         "x": [
          1
         ],
         "x0": " ",
         "xaxis": "x",
         "y": [
          2
         ],
         "y0": " ",
         "yaxis": "y"
        },
        {
         "alignmentgroup": "True",
         "boxpoints": "all",
         "fillcolor": "rgba(255,255,255,0)",
         "hoveron": "points",
         "hovertemplate": "bids_name=sub-598630_acq-headmotion2_T1w<br>condition=%{x}<br>score=%{y}<extra></extra>",
         "legendgroup": "sub-598630_acq-headmotion2_T1w",
         "line": {
          "color": "rgba(255,255,255,0)"
         },
         "marker": {
          "color": "#FF6692"
         },
         "name": "sub-598630_acq-headmotion2_T1w",
         "offsetgroup": "sub-598630_acq-headmotion2_T1w",
         "orientation": "v",
         "pointpos": 0,
         "showlegend": true,
         "type": "box",
         "x": [
          3
         ],
         "x0": " ",
         "xaxis": "x",
         "y": [
          3
         ],
         "y0": " ",
         "yaxis": "y"
        },
        {
         "alignmentgroup": "True",
         "boxpoints": "all",
         "fillcolor": "rgba(255,255,255,0)",
         "hoveron": "points",
         "hovertemplate": "bids_name=sub-598630_acq-standard_T1w<br>condition=%{x}<br>score=%{y}<extra></extra>",
         "legendgroup": "sub-598630_acq-standard_T1w",
         "line": {
          "color": "rgba(255,255,255,0)"
         },
         "marker": {
          "color": "#B6E880"
         },
         "name": "sub-598630_acq-standard_T1w",
         "offsetgroup": "sub-598630_acq-standard_T1w",
         "orientation": "v",
         "pointpos": 0,
         "showlegend": true,
         "type": "box",
         "x": [
          1
         ],
         "x0": " ",
         "xaxis": "x",
         "y": [
          2
         ],
         "y0": " ",
         "yaxis": "y"
        },
        {
         "alignmentgroup": "True",
         "boxpoints": "all",
         "fillcolor": "rgba(255,255,255,0)",
         "hoveron": "points",
         "hovertemplate": "bids_name=sub-599619_acq-headmotion1_T1w<br>condition=%{x}<br>score=%{y}<extra></extra>",
         "legendgroup": "sub-599619_acq-headmotion1_T1w",
         "line": {
          "color": "rgba(255,255,255,0)"
         },
         "marker": {
          "color": "#FF97FF"
         },
         "name": "sub-599619_acq-headmotion1_T1w",
         "offsetgroup": "sub-599619_acq-headmotion1_T1w",
         "orientation": "v",
         "pointpos": 0,
         "showlegend": true,
         "type": "box",
         "x": [
          2
         ],
         "x0": " ",
         "xaxis": "x",
         "y": [
          2
         ],
         "y0": " ",
         "yaxis": "y"
        },
        {
         "alignmentgroup": "True",
         "boxpoints": "all",
         "fillcolor": "rgba(255,255,255,0)",
         "hoveron": "points",
         "hovertemplate": "bids_name=sub-599619_acq-headmotion2_T1w<br>condition=%{x}<br>score=%{y}<extra></extra>",
         "legendgroup": "sub-599619_acq-headmotion2_T1w",
         "line": {
          "color": "rgba(255,255,255,0)"
         },
         "marker": {
          "color": "#FECB52"
         },
         "name": "sub-599619_acq-headmotion2_T1w",
         "offsetgroup": "sub-599619_acq-headmotion2_T1w",
         "orientation": "v",
         "pointpos": 0,
         "showlegend": true,
         "type": "box",
         "x": [
          3
         ],
         "x0": " ",
         "xaxis": "x",
         "y": [
          2
         ],
         "y0": " ",
         "yaxis": "y"
        },
        {
         "alignmentgroup": "True",
         "boxpoints": "all",
         "fillcolor": "rgba(255,255,255,0)",
         "hoveron": "points",
         "hovertemplate": "bids_name=sub-599619_acq-standard_T1w<br>condition=%{x}<br>score=%{y}<extra></extra>",
         "legendgroup": "sub-599619_acq-standard_T1w",
         "line": {
          "color": "rgba(255,255,255,0)"
         },
         "marker": {
          "color": "#636efa"
         },
         "name": "sub-599619_acq-standard_T1w",
         "offsetgroup": "sub-599619_acq-standard_T1w",
         "orientation": "v",
         "pointpos": 0,
         "showlegend": true,
         "type": "box",
         "x": [
          1
         ],
         "x0": " ",
         "xaxis": "x",
         "y": [
          1
         ],
         "y0": " ",
         "yaxis": "y"
        },
        {
         "alignmentgroup": "True",
         "boxpoints": "all",
         "fillcolor": "rgba(255,255,255,0)",
         "hoveron": "points",
         "hovertemplate": "bids_name=sub-602346_acq-headmotion1_T1w<br>condition=%{x}<br>score=%{y}<extra></extra>",
         "legendgroup": "sub-602346_acq-headmotion1_T1w",
         "line": {
          "color": "rgba(255,255,255,0)"
         },
         "marker": {
          "color": "#EF553B"
         },
         "name": "sub-602346_acq-headmotion1_T1w",
         "offsetgroup": "sub-602346_acq-headmotion1_T1w",
         "orientation": "v",
         "pointpos": 0,
         "showlegend": true,
         "type": "box",
         "x": [
          2
         ],
         "x0": " ",
         "xaxis": "x",
         "y": [
          2
         ],
         "y0": " ",
         "yaxis": "y"
        },
        {
         "alignmentgroup": "True",
         "boxpoints": "all",
         "fillcolor": "rgba(255,255,255,0)",
         "hoveron": "points",
         "hovertemplate": "bids_name=sub-602346_acq-headmotion2_T1w<br>condition=%{x}<br>score=%{y}<extra></extra>",
         "legendgroup": "sub-602346_acq-headmotion2_T1w",
         "line": {
          "color": "rgba(255,255,255,0)"
         },
         "marker": {
          "color": "#00cc96"
         },
         "name": "sub-602346_acq-headmotion2_T1w",
         "offsetgroup": "sub-602346_acq-headmotion2_T1w",
         "orientation": "v",
         "pointpos": 0,
         "showlegend": true,
         "type": "box",
         "x": [
          3
         ],
         "x0": " ",
         "xaxis": "x",
         "y": [
          2
         ],
         "y0": " ",
         "yaxis": "y"
        },
        {
         "alignmentgroup": "True",
         "boxpoints": "all",
         "fillcolor": "rgba(255,255,255,0)",
         "hoveron": "points",
         "hovertemplate": "bids_name=sub-602346_acq-standard_T1w<br>condition=%{x}<br>score=%{y}<extra></extra>",
         "legendgroup": "sub-602346_acq-standard_T1w",
         "line": {
          "color": "rgba(255,255,255,0)"
         },
         "marker": {
          "color": "#ab63fa"
         },
         "name": "sub-602346_acq-standard_T1w",
         "offsetgroup": "sub-602346_acq-standard_T1w",
         "orientation": "v",
         "pointpos": 0,
         "showlegend": true,
         "type": "box",
         "x": [
          1
         ],
         "x0": " ",
         "xaxis": "x",
         "y": [
          2
         ],
         "y0": " ",
         "yaxis": "y"
        },
        {
         "alignmentgroup": "True",
         "boxpoints": "all",
         "fillcolor": "rgba(255,255,255,0)",
         "hoveron": "points",
         "hovertemplate": "bids_name=sub-603309_acq-headmotion1_T1w<br>condition=%{x}<br>score=%{y}<extra></extra>",
         "legendgroup": "sub-603309_acq-headmotion1_T1w",
         "line": {
          "color": "rgba(255,255,255,0)"
         },
         "marker": {
          "color": "#FFA15A"
         },
         "name": "sub-603309_acq-headmotion1_T1w",
         "offsetgroup": "sub-603309_acq-headmotion1_T1w",
         "orientation": "v",
         "pointpos": 0,
         "showlegend": true,
         "type": "box",
         "x": [
          2
         ],
         "x0": " ",
         "xaxis": "x",
         "y": [
          2
         ],
         "y0": " ",
         "yaxis": "y"
        },
        {
         "alignmentgroup": "True",
         "boxpoints": "all",
         "fillcolor": "rgba(255,255,255,0)",
         "hoveron": "points",
         "hovertemplate": "bids_name=sub-603309_acq-headmotion2_T1w<br>condition=%{x}<br>score=%{y}<extra></extra>",
         "legendgroup": "sub-603309_acq-headmotion2_T1w",
         "line": {
          "color": "rgba(255,255,255,0)"
         },
         "marker": {
          "color": "#19d3f3"
         },
         "name": "sub-603309_acq-headmotion2_T1w",
         "offsetgroup": "sub-603309_acq-headmotion2_T1w",
         "orientation": "v",
         "pointpos": 0,
         "showlegend": true,
         "type": "box",
         "x": [
          3
         ],
         "x0": " ",
         "xaxis": "x",
         "y": [
          3
         ],
         "y0": " ",
         "yaxis": "y"
        },
        {
         "alignmentgroup": "True",
         "boxpoints": "all",
         "fillcolor": "rgba(255,255,255,0)",
         "hoveron": "points",
         "hovertemplate": "bids_name=sub-603309_acq-standard_T1w<br>condition=%{x}<br>score=%{y}<extra></extra>",
         "legendgroup": "sub-603309_acq-standard_T1w",
         "line": {
          "color": "rgba(255,255,255,0)"
         },
         "marker": {
          "color": "#FF6692"
         },
         "name": "sub-603309_acq-standard_T1w",
         "offsetgroup": "sub-603309_acq-standard_T1w",
         "orientation": "v",
         "pointpos": 0,
         "showlegend": true,
         "type": "box",
         "x": [
          1
         ],
         "x0": " ",
         "xaxis": "x",
         "y": [
          1
         ],
         "y0": " ",
         "yaxis": "y"
        },
        {
         "alignmentgroup": "True",
         "boxpoints": "all",
         "fillcolor": "rgba(255,255,255,0)",
         "hoveron": "points",
         "hovertemplate": "bids_name=sub-607339_acq-headmotion1_T1w<br>condition=%{x}<br>score=%{y}<extra></extra>",
         "legendgroup": "sub-607339_acq-headmotion1_T1w",
         "line": {
          "color": "rgba(255,255,255,0)"
         },
         "marker": {
          "color": "#B6E880"
         },
         "name": "sub-607339_acq-headmotion1_T1w",
         "offsetgroup": "sub-607339_acq-headmotion1_T1w",
         "orientation": "v",
         "pointpos": 0,
         "showlegend": true,
         "type": "box",
         "x": [
          2
         ],
         "x0": " ",
         "xaxis": "x",
         "y": [
          2
         ],
         "y0": " ",
         "yaxis": "y"
        },
        {
         "alignmentgroup": "True",
         "boxpoints": "all",
         "fillcolor": "rgba(255,255,255,0)",
         "hoveron": "points",
         "hovertemplate": "bids_name=sub-607339_acq-headmotion2_T1w<br>condition=%{x}<br>score=%{y}<extra></extra>",
         "legendgroup": "sub-607339_acq-headmotion2_T1w",
         "line": {
          "color": "rgba(255,255,255,0)"
         },
         "marker": {
          "color": "#FF97FF"
         },
         "name": "sub-607339_acq-headmotion2_T1w",
         "offsetgroup": "sub-607339_acq-headmotion2_T1w",
         "orientation": "v",
         "pointpos": 0,
         "showlegend": true,
         "type": "box",
         "x": [
          3
         ],
         "x0": " ",
         "xaxis": "x",
         "y": [
          3
         ],
         "y0": " ",
         "yaxis": "y"
        },
        {
         "alignmentgroup": "True",
         "boxpoints": "all",
         "fillcolor": "rgba(255,255,255,0)",
         "hoveron": "points",
         "hovertemplate": "bids_name=sub-607339_acq-standard_T1w<br>condition=%{x}<br>score=%{y}<extra></extra>",
         "legendgroup": "sub-607339_acq-standard_T1w",
         "line": {
          "color": "rgba(255,255,255,0)"
         },
         "marker": {
          "color": "#FECB52"
         },
         "name": "sub-607339_acq-standard_T1w",
         "offsetgroup": "sub-607339_acq-standard_T1w",
         "orientation": "v",
         "pointpos": 0,
         "showlegend": true,
         "type": "box",
         "x": [
          1
         ],
         "x0": " ",
         "xaxis": "x",
         "y": [
          2
         ],
         "y0": " ",
         "yaxis": "y"
        },
        {
         "alignmentgroup": "True",
         "boxpoints": "all",
         "fillcolor": "rgba(255,255,255,0)",
         "hoveron": "points",
         "hovertemplate": "bids_name=sub-607974_acq-headmotion1_T1w<br>condition=%{x}<br>score=%{y}<extra></extra>",
         "legendgroup": "sub-607974_acq-headmotion1_T1w",
         "line": {
          "color": "rgba(255,255,255,0)"
         },
         "marker": {
          "color": "#636efa"
         },
         "name": "sub-607974_acq-headmotion1_T1w",
         "offsetgroup": "sub-607974_acq-headmotion1_T1w",
         "orientation": "v",
         "pointpos": 0,
         "showlegend": true,
         "type": "box",
         "x": [
          2
         ],
         "x0": " ",
         "xaxis": "x",
         "y": [
          2
         ],
         "y0": " ",
         "yaxis": "y"
        },
        {
         "alignmentgroup": "True",
         "boxpoints": "all",
         "fillcolor": "rgba(255,255,255,0)",
         "hoveron": "points",
         "hovertemplate": "bids_name=sub-607974_acq-headmotion2_T1w<br>condition=%{x}<br>score=%{y}<extra></extra>",
         "legendgroup": "sub-607974_acq-headmotion2_T1w",
         "line": {
          "color": "rgba(255,255,255,0)"
         },
         "marker": {
          "color": "#EF553B"
         },
         "name": "sub-607974_acq-headmotion2_T1w",
         "offsetgroup": "sub-607974_acq-headmotion2_T1w",
         "orientation": "v",
         "pointpos": 0,
         "showlegend": true,
         "type": "box",
         "x": [
          3
         ],
         "x0": " ",
         "xaxis": "x",
         "y": [
          3
         ],
         "y0": " ",
         "yaxis": "y"
        },
        {
         "alignmentgroup": "True",
         "boxpoints": "all",
         "fillcolor": "rgba(255,255,255,0)",
         "hoveron": "points",
         "hovertemplate": "bids_name=sub-607974_acq-standard_T1w<br>condition=%{x}<br>score=%{y}<extra></extra>",
         "legendgroup": "sub-607974_acq-standard_T1w",
         "line": {
          "color": "rgba(255,255,255,0)"
         },
         "marker": {
          "color": "#00cc96"
         },
         "name": "sub-607974_acq-standard_T1w",
         "offsetgroup": "sub-607974_acq-standard_T1w",
         "orientation": "v",
         "pointpos": 0,
         "showlegend": true,
         "type": "box",
         "x": [
          1
         ],
         "x0": " ",
         "xaxis": "x",
         "y": [
          2
         ],
         "y0": " ",
         "yaxis": "y"
        },
        {
         "alignmentgroup": "True",
         "boxpoints": "all",
         "fillcolor": "rgba(255,255,255,0)",
         "hoveron": "points",
         "hovertemplate": "bids_name=sub-611047_acq-headmotion1_T1w<br>condition=%{x}<br>score=%{y}<extra></extra>",
         "legendgroup": "sub-611047_acq-headmotion1_T1w",
         "line": {
          "color": "rgba(255,255,255,0)"
         },
         "marker": {
          "color": "#ab63fa"
         },
         "name": "sub-611047_acq-headmotion1_T1w",
         "offsetgroup": "sub-611047_acq-headmotion1_T1w",
         "orientation": "v",
         "pointpos": 0,
         "showlegend": true,
         "type": "box",
         "x": [
          2
         ],
         "x0": " ",
         "xaxis": "x",
         "y": [
          3
         ],
         "y0": " ",
         "yaxis": "y"
        },
        {
         "alignmentgroup": "True",
         "boxpoints": "all",
         "fillcolor": "rgba(255,255,255,0)",
         "hoveron": "points",
         "hovertemplate": "bids_name=sub-611047_acq-headmotion2_T1w<br>condition=%{x}<br>score=%{y}<extra></extra>",
         "legendgroup": "sub-611047_acq-headmotion2_T1w",
         "line": {
          "color": "rgba(255,255,255,0)"
         },
         "marker": {
          "color": "#FFA15A"
         },
         "name": "sub-611047_acq-headmotion2_T1w",
         "offsetgroup": "sub-611047_acq-headmotion2_T1w",
         "orientation": "v",
         "pointpos": 0,
         "showlegend": true,
         "type": "box",
         "x": [
          3
         ],
         "x0": " ",
         "xaxis": "x",
         "y": [
          3
         ],
         "y0": " ",
         "yaxis": "y"
        },
        {
         "alignmentgroup": "True",
         "boxpoints": "all",
         "fillcolor": "rgba(255,255,255,0)",
         "hoveron": "points",
         "hovertemplate": "bids_name=sub-611047_acq-standard_T1w<br>condition=%{x}<br>score=%{y}<extra></extra>",
         "legendgroup": "sub-611047_acq-standard_T1w",
         "line": {
          "color": "rgba(255,255,255,0)"
         },
         "marker": {
          "color": "#19d3f3"
         },
         "name": "sub-611047_acq-standard_T1w",
         "offsetgroup": "sub-611047_acq-standard_T1w",
         "orientation": "v",
         "pointpos": 0,
         "showlegend": true,
         "type": "box",
         "x": [
          1
         ],
         "x0": " ",
         "xaxis": "x",
         "y": [
          1
         ],
         "y0": " ",
         "yaxis": "y"
        },
        {
         "alignmentgroup": "True",
         "boxpoints": "all",
         "fillcolor": "rgba(255,255,255,0)",
         "hoveron": "points",
         "hovertemplate": "bids_name=sub-613957_acq-headmotion2_T1w<br>condition=%{x}<br>score=%{y}<extra></extra>",
         "legendgroup": "sub-613957_acq-headmotion2_T1w",
         "line": {
          "color": "rgba(255,255,255,0)"
         },
         "marker": {
          "color": "#FF6692"
         },
         "name": "sub-613957_acq-headmotion2_T1w",
         "offsetgroup": "sub-613957_acq-headmotion2_T1w",
         "orientation": "v",
         "pointpos": 0,
         "showlegend": true,
         "type": "box",
         "x": [
          3
         ],
         "x0": " ",
         "xaxis": "x",
         "y": [
          3
         ],
         "y0": " ",
         "yaxis": "y"
        },
        {
         "alignmentgroup": "True",
         "boxpoints": "all",
         "fillcolor": "rgba(255,255,255,0)",
         "hoveron": "points",
         "hovertemplate": "bids_name=sub-613957_acq-standard_T1w<br>condition=%{x}<br>score=%{y}<extra></extra>",
         "legendgroup": "sub-613957_acq-standard_T1w",
         "line": {
          "color": "rgba(255,255,255,0)"
         },
         "marker": {
          "color": "#B6E880"
         },
         "name": "sub-613957_acq-standard_T1w",
         "offsetgroup": "sub-613957_acq-standard_T1w",
         "orientation": "v",
         "pointpos": 0,
         "showlegend": true,
         "type": "box",
         "x": [
          1
         ],
         "x0": " ",
         "xaxis": "x",
         "y": [
          3
         ],
         "y0": " ",
         "yaxis": "y"
        },
        {
         "alignmentgroup": "True",
         "boxpoints": "all",
         "fillcolor": "rgba(255,255,255,0)",
         "hoveron": "points",
         "hovertemplate": "bids_name=sub-630780_acq-headmotion1_T1w<br>condition=%{x}<br>score=%{y}<extra></extra>",
         "legendgroup": "sub-630780_acq-headmotion1_T1w",
         "line": {
          "color": "rgba(255,255,255,0)"
         },
         "marker": {
          "color": "#FF97FF"
         },
         "name": "sub-630780_acq-headmotion1_T1w",
         "offsetgroup": "sub-630780_acq-headmotion1_T1w",
         "orientation": "v",
         "pointpos": 0,
         "showlegend": true,
         "type": "box",
         "x": [
          2
         ],
         "x0": " ",
         "xaxis": "x",
         "y": [
          3
         ],
         "y0": " ",
         "yaxis": "y"
        },
        {
         "alignmentgroup": "True",
         "boxpoints": "all",
         "fillcolor": "rgba(255,255,255,0)",
         "hoveron": "points",
         "hovertemplate": "bids_name=sub-630780_acq-headmotion2_T1w<br>condition=%{x}<br>score=%{y}<extra></extra>",
         "legendgroup": "sub-630780_acq-headmotion2_T1w",
         "line": {
          "color": "rgba(255,255,255,0)"
         },
         "marker": {
          "color": "#FECB52"
         },
         "name": "sub-630780_acq-headmotion2_T1w",
         "offsetgroup": "sub-630780_acq-headmotion2_T1w",
         "orientation": "v",
         "pointpos": 0,
         "showlegend": true,
         "type": "box",
         "x": [
          3
         ],
         "x0": " ",
         "xaxis": "x",
         "y": [
          3
         ],
         "y0": " ",
         "yaxis": "y"
        },
        {
         "alignmentgroup": "True",
         "boxpoints": "all",
         "fillcolor": "rgba(255,255,255,0)",
         "hoveron": "points",
         "hovertemplate": "bids_name=sub-630780_acq-standard_T1w<br>condition=%{x}<br>score=%{y}<extra></extra>",
         "legendgroup": "sub-630780_acq-standard_T1w",
         "line": {
          "color": "rgba(255,255,255,0)"
         },
         "marker": {
          "color": "#636efa"
         },
         "name": "sub-630780_acq-standard_T1w",
         "offsetgroup": "sub-630780_acq-standard_T1w",
         "orientation": "v",
         "pointpos": 0,
         "showlegend": true,
         "type": "box",
         "x": [
          1
         ],
         "x0": " ",
         "xaxis": "x",
         "y": [
          1
         ],
         "y0": " ",
         "yaxis": "y"
        },
        {
         "alignmentgroup": "True",
         "boxpoints": "all",
         "fillcolor": "rgba(255,255,255,0)",
         "hoveron": "points",
         "hovertemplate": "bids_name=sub-645865_acq-headmotion1_T1w<br>condition=%{x}<br>score=%{y}<extra></extra>",
         "legendgroup": "sub-645865_acq-headmotion1_T1w",
         "line": {
          "color": "rgba(255,255,255,0)"
         },
         "marker": {
          "color": "#EF553B"
         },
         "name": "sub-645865_acq-headmotion1_T1w",
         "offsetgroup": "sub-645865_acq-headmotion1_T1w",
         "orientation": "v",
         "pointpos": 0,
         "showlegend": true,
         "type": "box",
         "x": [
          2
         ],
         "x0": " ",
         "xaxis": "x",
         "y": [
          3
         ],
         "y0": " ",
         "yaxis": "y"
        },
        {
         "alignmentgroup": "True",
         "boxpoints": "all",
         "fillcolor": "rgba(255,255,255,0)",
         "hoveron": "points",
         "hovertemplate": "bids_name=sub-645865_acq-headmotion2_T1w<br>condition=%{x}<br>score=%{y}<extra></extra>",
         "legendgroup": "sub-645865_acq-headmotion2_T1w",
         "line": {
          "color": "rgba(255,255,255,0)"
         },
         "marker": {
          "color": "#00cc96"
         },
         "name": "sub-645865_acq-headmotion2_T1w",
         "offsetgroup": "sub-645865_acq-headmotion2_T1w",
         "orientation": "v",
         "pointpos": 0,
         "showlegend": true,
         "type": "box",
         "x": [
          3
         ],
         "x0": " ",
         "xaxis": "x",
         "y": [
          3
         ],
         "y0": " ",
         "yaxis": "y"
        },
        {
         "alignmentgroup": "True",
         "boxpoints": "all",
         "fillcolor": "rgba(255,255,255,0)",
         "hoveron": "points",
         "hovertemplate": "bids_name=sub-645865_acq-standard_T1w<br>condition=%{x}<br>score=%{y}<extra></extra>",
         "legendgroup": "sub-645865_acq-standard_T1w",
         "line": {
          "color": "rgba(255,255,255,0)"
         },
         "marker": {
          "color": "#ab63fa"
         },
         "name": "sub-645865_acq-standard_T1w",
         "offsetgroup": "sub-645865_acq-standard_T1w",
         "orientation": "v",
         "pointpos": 0,
         "showlegend": true,
         "type": "box",
         "x": [
          1
         ],
         "x0": " ",
         "xaxis": "x",
         "y": [
          1
         ],
         "y0": " ",
         "yaxis": "y"
        },
        {
         "alignmentgroup": "True",
         "boxpoints": "all",
         "fillcolor": "rgba(255,255,255,0)",
         "hoveron": "points",
         "hovertemplate": "bids_name=sub-652881_acq-headmotion1_T1w<br>condition=%{x}<br>score=%{y}<extra></extra>",
         "legendgroup": "sub-652881_acq-headmotion1_T1w",
         "line": {
          "color": "rgba(255,255,255,0)"
         },
         "marker": {
          "color": "#FFA15A"
         },
         "name": "sub-652881_acq-headmotion1_T1w",
         "offsetgroup": "sub-652881_acq-headmotion1_T1w",
         "orientation": "v",
         "pointpos": 0,
         "showlegend": true,
         "type": "box",
         "x": [
          2
         ],
         "x0": " ",
         "xaxis": "x",
         "y": [
          2
         ],
         "y0": " ",
         "yaxis": "y"
        },
        {
         "alignmentgroup": "True",
         "boxpoints": "all",
         "fillcolor": "rgba(255,255,255,0)",
         "hoveron": "points",
         "hovertemplate": "bids_name=sub-652881_acq-headmotion2_T1w<br>condition=%{x}<br>score=%{y}<extra></extra>",
         "legendgroup": "sub-652881_acq-headmotion2_T1w",
         "line": {
          "color": "rgba(255,255,255,0)"
         },
         "marker": {
          "color": "#19d3f3"
         },
         "name": "sub-652881_acq-headmotion2_T1w",
         "offsetgroup": "sub-652881_acq-headmotion2_T1w",
         "orientation": "v",
         "pointpos": 0,
         "showlegend": true,
         "type": "box",
         "x": [
          3
         ],
         "x0": " ",
         "xaxis": "x",
         "y": [
          3
         ],
         "y0": " ",
         "yaxis": "y"
        },
        {
         "alignmentgroup": "True",
         "boxpoints": "all",
         "fillcolor": "rgba(255,255,255,0)",
         "hoveron": "points",
         "hovertemplate": "bids_name=sub-652881_acq-standard_T1w<br>condition=%{x}<br>score=%{y}<extra></extra>",
         "legendgroup": "sub-652881_acq-standard_T1w",
         "line": {
          "color": "rgba(255,255,255,0)"
         },
         "marker": {
          "color": "#FF6692"
         },
         "name": "sub-652881_acq-standard_T1w",
         "offsetgroup": "sub-652881_acq-standard_T1w",
         "orientation": "v",
         "pointpos": 0,
         "showlegend": true,
         "type": "box",
         "x": [
          1
         ],
         "x0": " ",
         "xaxis": "x",
         "y": [
          1
         ],
         "y0": " ",
         "yaxis": "y"
        },
        {
         "alignmentgroup": "True",
         "boxpoints": "all",
         "fillcolor": "rgba(255,255,255,0)",
         "hoveron": "points",
         "hovertemplate": "bids_name=sub-654178_acq-headmotion1_T1w<br>condition=%{x}<br>score=%{y}<extra></extra>",
         "legendgroup": "sub-654178_acq-headmotion1_T1w",
         "line": {
          "color": "rgba(255,255,255,0)"
         },
         "marker": {
          "color": "#B6E880"
         },
         "name": "sub-654178_acq-headmotion1_T1w",
         "offsetgroup": "sub-654178_acq-headmotion1_T1w",
         "orientation": "v",
         "pointpos": 0,
         "showlegend": true,
         "type": "box",
         "x": [
          2
         ],
         "x0": " ",
         "xaxis": "x",
         "y": [
          2
         ],
         "y0": " ",
         "yaxis": "y"
        },
        {
         "alignmentgroup": "True",
         "boxpoints": "all",
         "fillcolor": "rgba(255,255,255,0)",
         "hoveron": "points",
         "hovertemplate": "bids_name=sub-654178_acq-headmotion2_T1w<br>condition=%{x}<br>score=%{y}<extra></extra>",
         "legendgroup": "sub-654178_acq-headmotion2_T1w",
         "line": {
          "color": "rgba(255,255,255,0)"
         },
         "marker": {
          "color": "#FF97FF"
         },
         "name": "sub-654178_acq-headmotion2_T1w",
         "offsetgroup": "sub-654178_acq-headmotion2_T1w",
         "orientation": "v",
         "pointpos": 0,
         "showlegend": true,
         "type": "box",
         "x": [
          3
         ],
         "x0": " ",
         "xaxis": "x",
         "y": [
          3
         ],
         "y0": " ",
         "yaxis": "y"
        },
        {
         "alignmentgroup": "True",
         "boxpoints": "all",
         "fillcolor": "rgba(255,255,255,0)",
         "hoveron": "points",
         "hovertemplate": "bids_name=sub-654178_acq-standard_T1w<br>condition=%{x}<br>score=%{y}<extra></extra>",
         "legendgroup": "sub-654178_acq-standard_T1w",
         "line": {
          "color": "rgba(255,255,255,0)"
         },
         "marker": {
          "color": "#FECB52"
         },
         "name": "sub-654178_acq-standard_T1w",
         "offsetgroup": "sub-654178_acq-standard_T1w",
         "orientation": "v",
         "pointpos": 0,
         "showlegend": true,
         "type": "box",
         "x": [
          1
         ],
         "x0": " ",
         "xaxis": "x",
         "y": [
          2
         ],
         "y0": " ",
         "yaxis": "y"
        },
        {
         "alignmentgroup": "True",
         "boxpoints": "all",
         "fillcolor": "rgba(255,255,255,0)",
         "hoveron": "points",
         "hovertemplate": "bids_name=sub-654601_acq-headmotion1_T1w<br>condition=%{x}<br>score=%{y}<extra></extra>",
         "legendgroup": "sub-654601_acq-headmotion1_T1w",
         "line": {
          "color": "rgba(255,255,255,0)"
         },
         "marker": {
          "color": "#636efa"
         },
         "name": "sub-654601_acq-headmotion1_T1w",
         "offsetgroup": "sub-654601_acq-headmotion1_T1w",
         "orientation": "v",
         "pointpos": 0,
         "showlegend": true,
         "type": "box",
         "x": [
          2
         ],
         "x0": " ",
         "xaxis": "x",
         "y": [
          3
         ],
         "y0": " ",
         "yaxis": "y"
        },
        {
         "alignmentgroup": "True",
         "boxpoints": "all",
         "fillcolor": "rgba(255,255,255,0)",
         "hoveron": "points",
         "hovertemplate": "bids_name=sub-654601_acq-headmotion2_T1w<br>condition=%{x}<br>score=%{y}<extra></extra>",
         "legendgroup": "sub-654601_acq-headmotion2_T1w",
         "line": {
          "color": "rgba(255,255,255,0)"
         },
         "marker": {
          "color": "#EF553B"
         },
         "name": "sub-654601_acq-headmotion2_T1w",
         "offsetgroup": "sub-654601_acq-headmotion2_T1w",
         "orientation": "v",
         "pointpos": 0,
         "showlegend": true,
         "type": "box",
         "x": [
          3
         ],
         "x0": " ",
         "xaxis": "x",
         "y": [
          3
         ],
         "y0": " ",
         "yaxis": "y"
        },
        {
         "alignmentgroup": "True",
         "boxpoints": "all",
         "fillcolor": "rgba(255,255,255,0)",
         "hoveron": "points",
         "hovertemplate": "bids_name=sub-654601_acq-standard_T1w<br>condition=%{x}<br>score=%{y}<extra></extra>",
         "legendgroup": "sub-654601_acq-standard_T1w",
         "line": {
          "color": "rgba(255,255,255,0)"
         },
         "marker": {
          "color": "#00cc96"
         },
         "name": "sub-654601_acq-standard_T1w",
         "offsetgroup": "sub-654601_acq-standard_T1w",
         "orientation": "v",
         "pointpos": 0,
         "showlegend": true,
         "type": "box",
         "x": [
          1
         ],
         "x0": " ",
         "xaxis": "x",
         "y": [
          1
         ],
         "y0": " ",
         "yaxis": "y"
        },
        {
         "alignmentgroup": "True",
         "boxpoints": "all",
         "fillcolor": "rgba(255,255,255,0)",
         "hoveron": "points",
         "hovertemplate": "bids_name=sub-664050_acq-headmotion1_T1w<br>condition=%{x}<br>score=%{y}<extra></extra>",
         "legendgroup": "sub-664050_acq-headmotion1_T1w",
         "line": {
          "color": "rgba(255,255,255,0)"
         },
         "marker": {
          "color": "#ab63fa"
         },
         "name": "sub-664050_acq-headmotion1_T1w",
         "offsetgroup": "sub-664050_acq-headmotion1_T1w",
         "orientation": "v",
         "pointpos": 0,
         "showlegend": true,
         "type": "box",
         "x": [
          2
         ],
         "x0": " ",
         "xaxis": "x",
         "y": [
          3
         ],
         "y0": " ",
         "yaxis": "y"
        },
        {
         "alignmentgroup": "True",
         "boxpoints": "all",
         "fillcolor": "rgba(255,255,255,0)",
         "hoveron": "points",
         "hovertemplate": "bids_name=sub-664050_acq-headmotion2_T1w<br>condition=%{x}<br>score=%{y}<extra></extra>",
         "legendgroup": "sub-664050_acq-headmotion2_T1w",
         "line": {
          "color": "rgba(255,255,255,0)"
         },
         "marker": {
          "color": "#FFA15A"
         },
         "name": "sub-664050_acq-headmotion2_T1w",
         "offsetgroup": "sub-664050_acq-headmotion2_T1w",
         "orientation": "v",
         "pointpos": 0,
         "showlegend": true,
         "type": "box",
         "x": [
          3
         ],
         "x0": " ",
         "xaxis": "x",
         "y": [
          3
         ],
         "y0": " ",
         "yaxis": "y"
        },
        {
         "alignmentgroup": "True",
         "boxpoints": "all",
         "fillcolor": "rgba(255,255,255,0)",
         "hoveron": "points",
         "hovertemplate": "bids_name=sub-664050_acq-standard_T1w<br>condition=%{x}<br>score=%{y}<extra></extra>",
         "legendgroup": "sub-664050_acq-standard_T1w",
         "line": {
          "color": "rgba(255,255,255,0)"
         },
         "marker": {
          "color": "#19d3f3"
         },
         "name": "sub-664050_acq-standard_T1w",
         "offsetgroup": "sub-664050_acq-standard_T1w",
         "orientation": "v",
         "pointpos": 0,
         "showlegend": true,
         "type": "box",
         "x": [
          1
         ],
         "x0": " ",
         "xaxis": "x",
         "y": [
          1
         ],
         "y0": " ",
         "yaxis": "y"
        },
        {
         "alignmentgroup": "True",
         "boxpoints": "all",
         "fillcolor": "rgba(255,255,255,0)",
         "hoveron": "points",
         "hovertemplate": "bids_name=sub-669067_acq-headmotion1_T1w<br>condition=%{x}<br>score=%{y}<extra></extra>",
         "legendgroup": "sub-669067_acq-headmotion1_T1w",
         "line": {
          "color": "rgba(255,255,255,0)"
         },
         "marker": {
          "color": "#FF6692"
         },
         "name": "sub-669067_acq-headmotion1_T1w",
         "offsetgroup": "sub-669067_acq-headmotion1_T1w",
         "orientation": "v",
         "pointpos": 0,
         "showlegend": true,
         "type": "box",
         "x": [
          2
         ],
         "x0": " ",
         "xaxis": "x",
         "y": [
          2
         ],
         "y0": " ",
         "yaxis": "y"
        },
        {
         "alignmentgroup": "True",
         "boxpoints": "all",
         "fillcolor": "rgba(255,255,255,0)",
         "hoveron": "points",
         "hovertemplate": "bids_name=sub-669067_acq-headmotion2_T1w<br>condition=%{x}<br>score=%{y}<extra></extra>",
         "legendgroup": "sub-669067_acq-headmotion2_T1w",
         "line": {
          "color": "rgba(255,255,255,0)"
         },
         "marker": {
          "color": "#B6E880"
         },
         "name": "sub-669067_acq-headmotion2_T1w",
         "offsetgroup": "sub-669067_acq-headmotion2_T1w",
         "orientation": "v",
         "pointpos": 0,
         "showlegend": true,
         "type": "box",
         "x": [
          3
         ],
         "x0": " ",
         "xaxis": "x",
         "y": [
          3
         ],
         "y0": " ",
         "yaxis": "y"
        },
        {
         "alignmentgroup": "True",
         "boxpoints": "all",
         "fillcolor": "rgba(255,255,255,0)",
         "hoveron": "points",
         "hovertemplate": "bids_name=sub-669067_acq-standard_T1w<br>condition=%{x}<br>score=%{y}<extra></extra>",
         "legendgroup": "sub-669067_acq-standard_T1w",
         "line": {
          "color": "rgba(255,255,255,0)"
         },
         "marker": {
          "color": "#FF97FF"
         },
         "name": "sub-669067_acq-standard_T1w",
         "offsetgroup": "sub-669067_acq-standard_T1w",
         "orientation": "v",
         "pointpos": 0,
         "showlegend": true,
         "type": "box",
         "x": [
          1
         ],
         "x0": " ",
         "xaxis": "x",
         "y": [
          1
         ],
         "y0": " ",
         "yaxis": "y"
        },
        {
         "alignmentgroup": "True",
         "boxpoints": "all",
         "fillcolor": "rgba(255,255,255,0)",
         "hoveron": "points",
         "hovertemplate": "bids_name=sub-672229_acq-headmotion1_T1w<br>condition=%{x}<br>score=%{y}<extra></extra>",
         "legendgroup": "sub-672229_acq-headmotion1_T1w",
         "line": {
          "color": "rgba(255,255,255,0)"
         },
         "marker": {
          "color": "#FECB52"
         },
         "name": "sub-672229_acq-headmotion1_T1w",
         "offsetgroup": "sub-672229_acq-headmotion1_T1w",
         "orientation": "v",
         "pointpos": 0,
         "showlegend": true,
         "type": "box",
         "x": [
          2
         ],
         "x0": " ",
         "xaxis": "x",
         "y": [
          3
         ],
         "y0": " ",
         "yaxis": "y"
        },
        {
         "alignmentgroup": "True",
         "boxpoints": "all",
         "fillcolor": "rgba(255,255,255,0)",
         "hoveron": "points",
         "hovertemplate": "bids_name=sub-672229_acq-headmotion2_T1w<br>condition=%{x}<br>score=%{y}<extra></extra>",
         "legendgroup": "sub-672229_acq-headmotion2_T1w",
         "line": {
          "color": "rgba(255,255,255,0)"
         },
         "marker": {
          "color": "#636efa"
         },
         "name": "sub-672229_acq-headmotion2_T1w",
         "offsetgroup": "sub-672229_acq-headmotion2_T1w",
         "orientation": "v",
         "pointpos": 0,
         "showlegend": true,
         "type": "box",
         "x": [
          3
         ],
         "x0": " ",
         "xaxis": "x",
         "y": [
          3
         ],
         "y0": " ",
         "yaxis": "y"
        },
        {
         "alignmentgroup": "True",
         "boxpoints": "all",
         "fillcolor": "rgba(255,255,255,0)",
         "hoveron": "points",
         "hovertemplate": "bids_name=sub-672229_acq-standard_T1w<br>condition=%{x}<br>score=%{y}<extra></extra>",
         "legendgroup": "sub-672229_acq-standard_T1w",
         "line": {
          "color": "rgba(255,255,255,0)"
         },
         "marker": {
          "color": "#EF553B"
         },
         "name": "sub-672229_acq-standard_T1w",
         "offsetgroup": "sub-672229_acq-standard_T1w",
         "orientation": "v",
         "pointpos": 0,
         "showlegend": true,
         "type": "box",
         "x": [
          1
         ],
         "x0": " ",
         "xaxis": "x",
         "y": [
          1
         ],
         "y0": " ",
         "yaxis": "y"
        },
        {
         "alignmentgroup": "True",
         "boxpoints": "all",
         "fillcolor": "rgba(255,255,255,0)",
         "hoveron": "points",
         "hovertemplate": "bids_name=sub-678878_acq-headmotion1_T1w<br>condition=%{x}<br>score=%{y}<extra></extra>",
         "legendgroup": "sub-678878_acq-headmotion1_T1w",
         "line": {
          "color": "rgba(255,255,255,0)"
         },
         "marker": {
          "color": "#00cc96"
         },
         "name": "sub-678878_acq-headmotion1_T1w",
         "offsetgroup": "sub-678878_acq-headmotion1_T1w",
         "orientation": "v",
         "pointpos": 0,
         "showlegend": true,
         "type": "box",
         "x": [
          2
         ],
         "x0": " ",
         "xaxis": "x",
         "y": [
          2
         ],
         "y0": " ",
         "yaxis": "y"
        },
        {
         "alignmentgroup": "True",
         "boxpoints": "all",
         "fillcolor": "rgba(255,255,255,0)",
         "hoveron": "points",
         "hovertemplate": "bids_name=sub-678878_acq-headmotion2_T1w<br>condition=%{x}<br>score=%{y}<extra></extra>",
         "legendgroup": "sub-678878_acq-headmotion2_T1w",
         "line": {
          "color": "rgba(255,255,255,0)"
         },
         "marker": {
          "color": "#ab63fa"
         },
         "name": "sub-678878_acq-headmotion2_T1w",
         "offsetgroup": "sub-678878_acq-headmotion2_T1w",
         "orientation": "v",
         "pointpos": 0,
         "showlegend": true,
         "type": "box",
         "x": [
          3
         ],
         "x0": " ",
         "xaxis": "x",
         "y": [
          3
         ],
         "y0": " ",
         "yaxis": "y"
        },
        {
         "alignmentgroup": "True",
         "boxpoints": "all",
         "fillcolor": "rgba(255,255,255,0)",
         "hoveron": "points",
         "hovertemplate": "bids_name=sub-678878_acq-standard_T1w<br>condition=%{x}<br>score=%{y}<extra></extra>",
         "legendgroup": "sub-678878_acq-standard_T1w",
         "line": {
          "color": "rgba(255,255,255,0)"
         },
         "marker": {
          "color": "#FFA15A"
         },
         "name": "sub-678878_acq-standard_T1w",
         "offsetgroup": "sub-678878_acq-standard_T1w",
         "orientation": "v",
         "pointpos": 0,
         "showlegend": true,
         "type": "box",
         "x": [
          1
         ],
         "x0": " ",
         "xaxis": "x",
         "y": [
          1
         ],
         "y0": " ",
         "yaxis": "y"
        },
        {
         "alignmentgroup": "True",
         "boxpoints": "all",
         "fillcolor": "rgba(255,255,255,0)",
         "hoveron": "points",
         "hovertemplate": "bids_name=sub-680990_acq-headmotion1_T1w<br>condition=%{x}<br>score=%{y}<extra></extra>",
         "legendgroup": "sub-680990_acq-headmotion1_T1w",
         "line": {
          "color": "rgba(255,255,255,0)"
         },
         "marker": {
          "color": "#19d3f3"
         },
         "name": "sub-680990_acq-headmotion1_T1w",
         "offsetgroup": "sub-680990_acq-headmotion1_T1w",
         "orientation": "v",
         "pointpos": 0,
         "showlegend": true,
         "type": "box",
         "x": [
          2
         ],
         "x0": " ",
         "xaxis": "x",
         "y": [
          2
         ],
         "y0": " ",
         "yaxis": "y"
        },
        {
         "alignmentgroup": "True",
         "boxpoints": "all",
         "fillcolor": "rgba(255,255,255,0)",
         "hoveron": "points",
         "hovertemplate": "bids_name=sub-680990_acq-headmotion2_T1w<br>condition=%{x}<br>score=%{y}<extra></extra>",
         "legendgroup": "sub-680990_acq-headmotion2_T1w",
         "line": {
          "color": "rgba(255,255,255,0)"
         },
         "marker": {
          "color": "#FF6692"
         },
         "name": "sub-680990_acq-headmotion2_T1w",
         "offsetgroup": "sub-680990_acq-headmotion2_T1w",
         "orientation": "v",
         "pointpos": 0,
         "showlegend": true,
         "type": "box",
         "x": [
          3
         ],
         "x0": " ",
         "xaxis": "x",
         "y": [
          3
         ],
         "y0": " ",
         "yaxis": "y"
        },
        {
         "alignmentgroup": "True",
         "boxpoints": "all",
         "fillcolor": "rgba(255,255,255,0)",
         "hoveron": "points",
         "hovertemplate": "bids_name=sub-680990_acq-standard_T1w<br>condition=%{x}<br>score=%{y}<extra></extra>",
         "legendgroup": "sub-680990_acq-standard_T1w",
         "line": {
          "color": "rgba(255,255,255,0)"
         },
         "marker": {
          "color": "#B6E880"
         },
         "name": "sub-680990_acq-standard_T1w",
         "offsetgroup": "sub-680990_acq-standard_T1w",
         "orientation": "v",
         "pointpos": 0,
         "showlegend": true,
         "type": "box",
         "x": [
          1
         ],
         "x0": " ",
         "xaxis": "x",
         "y": [
          1
         ],
         "y0": " ",
         "yaxis": "y"
        },
        {
         "alignmentgroup": "True",
         "boxpoints": "all",
         "fillcolor": "rgba(255,255,255,0)",
         "hoveron": "points",
         "hovertemplate": "bids_name=sub-687508_acq-headmotion1_T1w<br>condition=%{x}<br>score=%{y}<extra></extra>",
         "legendgroup": "sub-687508_acq-headmotion1_T1w",
         "line": {
          "color": "rgba(255,255,255,0)"
         },
         "marker": {
          "color": "#FF97FF"
         },
         "name": "sub-687508_acq-headmotion1_T1w",
         "offsetgroup": "sub-687508_acq-headmotion1_T1w",
         "orientation": "v",
         "pointpos": 0,
         "showlegend": true,
         "type": "box",
         "x": [
          2
         ],
         "x0": " ",
         "xaxis": "x",
         "y": [
          3
         ],
         "y0": " ",
         "yaxis": "y"
        },
        {
         "alignmentgroup": "True",
         "boxpoints": "all",
         "fillcolor": "rgba(255,255,255,0)",
         "hoveron": "points",
         "hovertemplate": "bids_name=sub-687508_acq-headmotion2_T1w<br>condition=%{x}<br>score=%{y}<extra></extra>",
         "legendgroup": "sub-687508_acq-headmotion2_T1w",
         "line": {
          "color": "rgba(255,255,255,0)"
         },
         "marker": {
          "color": "#FECB52"
         },
         "name": "sub-687508_acq-headmotion2_T1w",
         "offsetgroup": "sub-687508_acq-headmotion2_T1w",
         "orientation": "v",
         "pointpos": 0,
         "showlegend": true,
         "type": "box",
         "x": [
          3
         ],
         "x0": " ",
         "xaxis": "x",
         "y": [
          3
         ],
         "y0": " ",
         "yaxis": "y"
        },
        {
         "alignmentgroup": "True",
         "boxpoints": "all",
         "fillcolor": "rgba(255,255,255,0)",
         "hoveron": "points",
         "hovertemplate": "bids_name=sub-687508_acq-standard_T1w<br>condition=%{x}<br>score=%{y}<extra></extra>",
         "legendgroup": "sub-687508_acq-standard_T1w",
         "line": {
          "color": "rgba(255,255,255,0)"
         },
         "marker": {
          "color": "#636efa"
         },
         "name": "sub-687508_acq-standard_T1w",
         "offsetgroup": "sub-687508_acq-standard_T1w",
         "orientation": "v",
         "pointpos": 0,
         "showlegend": true,
         "type": "box",
         "x": [
          1
         ],
         "x0": " ",
         "xaxis": "x",
         "y": [
          1
         ],
         "y0": " ",
         "yaxis": "y"
        },
        {
         "alignmentgroup": "True",
         "boxpoints": "all",
         "fillcolor": "rgba(255,255,255,0)",
         "hoveron": "points",
         "hovertemplate": "bids_name=sub-691641_acq-headmotion1_T1w<br>condition=%{x}<br>score=%{y}<extra></extra>",
         "legendgroup": "sub-691641_acq-headmotion1_T1w",
         "line": {
          "color": "rgba(255,255,255,0)"
         },
         "marker": {
          "color": "#EF553B"
         },
         "name": "sub-691641_acq-headmotion1_T1w",
         "offsetgroup": "sub-691641_acq-headmotion1_T1w",
         "orientation": "v",
         "pointpos": 0,
         "showlegend": true,
         "type": "box",
         "x": [
          2
         ],
         "x0": " ",
         "xaxis": "x",
         "y": [
          3
         ],
         "y0": " ",
         "yaxis": "y"
        },
        {
         "alignmentgroup": "True",
         "boxpoints": "all",
         "fillcolor": "rgba(255,255,255,0)",
         "hoveron": "points",
         "hovertemplate": "bids_name=sub-691641_acq-headmotion2_T1w<br>condition=%{x}<br>score=%{y}<extra></extra>",
         "legendgroup": "sub-691641_acq-headmotion2_T1w",
         "line": {
          "color": "rgba(255,255,255,0)"
         },
         "marker": {
          "color": "#00cc96"
         },
         "name": "sub-691641_acq-headmotion2_T1w",
         "offsetgroup": "sub-691641_acq-headmotion2_T1w",
         "orientation": "v",
         "pointpos": 0,
         "showlegend": true,
         "type": "box",
         "x": [
          3
         ],
         "x0": " ",
         "xaxis": "x",
         "y": [
          3
         ],
         "y0": " ",
         "yaxis": "y"
        },
        {
         "alignmentgroup": "True",
         "boxpoints": "all",
         "fillcolor": "rgba(255,255,255,0)",
         "hoveron": "points",
         "hovertemplate": "bids_name=sub-691641_acq-standard_T1w<br>condition=%{x}<br>score=%{y}<extra></extra>",
         "legendgroup": "sub-691641_acq-standard_T1w",
         "line": {
          "color": "rgba(255,255,255,0)"
         },
         "marker": {
          "color": "#ab63fa"
         },
         "name": "sub-691641_acq-standard_T1w",
         "offsetgroup": "sub-691641_acq-standard_T1w",
         "orientation": "v",
         "pointpos": 0,
         "showlegend": true,
         "type": "box",
         "x": [
          1
         ],
         "x0": " ",
         "xaxis": "x",
         "y": [
          1
         ],
         "y0": " ",
         "yaxis": "y"
        },
        {
         "alignmentgroup": "True",
         "boxpoints": "all",
         "fillcolor": "rgba(255,255,255,0)",
         "hoveron": "points",
         "hovertemplate": "bids_name=sub-691777_acq-headmotion1_T1w<br>condition=%{x}<br>score=%{y}<extra></extra>",
         "legendgroup": "sub-691777_acq-headmotion1_T1w",
         "line": {
          "color": "rgba(255,255,255,0)"
         },
         "marker": {
          "color": "#FFA15A"
         },
         "name": "sub-691777_acq-headmotion1_T1w",
         "offsetgroup": "sub-691777_acq-headmotion1_T1w",
         "orientation": "v",
         "pointpos": 0,
         "showlegend": true,
         "type": "box",
         "x": [
          2
         ],
         "x0": " ",
         "xaxis": "x",
         "y": [
          2
         ],
         "y0": " ",
         "yaxis": "y"
        },
        {
         "alignmentgroup": "True",
         "boxpoints": "all",
         "fillcolor": "rgba(255,255,255,0)",
         "hoveron": "points",
         "hovertemplate": "bids_name=sub-691777_acq-headmotion2_T1w<br>condition=%{x}<br>score=%{y}<extra></extra>",
         "legendgroup": "sub-691777_acq-headmotion2_T1w",
         "line": {
          "color": "rgba(255,255,255,0)"
         },
         "marker": {
          "color": "#19d3f3"
         },
         "name": "sub-691777_acq-headmotion2_T1w",
         "offsetgroup": "sub-691777_acq-headmotion2_T1w",
         "orientation": "v",
         "pointpos": 0,
         "showlegend": true,
         "type": "box",
         "x": [
          3
         ],
         "x0": " ",
         "xaxis": "x",
         "y": [
          3
         ],
         "y0": " ",
         "yaxis": "y"
        },
        {
         "alignmentgroup": "True",
         "boxpoints": "all",
         "fillcolor": "rgba(255,255,255,0)",
         "hoveron": "points",
         "hovertemplate": "bids_name=sub-691777_acq-standard_T1w<br>condition=%{x}<br>score=%{y}<extra></extra>",
         "legendgroup": "sub-691777_acq-standard_T1w",
         "line": {
          "color": "rgba(255,255,255,0)"
         },
         "marker": {
          "color": "#FF6692"
         },
         "name": "sub-691777_acq-standard_T1w",
         "offsetgroup": "sub-691777_acq-standard_T1w",
         "orientation": "v",
         "pointpos": 0,
         "showlegend": true,
         "type": "box",
         "x": [
          1
         ],
         "x0": " ",
         "xaxis": "x",
         "y": [
          1
         ],
         "y0": " ",
         "yaxis": "y"
        },
        {
         "alignmentgroup": "True",
         "boxpoints": "all",
         "fillcolor": "rgba(255,255,255,0)",
         "hoveron": "points",
         "hovertemplate": "bids_name=sub-694330_acq-headmotion2_T1w<br>condition=%{x}<br>score=%{y}<extra></extra>",
         "legendgroup": "sub-694330_acq-headmotion2_T1w",
         "line": {
          "color": "rgba(255,255,255,0)"
         },
         "marker": {
          "color": "#B6E880"
         },
         "name": "sub-694330_acq-headmotion2_T1w",
         "offsetgroup": "sub-694330_acq-headmotion2_T1w",
         "orientation": "v",
         "pointpos": 0,
         "showlegend": true,
         "type": "box",
         "x": [
          3
         ],
         "x0": " ",
         "xaxis": "x",
         "y": [
          2
         ],
         "y0": " ",
         "yaxis": "y"
        },
        {
         "alignmentgroup": "True",
         "boxpoints": "all",
         "fillcolor": "rgba(255,255,255,0)",
         "hoveron": "points",
         "hovertemplate": "bids_name=sub-694330_acq-standard_T1w<br>condition=%{x}<br>score=%{y}<extra></extra>",
         "legendgroup": "sub-694330_acq-standard_T1w",
         "line": {
          "color": "rgba(255,255,255,0)"
         },
         "marker": {
          "color": "#FF97FF"
         },
         "name": "sub-694330_acq-standard_T1w",
         "offsetgroup": "sub-694330_acq-standard_T1w",
         "orientation": "v",
         "pointpos": 0,
         "showlegend": true,
         "type": "box",
         "x": [
          1
         ],
         "x0": " ",
         "xaxis": "x",
         "y": [
          1
         ],
         "y0": " ",
         "yaxis": "y"
        },
        {
         "alignmentgroup": "True",
         "boxpoints": "all",
         "fillcolor": "rgba(255,255,255,0)",
         "hoveron": "points",
         "hovertemplate": "bids_name=sub-697441_acq-headmotion1_T1w<br>condition=%{x}<br>score=%{y}<extra></extra>",
         "legendgroup": "sub-697441_acq-headmotion1_T1w",
         "line": {
          "color": "rgba(255,255,255,0)"
         },
         "marker": {
          "color": "#FECB52"
         },
         "name": "sub-697441_acq-headmotion1_T1w",
         "offsetgroup": "sub-697441_acq-headmotion1_T1w",
         "orientation": "v",
         "pointpos": 0,
         "showlegend": true,
         "type": "box",
         "x": [
          2
         ],
         "x0": " ",
         "xaxis": "x",
         "y": [
          3
         ],
         "y0": " ",
         "yaxis": "y"
        },
        {
         "alignmentgroup": "True",
         "boxpoints": "all",
         "fillcolor": "rgba(255,255,255,0)",
         "hoveron": "points",
         "hovertemplate": "bids_name=sub-697441_acq-headmotion2_T1w<br>condition=%{x}<br>score=%{y}<extra></extra>",
         "legendgroup": "sub-697441_acq-headmotion2_T1w",
         "line": {
          "color": "rgba(255,255,255,0)"
         },
         "marker": {
          "color": "#636efa"
         },
         "name": "sub-697441_acq-headmotion2_T1w",
         "offsetgroup": "sub-697441_acq-headmotion2_T1w",
         "orientation": "v",
         "pointpos": 0,
         "showlegend": true,
         "type": "box",
         "x": [
          3
         ],
         "x0": " ",
         "xaxis": "x",
         "y": [
          3
         ],
         "y0": " ",
         "yaxis": "y"
        },
        {
         "alignmentgroup": "True",
         "boxpoints": "all",
         "fillcolor": "rgba(255,255,255,0)",
         "hoveron": "points",
         "hovertemplate": "bids_name=sub-697441_acq-standard_T1w<br>condition=%{x}<br>score=%{y}<extra></extra>",
         "legendgroup": "sub-697441_acq-standard_T1w",
         "line": {
          "color": "rgba(255,255,255,0)"
         },
         "marker": {
          "color": "#EF553B"
         },
         "name": "sub-697441_acq-standard_T1w",
         "offsetgroup": "sub-697441_acq-standard_T1w",
         "orientation": "v",
         "pointpos": 0,
         "showlegend": true,
         "type": "box",
         "x": [
          1
         ],
         "x0": " ",
         "xaxis": "x",
         "y": [
          1
         ],
         "y0": " ",
         "yaxis": "y"
        },
        {
         "alignmentgroup": "True",
         "boxpoints": "all",
         "fillcolor": "rgba(255,255,255,0)",
         "hoveron": "points",
         "hovertemplate": "bids_name=sub-707576_acq-headmotion1_T1w<br>condition=%{x}<br>score=%{y}<extra></extra>",
         "legendgroup": "sub-707576_acq-headmotion1_T1w",
         "line": {
          "color": "rgba(255,255,255,0)"
         },
         "marker": {
          "color": "#00cc96"
         },
         "name": "sub-707576_acq-headmotion1_T1w",
         "offsetgroup": "sub-707576_acq-headmotion1_T1w",
         "orientation": "v",
         "pointpos": 0,
         "showlegend": true,
         "type": "box",
         "x": [
          2
         ],
         "x0": " ",
         "xaxis": "x",
         "y": [
          2
         ],
         "y0": " ",
         "yaxis": "y"
        },
        {
         "alignmentgroup": "True",
         "boxpoints": "all",
         "fillcolor": "rgba(255,255,255,0)",
         "hoveron": "points",
         "hovertemplate": "bids_name=sub-707576_acq-headmotion2_T1w<br>condition=%{x}<br>score=%{y}<extra></extra>",
         "legendgroup": "sub-707576_acq-headmotion2_T1w",
         "line": {
          "color": "rgba(255,255,255,0)"
         },
         "marker": {
          "color": "#ab63fa"
         },
         "name": "sub-707576_acq-headmotion2_T1w",
         "offsetgroup": "sub-707576_acq-headmotion2_T1w",
         "orientation": "v",
         "pointpos": 0,
         "showlegend": true,
         "type": "box",
         "x": [
          3
         ],
         "x0": " ",
         "xaxis": "x",
         "y": [
          3
         ],
         "y0": " ",
         "yaxis": "y"
        },
        {
         "alignmentgroup": "True",
         "boxpoints": "all",
         "fillcolor": "rgba(255,255,255,0)",
         "hoveron": "points",
         "hovertemplate": "bids_name=sub-707576_acq-standard_T1w<br>condition=%{x}<br>score=%{y}<extra></extra>",
         "legendgroup": "sub-707576_acq-standard_T1w",
         "line": {
          "color": "rgba(255,255,255,0)"
         },
         "marker": {
          "color": "#FFA15A"
         },
         "name": "sub-707576_acq-standard_T1w",
         "offsetgroup": "sub-707576_acq-standard_T1w",
         "orientation": "v",
         "pointpos": 0,
         "showlegend": true,
         "type": "box",
         "x": [
          1
         ],
         "x0": " ",
         "xaxis": "x",
         "y": [
          1
         ],
         "y0": " ",
         "yaxis": "y"
        },
        {
         "alignmentgroup": "True",
         "boxpoints": "all",
         "fillcolor": "rgba(255,255,255,0)",
         "hoveron": "points",
         "hovertemplate": "bids_name=sub-714347_acq-headmotion1_T1w<br>condition=%{x}<br>score=%{y}<extra></extra>",
         "legendgroup": "sub-714347_acq-headmotion1_T1w",
         "line": {
          "color": "rgba(255,255,255,0)"
         },
         "marker": {
          "color": "#19d3f3"
         },
         "name": "sub-714347_acq-headmotion1_T1w",
         "offsetgroup": "sub-714347_acq-headmotion1_T1w",
         "orientation": "v",
         "pointpos": 0,
         "showlegend": true,
         "type": "box",
         "x": [
          2
         ],
         "x0": " ",
         "xaxis": "x",
         "y": [
          3
         ],
         "y0": " ",
         "yaxis": "y"
        },
        {
         "alignmentgroup": "True",
         "boxpoints": "all",
         "fillcolor": "rgba(255,255,255,0)",
         "hoveron": "points",
         "hovertemplate": "bids_name=sub-714347_acq-headmotion2_T1w<br>condition=%{x}<br>score=%{y}<extra></extra>",
         "legendgroup": "sub-714347_acq-headmotion2_T1w",
         "line": {
          "color": "rgba(255,255,255,0)"
         },
         "marker": {
          "color": "#FF6692"
         },
         "name": "sub-714347_acq-headmotion2_T1w",
         "offsetgroup": "sub-714347_acq-headmotion2_T1w",
         "orientation": "v",
         "pointpos": 0,
         "showlegend": true,
         "type": "box",
         "x": [
          3
         ],
         "x0": " ",
         "xaxis": "x",
         "y": [
          3
         ],
         "y0": " ",
         "yaxis": "y"
        },
        {
         "alignmentgroup": "True",
         "boxpoints": "all",
         "fillcolor": "rgba(255,255,255,0)",
         "hoveron": "points",
         "hovertemplate": "bids_name=sub-714347_acq-standard_T1w<br>condition=%{x}<br>score=%{y}<extra></extra>",
         "legendgroup": "sub-714347_acq-standard_T1w",
         "line": {
          "color": "rgba(255,255,255,0)"
         },
         "marker": {
          "color": "#B6E880"
         },
         "name": "sub-714347_acq-standard_T1w",
         "offsetgroup": "sub-714347_acq-standard_T1w",
         "orientation": "v",
         "pointpos": 0,
         "showlegend": true,
         "type": "box",
         "x": [
          1
         ],
         "x0": " ",
         "xaxis": "x",
         "y": [
          1
         ],
         "y0": " ",
         "yaxis": "y"
        },
        {
         "alignmentgroup": "True",
         "boxpoints": "all",
         "fillcolor": "rgba(255,255,255,0)",
         "hoveron": "points",
         "hovertemplate": "bids_name=sub-723372_acq-headmotion1_T1w<br>condition=%{x}<br>score=%{y}<extra></extra>",
         "legendgroup": "sub-723372_acq-headmotion1_T1w",
         "line": {
          "color": "rgba(255,255,255,0)"
         },
         "marker": {
          "color": "#FF97FF"
         },
         "name": "sub-723372_acq-headmotion1_T1w",
         "offsetgroup": "sub-723372_acq-headmotion1_T1w",
         "orientation": "v",
         "pointpos": 0,
         "showlegend": true,
         "type": "box",
         "x": [
          2
         ],
         "x0": " ",
         "xaxis": "x",
         "y": [
          3
         ],
         "y0": " ",
         "yaxis": "y"
        },
        {
         "alignmentgroup": "True",
         "boxpoints": "all",
         "fillcolor": "rgba(255,255,255,0)",
         "hoveron": "points",
         "hovertemplate": "bids_name=sub-723372_acq-headmotion2_T1w<br>condition=%{x}<br>score=%{y}<extra></extra>",
         "legendgroup": "sub-723372_acq-headmotion2_T1w",
         "line": {
          "color": "rgba(255,255,255,0)"
         },
         "marker": {
          "color": "#FECB52"
         },
         "name": "sub-723372_acq-headmotion2_T1w",
         "offsetgroup": "sub-723372_acq-headmotion2_T1w",
         "orientation": "v",
         "pointpos": 0,
         "showlegend": true,
         "type": "box",
         "x": [
          3
         ],
         "x0": " ",
         "xaxis": "x",
         "y": [
          3
         ],
         "y0": " ",
         "yaxis": "y"
        },
        {
         "alignmentgroup": "True",
         "boxpoints": "all",
         "fillcolor": "rgba(255,255,255,0)",
         "hoveron": "points",
         "hovertemplate": "bids_name=sub-723372_acq-standard_T1w<br>condition=%{x}<br>score=%{y}<extra></extra>",
         "legendgroup": "sub-723372_acq-standard_T1w",
         "line": {
          "color": "rgba(255,255,255,0)"
         },
         "marker": {
          "color": "#636efa"
         },
         "name": "sub-723372_acq-standard_T1w",
         "offsetgroup": "sub-723372_acq-standard_T1w",
         "orientation": "v",
         "pointpos": 0,
         "showlegend": true,
         "type": "box",
         "x": [
          1
         ],
         "x0": " ",
         "xaxis": "x",
         "y": [
          1
         ],
         "y0": " ",
         "yaxis": "y"
        },
        {
         "alignmentgroup": "True",
         "boxpoints": "all",
         "fillcolor": "rgba(255,255,255,0)",
         "hoveron": "points",
         "hovertemplate": "bids_name=sub-740606_acq-headmotion1_T1w<br>condition=%{x}<br>score=%{y}<extra></extra>",
         "legendgroup": "sub-740606_acq-headmotion1_T1w",
         "line": {
          "color": "rgba(255,255,255,0)"
         },
         "marker": {
          "color": "#EF553B"
         },
         "name": "sub-740606_acq-headmotion1_T1w",
         "offsetgroup": "sub-740606_acq-headmotion1_T1w",
         "orientation": "v",
         "pointpos": 0,
         "showlegend": true,
         "type": "box",
         "x": [
          2
         ],
         "x0": " ",
         "xaxis": "x",
         "y": [
          2
         ],
         "y0": " ",
         "yaxis": "y"
        },
        {
         "alignmentgroup": "True",
         "boxpoints": "all",
         "fillcolor": "rgba(255,255,255,0)",
         "hoveron": "points",
         "hovertemplate": "bids_name=sub-740606_acq-headmotion2_T1w<br>condition=%{x}<br>score=%{y}<extra></extra>",
         "legendgroup": "sub-740606_acq-headmotion2_T1w",
         "line": {
          "color": "rgba(255,255,255,0)"
         },
         "marker": {
          "color": "#00cc96"
         },
         "name": "sub-740606_acq-headmotion2_T1w",
         "offsetgroup": "sub-740606_acq-headmotion2_T1w",
         "orientation": "v",
         "pointpos": 0,
         "showlegend": true,
         "type": "box",
         "x": [
          3
         ],
         "x0": " ",
         "xaxis": "x",
         "y": [
          3
         ],
         "y0": " ",
         "yaxis": "y"
        },
        {
         "alignmentgroup": "True",
         "boxpoints": "all",
         "fillcolor": "rgba(255,255,255,0)",
         "hoveron": "points",
         "hovertemplate": "bids_name=sub-740606_acq-standard_T1w<br>condition=%{x}<br>score=%{y}<extra></extra>",
         "legendgroup": "sub-740606_acq-standard_T1w",
         "line": {
          "color": "rgba(255,255,255,0)"
         },
         "marker": {
          "color": "#ab63fa"
         },
         "name": "sub-740606_acq-standard_T1w",
         "offsetgroup": "sub-740606_acq-standard_T1w",
         "orientation": "v",
         "pointpos": 0,
         "showlegend": true,
         "type": "box",
         "x": [
          1
         ],
         "x0": " ",
         "xaxis": "x",
         "y": [
          1
         ],
         "y0": " ",
         "yaxis": "y"
        },
        {
         "alignmentgroup": "True",
         "boxpoints": "all",
         "fillcolor": "rgba(255,255,255,0)",
         "hoveron": "points",
         "hovertemplate": "bids_name=sub-750675_acq-headmotion1_T1w<br>condition=%{x}<br>score=%{y}<extra></extra>",
         "legendgroup": "sub-750675_acq-headmotion1_T1w",
         "line": {
          "color": "rgba(255,255,255,0)"
         },
         "marker": {
          "color": "#FFA15A"
         },
         "name": "sub-750675_acq-headmotion1_T1w",
         "offsetgroup": "sub-750675_acq-headmotion1_T1w",
         "orientation": "v",
         "pointpos": 0,
         "showlegend": true,
         "type": "box",
         "x": [
          2
         ],
         "x0": " ",
         "xaxis": "x",
         "y": [
          3
         ],
         "y0": " ",
         "yaxis": "y"
        },
        {
         "alignmentgroup": "True",
         "boxpoints": "all",
         "fillcolor": "rgba(255,255,255,0)",
         "hoveron": "points",
         "hovertemplate": "bids_name=sub-750675_acq-headmotion2_T1w<br>condition=%{x}<br>score=%{y}<extra></extra>",
         "legendgroup": "sub-750675_acq-headmotion2_T1w",
         "line": {
          "color": "rgba(255,255,255,0)"
         },
         "marker": {
          "color": "#19d3f3"
         },
         "name": "sub-750675_acq-headmotion2_T1w",
         "offsetgroup": "sub-750675_acq-headmotion2_T1w",
         "orientation": "v",
         "pointpos": 0,
         "showlegend": true,
         "type": "box",
         "x": [
          3
         ],
         "x0": " ",
         "xaxis": "x",
         "y": [
          3
         ],
         "y0": " ",
         "yaxis": "y"
        },
        {
         "alignmentgroup": "True",
         "boxpoints": "all",
         "fillcolor": "rgba(255,255,255,0)",
         "hoveron": "points",
         "hovertemplate": "bids_name=sub-750675_acq-standard_T1w<br>condition=%{x}<br>score=%{y}<extra></extra>",
         "legendgroup": "sub-750675_acq-standard_T1w",
         "line": {
          "color": "rgba(255,255,255,0)"
         },
         "marker": {
          "color": "#FF6692"
         },
         "name": "sub-750675_acq-standard_T1w",
         "offsetgroup": "sub-750675_acq-standard_T1w",
         "orientation": "v",
         "pointpos": 0,
         "showlegend": true,
         "type": "box",
         "x": [
          1
         ],
         "x0": " ",
         "xaxis": "x",
         "y": [
          1
         ],
         "y0": " ",
         "yaxis": "y"
        },
        {
         "alignmentgroup": "True",
         "boxpoints": "all",
         "fillcolor": "rgba(255,255,255,0)",
         "hoveron": "points",
         "hovertemplate": "bids_name=sub-754006_acq-headmotion1_T1w<br>condition=%{x}<br>score=%{y}<extra></extra>",
         "legendgroup": "sub-754006_acq-headmotion1_T1w",
         "line": {
          "color": "rgba(255,255,255,0)"
         },
         "marker": {
          "color": "#B6E880"
         },
         "name": "sub-754006_acq-headmotion1_T1w",
         "offsetgroup": "sub-754006_acq-headmotion1_T1w",
         "orientation": "v",
         "pointpos": 0,
         "showlegend": true,
         "type": "box",
         "x": [
          2
         ],
         "x0": " ",
         "xaxis": "x",
         "y": [
          2
         ],
         "y0": " ",
         "yaxis": "y"
        },
        {
         "alignmentgroup": "True",
         "boxpoints": "all",
         "fillcolor": "rgba(255,255,255,0)",
         "hoveron": "points",
         "hovertemplate": "bids_name=sub-754006_acq-headmotion2_T1w<br>condition=%{x}<br>score=%{y}<extra></extra>",
         "legendgroup": "sub-754006_acq-headmotion2_T1w",
         "line": {
          "color": "rgba(255,255,255,0)"
         },
         "marker": {
          "color": "#FF97FF"
         },
         "name": "sub-754006_acq-headmotion2_T1w",
         "offsetgroup": "sub-754006_acq-headmotion2_T1w",
         "orientation": "v",
         "pointpos": 0,
         "showlegend": true,
         "type": "box",
         "x": [
          3
         ],
         "x0": " ",
         "xaxis": "x",
         "y": [
          3
         ],
         "y0": " ",
         "yaxis": "y"
        },
        {
         "alignmentgroup": "True",
         "boxpoints": "all",
         "fillcolor": "rgba(255,255,255,0)",
         "hoveron": "points",
         "hovertemplate": "bids_name=sub-754006_acq-standard_T1w<br>condition=%{x}<br>score=%{y}<extra></extra>",
         "legendgroup": "sub-754006_acq-standard_T1w",
         "line": {
          "color": "rgba(255,255,255,0)"
         },
         "marker": {
          "color": "#FECB52"
         },
         "name": "sub-754006_acq-standard_T1w",
         "offsetgroup": "sub-754006_acq-standard_T1w",
         "orientation": "v",
         "pointpos": 0,
         "showlegend": true,
         "type": "box",
         "x": [
          1
         ],
         "x0": " ",
         "xaxis": "x",
         "y": [
          1
         ],
         "y0": " ",
         "yaxis": "y"
        },
        {
         "alignmentgroup": "True",
         "boxpoints": "all",
         "fillcolor": "rgba(255,255,255,0)",
         "hoveron": "points",
         "hovertemplate": "bids_name=sub-754183_acq-headmotion1_T1w<br>condition=%{x}<br>score=%{y}<extra></extra>",
         "legendgroup": "sub-754183_acq-headmotion1_T1w",
         "line": {
          "color": "rgba(255,255,255,0)"
         },
         "marker": {
          "color": "#636efa"
         },
         "name": "sub-754183_acq-headmotion1_T1w",
         "offsetgroup": "sub-754183_acq-headmotion1_T1w",
         "orientation": "v",
         "pointpos": 0,
         "showlegend": true,
         "type": "box",
         "x": [
          2
         ],
         "x0": " ",
         "xaxis": "x",
         "y": [
          3
         ],
         "y0": " ",
         "yaxis": "y"
        },
        {
         "alignmentgroup": "True",
         "boxpoints": "all",
         "fillcolor": "rgba(255,255,255,0)",
         "hoveron": "points",
         "hovertemplate": "bids_name=sub-754183_acq-headmotion2_T1w<br>condition=%{x}<br>score=%{y}<extra></extra>",
         "legendgroup": "sub-754183_acq-headmotion2_T1w",
         "line": {
          "color": "rgba(255,255,255,0)"
         },
         "marker": {
          "color": "#EF553B"
         },
         "name": "sub-754183_acq-headmotion2_T1w",
         "offsetgroup": "sub-754183_acq-headmotion2_T1w",
         "orientation": "v",
         "pointpos": 0,
         "showlegend": true,
         "type": "box",
         "x": [
          3
         ],
         "x0": " ",
         "xaxis": "x",
         "y": [
          3
         ],
         "y0": " ",
         "yaxis": "y"
        },
        {
         "alignmentgroup": "True",
         "boxpoints": "all",
         "fillcolor": "rgba(255,255,255,0)",
         "hoveron": "points",
         "hovertemplate": "bids_name=sub-754183_acq-standard_T1w<br>condition=%{x}<br>score=%{y}<extra></extra>",
         "legendgroup": "sub-754183_acq-standard_T1w",
         "line": {
          "color": "rgba(255,255,255,0)"
         },
         "marker": {
          "color": "#00cc96"
         },
         "name": "sub-754183_acq-standard_T1w",
         "offsetgroup": "sub-754183_acq-standard_T1w",
         "orientation": "v",
         "pointpos": 0,
         "showlegend": true,
         "type": "box",
         "x": [
          1
         ],
         "x0": " ",
         "xaxis": "x",
         "y": [
          1
         ],
         "y0": " ",
         "yaxis": "y"
        },
        {
         "alignmentgroup": "True",
         "boxpoints": "all",
         "fillcolor": "rgba(255,255,255,0)",
         "hoveron": "points",
         "hovertemplate": "bids_name=sub-757271_acq-headmotion1_T1w<br>condition=%{x}<br>score=%{y}<extra></extra>",
         "legendgroup": "sub-757271_acq-headmotion1_T1w",
         "line": {
          "color": "rgba(255,255,255,0)"
         },
         "marker": {
          "color": "#ab63fa"
         },
         "name": "sub-757271_acq-headmotion1_T1w",
         "offsetgroup": "sub-757271_acq-headmotion1_T1w",
         "orientation": "v",
         "pointpos": 0,
         "showlegend": true,
         "type": "box",
         "x": [
          2
         ],
         "x0": " ",
         "xaxis": "x",
         "y": [
          3
         ],
         "y0": " ",
         "yaxis": "y"
        },
        {
         "alignmentgroup": "True",
         "boxpoints": "all",
         "fillcolor": "rgba(255,255,255,0)",
         "hoveron": "points",
         "hovertemplate": "bids_name=sub-757271_acq-headmotion2_T1w<br>condition=%{x}<br>score=%{y}<extra></extra>",
         "legendgroup": "sub-757271_acq-headmotion2_T1w",
         "line": {
          "color": "rgba(255,255,255,0)"
         },
         "marker": {
          "color": "#FFA15A"
         },
         "name": "sub-757271_acq-headmotion2_T1w",
         "offsetgroup": "sub-757271_acq-headmotion2_T1w",
         "orientation": "v",
         "pointpos": 0,
         "showlegend": true,
         "type": "box",
         "x": [
          3
         ],
         "x0": " ",
         "xaxis": "x",
         "y": [
          3
         ],
         "y0": " ",
         "yaxis": "y"
        },
        {
         "alignmentgroup": "True",
         "boxpoints": "all",
         "fillcolor": "rgba(255,255,255,0)",
         "hoveron": "points",
         "hovertemplate": "bids_name=sub-757271_acq-standard_T1w<br>condition=%{x}<br>score=%{y}<extra></extra>",
         "legendgroup": "sub-757271_acq-standard_T1w",
         "line": {
          "color": "rgba(255,255,255,0)"
         },
         "marker": {
          "color": "#19d3f3"
         },
         "name": "sub-757271_acq-standard_T1w",
         "offsetgroup": "sub-757271_acq-standard_T1w",
         "orientation": "v",
         "pointpos": 0,
         "showlegend": true,
         "type": "box",
         "x": [
          1
         ],
         "x0": " ",
         "xaxis": "x",
         "y": [
          2
         ],
         "y0": " ",
         "yaxis": "y"
        },
        {
         "alignmentgroup": "True",
         "boxpoints": "all",
         "fillcolor": "rgba(255,255,255,0)",
         "hoveron": "points",
         "hovertemplate": "bids_name=sub-764976_acq-headmotion1_T1w<br>condition=%{x}<br>score=%{y}<extra></extra>",
         "legendgroup": "sub-764976_acq-headmotion1_T1w",
         "line": {
          "color": "rgba(255,255,255,0)"
         },
         "marker": {
          "color": "#FF6692"
         },
         "name": "sub-764976_acq-headmotion1_T1w",
         "offsetgroup": "sub-764976_acq-headmotion1_T1w",
         "orientation": "v",
         "pointpos": 0,
         "showlegend": true,
         "type": "box",
         "x": [
          2
         ],
         "x0": " ",
         "xaxis": "x",
         "y": [
          2
         ],
         "y0": " ",
         "yaxis": "y"
        },
        {
         "alignmentgroup": "True",
         "boxpoints": "all",
         "fillcolor": "rgba(255,255,255,0)",
         "hoveron": "points",
         "hovertemplate": "bids_name=sub-764976_acq-headmotion2_T1w<br>condition=%{x}<br>score=%{y}<extra></extra>",
         "legendgroup": "sub-764976_acq-headmotion2_T1w",
         "line": {
          "color": "rgba(255,255,255,0)"
         },
         "marker": {
          "color": "#B6E880"
         },
         "name": "sub-764976_acq-headmotion2_T1w",
         "offsetgroup": "sub-764976_acq-headmotion2_T1w",
         "orientation": "v",
         "pointpos": 0,
         "showlegend": true,
         "type": "box",
         "x": [
          3
         ],
         "x0": " ",
         "xaxis": "x",
         "y": [
          3
         ],
         "y0": " ",
         "yaxis": "y"
        },
        {
         "alignmentgroup": "True",
         "boxpoints": "all",
         "fillcolor": "rgba(255,255,255,0)",
         "hoveron": "points",
         "hovertemplate": "bids_name=sub-764976_acq-standard_T1w<br>condition=%{x}<br>score=%{y}<extra></extra>",
         "legendgroup": "sub-764976_acq-standard_T1w",
         "line": {
          "color": "rgba(255,255,255,0)"
         },
         "marker": {
          "color": "#FF97FF"
         },
         "name": "sub-764976_acq-standard_T1w",
         "offsetgroup": "sub-764976_acq-standard_T1w",
         "orientation": "v",
         "pointpos": 0,
         "showlegend": true,
         "type": "box",
         "x": [
          1
         ],
         "x0": " ",
         "xaxis": "x",
         "y": [
          1
         ],
         "y0": " ",
         "yaxis": "y"
        },
        {
         "alignmentgroup": "True",
         "boxpoints": "all",
         "fillcolor": "rgba(255,255,255,0)",
         "hoveron": "points",
         "hovertemplate": "bids_name=sub-772389_acq-headmotion1_T1w<br>condition=%{x}<br>score=%{y}<extra></extra>",
         "legendgroup": "sub-772389_acq-headmotion1_T1w",
         "line": {
          "color": "rgba(255,255,255,0)"
         },
         "marker": {
          "color": "#FECB52"
         },
         "name": "sub-772389_acq-headmotion1_T1w",
         "offsetgroup": "sub-772389_acq-headmotion1_T1w",
         "orientation": "v",
         "pointpos": 0,
         "showlegend": true,
         "type": "box",
         "x": [
          2
         ],
         "x0": " ",
         "xaxis": "x",
         "y": [
          3
         ],
         "y0": " ",
         "yaxis": "y"
        },
        {
         "alignmentgroup": "True",
         "boxpoints": "all",
         "fillcolor": "rgba(255,255,255,0)",
         "hoveron": "points",
         "hovertemplate": "bids_name=sub-772389_acq-headmotion2_T1w<br>condition=%{x}<br>score=%{y}<extra></extra>",
         "legendgroup": "sub-772389_acq-headmotion2_T1w",
         "line": {
          "color": "rgba(255,255,255,0)"
         },
         "marker": {
          "color": "#636efa"
         },
         "name": "sub-772389_acq-headmotion2_T1w",
         "offsetgroup": "sub-772389_acq-headmotion2_T1w",
         "orientation": "v",
         "pointpos": 0,
         "showlegend": true,
         "type": "box",
         "x": [
          3
         ],
         "x0": " ",
         "xaxis": "x",
         "y": [
          3
         ],
         "y0": " ",
         "yaxis": "y"
        },
        {
         "alignmentgroup": "True",
         "boxpoints": "all",
         "fillcolor": "rgba(255,255,255,0)",
         "hoveron": "points",
         "hovertemplate": "bids_name=sub-772389_acq-standard_T1w<br>condition=%{x}<br>score=%{y}<extra></extra>",
         "legendgroup": "sub-772389_acq-standard_T1w",
         "line": {
          "color": "rgba(255,255,255,0)"
         },
         "marker": {
          "color": "#EF553B"
         },
         "name": "sub-772389_acq-standard_T1w",
         "offsetgroup": "sub-772389_acq-standard_T1w",
         "orientation": "v",
         "pointpos": 0,
         "showlegend": true,
         "type": "box",
         "x": [
          1
         ],
         "x0": " ",
         "xaxis": "x",
         "y": [
          1
         ],
         "y0": " ",
         "yaxis": "y"
        },
        {
         "alignmentgroup": "True",
         "boxpoints": "all",
         "fillcolor": "rgba(255,255,255,0)",
         "hoveron": "points",
         "hovertemplate": "bids_name=sub-778481_acq-headmotion1_T1w<br>condition=%{x}<br>score=%{y}<extra></extra>",
         "legendgroup": "sub-778481_acq-headmotion1_T1w",
         "line": {
          "color": "rgba(255,255,255,0)"
         },
         "marker": {
          "color": "#00cc96"
         },
         "name": "sub-778481_acq-headmotion1_T1w",
         "offsetgroup": "sub-778481_acq-headmotion1_T1w",
         "orientation": "v",
         "pointpos": 0,
         "showlegend": true,
         "type": "box",
         "x": [
          2
         ],
         "x0": " ",
         "xaxis": "x",
         "y": [
          3
         ],
         "y0": " ",
         "yaxis": "y"
        },
        {
         "alignmentgroup": "True",
         "boxpoints": "all",
         "fillcolor": "rgba(255,255,255,0)",
         "hoveron": "points",
         "hovertemplate": "bids_name=sub-778481_acq-headmotion2_T1w<br>condition=%{x}<br>score=%{y}<extra></extra>",
         "legendgroup": "sub-778481_acq-headmotion2_T1w",
         "line": {
          "color": "rgba(255,255,255,0)"
         },
         "marker": {
          "color": "#ab63fa"
         },
         "name": "sub-778481_acq-headmotion2_T1w",
         "offsetgroup": "sub-778481_acq-headmotion2_T1w",
         "orientation": "v",
         "pointpos": 0,
         "showlegend": true,
         "type": "box",
         "x": [
          3
         ],
         "x0": " ",
         "xaxis": "x",
         "y": [
          3
         ],
         "y0": " ",
         "yaxis": "y"
        },
        {
         "alignmentgroup": "True",
         "boxpoints": "all",
         "fillcolor": "rgba(255,255,255,0)",
         "hoveron": "points",
         "hovertemplate": "bids_name=sub-778481_acq-standard_T1w<br>condition=%{x}<br>score=%{y}<extra></extra>",
         "legendgroup": "sub-778481_acq-standard_T1w",
         "line": {
          "color": "rgba(255,255,255,0)"
         },
         "marker": {
          "color": "#FFA15A"
         },
         "name": "sub-778481_acq-standard_T1w",
         "offsetgroup": "sub-778481_acq-standard_T1w",
         "orientation": "v",
         "pointpos": 0,
         "showlegend": true,
         "type": "box",
         "x": [
          1
         ],
         "x0": " ",
         "xaxis": "x",
         "y": [
          1
         ],
         "y0": " ",
         "yaxis": "y"
        },
        {
         "alignmentgroup": "True",
         "boxpoints": "all",
         "fillcolor": "rgba(255,255,255,0)",
         "hoveron": "points",
         "hovertemplate": "bids_name=sub-780660_acq-headmotion1_T1w<br>condition=%{x}<br>score=%{y}<extra></extra>",
         "legendgroup": "sub-780660_acq-headmotion1_T1w",
         "line": {
          "color": "rgba(255,255,255,0)"
         },
         "marker": {
          "color": "#19d3f3"
         },
         "name": "sub-780660_acq-headmotion1_T1w",
         "offsetgroup": "sub-780660_acq-headmotion1_T1w",
         "orientation": "v",
         "pointpos": 0,
         "showlegend": true,
         "type": "box",
         "x": [
          2
         ],
         "x0": " ",
         "xaxis": "x",
         "y": [
          2
         ],
         "y0": " ",
         "yaxis": "y"
        },
        {
         "alignmentgroup": "True",
         "boxpoints": "all",
         "fillcolor": "rgba(255,255,255,0)",
         "hoveron": "points",
         "hovertemplate": "bids_name=sub-780660_acq-headmotion2_T1w<br>condition=%{x}<br>score=%{y}<extra></extra>",
         "legendgroup": "sub-780660_acq-headmotion2_T1w",
         "line": {
          "color": "rgba(255,255,255,0)"
         },
         "marker": {
          "color": "#FF6692"
         },
         "name": "sub-780660_acq-headmotion2_T1w",
         "offsetgroup": "sub-780660_acq-headmotion2_T1w",
         "orientation": "v",
         "pointpos": 0,
         "showlegend": true,
         "type": "box",
         "x": [
          3
         ],
         "x0": " ",
         "xaxis": "x",
         "y": [
          3
         ],
         "y0": " ",
         "yaxis": "y"
        },
        {
         "alignmentgroup": "True",
         "boxpoints": "all",
         "fillcolor": "rgba(255,255,255,0)",
         "hoveron": "points",
         "hovertemplate": "bids_name=sub-780660_acq-standard_T1w<br>condition=%{x}<br>score=%{y}<extra></extra>",
         "legendgroup": "sub-780660_acq-standard_T1w",
         "line": {
          "color": "rgba(255,255,255,0)"
         },
         "marker": {
          "color": "#B6E880"
         },
         "name": "sub-780660_acq-standard_T1w",
         "offsetgroup": "sub-780660_acq-standard_T1w",
         "orientation": "v",
         "pointpos": 0,
         "showlegend": true,
         "type": "box",
         "x": [
          1
         ],
         "x0": " ",
         "xaxis": "x",
         "y": [
          2
         ],
         "y0": " ",
         "yaxis": "y"
        },
        {
         "alignmentgroup": "True",
         "boxpoints": "all",
         "fillcolor": "rgba(255,255,255,0)",
         "hoveron": "points",
         "hovertemplate": "bids_name=sub-788339_acq-headmotion1_T1w<br>condition=%{x}<br>score=%{y}<extra></extra>",
         "legendgroup": "sub-788339_acq-headmotion1_T1w",
         "line": {
          "color": "rgba(255,255,255,0)"
         },
         "marker": {
          "color": "#FF97FF"
         },
         "name": "sub-788339_acq-headmotion1_T1w",
         "offsetgroup": "sub-788339_acq-headmotion1_T1w",
         "orientation": "v",
         "pointpos": 0,
         "showlegend": true,
         "type": "box",
         "x": [
          2
         ],
         "x0": " ",
         "xaxis": "x",
         "y": [
          3
         ],
         "y0": " ",
         "yaxis": "y"
        },
        {
         "alignmentgroup": "True",
         "boxpoints": "all",
         "fillcolor": "rgba(255,255,255,0)",
         "hoveron": "points",
         "hovertemplate": "bids_name=sub-788339_acq-headmotion2_T1w<br>condition=%{x}<br>score=%{y}<extra></extra>",
         "legendgroup": "sub-788339_acq-headmotion2_T1w",
         "line": {
          "color": "rgba(255,255,255,0)"
         },
         "marker": {
          "color": "#FECB52"
         },
         "name": "sub-788339_acq-headmotion2_T1w",
         "offsetgroup": "sub-788339_acq-headmotion2_T1w",
         "orientation": "v",
         "pointpos": 0,
         "showlegend": true,
         "type": "box",
         "x": [
          3
         ],
         "x0": " ",
         "xaxis": "x",
         "y": [
          3
         ],
         "y0": " ",
         "yaxis": "y"
        },
        {
         "alignmentgroup": "True",
         "boxpoints": "all",
         "fillcolor": "rgba(255,255,255,0)",
         "hoveron": "points",
         "hovertemplate": "bids_name=sub-788339_acq-standard_T1w<br>condition=%{x}<br>score=%{y}<extra></extra>",
         "legendgroup": "sub-788339_acq-standard_T1w",
         "line": {
          "color": "rgba(255,255,255,0)"
         },
         "marker": {
          "color": "#636efa"
         },
         "name": "sub-788339_acq-standard_T1w",
         "offsetgroup": "sub-788339_acq-standard_T1w",
         "orientation": "v",
         "pointpos": 0,
         "showlegend": true,
         "type": "box",
         "x": [
          1
         ],
         "x0": " ",
         "xaxis": "x",
         "y": [
          1
         ],
         "y0": " ",
         "yaxis": "y"
        },
        {
         "alignmentgroup": "True",
         "boxpoints": "all",
         "fillcolor": "rgba(255,255,255,0)",
         "hoveron": "points",
         "hovertemplate": "bids_name=sub-791907_acq-headmotion1_T1w<br>condition=%{x}<br>score=%{y}<extra></extra>",
         "legendgroup": "sub-791907_acq-headmotion1_T1w",
         "line": {
          "color": "rgba(255,255,255,0)"
         },
         "marker": {
          "color": "#EF553B"
         },
         "name": "sub-791907_acq-headmotion1_T1w",
         "offsetgroup": "sub-791907_acq-headmotion1_T1w",
         "orientation": "v",
         "pointpos": 0,
         "showlegend": true,
         "type": "box",
         "x": [
          2
         ],
         "x0": " ",
         "xaxis": "x",
         "y": [
          2
         ],
         "y0": " ",
         "yaxis": "y"
        },
        {
         "alignmentgroup": "True",
         "boxpoints": "all",
         "fillcolor": "rgba(255,255,255,0)",
         "hoveron": "points",
         "hovertemplate": "bids_name=sub-791907_acq-headmotion2_T1w<br>condition=%{x}<br>score=%{y}<extra></extra>",
         "legendgroup": "sub-791907_acq-headmotion2_T1w",
         "line": {
          "color": "rgba(255,255,255,0)"
         },
         "marker": {
          "color": "#00cc96"
         },
         "name": "sub-791907_acq-headmotion2_T1w",
         "offsetgroup": "sub-791907_acq-headmotion2_T1w",
         "orientation": "v",
         "pointpos": 0,
         "showlegend": true,
         "type": "box",
         "x": [
          3
         ],
         "x0": " ",
         "xaxis": "x",
         "y": [
          2
         ],
         "y0": " ",
         "yaxis": "y"
        },
        {
         "alignmentgroup": "True",
         "boxpoints": "all",
         "fillcolor": "rgba(255,255,255,0)",
         "hoveron": "points",
         "hovertemplate": "bids_name=sub-791907_acq-standard_T1w<br>condition=%{x}<br>score=%{y}<extra></extra>",
         "legendgroup": "sub-791907_acq-standard_T1w",
         "line": {
          "color": "rgba(255,255,255,0)"
         },
         "marker": {
          "color": "#ab63fa"
         },
         "name": "sub-791907_acq-standard_T1w",
         "offsetgroup": "sub-791907_acq-standard_T1w",
         "orientation": "v",
         "pointpos": 0,
         "showlegend": true,
         "type": "box",
         "x": [
          1
         ],
         "x0": " ",
         "xaxis": "x",
         "y": [
          1
         ],
         "y0": " ",
         "yaxis": "y"
        },
        {
         "alignmentgroup": "True",
         "boxpoints": "all",
         "fillcolor": "rgba(255,255,255,0)",
         "hoveron": "points",
         "hovertemplate": "bids_name=sub-802945_acq-headmotion1_T1w<br>condition=%{x}<br>score=%{y}<extra></extra>",
         "legendgroup": "sub-802945_acq-headmotion1_T1w",
         "line": {
          "color": "rgba(255,255,255,0)"
         },
         "marker": {
          "color": "#FFA15A"
         },
         "name": "sub-802945_acq-headmotion1_T1w",
         "offsetgroup": "sub-802945_acq-headmotion1_T1w",
         "orientation": "v",
         "pointpos": 0,
         "showlegend": true,
         "type": "box",
         "x": [
          2
         ],
         "x0": " ",
         "xaxis": "x",
         "y": [
          1
         ],
         "y0": " ",
         "yaxis": "y"
        },
        {
         "alignmentgroup": "True",
         "boxpoints": "all",
         "fillcolor": "rgba(255,255,255,0)",
         "hoveron": "points",
         "hovertemplate": "bids_name=sub-802945_acq-headmotion2_T1w<br>condition=%{x}<br>score=%{y}<extra></extra>",
         "legendgroup": "sub-802945_acq-headmotion2_T1w",
         "line": {
          "color": "rgba(255,255,255,0)"
         },
         "marker": {
          "color": "#19d3f3"
         },
         "name": "sub-802945_acq-headmotion2_T1w",
         "offsetgroup": "sub-802945_acq-headmotion2_T1w",
         "orientation": "v",
         "pointpos": 0,
         "showlegend": true,
         "type": "box",
         "x": [
          3
         ],
         "x0": " ",
         "xaxis": "x",
         "y": [
          2
         ],
         "y0": " ",
         "yaxis": "y"
        },
        {
         "alignmentgroup": "True",
         "boxpoints": "all",
         "fillcolor": "rgba(255,255,255,0)",
         "hoveron": "points",
         "hovertemplate": "bids_name=sub-802945_acq-standard_T1w<br>condition=%{x}<br>score=%{y}<extra></extra>",
         "legendgroup": "sub-802945_acq-standard_T1w",
         "line": {
          "color": "rgba(255,255,255,0)"
         },
         "marker": {
          "color": "#FF6692"
         },
         "name": "sub-802945_acq-standard_T1w",
         "offsetgroup": "sub-802945_acq-standard_T1w",
         "orientation": "v",
         "pointpos": 0,
         "showlegend": true,
         "type": "box",
         "x": [
          1
         ],
         "x0": " ",
         "xaxis": "x",
         "y": [
          1
         ],
         "y0": " ",
         "yaxis": "y"
        },
        {
         "alignmentgroup": "True",
         "boxpoints": "all",
         "fillcolor": "rgba(255,255,255,0)",
         "hoveron": "points",
         "hovertemplate": "bids_name=sub-809320_acq-headmotion1_T1w<br>condition=%{x}<br>score=%{y}<extra></extra>",
         "legendgroup": "sub-809320_acq-headmotion1_T1w",
         "line": {
          "color": "rgba(255,255,255,0)"
         },
         "marker": {
          "color": "#B6E880"
         },
         "name": "sub-809320_acq-headmotion1_T1w",
         "offsetgroup": "sub-809320_acq-headmotion1_T1w",
         "orientation": "v",
         "pointpos": 0,
         "showlegend": true,
         "type": "box",
         "x": [
          2
         ],
         "x0": " ",
         "xaxis": "x",
         "y": [
          3
         ],
         "y0": " ",
         "yaxis": "y"
        },
        {
         "alignmentgroup": "True",
         "boxpoints": "all",
         "fillcolor": "rgba(255,255,255,0)",
         "hoveron": "points",
         "hovertemplate": "bids_name=sub-809320_acq-headmotion2_T1w<br>condition=%{x}<br>score=%{y}<extra></extra>",
         "legendgroup": "sub-809320_acq-headmotion2_T1w",
         "line": {
          "color": "rgba(255,255,255,0)"
         },
         "marker": {
          "color": "#FF97FF"
         },
         "name": "sub-809320_acq-headmotion2_T1w",
         "offsetgroup": "sub-809320_acq-headmotion2_T1w",
         "orientation": "v",
         "pointpos": 0,
         "showlegend": true,
         "type": "box",
         "x": [
          3
         ],
         "x0": " ",
         "xaxis": "x",
         "y": [
          3
         ],
         "y0": " ",
         "yaxis": "y"
        },
        {
         "alignmentgroup": "True",
         "boxpoints": "all",
         "fillcolor": "rgba(255,255,255,0)",
         "hoveron": "points",
         "hovertemplate": "bids_name=sub-809320_acq-standard_T1w<br>condition=%{x}<br>score=%{y}<extra></extra>",
         "legendgroup": "sub-809320_acq-standard_T1w",
         "line": {
          "color": "rgba(255,255,255,0)"
         },
         "marker": {
          "color": "#FECB52"
         },
         "name": "sub-809320_acq-standard_T1w",
         "offsetgroup": "sub-809320_acq-standard_T1w",
         "orientation": "v",
         "pointpos": 0,
         "showlegend": true,
         "type": "box",
         "x": [
          1
         ],
         "x0": " ",
         "xaxis": "x",
         "y": [
          1
         ],
         "y0": " ",
         "yaxis": "y"
        },
        {
         "alignmentgroup": "True",
         "boxpoints": "all",
         "fillcolor": "rgba(255,255,255,0)",
         "hoveron": "points",
         "hovertemplate": "bids_name=sub-811563_acq-headmotion1_T1w<br>condition=%{x}<br>score=%{y}<extra></extra>",
         "legendgroup": "sub-811563_acq-headmotion1_T1w",
         "line": {
          "color": "rgba(255,255,255,0)"
         },
         "marker": {
          "color": "#636efa"
         },
         "name": "sub-811563_acq-headmotion1_T1w",
         "offsetgroup": "sub-811563_acq-headmotion1_T1w",
         "orientation": "v",
         "pointpos": 0,
         "showlegend": true,
         "type": "box",
         "x": [
          2
         ],
         "x0": " ",
         "xaxis": "x",
         "y": [
          3
         ],
         "y0": " ",
         "yaxis": "y"
        },
        {
         "alignmentgroup": "True",
         "boxpoints": "all",
         "fillcolor": "rgba(255,255,255,0)",
         "hoveron": "points",
         "hovertemplate": "bids_name=sub-811563_acq-headmotion2_T1w<br>condition=%{x}<br>score=%{y}<extra></extra>",
         "legendgroup": "sub-811563_acq-headmotion2_T1w",
         "line": {
          "color": "rgba(255,255,255,0)"
         },
         "marker": {
          "color": "#EF553B"
         },
         "name": "sub-811563_acq-headmotion2_T1w",
         "offsetgroup": "sub-811563_acq-headmotion2_T1w",
         "orientation": "v",
         "pointpos": 0,
         "showlegend": true,
         "type": "box",
         "x": [
          3
         ],
         "x0": " ",
         "xaxis": "x",
         "y": [
          2
         ],
         "y0": " ",
         "yaxis": "y"
        },
        {
         "alignmentgroup": "True",
         "boxpoints": "all",
         "fillcolor": "rgba(255,255,255,0)",
         "hoveron": "points",
         "hovertemplate": "bids_name=sub-811563_acq-standard_T1w<br>condition=%{x}<br>score=%{y}<extra></extra>",
         "legendgroup": "sub-811563_acq-standard_T1w",
         "line": {
          "color": "rgba(255,255,255,0)"
         },
         "marker": {
          "color": "#00cc96"
         },
         "name": "sub-811563_acq-standard_T1w",
         "offsetgroup": "sub-811563_acq-standard_T1w",
         "orientation": "v",
         "pointpos": 0,
         "showlegend": true,
         "type": "box",
         "x": [
          1
         ],
         "x0": " ",
         "xaxis": "x",
         "y": [
          2
         ],
         "y0": " ",
         "yaxis": "y"
        },
        {
         "alignmentgroup": "True",
         "boxpoints": "all",
         "fillcolor": "rgba(255,255,255,0)",
         "hoveron": "points",
         "hovertemplate": "bids_name=sub-830976_acq-headmotion1_T1w<br>condition=%{x}<br>score=%{y}<extra></extra>",
         "legendgroup": "sub-830976_acq-headmotion1_T1w",
         "line": {
          "color": "rgba(255,255,255,0)"
         },
         "marker": {
          "color": "#ab63fa"
         },
         "name": "sub-830976_acq-headmotion1_T1w",
         "offsetgroup": "sub-830976_acq-headmotion1_T1w",
         "orientation": "v",
         "pointpos": 0,
         "showlegend": true,
         "type": "box",
         "x": [
          2
         ],
         "x0": " ",
         "xaxis": "x",
         "y": [
          3
         ],
         "y0": " ",
         "yaxis": "y"
        },
        {
         "alignmentgroup": "True",
         "boxpoints": "all",
         "fillcolor": "rgba(255,255,255,0)",
         "hoveron": "points",
         "hovertemplate": "bids_name=sub-830976_acq-headmotion2_T1w<br>condition=%{x}<br>score=%{y}<extra></extra>",
         "legendgroup": "sub-830976_acq-headmotion2_T1w",
         "line": {
          "color": "rgba(255,255,255,0)"
         },
         "marker": {
          "color": "#FFA15A"
         },
         "name": "sub-830976_acq-headmotion2_T1w",
         "offsetgroup": "sub-830976_acq-headmotion2_T1w",
         "orientation": "v",
         "pointpos": 0,
         "showlegend": true,
         "type": "box",
         "x": [
          3
         ],
         "x0": " ",
         "xaxis": "x",
         "y": [
          3
         ],
         "y0": " ",
         "yaxis": "y"
        },
        {
         "alignmentgroup": "True",
         "boxpoints": "all",
         "fillcolor": "rgba(255,255,255,0)",
         "hoveron": "points",
         "hovertemplate": "bids_name=sub-830976_acq-standard_T1w<br>condition=%{x}<br>score=%{y}<extra></extra>",
         "legendgroup": "sub-830976_acq-standard_T1w",
         "line": {
          "color": "rgba(255,255,255,0)"
         },
         "marker": {
          "color": "#19d3f3"
         },
         "name": "sub-830976_acq-standard_T1w",
         "offsetgroup": "sub-830976_acq-standard_T1w",
         "orientation": "v",
         "pointpos": 0,
         "showlegend": true,
         "type": "box",
         "x": [
          1
         ],
         "x0": " ",
         "xaxis": "x",
         "y": [
          1
         ],
         "y0": " ",
         "yaxis": "y"
        },
        {
         "alignmentgroup": "True",
         "boxpoints": "all",
         "fillcolor": "rgba(255,255,255,0)",
         "hoveron": "points",
         "hovertemplate": "bids_name=sub-848092_acq-headmotion1_T1w<br>condition=%{x}<br>score=%{y}<extra></extra>",
         "legendgroup": "sub-848092_acq-headmotion1_T1w",
         "line": {
          "color": "rgba(255,255,255,0)"
         },
         "marker": {
          "color": "#FF6692"
         },
         "name": "sub-848092_acq-headmotion1_T1w",
         "offsetgroup": "sub-848092_acq-headmotion1_T1w",
         "orientation": "v",
         "pointpos": 0,
         "showlegend": true,
         "type": "box",
         "x": [
          2
         ],
         "x0": " ",
         "xaxis": "x",
         "y": [
          3
         ],
         "y0": " ",
         "yaxis": "y"
        },
        {
         "alignmentgroup": "True",
         "boxpoints": "all",
         "fillcolor": "rgba(255,255,255,0)",
         "hoveron": "points",
         "hovertemplate": "bids_name=sub-848092_acq-headmotion2_T1w<br>condition=%{x}<br>score=%{y}<extra></extra>",
         "legendgroup": "sub-848092_acq-headmotion2_T1w",
         "line": {
          "color": "rgba(255,255,255,0)"
         },
         "marker": {
          "color": "#B6E880"
         },
         "name": "sub-848092_acq-headmotion2_T1w",
         "offsetgroup": "sub-848092_acq-headmotion2_T1w",
         "orientation": "v",
         "pointpos": 0,
         "showlegend": true,
         "type": "box",
         "x": [
          3
         ],
         "x0": " ",
         "xaxis": "x",
         "y": [
          3
         ],
         "y0": " ",
         "yaxis": "y"
        },
        {
         "alignmentgroup": "True",
         "boxpoints": "all",
         "fillcolor": "rgba(255,255,255,0)",
         "hoveron": "points",
         "hovertemplate": "bids_name=sub-848092_acq-standard_T1w<br>condition=%{x}<br>score=%{y}<extra></extra>",
         "legendgroup": "sub-848092_acq-standard_T1w",
         "line": {
          "color": "rgba(255,255,255,0)"
         },
         "marker": {
          "color": "#FF97FF"
         },
         "name": "sub-848092_acq-standard_T1w",
         "offsetgroup": "sub-848092_acq-standard_T1w",
         "orientation": "v",
         "pointpos": 0,
         "showlegend": true,
         "type": "box",
         "x": [
          1
         ],
         "x0": " ",
         "xaxis": "x",
         "y": [
          1
         ],
         "y0": " ",
         "yaxis": "y"
        },
        {
         "alignmentgroup": "True",
         "boxpoints": "all",
         "fillcolor": "rgba(255,255,255,0)",
         "hoveron": "points",
         "hovertemplate": "bids_name=sub-862915_acq-headmotion1_T1w<br>condition=%{x}<br>score=%{y}<extra></extra>",
         "legendgroup": "sub-862915_acq-headmotion1_T1w",
         "line": {
          "color": "rgba(255,255,255,0)"
         },
         "marker": {
          "color": "#FECB52"
         },
         "name": "sub-862915_acq-headmotion1_T1w",
         "offsetgroup": "sub-862915_acq-headmotion1_T1w",
         "orientation": "v",
         "pointpos": 0,
         "showlegend": true,
         "type": "box",
         "x": [
          2
         ],
         "x0": " ",
         "xaxis": "x",
         "y": [
          3
         ],
         "y0": " ",
         "yaxis": "y"
        },
        {
         "alignmentgroup": "True",
         "boxpoints": "all",
         "fillcolor": "rgba(255,255,255,0)",
         "hoveron": "points",
         "hovertemplate": "bids_name=sub-862915_acq-headmotion2_T1w<br>condition=%{x}<br>score=%{y}<extra></extra>",
         "legendgroup": "sub-862915_acq-headmotion2_T1w",
         "line": {
          "color": "rgba(255,255,255,0)"
         },
         "marker": {
          "color": "#636efa"
         },
         "name": "sub-862915_acq-headmotion2_T1w",
         "offsetgroup": "sub-862915_acq-headmotion2_T1w",
         "orientation": "v",
         "pointpos": 0,
         "showlegend": true,
         "type": "box",
         "x": [
          3
         ],
         "x0": " ",
         "xaxis": "x",
         "y": [
          3
         ],
         "y0": " ",
         "yaxis": "y"
        },
        {
         "alignmentgroup": "True",
         "boxpoints": "all",
         "fillcolor": "rgba(255,255,255,0)",
         "hoveron": "points",
         "hovertemplate": "bids_name=sub-862915_acq-standard_T1w<br>condition=%{x}<br>score=%{y}<extra></extra>",
         "legendgroup": "sub-862915_acq-standard_T1w",
         "line": {
          "color": "rgba(255,255,255,0)"
         },
         "marker": {
          "color": "#EF553B"
         },
         "name": "sub-862915_acq-standard_T1w",
         "offsetgroup": "sub-862915_acq-standard_T1w",
         "orientation": "v",
         "pointpos": 0,
         "showlegend": true,
         "type": "box",
         "x": [
          1
         ],
         "x0": " ",
         "xaxis": "x",
         "y": [
          1
         ],
         "y0": " ",
         "yaxis": "y"
        },
        {
         "alignmentgroup": "True",
         "boxpoints": "all",
         "fillcolor": "rgba(255,255,255,0)",
         "hoveron": "points",
         "hovertemplate": "bids_name=sub-865293_acq-headmotion1_T1w<br>condition=%{x}<br>score=%{y}<extra></extra>",
         "legendgroup": "sub-865293_acq-headmotion1_T1w",
         "line": {
          "color": "rgba(255,255,255,0)"
         },
         "marker": {
          "color": "#00cc96"
         },
         "name": "sub-865293_acq-headmotion1_T1w",
         "offsetgroup": "sub-865293_acq-headmotion1_T1w",
         "orientation": "v",
         "pointpos": 0,
         "showlegend": true,
         "type": "box",
         "x": [
          2
         ],
         "x0": " ",
         "xaxis": "x",
         "y": [
          2
         ],
         "y0": " ",
         "yaxis": "y"
        },
        {
         "alignmentgroup": "True",
         "boxpoints": "all",
         "fillcolor": "rgba(255,255,255,0)",
         "hoveron": "points",
         "hovertemplate": "bids_name=sub-865293_acq-headmotion2_T1w<br>condition=%{x}<br>score=%{y}<extra></extra>",
         "legendgroup": "sub-865293_acq-headmotion2_T1w",
         "line": {
          "color": "rgba(255,255,255,0)"
         },
         "marker": {
          "color": "#ab63fa"
         },
         "name": "sub-865293_acq-headmotion2_T1w",
         "offsetgroup": "sub-865293_acq-headmotion2_T1w",
         "orientation": "v",
         "pointpos": 0,
         "showlegend": true,
         "type": "box",
         "x": [
          3
         ],
         "x0": " ",
         "xaxis": "x",
         "y": [
          2
         ],
         "y0": " ",
         "yaxis": "y"
        },
        {
         "alignmentgroup": "True",
         "boxpoints": "all",
         "fillcolor": "rgba(255,255,255,0)",
         "hoveron": "points",
         "hovertemplate": "bids_name=sub-865293_acq-standard_T1w<br>condition=%{x}<br>score=%{y}<extra></extra>",
         "legendgroup": "sub-865293_acq-standard_T1w",
         "line": {
          "color": "rgba(255,255,255,0)"
         },
         "marker": {
          "color": "#FFA15A"
         },
         "name": "sub-865293_acq-standard_T1w",
         "offsetgroup": "sub-865293_acq-standard_T1w",
         "orientation": "v",
         "pointpos": 0,
         "showlegend": true,
         "type": "box",
         "x": [
          1
         ],
         "x0": " ",
         "xaxis": "x",
         "y": [
          1
         ],
         "y0": " ",
         "yaxis": "y"
        },
        {
         "alignmentgroup": "True",
         "boxpoints": "all",
         "fillcolor": "rgba(255,255,255,0)",
         "hoveron": "points",
         "hovertemplate": "bids_name=sub-886764_acq-headmotion1_T1w<br>condition=%{x}<br>score=%{y}<extra></extra>",
         "legendgroup": "sub-886764_acq-headmotion1_T1w",
         "line": {
          "color": "rgba(255,255,255,0)"
         },
         "marker": {
          "color": "#19d3f3"
         },
         "name": "sub-886764_acq-headmotion1_T1w",
         "offsetgroup": "sub-886764_acq-headmotion1_T1w",
         "orientation": "v",
         "pointpos": 0,
         "showlegend": true,
         "type": "box",
         "x": [
          2
         ],
         "x0": " ",
         "xaxis": "x",
         "y": [
          2
         ],
         "y0": " ",
         "yaxis": "y"
        },
        {
         "alignmentgroup": "True",
         "boxpoints": "all",
         "fillcolor": "rgba(255,255,255,0)",
         "hoveron": "points",
         "hovertemplate": "bids_name=sub-886764_acq-headmotion2_T1w<br>condition=%{x}<br>score=%{y}<extra></extra>",
         "legendgroup": "sub-886764_acq-headmotion2_T1w",
         "line": {
          "color": "rgba(255,255,255,0)"
         },
         "marker": {
          "color": "#FF6692"
         },
         "name": "sub-886764_acq-headmotion2_T1w",
         "offsetgroup": "sub-886764_acq-headmotion2_T1w",
         "orientation": "v",
         "pointpos": 0,
         "showlegend": true,
         "type": "box",
         "x": [
          3
         ],
         "x0": " ",
         "xaxis": "x",
         "y": [
          3
         ],
         "y0": " ",
         "yaxis": "y"
        },
        {
         "alignmentgroup": "True",
         "boxpoints": "all",
         "fillcolor": "rgba(255,255,255,0)",
         "hoveron": "points",
         "hovertemplate": "bids_name=sub-886764_acq-standard_T1w<br>condition=%{x}<br>score=%{y}<extra></extra>",
         "legendgroup": "sub-886764_acq-standard_T1w",
         "line": {
          "color": "rgba(255,255,255,0)"
         },
         "marker": {
          "color": "#B6E880"
         },
         "name": "sub-886764_acq-standard_T1w",
         "offsetgroup": "sub-886764_acq-standard_T1w",
         "orientation": "v",
         "pointpos": 0,
         "showlegend": true,
         "type": "box",
         "x": [
          1
         ],
         "x0": " ",
         "xaxis": "x",
         "y": [
          1
         ],
         "y0": " ",
         "yaxis": "y"
        },
        {
         "alignmentgroup": "True",
         "boxpoints": "all",
         "fillcolor": "rgba(255,255,255,0)",
         "hoveron": "points",
         "hovertemplate": "bids_name=sub-890465_acq-headmotion1_T1w<br>condition=%{x}<br>score=%{y}<extra></extra>",
         "legendgroup": "sub-890465_acq-headmotion1_T1w",
         "line": {
          "color": "rgba(255,255,255,0)"
         },
         "marker": {
          "color": "#FF97FF"
         },
         "name": "sub-890465_acq-headmotion1_T1w",
         "offsetgroup": "sub-890465_acq-headmotion1_T1w",
         "orientation": "v",
         "pointpos": 0,
         "showlegend": true,
         "type": "box",
         "x": [
          2
         ],
         "x0": " ",
         "xaxis": "x",
         "y": [
          3
         ],
         "y0": " ",
         "yaxis": "y"
        },
        {
         "alignmentgroup": "True",
         "boxpoints": "all",
         "fillcolor": "rgba(255,255,255,0)",
         "hoveron": "points",
         "hovertemplate": "bids_name=sub-890465_acq-headmotion2_T1w<br>condition=%{x}<br>score=%{y}<extra></extra>",
         "legendgroup": "sub-890465_acq-headmotion2_T1w",
         "line": {
          "color": "rgba(255,255,255,0)"
         },
         "marker": {
          "color": "#FECB52"
         },
         "name": "sub-890465_acq-headmotion2_T1w",
         "offsetgroup": "sub-890465_acq-headmotion2_T1w",
         "orientation": "v",
         "pointpos": 0,
         "showlegend": true,
         "type": "box",
         "x": [
          3
         ],
         "x0": " ",
         "xaxis": "x",
         "y": [
          3
         ],
         "y0": " ",
         "yaxis": "y"
        },
        {
         "alignmentgroup": "True",
         "boxpoints": "all",
         "fillcolor": "rgba(255,255,255,0)",
         "hoveron": "points",
         "hovertemplate": "bids_name=sub-890465_acq-standard_T1w<br>condition=%{x}<br>score=%{y}<extra></extra>",
         "legendgroup": "sub-890465_acq-standard_T1w",
         "line": {
          "color": "rgba(255,255,255,0)"
         },
         "marker": {
          "color": "#636efa"
         },
         "name": "sub-890465_acq-standard_T1w",
         "offsetgroup": "sub-890465_acq-standard_T1w",
         "orientation": "v",
         "pointpos": 0,
         "showlegend": true,
         "type": "box",
         "x": [
          1
         ],
         "x0": " ",
         "xaxis": "x",
         "y": [
          1
         ],
         "y0": " ",
         "yaxis": "y"
        },
        {
         "alignmentgroup": "True",
         "boxpoints": "all",
         "fillcolor": "rgba(255,255,255,0)",
         "hoveron": "points",
         "hovertemplate": "bids_name=sub-914102_acq-headmotion1_T1w<br>condition=%{x}<br>score=%{y}<extra></extra>",
         "legendgroup": "sub-914102_acq-headmotion1_T1w",
         "line": {
          "color": "rgba(255,255,255,0)"
         },
         "marker": {
          "color": "#EF553B"
         },
         "name": "sub-914102_acq-headmotion1_T1w",
         "offsetgroup": "sub-914102_acq-headmotion1_T1w",
         "orientation": "v",
         "pointpos": 0,
         "showlegend": true,
         "type": "box",
         "x": [
          2
         ],
         "x0": " ",
         "xaxis": "x",
         "y": [
          3
         ],
         "y0": " ",
         "yaxis": "y"
        },
        {
         "alignmentgroup": "True",
         "boxpoints": "all",
         "fillcolor": "rgba(255,255,255,0)",
         "hoveron": "points",
         "hovertemplate": "bids_name=sub-914102_acq-headmotion2_T1w<br>condition=%{x}<br>score=%{y}<extra></extra>",
         "legendgroup": "sub-914102_acq-headmotion2_T1w",
         "line": {
          "color": "rgba(255,255,255,0)"
         },
         "marker": {
          "color": "#00cc96"
         },
         "name": "sub-914102_acq-headmotion2_T1w",
         "offsetgroup": "sub-914102_acq-headmotion2_T1w",
         "orientation": "v",
         "pointpos": 0,
         "showlegend": true,
         "type": "box",
         "x": [
          3
         ],
         "x0": " ",
         "xaxis": "x",
         "y": [
          3
         ],
         "y0": " ",
         "yaxis": "y"
        },
        {
         "alignmentgroup": "True",
         "boxpoints": "all",
         "fillcolor": "rgba(255,255,255,0)",
         "hoveron": "points",
         "hovertemplate": "bids_name=sub-914102_acq-standard_T1w<br>condition=%{x}<br>score=%{y}<extra></extra>",
         "legendgroup": "sub-914102_acq-standard_T1w",
         "line": {
          "color": "rgba(255,255,255,0)"
         },
         "marker": {
          "color": "#ab63fa"
         },
         "name": "sub-914102_acq-standard_T1w",
         "offsetgroup": "sub-914102_acq-standard_T1w",
         "orientation": "v",
         "pointpos": 0,
         "showlegend": true,
         "type": "box",
         "x": [
          1
         ],
         "x0": " ",
         "xaxis": "x",
         "y": [
          1
         ],
         "y0": " ",
         "yaxis": "y"
        },
        {
         "alignmentgroup": "True",
         "boxpoints": "all",
         "fillcolor": "rgba(255,255,255,0)",
         "hoveron": "points",
         "hovertemplate": "bids_name=sub-923660_acq-headmotion1_T1w<br>condition=%{x}<br>score=%{y}<extra></extra>",
         "legendgroup": "sub-923660_acq-headmotion1_T1w",
         "line": {
          "color": "rgba(255,255,255,0)"
         },
         "marker": {
          "color": "#FFA15A"
         },
         "name": "sub-923660_acq-headmotion1_T1w",
         "offsetgroup": "sub-923660_acq-headmotion1_T1w",
         "orientation": "v",
         "pointpos": 0,
         "showlegend": true,
         "type": "box",
         "x": [
          2
         ],
         "x0": " ",
         "xaxis": "x",
         "y": [
          3
         ],
         "y0": " ",
         "yaxis": "y"
        },
        {
         "alignmentgroup": "True",
         "boxpoints": "all",
         "fillcolor": "rgba(255,255,255,0)",
         "hoveron": "points",
         "hovertemplate": "bids_name=sub-923660_acq-headmotion2_T1w<br>condition=%{x}<br>score=%{y}<extra></extra>",
         "legendgroup": "sub-923660_acq-headmotion2_T1w",
         "line": {
          "color": "rgba(255,255,255,0)"
         },
         "marker": {
          "color": "#19d3f3"
         },
         "name": "sub-923660_acq-headmotion2_T1w",
         "offsetgroup": "sub-923660_acq-headmotion2_T1w",
         "orientation": "v",
         "pointpos": 0,
         "showlegend": true,
         "type": "box",
         "x": [
          3
         ],
         "x0": " ",
         "xaxis": "x",
         "y": [
          3
         ],
         "y0": " ",
         "yaxis": "y"
        },
        {
         "alignmentgroup": "True",
         "boxpoints": "all",
         "fillcolor": "rgba(255,255,255,0)",
         "hoveron": "points",
         "hovertemplate": "bids_name=sub-923660_acq-standard_T1w<br>condition=%{x}<br>score=%{y}<extra></extra>",
         "legendgroup": "sub-923660_acq-standard_T1w",
         "line": {
          "color": "rgba(255,255,255,0)"
         },
         "marker": {
          "color": "#FF6692"
         },
         "name": "sub-923660_acq-standard_T1w",
         "offsetgroup": "sub-923660_acq-standard_T1w",
         "orientation": "v",
         "pointpos": 0,
         "showlegend": true,
         "type": "box",
         "x": [
          1
         ],
         "x0": " ",
         "xaxis": "x",
         "y": [
          1
         ],
         "y0": " ",
         "yaxis": "y"
        },
        {
         "alignmentgroup": "True",
         "boxpoints": "all",
         "fillcolor": "rgba(255,255,255,0)",
         "hoveron": "points",
         "hovertemplate": "bids_name=sub-926536_acq-headmotion1_T1w<br>condition=%{x}<br>score=%{y}<extra></extra>",
         "legendgroup": "sub-926536_acq-headmotion1_T1w",
         "line": {
          "color": "rgba(255,255,255,0)"
         },
         "marker": {
          "color": "#B6E880"
         },
         "name": "sub-926536_acq-headmotion1_T1w",
         "offsetgroup": "sub-926536_acq-headmotion1_T1w",
         "orientation": "v",
         "pointpos": 0,
         "showlegend": true,
         "type": "box",
         "x": [
          2
         ],
         "x0": " ",
         "xaxis": "x",
         "y": [
          3
         ],
         "y0": " ",
         "yaxis": "y"
        },
        {
         "alignmentgroup": "True",
         "boxpoints": "all",
         "fillcolor": "rgba(255,255,255,0)",
         "hoveron": "points",
         "hovertemplate": "bids_name=sub-926536_acq-headmotion2_T1w<br>condition=%{x}<br>score=%{y}<extra></extra>",
         "legendgroup": "sub-926536_acq-headmotion2_T1w",
         "line": {
          "color": "rgba(255,255,255,0)"
         },
         "marker": {
          "color": "#FF97FF"
         },
         "name": "sub-926536_acq-headmotion2_T1w",
         "offsetgroup": "sub-926536_acq-headmotion2_T1w",
         "orientation": "v",
         "pointpos": 0,
         "showlegend": true,
         "type": "box",
         "x": [
          3
         ],
         "x0": " ",
         "xaxis": "x",
         "y": [
          3
         ],
         "y0": " ",
         "yaxis": "y"
        },
        {
         "alignmentgroup": "True",
         "boxpoints": "all",
         "fillcolor": "rgba(255,255,255,0)",
         "hoveron": "points",
         "hovertemplate": "bids_name=sub-926536_acq-standard_T1w<br>condition=%{x}<br>score=%{y}<extra></extra>",
         "legendgroup": "sub-926536_acq-standard_T1w",
         "line": {
          "color": "rgba(255,255,255,0)"
         },
         "marker": {
          "color": "#FECB52"
         },
         "name": "sub-926536_acq-standard_T1w",
         "offsetgroup": "sub-926536_acq-standard_T1w",
         "orientation": "v",
         "pointpos": 0,
         "showlegend": true,
         "type": "box",
         "x": [
          1
         ],
         "x0": " ",
         "xaxis": "x",
         "y": [
          1
         ],
         "y0": " ",
         "yaxis": "y"
        },
        {
         "alignmentgroup": "True",
         "boxpoints": "all",
         "fillcolor": "rgba(255,255,255,0)",
         "hoveron": "points",
         "hovertemplate": "bids_name=sub-927452_acq-headmotion1_T1w<br>condition=%{x}<br>score=%{y}<extra></extra>",
         "legendgroup": "sub-927452_acq-headmotion1_T1w",
         "line": {
          "color": "rgba(255,255,255,0)"
         },
         "marker": {
          "color": "#636efa"
         },
         "name": "sub-927452_acq-headmotion1_T1w",
         "offsetgroup": "sub-927452_acq-headmotion1_T1w",
         "orientation": "v",
         "pointpos": 0,
         "showlegend": true,
         "type": "box",
         "x": [
          2
         ],
         "x0": " ",
         "xaxis": "x",
         "y": [
          2
         ],
         "y0": " ",
         "yaxis": "y"
        },
        {
         "alignmentgroup": "True",
         "boxpoints": "all",
         "fillcolor": "rgba(255,255,255,0)",
         "hoveron": "points",
         "hovertemplate": "bids_name=sub-927452_acq-headmotion2_T1w<br>condition=%{x}<br>score=%{y}<extra></extra>",
         "legendgroup": "sub-927452_acq-headmotion2_T1w",
         "line": {
          "color": "rgba(255,255,255,0)"
         },
         "marker": {
          "color": "#EF553B"
         },
         "name": "sub-927452_acq-headmotion2_T1w",
         "offsetgroup": "sub-927452_acq-headmotion2_T1w",
         "orientation": "v",
         "pointpos": 0,
         "showlegend": true,
         "type": "box",
         "x": [
          3
         ],
         "x0": " ",
         "xaxis": "x",
         "y": [
          2
         ],
         "y0": " ",
         "yaxis": "y"
        },
        {
         "alignmentgroup": "True",
         "boxpoints": "all",
         "fillcolor": "rgba(255,255,255,0)",
         "hoveron": "points",
         "hovertemplate": "bids_name=sub-927452_acq-standard_T1w<br>condition=%{x}<br>score=%{y}<extra></extra>",
         "legendgroup": "sub-927452_acq-standard_T1w",
         "line": {
          "color": "rgba(255,255,255,0)"
         },
         "marker": {
          "color": "#00cc96"
         },
         "name": "sub-927452_acq-standard_T1w",
         "offsetgroup": "sub-927452_acq-standard_T1w",
         "orientation": "v",
         "pointpos": 0,
         "showlegend": true,
         "type": "box",
         "x": [
          1
         ],
         "x0": " ",
         "xaxis": "x",
         "y": [
          2
         ],
         "y0": " ",
         "yaxis": "y"
        },
        {
         "alignmentgroup": "True",
         "boxpoints": "all",
         "fillcolor": "rgba(255,255,255,0)",
         "hoveron": "points",
         "hovertemplate": "bids_name=sub-938344_acq-headmotion1_T1w<br>condition=%{x}<br>score=%{y}<extra></extra>",
         "legendgroup": "sub-938344_acq-headmotion1_T1w",
         "line": {
          "color": "rgba(255,255,255,0)"
         },
         "marker": {
          "color": "#ab63fa"
         },
         "name": "sub-938344_acq-headmotion1_T1w",
         "offsetgroup": "sub-938344_acq-headmotion1_T1w",
         "orientation": "v",
         "pointpos": 0,
         "showlegend": true,
         "type": "box",
         "x": [
          2
         ],
         "x0": " ",
         "xaxis": "x",
         "y": [
          2
         ],
         "y0": " ",
         "yaxis": "y"
        },
        {
         "alignmentgroup": "True",
         "boxpoints": "all",
         "fillcolor": "rgba(255,255,255,0)",
         "hoveron": "points",
         "hovertemplate": "bids_name=sub-938344_acq-headmotion2_T1w<br>condition=%{x}<br>score=%{y}<extra></extra>",
         "legendgroup": "sub-938344_acq-headmotion2_T1w",
         "line": {
          "color": "rgba(255,255,255,0)"
         },
         "marker": {
          "color": "#FFA15A"
         },
         "name": "sub-938344_acq-headmotion2_T1w",
         "offsetgroup": "sub-938344_acq-headmotion2_T1w",
         "orientation": "v",
         "pointpos": 0,
         "showlegend": true,
         "type": "box",
         "x": [
          3
         ],
         "x0": " ",
         "xaxis": "x",
         "y": [
          3
         ],
         "y0": " ",
         "yaxis": "y"
        },
        {
         "alignmentgroup": "True",
         "boxpoints": "all",
         "fillcolor": "rgba(255,255,255,0)",
         "hoveron": "points",
         "hovertemplate": "bids_name=sub-938344_acq-standard_T1w<br>condition=%{x}<br>score=%{y}<extra></extra>",
         "legendgroup": "sub-938344_acq-standard_T1w",
         "line": {
          "color": "rgba(255,255,255,0)"
         },
         "marker": {
          "color": "#19d3f3"
         },
         "name": "sub-938344_acq-standard_T1w",
         "offsetgroup": "sub-938344_acq-standard_T1w",
         "orientation": "v",
         "pointpos": 0,
         "showlegend": true,
         "type": "box",
         "x": [
          1
         ],
         "x0": " ",
         "xaxis": "x",
         "y": [
          1
         ],
         "y0": " ",
         "yaxis": "y"
        },
        {
         "alignmentgroup": "True",
         "boxpoints": "all",
         "fillcolor": "rgba(255,255,255,0)",
         "hoveron": "points",
         "hovertemplate": "bids_name=sub-945122_acq-headmotion1_T1w<br>condition=%{x}<br>score=%{y}<extra></extra>",
         "legendgroup": "sub-945122_acq-headmotion1_T1w",
         "line": {
          "color": "rgba(255,255,255,0)"
         },
         "marker": {
          "color": "#FF6692"
         },
         "name": "sub-945122_acq-headmotion1_T1w",
         "offsetgroup": "sub-945122_acq-headmotion1_T1w",
         "orientation": "v",
         "pointpos": 0,
         "showlegend": true,
         "type": "box",
         "x": [
          2
         ],
         "x0": " ",
         "xaxis": "x",
         "y": [
          2
         ],
         "y0": " ",
         "yaxis": "y"
        },
        {
         "alignmentgroup": "True",
         "boxpoints": "all",
         "fillcolor": "rgba(255,255,255,0)",
         "hoveron": "points",
         "hovertemplate": "bids_name=sub-945122_acq-headmotion2_T1w<br>condition=%{x}<br>score=%{y}<extra></extra>",
         "legendgroup": "sub-945122_acq-headmotion2_T1w",
         "line": {
          "color": "rgba(255,255,255,0)"
         },
         "marker": {
          "color": "#B6E880"
         },
         "name": "sub-945122_acq-headmotion2_T1w",
         "offsetgroup": "sub-945122_acq-headmotion2_T1w",
         "orientation": "v",
         "pointpos": 0,
         "showlegend": true,
         "type": "box",
         "x": [
          3
         ],
         "x0": " ",
         "xaxis": "x",
         "y": [
          3
         ],
         "y0": " ",
         "yaxis": "y"
        },
        {
         "alignmentgroup": "True",
         "boxpoints": "all",
         "fillcolor": "rgba(255,255,255,0)",
         "hoveron": "points",
         "hovertemplate": "bids_name=sub-945122_acq-standard_T1w<br>condition=%{x}<br>score=%{y}<extra></extra>",
         "legendgroup": "sub-945122_acq-standard_T1w",
         "line": {
          "color": "rgba(255,255,255,0)"
         },
         "marker": {
          "color": "#FF97FF"
         },
         "name": "sub-945122_acq-standard_T1w",
         "offsetgroup": "sub-945122_acq-standard_T1w",
         "orientation": "v",
         "pointpos": 0,
         "showlegend": true,
         "type": "box",
         "x": [
          1
         ],
         "x0": " ",
         "xaxis": "x",
         "y": [
          1
         ],
         "y0": " ",
         "yaxis": "y"
        },
        {
         "alignmentgroup": "True",
         "boxpoints": "all",
         "fillcolor": "rgba(255,255,255,0)",
         "hoveron": "points",
         "hovertemplate": "bids_name=sub-945652_acq-headmotion1_T1w<br>condition=%{x}<br>score=%{y}<extra></extra>",
         "legendgroup": "sub-945652_acq-headmotion1_T1w",
         "line": {
          "color": "rgba(255,255,255,0)"
         },
         "marker": {
          "color": "#FECB52"
         },
         "name": "sub-945652_acq-headmotion1_T1w",
         "offsetgroup": "sub-945652_acq-headmotion1_T1w",
         "orientation": "v",
         "pointpos": 0,
         "showlegend": true,
         "type": "box",
         "x": [
          2
         ],
         "x0": " ",
         "xaxis": "x",
         "y": [
          3
         ],
         "y0": " ",
         "yaxis": "y"
        },
        {
         "alignmentgroup": "True",
         "boxpoints": "all",
         "fillcolor": "rgba(255,255,255,0)",
         "hoveron": "points",
         "hovertemplate": "bids_name=sub-945652_acq-headmotion2_T1w<br>condition=%{x}<br>score=%{y}<extra></extra>",
         "legendgroup": "sub-945652_acq-headmotion2_T1w",
         "line": {
          "color": "rgba(255,255,255,0)"
         },
         "marker": {
          "color": "#636efa"
         },
         "name": "sub-945652_acq-headmotion2_T1w",
         "offsetgroup": "sub-945652_acq-headmotion2_T1w",
         "orientation": "v",
         "pointpos": 0,
         "showlegend": true,
         "type": "box",
         "x": [
          3
         ],
         "x0": " ",
         "xaxis": "x",
         "y": [
          3
         ],
         "y0": " ",
         "yaxis": "y"
        },
        {
         "alignmentgroup": "True",
         "boxpoints": "all",
         "fillcolor": "rgba(255,255,255,0)",
         "hoveron": "points",
         "hovertemplate": "bids_name=sub-945652_acq-standard_T1w<br>condition=%{x}<br>score=%{y}<extra></extra>",
         "legendgroup": "sub-945652_acq-standard_T1w",
         "line": {
          "color": "rgba(255,255,255,0)"
         },
         "marker": {
          "color": "#EF553B"
         },
         "name": "sub-945652_acq-standard_T1w",
         "offsetgroup": "sub-945652_acq-standard_T1w",
         "orientation": "v",
         "pointpos": 0,
         "showlegend": true,
         "type": "box",
         "x": [
          1
         ],
         "x0": " ",
         "xaxis": "x",
         "y": [
          1
         ],
         "y0": " ",
         "yaxis": "y"
        },
        {
         "alignmentgroup": "True",
         "boxpoints": "all",
         "fillcolor": "rgba(255,255,255,0)",
         "hoveron": "points",
         "hovertemplate": "bids_name=sub-946200_acq-headmotion1_T1w<br>condition=%{x}<br>score=%{y}<extra></extra>",
         "legendgroup": "sub-946200_acq-headmotion1_T1w",
         "line": {
          "color": "rgba(255,255,255,0)"
         },
         "marker": {
          "color": "#00cc96"
         },
         "name": "sub-946200_acq-headmotion1_T1w",
         "offsetgroup": "sub-946200_acq-headmotion1_T1w",
         "orientation": "v",
         "pointpos": 0,
         "showlegend": true,
         "type": "box",
         "x": [
          2
         ],
         "x0": " ",
         "xaxis": "x",
         "y": [
          3
         ],
         "y0": " ",
         "yaxis": "y"
        },
        {
         "alignmentgroup": "True",
         "boxpoints": "all",
         "fillcolor": "rgba(255,255,255,0)",
         "hoveron": "points",
         "hovertemplate": "bids_name=sub-946200_acq-headmotion2_T1w<br>condition=%{x}<br>score=%{y}<extra></extra>",
         "legendgroup": "sub-946200_acq-headmotion2_T1w",
         "line": {
          "color": "rgba(255,255,255,0)"
         },
         "marker": {
          "color": "#ab63fa"
         },
         "name": "sub-946200_acq-headmotion2_T1w",
         "offsetgroup": "sub-946200_acq-headmotion2_T1w",
         "orientation": "v",
         "pointpos": 0,
         "showlegend": true,
         "type": "box",
         "x": [
          3
         ],
         "x0": " ",
         "xaxis": "x",
         "y": [
          3
         ],
         "y0": " ",
         "yaxis": "y"
        },
        {
         "alignmentgroup": "True",
         "boxpoints": "all",
         "fillcolor": "rgba(255,255,255,0)",
         "hoveron": "points",
         "hovertemplate": "bids_name=sub-946200_acq-standard_T1w<br>condition=%{x}<br>score=%{y}<extra></extra>",
         "legendgroup": "sub-946200_acq-standard_T1w",
         "line": {
          "color": "rgba(255,255,255,0)"
         },
         "marker": {
          "color": "#FFA15A"
         },
         "name": "sub-946200_acq-standard_T1w",
         "offsetgroup": "sub-946200_acq-standard_T1w",
         "orientation": "v",
         "pointpos": 0,
         "showlegend": true,
         "type": "box",
         "x": [
          1
         ],
         "x0": " ",
         "xaxis": "x",
         "y": [
          1
         ],
         "y0": " ",
         "yaxis": "y"
        },
        {
         "alignmentgroup": "True",
         "boxpoints": "all",
         "fillcolor": "rgba(255,255,255,0)",
         "hoveron": "points",
         "hovertemplate": "bids_name=sub-966788_acq-headmotion1_T1w<br>condition=%{x}<br>score=%{y}<extra></extra>",
         "legendgroup": "sub-966788_acq-headmotion1_T1w",
         "line": {
          "color": "rgba(255,255,255,0)"
         },
         "marker": {
          "color": "#19d3f3"
         },
         "name": "sub-966788_acq-headmotion1_T1w",
         "offsetgroup": "sub-966788_acq-headmotion1_T1w",
         "orientation": "v",
         "pointpos": 0,
         "showlegend": true,
         "type": "box",
         "x": [
          2
         ],
         "x0": " ",
         "xaxis": "x",
         "y": [
          3
         ],
         "y0": " ",
         "yaxis": "y"
        },
        {
         "alignmentgroup": "True",
         "boxpoints": "all",
         "fillcolor": "rgba(255,255,255,0)",
         "hoveron": "points",
         "hovertemplate": "bids_name=sub-966788_acq-headmotion2_T1w<br>condition=%{x}<br>score=%{y}<extra></extra>",
         "legendgroup": "sub-966788_acq-headmotion2_T1w",
         "line": {
          "color": "rgba(255,255,255,0)"
         },
         "marker": {
          "color": "#FF6692"
         },
         "name": "sub-966788_acq-headmotion2_T1w",
         "offsetgroup": "sub-966788_acq-headmotion2_T1w",
         "orientation": "v",
         "pointpos": 0,
         "showlegend": true,
         "type": "box",
         "x": [
          3
         ],
         "x0": " ",
         "xaxis": "x",
         "y": [
          3
         ],
         "y0": " ",
         "yaxis": "y"
        },
        {
         "alignmentgroup": "True",
         "boxpoints": "all",
         "fillcolor": "rgba(255,255,255,0)",
         "hoveron": "points",
         "hovertemplate": "bids_name=sub-966788_acq-standard_T1w<br>condition=%{x}<br>score=%{y}<extra></extra>",
         "legendgroup": "sub-966788_acq-standard_T1w",
         "line": {
          "color": "rgba(255,255,255,0)"
         },
         "marker": {
          "color": "#B6E880"
         },
         "name": "sub-966788_acq-standard_T1w",
         "offsetgroup": "sub-966788_acq-standard_T1w",
         "orientation": "v",
         "pointpos": 0,
         "showlegend": true,
         "type": "box",
         "x": [
          1
         ],
         "x0": " ",
         "xaxis": "x",
         "y": [
          1
         ],
         "y0": " ",
         "yaxis": "y"
        },
        {
         "alignmentgroup": "True",
         "boxpoints": "all",
         "fillcolor": "rgba(255,255,255,0)",
         "hoveron": "points",
         "hovertemplate": "bids_name=sub-986786_acq-headmotion1_T1w<br>condition=%{x}<br>score=%{y}<extra></extra>",
         "legendgroup": "sub-986786_acq-headmotion1_T1w",
         "line": {
          "color": "rgba(255,255,255,0)"
         },
         "marker": {
          "color": "#FF97FF"
         },
         "name": "sub-986786_acq-headmotion1_T1w",
         "offsetgroup": "sub-986786_acq-headmotion1_T1w",
         "orientation": "v",
         "pointpos": 0,
         "showlegend": true,
         "type": "box",
         "x": [
          2
         ],
         "x0": " ",
         "xaxis": "x",
         "y": [
          2
         ],
         "y0": " ",
         "yaxis": "y"
        },
        {
         "alignmentgroup": "True",
         "boxpoints": "all",
         "fillcolor": "rgba(255,255,255,0)",
         "hoveron": "points",
         "hovertemplate": "bids_name=sub-986786_acq-headmotion2_T1w<br>condition=%{x}<br>score=%{y}<extra></extra>",
         "legendgroup": "sub-986786_acq-headmotion2_T1w",
         "line": {
          "color": "rgba(255,255,255,0)"
         },
         "marker": {
          "color": "#FECB52"
         },
         "name": "sub-986786_acq-headmotion2_T1w",
         "offsetgroup": "sub-986786_acq-headmotion2_T1w",
         "orientation": "v",
         "pointpos": 0,
         "showlegend": true,
         "type": "box",
         "x": [
          3
         ],
         "x0": " ",
         "xaxis": "x",
         "y": [
          2
         ],
         "y0": " ",
         "yaxis": "y"
        },
        {
         "alignmentgroup": "True",
         "boxpoints": "all",
         "fillcolor": "rgba(255,255,255,0)",
         "hoveron": "points",
         "hovertemplate": "bids_name=sub-986786_acq-standard_T1w<br>condition=%{x}<br>score=%{y}<extra></extra>",
         "legendgroup": "sub-986786_acq-standard_T1w",
         "line": {
          "color": "rgba(255,255,255,0)"
         },
         "marker": {
          "color": "#636efa"
         },
         "name": "sub-986786_acq-standard_T1w",
         "offsetgroup": "sub-986786_acq-standard_T1w",
         "orientation": "v",
         "pointpos": 0,
         "showlegend": true,
         "type": "box",
         "x": [
          1
         ],
         "x0": " ",
         "xaxis": "x",
         "y": [
          2
         ],
         "y0": " ",
         "yaxis": "y"
        },
        {
         "alignmentgroup": "True",
         "boxpoints": "all",
         "fillcolor": "rgba(255,255,255,0)",
         "hoveron": "points",
         "hovertemplate": "bids_name=sub-987325_acq-headmotion1_T1w<br>condition=%{x}<br>score=%{y}<extra></extra>",
         "legendgroup": "sub-987325_acq-headmotion1_T1w",
         "line": {
          "color": "rgba(255,255,255,0)"
         },
         "marker": {
          "color": "#EF553B"
         },
         "name": "sub-987325_acq-headmotion1_T1w",
         "offsetgroup": "sub-987325_acq-headmotion1_T1w",
         "orientation": "v",
         "pointpos": 0,
         "showlegend": true,
         "type": "box",
         "x": [
          2
         ],
         "x0": " ",
         "xaxis": "x",
         "y": [
          3
         ],
         "y0": " ",
         "yaxis": "y"
        },
        {
         "alignmentgroup": "True",
         "boxpoints": "all",
         "fillcolor": "rgba(255,255,255,0)",
         "hoveron": "points",
         "hovertemplate": "bids_name=sub-987325_acq-headmotion2_T1w<br>condition=%{x}<br>score=%{y}<extra></extra>",
         "legendgroup": "sub-987325_acq-headmotion2_T1w",
         "line": {
          "color": "rgba(255,255,255,0)"
         },
         "marker": {
          "color": "#00cc96"
         },
         "name": "sub-987325_acq-headmotion2_T1w",
         "offsetgroup": "sub-987325_acq-headmotion2_T1w",
         "orientation": "v",
         "pointpos": 0,
         "showlegend": true,
         "type": "box",
         "x": [
          3
         ],
         "x0": " ",
         "xaxis": "x",
         "y": [
          3
         ],
         "y0": " ",
         "yaxis": "y"
        },
        {
         "alignmentgroup": "True",
         "boxpoints": "all",
         "fillcolor": "rgba(255,255,255,0)",
         "hoveron": "points",
         "hovertemplate": "bids_name=sub-987325_acq-standard_T1w<br>condition=%{x}<br>score=%{y}<extra></extra>",
         "legendgroup": "sub-987325_acq-standard_T1w",
         "line": {
          "color": "rgba(255,255,255,0)"
         },
         "marker": {
          "color": "#ab63fa"
         },
         "name": "sub-987325_acq-standard_T1w",
         "offsetgroup": "sub-987325_acq-standard_T1w",
         "orientation": "v",
         "pointpos": 0,
         "showlegend": true,
         "type": "box",
         "x": [
          1
         ],
         "x0": " ",
         "xaxis": "x",
         "y": [
          1
         ],
         "y0": " ",
         "yaxis": "y"
        },
        {
         "alignmentgroup": "True",
         "boxpoints": "all",
         "fillcolor": "rgba(255,255,255,0)",
         "hoveron": "points",
         "hovertemplate": "bids_name=sub-988484_acq-headmotion1_T1w<br>condition=%{x}<br>score=%{y}<extra></extra>",
         "legendgroup": "sub-988484_acq-headmotion1_T1w",
         "line": {
          "color": "rgba(255,255,255,0)"
         },
         "marker": {
          "color": "#FFA15A"
         },
         "name": "sub-988484_acq-headmotion1_T1w",
         "offsetgroup": "sub-988484_acq-headmotion1_T1w",
         "orientation": "v",
         "pointpos": 0,
         "showlegend": true,
         "type": "box",
         "x": [
          2
         ],
         "x0": " ",
         "xaxis": "x",
         "y": [
          2
         ],
         "y0": " ",
         "yaxis": "y"
        },
        {
         "alignmentgroup": "True",
         "boxpoints": "all",
         "fillcolor": "rgba(255,255,255,0)",
         "hoveron": "points",
         "hovertemplate": "bids_name=sub-988484_acq-headmotion2_T1w<br>condition=%{x}<br>score=%{y}<extra></extra>",
         "legendgroup": "sub-988484_acq-headmotion2_T1w",
         "line": {
          "color": "rgba(255,255,255,0)"
         },
         "marker": {
          "color": "#19d3f3"
         },
         "name": "sub-988484_acq-headmotion2_T1w",
         "offsetgroup": "sub-988484_acq-headmotion2_T1w",
         "orientation": "v",
         "pointpos": 0,
         "showlegend": true,
         "type": "box",
         "x": [
          3
         ],
         "x0": " ",
         "xaxis": "x",
         "y": [
          3
         ],
         "y0": " ",
         "yaxis": "y"
        },
        {
         "alignmentgroup": "True",
         "boxpoints": "all",
         "fillcolor": "rgba(255,255,255,0)",
         "hoveron": "points",
         "hovertemplate": "bids_name=sub-988484_acq-standard_T1w<br>condition=%{x}<br>score=%{y}<extra></extra>",
         "legendgroup": "sub-988484_acq-standard_T1w",
         "line": {
          "color": "rgba(255,255,255,0)"
         },
         "marker": {
          "color": "#FF6692"
         },
         "name": "sub-988484_acq-standard_T1w",
         "offsetgroup": "sub-988484_acq-standard_T1w",
         "orientation": "v",
         "pointpos": 0,
         "showlegend": true,
         "type": "box",
         "x": [
          1
         ],
         "x0": " ",
         "xaxis": "x",
         "y": [
          1
         ],
         "y0": " ",
         "yaxis": "y"
        },
        {
         "alignmentgroup": "True",
         "boxpoints": "all",
         "fillcolor": "rgba(255,255,255,0)",
         "hoveron": "points",
         "hovertemplate": "bids_name=sub-988653_acq-headmotion1_T1w<br>condition=%{x}<br>score=%{y}<extra></extra>",
         "legendgroup": "sub-988653_acq-headmotion1_T1w",
         "line": {
          "color": "rgba(255,255,255,0)"
         },
         "marker": {
          "color": "#B6E880"
         },
         "name": "sub-988653_acq-headmotion1_T1w",
         "offsetgroup": "sub-988653_acq-headmotion1_T1w",
         "orientation": "v",
         "pointpos": 0,
         "showlegend": true,
         "type": "box",
         "x": [
          2
         ],
         "x0": " ",
         "xaxis": "x",
         "y": [
          2
         ],
         "y0": " ",
         "yaxis": "y"
        },
        {
         "alignmentgroup": "True",
         "boxpoints": "all",
         "fillcolor": "rgba(255,255,255,0)",
         "hoveron": "points",
         "hovertemplate": "bids_name=sub-988653_acq-headmotion2_T1w<br>condition=%{x}<br>score=%{y}<extra></extra>",
         "legendgroup": "sub-988653_acq-headmotion2_T1w",
         "line": {
          "color": "rgba(255,255,255,0)"
         },
         "marker": {
          "color": "#FF97FF"
         },
         "name": "sub-988653_acq-headmotion2_T1w",
         "offsetgroup": "sub-988653_acq-headmotion2_T1w",
         "orientation": "v",
         "pointpos": 0,
         "showlegend": true,
         "type": "box",
         "x": [
          3
         ],
         "x0": " ",
         "xaxis": "x",
         "y": [
          2
         ],
         "y0": " ",
         "yaxis": "y"
        },
        {
         "alignmentgroup": "True",
         "boxpoints": "all",
         "fillcolor": "rgba(255,255,255,0)",
         "hoveron": "points",
         "hovertemplate": "bids_name=sub-988653_acq-standard_T1w<br>condition=%{x}<br>score=%{y}<extra></extra>",
         "legendgroup": "sub-988653_acq-standard_T1w",
         "line": {
          "color": "rgba(255,255,255,0)"
         },
         "marker": {
          "color": "#FECB52"
         },
         "name": "sub-988653_acq-standard_T1w",
         "offsetgroup": "sub-988653_acq-standard_T1w",
         "orientation": "v",
         "pointpos": 0,
         "showlegend": true,
         "type": "box",
         "x": [
          1
         ],
         "x0": " ",
         "xaxis": "x",
         "y": [
          1
         ],
         "y0": " ",
         "yaxis": "y"
        },
        {
         "alignmentgroup": "True",
         "boxpoints": "all",
         "fillcolor": "rgba(255,255,255,0)",
         "hoveron": "points",
         "hovertemplate": "bids_name=sub-992121_acq-headmotion1_T1w<br>condition=%{x}<br>score=%{y}<extra></extra>",
         "legendgroup": "sub-992121_acq-headmotion1_T1w",
         "line": {
          "color": "rgba(255,255,255,0)"
         },
         "marker": {
          "color": "#636efa"
         },
         "name": "sub-992121_acq-headmotion1_T1w",
         "offsetgroup": "sub-992121_acq-headmotion1_T1w",
         "orientation": "v",
         "pointpos": 0,
         "showlegend": true,
         "type": "box",
         "x": [
          2
         ],
         "x0": " ",
         "xaxis": "x",
         "y": [
          2
         ],
         "y0": " ",
         "yaxis": "y"
        },
        {
         "alignmentgroup": "True",
         "boxpoints": "all",
         "fillcolor": "rgba(255,255,255,0)",
         "hoveron": "points",
         "hovertemplate": "bids_name=sub-992121_acq-headmotion2_T1w<br>condition=%{x}<br>score=%{y}<extra></extra>",
         "legendgroup": "sub-992121_acq-headmotion2_T1w",
         "line": {
          "color": "rgba(255,255,255,0)"
         },
         "marker": {
          "color": "#EF553B"
         },
         "name": "sub-992121_acq-headmotion2_T1w",
         "offsetgroup": "sub-992121_acq-headmotion2_T1w",
         "orientation": "v",
         "pointpos": 0,
         "showlegend": true,
         "type": "box",
         "x": [
          3
         ],
         "x0": " ",
         "xaxis": "x",
         "y": [
          2
         ],
         "y0": " ",
         "yaxis": "y"
        },
        {
         "alignmentgroup": "True",
         "boxpoints": "all",
         "fillcolor": "rgba(255,255,255,0)",
         "hoveron": "points",
         "hovertemplate": "bids_name=sub-992121_acq-standard_T1w<br>condition=%{x}<br>score=%{y}<extra></extra>",
         "legendgroup": "sub-992121_acq-standard_T1w",
         "line": {
          "color": "rgba(255,255,255,0)"
         },
         "marker": {
          "color": "#00cc96"
         },
         "name": "sub-992121_acq-standard_T1w",
         "offsetgroup": "sub-992121_acq-standard_T1w",
         "orientation": "v",
         "pointpos": 0,
         "showlegend": true,
         "type": "box",
         "x": [
          1
         ],
         "x0": " ",
         "xaxis": "x",
         "y": [
          1
         ],
         "y0": " ",
         "yaxis": "y"
        },
        {
         "alignmentgroup": "True",
         "boxpoints": "all",
         "fillcolor": "rgba(255,255,255,0)",
         "hoveron": "points",
         "hovertemplate": "bids_name=sub-992238_acq-headmotion1_T1w<br>condition=%{x}<br>score=%{y}<extra></extra>",
         "legendgroup": "sub-992238_acq-headmotion1_T1w",
         "line": {
          "color": "rgba(255,255,255,0)"
         },
         "marker": {
          "color": "#ab63fa"
         },
         "name": "sub-992238_acq-headmotion1_T1w",
         "offsetgroup": "sub-992238_acq-headmotion1_T1w",
         "orientation": "v",
         "pointpos": 0,
         "showlegend": true,
         "type": "box",
         "x": [
          2
         ],
         "x0": " ",
         "xaxis": "x",
         "y": [
          3
         ],
         "y0": " ",
         "yaxis": "y"
        },
        {
         "alignmentgroup": "True",
         "boxpoints": "all",
         "fillcolor": "rgba(255,255,255,0)",
         "hoveron": "points",
         "hovertemplate": "bids_name=sub-992238_acq-headmotion2_T1w<br>condition=%{x}<br>score=%{y}<extra></extra>",
         "legendgroup": "sub-992238_acq-headmotion2_T1w",
         "line": {
          "color": "rgba(255,255,255,0)"
         },
         "marker": {
          "color": "#FFA15A"
         },
         "name": "sub-992238_acq-headmotion2_T1w",
         "offsetgroup": "sub-992238_acq-headmotion2_T1w",
         "orientation": "v",
         "pointpos": 0,
         "showlegend": true,
         "type": "box",
         "x": [
          3
         ],
         "x0": " ",
         "xaxis": "x",
         "y": [
          3
         ],
         "y0": " ",
         "yaxis": "y"
        },
        {
         "alignmentgroup": "True",
         "boxpoints": "all",
         "fillcolor": "rgba(255,255,255,0)",
         "hoveron": "points",
         "hovertemplate": "bids_name=sub-992238_acq-standard_T1w<br>condition=%{x}<br>score=%{y}<extra></extra>",
         "legendgroup": "sub-992238_acq-standard_T1w",
         "line": {
          "color": "rgba(255,255,255,0)"
         },
         "marker": {
          "color": "#19d3f3"
         },
         "name": "sub-992238_acq-standard_T1w",
         "offsetgroup": "sub-992238_acq-standard_T1w",
         "orientation": "v",
         "pointpos": 0,
         "showlegend": true,
         "type": "box",
         "x": [
          1
         ],
         "x0": " ",
         "xaxis": "x",
         "y": [
          1
         ],
         "y0": " ",
         "yaxis": "y"
        }
       ],
       "layout": {
        "boxmode": "group",
        "legend": {
         "title": {
          "text": "bids_name"
         },
         "tracegroupgap": 0
        },
        "margin": {
         "t": 60
        },
        "template": {
         "data": {
          "bar": [
           {
            "error_x": {
             "color": "#2a3f5f"
            },
            "error_y": {
             "color": "#2a3f5f"
            },
            "marker": {
             "line": {
              "color": "#E5ECF6",
              "width": 0.5
             },
             "pattern": {
              "fillmode": "overlay",
              "size": 10,
              "solidity": 0.2
             }
            },
            "type": "bar"
           }
          ],
          "barpolar": [
           {
            "marker": {
             "line": {
              "color": "#E5ECF6",
              "width": 0.5
             },
             "pattern": {
              "fillmode": "overlay",
              "size": 10,
              "solidity": 0.2
             }
            },
            "type": "barpolar"
           }
          ],
          "carpet": [
           {
            "aaxis": {
             "endlinecolor": "#2a3f5f",
             "gridcolor": "white",
             "linecolor": "white",
             "minorgridcolor": "white",
             "startlinecolor": "#2a3f5f"
            },
            "baxis": {
             "endlinecolor": "#2a3f5f",
             "gridcolor": "white",
             "linecolor": "white",
             "minorgridcolor": "white",
             "startlinecolor": "#2a3f5f"
            },
            "type": "carpet"
           }
          ],
          "choropleth": [
           {
            "colorbar": {
             "outlinewidth": 0,
             "ticks": ""
            },
            "type": "choropleth"
           }
          ],
          "contour": [
           {
            "colorbar": {
             "outlinewidth": 0,
             "ticks": ""
            },
            "colorscale": [
             [
              0,
              "#0d0887"
             ],
             [
              0.1111111111111111,
              "#46039f"
             ],
             [
              0.2222222222222222,
              "#7201a8"
             ],
             [
              0.3333333333333333,
              "#9c179e"
             ],
             [
              0.4444444444444444,
              "#bd3786"
             ],
             [
              0.5555555555555556,
              "#d8576b"
             ],
             [
              0.6666666666666666,
              "#ed7953"
             ],
             [
              0.7777777777777778,
              "#fb9f3a"
             ],
             [
              0.8888888888888888,
              "#fdca26"
             ],
             [
              1,
              "#f0f921"
             ]
            ],
            "type": "contour"
           }
          ],
          "contourcarpet": [
           {
            "colorbar": {
             "outlinewidth": 0,
             "ticks": ""
            },
            "type": "contourcarpet"
           }
          ],
          "heatmap": [
           {
            "colorbar": {
             "outlinewidth": 0,
             "ticks": ""
            },
            "colorscale": [
             [
              0,
              "#0d0887"
             ],
             [
              0.1111111111111111,
              "#46039f"
             ],
             [
              0.2222222222222222,
              "#7201a8"
             ],
             [
              0.3333333333333333,
              "#9c179e"
             ],
             [
              0.4444444444444444,
              "#bd3786"
             ],
             [
              0.5555555555555556,
              "#d8576b"
             ],
             [
              0.6666666666666666,
              "#ed7953"
             ],
             [
              0.7777777777777778,
              "#fb9f3a"
             ],
             [
              0.8888888888888888,
              "#fdca26"
             ],
             [
              1,
              "#f0f921"
             ]
            ],
            "type": "heatmap"
           }
          ],
          "heatmapgl": [
           {
            "colorbar": {
             "outlinewidth": 0,
             "ticks": ""
            },
            "colorscale": [
             [
              0,
              "#0d0887"
             ],
             [
              0.1111111111111111,
              "#46039f"
             ],
             [
              0.2222222222222222,
              "#7201a8"
             ],
             [
              0.3333333333333333,
              "#9c179e"
             ],
             [
              0.4444444444444444,
              "#bd3786"
             ],
             [
              0.5555555555555556,
              "#d8576b"
             ],
             [
              0.6666666666666666,
              "#ed7953"
             ],
             [
              0.7777777777777778,
              "#fb9f3a"
             ],
             [
              0.8888888888888888,
              "#fdca26"
             ],
             [
              1,
              "#f0f921"
             ]
            ],
            "type": "heatmapgl"
           }
          ],
          "histogram": [
           {
            "marker": {
             "pattern": {
              "fillmode": "overlay",
              "size": 10,
              "solidity": 0.2
             }
            },
            "type": "histogram"
           }
          ],
          "histogram2d": [
           {
            "colorbar": {
             "outlinewidth": 0,
             "ticks": ""
            },
            "colorscale": [
             [
              0,
              "#0d0887"
             ],
             [
              0.1111111111111111,
              "#46039f"
             ],
             [
              0.2222222222222222,
              "#7201a8"
             ],
             [
              0.3333333333333333,
              "#9c179e"
             ],
             [
              0.4444444444444444,
              "#bd3786"
             ],
             [
              0.5555555555555556,
              "#d8576b"
             ],
             [
              0.6666666666666666,
              "#ed7953"
             ],
             [
              0.7777777777777778,
              "#fb9f3a"
             ],
             [
              0.8888888888888888,
              "#fdca26"
             ],
             [
              1,
              "#f0f921"
             ]
            ],
            "type": "histogram2d"
           }
          ],
          "histogram2dcontour": [
           {
            "colorbar": {
             "outlinewidth": 0,
             "ticks": ""
            },
            "colorscale": [
             [
              0,
              "#0d0887"
             ],
             [
              0.1111111111111111,
              "#46039f"
             ],
             [
              0.2222222222222222,
              "#7201a8"
             ],
             [
              0.3333333333333333,
              "#9c179e"
             ],
             [
              0.4444444444444444,
              "#bd3786"
             ],
             [
              0.5555555555555556,
              "#d8576b"
             ],
             [
              0.6666666666666666,
              "#ed7953"
             ],
             [
              0.7777777777777778,
              "#fb9f3a"
             ],
             [
              0.8888888888888888,
              "#fdca26"
             ],
             [
              1,
              "#f0f921"
             ]
            ],
            "type": "histogram2dcontour"
           }
          ],
          "mesh3d": [
           {
            "colorbar": {
             "outlinewidth": 0,
             "ticks": ""
            },
            "type": "mesh3d"
           }
          ],
          "parcoords": [
           {
            "line": {
             "colorbar": {
              "outlinewidth": 0,
              "ticks": ""
             }
            },
            "type": "parcoords"
           }
          ],
          "pie": [
           {
            "automargin": true,
            "type": "pie"
           }
          ],
          "scatter": [
           {
            "fillpattern": {
             "fillmode": "overlay",
             "size": 10,
             "solidity": 0.2
            },
            "type": "scatter"
           }
          ],
          "scatter3d": [
           {
            "line": {
             "colorbar": {
              "outlinewidth": 0,
              "ticks": ""
             }
            },
            "marker": {
             "colorbar": {
              "outlinewidth": 0,
              "ticks": ""
             }
            },
            "type": "scatter3d"
           }
          ],
          "scattercarpet": [
           {
            "marker": {
             "colorbar": {
              "outlinewidth": 0,
              "ticks": ""
             }
            },
            "type": "scattercarpet"
           }
          ],
          "scattergeo": [
           {
            "marker": {
             "colorbar": {
              "outlinewidth": 0,
              "ticks": ""
             }
            },
            "type": "scattergeo"
           }
          ],
          "scattergl": [
           {
            "marker": {
             "colorbar": {
              "outlinewidth": 0,
              "ticks": ""
             }
            },
            "type": "scattergl"
           }
          ],
          "scattermapbox": [
           {
            "marker": {
             "colorbar": {
              "outlinewidth": 0,
              "ticks": ""
             }
            },
            "type": "scattermapbox"
           }
          ],
          "scatterpolar": [
           {
            "marker": {
             "colorbar": {
              "outlinewidth": 0,
              "ticks": ""
             }
            },
            "type": "scatterpolar"
           }
          ],
          "scatterpolargl": [
           {
            "marker": {
             "colorbar": {
              "outlinewidth": 0,
              "ticks": ""
             }
            },
            "type": "scatterpolargl"
           }
          ],
          "scatterternary": [
           {
            "marker": {
             "colorbar": {
              "outlinewidth": 0,
              "ticks": ""
             }
            },
            "type": "scatterternary"
           }
          ],
          "surface": [
           {
            "colorbar": {
             "outlinewidth": 0,
             "ticks": ""
            },
            "colorscale": [
             [
              0,
              "#0d0887"
             ],
             [
              0.1111111111111111,
              "#46039f"
             ],
             [
              0.2222222222222222,
              "#7201a8"
             ],
             [
              0.3333333333333333,
              "#9c179e"
             ],
             [
              0.4444444444444444,
              "#bd3786"
             ],
             [
              0.5555555555555556,
              "#d8576b"
             ],
             [
              0.6666666666666666,
              "#ed7953"
             ],
             [
              0.7777777777777778,
              "#fb9f3a"
             ],
             [
              0.8888888888888888,
              "#fdca26"
             ],
             [
              1,
              "#f0f921"
             ]
            ],
            "type": "surface"
           }
          ],
          "table": [
           {
            "cells": {
             "fill": {
              "color": "#EBF0F8"
             },
             "line": {
              "color": "white"
             }
            },
            "header": {
             "fill": {
              "color": "#C8D4E3"
             },
             "line": {
              "color": "white"
             }
            },
            "type": "table"
           }
          ]
         },
         "layout": {
          "annotationdefaults": {
           "arrowcolor": "#2a3f5f",
           "arrowhead": 0,
           "arrowwidth": 1
          },
          "autotypenumbers": "strict",
          "coloraxis": {
           "colorbar": {
            "outlinewidth": 0,
            "ticks": ""
           }
          },
          "colorscale": {
           "diverging": [
            [
             0,
             "#8e0152"
            ],
            [
             0.1,
             "#c51b7d"
            ],
            [
             0.2,
             "#de77ae"
            ],
            [
             0.3,
             "#f1b6da"
            ],
            [
             0.4,
             "#fde0ef"
            ],
            [
             0.5,
             "#f7f7f7"
            ],
            [
             0.6,
             "#e6f5d0"
            ],
            [
             0.7,
             "#b8e186"
            ],
            [
             0.8,
             "#7fbc41"
            ],
            [
             0.9,
             "#4d9221"
            ],
            [
             1,
             "#276419"
            ]
           ],
           "sequential": [
            [
             0,
             "#0d0887"
            ],
            [
             0.1111111111111111,
             "#46039f"
            ],
            [
             0.2222222222222222,
             "#7201a8"
            ],
            [
             0.3333333333333333,
             "#9c179e"
            ],
            [
             0.4444444444444444,
             "#bd3786"
            ],
            [
             0.5555555555555556,
             "#d8576b"
            ],
            [
             0.6666666666666666,
             "#ed7953"
            ],
            [
             0.7777777777777778,
             "#fb9f3a"
            ],
            [
             0.8888888888888888,
             "#fdca26"
            ],
            [
             1,
             "#f0f921"
            ]
           ],
           "sequentialminus": [
            [
             0,
             "#0d0887"
            ],
            [
             0.1111111111111111,
             "#46039f"
            ],
            [
             0.2222222222222222,
             "#7201a8"
            ],
            [
             0.3333333333333333,
             "#9c179e"
            ],
            [
             0.4444444444444444,
             "#bd3786"
            ],
            [
             0.5555555555555556,
             "#d8576b"
            ],
            [
             0.6666666666666666,
             "#ed7953"
            ],
            [
             0.7777777777777778,
             "#fb9f3a"
            ],
            [
             0.8888888888888888,
             "#fdca26"
            ],
            [
             1,
             "#f0f921"
            ]
           ]
          },
          "colorway": [
           "#636efa",
           "#EF553B",
           "#00cc96",
           "#ab63fa",
           "#FFA15A",
           "#19d3f3",
           "#FF6692",
           "#B6E880",
           "#FF97FF",
           "#FECB52"
          ],
          "font": {
           "color": "#2a3f5f"
          },
          "geo": {
           "bgcolor": "white",
           "lakecolor": "white",
           "landcolor": "#E5ECF6",
           "showlakes": true,
           "showland": true,
           "subunitcolor": "white"
          },
          "hoverlabel": {
           "align": "left"
          },
          "hovermode": "closest",
          "mapbox": {
           "style": "light"
          },
          "paper_bgcolor": "white",
          "plot_bgcolor": "#E5ECF6",
          "polar": {
           "angularaxis": {
            "gridcolor": "white",
            "linecolor": "white",
            "ticks": ""
           },
           "bgcolor": "#E5ECF6",
           "radialaxis": {
            "gridcolor": "white",
            "linecolor": "white",
            "ticks": ""
           }
          },
          "scene": {
           "xaxis": {
            "backgroundcolor": "#E5ECF6",
            "gridcolor": "white",
            "gridwidth": 2,
            "linecolor": "white",
            "showbackground": true,
            "ticks": "",
            "zerolinecolor": "white"
           },
           "yaxis": {
            "backgroundcolor": "#E5ECF6",
            "gridcolor": "white",
            "gridwidth": 2,
            "linecolor": "white",
            "showbackground": true,
            "ticks": "",
            "zerolinecolor": "white"
           },
           "zaxis": {
            "backgroundcolor": "#E5ECF6",
            "gridcolor": "white",
            "gridwidth": 2,
            "linecolor": "white",
            "showbackground": true,
            "ticks": "",
            "zerolinecolor": "white"
           }
          },
          "shapedefaults": {
           "line": {
            "color": "#2a3f5f"
           }
          },
          "ternary": {
           "aaxis": {
            "gridcolor": "white",
            "linecolor": "white",
            "ticks": ""
           },
           "baxis": {
            "gridcolor": "white",
            "linecolor": "white",
            "ticks": ""
           },
           "bgcolor": "#E5ECF6",
           "caxis": {
            "gridcolor": "white",
            "linecolor": "white",
            "ticks": ""
           }
          },
          "title": {
           "x": 0.05
          },
          "xaxis": {
           "automargin": true,
           "gridcolor": "white",
           "linecolor": "white",
           "ticks": "",
           "title": {
            "standoff": 15
           },
           "zerolinecolor": "white",
           "zerolinewidth": 2
          },
          "yaxis": {
           "automargin": true,
           "gridcolor": "white",
           "linecolor": "white",
           "ticks": "",
           "title": {
            "standoff": 15
           },
           "zerolinecolor": "white",
           "zerolinewidth": 2
          }
         }
        },
        "xaxis": {
         "anchor": "y",
         "domain": [
          0,
          1
         ],
         "title": {
          "text": "condition"
         }
        },
        "yaxis": {
         "anchor": "x",
         "domain": [
          0,
          1
         ],
         "title": {
          "text": "score"
         }
        }
       }
      }
     },
     "metadata": {},
     "output_type": "display_data"
    }
   ],
   "source": [
    "px.strip(scores, x=\"condition\", y=\"score\", color=scores.index)"
   ]
  },
  {
   "cell_type": "markdown",
   "metadata": {},
   "source": [
    "The graphing library `plotly` allows to color the points according to the name of the image, such that we can identify the outliers by hovering over them. We can see that image `sub-613957_acq-standard_T1W` got a bad rating, even though this was the image from the no-motion condition. \n",
    "\n",
    "For the three images `sub-253493_acq-headmotion2_T1w`, `sub-257563_acq-headmotion2_T1w`, and `sub-567742_acq-headmotion2_T1w` we have the opposite case: these images got the best rating, even though the subjects were supposed to move their heads a lot during the acquisition of these images.\n",
    "\n",
    "Try and look at the HTML reports of these images: can you guess what was likely going on in each of these cases?"
   ]
  },
  {
   "cell_type": "markdown",
   "metadata": {},
   "source": [
    "## Visualizing the IQMs\n",
    "\n",
    "Next, let's look at the IQMs. There are many different variables here:"
   ]
  },
  {
   "cell_type": "code",
   "execution_count": null,
   "metadata": {},
   "outputs": [
    {
     "data": {
      "text/plain": [
       "Index(['cjv', 'cnr', 'efc', 'fber', 'fwhm_avg', 'fwhm_x', 'fwhm_y', 'fwhm_z',\n",
       "       'icvs_csf', 'icvs_gm', 'icvs_wm', 'inu_med', 'inu_range', 'qi_1',\n",
       "       'qi_2', 'rpve_csf', 'rpve_gm', 'rpve_wm', 'size_x', 'size_y', 'size_z',\n",
       "       'snr_csf', 'snr_gm', 'snr_total', 'snr_wm', 'snrd_csf', 'snrd_gm',\n",
       "       'snrd_total', 'snrd_wm', 'spacing_x', 'spacing_y', 'spacing_z',\n",
       "       'summary_bg_k', 'summary_bg_mad', 'summary_bg_mean',\n",
       "       'summary_bg_median', 'summary_bg_n', 'summary_bg_p05', 'summary_bg_p95',\n",
       "       'summary_bg_stdv', 'summary_csf_k', 'summary_csf_mad',\n",
       "       'summary_csf_mean', 'summary_csf_median', 'summary_csf_n',\n",
       "       'summary_csf_p05', 'summary_csf_p95', 'summary_csf_stdv',\n",
       "       'summary_gm_k', 'summary_gm_mad', 'summary_gm_mean',\n",
       "       'summary_gm_median', 'summary_gm_n', 'summary_gm_p05', 'summary_gm_p95',\n",
       "       'summary_gm_stdv', 'summary_wm_k', 'summary_wm_mad', 'summary_wm_mean',\n",
       "       'summary_wm_median', 'summary_wm_n', 'summary_wm_p05', 'summary_wm_p95',\n",
       "       'summary_wm_stdv', 'tpm_overlap_csf', 'tpm_overlap_gm',\n",
       "       'tpm_overlap_wm', 'wm2max'],\n",
       "      dtype='object')"
      ]
     },
     "execution_count": 6,
     "metadata": {},
     "output_type": "execute_result"
    }
   ],
   "source": [
    "iqms.columns"
   ]
  },
  {
   "cell_type": "markdown",
   "metadata": {},
   "source": [
    "Some of them we can get rid of right away, as they are not really image quality metrics, but measurement parameters."
   ]
  },
  {
   "cell_type": "code",
   "execution_count": null,
   "metadata": {},
   "outputs": [],
   "source": [
    "iqms_use = iqms.drop([\"size_x\", \"size_y\", \"size_z\", \"spacing_x\", \"spacing_y\", \"spacing_z\"], axis=1)"
   ]
  },
  {
   "cell_type": "markdown",
   "metadata": {},
   "source": [
    "We should also normalize the data, as the units of the IQMs vary wildly. This is required by some methods like PCA down the line, but it also makes sense computationally to have all values in the same order of magnitude."
   ]
  },
  {
   "cell_type": "code",
   "execution_count": null,
   "metadata": {},
   "outputs": [],
   "source": [
    "scaler = StandardScaler()\n",
    "iqms_scaled = scaler.fit_transform(iqms_use)\n",
    "iqms_scaled = pd.DataFrame(iqms_scaled, columns=iqms_use.columns, index=iqms_use.index)"
   ]
  },
  {
   "cell_type": "markdown",
   "metadata": {},
   "source": [
    "Rule number one of data analysis: always visualize your data! We can plot the pairwise scatterplots to get an idea of the relationships between the IQMs. There are quite a few IQMs, so plottings this might take a few minutes, depending on your hardware."
   ]
  },
  {
   "cell_type": "code",
   "execution_count": null,
   "metadata": {},
   "outputs": [],
   "source": [
    "metrics_sets = {f\"set{i+1}\": list(iqms_scaled.columns[i*10:i*10+9]) for i in range(6)}\n",
    "metrics_sets[\"set8\"] = list(iqms_scaled.columns[60:])"
   ]
  },
  {
   "cell_type": "code",
   "execution_count": null,
   "metadata": {},
   "outputs": [],
   "source": [
    "# for metrics_set in metrics_sets.values():\n",
    "#     sns.pairplot(iqms_scaled[metrics_set])"
   ]
  },
  {
   "attachments": {},
   "cell_type": "markdown",
   "metadata": {},
   "source": [
    "Interesting! There are quite a few non-linear relationships between the IQMs, which we should keep in mind should linear dimension reduction techniques fail.\n",
    "Next, let's do some dimensionality reduction.\n",
    "\n",
    "## Dimensionality Reduction\n",
    "\n",
    "### PCA\n",
    "\n",
    "The simplest dimension reduction technique is principal component analysis (PCA), which projects the data onto a new set of axis defined by the eigenvectors of the data matrix. As the data are already rescaled, we can directly apply it."
   ]
  },
  {
   "cell_type": "code",
   "execution_count": null,
   "metadata": {},
   "outputs": [
    {
     "data": {
      "application/vnd.plotly.v1+json": {
       "config": {
        "plotlyServerURL": "https://plot.ly"
       },
       "data": [
        {
         "hovertemplate": "component1=%{x}<br>component2=%{y}<br>color=%{marker.color}<extra></extra>",
         "legendgroup": "",
         "marker": {
          "color": [
           2,
           3,
           1,
           2,
           3,
           1,
           2,
           3,
           1,
           2,
           3,
           1,
           2,
           3,
           1,
           2,
           3,
           1,
           2,
           3,
           1,
           2,
           3,
           1,
           2,
           3,
           1,
           2,
           3,
           1,
           2,
           3,
           1,
           2,
           3,
           1,
           2,
           3,
           1,
           2,
           3,
           1,
           2,
           3,
           1,
           3,
           1,
           2,
           3,
           1,
           2,
           3,
           1,
           2,
           3,
           1,
           2,
           3,
           1,
           2,
           3,
           1,
           2,
           3,
           1,
           2,
           3,
           1,
           2,
           1,
           2,
           3,
           1,
           2,
           3,
           1,
           2,
           3,
           1,
           2,
           3,
           1,
           2,
           3,
           1,
           2,
           3,
           1,
           2,
           3,
           1,
           2,
           3,
           1,
           3,
           1,
           2,
           3,
           1,
           2,
           3,
           1,
           2,
           3,
           1,
           2,
           3,
           1,
           2,
           3,
           1,
           2,
           3,
           1,
           2,
           3,
           1,
           2,
           3,
           1,
           2,
           3,
           1,
           2,
           3,
           1,
           2,
           3,
           1,
           2,
           3,
           1,
           2,
           3,
           1,
           2,
           3,
           1,
           2,
           3,
           1,
           3,
           1,
           2,
           3,
           1,
           2,
           3,
           1,
           2,
           3,
           1,
           2,
           3,
           1,
           2,
           3,
           1,
           2,
           3,
           1,
           2,
           3,
           1,
           2,
           3,
           1,
           2,
           3,
           1,
           2,
           3,
           1,
           2,
           3,
           1,
           2,
           3,
           1,
           2,
           3,
           1,
           2,
           3,
           1,
           2,
           3,
           1,
           3,
           1,
           2,
           3,
           1,
           2,
           3,
           1,
           2,
           3,
           1,
           2,
           3,
           1,
           2,
           3,
           1,
           2,
           3,
           1,
           2,
           3,
           1,
           2,
           3,
           1,
           2,
           3,
           1,
           2,
           3,
           1,
           2,
           3,
           1,
           2,
           3,
           1,
           2,
           3,
           1,
           2,
           3,
           1,
           2,
           3,
           1,
           2,
           3,
           1,
           2,
           3,
           1,
           2,
           3,
           1,
           2,
           3,
           1,
           2,
           3,
           1,
           2,
           3,
           1,
           2,
           3,
           1,
           3,
           1,
           2,
           3,
           1,
           2,
           3,
           1,
           2,
           3,
           1,
           2,
           3,
           1,
           2,
           3,
           1,
           2,
           3,
           1,
           3,
           1,
           2,
           3,
           1,
           2,
           3,
           1,
           2,
           3,
           1,
           2,
           3,
           1,
           2,
           3,
           1,
           2,
           3,
           1,
           2,
           3,
           1,
           2,
           3,
           1,
           2,
           3,
           1,
           2,
           3,
           1,
           2,
           3,
           1,
           2,
           3,
           1,
           2,
           3,
           1,
           3,
           1,
           2,
           3,
           1,
           2,
           3,
           1,
           2,
           3,
           1,
           2,
           3,
           1,
           2,
           3,
           1,
           2,
           3,
           1,
           2,
           3,
           1,
           2,
           3,
           1,
           2,
           3,
           1,
           2,
           3,
           1,
           2,
           3,
           1,
           2,
           3,
           1,
           2,
           3,
           1,
           2,
           3,
           1,
           2,
           3,
           1,
           2,
           3,
           1,
           2,
           3,
           1,
           2,
           3,
           1,
           2,
           3,
           1,
           2,
           3,
           1,
           2,
           3,
           1,
           2,
           3,
           1,
           2,
           3,
           1,
           2,
           3,
           1,
           2,
           3,
           1,
           2,
           3,
           1,
           2,
           3,
           1,
           2,
           3,
           1,
           2,
           3,
           1,
           2,
           3,
           1,
           2,
           3,
           1,
           2,
           3,
           1,
           2,
           3,
           1,
           2,
           3,
           1,
           2,
           3,
           1,
           2,
           3,
           1,
           2,
           3,
           1,
           2,
           3,
           1,
           2,
           3,
           1
          ],
          "coloraxis": "coloraxis",
          "symbol": "circle"
         },
         "mode": "markers",
         "name": "",
         "orientation": "v",
         "showlegend": false,
         "type": "scatter",
         "x": [
          -3.2449064043505373,
          2.241555100162124,
          -4.837443302350562,
          3.518954249159686,
          1.1197099844996157,
          -4.373940931323621,
          2.4239826882020727,
          5.168354009563898,
          -5.977271509267583,
          -0.7260045745887582,
          1.3715482575929614,
          -4.579759858124041,
          -1.102027452709111,
          -0.023159183664176422,
          -4.0955025964200455,
          -3.66422203347626,
          0.1073659481158781,
          -4.556278015544607,
          1.5369256959219315,
          11.228269856976242,
          -2.804771991626935,
          -3.2798530767563614,
          -0.9879903422973229,
          -4.656293014503606,
          -4.7999926566563005,
          12.589698023261976,
          -5.478396912113831,
          3.4935203893489213,
          7.160576640644055,
          -4.420647622801961,
          2.269846235993561,
          2.958446400171838,
          -6.118371692230082,
          -0.5569972074605067,
          1.6267645304212377,
          -5.61929536071816,
          4.816183549410457,
          9.912277402527247,
          -6.558644284562357,
          -2.095480812334927,
          5.439446410895422,
          -4.867277517020829,
          -3.1725607061341687,
          -1.0524523623695066,
          -5.780307846161016,
          12.471782886881245,
          -4.458251426393712,
          2.182312977499437,
          3.648627801275447,
          -5.900259472556174,
          -4.721809981561186,
          -1.3208163688876688,
          -5.93562919723515,
          1.516853056565911,
          6.264683783441018,
          -4.642822488499347,
          -2.361742128718311,
          4.362632895793579,
          -5.137382960762376,
          -3.0080179230811086,
          -0.14592620493967012,
          -4.820501136489374,
          -1.5174278366701233,
          6.625958834879936,
          -4.697942403232321,
          -1.4257308562038982,
          2.5161764528707957,
          -4.1056360483385825,
          9.591911836362382,
          -4.930694996454965,
          6.8897006734747706,
          11.127191731346725,
          -4.647916898781416,
          8.532221078205929,
          12.171747416822534,
          -3.7452839218338045,
          -5.665233911892813,
          -4.303020719044169,
          -5.85588048877293,
          -2.677572324502625,
          -0.2443539001773187,
          -5.308408708403035,
          10.782933384277852,
          4.214185416833668,
          -4.213585235734043,
          3.872911012207142,
          10.986638898352435,
          -2.8100063986871757,
          -3.1794490524515164,
          -0.36332184981310717,
          -5.376104654293226,
          13.054362834721115,
          9.274957901098016,
          -4.505198441324393,
          6.9103143052006635,
          -6.251226200334751,
          4.9131593921154115,
          9.951871794324065,
          -4.610861292182591,
          -1.8011940254341545,
          6.608344776352033,
          -4.647265677803896,
          3.6900605123179857,
          10.419185167125866,
          -5.458966844619002,
          -1.7463347661474766,
          -2.3534305669399056,
          -3.2690880714842043,
          -3.2651018113439267,
          -2.0983395771090723,
          -4.572669893054735,
          2.846272583433232,
          8.823179823986008,
          -4.068521036939255,
          -2.941209182458151,
          1.4484953996367798,
          -4.92066152379944,
          -4.216150465674412,
          -2.736895099685318,
          -6.284885506772223,
          -1.1421235283076692,
          -1.2204097586984266,
          -4.709853624054756,
          -1.2034753699932486,
          3.8774331066049617,
          -4.655484800867777,
          -1.8979145123891719,
          0.27620040086694786,
          -5.023623060895887,
          -1.333082151209296,
          2.1422494136242247,
          -5.39938593433145,
          8.560989506255988,
          5.829900984467851,
          -4.419307603863327,
          -1.125481978283586,
          7.925625460503616,
          -4.632435287576,
          -2.4284366347983286,
          1.531982921894277,
          -4.854495937108457,
          11.105633036360164,
          -3.6013983249056727,
          2.086727662196321,
          10.96617940734001,
          -4.724787729191364,
          2.559076360829053,
          9.279022095698924,
          -4.589958145160461,
          -1.6886374819179244,
          3.9521220113309736,
          -4.832195918942881,
          -2.3869841215199172,
          3.7484701194826324,
          -5.15930423968898,
          6.450057935641493,
          10.47873916650208,
          -4.374977064453239,
          -3.3389054335286876,
          0.18026699460066717,
          -6.638855490313831,
          1.1610968625742422,
          -0.35973163360080584,
          -5.107148078183782,
          -1.8572291161263346,
          -1.1415247977383127,
          -5.384425960726914,
          -2.380016896554278,
          -0.6960722176744897,
          -5.1080111780817425,
          3.410125748000005,
          5.895206024149332,
          -3.1929190415223805,
          3.661627783628095,
          4.807658070474405,
          -4.141229170876272,
          7.690539021686589,
          8.933774775103643,
          -5.120902001916552,
          -2.4515622172444917,
          -1.6503033923579578,
          -6.5828247936453606,
          -1.598202885642945,
          3.4612034916785244,
          -5.025591714625474,
          6.149681013529698,
          16.22472004979641,
          -4.300543523677224,
          -0.05337410251803061,
          -4.882918494172661,
          -3.666894878179841,
          9.5712428678219,
          -4.558825517000395,
          1.920093286018891,
          9.194590814887263,
          -3.7210860240976995,
          -2.6536681894334797,
          1.3704760215163327,
          -4.861261709005236,
          -4.242881451004095,
          -1.379420057714475,
          -6.2074017537069786,
          0.622711940010106,
          6.848345313026113,
          -4.261713326590104,
          -1.16188901692381,
          -0.9592006672302891,
          -5.254197528820612,
          10.983804943946206,
          9.97973599450362,
          -4.445162663180424,
          3.010179625091959,
          11.152327489068545,
          -4.73879563713019,
          -3.5714466565540626,
          -0.4483650802974824,
          -3.4819103114240115,
          -2.078090757121294,
          2.2314849878189573,
          -5.568403876151805,
          7.547180438478277,
          2.3219504026547684,
          -3.966762949000298,
          -2.434567295607312,
          9.242416294123078,
          -4.429754069212827,
          -0.5518703174121115,
          8.748783005367446,
          -6.782518192020408,
          0.58692462090207,
          9.831279846548536,
          -4.828100400763226,
          5.238842181977452,
          1.5587237925653619,
          -4.301998236616227,
          -4.521117599246566,
          -2.9546283661976918,
          -5.415055291823599,
          0.39861761101678983,
          5.659061402235193,
          -3.638431458537724,
          -0.03890190344427693,
          2.3058631975062562,
          -5.537020699764486,
          0.32592847401180114,
          7.138537480317741,
          -4.905577700060823,
          3.595642093293516,
          8.402982803131371,
          -5.714487456018005,
          1.34358765514207,
          9.503296398470793,
          -3.93409002071959,
          3.3951826271502235,
          4.681800805989152,
          -4.898750618811776,
          3.367463346225485,
          -3.572333573322221,
          -3.8668108807104633,
          -2.8466604686492722,
          -5.380336998437038,
          -3.277244074284263,
          -0.4657019665147855,
          -5.866799443358439,
          1.672442714811734,
          10.934265934469982,
          -5.023504856215985,
          0.8469188730971933,
          4.241022607648847,
          -3.6325303735574406,
          -0.6770640529524349,
          0.7787001759470847,
          -5.124333243745331,
          -0.13515071043700272,
          8.095154771713128,
          -5.824639884726664,
          12.915038348604984,
          -0.6921831060804022,
          -1.0829619124357317,
          4.974016809199111,
          -4.730234007604722,
          8.453753534487628,
          9.854385057720124,
          -5.464090024194673,
          -2.9851177002884985,
          1.5147556818230576,
          -4.950293695807533,
          -2.8571443840078126,
          -3.0586394344807224,
          -6.975160165022636,
          5.6688975070153615,
          14.735018544498669,
          -3.9472406446392747,
          1.269702051455638,
          4.191688957604445,
          -4.931882593085244,
          -0.48093881209233663,
          5.656256401322801,
          -5.081044147884301,
          -2.6047025789533516,
          2.8891507746617258,
          -5.668592870661297,
          -0.021355269564143325,
          5.508976415369358,
          -3.9946696943550353,
          -3.0618511038023857,
          -1.3223943491411412,
          -4.739285926100973,
          0.17540616613970966,
          2.8679701904545127,
          -5.139502420275415,
          1.933802815873088,
          5.439016792320082,
          -5.335353707234898,
          0.6061205392871062,
          4.431463972544366,
          -4.675467232709287,
          -2.5970635764529635,
          -3.7275052055094435,
          6.092137993637487,
          11.37470761305705,
          -3.791237706901983,
          -2.528983606098061,
          1.062774830144392,
          -4.6129969851284045,
          -0.23249183964074013,
          3.22224043761511,
          -4.731458063452951,
          6.966391987720676,
          4.026147978057232,
          -5.74344395096765,
          1.6789366826631296,
          3.3082698724873,
          -4.956597365184158,
          -2.428893832879494,
          1.8118625770287409,
          -5.423525305305229,
          -0.9895712728142225,
          10.381104598865793,
          -5.12751206609588,
          2.1660908106227286,
          7.901192277035863,
          -4.642881339047606,
          -2.017533894967464,
          2.3922283914551894,
          -4.633444142156062,
          -2.0957261864002743,
          4.307013674028452,
          -4.839406260859581,
          -0.9193231494316514,
          5.220036648010958,
          -5.481966809339409,
          4.083420067491812,
          3.082210640157895,
          -4.713037112294049,
          1.8256737921842419,
          7.752235346170755,
          -2.5637476018808223,
          3.138339287063509,
          11.87748426552485,
          -4.771994012949556,
          -2.9165203622679163,
          -2.0540826752791883,
          -4.797675725758685,
          -5.63536602847306,
          -4.2469633817901045,
          -5.86799564978755,
          2.4864541771951716,
          7.797255631903864,
          -3.412158155816344,
          -0.43120030297948597,
          1.6406794840407848,
          -5.985437399142995,
          4.326234430272531,
          6.521146931723164,
          -5.460162953277847,
          -0.1992213955092785,
          1.9931284520057782,
          -5.434748516325533,
          -0.5806223630041659,
          5.963657998452373,
          -4.803830765072884,
          -3.7714392669327643,
          4.037426408667849,
          -4.901410431714535,
          -1.5914130316184063,
          0.795730983203566,
          -4.256549382344972,
          1.2971467781417139,
          7.387501884742086,
          -4.668514751609313,
          2.4468580250552705,
          3.6380972219324197,
          -4.430381188830242,
          1.1868775073646087,
          5.234447091648038,
          -5.683330912681511,
          -0.8189746541733833,
          3.0794152421078476,
          -5.551042143810851,
          -3.520934083142549,
          -3.1494731017391255,
          -5.470111431598369,
          -2.22199430350348,
          3.8524884162471533,
          -5.116723005661666,
          -0.9758806255160103,
          4.980046981236782,
          -5.148131611642774,
          9.107422348245757,
          8.112795972713663,
          -4.344405059159214,
          5.545995232343503,
          2.490315588356116,
          -4.869920031446792,
          4.023187146562172,
          9.184342200687155,
          -5.302161257176592,
          -2.571118097201445,
          -1.0048276418340085,
          -2.9453753475068467,
          -2.253056337949153,
          0.8294466232041003,
          -5.0160040942140895,
          1.4088190409615522,
          11.145241395859644,
          -4.214352215260624,
          -2.054941867530057,
          -1.0581156766200277,
          -4.537183758991877,
          -3.832604464530869,
          0.09203009236984663,
          -4.368624487723762,
          0.7002155249125473,
          4.734529702997316,
          -4.703417808120764
         ],
         "xaxis": "x",
         "y": [
          -0.9953309813541391,
          -2.0969605186315854,
          -1.119250948163337,
          -1.7625339114600405,
          -1.7648475874824348,
          -1.964861054664302,
          0.9973806960630256,
          1.373929608124477,
          -0.8195072667370388,
          -1.2648060338621094,
          -1.453457527492469,
          -2.190173252270969,
          3.1829887531255174,
          1.9666009813879228,
          1.7623316995849447,
          3.769418976788055,
          3.5067874723789956,
          3.3336870602366657,
          -2.072022336447717,
          -1.9540193375820933,
          -3.48663687491249,
          -0.26060033039271224,
          0.13290209782127135,
          -0.467755580122767,
          -0.9467879318017846,
          -3.3611197833719397,
          -1.1584737663943245,
          -0.28120248881188015,
          -1.103368744825809,
          0.19485378337073325,
          -3.0952011294921156,
          -4.220293127788019,
          -5.410900983427829,
          0.36391737668864527,
          0.8590583137202119,
          -0.8049765655616278,
          1.3308730032777054,
          0.9929564362572008,
          -0.012248022753427956,
          -0.7668672050879968,
          -0.6303149374741317,
          -1.247775340710483,
          1.1344970299689456,
          1.2313524219664067,
          0.00888246142317743,
          1.552520047579393,
          -1.5542337403951783,
          7.143208300389743,
          6.8827809239655,
          6.366486899398465,
          1.9196857797207143,
          2.0272689545018543,
          0.9790785076278593,
          -2.9502220310608505,
          -3.520916035116162,
          -3.534733984582808,
          -1.5412785039091317,
          -2.738422847274741,
          -2.7429083986776415,
          -3.429194635537237,
          -3.1772909822412423,
          -3.2856398124638164,
          -1.8003321384266504,
          -1.3663348501744188,
          -2.278601617026382,
          -1.2785066619700638,
          -0.7215675887827487,
          -1.9057307358648725,
          2.3782635364285984,
          1.283263249792392,
          -1.582529498863938,
          -1.4928029427601668,
          -1.1955944655030346,
          -2.82152556045242,
          -1.2523147683920521,
          -1.5587276974574624,
          -1.0016088602961848,
          -0.5990709069433464,
          -1.5460112594987192,
          0.34309128746044226,
          1.3005924845811458,
          0.339924665627874,
          -4.95358004538175,
          -2.339896360971656,
          -1.4955289279886188,
          -2.91172838484181,
          -2.075093782381241,
          -1.9883104308245576,
          0.3253677813021614,
          -0.2280595048702579,
          -1.5548412606142674,
          -3.7247329561696714,
          -2.939471727493853,
          -1.6242454239215673,
          1.1159969446648554,
          2.0238519938082637,
          1.8740634034866361,
          0.2830896329940122,
          -0.053678130417267156,
          0.5244732129663682,
          0.4657777195402331,
          -0.660570152680591,
          2.5313732352392577,
          2.983137069631044,
          0.6333083718392055,
          2.39561092557401,
          2.4462028530848574,
          2.0158746727391295,
          -0.29071142313825504,
          -0.12887549553217678,
          -1.0495596494543817,
          -0.8506811967324172,
          -0.32422755957208865,
          -0.5841136610815767,
          0.05148680994263997,
          -1.381147696193498,
          -1.3135918976111296,
          4.570581019679529,
          4.871802988390405,
          4.760620370565165,
          0.243617699329098,
          0.3532545980857042,
          0.23728905525981892,
          3.9253963398645686,
          4.187610814379618,
          3.1318009543746452,
          -0.8523292745028155,
          -0.42940039088133924,
          -1.4339575999287868,
          -0.8541535160724248,
          -0.25119806831339886,
          -0.8810342534437783,
          -1.0090206048997703,
          -1.4826962212782633,
          -0.1550432397873076,
          0.29268541106947477,
          -0.9776626611934519,
          -0.11293155913735772,
          -0.6636812616533236,
          -0.5915721318831931,
          -1.6191287966016088,
          0.41027128809056956,
          -2.283823587796069,
          -1.623380966716171,
          -1.8318055969633567,
          -2.492972127491365,
          -0.8458632118863837,
          -0.20754266141333985,
          -2.0617846793062813,
          -0.6494861123616855,
          -0.5810211635831675,
          -1.9085717196010534,
          -0.7153497899586679,
          0.10796060048299033,
          -1.3883374293390547,
          3.6622456022497274,
          3.1506016043233918,
          3.335784432381917,
          2.38358123372655,
          2.3222584936692696,
          1.6795105363268543,
          6.138661057736287,
          6.14018065070934,
          5.028533274805471,
          0.452924686862143,
          -0.03678701571596335,
          -0.43355248655423784,
          -0.028991448503079057,
          0.21538458549014988,
          0.012926543981141438,
          -1.3097130437126097,
          -2.1722213853081125,
          -3.8048846837557564,
          0.0386987548833719,
          -1.1256572806552816,
          -0.8498914936565904,
          -0.06296308699018355,
          -1.4265289286553433,
          -0.907908640306584,
          0.563131748412634,
          0.5329604428714146,
          -0.7266776764708843,
          0.9431784167878056,
          0.8532643206933321,
          0.5900521597771026,
          1.5508672443601643,
          1.1665636181715562,
          0.627199835231797,
          2.002464232868293,
          0.9987406368708781,
          -1.787835444712802,
          -1.1049361808300375,
          -1.9100906912470308,
          -0.19664037319576208,
          -1.95143204502153,
          -1.4533873919335916,
          -0.05817852193442193,
          -0.19126095627809825,
          -1.0202771465392608,
          3.51866576796707,
          4.118288187082661,
          3.2178032198238773,
          2.5010204734784653,
          2.88716457772542,
          2.497356977868797,
          0.24499062208136957,
          0.5163680675614138,
          -0.12227796167765341,
          -3.305729168019696,
          -3.213035262245931,
          -1.6976606822687315,
          -1.2872180724034692,
          0.0797779008735621,
          -2.6869499386511793,
          0.10092326383008107,
          0.057649354648094245,
          0.1727413818539175,
          2.7044842389343215,
          1.1535440508799895,
          1.4221236205042396,
          -2.660316243935094,
          -1.5367027738963421,
          -1.8838850395893367,
          0.7413656811277797,
          1.9394251678757635,
          0.012365443446577638,
          5.142163090241618,
          4.227591252924831,
          3.3671742081197755,
          -0.8790506155062094,
          0.2072346984641044,
          -1.6346085160164123,
          1.2483880197885762,
          -0.05875308107187921,
          -0.8403056810951234,
          -2.5146035173989723,
          -3.0843556962153302,
          -3.1573105094545135,
          -2.921221827614477,
          -3.034973505355449,
          -2.958530853880663,
          1.3593609204194843,
          0.7780116905919705,
          0.6049315361174973,
          -0.10756269013071768,
          -0.4262046017221942,
          -0.798608154981096,
          -4.3462044429980695,
          -4.719702831700617,
          -4.905968906863739,
          -2.6569584592003763,
          -3.909501086740474,
          -3.24658020238121,
          4.81277606669444,
          4.420013245630112,
          4.389578576634962,
          2.2872986384737084,
          1.4468733971281038,
          -1.466765308231561,
          -1.9116397628425341,
          -2.225101339727055,
          1.0647192125048215,
          1.6512709846731461,
          0.01033469478877757,
          0.8077708678656522,
          1.4962045846048042,
          -1.0796522385530198,
          -1.9369743411661615,
          -0.9341448973398858,
          -2.6455104361905497,
          1.0220609231385895,
          0.5224883248462139,
          0.007437137075278919,
          4.472977613371609,
          4.709505144011599,
          3.50771610938521,
          10.50643870240278,
          9.93933008749662,
          -0.8937103880183849,
          -1.4367922810733436,
          -2.0566198147608237,
          -4.2794279661061045,
          -6.887678217162335,
          -3.12959266274887,
          -2.121209993020295,
          -1.3811345174122627,
          -2.7425343493926193,
          5.07733289702765,
          4.43790398293906,
          4.479205639555736,
          5.490327544145136,
          5.372047722143835,
          0.3919574434497735,
          5.2396729050195345,
          3.8395678962018462,
          4.766473928117027,
          0.19498002833187317,
          -1.1119956748625268,
          -1.1844426282003588,
          0.28877359561295474,
          -0.2405095079634183,
          -0.8521762814438835,
          0.0898554610220875,
          -0.9900971426856884,
          0.013845149826374546,
          0.8004792430289668,
          0.8699150299208063,
          0.06935536295748466,
          3.702132817465885,
          4.76902753954103,
          4.154803271440415,
          -0.27885682593922767,
          -0.04050792904136454,
          -1.218608228922504,
          -2.0709491310420556,
          -1.5097545493683506,
          -2.996600209544424,
          0.6639315146142045,
          0.3390918544274479,
          -3.1475213211105664,
          -2.836591213789597,
          -3.4794967121990226,
          -3.7721548670225387,
          -4.435261633998122,
          -5.107264616982687,
          -2.111561594376252,
          -2.3978918515879237,
          -2.780296794589999,
          2.1114924647541846,
          2.82434389419836,
          0.3064029498243167,
          -1.3578200677784953,
          -1.157135940396519,
          -3.388262452592732,
          5.565862445818434,
          4.579532129837924,
          4.702977792680225,
          4.723041022224374,
          4.294795538163668,
          3.023344903270076,
          -1.5866503314093428,
          -2.612037450792088,
          -2.188814672562124,
          -2.3045927881292063,
          -1.756056655576324,
          -2.6576585086099542,
          0.8394493433370831,
          1.27737999983732,
          0.7491040015289483,
          2.7483217086456375,
          0.8318132156238418,
          1.8171451069511486,
          -1.555517823857546,
          -1.3950095451674254,
          -1.3458265990789047,
          -1.4435197881396273,
          -2.9221750912003537,
          -2.593142591837037,
          1.3342613301304163,
          2.093330435098875,
          1.6522038356305524,
          0.7399750117521319,
          -0.16736477927413718,
          -0.2735583019027842,
          0.27813928854874875,
          0.6023033220023761,
          0.0383224708594937,
          -0.7402518362726838,
          -0.20208230190782014,
          -1.0346494614869237,
          -0.3413193449187444,
          -0.3536072230343323,
          -2.2138952152703224,
          1.5332034267166192,
          1.7313720234919039,
          0.7399989843202361,
          3.2614492474347507,
          2.30342299300818,
          2.6202993459101043,
          3.2811089215505356,
          3.2057047147521907,
          1.875257916364319,
          -0.419510836350186,
          -0.28835393313105734,
          -1.3536768846939753,
          -2.5391444192753765,
          -3.024892129487082,
          -3.3638060071238773,
          0.5053602674107768,
          1.2816796476997558,
          0.8373729352640669,
          -1.8525474943530513,
          -1.52485122402677,
          -3.0401380168152903,
          7.395648452651499,
          6.16175762442651,
          4.657603662141251,
          1.2555692037574926,
          0.4026558252374418,
          1.2008076811027204,
          -3.655495302537165,
          -3.55590051466846,
          -4.024192560880142,
          0.23652733687737237,
          -0.533601219015125,
          -0.5347221335030279,
          -1.560873876843768,
          -1.8948172348180714,
          -2.2986859657862557,
          -1.1320661170183848,
          -1.5091636294944528,
          -2.7631862832615863,
          2.433312046128707,
          2.5303101687125666,
          1.5630540052545614,
          -2.603470884010779,
          -2.530954225083277,
          -3.872528583734412,
          1.0776223841478896,
          1.3176199340638066,
          1.2860597225674737,
          2.4024599805305966,
          1.481591274949671,
          1.0573637269264393,
          -4.028899408170821,
          -3.4367234644375264,
          -4.797930614705275,
          -2.6858921119279255,
          -2.7167570770247296,
          -2.7099187317454696,
          5.0840109023215305,
          5.700787902155301,
          4.997569576701149,
          0.8408549739457797,
          0.37428507131494165,
          0.12962618400622655
         ],
         "yaxis": "y"
        }
       ],
       "layout": {
        "coloraxis": {
         "colorbar": {
          "title": {
           "text": "color"
          }
         },
         "colorscale": [
          [
           0,
           "#0d0887"
          ],
          [
           0.1111111111111111,
           "#46039f"
          ],
          [
           0.2222222222222222,
           "#7201a8"
          ],
          [
           0.3333333333333333,
           "#9c179e"
          ],
          [
           0.4444444444444444,
           "#bd3786"
          ],
          [
           0.5555555555555556,
           "#d8576b"
          ],
          [
           0.6666666666666666,
           "#ed7953"
          ],
          [
           0.7777777777777778,
           "#fb9f3a"
          ],
          [
           0.8888888888888888,
           "#fdca26"
          ],
          [
           1,
           "#f0f921"
          ]
         ]
        },
        "legend": {
         "tracegroupgap": 0
        },
        "margin": {
         "t": 60
        },
        "template": {
         "data": {
          "bar": [
           {
            "error_x": {
             "color": "#2a3f5f"
            },
            "error_y": {
             "color": "#2a3f5f"
            },
            "marker": {
             "line": {
              "color": "#E5ECF6",
              "width": 0.5
             },
             "pattern": {
              "fillmode": "overlay",
              "size": 10,
              "solidity": 0.2
             }
            },
            "type": "bar"
           }
          ],
          "barpolar": [
           {
            "marker": {
             "line": {
              "color": "#E5ECF6",
              "width": 0.5
             },
             "pattern": {
              "fillmode": "overlay",
              "size": 10,
              "solidity": 0.2
             }
            },
            "type": "barpolar"
           }
          ],
          "carpet": [
           {
            "aaxis": {
             "endlinecolor": "#2a3f5f",
             "gridcolor": "white",
             "linecolor": "white",
             "minorgridcolor": "white",
             "startlinecolor": "#2a3f5f"
            },
            "baxis": {
             "endlinecolor": "#2a3f5f",
             "gridcolor": "white",
             "linecolor": "white",
             "minorgridcolor": "white",
             "startlinecolor": "#2a3f5f"
            },
            "type": "carpet"
           }
          ],
          "choropleth": [
           {
            "colorbar": {
             "outlinewidth": 0,
             "ticks": ""
            },
            "type": "choropleth"
           }
          ],
          "contour": [
           {
            "colorbar": {
             "outlinewidth": 0,
             "ticks": ""
            },
            "colorscale": [
             [
              0,
              "#0d0887"
             ],
             [
              0.1111111111111111,
              "#46039f"
             ],
             [
              0.2222222222222222,
              "#7201a8"
             ],
             [
              0.3333333333333333,
              "#9c179e"
             ],
             [
              0.4444444444444444,
              "#bd3786"
             ],
             [
              0.5555555555555556,
              "#d8576b"
             ],
             [
              0.6666666666666666,
              "#ed7953"
             ],
             [
              0.7777777777777778,
              "#fb9f3a"
             ],
             [
              0.8888888888888888,
              "#fdca26"
             ],
             [
              1,
              "#f0f921"
             ]
            ],
            "type": "contour"
           }
          ],
          "contourcarpet": [
           {
            "colorbar": {
             "outlinewidth": 0,
             "ticks": ""
            },
            "type": "contourcarpet"
           }
          ],
          "heatmap": [
           {
            "colorbar": {
             "outlinewidth": 0,
             "ticks": ""
            },
            "colorscale": [
             [
              0,
              "#0d0887"
             ],
             [
              0.1111111111111111,
              "#46039f"
             ],
             [
              0.2222222222222222,
              "#7201a8"
             ],
             [
              0.3333333333333333,
              "#9c179e"
             ],
             [
              0.4444444444444444,
              "#bd3786"
             ],
             [
              0.5555555555555556,
              "#d8576b"
             ],
             [
              0.6666666666666666,
              "#ed7953"
             ],
             [
              0.7777777777777778,
              "#fb9f3a"
             ],
             [
              0.8888888888888888,
              "#fdca26"
             ],
             [
              1,
              "#f0f921"
             ]
            ],
            "type": "heatmap"
           }
          ],
          "heatmapgl": [
           {
            "colorbar": {
             "outlinewidth": 0,
             "ticks": ""
            },
            "colorscale": [
             [
              0,
              "#0d0887"
             ],
             [
              0.1111111111111111,
              "#46039f"
             ],
             [
              0.2222222222222222,
              "#7201a8"
             ],
             [
              0.3333333333333333,
              "#9c179e"
             ],
             [
              0.4444444444444444,
              "#bd3786"
             ],
             [
              0.5555555555555556,
              "#d8576b"
             ],
             [
              0.6666666666666666,
              "#ed7953"
             ],
             [
              0.7777777777777778,
              "#fb9f3a"
             ],
             [
              0.8888888888888888,
              "#fdca26"
             ],
             [
              1,
              "#f0f921"
             ]
            ],
            "type": "heatmapgl"
           }
          ],
          "histogram": [
           {
            "marker": {
             "pattern": {
              "fillmode": "overlay",
              "size": 10,
              "solidity": 0.2
             }
            },
            "type": "histogram"
           }
          ],
          "histogram2d": [
           {
            "colorbar": {
             "outlinewidth": 0,
             "ticks": ""
            },
            "colorscale": [
             [
              0,
              "#0d0887"
             ],
             [
              0.1111111111111111,
              "#46039f"
             ],
             [
              0.2222222222222222,
              "#7201a8"
             ],
             [
              0.3333333333333333,
              "#9c179e"
             ],
             [
              0.4444444444444444,
              "#bd3786"
             ],
             [
              0.5555555555555556,
              "#d8576b"
             ],
             [
              0.6666666666666666,
              "#ed7953"
             ],
             [
              0.7777777777777778,
              "#fb9f3a"
             ],
             [
              0.8888888888888888,
              "#fdca26"
             ],
             [
              1,
              "#f0f921"
             ]
            ],
            "type": "histogram2d"
           }
          ],
          "histogram2dcontour": [
           {
            "colorbar": {
             "outlinewidth": 0,
             "ticks": ""
            },
            "colorscale": [
             [
              0,
              "#0d0887"
             ],
             [
              0.1111111111111111,
              "#46039f"
             ],
             [
              0.2222222222222222,
              "#7201a8"
             ],
             [
              0.3333333333333333,
              "#9c179e"
             ],
             [
              0.4444444444444444,
              "#bd3786"
             ],
             [
              0.5555555555555556,
              "#d8576b"
             ],
             [
              0.6666666666666666,
              "#ed7953"
             ],
             [
              0.7777777777777778,
              "#fb9f3a"
             ],
             [
              0.8888888888888888,
              "#fdca26"
             ],
             [
              1,
              "#f0f921"
             ]
            ],
            "type": "histogram2dcontour"
           }
          ],
          "mesh3d": [
           {
            "colorbar": {
             "outlinewidth": 0,
             "ticks": ""
            },
            "type": "mesh3d"
           }
          ],
          "parcoords": [
           {
            "line": {
             "colorbar": {
              "outlinewidth": 0,
              "ticks": ""
             }
            },
            "type": "parcoords"
           }
          ],
          "pie": [
           {
            "automargin": true,
            "type": "pie"
           }
          ],
          "scatter": [
           {
            "fillpattern": {
             "fillmode": "overlay",
             "size": 10,
             "solidity": 0.2
            },
            "type": "scatter"
           }
          ],
          "scatter3d": [
           {
            "line": {
             "colorbar": {
              "outlinewidth": 0,
              "ticks": ""
             }
            },
            "marker": {
             "colorbar": {
              "outlinewidth": 0,
              "ticks": ""
             }
            },
            "type": "scatter3d"
           }
          ],
          "scattercarpet": [
           {
            "marker": {
             "colorbar": {
              "outlinewidth": 0,
              "ticks": ""
             }
            },
            "type": "scattercarpet"
           }
          ],
          "scattergeo": [
           {
            "marker": {
             "colorbar": {
              "outlinewidth": 0,
              "ticks": ""
             }
            },
            "type": "scattergeo"
           }
          ],
          "scattergl": [
           {
            "marker": {
             "colorbar": {
              "outlinewidth": 0,
              "ticks": ""
             }
            },
            "type": "scattergl"
           }
          ],
          "scattermapbox": [
           {
            "marker": {
             "colorbar": {
              "outlinewidth": 0,
              "ticks": ""
             }
            },
            "type": "scattermapbox"
           }
          ],
          "scatterpolar": [
           {
            "marker": {
             "colorbar": {
              "outlinewidth": 0,
              "ticks": ""
             }
            },
            "type": "scatterpolar"
           }
          ],
          "scatterpolargl": [
           {
            "marker": {
             "colorbar": {
              "outlinewidth": 0,
              "ticks": ""
             }
            },
            "type": "scatterpolargl"
           }
          ],
          "scatterternary": [
           {
            "marker": {
             "colorbar": {
              "outlinewidth": 0,
              "ticks": ""
             }
            },
            "type": "scatterternary"
           }
          ],
          "surface": [
           {
            "colorbar": {
             "outlinewidth": 0,
             "ticks": ""
            },
            "colorscale": [
             [
              0,
              "#0d0887"
             ],
             [
              0.1111111111111111,
              "#46039f"
             ],
             [
              0.2222222222222222,
              "#7201a8"
             ],
             [
              0.3333333333333333,
              "#9c179e"
             ],
             [
              0.4444444444444444,
              "#bd3786"
             ],
             [
              0.5555555555555556,
              "#d8576b"
             ],
             [
              0.6666666666666666,
              "#ed7953"
             ],
             [
              0.7777777777777778,
              "#fb9f3a"
             ],
             [
              0.8888888888888888,
              "#fdca26"
             ],
             [
              1,
              "#f0f921"
             ]
            ],
            "type": "surface"
           }
          ],
          "table": [
           {
            "cells": {
             "fill": {
              "color": "#EBF0F8"
             },
             "line": {
              "color": "white"
             }
            },
            "header": {
             "fill": {
              "color": "#C8D4E3"
             },
             "line": {
              "color": "white"
             }
            },
            "type": "table"
           }
          ]
         },
         "layout": {
          "annotationdefaults": {
           "arrowcolor": "#2a3f5f",
           "arrowhead": 0,
           "arrowwidth": 1
          },
          "autotypenumbers": "strict",
          "coloraxis": {
           "colorbar": {
            "outlinewidth": 0,
            "ticks": ""
           }
          },
          "colorscale": {
           "diverging": [
            [
             0,
             "#8e0152"
            ],
            [
             0.1,
             "#c51b7d"
            ],
            [
             0.2,
             "#de77ae"
            ],
            [
             0.3,
             "#f1b6da"
            ],
            [
             0.4,
             "#fde0ef"
            ],
            [
             0.5,
             "#f7f7f7"
            ],
            [
             0.6,
             "#e6f5d0"
            ],
            [
             0.7,
             "#b8e186"
            ],
            [
             0.8,
             "#7fbc41"
            ],
            [
             0.9,
             "#4d9221"
            ],
            [
             1,
             "#276419"
            ]
           ],
           "sequential": [
            [
             0,
             "#0d0887"
            ],
            [
             0.1111111111111111,
             "#46039f"
            ],
            [
             0.2222222222222222,
             "#7201a8"
            ],
            [
             0.3333333333333333,
             "#9c179e"
            ],
            [
             0.4444444444444444,
             "#bd3786"
            ],
            [
             0.5555555555555556,
             "#d8576b"
            ],
            [
             0.6666666666666666,
             "#ed7953"
            ],
            [
             0.7777777777777778,
             "#fb9f3a"
            ],
            [
             0.8888888888888888,
             "#fdca26"
            ],
            [
             1,
             "#f0f921"
            ]
           ],
           "sequentialminus": [
            [
             0,
             "#0d0887"
            ],
            [
             0.1111111111111111,
             "#46039f"
            ],
            [
             0.2222222222222222,
             "#7201a8"
            ],
            [
             0.3333333333333333,
             "#9c179e"
            ],
            [
             0.4444444444444444,
             "#bd3786"
            ],
            [
             0.5555555555555556,
             "#d8576b"
            ],
            [
             0.6666666666666666,
             "#ed7953"
            ],
            [
             0.7777777777777778,
             "#fb9f3a"
            ],
            [
             0.8888888888888888,
             "#fdca26"
            ],
            [
             1,
             "#f0f921"
            ]
           ]
          },
          "colorway": [
           "#636efa",
           "#EF553B",
           "#00cc96",
           "#ab63fa",
           "#FFA15A",
           "#19d3f3",
           "#FF6692",
           "#B6E880",
           "#FF97FF",
           "#FECB52"
          ],
          "font": {
           "color": "#2a3f5f"
          },
          "geo": {
           "bgcolor": "white",
           "lakecolor": "white",
           "landcolor": "#E5ECF6",
           "showlakes": true,
           "showland": true,
           "subunitcolor": "white"
          },
          "hoverlabel": {
           "align": "left"
          },
          "hovermode": "closest",
          "mapbox": {
           "style": "light"
          },
          "paper_bgcolor": "white",
          "plot_bgcolor": "#E5ECF6",
          "polar": {
           "angularaxis": {
            "gridcolor": "white",
            "linecolor": "white",
            "ticks": ""
           },
           "bgcolor": "#E5ECF6",
           "radialaxis": {
            "gridcolor": "white",
            "linecolor": "white",
            "ticks": ""
           }
          },
          "scene": {
           "xaxis": {
            "backgroundcolor": "#E5ECF6",
            "gridcolor": "white",
            "gridwidth": 2,
            "linecolor": "white",
            "showbackground": true,
            "ticks": "",
            "zerolinecolor": "white"
           },
           "yaxis": {
            "backgroundcolor": "#E5ECF6",
            "gridcolor": "white",
            "gridwidth": 2,
            "linecolor": "white",
            "showbackground": true,
            "ticks": "",
            "zerolinecolor": "white"
           },
           "zaxis": {
            "backgroundcolor": "#E5ECF6",
            "gridcolor": "white",
            "gridwidth": 2,
            "linecolor": "white",
            "showbackground": true,
            "ticks": "",
            "zerolinecolor": "white"
           }
          },
          "shapedefaults": {
           "line": {
            "color": "#2a3f5f"
           }
          },
          "ternary": {
           "aaxis": {
            "gridcolor": "white",
            "linecolor": "white",
            "ticks": ""
           },
           "baxis": {
            "gridcolor": "white",
            "linecolor": "white",
            "ticks": ""
           },
           "bgcolor": "#E5ECF6",
           "caxis": {
            "gridcolor": "white",
            "linecolor": "white",
            "ticks": ""
           }
          },
          "title": {
           "x": 0.05
          },
          "xaxis": {
           "automargin": true,
           "gridcolor": "white",
           "linecolor": "white",
           "ticks": "",
           "title": {
            "standoff": 15
           },
           "zerolinecolor": "white",
           "zerolinewidth": 2
          },
          "yaxis": {
           "automargin": true,
           "gridcolor": "white",
           "linecolor": "white",
           "ticks": "",
           "title": {
            "standoff": 15
           },
           "zerolinecolor": "white",
           "zerolinewidth": 2
          }
         }
        },
        "xaxis": {
         "anchor": "y",
         "domain": [
          0,
          1
         ],
         "title": {
          "text": "component1"
         }
        },
        "yaxis": {
         "anchor": "x",
         "domain": [
          0,
          1
         ],
         "title": {
          "text": "component2"
         }
        }
       }
      }
     },
     "metadata": {},
     "output_type": "display_data"
    }
   ],
   "source": [
    "# run PCA\n",
    "pca = PCA()\n",
    "iqms_pca = pca.fit_transform(iqms_scaled)\n",
    "col_names_pca = [f\"component{i+1}\" for i in range(62)]\n",
    "iqms_pca = pd.DataFrame(iqms_pca, columns=col_names_pca)\n",
    "# plot PCA\n",
    "fig = px.scatter(iqms_pca, x=\"component1\", y=\"component2\", color=scores[\"condition\"])\n",
    "fig.show()"
   ]
  },
  {
   "cell_type": "code",
   "execution_count": null,
   "metadata": {},
   "outputs": [
    {
     "data": {
      "application/vnd.plotly.v1+json": {
       "config": {
        "plotlyServerURL": "https://plot.ly"
       },
       "data": [
        {
         "hovertemplate": "component1=%{x}<br>component2=%{y}<br>color=%{marker.color}<extra></extra>",
         "legendgroup": "",
         "marker": {
          "color": [
           2,
           3,
           1,
           3,
           3,
           1,
           3,
           3,
           1,
           3,
           3,
           1,
           2,
           3,
           1,
           2,
           2,
           1,
           2,
           3,
           2,
           2,
           3,
           1,
           2,
           3,
           1,
           3,
           3,
           1,
           3,
           2,
           1,
           3,
           3,
           1,
           3,
           3,
           2,
           2,
           2,
           1,
           2,
           2,
           1,
           3,
           1,
           3,
           3,
           1,
           1,
           3,
           1,
           3,
           3,
           1,
           2,
           3,
           1,
           3,
           3,
           1,
           2,
           2,
           1,
           1,
           3,
           1,
           3,
           1,
           3,
           3,
           1,
           3,
           3,
           1,
           1,
           2,
           1,
           3,
           3,
           1,
           3,
           3,
           1,
           3,
           3,
           2,
           2,
           3,
           1,
           3,
           3,
           2,
           3,
           1,
           3,
           3,
           1,
           2,
           3,
           1,
           3,
           3,
           1,
           2,
           2,
           1,
           2,
           3,
           1,
           3,
           3,
           1,
           2,
           3,
           1,
           2,
           1,
           1,
           2,
           1,
           1,
           3,
           3,
           1,
           3,
           3,
           2,
           3,
           3,
           1,
           3,
           3,
           2,
           3,
           3,
           1,
           2,
           3,
           1,
           3,
           2,
           2,
           3,
           1,
           3,
           3,
           1,
           2,
           3,
           1,
           2,
           3,
           2,
           3,
           3,
           1,
           3,
           3,
           2,
           3,
           3,
           1,
           2,
           2,
           1,
           2,
           2,
           1,
           3,
           3,
           1,
           3,
           3,
           2,
           3,
           3,
           1,
           3,
           3,
           1,
           2,
           3,
           1,
           3,
           3,
           1,
           3,
           2,
           1,
           3,
           1,
           3,
           3,
           1,
           2,
           2,
           2,
           2,
           3,
           1,
           2,
           3,
           1,
           3,
           3,
           2,
           3,
           3,
           1,
           2,
           3,
           1,
           1,
           2,
           1,
           2,
           3,
           1,
           3,
           3,
           2,
           2,
           3,
           1,
           3,
           3,
           2,
           2,
           3,
           1,
           3,
           3,
           2,
           1,
           1,
           1,
           3,
           3,
           1,
           2,
           3,
           1,
           2,
           3,
           1,
           3,
           3,
           2,
           3,
           3,
           1,
           3,
           3,
           2,
           3,
           2,
           2,
           2,
           1,
           2,
           2,
           2,
           2,
           3,
           1,
           2,
           3,
           2,
           2,
           3,
           2,
           3,
           3,
           1,
           3,
           3,
           3,
           3,
           1,
           3,
           3,
           1,
           2,
           3,
           1,
           2,
           3,
           2,
           3,
           3,
           1,
           3,
           3,
           1,
           2,
           3,
           1,
           3,
           3,
           1,
           2,
           3,
           1,
           2,
           3,
           1,
           3,
           3,
           1,
           3,
           3,
           1,
           2,
           3,
           1,
           2,
           1,
           3,
           3,
           1,
           2,
           3,
           1,
           3,
           3,
           1,
           3,
           3,
           1,
           2,
           3,
           1,
           3,
           3,
           1,
           2,
           3,
           1,
           3,
           3,
           1,
           3,
           3,
           2,
           2,
           3,
           1,
           3,
           3,
           1,
           3,
           3,
           1,
           2,
           3,
           2,
           3,
           3,
           1,
           2,
           2,
           1,
           1,
           2,
           1,
           3,
           3,
           1,
           3,
           2,
           2,
           3,
           3,
           1,
           3,
           3,
           1,
           3,
           3,
           1,
           2,
           2,
           1,
           2,
           3,
           1,
           3,
           3,
           1,
           3,
           3,
           1,
           3,
           3,
           1,
           3,
           3,
           1,
           2,
           2,
           2,
           2,
           3,
           1,
           2,
           3,
           1,
           3,
           3,
           1,
           3,
           3,
           1,
           3,
           3,
           1,
           2,
           2,
           2,
           3,
           3,
           1,
           2,
           3,
           1,
           2,
           2,
           1,
           2,
           2,
           1,
           3,
           3,
           1
          ],
          "coloraxis": "coloraxis",
          "symbol": "circle"
         },
         "mode": "markers",
         "name": "",
         "orientation": "v",
         "showlegend": false,
         "type": "scatter",
         "x": [
          -3.2449064043505373,
          2.241555100162124,
          -4.837443302350562,
          3.518954249159686,
          1.1197099844996157,
          -4.373940931323621,
          2.4239826882020727,
          5.168354009563898,
          -5.977271509267583,
          -0.7260045745887582,
          1.3715482575929614,
          -4.579759858124041,
          -1.102027452709111,
          -0.023159183664176422,
          -4.0955025964200455,
          -3.66422203347626,
          0.1073659481158781,
          -4.556278015544607,
          1.5369256959219315,
          11.228269856976242,
          -2.804771991626935,
          -3.2798530767563614,
          -0.9879903422973229,
          -4.656293014503606,
          -4.7999926566563005,
          12.589698023261976,
          -5.478396912113831,
          3.4935203893489213,
          7.160576640644055,
          -4.420647622801961,
          2.269846235993561,
          2.958446400171838,
          -6.118371692230082,
          -0.5569972074605067,
          1.6267645304212377,
          -5.61929536071816,
          4.816183549410457,
          9.912277402527247,
          -6.558644284562357,
          -2.095480812334927,
          5.439446410895422,
          -4.867277517020829,
          -3.1725607061341687,
          -1.0524523623695066,
          -5.780307846161016,
          12.471782886881245,
          -4.458251426393712,
          2.182312977499437,
          3.648627801275447,
          -5.900259472556174,
          -4.721809981561186,
          -1.3208163688876688,
          -5.93562919723515,
          1.516853056565911,
          6.264683783441018,
          -4.642822488499347,
          -2.361742128718311,
          4.362632895793579,
          -5.137382960762376,
          -3.0080179230811086,
          -0.14592620493967012,
          -4.820501136489374,
          -1.5174278366701233,
          6.625958834879936,
          -4.697942403232321,
          -1.4257308562038982,
          2.5161764528707957,
          -4.1056360483385825,
          9.591911836362382,
          -4.930694996454965,
          6.8897006734747706,
          11.127191731346725,
          -4.647916898781416,
          8.532221078205929,
          12.171747416822534,
          -3.7452839218338045,
          -5.665233911892813,
          -4.303020719044169,
          -5.85588048877293,
          -2.677572324502625,
          -0.2443539001773187,
          -5.308408708403035,
          10.782933384277852,
          4.214185416833668,
          -4.213585235734043,
          3.872911012207142,
          10.986638898352435,
          -2.8100063986871757,
          -3.1794490524515164,
          -0.36332184981310717,
          -5.376104654293226,
          13.054362834721115,
          9.274957901098016,
          -4.505198441324393,
          6.9103143052006635,
          -6.251226200334751,
          4.9131593921154115,
          9.951871794324065,
          -4.610861292182591,
          -1.8011940254341545,
          6.608344776352033,
          -4.647265677803896,
          3.6900605123179857,
          10.419185167125866,
          -5.458966844619002,
          -1.7463347661474766,
          -2.3534305669399056,
          -3.2690880714842043,
          -3.2651018113439267,
          -2.0983395771090723,
          -4.572669893054735,
          2.846272583433232,
          8.823179823986008,
          -4.068521036939255,
          -2.941209182458151,
          1.4484953996367798,
          -4.92066152379944,
          -4.216150465674412,
          -2.736895099685318,
          -6.284885506772223,
          -1.1421235283076692,
          -1.2204097586984266,
          -4.709853624054756,
          -1.2034753699932486,
          3.8774331066049617,
          -4.655484800867777,
          -1.8979145123891719,
          0.27620040086694786,
          -5.023623060895887,
          -1.333082151209296,
          2.1422494136242247,
          -5.39938593433145,
          8.560989506255988,
          5.829900984467851,
          -4.419307603863327,
          -1.125481978283586,
          7.925625460503616,
          -4.632435287576,
          -2.4284366347983286,
          1.531982921894277,
          -4.854495937108457,
          11.105633036360164,
          -3.6013983249056727,
          2.086727662196321,
          10.96617940734001,
          -4.724787729191364,
          2.559076360829053,
          9.279022095698924,
          -4.589958145160461,
          -1.6886374819179244,
          3.9521220113309736,
          -4.832195918942881,
          -2.3869841215199172,
          3.7484701194826324,
          -5.15930423968898,
          6.450057935641493,
          10.47873916650208,
          -4.374977064453239,
          -3.3389054335286876,
          0.18026699460066717,
          -6.638855490313831,
          1.1610968625742422,
          -0.35973163360080584,
          -5.107148078183782,
          -1.8572291161263346,
          -1.1415247977383127,
          -5.384425960726914,
          -2.380016896554278,
          -0.6960722176744897,
          -5.1080111780817425,
          3.410125748000005,
          5.895206024149332,
          -3.1929190415223805,
          3.661627783628095,
          4.807658070474405,
          -4.141229170876272,
          7.690539021686589,
          8.933774775103643,
          -5.120902001916552,
          -2.4515622172444917,
          -1.6503033923579578,
          -6.5828247936453606,
          -1.598202885642945,
          3.4612034916785244,
          -5.025591714625474,
          6.149681013529698,
          16.22472004979641,
          -4.300543523677224,
          -0.05337410251803061,
          -4.882918494172661,
          -3.666894878179841,
          9.5712428678219,
          -4.558825517000395,
          1.920093286018891,
          9.194590814887263,
          -3.7210860240976995,
          -2.6536681894334797,
          1.3704760215163327,
          -4.861261709005236,
          -4.242881451004095,
          -1.379420057714475,
          -6.2074017537069786,
          0.622711940010106,
          6.848345313026113,
          -4.261713326590104,
          -1.16188901692381,
          -0.9592006672302891,
          -5.254197528820612,
          10.983804943946206,
          9.97973599450362,
          -4.445162663180424,
          3.010179625091959,
          11.152327489068545,
          -4.73879563713019,
          -3.5714466565540626,
          -0.4483650802974824,
          -3.4819103114240115,
          -2.078090757121294,
          2.2314849878189573,
          -5.568403876151805,
          7.547180438478277,
          2.3219504026547684,
          -3.966762949000298,
          -2.434567295607312,
          9.242416294123078,
          -4.429754069212827,
          -0.5518703174121115,
          8.748783005367446,
          -6.782518192020408,
          0.58692462090207,
          9.831279846548536,
          -4.828100400763226,
          5.238842181977452,
          1.5587237925653619,
          -4.301998236616227,
          -4.521117599246566,
          -2.9546283661976918,
          -5.415055291823599,
          0.39861761101678983,
          5.659061402235193,
          -3.638431458537724,
          -0.03890190344427693,
          2.3058631975062562,
          -5.537020699764486,
          0.32592847401180114,
          7.138537480317741,
          -4.905577700060823,
          3.595642093293516,
          8.402982803131371,
          -5.714487456018005,
          1.34358765514207,
          9.503296398470793,
          -3.93409002071959,
          3.3951826271502235,
          4.681800805989152,
          -4.898750618811776,
          3.367463346225485,
          -3.572333573322221,
          -3.8668108807104633,
          -2.8466604686492722,
          -5.380336998437038,
          -3.277244074284263,
          -0.4657019665147855,
          -5.866799443358439,
          1.672442714811734,
          10.934265934469982,
          -5.023504856215985,
          0.8469188730971933,
          4.241022607648847,
          -3.6325303735574406,
          -0.6770640529524349,
          0.7787001759470847,
          -5.124333243745331,
          -0.13515071043700272,
          8.095154771713128,
          -5.824639884726664,
          12.915038348604984,
          -0.6921831060804022,
          -1.0829619124357317,
          4.974016809199111,
          -4.730234007604722,
          8.453753534487628,
          9.854385057720124,
          -5.464090024194673,
          -2.9851177002884985,
          1.5147556818230576,
          -4.950293695807533,
          -2.8571443840078126,
          -3.0586394344807224,
          -6.975160165022636,
          5.6688975070153615,
          14.735018544498669,
          -3.9472406446392747,
          1.269702051455638,
          4.191688957604445,
          -4.931882593085244,
          -0.48093881209233663,
          5.656256401322801,
          -5.081044147884301,
          -2.6047025789533516,
          2.8891507746617258,
          -5.668592870661297,
          -0.021355269564143325,
          5.508976415369358,
          -3.9946696943550353,
          -3.0618511038023857,
          -1.3223943491411412,
          -4.739285926100973,
          0.17540616613970966,
          2.8679701904545127,
          -5.139502420275415,
          1.933802815873088,
          5.439016792320082,
          -5.335353707234898,
          0.6061205392871062,
          4.431463972544366,
          -4.675467232709287,
          -2.5970635764529635,
          -3.7275052055094435,
          6.092137993637487,
          11.37470761305705,
          -3.791237706901983,
          -2.528983606098061,
          1.062774830144392,
          -4.6129969851284045,
          -0.23249183964074013,
          3.22224043761511,
          -4.731458063452951,
          6.966391987720676,
          4.026147978057232,
          -5.74344395096765,
          1.6789366826631296,
          3.3082698724873,
          -4.956597365184158,
          -2.428893832879494,
          1.8118625770287409,
          -5.423525305305229,
          -0.9895712728142225,
          10.381104598865793,
          -5.12751206609588,
          2.1660908106227286,
          7.901192277035863,
          -4.642881339047606,
          -2.017533894967464,
          2.3922283914551894,
          -4.633444142156062,
          -2.0957261864002743,
          4.307013674028452,
          -4.839406260859581,
          -0.9193231494316514,
          5.220036648010958,
          -5.481966809339409,
          4.083420067491812,
          3.082210640157895,
          -4.713037112294049,
          1.8256737921842419,
          7.752235346170755,
          -2.5637476018808223,
          3.138339287063509,
          11.87748426552485,
          -4.771994012949556,
          -2.9165203622679163,
          -2.0540826752791883,
          -4.797675725758685,
          -5.63536602847306,
          -4.2469633817901045,
          -5.86799564978755,
          2.4864541771951716,
          7.797255631903864,
          -3.412158155816344,
          -0.43120030297948597,
          1.6406794840407848,
          -5.985437399142995,
          4.326234430272531,
          6.521146931723164,
          -5.460162953277847,
          -0.1992213955092785,
          1.9931284520057782,
          -5.434748516325533,
          -0.5806223630041659,
          5.963657998452373,
          -4.803830765072884,
          -3.7714392669327643,
          4.037426408667849,
          -4.901410431714535,
          -1.5914130316184063,
          0.795730983203566,
          -4.256549382344972,
          1.2971467781417139,
          7.387501884742086,
          -4.668514751609313,
          2.4468580250552705,
          3.6380972219324197,
          -4.430381188830242,
          1.1868775073646087,
          5.234447091648038,
          -5.683330912681511,
          -0.8189746541733833,
          3.0794152421078476,
          -5.551042143810851,
          -3.520934083142549,
          -3.1494731017391255,
          -5.470111431598369,
          -2.22199430350348,
          3.8524884162471533,
          -5.116723005661666,
          -0.9758806255160103,
          4.980046981236782,
          -5.148131611642774,
          9.107422348245757,
          8.112795972713663,
          -4.344405059159214,
          5.545995232343503,
          2.490315588356116,
          -4.869920031446792,
          4.023187146562172,
          9.184342200687155,
          -5.302161257176592,
          -2.571118097201445,
          -1.0048276418340085,
          -2.9453753475068467,
          -2.253056337949153,
          0.8294466232041003,
          -5.0160040942140895,
          1.4088190409615522,
          11.145241395859644,
          -4.214352215260624,
          -2.054941867530057,
          -1.0581156766200277,
          -4.537183758991877,
          -3.832604464530869,
          0.09203009236984663,
          -4.368624487723762,
          0.7002155249125473,
          4.734529702997316,
          -4.703417808120764
         ],
         "xaxis": "x",
         "y": [
          -0.9953309813541391,
          -2.0969605186315854,
          -1.119250948163337,
          -1.7625339114600405,
          -1.7648475874824348,
          -1.964861054664302,
          0.9973806960630256,
          1.373929608124477,
          -0.8195072667370388,
          -1.2648060338621094,
          -1.453457527492469,
          -2.190173252270969,
          3.1829887531255174,
          1.9666009813879228,
          1.7623316995849447,
          3.769418976788055,
          3.5067874723789956,
          3.3336870602366657,
          -2.072022336447717,
          -1.9540193375820933,
          -3.48663687491249,
          -0.26060033039271224,
          0.13290209782127135,
          -0.467755580122767,
          -0.9467879318017846,
          -3.3611197833719397,
          -1.1584737663943245,
          -0.28120248881188015,
          -1.103368744825809,
          0.19485378337073325,
          -3.0952011294921156,
          -4.220293127788019,
          -5.410900983427829,
          0.36391737668864527,
          0.8590583137202119,
          -0.8049765655616278,
          1.3308730032777054,
          0.9929564362572008,
          -0.012248022753427956,
          -0.7668672050879968,
          -0.6303149374741317,
          -1.247775340710483,
          1.1344970299689456,
          1.2313524219664067,
          0.00888246142317743,
          1.552520047579393,
          -1.5542337403951783,
          7.143208300389743,
          6.8827809239655,
          6.366486899398465,
          1.9196857797207143,
          2.0272689545018543,
          0.9790785076278593,
          -2.9502220310608505,
          -3.520916035116162,
          -3.534733984582808,
          -1.5412785039091317,
          -2.738422847274741,
          -2.7429083986776415,
          -3.429194635537237,
          -3.1772909822412423,
          -3.2856398124638164,
          -1.8003321384266504,
          -1.3663348501744188,
          -2.278601617026382,
          -1.2785066619700638,
          -0.7215675887827487,
          -1.9057307358648725,
          2.3782635364285984,
          1.283263249792392,
          -1.582529498863938,
          -1.4928029427601668,
          -1.1955944655030346,
          -2.82152556045242,
          -1.2523147683920521,
          -1.5587276974574624,
          -1.0016088602961848,
          -0.5990709069433464,
          -1.5460112594987192,
          0.34309128746044226,
          1.3005924845811458,
          0.339924665627874,
          -4.95358004538175,
          -2.339896360971656,
          -1.4955289279886188,
          -2.91172838484181,
          -2.075093782381241,
          -1.9883104308245576,
          0.3253677813021614,
          -0.2280595048702579,
          -1.5548412606142674,
          -3.7247329561696714,
          -2.939471727493853,
          -1.6242454239215673,
          1.1159969446648554,
          2.0238519938082637,
          1.8740634034866361,
          0.2830896329940122,
          -0.053678130417267156,
          0.5244732129663682,
          0.4657777195402331,
          -0.660570152680591,
          2.5313732352392577,
          2.983137069631044,
          0.6333083718392055,
          2.39561092557401,
          2.4462028530848574,
          2.0158746727391295,
          -0.29071142313825504,
          -0.12887549553217678,
          -1.0495596494543817,
          -0.8506811967324172,
          -0.32422755957208865,
          -0.5841136610815767,
          0.05148680994263997,
          -1.381147696193498,
          -1.3135918976111296,
          4.570581019679529,
          4.871802988390405,
          4.760620370565165,
          0.243617699329098,
          0.3532545980857042,
          0.23728905525981892,
          3.9253963398645686,
          4.187610814379618,
          3.1318009543746452,
          -0.8523292745028155,
          -0.42940039088133924,
          -1.4339575999287868,
          -0.8541535160724248,
          -0.25119806831339886,
          -0.8810342534437783,
          -1.0090206048997703,
          -1.4826962212782633,
          -0.1550432397873076,
          0.29268541106947477,
          -0.9776626611934519,
          -0.11293155913735772,
          -0.6636812616533236,
          -0.5915721318831931,
          -1.6191287966016088,
          0.41027128809056956,
          -2.283823587796069,
          -1.623380966716171,
          -1.8318055969633567,
          -2.492972127491365,
          -0.8458632118863837,
          -0.20754266141333985,
          -2.0617846793062813,
          -0.6494861123616855,
          -0.5810211635831675,
          -1.9085717196010534,
          -0.7153497899586679,
          0.10796060048299033,
          -1.3883374293390547,
          3.6622456022497274,
          3.1506016043233918,
          3.335784432381917,
          2.38358123372655,
          2.3222584936692696,
          1.6795105363268543,
          6.138661057736287,
          6.14018065070934,
          5.028533274805471,
          0.452924686862143,
          -0.03678701571596335,
          -0.43355248655423784,
          -0.028991448503079057,
          0.21538458549014988,
          0.012926543981141438,
          -1.3097130437126097,
          -2.1722213853081125,
          -3.8048846837557564,
          0.0386987548833719,
          -1.1256572806552816,
          -0.8498914936565904,
          -0.06296308699018355,
          -1.4265289286553433,
          -0.907908640306584,
          0.563131748412634,
          0.5329604428714146,
          -0.7266776764708843,
          0.9431784167878056,
          0.8532643206933321,
          0.5900521597771026,
          1.5508672443601643,
          1.1665636181715562,
          0.627199835231797,
          2.002464232868293,
          0.9987406368708781,
          -1.787835444712802,
          -1.1049361808300375,
          -1.9100906912470308,
          -0.19664037319576208,
          -1.95143204502153,
          -1.4533873919335916,
          -0.05817852193442193,
          -0.19126095627809825,
          -1.0202771465392608,
          3.51866576796707,
          4.118288187082661,
          3.2178032198238773,
          2.5010204734784653,
          2.88716457772542,
          2.497356977868797,
          0.24499062208136957,
          0.5163680675614138,
          -0.12227796167765341,
          -3.305729168019696,
          -3.213035262245931,
          -1.6976606822687315,
          -1.2872180724034692,
          0.0797779008735621,
          -2.6869499386511793,
          0.10092326383008107,
          0.057649354648094245,
          0.1727413818539175,
          2.7044842389343215,
          1.1535440508799895,
          1.4221236205042396,
          -2.660316243935094,
          -1.5367027738963421,
          -1.8838850395893367,
          0.7413656811277797,
          1.9394251678757635,
          0.012365443446577638,
          5.142163090241618,
          4.227591252924831,
          3.3671742081197755,
          -0.8790506155062094,
          0.2072346984641044,
          -1.6346085160164123,
          1.2483880197885762,
          -0.05875308107187921,
          -0.8403056810951234,
          -2.5146035173989723,
          -3.0843556962153302,
          -3.1573105094545135,
          -2.921221827614477,
          -3.034973505355449,
          -2.958530853880663,
          1.3593609204194843,
          0.7780116905919705,
          0.6049315361174973,
          -0.10756269013071768,
          -0.4262046017221942,
          -0.798608154981096,
          -4.3462044429980695,
          -4.719702831700617,
          -4.905968906863739,
          -2.6569584592003763,
          -3.909501086740474,
          -3.24658020238121,
          4.81277606669444,
          4.420013245630112,
          4.389578576634962,
          2.2872986384737084,
          1.4468733971281038,
          -1.466765308231561,
          -1.9116397628425341,
          -2.225101339727055,
          1.0647192125048215,
          1.6512709846731461,
          0.01033469478877757,
          0.8077708678656522,
          1.4962045846048042,
          -1.0796522385530198,
          -1.9369743411661615,
          -0.9341448973398858,
          -2.6455104361905497,
          1.0220609231385895,
          0.5224883248462139,
          0.007437137075278919,
          4.472977613371609,
          4.709505144011599,
          3.50771610938521,
          10.50643870240278,
          9.93933008749662,
          -0.8937103880183849,
          -1.4367922810733436,
          -2.0566198147608237,
          -4.2794279661061045,
          -6.887678217162335,
          -3.12959266274887,
          -2.121209993020295,
          -1.3811345174122627,
          -2.7425343493926193,
          5.07733289702765,
          4.43790398293906,
          4.479205639555736,
          5.490327544145136,
          5.372047722143835,
          0.3919574434497735,
          5.2396729050195345,
          3.8395678962018462,
          4.766473928117027,
          0.19498002833187317,
          -1.1119956748625268,
          -1.1844426282003588,
          0.28877359561295474,
          -0.2405095079634183,
          -0.8521762814438835,
          0.0898554610220875,
          -0.9900971426856884,
          0.013845149826374546,
          0.8004792430289668,
          0.8699150299208063,
          0.06935536295748466,
          3.702132817465885,
          4.76902753954103,
          4.154803271440415,
          -0.27885682593922767,
          -0.04050792904136454,
          -1.218608228922504,
          -2.0709491310420556,
          -1.5097545493683506,
          -2.996600209544424,
          0.6639315146142045,
          0.3390918544274479,
          -3.1475213211105664,
          -2.836591213789597,
          -3.4794967121990226,
          -3.7721548670225387,
          -4.435261633998122,
          -5.107264616982687,
          -2.111561594376252,
          -2.3978918515879237,
          -2.780296794589999,
          2.1114924647541846,
          2.82434389419836,
          0.3064029498243167,
          -1.3578200677784953,
          -1.157135940396519,
          -3.388262452592732,
          5.565862445818434,
          4.579532129837924,
          4.702977792680225,
          4.723041022224374,
          4.294795538163668,
          3.023344903270076,
          -1.5866503314093428,
          -2.612037450792088,
          -2.188814672562124,
          -2.3045927881292063,
          -1.756056655576324,
          -2.6576585086099542,
          0.8394493433370831,
          1.27737999983732,
          0.7491040015289483,
          2.7483217086456375,
          0.8318132156238418,
          1.8171451069511486,
          -1.555517823857546,
          -1.3950095451674254,
          -1.3458265990789047,
          -1.4435197881396273,
          -2.9221750912003537,
          -2.593142591837037,
          1.3342613301304163,
          2.093330435098875,
          1.6522038356305524,
          0.7399750117521319,
          -0.16736477927413718,
          -0.2735583019027842,
          0.27813928854874875,
          0.6023033220023761,
          0.0383224708594937,
          -0.7402518362726838,
          -0.20208230190782014,
          -1.0346494614869237,
          -0.3413193449187444,
          -0.3536072230343323,
          -2.2138952152703224,
          1.5332034267166192,
          1.7313720234919039,
          0.7399989843202361,
          3.2614492474347507,
          2.30342299300818,
          2.6202993459101043,
          3.2811089215505356,
          3.2057047147521907,
          1.875257916364319,
          -0.419510836350186,
          -0.28835393313105734,
          -1.3536768846939753,
          -2.5391444192753765,
          -3.024892129487082,
          -3.3638060071238773,
          0.5053602674107768,
          1.2816796476997558,
          0.8373729352640669,
          -1.8525474943530513,
          -1.52485122402677,
          -3.0401380168152903,
          7.395648452651499,
          6.16175762442651,
          4.657603662141251,
          1.2555692037574926,
          0.4026558252374418,
          1.2008076811027204,
          -3.655495302537165,
          -3.55590051466846,
          -4.024192560880142,
          0.23652733687737237,
          -0.533601219015125,
          -0.5347221335030279,
          -1.560873876843768,
          -1.8948172348180714,
          -2.2986859657862557,
          -1.1320661170183848,
          -1.5091636294944528,
          -2.7631862832615863,
          2.433312046128707,
          2.5303101687125666,
          1.5630540052545614,
          -2.603470884010779,
          -2.530954225083277,
          -3.872528583734412,
          1.0776223841478896,
          1.3176199340638066,
          1.2860597225674737,
          2.4024599805305966,
          1.481591274949671,
          1.0573637269264393,
          -4.028899408170821,
          -3.4367234644375264,
          -4.797930614705275,
          -2.6858921119279255,
          -2.7167570770247296,
          -2.7099187317454696,
          5.0840109023215305,
          5.700787902155301,
          4.997569576701149,
          0.8408549739457797,
          0.37428507131494165,
          0.12962618400622655
         ],
         "yaxis": "y"
        }
       ],
       "layout": {
        "coloraxis": {
         "colorbar": {
          "title": {
           "text": "color"
          }
         },
         "colorscale": [
          [
           0,
           "#0d0887"
          ],
          [
           0.1111111111111111,
           "#46039f"
          ],
          [
           0.2222222222222222,
           "#7201a8"
          ],
          [
           0.3333333333333333,
           "#9c179e"
          ],
          [
           0.4444444444444444,
           "#bd3786"
          ],
          [
           0.5555555555555556,
           "#d8576b"
          ],
          [
           0.6666666666666666,
           "#ed7953"
          ],
          [
           0.7777777777777778,
           "#fb9f3a"
          ],
          [
           0.8888888888888888,
           "#fdca26"
          ],
          [
           1,
           "#f0f921"
          ]
         ]
        },
        "legend": {
         "tracegroupgap": 0
        },
        "margin": {
         "t": 60
        },
        "template": {
         "data": {
          "bar": [
           {
            "error_x": {
             "color": "#2a3f5f"
            },
            "error_y": {
             "color": "#2a3f5f"
            },
            "marker": {
             "line": {
              "color": "#E5ECF6",
              "width": 0.5
             },
             "pattern": {
              "fillmode": "overlay",
              "size": 10,
              "solidity": 0.2
             }
            },
            "type": "bar"
           }
          ],
          "barpolar": [
           {
            "marker": {
             "line": {
              "color": "#E5ECF6",
              "width": 0.5
             },
             "pattern": {
              "fillmode": "overlay",
              "size": 10,
              "solidity": 0.2
             }
            },
            "type": "barpolar"
           }
          ],
          "carpet": [
           {
            "aaxis": {
             "endlinecolor": "#2a3f5f",
             "gridcolor": "white",
             "linecolor": "white",
             "minorgridcolor": "white",
             "startlinecolor": "#2a3f5f"
            },
            "baxis": {
             "endlinecolor": "#2a3f5f",
             "gridcolor": "white",
             "linecolor": "white",
             "minorgridcolor": "white",
             "startlinecolor": "#2a3f5f"
            },
            "type": "carpet"
           }
          ],
          "choropleth": [
           {
            "colorbar": {
             "outlinewidth": 0,
             "ticks": ""
            },
            "type": "choropleth"
           }
          ],
          "contour": [
           {
            "colorbar": {
             "outlinewidth": 0,
             "ticks": ""
            },
            "colorscale": [
             [
              0,
              "#0d0887"
             ],
             [
              0.1111111111111111,
              "#46039f"
             ],
             [
              0.2222222222222222,
              "#7201a8"
             ],
             [
              0.3333333333333333,
              "#9c179e"
             ],
             [
              0.4444444444444444,
              "#bd3786"
             ],
             [
              0.5555555555555556,
              "#d8576b"
             ],
             [
              0.6666666666666666,
              "#ed7953"
             ],
             [
              0.7777777777777778,
              "#fb9f3a"
             ],
             [
              0.8888888888888888,
              "#fdca26"
             ],
             [
              1,
              "#f0f921"
             ]
            ],
            "type": "contour"
           }
          ],
          "contourcarpet": [
           {
            "colorbar": {
             "outlinewidth": 0,
             "ticks": ""
            },
            "type": "contourcarpet"
           }
          ],
          "heatmap": [
           {
            "colorbar": {
             "outlinewidth": 0,
             "ticks": ""
            },
            "colorscale": [
             [
              0,
              "#0d0887"
             ],
             [
              0.1111111111111111,
              "#46039f"
             ],
             [
              0.2222222222222222,
              "#7201a8"
             ],
             [
              0.3333333333333333,
              "#9c179e"
             ],
             [
              0.4444444444444444,
              "#bd3786"
             ],
             [
              0.5555555555555556,
              "#d8576b"
             ],
             [
              0.6666666666666666,
              "#ed7953"
             ],
             [
              0.7777777777777778,
              "#fb9f3a"
             ],
             [
              0.8888888888888888,
              "#fdca26"
             ],
             [
              1,
              "#f0f921"
             ]
            ],
            "type": "heatmap"
           }
          ],
          "heatmapgl": [
           {
            "colorbar": {
             "outlinewidth": 0,
             "ticks": ""
            },
            "colorscale": [
             [
              0,
              "#0d0887"
             ],
             [
              0.1111111111111111,
              "#46039f"
             ],
             [
              0.2222222222222222,
              "#7201a8"
             ],
             [
              0.3333333333333333,
              "#9c179e"
             ],
             [
              0.4444444444444444,
              "#bd3786"
             ],
             [
              0.5555555555555556,
              "#d8576b"
             ],
             [
              0.6666666666666666,
              "#ed7953"
             ],
             [
              0.7777777777777778,
              "#fb9f3a"
             ],
             [
              0.8888888888888888,
              "#fdca26"
             ],
             [
              1,
              "#f0f921"
             ]
            ],
            "type": "heatmapgl"
           }
          ],
          "histogram": [
           {
            "marker": {
             "pattern": {
              "fillmode": "overlay",
              "size": 10,
              "solidity": 0.2
             }
            },
            "type": "histogram"
           }
          ],
          "histogram2d": [
           {
            "colorbar": {
             "outlinewidth": 0,
             "ticks": ""
            },
            "colorscale": [
             [
              0,
              "#0d0887"
             ],
             [
              0.1111111111111111,
              "#46039f"
             ],
             [
              0.2222222222222222,
              "#7201a8"
             ],
             [
              0.3333333333333333,
              "#9c179e"
             ],
             [
              0.4444444444444444,
              "#bd3786"
             ],
             [
              0.5555555555555556,
              "#d8576b"
             ],
             [
              0.6666666666666666,
              "#ed7953"
             ],
             [
              0.7777777777777778,
              "#fb9f3a"
             ],
             [
              0.8888888888888888,
              "#fdca26"
             ],
             [
              1,
              "#f0f921"
             ]
            ],
            "type": "histogram2d"
           }
          ],
          "histogram2dcontour": [
           {
            "colorbar": {
             "outlinewidth": 0,
             "ticks": ""
            },
            "colorscale": [
             [
              0,
              "#0d0887"
             ],
             [
              0.1111111111111111,
              "#46039f"
             ],
             [
              0.2222222222222222,
              "#7201a8"
             ],
             [
              0.3333333333333333,
              "#9c179e"
             ],
             [
              0.4444444444444444,
              "#bd3786"
             ],
             [
              0.5555555555555556,
              "#d8576b"
             ],
             [
              0.6666666666666666,
              "#ed7953"
             ],
             [
              0.7777777777777778,
              "#fb9f3a"
             ],
             [
              0.8888888888888888,
              "#fdca26"
             ],
             [
              1,
              "#f0f921"
             ]
            ],
            "type": "histogram2dcontour"
           }
          ],
          "mesh3d": [
           {
            "colorbar": {
             "outlinewidth": 0,
             "ticks": ""
            },
            "type": "mesh3d"
           }
          ],
          "parcoords": [
           {
            "line": {
             "colorbar": {
              "outlinewidth": 0,
              "ticks": ""
             }
            },
            "type": "parcoords"
           }
          ],
          "pie": [
           {
            "automargin": true,
            "type": "pie"
           }
          ],
          "scatter": [
           {
            "fillpattern": {
             "fillmode": "overlay",
             "size": 10,
             "solidity": 0.2
            },
            "type": "scatter"
           }
          ],
          "scatter3d": [
           {
            "line": {
             "colorbar": {
              "outlinewidth": 0,
              "ticks": ""
             }
            },
            "marker": {
             "colorbar": {
              "outlinewidth": 0,
              "ticks": ""
             }
            },
            "type": "scatter3d"
           }
          ],
          "scattercarpet": [
           {
            "marker": {
             "colorbar": {
              "outlinewidth": 0,
              "ticks": ""
             }
            },
            "type": "scattercarpet"
           }
          ],
          "scattergeo": [
           {
            "marker": {
             "colorbar": {
              "outlinewidth": 0,
              "ticks": ""
             }
            },
            "type": "scattergeo"
           }
          ],
          "scattergl": [
           {
            "marker": {
             "colorbar": {
              "outlinewidth": 0,
              "ticks": ""
             }
            },
            "type": "scattergl"
           }
          ],
          "scattermapbox": [
           {
            "marker": {
             "colorbar": {
              "outlinewidth": 0,
              "ticks": ""
             }
            },
            "type": "scattermapbox"
           }
          ],
          "scatterpolar": [
           {
            "marker": {
             "colorbar": {
              "outlinewidth": 0,
              "ticks": ""
             }
            },
            "type": "scatterpolar"
           }
          ],
          "scatterpolargl": [
           {
            "marker": {
             "colorbar": {
              "outlinewidth": 0,
              "ticks": ""
             }
            },
            "type": "scatterpolargl"
           }
          ],
          "scatterternary": [
           {
            "marker": {
             "colorbar": {
              "outlinewidth": 0,
              "ticks": ""
             }
            },
            "type": "scatterternary"
           }
          ],
          "surface": [
           {
            "colorbar": {
             "outlinewidth": 0,
             "ticks": ""
            },
            "colorscale": [
             [
              0,
              "#0d0887"
             ],
             [
              0.1111111111111111,
              "#46039f"
             ],
             [
              0.2222222222222222,
              "#7201a8"
             ],
             [
              0.3333333333333333,
              "#9c179e"
             ],
             [
              0.4444444444444444,
              "#bd3786"
             ],
             [
              0.5555555555555556,
              "#d8576b"
             ],
             [
              0.6666666666666666,
              "#ed7953"
             ],
             [
              0.7777777777777778,
              "#fb9f3a"
             ],
             [
              0.8888888888888888,
              "#fdca26"
             ],
             [
              1,
              "#f0f921"
             ]
            ],
            "type": "surface"
           }
          ],
          "table": [
           {
            "cells": {
             "fill": {
              "color": "#EBF0F8"
             },
             "line": {
              "color": "white"
             }
            },
            "header": {
             "fill": {
              "color": "#C8D4E3"
             },
             "line": {
              "color": "white"
             }
            },
            "type": "table"
           }
          ]
         },
         "layout": {
          "annotationdefaults": {
           "arrowcolor": "#2a3f5f",
           "arrowhead": 0,
           "arrowwidth": 1
          },
          "autotypenumbers": "strict",
          "coloraxis": {
           "colorbar": {
            "outlinewidth": 0,
            "ticks": ""
           }
          },
          "colorscale": {
           "diverging": [
            [
             0,
             "#8e0152"
            ],
            [
             0.1,
             "#c51b7d"
            ],
            [
             0.2,
             "#de77ae"
            ],
            [
             0.3,
             "#f1b6da"
            ],
            [
             0.4,
             "#fde0ef"
            ],
            [
             0.5,
             "#f7f7f7"
            ],
            [
             0.6,
             "#e6f5d0"
            ],
            [
             0.7,
             "#b8e186"
            ],
            [
             0.8,
             "#7fbc41"
            ],
            [
             0.9,
             "#4d9221"
            ],
            [
             1,
             "#276419"
            ]
           ],
           "sequential": [
            [
             0,
             "#0d0887"
            ],
            [
             0.1111111111111111,
             "#46039f"
            ],
            [
             0.2222222222222222,
             "#7201a8"
            ],
            [
             0.3333333333333333,
             "#9c179e"
            ],
            [
             0.4444444444444444,
             "#bd3786"
            ],
            [
             0.5555555555555556,
             "#d8576b"
            ],
            [
             0.6666666666666666,
             "#ed7953"
            ],
            [
             0.7777777777777778,
             "#fb9f3a"
            ],
            [
             0.8888888888888888,
             "#fdca26"
            ],
            [
             1,
             "#f0f921"
            ]
           ],
           "sequentialminus": [
            [
             0,
             "#0d0887"
            ],
            [
             0.1111111111111111,
             "#46039f"
            ],
            [
             0.2222222222222222,
             "#7201a8"
            ],
            [
             0.3333333333333333,
             "#9c179e"
            ],
            [
             0.4444444444444444,
             "#bd3786"
            ],
            [
             0.5555555555555556,
             "#d8576b"
            ],
            [
             0.6666666666666666,
             "#ed7953"
            ],
            [
             0.7777777777777778,
             "#fb9f3a"
            ],
            [
             0.8888888888888888,
             "#fdca26"
            ],
            [
             1,
             "#f0f921"
            ]
           ]
          },
          "colorway": [
           "#636efa",
           "#EF553B",
           "#00cc96",
           "#ab63fa",
           "#FFA15A",
           "#19d3f3",
           "#FF6692",
           "#B6E880",
           "#FF97FF",
           "#FECB52"
          ],
          "font": {
           "color": "#2a3f5f"
          },
          "geo": {
           "bgcolor": "white",
           "lakecolor": "white",
           "landcolor": "#E5ECF6",
           "showlakes": true,
           "showland": true,
           "subunitcolor": "white"
          },
          "hoverlabel": {
           "align": "left"
          },
          "hovermode": "closest",
          "mapbox": {
           "style": "light"
          },
          "paper_bgcolor": "white",
          "plot_bgcolor": "#E5ECF6",
          "polar": {
           "angularaxis": {
            "gridcolor": "white",
            "linecolor": "white",
            "ticks": ""
           },
           "bgcolor": "#E5ECF6",
           "radialaxis": {
            "gridcolor": "white",
            "linecolor": "white",
            "ticks": ""
           }
          },
          "scene": {
           "xaxis": {
            "backgroundcolor": "#E5ECF6",
            "gridcolor": "white",
            "gridwidth": 2,
            "linecolor": "white",
            "showbackground": true,
            "ticks": "",
            "zerolinecolor": "white"
           },
           "yaxis": {
            "backgroundcolor": "#E5ECF6",
            "gridcolor": "white",
            "gridwidth": 2,
            "linecolor": "white",
            "showbackground": true,
            "ticks": "",
            "zerolinecolor": "white"
           },
           "zaxis": {
            "backgroundcolor": "#E5ECF6",
            "gridcolor": "white",
            "gridwidth": 2,
            "linecolor": "white",
            "showbackground": true,
            "ticks": "",
            "zerolinecolor": "white"
           }
          },
          "shapedefaults": {
           "line": {
            "color": "#2a3f5f"
           }
          },
          "ternary": {
           "aaxis": {
            "gridcolor": "white",
            "linecolor": "white",
            "ticks": ""
           },
           "baxis": {
            "gridcolor": "white",
            "linecolor": "white",
            "ticks": ""
           },
           "bgcolor": "#E5ECF6",
           "caxis": {
            "gridcolor": "white",
            "linecolor": "white",
            "ticks": ""
           }
          },
          "title": {
           "x": 0.05
          },
          "xaxis": {
           "automargin": true,
           "gridcolor": "white",
           "linecolor": "white",
           "ticks": "",
           "title": {
            "standoff": 15
           },
           "zerolinecolor": "white",
           "zerolinewidth": 2
          },
          "yaxis": {
           "automargin": true,
           "gridcolor": "white",
           "linecolor": "white",
           "ticks": "",
           "title": {
            "standoff": 15
           },
           "zerolinecolor": "white",
           "zerolinewidth": 2
          }
         }
        },
        "xaxis": {
         "anchor": "y",
         "domain": [
          0,
          1
         ],
         "title": {
          "text": "component1"
         }
        },
        "yaxis": {
         "anchor": "x",
         "domain": [
          0,
          1
         ],
         "title": {
          "text": "component2"
         }
        }
       }
      }
     },
     "metadata": {},
     "output_type": "display_data"
    }
   ],
   "source": [
    "fig = px.scatter(iqms_pca, x=\"component1\", y=\"component2\", color=scores[\"score\"])\n",
    "fig.show()"
   ]
  },
  {
   "attachments": {},
   "cell_type": "markdown",
   "metadata": {},
   "source": [
    "We can see that the first PCA component already separates both the ratings and the conditions quite well.\n",
    "\n",
    "Here it makes sense to have a look at the loadings to get a sense of which variables contribute most to each component."
   ]
  },
  {
   "cell_type": "code",
   "execution_count": null,
   "metadata": {},
   "outputs": [
    {
     "data": {
      "application/vnd.plotly.v1+json": {
       "config": {
        "plotlyServerURL": "https://plot.ly"
       },
       "data": [
        {
         "coloraxis": "coloraxis",
         "hovertemplate": "x: %{x}<br>y: %{y}<br>color: %{z}<extra></extra>",
         "name": "0",
         "type": "heatmap",
         "x": [
          0,
          1
         ],
         "xaxis": "x",
         "y": [
          "cjv",
          "cnr",
          "efc",
          "fber",
          "fwhm_avg",
          "fwhm_x",
          "fwhm_y",
          "fwhm_z",
          "icvs_csf",
          "icvs_gm",
          "icvs_wm",
          "inu_med",
          "inu_range",
          "qi_1",
          "qi_2",
          "rpve_csf",
          "rpve_gm",
          "rpve_wm",
          "snr_csf",
          "snr_gm",
          "snr_total",
          "snr_wm",
          "snrd_csf",
          "snrd_gm",
          "snrd_total",
          "snrd_wm",
          "summary_bg_k",
          "summary_bg_mad",
          "summary_bg_mean",
          "summary_bg_median",
          "summary_bg_n",
          "summary_bg_p05",
          "summary_bg_p95",
          "summary_bg_stdv",
          "summary_csf_k",
          "summary_csf_mad",
          "summary_csf_mean",
          "summary_csf_median",
          "summary_csf_n",
          "summary_csf_p05",
          "summary_csf_p95",
          "summary_csf_stdv",
          "summary_gm_k",
          "summary_gm_mad",
          "summary_gm_mean",
          "summary_gm_median",
          "summary_gm_n",
          "summary_gm_p05",
          "summary_gm_p95",
          "summary_gm_stdv",
          "summary_wm_k",
          "summary_wm_mad",
          "summary_wm_mean",
          "summary_wm_median",
          "summary_wm_n",
          "summary_wm_p05",
          "summary_wm_p95",
          "summary_wm_stdv",
          "tpm_overlap_csf",
          "tpm_overlap_gm",
          "tpm_overlap_wm",
          "wm2max"
         ],
         "yaxis": "y",
         "z": [
          [
           0.18776506938257959,
           -0.025402907621337085
          ],
          [
           -0.18652865454931844,
           0.014184033103022933
          ],
          [
           0.11432438254521844,
           0.1659534909369053
          ],
          [
           -0.027810037679071368,
           -0.012815252396466859
          ],
          [
           -0.1103203552329949,
           0.22789180768622952
          ],
          [
           -0.11679500926153313,
           0.20486135057794125
          ],
          [
           -0.12122619933281933,
           0.2118276396152182
          ],
          [
           -0.07533380203305745,
           0.24811930042353014
          ],
          [
           -0.10762285354050292,
           0.18080543331488624
          ],
          [
           -0.08830078271155144,
           -0.18564335713623184
          ],
          [
           0.16821621960883312,
           -0.010751097414402317
          ],
          [
           0.1850753014368183,
           0.06346569399606744
          ],
          [
           0.1747097743989024,
           0.07547188344099055
          ],
          [
           0.020155091982528767,
           -0.001519360457621349
          ],
          [
           -0.1279019062458249,
           0.07220158034447022
          ],
          [
           0.10816112422411109,
           -0.16805935943485303
          ],
          [
           0.02506351561328555,
           -0.018688716941357375
          ],
          [
           -0.12452296858114587,
           -0.055377051285878526
          ],
          [
           0.029015660530131215,
           -0.14177790761877881
          ],
          [
           -0.1495173557317816,
           -0.1556609914899779
          ],
          [
           -0.18876370402365478,
           -0.02889826652120358
          ],
          [
           -0.18598110045276714,
           -0.00129145543210934
          ],
          [
           -0.15733545097306323,
           -0.08391761654801234
          ],
          [
           -0.16343686008864386,
           -0.04868815453930554
          ],
          [
           -0.1628304393144627,
           -0.0508491516887636
          ],
          [
           -0.16334668285865747,
           -0.04373482943922517
          ],
          [
           -0.04343716242092246,
           0.006599768820489685
          ],
          [
           0.10258058704971519,
           0.13679582298684573
          ],
          [
           0.17518085516426765,
           0.055214211224492056
          ],
          [
           0.10258058704971519,
           0.13679582298684567
          ],
          [
           0.001092039238102669,
           -0.16413879918200566
          ],
          [
           0,
           0
          ],
          [
           0.18316080131294937,
           0.02424699427845656
          ],
          [
           0.1845414189978793,
           0.018553699921448827
          ],
          [
           -0.009745414837202008,
           -0.08253908818730359
          ],
          [
           0.08007280978341447,
           0.0002272987256443007
          ],
          [
           0.10116789535817985,
           -0.2881135446578281
          ],
          [
           0.10697426959888033,
           -0.2760965571669685
          ],
          [
           -0.0447418267386917,
           0.24790999664034888
          ],
          [
           0.027177403068342865,
           -0.1453648549096336
          ],
          [
           0.09078380730256572,
           -0.2874116106432368
          ],
          [
           0.07610589656126429,
           -0.1334022344878496
          ],
          [
           0.0511714930442734,
           -0.016121574981316833
          ],
          [
           0.136316661304493,
           0.14061108323094815
          ],
          [
           -0.07736823550532904,
           -0.17762975557614824
          ],
          [
           -0.08285581357082684,
           -0.17038569142193033
          ],
          [
           -0.15351754037949122,
           -0.03706082433093116
          ],
          [
           -0.1169020077714518,
           -0.19090554322984105
          ],
          [
           0.023080194451763444,
           -0.1293624195099393
          ],
          [
           0.15104221296560863,
           0.1268987808769044
          ],
          [
           -0.003295310399083352,
           0.05887568317281134
          ],
          [
           0.19236931977955146,
           -0.011008998780585061
          ],
          [
           0.1838006877968642,
           -0.022219091669492118
          ],
          [
           0.12088668752358626,
           -0.009152762359484286
          ],
          [
           -0.04148016935968527,
           0.11404290566563814
          ],
          [
           -0.19095823630130365,
           0.0036675064600690966
          ],
          [
           0.19210410694753854,
           -0.013881935418719581
          ],
          [
           0.19262713825552133,
           -0.009863509536676663
          ],
          [
           0.014864340774467286,
           0.08032384278407348
          ],
          [
           -0.1492740803147897,
           -0.07406227715282736
          ],
          [
           -0.13298493027980338,
           0.004992665202143933
          ],
          [
           -0.12720570244984303,
           -0.0045493099851672695
          ]
         ]
        }
       ],
       "layout": {
        "coloraxis": {
         "cmid": 0,
         "colorscale": [
          [
           0,
           "rgb(5,48,97)"
          ],
          [
           0.1,
           "rgb(33,102,172)"
          ],
          [
           0.2,
           "rgb(67,147,195)"
          ],
          [
           0.3,
           "rgb(146,197,222)"
          ],
          [
           0.4,
           "rgb(209,229,240)"
          ],
          [
           0.5,
           "rgb(247,247,247)"
          ],
          [
           0.6,
           "rgb(253,219,199)"
          ],
          [
           0.7,
           "rgb(244,165,130)"
          ],
          [
           0.8,
           "rgb(214,96,77)"
          ],
          [
           0.9,
           "rgb(178,24,43)"
          ],
          [
           1,
           "rgb(103,0,31)"
          ]
         ]
        },
        "height": 1300,
        "margin": {
         "t": 60
        },
        "template": {
         "data": {
          "bar": [
           {
            "error_x": {
             "color": "#2a3f5f"
            },
            "error_y": {
             "color": "#2a3f5f"
            },
            "marker": {
             "line": {
              "color": "#E5ECF6",
              "width": 0.5
             },
             "pattern": {
              "fillmode": "overlay",
              "size": 10,
              "solidity": 0.2
             }
            },
            "type": "bar"
           }
          ],
          "barpolar": [
           {
            "marker": {
             "line": {
              "color": "#E5ECF6",
              "width": 0.5
             },
             "pattern": {
              "fillmode": "overlay",
              "size": 10,
              "solidity": 0.2
             }
            },
            "type": "barpolar"
           }
          ],
          "carpet": [
           {
            "aaxis": {
             "endlinecolor": "#2a3f5f",
             "gridcolor": "white",
             "linecolor": "white",
             "minorgridcolor": "white",
             "startlinecolor": "#2a3f5f"
            },
            "baxis": {
             "endlinecolor": "#2a3f5f",
             "gridcolor": "white",
             "linecolor": "white",
             "minorgridcolor": "white",
             "startlinecolor": "#2a3f5f"
            },
            "type": "carpet"
           }
          ],
          "choropleth": [
           {
            "colorbar": {
             "outlinewidth": 0,
             "ticks": ""
            },
            "type": "choropleth"
           }
          ],
          "contour": [
           {
            "colorbar": {
             "outlinewidth": 0,
             "ticks": ""
            },
            "colorscale": [
             [
              0,
              "#0d0887"
             ],
             [
              0.1111111111111111,
              "#46039f"
             ],
             [
              0.2222222222222222,
              "#7201a8"
             ],
             [
              0.3333333333333333,
              "#9c179e"
             ],
             [
              0.4444444444444444,
              "#bd3786"
             ],
             [
              0.5555555555555556,
              "#d8576b"
             ],
             [
              0.6666666666666666,
              "#ed7953"
             ],
             [
              0.7777777777777778,
              "#fb9f3a"
             ],
             [
              0.8888888888888888,
              "#fdca26"
             ],
             [
              1,
              "#f0f921"
             ]
            ],
            "type": "contour"
           }
          ],
          "contourcarpet": [
           {
            "colorbar": {
             "outlinewidth": 0,
             "ticks": ""
            },
            "type": "contourcarpet"
           }
          ],
          "heatmap": [
           {
            "colorbar": {
             "outlinewidth": 0,
             "ticks": ""
            },
            "colorscale": [
             [
              0,
              "#0d0887"
             ],
             [
              0.1111111111111111,
              "#46039f"
             ],
             [
              0.2222222222222222,
              "#7201a8"
             ],
             [
              0.3333333333333333,
              "#9c179e"
             ],
             [
              0.4444444444444444,
              "#bd3786"
             ],
             [
              0.5555555555555556,
              "#d8576b"
             ],
             [
              0.6666666666666666,
              "#ed7953"
             ],
             [
              0.7777777777777778,
              "#fb9f3a"
             ],
             [
              0.8888888888888888,
              "#fdca26"
             ],
             [
              1,
              "#f0f921"
             ]
            ],
            "type": "heatmap"
           }
          ],
          "heatmapgl": [
           {
            "colorbar": {
             "outlinewidth": 0,
             "ticks": ""
            },
            "colorscale": [
             [
              0,
              "#0d0887"
             ],
             [
              0.1111111111111111,
              "#46039f"
             ],
             [
              0.2222222222222222,
              "#7201a8"
             ],
             [
              0.3333333333333333,
              "#9c179e"
             ],
             [
              0.4444444444444444,
              "#bd3786"
             ],
             [
              0.5555555555555556,
              "#d8576b"
             ],
             [
              0.6666666666666666,
              "#ed7953"
             ],
             [
              0.7777777777777778,
              "#fb9f3a"
             ],
             [
              0.8888888888888888,
              "#fdca26"
             ],
             [
              1,
              "#f0f921"
             ]
            ],
            "type": "heatmapgl"
           }
          ],
          "histogram": [
           {
            "marker": {
             "pattern": {
              "fillmode": "overlay",
              "size": 10,
              "solidity": 0.2
             }
            },
            "type": "histogram"
           }
          ],
          "histogram2d": [
           {
            "colorbar": {
             "outlinewidth": 0,
             "ticks": ""
            },
            "colorscale": [
             [
              0,
              "#0d0887"
             ],
             [
              0.1111111111111111,
              "#46039f"
             ],
             [
              0.2222222222222222,
              "#7201a8"
             ],
             [
              0.3333333333333333,
              "#9c179e"
             ],
             [
              0.4444444444444444,
              "#bd3786"
             ],
             [
              0.5555555555555556,
              "#d8576b"
             ],
             [
              0.6666666666666666,
              "#ed7953"
             ],
             [
              0.7777777777777778,
              "#fb9f3a"
             ],
             [
              0.8888888888888888,
              "#fdca26"
             ],
             [
              1,
              "#f0f921"
             ]
            ],
            "type": "histogram2d"
           }
          ],
          "histogram2dcontour": [
           {
            "colorbar": {
             "outlinewidth": 0,
             "ticks": ""
            },
            "colorscale": [
             [
              0,
              "#0d0887"
             ],
             [
              0.1111111111111111,
              "#46039f"
             ],
             [
              0.2222222222222222,
              "#7201a8"
             ],
             [
              0.3333333333333333,
              "#9c179e"
             ],
             [
              0.4444444444444444,
              "#bd3786"
             ],
             [
              0.5555555555555556,
              "#d8576b"
             ],
             [
              0.6666666666666666,
              "#ed7953"
             ],
             [
              0.7777777777777778,
              "#fb9f3a"
             ],
             [
              0.8888888888888888,
              "#fdca26"
             ],
             [
              1,
              "#f0f921"
             ]
            ],
            "type": "histogram2dcontour"
           }
          ],
          "mesh3d": [
           {
            "colorbar": {
             "outlinewidth": 0,
             "ticks": ""
            },
            "type": "mesh3d"
           }
          ],
          "parcoords": [
           {
            "line": {
             "colorbar": {
              "outlinewidth": 0,
              "ticks": ""
             }
            },
            "type": "parcoords"
           }
          ],
          "pie": [
           {
            "automargin": true,
            "type": "pie"
           }
          ],
          "scatter": [
           {
            "fillpattern": {
             "fillmode": "overlay",
             "size": 10,
             "solidity": 0.2
            },
            "type": "scatter"
           }
          ],
          "scatter3d": [
           {
            "line": {
             "colorbar": {
              "outlinewidth": 0,
              "ticks": ""
             }
            },
            "marker": {
             "colorbar": {
              "outlinewidth": 0,
              "ticks": ""
             }
            },
            "type": "scatter3d"
           }
          ],
          "scattercarpet": [
           {
            "marker": {
             "colorbar": {
              "outlinewidth": 0,
              "ticks": ""
             }
            },
            "type": "scattercarpet"
           }
          ],
          "scattergeo": [
           {
            "marker": {
             "colorbar": {
              "outlinewidth": 0,
              "ticks": ""
             }
            },
            "type": "scattergeo"
           }
          ],
          "scattergl": [
           {
            "marker": {
             "colorbar": {
              "outlinewidth": 0,
              "ticks": ""
             }
            },
            "type": "scattergl"
           }
          ],
          "scattermapbox": [
           {
            "marker": {
             "colorbar": {
              "outlinewidth": 0,
              "ticks": ""
             }
            },
            "type": "scattermapbox"
           }
          ],
          "scatterpolar": [
           {
            "marker": {
             "colorbar": {
              "outlinewidth": 0,
              "ticks": ""
             }
            },
            "type": "scatterpolar"
           }
          ],
          "scatterpolargl": [
           {
            "marker": {
             "colorbar": {
              "outlinewidth": 0,
              "ticks": ""
             }
            },
            "type": "scatterpolargl"
           }
          ],
          "scatterternary": [
           {
            "marker": {
             "colorbar": {
              "outlinewidth": 0,
              "ticks": ""
             }
            },
            "type": "scatterternary"
           }
          ],
          "surface": [
           {
            "colorbar": {
             "outlinewidth": 0,
             "ticks": ""
            },
            "colorscale": [
             [
              0,
              "#0d0887"
             ],
             [
              0.1111111111111111,
              "#46039f"
             ],
             [
              0.2222222222222222,
              "#7201a8"
             ],
             [
              0.3333333333333333,
              "#9c179e"
             ],
             [
              0.4444444444444444,
              "#bd3786"
             ],
             [
              0.5555555555555556,
              "#d8576b"
             ],
             [
              0.6666666666666666,
              "#ed7953"
             ],
             [
              0.7777777777777778,
              "#fb9f3a"
             ],
             [
              0.8888888888888888,
              "#fdca26"
             ],
             [
              1,
              "#f0f921"
             ]
            ],
            "type": "surface"
           }
          ],
          "table": [
           {
            "cells": {
             "fill": {
              "color": "#EBF0F8"
             },
             "line": {
              "color": "white"
             }
            },
            "header": {
             "fill": {
              "color": "#C8D4E3"
             },
             "line": {
              "color": "white"
             }
            },
            "type": "table"
           }
          ]
         },
         "layout": {
          "annotationdefaults": {
           "arrowcolor": "#2a3f5f",
           "arrowhead": 0,
           "arrowwidth": 1
          },
          "autotypenumbers": "strict",
          "coloraxis": {
           "colorbar": {
            "outlinewidth": 0,
            "ticks": ""
           }
          },
          "colorscale": {
           "diverging": [
            [
             0,
             "#8e0152"
            ],
            [
             0.1,
             "#c51b7d"
            ],
            [
             0.2,
             "#de77ae"
            ],
            [
             0.3,
             "#f1b6da"
            ],
            [
             0.4,
             "#fde0ef"
            ],
            [
             0.5,
             "#f7f7f7"
            ],
            [
             0.6,
             "#e6f5d0"
            ],
            [
             0.7,
             "#b8e186"
            ],
            [
             0.8,
             "#7fbc41"
            ],
            [
             0.9,
             "#4d9221"
            ],
            [
             1,
             "#276419"
            ]
           ],
           "sequential": [
            [
             0,
             "#0d0887"
            ],
            [
             0.1111111111111111,
             "#46039f"
            ],
            [
             0.2222222222222222,
             "#7201a8"
            ],
            [
             0.3333333333333333,
             "#9c179e"
            ],
            [
             0.4444444444444444,
             "#bd3786"
            ],
            [
             0.5555555555555556,
             "#d8576b"
            ],
            [
             0.6666666666666666,
             "#ed7953"
            ],
            [
             0.7777777777777778,
             "#fb9f3a"
            ],
            [
             0.8888888888888888,
             "#fdca26"
            ],
            [
             1,
             "#f0f921"
            ]
           ],
           "sequentialminus": [
            [
             0,
             "#0d0887"
            ],
            [
             0.1111111111111111,
             "#46039f"
            ],
            [
             0.2222222222222222,
             "#7201a8"
            ],
            [
             0.3333333333333333,
             "#9c179e"
            ],
            [
             0.4444444444444444,
             "#bd3786"
            ],
            [
             0.5555555555555556,
             "#d8576b"
            ],
            [
             0.6666666666666666,
             "#ed7953"
            ],
            [
             0.7777777777777778,
             "#fb9f3a"
            ],
            [
             0.8888888888888888,
             "#fdca26"
            ],
            [
             1,
             "#f0f921"
            ]
           ]
          },
          "colorway": [
           "#636efa",
           "#EF553B",
           "#00cc96",
           "#ab63fa",
           "#FFA15A",
           "#19d3f3",
           "#FF6692",
           "#B6E880",
           "#FF97FF",
           "#FECB52"
          ],
          "font": {
           "color": "#2a3f5f"
          },
          "geo": {
           "bgcolor": "white",
           "lakecolor": "white",
           "landcolor": "#E5ECF6",
           "showlakes": true,
           "showland": true,
           "subunitcolor": "white"
          },
          "hoverlabel": {
           "align": "left"
          },
          "hovermode": "closest",
          "mapbox": {
           "style": "light"
          },
          "paper_bgcolor": "white",
          "plot_bgcolor": "#E5ECF6",
          "polar": {
           "angularaxis": {
            "gridcolor": "white",
            "linecolor": "white",
            "ticks": ""
           },
           "bgcolor": "#E5ECF6",
           "radialaxis": {
            "gridcolor": "white",
            "linecolor": "white",
            "ticks": ""
           }
          },
          "scene": {
           "xaxis": {
            "backgroundcolor": "#E5ECF6",
            "gridcolor": "white",
            "gridwidth": 2,
            "linecolor": "white",
            "showbackground": true,
            "ticks": "",
            "zerolinecolor": "white"
           },
           "yaxis": {
            "backgroundcolor": "#E5ECF6",
            "gridcolor": "white",
            "gridwidth": 2,
            "linecolor": "white",
            "showbackground": true,
            "ticks": "",
            "zerolinecolor": "white"
           },
           "zaxis": {
            "backgroundcolor": "#E5ECF6",
            "gridcolor": "white",
            "gridwidth": 2,
            "linecolor": "white",
            "showbackground": true,
            "ticks": "",
            "zerolinecolor": "white"
           }
          },
          "shapedefaults": {
           "line": {
            "color": "#2a3f5f"
           }
          },
          "ternary": {
           "aaxis": {
            "gridcolor": "white",
            "linecolor": "white",
            "ticks": ""
           },
           "baxis": {
            "gridcolor": "white",
            "linecolor": "white",
            "ticks": ""
           },
           "bgcolor": "#E5ECF6",
           "caxis": {
            "gridcolor": "white",
            "linecolor": "white",
            "ticks": ""
           }
          },
          "title": {
           "x": 0.05
          },
          "xaxis": {
           "automargin": true,
           "gridcolor": "white",
           "linecolor": "white",
           "ticks": "",
           "title": {
            "standoff": 15
           },
           "zerolinecolor": "white",
           "zerolinewidth": 2
          },
          "yaxis": {
           "automargin": true,
           "gridcolor": "white",
           "linecolor": "white",
           "ticks": "",
           "title": {
            "standoff": 15
           },
           "zerolinecolor": "white",
           "zerolinewidth": 2
          }
         }
        },
        "width": 500,
        "xaxis": {
         "anchor": "y",
         "constrain": "domain",
         "domain": [
          0,
          1
         ],
         "scaleanchor": "y"
        },
        "yaxis": {
         "anchor": "x",
         "autorange": "reversed",
         "constrain": "domain",
         "domain": [
          0,
          1
         ]
        }
       }
      }
     },
     "metadata": {},
     "output_type": "display_data"
    }
   ],
   "source": [
    "loadings = pd.DataFrame(pca.components_[:2].T, index=iqms_scaled.columns)\n",
    "px.imshow(loadings, color_continuous_midpoint=0, color_continuous_scale=px.colors.diverging.RdBu_r,\n",
    "width=500, height=1300)#, center=0)"
   ]
  },
  {
   "attachments": {},
   "cell_type": "markdown",
   "metadata": {},
   "source": [
    "As we can see do the two components capture different information. We already know from the scatterplot that the first component is the one able to separate the conditions/ratings. When looking at the loadings of the first component, we get an idea which of the IQMs influence this component the most. [Here](https://mriqc.readthedocs.io/en/latest/iqms/t1w.html) is an overview of the different measures, that also tells us if higher or lower values indicate a better quality image. E.g., for CJV, lower is better, while for CNR, higher is better. This means that component 1 is related to the \"badness\" of the image, as the polarity of the loadings of CJV and CNR is opposite to the interpretation of their value."
   ]
  },
  {
   "attachments": {},
   "cell_type": "markdown",
   "metadata": {},
   "source": [
    "### t-SNE\n",
    "\n",
    "t-distributed Stochastic Neighbor Embedding (t-SNE) is another dimension reduction technique. Unlike PCA, it also captures non-linear relationships. It is often used for visualization purposes. Let's run t-SNE to get another visualization of the data in latent space:"
   ]
  },
  {
   "cell_type": "code",
   "execution_count": null,
   "metadata": {},
   "outputs": [
    {
     "data": {
      "image/png": "[encoded data removed]",
      "text/plain": [
       "<Figure size 1500x600 with 2 Axes>"
      ]
     },
     "metadata": {},
     "output_type": "display_data"
    }
   ],
   "source": [
    "# run TSNE\n",
    "iqms_embedded = TSNE(n_components=2, learning_rate='auto', init='random' , perplexity=3, random_state=42).fit_transform(iqms_scaled)\n",
    "# plot TSNE\n",
    "iqms_embedded = pd.DataFrame(iqms_embedded, columns=[\"component1\", \"component2\"])\n",
    "df = pd.DataFrame()\n",
    "df[\"score\"] = scores[\"score\"].copy()\n",
    "df[\"condition\"] = scores[\"condition\"].copy()\n",
    "\n",
    "df[\"comp-1\"] = iqms_embedded[\"component1\"].values\n",
    "df[\"comp-2\"] = iqms_embedded[\"component2\"].values\n",
    "\n",
    "\n",
    "fig, axs = plt.subplots(1, 2, figsize=(15, 6))\n",
    "sns.scatterplot(x=\"comp-1\", y=\"comp-2\", hue=\"score\",\n",
    "                palette=sns.color_palette(\"hls\", 3),\n",
    "                data=df, ax=axs[0]).set(title=\"IQMs T-SNE projection, colored by rating score\")\n",
    "sns.scatterplot(x=\"comp-1\", y=\"comp-2\", hue=\"condition\",\n",
    "                palette=sns.color_palette(\"hls\", 3),\n",
    "                data=df, ax=axs[1]).set(title=\"IQMs T-SNE projection, colored by motion condition\")\n",
    "plt.show()"
   ]
  },
  {
   "attachments": {},
   "cell_type": "markdown",
   "metadata": {},
   "source": [
    "While different from the PCA components, the separation does not seem to improve. If anything, it is worse, as now both components are needed to separate images with rating score 1 from those with 2 or 3, instead of just one component when using PCA. The same is true when looking at the movement condition."
   ]
  },
  {
   "attachments": {},
   "cell_type": "markdown",
   "metadata": {},
   "source": [
    "## Classification and Feature Importance\n",
    "\n",
    "While dimension reduction in general and PCA in particular can give us an idea of which IQMs are useful in telling good from bad quality images, a more direct approach is to use the IQMs as features in a classification task.\n",
    "\n",
    "To make things easier, we will binarize our target: condition/score 1 will be 0, conditions/scores 2 and 3 will be 1."
   ]
  },
  {
   "cell_type": "code",
   "execution_count": null,
   "metadata": {},
   "outputs": [],
   "source": [
    "scores[\"score_bin\"] = np.where(scores[\"score\"] == 1, 0, 1)\n",
    "scores[\"condition_bin\"] = np.where(scores[\"condition\"] == 1, 0, 1)"
   ]
  },
  {
   "attachments": {},
   "cell_type": "markdown",
   "metadata": {},
   "source": [
    "### Classification using Support vector machine (SVM)"
   ]
  },
  {
   "attachments": {},
   "cell_type": "markdown",
   "metadata": {},
   "source": [
    "**Helper function**: A function for running multiple experiments using SVMs with the given kernel, to help find the best (kernel, C, gamma) combination. The values of C and gamma are varied following a geometric series.\n",
    "\n",
    "The value of C controls the margin of the hyperplace, and as such, how \"permeable\" the hyperplane is. A low C means a wider margin around the hyperplane.\n",
    "\n",
    "Gamma is important for the RBF kernel only (it doesn't impact the performance of the linear kernel)"
   ]
  },
  {
   "cell_type": "code",
   "execution_count": null,
   "metadata": {},
   "outputs": [],
   "source": [
    "from sklearn import svm\n",
    "from sklearn.metrics import confusion_matrix, accuracy_score, f1_score\n",
    "\n",
    "def run_experiments(vectors, scores, svm_kernel):\n",
    "  Cs = [2**c for c in range(-5, 11)]\n",
    "  gammas = [2**g for g in range(-10, 3)]\n",
    "\n",
    "  acc = []\n",
    "  f1 = []\n",
    "\n",
    "  N = len(vectors)\n",
    "  N_train = int(0.9 * N)\n",
    "\n",
    "  train_x = vectors[0:N_train]\n",
    "  train_y = scores[0:N_train]\n",
    "\n",
    "  test_x = vectors[N_train:]\n",
    "  test_y = scores[N_train:]\n",
    "\n",
    "  for C in Cs:\n",
    "    for gamma in gammas:\n",
    "      classif_n = svm.SVC(kernel=svm_kernel, C=C, gamma=gamma)\n",
    "      classif_n.fit(train_x, train_y)\n",
    "      pred_y = classif_n.predict(test_x)\n",
    "\n",
    "      acc.append(accuracy_score(test_y, pred_y))\n",
    "      f1.append(f1_score(test_y, pred_y, average='macro'))\n",
    "\n",
    "  max_ind = f1.index(max(f1))\n",
    "\n",
    "  return f1[max_ind], acc[max_ind], Cs[max_ind//len(gammas)], gammas[max_ind%len(gammas)] "
   ]
  },
  {
   "attachments": {},
   "cell_type": "markdown",
   "metadata": {},
   "source": [
    "**Running SVM experiment**: finding the best combination of kernel, C and gamma"
   ]
  },
  {
   "cell_type": "code",
   "execution_count": null,
   "metadata": {},
   "outputs": [],
   "source": [
    "for svm_kernel in ['linear', 'rbf', 'poly']:\n",
    "  f1, acc, C, gamma = run_experiments(iqms_scaled, scores_bin, svm_kernel)\n",
    "  print(\"Best performance for kernel {} for C = {} and gamma = {}:\\n\\t macro F1 = {}, acc = {}\\n\".format(svm_kernel, C, gamma, f1, acc))"
   ]
  },
  {
   "attachments": {},
   "cell_type": "markdown",
   "metadata": {},
   "source": [
    "**Helper functions**: For the SVM with a linear kernel, we can get feature coefficients that give us information about how good the feature is for classification. The higher the coefficient, the closer the hyperplane is to be orthogonal."
   ]
  },
  {
   "cell_type": "code",
   "execution_count": null,
   "metadata": {},
   "outputs": [],
   "source": [
    "import matplotlib.pyplot as plt\n",
    "from matplotlib.pyplot import figure\n",
    "\n",
    "## we can only do this analysis for linear kernels \n",
    "def coefficient_analysis(C, gamma, vectors, scores, features):\n",
    "  kernel = 'linear'\n",
    "\n",
    "  N = len(vectors)\n",
    "  N_train = int(0.9 * N)\n",
    "\n",
    "  train_x = vectors[0:N_train]\n",
    "  train_y = scores[0:N_train]\n",
    "\n",
    "  test_x = vectors[N_train:]\n",
    "  test_y = scores[N_train:]\n",
    "\n",
    "  classif = svm.SVC(kernel=kernel, C=C, gamma=gamma)\n",
    "  classif.fit(train_x, train_y)\n",
    "\n",
    "  plot_features(classif.coef_[0], features)\n",
    "\n",
    "\n",
    "def plot_features(coefs, feats):\n",
    "  coefs, feats = map(list, zip(*sorted(zip(coefs, feats), reverse=True)))  \n",
    "\n",
    "  figure(figsize=(14,6))\n",
    "  plt.bar(feats, coefs)\n",
    "  feature_names = np.array(feats)\n",
    "  plt.xticks(np.arange(1, 1 + len(feats)), feature_names, rotation=60, ha='right')\n",
    "  plt.show()"
   ]
  },
  {
   "attachments": {},
   "cell_type": "markdown",
   "metadata": {},
   "source": [
    "**Coefficient analysis for the linear kernel**\n",
    " \n",
    "Find the best performing combination of C and gamma, and plot the coefficient analysis."
   ]
  },
  {
   "cell_type": "code",
   "execution_count": null,
   "metadata": {},
   "outputs": [],
   "source": [
    "svm_kernel = 'linear'\n",
    "f1, acc, C, gamma = run_experiments(iqms_scaled, scores_bin, svm_kernel)\n",
    "print(\"Best performance for kernel {} for C = {} and gamma = {}: macro F1 = {}, acc = {}\".format(svm_kernel, C, gamma, f1, acc))\n",
    "\n",
    "coefficient_analysis(C, gamma, iqms_scaled, scores_bin, iqms_use)"
   ]
  },
  {
   "attachments": {},
   "cell_type": "markdown",
   "metadata": {},
   "source": [
    "### Classification using ElasticNet"
   ]
  },
  {
   "attachments": {},
   "cell_type": "markdown",
   "metadata": {},
   "source": [
    "### Conclusion"
   ]
  },
  {
   "attachments": {},
   "cell_type": "markdown",
   "metadata": {},
   "source": [
    "Both supervised classification methods give converging evidence that the multiple variants of the SNR are the most important features to classify motion strength based on the IQMs."
   ]
  },
  {
   "attachments": {},
   "cell_type": "markdown",
   "metadata": {},
   "source": [
    "## References"
   ]
  },
  {
   "attachments": {},
   "cell_type": "markdown",
   "metadata": {},
   "source": [
    "Nárai, Ádám, Petra Hermann, Tibor Auer, Péter Kemenczky, János Szalma, István Homolya, Eszter Somogyi, Pál Vakli, Béla Weiss, and Zoltán Vidnyánszky. 2022. “Movement-Related Artefacts (MR-ART) Dataset of Matched Motion-Corrupted and Clean Structural MRI Brain Scans.” Scientific Data 9 (1): 630. https://doi.org/10.1038/s41597-022-01694-8."
   ]
  }
 ],
 "metadata": {
  "kernelspec": {
   "display_name": "dl",
   "language": "python",
   "name": "python3"
  },
  "language_info": {
   "codemirror_mode": {
    "name": "ipython",
    "version": 3
   },
   "file_extension": ".py",
   "mimetype": "text/x-python",
   "name": "python",
   "nbconvert_exporter": "python",
   "pygments_lexer": "ipython3",
   "version": "3.9.12"
  },
  "orig_nbformat": 4,
  "vscode": {
   "interpreter": {
    "hash": "19e174a1bbc53373ecb624186ed0d90d0d4b85a60be5a9af90cc5e5f48956550"
   }
  }
 },
 "nbformat": 4,
 "nbformat_minor": 2
}
